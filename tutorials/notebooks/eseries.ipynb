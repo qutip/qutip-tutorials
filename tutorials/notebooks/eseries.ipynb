{
 "cells": [
  {
   "cell_type": "markdown",
   "id": "27b6efe0",
   "metadata": {},
   "source": [
    "# QuTiP example: eseries"
   ]
  },
  {
   "cell_type": "markdown",
   "id": "aa08b8fd",
   "metadata": {},
   "source": [
    "J.R. Johansson and P.D. Nation\n",
    "\n",
    "For more information about QuTiP see [http://qutip.org](http://qutip.org)"
   ]
  },
  {
   "cell_type": "code",
   "execution_count": 1,
   "id": "9e649125",
   "metadata": {
    "execution": {
     "iopub.execute_input": "2022-06-03T06:33:00.660211Z",
     "iopub.status.busy": "2022-06-03T06:33:00.659393Z",
     "iopub.status.idle": "2022-06-03T06:33:00.726517Z",
     "shell.execute_reply": "2022-06-03T06:33:00.725731Z"
    }
   },
   "outputs": [],
   "source": [
    "from numpy import pi"
   ]
  },
  {
   "cell_type": "code",
   "execution_count": 2,
   "id": "06f367a9",
   "metadata": {
    "execution": {
     "iopub.execute_input": "2022-06-03T06:33:00.731981Z",
     "iopub.status.busy": "2022-06-03T06:33:00.730678Z",
     "iopub.status.idle": "2022-06-03T06:33:04.139233Z",
     "shell.execute_reply": "2022-06-03T06:33:04.138133Z"
    }
   },
   "outputs": [],
   "source": [
    "from qutip import *"
   ]
  },
  {
   "cell_type": "markdown",
   "id": "a3d13bd6",
   "metadata": {},
   "source": [
    "## Example eseries object: $\\sigma_x  \\exp(i\\omega t)$"
   ]
  },
  {
   "cell_type": "code",
   "execution_count": 3,
   "id": "7bc494af",
   "metadata": {
    "execution": {
     "iopub.execute_input": "2022-06-03T06:33:04.142888Z",
     "iopub.status.busy": "2022-06-03T06:33:04.142478Z",
     "iopub.status.idle": "2022-06-03T06:33:04.150805Z",
     "shell.execute_reply": "2022-06-03T06:33:04.149162Z"
    }
   },
   "outputs": [
    {
     "name": "stderr",
     "output_type": "stream",
     "text": [
      "/tmp/ipykernel_3803/2819912534.py:2: DeprecationWarning: eseries is to be removed in QuTiP 5.0, consider swapping to QobjEvo for general time dependence.\n",
      "  es1 = eseries(sigmax(), 1j * omega)\n"
     ]
    }
   ],
   "source": [
    "omega = 1.0\n",
    "es1 = eseries(sigmax(), 1j * omega)"
   ]
  },
  {
   "cell_type": "code",
   "execution_count": 4,
   "id": "b2df83a3",
   "metadata": {
    "execution": {
     "iopub.execute_input": "2022-06-03T06:33:04.154144Z",
     "iopub.status.busy": "2022-06-03T06:33:04.153853Z",
     "iopub.status.idle": "2022-06-03T06:33:04.172138Z",
     "shell.execute_reply": "2022-06-03T06:33:04.168648Z"
    }
   },
   "outputs": [
    {
     "data": {
      "text/plain": [
       "ESERIES object: 1 terms\n",
       "Hilbert space dimensions: [[2], [2]]\n",
       "Exponent #0 = 1j\n",
       "Quantum object: dims = [[2], [2]], shape = (2, 2), type = oper, isherm = True\n",
       "Qobj data =\n",
       "[[0. 1.]\n",
       " [1. 0.]]"
      ]
     },
     "execution_count": 4,
     "metadata": {},
     "output_type": "execute_result"
    }
   ],
   "source": [
    "es1"
   ]
  },
  {
   "cell_type": "markdown",
   "id": "0b385485",
   "metadata": {},
   "source": [
    "## Example eseries object: $\\sigma_x \\cos(\\omega t)$"
   ]
  },
  {
   "cell_type": "code",
   "execution_count": 5,
   "id": "36335317",
   "metadata": {
    "execution": {
     "iopub.execute_input": "2022-06-03T06:33:04.176153Z",
     "iopub.status.busy": "2022-06-03T06:33:04.175595Z",
     "iopub.status.idle": "2022-06-03T06:33:04.182770Z",
     "shell.execute_reply": "2022-06-03T06:33:04.181976Z"
    }
   },
   "outputs": [
    {
     "name": "stderr",
     "output_type": "stream",
     "text": [
      "/tmp/ipykernel_3803/1041002988.py:2: DeprecationWarning: eseries is to be removed in QuTiP 5.0, consider swapping to QobjEvo for general time dependence.\n",
      "  es2 = eseries(0.5 * sigmax(), 1j * omega) + eseries(0.5 * sigmax(), -1j * omega)\n"
     ]
    }
   ],
   "source": [
    "omega = 1.0\n",
    "es2 = eseries(0.5 * sigmax(), 1j * omega) + eseries(0.5 * sigmax(), -1j * omega)"
   ]
  },
  {
   "cell_type": "code",
   "execution_count": 6,
   "id": "20fe90da",
   "metadata": {
    "execution": {
     "iopub.execute_input": "2022-06-03T06:33:04.186574Z",
     "iopub.status.busy": "2022-06-03T06:33:04.185974Z",
     "iopub.status.idle": "2022-06-03T06:33:04.195457Z",
     "shell.execute_reply": "2022-06-03T06:33:04.194712Z"
    }
   },
   "outputs": [
    {
     "data": {
      "text/plain": [
       "ESERIES object: 2 terms\n",
       "Hilbert space dimensions: [[2], [2]]\n",
       "Exponent #0 = 1j\n",
       "Quantum object: dims = [[2], [2]], shape = (2, 2), type = oper, isherm = True\n",
       "Qobj data =\n",
       "[[0.  0.5]\n",
       " [0.5 0. ]]\n",
       "Exponent #1 = -1j\n",
       "Quantum object: dims = [[2], [2]], shape = (2, 2), type = oper, isherm = True\n",
       "Qobj data =\n",
       "[[0.  0.5]\n",
       " [0.5 0. ]]"
      ]
     },
     "execution_count": 6,
     "metadata": {},
     "output_type": "execute_result"
    }
   ],
   "source": [
    "es2"
   ]
  },
  {
   "cell_type": "markdown",
   "id": "9f5b3253",
   "metadata": {},
   "source": [
    "## Evaluate eseries object at time $t = 0$"
   ]
  },
  {
   "cell_type": "code",
   "execution_count": 7,
   "id": "caee5b8c",
   "metadata": {
    "execution": {
     "iopub.execute_input": "2022-06-03T06:33:04.199141Z",
     "iopub.status.busy": "2022-06-03T06:33:04.198632Z",
     "iopub.status.idle": "2022-06-03T06:33:04.209452Z",
     "shell.execute_reply": "2022-06-03T06:33:04.207510Z"
    }
   },
   "outputs": [
    {
     "data": {
      "text/latex": [
       "Quantum object: dims = [[2], [2]], shape = (2, 2), type = oper, isherm = True\\begin{equation*}\\left(\\begin{array}{*{11}c}0.0 & 1.0\\\\1.0 & 0.0\\\\\\end{array}\\right)\\end{equation*}"
      ],
      "text/plain": [
       "Quantum object: dims = [[2], [2]], shape = (2, 2), type = oper, isherm = True\n",
       "Qobj data =\n",
       "[[0. 1.]\n",
       " [1. 0.]]"
      ]
     },
     "execution_count": 7,
     "metadata": {},
     "output_type": "execute_result"
    }
   ],
   "source": [
    "esval(es2, 0.0)"
   ]
  },
  {
   "cell_type": "markdown",
   "id": "2126b72d",
   "metadata": {},
   "source": [
    "## Evaluate eseries object at array of times $t = [0, \\pi, 2\\pi]$"
   ]
  },
  {
   "cell_type": "code",
   "execution_count": 8,
   "id": "a9daa397",
   "metadata": {
    "execution": {
     "iopub.execute_input": "2022-06-03T06:33:04.213243Z",
     "iopub.status.busy": "2022-06-03T06:33:04.212900Z",
     "iopub.status.idle": "2022-06-03T06:33:04.223110Z",
     "shell.execute_reply": "2022-06-03T06:33:04.222190Z"
    }
   },
   "outputs": [
    {
     "data": {
      "text/plain": [
       "array([Quantum object: dims = [[2], [2]], shape = (2, 2), type = oper, isherm = True\n",
       "       Qobj data =\n",
       "       [[0. 1.]\n",
       "        [1. 0.]]                                                                    ,\n",
       "       Quantum object: dims = [[2], [2]], shape = (2, 2), type = oper, isherm = True\n",
       "       Qobj data =\n",
       "       [[ 0. -1.]\n",
       "        [-1.  0.]]                                                                  ,\n",
       "       Quantum object: dims = [[2], [2]], shape = (2, 2), type = oper, isherm = True\n",
       "       Qobj data =\n",
       "       [[0. 1.]\n",
       "        [1. 0.]]                                                                    ],\n",
       "      dtype=object)"
      ]
     },
     "execution_count": 8,
     "metadata": {},
     "output_type": "execute_result"
    }
   ],
   "source": [
    "tlist = [0.0, 1.0 * pi, 2.0 * pi]\n",
    "esval(es2, tlist)"
   ]
  },
  {
   "cell_type": "markdown",
   "id": "86ea0e75",
   "metadata": {},
   "source": [
    "## Expectation values of eseries"
   ]
  },
  {
   "cell_type": "code",
   "execution_count": 9,
   "id": "3ae6ade2",
   "metadata": {
    "execution": {
     "iopub.execute_input": "2022-06-03T06:33:04.226989Z",
     "iopub.status.busy": "2022-06-03T06:33:04.226287Z",
     "iopub.status.idle": "2022-06-03T06:33:04.235350Z",
     "shell.execute_reply": "2022-06-03T06:33:04.234569Z"
    }
   },
   "outputs": [
    {
     "data": {
      "text/plain": [
       "ESERIES object: 2 terms\n",
       "Hilbert space dimensions: [[2], [2]]\n",
       "Exponent #0 = 1j\n",
       "Quantum object: dims = [[2], [2]], shape = (2, 2), type = oper, isherm = True\n",
       "Qobj data =\n",
       "[[0.  0.5]\n",
       " [0.5 0. ]]\n",
       "Exponent #1 = -1j\n",
       "Quantum object: dims = [[2], [2]], shape = (2, 2), type = oper, isherm = True\n",
       "Qobj data =\n",
       "[[0.  0.5]\n",
       " [0.5 0. ]]"
      ]
     },
     "execution_count": 9,
     "metadata": {},
     "output_type": "execute_result"
    }
   ],
   "source": [
    "es2"
   ]
  },
  {
   "cell_type": "code",
   "execution_count": 10,
   "id": "613daa6a",
   "metadata": {
    "execution": {
     "iopub.execute_input": "2022-06-03T06:33:04.239158Z",
     "iopub.status.busy": "2022-06-03T06:33:04.238496Z",
     "iopub.status.idle": "2022-06-03T06:33:04.245258Z",
     "shell.execute_reply": "2022-06-03T06:33:04.244478Z"
    }
   },
   "outputs": [
    {
     "data": {
      "text/plain": [
       "ESERIES object: 2 terms\n",
       "Hilbert space dimensions: [[1, 1]]\n",
       "Exponent #0 = 1j\n",
       "1.0\n",
       "Exponent #1 = -1j\n",
       "1.0"
      ]
     },
     "execution_count": 10,
     "metadata": {},
     "output_type": "execute_result"
    }
   ],
   "source": [
    "expect(sigmax(), es2)"
   ]
  },
  {
   "cell_type": "markdown",
   "id": "c2a909fd",
   "metadata": {},
   "source": [
    "## Arithmetics with eseries"
   ]
  },
  {
   "cell_type": "code",
   "execution_count": 11,
   "id": "aaca8fe2",
   "metadata": {
    "execution": {
     "iopub.execute_input": "2022-06-03T06:33:04.248543Z",
     "iopub.status.busy": "2022-06-03T06:33:04.248275Z",
     "iopub.status.idle": "2022-06-03T06:33:04.258606Z",
     "shell.execute_reply": "2022-06-03T06:33:04.257838Z"
    }
   },
   "outputs": [
    {
     "name": "stderr",
     "output_type": "stream",
     "text": [
      "/tmp/ipykernel_3803/2986335576.py:1: DeprecationWarning: eseries is to be removed in QuTiP 5.0, consider swapping to QobjEvo for general time dependence.\n",
      "  es1 = eseries(sigmax(), 1j * omega)\n"
     ]
    },
    {
     "data": {
      "text/plain": [
       "ESERIES object: 1 terms\n",
       "Hilbert space dimensions: [[2], [2]]\n",
       "Exponent #0 = 1j\n",
       "Quantum object: dims = [[2], [2]], shape = (2, 2), type = oper, isherm = True\n",
       "Qobj data =\n",
       "[[0. 1.]\n",
       " [1. 0.]]"
      ]
     },
     "execution_count": 11,
     "metadata": {},
     "output_type": "execute_result"
    }
   ],
   "source": [
    "es1 = eseries(sigmax(), 1j * omega)\n",
    "es1"
   ]
  },
  {
   "cell_type": "code",
   "execution_count": 12,
   "id": "114e15bc",
   "metadata": {
    "execution": {
     "iopub.execute_input": "2022-06-03T06:33:04.262156Z",
     "iopub.status.busy": "2022-06-03T06:33:04.261760Z",
     "iopub.status.idle": "2022-06-03T06:33:04.272214Z",
     "shell.execute_reply": "2022-06-03T06:33:04.271408Z"
    }
   },
   "outputs": [
    {
     "name": "stderr",
     "output_type": "stream",
     "text": [
      "/tmp/ipykernel_3803/2135021132.py:1: DeprecationWarning: eseries is to be removed in QuTiP 5.0, consider swapping to QobjEvo for general time dependence.\n",
      "  es2 = eseries(sigmax(), -1j * omega)\n"
     ]
    },
    {
     "data": {
      "text/plain": [
       "ESERIES object: 1 terms\n",
       "Hilbert space dimensions: [[2], [2]]\n",
       "Exponent #0 = -1j\n",
       "Quantum object: dims = [[2], [2]], shape = (2, 2), type = oper, isherm = True\n",
       "Qobj data =\n",
       "[[0. 1.]\n",
       " [1. 0.]]"
      ]
     },
     "execution_count": 12,
     "metadata": {},
     "output_type": "execute_result"
    }
   ],
   "source": [
    "es2 = eseries(sigmax(), -1j * omega)\n",
    "es2"
   ]
  },
  {
   "cell_type": "code",
   "execution_count": 13,
   "id": "f03d94ce",
   "metadata": {
    "execution": {
     "iopub.execute_input": "2022-06-03T06:33:04.276110Z",
     "iopub.status.busy": "2022-06-03T06:33:04.275406Z",
     "iopub.status.idle": "2022-06-03T06:33:04.284159Z",
     "shell.execute_reply": "2022-06-03T06:33:04.283342Z"
    }
   },
   "outputs": [
    {
     "data": {
      "text/plain": [
       "ESERIES object: 2 terms\n",
       "Hilbert space dimensions: [[2], [2]]\n",
       "Exponent #0 = 1j\n",
       "Quantum object: dims = [[2], [2]], shape = (2, 2), type = oper, isherm = True\n",
       "Qobj data =\n",
       "[[0. 1.]\n",
       " [1. 0.]]\n",
       "Exponent #1 = -1j\n",
       "Quantum object: dims = [[2], [2]], shape = (2, 2), type = oper, isherm = True\n",
       "Qobj data =\n",
       "[[0. 1.]\n",
       " [1. 0.]]"
      ]
     },
     "execution_count": 13,
     "metadata": {},
     "output_type": "execute_result"
    }
   ],
   "source": [
    "es1 + es2"
   ]
  },
  {
   "cell_type": "code",
   "execution_count": 14,
   "id": "6b7248ef",
   "metadata": {
    "execution": {
     "iopub.execute_input": "2022-06-03T06:33:04.287442Z",
     "iopub.status.busy": "2022-06-03T06:33:04.287015Z",
     "iopub.status.idle": "2022-06-03T06:33:04.294157Z",
     "shell.execute_reply": "2022-06-03T06:33:04.293418Z"
    }
   },
   "outputs": [
    {
     "data": {
      "text/plain": [
       "ESERIES object: 2 terms\n",
       "Hilbert space dimensions: [[2], [2]]\n",
       "Exponent #0 = 1j\n",
       "Quantum object: dims = [[2], [2]], shape = (2, 2), type = oper, isherm = True\n",
       "Qobj data =\n",
       "[[0. 1.]\n",
       " [1. 0.]]\n",
       "Exponent #1 = -1j\n",
       "Quantum object: dims = [[2], [2]], shape = (2, 2), type = oper, isherm = True\n",
       "Qobj data =\n",
       "[[ 0. -1.]\n",
       " [-1.  0.]]"
      ]
     },
     "execution_count": 14,
     "metadata": {},
     "output_type": "execute_result"
    }
   ],
   "source": [
    "es1 - es2"
   ]
  },
  {
   "cell_type": "code",
   "execution_count": 15,
   "id": "ae0d212a",
   "metadata": {
    "execution": {
     "iopub.execute_input": "2022-06-03T06:33:04.297537Z",
     "iopub.status.busy": "2022-06-03T06:33:04.296996Z",
     "iopub.status.idle": "2022-06-03T06:33:04.304225Z",
     "shell.execute_reply": "2022-06-03T06:33:04.303188Z"
    }
   },
   "outputs": [
    {
     "data": {
      "text/plain": [
       "ESERIES object: 1 terms\n",
       "Hilbert space dimensions: [[2], [2]]\n",
       "Exponent #0 = 0j\n",
       "Quantum object: dims = [[2], [2]], shape = (2, 2), type = oper, isherm = True\n",
       "Qobj data =\n",
       "[[1. 0.]\n",
       " [0. 1.]]"
      ]
     },
     "execution_count": 15,
     "metadata": {},
     "output_type": "execute_result"
    }
   ],
   "source": [
    "es1 * es2"
   ]
  },
  {
   "cell_type": "code",
   "execution_count": 16,
   "id": "18e6f5c0",
   "metadata": {
    "execution": {
     "iopub.execute_input": "2022-06-03T06:33:04.308700Z",
     "iopub.status.busy": "2022-06-03T06:33:04.308116Z",
     "iopub.status.idle": "2022-06-03T06:33:04.317949Z",
     "shell.execute_reply": "2022-06-03T06:33:04.317087Z"
    }
   },
   "outputs": [
    {
     "data": {
      "text/plain": [
       "ESERIES object: 2 terms\n",
       "Hilbert space dimensions: [[2], [2]]\n",
       "Exponent #0 = 2j\n",
       "Quantum object: dims = [[2], [2]], shape = (2, 2), type = oper, isherm = True\n",
       "Qobj data =\n",
       "[[1. 0.]\n",
       " [0. 1.]]\n",
       "Exponent #1 = -2j\n",
       "Quantum object: dims = [[2], [2]], shape = (2, 2), type = oper, isherm = True\n",
       "Qobj data =\n",
       "[[-1.  0.]\n",
       " [ 0. -1.]]"
      ]
     },
     "execution_count": 16,
     "metadata": {},
     "output_type": "execute_result"
    }
   ],
   "source": [
    "(es1 + es2) * (es1 - es2)"
   ]
  },
  {
   "cell_type": "markdown",
   "id": "5ccc141b",
   "metadata": {},
   "source": [
    "## Expectation values of eseries"
   ]
  },
  {
   "cell_type": "code",
   "execution_count": 17,
   "id": "d3c10d3b",
   "metadata": {
    "execution": {
     "iopub.execute_input": "2022-06-03T06:33:04.322356Z",
     "iopub.status.busy": "2022-06-03T06:33:04.321824Z",
     "iopub.status.idle": "2022-06-03T06:33:04.334018Z",
     "shell.execute_reply": "2022-06-03T06:33:04.333114Z"
    }
   },
   "outputs": [
    {
     "name": "stderr",
     "output_type": "stream",
     "text": [
      "/tmp/ipykernel_3803/1620697814.py:1: DeprecationWarning: eseries is to be removed in QuTiP 5.0, consider swapping to QobjEvo for general time dependence.\n",
      "  es3 = eseries([0.5*sigmaz(), 0.5*sigmaz()], [1j, -1j]) + eseries([-0.5j*sigmax(),\n"
     ]
    },
    {
     "data": {
      "text/plain": [
       "ESERIES object: 2 terms\n",
       "Hilbert space dimensions: [[2], [2]]\n",
       "Exponent #0 = (-0-1j)\n",
       "Quantum object: dims = [[2], [2]], shape = (2, 2), type = oper, isherm = False\n",
       "Qobj data =\n",
       "[[ 0.5+0.j   0. +0.5j]\n",
       " [ 0. +0.5j -0.5+0.j ]]\n",
       "Exponent #1 = 1j\n",
       "Quantum object: dims = [[2], [2]], shape = (2, 2), type = oper, isherm = False\n",
       "Qobj data =\n",
       "[[ 0.5+0.j   0. -0.5j]\n",
       " [ 0. -0.5j -0.5+0.j ]]"
      ]
     },
     "execution_count": 17,
     "metadata": {},
     "output_type": "execute_result"
    }
   ],
   "source": [
    "es3 = eseries([0.5*sigmaz(), 0.5*sigmaz()], [1j, -1j]) + eseries([-0.5j*sigmax(), \n",
    "                                                                  0.5j*sigmax()], [1j, -1j])\n",
    "es3"
   ]
  },
  {
   "cell_type": "code",
   "execution_count": 18,
   "id": "8ae0eb17",
   "metadata": {
    "execution": {
     "iopub.execute_input": "2022-06-03T06:33:04.337977Z",
     "iopub.status.busy": "2022-06-03T06:33:04.337322Z",
     "iopub.status.idle": "2022-06-03T06:33:04.344800Z",
     "shell.execute_reply": "2022-06-03T06:33:04.343915Z"
    }
   },
   "outputs": [
    {
     "data": {
      "text/latex": [
       "Quantum object: dims = [[2], [2]], shape = (2, 2), type = oper, isherm = True\\begin{equation*}\\left(\\begin{array}{*{11}c}1.0 & 0.0\\\\0.0 & -1.0\\\\\\end{array}\\right)\\end{equation*}"
      ],
      "text/plain": [
       "Quantum object: dims = [[2], [2]], shape = (2, 2), type = oper, isherm = True\n",
       "Qobj data =\n",
       "[[ 1.  0.]\n",
       " [ 0. -1.]]"
      ]
     },
     "execution_count": 18,
     "metadata": {},
     "output_type": "execute_result"
    }
   ],
   "source": [
    "es3.value(0.0)"
   ]
  },
  {
   "cell_type": "code",
   "execution_count": 19,
   "id": "8d714dd4",
   "metadata": {
    "execution": {
     "iopub.execute_input": "2022-06-03T06:33:04.349335Z",
     "iopub.status.busy": "2022-06-03T06:33:04.348792Z",
     "iopub.status.idle": "2022-06-03T06:33:04.356407Z",
     "shell.execute_reply": "2022-06-03T06:33:04.355546Z"
    }
   },
   "outputs": [
    {
     "data": {
      "text/latex": [
       "Quantum object: dims = [[2], [2]], shape = (2, 2), type = oper, isherm = True\\begin{equation*}\\left(\\begin{array}{*{11}c}0.0 & 1.0\\\\1.0 & 0.0\\\\\\end{array}\\right)\\end{equation*}"
      ],
      "text/plain": [
       "Quantum object: dims = [[2], [2]], shape = (2, 2), type = oper, isherm = True\n",
       "Qobj data =\n",
       "[[0. 1.]\n",
       " [1. 0.]]"
      ]
     },
     "execution_count": 19,
     "metadata": {},
     "output_type": "execute_result"
    }
   ],
   "source": [
    "es3.value(pi/2)"
   ]
  },
  {
   "cell_type": "code",
   "execution_count": 20,
   "id": "ef30cb32",
   "metadata": {
    "execution": {
     "iopub.execute_input": "2022-06-03T06:33:04.359944Z",
     "iopub.status.busy": "2022-06-03T06:33:04.359427Z",
     "iopub.status.idle": "2022-06-03T06:33:04.365556Z",
     "shell.execute_reply": "2022-06-03T06:33:04.364702Z"
    }
   },
   "outputs": [
    {
     "data": {
      "text/plain": [
       "ESERIES object: 2 terms\n",
       "Hilbert space dimensions: [[1, 1]]\n",
       "Exponent #0 = (-0-1j)\n",
       "(-0.5+0j)\n",
       "Exponent #1 = 1j\n",
       "(-0.5+0j)"
      ]
     },
     "execution_count": 20,
     "metadata": {},
     "output_type": "execute_result"
    }
   ],
   "source": [
    "rho = fock_dm(2, 1)\n",
    "es3_expect = expect(rho, es3)\n",
    "\n",
    "es3_expect"
   ]
  },
  {
   "cell_type": "code",
   "execution_count": 21,
   "id": "7bb0acd3",
   "metadata": {
    "execution": {
     "iopub.execute_input": "2022-06-03T06:33:04.371420Z",
     "iopub.status.busy": "2022-06-03T06:33:04.371146Z",
     "iopub.status.idle": "2022-06-03T06:33:04.425673Z",
     "shell.execute_reply": "2022-06-03T06:33:04.424709Z"
    }
   },
   "outputs": [
    {
     "data": {
      "text/plain": [
       "array([-1.000000e+00, -6.123234e-17])"
      ]
     },
     "execution_count": 21,
     "metadata": {},
     "output_type": "execute_result"
    }
   ],
   "source": [
    "es3_expect.value([0.0, pi/2])"
   ]
  },
  {
   "cell_type": "markdown",
   "id": "db3cc821",
   "metadata": {},
   "source": [
    "## Versions"
   ]
  },
  {
   "cell_type": "code",
   "execution_count": 22,
   "id": "09658ec0",
   "metadata": {
    "execution": {
     "iopub.execute_input": "2022-06-03T06:33:04.428717Z",
     "iopub.status.busy": "2022-06-03T06:33:04.428451Z",
     "iopub.status.idle": "2022-06-03T06:33:04.438722Z",
     "shell.execute_reply": "2022-06-03T06:33:04.437804Z"
    }
   },
   "outputs": [
    {
     "data": {
      "text/html": [
       "<table><tr><th>Software</th><th>Version</th></tr><tr><td>QuTiP</td><td>5.0.0.dev0+098990c</td></tr><tr><td>Numpy</td><td>1.22.4</td></tr><tr><td>SciPy</td><td>1.8.1</td></tr><tr><td>matplotlib</td><td>3.5.2</td></tr><tr><td>Cython</td><td>0.29.30</td></tr><tr><td>Number of CPUs</td><td>2</td></tr><tr><td>BLAS Info</td><td>Generic</td></tr><tr><td>IPython</td><td>8.4.0</td></tr><tr><td>Python</td><td>3.10.4 | packaged by conda-forge | (main, Mar 24 2022, 17:38:57) [GCC 10.3.0]</td></tr><tr><td>OS</td><td>posix [linux]</td></tr><tr><td colspan='2'>Fri Jun 03 06:33:04 2022 UTC</td></tr></table>"
      ],
      "text/plain": [
       "<IPython.core.display.HTML object>"
      ]
     },
     "execution_count": 22,
     "metadata": {},
     "output_type": "execute_result"
    }
   ],
   "source": [
    "from qutip.ipynbtools import version_table\n",
    "\n",
    "version_table()"
   ]
  }
 ],
 "metadata": {
  "jupytext": {
   "cell_metadata_filter": "-all",
   "notebook_metadata_filter": "-jupytext.cell_metadata_filter,-jupytext.notebook_metadata_filter"
  },
  "kernelspec": {
   "display_name": "Python 3 (ipykernel)",
   "language": "python",
   "name": "python3"
  },
  "language_info": {
   "codemirror_mode": {
    "name": "ipython",
    "version": 3
   },
   "file_extension": ".py",
   "mimetype": "text/x-python",
   "name": "python",
   "nbconvert_exporter": "python",
   "pygments_lexer": "ipython3",
   "version": "3.10.4"
  }
 },
 "nbformat": 4,
 "nbformat_minor": 5
}
