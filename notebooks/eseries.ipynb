{
 "cells": [
  {
   "cell_type": "markdown",
   "id": "1cc84bfc",
   "metadata": {},
   "source": [
    "# QuTiP example: eseries"
   ]
  },
  {
   "cell_type": "markdown",
   "id": "da59b8ae",
   "metadata": {},
   "source": [
    "J.R. Johansson and P.D. Nation\n",
    "\n",
    "For more information about QuTiP see [http://qutip.org](http://qutip.org)"
   ]
  },
  {
   "cell_type": "code",
   "execution_count": 1,
   "id": "a6f6dbeb",
   "metadata": {
    "execution": {
     "iopub.execute_input": "2022-06-03T06:42:57.539351Z",
     "iopub.status.busy": "2022-06-03T06:42:57.538944Z",
     "iopub.status.idle": "2022-06-03T06:42:57.588706Z",
     "shell.execute_reply": "2022-06-03T06:42:57.588186Z"
    }
   },
   "outputs": [],
   "source": [
    "from numpy import pi"
   ]
  },
  {
   "cell_type": "code",
   "execution_count": 2,
   "id": "a38da92c",
   "metadata": {
    "execution": {
     "iopub.execute_input": "2022-06-03T06:42:57.592437Z",
     "iopub.status.busy": "2022-06-03T06:42:57.591445Z",
     "iopub.status.idle": "2022-06-03T06:42:58.913330Z",
     "shell.execute_reply": "2022-06-03T06:42:58.912736Z"
    }
   },
   "outputs": [],
   "source": [
    "from qutip import *"
   ]
  },
  {
   "cell_type": "markdown",
   "id": "3f79f240",
   "metadata": {},
   "source": [
    "## Example eseries object: $\\sigma_x  \\exp(i\\omega t)$"
   ]
  },
  {
   "cell_type": "code",
   "execution_count": 3,
   "id": "1e9e510a",
   "metadata": {
    "execution": {
     "iopub.execute_input": "2022-06-03T06:42:58.916135Z",
     "iopub.status.busy": "2022-06-03T06:42:58.915680Z",
     "iopub.status.idle": "2022-06-03T06:42:58.921302Z",
     "shell.execute_reply": "2022-06-03T06:42:58.920396Z"
    }
   },
   "outputs": [
    {
     "name": "stderr",
     "output_type": "stream",
     "text": [
      "/tmp/ipykernel_3848/2819912534.py:2: DeprecationWarning: eseries is to be removed in QuTiP 5.0, consider swapping to QobjEvo for general time dependence.\n",
      "  es1 = eseries(sigmax(), 1j * omega)\n"
     ]
    }
   ],
   "source": [
    "omega = 1.0\n",
    "es1 = eseries(sigmax(), 1j * omega)"
   ]
  },
  {
   "cell_type": "code",
   "execution_count": 4,
   "id": "af704445",
   "metadata": {
    "execution": {
     "iopub.execute_input": "2022-06-03T06:42:58.923689Z",
     "iopub.status.busy": "2022-06-03T06:42:58.923493Z",
     "iopub.status.idle": "2022-06-03T06:42:58.931837Z",
     "shell.execute_reply": "2022-06-03T06:42:58.931265Z"
    }
   },
   "outputs": [
    {
     "data": {
      "text/plain": [
       "ESERIES object: 1 terms\n",
       "Hilbert space dimensions: [[2], [2]]\n",
       "Exponent #0 = 1j\n",
       "Quantum object: dims = [[2], [2]], shape = (2, 2), type = oper, isherm = True\n",
       "Qobj data =\n",
       "[[0. 1.]\n",
       " [1. 0.]]"
      ]
     },
     "execution_count": 4,
     "metadata": {},
     "output_type": "execute_result"
    }
   ],
   "source": [
    "es1"
   ]
  },
  {
   "cell_type": "markdown",
   "id": "cfa7b5e5",
   "metadata": {},
   "source": [
    "## Example eseries object: $\\sigma_x \\cos(\\omega t)$"
   ]
  },
  {
   "cell_type": "code",
   "execution_count": 5,
   "id": "7e3d8f7d",
   "metadata": {
    "execution": {
     "iopub.execute_input": "2022-06-03T06:42:58.934832Z",
     "iopub.status.busy": "2022-06-03T06:42:58.934627Z",
     "iopub.status.idle": "2022-06-03T06:42:58.940349Z",
     "shell.execute_reply": "2022-06-03T06:42:58.939456Z"
    }
   },
   "outputs": [
    {
     "name": "stderr",
     "output_type": "stream",
     "text": [
      "/tmp/ipykernel_3848/1041002988.py:2: DeprecationWarning: eseries is to be removed in QuTiP 5.0, consider swapping to QobjEvo for general time dependence.\n",
      "  es2 = eseries(0.5 * sigmax(), 1j * omega) + eseries(0.5 * sigmax(), -1j * omega)\n"
     ]
    }
   ],
   "source": [
    "omega = 1.0\n",
    "es2 = eseries(0.5 * sigmax(), 1j * omega) + eseries(0.5 * sigmax(), -1j * omega)"
   ]
  },
  {
   "cell_type": "code",
   "execution_count": 6,
   "id": "cbc66412",
   "metadata": {
    "execution": {
     "iopub.execute_input": "2022-06-03T06:42:58.942656Z",
     "iopub.status.busy": "2022-06-03T06:42:58.942355Z",
     "iopub.status.idle": "2022-06-03T06:42:58.949392Z",
     "shell.execute_reply": "2022-06-03T06:42:58.948235Z"
    }
   },
   "outputs": [
    {
     "data": {
      "text/plain": [
       "ESERIES object: 2 terms\n",
       "Hilbert space dimensions: [[2], [2]]\n",
       "Exponent #0 = 1j\n",
       "Quantum object: dims = [[2], [2]], shape = (2, 2), type = oper, isherm = True\n",
       "Qobj data =\n",
       "[[0.  0.5]\n",
       " [0.5 0. ]]\n",
       "Exponent #1 = -1j\n",
       "Quantum object: dims = [[2], [2]], shape = (2, 2), type = oper, isherm = True\n",
       "Qobj data =\n",
       "[[0.  0.5]\n",
       " [0.5 0. ]]"
      ]
     },
     "execution_count": 6,
     "metadata": {},
     "output_type": "execute_result"
    }
   ],
   "source": [
    "es2"
   ]
  },
  {
   "cell_type": "markdown",
   "id": "d8f1c944",
   "metadata": {},
   "source": [
    "## Evaluate eseries object at time $t = 0$"
   ]
  },
  {
   "cell_type": "code",
   "execution_count": 7,
   "id": "b506b41f",
   "metadata": {
    "execution": {
     "iopub.execute_input": "2022-06-03T06:42:58.951976Z",
     "iopub.status.busy": "2022-06-03T06:42:58.951528Z",
     "iopub.status.idle": "2022-06-03T06:42:58.958678Z",
     "shell.execute_reply": "2022-06-03T06:42:58.957489Z"
    }
   },
   "outputs": [
    {
     "data": {
      "text/latex": [
       "Quantum object: dims = [[2], [2]], shape = (2, 2), type = oper, isherm = True\\begin{equation*}\\left(\\begin{array}{*{11}c}0.0 & 1.0\\\\1.0 & 0.0\\\\\\end{array}\\right)\\end{equation*}"
      ],
      "text/plain": [
       "Quantum object: dims = [[2], [2]], shape = (2, 2), type = oper, isherm = True\n",
       "Qobj data =\n",
       "[[0. 1.]\n",
       " [1. 0.]]"
      ]
     },
     "execution_count": 7,
     "metadata": {},
     "output_type": "execute_result"
    }
   ],
   "source": [
    "esval(es2, 0.0)"
   ]
  },
  {
   "cell_type": "markdown",
   "id": "84479985",
   "metadata": {},
   "source": [
    "## Evaluate eseries object at array of times $t = [0, \\pi, 2\\pi]$"
   ]
  },
  {
   "cell_type": "code",
   "execution_count": 8,
   "id": "028d58b0",
   "metadata": {
    "execution": {
     "iopub.execute_input": "2022-06-03T06:42:58.961248Z",
     "iopub.status.busy": "2022-06-03T06:42:58.960819Z",
     "iopub.status.idle": "2022-06-03T06:42:58.969027Z",
     "shell.execute_reply": "2022-06-03T06:42:58.968073Z"
    }
   },
   "outputs": [
    {
     "data": {
      "text/plain": [
       "array([Quantum object: dims = [[2], [2]], shape = (2, 2), type = oper, isherm = True\n",
       "       Qobj data =\n",
       "       [[0. 1.]\n",
       "        [1. 0.]]                                                                    ,\n",
       "       Quantum object: dims = [[2], [2]], shape = (2, 2), type = oper, isherm = True\n",
       "       Qobj data =\n",
       "       [[ 0. -1.]\n",
       "        [-1.  0.]]                                                                  ,\n",
       "       Quantum object: dims = [[2], [2]], shape = (2, 2), type = oper, isherm = True\n",
       "       Qobj data =\n",
       "       [[0. 1.]\n",
       "        [1. 0.]]                                                                    ],\n",
       "      dtype=object)"
      ]
     },
     "execution_count": 8,
     "metadata": {},
     "output_type": "execute_result"
    }
   ],
   "source": [
    "tlist = [0.0, 1.0 * pi, 2.0 * pi]\n",
    "esval(es2, tlist)"
   ]
  },
  {
   "cell_type": "markdown",
   "id": "ae6fbd5e",
   "metadata": {},
   "source": [
    "## Expectation values of eseries"
   ]
  },
  {
   "cell_type": "code",
   "execution_count": 9,
   "id": "cbc613ca",
   "metadata": {
    "execution": {
     "iopub.execute_input": "2022-06-03T06:42:58.971490Z",
     "iopub.status.busy": "2022-06-03T06:42:58.971199Z",
     "iopub.status.idle": "2022-06-03T06:42:58.977365Z",
     "shell.execute_reply": "2022-06-03T06:42:58.976866Z"
    }
   },
   "outputs": [
    {
     "data": {
      "text/plain": [
       "ESERIES object: 2 terms\n",
       "Hilbert space dimensions: [[2], [2]]\n",
       "Exponent #0 = 1j\n",
       "Quantum object: dims = [[2], [2]], shape = (2, 2), type = oper, isherm = True\n",
       "Qobj data =\n",
       "[[0.  0.5]\n",
       " [0.5 0. ]]\n",
       "Exponent #1 = -1j\n",
       "Quantum object: dims = [[2], [2]], shape = (2, 2), type = oper, isherm = True\n",
       "Qobj data =\n",
       "[[0.  0.5]\n",
       " [0.5 0. ]]"
      ]
     },
     "execution_count": 9,
     "metadata": {},
     "output_type": "execute_result"
    }
   ],
   "source": [
    "es2"
   ]
  },
  {
   "cell_type": "code",
   "execution_count": 10,
   "id": "730039c8",
   "metadata": {
    "execution": {
     "iopub.execute_input": "2022-06-03T06:42:58.979963Z",
     "iopub.status.busy": "2022-06-03T06:42:58.979544Z",
     "iopub.status.idle": "2022-06-03T06:42:58.985290Z",
     "shell.execute_reply": "2022-06-03T06:42:58.984769Z"
    }
   },
   "outputs": [
    {
     "data": {
      "text/plain": [
       "ESERIES object: 2 terms\n",
       "Hilbert space dimensions: [[1, 1]]\n",
       "Exponent #0 = 1j\n",
       "1.0\n",
       "Exponent #1 = -1j\n",
       "1.0"
      ]
     },
     "execution_count": 10,
     "metadata": {},
     "output_type": "execute_result"
    }
   ],
   "source": [
    "expect(sigmax(), es2)"
   ]
  },
  {
   "cell_type": "markdown",
   "id": "bf88dc3d",
   "metadata": {},
   "source": [
    "## Arithmetics with eseries"
   ]
  },
  {
   "cell_type": "code",
   "execution_count": 11,
   "id": "edd0be37",
   "metadata": {
    "execution": {
     "iopub.execute_input": "2022-06-03T06:42:58.987882Z",
     "iopub.status.busy": "2022-06-03T06:42:58.987469Z",
     "iopub.status.idle": "2022-06-03T06:42:58.995231Z",
     "shell.execute_reply": "2022-06-03T06:42:58.994210Z"
    }
   },
   "outputs": [
    {
     "name": "stderr",
     "output_type": "stream",
     "text": [
      "/tmp/ipykernel_3848/2986335576.py:1: DeprecationWarning: eseries is to be removed in QuTiP 5.0, consider swapping to QobjEvo for general time dependence.\n",
      "  es1 = eseries(sigmax(), 1j * omega)\n"
     ]
    },
    {
     "data": {
      "text/plain": [
       "ESERIES object: 1 terms\n",
       "Hilbert space dimensions: [[2], [2]]\n",
       "Exponent #0 = 1j\n",
       "Quantum object: dims = [[2], [2]], shape = (2, 2), type = oper, isherm = True\n",
       "Qobj data =\n",
       "[[0. 1.]\n",
       " [1. 0.]]"
      ]
     },
     "execution_count": 11,
     "metadata": {},
     "output_type": "execute_result"
    }
   ],
   "source": [
    "es1 = eseries(sigmax(), 1j * omega)\n",
    "es1"
   ]
  },
  {
   "cell_type": "code",
   "execution_count": 12,
   "id": "22a36006",
   "metadata": {
    "execution": {
     "iopub.execute_input": "2022-06-03T06:42:58.997840Z",
     "iopub.status.busy": "2022-06-03T06:42:58.997430Z",
     "iopub.status.idle": "2022-06-03T06:42:59.005826Z",
     "shell.execute_reply": "2022-06-03T06:42:59.004480Z"
    }
   },
   "outputs": [
    {
     "name": "stderr",
     "output_type": "stream",
     "text": [
      "/tmp/ipykernel_3848/2135021132.py:1: DeprecationWarning: eseries is to be removed in QuTiP 5.0, consider swapping to QobjEvo for general time dependence.\n",
      "  es2 = eseries(sigmax(), -1j * omega)\n"
     ]
    },
    {
     "data": {
      "text/plain": [
       "ESERIES object: 1 terms\n",
       "Hilbert space dimensions: [[2], [2]]\n",
       "Exponent #0 = -1j\n",
       "Quantum object: dims = [[2], [2]], shape = (2, 2), type = oper, isherm = True\n",
       "Qobj data =\n",
       "[[0. 1.]\n",
       " [1. 0.]]"
      ]
     },
     "execution_count": 12,
     "metadata": {},
     "output_type": "execute_result"
    }
   ],
   "source": [
    "es2 = eseries(sigmax(), -1j * omega)\n",
    "es2"
   ]
  },
  {
   "cell_type": "code",
   "execution_count": 13,
   "id": "7ec3d003",
   "metadata": {
    "execution": {
     "iopub.execute_input": "2022-06-03T06:42:59.008462Z",
     "iopub.status.busy": "2022-06-03T06:42:59.008055Z",
     "iopub.status.idle": "2022-06-03T06:42:59.014258Z",
     "shell.execute_reply": "2022-06-03T06:42:59.013746Z"
    }
   },
   "outputs": [
    {
     "data": {
      "text/plain": [
       "ESERIES object: 2 terms\n",
       "Hilbert space dimensions: [[2], [2]]\n",
       "Exponent #0 = 1j\n",
       "Quantum object: dims = [[2], [2]], shape = (2, 2), type = oper, isherm = True\n",
       "Qobj data =\n",
       "[[0. 1.]\n",
       " [1. 0.]]\n",
       "Exponent #1 = -1j\n",
       "Quantum object: dims = [[2], [2]], shape = (2, 2), type = oper, isherm = True\n",
       "Qobj data =\n",
       "[[0. 1.]\n",
       " [1. 0.]]"
      ]
     },
     "execution_count": 13,
     "metadata": {},
     "output_type": "execute_result"
    }
   ],
   "source": [
    "es1 + es2"
   ]
  },
  {
   "cell_type": "code",
   "execution_count": 14,
   "id": "7badd5c4",
   "metadata": {
    "execution": {
     "iopub.execute_input": "2022-06-03T06:42:59.017630Z",
     "iopub.status.busy": "2022-06-03T06:42:59.016573Z",
     "iopub.status.idle": "2022-06-03T06:42:59.023695Z",
     "shell.execute_reply": "2022-06-03T06:42:59.022839Z"
    }
   },
   "outputs": [
    {
     "data": {
      "text/plain": [
       "ESERIES object: 2 terms\n",
       "Hilbert space dimensions: [[2], [2]]\n",
       "Exponent #0 = 1j\n",
       "Quantum object: dims = [[2], [2]], shape = (2, 2), type = oper, isherm = True\n",
       "Qobj data =\n",
       "[[0. 1.]\n",
       " [1. 0.]]\n",
       "Exponent #1 = -1j\n",
       "Quantum object: dims = [[2], [2]], shape = (2, 2), type = oper, isherm = True\n",
       "Qobj data =\n",
       "[[ 0. -1.]\n",
       " [-1.  0.]]"
      ]
     },
     "execution_count": 14,
     "metadata": {},
     "output_type": "execute_result"
    }
   ],
   "source": [
    "es1 - es2"
   ]
  },
  {
   "cell_type": "code",
   "execution_count": 15,
   "id": "e3abe7bd",
   "metadata": {
    "execution": {
     "iopub.execute_input": "2022-06-03T06:42:59.026323Z",
     "iopub.status.busy": "2022-06-03T06:42:59.025927Z",
     "iopub.status.idle": "2022-06-03T06:42:59.032249Z",
     "shell.execute_reply": "2022-06-03T06:42:59.031736Z"
    }
   },
   "outputs": [
    {
     "data": {
      "text/plain": [
       "ESERIES object: 1 terms\n",
       "Hilbert space dimensions: [[2], [2]]\n",
       "Exponent #0 = 0j\n",
       "Quantum object: dims = [[2], [2]], shape = (2, 2), type = oper, isherm = True\n",
       "Qobj data =\n",
       "[[1. 0.]\n",
       " [0. 1.]]"
      ]
     },
     "execution_count": 15,
     "metadata": {},
     "output_type": "execute_result"
    }
   ],
   "source": [
    "es1 * es2"
   ]
  },
  {
   "cell_type": "code",
   "execution_count": 16,
   "id": "b9cf563d",
   "metadata": {
    "execution": {
     "iopub.execute_input": "2022-06-03T06:42:59.034386Z",
     "iopub.status.busy": "2022-06-03T06:42:59.034077Z",
     "iopub.status.idle": "2022-06-03T06:42:59.042461Z",
     "shell.execute_reply": "2022-06-03T06:42:59.041553Z"
    }
   },
   "outputs": [
    {
     "data": {
      "text/plain": [
       "ESERIES object: 2 terms\n",
       "Hilbert space dimensions: [[2], [2]]\n",
       "Exponent #0 = 2j\n",
       "Quantum object: dims = [[2], [2]], shape = (2, 2), type = oper, isherm = True\n",
       "Qobj data =\n",
       "[[1. 0.]\n",
       " [0. 1.]]\n",
       "Exponent #1 = -2j\n",
       "Quantum object: dims = [[2], [2]], shape = (2, 2), type = oper, isherm = True\n",
       "Qobj data =\n",
       "[[-1.  0.]\n",
       " [ 0. -1.]]"
      ]
     },
     "execution_count": 16,
     "metadata": {},
     "output_type": "execute_result"
    }
   ],
   "source": [
    "(es1 + es2) * (es1 - es2)"
   ]
  },
  {
   "cell_type": "markdown",
   "id": "3734eff8",
   "metadata": {},
   "source": [
    "## Expectation values of eseries"
   ]
  },
  {
   "cell_type": "code",
   "execution_count": 17,
   "id": "9a723db2",
   "metadata": {
    "execution": {
     "iopub.execute_input": "2022-06-03T06:42:59.044995Z",
     "iopub.status.busy": "2022-06-03T06:42:59.044700Z",
     "iopub.status.idle": "2022-06-03T06:42:59.054944Z",
     "shell.execute_reply": "2022-06-03T06:42:59.054428Z"
    }
   },
   "outputs": [
    {
     "name": "stderr",
     "output_type": "stream",
     "text": [
      "/tmp/ipykernel_3848/1620697814.py:1: DeprecationWarning: eseries is to be removed in QuTiP 5.0, consider swapping to QobjEvo for general time dependence.\n",
      "  es3 = eseries([0.5*sigmaz(), 0.5*sigmaz()], [1j, -1j]) + eseries([-0.5j*sigmax(),\n"
     ]
    },
    {
     "data": {
      "text/plain": [
       "ESERIES object: 2 terms\n",
       "Hilbert space dimensions: [[2], [2]]\n",
       "Exponent #0 = (-0-1j)\n",
       "Quantum object: dims = [[2], [2]], shape = (2, 2), type = oper, isherm = False\n",
       "Qobj data =\n",
       "[[ 0.5+0.j   0. +0.5j]\n",
       " [ 0. +0.5j -0.5+0.j ]]\n",
       "Exponent #1 = 1j\n",
       "Quantum object: dims = [[2], [2]], shape = (2, 2), type = oper, isherm = False\n",
       "Qobj data =\n",
       "[[ 0.5+0.j   0. -0.5j]\n",
       " [ 0. -0.5j -0.5+0.j ]]"
      ]
     },
     "execution_count": 17,
     "metadata": {},
     "output_type": "execute_result"
    }
   ],
   "source": [
    "es3 = eseries([0.5*sigmaz(), 0.5*sigmaz()], [1j, -1j]) + eseries([-0.5j*sigmax(), \n",
    "                                                                  0.5j*sigmax()], [1j, -1j])\n",
    "es3"
   ]
  },
  {
   "cell_type": "code",
   "execution_count": 18,
   "id": "28754eb3",
   "metadata": {
    "execution": {
     "iopub.execute_input": "2022-06-03T06:42:59.057611Z",
     "iopub.status.busy": "2022-06-03T06:42:59.057177Z",
     "iopub.status.idle": "2022-06-03T06:42:59.064305Z",
     "shell.execute_reply": "2022-06-03T06:42:59.063446Z"
    }
   },
   "outputs": [
    {
     "data": {
      "text/latex": [
       "Quantum object: dims = [[2], [2]], shape = (2, 2), type = oper, isherm = True\\begin{equation*}\\left(\\begin{array}{*{11}c}1.0 & 0.0\\\\0.0 & -1.0\\\\\\end{array}\\right)\\end{equation*}"
      ],
      "text/plain": [
       "Quantum object: dims = [[2], [2]], shape = (2, 2), type = oper, isherm = True\n",
       "Qobj data =\n",
       "[[ 1.  0.]\n",
       " [ 0. -1.]]"
      ]
     },
     "execution_count": 18,
     "metadata": {},
     "output_type": "execute_result"
    }
   ],
   "source": [
    "es3.value(0.0)"
   ]
  },
  {
   "cell_type": "code",
   "execution_count": 19,
   "id": "5fcc292a",
   "metadata": {
    "execution": {
     "iopub.execute_input": "2022-06-03T06:42:59.067043Z",
     "iopub.status.busy": "2022-06-03T06:42:59.066629Z",
     "iopub.status.idle": "2022-06-03T06:42:59.073095Z",
     "shell.execute_reply": "2022-06-03T06:42:59.072595Z"
    }
   },
   "outputs": [
    {
     "data": {
      "text/latex": [
       "Quantum object: dims = [[2], [2]], shape = (2, 2), type = oper, isherm = True\\begin{equation*}\\left(\\begin{array}{*{11}c}0.0 & 1.0\\\\1.0 & 0.0\\\\\\end{array}\\right)\\end{equation*}"
      ],
      "text/plain": [
       "Quantum object: dims = [[2], [2]], shape = (2, 2), type = oper, isherm = True\n",
       "Qobj data =\n",
       "[[0. 1.]\n",
       " [1. 0.]]"
      ]
     },
     "execution_count": 19,
     "metadata": {},
     "output_type": "execute_result"
    }
   ],
   "source": [
    "es3.value(pi/2)"
   ]
  },
  {
   "cell_type": "code",
   "execution_count": 20,
   "id": "6251ae19",
   "metadata": {
    "execution": {
     "iopub.execute_input": "2022-06-03T06:42:59.075732Z",
     "iopub.status.busy": "2022-06-03T06:42:59.075330Z",
     "iopub.status.idle": "2022-06-03T06:42:59.081414Z",
     "shell.execute_reply": "2022-06-03T06:42:59.080892Z"
    }
   },
   "outputs": [
    {
     "data": {
      "text/plain": [
       "ESERIES object: 2 terms\n",
       "Hilbert space dimensions: [[1, 1]]\n",
       "Exponent #0 = (-0-1j)\n",
       "(-0.5+0j)\n",
       "Exponent #1 = 1j\n",
       "(-0.5+0j)"
      ]
     },
     "execution_count": 20,
     "metadata": {},
     "output_type": "execute_result"
    }
   ],
   "source": [
    "rho = fock_dm(2, 1)\n",
    "es3_expect = expect(rho, es3)\n",
    "\n",
    "es3_expect"
   ]
  },
  {
   "cell_type": "code",
   "execution_count": 21,
   "id": "19c62da2",
   "metadata": {
    "execution": {
     "iopub.execute_input": "2022-06-03T06:42:59.084009Z",
     "iopub.status.busy": "2022-06-03T06:42:59.083593Z",
     "iopub.status.idle": "2022-06-03T06:42:59.089222Z",
     "shell.execute_reply": "2022-06-03T06:42:59.088718Z"
    }
   },
   "outputs": [
    {
     "data": {
      "text/plain": [
       "array([-1.000000e+00, -6.123234e-17])"
      ]
     },
     "execution_count": 21,
     "metadata": {},
     "output_type": "execute_result"
    }
   ],
   "source": [
    "es3_expect.value([0.0, pi/2])"
   ]
  },
  {
   "cell_type": "markdown",
   "id": "0f7e6db8",
   "metadata": {},
   "source": [
    "## Versions"
   ]
  },
  {
   "cell_type": "code",
   "execution_count": 22,
   "id": "c783aa70",
   "metadata": {
    "execution": {
     "iopub.execute_input": "2022-06-03T06:42:59.091885Z",
     "iopub.status.busy": "2022-06-03T06:42:59.091481Z",
     "iopub.status.idle": "2022-06-03T06:42:59.101477Z",
     "shell.execute_reply": "2022-06-03T06:42:59.100574Z"
    }
   },
   "outputs": [
    {
     "data": {
      "text/html": [
       "<table><tr><th>Software</th><th>Version</th></tr><tr><td>QuTiP</td><td>5.0.0.dev0+098990c</td></tr><tr><td>Numpy</td><td>1.22.4</td></tr><tr><td>SciPy</td><td>1.8.1</td></tr><tr><td>matplotlib</td><td>3.5.2</td></tr><tr><td>Cython</td><td>0.29.30</td></tr><tr><td>Number of CPUs</td><td>2</td></tr><tr><td>BLAS Info</td><td>Generic</td></tr><tr><td>IPython</td><td>8.4.0</td></tr><tr><td>Python</td><td>3.10.4 | packaged by conda-forge | (main, Mar 24 2022, 17:38:57) [GCC 10.3.0]</td></tr><tr><td>OS</td><td>posix [linux]</td></tr><tr><td colspan='2'>Fri Jun 03 06:42:59 2022 UTC</td></tr></table>"
      ],
      "text/plain": [
       "<IPython.core.display.HTML object>"
      ]
     },
     "execution_count": 22,
     "metadata": {},
     "output_type": "execute_result"
    }
   ],
   "source": [
    "from qutip.ipynbtools import version_table\n",
    "\n",
    "version_table()"
   ]
  }
 ],
 "metadata": {
  "jupytext": {
   "cell_metadata_filter": "-all",
   "notebook_metadata_filter": "-jupytext.cell_metadata_filter,-jupytext.notebook_metadata_filter"
  },
  "kernelspec": {
   "display_name": "Python 3 (ipykernel)",
   "language": "python",
   "name": "python3"
  },
  "language_info": {
   "codemirror_mode": {
    "name": "ipython",
    "version": 3
   },
   "file_extension": ".py",
   "mimetype": "text/x-python",
   "name": "python",
   "nbconvert_exporter": "python",
   "pygments_lexer": "ipython3",
   "version": "3.10.4"
  }
 },
 "nbformat": 4,
 "nbformat_minor": 5
}
