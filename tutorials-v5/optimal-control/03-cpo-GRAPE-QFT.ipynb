{
 "cells": [
  {
   "cell_type": "markdown",
   "id": "f73a27f1",
   "metadata": {},
   "source": [
    "# Calculation of control fields for QFT gate on two qubits using L-BFGS-B algorithm"
   ]
  },
  {
   "cell_type": "markdown",
   "id": "f104ee38",
   "metadata": {},
   "source": [
    "Alexander Pitchford (agp1@aber.ac.uk)"
   ]
  },
  {
   "cell_type": "markdown",
   "id": "a3fe1547",
   "metadata": {},
   "source": [
    "Example to demonstrate using the control library to determine control\n",
    "pulses using the ctrlpulseoptim.create_pulse_optimizer function to \n",
    "generate an Optimizer object, through which the configuration can be\n",
    "manipulated before running the optmisation algorithm. In this case it is\n",
    "demonstrated by modifying the initial ctrl pulses. Also re-uses objects in repeated runs with different total evolution times.\n",
    "\n",
    "The (default) L-BFGS-B algorithm is used to optimise the pulse to\n",
    "minimise the fidelity error, which is equivalent maximising the fidelity\n",
    "to optimal value of 1.\n",
    "\n",
    "The system in this example is two qubits in constant fields in x, y and z\n",
    "with variable independant controls fields in x and y acting on each qubit\n",
    "The target evolution is the QFT gate. The user can experiment with the\n",
    "different:\n",
    " * evolution times - evo_times list values, try anything \n",
    " * phase options - phase_option = SU or PSU\n",
    " *  propagtor computer type prop_type = DIAG or FRECHET\n",
    " *  fidelity measures - fid_type = UNIT or TRACEDIFF\n",
    "\n",
    "The user can experiment with the timeslicing, by means of changing the\n",
    "timeslots durations.\n",
    "Different initial (starting) pulse types can be tried.\n",
    "The initial and final pulses are displayed in a plot\n",
    "\n",
    "This example assumes that the example-control-pulseoptim-Hadamard has already been tried, and hence explanations in that notebook are not repeated here."
   ]
  },
  {
   "cell_type": "code",
   "execution_count": 1,
   "id": "dd5d4c54",
   "metadata": {
    "execution": {
     "iopub.execute_input": "2025-08-20T04:30:44.677152Z",
     "iopub.status.busy": "2025-08-20T04:30:44.676956Z",
     "iopub.status.idle": "2025-08-20T04:30:45.788701Z",
     "shell.execute_reply": "2025-08-20T04:30:45.788110Z"
    }
   },
   "outputs": [],
   "source": [
    "import datetime\n",
    "\n",
    "import matplotlib.pyplot as plt\n",
    "import numpy as np\n",
    "\n",
    "import qutip_qtrl.pulsegen as pulsegen\n",
    "\n",
    "import qutip_qtrl.pulseoptim as cpo\n",
    "from qutip import identity, sigmax, sigmay, sigmaz, tensor, about\n",
    "from qutip_qip.algorithms import qft\n",
    "\n",
    "example_name = \"QFT\"\n",
    "\n",
    "%matplotlib inline"
   ]
  },
  {
   "cell_type": "markdown",
   "id": "956cf7cf",
   "metadata": {},
   "source": [
    "### Defining the physics"
   ]
  },
  {
   "cell_type": "markdown",
   "id": "2746a004",
   "metadata": {},
   "source": [
    "Note here that there are two controls acting on each qubit."
   ]
  },
  {
   "cell_type": "code",
   "execution_count": 2,
   "id": "804947b1",
   "metadata": {
    "execution": {
     "iopub.execute_input": "2025-08-20T04:30:45.790556Z",
     "iopub.status.busy": "2025-08-20T04:30:45.790272Z",
     "iopub.status.idle": "2025-08-20T04:30:45.794720Z",
     "shell.execute_reply": "2025-08-20T04:30:45.794222Z"
    }
   },
   "outputs": [],
   "source": [
    "Sx = sigmax()\n",
    "Sy = sigmay()\n",
    "Sz = sigmaz()\n",
    "Si = 0.5 * identity(2)\n",
    "\n",
    "# Drift Hamiltonian\n",
    "H_d = 0.5 * (tensor(Sx, Sx) + tensor(Sy, Sy) + tensor(Sz, Sz))\n",
    "# The (four) control Hamiltonians\n",
    "H_c = [tensor(Sx, Si), tensor(Sy, Si), tensor(Si, Sx), tensor(Si, Sy)]\n",
    "n_ctrls = len(H_c)\n",
    "# start point for the gate evolution\n",
    "U_0 = identity(4)\n",
    "# Target for the gate evolution - Quantum Fourier Transform gate\n",
    "U_targ = qft(2)"
   ]
  },
  {
   "cell_type": "markdown",
   "id": "1d8ad7fd",
   "metadata": {},
   "source": [
    "### Defining the time evolution parameters"
   ]
  },
  {
   "cell_type": "markdown",
   "id": "9a6f7e8b",
   "metadata": {},
   "source": [
    "Multiple total evolution times will be tried. Using this approach, the minimum evolution time required to achieve the target fidelity could be determined (iteratively).\n",
    "\n",
    "Note that the timeslot duration dt is fixed, and so the number of timeslots depends on the evo_time"
   ]
  },
  {
   "cell_type": "code",
   "execution_count": 3,
   "id": "394468e9",
   "metadata": {
    "execution": {
     "iopub.execute_input": "2025-08-20T04:30:45.796260Z",
     "iopub.status.busy": "2025-08-20T04:30:45.796085Z",
     "iopub.status.idle": "2025-08-20T04:30:45.798800Z",
     "shell.execute_reply": "2025-08-20T04:30:45.798361Z"
    }
   },
   "outputs": [],
   "source": [
    "# Duration of each timeslot\n",
    "dt = 0.05\n",
    "# List of evolution times to try\n",
    "evo_times = [1, 3, 6]\n",
    "n_evo_times = len(evo_times)\n",
    "evo_time = evo_times[0]\n",
    "n_ts = int(float(evo_time) / dt)\n",
    "# Empty list that will hold the results for each evolution time\n",
    "results = list()"
   ]
  },
  {
   "cell_type": "markdown",
   "id": "65a54117",
   "metadata": {},
   "source": [
    "### Set the conditions which will cause the pulse optimisation to terminate"
   ]
  },
  {
   "cell_type": "code",
   "execution_count": 4,
   "id": "b587a74a",
   "metadata": {
    "execution": {
     "iopub.execute_input": "2025-08-20T04:30:45.800042Z",
     "iopub.status.busy": "2025-08-20T04:30:45.799893Z",
     "iopub.status.idle": "2025-08-20T04:30:45.802162Z",
     "shell.execute_reply": "2025-08-20T04:30:45.801768Z"
    }
   },
   "outputs": [],
   "source": [
    "# Fidelity error target\n",
    "fid_err_targ = 1e-5\n",
    "# Maximum iterations for the optisation algorithm\n",
    "max_iter = 200\n",
    "# Maximum (elapsed) time allowed in seconds\n",
    "max_wall_time = 120\n",
    "# Minimum gradient (sum of gradients squared)\n",
    "# as this tends to 0 -> local minima has been found\n",
    "min_grad = 1e-20"
   ]
  },
  {
   "cell_type": "markdown",
   "id": "9e831642",
   "metadata": {},
   "source": [
    "### Set the initial pulse type"
   ]
  },
  {
   "cell_type": "markdown",
   "id": "9d4c540a",
   "metadata": {},
   "source": [
    "Here the linear initial pulse type is used, simply because it results in smooth final pulses"
   ]
  },
  {
   "cell_type": "code",
   "execution_count": 5,
   "id": "416d87d1",
   "metadata": {
    "execution": {
     "iopub.execute_input": "2025-08-20T04:30:45.803424Z",
     "iopub.status.busy": "2025-08-20T04:30:45.803239Z",
     "iopub.status.idle": "2025-08-20T04:30:45.805465Z",
     "shell.execute_reply": "2025-08-20T04:30:45.805036Z"
    }
   },
   "outputs": [],
   "source": [
    "# pulse type alternatives: RND|ZERO|LIN|SINE|SQUARE|SAW|TRIANGLE|\n",
    "p_type = \"LIN\""
   ]
  },
  {
   "cell_type": "markdown",
   "id": "e05b5746",
   "metadata": {},
   "source": [
    "### Give an extension for output files"
   ]
  },
  {
   "cell_type": "code",
   "execution_count": 6,
   "id": "cfe88aa0",
   "metadata": {
    "execution": {
     "iopub.execute_input": "2025-08-20T04:30:45.806730Z",
     "iopub.status.busy": "2025-08-20T04:30:45.806569Z",
     "iopub.status.idle": "2025-08-20T04:30:45.808863Z",
     "shell.execute_reply": "2025-08-20T04:30:45.808405Z"
    }
   },
   "outputs": [],
   "source": [
    "# Set to None to suppress output files\n",
    "f_ext = \"{}_n_ts{}_ptype{}.txt\".format(example_name, n_ts, p_type)"
   ]
  },
  {
   "cell_type": "markdown",
   "id": "55f70934",
   "metadata": {},
   "source": [
    "### Create the optimiser objects"
   ]
  },
  {
   "cell_type": "markdown",
   "id": "74bff4b7",
   "metadata": {},
   "source": [
    "Here is the main difference between this and the Hadamard example. In this case we use a different pulseoptim function that just creates the objects that can be used to set the physics and configure the optimisation algorithm. This gives greater flexibility (shown here by seting different initial pulse parameters for each control) and is also more efficient when running multiple optimisations on the same system."
   ]
  },
  {
   "cell_type": "code",
   "execution_count": 7,
   "id": "29ace999",
   "metadata": {
    "execution": {
     "iopub.execute_input": "2025-08-20T04:30:45.810102Z",
     "iopub.status.busy": "2025-08-20T04:30:45.809940Z",
     "iopub.status.idle": "2025-08-20T04:30:45.813271Z",
     "shell.execute_reply": "2025-08-20T04:30:45.812789Z"
    }
   },
   "outputs": [],
   "source": [
    "optim = cpo.create_pulse_optimizer(\n",
    "    H_d,\n",
    "    H_c,\n",
    "    U_0,\n",
    "    U_targ,\n",
    "    n_ts,\n",
    "    evo_time,\n",
    "    amp_lbound=-5.0,\n",
    "    amp_ubound=5.0,\n",
    "    fid_err_targ=fid_err_targ,\n",
    "    min_grad=min_grad,\n",
    "    max_iter=max_iter,\n",
    "    max_wall_time=max_wall_time,\n",
    "    optim_method=\"fmin_l_bfgs_b\",\n",
    "    method_params={\"max_metric_corr\": 20, \"accuracy_factor\": 1e8},\n",
    "    dyn_type=\"UNIT\",\n",
    "    fid_params={\"phase_option\": \"PSU\"},\n",
    "    init_pulse_type=p_type,\n",
    "    gen_stats=True,\n",
    ")\n",
    "\n",
    "# **** get handles to the other objects ****\n",
    "optim.test_out_files = 0\n",
    "dyn = optim.dynamics\n",
    "dyn.test_out_files = 0\n",
    "p_gen = optim.pulse_generator"
   ]
  },
  {
   "cell_type": "markdown",
   "id": "985a8aee",
   "metadata": {},
   "source": [
    "### Optimise the pulse for each of the different evolution times"
   ]
  },
  {
   "cell_type": "markdown",
   "id": "91806e86",
   "metadata": {},
   "source": [
    "Here a loop is used to perform the optimisation for each of the evo_times given in the list above. The first optimisation is completed using the timeslot parameters passed when the optimisation objects are created. For the subsequent runs, the Dynamics object 'dyn' is used to set the timeslot parameters before the initial pulses are generated and optimisation is completed. Note that using this method, the dyn.initialize_controls method must be called with an array of the initial amplitudes before the optim.run_optimization method is called."
   ]
  },
  {
   "cell_type": "code",
   "execution_count": 8,
   "id": "36362d14",
   "metadata": {
    "execution": {
     "iopub.execute_input": "2025-08-20T04:30:45.814827Z",
     "iopub.status.busy": "2025-08-20T04:30:45.814574Z",
     "iopub.status.idle": "2025-08-20T04:30:47.087215Z",
     "shell.execute_reply": "2025-08-20T04:30:47.086746Z"
    }
   },
   "outputs": [
    {
     "name": "stdout",
     "output_type": "stream",
     "text": [
      "Initial amplitudes output to file: ctrl_amps_initial_QFT_n_ts20_ptypeLIN.txt\n",
      "***********************************\n",
      "\n",
      "+++++++++++++++++++++++++++++++++++\n",
      "Starting pulse optimisation for T=1\n",
      "+++++++++++++++++++++++++++++++++++\n",
      "\n"
     ]
    },
    {
     "name": "stdout",
     "output_type": "stream",
     "text": [
      "Final amplitudes output to file: ctrl_amps_final_QFT_n_ts20_ptypeLIN.txt\n",
      "\n",
      "------------------------------------\n",
      "---- Control optimisation stats ----\n",
      "**** Timings (HH:MM:SS.US) ****\n",
      "Total wall time elapsed during optimisation: 0:00:00.257144\n",
      "Wall time computing Hamiltonians: 0:00:00.018390 (7.15%)\n",
      "Wall time computing propagators: 0:00:00.186414 (72.49%)\n",
      "Wall time computing forward propagation: 0:00:00.001640 (0.64%)\n",
      "Wall time computing onward propagation: 0:00:00.001560 (0.61%)\n",
      "Wall time computing gradient: 0:00:00.034676 (13.49%)\n",
      "\n",
      "**** Iterations and function calls ****\n",
      "Number of iterations: 62\n",
      "Number of fidelity function calls: 70\n",
      "Number of times fidelity is computed: 70\n",
      "Number of gradient function calls: 70\n",
      "Number of times gradients are computed: 70\n",
      "Number of times timeslot evolution is recomputed: 70\n",
      "\n",
      "**** Control amplitudes ****\n",
      "Number of control amplitude updates: 69\n",
      "Mean number of updates per iteration: 1.1129032258064515\n",
      "Number of timeslot values changed: 731\n",
      "Mean number of timeslot changes per update: 10.594202898550725\n",
      "Number of amplitude values changed: 1391\n",
      "Mean number of amplitude changes per update: 20.159420289855074\n",
      "------------------------------------\n",
      "Final evolution\n",
      "Quantum object: dims=[[4], [4]], shape=(4, 4), type='oper', dtype=Dense, isherm=False\n",
      "Qobj data =\n",
      "[[-0.16947895+0.48843954j  0.01123435+0.30943395j -0.78499531+0.04893507j\n",
      "  -0.0643451 +0.1186404j ]\n",
      " [ 0.01322084+0.29347208j  0.1245778 -0.48801198j -0.07742096-0.24502281j\n",
      "   0.7669112 +0.07642672j]\n",
      " [-0.79333321+0.02305707j -0.03349167-0.24518948j  0.08382912+0.50386832j\n",
      "   0.04506878-0.21426483j]\n",
      " [-0.03408166+0.12382355j  0.76734913-0.01961737j  0.00719762-0.23322763j\n",
      "  -0.2032661 -0.54638137j]]\n",
      "\n",
      "********* Summary *****************\n",
      "Final fidelity error 0.34365845713594045\n",
      "Final gradient normal 0.01596116285030166\n",
      "Terminated due to function converged\n",
      "Number of iterations 62\n",
      "Completed in 0:00:00.257144 HH:MM:SS.US\n",
      "Initial amplitudes output to file: ctrl_amps_initial_QFT_n_ts20_ptypeLIN.txt\n",
      "***********************************\n",
      "\n",
      "+++++++++++++++++++++++++++++++++++\n",
      "Starting pulse optimisation for T=3\n",
      "+++++++++++++++++++++++++++++++++++\n",
      "\n"
     ]
    },
    {
     "name": "stdout",
     "output_type": "stream",
     "text": [
      "Final amplitudes output to file: ctrl_amps_final_QFT_n_ts20_ptypeLIN.txt\n",
      "\n",
      "------------------------------------\n",
      "---- Control optimisation stats ----\n",
      "**** Timings (HH:MM:SS.US) ****\n",
      "Total wall time elapsed during optimisation: 0:00:00.384683\n",
      "Wall time computing Hamiltonians: 0:00:00.028488 (7.41%)\n",
      "Wall time computing propagators: 0:00:00.285944 (74.33%)\n",
      "Wall time computing forward propagation: 0:00:00.002372 (0.62%)\n",
      "Wall time computing onward propagation: 0:00:00.002378 (0.62%)\n",
      "Wall time computing gradient: 0:00:00.052916 (13.76%)\n",
      "\n",
      "**** Iterations and function calls ****\n",
      "Number of iterations: 29\n",
      "Number of fidelity function calls: 36\n",
      "Number of times fidelity is computed: 36\n",
      "Number of gradient function calls: 35\n",
      "Number of times gradients are computed: 35\n",
      "Number of times timeslot evolution is recomputed: 36\n",
      "\n",
      "**** Control amplitudes ****\n",
      "Number of control amplitude updates: 35\n",
      "Mean number of updates per iteration: 1.206896551724138\n",
      "Number of timeslot values changed: 2100\n",
      "Mean number of timeslot changes per update: 60.0\n",
      "Number of amplitude values changed: 8390\n",
      "Mean number of amplitude changes per update: 239.71428571428572\n",
      "------------------------------------\n",
      "Final evolution\n",
      "Quantum object: dims=[[4], [4]], shape=(4, 4), type='oper', dtype=Dense, isherm=False\n",
      "Qobj data =\n",
      "[[-0.18931595+0.46104898j -0.19375049+0.46218309j -0.19289912+0.46356978j\n",
      "  -0.18783072+0.46157714j]\n",
      " [-0.1891362 +0.46239107j -0.46061145-0.19177315j  0.19101738-0.46147614j\n",
      "   0.46411136+0.19140253j]\n",
      " [-0.19126075+0.46010811j  0.19128268-0.46254647j -0.19195437+0.46297994j\n",
      "   0.19209412-0.46161076j]\n",
      " [-0.192874  +0.46533298j  0.46040028+0.19339331j  0.19021239-0.45942079j\n",
      "  -0.46159917-0.19124184j]]\n",
      "\n",
      "********* Summary *****************\n",
      "Final fidelity error 9.301256726046425e-06\n",
      "Final gradient normal 0.00023696116946847433\n",
      "Terminated due to Goal achieved\n",
      "Number of iterations 29\n",
      "Completed in 0:00:00.384683 HH:MM:SS.US\n",
      "Initial amplitudes output to file: ctrl_amps_initial_QFT_n_ts20_ptypeLIN.txt\n",
      "***********************************\n",
      "\n",
      "+++++++++++++++++++++++++++++++++++\n",
      "Starting pulse optimisation for T=6\n",
      "+++++++++++++++++++++++++++++++++++\n",
      "\n"
     ]
    },
    {
     "name": "stdout",
     "output_type": "stream",
     "text": [
      "Final amplitudes output to file: ctrl_amps_final_QFT_n_ts20_ptypeLIN.txt\n",
      "\n",
      "------------------------------------\n",
      "---- Control optimisation stats ----\n",
      "**** Timings (HH:MM:SS.US) ****\n",
      "Total wall time elapsed during optimisation: 0:00:00.611173\n",
      "Wall time computing Hamiltonians: 0:00:00.045759 (7.49%)\n",
      "Wall time computing propagators: 0:00:00.460447 (75.34%)\n",
      "Wall time computing forward propagation: 0:00:00.004172 (0.68%)\n",
      "Wall time computing onward propagation: 0:00:00.003865 (0.63%)\n",
      "Wall time computing gradient: 0:00:00.082972 (13.58%)\n",
      "\n",
      "**** Iterations and function calls ****\n",
      "Number of iterations: 24\n",
      "Number of fidelity function calls: 30\n",
      "Number of times fidelity is computed: 30\n",
      "Number of gradient function calls: 29\n",
      "Number of times gradients are computed: 29\n",
      "Number of times timeslot evolution is recomputed: 30\n",
      "\n",
      "**** Control amplitudes ****\n",
      "Number of control amplitude updates: 29\n",
      "Mean number of updates per iteration: 1.2083333333333333\n",
      "Number of timeslot values changed: 3480\n",
      "Mean number of timeslot changes per update: 120.0\n",
      "Number of amplitude values changed: 13920\n",
      "Mean number of amplitude changes per update: 480.0\n",
      "------------------------------------\n",
      "Final evolution\n",
      "Quantum object: dims=[[4], [4]], shape=(4, 4), type='oper', dtype=Dense, isherm=False\n",
      "Qobj data =\n",
      "[[ 0.46207589+0.19122734j  0.46151607+0.19126431j  0.46241054+0.19094085j\n",
      "   0.46213139+0.19102756j]\n",
      " [ 0.46199151+0.19151476j -0.1919803 +0.46204895j -0.4618033 -0.19115028j\n",
      "   0.19122344-0.46170678j]\n",
      " [ 0.4616501 +0.19097772j -0.46193739-0.19170026j  0.46197069+0.191379j\n",
      "  -0.46218913-0.19133719j]\n",
      " [ 0.46216723+0.19134279j  0.19167808-0.46173541j -0.46181085-0.19132505j\n",
      "  -0.19139779+0.46188923j]]\n",
      "\n",
      "********* Summary *****************\n",
      "Final fidelity error 2.436839731112528e-07\n",
      "Final gradient normal 0.0006198876852792656\n",
      "Terminated due to Goal achieved\n",
      "Number of iterations 24\n",
      "Completed in 0:00:00.611173 HH:MM:SS.US\n"
     ]
    }
   ],
   "source": [
    "for i in range(n_evo_times):\n",
    "    # Generate the tau (duration) and time (cumulative) arrays\n",
    "    # so that it can be used to create the pulse generator\n",
    "    # with matching timeslots\n",
    "    dyn.init_timeslots()\n",
    "    if i > 0:\n",
    "        # Create a new pulse generator for the new dynamics\n",
    "        p_gen = pulsegen.create_pulse_gen(p_type, dyn)\n",
    "\n",
    "    # Generate different initial pulses for each of the controls\n",
    "    init_amps = np.zeros([n_ts, n_ctrls])\n",
    "    if p_gen.periodic:\n",
    "        phase_diff = np.pi / n_ctrls\n",
    "        for j in range(n_ctrls):\n",
    "            init_amps[:, j] = p_gen.gen_pulse(start_phase=phase_diff * j)\n",
    "    elif isinstance(p_gen, pulsegen.PulseGenLinear):\n",
    "        for j in range(n_ctrls):\n",
    "            p_gen.scaling = float(j) - float(n_ctrls - 1) / 2\n",
    "            init_amps[:, j] = p_gen.gen_pulse()\n",
    "    elif isinstance(p_gen, pulsegen.PulseGenZero):\n",
    "        for j in range(n_ctrls):\n",
    "            p_gen.offset = sf = float(j) - float(n_ctrls - 1) / 2\n",
    "            init_amps[:, j] = p_gen.gen_pulse()\n",
    "    else:\n",
    "        # Should be random pulse\n",
    "        for j in range(n_ctrls):\n",
    "            init_amps[:, j] = p_gen.gen_pulse()\n",
    "\n",
    "    dyn.initialize_controls(init_amps)\n",
    "\n",
    "    # Save initial amplitudes to a text file\n",
    "    if f_ext is not None:\n",
    "        pulsefile = \"ctrl_amps_initial_\" + f_ext\n",
    "        dyn.save_amps(pulsefile)\n",
    "        print(\"Initial amplitudes output to file: \" + pulsefile)\n",
    "\n",
    "    print(\"***********************************\")\n",
    "    print(\"\\n+++++++++++++++++++++++++++++++++++\")\n",
    "    print(\"Starting pulse optimisation for T={}\".format(evo_time))\n",
    "    print(\"+++++++++++++++++++++++++++++++++++\\n\")\n",
    "    result = optim.run_optimization()\n",
    "    results.append(result)\n",
    "\n",
    "    # Save final amplitudes to a text file\n",
    "    if f_ext is not None:\n",
    "        pulsefile = \"ctrl_amps_final_\" + f_ext\n",
    "        dyn.save_amps(pulsefile)\n",
    "        print(\"Final amplitudes output to file: \" + pulsefile)\n",
    "\n",
    "    # Report the results\n",
    "    result.stats.report()\n",
    "    print(\"Final evolution\\n{}\\n\".format(result.evo_full_final))\n",
    "    print(\"********* Summary *****************\")\n",
    "    print(\"Final fidelity error {}\".format(result.fid_err))\n",
    "    print(\"Final gradient normal {}\".format(result.grad_norm_final))\n",
    "    print(\"Terminated due to {}\".format(result.termination_reason))\n",
    "    print(\"Number of iterations {}\".format(result.num_iter))\n",
    "    print(\n",
    "        \"Completed in {} HH:MM:SS.US\".format(\n",
    "            datetime.timedelta(seconds=result.wall_time)\n",
    "        )\n",
    "    )\n",
    "\n",
    "    if i + 1 < len(evo_times):\n",
    "        # reconfigure the dynamics for the next evo time\n",
    "        evo_time = evo_times[i + 1]\n",
    "        n_ts = int(float(evo_time) / dt)\n",
    "        dyn.tau = None\n",
    "        dyn.evo_time = evo_time\n",
    "        dyn.num_tslots = n_ts"
   ]
  },
  {
   "cell_type": "markdown",
   "id": "b415f44d",
   "metadata": {},
   "source": [
    "### Plot the initial and final amplitudes"
   ]
  },
  {
   "cell_type": "code",
   "execution_count": 9,
   "id": "3c38fe79",
   "metadata": {
    "execution": {
     "iopub.execute_input": "2025-08-20T04:30:47.088871Z",
     "iopub.status.busy": "2025-08-20T04:30:47.088533Z",
     "iopub.status.idle": "2025-08-20T04:30:47.549055Z",
     "shell.execute_reply": "2025-08-20T04:30:47.548548Z"
    }
   },
   "outputs": [
    {
     "data": {
      "image/png": "[encoded data removed]",
      "text/plain": [
       "<Figure size 1200x800 with 6 Axes>"
      ]
     },
     "metadata": {},
     "output_type": "display_data"
    }
   ],
   "source": [
    "fig1 = plt.figure(figsize=(12, 8))\n",
    "for i in range(n_evo_times):\n",
    "    # Initial amps\n",
    "    ax1 = fig1.add_subplot(2, n_evo_times, i + 1)\n",
    "    ax1.set_title(\"Init amps T={}\".format(evo_times[i]))\n",
    "    # ax1.set_xlabel(\"Time\")\n",
    "    ax1.get_xaxis().set_visible(False)\n",
    "    if i == 0:\n",
    "        ax1.set_ylabel(\"Control amplitude\")\n",
    "    for j in range(n_ctrls):\n",
    "        ax1.step(\n",
    "            results[i].time,\n",
    "            np.hstack((results[i].initial_amps[:, j], results[i].initial_amps[-1, j])),\n",
    "            where=\"post\",\n",
    "        )\n",
    "\n",
    "    ax2 = fig1.add_subplot(2, n_evo_times, i + n_evo_times + 1)\n",
    "    ax2.set_title(\"Final amps T={}\".format(evo_times[i]))\n",
    "    ax2.set_xlabel(\"Time\")\n",
    "    # Optimised amps\n",
    "    if i == 0:\n",
    "        ax2.set_ylabel(\"Control amplitude\")\n",
    "    for j in range(n_ctrls):\n",
    "        ax2.step(\n",
    "            results[i].time,\n",
    "            np.hstack((results[i].final_amps[:, j], results[i].final_amps[-1, j])),\n",
    "            where=\"post\",\n",
    "        )\n",
    "\n",
    "plt.tight_layout()\n",
    "plt.show()"
   ]
  },
  {
   "cell_type": "markdown",
   "id": "36a004d1",
   "metadata": {},
   "source": [
    "### Versions"
   ]
  },
  {
   "cell_type": "code",
   "execution_count": 10,
   "id": "4f4a1153",
   "metadata": {
    "execution": {
     "iopub.execute_input": "2025-08-20T04:30:47.550501Z",
     "iopub.status.busy": "2025-08-20T04:30:47.550305Z",
     "iopub.status.idle": "2025-08-20T04:30:48.042743Z",
     "shell.execute_reply": "2025-08-20T04:30:48.042237Z"
    }
   },
   "outputs": [
    {
     "name": "stdout",
     "output_type": "stream",
     "text": [
      "\n",
      "QuTiP: Quantum Toolbox in Python\n",
      "================================\n",
      "Copyright (c) QuTiP team 2011 and later.\n",
      "Current admin team: Alexander Pitchford, Nathan Shammah, Shahnawaz Ahmed, Neill Lambert, Eric Giguère, Boxi Li, Simon Cross, Asier Galicia, Paul Menczel, and Patrick Hopf.\n",
      "Board members: Daniel Burgarth, Robert Johansson, Anton F. Kockum, Franco Nori and Will Zeng.\n",
      "Original developers: R. J. Johansson & P. D. Nation.\n",
      "Previous lead developers: Chris Granade & A. Grimsmo.\n",
      "Currently developed through wide collaboration. See https://github.com/qutip for details.\n",
      "\n",
      "QuTiP Version:      5.3.0.dev0+d849c94\n",
      "Numpy Version:      2.3.2\n",
      "Scipy Version:      1.16.1\n",
      "Cython Version:     3.1.3\n",
      "Matplotlib Version: 3.10.5\n",
      "Python Version:     3.12.0\n",
      "Number of CPUs:     4\n",
      "BLAS Info:          Generic\n",
      "INTEL MKL Ext:      None\n",
      "Platform Info:      Linux (x86_64)\n",
      "Installation path:  /home/runner/miniconda3/envs/test-environment-v5/lib/python3.12/site-packages/qutip\n",
      "\n",
      "Installed QuTiP family packages\n",
      "-------------------------------\n",
      "\n",
      "qutip-qtrl: 0.2.0.dev0+acb71a0\n"
     ]
    },
    {
     "name": "stdout",
     "output_type": "stream",
     "text": [
      "qutip-jax: 0.1.1.dev6\n",
      "qutip-qip: 0.5.0.dev0+2db1138\n",
      "\n",
      "================================================================================\n",
      "Please cite QuTiP in your publication.\n",
      "================================================================================\n",
      "For your convenience a bibtex reference can be easily generated using `qutip.cite()`\n"
     ]
    }
   ],
   "source": [
    "about()"
   ]
  },
  {
   "cell_type": "code",
   "execution_count": null,
   "id": "b4182828",
   "metadata": {},
   "outputs": [],
   "source": []
  }
 ],
 "metadata": {
  "jupytext": {
   "cell_metadata_filter": "-all",
   "notebook_metadata_filter": "-jupytext.cell_metadata_filter,-jupytext.notebook_metadata_filter"
  },
  "kernelspec": {
   "display_name": "Python 3",
   "language": "python",
   "name": "python3"
  },
  "language_info": {
   "codemirror_mode": {
    "name": "ipython",
    "version": 3
   },
   "file_extension": ".py",
   "mimetype": "text/x-python",
   "name": "python",
   "nbconvert_exporter": "python",
   "pygments_lexer": "ipython3",
   "version": "3.12.0"
  }
 },
 "nbformat": 4,
 "nbformat_minor": 5
}
