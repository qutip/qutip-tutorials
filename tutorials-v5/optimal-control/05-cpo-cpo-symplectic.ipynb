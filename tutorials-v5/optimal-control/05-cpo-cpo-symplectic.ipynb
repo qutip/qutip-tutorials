{
 "cells": [
  {
   "cell_type": "markdown",
   "id": "0662b3f3",
   "metadata": {},
   "source": [
    "# Calculation of control fields for symplectic dynamics using L-BFGS-B algorithm"
   ]
  },
  {
   "cell_type": "markdown",
   "id": "7782db83",
   "metadata": {},
   "source": [
    "Alexander Pitchford (agp1@aber.ac.uk)"
   ]
  },
  {
   "cell_type": "markdown",
   "id": "fd44e2b9",
   "metadata": {},
   "source": [
    "Example to demonstrate using the control library to determine control\n",
    "pulses using the ctrlpulseoptim.optimize_pulse function.\n",
    "The (default) L-BFGS-B algorithm is used to optimise the pulse to\n",
    "minimise the fidelity error, which in this case is given by the\n",
    "'Trace difference' norm.\n",
    "\n",
    "This in a Symplectic quantum system example, with two coupled oscillators\n",
    "\n",
    "The user can experiment with the timeslicing, by means of changing the\n",
    "number of timeslots and/or total time for the evolution.\n",
    "Different initial (starting) pulse types can be tried.\n",
    "The initial and final pulses are displayed in a plot\n",
    "\n",
    "This example assumes that the example-control-pulseoptim-Hadamard has already been tried, and hence explanations in that notebook are not repeated here."
   ]
  },
  {
   "cell_type": "code",
   "execution_count": 1,
   "id": "21c94eeb",
   "metadata": {
    "execution": {
     "iopub.execute_input": "2025-08-20T04:31:06.030588Z",
     "iopub.status.busy": "2025-08-20T04:31:06.030421Z",
     "iopub.status.idle": "2025-08-20T04:31:07.092767Z",
     "shell.execute_reply": "2025-08-20T04:31:07.092226Z"
    }
   },
   "outputs": [],
   "source": [
    "import datetime\n",
    "\n",
    "import matplotlib.pyplot as plt\n",
    "import numpy as np\n",
    "\n",
    "import qutip_qtrl.pulseoptim as cpo\n",
    "import qutip_qtrl.symplectic as sympl\n",
    "from qutip import Qobj, identity, about\n",
    "\n",
    "example_name = \"Symplectic\"\n",
    "%matplotlib inline"
   ]
  },
  {
   "cell_type": "markdown",
   "id": "a5a25f66",
   "metadata": {},
   "source": [
    "### Defining the physics"
   ]
  },
  {
   "cell_type": "code",
   "execution_count": 2,
   "id": "ada95f3e",
   "metadata": {
    "execution": {
     "iopub.execute_input": "2025-08-20T04:31:07.094598Z",
     "iopub.status.busy": "2025-08-20T04:31:07.094333Z",
     "iopub.status.idle": "2025-08-20T04:31:07.099555Z",
     "shell.execute_reply": "2025-08-20T04:31:07.099107Z"
    }
   },
   "outputs": [],
   "source": [
    "# Drift\n",
    "w1 = 1\n",
    "w2 = 1\n",
    "g1 = 0.5\n",
    "A0 = Qobj(np.array([[w1, 0, g1, 0], [0, w1, 0, g1], [g1, 0, w2, 0], [0, g1, 0, w2]]))\n",
    "\n",
    "# Control\n",
    "Ac = Qobj(\n",
    "    np.array(\n",
    "        [\n",
    "            [\n",
    "                1,\n",
    "                0,\n",
    "                0,\n",
    "                0,\n",
    "            ],\n",
    "            [0, 1, 0, 0],\n",
    "            [0, 0, 0, 0],\n",
    "            [0, 0, 0, 0],\n",
    "        ]\n",
    "    )\n",
    ")\n",
    "ctrls = [Ac]\n",
    "n_ctrls = len(ctrls)\n",
    "\n",
    "initial = identity(4)\n",
    "\n",
    "# Target\n",
    "a = 1\n",
    "Ag = np.array([[0, 0, a, 0], [0, 0, 0, a], [a, 0, 0, 0], [0, a, 0, 0]])\n",
    "\n",
    "Sg = Qobj(sympl.calc_omega(2).dot(Ag)).expm()"
   ]
  },
  {
   "cell_type": "markdown",
   "id": "fca87ad4",
   "metadata": {},
   "source": [
    "### Defining the time evolution parameters"
   ]
  },
  {
   "cell_type": "code",
   "execution_count": 3,
   "id": "7e050c5d",
   "metadata": {
    "execution": {
     "iopub.execute_input": "2025-08-20T04:31:07.101365Z",
     "iopub.status.busy": "2025-08-20T04:31:07.101183Z",
     "iopub.status.idle": "2025-08-20T04:31:07.104123Z",
     "shell.execute_reply": "2025-08-20T04:31:07.103708Z"
    }
   },
   "outputs": [],
   "source": [
    "# Number of time slots\n",
    "n_ts = 1000\n",
    "# Time allowed for the evolution\n",
    "evo_time = 10"
   ]
  },
  {
   "cell_type": "markdown",
   "id": "588e2e1c",
   "metadata": {},
   "source": [
    "### Set the conditions which will cause the pulse optimisation to terminate"
   ]
  },
  {
   "cell_type": "code",
   "execution_count": 4,
   "id": "b001bae5",
   "metadata": {
    "execution": {
     "iopub.execute_input": "2025-08-20T04:31:07.105771Z",
     "iopub.status.busy": "2025-08-20T04:31:07.105595Z",
     "iopub.status.idle": "2025-08-20T04:31:07.108973Z",
     "shell.execute_reply": "2025-08-20T04:31:07.108560Z"
    }
   },
   "outputs": [],
   "source": [
    "# Fidelity error target\n",
    "fid_err_targ = 1e-10\n",
    "# Maximum iterations for the optisation algorithm\n",
    "max_iter = 500\n",
    "# Maximum (elapsed) time allowed in seconds\n",
    "max_wall_time = 30\n",
    "# Minimum gradient (sum of gradients squared)\n",
    "# as this tends to 0 -> local minima has been found\n",
    "min_grad = 1e-20"
   ]
  },
  {
   "cell_type": "markdown",
   "id": "16cefa60",
   "metadata": {},
   "source": [
    "### Set the initial pulse type"
   ]
  },
  {
   "cell_type": "code",
   "execution_count": 5,
   "id": "3ed36cb8",
   "metadata": {
    "execution": {
     "iopub.execute_input": "2025-08-20T04:31:07.110853Z",
     "iopub.status.busy": "2025-08-20T04:31:07.110528Z",
     "iopub.status.idle": "2025-08-20T04:31:07.113550Z",
     "shell.execute_reply": "2025-08-20T04:31:07.113087Z"
    }
   },
   "outputs": [],
   "source": [
    "# pulse type alternatives: RND|ZERO|LIN|SINE|SQUARE|SAW|TRIANGLE|\n",
    "p_type = \"ZERO\""
   ]
  },
  {
   "cell_type": "markdown",
   "id": "cdfb9b2c",
   "metadata": {},
   "source": [
    "### Give an extension for output files"
   ]
  },
  {
   "cell_type": "code",
   "execution_count": 6,
   "id": "505e2fcf",
   "metadata": {
    "execution": {
     "iopub.execute_input": "2025-08-20T04:31:07.115182Z",
     "iopub.status.busy": "2025-08-20T04:31:07.115010Z",
     "iopub.status.idle": "2025-08-20T04:31:07.118025Z",
     "shell.execute_reply": "2025-08-20T04:31:07.117611Z"
    }
   },
   "outputs": [],
   "source": [
    "# Set to None to suppress output files\n",
    "f_ext = \"{}_n_ts{}_ptype{}.txt\".format(example_name, n_ts, p_type)"
   ]
  },
  {
   "cell_type": "markdown",
   "id": "252a5d26",
   "metadata": {},
   "source": [
    "### Run the optimisation"
   ]
  },
  {
   "cell_type": "code",
   "execution_count": 7,
   "id": "b2bf30cd",
   "metadata": {
    "execution": {
     "iopub.execute_input": "2025-08-20T04:31:07.119986Z",
     "iopub.status.busy": "2025-08-20T04:31:07.119636Z",
     "iopub.status.idle": "2025-08-20T04:31:09.162802Z",
     "shell.execute_reply": "2025-08-20T04:31:09.162268Z"
    }
   },
   "outputs": [],
   "source": [
    "# Note that this call uses\n",
    "#    dyn_type='SYMPL'\n",
    "# This means that matrices that describe the dynamics are assumed to be\n",
    "# Symplectic, i.e. the propagator can be calculated using\n",
    "# expm(combined_dynamics.omega*dt)\n",
    "# This has defaults for:\n",
    "#    prop_type='FRECHET'\n",
    "# therefore the propagators and their gradients will be calculated using the\n",
    "# Frechet method, i.e. an exact gradient\n",
    "#    fid_type='TRACEDIFF'\n",
    "# so that the fidelity error, i.e. distance from the target, is give\n",
    "# by the trace of the difference between the target and evolved operators\n",
    "result = cpo.optimize_pulse(\n",
    "    A0,\n",
    "    ctrls,\n",
    "    initial,\n",
    "    Sg,\n",
    "    n_ts,\n",
    "    evo_time,\n",
    "    fid_err_targ=fid_err_targ,\n",
    "    min_grad=min_grad,\n",
    "    max_iter=max_iter,\n",
    "    max_wall_time=max_wall_time,\n",
    "    dyn_type=\"SYMPL\",\n",
    "    out_file_ext=f_ext,\n",
    "    init_pulse_type=p_type,\n",
    "    gen_stats=True,\n",
    ")"
   ]
  },
  {
   "cell_type": "markdown",
   "id": "d572add3",
   "metadata": {},
   "source": [
    "### Report the results"
   ]
  },
  {
   "cell_type": "code",
   "execution_count": 8,
   "id": "dcfbf221",
   "metadata": {
    "execution": {
     "iopub.execute_input": "2025-08-20T04:31:09.165646Z",
     "iopub.status.busy": "2025-08-20T04:31:09.164958Z",
     "iopub.status.idle": "2025-08-20T04:31:09.172327Z",
     "shell.execute_reply": "2025-08-20T04:31:09.171936Z"
    }
   },
   "outputs": [
    {
     "name": "stdout",
     "output_type": "stream",
     "text": [
      "\n",
      "------------------------------------\n",
      "---- Control optimisation stats ----\n",
      "**** Timings (HH:MM:SS.US) ****\n",
      "Total wall time elapsed during optimisation: 0:00:02.017687\n",
      "Wall time computing Hamiltonians: 0:00:00.077818 (3.86%)\n",
      "Wall time computing propagators: 0:00:01.741418 (86.31%)\n",
      "Wall time computing forward propagation: 0:00:00.016834 (0.83%)\n",
      "Wall time computing onward propagation: 0:00:00.016503 (0.82%)\n",
      "Wall time computing gradient: 0:00:00.141591 (7.02%)\n",
      "\n",
      "**** Iterations and function calls ****\n",
      "Number of iterations: 8\n",
      "Number of fidelity function calls: 14\n",
      "Number of times fidelity is computed: 14\n",
      "Number of gradient function calls: 13\n",
      "Number of times gradients are computed: 13\n",
      "Number of times timeslot evolution is recomputed: 14\n",
      "\n",
      "**** Control amplitudes ****\n",
      "Number of control amplitude updates: 13\n",
      "Mean number of updates per iteration: 1.625\n",
      "Number of timeslot values changed: 13000\n",
      "Mean number of timeslot changes per update: 1000.0\n",
      "Number of amplitude values changed: 13000\n",
      "Mean number of amplitude changes per update: 1000.0\n",
      "------------------------------------\n",
      "Final evolution\n",
      "Quantum object: dims=[[4], [4]], shape=(4, 4), type='oper', dtype=Dense, isherm=False\n",
      "Qobj data =\n",
      "[[ 5.40298994e-01 -1.56965600e-06 -7.01444042e-06  8.41473111e-01]\n",
      " [ 1.56965600e-06  5.40298994e-01 -8.41473111e-01 -7.01444042e-06]\n",
      " [-7.01444242e-06  8.41473111e-01  5.40298994e-01  1.05774201e-05]\n",
      " [-8.41473111e-01 -7.01444242e-06 -1.05774201e-05  5.40298994e-01]]\n",
      "\n",
      "********* Summary *****************\n",
      "Final fidelity error 6.093073928799062e-11\n",
      "Final gradient normal 8.705152868598197e-06\n",
      "Terminated due to Goal achieved\n",
      "Number of iterations 8\n",
      "Completed in 0:00:02.017687 HH:MM:SS.US\n"
     ]
    }
   ],
   "source": [
    "result.stats.report()\n",
    "print(\"Final evolution\\n{}\\n\".format(result.evo_full_final))\n",
    "print(\"********* Summary *****************\")\n",
    "print(\"Final fidelity error {}\".format(result.fid_err))\n",
    "print(\"Final gradient normal {}\".format(result.grad_norm_final))\n",
    "print(\"Terminated due to {}\".format(result.termination_reason))\n",
    "print(\"Number of iterations {}\".format(result.num_iter))\n",
    "print(\n",
    "    \"Completed in {} HH:MM:SS.US\".format(datetime.timedelta(seconds=result.wall_time))\n",
    ")"
   ]
  },
  {
   "cell_type": "markdown",
   "id": "a2dc3a78",
   "metadata": {},
   "source": [
    "### Plot the initial and final amplitudes"
   ]
  },
  {
   "cell_type": "code",
   "execution_count": 9,
   "id": "fc1ecdb5",
   "metadata": {
    "execution": {
     "iopub.execute_input": "2025-08-20T04:31:09.174778Z",
     "iopub.status.busy": "2025-08-20T04:31:09.174096Z",
     "iopub.status.idle": "2025-08-20T04:31:09.372285Z",
     "shell.execute_reply": "2025-08-20T04:31:09.371874Z"
    }
   },
   "outputs": [
    {
     "data": {
      "image/png": "[encoded data removed]",
      "text/plain": [
       "<Figure size 640x480 with 2 Axes>"
      ]
     },
     "metadata": {},
     "output_type": "display_data"
    }
   ],
   "source": [
    "fig1 = plt.figure()\n",
    "ax1 = fig1.add_subplot(2, 1, 1)\n",
    "ax1.set_title(\"Initial Control amps\")\n",
    "ax1.set_xlabel(\"Time\")\n",
    "ax1.set_ylabel(\"Control amplitude\")\n",
    "for j in range(n_ctrls):\n",
    "    ax1.step(\n",
    "        result.time,\n",
    "        np.hstack((result.initial_amps[:, j], result.initial_amps[-1, j])),\n",
    "        where=\"post\",\n",
    "    )\n",
    "\n",
    "ax2 = fig1.add_subplot(2, 1, 2)\n",
    "ax2.set_title(\"Optimised Control Amplitudes\")\n",
    "ax2.set_xlabel(\"Time\")\n",
    "ax2.set_ylabel(\"Control amplitude\")\n",
    "for j in range(n_ctrls):\n",
    "    ax2.step(\n",
    "        result.time,\n",
    "        np.hstack((result.final_amps[:, j], result.final_amps[-1, j])),\n",
    "        where=\"post\",\n",
    "    )\n",
    "\n",
    "plt.tight_layout()\n",
    "plt.show()"
   ]
  },
  {
   "cell_type": "markdown",
   "id": "862d3665",
   "metadata": {},
   "source": [
    "### Versions"
   ]
  },
  {
   "cell_type": "code",
   "execution_count": 10,
   "id": "22ee28e1",
   "metadata": {
    "execution": {
     "iopub.execute_input": "2025-08-20T04:31:09.373672Z",
     "iopub.status.busy": "2025-08-20T04:31:09.373490Z",
     "iopub.status.idle": "2025-08-20T04:31:09.859878Z",
     "shell.execute_reply": "2025-08-20T04:31:09.859319Z"
    }
   },
   "outputs": [
    {
     "name": "stdout",
     "output_type": "stream",
     "text": [
      "\n",
      "QuTiP: Quantum Toolbox in Python\n",
      "================================\n",
      "Copyright (c) QuTiP team 2011 and later.\n",
      "Current admin team: Alexander Pitchford, Nathan Shammah, Shahnawaz Ahmed, Neill Lambert, Eric Giguère, Boxi Li, Simon Cross, Asier Galicia, Paul Menczel, and Patrick Hopf.\n",
      "Board members: Daniel Burgarth, Robert Johansson, Anton F. Kockum, Franco Nori and Will Zeng.\n",
      "Original developers: R. J. Johansson & P. D. Nation.\n",
      "Previous lead developers: Chris Granade & A. Grimsmo.\n",
      "Currently developed through wide collaboration. See https://github.com/qutip for details.\n",
      "\n",
      "QuTiP Version:      5.3.0.dev0+d849c94\n",
      "Numpy Version:      2.3.2\n",
      "Scipy Version:      1.16.1\n",
      "Cython Version:     3.1.3\n",
      "Matplotlib Version: 3.10.5\n",
      "Python Version:     3.12.0\n",
      "Number of CPUs:     4\n",
      "BLAS Info:          Generic\n",
      "INTEL MKL Ext:      None\n",
      "Platform Info:      Linux (x86_64)\n",
      "Installation path:  /home/runner/miniconda3/envs/test-environment-v5/lib/python3.12/site-packages/qutip\n",
      "\n",
      "Installed QuTiP family packages\n",
      "-------------------------------\n",
      "\n",
      "qutip-qtrl: 0.2.0.dev0+acb71a0\n"
     ]
    },
    {
     "name": "stdout",
     "output_type": "stream",
     "text": [
      "qutip-jax: 0.1.1.dev6\n",
      "qutip-qip: 0.5.0.dev0+2db1138\n",
      "\n",
      "================================================================================\n",
      "Please cite QuTiP in your publication.\n",
      "================================================================================\n",
      "For your convenience a bibtex reference can be easily generated using `qutip.cite()`\n"
     ]
    }
   ],
   "source": [
    "about()"
   ]
  },
  {
   "cell_type": "code",
   "execution_count": null,
   "id": "2f6124ec",
   "metadata": {},
   "outputs": [],
   "source": []
  },
  {
   "cell_type": "code",
   "execution_count": null,
   "id": "87d3414e",
   "metadata": {},
   "outputs": [],
   "source": []
  }
 ],
 "metadata": {
  "jupytext": {
   "cell_metadata_filter": "-all",
   "notebook_metadata_filter": "-jupytext.cell_metadata_filter,-jupytext.notebook_metadata_filter"
  },
  "kernelspec": {
   "display_name": "Python 3",
   "language": "python",
   "name": "python3"
  },
  "language_info": {
   "codemirror_mode": {
    "name": "ipython",
    "version": 3
   },
   "file_extension": ".py",
   "mimetype": "text/x-python",
   "name": "python",
   "nbconvert_exporter": "python",
   "pygments_lexer": "ipython3",
   "version": "3.12.0"
  }
 },
 "nbformat": 4,
 "nbformat_minor": 5
}
