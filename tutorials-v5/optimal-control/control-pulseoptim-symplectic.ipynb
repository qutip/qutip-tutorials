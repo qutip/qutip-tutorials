{
 "cells": [
  {
   "cell_type": "markdown",
   "metadata": {},
   "source": [
    "# Calculation of control fields for symplectic dynamics using L-BFGS-B algorithm"
   ]
  },
  {
   "cell_type": "markdown",
   "metadata": {},
   "source": [
    "Alexander Pitchford (agp1@aber.ac.uk)"
   ]
  },
  {
   "cell_type": "markdown",
   "metadata": {},
   "source": [
    "Example to demonstrate using the control library to determine control\n",
    "pulses using the ctrlpulseoptim.optimize_pulse function.\n",
    "The (default) L-BFGS-B algorithm is used to optimise the pulse to\n",
    "minimise the fidelity error, which in this case is given by the\n",
    "'Trace difference' norm.\n",
    "\n",
    "This in a Symplectic quantum system example, with two coupled oscillators\n",
    "\n",
    "The user can experiment with the timeslicing, by means of changing the\n",
    "number of timeslots and/or total time for the evolution.\n",
    "Different initial (starting) pulse types can be tried.\n",
    "The initial and final pulses are displayed in a plot\n",
    "\n",
    "This example assumes that the example-control-pulseoptim-Hadamard has already been tried, and hence explanations in that notebook are not repeated here."
   ]
  },
  {
   "cell_type": "code",
   "execution_count": 1,
   "metadata": {
    "collapsed": false
   },
   "outputs": [],
   "source": [
    "%matplotlib inline\n",
    "import datetime\n",
    "\n",
    "import matplotlib.pyplot as plt\n",
    "import numpy as np\n",
    "# QuTiP control modules\n",
    "import qutip_qtrl.pulseoptim as cpo\n",
    "import qutip_qtrl.symplectic as sympl\n",
    "from qutip import Qobj, identity\n",
    "\n",
    "example_name = \"Symplectic\""
   ]
  },
  {
   "cell_type": "markdown",
   "metadata": {},
   "source": [
    "### Defining the physics"
   ]
  },
  {
   "cell_type": "code",
   "execution_count": 3,
   "metadata": {
    "collapsed": false
   },
   "outputs": [],
   "source": [
    "# Drift\n",
    "w1 = 1\n",
    "w2 = 1\n",
    "g1 = 0.5\n",
    "A0 = Qobj(np.array([[w1, 0, g1, 0], [0, w1, 0, g1], [g1, 0, w2, 0], [0, g1, 0, w2]]))\n",
    "\n",
    "# Control\n",
    "Ac = Qobj(\n",
    "    np.array(\n",
    "        [\n",
    "            [\n",
    "                1,\n",
    "                0,\n",
    "                0,\n",
    "                0,\n",
    "            ],\n",
    "            [0, 1, 0, 0],\n",
    "            [0, 0, 0, 0],\n",
    "            [0, 0, 0, 0],\n",
    "        ]\n",
    "    )\n",
    ")\n",
    "ctrls = [Ac]\n",
    "n_ctrls = len(ctrls)\n",
    "\n",
    "initial = identity(4)\n",
    "\n",
    "# Target\n",
    "a = 1\n",
    "Ag = np.array([[0, 0, a, 0], [0, 0, 0, a], [a, 0, 0, 0], [0, a, 0, 0]])\n",
    "\n",
    "Sg = Qobj(sympl.calc_omega(2).dot(Ag)).expm()"
   ]
  },
  {
   "cell_type": "markdown",
   "metadata": {},
   "source": [
    "### Defining the time evolution parameters"
   ]
  },
  {
   "cell_type": "code",
   "execution_count": 4,
   "metadata": {
    "collapsed": false
   },
   "outputs": [],
   "source": [
    "# Number of time slots\n",
    "n_ts = 1000\n",
    "# Time allowed for the evolution\n",
    "evo_time = 10"
   ]
  },
  {
   "cell_type": "markdown",
   "metadata": {},
   "source": [
    "### Set the conditions which will cause the pulse optimisation to terminate"
   ]
  },
  {
   "cell_type": "code",
   "execution_count": 5,
   "metadata": {
    "collapsed": false
   },
   "outputs": [],
   "source": [
    "# Fidelity error target\n",
    "fid_err_targ = 1e-10\n",
    "# Maximum iterations for the optisation algorithm\n",
    "max_iter = 500\n",
    "# Maximum (elapsed) time allowed in seconds\n",
    "max_wall_time = 30\n",
    "# Minimum gradient (sum of gradients squared)\n",
    "# as this tends to 0 -> local minima has been found\n",
    "min_grad = 1e-20"
   ]
  },
  {
   "cell_type": "markdown",
   "metadata": {},
   "source": [
    "### Set the initial pulse type"
   ]
  },
  {
   "cell_type": "code",
   "execution_count": 6,
   "metadata": {
    "collapsed": false
   },
   "outputs": [],
   "source": [
    "# pulse type alternatives: RND|ZERO|LIN|SINE|SQUARE|SAW|TRIANGLE|\n",
    "p_type = \"ZERO\""
   ]
  },
  {
   "cell_type": "markdown",
   "metadata": {},
   "source": [
    "### Give an extension for output files"
   ]
  },
  {
   "cell_type": "code",
   "execution_count": 7,
   "metadata": {
    "collapsed": false
   },
   "outputs": [],
   "source": [
    "# Set to None to suppress output files\n",
    "f_ext = \"{}_n_ts{}_ptype{}.txt\".format(example_name, n_ts, p_type)"
   ]
  },
  {
   "cell_type": "markdown",
   "metadata": {},
   "source": [
    "### Run the optimisation"
   ]
  },
  {
   "cell_type": "code",
   "execution_count": 8,
   "metadata": {
    "collapsed": false
   },
   "outputs": [],
   "source": [
    "# Note that this call uses\n",
    "#    dyn_type='SYMPL'\n",
    "# This means that matrices that describe the dynamics are assumed to be\n",
    "# Symplectic, i.e. the propagator can be calculated using\n",
    "# expm(combined_dynamics.omega*dt)\n",
    "# This has defaults for:\n",
    "#    prop_type='FRECHET'\n",
    "# therefore the propagators and their gradients will be calculated using the\n",
    "# Frechet method, i.e. an exact gradient\n",
    "#    fid_type='TRACEDIFF'\n",
    "# so that the fidelity error, i.e. distance from the target, is give\n",
    "# by the trace of the difference between the target and evolved operators\n",
    "result = cpo.optimize_pulse(\n",
    "    A0,\n",
    "    ctrls,\n",
    "    initial,\n",
    "    Sg,\n",
    "    n_ts,\n",
    "    evo_time,\n",
    "    fid_err_targ=fid_err_targ,\n",
    "    min_grad=min_grad,\n",
    "    max_iter=max_iter,\n",
    "    max_wall_time=max_wall_time,\n",
    "    dyn_type=\"SYMPL\",\n",
    "    out_file_ext=f_ext,\n",
    "    init_pulse_type=p_type,\n",
    "    gen_stats=True,\n",
    ")"
   ]
  },
  {
   "cell_type": "markdown",
   "metadata": {},
   "source": [
    "### Report the results"
   ]
  },
  {
   "cell_type": "code",
   "execution_count": 9,
   "metadata": {
    "collapsed": false
   },
   "outputs": [
    {
     "name": "stdout",
     "output_type": "stream",
     "text": [
      "\n",
      "------------------------------------\n",
      "---- Control optimisation stats ----\n",
      "**** Timings (HH:MM:SS.US) ****\n",
      "Total wall time elapsed during optimisation: 0:00:02.809863\n",
      "Wall time computing Hamiltonians: 0:00:00.120624 (4.29%)\n",
      "Wall time computing propagators: 0:00:02.360108 (83.99%)\n",
      "Wall time computing forward propagation: 0:00:00.021711 (0.77%)\n",
      "Wall time computing onward propagation: 0:00:00.025040 (0.89%)\n",
      "Wall time computing gradient: 0:00:00.225774 (8.04%)\n",
      "\n",
      "**** Iterations and function calls ****\n",
      "Number of iterations: 8\n",
      "Number of fidelity function calls: 14\n",
      "Number of times fidelity is computed: 14\n",
      "Number of gradient function calls: 13\n",
      "Number of times gradients are computed: 13\n",
      "Number of times timeslot evolution is recomputed: 14\n",
      "\n",
      "**** Control amplitudes ****\n",
      "Number of control amplitude updates: 13\n",
      "Mean number of updates per iteration: 1.625\n",
      "Number of timeslot values changed: 13000\n",
      "Mean number of timeslot changes per update: 1000.0\n",
      "Number of amplitude values changed: 13000\n",
      "Mean number of amplitude changes per update: 1000.0\n",
      "------------------------------------\n",
      "Final evolution\n",
      "Quantum object: dims=[[4], [4]], shape=(4, 4), type='oper', dtype=Dense, isherm=False\n",
      "Qobj data =\n",
      "[[ 5.40298994e-01 -1.56965600e-06 -7.01444086e-06  8.41473111e-01]\n",
      " [ 1.56965600e-06  5.40298994e-01 -8.41473111e-01 -7.01444087e-06]\n",
      " [-7.01444198e-06  8.41473111e-01  5.40298994e-01  1.05774201e-05]\n",
      " [-8.41473111e-01 -7.01444198e-06 -1.05774201e-05  5.40298994e-01]]\n",
      "\n",
      "********* Summary *****************\n",
      "Final fidelity error 6.093073931039467e-11\n",
      "Final gradient normal 8.70515286864752e-06\n",
      "Terminated due to Goal achieved\n",
      "Number of iterations 8\n",
      "Completed in 0:00:02.809863 HH:MM:SS.US\n"
     ]
    }
   ],
   "source": [
    "result.stats.report()\n",
    "print(\"Final evolution\\n{}\\n\".format(result.evo_full_final))\n",
    "print(\"********* Summary *****************\")\n",
    "print(\"Final fidelity error {}\".format(result.fid_err))\n",
    "print(\"Final gradient normal {}\".format(result.grad_norm_final))\n",
    "print(\"Terminated due to {}\".format(result.termination_reason))\n",
    "print(\"Number of iterations {}\".format(result.num_iter))\n",
    "print(\n",
    "    \"Completed in {} HH:MM:SS.US\".format(datetime.timedelta(seconds=result.wall_time))\n",
    ")"
   ]
  },
  {
   "cell_type": "markdown",
   "metadata": {},
   "source": [
    "### Plot the initial and final amplitudes"
   ]
  },
  {
   "cell_type": "code",
   "execution_count": 10,
   "metadata": {
    "collapsed": false
   },
   "outputs": [
    {
     "data": {
      "image/png": "[encoded data removed]",
      "text/plain": [
       "<Figure size 640x480 with 2 Axes>"
      ]
     },
     "metadata": {},
     "output_type": "display_data"
    }
   ],
   "source": [
    "fig1 = plt.figure()\n",
    "ax1 = fig1.add_subplot(2, 1, 1)\n",
    "ax1.set_title(\"Initial Control amps\")\n",
    "ax1.set_xlabel(\"Time\")\n",
    "ax1.set_ylabel(\"Control amplitude\")\n",
    "for j in range(n_ctrls):\n",
    "    ax1.step(\n",
    "        result.time,\n",
    "        np.hstack((result.initial_amps[:, j], result.initial_amps[-1, j])),\n",
    "        where=\"post\",\n",
    "    )\n",
    "\n",
    "ax2 = fig1.add_subplot(2, 1, 2)\n",
    "ax2.set_title(\"Optimised Control Amplitudes\")\n",
    "ax2.set_xlabel(\"Time\")\n",
    "ax2.set_ylabel(\"Control amplitude\")\n",
    "for j in range(n_ctrls):\n",
    "    ax2.step(\n",
    "        result.time,\n",
    "        np.hstack((result.final_amps[:, j], result.final_amps[-1, j])),\n",
    "        where=\"post\",\n",
    "    )\n",
    "\n",
    "plt.tight_layout()\n",
    "plt.show()"
   ]
  },
  {
   "cell_type": "markdown",
   "metadata": {},
   "source": [
    "### Versions"
   ]
  },
  {
   "cell_type": "code",
   "execution_count": 11,
   "metadata": {
    "collapsed": false
   },
   "outputs": [
    {
     "data": {
      "text/html": [
       "<table><tr><th>Software</th><th>Version</th></tr><tr><td>QuTiP</td><td>5.1.0.dev0+0b4260e</td></tr><tr><td>Numpy</td><td>1.26.4</td></tr><tr><td>SciPy</td><td>1.13.0</td></tr><tr><td>matplotlib</td><td>3.9.0</td></tr><tr><td>Number of CPUs</td><td>8</td></tr><tr><td>BLAS Info</td><td>Generic</td></tr><tr><td>IPython</td><td>8.25.0</td></tr><tr><td>Python</td><td>3.12.3 | packaged by Anaconda, Inc. | (main, May  6 2024, 19:46:43) [GCC 11.2.0]</td></tr><tr><td>OS</td><td>posix [linux]</td></tr><tr><td>Cython</td><td>3.0.10</td></tr><tr><td colspan='2'>Thu Jan 30 09:55:30 2025 IST</td></tr></table>"
      ],
      "text/plain": [
       "<IPython.core.display.HTML object>"
      ]
     },
     "execution_count": 11,
     "metadata": {},
     "output_type": "execute_result"
    }
   ],
   "source": [
    "from qutip.ipynbtools import version_table\n",
    "\n",
    "version_table()"
   ]
  },
  {
   "cell_type": "code",
   "execution_count": null,
   "metadata": {},
   "outputs": [],
   "source": []
  },
  {
   "cell_type": "code",
   "execution_count": null,
   "metadata": {},
   "outputs": [],
   "source": []
  }
 ],
 "metadata": {
  "kernelspec": {
   "display_name": "Python 3",
   "language": "python",
   "name": "python3"
  },
  "language_info": {
   "codemirror_mode": {
    "name": "ipython",
    "version": 3
   },
   "file_extension": ".py",
   "mimetype": "text/x-python",
   "name": "python",
   "nbconvert_exporter": "python",
   "pygments_lexer": "ipython3",
   "version": "3.12.3"
  }
 },
 "nbformat": 4,
 "nbformat_minor": 0
}
