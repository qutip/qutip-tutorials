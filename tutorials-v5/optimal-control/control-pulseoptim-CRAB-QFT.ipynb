{
 "cells": [
  {
   "cell_type": "markdown",
   "metadata": {},
   "source": [
    "# Calculation of control fields for QFT gate on two qubits using the CRAB algorithm"
   ]
  },
  {
   "cell_type": "markdown",
   "metadata": {},
   "source": [
    "Alexander Pitchford (agp1@aber.ac.uk)"
   ]
  },
  {
   "cell_type": "raw",
   "metadata": {},
   "source": [
    "Example to demonstrate using the CRAB [1][2] algorithm in the control library \n",
    "to determine control pulses using the ctrlpulseoptim.create_pulse_optimizer function to \n",
    "generate an Optimizer object, through which the configuration can be\n",
    "manipulated before running the optmisation algorithm. In this case it is\n",
    "demonstrated by modifying the CRAB pulse parameters to show how pulse constraints\n",
    "for controls can be applied.\n",
    "\n",
    "The system in this example is two qubits in constant fields in x, y and z\n",
    "with a variable independant controls fields in x and y acting on each qubit\n",
    "The target evolution is the QFT gate. The user can experiment with the\n",
    "different:\n",
    "    phase options - phase_option = SU or PSU\n",
    "    propagtor computer type prop_type = DIAG or FRECHET\n",
    "    fidelity measures - fid_type = UNIT or TRACEDIFF\n",
    "\n",
    "The user can experiment with the timeslicing, by means of changing the\n",
    "number of timeslots and/or total time for the evolution.\n",
    "Different guess and ramping pulse parameters can be tried.\n",
    "The initial and final pulses are displayed in a plot"
   ]
  },
  {
   "cell_type": "code",
   "execution_count": 3,
   "metadata": {
    "collapsed": false
   },
   "outputs": [],
   "source": [
    "import datetime\n",
    "\n",
    "import matplotlib.pyplot as plt\n",
    "import numpy as np\n",
    "\n",
    "import qutip_qtrl.pulsegen as pulsegen\n",
    "import qutip_qtrl.pulseoptim as cpo\n",
    "from qutip import identity, sigmax, sigmay, sigmaz, tensor, about\n",
    "from qutip_qip.algorithms import qft\n",
    "\n",
    "example_name = \"QFT\"\n",
    "%matplotlib inline\n"
   ]
  },
  {
   "cell_type": "markdown",
   "metadata": {},
   "source": [
    "### Defining the physics"
   ]
  },
  {
   "cell_type": "code",
   "execution_count": 4,
   "metadata": {
    "collapsed": false
   },
   "outputs": [],
   "source": [
    "Sx = sigmax()\n",
    "Sy = sigmay()\n",
    "Sz = sigmaz()\n",
    "Si = 0.5 * identity(2)\n",
    "\n",
    "# Drift Hamiltonian\n",
    "H_d = 0.5 * (tensor(Sx, Sx) + tensor(Sy, Sy) + tensor(Sz, Sz))\n",
    "# The (four) control Hamiltonians\n",
    "H_c = [tensor(Sx, Si), tensor(Sy, Si), tensor(Si, Sx), tensor(Si, Sy)]\n",
    "n_ctrls = len(H_c)\n",
    "# start point for the gate evolution\n",
    "U_0 = identity(4)\n",
    "# Target for the gate evolution - Quantum Fourier Transform gate\n",
    "U_targ = qft(2)"
   ]
  },
  {
   "cell_type": "markdown",
   "metadata": {},
   "source": [
    "### Defining the time evolution parameters"
   ]
  },
  {
   "cell_type": "code",
   "execution_count": 5,
   "metadata": {
    "collapsed": false
   },
   "outputs": [],
   "source": [
    "# Number of time slots\n",
    "n_ts = 200\n",
    "# Time allowed for the evolution\n",
    "evo_time = 10"
   ]
  },
  {
   "cell_type": "markdown",
   "metadata": {},
   "source": [
    "### Set the conditions which will cause the pulse optimisation to terminate"
   ]
  },
  {
   "cell_type": "code",
   "execution_count": 6,
   "metadata": {
    "collapsed": false
   },
   "outputs": [],
   "source": [
    "# Fidelity error target\n",
    "fid_err_targ = 1e-3\n",
    "# Maximum iterations for the optisation algorithm\n",
    "max_iter = 20000\n",
    "# Maximum (elapsed) time allowed in seconds\n",
    "max_wall_time = 300"
   ]
  },
  {
   "cell_type": "markdown",
   "metadata": {},
   "source": [
    "### Give an extension for output files"
   ]
  },
  {
   "cell_type": "code",
   "execution_count": 7,
   "metadata": {
    "collapsed": false
   },
   "outputs": [],
   "source": [
    "# Set to None to suppress output files\n",
    "f_ext = \"{}_n_ts{}.txt\".format(example_name, n_ts)"
   ]
  },
  {
   "cell_type": "markdown",
   "metadata": {},
   "source": [
    "### Create the optimiser objects"
   ]
  },
  {
   "cell_type": "code",
   "execution_count": 8,
   "metadata": {
    "collapsed": false
   },
   "outputs": [],
   "source": [
    "optim = cpo.create_pulse_optimizer(\n",
    "    H_d,\n",
    "    H_c,\n",
    "    U_0,\n",
    "    U_targ,\n",
    "    n_ts,\n",
    "    evo_time,\n",
    "    fid_err_targ=fid_err_targ,\n",
    "    max_iter=max_iter,\n",
    "    max_wall_time=max_wall_time,\n",
    "    alg=\"CRAB\",\n",
    "    dyn_type=\"UNIT\",\n",
    "    prop_type=\"DIAG\",\n",
    "    fid_type=\"UNIT\",\n",
    "    fid_params={\"phase_option\": \"PSU\"},\n",
    "    gen_stats=True,\n",
    ")"
   ]
  },
  {
   "cell_type": "markdown",
   "metadata": {},
   "source": [
    "### Configure the pulses for each of the controls"
   ]
  },
  {
   "cell_type": "code",
   "execution_count": 9,
   "metadata": {
    "collapsed": false
   },
   "outputs": [],
   "source": [
    "dyn = optim.dynamics\n",
    "\n",
    "# Control 1\n",
    "crab_pgen = optim.pulse_generator[0]\n",
    "# Start from a ramped pulse\n",
    "guess_pgen = pulsegen.create_pulse_gen(\"LIN\", dyn=dyn, pulse_params={\"scaling\": 3.0})\n",
    "crab_pgen.guess_pulse = guess_pgen.gen_pulse()\n",
    "crab_pgen.scaling = 0.0\n",
    "# Add some higher frequency components\n",
    "crab_pgen.num_coeffs = 5\n",
    "\n",
    "# Control 2\n",
    "crab_pgen = optim.pulse_generator[1]\n",
    "# Apply a ramping pulse that will force the start and end to zero\n",
    "ramp_pgen = pulsegen.create_pulse_gen(\n",
    "    \"GAUSSIAN_EDGE\", dyn=dyn, pulse_params={\"decay_time\": evo_time / 50.0}\n",
    ")\n",
    "crab_pgen.ramping_pulse = ramp_pgen.gen_pulse()\n",
    "\n",
    "# Control 3\n",
    "crab_pgen = optim.pulse_generator[2]\n",
    "# Add bounds\n",
    "crab_pgen.scaling = 0.5\n",
    "crab_pgen.lbound = -2.0\n",
    "crab_pgen.ubound = 2.0\n",
    "\n",
    "\n",
    "# Control 4\n",
    "crab_pgen = optim.pulse_generator[3]\n",
    "# Start from a triangular pulse with small signal\n",
    "guess_pgen = pulsegen.PulseGenTriangle(dyn=dyn)\n",
    "guess_pgen.num_waves = 1\n",
    "guess_pgen.scaling = 2.0\n",
    "guess_pgen.offset = 2.0\n",
    "crab_pgen.guess_pulse = guess_pgen.gen_pulse()\n",
    "crab_pgen.scaling = 0.1\n",
    "\n",
    "init_amps = np.zeros([n_ts, n_ctrls])\n",
    "for j in range(dyn.num_ctrls):\n",
    "    pgen = optim.pulse_generator[j]\n",
    "    pgen.init_pulse()\n",
    "    init_amps[:, j] = pgen.gen_pulse()\n",
    "\n",
    "dyn.initialize_controls(init_amps)"
   ]
  },
  {
   "cell_type": "markdown",
   "metadata": {},
   "source": [
    "### Run the pulse optimisation"
   ]
  },
  {
   "cell_type": "code",
   "execution_count": 10,
   "metadata": {
    "collapsed": false
   },
   "outputs": [
    {
     "name": "stdout",
     "output_type": "stream",
     "text": [
      "Initial amplitudes output to file: ctrl_amps_initial_QFT_n_ts200.txt\n",
      "***********************************\n",
      "Starting pulse optimisation\n",
      "Final amplitudes output to file: ctrl_amps_final_QFT_n_ts200.txt\n"
     ]
    }
   ],
   "source": [
    "# Save initial amplitudes to a text file\n",
    "if f_ext is not None:\n",
    "    pulsefile = \"ctrl_amps_initial_\" + f_ext\n",
    "    dyn.save_amps(pulsefile)\n",
    "    print(\"Initial amplitudes output to file: \" + pulsefile)\n",
    "\n",
    "print(\"***********************************\")\n",
    "print(\"Starting pulse optimisation\")\n",
    "result = optim.run_optimization()\n",
    "\n",
    "# Save final amplitudes to a text file\n",
    "if f_ext is not None:\n",
    "    pulsefile = \"ctrl_amps_final_\" + f_ext\n",
    "    dyn.save_amps(pulsefile)\n",
    "    print(\"Final amplitudes output to file: \" + pulsefile)"
   ]
  },
  {
   "cell_type": "markdown",
   "metadata": {},
   "source": [
    "### Report the results"
   ]
  },
  {
   "cell_type": "code",
   "execution_count": 11,
   "metadata": {
    "collapsed": false
   },
   "outputs": [
    {
     "name": "stdout",
     "output_type": "stream",
     "text": [
      "\n",
      "------------------------------------\n",
      "---- Control optimisation stats ----\n",
      "**** Timings (HH:MM:SS.US) ****\n",
      "Total wall time elapsed during optimisation: 0:05:00.006690\n",
      "Wall time computing Hamiltonians: 0:00:21.529010 (7.18%)\n",
      "Wall time computing propagators: 0:04:30.366652 (90.12%)\n",
      "Wall time computing forward propagation: 0:00:02.221282 (0.74%)\n",
      "Wall time computing onward propagation: 0:00:02.051295 (0.68%)\n",
      "Wall time computing gradient: 0:00:00 (0.00%)\n",
      "\n",
      "**** Iterations and function calls ****\n",
      "Number of iterations: 6185\n",
      "Number of fidelity function calls: 7406\n",
      "Number of times fidelity is computed: 7406\n",
      "Number of gradient function calls: 0\n",
      "Number of times gradients are computed: 0\n",
      "Number of times timeslot evolution is recomputed: 7406\n",
      "\n",
      "**** Control amplitudes ****\n",
      "Number of control amplitude updates: 7405\n",
      "Mean number of updates per iteration: 1.1972514147130153\n",
      "Number of timeslot values changed: 1480999\n",
      "Mean number of timeslot changes per update: 199.99986495611074\n",
      "Number of amplitude values changed: 5907796\n",
      "Mean number of amplitude changes per update: 797.8117488183659\n",
      "------------------------------------\n",
      "Final evolution\n",
      "Quantum object: dims=[[4], [4]], shape=(4, 4), type='oper', dtype=Dense, isherm=False\n",
      "Qobj data =\n",
      "[[ 0.15402916-0.37243532j  0.23963502-0.54775723j  0.2544508 -0.43103584j\n",
      "   0.10906561-0.4665529j ]\n",
      " [ 0.09591254-0.38015891j  0.50948967+0.26249735j -0.33755149+0.30906987j\n",
      "  -0.47261822-0.29148282j]\n",
      " [ 0.32429162-0.47503285j -0.12865343+0.31471319j  0.28103438-0.3877747j\n",
      "  -0.27708582+0.49745005j]\n",
      " [ 0.12485101-0.58089405j -0.4350987 -0.09563222j -0.01207402+0.55722741j\n",
      "   0.36899222-0.04140656j]]\n",
      "\n",
      "********* Summary *****************\n",
      "Initial fidelity error 0.7783369245259271\n",
      "Final fidelity error 0.03836576386429491\n",
      "Terminated due to Max wall time exceeded\n",
      "Number of iterations 6186\n",
      "Completed in 0:05:00.006690 HH:MM:SS.US\n"
     ]
    }
   ],
   "source": [
    "result.stats.report()\n",
    "print(\"Final evolution\\n{}\\n\".format(result.evo_full_final))\n",
    "print(\"********* Summary *****************\")\n",
    "print(\"Initial fidelity error {}\".format(result.initial_fid_err))\n",
    "print(\"Final fidelity error {}\".format(result.fid_err))\n",
    "print(\"Terminated due to {}\".format(result.termination_reason))\n",
    "print(\"Number of iterations {}\".format(result.num_iter))\n",
    "print(\n",
    "    \"Completed in {} HH:MM:SS.US\".format(datetime.timedelta(seconds=result.wall_time))\n",
    ")"
   ]
  },
  {
   "cell_type": "markdown",
   "metadata": {},
   "source": [
    "### Plot the initial and final amplitudes"
   ]
  },
  {
   "cell_type": "code",
   "execution_count": 12,
   "metadata": {
    "collapsed": false
   },
   "outputs": [
    {
     "data": {
      "image/png": "[encoded data removed]",
      "text/plain": [
       "<Figure size 640x480 with 2 Axes>"
      ]
     },
     "metadata": {},
     "output_type": "display_data"
    }
   ],
   "source": [
    "fig1 = plt.figure()\n",
    "ax1 = fig1.add_subplot(2, 1, 1)\n",
    "ax1.set_title(\"Initial Control amps\")\n",
    "ax1.set_xlabel(\"Time\")\n",
    "ax1.set_ylabel(\"Control amplitude\")\n",
    "for j in range(n_ctrls):\n",
    "    ax1.step(\n",
    "        result.time,\n",
    "        np.hstack((result.initial_amps[:, j], result.initial_amps[-1, j])),\n",
    "        where=\"post\",\n",
    "    )\n",
    "ax2 = fig1.add_subplot(2, 1, 2)\n",
    "ax2.set_title(\"Optimised Control Amplitudes\")\n",
    "ax2.set_xlabel(\"Time\")\n",
    "ax2.set_ylabel(\"Control amplitude\")\n",
    "for j in range(n_ctrls):\n",
    "    ax2.step(\n",
    "        result.time,\n",
    "        np.hstack((result.final_amps[:, j], result.final_amps[-1, j])),\n",
    "        where=\"post\",\n",
    "        label=\"u{}\".format(j),\n",
    "    )\n",
    "ax2.legend(loc=8, ncol=n_ctrls)\n",
    "plt.tight_layout()\n",
    "plt.show()"
   ]
  },
  {
   "cell_type": "markdown",
   "metadata": {},
   "source": [
    "### Versions"
   ]
  },
  {
   "cell_type": "code",
   "execution_count": 13,
   "metadata": {
    "collapsed": false
   },
   "outputs": [
    {
     "name": "stdout",
     "output_type": "stream",
     "text": [
      "\n",
      "QuTiP: Quantum Toolbox in Python\n",
      "================================\n",
      "Copyright (c) QuTiP team 2011 and later.\n",
      "Current admin team: Alexander Pitchford, Nathan Shammah, Shahnawaz Ahmed, Neill Lambert, Eric Giguère, Boxi Li, Simon Cross, Asier Galicia, Paul Menczel, and Patrick Hopf.\n",
      "Board members: Daniel Burgarth, Robert Johansson, Anton F. Kockum, Franco Nori and Will Zeng.\n",
      "Original developers: R. J. Johansson & P. D. Nation.\n",
      "Previous lead developers: Chris Granade & A. Grimsmo.\n",
      "Currently developed through wide collaboration. See https://github.com/qutip for details.\n",
      "\n",
      "QuTiP Version:      5.1.1\n",
      "Numpy Version:      1.26.4\n",
      "Scipy Version:      1.13.0\n",
      "Cython Version:     3.0.10\n",
      "Matplotlib Version: 3.9.0\n",
      "Python Version:     3.12.3\n",
      "Number of CPUs:     8\n",
      "BLAS Info:          Generic\n",
      "INTEL MKL Ext:      /home/rochisha/miniconda3/envs/qutip-dev/lib/libmkl_rt.so.2\n",
      "Platform Info:      Linux (x86_64)\n",
      "Installation path:  /home/rochisha/miniconda3/envs/qutip-dev/lib/python3.12/site-packages/qutip\n",
      "\n",
      "Installed QuTiP family packages\n",
      "-------------------------------\n",
      "\n",
      "No QuTiP family packages installed.\n",
      "\n",
      "================================================================================\n",
      "Please cite QuTiP in your publication.\n",
      "================================================================================\n",
      "For your convenience a bibtex reference can be easily generated using `qutip.cite()`\n"
     ]
    }
   ],
   "source": [
    "about()"
   ]
  },
  {
   "cell_type": "raw",
   "metadata": {},
   "source": [
    "References:\n",
    "\n",
    "3.  Doria, P., Calarco, T. & Montangero, S. \n",
    "    Optimal Control Technique for Many-Body Quantum Dynamics. \n",
    "    Phys. Rev. Lett. 106, 1–4 (2011).\n",
    "\n",
    "4.  Caneva, T., Calarco, T. & Montangero, S. \n",
    "    Chopped random-basis quantum optimization. \n",
    "    Phys. Rev. A - At. Mol. Opt. Phys. 84, (2011)."
   ]
  },
  {
   "cell_type": "raw",
   "metadata": {},
   "source": []
  }
 ],
 "metadata": {
  "kernelspec": {
   "display_name": "Python 3",
   "language": "python",
   "name": "python3"
  },
  "language_info": {
   "codemirror_mode": {
    "name": "ipython",
    "version": 3
   },
   "file_extension": ".py",
   "mimetype": "text/x-python",
   "name": "python",
   "nbconvert_exporter": "python",
   "pygments_lexer": "ipython3",
   "version": "3.12.3"
  }
 },
 "nbformat": 4,
 "nbformat_minor": 0
}
