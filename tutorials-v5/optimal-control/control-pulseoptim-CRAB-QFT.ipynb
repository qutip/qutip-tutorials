{
 "cells": [
  {
   "cell_type": "markdown",
   "metadata": {},
   "source": [
    "# Calculation of control fields for QFT gate on two qubits using the CRAB algorithm"
   ]
  },
  {
   "cell_type": "markdown",
   "metadata": {},
   "source": [
    "Alexander Pitchford (agp1@aber.ac.uk)"
   ]
  },
  {
   "cell_type": "raw",
   "metadata": {},
   "source": [
    "Example to demonstrate using the CRAB [1][2] algorithm in the control library \n",
    "to determine control pulses using the ctrlpulseoptim.create_pulse_optimizer function to \n",
    "generate an Optimizer object, through which the configuration can be\n",
    "manipulated before running the optmisation algorithm. In this case it is\n",
    "demonstrated by modifying the CRAB pulse parameters to show how pulse constraints\n",
    "for controls can be applied.\n",
    "\n",
    "The system in this example is two qubits in constant fields in x, y and z\n",
    "with a variable independant controls fields in x and y acting on each qubit\n",
    "The target evolution is the QFT gate. The user can experiment with the\n",
    "different:\n",
    "    phase options - phase_option = SU or PSU\n",
    "    propagtor computer type prop_type = DIAG or FRECHET\n",
    "    fidelity measures - fid_type = UNIT or TRACEDIFF\n",
    "\n",
    "The user can experiment with the timeslicing, by means of changing the\n",
    "number of timeslots and/or total time for the evolution.\n",
    "Different guess and ramping pulse parameters can be tried.\n",
    "The initial and final pulses are displayed in a plot"
   ]
  },
  {
   "cell_type": "code",
   "execution_count": 1,
   "metadata": {
    "collapsed": false
   },
   "outputs": [],
   "source": [
    "%matplotlib inline\n",
    "import numpy as np\n",
    "import matplotlib.pyplot as plt\n",
    "import datetime"
   ]
  },
  {
   "cell_type": "code",
   "execution_count": 2,
   "metadata": {
    "collapsed": false
   },
   "outputs": [],
   "source": [
    "from qutip import Qobj, identity, sigmax, sigmay, sigmaz, tensor\n",
    "from qutip_qip.algorithms import qft\n",
    "\n",
    "#QuTiP control modules\n",
    "import qutip_qtrl.pulseoptim as cpo\n",
    "import qutip_qtrl.pulsegen as pulsegen\n",
    "\n",
    "example_name = 'QFT'\n"
   ]
  },
  {
   "cell_type": "markdown",
   "metadata": {},
   "source": [
    "### Defining the physics"
   ]
  },
  {
   "cell_type": "code",
   "execution_count": 3,
   "metadata": {
    "collapsed": false
   },
   "outputs": [],
   "source": [
    "Sx = sigmax()\n",
    "Sy = sigmay()\n",
    "Sz = sigmaz()\n",
    "Si = 0.5*identity(2)\n",
    "\n",
    "# Drift Hamiltonian\n",
    "H_d = 0.5*(tensor(Sx, Sx) + tensor(Sy, Sy) + tensor(Sz, Sz))\n",
    "# The (four) control Hamiltonians\n",
    "H_c = [tensor(Sx, Si), tensor(Sy, Si), tensor(Si, Sx), tensor(Si, Sy)]\n",
    "n_ctrls = len(H_c)\n",
    "# start point for the gate evolution\n",
    "U_0 = identity(4)\n",
    "# Target for the gate evolution - Quantum Fourier Transform gate\n",
    "U_targ = qft(2)"
   ]
  },
  {
   "cell_type": "markdown",
   "metadata": {},
   "source": [
    "### Defining the time evolution parameters"
   ]
  },
  {
   "cell_type": "code",
   "execution_count": 4,
   "metadata": {
    "collapsed": false
   },
   "outputs": [],
   "source": [
    "# Number of time slots\n",
    "n_ts = 200\n",
    "# Time allowed for the evolution\n",
    "evo_time = 10"
   ]
  },
  {
   "cell_type": "markdown",
   "metadata": {},
   "source": [
    "### Set the conditions which will cause the pulse optimisation to terminate"
   ]
  },
  {
   "cell_type": "code",
   "execution_count": 5,
   "metadata": {
    "collapsed": false
   },
   "outputs": [],
   "source": [
    "# Fidelity error target\n",
    "fid_err_targ = 1e-3\n",
    "# Maximum iterations for the optisation algorithm\n",
    "max_iter = 20000\n",
    "# Maximum (elapsed) time allowed in seconds\n",
    "max_wall_time = 300"
   ]
  },
  {
   "cell_type": "markdown",
   "metadata": {},
   "source": [
    "### Give an extension for output files"
   ]
  },
  {
   "cell_type": "code",
   "execution_count": 6,
   "metadata": {
    "collapsed": false
   },
   "outputs": [],
   "source": [
    "#Set to None to suppress output files\n",
    "f_ext = \"{}_n_ts{}.txt\".format(example_name, n_ts)"
   ]
  },
  {
   "cell_type": "markdown",
   "metadata": {},
   "source": [
    "### Create the optimiser objects"
   ]
  },
  {
   "cell_type": "code",
   "execution_count": 7,
   "metadata": {
    "collapsed": false
   },
   "outputs": [],
   "source": [
    "optim = cpo.create_pulse_optimizer(H_d, H_c, U_0, U_targ, n_ts, evo_time, \n",
    "                fid_err_targ=fid_err_targ, \n",
    "                max_iter=max_iter, max_wall_time=max_wall_time,\n",
    "                alg='CRAB', \n",
    "                dyn_type='UNIT', \n",
    "                prop_type='DIAG', \n",
    "                fid_type='UNIT', fid_params={'phase_option':'PSU'}, \n",
    "                gen_stats=True)\n",
    "                "
   ]
  },
  {
   "cell_type": "markdown",
   "metadata": {},
   "source": [
    "### Configure the pulses for each of the controls"
   ]
  },
  {
   "cell_type": "code",
   "execution_count": 8,
   "metadata": {
    "collapsed": false
   },
   "outputs": [],
   "source": [
    "dyn = optim.dynamics\n",
    "\n",
    "# Control 1\n",
    "crab_pgen = optim.pulse_generator[0]\n",
    "# Start from a ramped pulse\n",
    "guess_pgen = pulsegen.create_pulse_gen('LIN', dyn=dyn, \n",
    "                                           pulse_params={'scaling':3.0})\n",
    "crab_pgen.guess_pulse = guess_pgen.gen_pulse()\n",
    "crab_pgen.scaling = 0.0\n",
    "# Add some higher frequency components\n",
    "crab_pgen.num_coeffs = 5\n",
    "\n",
    "# Control 2\n",
    "crab_pgen = optim.pulse_generator[1]\n",
    "# Apply a ramping pulse that will force the start and end to zero\n",
    "ramp_pgen = pulsegen.create_pulse_gen('GAUSSIAN_EDGE', dyn=dyn, \n",
    "                                    pulse_params={'decay_time':evo_time/50.0})\n",
    "crab_pgen.ramping_pulse = ramp_pgen.gen_pulse()\n",
    "\n",
    "# Control 3\n",
    "crab_pgen = optim.pulse_generator[2]\n",
    "# Add bounds\n",
    "crab_pgen.scaling = 0.5\n",
    "crab_pgen.lbound = -2.0\n",
    "crab_pgen.ubound = 2.0\n",
    "\n",
    "\n",
    "# Control 4\n",
    "crab_pgen = optim.pulse_generator[3]\n",
    "# Start from a triangular pulse with small signal\n",
    "guess_pgen = pulsegen.PulseGenTriangle(dyn=dyn)\n",
    "guess_pgen.num_waves = 1\n",
    "guess_pgen.scaling = 2.0\n",
    "guess_pgen.offset = 2.0\n",
    "crab_pgen.guess_pulse = guess_pgen.gen_pulse()\n",
    "crab_pgen.scaling = 0.1\n",
    "\n",
    "init_amps = np.zeros([n_ts, n_ctrls])\n",
    "for j in range(dyn.num_ctrls):\n",
    "    pgen = optim.pulse_generator[j]\n",
    "    pgen.init_pulse()\n",
    "    init_amps[:, j] = pgen.gen_pulse()\n",
    "\n",
    "dyn.initialize_controls(init_amps)"
   ]
  },
  {
   "cell_type": "markdown",
   "metadata": {},
   "source": [
    "### Run the pulse optimisation"
   ]
  },
  {
   "cell_type": "code",
   "execution_count": 9,
   "metadata": {
    "collapsed": false
   },
   "outputs": [
    {
     "name": "stdout",
     "output_type": "stream",
     "text": [
      "Initial amplitudes output to file: ctrl_amps_initial_QFT_n_ts200.txt\n",
      "***********************************\n",
      "Starting pulse optimisation\n"
     ]
    }
   ],
   "source": [
    "# Save initial amplitudes to a text file\n",
    "if f_ext is not None:\n",
    "    pulsefile = \"ctrl_amps_initial_\" + f_ext\n",
    "    dyn.save_amps(pulsefile)\n",
    "    print(\"Initial amplitudes output to file: \" + pulsefile)\n",
    "\n",
    "print(\"***********************************\")\n",
    "print(\"Starting pulse optimisation\")\n",
    "result = optim.run_optimization()\n",
    "\n",
    "# Save final amplitudes to a text file\n",
    "if f_ext is not None:\n",
    "    pulsefile = \"ctrl_amps_final_\" + f_ext\n",
    "    dyn.save_amps(pulsefile)\n",
    "    print(\"Final amplitudes output to file: \" + pulsefile)"
   ]
  },
  {
   "cell_type": "markdown",
   "metadata": {},
   "source": [
    "### Report the results"
   ]
  },
  {
   "cell_type": "code",
   "execution_count": null,
   "metadata": {
    "collapsed": false
   },
   "outputs": [
    {
     "name": "stdout",
     "output_type": "stream",
     "text": [
      "\n",
      "------------------------------------\n",
      "---- Control optimisation stats ----\n",
      "**** Timings (HH:MM:SS.US) ****\n",
      "Total wall time elapsed during optimisation: 0:05:00.003775\n",
      "Wall time computing Hamiltonians: 0:00:22.547817 (7.52%)\n",
      "Wall time computing propagators: 0:04:24.789280 (88.26%)\n",
      "Wall time computing forward propagation: 0:00:03.857988 (1.29%)\n",
      "Wall time computing onward propagation: 0:00:03.634444 (1.21%)\n",
      "Wall time computing gradient: 0:00:00 (0.00%)\n",
      "\n",
      "**** Iterations and function calls ****\n",
      "Number of iterations: 8610\n",
      "Number of fidelity function calls: 10459\n",
      "Number of times fidelity is computed: 10459\n",
      "Number of gradient function calls: 0\n",
      "Number of times gradients are computed: 0\n",
      "Number of times timeslot evolution is recomputed: 10459\n",
      "\n",
      "**** Control amplitudes ****\n",
      "Number of control amplitude updates: 10458\n",
      "Mean number of updates per iteration: 1.2146341463414634\n",
      "Number of timeslot values changed: 2091599\n",
      "Mean number of timeslot changes per update: 199.99990437942245\n",
      "Number of amplitude values changed: 8350196\n",
      "Mean number of amplitude changes per update: 798.4505641614076\n",
      "------------------------------------\n",
      "Final evolution\n",
      "Quantum object: dims = [[4], [4]], shape = (4, 4), type = oper, isherm = False\n",
      "Qobj data =\n",
      "[[-0.47890815-0.25124383j -0.47862720-0.14293885j -0.47089104-0.19654053j\n",
      "  -0.39814103-0.19780087j]\n",
      " [-0.48524763-0.18754841j  0.19902638-0.45262542j  0.45666538+0.17490099j\n",
      "  -0.22150294+0.44348832j]\n",
      " [-0.44119050-0.18412439j  0.49542987+0.17619236j -0.42828736-0.17952947j\n",
      "   0.50360656+0.16023168j]\n",
      " [-0.41755379-0.18434167j -0.18861574+0.44037804j  0.50645054+0.16836502j\n",
      "   0.23840544-0.4695553j ]]\n",
      "\n",
      "********* Summary *****************\n",
      "Initial fidelity error 0.9483036893449602\n",
      "Final fidelity error 0.0032564547889728512\n",
      "Terminated due to Max wall time exceeded\n",
      "Number of iterations 8611\n",
      "Completed in 0:05:00.003775 HH:MM:SS.US\n"
     ]
    }
   ],
   "source": [
    "result.stats.report()\n",
    "print(\"Final evolution\\n{}\\n\".format(result.evo_full_final))\n",
    "print(\"********* Summary *****************\")\n",
    "print(\"Initial fidelity error {}\".format(result.initial_fid_err))\n",
    "print(\"Final fidelity error {}\".format(result.fid_err))\n",
    "print(\"Terminated due to {}\".format(result.termination_reason))\n",
    "print(\"Number of iterations {}\".format(result.num_iter))\n",
    "print(\"Completed in {} HH:MM:SS.US\".format(\n",
    "        datetime.timedelta(seconds=result.wall_time)))"
   ]
  },
  {
   "cell_type": "markdown",
   "metadata": {},
   "source": [
    "### Plot the initial and final amplitudes"
   ]
  },
  {
   "cell_type": "code",
   "execution_count": null,
   "metadata": {
    "collapsed": false
   },
   "outputs": [
    {
     "data": {
      "image/png": "[encoded data removed]",
      "text/plain": [
       "<matplotlib.figure.Figure at 0x7fc8e09cc128>"
      ]
     },
     "metadata": {},
     "output_type": "display_data"
    }
   ],
   "source": [
    "fig1 = plt.figure()\n",
    "ax1 = fig1.add_subplot(2, 1, 1)\n",
    "ax1.set_title(\"Initial Control amps\")\n",
    "ax1.set_xlabel(\"Time\")\n",
    "ax1.set_ylabel(\"Control amplitude\")\n",
    "for j in range(n_ctrls):\n",
    "    ax1.step(result.time, \n",
    "             np.hstack((result.initial_amps[:, j], result.initial_amps[-1, j])), \n",
    "             where='post')\n",
    "ax2 = fig1.add_subplot(2, 1, 2)\n",
    "ax2.set_title(\"Optimised Control Amplitudes\")\n",
    "ax2.set_xlabel(\"Time\")\n",
    "ax2.set_ylabel(\"Control amplitude\")\n",
    "for j in range(n_ctrls):\n",
    "    ax2.step(result.time, \n",
    "             np.hstack((result.final_amps[:, j], result.final_amps[-1, j])), \n",
    "             where='post', label='u{}'.format(j))\n",
    "ax2.legend(loc=8, ncol=n_ctrls)\n",
    "plt.tight_layout()\n",
    "plt.show()"
   ]
  },
  {
   "cell_type": "markdown",
   "metadata": {},
   "source": [
    "### Versions"
   ]
  },
  {
   "cell_type": "code",
   "execution_count": null,
   "metadata": {
    "collapsed": false
   },
   "outputs": [
    {
     "data": {
      "text/html": [
       "<table><tr><th>Software</th><th>Version</th></tr><tr><td>QuTiP</td><td>4.1.0</td></tr><tr><td>Numpy</td><td>1.11.3</td></tr><tr><td>SciPy</td><td>0.18.1</td></tr><tr><td>matplotlib</td><td>2.0.0</td></tr><tr><td>Cython</td><td>0.25.2</td></tr><tr><td>Number of CPUs</td><td>4</td></tr><tr><td>BLAS Info</td><td>INTEL MKL</td></tr><tr><td>IPython</td><td>5.1.0</td></tr><tr><td>Python</td><td>3.6.0 |Anaconda 4.3.1 (64-bit)| (default, Dec 23 2016, 12:22:00) \n",
       "[GCC 4.4.7 20120313 (Red Hat 4.4.7-1)]</td></tr><tr><td>OS</td><td>posix [linux]</td></tr><tr><td colspan='2'>Fri Jul 14 16:41:51 2017 BST</td></tr></table>"
      ],
      "text/plain": [
       "<IPython.core.display.HTML object>"
      ]
     },
     "execution_count": 13,
     "metadata": {},
     "output_type": "execute_result"
    }
   ],
   "source": [
    "from qutip.ipynbtools import version_table\n",
    "\n",
    "version_table()"
   ]
  },
  {
   "cell_type": "raw",
   "metadata": {},
   "source": [
    "References:\n",
    "\n",
    "3.  Doria, P., Calarco, T. & Montangero, S. \n",
    "    Optimal Control Technique for Many-Body Quantum Dynamics. \n",
    "    Phys. Rev. Lett. 106, 1–4 (2011).\n",
    "\n",
    "4.  Caneva, T., Calarco, T. & Montangero, S. \n",
    "    Chopped random-basis quantum optimization. \n",
    "    Phys. Rev. A - At. Mol. Opt. Phys. 84, (2011)."
   ]
  }
 ],
 "metadata": {
  "kernelspec": {
   "display_name": "Python 3",
   "language": "python",
   "name": "python3"
  },
  "language_info": {
   "codemirror_mode": {
    "name": "ipython",
    "version": 3
   },
   "file_extension": ".py",
   "mimetype": "text/x-python",
   "name": "python",
   "nbconvert_exporter": "python",
   "pygments_lexer": "ipython3",
   "version": "3.12.3"
  }
 },
 "nbformat": 4,
 "nbformat_minor": 0
}
