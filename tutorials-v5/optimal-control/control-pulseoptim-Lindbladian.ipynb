{
 "cells": [
  {
   "cell_type": "markdown",
   "metadata": {},
   "source": [
    "# Calculation of control fields for Lindbladian dynamics using L-BFGS-B algorithm"
   ]
  },
  {
   "cell_type": "markdown",
   "metadata": {},
   "source": [
    "Christian Arenz (christianarenz.ca@gmail.com), Alexander Pitchford (alex.pitchford@gmail.com)"
   ]
  },
  {
   "cell_type": "markdown",
   "metadata": {},
   "source": [
    "Example to demonstrate using the control library to determine control pulses using the ctrlpulseoptim.optimize_pulse function. The (default) L-BFGS-B algorithm is used to optimise the pulse to\n",
    "minimise the fidelity error, which in this case is given by the 'Trace difference' norm.\n",
    "\n",
    "This in an open quantum system example, with a single qubit subject to an amplitude damping channel. The target evolution is the Hadamard gate. For a $d$ dimensional quantum system in general we represent the Lindbladian\n",
    "as a $d^2 \\times d^2$ dimensional matrix by creating the Liouvillian superoperator. Here done for the Lindbladian that describes the amplitude damping channel. Similarly the control generators acting on the qubit are also converted to superoperators. The initial and target maps also need to be in superoperator form. \n",
    "\n",
    "The user can experiment with the strength of the amplitude damping by changing the gamma variable value. If the rate is sufficiently small then the target fidelity can be achieved within the given tolerence. The drift Hamiltonian and control generators can also be swapped and changed to experiment with controllable and uncontrollable setups.\n",
    "\n",
    "The user can experiment with the timeslicing, by means of changing the\n",
    "number of timeslots and/or total time for the evolution.\n",
    "Different initial (starting) pulse types can be tried.\n",
    "The initial and final pulses are displayed in a plot\n",
    "\n",
    "For more background on the pulse optimisation see:\n",
    "[QuTiP overview - Optimal Control](http://nbviewer.ipython.org/github/qutip/qutip-notebooks/blob/master/examples/example-optimal-control-overview.ipynb)  "
   ]
  },
  {
   "cell_type": "code",
   "execution_count": 1,
   "metadata": {},
   "outputs": [],
   "source": [
    "%matplotlib inline\n",
    "import numpy as np\n",
    "import matplotlib.pyplot as plt\n",
    "import datetime"
   ]
  },
  {
   "cell_type": "code",
   "execution_count": 2,
   "metadata": {},
   "outputs": [],
   "source": [
    "from qutip import Qobj, identity, sigmax, sigmay, sigmaz, sigmam, tensor\n",
    "from qutip import liouvillian, sprepost\n",
    "from qutip_qip.operations import hadamard_transform\n",
    "\n",
    "#QuTiP control modules\n",
    "import qutip_qtrl.pulseoptim as cpo\n",
    "\n",
    "example_name = 'Lindblad'"
   ]
  },
  {
   "cell_type": "markdown",
   "metadata": {},
   "source": [
    "### Defining the physics"
   ]
  },
  {
   "cell_type": "code",
   "execution_count": 3,
   "metadata": {},
   "outputs": [],
   "source": [
    "Sx = sigmax()\n",
    "Sy = sigmay()\n",
    "Sz = sigmaz()\n",
    "Sm = sigmam()\n",
    "Si = identity(2)\n",
    "#Hadamard gate\n",
    "had_gate = hadamard_transform(1)\n",
    "\n",
    "# Hamiltonian\n",
    "Del = 0.1    # Tunnelling term\n",
    "wq = 1.0   # Energy of the 2-level system.\n",
    "H0 = 0.5*wq*sigmaz() + 0.5*Del*sigmax()\n",
    "\n",
    "#Amplitude damping#\n",
    "#Damping rate:\n",
    "gamma = 0.1\n",
    "L0 = liouvillian(H0, [np.sqrt(gamma)*Sm])\n",
    "\n",
    "#sigma X control\n",
    "LC_x = liouvillian(Sx)\n",
    "#sigma Y control\n",
    "LC_y = liouvillian(Sy)\n",
    "#sigma Z control\n",
    "LC_z = liouvillian(Sz)\n",
    "\n",
    "#Drift\n",
    "drift = L0\n",
    "#Controls - different combinations can be tried\n",
    "ctrls = [LC_z, LC_x]\n",
    "# Number of ctrls\n",
    "n_ctrls = len(ctrls)\n",
    "\n",
    "# start point for the map evolution\n",
    "E0 = sprepost(Si, Si)\n",
    "\n",
    "# target for map evolution\n",
    "E_targ = sprepost(had_gate, had_gate)"
   ]
  },
  {
   "cell_type": "markdown",
   "metadata": {},
   "source": [
    "### Defining the time evolution parameters"
   ]
  },
  {
   "cell_type": "code",
   "execution_count": 4,
   "metadata": {},
   "outputs": [],
   "source": [
    "# Number of time slots\n",
    "n_ts = 10\n",
    "# Time allowed for the evolution\n",
    "evo_time = 2"
   ]
  },
  {
   "cell_type": "markdown",
   "metadata": {},
   "source": [
    "### Set the conditions which will cause the pulse optimisation to terminate"
   ]
  },
  {
   "cell_type": "code",
   "execution_count": 5,
   "metadata": {},
   "outputs": [],
   "source": [
    "# Fidelity error target\n",
    "fid_err_targ = 1e-3\n",
    "# Maximum iterations for the optisation algorithm\n",
    "max_iter = 200\n",
    "# Maximum (elapsed) time allowed in seconds\n",
    "max_wall_time = 30\n",
    "# Minimum gradient (sum of gradients squared)\n",
    "# as this tends to 0 -> local minima has been found\n",
    "min_grad = 1e-20"
   ]
  },
  {
   "cell_type": "markdown",
   "metadata": {},
   "source": [
    "### Set the initial pulse type"
   ]
  },
  {
   "cell_type": "code",
   "execution_count": 6,
   "metadata": {},
   "outputs": [],
   "source": [
    "# pulse type alternatives: RND|ZERO|LIN|SINE|SQUARE|SAW|TRIANGLE|\n",
    "p_type = 'RND'"
   ]
  },
  {
   "cell_type": "markdown",
   "metadata": {},
   "source": [
    "### Give an extension for output files"
   ]
  },
  {
   "cell_type": "code",
   "execution_count": 7,
   "metadata": {},
   "outputs": [],
   "source": [
    "#Set to None to suppress output files\n",
    "f_ext = \"{}_n_ts{}_ptype{}.txt\".format(example_name, n_ts, p_type)"
   ]
  },
  {
   "cell_type": "markdown",
   "metadata": {},
   "source": [
    "### Run the optimisation"
   ]
  },
  {
   "cell_type": "code",
   "execution_count": 9,
   "metadata": {},
   "outputs": [],
   "source": [
    "# Note that this call will take the defaults\n",
    "#    dyn_type='GEN_MAT'\n",
    "# This means that matrices that describe the dynamics are assumed to be\n",
    "# general, i.e. the propagator can be calculated using:\n",
    "# expm(combined_dynamics*dt)\n",
    "#    prop_type='FRECHET'\n",
    "# and the propagators and their gradients will be calculated using the\n",
    "# Frechet method, i.e. an exact gradent\n",
    "#    fid_type='TRACEDIFF'\n",
    "# and that the fidelity error, i.e. distance from the target, is give\n",
    "# by the trace of the difference between the target and evolved operators \n",
    "result = cpo.optimize_pulse(drift, ctrls, E0, E_targ, n_ts, evo_time, \n",
    "                fid_err_targ=fid_err_targ, min_grad=min_grad, \n",
    "                max_iter=max_iter, max_wall_time=max_wall_time, \n",
    "                out_file_ext=f_ext, init_pulse_type=p_type, \n",
    "                gen_stats=True)"
   ]
  },
  {
   "cell_type": "markdown",
   "metadata": {},
   "source": [
    "### Report the results"
   ]
  },
  {
   "cell_type": "code",
   "execution_count": 10,
   "metadata": {},
   "outputs": [
    {
     "name": "stdout",
     "output_type": "stream",
     "text": [
      "\n",
      "------------------------------------\n",
      "---- Control optimisation stats ----\n",
      "**** Timings (HH:MM:SS.US) ****\n",
      "Total wall time elapsed during optimisation: 0:00:00.832299\n",
      "Wall time computing Hamiltonians: 0:00:00.015355 (1.84%)\n",
      "Wall time computing propagators: 0:00:00.696612 (83.70%)\n",
      "Wall time computing forward propagation: 0:00:00.003450 (0.41%)\n",
      "Wall time computing onward propagation: 0:00:00.002888 (0.35%)\n",
      "Wall time computing gradient: 0:00:00.060922 (7.32%)\n",
      "\n",
      "**** Iterations and function calls ****\n",
      "Number of iterations: 200\n",
      "Number of fidelity function calls: 249\n",
      "Number of times fidelity is computed: 249\n",
      "Number of gradient function calls: 249\n",
      "Number of times gradients are computed: 249\n",
      "Number of times timeslot evolution is recomputed: 249\n",
      "\n",
      "**** Control amplitudes ****\n",
      "Number of control amplitude updates: 248\n",
      "Mean number of updates per iteration: 1.24\n",
      "Number of timeslot values changed: 2480\n",
      "Mean number of timeslot changes per update: 10.0\n",
      "Number of amplitude values changed: 4960\n",
      "Mean number of amplitude changes per update: 20.0\n",
      "------------------------------------\n",
      "Final evolution\n",
      "Quantum object: dims=[[[2], [2]], [[2], [2]]], shape=(4, 4), type='super', dtype=Dense, isherm=False\n",
      "Qobj data =\n",
      "[[ 0.502043  +4.84597585e-17j  0.43195294-5.62284905e-04j\n",
      "   0.43195294+5.62284905e-04j  0.49339757+2.10705838e-17j]\n",
      " [ 0.43684307+5.93052270e-03j -0.43899019+5.26221162e-03j\n",
      "   0.44784665-7.61987345e-03j -0.43834568-5.71314331e-03j]\n",
      " [ 0.43684307-5.93052270e-03j  0.44784665+7.61987345e-03j\n",
      "  -0.43899019-5.26221162e-03j -0.43834568+5.71314331e-03j]\n",
      " [ 0.497957  -2.00768725e-17j -0.43195294+5.62284905e-04j\n",
      "  -0.43195294-5.62284905e-04j  0.50660243+1.68717425e-17j]]\n",
      "\n",
      "********* Summary *****************\n",
      "Initial fidelity error 0.6007937056650776\n",
      "Final fidelity error 0.0059237473190501405\n",
      "Final gradient normal 0.0004697512373275826\n",
      "Terminated due to Iteration or fidelity function call limit reached\n",
      "Number of iterations 200\n",
      "Completed in 0:00:00.832299 HH:MM:SS.US\n"
     ]
    }
   ],
   "source": [
    "result.stats.report()\n",
    "print(\"Final evolution\\n{}\\n\".format(result.evo_full_final))\n",
    "print(\"********* Summary *****************\")\n",
    "print(\"Initial fidelity error {}\".format(result.initial_fid_err))\n",
    "print(\"Final fidelity error {}\".format(result.fid_err))\n",
    "print(\"Final gradient normal {}\".format(result.grad_norm_final))\n",
    "print(\"Terminated due to {}\".format(result.termination_reason))\n",
    "print(\"Number of iterations {}\".format(result.num_iter))\n",
    "print(\"Completed in {} HH:MM:SS.US\".format(datetime.timedelta(seconds=result.wall_time)))"
   ]
  },
  {
   "cell_type": "markdown",
   "metadata": {},
   "source": [
    "### Plot the initial and final amplitudes"
   ]
  },
  {
   "cell_type": "code",
   "execution_count": 11,
   "metadata": {},
   "outputs": [
    {
     "data": {
      "image/png": "[encoded data removed]",
      "text/plain": [
       "<Figure size 640x480 with 2 Axes>"
      ]
     },
     "metadata": {},
     "output_type": "display_data"
    }
   ],
   "source": [
    "fig1 = plt.figure()\n",
    "ax1 = fig1.add_subplot(2, 1, 1)\n",
    "ax1.set_title(\"Initial control amps\")\n",
    "ax1.set_xlabel(\"Time\")\n",
    "ax1.set_ylabel(\"Control amplitude\")\n",
    "for j in range(n_ctrls):\n",
    "    ax1.step(result.time, \n",
    "             np.hstack((result.initial_amps[:, j], result.initial_amps[-1, j])), \n",
    "             where='post')\n",
    "\n",
    "ax2 = fig1.add_subplot(2, 1, 2)\n",
    "ax2.set_title(\"Optimised Control Sequences\")\n",
    "ax2.set_xlabel(\"Time\")\n",
    "ax2.set_ylabel(\"Control amplitude\")\n",
    "for j in range(n_ctrls):\n",
    "    ax2.step(result.time, \n",
    "             np.hstack((result.final_amps[:, j], result.final_amps[-1, j])), \n",
    "             where='post')\n",
    "fig1.tight_layout()"
   ]
  },
  {
   "cell_type": "markdown",
   "metadata": {},
   "source": [
    "### Versions"
   ]
  },
  {
   "cell_type": "code",
   "execution_count": 12,
   "metadata": {},
   "outputs": [
    {
     "data": {
      "text/html": [
       "<table><tr><th>Software</th><th>Version</th></tr><tr><td>QuTiP</td><td>5.1.0.dev0+0b4260e</td></tr><tr><td>Numpy</td><td>1.26.4</td></tr><tr><td>SciPy</td><td>1.13.0</td></tr><tr><td>matplotlib</td><td>3.9.0</td></tr><tr><td>Number of CPUs</td><td>8</td></tr><tr><td>BLAS Info</td><td>Generic</td></tr><tr><td>IPython</td><td>8.25.0</td></tr><tr><td>Python</td><td>3.12.3 | packaged by Anaconda, Inc. | (main, May  6 2024, 19:46:43) [GCC 11.2.0]</td></tr><tr><td>OS</td><td>posix [linux]</td></tr><tr><td>Cython</td><td>3.0.10</td></tr><tr><td colspan='2'>Wed Jan 01 22:49:39 2025 IST</td></tr></table>"
      ],
      "text/plain": [
       "<IPython.core.display.HTML object>"
      ]
     },
     "execution_count": 12,
     "metadata": {},
     "output_type": "execute_result"
    }
   ],
   "source": [
    "from qutip.ipynbtools import version_table\n",
    "\n",
    "version_table()"
   ]
  },
  {
   "cell_type": "code",
   "execution_count": null,
   "metadata": {
    "collapsed": true
   },
   "outputs": [],
   "source": []
  }
 ],
 "metadata": {
  "anaconda-cloud": {},
  "kernelspec": {
   "display_name": "Python 3",
   "language": "python",
   "name": "python3"
  },
  "language_info": {
   "codemirror_mode": {
    "name": "ipython",
    "version": 3
   },
   "file_extension": ".py",
   "mimetype": "text/x-python",
   "name": "python",
   "nbconvert_exporter": "python",
   "pygments_lexer": "ipython3",
   "version": "3.12.3"
  }
 },
 "nbformat": 4,
 "nbformat_minor": 1
}
