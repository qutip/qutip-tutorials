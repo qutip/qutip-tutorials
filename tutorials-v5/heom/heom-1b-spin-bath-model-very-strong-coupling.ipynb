{
 "cells": [
  {
   "cell_type": "markdown",
   "id": "296f84cd",
   "metadata": {},
   "source": [
    "# HEOM 1b: Spin-Bath model (very strong coupling)"
   ]
  },
  {
   "cell_type": "markdown",
   "id": "c62ae6cb",
   "metadata": {},
   "source": [
    "## Introduction\n",
    "\n",
    "The HEOM method solves the dynamics and steady state of a system and its environment, the latter of which is encoded in a set of auxiliary density matrices.\n",
    "\n",
    "In this example we show the evolution of a single two-level system in contact with a single Bosonic environment.  The properties of the system are encoded in Hamiltonian, and a coupling operator which describes how it is coupled to the environment.\n",
    "\n",
    "The Bosonic environment is implicitly assumed to obey a particular Hamiltonian, the parameters of which are encoded in the spectral density, and subsequently the free-bath correlation functions.\n",
    "\n",
    "In the example below we show how to model the overdamped Drude-Lorentz Spectral Density, commonly used with the HEOM. We show how to do this using the Matsubara, Pade and fitting decompositions, and compare their convergence.\n",
    "\n",
    "This notebook shows a similar example to notebook 1a, but with much stronger coupling as discussed in [Shi *et al.*, J. Chem. Phys **130**, 084105 (2009)](https://doi.org/10.1063/1.3077918). Please refer to notebook HEOM 1a for a more detailed explanation.\n",
    "\n",
    "As in notebook 1a, we present a variety of simulations using different techniques to showcase the effect of different approximations of the correlation function on the results:\n",
    "\n",
    "- Simulation 1: Matsubara decomposition, not using Ishizaki-Tanimura terminator\n",
    "- Simulation 2: Matsubara decomposition (including terminator)\n",
    "- Simulation 3: Pade decomposition\n",
    "- Simulation 4: Fitting approach\n",
    "\n",
    "Lastly we compare the results to using the Bloch-Redfield approach:\n",
    "\n",
    "- Simulation 5: Bloch-Redfield\n",
    "\n",
    "which does not give the correct evolution in this case.\n",
    "\n",
    "\n",
    "### Drude-Lorentz (overdamped) spectral density\n",
    "\n",
    "The Drude-Lorentz spectral density is:\n",
    "\n",
    "$$J_D(\\omega)= \\frac{2\\omega\\lambda\\gamma}{{\\gamma}^2 + \\omega^2}$$\n",
    "\n",
    "where $\\lambda$ scales the coupling strength, and $\\gamma$ is the cut-off frequency.  We use the convention,\n",
    "\\begin{equation*}\n",
    "C(t) = \\int_0^{\\infty} d\\omega \\frac{J_D(\\omega)}{\\pi}[\\coth(\\beta\\omega) \\cos(\\omega \\tau) - i \\sin(\\omega \\tau)]\n",
    "\\end{equation*}\n",
    "\n",
    "With the HEOM we must use an exponential decomposition:\n",
    "\n",
    "\\begin{equation*}\n",
    "C(t)=\\sum_{k=0}^{k=\\infty} c_k e^{-\\nu_k t}\n",
    "\\end{equation*}\n",
    "\n",
    "As an example, the Matsubara decomposition of the Drude-Lorentz spectral density is given by:\n",
    "\n",
    "\\begin{equation*}\n",
    "    \\nu_k = \\begin{cases}\n",
    "               \\gamma               & k = 0\\\\\n",
    "               {2 \\pi k} / {\\beta }  & k \\geq 1\\\\\n",
    "           \\end{cases}\n",
    "\\end{equation*}\n",
    "\n",
    "\\begin{equation*}\n",
    "    c_k = \\begin{cases}\n",
    "               \\lambda \\gamma (\\cot(\\beta \\gamma / 2) - i)             & k = 0\\\\\n",
    "               4 \\lambda \\gamma \\nu_k / \\{(nu_k^2 - \\gamma^2)\\beta \\}    & k \\geq 1\\\\\n",
    "           \\end{cases}\n",
    "\\end{equation*}\n",
    "\n",
    "Note that in the above, and the following, we set $\\hbar = k_\\mathrm{B} = 1$."
   ]
  },
  {
   "cell_type": "markdown",
   "id": "9b649d65",
   "metadata": {},
   "source": [
    "## Setup"
   ]
  },
  {
   "cell_type": "code",
   "execution_count": 1,
   "id": "57ad3713",
   "metadata": {
    "execution": {
     "iopub.execute_input": "2025-08-20T04:09:21.529278Z",
     "iopub.status.busy": "2025-08-20T04:09:21.529051Z",
     "iopub.status.idle": "2025-08-20T04:09:22.298785Z",
     "shell.execute_reply": "2025-08-20T04:09:22.298219Z"
    }
   },
   "outputs": [],
   "source": [
    "import contextlib\n",
    "import time\n",
    "\n",
    "import numpy as np\n",
    "import matplotlib.pyplot as plt\n",
    "\n",
    "from qutip import about, basis, brmesolve, expect, liouvillian, sigmax, sigmaz\n",
    "from qutip.core.environment import DrudeLorentzEnvironment, system_terminator\n",
    "from qutip.solver.heom import HEOMSolver\n",
    "\n",
    "%matplotlib inline"
   ]
  },
  {
   "cell_type": "markdown",
   "id": "46ce90dd",
   "metadata": {},
   "source": [
    "## Helper functions\n",
    "\n",
    "Let's define some helper functions for calculating correlation function expansions, plotting results and timing how long operations take:"
   ]
  },
  {
   "cell_type": "code",
   "execution_count": 2,
   "id": "20c3e3df",
   "metadata": {
    "execution": {
     "iopub.execute_input": "2025-08-20T04:09:22.300601Z",
     "iopub.status.busy": "2025-08-20T04:09:22.300334Z",
     "iopub.status.idle": "2025-08-20T04:09:22.302811Z",
     "shell.execute_reply": "2025-08-20T04:09:22.302423Z"
    }
   },
   "outputs": [],
   "source": [
    "def cot(x):\n",
    "    \"\"\" Vectorized cotangent of x. \"\"\"\n",
    "    return 1.0 / np.tan(x)"
   ]
  },
  {
   "cell_type": "code",
   "execution_count": 3,
   "id": "42861a03",
   "metadata": {
    "execution": {
     "iopub.execute_input": "2025-08-20T04:09:22.304102Z",
     "iopub.status.busy": "2025-08-20T04:09:22.303944Z",
     "iopub.status.idle": "2025-08-20T04:09:22.306638Z",
     "shell.execute_reply": "2025-08-20T04:09:22.306200Z"
    }
   },
   "outputs": [],
   "source": [
    "@contextlib.contextmanager\n",
    "def timer(label):\n",
    "    \"\"\" Simple utility for timing functions:\n",
    "\n",
    "        with timer(\"name\"):\n",
    "            ... code to time ...\n",
    "    \"\"\"\n",
    "    start = time.time()\n",
    "    yield\n",
    "    end = time.time()\n",
    "    print(f\"{label}: {end - start}\")"
   ]
  },
  {
   "cell_type": "code",
   "execution_count": 4,
   "id": "be4ff06a",
   "metadata": {
    "execution": {
     "iopub.execute_input": "2025-08-20T04:09:22.307910Z",
     "iopub.status.busy": "2025-08-20T04:09:22.307755Z",
     "iopub.status.idle": "2025-08-20T04:09:22.310120Z",
     "shell.execute_reply": "2025-08-20T04:09:22.309653Z"
    }
   },
   "outputs": [],
   "source": [
    "# Solver options:\n",
    "\n",
    "options = {\n",
    "    \"nsteps\": 15000,\n",
    "    \"store_states\": True,\n",
    "    \"rtol\": 1e-14,\n",
    "    \"atol\": 1e-14,\n",
    "    \"method\": \"vern9\",\n",
    "    \"progress_bar\": \"enhanced\",\n",
    "}"
   ]
  },
  {
   "cell_type": "markdown",
   "id": "95dcea28",
   "metadata": {},
   "source": [
    "## System and bath definition\n",
    "\n",
    "And let us set up the system Hamiltonian, bath and system measurement operators:"
   ]
  },
  {
   "cell_type": "code",
   "execution_count": 5,
   "id": "84215c75",
   "metadata": {
    "execution": {
     "iopub.execute_input": "2025-08-20T04:09:22.311492Z",
     "iopub.status.busy": "2025-08-20T04:09:22.311315Z",
     "iopub.status.idle": "2025-08-20T04:09:22.313806Z",
     "shell.execute_reply": "2025-08-20T04:09:22.313374Z"
    }
   },
   "outputs": [],
   "source": [
    "# Defining the system Hamiltonian\n",
    "eps = 0.0  # Energy of the 2-level system.\n",
    "Del = 0.2  # Tunnelling term\n",
    "Hsys = 0.5 * eps * sigmaz() + 0.5 * Del * sigmax()"
   ]
  },
  {
   "cell_type": "code",
   "execution_count": 6,
   "id": "03f7d3d3",
   "metadata": {
    "execution": {
     "iopub.execute_input": "2025-08-20T04:09:22.315075Z",
     "iopub.status.busy": "2025-08-20T04:09:22.314925Z",
     "iopub.status.idle": "2025-08-20T04:09:22.317337Z",
     "shell.execute_reply": "2025-08-20T04:09:22.316950Z"
    }
   },
   "outputs": [],
   "source": [
    "# Initial state of the system.\n",
    "rho0 = basis(2, 0) * basis(2, 0).dag()"
   ]
  },
  {
   "cell_type": "code",
   "execution_count": 7,
   "id": "c33c9464",
   "metadata": {
    "execution": {
     "iopub.execute_input": "2025-08-20T04:09:22.318620Z",
     "iopub.status.busy": "2025-08-20T04:09:22.318459Z",
     "iopub.status.idle": "2025-08-20T04:09:22.321506Z",
     "shell.execute_reply": "2025-08-20T04:09:22.321020Z"
    }
   },
   "outputs": [],
   "source": [
    "# System-bath coupling (Drude-Lorentz spectral density)\n",
    "Q = sigmaz()  # coupling operator\n",
    "\n",
    "# Bath properties (see Shi et al., J. Chem. Phys. 130, 084105 (2009)):\n",
    "gamma = 1.0  # cut off frequency\n",
    "lam = 2.5    # coupling strength\n",
    "T = 1.0      # in units where Boltzmann factor is 1\n",
    "beta = 1.0 / T\n",
    "\n",
    "# HEOM parameters:\n",
    "\n",
    "# number of exponents to retain in the Matsubara expansion of the\n",
    "# bath correlation function:\n",
    "Nk = 1\n",
    "\n",
    "# Number of levels of the hierarchy to retain:\n",
    "NC = 13\n",
    "\n",
    "# Times to solve for:\n",
    "tlist = np.linspace(0, np.pi / Del, 600)"
   ]
  },
  {
   "cell_type": "code",
   "execution_count": 8,
   "id": "89a82d06",
   "metadata": {
    "execution": {
     "iopub.execute_input": "2025-08-20T04:09:22.322796Z",
     "iopub.status.busy": "2025-08-20T04:09:22.322649Z",
     "iopub.status.idle": "2025-08-20T04:09:22.325270Z",
     "shell.execute_reply": "2025-08-20T04:09:22.324871Z"
    }
   },
   "outputs": [],
   "source": [
    "# Define some operators with which we will measure the system\n",
    "# 1,1 element of density matrix - corresonding to groundstate\n",
    "P11p = basis(2, 0) * basis(2, 0).dag()\n",
    "P22p = basis(2, 1) * basis(2, 1).dag()\n",
    "# 1,2 element of density matrix  - corresonding to coherence\n",
    "P12p = basis(2, 0) * basis(2, 1).dag()"
   ]
  },
  {
   "cell_type": "markdown",
   "id": "dcd8b3d2",
   "metadata": {},
   "source": [
    "### Plot the spectral density\n",
    "\n",
    "Let us briefly inspect the spectral density."
   ]
  },
  {
   "cell_type": "code",
   "execution_count": 9,
   "id": "1dfd7904",
   "metadata": {
    "execution": {
     "iopub.execute_input": "2025-08-20T04:09:22.326545Z",
     "iopub.status.busy": "2025-08-20T04:09:22.326403Z",
     "iopub.status.idle": "2025-08-20T04:09:22.478082Z",
     "shell.execute_reply": "2025-08-20T04:09:22.477589Z"
    }
   },
   "outputs": [
    {
     "data": {
      "image/png": "[encoded data removed]",
      "text/plain": [
       "<Figure size 800x800 with 1 Axes>"
      ]
     },
     "metadata": {},
     "output_type": "display_data"
    }
   ],
   "source": [
    "env = DrudeLorentzEnvironment(lam=lam, gamma=gamma, T=T, Nk=500)\n",
    "w = np.linspace(0, 5, 1000)\n",
    "J = env.spectral_density(w)\n",
    "\n",
    "# Plot the results\n",
    "fig, axes = plt.subplots(1, 1, sharex=True, figsize=(8, 8))\n",
    "axes.plot(w, J, 'r', linewidth=2)\n",
    "axes.set_xlabel(r'$\\omega$', fontsize=28)\n",
    "axes.set_ylabel(r'J', fontsize=28);"
   ]
  },
  {
   "cell_type": "markdown",
   "id": "6604f74b",
   "metadata": {},
   "source": [
    "## Simulation 1: Matsubara decomposition, not using Ishizaki-Tanimura terminator"
   ]
  },
  {
   "cell_type": "code",
   "execution_count": 10,
   "id": "bcec8991",
   "metadata": {
    "execution": {
     "iopub.execute_input": "2025-08-20T04:09:22.479676Z",
     "iopub.status.busy": "2025-08-20T04:09:22.479513Z",
     "iopub.status.idle": "2025-08-20T04:09:22.922810Z",
     "shell.execute_reply": "2025-08-20T04:09:22.922256Z"
    }
   },
   "outputs": [
    {
     "name": "stdout",
     "output_type": "stream",
     "text": [
      "RHS construction time: 0.019295930862426758\n",
      "\r",
      " [          0%           ] Elapsed 0.00s / Remaining 00:00:00:00"
     ]
    },
    {
     "name": "stdout",
     "output_type": "stream",
     "text": [
      "\r",
      " [          0%           ] Elapsed 0.00s / Remaining 00:00:00:00"
     ]
    },
    {
     "name": "stdout",
     "output_type": "stream",
     "text": [
      "\r",
      " [          1%           ] Elapsed 0.00s / Remaining 00:00:00:00"
     ]
    },
    {
     "name": "stdout",
     "output_type": "stream",
     "text": [
      "\r",
      " [          1%           ] Elapsed 0.00s / Remaining 00:00:00:00"
     ]
    },
    {
     "name": "stdout",
     "output_type": "stream",
     "text": [
      "\r",
      " [          1%           ] Elapsed 0.01s / Remaining 00:00:00:00"
     ]
    },
    {
     "name": "stdout",
     "output_type": "stream",
     "text": [
      "\r",
      " [          1%           ] Elapsed 0.01s / Remaining 00:00:00:00"
     ]
    },
    {
     "name": "stdout",
     "output_type": "stream",
     "text": [
      "\r",
      " [          1%           ] Elapsed 0.01s / Remaining 00:00:00:00"
     ]
    },
    {
     "name": "stdout",
     "output_type": "stream",
     "text": [
      "\r",
      " [          1%           ] Elapsed 0.01s / Remaining 00:00:00:00"
     ]
    },
    {
     "name": "stdout",
     "output_type": "stream",
     "text": [
      "\r",
      " [          2%           ] Elapsed 0.01s / Remaining 00:00:00:00"
     ]
    },
    {
     "name": "stdout",
     "output_type": "stream",
     "text": [
      "\r",
      " [          2%           ] Elapsed 0.01s / Remaining 00:00:00:00"
     ]
    },
    {
     "name": "stdout",
     "output_type": "stream",
     "text": [
      "\r",
      " [          2%           ] Elapsed 0.01s / Remaining 00:00:00:00"
     ]
    },
    {
     "name": "stdout",
     "output_type": "stream",
     "text": [
      "\r",
      " [          2%           ] Elapsed 0.01s / Remaining 00:00:00:00"
     ]
    },
    {
     "name": "stdout",
     "output_type": "stream",
     "text": [
      "\r",
      " [          2%           ] Elapsed 0.01s / Remaining 00:00:00:00"
     ]
    },
    {
     "name": "stdout",
     "output_type": "stream",
     "text": [
      "\r",
      " [          2%           ] Elapsed 0.01s / Remaining 00:00:00:00"
     ]
    },
    {
     "name": "stdout",
     "output_type": "stream",
     "text": [
      "\r",
      " [*         3%           ] Elapsed 0.02s / Remaining 00:00:00:00"
     ]
    },
    {
     "name": "stdout",
     "output_type": "stream",
     "text": [
      "\r",
      " [*         3%           ] Elapsed 0.02s / Remaining 00:00:00:00"
     ]
    },
    {
     "name": "stdout",
     "output_type": "stream",
     "text": [
      "\r",
      " [*         3%           ] Elapsed 0.02s / Remaining 00:00:00:00"
     ]
    },
    {
     "name": "stdout",
     "output_type": "stream",
     "text": [
      "\r",
      " [*         3%           ] Elapsed 0.02s / Remaining 00:00:00:00"
     ]
    },
    {
     "name": "stdout",
     "output_type": "stream",
     "text": [
      "\r",
      " [*         3%           ] Elapsed 0.02s / Remaining 00:00:00:00"
     ]
    },
    {
     "name": "stdout",
     "output_type": "stream",
     "text": [
      "\r",
      " [*         3%           ] Elapsed 0.02s / Remaining 00:00:00:00"
     ]
    },
    {
     "name": "stdout",
     "output_type": "stream",
     "text": [
      "\r",
      " [*         4%           ] Elapsed 0.02s / Remaining 00:00:00:00"
     ]
    },
    {
     "name": "stdout",
     "output_type": "stream",
     "text": [
      "\r",
      " [*         4%           ] Elapsed 0.02s / Remaining 00:00:00:00"
     ]
    },
    {
     "name": "stdout",
     "output_type": "stream",
     "text": [
      "\r",
      " [*         4%           ] Elapsed 0.02s / Remaining 00:00:00:00"
     ]
    },
    {
     "name": "stdout",
     "output_type": "stream",
     "text": [
      "\r",
      " [*         4%           ] Elapsed 0.02s / Remaining 00:00:00:00"
     ]
    },
    {
     "name": "stdout",
     "output_type": "stream",
     "text": [
      "\r",
      " [*         4%           ] Elapsed 0.02s / Remaining 00:00:00:00"
     ]
    },
    {
     "name": "stdout",
     "output_type": "stream",
     "text": [
      "\r",
      " [*         4%           ] Elapsed 0.03s / Remaining 00:00:00:00"
     ]
    },
    {
     "name": "stdout",
     "output_type": "stream",
     "text": [
      "\r",
      " [*         5%           ] Elapsed 0.03s / Remaining 00:00:00:00"
     ]
    },
    {
     "name": "stdout",
     "output_type": "stream",
     "text": [
      "\r",
      " [*         5%           ] Elapsed 0.03s / Remaining 00:00:00:00"
     ]
    },
    {
     "name": "stdout",
     "output_type": "stream",
     "text": [
      "\r",
      " [*         5%           ] Elapsed 0.03s / Remaining 00:00:00:00"
     ]
    },
    {
     "name": "stdout",
     "output_type": "stream",
     "text": [
      "\r",
      " [*         5%           ] Elapsed 0.03s / Remaining 00:00:00:00"
     ]
    },
    {
     "name": "stdout",
     "output_type": "stream",
     "text": [
      "\r",
      " [*         5%           ] Elapsed 0.03s / Remaining 00:00:00:00"
     ]
    },
    {
     "name": "stdout",
     "output_type": "stream",
     "text": [
      "\r",
      " [*         5%           ] Elapsed 0.03s / Remaining 00:00:00:00"
     ]
    },
    {
     "name": "stdout",
     "output_type": "stream",
     "text": [
      "\r",
      " [*         6%           ] Elapsed 0.03s / Remaining 00:00:00:00"
     ]
    },
    {
     "name": "stdout",
     "output_type": "stream",
     "text": [
      "\r",
      " [*         6%           ] Elapsed 0.03s / Remaining 00:00:00:00"
     ]
    },
    {
     "name": "stdout",
     "output_type": "stream",
     "text": [
      "\r",
      " [*         6%           ] Elapsed 0.03s / Remaining 00:00:00:00"
     ]
    },
    {
     "name": "stdout",
     "output_type": "stream",
     "text": [
      "\r",
      " [*         6%           ] Elapsed 0.03s / Remaining 00:00:00:00"
     ]
    },
    {
     "name": "stdout",
     "output_type": "stream",
     "text": [
      "\r",
      " [*         6%           ] Elapsed 0.03s / Remaining 00:00:00:00"
     ]
    },
    {
     "name": "stdout",
     "output_type": "stream",
     "text": [
      "\r",
      " [*         6%           ] Elapsed 0.04s / Remaining 00:00:00:00"
     ]
    },
    {
     "name": "stdout",
     "output_type": "stream",
     "text": [
      "\r",
      " [**        7%           ] Elapsed 0.04s / Remaining 00:00:00:00"
     ]
    },
    {
     "name": "stdout",
     "output_type": "stream",
     "text": [
      "\r",
      " [**        7%           ] Elapsed 0.04s / Remaining 00:00:00:00"
     ]
    },
    {
     "name": "stdout",
     "output_type": "stream",
     "text": [
      "\r",
      " [**        7%           ] Elapsed 0.04s / Remaining 00:00:00:00"
     ]
    },
    {
     "name": "stdout",
     "output_type": "stream",
     "text": [
      "\r",
      " [**        7%           ] Elapsed 0.04s / Remaining 00:00:00:00"
     ]
    },
    {
     "name": "stdout",
     "output_type": "stream",
     "text": [
      "\r",
      " [**        7%           ] Elapsed 0.04s / Remaining 00:00:00:00"
     ]
    },
    {
     "name": "stdout",
     "output_type": "stream",
     "text": [
      "\r",
      " [**        7%           ] Elapsed 0.04s / Remaining 00:00:00:00"
     ]
    },
    {
     "name": "stdout",
     "output_type": "stream",
     "text": [
      "\r",
      " [**        8%           ] Elapsed 0.04s / Remaining 00:00:00:00"
     ]
    },
    {
     "name": "stdout",
     "output_type": "stream",
     "text": [
      "\r",
      " [**        8%           ] Elapsed 0.04s / Remaining 00:00:00:00"
     ]
    },
    {
     "name": "stdout",
     "output_type": "stream",
     "text": [
      "\r",
      " [**        8%           ] Elapsed 0.04s / Remaining 00:00:00:00"
     ]
    },
    {
     "name": "stdout",
     "output_type": "stream",
     "text": [
      "\r",
      " [**        8%           ] Elapsed 0.04s / Remaining 00:00:00:00"
     ]
    },
    {
     "name": "stdout",
     "output_type": "stream",
     "text": [
      "\r",
      " [**        8%           ] Elapsed 0.05s / Remaining 00:00:00:00"
     ]
    },
    {
     "name": "stdout",
     "output_type": "stream",
     "text": [
      "\r",
      " [**        8%           ] Elapsed 0.05s / Remaining 00:00:00:00"
     ]
    },
    {
     "name": "stdout",
     "output_type": "stream",
     "text": [
      "\r",
      " [**        9%           ] Elapsed 0.05s / Remaining 00:00:00:00"
     ]
    },
    {
     "name": "stdout",
     "output_type": "stream",
     "text": [
      "\r",
      " [**        9%           ] Elapsed 0.05s / Remaining 00:00:00:00"
     ]
    },
    {
     "name": "stdout",
     "output_type": "stream",
     "text": [
      "\r",
      " [**        9%           ] Elapsed 0.05s / Remaining 00:00:00:00"
     ]
    },
    {
     "name": "stdout",
     "output_type": "stream",
     "text": [
      "\r",
      " [**        9%           ] Elapsed 0.05s / Remaining 00:00:00:00"
     ]
    },
    {
     "name": "stdout",
     "output_type": "stream",
     "text": [
      "\r",
      " [**        9%           ] Elapsed 0.05s / Remaining 00:00:00:00"
     ]
    },
    {
     "name": "stdout",
     "output_type": "stream",
     "text": [
      "\r",
      " [**        9%           ] Elapsed 0.05s / Remaining 00:00:00:00"
     ]
    },
    {
     "name": "stdout",
     "output_type": "stream",
     "text": [
      "\r",
      " [**       10%           ] Elapsed 0.05s / Remaining 00:00:00:00"
     ]
    },
    {
     "name": "stdout",
     "output_type": "stream",
     "text": [
      "\r",
      " [**       10%           ] Elapsed 0.05s / Remaining 00:00:00:00"
     ]
    },
    {
     "name": "stdout",
     "output_type": "stream",
     "text": [
      "\r",
      " [**       10%           ] Elapsed 0.05s / Remaining 00:00:00:00"
     ]
    },
    {
     "name": "stdout",
     "output_type": "stream",
     "text": [
      "\r",
      " [**       10%           ] Elapsed 0.05s / Remaining 00:00:00:00"
     ]
    },
    {
     "name": "stdout",
     "output_type": "stream",
     "text": [
      "\r",
      " [**       10%           ] Elapsed 0.05s / Remaining 00:00:00:00"
     ]
    },
    {
     "name": "stdout",
     "output_type": "stream",
     "text": [
      "\r",
      " [**       10%           ] Elapsed 0.06s / Remaining 00:00:00:00"
     ]
    },
    {
     "name": "stdout",
     "output_type": "stream",
     "text": [
      "\r",
      " [***      11%           ] Elapsed 0.06s / Remaining 00:00:00:00"
     ]
    },
    {
     "name": "stdout",
     "output_type": "stream",
     "text": [
      "\r",
      " [***      11%           ] Elapsed 0.06s / Remaining 00:00:00:00"
     ]
    },
    {
     "name": "stdout",
     "output_type": "stream",
     "text": [
      "\r",
      " [***      11%           ] Elapsed 0.06s / Remaining 00:00:00:00"
     ]
    },
    {
     "name": "stdout",
     "output_type": "stream",
     "text": [
      "\r",
      " [***      11%           ] Elapsed 0.06s / Remaining 00:00:00:00"
     ]
    },
    {
     "name": "stdout",
     "output_type": "stream",
     "text": [
      "\r",
      " [***      11%           ] Elapsed 0.06s / Remaining 00:00:00:00"
     ]
    },
    {
     "name": "stdout",
     "output_type": "stream",
     "text": [
      "\r",
      " [***      11%           ] Elapsed 0.06s / Remaining 00:00:00:00"
     ]
    },
    {
     "name": "stdout",
     "output_type": "stream",
     "text": [
      "\r",
      " [***      12%           ] Elapsed 0.06s / Remaining 00:00:00:00"
     ]
    },
    {
     "name": "stdout",
     "output_type": "stream",
     "text": [
      "\r",
      " [***      12%           ] Elapsed 0.06s / Remaining 00:00:00:00"
     ]
    },
    {
     "name": "stdout",
     "output_type": "stream",
     "text": [
      "\r",
      " [***      12%           ] Elapsed 0.06s / Remaining 00:00:00:00"
     ]
    },
    {
     "name": "stdout",
     "output_type": "stream",
     "text": [
      "\r",
      " [***      12%           ] Elapsed 0.06s / Remaining 00:00:00:00"
     ]
    },
    {
     "name": "stdout",
     "output_type": "stream",
     "text": [
      "\r",
      " [***      12%           ] Elapsed 0.06s / Remaining 00:00:00:00"
     ]
    },
    {
     "name": "stdout",
     "output_type": "stream",
     "text": [
      "\r",
      " [***      12%           ] Elapsed 0.06s / Remaining 00:00:00:00"
     ]
    },
    {
     "name": "stdout",
     "output_type": "stream",
     "text": [
      "\r",
      " [***      13%           ] Elapsed 0.06s / Remaining 00:00:00:00"
     ]
    },
    {
     "name": "stdout",
     "output_type": "stream",
     "text": [
      "\r",
      " [***      13%           ] Elapsed 0.07s / Remaining 00:00:00:00"
     ]
    },
    {
     "name": "stdout",
     "output_type": "stream",
     "text": [
      "\r",
      " [***      13%           ] Elapsed 0.07s / Remaining 00:00:00:00"
     ]
    },
    {
     "name": "stdout",
     "output_type": "stream",
     "text": [
      "\r",
      " [***      13%           ] Elapsed 0.07s / Remaining 00:00:00:00"
     ]
    },
    {
     "name": "stdout",
     "output_type": "stream",
     "text": [
      "\r",
      " [***      13%           ] Elapsed 0.07s / Remaining 00:00:00:00"
     ]
    },
    {
     "name": "stdout",
     "output_type": "stream",
     "text": [
      "\r",
      " [***      13%           ] Elapsed 0.07s / Remaining 00:00:00:00"
     ]
    },
    {
     "name": "stdout",
     "output_type": "stream",
     "text": [
      "\r",
      " [***      14%           ] Elapsed 0.07s / Remaining 00:00:00:00"
     ]
    },
    {
     "name": "stdout",
     "output_type": "stream",
     "text": [
      "\r",
      " [***      14%           ] Elapsed 0.07s / Remaining 00:00:00:00"
     ]
    },
    {
     "name": "stdout",
     "output_type": "stream",
     "text": [
      "\r",
      " [***      14%           ] Elapsed 0.07s / Remaining 00:00:00:00"
     ]
    },
    {
     "name": "stdout",
     "output_type": "stream",
     "text": [
      "\r",
      " [***      14%           ] Elapsed 0.07s / Remaining 00:00:00:00"
     ]
    },
    {
     "name": "stdout",
     "output_type": "stream",
     "text": [
      "\r",
      " [***      14%           ] Elapsed 0.07s / Remaining 00:00:00:00"
     ]
    },
    {
     "name": "stdout",
     "output_type": "stream",
     "text": [
      "\r",
      " [***      14%           ] Elapsed 0.07s / Remaining 00:00:00:00"
     ]
    },
    {
     "name": "stdout",
     "output_type": "stream",
     "text": [
      "\r",
      " [***      15%           ] Elapsed 0.07s / Remaining 00:00:00:00"
     ]
    },
    {
     "name": "stdout",
     "output_type": "stream",
     "text": [
      "\r",
      " [***      15%           ] Elapsed 0.07s / Remaining 00:00:00:00"
     ]
    },
    {
     "name": "stdout",
     "output_type": "stream",
     "text": [
      "\r",
      " [***      15%           ] Elapsed 0.07s / Remaining 00:00:00:00"
     ]
    },
    {
     "name": "stdout",
     "output_type": "stream",
     "text": [
      "\r",
      " [***      15%           ] Elapsed 0.08s / Remaining 00:00:00:00"
     ]
    },
    {
     "name": "stdout",
     "output_type": "stream",
     "text": [
      "\r",
      " [***      15%           ] Elapsed 0.08s / Remaining 00:00:00:00"
     ]
    },
    {
     "name": "stdout",
     "output_type": "stream",
     "text": [
      "\r",
      " [***      15%           ] Elapsed 0.08s / Remaining 00:00:00:00"
     ]
    },
    {
     "name": "stdout",
     "output_type": "stream",
     "text": [
      "\r",
      " [****     16%           ] Elapsed 0.08s / Remaining 00:00:00:00"
     ]
    },
    {
     "name": "stdout",
     "output_type": "stream",
     "text": [
      "\r",
      " [****     16%           ] Elapsed 0.08s / Remaining 00:00:00:00"
     ]
    },
    {
     "name": "stdout",
     "output_type": "stream",
     "text": [
      "\r",
      " [****     16%           ] Elapsed 0.08s / Remaining 00:00:00:00"
     ]
    },
    {
     "name": "stdout",
     "output_type": "stream",
     "text": [
      "\r",
      " [****     16%           ] Elapsed 0.08s / Remaining 00:00:00:00"
     ]
    },
    {
     "name": "stdout",
     "output_type": "stream",
     "text": [
      "\r",
      " [****     16%           ] Elapsed 0.08s / Remaining 00:00:00:00"
     ]
    },
    {
     "name": "stdout",
     "output_type": "stream",
     "text": [
      "\r",
      " [****     16%           ] Elapsed 0.08s / Remaining 00:00:00:00"
     ]
    },
    {
     "name": "stdout",
     "output_type": "stream",
     "text": [
      "\r",
      " [****     17%           ] Elapsed 0.08s / Remaining 00:00:00:00"
     ]
    },
    {
     "name": "stdout",
     "output_type": "stream",
     "text": [
      "\r",
      " [****     17%           ] Elapsed 0.08s / Remaining 00:00:00:00"
     ]
    },
    {
     "name": "stdout",
     "output_type": "stream",
     "text": [
      "\r",
      " [****     17%           ] Elapsed 0.08s / Remaining 00:00:00:00"
     ]
    },
    {
     "name": "stdout",
     "output_type": "stream",
     "text": [
      "\r",
      " [****     17%           ] Elapsed 0.08s / Remaining 00:00:00:00"
     ]
    },
    {
     "name": "stdout",
     "output_type": "stream",
     "text": [
      "\r",
      " [****     17%           ] Elapsed 0.08s / Remaining 00:00:00:00"
     ]
    },
    {
     "name": "stdout",
     "output_type": "stream",
     "text": [
      "\r",
      " [****     17%           ] Elapsed 0.08s / Remaining 00:00:00:00"
     ]
    },
    {
     "name": "stdout",
     "output_type": "stream",
     "text": [
      "\r",
      " [****     18%           ] Elapsed 0.08s / Remaining 00:00:00:00"
     ]
    },
    {
     "name": "stdout",
     "output_type": "stream",
     "text": [
      "\r",
      " [****     18%           ] Elapsed 0.09s / Remaining 00:00:00:00"
     ]
    },
    {
     "name": "stdout",
     "output_type": "stream",
     "text": [
      "\r",
      " [****     18%           ] Elapsed 0.09s / Remaining 00:00:00:00"
     ]
    },
    {
     "name": "stdout",
     "output_type": "stream",
     "text": [
      "\r",
      " [****     18%           ] Elapsed 0.09s / Remaining 00:00:00:00"
     ]
    },
    {
     "name": "stdout",
     "output_type": "stream",
     "text": [
      "\r",
      " [****     18%           ] Elapsed 0.09s / Remaining 00:00:00:00"
     ]
    },
    {
     "name": "stdout",
     "output_type": "stream",
     "text": [
      "\r",
      " [****     18%           ] Elapsed 0.09s / Remaining 00:00:00:00"
     ]
    },
    {
     "name": "stdout",
     "output_type": "stream",
     "text": [
      "\r",
      " [****     19%           ] Elapsed 0.09s / Remaining 00:00:00:00"
     ]
    },
    {
     "name": "stdout",
     "output_type": "stream",
     "text": [
      "\r",
      " [****     19%           ] Elapsed 0.09s / Remaining 00:00:00:00"
     ]
    },
    {
     "name": "stdout",
     "output_type": "stream",
     "text": [
      "\r",
      " [****     19%           ] Elapsed 0.09s / Remaining 00:00:00:00"
     ]
    },
    {
     "name": "stdout",
     "output_type": "stream",
     "text": [
      "\r",
      " [****     19%           ] Elapsed 0.09s / Remaining 00:00:00:00"
     ]
    },
    {
     "name": "stdout",
     "output_type": "stream",
     "text": [
      "\r",
      " [****     19%           ] Elapsed 0.09s / Remaining 00:00:00:00"
     ]
    },
    {
     "name": "stdout",
     "output_type": "stream",
     "text": [
      "\r",
      " [****     19%           ] Elapsed 0.09s / Remaining 00:00:00:00"
     ]
    },
    {
     "name": "stdout",
     "output_type": "stream",
     "text": [
      "\r",
      " [*****    20%           ] Elapsed 0.09s / Remaining 00:00:00:00"
     ]
    },
    {
     "name": "stdout",
     "output_type": "stream",
     "text": [
      "\r",
      " [*****    20%           ] Elapsed 0.09s / Remaining 00:00:00:00"
     ]
    },
    {
     "name": "stdout",
     "output_type": "stream",
     "text": [
      "\r",
      " [*****    20%           ] Elapsed 0.09s / Remaining 00:00:00:00"
     ]
    },
    {
     "name": "stdout",
     "output_type": "stream",
     "text": [
      "\r",
      " [*****    20%           ] Elapsed 0.09s / Remaining 00:00:00:00"
     ]
    },
    {
     "name": "stdout",
     "output_type": "stream",
     "text": [
      "\r",
      " [*****    20%           ] Elapsed 0.10s / Remaining 00:00:00:00"
     ]
    },
    {
     "name": "stdout",
     "output_type": "stream",
     "text": [
      "\r",
      " [*****    20%           ] Elapsed 0.10s / Remaining 00:00:00:00"
     ]
    },
    {
     "name": "stdout",
     "output_type": "stream",
     "text": [
      "\r",
      " [*****    21%           ] Elapsed 0.10s / Remaining 00:00:00:00"
     ]
    },
    {
     "name": "stdout",
     "output_type": "stream",
     "text": [
      "\r",
      " [*****    21%           ] Elapsed 0.10s / Remaining 00:00:00:00"
     ]
    },
    {
     "name": "stdout",
     "output_type": "stream",
     "text": [
      "\r",
      " [*****    21%           ] Elapsed 0.10s / Remaining 00:00:00:00"
     ]
    },
    {
     "name": "stdout",
     "output_type": "stream",
     "text": [
      "\r",
      " [*****    21%           ] Elapsed 0.10s / Remaining 00:00:00:00"
     ]
    },
    {
     "name": "stdout",
     "output_type": "stream",
     "text": [
      "\r",
      " [*****    21%           ] Elapsed 0.10s / Remaining 00:00:00:00"
     ]
    },
    {
     "name": "stdout",
     "output_type": "stream",
     "text": [
      "\r",
      " [*****    21%           ] Elapsed 0.10s / Remaining 00:00:00:00"
     ]
    },
    {
     "name": "stdout",
     "output_type": "stream",
     "text": [
      "\r",
      " [*****    22%           ] Elapsed 0.10s / Remaining 00:00:00:00"
     ]
    },
    {
     "name": "stdout",
     "output_type": "stream",
     "text": [
      "\r",
      " [*****    22%           ] Elapsed 0.10s / Remaining 00:00:00:00"
     ]
    },
    {
     "name": "stdout",
     "output_type": "stream",
     "text": [
      "\r",
      " [*****    22%           ] Elapsed 0.10s / Remaining 00:00:00:00"
     ]
    },
    {
     "name": "stdout",
     "output_type": "stream",
     "text": [
      "\r",
      " [*****    22%           ] Elapsed 0.10s / Remaining 00:00:00:00"
     ]
    },
    {
     "name": "stdout",
     "output_type": "stream",
     "text": [
      "\r",
      " [*****    22%           ] Elapsed 0.10s / Remaining 00:00:00:00"
     ]
    },
    {
     "name": "stdout",
     "output_type": "stream",
     "text": [
      "\r",
      " [*****    22%           ] Elapsed 0.10s / Remaining 00:00:00:00"
     ]
    },
    {
     "name": "stdout",
     "output_type": "stream",
     "text": [
      "\r",
      " [*****    23%           ] Elapsed 0.10s / Remaining 00:00:00:00"
     ]
    },
    {
     "name": "stdout",
     "output_type": "stream",
     "text": [
      "\r",
      " [*****    23%           ] Elapsed 0.11s / Remaining 00:00:00:00"
     ]
    },
    {
     "name": "stdout",
     "output_type": "stream",
     "text": [
      "\r",
      " [*****    23%           ] Elapsed 0.11s / Remaining 00:00:00:00"
     ]
    },
    {
     "name": "stdout",
     "output_type": "stream",
     "text": [
      "\r",
      " [*****    23%           ] Elapsed 0.11s / Remaining 00:00:00:00"
     ]
    },
    {
     "name": "stdout",
     "output_type": "stream",
     "text": [
      "\r",
      " [*****    23%           ] Elapsed 0.11s / Remaining 00:00:00:00"
     ]
    },
    {
     "name": "stdout",
     "output_type": "stream",
     "text": [
      "\r",
      " [*****    23%           ] Elapsed 0.11s / Remaining 00:00:00:00"
     ]
    },
    {
     "name": "stdout",
     "output_type": "stream",
     "text": [
      "\r",
      " [******   24%           ] Elapsed 0.11s / Remaining 00:00:00:00"
     ]
    },
    {
     "name": "stdout",
     "output_type": "stream",
     "text": [
      "\r",
      " [******   24%           ] Elapsed 0.11s / Remaining 00:00:00:00"
     ]
    },
    {
     "name": "stdout",
     "output_type": "stream",
     "text": [
      "\r",
      " [******   24%           ] Elapsed 0.11s / Remaining 00:00:00:00"
     ]
    },
    {
     "name": "stdout",
     "output_type": "stream",
     "text": [
      "\r",
      " [******   24%           ] Elapsed 0.11s / Remaining 00:00:00:00"
     ]
    },
    {
     "name": "stdout",
     "output_type": "stream",
     "text": [
      "\r",
      " [******   24%           ] Elapsed 0.11s / Remaining 00:00:00:00"
     ]
    },
    {
     "name": "stdout",
     "output_type": "stream",
     "text": [
      "\r",
      " [******   24%           ] Elapsed 0.11s / Remaining 00:00:00:00"
     ]
    },
    {
     "name": "stdout",
     "output_type": "stream",
     "text": [
      "\r",
      " [******   25%           ] Elapsed 0.11s / Remaining 00:00:00:00"
     ]
    },
    {
     "name": "stdout",
     "output_type": "stream",
     "text": [
      "\r",
      " [******   25%           ] Elapsed 0.11s / Remaining 00:00:00:00"
     ]
    },
    {
     "name": "stdout",
     "output_type": "stream",
     "text": [
      "\r",
      " [******   25%           ] Elapsed 0.11s / Remaining 00:00:00:00"
     ]
    },
    {
     "name": "stdout",
     "output_type": "stream",
     "text": [
      "\r",
      " [******   25%           ] Elapsed 0.12s / Remaining 00:00:00:00"
     ]
    },
    {
     "name": "stdout",
     "output_type": "stream",
     "text": [
      "\r",
      " [******   25%           ] Elapsed 0.12s / Remaining 00:00:00:00"
     ]
    },
    {
     "name": "stdout",
     "output_type": "stream",
     "text": [
      "\r",
      " [******   25%           ] Elapsed 0.12s / Remaining 00:00:00:00"
     ]
    },
    {
     "name": "stdout",
     "output_type": "stream",
     "text": [
      "\r",
      " [******   26%           ] Elapsed 0.12s / Remaining 00:00:00:00"
     ]
    },
    {
     "name": "stdout",
     "output_type": "stream",
     "text": [
      "\r",
      " [******   26%           ] Elapsed 0.12s / Remaining 00:00:00:00"
     ]
    },
    {
     "name": "stdout",
     "output_type": "stream",
     "text": [
      "\r",
      " [******   26%           ] Elapsed 0.12s / Remaining 00:00:00:00"
     ]
    },
    {
     "name": "stdout",
     "output_type": "stream",
     "text": [
      "\r",
      " [******   26%           ] Elapsed 0.12s / Remaining 00:00:00:00"
     ]
    },
    {
     "name": "stdout",
     "output_type": "stream",
     "text": [
      "\r",
      " [******   26%           ] Elapsed 0.12s / Remaining 00:00:00:00"
     ]
    },
    {
     "name": "stdout",
     "output_type": "stream",
     "text": [
      "\r",
      " [******   26%           ] Elapsed 0.12s / Remaining 00:00:00:00"
     ]
    },
    {
     "name": "stdout",
     "output_type": "stream",
     "text": [
      "\r",
      " [******   27%           ] Elapsed 0.12s / Remaining 00:00:00:00"
     ]
    },
    {
     "name": "stdout",
     "output_type": "stream",
     "text": [
      "\r",
      " [******   27%           ] Elapsed 0.12s / Remaining 00:00:00:00"
     ]
    },
    {
     "name": "stdout",
     "output_type": "stream",
     "text": [
      "\r",
      " [******   27%           ] Elapsed 0.12s / Remaining 00:00:00:00"
     ]
    },
    {
     "name": "stdout",
     "output_type": "stream",
     "text": [
      "\r",
      " [******   27%           ] Elapsed 0.12s / Remaining 00:00:00:00"
     ]
    },
    {
     "name": "stdout",
     "output_type": "stream",
     "text": [
      "\r",
      " [******   27%           ] Elapsed 0.12s / Remaining 00:00:00:00"
     ]
    },
    {
     "name": "stdout",
     "output_type": "stream",
     "text": [
      "\r",
      " [******   27%           ] Elapsed 0.12s / Remaining 00:00:00:00"
     ]
    },
    {
     "name": "stdout",
     "output_type": "stream",
     "text": [
      "\r",
      " [******   28%           ] Elapsed 0.13s / Remaining 00:00:00:00"
     ]
    },
    {
     "name": "stdout",
     "output_type": "stream",
     "text": [
      "\r",
      " [******   28%           ] Elapsed 0.13s / Remaining 00:00:00:00"
     ]
    },
    {
     "name": "stdout",
     "output_type": "stream",
     "text": [
      "\r",
      " [******   28%           ] Elapsed 0.13s / Remaining 00:00:00:00"
     ]
    },
    {
     "name": "stdout",
     "output_type": "stream",
     "text": [
      "\r",
      " [******   28%           ] Elapsed 0.13s / Remaining 00:00:00:00"
     ]
    },
    {
     "name": "stdout",
     "output_type": "stream",
     "text": [
      "\r",
      " [******   28%           ] Elapsed 0.13s / Remaining 00:00:00:00"
     ]
    },
    {
     "name": "stdout",
     "output_type": "stream",
     "text": [
      "\r",
      " [******   28%           ] Elapsed 0.13s / Remaining 00:00:00:00"
     ]
    },
    {
     "name": "stdout",
     "output_type": "stream",
     "text": [
      "\r",
      " [*******  29%           ] Elapsed 0.13s / Remaining 00:00:00:00"
     ]
    },
    {
     "name": "stdout",
     "output_type": "stream",
     "text": [
      "\r",
      " [*******  29%           ] Elapsed 0.13s / Remaining 00:00:00:00"
     ]
    },
    {
     "name": "stdout",
     "output_type": "stream",
     "text": [
      "\r",
      " [*******  29%           ] Elapsed 0.13s / Remaining 00:00:00:00"
     ]
    },
    {
     "name": "stdout",
     "output_type": "stream",
     "text": [
      "\r",
      " [*******  29%           ] Elapsed 0.13s / Remaining 00:00:00:00"
     ]
    },
    {
     "name": "stdout",
     "output_type": "stream",
     "text": [
      "\r",
      " [*******  29%           ] Elapsed 0.13s / Remaining 00:00:00:00"
     ]
    },
    {
     "name": "stdout",
     "output_type": "stream",
     "text": [
      "\r",
      " [*******  29%           ] Elapsed 0.13s / Remaining 00:00:00:00"
     ]
    },
    {
     "name": "stdout",
     "output_type": "stream",
     "text": [
      "\r",
      " [*******  30%           ] Elapsed 0.13s / Remaining 00:00:00:00"
     ]
    },
    {
     "name": "stdout",
     "output_type": "stream",
     "text": [
      "\r",
      " [*******  30%           ] Elapsed 0.13s / Remaining 00:00:00:00"
     ]
    },
    {
     "name": "stdout",
     "output_type": "stream",
     "text": [
      "\r",
      " [*******  30%           ] Elapsed 0.13s / Remaining 00:00:00:00"
     ]
    },
    {
     "name": "stdout",
     "output_type": "stream",
     "text": [
      "\r",
      " [*******  30%           ] Elapsed 0.14s / Remaining 00:00:00:00"
     ]
    },
    {
     "name": "stdout",
     "output_type": "stream",
     "text": [
      "\r",
      " [*******  30%           ] Elapsed 0.14s / Remaining 00:00:00:00"
     ]
    },
    {
     "name": "stdout",
     "output_type": "stream",
     "text": [
      "\r",
      " [*******  30%           ] Elapsed 0.14s / Remaining 00:00:00:00"
     ]
    },
    {
     "name": "stdout",
     "output_type": "stream",
     "text": [
      "\r",
      " [*******  31%           ] Elapsed 0.14s / Remaining 00:00:00:00"
     ]
    },
    {
     "name": "stdout",
     "output_type": "stream",
     "text": [
      "\r",
      " [*******  31%           ] Elapsed 0.14s / Remaining 00:00:00:00"
     ]
    },
    {
     "name": "stdout",
     "output_type": "stream",
     "text": [
      "\r",
      " [*******  31%           ] Elapsed 0.14s / Remaining 00:00:00:00"
     ]
    },
    {
     "name": "stdout",
     "output_type": "stream",
     "text": [
      "\r",
      " [*******  31%           ] Elapsed 0.14s / Remaining 00:00:00:00"
     ]
    },
    {
     "name": "stdout",
     "output_type": "stream",
     "text": [
      "\r",
      " [*******  31%           ] Elapsed 0.14s / Remaining 00:00:00:00"
     ]
    },
    {
     "name": "stdout",
     "output_type": "stream",
     "text": [
      "\r",
      " [*******  31%           ] Elapsed 0.14s / Remaining 00:00:00:00"
     ]
    },
    {
     "name": "stdout",
     "output_type": "stream",
     "text": [
      "\r",
      " [*******  32%           ] Elapsed 0.14s / Remaining 00:00:00:00"
     ]
    },
    {
     "name": "stdout",
     "output_type": "stream",
     "text": [
      "\r",
      " [*******  32%           ] Elapsed 0.14s / Remaining 00:00:00:00"
     ]
    },
    {
     "name": "stdout",
     "output_type": "stream",
     "text": [
      "\r",
      " [*******  32%           ] Elapsed 0.14s / Remaining 00:00:00:00"
     ]
    },
    {
     "name": "stdout",
     "output_type": "stream",
     "text": [
      "\r",
      " [*******  32%           ] Elapsed 0.14s / Remaining 00:00:00:00"
     ]
    },
    {
     "name": "stdout",
     "output_type": "stream",
     "text": [
      "\r",
      " [*******  32%           ] Elapsed 0.14s / Remaining 00:00:00:00"
     ]
    },
    {
     "name": "stdout",
     "output_type": "stream",
     "text": [
      "\r",
      " [*******  32%           ] Elapsed 0.14s / Remaining 00:00:00:00"
     ]
    },
    {
     "name": "stdout",
     "output_type": "stream",
     "text": [
      "\r",
      " [******** 33%           ] Elapsed 0.15s / Remaining 00:00:00:00"
     ]
    },
    {
     "name": "stdout",
     "output_type": "stream",
     "text": [
      "\r",
      " [******** 33%           ] Elapsed 0.15s / Remaining 00:00:00:00"
     ]
    },
    {
     "name": "stdout",
     "output_type": "stream",
     "text": [
      "\r",
      " [******** 33%           ] Elapsed 0.15s / Remaining 00:00:00:00"
     ]
    },
    {
     "name": "stdout",
     "output_type": "stream",
     "text": [
      "\r",
      " [******** 33%           ] Elapsed 0.15s / Remaining 00:00:00:00"
     ]
    },
    {
     "name": "stdout",
     "output_type": "stream",
     "text": [
      "\r",
      " [******** 33%           ] Elapsed 0.15s / Remaining 00:00:00:00"
     ]
    },
    {
     "name": "stdout",
     "output_type": "stream",
     "text": [
      "\r",
      " [******** 33%           ] Elapsed 0.15s / Remaining 00:00:00:00"
     ]
    },
    {
     "name": "stdout",
     "output_type": "stream",
     "text": [
      "\r",
      " [******** 34%           ] Elapsed 0.15s / Remaining 00:00:00:00"
     ]
    },
    {
     "name": "stdout",
     "output_type": "stream",
     "text": [
      "\r",
      " [******** 34%           ] Elapsed 0.15s / Remaining 00:00:00:00"
     ]
    },
    {
     "name": "stdout",
     "output_type": "stream",
     "text": [
      "\r",
      " [******** 34%           ] Elapsed 0.15s / Remaining 00:00:00:00"
     ]
    },
    {
     "name": "stdout",
     "output_type": "stream",
     "text": [
      "\r",
      " [******** 34%           ] Elapsed 0.15s / Remaining 00:00:00:00"
     ]
    },
    {
     "name": "stdout",
     "output_type": "stream",
     "text": [
      "\r",
      " [******** 34%           ] Elapsed 0.15s / Remaining 00:00:00:00"
     ]
    },
    {
     "name": "stdout",
     "output_type": "stream",
     "text": [
      "\r",
      " [******** 34%           ] Elapsed 0.15s / Remaining 00:00:00:00"
     ]
    },
    {
     "name": "stdout",
     "output_type": "stream",
     "text": [
      "\r",
      " [******** 35%           ] Elapsed 0.15s / Remaining 00:00:00:00"
     ]
    },
    {
     "name": "stdout",
     "output_type": "stream",
     "text": [
      "\r",
      " [******** 35%           ] Elapsed 0.15s / Remaining 00:00:00:00"
     ]
    },
    {
     "name": "stdout",
     "output_type": "stream",
     "text": [
      "\r",
      " [******** 35%           ] Elapsed 0.15s / Remaining 00:00:00:00"
     ]
    },
    {
     "name": "stdout",
     "output_type": "stream",
     "text": [
      "\r",
      " [******** 35%           ] Elapsed 0.16s / Remaining 00:00:00:00"
     ]
    },
    {
     "name": "stdout",
     "output_type": "stream",
     "text": [
      "\r",
      " [******** 35%           ] Elapsed 0.16s / Remaining 00:00:00:00"
     ]
    },
    {
     "name": "stdout",
     "output_type": "stream",
     "text": [
      "\r",
      " [******** 35%           ] Elapsed 0.16s / Remaining 00:00:00:00"
     ]
    },
    {
     "name": "stdout",
     "output_type": "stream",
     "text": [
      "\r",
      " [******** 36%           ] Elapsed 0.16s / Remaining 00:00:00:00"
     ]
    },
    {
     "name": "stdout",
     "output_type": "stream",
     "text": [
      "\r",
      " [******** 36%           ] Elapsed 0.16s / Remaining 00:00:00:00"
     ]
    },
    {
     "name": "stdout",
     "output_type": "stream",
     "text": [
      "\r",
      " [******** 36%           ] Elapsed 0.16s / Remaining 00:00:00:00"
     ]
    },
    {
     "name": "stdout",
     "output_type": "stream",
     "text": [
      "\r",
      " [******** 36%           ] Elapsed 0.16s / Remaining 00:00:00:00"
     ]
    },
    {
     "name": "stdout",
     "output_type": "stream",
     "text": [
      "\r",
      " [******** 36%           ] Elapsed 0.16s / Remaining 00:00:00:00"
     ]
    },
    {
     "name": "stdout",
     "output_type": "stream",
     "text": [
      "\r",
      " [******** 36%           ] Elapsed 0.16s / Remaining 00:00:00:00"
     ]
    },
    {
     "name": "stdout",
     "output_type": "stream",
     "text": [
      "\r",
      " [*********37%           ] Elapsed 0.16s / Remaining 00:00:00:00"
     ]
    },
    {
     "name": "stdout",
     "output_type": "stream",
     "text": [
      "\r",
      " [*********37%           ] Elapsed 0.16s / Remaining 00:00:00:00"
     ]
    },
    {
     "name": "stdout",
     "output_type": "stream",
     "text": [
      "\r",
      " [*********37%           ] Elapsed 0.16s / Remaining 00:00:00:00"
     ]
    },
    {
     "name": "stdout",
     "output_type": "stream",
     "text": [
      "\r",
      " [*********37%           ] Elapsed 0.16s / Remaining 00:00:00:00"
     ]
    },
    {
     "name": "stdout",
     "output_type": "stream",
     "text": [
      "\r",
      " [*********37%           ] Elapsed 0.16s / Remaining 00:00:00:00"
     ]
    },
    {
     "name": "stdout",
     "output_type": "stream",
     "text": [
      "\r",
      " [*********37%           ] Elapsed 0.16s / Remaining 00:00:00:00"
     ]
    },
    {
     "name": "stdout",
     "output_type": "stream",
     "text": [
      "\r",
      " [*********38%           ] Elapsed 0.17s / Remaining 00:00:00:00"
     ]
    },
    {
     "name": "stdout",
     "output_type": "stream",
     "text": [
      "\r",
      " [*********38%           ] Elapsed 0.17s / Remaining 00:00:00:00"
     ]
    },
    {
     "name": "stdout",
     "output_type": "stream",
     "text": [
      "\r",
      " [*********38%           ] Elapsed 0.17s / Remaining 00:00:00:00"
     ]
    },
    {
     "name": "stdout",
     "output_type": "stream",
     "text": [
      "\r",
      " [*********38%           ] Elapsed 0.17s / Remaining 00:00:00:00"
     ]
    },
    {
     "name": "stdout",
     "output_type": "stream",
     "text": [
      "\r",
      " [*********38%           ] Elapsed 0.17s / Remaining 00:00:00:00"
     ]
    },
    {
     "name": "stdout",
     "output_type": "stream",
     "text": [
      "\r",
      " [*********38%           ] Elapsed 0.17s / Remaining 00:00:00:00"
     ]
    },
    {
     "name": "stdout",
     "output_type": "stream",
     "text": [
      "\r",
      " [*********39%           ] Elapsed 0.17s / Remaining 00:00:00:00"
     ]
    },
    {
     "name": "stdout",
     "output_type": "stream",
     "text": [
      "\r",
      " [*********39%           ] Elapsed 0.17s / Remaining 00:00:00:00"
     ]
    },
    {
     "name": "stdout",
     "output_type": "stream",
     "text": [
      "\r",
      " [*********39%           ] Elapsed 0.17s / Remaining 00:00:00:00"
     ]
    },
    {
     "name": "stdout",
     "output_type": "stream",
     "text": [
      "\r",
      " [*********39%           ] Elapsed 0.17s / Remaining 00:00:00:00"
     ]
    },
    {
     "name": "stdout",
     "output_type": "stream",
     "text": [
      "\r",
      " [*********39%           ] Elapsed 0.17s / Remaining 00:00:00:00"
     ]
    },
    {
     "name": "stdout",
     "output_type": "stream",
     "text": [
      "\r",
      " [*********39%           ] Elapsed 0.17s / Remaining 00:00:00:00"
     ]
    },
    {
     "name": "stdout",
     "output_type": "stream",
     "text": [
      "\r",
      " [*********40%           ] Elapsed 0.17s / Remaining 00:00:00:00"
     ]
    },
    {
     "name": "stdout",
     "output_type": "stream",
     "text": [
      "\r",
      " [*********40%           ] Elapsed 0.17s / Remaining 00:00:00:00"
     ]
    },
    {
     "name": "stdout",
     "output_type": "stream",
     "text": [
      "\r",
      " [*********40%           ] Elapsed 0.17s / Remaining 00:00:00:00"
     ]
    },
    {
     "name": "stdout",
     "output_type": "stream",
     "text": [
      "\r",
      " [*********40%           ] Elapsed 0.18s / Remaining 00:00:00:00"
     ]
    },
    {
     "name": "stdout",
     "output_type": "stream",
     "text": [
      "\r",
      " [*********40%           ] Elapsed 0.18s / Remaining 00:00:00:00"
     ]
    },
    {
     "name": "stdout",
     "output_type": "stream",
     "text": [
      "\r",
      " [*********40%           ] Elapsed 0.18s / Remaining 00:00:00:00"
     ]
    },
    {
     "name": "stdout",
     "output_type": "stream",
     "text": [
      "\r",
      " [*********41%           ] Elapsed 0.18s / Remaining 00:00:00:00"
     ]
    },
    {
     "name": "stdout",
     "output_type": "stream",
     "text": [
      "\r",
      " [*********41%           ] Elapsed 0.18s / Remaining 00:00:00:00"
     ]
    },
    {
     "name": "stdout",
     "output_type": "stream",
     "text": [
      "\r",
      " [*********41%           ] Elapsed 0.18s / Remaining 00:00:00:00"
     ]
    },
    {
     "name": "stdout",
     "output_type": "stream",
     "text": [
      "\r",
      " [*********41%           ] Elapsed 0.18s / Remaining 00:00:00:00"
     ]
    },
    {
     "name": "stdout",
     "output_type": "stream",
     "text": [
      "\r",
      " [*********41%           ] Elapsed 0.18s / Remaining 00:00:00:00"
     ]
    },
    {
     "name": "stdout",
     "output_type": "stream",
     "text": [
      "\r",
      " [*********41%           ] Elapsed 0.18s / Remaining 00:00:00:00"
     ]
    },
    {
     "name": "stdout",
     "output_type": "stream",
     "text": [
      "\r",
      " [*********42%           ] Elapsed 0.18s / Remaining 00:00:00:00"
     ]
    },
    {
     "name": "stdout",
     "output_type": "stream",
     "text": [
      "\r",
      " [*********42%           ] Elapsed 0.18s / Remaining 00:00:00:00"
     ]
    },
    {
     "name": "stdout",
     "output_type": "stream",
     "text": [
      "\r",
      " [*********42%           ] Elapsed 0.18s / Remaining 00:00:00:00"
     ]
    },
    {
     "name": "stdout",
     "output_type": "stream",
     "text": [
      "\r",
      " [*********42%           ] Elapsed 0.18s / Remaining 00:00:00:00"
     ]
    },
    {
     "name": "stdout",
     "output_type": "stream",
     "text": [
      "\r",
      " [*********42%           ] Elapsed 0.18s / Remaining 00:00:00:00"
     ]
    },
    {
     "name": "stdout",
     "output_type": "stream",
     "text": [
      "\r",
      " [*********42%           ] Elapsed 0.19s / Remaining 00:00:00:00"
     ]
    },
    {
     "name": "stdout",
     "output_type": "stream",
     "text": [
      "\r",
      " [*********43%           ] Elapsed 0.19s / Remaining 00:00:00:00"
     ]
    },
    {
     "name": "stdout",
     "output_type": "stream",
     "text": [
      "\r",
      " [*********43%           ] Elapsed 0.19s / Remaining 00:00:00:00"
     ]
    },
    {
     "name": "stdout",
     "output_type": "stream",
     "text": [
      "\r",
      " [*********43%           ] Elapsed 0.19s / Remaining 00:00:00:00"
     ]
    },
    {
     "name": "stdout",
     "output_type": "stream",
     "text": [
      "\r",
      " [*********43%           ] Elapsed 0.19s / Remaining 00:00:00:00"
     ]
    },
    {
     "name": "stdout",
     "output_type": "stream",
     "text": [
      "\r",
      " [*********43%           ] Elapsed 0.19s / Remaining 00:00:00:00"
     ]
    },
    {
     "name": "stdout",
     "output_type": "stream",
     "text": [
      "\r",
      " [*********43%           ] Elapsed 0.19s / Remaining 00:00:00:00"
     ]
    },
    {
     "name": "stdout",
     "output_type": "stream",
     "text": [
      "\r",
      " [*********44%           ] Elapsed 0.19s / Remaining 00:00:00:00"
     ]
    },
    {
     "name": "stdout",
     "output_type": "stream",
     "text": [
      "\r",
      " [*********44%           ] Elapsed 0.19s / Remaining 00:00:00:00"
     ]
    },
    {
     "name": "stdout",
     "output_type": "stream",
     "text": [
      "\r",
      " [*********44%           ] Elapsed 0.19s / Remaining 00:00:00:00"
     ]
    },
    {
     "name": "stdout",
     "output_type": "stream",
     "text": [
      "\r",
      " [*********44%           ] Elapsed 0.19s / Remaining 00:00:00:00"
     ]
    },
    {
     "name": "stdout",
     "output_type": "stream",
     "text": [
      "\r",
      " [*********44%           ] Elapsed 0.19s / Remaining 00:00:00:00"
     ]
    },
    {
     "name": "stdout",
     "output_type": "stream",
     "text": [
      "\r",
      " [*********44%           ] Elapsed 0.19s / Remaining 00:00:00:00"
     ]
    },
    {
     "name": "stdout",
     "output_type": "stream",
     "text": [
      "\r",
      " [*********45%           ] Elapsed 0.19s / Remaining 00:00:00:00"
     ]
    },
    {
     "name": "stdout",
     "output_type": "stream",
     "text": [
      "\r",
      " [*********45%           ] Elapsed 0.19s / Remaining 00:00:00:00"
     ]
    },
    {
     "name": "stdout",
     "output_type": "stream",
     "text": [
      "\r",
      " [*********45%           ] Elapsed 0.20s / Remaining 00:00:00:00"
     ]
    },
    {
     "name": "stdout",
     "output_type": "stream",
     "text": [
      "\r",
      " [*********45%           ] Elapsed 0.20s / Remaining 00:00:00:00"
     ]
    },
    {
     "name": "stdout",
     "output_type": "stream",
     "text": [
      "\r",
      " [*********45%           ] Elapsed 0.20s / Remaining 00:00:00:00"
     ]
    },
    {
     "name": "stdout",
     "output_type": "stream",
     "text": [
      "\r",
      " [*********45%           ] Elapsed 0.20s / Remaining 00:00:00:00"
     ]
    },
    {
     "name": "stdout",
     "output_type": "stream",
     "text": [
      "\r",
      " [*********46%           ] Elapsed 0.20s / Remaining 00:00:00:00"
     ]
    },
    {
     "name": "stdout",
     "output_type": "stream",
     "text": [
      "\r",
      " [*********46%           ] Elapsed 0.20s / Remaining 00:00:00:00"
     ]
    },
    {
     "name": "stdout",
     "output_type": "stream",
     "text": [
      "\r",
      " [*********46%           ] Elapsed 0.20s / Remaining 00:00:00:00"
     ]
    },
    {
     "name": "stdout",
     "output_type": "stream",
     "text": [
      "\r",
      " [*********46%           ] Elapsed 0.20s / Remaining 00:00:00:00"
     ]
    },
    {
     "name": "stdout",
     "output_type": "stream",
     "text": [
      "\r",
      " [*********46%           ] Elapsed 0.20s / Remaining 00:00:00:00"
     ]
    },
    {
     "name": "stdout",
     "output_type": "stream",
     "text": [
      "\r",
      " [*********46%           ] Elapsed 0.20s / Remaining 00:00:00:00"
     ]
    },
    {
     "name": "stdout",
     "output_type": "stream",
     "text": [
      "\r",
      " [*********47%           ] Elapsed 0.20s / Remaining 00:00:00:00"
     ]
    },
    {
     "name": "stdout",
     "output_type": "stream",
     "text": [
      "\r",
      " [*********47%           ] Elapsed 0.20s / Remaining 00:00:00:00"
     ]
    },
    {
     "name": "stdout",
     "output_type": "stream",
     "text": [
      "\r",
      " [*********47%           ] Elapsed 0.20s / Remaining 00:00:00:00"
     ]
    },
    {
     "name": "stdout",
     "output_type": "stream",
     "text": [
      "\r",
      " [*********47%           ] Elapsed 0.20s / Remaining 00:00:00:00"
     ]
    },
    {
     "name": "stdout",
     "output_type": "stream",
     "text": [
      "\r",
      " [*********47%           ] Elapsed 0.20s / Remaining 00:00:00:00"
     ]
    },
    {
     "name": "stdout",
     "output_type": "stream",
     "text": [
      "\r",
      " [*********47%           ] Elapsed 0.21s / Remaining 00:00:00:00"
     ]
    },
    {
     "name": "stdout",
     "output_type": "stream",
     "text": [
      "\r",
      " [*********48%           ] Elapsed 0.21s / Remaining 00:00:00:00"
     ]
    },
    {
     "name": "stdout",
     "output_type": "stream",
     "text": [
      "\r",
      " [*********48%           ] Elapsed 0.21s / Remaining 00:00:00:00"
     ]
    },
    {
     "name": "stdout",
     "output_type": "stream",
     "text": [
      "\r",
      " [*********48%           ] Elapsed 0.21s / Remaining 00:00:00:00"
     ]
    },
    {
     "name": "stdout",
     "output_type": "stream",
     "text": [
      "\r",
      " [*********48%           ] Elapsed 0.21s / Remaining 00:00:00:00"
     ]
    },
    {
     "name": "stdout",
     "output_type": "stream",
     "text": [
      "\r",
      " [*********48%           ] Elapsed 0.21s / Remaining 00:00:00:00"
     ]
    },
    {
     "name": "stdout",
     "output_type": "stream",
     "text": [
      "\r",
      " [*********48%           ] Elapsed 0.21s / Remaining 00:00:00:00"
     ]
    },
    {
     "name": "stdout",
     "output_type": "stream",
     "text": [
      "\r",
      " [*********49%           ] Elapsed 0.21s / Remaining 00:00:00:00"
     ]
    },
    {
     "name": "stdout",
     "output_type": "stream",
     "text": [
      "\r",
      " [*********49%           ] Elapsed 0.21s / Remaining 00:00:00:00"
     ]
    },
    {
     "name": "stdout",
     "output_type": "stream",
     "text": [
      "\r",
      " [*********49%           ] Elapsed 0.21s / Remaining 00:00:00:00"
     ]
    },
    {
     "name": "stdout",
     "output_type": "stream",
     "text": [
      "\r",
      " [*********49%           ] Elapsed 0.21s / Remaining 00:00:00:00"
     ]
    },
    {
     "name": "stdout",
     "output_type": "stream",
     "text": [
      "\r",
      " [*********49%           ] Elapsed 0.21s / Remaining 00:00:00:00"
     ]
    },
    {
     "name": "stdout",
     "output_type": "stream",
     "text": [
      "\r",
      " [*********49%           ] Elapsed 0.21s / Remaining 00:00:00:00"
     ]
    },
    {
     "name": "stdout",
     "output_type": "stream",
     "text": [
      "\r",
      " [*********50%           ] Elapsed 0.21s / Remaining 00:00:00:00"
     ]
    },
    {
     "name": "stdout",
     "output_type": "stream",
     "text": [
      "\r",
      " [*********50%           ] Elapsed 0.21s / Remaining 00:00:00:00"
     ]
    },
    {
     "name": "stdout",
     "output_type": "stream",
     "text": [
      "\r",
      " [*********50%           ] Elapsed 0.22s / Remaining 00:00:00:00"
     ]
    },
    {
     "name": "stdout",
     "output_type": "stream",
     "text": [
      "\r",
      " [*********50%           ] Elapsed 0.22s / Remaining 00:00:00:00"
     ]
    },
    {
     "name": "stdout",
     "output_type": "stream",
     "text": [
      "\r",
      " [*********50%           ] Elapsed 0.22s / Remaining 00:00:00:00"
     ]
    },
    {
     "name": "stdout",
     "output_type": "stream",
     "text": [
      "\r",
      " [*********50%           ] Elapsed 0.22s / Remaining 00:00:00:00"
     ]
    },
    {
     "name": "stdout",
     "output_type": "stream",
     "text": [
      "\r",
      " [*********51%           ] Elapsed 0.22s / Remaining 00:00:00:00"
     ]
    },
    {
     "name": "stdout",
     "output_type": "stream",
     "text": [
      "\r",
      " [*********51%           ] Elapsed 0.22s / Remaining 00:00:00:00"
     ]
    },
    {
     "name": "stdout",
     "output_type": "stream",
     "text": [
      "\r",
      " [*********51%           ] Elapsed 0.22s / Remaining 00:00:00:00"
     ]
    },
    {
     "name": "stdout",
     "output_type": "stream",
     "text": [
      "\r",
      " [*********51%           ] Elapsed 0.22s / Remaining 00:00:00:00"
     ]
    },
    {
     "name": "stdout",
     "output_type": "stream",
     "text": [
      "\r",
      " [*********51%           ] Elapsed 0.22s / Remaining 00:00:00:00"
     ]
    },
    {
     "name": "stdout",
     "output_type": "stream",
     "text": [
      "\r",
      " [*********51%           ] Elapsed 0.22s / Remaining 00:00:00:00"
     ]
    },
    {
     "name": "stdout",
     "output_type": "stream",
     "text": [
      "\r",
      " [*********52%           ] Elapsed 0.22s / Remaining 00:00:00:00"
     ]
    },
    {
     "name": "stdout",
     "output_type": "stream",
     "text": [
      "\r",
      " [*********52%           ] Elapsed 0.22s / Remaining 00:00:00:00"
     ]
    },
    {
     "name": "stdout",
     "output_type": "stream",
     "text": [
      "\r",
      " [*********52%           ] Elapsed 0.22s / Remaining 00:00:00:00"
     ]
    },
    {
     "name": "stdout",
     "output_type": "stream",
     "text": [
      "\r",
      " [*********52%           ] Elapsed 0.22s / Remaining 00:00:00:00"
     ]
    },
    {
     "name": "stdout",
     "output_type": "stream",
     "text": [
      "\r",
      " [*********52%           ] Elapsed 0.23s / Remaining 00:00:00:00"
     ]
    },
    {
     "name": "stdout",
     "output_type": "stream",
     "text": [
      "\r",
      " [*********52%           ] Elapsed 0.23s / Remaining 00:00:00:00"
     ]
    },
    {
     "name": "stdout",
     "output_type": "stream",
     "text": [
      "\r",
      " [*********53%           ] Elapsed 0.23s / Remaining 00:00:00:00"
     ]
    },
    {
     "name": "stdout",
     "output_type": "stream",
     "text": [
      "\r",
      " [*********53%           ] Elapsed 0.23s / Remaining 00:00:00:00"
     ]
    },
    {
     "name": "stdout",
     "output_type": "stream",
     "text": [
      "\r",
      " [*********53%           ] Elapsed 0.23s / Remaining 00:00:00:00"
     ]
    },
    {
     "name": "stdout",
     "output_type": "stream",
     "text": [
      "\r",
      " [*********53%           ] Elapsed 0.23s / Remaining 00:00:00:00"
     ]
    },
    {
     "name": "stdout",
     "output_type": "stream",
     "text": [
      "\r",
      " [*********53%           ] Elapsed 0.23s / Remaining 00:00:00:00"
     ]
    },
    {
     "name": "stdout",
     "output_type": "stream",
     "text": [
      "\r",
      " [*********53%           ] Elapsed 0.23s / Remaining 00:00:00:00"
     ]
    },
    {
     "name": "stdout",
     "output_type": "stream",
     "text": [
      "\r",
      " [*********54%           ] Elapsed 0.23s / Remaining 00:00:00:00"
     ]
    },
    {
     "name": "stdout",
     "output_type": "stream",
     "text": [
      "\r",
      " [*********54%           ] Elapsed 0.23s / Remaining 00:00:00:00"
     ]
    },
    {
     "name": "stdout",
     "output_type": "stream",
     "text": [
      "\r",
      " [*********54%           ] Elapsed 0.23s / Remaining 00:00:00:00"
     ]
    },
    {
     "name": "stdout",
     "output_type": "stream",
     "text": [
      "\r",
      " [*********54%           ] Elapsed 0.23s / Remaining 00:00:00:00"
     ]
    },
    {
     "name": "stdout",
     "output_type": "stream",
     "text": [
      "\r",
      " [*********54%           ] Elapsed 0.23s / Remaining 00:00:00:00"
     ]
    },
    {
     "name": "stdout",
     "output_type": "stream",
     "text": [
      "\r",
      " [*********54%           ] Elapsed 0.23s / Remaining 00:00:00:00"
     ]
    },
    {
     "name": "stdout",
     "output_type": "stream",
     "text": [
      "\r",
      " [*********55%*          ] Elapsed 0.23s / Remaining 00:00:00:00"
     ]
    },
    {
     "name": "stdout",
     "output_type": "stream",
     "text": [
      "\r",
      " [*********55%*          ] Elapsed 0.24s / Remaining 00:00:00:00"
     ]
    },
    {
     "name": "stdout",
     "output_type": "stream",
     "text": [
      "\r",
      " [*********55%*          ] Elapsed 0.24s / Remaining 00:00:00:00"
     ]
    },
    {
     "name": "stdout",
     "output_type": "stream",
     "text": [
      "\r",
      " [*********55%*          ] Elapsed 0.24s / Remaining 00:00:00:00"
     ]
    },
    {
     "name": "stdout",
     "output_type": "stream",
     "text": [
      "\r",
      " [*********55%*          ] Elapsed 0.24s / Remaining 00:00:00:00"
     ]
    },
    {
     "name": "stdout",
     "output_type": "stream",
     "text": [
      "\r",
      " [*********55%*          ] Elapsed 0.24s / Remaining 00:00:00:00"
     ]
    },
    {
     "name": "stdout",
     "output_type": "stream",
     "text": [
      "\r",
      " [*********56%*          ] Elapsed 0.24s / Remaining 00:00:00:00"
     ]
    },
    {
     "name": "stdout",
     "output_type": "stream",
     "text": [
      "\r",
      " [*********56%*          ] Elapsed 0.24s / Remaining 00:00:00:00"
     ]
    },
    {
     "name": "stdout",
     "output_type": "stream",
     "text": [
      "\r",
      " [*********56%*          ] Elapsed 0.24s / Remaining 00:00:00:00"
     ]
    },
    {
     "name": "stdout",
     "output_type": "stream",
     "text": [
      "\r",
      " [*********56%*          ] Elapsed 0.24s / Remaining 00:00:00:00"
     ]
    },
    {
     "name": "stdout",
     "output_type": "stream",
     "text": [
      "\r",
      " [*********56%*          ] Elapsed 0.24s / Remaining 00:00:00:00"
     ]
    },
    {
     "name": "stdout",
     "output_type": "stream",
     "text": [
      "\r",
      " [*********56%*          ] Elapsed 0.24s / Remaining 00:00:00:00"
     ]
    },
    {
     "name": "stdout",
     "output_type": "stream",
     "text": [
      "\r",
      " [*********57%*          ] Elapsed 0.24s / Remaining 00:00:00:00"
     ]
    },
    {
     "name": "stdout",
     "output_type": "stream",
     "text": [
      "\r",
      " [*********57%*          ] Elapsed 0.24s / Remaining 00:00:00:00"
     ]
    },
    {
     "name": "stdout",
     "output_type": "stream",
     "text": [
      "\r",
      " [*********57%*          ] Elapsed 0.24s / Remaining 00:00:00:00"
     ]
    },
    {
     "name": "stdout",
     "output_type": "stream",
     "text": [
      "\r",
      " [*********57%*          ] Elapsed 0.24s / Remaining 00:00:00:00"
     ]
    },
    {
     "name": "stdout",
     "output_type": "stream",
     "text": [
      "\r",
      " [*********57%*          ] Elapsed 0.25s / Remaining 00:00:00:00"
     ]
    },
    {
     "name": "stdout",
     "output_type": "stream",
     "text": [
      "\r",
      " [*********57%*          ] Elapsed 0.25s / Remaining 00:00:00:00"
     ]
    },
    {
     "name": "stdout",
     "output_type": "stream",
     "text": [
      "\r",
      " [*********58%*          ] Elapsed 0.25s / Remaining 00:00:00:00"
     ]
    },
    {
     "name": "stdout",
     "output_type": "stream",
     "text": [
      "\r",
      " [*********58%*          ] Elapsed 0.25s / Remaining 00:00:00:00"
     ]
    },
    {
     "name": "stdout",
     "output_type": "stream",
     "text": [
      "\r",
      " [*********58%*          ] Elapsed 0.25s / Remaining 00:00:00:00"
     ]
    },
    {
     "name": "stdout",
     "output_type": "stream",
     "text": [
      "\r",
      " [*********58%*          ] Elapsed 0.25s / Remaining 00:00:00:00"
     ]
    },
    {
     "name": "stdout",
     "output_type": "stream",
     "text": [
      "\r",
      " [*********58%*          ] Elapsed 0.25s / Remaining 00:00:00:00"
     ]
    },
    {
     "name": "stdout",
     "output_type": "stream",
     "text": [
      "\r",
      " [*********58%*          ] Elapsed 0.25s / Remaining 00:00:00:00"
     ]
    },
    {
     "name": "stdout",
     "output_type": "stream",
     "text": [
      "\r",
      " [*********59%**         ] Elapsed 0.25s / Remaining 00:00:00:00"
     ]
    },
    {
     "name": "stdout",
     "output_type": "stream",
     "text": [
      "\r",
      " [*********59%**         ] Elapsed 0.25s / Remaining 00:00:00:00"
     ]
    },
    {
     "name": "stdout",
     "output_type": "stream",
     "text": [
      "\r",
      " [*********59%**         ] Elapsed 0.25s / Remaining 00:00:00:00"
     ]
    },
    {
     "name": "stdout",
     "output_type": "stream",
     "text": [
      "\r",
      " [*********59%**         ] Elapsed 0.25s / Remaining 00:00:00:00"
     ]
    },
    {
     "name": "stdout",
     "output_type": "stream",
     "text": [
      "\r",
      " [*********59%**         ] Elapsed 0.25s / Remaining 00:00:00:00"
     ]
    },
    {
     "name": "stdout",
     "output_type": "stream",
     "text": [
      "\r",
      " [*********59%**         ] Elapsed 0.25s / Remaining 00:00:00:00"
     ]
    },
    {
     "name": "stdout",
     "output_type": "stream",
     "text": [
      "\r",
      " [*********60%**         ] Elapsed 0.25s / Remaining 00:00:00:00"
     ]
    },
    {
     "name": "stdout",
     "output_type": "stream",
     "text": [
      "\r",
      " [*********60%**         ] Elapsed 0.25s / Remaining 00:00:00:00"
     ]
    },
    {
     "name": "stdout",
     "output_type": "stream",
     "text": [
      "\r",
      " [*********60%**         ] Elapsed 0.26s / Remaining 00:00:00:00"
     ]
    },
    {
     "name": "stdout",
     "output_type": "stream",
     "text": [
      "\r",
      " [*********60%**         ] Elapsed 0.26s / Remaining 00:00:00:00"
     ]
    },
    {
     "name": "stdout",
     "output_type": "stream",
     "text": [
      "\r",
      " [*********60%**         ] Elapsed 0.26s / Remaining 00:00:00:00"
     ]
    },
    {
     "name": "stdout",
     "output_type": "stream",
     "text": [
      "\r",
      " [*********60%**         ] Elapsed 0.26s / Remaining 00:00:00:00"
     ]
    },
    {
     "name": "stdout",
     "output_type": "stream",
     "text": [
      "\r",
      " [*********61%**         ] Elapsed 0.26s / Remaining 00:00:00:00"
     ]
    },
    {
     "name": "stdout",
     "output_type": "stream",
     "text": [
      "\r",
      " [*********61%**         ] Elapsed 0.26s / Remaining 00:00:00:00"
     ]
    },
    {
     "name": "stdout",
     "output_type": "stream",
     "text": [
      "\r",
      " [*********61%**         ] Elapsed 0.26s / Remaining 00:00:00:00"
     ]
    },
    {
     "name": "stdout",
     "output_type": "stream",
     "text": [
      "\r",
      " [*********61%**         ] Elapsed 0.26s / Remaining 00:00:00:00"
     ]
    },
    {
     "name": "stdout",
     "output_type": "stream",
     "text": [
      "\r",
      " [*********61%**         ] Elapsed 0.26s / Remaining 00:00:00:00"
     ]
    },
    {
     "name": "stdout",
     "output_type": "stream",
     "text": [
      "\r",
      " [*********61%**         ] Elapsed 0.26s / Remaining 00:00:00:00"
     ]
    },
    {
     "name": "stdout",
     "output_type": "stream",
     "text": [
      "\r",
      " [*********62%**         ] Elapsed 0.26s / Remaining 00:00:00:00"
     ]
    },
    {
     "name": "stdout",
     "output_type": "stream",
     "text": [
      "\r",
      " [*********62%**         ] Elapsed 0.26s / Remaining 00:00:00:00"
     ]
    },
    {
     "name": "stdout",
     "output_type": "stream",
     "text": [
      "\r",
      " [*********62%**         ] Elapsed 0.26s / Remaining 00:00:00:00"
     ]
    },
    {
     "name": "stdout",
     "output_type": "stream",
     "text": [
      "\r",
      " [*********62%**         ] Elapsed 0.26s / Remaining 00:00:00:00"
     ]
    },
    {
     "name": "stdout",
     "output_type": "stream",
     "text": [
      "\r",
      " [*********62%**         ] Elapsed 0.26s / Remaining 00:00:00:00"
     ]
    },
    {
     "name": "stdout",
     "output_type": "stream",
     "text": [
      "\r",
      " [*********62%**         ] Elapsed 0.27s / Remaining 00:00:00:00"
     ]
    },
    {
     "name": "stdout",
     "output_type": "stream",
     "text": [
      "\r",
      " [*********63%**         ] Elapsed 0.27s / Remaining 00:00:00:00"
     ]
    },
    {
     "name": "stdout",
     "output_type": "stream",
     "text": [
      "\r",
      " [*********63%**         ] Elapsed 0.27s / Remaining 00:00:00:00"
     ]
    },
    {
     "name": "stdout",
     "output_type": "stream",
     "text": [
      "\r",
      " [*********63%**         ] Elapsed 0.27s / Remaining 00:00:00:00"
     ]
    },
    {
     "name": "stdout",
     "output_type": "stream",
     "text": [
      "\r",
      " [*********63%**         ] Elapsed 0.27s / Remaining 00:00:00:00"
     ]
    },
    {
     "name": "stdout",
     "output_type": "stream",
     "text": [
      "\r",
      " [*********63%**         ] Elapsed 0.27s / Remaining 00:00:00:00"
     ]
    },
    {
     "name": "stdout",
     "output_type": "stream",
     "text": [
      "\r",
      " [*********63%**         ] Elapsed 0.27s / Remaining 00:00:00:00"
     ]
    },
    {
     "name": "stdout",
     "output_type": "stream",
     "text": [
      "\r",
      " [*********64%***        ] Elapsed 0.27s / Remaining 00:00:00:00"
     ]
    },
    {
     "name": "stdout",
     "output_type": "stream",
     "text": [
      "\r",
      " [*********64%***        ] Elapsed 0.27s / Remaining 00:00:00:00"
     ]
    },
    {
     "name": "stdout",
     "output_type": "stream",
     "text": [
      "\r",
      " [*********64%***        ] Elapsed 0.27s / Remaining 00:00:00:00"
     ]
    },
    {
     "name": "stdout",
     "output_type": "stream",
     "text": [
      "\r",
      " [*********64%***        ] Elapsed 0.27s / Remaining 00:00:00:00"
     ]
    },
    {
     "name": "stdout",
     "output_type": "stream",
     "text": [
      "\r",
      " [*********64%***        ] Elapsed 0.27s / Remaining 00:00:00:00"
     ]
    },
    {
     "name": "stdout",
     "output_type": "stream",
     "text": [
      "\r",
      " [*********64%***        ] Elapsed 0.27s / Remaining 00:00:00:00"
     ]
    },
    {
     "name": "stdout",
     "output_type": "stream",
     "text": [
      "\r",
      " [*********65%***        ] Elapsed 0.27s / Remaining 00:00:00:00"
     ]
    },
    {
     "name": "stdout",
     "output_type": "stream",
     "text": [
      "\r",
      " [*********65%***        ] Elapsed 0.28s / Remaining 00:00:00:00"
     ]
    },
    {
     "name": "stdout",
     "output_type": "stream",
     "text": [
      "\r",
      " [*********65%***        ] Elapsed 0.28s / Remaining 00:00:00:00"
     ]
    },
    {
     "name": "stdout",
     "output_type": "stream",
     "text": [
      "\r",
      " [*********65%***        ] Elapsed 0.28s / Remaining 00:00:00:00"
     ]
    },
    {
     "name": "stdout",
     "output_type": "stream",
     "text": [
      "\r",
      " [*********65%***        ] Elapsed 0.28s / Remaining 00:00:00:00"
     ]
    },
    {
     "name": "stdout",
     "output_type": "stream",
     "text": [
      "\r",
      " [*********65%***        ] Elapsed 0.28s / Remaining 00:00:00:00"
     ]
    },
    {
     "name": "stdout",
     "output_type": "stream",
     "text": [
      "\r",
      " [*********66%***        ] Elapsed 0.28s / Remaining 00:00:00:00"
     ]
    },
    {
     "name": "stdout",
     "output_type": "stream",
     "text": [
      "\r",
      " [*********66%***        ] Elapsed 0.28s / Remaining 00:00:00:00"
     ]
    },
    {
     "name": "stdout",
     "output_type": "stream",
     "text": [
      "\r",
      " [*********66%***        ] Elapsed 0.28s / Remaining 00:00:00:00"
     ]
    },
    {
     "name": "stdout",
     "output_type": "stream",
     "text": [
      "\r",
      " [*********66%***        ] Elapsed 0.28s / Remaining 00:00:00:00"
     ]
    },
    {
     "name": "stdout",
     "output_type": "stream",
     "text": [
      "\r",
      " [*********66%***        ] Elapsed 0.28s / Remaining 00:00:00:00"
     ]
    },
    {
     "name": "stdout",
     "output_type": "stream",
     "text": [
      "\r",
      " [*********66%***        ] Elapsed 0.28s / Remaining 00:00:00:00"
     ]
    },
    {
     "name": "stdout",
     "output_type": "stream",
     "text": [
      "\r",
      " [*********67%***        ] Elapsed 0.28s / Remaining 00:00:00:00"
     ]
    },
    {
     "name": "stdout",
     "output_type": "stream",
     "text": [
      "\r",
      " [*********67%***        ] Elapsed 0.28s / Remaining 00:00:00:00"
     ]
    },
    {
     "name": "stdout",
     "output_type": "stream",
     "text": [
      "\r",
      " [*********67%***        ] Elapsed 0.28s / Remaining 00:00:00:00"
     ]
    },
    {
     "name": "stdout",
     "output_type": "stream",
     "text": [
      "\r",
      " [*********67%***        ] Elapsed 0.28s / Remaining 00:00:00:00"
     ]
    },
    {
     "name": "stdout",
     "output_type": "stream",
     "text": [
      "\r",
      " [*********67%***        ] Elapsed 0.29s / Remaining 00:00:00:00"
     ]
    },
    {
     "name": "stdout",
     "output_type": "stream",
     "text": [
      "\r",
      " [*********67%***        ] Elapsed 0.29s / Remaining 00:00:00:00"
     ]
    },
    {
     "name": "stdout",
     "output_type": "stream",
     "text": [
      "\r",
      " [*********68%****       ] Elapsed 0.29s / Remaining 00:00:00:00"
     ]
    },
    {
     "name": "stdout",
     "output_type": "stream",
     "text": [
      "\r",
      " [*********68%****       ] Elapsed 0.29s / Remaining 00:00:00:00"
     ]
    },
    {
     "name": "stdout",
     "output_type": "stream",
     "text": [
      "\r",
      " [*********68%****       ] Elapsed 0.29s / Remaining 00:00:00:00"
     ]
    },
    {
     "name": "stdout",
     "output_type": "stream",
     "text": [
      "\r",
      " [*********68%****       ] Elapsed 0.29s / Remaining 00:00:00:00"
     ]
    },
    {
     "name": "stdout",
     "output_type": "stream",
     "text": [
      "\r",
      " [*********68%****       ] Elapsed 0.29s / Remaining 00:00:00:00"
     ]
    },
    {
     "name": "stdout",
     "output_type": "stream",
     "text": [
      "\r",
      " [*********68%****       ] Elapsed 0.29s / Remaining 00:00:00:00"
     ]
    },
    {
     "name": "stdout",
     "output_type": "stream",
     "text": [
      "\r",
      " [*********69%****       ] Elapsed 0.29s / Remaining 00:00:00:00"
     ]
    },
    {
     "name": "stdout",
     "output_type": "stream",
     "text": [
      "\r",
      " [*********69%****       ] Elapsed 0.29s / Remaining 00:00:00:00"
     ]
    },
    {
     "name": "stdout",
     "output_type": "stream",
     "text": [
      "\r",
      " [*********69%****       ] Elapsed 0.29s / Remaining 00:00:00:00"
     ]
    },
    {
     "name": "stdout",
     "output_type": "stream",
     "text": [
      "\r",
      " [*********69%****       ] Elapsed 0.29s / Remaining 00:00:00:00"
     ]
    },
    {
     "name": "stdout",
     "output_type": "stream",
     "text": [
      "\r",
      " [*********69%****       ] Elapsed 0.29s / Remaining 00:00:00:00"
     ]
    },
    {
     "name": "stdout",
     "output_type": "stream",
     "text": [
      "\r",
      " [*********69%****       ] Elapsed 0.29s / Remaining 00:00:00:00"
     ]
    },
    {
     "name": "stdout",
     "output_type": "stream",
     "text": [
      "\r",
      " [*********70%****       ] Elapsed 0.30s / Remaining 00:00:00:00"
     ]
    },
    {
     "name": "stdout",
     "output_type": "stream",
     "text": [
      "\r",
      " [*********70%****       ] Elapsed 0.30s / Remaining 00:00:00:00"
     ]
    },
    {
     "name": "stdout",
     "output_type": "stream",
     "text": [
      "\r",
      " [*********70%****       ] Elapsed 0.30s / Remaining 00:00:00:00"
     ]
    },
    {
     "name": "stdout",
     "output_type": "stream",
     "text": [
      "\r",
      " [*********70%****       ] Elapsed 0.30s / Remaining 00:00:00:00"
     ]
    },
    {
     "name": "stdout",
     "output_type": "stream",
     "text": [
      "\r",
      " [*********70%****       ] Elapsed 0.30s / Remaining 00:00:00:00"
     ]
    },
    {
     "name": "stdout",
     "output_type": "stream",
     "text": [
      "\r",
      " [*********70%****       ] Elapsed 0.30s / Remaining 00:00:00:00"
     ]
    },
    {
     "name": "stdout",
     "output_type": "stream",
     "text": [
      "\r",
      " [*********71%****       ] Elapsed 0.30s / Remaining 00:00:00:00"
     ]
    },
    {
     "name": "stdout",
     "output_type": "stream",
     "text": [
      "\r",
      " [*********71%****       ] Elapsed 0.30s / Remaining 00:00:00:00"
     ]
    },
    {
     "name": "stdout",
     "output_type": "stream",
     "text": [
      "\r",
      " [*********71%****       ] Elapsed 0.30s / Remaining 00:00:00:00"
     ]
    },
    {
     "name": "stdout",
     "output_type": "stream",
     "text": [
      "\r",
      " [*********71%****       ] Elapsed 0.30s / Remaining 00:00:00:00"
     ]
    },
    {
     "name": "stdout",
     "output_type": "stream",
     "text": [
      "\r",
      " [*********71%****       ] Elapsed 0.30s / Remaining 00:00:00:00"
     ]
    },
    {
     "name": "stdout",
     "output_type": "stream",
     "text": [
      "\r",
      " [*********71%****       ] Elapsed 0.30s / Remaining 00:00:00:00"
     ]
    },
    {
     "name": "stdout",
     "output_type": "stream",
     "text": [
      "\r",
      " [*********72%*****      ] Elapsed 0.30s / Remaining 00:00:00:00"
     ]
    },
    {
     "name": "stdout",
     "output_type": "stream",
     "text": [
      "\r",
      " [*********72%*****      ] Elapsed 0.30s / Remaining 00:00:00:00"
     ]
    },
    {
     "name": "stdout",
     "output_type": "stream",
     "text": [
      "\r",
      " [*********72%*****      ] Elapsed 0.30s / Remaining 00:00:00:00"
     ]
    },
    {
     "name": "stdout",
     "output_type": "stream",
     "text": [
      "\r",
      " [*********72%*****      ] Elapsed 0.31s / Remaining 00:00:00:00"
     ]
    },
    {
     "name": "stdout",
     "output_type": "stream",
     "text": [
      "\r",
      " [*********72%*****      ] Elapsed 0.31s / Remaining 00:00:00:00"
     ]
    },
    {
     "name": "stdout",
     "output_type": "stream",
     "text": [
      "\r",
      " [*********72%*****      ] Elapsed 0.31s / Remaining 00:00:00:00"
     ]
    },
    {
     "name": "stdout",
     "output_type": "stream",
     "text": [
      "\r",
      " [*********73%*****      ] Elapsed 0.31s / Remaining 00:00:00:00"
     ]
    },
    {
     "name": "stdout",
     "output_type": "stream",
     "text": [
      "\r",
      " [*********73%*****      ] Elapsed 0.31s / Remaining 00:00:00:00"
     ]
    },
    {
     "name": "stdout",
     "output_type": "stream",
     "text": [
      "\r",
      " [*********73%*****      ] Elapsed 0.31s / Remaining 00:00:00:00"
     ]
    },
    {
     "name": "stdout",
     "output_type": "stream",
     "text": [
      "\r",
      " [*********73%*****      ] Elapsed 0.31s / Remaining 00:00:00:00"
     ]
    },
    {
     "name": "stdout",
     "output_type": "stream",
     "text": [
      "\r",
      " [*********73%*****      ] Elapsed 0.31s / Remaining 00:00:00:00"
     ]
    },
    {
     "name": "stdout",
     "output_type": "stream",
     "text": [
      "\r",
      " [*********73%*****      ] Elapsed 0.31s / Remaining 00:00:00:00"
     ]
    },
    {
     "name": "stdout",
     "output_type": "stream",
     "text": [
      "\r",
      " [*********74%*****      ] Elapsed 0.31s / Remaining 00:00:00:00"
     ]
    },
    {
     "name": "stdout",
     "output_type": "stream",
     "text": [
      "\r",
      " [*********74%*****      ] Elapsed 0.31s / Remaining 00:00:00:00"
     ]
    },
    {
     "name": "stdout",
     "output_type": "stream",
     "text": [
      "\r",
      " [*********74%*****      ] Elapsed 0.31s / Remaining 00:00:00:00"
     ]
    },
    {
     "name": "stdout",
     "output_type": "stream",
     "text": [
      "\r"
     ]
    },
    {
     "name": "stdout",
     "output_type": "stream",
     "text": [
      " [*********74%*****      ] Elapsed 0.31s / Remaining 00:00:00:00"
     ]
    },
    {
     "name": "stdout",
     "output_type": "stream",
     "text": [
      "\r",
      " [*********74%*****      ] Elapsed 0.31s / Remaining 00:00:00:00"
     ]
    },
    {
     "name": "stdout",
     "output_type": "stream",
     "text": [
      "\r",
      " [*********74%*****      ] Elapsed 0.32s / Remaining 00:00:00:00"
     ]
    },
    {
     "name": "stdout",
     "output_type": "stream",
     "text": [
      "\r",
      " [*********75%*****      ] Elapsed 0.32s / Remaining 00:00:00:00"
     ]
    },
    {
     "name": "stdout",
     "output_type": "stream",
     "text": [
      "\r",
      " [*********75%*****      ] Elapsed 0.32s / Remaining 00:00:00:00"
     ]
    },
    {
     "name": "stdout",
     "output_type": "stream",
     "text": [
      "\r",
      " [*********75%*****      ] Elapsed 0.32s / Remaining 00:00:00:00"
     ]
    },
    {
     "name": "stdout",
     "output_type": "stream",
     "text": [
      "\r",
      " [*********75%*****      ] Elapsed 0.32s / Remaining 00:00:00:00"
     ]
    },
    {
     "name": "stdout",
     "output_type": "stream",
     "text": [
      "\r",
      " [*********75%*****      ] Elapsed 0.32s / Remaining 00:00:00:00"
     ]
    },
    {
     "name": "stdout",
     "output_type": "stream",
     "text": [
      "\r",
      " [*********75%*****      ] Elapsed 0.32s / Remaining 00:00:00:00"
     ]
    },
    {
     "name": "stdout",
     "output_type": "stream",
     "text": [
      "\r",
      " [*********76%*****      ] Elapsed 0.32s / Remaining 00:00:00:00"
     ]
    },
    {
     "name": "stdout",
     "output_type": "stream",
     "text": [
      "\r",
      " [*********76%*****      ] Elapsed 0.32s / Remaining 00:00:00:00"
     ]
    },
    {
     "name": "stdout",
     "output_type": "stream",
     "text": [
      "\r",
      " [*********76%*****      ] Elapsed 0.32s / Remaining 00:00:00:00"
     ]
    },
    {
     "name": "stdout",
     "output_type": "stream",
     "text": [
      "\r",
      " [*********76%*****      ] Elapsed 0.32s / Remaining 00:00:00:00"
     ]
    },
    {
     "name": "stdout",
     "output_type": "stream",
     "text": [
      "\r",
      " [*********76%*****      ] Elapsed 0.32s / Remaining 00:00:00:00"
     ]
    },
    {
     "name": "stdout",
     "output_type": "stream",
     "text": [
      "\r",
      " [*********76%*****      ] Elapsed 0.32s / Remaining 00:00:00:00"
     ]
    },
    {
     "name": "stdout",
     "output_type": "stream",
     "text": [
      "\r",
      " [*********77%******     ] Elapsed 0.32s / Remaining 00:00:00:00"
     ]
    },
    {
     "name": "stdout",
     "output_type": "stream",
     "text": [
      "\r",
      " [*********77%******     ] Elapsed 0.32s / Remaining 00:00:00:00"
     ]
    },
    {
     "name": "stdout",
     "output_type": "stream",
     "text": [
      "\r",
      " [*********77%******     ] Elapsed 0.33s / Remaining 00:00:00:00"
     ]
    },
    {
     "name": "stdout",
     "output_type": "stream",
     "text": [
      "\r",
      " [*********77%******     ] Elapsed 0.33s / Remaining 00:00:00:00"
     ]
    },
    {
     "name": "stdout",
     "output_type": "stream",
     "text": [
      "\r",
      " [*********77%******     ] Elapsed 0.33s / Remaining 00:00:00:00"
     ]
    },
    {
     "name": "stdout",
     "output_type": "stream",
     "text": [
      "\r",
      " [*********77%******     ] Elapsed 0.33s / Remaining 00:00:00:00"
     ]
    },
    {
     "name": "stdout",
     "output_type": "stream",
     "text": [
      "\r",
      " [*********78%******     ] Elapsed 0.33s / Remaining 00:00:00:00"
     ]
    },
    {
     "name": "stdout",
     "output_type": "stream",
     "text": [
      "\r",
      " [*********78%******     ] Elapsed 0.33s / Remaining 00:00:00:00"
     ]
    },
    {
     "name": "stdout",
     "output_type": "stream",
     "text": [
      "\r",
      " [*********78%******     ] Elapsed 0.33s / Remaining 00:00:00:00"
     ]
    },
    {
     "name": "stdout",
     "output_type": "stream",
     "text": [
      "\r",
      " [*********78%******     ] Elapsed 0.33s / Remaining 00:00:00:00"
     ]
    },
    {
     "name": "stdout",
     "output_type": "stream",
     "text": [
      "\r",
      " [*********78%******     ] Elapsed 0.33s / Remaining 00:00:00:00"
     ]
    },
    {
     "name": "stdout",
     "output_type": "stream",
     "text": [
      "\r",
      " [*********78%******     ] Elapsed 0.33s / Remaining 00:00:00:00"
     ]
    },
    {
     "name": "stdout",
     "output_type": "stream",
     "text": [
      "\r",
      " [*********79%******     ] Elapsed 0.33s / Remaining 00:00:00:00"
     ]
    },
    {
     "name": "stdout",
     "output_type": "stream",
     "text": [
      "\r",
      " [*********79%******     ] Elapsed 0.33s / Remaining 00:00:00:00"
     ]
    },
    {
     "name": "stdout",
     "output_type": "stream",
     "text": [
      "\r",
      " [*********79%******     ] Elapsed 0.33s / Remaining 00:00:00:00"
     ]
    },
    {
     "name": "stdout",
     "output_type": "stream",
     "text": [
      "\r",
      " [*********79%******     ] Elapsed 0.33s / Remaining 00:00:00:00"
     ]
    },
    {
     "name": "stdout",
     "output_type": "stream",
     "text": [
      "\r",
      " [*********79%******     ] Elapsed 0.33s / Remaining 00:00:00:00"
     ]
    },
    {
     "name": "stdout",
     "output_type": "stream",
     "text": [
      "\r",
      " [*********79%******     ] Elapsed 0.34s / Remaining 00:00:00:00"
     ]
    },
    {
     "name": "stdout",
     "output_type": "stream",
     "text": [
      "\r",
      " [*********80%******     ] Elapsed 0.34s / Remaining 00:00:00:00"
     ]
    },
    {
     "name": "stdout",
     "output_type": "stream",
     "text": [
      "\r",
      " [*********80%******     ] Elapsed 0.34s / Remaining 00:00:00:00"
     ]
    },
    {
     "name": "stdout",
     "output_type": "stream",
     "text": [
      "\r",
      " [*********80%******     ] Elapsed 0.34s / Remaining 00:00:00:00"
     ]
    },
    {
     "name": "stdout",
     "output_type": "stream",
     "text": [
      "\r",
      " [*********80%******     ] Elapsed 0.34s / Remaining 00:00:00:00"
     ]
    },
    {
     "name": "stdout",
     "output_type": "stream",
     "text": [
      "\r",
      " [*********80%******     ] Elapsed 0.34s / Remaining 00:00:00:00"
     ]
    },
    {
     "name": "stdout",
     "output_type": "stream",
     "text": [
      "\r",
      " [*********80%******     ] Elapsed 0.34s / Remaining 00:00:00:00"
     ]
    },
    {
     "name": "stdout",
     "output_type": "stream",
     "text": [
      "\r",
      " [*********81%*******    ] Elapsed 0.34s / Remaining 00:00:00:00"
     ]
    },
    {
     "name": "stdout",
     "output_type": "stream",
     "text": [
      "\r",
      " [*********81%*******    ] Elapsed 0.34s / Remaining 00:00:00:00"
     ]
    },
    {
     "name": "stdout",
     "output_type": "stream",
     "text": [
      "\r",
      " [*********81%*******    ] Elapsed 0.34s / Remaining 00:00:00:00"
     ]
    },
    {
     "name": "stdout",
     "output_type": "stream",
     "text": [
      "\r",
      " [*********81%*******    ] Elapsed 0.34s / Remaining 00:00:00:00"
     ]
    },
    {
     "name": "stdout",
     "output_type": "stream",
     "text": [
      "\r",
      " [*********81%*******    ] Elapsed 0.34s / Remaining 00:00:00:00"
     ]
    },
    {
     "name": "stdout",
     "output_type": "stream",
     "text": [
      "\r",
      " [*********81%*******    ] Elapsed 0.34s / Remaining 00:00:00:00"
     ]
    },
    {
     "name": "stdout",
     "output_type": "stream",
     "text": [
      "\r",
      " [*********82%*******    ] Elapsed 0.34s / Remaining 00:00:00:00"
     ]
    },
    {
     "name": "stdout",
     "output_type": "stream",
     "text": [
      "\r",
      " [*********82%*******    ] Elapsed 0.34s / Remaining 00:00:00:00"
     ]
    },
    {
     "name": "stdout",
     "output_type": "stream",
     "text": [
      "\r",
      " [*********82%*******    ] Elapsed 0.35s / Remaining 00:00:00:00"
     ]
    },
    {
     "name": "stdout",
     "output_type": "stream",
     "text": [
      "\r",
      " [*********82%*******    ] Elapsed 0.35s / Remaining 00:00:00:00"
     ]
    },
    {
     "name": "stdout",
     "output_type": "stream",
     "text": [
      "\r",
      " [*********82%*******    ] Elapsed 0.35s / Remaining 00:00:00:00"
     ]
    },
    {
     "name": "stdout",
     "output_type": "stream",
     "text": [
      "\r",
      " [*********82%*******    ] Elapsed 0.35s / Remaining 00:00:00:00"
     ]
    },
    {
     "name": "stdout",
     "output_type": "stream",
     "text": [
      "\r",
      " [*********83%*******    ] Elapsed 0.35s / Remaining 00:00:00:00"
     ]
    },
    {
     "name": "stdout",
     "output_type": "stream",
     "text": [
      "\r",
      " [*********83%*******    ] Elapsed 0.35s / Remaining 00:00:00:00"
     ]
    },
    {
     "name": "stdout",
     "output_type": "stream",
     "text": [
      "\r",
      " [*********83%*******    ] Elapsed 0.35s / Remaining 00:00:00:00"
     ]
    },
    {
     "name": "stdout",
     "output_type": "stream",
     "text": [
      "\r",
      " [*********83%*******    ] Elapsed 0.35s / Remaining 00:00:00:00"
     ]
    },
    {
     "name": "stdout",
     "output_type": "stream",
     "text": [
      "\r",
      " [*********83%*******    ] Elapsed 0.35s / Remaining 00:00:00:00"
     ]
    },
    {
     "name": "stdout",
     "output_type": "stream",
     "text": [
      "\r",
      " [*********83%*******    ] Elapsed 0.35s / Remaining 00:00:00:00"
     ]
    },
    {
     "name": "stdout",
     "output_type": "stream",
     "text": [
      "\r",
      " [*********84%*******    ] Elapsed 0.35s / Remaining 00:00:00:00"
     ]
    },
    {
     "name": "stdout",
     "output_type": "stream",
     "text": [
      "\r",
      " [*********84%*******    ] Elapsed 0.35s / Remaining 00:00:00:00"
     ]
    },
    {
     "name": "stdout",
     "output_type": "stream",
     "text": [
      "\r",
      " [*********84%*******    ] Elapsed 0.35s / Remaining 00:00:00:00"
     ]
    },
    {
     "name": "stdout",
     "output_type": "stream",
     "text": [
      "\r",
      " [*********84%*******    ] Elapsed 0.35s / Remaining 00:00:00:00"
     ]
    },
    {
     "name": "stdout",
     "output_type": "stream",
     "text": [
      "\r",
      " [*********84%*******    ] Elapsed 0.36s / Remaining 00:00:00:00"
     ]
    },
    {
     "name": "stdout",
     "output_type": "stream",
     "text": [
      "\r",
      " [*********84%*******    ] Elapsed 0.36s / Remaining 00:00:00:00"
     ]
    },
    {
     "name": "stdout",
     "output_type": "stream",
     "text": [
      "\r",
      " [*********85%********   ] Elapsed 0.36s / Remaining 00:00:00:00"
     ]
    },
    {
     "name": "stdout",
     "output_type": "stream",
     "text": [
      "\r",
      " [*********85%********   ] Elapsed 0.36s / Remaining 00:00:00:00"
     ]
    },
    {
     "name": "stdout",
     "output_type": "stream",
     "text": [
      "\r",
      " [*********85%********   ] Elapsed 0.36s / Remaining 00:00:00:00"
     ]
    },
    {
     "name": "stdout",
     "output_type": "stream",
     "text": [
      "\r",
      " [*********85%********   ] Elapsed 0.36s / Remaining 00:00:00:00"
     ]
    },
    {
     "name": "stdout",
     "output_type": "stream",
     "text": [
      "\r",
      " [*********85%********   ] Elapsed 0.36s / Remaining 00:00:00:00"
     ]
    },
    {
     "name": "stdout",
     "output_type": "stream",
     "text": [
      "\r",
      " [*********85%********   ] Elapsed 0.36s / Remaining 00:00:00:00"
     ]
    },
    {
     "name": "stdout",
     "output_type": "stream",
     "text": [
      "\r",
      " [*********86%********   ] Elapsed 0.36s / Remaining 00:00:00:00"
     ]
    },
    {
     "name": "stdout",
     "output_type": "stream",
     "text": [
      "\r",
      " [*********86%********   ] Elapsed 0.36s / Remaining 00:00:00:00"
     ]
    },
    {
     "name": "stdout",
     "output_type": "stream",
     "text": [
      "\r",
      " [*********86%********   ] Elapsed 0.36s / Remaining 00:00:00:00"
     ]
    },
    {
     "name": "stdout",
     "output_type": "stream",
     "text": [
      "\r",
      " [*********86%********   ] Elapsed 0.36s / Remaining 00:00:00:00"
     ]
    },
    {
     "name": "stdout",
     "output_type": "stream",
     "text": [
      "\r",
      " [*********86%********   ] Elapsed 0.36s / Remaining 00:00:00:00"
     ]
    },
    {
     "name": "stdout",
     "output_type": "stream",
     "text": [
      "\r",
      " [*********86%********   ] Elapsed 0.36s / Remaining 00:00:00:00"
     ]
    },
    {
     "name": "stdout",
     "output_type": "stream",
     "text": [
      "\r",
      " [*********87%********   ] Elapsed 0.36s / Remaining 00:00:00:00"
     ]
    },
    {
     "name": "stdout",
     "output_type": "stream",
     "text": [
      "\r",
      " [*********87%********   ] Elapsed 0.37s / Remaining 00:00:00:00"
     ]
    },
    {
     "name": "stdout",
     "output_type": "stream",
     "text": [
      "\r",
      " [*********87%********   ] Elapsed 0.37s / Remaining 00:00:00:00"
     ]
    },
    {
     "name": "stdout",
     "output_type": "stream",
     "text": [
      "\r",
      " [*********87%********   ] Elapsed 0.37s / Remaining 00:00:00:00"
     ]
    },
    {
     "name": "stdout",
     "output_type": "stream",
     "text": [
      "\r",
      " [*********87%********   ] Elapsed 0.37s / Remaining 00:00:00:00"
     ]
    },
    {
     "name": "stdout",
     "output_type": "stream",
     "text": [
      "\r",
      " [*********87%********   ] Elapsed 0.37s / Remaining 00:00:00:00"
     ]
    },
    {
     "name": "stdout",
     "output_type": "stream",
     "text": [
      "\r",
      " [*********88%********   ] Elapsed 0.37s / Remaining 00:00:00:00"
     ]
    },
    {
     "name": "stdout",
     "output_type": "stream",
     "text": [
      "\r",
      " [*********88%********   ] Elapsed 0.37s / Remaining 00:00:00:00"
     ]
    },
    {
     "name": "stdout",
     "output_type": "stream",
     "text": [
      "\r",
      " [*********88%********   ] Elapsed 0.37s / Remaining 00:00:00:00"
     ]
    },
    {
     "name": "stdout",
     "output_type": "stream",
     "text": [
      "\r",
      " [*********88%********   ] Elapsed 0.37s / Remaining 00:00:00:00"
     ]
    },
    {
     "name": "stdout",
     "output_type": "stream",
     "text": [
      "\r",
      " [*********88%********   ] Elapsed 0.37s / Remaining 00:00:00:00"
     ]
    },
    {
     "name": "stdout",
     "output_type": "stream",
     "text": [
      "\r",
      " [*********88%********   ] Elapsed 0.37s / Remaining 00:00:00:00"
     ]
    },
    {
     "name": "stdout",
     "output_type": "stream",
     "text": [
      "\r",
      " [*********89%********   ] Elapsed 0.37s / Remaining 00:00:00:00"
     ]
    },
    {
     "name": "stdout",
     "output_type": "stream",
     "text": [
      "\r",
      " [*********89%********   ] Elapsed 0.37s / Remaining 00:00:00:00"
     ]
    },
    {
     "name": "stdout",
     "output_type": "stream",
     "text": [
      "\r",
      " [*********89%********   ] Elapsed 0.37s / Remaining 00:00:00:00"
     ]
    },
    {
     "name": "stdout",
     "output_type": "stream",
     "text": [
      "\r",
      " [*********89%********   ] Elapsed 0.38s / Remaining 00:00:00:00"
     ]
    },
    {
     "name": "stdout",
     "output_type": "stream",
     "text": [
      "\r",
      " [*********89%********   ] Elapsed 0.38s / Remaining 00:00:00:00"
     ]
    },
    {
     "name": "stdout",
     "output_type": "stream",
     "text": [
      "\r",
      " [*********89%********   ] Elapsed 0.38s / Remaining 00:00:00:00"
     ]
    },
    {
     "name": "stdout",
     "output_type": "stream",
     "text": [
      "\r",
      " [*********90%*********  ] Elapsed 0.38s / Remaining 00:00:00:00"
     ]
    },
    {
     "name": "stdout",
     "output_type": "stream",
     "text": [
      "\r",
      " [*********90%*********  ] Elapsed 0.38s / Remaining 00:00:00:00"
     ]
    },
    {
     "name": "stdout",
     "output_type": "stream",
     "text": [
      "\r",
      " [*********90%*********  ] Elapsed 0.38s / Remaining 00:00:00:00"
     ]
    },
    {
     "name": "stdout",
     "output_type": "stream",
     "text": [
      "\r",
      " [*********90%*********  ] Elapsed 0.38s / Remaining 00:00:00:00"
     ]
    },
    {
     "name": "stdout",
     "output_type": "stream",
     "text": [
      "\r",
      " [*********90%*********  ] Elapsed 0.38s / Remaining 00:00:00:00"
     ]
    },
    {
     "name": "stdout",
     "output_type": "stream",
     "text": [
      "\r",
      " [*********90%*********  ] Elapsed 0.38s / Remaining 00:00:00:00"
     ]
    },
    {
     "name": "stdout",
     "output_type": "stream",
     "text": [
      "\r",
      " [*********91%*********  ] Elapsed 0.38s / Remaining 00:00:00:00"
     ]
    },
    {
     "name": "stdout",
     "output_type": "stream",
     "text": [
      "\r",
      " [*********91%*********  ] Elapsed 0.38s / Remaining 00:00:00:00"
     ]
    },
    {
     "name": "stdout",
     "output_type": "stream",
     "text": [
      "\r",
      " [*********91%*********  ] Elapsed 0.38s / Remaining 00:00:00:00"
     ]
    },
    {
     "name": "stdout",
     "output_type": "stream",
     "text": [
      "\r",
      " [*********91%*********  ] Elapsed 0.38s / Remaining 00:00:00:00"
     ]
    },
    {
     "name": "stdout",
     "output_type": "stream",
     "text": [
      "\r",
      " [*********91%*********  ] Elapsed 0.38s / Remaining 00:00:00:00"
     ]
    },
    {
     "name": "stdout",
     "output_type": "stream",
     "text": [
      "\r",
      " [*********91%*********  ] Elapsed 0.38s / Remaining 00:00:00:00"
     ]
    },
    {
     "name": "stdout",
     "output_type": "stream",
     "text": [
      "\r",
      " [*********92%*********  ] Elapsed 0.39s / Remaining 00:00:00:00"
     ]
    },
    {
     "name": "stdout",
     "output_type": "stream",
     "text": [
      "\r",
      " [*********92%*********  ] Elapsed 0.39s / Remaining 00:00:00:00"
     ]
    },
    {
     "name": "stdout",
     "output_type": "stream",
     "text": [
      "\r",
      " [*********92%*********  ] Elapsed 0.39s / Remaining 00:00:00:00"
     ]
    },
    {
     "name": "stdout",
     "output_type": "stream",
     "text": [
      "\r",
      " [*********92%*********  ] Elapsed 0.39s / Remaining 00:00:00:00"
     ]
    },
    {
     "name": "stdout",
     "output_type": "stream",
     "text": [
      "\r",
      " [*********92%*********  ] Elapsed 0.39s / Remaining 00:00:00:00"
     ]
    },
    {
     "name": "stdout",
     "output_type": "stream",
     "text": [
      "\r",
      " [*********92%*********  ] Elapsed 0.39s / Remaining 00:00:00:00"
     ]
    },
    {
     "name": "stdout",
     "output_type": "stream",
     "text": [
      "\r",
      " [*********93%*********  ] Elapsed 0.39s / Remaining 00:00:00:00"
     ]
    },
    {
     "name": "stdout",
     "output_type": "stream",
     "text": [
      "\r",
      " [*********93%*********  ] Elapsed 0.39s / Remaining 00:00:00:00"
     ]
    },
    {
     "name": "stdout",
     "output_type": "stream",
     "text": [
      "\r",
      " [*********93%*********  ] Elapsed 0.39s / Remaining 00:00:00:00"
     ]
    },
    {
     "name": "stdout",
     "output_type": "stream",
     "text": [
      "\r",
      " [*********93%*********  ] Elapsed 0.39s / Remaining 00:00:00:00"
     ]
    },
    {
     "name": "stdout",
     "output_type": "stream",
     "text": [
      "\r",
      " [*********93%*********  ] Elapsed 0.39s / Remaining 00:00:00:00"
     ]
    },
    {
     "name": "stdout",
     "output_type": "stream",
     "text": [
      "\r",
      " [*********93%*********  ] Elapsed 0.39s / Remaining 00:00:00:00"
     ]
    },
    {
     "name": "stdout",
     "output_type": "stream",
     "text": [
      "\r",
      " [*********94%********** ] Elapsed 0.39s / Remaining 00:00:00:00"
     ]
    },
    {
     "name": "stdout",
     "output_type": "stream",
     "text": [
      "\r",
      " [*********94%********** ] Elapsed 0.39s / Remaining 00:00:00:00"
     ]
    },
    {
     "name": "stdout",
     "output_type": "stream",
     "text": [
      "\r",
      " [*********94%********** ] Elapsed 0.39s / Remaining 00:00:00:00"
     ]
    },
    {
     "name": "stdout",
     "output_type": "stream",
     "text": [
      "\r",
      " [*********94%********** ] Elapsed 0.40s / Remaining 00:00:00:00"
     ]
    },
    {
     "name": "stdout",
     "output_type": "stream",
     "text": [
      "\r",
      " [*********94%********** ] Elapsed 0.40s / Remaining 00:00:00:00"
     ]
    },
    {
     "name": "stdout",
     "output_type": "stream",
     "text": [
      "\r",
      " [*********94%********** ] Elapsed 0.40s / Remaining 00:00:00:00"
     ]
    },
    {
     "name": "stdout",
     "output_type": "stream",
     "text": [
      "\r",
      " [*********95%********** ] Elapsed 0.40s / Remaining 00:00:00:00"
     ]
    },
    {
     "name": "stdout",
     "output_type": "stream",
     "text": [
      "\r",
      " [*********95%********** ] Elapsed 0.40s / Remaining 00:00:00:00"
     ]
    },
    {
     "name": "stdout",
     "output_type": "stream",
     "text": [
      "\r",
      " [*********95%********** ] Elapsed 0.40s / Remaining 00:00:00:00"
     ]
    },
    {
     "name": "stdout",
     "output_type": "stream",
     "text": [
      "\r",
      " [*********95%********** ] Elapsed 0.40s / Remaining 00:00:00:00"
     ]
    },
    {
     "name": "stdout",
     "output_type": "stream",
     "text": [
      "\r",
      " [*********95%********** ] Elapsed 0.40s / Remaining 00:00:00:00"
     ]
    },
    {
     "name": "stdout",
     "output_type": "stream",
     "text": [
      "\r",
      " [*********95%********** ] Elapsed 0.40s / Remaining 00:00:00:00"
     ]
    },
    {
     "name": "stdout",
     "output_type": "stream",
     "text": [
      "\r",
      " [*********96%********** ] Elapsed 0.40s / Remaining 00:00:00:00"
     ]
    },
    {
     "name": "stdout",
     "output_type": "stream",
     "text": [
      "\r",
      " [*********96%********** ] Elapsed 0.40s / Remaining 00:00:00:00"
     ]
    },
    {
     "name": "stdout",
     "output_type": "stream",
     "text": [
      "\r",
      " [*********96%********** ] Elapsed 0.40s / Remaining 00:00:00:00"
     ]
    },
    {
     "name": "stdout",
     "output_type": "stream",
     "text": [
      "\r",
      " [*********96%********** ] Elapsed 0.40s / Remaining 00:00:00:00"
     ]
    },
    {
     "name": "stdout",
     "output_type": "stream",
     "text": [
      "\r",
      " [*********96%********** ] Elapsed 0.40s / Remaining 00:00:00:00"
     ]
    },
    {
     "name": "stdout",
     "output_type": "stream",
     "text": [
      "\r",
      " [*********96%********** ] Elapsed 0.41s / Remaining 00:00:00:00"
     ]
    },
    {
     "name": "stdout",
     "output_type": "stream",
     "text": [
      "\r",
      " [*********97%********** ] Elapsed 0.41s / Remaining 00:00:00:00"
     ]
    },
    {
     "name": "stdout",
     "output_type": "stream",
     "text": [
      "\r",
      " [*********97%********** ] Elapsed 0.41s / Remaining 00:00:00:00"
     ]
    },
    {
     "name": "stdout",
     "output_type": "stream",
     "text": [
      "\r",
      " [*********97%********** ] Elapsed 0.41s / Remaining 00:00:00:00"
     ]
    },
    {
     "name": "stdout",
     "output_type": "stream",
     "text": [
      "\r",
      " [*********97%********** ] Elapsed 0.41s / Remaining 00:00:00:00"
     ]
    },
    {
     "name": "stdout",
     "output_type": "stream",
     "text": [
      "\r",
      " [*********97%********** ] Elapsed 0.41s / Remaining 00:00:00:00"
     ]
    },
    {
     "name": "stdout",
     "output_type": "stream",
     "text": [
      "\r",
      " [*********97%********** ] Elapsed 0.41s / Remaining 00:00:00:00"
     ]
    },
    {
     "name": "stdout",
     "output_type": "stream",
     "text": [
      "\r",
      " [*********98%***********] Elapsed 0.41s / Remaining 00:00:00:00"
     ]
    },
    {
     "name": "stdout",
     "output_type": "stream",
     "text": [
      "\r",
      " [*********98%***********] Elapsed 0.41s / Remaining 00:00:00:00"
     ]
    },
    {
     "name": "stdout",
     "output_type": "stream",
     "text": [
      "\r",
      " [*********98%***********] Elapsed 0.41s / Remaining 00:00:00:00"
     ]
    },
    {
     "name": "stdout",
     "output_type": "stream",
     "text": [
      "\r",
      " [*********98%***********] Elapsed 0.41s / Remaining 00:00:00:00"
     ]
    },
    {
     "name": "stdout",
     "output_type": "stream",
     "text": [
      "\r",
      " [*********98%***********] Elapsed 0.41s / Remaining 00:00:00:00"
     ]
    },
    {
     "name": "stdout",
     "output_type": "stream",
     "text": [
      "\r",
      " [*********98%***********] Elapsed 0.41s / Remaining 00:00:00:00"
     ]
    },
    {
     "name": "stdout",
     "output_type": "stream",
     "text": [
      "\r",
      " [*********99%***********] Elapsed 0.41s / Remaining 00:00:00:00"
     ]
    },
    {
     "name": "stdout",
     "output_type": "stream",
     "text": [
      "\r",
      " [*********99%***********] Elapsed 0.41s / Remaining 00:00:00:00"
     ]
    },
    {
     "name": "stdout",
     "output_type": "stream",
     "text": [
      "\r",
      " [*********99%***********] Elapsed 0.42s / Remaining 00:00:00:00"
     ]
    },
    {
     "name": "stdout",
     "output_type": "stream",
     "text": [
      "\r",
      " [*********99%***********] Elapsed 0.42s / Remaining 00:00:00:00"
     ]
    },
    {
     "name": "stdout",
     "output_type": "stream",
     "text": [
      "\r",
      " [*********99%***********] Elapsed 0.42s / Remaining 00:00:00:00"
     ]
    },
    {
     "name": "stdout",
     "output_type": "stream",
     "text": [
      "\r",
      " [*********99%***********] Elapsed 0.42s / Remaining 00:00:00:00"
     ]
    },
    {
     "name": "stdout",
     "output_type": "stream",
     "text": [
      "\r",
      " [********100%***********] Elapsed 0.42s / Remaining 00:00:00:00"
     ]
    },
    {
     "name": "stdout",
     "output_type": "stream",
     "text": [
      "\r",
      " [********100%***********] Elapsed 0.42s / Remaining 00:00:00:00"
     ]
    },
    {
     "name": "stdout",
     "output_type": "stream",
     "text": [
      "\r",
      " [********100%***********] Elapsed 0.42s / Remaining 00:00:00:00"
     ]
    },
    {
     "name": "stdout",
     "output_type": "stream",
     "text": [
      "\r",
      " Total run time:   0.42s\n",
      "ODE solver time: 0.42055201530456543\n"
     ]
    }
   ],
   "source": [
    "with timer(\"RHS construction time\"):\n",
    "    matsEnv = env.approximate(method=\"matsubara\", Nk=Nk)\n",
    "    HEOMMats = HEOMSolver(Hsys, (matsEnv, Q), NC, options=options)\n",
    "\n",
    "with timer(\"ODE solver time\"):\n",
    "    resultMats = HEOMMats.run(rho0, tlist)"
   ]
  },
  {
   "cell_type": "markdown",
   "id": "6be8c20c",
   "metadata": {},
   "source": [
    "## Simulation 2: Matsubara decomposition (including terminator)"
   ]
  },
  {
   "cell_type": "code",
   "execution_count": 11,
   "id": "b4b8aaf3",
   "metadata": {
    "execution": {
     "iopub.execute_input": "2025-08-20T04:09:22.924472Z",
     "iopub.status.busy": "2025-08-20T04:09:22.924252Z",
     "iopub.status.idle": "2025-08-20T04:09:23.368450Z",
     "shell.execute_reply": "2025-08-20T04:09:23.367891Z"
    }
   },
   "outputs": [
    {
     "name": "stdout",
     "output_type": "stream",
     "text": [
      "RHS construction time: 0.019110918045043945\n"
     ]
    },
    {
     "name": "stdout",
     "output_type": "stream",
     "text": [
      "\r",
      " [          0%           ] Elapsed 0.00s / Remaining 00:00:00:00"
     ]
    },
    {
     "name": "stdout",
     "output_type": "stream",
     "text": [
      "\r",
      " [          0%           ] Elapsed 0.00s / Remaining 00:00:00:00"
     ]
    },
    {
     "name": "stdout",
     "output_type": "stream",
     "text": [
      "\r",
      " [          1%           ] Elapsed 0.00s / Remaining 00:00:00:00"
     ]
    },
    {
     "name": "stdout",
     "output_type": "stream",
     "text": [
      "\r",
      " [          1%           ] Elapsed 0.00s / Remaining 00:00:00:00"
     ]
    },
    {
     "name": "stdout",
     "output_type": "stream",
     "text": [
      "\r",
      " [          1%           ] Elapsed 0.01s / Remaining 00:00:00:00"
     ]
    },
    {
     "name": "stdout",
     "output_type": "stream",
     "text": [
      "\r",
      " [          1%           ] Elapsed 0.01s / Remaining 00:00:00:00"
     ]
    },
    {
     "name": "stdout",
     "output_type": "stream",
     "text": [
      "\r",
      " [          1%           ] Elapsed 0.01s / Remaining 00:00:00:00"
     ]
    },
    {
     "name": "stdout",
     "output_type": "stream",
     "text": [
      "\r",
      " [          1%           ] Elapsed 0.01s / Remaining 00:00:00:00"
     ]
    },
    {
     "name": "stdout",
     "output_type": "stream",
     "text": [
      "\r",
      " [          2%           ] Elapsed 0.01s / Remaining 00:00:00:00"
     ]
    },
    {
     "name": "stdout",
     "output_type": "stream",
     "text": [
      "\r",
      " [          2%           ] Elapsed 0.01s / Remaining 00:00:00:00"
     ]
    },
    {
     "name": "stdout",
     "output_type": "stream",
     "text": [
      "\r",
      " [          2%           ] Elapsed 0.01s / Remaining 00:00:00:00"
     ]
    },
    {
     "name": "stdout",
     "output_type": "stream",
     "text": [
      "\r",
      " [          2%           ] Elapsed 0.01s / Remaining 00:00:00:00"
     ]
    },
    {
     "name": "stdout",
     "output_type": "stream",
     "text": [
      "\r",
      " [          2%           ] Elapsed 0.01s / Remaining 00:00:00:00"
     ]
    },
    {
     "name": "stdout",
     "output_type": "stream",
     "text": [
      "\r",
      " [          2%           ] Elapsed 0.02s / Remaining 00:00:00:00"
     ]
    },
    {
     "name": "stdout",
     "output_type": "stream",
     "text": [
      "\r",
      " [*         3%           ] Elapsed 0.02s / Remaining 00:00:00:00"
     ]
    },
    {
     "name": "stdout",
     "output_type": "stream",
     "text": [
      "\r",
      " [*         3%           ] Elapsed 0.02s / Remaining 00:00:00:00"
     ]
    },
    {
     "name": "stdout",
     "output_type": "stream",
     "text": [
      "\r",
      " [*         3%           ] Elapsed 0.02s / Remaining 00:00:00:00"
     ]
    },
    {
     "name": "stdout",
     "output_type": "stream",
     "text": [
      "\r",
      " [*         3%           ] Elapsed 0.02s / Remaining 00:00:00:00"
     ]
    },
    {
     "name": "stdout",
     "output_type": "stream",
     "text": [
      "\r",
      " [*         3%           ] Elapsed 0.02s / Remaining 00:00:00:00"
     ]
    },
    {
     "name": "stdout",
     "output_type": "stream",
     "text": [
      "\r",
      " [*         3%           ] Elapsed 0.02s / Remaining 00:00:00:00"
     ]
    },
    {
     "name": "stdout",
     "output_type": "stream",
     "text": [
      "\r",
      " [*         4%           ] Elapsed 0.02s / Remaining 00:00:00:00"
     ]
    },
    {
     "name": "stdout",
     "output_type": "stream",
     "text": [
      "\r",
      " [*         4%           ] Elapsed 0.02s / Remaining 00:00:00:00"
     ]
    },
    {
     "name": "stdout",
     "output_type": "stream",
     "text": [
      "\r",
      " [*         4%           ] Elapsed 0.02s / Remaining 00:00:00:00"
     ]
    },
    {
     "name": "stdout",
     "output_type": "stream",
     "text": [
      "\r",
      " [*         4%           ] Elapsed 0.02s / Remaining 00:00:00:00"
     ]
    },
    {
     "name": "stdout",
     "output_type": "stream",
     "text": [
      "\r",
      " [*         4%           ] Elapsed 0.03s / Remaining 00:00:00:00"
     ]
    },
    {
     "name": "stdout",
     "output_type": "stream",
     "text": [
      "\r",
      " [*         4%           ] Elapsed 0.03s / Remaining 00:00:00:00"
     ]
    },
    {
     "name": "stdout",
     "output_type": "stream",
     "text": [
      "\r",
      " [*         5%           ] Elapsed 0.03s / Remaining 00:00:00:00"
     ]
    },
    {
     "name": "stdout",
     "output_type": "stream",
     "text": [
      "\r",
      " [*         5%           ] Elapsed 0.03s / Remaining 00:00:00:00"
     ]
    },
    {
     "name": "stdout",
     "output_type": "stream",
     "text": [
      "\r",
      " [*         5%           ] Elapsed 0.03s / Remaining 00:00:00:00"
     ]
    },
    {
     "name": "stdout",
     "output_type": "stream",
     "text": [
      "\r",
      " [*         5%           ] Elapsed 0.03s / Remaining 00:00:00:00"
     ]
    },
    {
     "name": "stdout",
     "output_type": "stream",
     "text": [
      "\r",
      " [*         5%           ] Elapsed 0.03s / Remaining 00:00:00:00"
     ]
    },
    {
     "name": "stdout",
     "output_type": "stream",
     "text": [
      "\r",
      " [*         5%           ] Elapsed 0.03s / Remaining 00:00:00:00"
     ]
    },
    {
     "name": "stdout",
     "output_type": "stream",
     "text": [
      "\r",
      " [*         6%           ] Elapsed 0.03s / Remaining 00:00:00:00"
     ]
    },
    {
     "name": "stdout",
     "output_type": "stream",
     "text": [
      "\r",
      " [*         6%           ] Elapsed 0.03s / Remaining 00:00:00:00"
     ]
    },
    {
     "name": "stdout",
     "output_type": "stream",
     "text": [
      "\r",
      " [*         6%           ] Elapsed 0.03s / Remaining 00:00:00:00"
     ]
    },
    {
     "name": "stdout",
     "output_type": "stream",
     "text": [
      "\r",
      " [*         6%           ] Elapsed 0.04s / Remaining 00:00:00:00"
     ]
    },
    {
     "name": "stdout",
     "output_type": "stream",
     "text": [
      "\r",
      " [*         6%           ] Elapsed 0.04s / Remaining 00:00:00:00"
     ]
    },
    {
     "name": "stdout",
     "output_type": "stream",
     "text": [
      "\r",
      " [*         6%           ] Elapsed 0.04s / Remaining 00:00:00:00"
     ]
    },
    {
     "name": "stdout",
     "output_type": "stream",
     "text": [
      "\r",
      " [**        7%           ] Elapsed 0.04s / Remaining 00:00:00:00"
     ]
    },
    {
     "name": "stdout",
     "output_type": "stream",
     "text": [
      "\r",
      " [**        7%           ] Elapsed 0.04s / Remaining 00:00:00:00"
     ]
    },
    {
     "name": "stdout",
     "output_type": "stream",
     "text": [
      "\r",
      " [**        7%           ] Elapsed 0.04s / Remaining 00:00:00:00"
     ]
    },
    {
     "name": "stdout",
     "output_type": "stream",
     "text": [
      "\r",
      " [**        7%           ] Elapsed 0.04s / Remaining 00:00:00:00"
     ]
    },
    {
     "name": "stdout",
     "output_type": "stream",
     "text": [
      "\r",
      " [**        7%           ] Elapsed 0.04s / Remaining 00:00:00:00"
     ]
    },
    {
     "name": "stdout",
     "output_type": "stream",
     "text": [
      "\r",
      " [**        7%           ] Elapsed 0.04s / Remaining 00:00:00:00"
     ]
    },
    {
     "name": "stdout",
     "output_type": "stream",
     "text": [
      "\r",
      " [**        8%           ] Elapsed 0.04s / Remaining 00:00:00:00"
     ]
    },
    {
     "name": "stdout",
     "output_type": "stream",
     "text": [
      "\r",
      " [**        8%           ] Elapsed 0.04s / Remaining 00:00:00:00"
     ]
    },
    {
     "name": "stdout",
     "output_type": "stream",
     "text": [
      "\r",
      " [**        8%           ] Elapsed 0.04s / Remaining 00:00:00:00"
     ]
    },
    {
     "name": "stdout",
     "output_type": "stream",
     "text": [
      "\r",
      " [**        8%           ] Elapsed 0.05s / Remaining 00:00:00:00"
     ]
    },
    {
     "name": "stdout",
     "output_type": "stream",
     "text": [
      "\r",
      " [**        8%           ] Elapsed 0.05s / Remaining 00:00:00:00"
     ]
    },
    {
     "name": "stdout",
     "output_type": "stream",
     "text": [
      "\r",
      " [**        8%           ] Elapsed 0.05s / Remaining 00:00:00:00"
     ]
    },
    {
     "name": "stdout",
     "output_type": "stream",
     "text": [
      "\r",
      " [**        9%           ] Elapsed 0.05s / Remaining 00:00:00:00"
     ]
    },
    {
     "name": "stdout",
     "output_type": "stream",
     "text": [
      "\r",
      " [**        9%           ] Elapsed 0.05s / Remaining 00:00:00:00"
     ]
    },
    {
     "name": "stdout",
     "output_type": "stream",
     "text": [
      "\r",
      " [**        9%           ] Elapsed 0.05s / Remaining 00:00:00:00"
     ]
    },
    {
     "name": "stdout",
     "output_type": "stream",
     "text": [
      "\r",
      " [**        9%           ] Elapsed 0.05s / Remaining 00:00:00:00"
     ]
    },
    {
     "name": "stdout",
     "output_type": "stream",
     "text": [
      "\r",
      " [**        9%           ] Elapsed 0.05s / Remaining 00:00:00:00"
     ]
    },
    {
     "name": "stdout",
     "output_type": "stream",
     "text": [
      "\r",
      " [**        9%           ] Elapsed 0.05s / Remaining 00:00:00:00"
     ]
    },
    {
     "name": "stdout",
     "output_type": "stream",
     "text": [
      "\r",
      " [**       10%           ] Elapsed 0.05s / Remaining 00:00:00:00"
     ]
    },
    {
     "name": "stdout",
     "output_type": "stream",
     "text": [
      "\r",
      " [**       10%           ] Elapsed 0.05s / Remaining 00:00:00:00"
     ]
    },
    {
     "name": "stdout",
     "output_type": "stream",
     "text": [
      "\r",
      " [**       10%           ] Elapsed 0.05s / Remaining 00:00:00:00"
     ]
    },
    {
     "name": "stdout",
     "output_type": "stream",
     "text": [
      "\r",
      " [**       10%           ] Elapsed 0.05s / Remaining 00:00:00:00"
     ]
    },
    {
     "name": "stdout",
     "output_type": "stream",
     "text": [
      "\r",
      " [**       10%           ] Elapsed 0.06s / Remaining 00:00:00:00"
     ]
    },
    {
     "name": "stdout",
     "output_type": "stream",
     "text": [
      "\r",
      " [**       10%           ] Elapsed 0.06s / Remaining 00:00:00:00"
     ]
    },
    {
     "name": "stdout",
     "output_type": "stream",
     "text": [
      "\r",
      " [***      11%           ] Elapsed 0.06s / Remaining 00:00:00:00"
     ]
    },
    {
     "name": "stdout",
     "output_type": "stream",
     "text": [
      "\r",
      " [***      11%           ] Elapsed 0.06s / Remaining 00:00:00:00"
     ]
    },
    {
     "name": "stdout",
     "output_type": "stream",
     "text": [
      "\r",
      " [***      11%           ] Elapsed 0.06s / Remaining 00:00:00:00"
     ]
    },
    {
     "name": "stdout",
     "output_type": "stream",
     "text": [
      "\r",
      " [***      11%           ] Elapsed 0.06s / Remaining 00:00:00:00"
     ]
    },
    {
     "name": "stdout",
     "output_type": "stream",
     "text": [
      "\r",
      " [***      11%           ] Elapsed 0.06s / Remaining 00:00:00:00"
     ]
    },
    {
     "name": "stdout",
     "output_type": "stream",
     "text": [
      "\r",
      " [***      11%           ] Elapsed 0.06s / Remaining 00:00:00:00"
     ]
    },
    {
     "name": "stdout",
     "output_type": "stream",
     "text": [
      "\r",
      " [***      12%           ] Elapsed 0.06s / Remaining 00:00:00:00"
     ]
    },
    {
     "name": "stdout",
     "output_type": "stream",
     "text": [
      "\r",
      " [***      12%           ] Elapsed 0.06s / Remaining 00:00:00:00"
     ]
    },
    {
     "name": "stdout",
     "output_type": "stream",
     "text": [
      "\r",
      " [***      12%           ] Elapsed 0.06s / Remaining 00:00:00:00"
     ]
    },
    {
     "name": "stdout",
     "output_type": "stream",
     "text": [
      "\r",
      " [***      12%           ] Elapsed 0.06s / Remaining 00:00:00:00"
     ]
    },
    {
     "name": "stdout",
     "output_type": "stream",
     "text": [
      "\r",
      " [***      12%           ] Elapsed 0.06s / Remaining 00:00:00:00"
     ]
    },
    {
     "name": "stdout",
     "output_type": "stream",
     "text": [
      "\r",
      " [***      12%           ] Elapsed 0.06s / Remaining 00:00:00:00"
     ]
    },
    {
     "name": "stdout",
     "output_type": "stream",
     "text": [
      "\r",
      " [***      13%           ] Elapsed 0.06s / Remaining 00:00:00:00"
     ]
    },
    {
     "name": "stdout",
     "output_type": "stream",
     "text": [
      "\r",
      " [***      13%           ] Elapsed 0.07s / Remaining 00:00:00:00"
     ]
    },
    {
     "name": "stdout",
     "output_type": "stream",
     "text": [
      "\r",
      " [***      13%           ] Elapsed 0.07s / Remaining 00:00:00:00"
     ]
    },
    {
     "name": "stdout",
     "output_type": "stream",
     "text": [
      "\r",
      " [***      13%           ] Elapsed 0.07s / Remaining 00:00:00:00"
     ]
    },
    {
     "name": "stdout",
     "output_type": "stream",
     "text": [
      "\r",
      " [***      13%           ] Elapsed 0.07s / Remaining 00:00:00:00"
     ]
    },
    {
     "name": "stdout",
     "output_type": "stream",
     "text": [
      "\r",
      " [***      13%           ] Elapsed 0.07s / Remaining 00:00:00:00"
     ]
    },
    {
     "name": "stdout",
     "output_type": "stream",
     "text": [
      "\r",
      " [***      14%           ] Elapsed 0.07s / Remaining 00:00:00:00"
     ]
    },
    {
     "name": "stdout",
     "output_type": "stream",
     "text": [
      "\r",
      " [***      14%           ] Elapsed 0.07s / Remaining 00:00:00:00"
     ]
    },
    {
     "name": "stdout",
     "output_type": "stream",
     "text": [
      "\r",
      " [***      14%           ] Elapsed 0.07s / Remaining 00:00:00:00"
     ]
    },
    {
     "name": "stdout",
     "output_type": "stream",
     "text": [
      "\r",
      " [***      14%           ] Elapsed 0.07s / Remaining 00:00:00:00"
     ]
    },
    {
     "name": "stdout",
     "output_type": "stream",
     "text": [
      "\r",
      " [***      14%           ] Elapsed 0.07s / Remaining 00:00:00:00"
     ]
    },
    {
     "name": "stdout",
     "output_type": "stream",
     "text": [
      "\r",
      " [***      14%           ] Elapsed 0.07s / Remaining 00:00:00:00"
     ]
    },
    {
     "name": "stdout",
     "output_type": "stream",
     "text": [
      "\r",
      " [***      15%           ] Elapsed 0.07s / Remaining 00:00:00:00"
     ]
    },
    {
     "name": "stdout",
     "output_type": "stream",
     "text": [
      "\r",
      " [***      15%           ] Elapsed 0.07s / Remaining 00:00:00:00"
     ]
    },
    {
     "name": "stdout",
     "output_type": "stream",
     "text": [
      "\r",
      " [***      15%           ] Elapsed 0.07s / Remaining 00:00:00:00"
     ]
    },
    {
     "name": "stdout",
     "output_type": "stream",
     "text": [
      "\r",
      " [***      15%           ] Elapsed 0.07s / Remaining 00:00:00:00"
     ]
    },
    {
     "name": "stdout",
     "output_type": "stream",
     "text": [
      "\r",
      " [***      15%           ] Elapsed 0.08s / Remaining 00:00:00:00"
     ]
    },
    {
     "name": "stdout",
     "output_type": "stream",
     "text": [
      "\r",
      " [***      15%           ] Elapsed 0.08s / Remaining 00:00:00:00"
     ]
    },
    {
     "name": "stdout",
     "output_type": "stream",
     "text": [
      "\r",
      " [****     16%           ] Elapsed 0.08s / Remaining 00:00:00:00"
     ]
    },
    {
     "name": "stdout",
     "output_type": "stream",
     "text": [
      "\r",
      " [****     16%           ] Elapsed 0.08s / Remaining 00:00:00:00"
     ]
    },
    {
     "name": "stdout",
     "output_type": "stream",
     "text": [
      "\r",
      " [****     16%           ] Elapsed 0.08s / Remaining 00:00:00:00"
     ]
    },
    {
     "name": "stdout",
     "output_type": "stream",
     "text": [
      "\r",
      " [****     16%           ] Elapsed 0.08s / Remaining 00:00:00:00"
     ]
    },
    {
     "name": "stdout",
     "output_type": "stream",
     "text": [
      "\r",
      " [****     16%           ] Elapsed 0.08s / Remaining 00:00:00:00"
     ]
    },
    {
     "name": "stdout",
     "output_type": "stream",
     "text": [
      "\r",
      " [****     16%           ] Elapsed 0.08s / Remaining 00:00:00:00"
     ]
    },
    {
     "name": "stdout",
     "output_type": "stream",
     "text": [
      "\r",
      " [****     17%           ] Elapsed 0.08s / Remaining 00:00:00:00"
     ]
    },
    {
     "name": "stdout",
     "output_type": "stream",
     "text": [
      "\r",
      " [****     17%           ] Elapsed 0.08s / Remaining 00:00:00:00"
     ]
    },
    {
     "name": "stdout",
     "output_type": "stream",
     "text": [
      "\r",
      " [****     17%           ] Elapsed 0.08s / Remaining 00:00:00:00"
     ]
    },
    {
     "name": "stdout",
     "output_type": "stream",
     "text": [
      "\r",
      " [****     17%           ] Elapsed 0.08s / Remaining 00:00:00:00"
     ]
    },
    {
     "name": "stdout",
     "output_type": "stream",
     "text": [
      "\r",
      " [****     17%           ] Elapsed 0.08s / Remaining 00:00:00:00"
     ]
    },
    {
     "name": "stdout",
     "output_type": "stream",
     "text": [
      "\r",
      " [****     17%           ] Elapsed 0.08s / Remaining 00:00:00:00"
     ]
    },
    {
     "name": "stdout",
     "output_type": "stream",
     "text": [
      "\r",
      " [****     18%           ] Elapsed 0.08s / Remaining 00:00:00:00"
     ]
    },
    {
     "name": "stdout",
     "output_type": "stream",
     "text": [
      "\r",
      " [****     18%           ] Elapsed 0.09s / Remaining 00:00:00:00"
     ]
    },
    {
     "name": "stdout",
     "output_type": "stream",
     "text": [
      "\r",
      " [****     18%           ] Elapsed 0.09s / Remaining 00:00:00:00"
     ]
    },
    {
     "name": "stdout",
     "output_type": "stream",
     "text": [
      "\r",
      " [****     18%           ] Elapsed 0.09s / Remaining 00:00:00:00"
     ]
    },
    {
     "name": "stdout",
     "output_type": "stream",
     "text": [
      "\r",
      " [****     18%           ] Elapsed 0.09s / Remaining 00:00:00:00"
     ]
    },
    {
     "name": "stdout",
     "output_type": "stream",
     "text": [
      "\r",
      " [****     18%           ] Elapsed 0.09s / Remaining 00:00:00:00"
     ]
    },
    {
     "name": "stdout",
     "output_type": "stream",
     "text": [
      "\r",
      " [****     19%           ] Elapsed 0.09s / Remaining 00:00:00:00"
     ]
    },
    {
     "name": "stdout",
     "output_type": "stream",
     "text": [
      "\r",
      " [****     19%           ] Elapsed 0.09s / Remaining 00:00:00:00"
     ]
    },
    {
     "name": "stdout",
     "output_type": "stream",
     "text": [
      "\r",
      " [****     19%           ] Elapsed 0.09s / Remaining 00:00:00:00"
     ]
    },
    {
     "name": "stdout",
     "output_type": "stream",
     "text": [
      "\r",
      " [****     19%           ] Elapsed 0.09s / Remaining 00:00:00:00"
     ]
    },
    {
     "name": "stdout",
     "output_type": "stream",
     "text": [
      "\r",
      " [****     19%           ] Elapsed 0.09s / Remaining 00:00:00:00"
     ]
    },
    {
     "name": "stdout",
     "output_type": "stream",
     "text": [
      "\r",
      " [****     19%           ] Elapsed 0.09s / Remaining 00:00:00:00"
     ]
    },
    {
     "name": "stdout",
     "output_type": "stream",
     "text": [
      "\r",
      " [*****    20%           ] Elapsed 0.09s / Remaining 00:00:00:00"
     ]
    },
    {
     "name": "stdout",
     "output_type": "stream",
     "text": [
      "\r",
      " [*****    20%           ] Elapsed 0.09s / Remaining 00:00:00:00"
     ]
    },
    {
     "name": "stdout",
     "output_type": "stream",
     "text": [
      "\r",
      " [*****    20%           ] Elapsed 0.09s / Remaining 00:00:00:00"
     ]
    },
    {
     "name": "stdout",
     "output_type": "stream",
     "text": [
      "\r",
      " [*****    20%           ] Elapsed 0.10s / Remaining 00:00:00:00"
     ]
    },
    {
     "name": "stdout",
     "output_type": "stream",
     "text": [
      "\r",
      " [*****    20%           ] Elapsed 0.10s / Remaining 00:00:00:00"
     ]
    },
    {
     "name": "stdout",
     "output_type": "stream",
     "text": [
      "\r",
      " [*****    20%           ] Elapsed 0.10s / Remaining 00:00:00:00"
     ]
    },
    {
     "name": "stdout",
     "output_type": "stream",
     "text": [
      "\r",
      " [*****    21%           ] Elapsed 0.10s / Remaining 00:00:00:00"
     ]
    },
    {
     "name": "stdout",
     "output_type": "stream",
     "text": [
      "\r",
      " [*****    21%           ] Elapsed 0.10s / Remaining 00:00:00:00"
     ]
    },
    {
     "name": "stdout",
     "output_type": "stream",
     "text": [
      "\r",
      " [*****    21%           ] Elapsed 0.10s / Remaining 00:00:00:00"
     ]
    },
    {
     "name": "stdout",
     "output_type": "stream",
     "text": [
      "\r",
      " [*****    21%           ] Elapsed 0.10s / Remaining 00:00:00:00"
     ]
    },
    {
     "name": "stdout",
     "output_type": "stream",
     "text": [
      "\r",
      " [*****    21%           ] Elapsed 0.10s / Remaining 00:00:00:00"
     ]
    },
    {
     "name": "stdout",
     "output_type": "stream",
     "text": [
      "\r",
      " [*****    21%           ] Elapsed 0.10s / Remaining 00:00:00:00"
     ]
    },
    {
     "name": "stdout",
     "output_type": "stream",
     "text": [
      "\r",
      " [*****    22%           ] Elapsed 0.10s / Remaining 00:00:00:00"
     ]
    },
    {
     "name": "stdout",
     "output_type": "stream",
     "text": [
      "\r",
      " [*****    22%           ] Elapsed 0.10s / Remaining 00:00:00:00"
     ]
    },
    {
     "name": "stdout",
     "output_type": "stream",
     "text": [
      "\r",
      " [*****    22%           ] Elapsed 0.10s / Remaining 00:00:00:00"
     ]
    },
    {
     "name": "stdout",
     "output_type": "stream",
     "text": [
      "\r",
      " [*****    22%           ] Elapsed 0.10s / Remaining 00:00:00:00"
     ]
    },
    {
     "name": "stdout",
     "output_type": "stream",
     "text": [
      "\r",
      " [*****    22%           ] Elapsed 0.10s / Remaining 00:00:00:00"
     ]
    },
    {
     "name": "stdout",
     "output_type": "stream",
     "text": [
      "\r",
      " [*****    22%           ] Elapsed 0.10s / Remaining 00:00:00:00"
     ]
    },
    {
     "name": "stdout",
     "output_type": "stream",
     "text": [
      "\r",
      " [*****    23%           ] Elapsed 0.11s / Remaining 00:00:00:00"
     ]
    },
    {
     "name": "stdout",
     "output_type": "stream",
     "text": [
      "\r",
      " [*****    23%           ] Elapsed 0.11s / Remaining 00:00:00:00"
     ]
    },
    {
     "name": "stdout",
     "output_type": "stream",
     "text": [
      "\r",
      " [*****    23%           ] Elapsed 0.11s / Remaining 00:00:00:00"
     ]
    },
    {
     "name": "stdout",
     "output_type": "stream",
     "text": [
      "\r",
      " [*****    23%           ] Elapsed 0.11s / Remaining 00:00:00:00"
     ]
    },
    {
     "name": "stdout",
     "output_type": "stream",
     "text": [
      "\r",
      " [*****    23%           ] Elapsed 0.11s / Remaining 00:00:00:00"
     ]
    },
    {
     "name": "stdout",
     "output_type": "stream",
     "text": [
      "\r",
      " [*****    23%           ] Elapsed 0.11s / Remaining 00:00:00:00"
     ]
    },
    {
     "name": "stdout",
     "output_type": "stream",
     "text": [
      "\r",
      " [******   24%           ] Elapsed 0.11s / Remaining 00:00:00:00"
     ]
    },
    {
     "name": "stdout",
     "output_type": "stream",
     "text": [
      "\r",
      " [******   24%           ] Elapsed 0.11s / Remaining 00:00:00:00"
     ]
    },
    {
     "name": "stdout",
     "output_type": "stream",
     "text": [
      "\r",
      " [******   24%           ] Elapsed 0.11s / Remaining 00:00:00:00"
     ]
    },
    {
     "name": "stdout",
     "output_type": "stream",
     "text": [
      "\r",
      " [******   24%           ] Elapsed 0.11s / Remaining 00:00:00:00"
     ]
    },
    {
     "name": "stdout",
     "output_type": "stream",
     "text": [
      "\r",
      " [******   24%           ] Elapsed 0.11s / Remaining 00:00:00:00"
     ]
    },
    {
     "name": "stdout",
     "output_type": "stream",
     "text": [
      "\r",
      " [******   24%           ] Elapsed 0.11s / Remaining 00:00:00:00"
     ]
    },
    {
     "name": "stdout",
     "output_type": "stream",
     "text": [
      "\r",
      " [******   25%           ] Elapsed 0.11s / Remaining 00:00:00:00"
     ]
    },
    {
     "name": "stdout",
     "output_type": "stream",
     "text": [
      "\r",
      " [******   25%           ] Elapsed 0.11s / Remaining 00:00:00:00"
     ]
    },
    {
     "name": "stdout",
     "output_type": "stream",
     "text": [
      "\r",
      " [******   25%           ] Elapsed 0.11s / Remaining 00:00:00:00"
     ]
    },
    {
     "name": "stdout",
     "output_type": "stream",
     "text": [
      "\r",
      " [******   25%           ] Elapsed 0.12s / Remaining 00:00:00:00"
     ]
    },
    {
     "name": "stdout",
     "output_type": "stream",
     "text": [
      "\r",
      " [******   25%           ] Elapsed 0.12s / Remaining 00:00:00:00"
     ]
    },
    {
     "name": "stdout",
     "output_type": "stream",
     "text": [
      "\r",
      " [******   25%           ] Elapsed 0.12s / Remaining 00:00:00:00"
     ]
    },
    {
     "name": "stdout",
     "output_type": "stream",
     "text": [
      "\r",
      " [******   26%           ] Elapsed 0.12s / Remaining 00:00:00:00"
     ]
    },
    {
     "name": "stdout",
     "output_type": "stream",
     "text": [
      "\r",
      " [******   26%           ] Elapsed 0.12s / Remaining 00:00:00:00"
     ]
    },
    {
     "name": "stdout",
     "output_type": "stream",
     "text": [
      "\r",
      " [******   26%           ] Elapsed 0.12s / Remaining 00:00:00:00"
     ]
    },
    {
     "name": "stdout",
     "output_type": "stream",
     "text": [
      "\r",
      " [******   26%           ] Elapsed 0.12s / Remaining 00:00:00:00"
     ]
    },
    {
     "name": "stdout",
     "output_type": "stream",
     "text": [
      "\r",
      " [******   26%           ] Elapsed 0.12s / Remaining 00:00:00:00"
     ]
    },
    {
     "name": "stdout",
     "output_type": "stream",
     "text": [
      "\r",
      " [******   26%           ] Elapsed 0.12s / Remaining 00:00:00:00"
     ]
    },
    {
     "name": "stdout",
     "output_type": "stream",
     "text": [
      "\r",
      " [******   27%           ] Elapsed 0.12s / Remaining 00:00:00:00"
     ]
    },
    {
     "name": "stdout",
     "output_type": "stream",
     "text": [
      "\r",
      " [******   27%           ] Elapsed 0.12s / Remaining 00:00:00:00"
     ]
    },
    {
     "name": "stdout",
     "output_type": "stream",
     "text": [
      "\r",
      " [******   27%           ] Elapsed 0.12s / Remaining 00:00:00:00"
     ]
    },
    {
     "name": "stdout",
     "output_type": "stream",
     "text": [
      "\r",
      " [******   27%           ] Elapsed 0.12s / Remaining 00:00:00:00"
     ]
    },
    {
     "name": "stdout",
     "output_type": "stream",
     "text": [
      "\r",
      " [******   27%           ] Elapsed 0.12s / Remaining 00:00:00:00"
     ]
    },
    {
     "name": "stdout",
     "output_type": "stream",
     "text": [
      "\r",
      " [******   27%           ] Elapsed 0.13s / Remaining 00:00:00:00"
     ]
    },
    {
     "name": "stdout",
     "output_type": "stream",
     "text": [
      "\r",
      " [******   28%           ] Elapsed 0.13s / Remaining 00:00:00:00"
     ]
    },
    {
     "name": "stdout",
     "output_type": "stream",
     "text": [
      "\r",
      " [******   28%           ] Elapsed 0.13s / Remaining 00:00:00:00"
     ]
    },
    {
     "name": "stdout",
     "output_type": "stream",
     "text": [
      "\r",
      " [******   28%           ] Elapsed 0.13s / Remaining 00:00:00:00"
     ]
    },
    {
     "name": "stdout",
     "output_type": "stream",
     "text": [
      "\r",
      " [******   28%           ] Elapsed 0.13s / Remaining 00:00:00:00"
     ]
    },
    {
     "name": "stdout",
     "output_type": "stream",
     "text": [
      "\r",
      " [******   28%           ] Elapsed 0.13s / Remaining 00:00:00:00"
     ]
    },
    {
     "name": "stdout",
     "output_type": "stream",
     "text": [
      "\r",
      " [******   28%           ] Elapsed 0.13s / Remaining 00:00:00:00"
     ]
    },
    {
     "name": "stdout",
     "output_type": "stream",
     "text": [
      "\r",
      " [*******  29%           ] Elapsed 0.13s / Remaining 00:00:00:00"
     ]
    },
    {
     "name": "stdout",
     "output_type": "stream",
     "text": [
      "\r",
      " [*******  29%           ] Elapsed 0.13s / Remaining 00:00:00:00"
     ]
    },
    {
     "name": "stdout",
     "output_type": "stream",
     "text": [
      "\r",
      " [*******  29%           ] Elapsed 0.13s / Remaining 00:00:00:00"
     ]
    },
    {
     "name": "stdout",
     "output_type": "stream",
     "text": [
      "\r",
      " [*******  29%           ] Elapsed 0.13s / Remaining 00:00:00:00"
     ]
    },
    {
     "name": "stdout",
     "output_type": "stream",
     "text": [
      "\r",
      " [*******  29%           ] Elapsed 0.13s / Remaining 00:00:00:00"
     ]
    },
    {
     "name": "stdout",
     "output_type": "stream",
     "text": [
      "\r",
      " [*******  29%           ] Elapsed 0.13s / Remaining 00:00:00:00"
     ]
    },
    {
     "name": "stdout",
     "output_type": "stream",
     "text": [
      "\r",
      " [*******  30%           ] Elapsed 0.13s / Remaining 00:00:00:00"
     ]
    },
    {
     "name": "stdout",
     "output_type": "stream",
     "text": [
      "\r",
      " [*******  30%           ] Elapsed 0.13s / Remaining 00:00:00:00"
     ]
    },
    {
     "name": "stdout",
     "output_type": "stream",
     "text": [
      "\r",
      " [*******  30%           ] Elapsed 0.14s / Remaining 00:00:00:00"
     ]
    },
    {
     "name": "stdout",
     "output_type": "stream",
     "text": [
      "\r",
      " [*******  30%           ] Elapsed 0.14s / Remaining 00:00:00:00"
     ]
    },
    {
     "name": "stdout",
     "output_type": "stream",
     "text": [
      "\r",
      " [*******  30%           ] Elapsed 0.14s / Remaining 00:00:00:00"
     ]
    },
    {
     "name": "stdout",
     "output_type": "stream",
     "text": [
      "\r",
      " [*******  30%           ] Elapsed 0.14s / Remaining 00:00:00:00"
     ]
    },
    {
     "name": "stdout",
     "output_type": "stream",
     "text": [
      "\r",
      " [*******  31%           ] Elapsed 0.14s / Remaining 00:00:00:00"
     ]
    },
    {
     "name": "stdout",
     "output_type": "stream",
     "text": [
      "\r",
      " [*******  31%           ] Elapsed 0.14s / Remaining 00:00:00:00"
     ]
    },
    {
     "name": "stdout",
     "output_type": "stream",
     "text": [
      "\r",
      " [*******  31%           ] Elapsed 0.14s / Remaining 00:00:00:00"
     ]
    },
    {
     "name": "stdout",
     "output_type": "stream",
     "text": [
      "\r",
      " [*******  31%           ] Elapsed 0.14s / Remaining 00:00:00:00"
     ]
    },
    {
     "name": "stdout",
     "output_type": "stream",
     "text": [
      "\r",
      " [*******  31%           ] Elapsed 0.14s / Remaining 00:00:00:00"
     ]
    },
    {
     "name": "stdout",
     "output_type": "stream",
     "text": [
      "\r",
      " [*******  31%           ] Elapsed 0.14s / Remaining 00:00:00:00"
     ]
    },
    {
     "name": "stdout",
     "output_type": "stream",
     "text": [
      "\r",
      " [*******  32%           ] Elapsed 0.14s / Remaining 00:00:00:00"
     ]
    },
    {
     "name": "stdout",
     "output_type": "stream",
     "text": [
      "\r",
      " [*******  32%           ] Elapsed 0.14s / Remaining 00:00:00:00"
     ]
    },
    {
     "name": "stdout",
     "output_type": "stream",
     "text": [
      "\r",
      " [*******  32%           ] Elapsed 0.14s / Remaining 00:00:00:00"
     ]
    },
    {
     "name": "stdout",
     "output_type": "stream",
     "text": [
      "\r",
      " [*******  32%           ] Elapsed 0.14s / Remaining 00:00:00:00"
     ]
    },
    {
     "name": "stdout",
     "output_type": "stream",
     "text": [
      "\r",
      " [*******  32%           ] Elapsed 0.15s / Remaining 00:00:00:00"
     ]
    },
    {
     "name": "stdout",
     "output_type": "stream",
     "text": [
      "\r",
      " [*******  32%           ] Elapsed 0.15s / Remaining 00:00:00:00"
     ]
    },
    {
     "name": "stdout",
     "output_type": "stream",
     "text": [
      "\r",
      " [******** 33%           ] Elapsed 0.15s / Remaining 00:00:00:00"
     ]
    },
    {
     "name": "stdout",
     "output_type": "stream",
     "text": [
      "\r",
      " [******** 33%           ] Elapsed 0.15s / Remaining 00:00:00:00"
     ]
    },
    {
     "name": "stdout",
     "output_type": "stream",
     "text": [
      "\r",
      " [******** 33%           ] Elapsed 0.15s / Remaining 00:00:00:00"
     ]
    },
    {
     "name": "stdout",
     "output_type": "stream",
     "text": [
      "\r",
      " [******** 33%           ] Elapsed 0.15s / Remaining 00:00:00:00"
     ]
    },
    {
     "name": "stdout",
     "output_type": "stream",
     "text": [
      "\r",
      " [******** 33%           ] Elapsed 0.15s / Remaining 00:00:00:00"
     ]
    },
    {
     "name": "stdout",
     "output_type": "stream",
     "text": [
      "\r",
      " [******** 33%           ] Elapsed 0.15s / Remaining 00:00:00:00"
     ]
    },
    {
     "name": "stdout",
     "output_type": "stream",
     "text": [
      "\r",
      " [******** 34%           ] Elapsed 0.15s / Remaining 00:00:00:00"
     ]
    },
    {
     "name": "stdout",
     "output_type": "stream",
     "text": [
      "\r",
      " [******** 34%           ] Elapsed 0.15s / Remaining 00:00:00:00"
     ]
    },
    {
     "name": "stdout",
     "output_type": "stream",
     "text": [
      "\r",
      " [******** 34%           ] Elapsed 0.15s / Remaining 00:00:00:00"
     ]
    },
    {
     "name": "stdout",
     "output_type": "stream",
     "text": [
      "\r",
      " [******** 34%           ] Elapsed 0.15s / Remaining 00:00:00:00"
     ]
    },
    {
     "name": "stdout",
     "output_type": "stream",
     "text": [
      "\r",
      " [******** 34%           ] Elapsed 0.15s / Remaining 00:00:00:00"
     ]
    },
    {
     "name": "stdout",
     "output_type": "stream",
     "text": [
      "\r",
      " [******** 34%           ] Elapsed 0.15s / Remaining 00:00:00:00"
     ]
    },
    {
     "name": "stdout",
     "output_type": "stream",
     "text": [
      "\r",
      " [******** 35%           ] Elapsed 0.15s / Remaining 00:00:00:00"
     ]
    },
    {
     "name": "stdout",
     "output_type": "stream",
     "text": [
      "\r",
      " [******** 35%           ] Elapsed 0.15s / Remaining 00:00:00:00"
     ]
    },
    {
     "name": "stdout",
     "output_type": "stream",
     "text": [
      "\r",
      " [******** 35%           ] Elapsed 0.16s / Remaining 00:00:00:00"
     ]
    },
    {
     "name": "stdout",
     "output_type": "stream",
     "text": [
      "\r",
      " [******** 35%           ] Elapsed 0.16s / Remaining 00:00:00:00"
     ]
    },
    {
     "name": "stdout",
     "output_type": "stream",
     "text": [
      "\r",
      " [******** 35%           ] Elapsed 0.16s / Remaining 00:00:00:00"
     ]
    },
    {
     "name": "stdout",
     "output_type": "stream",
     "text": [
      "\r",
      " [******** 35%           ] Elapsed 0.16s / Remaining 00:00:00:00"
     ]
    },
    {
     "name": "stdout",
     "output_type": "stream",
     "text": [
      "\r",
      " [******** 36%           ] Elapsed 0.16s / Remaining 00:00:00:00"
     ]
    },
    {
     "name": "stdout",
     "output_type": "stream",
     "text": [
      "\r",
      " [******** 36%           ] Elapsed 0.16s / Remaining 00:00:00:00"
     ]
    },
    {
     "name": "stdout",
     "output_type": "stream",
     "text": [
      "\r",
      " [******** 36%           ] Elapsed 0.16s / Remaining 00:00:00:00"
     ]
    },
    {
     "name": "stdout",
     "output_type": "stream",
     "text": [
      "\r",
      " [******** 36%           ] Elapsed 0.16s / Remaining 00:00:00:00"
     ]
    },
    {
     "name": "stdout",
     "output_type": "stream",
     "text": [
      "\r",
      " [******** 36%           ] Elapsed 0.16s / Remaining 00:00:00:00"
     ]
    },
    {
     "name": "stdout",
     "output_type": "stream",
     "text": [
      "\r",
      " [******** 36%           ] Elapsed 0.16s / Remaining 00:00:00:00"
     ]
    },
    {
     "name": "stdout",
     "output_type": "stream",
     "text": [
      "\r",
      " [*********37%           ] Elapsed 0.16s / Remaining 00:00:00:00"
     ]
    },
    {
     "name": "stdout",
     "output_type": "stream",
     "text": [
      "\r",
      " [*********37%           ] Elapsed 0.16s / Remaining 00:00:00:00"
     ]
    },
    {
     "name": "stdout",
     "output_type": "stream",
     "text": [
      "\r",
      " [*********37%           ] Elapsed 0.16s / Remaining 00:00:00:00"
     ]
    },
    {
     "name": "stdout",
     "output_type": "stream",
     "text": [
      "\r",
      " [*********37%           ] Elapsed 0.16s / Remaining 00:00:00:00"
     ]
    },
    {
     "name": "stdout",
     "output_type": "stream",
     "text": [
      "\r",
      " [*********37%           ] Elapsed 0.17s / Remaining 00:00:00:00"
     ]
    },
    {
     "name": "stdout",
     "output_type": "stream",
     "text": [
      "\r",
      " [*********37%           ] Elapsed 0.17s / Remaining 00:00:00:00"
     ]
    },
    {
     "name": "stdout",
     "output_type": "stream",
     "text": [
      "\r",
      " [*********38%           ] Elapsed 0.17s / Remaining 00:00:00:00"
     ]
    },
    {
     "name": "stdout",
     "output_type": "stream",
     "text": [
      "\r",
      " [*********38%           ] Elapsed 0.17s / Remaining 00:00:00:00"
     ]
    },
    {
     "name": "stdout",
     "output_type": "stream",
     "text": [
      "\r",
      " [*********38%           ] Elapsed 0.17s / Remaining 00:00:00:00"
     ]
    },
    {
     "name": "stdout",
     "output_type": "stream",
     "text": [
      "\r",
      " [*********38%           ] Elapsed 0.17s / Remaining 00:00:00:00"
     ]
    },
    {
     "name": "stdout",
     "output_type": "stream",
     "text": [
      "\r",
      " [*********38%           ] Elapsed 0.17s / Remaining 00:00:00:00"
     ]
    },
    {
     "name": "stdout",
     "output_type": "stream",
     "text": [
      "\r",
      " [*********38%           ] Elapsed 0.17s / Remaining 00:00:00:00"
     ]
    },
    {
     "name": "stdout",
     "output_type": "stream",
     "text": [
      "\r",
      " [*********39%           ] Elapsed 0.17s / Remaining 00:00:00:00"
     ]
    },
    {
     "name": "stdout",
     "output_type": "stream",
     "text": [
      "\r",
      " [*********39%           ] Elapsed 0.17s / Remaining 00:00:00:00"
     ]
    },
    {
     "name": "stdout",
     "output_type": "stream",
     "text": [
      "\r",
      " [*********39%           ] Elapsed 0.17s / Remaining 00:00:00:00"
     ]
    },
    {
     "name": "stdout",
     "output_type": "stream",
     "text": [
      "\r",
      " [*********39%           ] Elapsed 0.17s / Remaining 00:00:00:00"
     ]
    },
    {
     "name": "stdout",
     "output_type": "stream",
     "text": [
      "\r",
      " [*********39%           ] Elapsed 0.17s / Remaining 00:00:00:00"
     ]
    },
    {
     "name": "stdout",
     "output_type": "stream",
     "text": [
      "\r",
      " [*********39%           ] Elapsed 0.17s / Remaining 00:00:00:00"
     ]
    },
    {
     "name": "stdout",
     "output_type": "stream",
     "text": [
      "\r",
      " [*********40%           ] Elapsed 0.17s / Remaining 00:00:00:00"
     ]
    },
    {
     "name": "stdout",
     "output_type": "stream",
     "text": [
      "\r",
      " [*********40%           ] Elapsed 0.18s / Remaining 00:00:00:00"
     ]
    },
    {
     "name": "stdout",
     "output_type": "stream",
     "text": [
      "\r",
      " [*********40%           ] Elapsed 0.18s / Remaining 00:00:00:00"
     ]
    },
    {
     "name": "stdout",
     "output_type": "stream",
     "text": [
      "\r",
      " [*********40%           ] Elapsed 0.18s / Remaining 00:00:00:00"
     ]
    },
    {
     "name": "stdout",
     "output_type": "stream",
     "text": [
      "\r",
      " [*********40%           ] Elapsed 0.18s / Remaining 00:00:00:00"
     ]
    },
    {
     "name": "stdout",
     "output_type": "stream",
     "text": [
      "\r",
      " [*********40%           ] Elapsed 0.18s / Remaining 00:00:00:00"
     ]
    },
    {
     "name": "stdout",
     "output_type": "stream",
     "text": [
      "\r",
      " [*********41%           ] Elapsed 0.18s / Remaining 00:00:00:00"
     ]
    },
    {
     "name": "stdout",
     "output_type": "stream",
     "text": [
      "\r",
      " [*********41%           ] Elapsed 0.18s / Remaining 00:00:00:00"
     ]
    },
    {
     "name": "stdout",
     "output_type": "stream",
     "text": [
      "\r",
      " [*********41%           ] Elapsed 0.18s / Remaining 00:00:00:00"
     ]
    },
    {
     "name": "stdout",
     "output_type": "stream",
     "text": [
      "\r",
      " [*********41%           ] Elapsed 0.18s / Remaining 00:00:00:00"
     ]
    },
    {
     "name": "stdout",
     "output_type": "stream",
     "text": [
      "\r",
      " [*********41%           ] Elapsed 0.18s / Remaining 00:00:00:00"
     ]
    },
    {
     "name": "stdout",
     "output_type": "stream",
     "text": [
      "\r",
      " [*********41%           ] Elapsed 0.18s / Remaining 00:00:00:00"
     ]
    },
    {
     "name": "stdout",
     "output_type": "stream",
     "text": [
      "\r",
      " [*********42%           ] Elapsed 0.18s / Remaining 00:00:00:00"
     ]
    },
    {
     "name": "stdout",
     "output_type": "stream",
     "text": [
      "\r",
      " [*********42%           ] Elapsed 0.18s / Remaining 00:00:00:00"
     ]
    },
    {
     "name": "stdout",
     "output_type": "stream",
     "text": [
      "\r",
      " [*********42%           ] Elapsed 0.18s / Remaining 00:00:00:00"
     ]
    },
    {
     "name": "stdout",
     "output_type": "stream",
     "text": [
      "\r",
      " [*********42%           ] Elapsed 0.18s / Remaining 00:00:00:00"
     ]
    },
    {
     "name": "stdout",
     "output_type": "stream",
     "text": [
      "\r",
      " [*********42%           ] Elapsed 0.19s / Remaining 00:00:00:00"
     ]
    },
    {
     "name": "stdout",
     "output_type": "stream",
     "text": [
      "\r",
      " [*********42%           ] Elapsed 0.19s / Remaining 00:00:00:00"
     ]
    },
    {
     "name": "stdout",
     "output_type": "stream",
     "text": [
      "\r",
      " [*********43%           ] Elapsed 0.19s / Remaining 00:00:00:00"
     ]
    },
    {
     "name": "stdout",
     "output_type": "stream",
     "text": [
      "\r",
      " [*********43%           ] Elapsed 0.19s / Remaining 00:00:00:00"
     ]
    },
    {
     "name": "stdout",
     "output_type": "stream",
     "text": [
      "\r",
      " [*********43%           ] Elapsed 0.19s / Remaining 00:00:00:00"
     ]
    },
    {
     "name": "stdout",
     "output_type": "stream",
     "text": [
      "\r",
      " [*********43%           ] Elapsed 0.19s / Remaining 00:00:00:00"
     ]
    },
    {
     "name": "stdout",
     "output_type": "stream",
     "text": [
      "\r",
      " [*********43%           ] Elapsed 0.19s / Remaining 00:00:00:00"
     ]
    },
    {
     "name": "stdout",
     "output_type": "stream",
     "text": [
      "\r",
      " [*********43%           ] Elapsed 0.19s / Remaining 00:00:00:00"
     ]
    },
    {
     "name": "stdout",
     "output_type": "stream",
     "text": [
      "\r",
      " [*********44%           ] Elapsed 0.19s / Remaining 00:00:00:00"
     ]
    },
    {
     "name": "stdout",
     "output_type": "stream",
     "text": [
      "\r",
      " [*********44%           ] Elapsed 0.19s / Remaining 00:00:00:00"
     ]
    },
    {
     "name": "stdout",
     "output_type": "stream",
     "text": [
      "\r",
      " [*********44%           ] Elapsed 0.19s / Remaining 00:00:00:00"
     ]
    },
    {
     "name": "stdout",
     "output_type": "stream",
     "text": [
      "\r",
      " [*********44%           ] Elapsed 0.19s / Remaining 00:00:00:00"
     ]
    },
    {
     "name": "stdout",
     "output_type": "stream",
     "text": [
      "\r",
      " [*********44%           ] Elapsed 0.19s / Remaining 00:00:00:00"
     ]
    },
    {
     "name": "stdout",
     "output_type": "stream",
     "text": [
      "\r",
      " [*********44%           ] Elapsed 0.19s / Remaining 00:00:00:00"
     ]
    },
    {
     "name": "stdout",
     "output_type": "stream",
     "text": [
      "\r",
      " [*********45%           ] Elapsed 0.19s / Remaining 00:00:00:00"
     ]
    },
    {
     "name": "stdout",
     "output_type": "stream",
     "text": [
      "\r",
      " [*********45%           ] Elapsed 0.20s / Remaining 00:00:00:00"
     ]
    },
    {
     "name": "stdout",
     "output_type": "stream",
     "text": [
      "\r",
      " [*********45%           ] Elapsed 0.20s / Remaining 00:00:00:00"
     ]
    },
    {
     "name": "stdout",
     "output_type": "stream",
     "text": [
      "\r",
      " [*********45%           ] Elapsed 0.20s / Remaining 00:00:00:00"
     ]
    },
    {
     "name": "stdout",
     "output_type": "stream",
     "text": [
      "\r",
      " [*********45%           ] Elapsed 0.20s / Remaining 00:00:00:00"
     ]
    },
    {
     "name": "stdout",
     "output_type": "stream",
     "text": [
      "\r",
      " [*********45%           ] Elapsed 0.20s / Remaining 00:00:00:00"
     ]
    },
    {
     "name": "stdout",
     "output_type": "stream",
     "text": [
      "\r",
      " [*********46%           ] Elapsed 0.20s / Remaining 00:00:00:00"
     ]
    },
    {
     "name": "stdout",
     "output_type": "stream",
     "text": [
      "\r",
      " [*********46%           ] Elapsed 0.20s / Remaining 00:00:00:00"
     ]
    },
    {
     "name": "stdout",
     "output_type": "stream",
     "text": [
      "\r",
      " [*********46%           ] Elapsed 0.20s / Remaining 00:00:00:00"
     ]
    },
    {
     "name": "stdout",
     "output_type": "stream",
     "text": [
      "\r",
      " [*********46%           ] Elapsed 0.20s / Remaining 00:00:00:00"
     ]
    },
    {
     "name": "stdout",
     "output_type": "stream",
     "text": [
      "\r",
      " [*********46%           ] Elapsed 0.20s / Remaining 00:00:00:00"
     ]
    },
    {
     "name": "stdout",
     "output_type": "stream",
     "text": [
      "\r",
      " [*********46%           ] Elapsed 0.20s / Remaining 00:00:00:00"
     ]
    },
    {
     "name": "stdout",
     "output_type": "stream",
     "text": [
      "\r",
      " [*********47%           ] Elapsed 0.20s / Remaining 00:00:00:00"
     ]
    },
    {
     "name": "stdout",
     "output_type": "stream",
     "text": [
      "\r",
      " [*********47%           ] Elapsed 0.20s / Remaining 00:00:00:00"
     ]
    },
    {
     "name": "stdout",
     "output_type": "stream",
     "text": [
      "\r",
      " [*********47%           ] Elapsed 0.20s / Remaining 00:00:00:00"
     ]
    },
    {
     "name": "stdout",
     "output_type": "stream",
     "text": [
      "\r",
      " [*********47%           ] Elapsed 0.21s / Remaining 00:00:00:00"
     ]
    },
    {
     "name": "stdout",
     "output_type": "stream",
     "text": [
      "\r",
      " [*********47%           ] Elapsed 0.21s / Remaining 00:00:00:00"
     ]
    },
    {
     "name": "stdout",
     "output_type": "stream",
     "text": [
      "\r",
      " [*********47%           ] Elapsed 0.21s / Remaining 00:00:00:00"
     ]
    },
    {
     "name": "stdout",
     "output_type": "stream",
     "text": [
      "\r",
      " [*********48%           ] Elapsed 0.21s / Remaining 00:00:00:00"
     ]
    },
    {
     "name": "stdout",
     "output_type": "stream",
     "text": [
      "\r",
      " [*********48%           ] Elapsed 0.21s / Remaining 00:00:00:00"
     ]
    },
    {
     "name": "stdout",
     "output_type": "stream",
     "text": [
      "\r",
      " [*********48%           ] Elapsed 0.21s / Remaining 00:00:00:00"
     ]
    },
    {
     "name": "stdout",
     "output_type": "stream",
     "text": [
      "\r",
      " [*********48%           ] Elapsed 0.21s / Remaining 00:00:00:00"
     ]
    },
    {
     "name": "stdout",
     "output_type": "stream",
     "text": [
      "\r",
      " [*********48%           ] Elapsed 0.21s / Remaining 00:00:00:00"
     ]
    },
    {
     "name": "stdout",
     "output_type": "stream",
     "text": [
      "\r",
      " [*********48%           ] Elapsed 0.21s / Remaining 00:00:00:00"
     ]
    },
    {
     "name": "stdout",
     "output_type": "stream",
     "text": [
      "\r",
      " [*********49%           ] Elapsed 0.21s / Remaining 00:00:00:00"
     ]
    },
    {
     "name": "stdout",
     "output_type": "stream",
     "text": [
      "\r",
      " [*********49%           ] Elapsed 0.21s / Remaining 00:00:00:00"
     ]
    },
    {
     "name": "stdout",
     "output_type": "stream",
     "text": [
      "\r",
      " [*********49%           ] Elapsed 0.21s / Remaining 00:00:00:00"
     ]
    },
    {
     "name": "stdout",
     "output_type": "stream",
     "text": [
      "\r",
      " [*********49%           ] Elapsed 0.21s / Remaining 00:00:00:00"
     ]
    },
    {
     "name": "stdout",
     "output_type": "stream",
     "text": [
      "\r",
      " [*********49%           ] Elapsed 0.21s / Remaining 00:00:00:00"
     ]
    },
    {
     "name": "stdout",
     "output_type": "stream",
     "text": [
      "\r",
      " [*********49%           ] Elapsed 0.21s / Remaining 00:00:00:00"
     ]
    },
    {
     "name": "stdout",
     "output_type": "stream",
     "text": [
      "\r",
      " [*********50%           ] Elapsed 0.22s / Remaining 00:00:00:00"
     ]
    },
    {
     "name": "stdout",
     "output_type": "stream",
     "text": [
      "\r",
      " [*********50%           ] Elapsed 0.22s / Remaining 00:00:00:00"
     ]
    },
    {
     "name": "stdout",
     "output_type": "stream",
     "text": [
      "\r",
      " [*********50%           ] Elapsed 0.22s / Remaining 00:00:00:00"
     ]
    },
    {
     "name": "stdout",
     "output_type": "stream",
     "text": [
      "\r",
      " [*********50%           ] Elapsed 0.22s / Remaining 00:00:00:00"
     ]
    },
    {
     "name": "stdout",
     "output_type": "stream",
     "text": [
      "\r",
      " [*********50%           ] Elapsed 0.22s / Remaining 00:00:00:00"
     ]
    },
    {
     "name": "stdout",
     "output_type": "stream",
     "text": [
      "\r",
      " [*********50%           ] Elapsed 0.22s / Remaining 00:00:00:00"
     ]
    },
    {
     "name": "stdout",
     "output_type": "stream",
     "text": [
      "\r",
      " [*********51%           ] Elapsed 0.22s / Remaining 00:00:00:00"
     ]
    },
    {
     "name": "stdout",
     "output_type": "stream",
     "text": [
      "\r",
      " [*********51%           ] Elapsed 0.22s / Remaining 00:00:00:00"
     ]
    },
    {
     "name": "stdout",
     "output_type": "stream",
     "text": [
      "\r",
      " [*********51%           ] Elapsed 0.22s / Remaining 00:00:00:00"
     ]
    },
    {
     "name": "stdout",
     "output_type": "stream",
     "text": [
      "\r",
      " [*********51%           ] Elapsed 0.22s / Remaining 00:00:00:00"
     ]
    },
    {
     "name": "stdout",
     "output_type": "stream",
     "text": [
      "\r",
      " [*********51%           ] Elapsed 0.22s / Remaining 00:00:00:00"
     ]
    },
    {
     "name": "stdout",
     "output_type": "stream",
     "text": [
      "\r",
      " [*********51%           ] Elapsed 0.22s / Remaining 00:00:00:00"
     ]
    },
    {
     "name": "stdout",
     "output_type": "stream",
     "text": [
      "\r",
      " [*********52%           ] Elapsed 0.22s / Remaining 00:00:00:00"
     ]
    },
    {
     "name": "stdout",
     "output_type": "stream",
     "text": [
      "\r",
      " [*********52%           ] Elapsed 0.22s / Remaining 00:00:00:00"
     ]
    },
    {
     "name": "stdout",
     "output_type": "stream",
     "text": [
      "\r",
      " [*********52%           ] Elapsed 0.22s / Remaining 00:00:00:00"
     ]
    },
    {
     "name": "stdout",
     "output_type": "stream",
     "text": [
      "\r",
      " [*********52%           ] Elapsed 0.23s / Remaining 00:00:00:00"
     ]
    },
    {
     "name": "stdout",
     "output_type": "stream",
     "text": [
      "\r",
      " [*********52%           ] Elapsed 0.23s / Remaining 00:00:00:00"
     ]
    },
    {
     "name": "stdout",
     "output_type": "stream",
     "text": [
      "\r",
      " [*********52%           ] Elapsed 0.23s / Remaining 00:00:00:00"
     ]
    },
    {
     "name": "stdout",
     "output_type": "stream",
     "text": [
      "\r",
      " [*********53%           ] Elapsed 0.23s / Remaining 00:00:00:00"
     ]
    },
    {
     "name": "stdout",
     "output_type": "stream",
     "text": [
      "\r",
      " [*********53%           ] Elapsed 0.23s / Remaining 00:00:00:00"
     ]
    },
    {
     "name": "stdout",
     "output_type": "stream",
     "text": [
      "\r",
      " [*********53%           ] Elapsed 0.23s / Remaining 00:00:00:00"
     ]
    },
    {
     "name": "stdout",
     "output_type": "stream",
     "text": [
      "\r",
      " [*********53%           ] Elapsed 0.23s / Remaining 00:00:00:00"
     ]
    },
    {
     "name": "stdout",
     "output_type": "stream",
     "text": [
      "\r",
      " [*********53%           ] Elapsed 0.23s / Remaining 00:00:00:00"
     ]
    },
    {
     "name": "stdout",
     "output_type": "stream",
     "text": [
      "\r",
      " [*********53%           ] Elapsed 0.23s / Remaining 00:00:00:00"
     ]
    },
    {
     "name": "stdout",
     "output_type": "stream",
     "text": [
      "\r",
      " [*********54%           ] Elapsed 0.23s / Remaining 00:00:00:00"
     ]
    },
    {
     "name": "stdout",
     "output_type": "stream",
     "text": [
      "\r",
      " [*********54%           ] Elapsed 0.23s / Remaining 00:00:00:00"
     ]
    },
    {
     "name": "stdout",
     "output_type": "stream",
     "text": [
      "\r",
      " [*********54%           ] Elapsed 0.23s / Remaining 00:00:00:00"
     ]
    },
    {
     "name": "stdout",
     "output_type": "stream",
     "text": [
      "\r",
      " [*********54%           ] Elapsed 0.23s / Remaining 00:00:00:00"
     ]
    },
    {
     "name": "stdout",
     "output_type": "stream",
     "text": [
      "\r",
      " [*********54%           ] Elapsed 0.23s / Remaining 00:00:00:00"
     ]
    },
    {
     "name": "stdout",
     "output_type": "stream",
     "text": [
      "\r",
      " [*********54%           ] Elapsed 0.24s / Remaining 00:00:00:00"
     ]
    },
    {
     "name": "stdout",
     "output_type": "stream",
     "text": [
      "\r",
      " [*********55%*          ] Elapsed 0.24s / Remaining 00:00:00:00"
     ]
    },
    {
     "name": "stdout",
     "output_type": "stream",
     "text": [
      "\r",
      " [*********55%*          ] Elapsed 0.24s / Remaining 00:00:00:00"
     ]
    },
    {
     "name": "stdout",
     "output_type": "stream",
     "text": [
      "\r",
      " [*********55%*          ] Elapsed 0.24s / Remaining 00:00:00:00"
     ]
    },
    {
     "name": "stdout",
     "output_type": "stream",
     "text": [
      "\r",
      " [*********55%*          ] Elapsed 0.24s / Remaining 00:00:00:00"
     ]
    },
    {
     "name": "stdout",
     "output_type": "stream",
     "text": [
      "\r",
      " [*********55%*          ] Elapsed 0.24s / Remaining 00:00:00:00"
     ]
    },
    {
     "name": "stdout",
     "output_type": "stream",
     "text": [
      "\r",
      " [*********55%*          ] Elapsed 0.24s / Remaining 00:00:00:00"
     ]
    },
    {
     "name": "stdout",
     "output_type": "stream",
     "text": [
      "\r",
      " [*********56%*          ] Elapsed 0.24s / Remaining 00:00:00:00"
     ]
    },
    {
     "name": "stdout",
     "output_type": "stream",
     "text": [
      "\r",
      " [*********56%*          ] Elapsed 0.24s / Remaining 00:00:00:00"
     ]
    },
    {
     "name": "stdout",
     "output_type": "stream",
     "text": [
      "\r",
      " [*********56%*          ] Elapsed 0.24s / Remaining 00:00:00:00"
     ]
    },
    {
     "name": "stdout",
     "output_type": "stream",
     "text": [
      "\r",
      " [*********56%*          ] Elapsed 0.24s / Remaining 00:00:00:00"
     ]
    },
    {
     "name": "stdout",
     "output_type": "stream",
     "text": [
      "\r",
      " [*********56%*          ] Elapsed 0.24s / Remaining 00:00:00:00"
     ]
    },
    {
     "name": "stdout",
     "output_type": "stream",
     "text": [
      "\r",
      " [*********56%*          ] Elapsed 0.24s / Remaining 00:00:00:00"
     ]
    },
    {
     "name": "stdout",
     "output_type": "stream",
     "text": [
      "\r",
      " [*********57%*          ] Elapsed 0.24s / Remaining 00:00:00:00"
     ]
    },
    {
     "name": "stdout",
     "output_type": "stream",
     "text": [
      "\r",
      " [*********57%*          ] Elapsed 0.24s / Remaining 00:00:00:00"
     ]
    },
    {
     "name": "stdout",
     "output_type": "stream",
     "text": [
      "\r",
      " [*********57%*          ] Elapsed 0.25s / Remaining 00:00:00:00"
     ]
    },
    {
     "name": "stdout",
     "output_type": "stream",
     "text": [
      "\r",
      " [*********57%*          ] Elapsed 0.25s / Remaining 00:00:00:00"
     ]
    },
    {
     "name": "stdout",
     "output_type": "stream",
     "text": [
      "\r",
      " [*********57%*          ] Elapsed 0.25s / Remaining 00:00:00:00"
     ]
    },
    {
     "name": "stdout",
     "output_type": "stream",
     "text": [
      "\r",
      " [*********57%*          ] Elapsed 0.25s / Remaining 00:00:00:00"
     ]
    },
    {
     "name": "stdout",
     "output_type": "stream",
     "text": [
      "\r",
      " [*********58%*          ] Elapsed 0.25s / Remaining 00:00:00:00"
     ]
    },
    {
     "name": "stdout",
     "output_type": "stream",
     "text": [
      "\r",
      " [*********58%*          ] Elapsed 0.25s / Remaining 00:00:00:00"
     ]
    },
    {
     "name": "stdout",
     "output_type": "stream",
     "text": [
      "\r",
      " [*********58%*          ] Elapsed 0.25s / Remaining 00:00:00:00"
     ]
    },
    {
     "name": "stdout",
     "output_type": "stream",
     "text": [
      "\r",
      " [*********58%*          ] Elapsed 0.25s / Remaining 00:00:00:00"
     ]
    },
    {
     "name": "stdout",
     "output_type": "stream",
     "text": [
      "\r",
      " [*********58%*          ] Elapsed 0.25s / Remaining 00:00:00:00"
     ]
    },
    {
     "name": "stdout",
     "output_type": "stream",
     "text": [
      "\r",
      " [*********58%*          ] Elapsed 0.25s / Remaining 00:00:00:00"
     ]
    },
    {
     "name": "stdout",
     "output_type": "stream",
     "text": [
      "\r",
      " [*********59%**         ] Elapsed 0.25s / Remaining 00:00:00:00"
     ]
    },
    {
     "name": "stdout",
     "output_type": "stream",
     "text": [
      "\r",
      " [*********59%**         ] Elapsed 0.25s / Remaining 00:00:00:00"
     ]
    },
    {
     "name": "stdout",
     "output_type": "stream",
     "text": [
      "\r",
      " [*********59%**         ] Elapsed 0.25s / Remaining 00:00:00:00"
     ]
    },
    {
     "name": "stdout",
     "output_type": "stream",
     "text": [
      "\r",
      " [*********59%**         ] Elapsed 0.25s / Remaining 00:00:00:00"
     ]
    },
    {
     "name": "stdout",
     "output_type": "stream",
     "text": [
      "\r",
      " [*********59%**         ] Elapsed 0.25s / Remaining 00:00:00:00"
     ]
    },
    {
     "name": "stdout",
     "output_type": "stream",
     "text": [
      "\r",
      " [*********59%**         ] Elapsed 0.26s / Remaining 00:00:00:00"
     ]
    },
    {
     "name": "stdout",
     "output_type": "stream",
     "text": [
      "\r",
      " [*********60%**         ] Elapsed 0.26s / Remaining 00:00:00:00"
     ]
    },
    {
     "name": "stdout",
     "output_type": "stream",
     "text": [
      "\r",
      " [*********60%**         ] Elapsed 0.26s / Remaining 00:00:00:00"
     ]
    },
    {
     "name": "stdout",
     "output_type": "stream",
     "text": [
      "\r",
      " [*********60%**         ] Elapsed 0.26s / Remaining 00:00:00:00"
     ]
    },
    {
     "name": "stdout",
     "output_type": "stream",
     "text": [
      "\r",
      " [*********60%**         ] Elapsed 0.26s / Remaining 00:00:00:00"
     ]
    },
    {
     "name": "stdout",
     "output_type": "stream",
     "text": [
      "\r",
      " [*********60%**         ] Elapsed 0.26s / Remaining 00:00:00:00"
     ]
    },
    {
     "name": "stdout",
     "output_type": "stream",
     "text": [
      "\r",
      " [*********60%**         ] Elapsed 0.26s / Remaining 00:00:00:00"
     ]
    },
    {
     "name": "stdout",
     "output_type": "stream",
     "text": [
      "\r",
      " [*********61%**         ] Elapsed 0.26s / Remaining 00:00:00:00"
     ]
    },
    {
     "name": "stdout",
     "output_type": "stream",
     "text": [
      "\r",
      " [*********61%**         ] Elapsed 0.26s / Remaining 00:00:00:00"
     ]
    },
    {
     "name": "stdout",
     "output_type": "stream",
     "text": [
      "\r",
      " [*********61%**         ] Elapsed 0.26s / Remaining 00:00:00:00"
     ]
    },
    {
     "name": "stdout",
     "output_type": "stream",
     "text": [
      "\r",
      " [*********61%**         ] Elapsed 0.26s / Remaining 00:00:00:00"
     ]
    },
    {
     "name": "stdout",
     "output_type": "stream",
     "text": [
      "\r",
      " [*********61%**         ] Elapsed 0.26s / Remaining 00:00:00:00"
     ]
    },
    {
     "name": "stdout",
     "output_type": "stream",
     "text": [
      "\r",
      " [*********61%**         ] Elapsed 0.26s / Remaining 00:00:00:00"
     ]
    },
    {
     "name": "stdout",
     "output_type": "stream",
     "text": [
      "\r",
      " [*********62%**         ] Elapsed 0.26s / Remaining 00:00:00:00"
     ]
    },
    {
     "name": "stdout",
     "output_type": "stream",
     "text": [
      "\r",
      " [*********62%**         ] Elapsed 0.27s / Remaining 00:00:00:00"
     ]
    },
    {
     "name": "stdout",
     "output_type": "stream",
     "text": [
      "\r",
      " [*********62%**         ] Elapsed 0.27s / Remaining 00:00:00:00"
     ]
    },
    {
     "name": "stdout",
     "output_type": "stream",
     "text": [
      "\r",
      " [*********62%**         ] Elapsed 0.27s / Remaining 00:00:00:00"
     ]
    },
    {
     "name": "stdout",
     "output_type": "stream",
     "text": [
      "\r",
      " [*********62%**         ] Elapsed 0.27s / Remaining 00:00:00:00"
     ]
    },
    {
     "name": "stdout",
     "output_type": "stream",
     "text": [
      "\r",
      " [*********62%**         ] Elapsed 0.27s / Remaining 00:00:00:00"
     ]
    },
    {
     "name": "stdout",
     "output_type": "stream",
     "text": [
      "\r",
      " [*********63%**         ] Elapsed 0.27s / Remaining 00:00:00:00"
     ]
    },
    {
     "name": "stdout",
     "output_type": "stream",
     "text": [
      "\r",
      " [*********63%**         ] Elapsed 0.27s / Remaining 00:00:00:00"
     ]
    },
    {
     "name": "stdout",
     "output_type": "stream",
     "text": [
      "\r",
      " [*********63%**         ] Elapsed 0.27s / Remaining 00:00:00:00"
     ]
    },
    {
     "name": "stdout",
     "output_type": "stream",
     "text": [
      "\r",
      " [*********63%**         ] Elapsed 0.27s / Remaining 00:00:00:00"
     ]
    },
    {
     "name": "stdout",
     "output_type": "stream",
     "text": [
      "\r",
      " [*********63%**         ] Elapsed 0.27s / Remaining 00:00:00:00"
     ]
    },
    {
     "name": "stdout",
     "output_type": "stream",
     "text": [
      "\r",
      " [*********63%**         ] Elapsed 0.27s / Remaining 00:00:00:00"
     ]
    },
    {
     "name": "stdout",
     "output_type": "stream",
     "text": [
      "\r",
      " [*********64%***        ] Elapsed 0.27s / Remaining 00:00:00:00"
     ]
    },
    {
     "name": "stdout",
     "output_type": "stream",
     "text": [
      "\r",
      " [*********64%***        ] Elapsed 0.27s / Remaining 00:00:00:00"
     ]
    },
    {
     "name": "stdout",
     "output_type": "stream",
     "text": [
      "\r",
      " [*********64%***        ] Elapsed 0.27s / Remaining 00:00:00:00"
     ]
    },
    {
     "name": "stdout",
     "output_type": "stream",
     "text": [
      "\r",
      " [*********64%***        ] Elapsed 0.27s / Remaining 00:00:00:00"
     ]
    },
    {
     "name": "stdout",
     "output_type": "stream",
     "text": [
      "\r",
      " [*********64%***        ] Elapsed 0.28s / Remaining 00:00:00:00"
     ]
    },
    {
     "name": "stdout",
     "output_type": "stream",
     "text": [
      "\r",
      " [*********64%***        ] Elapsed 0.28s / Remaining 00:00:00:00"
     ]
    },
    {
     "name": "stdout",
     "output_type": "stream",
     "text": [
      "\r",
      " [*********65%***        ] Elapsed 0.28s / Remaining 00:00:00:00"
     ]
    },
    {
     "name": "stdout",
     "output_type": "stream",
     "text": [
      "\r",
      " [*********65%***        ] Elapsed 0.28s / Remaining 00:00:00:00"
     ]
    },
    {
     "name": "stdout",
     "output_type": "stream",
     "text": [
      "\r",
      " [*********65%***        ] Elapsed 0.28s / Remaining 00:00:00:00"
     ]
    },
    {
     "name": "stdout",
     "output_type": "stream",
     "text": [
      "\r",
      " [*********65%***        ] Elapsed 0.28s / Remaining 00:00:00:00"
     ]
    },
    {
     "name": "stdout",
     "output_type": "stream",
     "text": [
      "\r",
      " [*********65%***        ] Elapsed 0.28s / Remaining 00:00:00:00"
     ]
    },
    {
     "name": "stdout",
     "output_type": "stream",
     "text": [
      "\r",
      " [*********65%***        ] Elapsed 0.28s / Remaining 00:00:00:00"
     ]
    },
    {
     "name": "stdout",
     "output_type": "stream",
     "text": [
      "\r",
      " [*********66%***        ] Elapsed 0.28s / Remaining 00:00:00:00"
     ]
    },
    {
     "name": "stdout",
     "output_type": "stream",
     "text": [
      "\r",
      " [*********66%***        ] Elapsed 0.28s / Remaining 00:00:00:00"
     ]
    },
    {
     "name": "stdout",
     "output_type": "stream",
     "text": [
      "\r",
      " [*********66%***        ] Elapsed 0.28s / Remaining 00:00:00:00"
     ]
    },
    {
     "name": "stdout",
     "output_type": "stream",
     "text": [
      "\r",
      " [*********66%***        ] Elapsed 0.28s / Remaining 00:00:00:00"
     ]
    },
    {
     "name": "stdout",
     "output_type": "stream",
     "text": [
      "\r",
      " [*********66%***        ] Elapsed 0.28s / Remaining 00:00:00:00"
     ]
    },
    {
     "name": "stdout",
     "output_type": "stream",
     "text": [
      "\r",
      " [*********66%***        ] Elapsed 0.28s / Remaining 00:00:00:00"
     ]
    },
    {
     "name": "stdout",
     "output_type": "stream",
     "text": [
      "\r",
      " [*********67%***        ] Elapsed 0.29s / Remaining 00:00:00:00"
     ]
    },
    {
     "name": "stdout",
     "output_type": "stream",
     "text": [
      "\r",
      " [*********67%***        ] Elapsed 0.29s / Remaining 00:00:00:00"
     ]
    },
    {
     "name": "stdout",
     "output_type": "stream",
     "text": [
      "\r",
      " [*********67%***        ] Elapsed 0.29s / Remaining 00:00:00:00"
     ]
    },
    {
     "name": "stdout",
     "output_type": "stream",
     "text": [
      "\r",
      " [*********67%***        ] Elapsed 0.29s / Remaining 00:00:00:00"
     ]
    },
    {
     "name": "stdout",
     "output_type": "stream",
     "text": [
      "\r",
      " [*********67%***        ] Elapsed 0.29s / Remaining 00:00:00:00"
     ]
    },
    {
     "name": "stdout",
     "output_type": "stream",
     "text": [
      "\r",
      " [*********67%***        ] Elapsed 0.29s / Remaining 00:00:00:00"
     ]
    },
    {
     "name": "stdout",
     "output_type": "stream",
     "text": [
      "\r",
      " [*********68%****       ] Elapsed 0.29s / Remaining 00:00:00:00"
     ]
    },
    {
     "name": "stdout",
     "output_type": "stream",
     "text": [
      "\r",
      " [*********68%****       ] Elapsed 0.29s / Remaining 00:00:00:00"
     ]
    },
    {
     "name": "stdout",
     "output_type": "stream",
     "text": [
      "\r",
      " [*********68%****       ] Elapsed 0.29s / Remaining 00:00:00:00"
     ]
    },
    {
     "name": "stdout",
     "output_type": "stream",
     "text": [
      "\r",
      " [*********68%****       ] Elapsed 0.29s / Remaining 00:00:00:00"
     ]
    },
    {
     "name": "stdout",
     "output_type": "stream",
     "text": [
      "\r",
      " [*********68%****       ] Elapsed 0.29s / Remaining 00:00:00:00"
     ]
    },
    {
     "name": "stdout",
     "output_type": "stream",
     "text": [
      "\r",
      " [*********68%****       ] Elapsed 0.29s / Remaining 00:00:00:00"
     ]
    },
    {
     "name": "stdout",
     "output_type": "stream",
     "text": [
      "\r",
      " [*********69%****       ] Elapsed 0.29s / Remaining 00:00:00:00"
     ]
    },
    {
     "name": "stdout",
     "output_type": "stream",
     "text": [
      "\r",
      " [*********69%****       ] Elapsed 0.29s / Remaining 00:00:00:00"
     ]
    },
    {
     "name": "stdout",
     "output_type": "stream",
     "text": [
      "\r",
      " [*********69%****       ] Elapsed 0.29s / Remaining 00:00:00:00"
     ]
    },
    {
     "name": "stdout",
     "output_type": "stream",
     "text": [
      "\r",
      " [*********69%****       ] Elapsed 0.29s / Remaining 00:00:00:00"
     ]
    },
    {
     "name": "stdout",
     "output_type": "stream",
     "text": [
      "\r",
      " [*********69%****       ] Elapsed 0.30s / Remaining 00:00:00:00"
     ]
    },
    {
     "name": "stdout",
     "output_type": "stream",
     "text": [
      "\r",
      " [*********69%****       ] Elapsed 0.30s / Remaining 00:00:00:00"
     ]
    },
    {
     "name": "stdout",
     "output_type": "stream",
     "text": [
      "\r",
      " [*********70%****       ] Elapsed 0.30s / Remaining 00:00:00:00"
     ]
    },
    {
     "name": "stdout",
     "output_type": "stream",
     "text": [
      "\r",
      " [*********70%****       ] Elapsed 0.30s / Remaining 00:00:00:00"
     ]
    },
    {
     "name": "stdout",
     "output_type": "stream",
     "text": [
      "\r",
      " [*********70%****       ] Elapsed 0.30s / Remaining 00:00:00:00"
     ]
    },
    {
     "name": "stdout",
     "output_type": "stream",
     "text": [
      "\r",
      " [*********70%****       ] Elapsed 0.30s / Remaining 00:00:00:00"
     ]
    },
    {
     "name": "stdout",
     "output_type": "stream",
     "text": [
      "\r",
      " [*********70%****       ] Elapsed 0.30s / Remaining 00:00:00:00"
     ]
    },
    {
     "name": "stdout",
     "output_type": "stream",
     "text": [
      "\r",
      " [*********70%****       ] Elapsed 0.30s / Remaining 00:00:00:00"
     ]
    },
    {
     "name": "stdout",
     "output_type": "stream",
     "text": [
      "\r",
      " [*********71%****       ] Elapsed 0.30s / Remaining 00:00:00:00"
     ]
    },
    {
     "name": "stdout",
     "output_type": "stream",
     "text": [
      "\r",
      " [*********71%****       ] Elapsed 0.30s / Remaining 00:00:00:00"
     ]
    },
    {
     "name": "stdout",
     "output_type": "stream",
     "text": [
      "\r",
      " [*********71%****       ] Elapsed 0.30s / Remaining 00:00:00:00"
     ]
    },
    {
     "name": "stdout",
     "output_type": "stream",
     "text": [
      "\r",
      " [*********71%****       ] Elapsed 0.30s / Remaining 00:00:00:00"
     ]
    },
    {
     "name": "stdout",
     "output_type": "stream",
     "text": [
      "\r",
      " [*********71%****       ] Elapsed 0.30s / Remaining 00:00:00:00"
     ]
    },
    {
     "name": "stdout",
     "output_type": "stream",
     "text": [
      "\r",
      " [*********71%****       ] Elapsed 0.30s / Remaining 00:00:00:00"
     ]
    },
    {
     "name": "stdout",
     "output_type": "stream",
     "text": [
      "\r",
      " [*********72%*****      ] Elapsed 0.31s / Remaining 00:00:00:00"
     ]
    },
    {
     "name": "stdout",
     "output_type": "stream",
     "text": [
      "\r",
      " [*********72%*****      ] Elapsed 0.31s / Remaining 00:00:00:00"
     ]
    },
    {
     "name": "stdout",
     "output_type": "stream",
     "text": [
      "\r",
      " [*********72%*****      ] Elapsed 0.31s / Remaining 00:00:00:00"
     ]
    },
    {
     "name": "stdout",
     "output_type": "stream",
     "text": [
      "\r",
      " [*********72%*****      ] Elapsed 0.31s / Remaining 00:00:00:00"
     ]
    },
    {
     "name": "stdout",
     "output_type": "stream",
     "text": [
      "\r",
      " [*********72%*****      ] Elapsed 0.31s / Remaining 00:00:00:00"
     ]
    },
    {
     "name": "stdout",
     "output_type": "stream",
     "text": [
      "\r",
      " [*********72%*****      ] Elapsed 0.31s / Remaining 00:00:00:00"
     ]
    },
    {
     "name": "stdout",
     "output_type": "stream",
     "text": [
      "\r",
      " [*********73%*****      ] Elapsed 0.31s / Remaining 00:00:00:00"
     ]
    },
    {
     "name": "stdout",
     "output_type": "stream",
     "text": [
      "\r",
      " [*********73%*****      ] Elapsed 0.31s / Remaining 00:00:00:00"
     ]
    },
    {
     "name": "stdout",
     "output_type": "stream",
     "text": [
      "\r",
      " [*********73%*****      ] Elapsed 0.31s / Remaining 00:00:00:00"
     ]
    },
    {
     "name": "stdout",
     "output_type": "stream",
     "text": [
      "\r",
      " [*********73%*****      ] Elapsed 0.31s / Remaining 00:00:00:00"
     ]
    },
    {
     "name": "stdout",
     "output_type": "stream",
     "text": [
      "\r",
      " [*********73%*****      ] Elapsed 0.31s / Remaining 00:00:00:00"
     ]
    },
    {
     "name": "stdout",
     "output_type": "stream",
     "text": [
      "\r",
      " [*********73%*****      ] Elapsed 0.31s / Remaining 00:00:00:00"
     ]
    },
    {
     "name": "stdout",
     "output_type": "stream",
     "text": [
      "\r",
      " [*********74%*****      ] Elapsed 0.31s / Remaining 00:00:00:00"
     ]
    },
    {
     "name": "stdout",
     "output_type": "stream",
     "text": [
      "\r",
      " [*********74%*****      ] Elapsed 0.31s / Remaining 00:00:00:00"
     ]
    },
    {
     "name": "stdout",
     "output_type": "stream",
     "text": [
      "\r",
      " [*********74%*****      ] Elapsed 0.31s / Remaining 00:00:00:00"
     ]
    },
    {
     "name": "stdout",
     "output_type": "stream",
     "text": [
      "\r",
      " [*********74%*****      ] Elapsed 0.32s / Remaining 00:00:00:00"
     ]
    },
    {
     "name": "stdout",
     "output_type": "stream",
     "text": [
      "\r",
      " [*********74%*****      ] Elapsed 0.32s / Remaining 00:00:00:00"
     ]
    },
    {
     "name": "stdout",
     "output_type": "stream",
     "text": [
      "\r",
      " [*********74%*****      ] Elapsed 0.32s / Remaining 00:00:00:00"
     ]
    },
    {
     "name": "stdout",
     "output_type": "stream",
     "text": [
      "\r",
      " [*********75%*****      ] Elapsed 0.32s / Remaining 00:00:00:00"
     ]
    },
    {
     "name": "stdout",
     "output_type": "stream",
     "text": [
      "\r",
      " [*********75%*****      ] Elapsed 0.32s / Remaining 00:00:00:00"
     ]
    },
    {
     "name": "stdout",
     "output_type": "stream",
     "text": [
      "\r",
      " [*********75%*****      ] Elapsed 0.32s / Remaining 00:00:00:00"
     ]
    },
    {
     "name": "stdout",
     "output_type": "stream",
     "text": [
      "\r",
      " [*********75%*****      ] Elapsed 0.32s / Remaining 00:00:00:00"
     ]
    },
    {
     "name": "stdout",
     "output_type": "stream",
     "text": [
      "\r",
      " [*********75%*****      ] Elapsed 0.32s / Remaining 00:00:00:00"
     ]
    },
    {
     "name": "stdout",
     "output_type": "stream",
     "text": [
      "\r",
      " [*********75%*****      ] Elapsed 0.32s / Remaining 00:00:00:00"
     ]
    },
    {
     "name": "stdout",
     "output_type": "stream",
     "text": [
      "\r",
      " [*********76%*****      ] Elapsed 0.32s / Remaining 00:00:00:00"
     ]
    },
    {
     "name": "stdout",
     "output_type": "stream",
     "text": [
      "\r",
      " [*********76%*****      ] Elapsed 0.32s / Remaining 00:00:00:00"
     ]
    },
    {
     "name": "stdout",
     "output_type": "stream",
     "text": [
      "\r",
      " [*********76%*****      ] Elapsed 0.32s / Remaining 00:00:00:00"
     ]
    },
    {
     "name": "stdout",
     "output_type": "stream",
     "text": [
      "\r",
      " [*********76%*****      ] Elapsed 0.32s / Remaining 00:00:00:00"
     ]
    },
    {
     "name": "stdout",
     "output_type": "stream",
     "text": [
      "\r",
      " [*********76%*****      ] Elapsed 0.32s / Remaining 00:00:00:00"
     ]
    },
    {
     "name": "stdout",
     "output_type": "stream",
     "text": [
      "\r",
      " [*********76%*****      ] Elapsed 0.32s / Remaining 00:00:00:00"
     ]
    },
    {
     "name": "stdout",
     "output_type": "stream",
     "text": [
      "\r",
      " [*********77%******     ] Elapsed 0.33s / Remaining 00:00:00:00"
     ]
    },
    {
     "name": "stdout",
     "output_type": "stream",
     "text": [
      "\r",
      " [*********77%******     ] Elapsed 0.33s / Remaining 00:00:00:00"
     ]
    },
    {
     "name": "stdout",
     "output_type": "stream",
     "text": [
      "\r",
      " [*********77%******     ] Elapsed 0.33s / Remaining 00:00:00:00"
     ]
    },
    {
     "name": "stdout",
     "output_type": "stream",
     "text": [
      "\r",
      " [*********77%******     ] Elapsed 0.33s / Remaining 00:00:00:00"
     ]
    },
    {
     "name": "stdout",
     "output_type": "stream",
     "text": [
      "\r",
      " [*********77%******     ] Elapsed 0.33s / Remaining 00:00:00:00"
     ]
    },
    {
     "name": "stdout",
     "output_type": "stream",
     "text": [
      "\r",
      " [*********77%******     ] Elapsed 0.33s / Remaining 00:00:00:00"
     ]
    },
    {
     "name": "stdout",
     "output_type": "stream",
     "text": [
      "\r",
      " [*********78%******     ] Elapsed 0.33s / Remaining 00:00:00:00"
     ]
    },
    {
     "name": "stdout",
     "output_type": "stream",
     "text": [
      "\r",
      " [*********78%******     ] Elapsed 0.33s / Remaining 00:00:00:00"
     ]
    },
    {
     "name": "stdout",
     "output_type": "stream",
     "text": [
      "\r",
      " [*********78%******     ] Elapsed 0.33s / Remaining 00:00:00:00"
     ]
    },
    {
     "name": "stdout",
     "output_type": "stream",
     "text": [
      "\r",
      " [*********78%******     ] Elapsed 0.33s / Remaining 00:00:00:00"
     ]
    },
    {
     "name": "stdout",
     "output_type": "stream",
     "text": [
      "\r",
      " [*********78%******     ] Elapsed 0.33s / Remaining 00:00:00:00"
     ]
    },
    {
     "name": "stdout",
     "output_type": "stream",
     "text": [
      "\r",
      " [*********78%******     ] Elapsed 0.33s / Remaining 00:00:00:00"
     ]
    },
    {
     "name": "stdout",
     "output_type": "stream",
     "text": [
      "\r",
      " [*********79%******     ] Elapsed 0.33s / Remaining 00:00:00:00"
     ]
    },
    {
     "name": "stdout",
     "output_type": "stream",
     "text": [
      "\r",
      " [*********79%******     ] Elapsed 0.33s / Remaining 00:00:00:00"
     ]
    },
    {
     "name": "stdout",
     "output_type": "stream",
     "text": [
      "\r",
      " [*********79%******     ] Elapsed 0.33s / Remaining 00:00:00:00"
     ]
    },
    {
     "name": "stdout",
     "output_type": "stream",
     "text": [
      "\r",
      " [*********79%******     ] Elapsed 0.34s / Remaining 00:00:00:00"
     ]
    },
    {
     "name": "stdout",
     "output_type": "stream",
     "text": [
      "\r",
      " [*********79%******     ] Elapsed 0.34s / Remaining 00:00:00:00"
     ]
    },
    {
     "name": "stdout",
     "output_type": "stream",
     "text": [
      "\r",
      " [*********79%******     ] Elapsed 0.34s / Remaining 00:00:00:00"
     ]
    },
    {
     "name": "stdout",
     "output_type": "stream",
     "text": [
      "\r",
      " [*********80%******     ] Elapsed 0.34s / Remaining 00:00:00:00"
     ]
    },
    {
     "name": "stdout",
     "output_type": "stream",
     "text": [
      "\r",
      " [*********80%******     ] Elapsed 0.34s / Remaining 00:00:00:00"
     ]
    },
    {
     "name": "stdout",
     "output_type": "stream",
     "text": [
      "\r",
      " [*********80%******     ] Elapsed 0.34s / Remaining 00:00:00:00"
     ]
    },
    {
     "name": "stdout",
     "output_type": "stream",
     "text": [
      "\r",
      " [*********80%******     ] Elapsed 0.34s / Remaining 00:00:00:00"
     ]
    },
    {
     "name": "stdout",
     "output_type": "stream",
     "text": [
      "\r",
      " [*********80%******     ] Elapsed 0.34s / Remaining 00:00:00:00"
     ]
    },
    {
     "name": "stdout",
     "output_type": "stream",
     "text": [
      "\r",
      " [*********80%******     ] Elapsed 0.34s / Remaining 00:00:00:00"
     ]
    },
    {
     "name": "stdout",
     "output_type": "stream",
     "text": [
      "\r",
      " [*********81%*******    ] Elapsed 0.34s / Remaining 00:00:00:00"
     ]
    },
    {
     "name": "stdout",
     "output_type": "stream",
     "text": [
      "\r",
      " [*********81%*******    ] Elapsed 0.34s / Remaining 00:00:00:00"
     ]
    },
    {
     "name": "stdout",
     "output_type": "stream",
     "text": [
      "\r",
      " [*********81%*******    ] Elapsed 0.34s / Remaining 00:00:00:00"
     ]
    },
    {
     "name": "stdout",
     "output_type": "stream",
     "text": [
      "\r",
      " [*********81%*******    ] Elapsed 0.34s / Remaining 00:00:00:00"
     ]
    },
    {
     "name": "stdout",
     "output_type": "stream",
     "text": [
      "\r",
      " [*********81%*******    ] Elapsed 0.34s / Remaining 00:00:00:00"
     ]
    },
    {
     "name": "stdout",
     "output_type": "stream",
     "text": [
      "\r",
      " [*********81%*******    ] Elapsed 0.34s / Remaining 00:00:00:00"
     ]
    },
    {
     "name": "stdout",
     "output_type": "stream",
     "text": [
      "\r",
      " [*********82%*******    ] Elapsed 0.35s / Remaining 00:00:00:00"
     ]
    },
    {
     "name": "stdout",
     "output_type": "stream",
     "text": [
      "\r",
      " [*********82%*******    ] Elapsed 0.35s / Remaining 00:00:00:00"
     ]
    },
    {
     "name": "stdout",
     "output_type": "stream",
     "text": [
      "\r",
      " [*********82%*******    ] Elapsed 0.35s / Remaining 00:00:00:00"
     ]
    },
    {
     "name": "stdout",
     "output_type": "stream",
     "text": [
      "\r",
      " [*********82%*******    ] Elapsed 0.35s / Remaining 00:00:00:00"
     ]
    },
    {
     "name": "stdout",
     "output_type": "stream",
     "text": [
      "\r",
      " [*********82%*******    ] Elapsed 0.35s / Remaining 00:00:00:00"
     ]
    },
    {
     "name": "stdout",
     "output_type": "stream",
     "text": [
      "\r",
      " [*********82%*******    ] Elapsed 0.35s / Remaining 00:00:00:00"
     ]
    },
    {
     "name": "stdout",
     "output_type": "stream",
     "text": [
      "\r",
      " [*********83%*******    ] Elapsed 0.35s / Remaining 00:00:00:00"
     ]
    },
    {
     "name": "stdout",
     "output_type": "stream",
     "text": [
      "\r",
      " [*********83%*******    ] Elapsed 0.35s / Remaining 00:00:00:00"
     ]
    },
    {
     "name": "stdout",
     "output_type": "stream",
     "text": [
      "\r",
      " [*********83%*******    ] Elapsed 0.35s / Remaining 00:00:00:00"
     ]
    },
    {
     "name": "stdout",
     "output_type": "stream",
     "text": [
      "\r",
      " [*********83%*******    ] Elapsed 0.35s / Remaining 00:00:00:00"
     ]
    },
    {
     "name": "stdout",
     "output_type": "stream",
     "text": [
      "\r",
      " [*********83%*******    ] Elapsed 0.35s / Remaining 00:00:00:00"
     ]
    },
    {
     "name": "stdout",
     "output_type": "stream",
     "text": [
      "\r",
      " [*********83%*******    ] Elapsed 0.35s / Remaining 00:00:00:00"
     ]
    },
    {
     "name": "stdout",
     "output_type": "stream",
     "text": [
      "\r",
      " [*********84%*******    ] Elapsed 0.35s / Remaining 00:00:00:00"
     ]
    },
    {
     "name": "stdout",
     "output_type": "stream",
     "text": [
      "\r",
      " [*********84%*******    ] Elapsed 0.35s / Remaining 00:00:00:00"
     ]
    },
    {
     "name": "stdout",
     "output_type": "stream",
     "text": [
      "\r",
      " [*********84%*******    ] Elapsed 0.35s / Remaining 00:00:00:00"
     ]
    },
    {
     "name": "stdout",
     "output_type": "stream",
     "text": [
      "\r",
      " [*********84%*******    ] Elapsed 0.36s / Remaining 00:00:00:00"
     ]
    },
    {
     "name": "stdout",
     "output_type": "stream",
     "text": [
      "\r",
      " [*********84%*******    ] Elapsed 0.36s / Remaining 00:00:00:00"
     ]
    },
    {
     "name": "stdout",
     "output_type": "stream",
     "text": [
      "\r",
      " [*********84%*******    ] Elapsed 0.36s / Remaining 00:00:00:00"
     ]
    },
    {
     "name": "stdout",
     "output_type": "stream",
     "text": [
      "\r",
      " [*********85%********   ] Elapsed 0.36s / Remaining 00:00:00:00"
     ]
    },
    {
     "name": "stdout",
     "output_type": "stream",
     "text": [
      "\r",
      " [*********85%********   ] Elapsed 0.36s / Remaining 00:00:00:00"
     ]
    },
    {
     "name": "stdout",
     "output_type": "stream",
     "text": [
      "\r",
      " [*********85%********   ] Elapsed 0.36s / Remaining 00:00:00:00"
     ]
    },
    {
     "name": "stdout",
     "output_type": "stream",
     "text": [
      "\r",
      " [*********85%********   ] Elapsed 0.36s / Remaining 00:00:00:00"
     ]
    },
    {
     "name": "stdout",
     "output_type": "stream",
     "text": [
      "\r",
      " [*********85%********   ] Elapsed 0.36s / Remaining 00:00:00:00"
     ]
    },
    {
     "name": "stdout",
     "output_type": "stream",
     "text": [
      "\r",
      " [*********85%********   ] Elapsed 0.36s / Remaining 00:00:00:00"
     ]
    },
    {
     "name": "stdout",
     "output_type": "stream",
     "text": [
      "\r",
      " [*********86%********   ] Elapsed 0.36s / Remaining 00:00:00:00"
     ]
    },
    {
     "name": "stdout",
     "output_type": "stream",
     "text": [
      "\r",
      " [*********86%********   ] Elapsed 0.36s / Remaining 00:00:00:00"
     ]
    },
    {
     "name": "stdout",
     "output_type": "stream",
     "text": [
      "\r",
      " [*********86%********   ] Elapsed 0.36s / Remaining 00:00:00:00"
     ]
    },
    {
     "name": "stdout",
     "output_type": "stream",
     "text": [
      "\r",
      " [*********86%********   ] Elapsed 0.36s / Remaining 00:00:00:00"
     ]
    },
    {
     "name": "stdout",
     "output_type": "stream",
     "text": [
      "\r",
      " [*********86%********   ] Elapsed 0.36s / Remaining 00:00:00:00"
     ]
    },
    {
     "name": "stdout",
     "output_type": "stream",
     "text": [
      "\r",
      " [*********86%********   ] Elapsed 0.37s / Remaining 00:00:00:00"
     ]
    },
    {
     "name": "stdout",
     "output_type": "stream",
     "text": [
      "\r",
      " [*********87%********   ] Elapsed 0.37s / Remaining 00:00:00:00"
     ]
    },
    {
     "name": "stdout",
     "output_type": "stream",
     "text": [
      "\r",
      " [*********87%********   ] Elapsed 0.37s / Remaining 00:00:00:00"
     ]
    },
    {
     "name": "stdout",
     "output_type": "stream",
     "text": [
      "\r",
      " [*********87%********   ] Elapsed 0.37s / Remaining 00:00:00:00"
     ]
    },
    {
     "name": "stdout",
     "output_type": "stream",
     "text": [
      "\r",
      " [*********87%********   ] Elapsed 0.37s / Remaining 00:00:00:00"
     ]
    },
    {
     "name": "stdout",
     "output_type": "stream",
     "text": [
      "\r",
      " [*********87%********   ] Elapsed 0.37s / Remaining 00:00:00:00"
     ]
    },
    {
     "name": "stdout",
     "output_type": "stream",
     "text": [
      "\r",
      " [*********87%********   ] Elapsed 0.37s / Remaining 00:00:00:00"
     ]
    },
    {
     "name": "stdout",
     "output_type": "stream",
     "text": [
      "\r",
      " [*********88%********   ] Elapsed 0.37s / Remaining 00:00:00:00"
     ]
    },
    {
     "name": "stdout",
     "output_type": "stream",
     "text": [
      "\r",
      " [*********88%********   ] Elapsed 0.37s / Remaining 00:00:00:00"
     ]
    },
    {
     "name": "stdout",
     "output_type": "stream",
     "text": [
      "\r",
      " [*********88%********   ] Elapsed 0.37s / Remaining 00:00:00:00"
     ]
    },
    {
     "name": "stdout",
     "output_type": "stream",
     "text": [
      "\r",
      " [*********88%********   ] Elapsed 0.37s / Remaining 00:00:00:00"
     ]
    },
    {
     "name": "stdout",
     "output_type": "stream",
     "text": [
      "\r",
      " [*********88%********   ] Elapsed 0.37s / Remaining 00:00:00:00"
     ]
    },
    {
     "name": "stdout",
     "output_type": "stream",
     "text": [
      "\r",
      " [*********88%********   ] Elapsed 0.37s / Remaining 00:00:00:00"
     ]
    },
    {
     "name": "stdout",
     "output_type": "stream",
     "text": [
      "\r",
      " [*********89%********   ] Elapsed 0.37s / Remaining 00:00:00:00"
     ]
    },
    {
     "name": "stdout",
     "output_type": "stream",
     "text": [
      "\r",
      " [*********89%********   ] Elapsed 0.37s / Remaining 00:00:00:00"
     ]
    },
    {
     "name": "stdout",
     "output_type": "stream",
     "text": [
      "\r",
      " [*********89%********   ] Elapsed 0.38s / Remaining 00:00:00:00"
     ]
    },
    {
     "name": "stdout",
     "output_type": "stream",
     "text": [
      "\r",
      " [*********89%********   ] Elapsed 0.38s / Remaining 00:00:00:00"
     ]
    },
    {
     "name": "stdout",
     "output_type": "stream",
     "text": [
      "\r",
      " [*********89%********   ] Elapsed 0.38s / Remaining 00:00:00:00"
     ]
    },
    {
     "name": "stdout",
     "output_type": "stream",
     "text": [
      "\r",
      " [*********89%********   ] Elapsed 0.38s / Remaining 00:00:00:00"
     ]
    },
    {
     "name": "stdout",
     "output_type": "stream",
     "text": [
      "\r",
      " [*********90%*********  ] Elapsed 0.38s / Remaining 00:00:00:00"
     ]
    },
    {
     "name": "stdout",
     "output_type": "stream",
     "text": [
      "\r",
      " [*********90%*********  ] Elapsed 0.38s / Remaining 00:00:00:00"
     ]
    },
    {
     "name": "stdout",
     "output_type": "stream",
     "text": [
      "\r",
      " [*********90%*********  ] Elapsed 0.38s / Remaining 00:00:00:00"
     ]
    },
    {
     "name": "stdout",
     "output_type": "stream",
     "text": [
      "\r",
      " [*********90%*********  ] Elapsed 0.38s / Remaining 00:00:00:00"
     ]
    },
    {
     "name": "stdout",
     "output_type": "stream",
     "text": [
      "\r",
      " [*********90%*********  ] Elapsed 0.38s / Remaining 00:00:00:00"
     ]
    },
    {
     "name": "stdout",
     "output_type": "stream",
     "text": [
      "\r",
      " [*********90%*********  ] Elapsed 0.38s / Remaining 00:00:00:00"
     ]
    },
    {
     "name": "stdout",
     "output_type": "stream",
     "text": [
      "\r",
      " [*********91%*********  ] Elapsed 0.38s / Remaining 00:00:00:00"
     ]
    },
    {
     "name": "stdout",
     "output_type": "stream",
     "text": [
      "\r",
      " [*********91%*********  ] Elapsed 0.38s / Remaining 00:00:00:00"
     ]
    },
    {
     "name": "stdout",
     "output_type": "stream",
     "text": [
      "\r",
      " [*********91%*********  ] Elapsed 0.38s / Remaining 00:00:00:00"
     ]
    },
    {
     "name": "stdout",
     "output_type": "stream",
     "text": [
      "\r",
      " [*********91%*********  ] Elapsed 0.38s / Remaining 00:00:00:00"
     ]
    },
    {
     "name": "stdout",
     "output_type": "stream",
     "text": [
      "\r",
      " [*********91%*********  ] Elapsed 0.38s / Remaining 00:00:00:00"
     ]
    },
    {
     "name": "stdout",
     "output_type": "stream",
     "text": [
      "\r",
      " [*********91%*********  ] Elapsed 0.39s / Remaining 00:00:00:00"
     ]
    },
    {
     "name": "stdout",
     "output_type": "stream",
     "text": [
      "\r",
      " [*********92%*********  ] Elapsed 0.39s / Remaining 00:00:00:00"
     ]
    },
    {
     "name": "stdout",
     "output_type": "stream",
     "text": [
      "\r",
      " [*********92%*********  ] Elapsed 0.39s / Remaining 00:00:00:00"
     ]
    },
    {
     "name": "stdout",
     "output_type": "stream",
     "text": [
      "\r",
      " [*********92%*********  ] Elapsed 0.39s / Remaining 00:00:00:00"
     ]
    },
    {
     "name": "stdout",
     "output_type": "stream",
     "text": [
      "\r",
      " [*********92%*********  ] Elapsed 0.39s / Remaining 00:00:00:00"
     ]
    },
    {
     "name": "stdout",
     "output_type": "stream",
     "text": [
      "\r",
      " [*********92%*********  ] Elapsed 0.39s / Remaining 00:00:00:00"
     ]
    },
    {
     "name": "stdout",
     "output_type": "stream",
     "text": [
      "\r",
      " [*********92%*********  ] Elapsed 0.39s / Remaining 00:00:00:00"
     ]
    },
    {
     "name": "stdout",
     "output_type": "stream",
     "text": [
      "\r",
      " [*********93%*********  ] Elapsed 0.39s / Remaining 00:00:00:00"
     ]
    },
    {
     "name": "stdout",
     "output_type": "stream",
     "text": [
      "\r",
      " [*********93%*********  ] Elapsed 0.39s / Remaining 00:00:00:00"
     ]
    },
    {
     "name": "stdout",
     "output_type": "stream",
     "text": [
      "\r",
      " [*********93%*********  ] Elapsed 0.39s / Remaining 00:00:00:00"
     ]
    },
    {
     "name": "stdout",
     "output_type": "stream",
     "text": [
      "\r",
      " [*********93%*********  ] Elapsed 0.39s / Remaining 00:00:00:00"
     ]
    },
    {
     "name": "stdout",
     "output_type": "stream",
     "text": [
      "\r",
      " [*********93%*********  ] Elapsed 0.39s / Remaining 00:00:00:00"
     ]
    },
    {
     "name": "stdout",
     "output_type": "stream",
     "text": [
      "\r",
      " [*********93%*********  ] Elapsed 0.39s / Remaining 00:00:00:00"
     ]
    },
    {
     "name": "stdout",
     "output_type": "stream",
     "text": [
      "\r",
      " [*********94%********** ] Elapsed 0.39s / Remaining 00:00:00:00"
     ]
    },
    {
     "name": "stdout",
     "output_type": "stream",
     "text": [
      "\r",
      " [*********94%********** ] Elapsed 0.40s / Remaining 00:00:00:00"
     ]
    },
    {
     "name": "stdout",
     "output_type": "stream",
     "text": [
      "\r",
      " [*********94%********** ] Elapsed 0.40s / Remaining 00:00:00:00"
     ]
    },
    {
     "name": "stdout",
     "output_type": "stream",
     "text": [
      "\r",
      " [*********94%********** ] Elapsed 0.40s / Remaining 00:00:00:00"
     ]
    },
    {
     "name": "stdout",
     "output_type": "stream",
     "text": [
      "\r",
      " [*********94%********** ] Elapsed 0.40s / Remaining 00:00:00:00"
     ]
    },
    {
     "name": "stdout",
     "output_type": "stream",
     "text": [
      "\r",
      " [*********94%********** ] Elapsed 0.40s / Remaining 00:00:00:00"
     ]
    },
    {
     "name": "stdout",
     "output_type": "stream",
     "text": [
      "\r",
      " [*********95%********** ] Elapsed 0.40s / Remaining 00:00:00:00"
     ]
    },
    {
     "name": "stdout",
     "output_type": "stream",
     "text": [
      "\r",
      " [*********95%********** ] Elapsed 0.40s / Remaining 00:00:00:00"
     ]
    },
    {
     "name": "stdout",
     "output_type": "stream",
     "text": [
      "\r",
      " [*********95%********** ] Elapsed 0.40s / Remaining 00:00:00:00"
     ]
    },
    {
     "name": "stdout",
     "output_type": "stream",
     "text": [
      "\r",
      " [*********95%********** ] Elapsed 0.40s / Remaining 00:00:00:00"
     ]
    },
    {
     "name": "stdout",
     "output_type": "stream",
     "text": [
      "\r",
      " [*********95%********** ] Elapsed 0.40s / Remaining 00:00:00:00"
     ]
    },
    {
     "name": "stdout",
     "output_type": "stream",
     "text": [
      "\r",
      " [*********95%********** ] Elapsed 0.40s / Remaining 00:00:00:00"
     ]
    },
    {
     "name": "stdout",
     "output_type": "stream",
     "text": [
      "\r",
      " [*********96%********** ] Elapsed 0.40s / Remaining 00:00:00:00"
     ]
    },
    {
     "name": "stdout",
     "output_type": "stream",
     "text": [
      "\r",
      " [*********96%********** ] Elapsed 0.40s / Remaining 00:00:00:00"
     ]
    },
    {
     "name": "stdout",
     "output_type": "stream",
     "text": [
      "\r",
      " [*********96%********** ] Elapsed 0.40s / Remaining 00:00:00:00"
     ]
    },
    {
     "name": "stdout",
     "output_type": "stream",
     "text": [
      "\r",
      " [*********96%********** ] Elapsed 0.40s / Remaining 00:00:00:00"
     ]
    },
    {
     "name": "stdout",
     "output_type": "stream",
     "text": [
      "\r",
      " [*********96%********** ] Elapsed 0.41s / Remaining 00:00:00:00"
     ]
    },
    {
     "name": "stdout",
     "output_type": "stream",
     "text": [
      "\r",
      " [*********96%********** ] Elapsed 0.41s / Remaining 00:00:00:00"
     ]
    },
    {
     "name": "stdout",
     "output_type": "stream",
     "text": [
      "\r",
      " [*********97%********** ] Elapsed 0.41s / Remaining 00:00:00:00"
     ]
    },
    {
     "name": "stdout",
     "output_type": "stream",
     "text": [
      "\r",
      " [*********97%********** ] Elapsed 0.41s / Remaining 00:00:00:00"
     ]
    },
    {
     "name": "stdout",
     "output_type": "stream",
     "text": [
      "\r"
     ]
    },
    {
     "name": "stdout",
     "output_type": "stream",
     "text": [
      " [*********97%********** ] Elapsed 0.41s / Remaining 00:00:00:00"
     ]
    },
    {
     "name": "stdout",
     "output_type": "stream",
     "text": [
      "\r",
      " [*********97%********** ] Elapsed 0.41s / Remaining 00:00:00:00"
     ]
    },
    {
     "name": "stdout",
     "output_type": "stream",
     "text": [
      "\r",
      " [*********97%********** ] Elapsed 0.41s / Remaining 00:00:00:00"
     ]
    },
    {
     "name": "stdout",
     "output_type": "stream",
     "text": [
      "\r",
      " [*********97%********** ] Elapsed 0.41s / Remaining 00:00:00:00"
     ]
    },
    {
     "name": "stdout",
     "output_type": "stream",
     "text": [
      "\r",
      " [*********98%***********] Elapsed 0.41s / Remaining 00:00:00:00"
     ]
    },
    {
     "name": "stdout",
     "output_type": "stream",
     "text": [
      "\r",
      " [*********98%***********] Elapsed 0.41s / Remaining 00:00:00:00"
     ]
    },
    {
     "name": "stdout",
     "output_type": "stream",
     "text": [
      "\r",
      " [*********98%***********] Elapsed 0.41s / Remaining 00:00:00:00"
     ]
    },
    {
     "name": "stdout",
     "output_type": "stream",
     "text": [
      "\r",
      " [*********98%***********] Elapsed 0.41s / Remaining 00:00:00:00"
     ]
    },
    {
     "name": "stdout",
     "output_type": "stream",
     "text": [
      "\r",
      " [*********98%***********] Elapsed 0.41s / Remaining 00:00:00:00"
     ]
    },
    {
     "name": "stdout",
     "output_type": "stream",
     "text": [
      "\r",
      " [*********98%***********] Elapsed 0.41s / Remaining 00:00:00:00"
     ]
    },
    {
     "name": "stdout",
     "output_type": "stream",
     "text": [
      "\r",
      " [*********99%***********] Elapsed 0.41s / Remaining 00:00:00:00"
     ]
    },
    {
     "name": "stdout",
     "output_type": "stream",
     "text": [
      "\r",
      " [*********99%***********] Elapsed 0.42s / Remaining 00:00:00:00"
     ]
    },
    {
     "name": "stdout",
     "output_type": "stream",
     "text": [
      "\r",
      " [*********99%***********] Elapsed 0.42s / Remaining 00:00:00:00"
     ]
    },
    {
     "name": "stdout",
     "output_type": "stream",
     "text": [
      "\r",
      " [*********99%***********] Elapsed 0.42s / Remaining 00:00:00:00"
     ]
    },
    {
     "name": "stdout",
     "output_type": "stream",
     "text": [
      "\r",
      " [*********99%***********] Elapsed 0.42s / Remaining 00:00:00:00"
     ]
    },
    {
     "name": "stdout",
     "output_type": "stream",
     "text": [
      "\r",
      " [*********99%***********] Elapsed 0.42s / Remaining 00:00:00:00"
     ]
    },
    {
     "name": "stdout",
     "output_type": "stream",
     "text": [
      "\r",
      " [********100%***********] Elapsed 0.42s / Remaining 00:00:00:00"
     ]
    },
    {
     "name": "stdout",
     "output_type": "stream",
     "text": [
      "\r",
      " [********100%***********] Elapsed 0.42s / Remaining 00:00:00:00"
     ]
    },
    {
     "name": "stdout",
     "output_type": "stream",
     "text": [
      "\r",
      " [********100%***********] Elapsed 0.42s / Remaining 00:00:00:00"
     ]
    },
    {
     "name": "stdout",
     "output_type": "stream",
     "text": [
      "\r",
      " Total run time:   0.42s\n",
      "ODE solver time: 0.42127513885498047\n"
     ]
    }
   ],
   "source": [
    "with timer(\"RHS construction time\"):\n",
    "    matsEnv, delta = env.approximate(\n",
    "        method=\"matsubara\", Nk=Nk, compute_delta=True\n",
    "    )\n",
    "    terminator = system_terminator(Q, delta)\n",
    "    Ltot = liouvillian(Hsys) + terminator\n",
    "    HEOMMatsT = HEOMSolver(Ltot, (matsEnv, Q), NC, options=options)\n",
    "\n",
    "with timer(\"ODE solver time\"):\n",
    "    resultMatsT = HEOMMatsT.run(rho0, tlist)"
   ]
  },
  {
   "cell_type": "code",
   "execution_count": 12,
   "id": "1ef9f7e6",
   "metadata": {
    "execution": {
     "iopub.execute_input": "2025-08-20T04:09:23.370133Z",
     "iopub.status.busy": "2025-08-20T04:09:23.369955Z",
     "iopub.status.idle": "2025-08-20T04:09:23.519119Z",
     "shell.execute_reply": "2025-08-20T04:09:23.518563Z"
    }
   },
   "outputs": [
    {
     "data": {
      "image/png": "[encoded data removed]",
      "text/plain": [
       "<Figure size 800x800 with 1 Axes>"
      ]
     },
     "metadata": {},
     "output_type": "display_data"
    }
   ],
   "source": [
    "# Plot the results\n",
    "fig, axes = plt.subplots(1, 1, sharex=True, figsize=(8, 8))\n",
    "\n",
    "P11_mats = np.real(expect(resultMats.states, P11p))\n",
    "axes.plot(\n",
    "    tlist, np.real(P11_mats),\n",
    "    'b', linewidth=2, label=\"P11 (Matsubara)\",\n",
    ")\n",
    "\n",
    "P11_matsT = np.real(expect(resultMatsT.states, P11p))\n",
    "axes.plot(\n",
    "    tlist, np.real(P11_matsT),\n",
    "    'b--', linewidth=2,\n",
    "    label=\"P11 (Matsubara + Terminator)\",\n",
    ")\n",
    "\n",
    "axes.set_xlabel(r't', fontsize=28)\n",
    "axes.legend(loc=0, fontsize=12);"
   ]
  },
  {
   "cell_type": "markdown",
   "id": "1b9a9624",
   "metadata": {},
   "source": [
    "## Simulation 3: Pade decomposition"
   ]
  },
  {
   "cell_type": "code",
   "execution_count": 13,
   "id": "29755295",
   "metadata": {
    "execution": {
     "iopub.execute_input": "2025-08-20T04:09:23.520598Z",
     "iopub.status.busy": "2025-08-20T04:09:23.520421Z",
     "iopub.status.idle": "2025-08-20T04:09:24.716215Z",
     "shell.execute_reply": "2025-08-20T04:09:24.715588Z"
    }
   },
   "outputs": [
    {
     "data": {
      "image/png": "[encoded data removed]",
      "text/plain": [
       "<Figure size 1600x800 with 2 Axes>"
      ]
     },
     "metadata": {},
     "output_type": "display_data"
    }
   ],
   "source": [
    "# First, compare Matsubara and Pade decompositions\n",
    "padeEnv = env.approximate(\"pade\", Nk=Nk)\n",
    "\n",
    "\n",
    "fig, (ax1, ax2) = plt.subplots(ncols=2, sharey=True, figsize=(16, 8))\n",
    "\n",
    "ax1.plot(\n",
    "    tlist, np.real(env.correlation_function(tlist)),\n",
    "    \"r\", linewidth=2, label=\"Exact\",\n",
    ")\n",
    "ax1.plot(\n",
    "    tlist, np.real(matsEnv.correlation_function(tlist)),\n",
    "    \"g--\", linewidth=2, label=f\"Mats (Nk={Nk})\",\n",
    ")\n",
    "ax1.plot(\n",
    "    tlist, np.real(padeEnv.correlation_function(tlist)),\n",
    "    \"b--\", linewidth=2, label=f\"Pade (Nk={Nk})\",\n",
    ")\n",
    "\n",
    "ax1.set_xlabel(r't', fontsize=28)\n",
    "ax1.set_ylabel(r\"$C_R(t)$\", fontsize=28)\n",
    "ax1.legend(loc=0, fontsize=12)\n",
    "\n",
    "tlist2 = tlist[0:50]\n",
    "ax2.plot(\n",
    "    tlist2, np.abs(matsEnv.correlation_function(tlist2)\n",
    "                   - env.correlation_function(tlist2)),\n",
    "    \"g\", linewidth=2, label=\"Mats Error\",\n",
    ")\n",
    "ax2.plot(\n",
    "    tlist2, np.abs(padeEnv.correlation_function(tlist2)\n",
    "                   - env.correlation_function(tlist2)),\n",
    "    \"b--\", linewidth=2, label=\"Pade Error\",\n",
    ")\n",
    "\n",
    "ax2.set_xlabel(r't', fontsize=28)\n",
    "ax2.legend(loc=0, fontsize=12);"
   ]
  },
  {
   "cell_type": "code",
   "execution_count": 14,
   "id": "356fb893",
   "metadata": {
    "execution": {
     "iopub.execute_input": "2025-08-20T04:09:24.717905Z",
     "iopub.status.busy": "2025-08-20T04:09:24.717713Z",
     "iopub.status.idle": "2025-08-20T04:09:25.168720Z",
     "shell.execute_reply": "2025-08-20T04:09:25.168226Z"
    }
   },
   "outputs": [
    {
     "name": "stdout",
     "output_type": "stream",
     "text": [
      "RHS construction time: 0.019336938858032227\n",
      "\r",
      " [          0%           ] Elapsed 0.00s / Remaining 00:00:00:00"
     ]
    },
    {
     "name": "stdout",
     "output_type": "stream",
     "text": [
      "\r",
      " [          0%           ] Elapsed 0.00s / Remaining 00:00:00:00"
     ]
    },
    {
     "name": "stdout",
     "output_type": "stream",
     "text": [
      "\r",
      " [          1%           ] Elapsed 0.00s / Remaining 00:00:00:00"
     ]
    },
    {
     "name": "stdout",
     "output_type": "stream",
     "text": [
      "\r",
      " [          1%           ] Elapsed 0.00s / Remaining 00:00:00:00"
     ]
    },
    {
     "name": "stdout",
     "output_type": "stream",
     "text": [
      "\r",
      " [          1%           ] Elapsed 0.00s / Remaining 00:00:00:00"
     ]
    },
    {
     "name": "stdout",
     "output_type": "stream",
     "text": [
      "\r",
      " [          1%           ] Elapsed 0.01s / Remaining 00:00:00:00"
     ]
    },
    {
     "name": "stdout",
     "output_type": "stream",
     "text": [
      "\r",
      " [          1%           ] Elapsed 0.01s / Remaining 00:00:00:00"
     ]
    },
    {
     "name": "stdout",
     "output_type": "stream",
     "text": [
      "\r",
      " [          1%           ] Elapsed 0.01s / Remaining 00:00:00:00"
     ]
    },
    {
     "name": "stdout",
     "output_type": "stream",
     "text": [
      "\r",
      " [          2%           ] Elapsed 0.01s / Remaining 00:00:00:00"
     ]
    },
    {
     "name": "stdout",
     "output_type": "stream",
     "text": [
      "\r",
      " [          2%           ] Elapsed 0.01s / Remaining 00:00:00:00"
     ]
    },
    {
     "name": "stdout",
     "output_type": "stream",
     "text": [
      "\r",
      " [          2%           ] Elapsed 0.01s / Remaining 00:00:00:00"
     ]
    },
    {
     "name": "stdout",
     "output_type": "stream",
     "text": [
      "\r",
      " [          2%           ] Elapsed 0.01s / Remaining 00:00:00:00"
     ]
    },
    {
     "name": "stdout",
     "output_type": "stream",
     "text": [
      "\r",
      " [          2%           ] Elapsed 0.01s / Remaining 00:00:00:00"
     ]
    },
    {
     "name": "stdout",
     "output_type": "stream",
     "text": [
      "\r",
      " [          2%           ] Elapsed 0.01s / Remaining 00:00:00:00"
     ]
    },
    {
     "name": "stdout",
     "output_type": "stream",
     "text": [
      "\r",
      " [*         3%           ] Elapsed 0.01s / Remaining 00:00:00:00"
     ]
    },
    {
     "name": "stdout",
     "output_type": "stream",
     "text": [
      "\r",
      " [*         3%           ] Elapsed 0.02s / Remaining 00:00:00:00"
     ]
    },
    {
     "name": "stdout",
     "output_type": "stream",
     "text": [
      "\r",
      " [*         3%           ] Elapsed 0.02s / Remaining 00:00:00:00"
     ]
    },
    {
     "name": "stdout",
     "output_type": "stream",
     "text": [
      "\r",
      " [*         3%           ] Elapsed 0.02s / Remaining 00:00:00:00"
     ]
    },
    {
     "name": "stdout",
     "output_type": "stream",
     "text": [
      "\r",
      " [*         3%           ] Elapsed 0.02s / Remaining 00:00:00:00"
     ]
    },
    {
     "name": "stdout",
     "output_type": "stream",
     "text": [
      "\r",
      " [*         3%           ] Elapsed 0.02s / Remaining 00:00:00:00"
     ]
    },
    {
     "name": "stdout",
     "output_type": "stream",
     "text": [
      "\r",
      " [*         4%           ] Elapsed 0.02s / Remaining 00:00:00:00"
     ]
    },
    {
     "name": "stdout",
     "output_type": "stream",
     "text": [
      "\r",
      " [*         4%           ] Elapsed 0.02s / Remaining 00:00:00:00"
     ]
    },
    {
     "name": "stdout",
     "output_type": "stream",
     "text": [
      "\r",
      " [*         4%           ] Elapsed 0.02s / Remaining 00:00:00:00"
     ]
    },
    {
     "name": "stdout",
     "output_type": "stream",
     "text": [
      "\r",
      " [*         4%           ] Elapsed 0.02s / Remaining 00:00:00:00"
     ]
    },
    {
     "name": "stdout",
     "output_type": "stream",
     "text": [
      "\r",
      " [*         4%           ] Elapsed 0.02s / Remaining 00:00:00:00"
     ]
    },
    {
     "name": "stdout",
     "output_type": "stream",
     "text": [
      "\r",
      " [*         4%           ] Elapsed 0.02s / Remaining 00:00:00:00"
     ]
    },
    {
     "name": "stdout",
     "output_type": "stream",
     "text": [
      "\r",
      " [*         5%           ] Elapsed 0.02s / Remaining 00:00:00:00"
     ]
    },
    {
     "name": "stdout",
     "output_type": "stream",
     "text": [
      "\r",
      " [*         5%           ] Elapsed 0.02s / Remaining 00:00:00:00"
     ]
    },
    {
     "name": "stdout",
     "output_type": "stream",
     "text": [
      "\r",
      " [*         5%           ] Elapsed 0.03s / Remaining 00:00:00:00"
     ]
    },
    {
     "name": "stdout",
     "output_type": "stream",
     "text": [
      "\r",
      " [*         5%           ] Elapsed 0.03s / Remaining 00:00:00:00"
     ]
    },
    {
     "name": "stdout",
     "output_type": "stream",
     "text": [
      "\r",
      " [*         5%           ] Elapsed 0.03s / Remaining 00:00:00:00"
     ]
    },
    {
     "name": "stdout",
     "output_type": "stream",
     "text": [
      "\r",
      " [*         5%           ] Elapsed 0.03s / Remaining 00:00:00:00"
     ]
    },
    {
     "name": "stdout",
     "output_type": "stream",
     "text": [
      "\r",
      " [*         6%           ] Elapsed 0.03s / Remaining 00:00:00:00"
     ]
    },
    {
     "name": "stdout",
     "output_type": "stream",
     "text": [
      "\r",
      " [*         6%           ] Elapsed 0.03s / Remaining 00:00:00:00"
     ]
    },
    {
     "name": "stdout",
     "output_type": "stream",
     "text": [
      "\r",
      " [*         6%           ] Elapsed 0.03s / Remaining 00:00:00:00"
     ]
    },
    {
     "name": "stdout",
     "output_type": "stream",
     "text": [
      "\r",
      " [*         6%           ] Elapsed 0.03s / Remaining 00:00:00:00"
     ]
    },
    {
     "name": "stdout",
     "output_type": "stream",
     "text": [
      "\r",
      " [*         6%           ] Elapsed 0.03s / Remaining 00:00:00:00"
     ]
    },
    {
     "name": "stdout",
     "output_type": "stream",
     "text": [
      "\r",
      " [*         6%           ] Elapsed 0.03s / Remaining 00:00:00:00"
     ]
    },
    {
     "name": "stdout",
     "output_type": "stream",
     "text": [
      "\r",
      " [**        7%           ] Elapsed 0.03s / Remaining 00:00:00:00"
     ]
    },
    {
     "name": "stdout",
     "output_type": "stream",
     "text": [
      "\r",
      " [**        7%           ] Elapsed 0.03s / Remaining 00:00:00:00"
     ]
    },
    {
     "name": "stdout",
     "output_type": "stream",
     "text": [
      "\r",
      " [**        7%           ] Elapsed 0.03s / Remaining 00:00:00:00"
     ]
    },
    {
     "name": "stdout",
     "output_type": "stream",
     "text": [
      "\r",
      " [**        7%           ] Elapsed 0.04s / Remaining 00:00:00:00"
     ]
    },
    {
     "name": "stdout",
     "output_type": "stream",
     "text": [
      "\r",
      " [**        7%           ] Elapsed 0.04s / Remaining 00:00:00:00"
     ]
    },
    {
     "name": "stdout",
     "output_type": "stream",
     "text": [
      "\r",
      " [**        7%           ] Elapsed 0.04s / Remaining 00:00:00:00"
     ]
    },
    {
     "name": "stdout",
     "output_type": "stream",
     "text": [
      "\r",
      " [**        8%           ] Elapsed 0.04s / Remaining 00:00:00:00"
     ]
    },
    {
     "name": "stdout",
     "output_type": "stream",
     "text": [
      "\r",
      " [**        8%           ] Elapsed 0.04s / Remaining 00:00:00:00"
     ]
    },
    {
     "name": "stdout",
     "output_type": "stream",
     "text": [
      "\r",
      " [**        8%           ] Elapsed 0.04s / Remaining 00:00:00:00"
     ]
    },
    {
     "name": "stdout",
     "output_type": "stream",
     "text": [
      "\r",
      " [**        8%           ] Elapsed 0.04s / Remaining 00:00:00:00"
     ]
    },
    {
     "name": "stdout",
     "output_type": "stream",
     "text": [
      "\r",
      " [**        8%           ] Elapsed 0.04s / Remaining 00:00:00:00"
     ]
    },
    {
     "name": "stdout",
     "output_type": "stream",
     "text": [
      "\r",
      " [**        8%           ] Elapsed 0.04s / Remaining 00:00:00:00"
     ]
    },
    {
     "name": "stdout",
     "output_type": "stream",
     "text": [
      "\r",
      " [**        9%           ] Elapsed 0.04s / Remaining 00:00:00:00"
     ]
    },
    {
     "name": "stdout",
     "output_type": "stream",
     "text": [
      "\r",
      " [**        9%           ] Elapsed 0.04s / Remaining 00:00:00:00"
     ]
    },
    {
     "name": "stdout",
     "output_type": "stream",
     "text": [
      "\r",
      " [**        9%           ] Elapsed 0.04s / Remaining 00:00:00:00"
     ]
    },
    {
     "name": "stdout",
     "output_type": "stream",
     "text": [
      "\r",
      " [**        9%           ] Elapsed 0.04s / Remaining 00:00:00:00"
     ]
    },
    {
     "name": "stdout",
     "output_type": "stream",
     "text": [
      "\r",
      " [**        9%           ] Elapsed 0.04s / Remaining 00:00:00:00"
     ]
    },
    {
     "name": "stdout",
     "output_type": "stream",
     "text": [
      "\r",
      " [**        9%           ] Elapsed 0.05s / Remaining 00:00:00:00"
     ]
    },
    {
     "name": "stdout",
     "output_type": "stream",
     "text": [
      "\r",
      " [**       10%           ] Elapsed 0.05s / Remaining 00:00:00:00"
     ]
    },
    {
     "name": "stdout",
     "output_type": "stream",
     "text": [
      "\r",
      " [**       10%           ] Elapsed 0.05s / Remaining 00:00:00:00"
     ]
    },
    {
     "name": "stdout",
     "output_type": "stream",
     "text": [
      "\r",
      " [**       10%           ] Elapsed 0.05s / Remaining 00:00:00:00"
     ]
    },
    {
     "name": "stdout",
     "output_type": "stream",
     "text": [
      "\r",
      " [**       10%           ] Elapsed 0.05s / Remaining 00:00:00:00"
     ]
    },
    {
     "name": "stdout",
     "output_type": "stream",
     "text": [
      "\r",
      " [**       10%           ] Elapsed 0.05s / Remaining 00:00:00:00"
     ]
    },
    {
     "name": "stdout",
     "output_type": "stream",
     "text": [
      "\r",
      " [**       10%           ] Elapsed 0.05s / Remaining 00:00:00:00"
     ]
    },
    {
     "name": "stdout",
     "output_type": "stream",
     "text": [
      "\r",
      " [***      11%           ] Elapsed 0.05s / Remaining 00:00:00:00"
     ]
    },
    {
     "name": "stdout",
     "output_type": "stream",
     "text": [
      "\r",
      " [***      11%           ] Elapsed 0.05s / Remaining 00:00:00:00"
     ]
    },
    {
     "name": "stdout",
     "output_type": "stream",
     "text": [
      "\r",
      " [***      11%           ] Elapsed 0.05s / Remaining 00:00:00:00"
     ]
    },
    {
     "name": "stdout",
     "output_type": "stream",
     "text": [
      "\r",
      " [***      11%           ] Elapsed 0.05s / Remaining 00:00:00:00"
     ]
    },
    {
     "name": "stdout",
     "output_type": "stream",
     "text": [
      "\r",
      " [***      11%           ] Elapsed 0.05s / Remaining 00:00:00:00"
     ]
    },
    {
     "name": "stdout",
     "output_type": "stream",
     "text": [
      "\r",
      " [***      11%           ] Elapsed 0.05s / Remaining 00:00:00:00"
     ]
    },
    {
     "name": "stdout",
     "output_type": "stream",
     "text": [
      "\r",
      " [***      12%           ] Elapsed 0.05s / Remaining 00:00:00:00"
     ]
    },
    {
     "name": "stdout",
     "output_type": "stream",
     "text": [
      "\r",
      " [***      12%           ] Elapsed 0.06s / Remaining 00:00:00:00"
     ]
    },
    {
     "name": "stdout",
     "output_type": "stream",
     "text": [
      "\r",
      " [***      12%           ] Elapsed 0.06s / Remaining 00:00:00:00"
     ]
    },
    {
     "name": "stdout",
     "output_type": "stream",
     "text": [
      "\r",
      " [***      12%           ] Elapsed 0.06s / Remaining 00:00:00:00"
     ]
    },
    {
     "name": "stdout",
     "output_type": "stream",
     "text": [
      "\r",
      " [***      12%           ] Elapsed 0.06s / Remaining 00:00:00:00"
     ]
    },
    {
     "name": "stdout",
     "output_type": "stream",
     "text": [
      "\r",
      " [***      12%           ] Elapsed 0.06s / Remaining 00:00:00:00"
     ]
    },
    {
     "name": "stdout",
     "output_type": "stream",
     "text": [
      "\r",
      " [***      13%           ] Elapsed 0.06s / Remaining 00:00:00:00"
     ]
    },
    {
     "name": "stdout",
     "output_type": "stream",
     "text": [
      "\r",
      " [***      13%           ] Elapsed 0.06s / Remaining 00:00:00:00"
     ]
    },
    {
     "name": "stdout",
     "output_type": "stream",
     "text": [
      "\r",
      " [***      13%           ] Elapsed 0.06s / Remaining 00:00:00:00"
     ]
    },
    {
     "name": "stdout",
     "output_type": "stream",
     "text": [
      "\r",
      " [***      13%           ] Elapsed 0.06s / Remaining 00:00:00:00"
     ]
    },
    {
     "name": "stdout",
     "output_type": "stream",
     "text": [
      "\r",
      " [***      13%           ] Elapsed 0.06s / Remaining 00:00:00:00"
     ]
    },
    {
     "name": "stdout",
     "output_type": "stream",
     "text": [
      "\r",
      " [***      13%           ] Elapsed 0.06s / Remaining 00:00:00:00"
     ]
    },
    {
     "name": "stdout",
     "output_type": "stream",
     "text": [
      "\r",
      " [***      14%           ] Elapsed 0.06s / Remaining 00:00:00:00"
     ]
    },
    {
     "name": "stdout",
     "output_type": "stream",
     "text": [
      "\r",
      " [***      14%           ] Elapsed 0.06s / Remaining 00:00:00:00"
     ]
    },
    {
     "name": "stdout",
     "output_type": "stream",
     "text": [
      "\r",
      " [***      14%           ] Elapsed 0.06s / Remaining 00:00:00:00"
     ]
    },
    {
     "name": "stdout",
     "output_type": "stream",
     "text": [
      "\r",
      " [***      14%           ] Elapsed 0.07s / Remaining 00:00:00:00"
     ]
    },
    {
     "name": "stdout",
     "output_type": "stream",
     "text": [
      "\r",
      " [***      14%           ] Elapsed 0.07s / Remaining 00:00:00:00"
     ]
    },
    {
     "name": "stdout",
     "output_type": "stream",
     "text": [
      "\r",
      " [***      14%           ] Elapsed 0.07s / Remaining 00:00:00:00"
     ]
    },
    {
     "name": "stdout",
     "output_type": "stream",
     "text": [
      "\r",
      " [***      15%           ] Elapsed 0.07s / Remaining 00:00:00:00"
     ]
    },
    {
     "name": "stdout",
     "output_type": "stream",
     "text": [
      "\r",
      " [***      15%           ] Elapsed 0.07s / Remaining 00:00:00:00"
     ]
    },
    {
     "name": "stdout",
     "output_type": "stream",
     "text": [
      "\r",
      " [***      15%           ] Elapsed 0.07s / Remaining 00:00:00:00"
     ]
    },
    {
     "name": "stdout",
     "output_type": "stream",
     "text": [
      "\r",
      " [***      15%           ] Elapsed 0.07s / Remaining 00:00:00:00"
     ]
    },
    {
     "name": "stdout",
     "output_type": "stream",
     "text": [
      "\r",
      " [***      15%           ] Elapsed 0.07s / Remaining 00:00:00:00"
     ]
    },
    {
     "name": "stdout",
     "output_type": "stream",
     "text": [
      "\r",
      " [***      15%           ] Elapsed 0.07s / Remaining 00:00:00:00"
     ]
    },
    {
     "name": "stdout",
     "output_type": "stream",
     "text": [
      "\r",
      " [****     16%           ] Elapsed 0.07s / Remaining 00:00:00:00"
     ]
    },
    {
     "name": "stdout",
     "output_type": "stream",
     "text": [
      "\r",
      " [****     16%           ] Elapsed 0.07s / Remaining 00:00:00:00"
     ]
    },
    {
     "name": "stdout",
     "output_type": "stream",
     "text": [
      "\r",
      " [****     16%           ] Elapsed 0.07s / Remaining 00:00:00:00"
     ]
    },
    {
     "name": "stdout",
     "output_type": "stream",
     "text": [
      "\r",
      " [****     16%           ] Elapsed 0.07s / Remaining 00:00:00:00"
     ]
    },
    {
     "name": "stdout",
     "output_type": "stream",
     "text": [
      "\r",
      " [****     16%           ] Elapsed 0.07s / Remaining 00:00:00:00"
     ]
    },
    {
     "name": "stdout",
     "output_type": "stream",
     "text": [
      "\r",
      " [****     16%           ] Elapsed 0.07s / Remaining 00:00:00:00"
     ]
    },
    {
     "name": "stdout",
     "output_type": "stream",
     "text": [
      "\r",
      " [****     17%           ] Elapsed 0.08s / Remaining 00:00:00:00"
     ]
    },
    {
     "name": "stdout",
     "output_type": "stream",
     "text": [
      "\r",
      " [****     17%           ] Elapsed 0.08s / Remaining 00:00:00:00"
     ]
    },
    {
     "name": "stdout",
     "output_type": "stream",
     "text": [
      "\r",
      " [****     17%           ] Elapsed 0.08s / Remaining 00:00:00:00"
     ]
    },
    {
     "name": "stdout",
     "output_type": "stream",
     "text": [
      "\r",
      " [****     17%           ] Elapsed 0.08s / Remaining 00:00:00:00"
     ]
    },
    {
     "name": "stdout",
     "output_type": "stream",
     "text": [
      "\r",
      " [****     17%           ] Elapsed 0.08s / Remaining 00:00:00:00"
     ]
    },
    {
     "name": "stdout",
     "output_type": "stream",
     "text": [
      "\r",
      " [****     17%           ] Elapsed 0.08s / Remaining 00:00:00:00"
     ]
    },
    {
     "name": "stdout",
     "output_type": "stream",
     "text": [
      "\r",
      " [****     18%           ] Elapsed 0.08s / Remaining 00:00:00:00"
     ]
    },
    {
     "name": "stdout",
     "output_type": "stream",
     "text": [
      "\r",
      " [****     18%           ] Elapsed 0.08s / Remaining 00:00:00:00"
     ]
    },
    {
     "name": "stdout",
     "output_type": "stream",
     "text": [
      "\r",
      " [****     18%           ] Elapsed 0.08s / Remaining 00:00:00:00"
     ]
    },
    {
     "name": "stdout",
     "output_type": "stream",
     "text": [
      "\r",
      " [****     18%           ] Elapsed 0.08s / Remaining 00:00:00:00"
     ]
    },
    {
     "name": "stdout",
     "output_type": "stream",
     "text": [
      "\r",
      " [****     18%           ] Elapsed 0.08s / Remaining 00:00:00:00"
     ]
    },
    {
     "name": "stdout",
     "output_type": "stream",
     "text": [
      "\r",
      " [****     18%           ] Elapsed 0.08s / Remaining 00:00:00:00"
     ]
    },
    {
     "name": "stdout",
     "output_type": "stream",
     "text": [
      "\r",
      " [****     19%           ] Elapsed 0.08s / Remaining 00:00:00:00"
     ]
    },
    {
     "name": "stdout",
     "output_type": "stream",
     "text": [
      "\r",
      " [****     19%           ] Elapsed 0.08s / Remaining 00:00:00:00"
     ]
    },
    {
     "name": "stdout",
     "output_type": "stream",
     "text": [
      "\r",
      " [****     19%           ] Elapsed 0.09s / Remaining 00:00:00:00"
     ]
    },
    {
     "name": "stdout",
     "output_type": "stream",
     "text": [
      "\r",
      " [****     19%           ] Elapsed 0.09s / Remaining 00:00:00:00"
     ]
    },
    {
     "name": "stdout",
     "output_type": "stream",
     "text": [
      "\r",
      " [****     19%           ] Elapsed 0.09s / Remaining 00:00:00:00"
     ]
    },
    {
     "name": "stdout",
     "output_type": "stream",
     "text": [
      "\r",
      " [****     19%           ] Elapsed 0.09s / Remaining 00:00:00:00"
     ]
    },
    {
     "name": "stdout",
     "output_type": "stream",
     "text": [
      "\r",
      " [*****    20%           ] Elapsed 0.09s / Remaining 00:00:00:00"
     ]
    },
    {
     "name": "stdout",
     "output_type": "stream",
     "text": [
      "\r",
      " [*****    20%           ] Elapsed 0.09s / Remaining 00:00:00:00"
     ]
    },
    {
     "name": "stdout",
     "output_type": "stream",
     "text": [
      "\r",
      " [*****    20%           ] Elapsed 0.09s / Remaining 00:00:00:00"
     ]
    },
    {
     "name": "stdout",
     "output_type": "stream",
     "text": [
      "\r",
      " [*****    20%           ] Elapsed 0.09s / Remaining 00:00:00:00"
     ]
    },
    {
     "name": "stdout",
     "output_type": "stream",
     "text": [
      "\r",
      " [*****    20%           ] Elapsed 0.09s / Remaining 00:00:00:00"
     ]
    },
    {
     "name": "stdout",
     "output_type": "stream",
     "text": [
      "\r",
      " [*****    20%           ] Elapsed 0.09s / Remaining 00:00:00:00"
     ]
    },
    {
     "name": "stdout",
     "output_type": "stream",
     "text": [
      "\r",
      " [*****    21%           ] Elapsed 0.09s / Remaining 00:00:00:00"
     ]
    },
    {
     "name": "stdout",
     "output_type": "stream",
     "text": [
      "\r",
      " [*****    21%           ] Elapsed 0.09s / Remaining 00:00:00:00"
     ]
    },
    {
     "name": "stdout",
     "output_type": "stream",
     "text": [
      "\r",
      " [*****    21%           ] Elapsed 0.09s / Remaining 00:00:00:00"
     ]
    },
    {
     "name": "stdout",
     "output_type": "stream",
     "text": [
      "\r",
      " [*****    21%           ] Elapsed 0.09s / Remaining 00:00:00:00"
     ]
    },
    {
     "name": "stdout",
     "output_type": "stream",
     "text": [
      "\r",
      " [*****    21%           ] Elapsed 0.09s / Remaining 00:00:00:00"
     ]
    },
    {
     "name": "stdout",
     "output_type": "stream",
     "text": [
      "\r",
      " [*****    21%           ] Elapsed 0.10s / Remaining 00:00:00:00"
     ]
    },
    {
     "name": "stdout",
     "output_type": "stream",
     "text": [
      "\r",
      " [*****    22%           ] Elapsed 0.10s / Remaining 00:00:00:00"
     ]
    },
    {
     "name": "stdout",
     "output_type": "stream",
     "text": [
      "\r",
      " [*****    22%           ] Elapsed 0.10s / Remaining 00:00:00:00"
     ]
    },
    {
     "name": "stdout",
     "output_type": "stream",
     "text": [
      "\r",
      " [*****    22%           ] Elapsed 0.10s / Remaining 00:00:00:00"
     ]
    },
    {
     "name": "stdout",
     "output_type": "stream",
     "text": [
      "\r",
      " [*****    22%           ] Elapsed 0.10s / Remaining 00:00:00:00"
     ]
    },
    {
     "name": "stdout",
     "output_type": "stream",
     "text": [
      "\r",
      " [*****    22%           ] Elapsed 0.10s / Remaining 00:00:00:00"
     ]
    },
    {
     "name": "stdout",
     "output_type": "stream",
     "text": [
      "\r",
      " [*****    22%           ] Elapsed 0.10s / Remaining 00:00:00:00"
     ]
    },
    {
     "name": "stdout",
     "output_type": "stream",
     "text": [
      "\r",
      " [*****    23%           ] Elapsed 0.10s / Remaining 00:00:00:00"
     ]
    },
    {
     "name": "stdout",
     "output_type": "stream",
     "text": [
      "\r",
      " [*****    23%           ] Elapsed 0.10s / Remaining 00:00:00:00"
     ]
    },
    {
     "name": "stdout",
     "output_type": "stream",
     "text": [
      "\r",
      " [*****    23%           ] Elapsed 0.10s / Remaining 00:00:00:00"
     ]
    },
    {
     "name": "stdout",
     "output_type": "stream",
     "text": [
      "\r",
      " [*****    23%           ] Elapsed 0.10s / Remaining 00:00:00:00"
     ]
    },
    {
     "name": "stdout",
     "output_type": "stream",
     "text": [
      "\r",
      " [*****    23%           ] Elapsed 0.10s / Remaining 00:00:00:00"
     ]
    },
    {
     "name": "stdout",
     "output_type": "stream",
     "text": [
      "\r",
      " [*****    23%           ] Elapsed 0.10s / Remaining 00:00:00:00"
     ]
    },
    {
     "name": "stdout",
     "output_type": "stream",
     "text": [
      "\r",
      " [******   24%           ] Elapsed 0.10s / Remaining 00:00:00:00"
     ]
    },
    {
     "name": "stdout",
     "output_type": "stream",
     "text": [
      "\r",
      " [******   24%           ] Elapsed 0.11s / Remaining 00:00:00:00"
     ]
    },
    {
     "name": "stdout",
     "output_type": "stream",
     "text": [
      "\r",
      " [******   24%           ] Elapsed 0.11s / Remaining 00:00:00:00"
     ]
    },
    {
     "name": "stdout",
     "output_type": "stream",
     "text": [
      "\r",
      " [******   24%           ] Elapsed 0.11s / Remaining 00:00:00:00"
     ]
    },
    {
     "name": "stdout",
     "output_type": "stream",
     "text": [
      "\r",
      " [******   24%           ] Elapsed 0.11s / Remaining 00:00:00:00"
     ]
    },
    {
     "name": "stdout",
     "output_type": "stream",
     "text": [
      "\r",
      " [******   24%           ] Elapsed 0.11s / Remaining 00:00:00:00"
     ]
    },
    {
     "name": "stdout",
     "output_type": "stream",
     "text": [
      "\r",
      " [******   25%           ] Elapsed 0.11s / Remaining 00:00:00:00"
     ]
    },
    {
     "name": "stdout",
     "output_type": "stream",
     "text": [
      "\r",
      " [******   25%           ] Elapsed 0.11s / Remaining 00:00:00:00"
     ]
    },
    {
     "name": "stdout",
     "output_type": "stream",
     "text": [
      "\r",
      " [******   25%           ] Elapsed 0.11s / Remaining 00:00:00:00"
     ]
    },
    {
     "name": "stdout",
     "output_type": "stream",
     "text": [
      "\r",
      " [******   25%           ] Elapsed 0.11s / Remaining 00:00:00:00"
     ]
    },
    {
     "name": "stdout",
     "output_type": "stream",
     "text": [
      "\r",
      " [******   25%           ] Elapsed 0.11s / Remaining 00:00:00:00"
     ]
    },
    {
     "name": "stdout",
     "output_type": "stream",
     "text": [
      "\r",
      " [******   25%           ] Elapsed 0.11s / Remaining 00:00:00:00"
     ]
    },
    {
     "name": "stdout",
     "output_type": "stream",
     "text": [
      "\r",
      " [******   26%           ] Elapsed 0.11s / Remaining 00:00:00:00"
     ]
    },
    {
     "name": "stdout",
     "output_type": "stream",
     "text": [
      "\r",
      " [******   26%           ] Elapsed 0.11s / Remaining 00:00:00:00"
     ]
    },
    {
     "name": "stdout",
     "output_type": "stream",
     "text": [
      "\r",
      " [******   26%           ] Elapsed 0.11s / Remaining 00:00:00:00"
     ]
    },
    {
     "name": "stdout",
     "output_type": "stream",
     "text": [
      "\r",
      " [******   26%           ] Elapsed 0.12s / Remaining 00:00:00:00"
     ]
    },
    {
     "name": "stdout",
     "output_type": "stream",
     "text": [
      "\r",
      " [******   26%           ] Elapsed 0.12s / Remaining 00:00:00:00"
     ]
    },
    {
     "name": "stdout",
     "output_type": "stream",
     "text": [
      "\r",
      " [******   26%           ] Elapsed 0.12s / Remaining 00:00:00:00"
     ]
    },
    {
     "name": "stdout",
     "output_type": "stream",
     "text": [
      "\r",
      " [******   27%           ] Elapsed 0.12s / Remaining 00:00:00:00"
     ]
    },
    {
     "name": "stdout",
     "output_type": "stream",
     "text": [
      "\r",
      " [******   27%           ] Elapsed 0.12s / Remaining 00:00:00:00"
     ]
    },
    {
     "name": "stdout",
     "output_type": "stream",
     "text": [
      "\r",
      " [******   27%           ] Elapsed 0.12s / Remaining 00:00:00:00"
     ]
    },
    {
     "name": "stdout",
     "output_type": "stream",
     "text": [
      "\r",
      " [******   27%           ] Elapsed 0.12s / Remaining 00:00:00:00"
     ]
    },
    {
     "name": "stdout",
     "output_type": "stream",
     "text": [
      "\r",
      " [******   27%           ] Elapsed 0.12s / Remaining 00:00:00:00"
     ]
    },
    {
     "name": "stdout",
     "output_type": "stream",
     "text": [
      "\r",
      " [******   27%           ] Elapsed 0.12s / Remaining 00:00:00:00"
     ]
    },
    {
     "name": "stdout",
     "output_type": "stream",
     "text": [
      "\r",
      " [******   28%           ] Elapsed 0.12s / Remaining 00:00:00:00"
     ]
    },
    {
     "name": "stdout",
     "output_type": "stream",
     "text": [
      "\r",
      " [******   28%           ] Elapsed 0.12s / Remaining 00:00:00:00"
     ]
    },
    {
     "name": "stdout",
     "output_type": "stream",
     "text": [
      "\r",
      " [******   28%           ] Elapsed 0.12s / Remaining 00:00:00:00"
     ]
    },
    {
     "name": "stdout",
     "output_type": "stream",
     "text": [
      "\r",
      " [******   28%           ] Elapsed 0.12s / Remaining 00:00:00:00"
     ]
    },
    {
     "name": "stdout",
     "output_type": "stream",
     "text": [
      "\r",
      " [******   28%           ] Elapsed 0.12s / Remaining 00:00:00:00"
     ]
    },
    {
     "name": "stdout",
     "output_type": "stream",
     "text": [
      "\r",
      " [******   28%           ] Elapsed 0.13s / Remaining 00:00:00:00"
     ]
    },
    {
     "name": "stdout",
     "output_type": "stream",
     "text": [
      "\r",
      " [*******  29%           ] Elapsed 0.13s / Remaining 00:00:00:00"
     ]
    },
    {
     "name": "stdout",
     "output_type": "stream",
     "text": [
      "\r",
      " [*******  29%           ] Elapsed 0.13s / Remaining 00:00:00:00"
     ]
    },
    {
     "name": "stdout",
     "output_type": "stream",
     "text": [
      "\r",
      " [*******  29%           ] Elapsed 0.13s / Remaining 00:00:00:00"
     ]
    },
    {
     "name": "stdout",
     "output_type": "stream",
     "text": [
      "\r",
      " [*******  29%           ] Elapsed 0.13s / Remaining 00:00:00:00"
     ]
    },
    {
     "name": "stdout",
     "output_type": "stream",
     "text": [
      "\r",
      " [*******  29%           ] Elapsed 0.13s / Remaining 00:00:00:00"
     ]
    },
    {
     "name": "stdout",
     "output_type": "stream",
     "text": [
      "\r",
      " [*******  29%           ] Elapsed 0.13s / Remaining 00:00:00:00"
     ]
    },
    {
     "name": "stdout",
     "output_type": "stream",
     "text": [
      "\r",
      " [*******  30%           ] Elapsed 0.13s / Remaining 00:00:00:00"
     ]
    },
    {
     "name": "stdout",
     "output_type": "stream",
     "text": [
      "\r",
      " [*******  30%           ] Elapsed 0.13s / Remaining 00:00:00:00"
     ]
    },
    {
     "name": "stdout",
     "output_type": "stream",
     "text": [
      "\r",
      " [*******  30%           ] Elapsed 0.13s / Remaining 00:00:00:00"
     ]
    },
    {
     "name": "stdout",
     "output_type": "stream",
     "text": [
      "\r",
      " [*******  30%           ] Elapsed 0.13s / Remaining 00:00:00:00"
     ]
    },
    {
     "name": "stdout",
     "output_type": "stream",
     "text": [
      "\r",
      " [*******  30%           ] Elapsed 0.13s / Remaining 00:00:00:00"
     ]
    },
    {
     "name": "stdout",
     "output_type": "stream",
     "text": [
      "\r",
      " [*******  30%           ] Elapsed 0.13s / Remaining 00:00:00:00"
     ]
    },
    {
     "name": "stdout",
     "output_type": "stream",
     "text": [
      "\r",
      " [*******  31%           ] Elapsed 0.13s / Remaining 00:00:00:00"
     ]
    },
    {
     "name": "stdout",
     "output_type": "stream",
     "text": [
      "\r",
      " [*******  31%           ] Elapsed 0.13s / Remaining 00:00:00:00"
     ]
    },
    {
     "name": "stdout",
     "output_type": "stream",
     "text": [
      "\r",
      " [*******  31%           ] Elapsed 0.14s / Remaining 00:00:00:00"
     ]
    },
    {
     "name": "stdout",
     "output_type": "stream",
     "text": [
      "\r",
      " [*******  31%           ] Elapsed 0.14s / Remaining 00:00:00:00"
     ]
    },
    {
     "name": "stdout",
     "output_type": "stream",
     "text": [
      "\r",
      " [*******  31%           ] Elapsed 0.14s / Remaining 00:00:00:00"
     ]
    },
    {
     "name": "stdout",
     "output_type": "stream",
     "text": [
      "\r",
      " [*******  31%           ] Elapsed 0.14s / Remaining 00:00:00:00"
     ]
    },
    {
     "name": "stdout",
     "output_type": "stream",
     "text": [
      "\r",
      " [*******  32%           ] Elapsed 0.14s / Remaining 00:00:00:00"
     ]
    },
    {
     "name": "stdout",
     "output_type": "stream",
     "text": [
      "\r",
      " [*******  32%           ] Elapsed 0.14s / Remaining 00:00:00:00"
     ]
    },
    {
     "name": "stdout",
     "output_type": "stream",
     "text": [
      "\r",
      " [*******  32%           ] Elapsed 0.14s / Remaining 00:00:00:00"
     ]
    },
    {
     "name": "stdout",
     "output_type": "stream",
     "text": [
      "\r",
      " [*******  32%           ] Elapsed 0.14s / Remaining 00:00:00:00"
     ]
    },
    {
     "name": "stdout",
     "output_type": "stream",
     "text": [
      "\r",
      " [*******  32%           ] Elapsed 0.14s / Remaining 00:00:00:00"
     ]
    },
    {
     "name": "stdout",
     "output_type": "stream",
     "text": [
      "\r",
      " [*******  32%           ] Elapsed 0.14s / Remaining 00:00:00:00"
     ]
    },
    {
     "name": "stdout",
     "output_type": "stream",
     "text": [
      "\r",
      " [******** 33%           ] Elapsed 0.14s / Remaining 00:00:00:00"
     ]
    },
    {
     "name": "stdout",
     "output_type": "stream",
     "text": [
      "\r",
      " [******** 33%           ] Elapsed 0.14s / Remaining 00:00:00:00"
     ]
    },
    {
     "name": "stdout",
     "output_type": "stream",
     "text": [
      "\r",
      " [******** 33%           ] Elapsed 0.14s / Remaining 00:00:00:00"
     ]
    },
    {
     "name": "stdout",
     "output_type": "stream",
     "text": [
      "\r",
      " [******** 33%           ] Elapsed 0.14s / Remaining 00:00:00:00"
     ]
    },
    {
     "name": "stdout",
     "output_type": "stream",
     "text": [
      "\r",
      " [******** 33%           ] Elapsed 0.15s / Remaining 00:00:00:00"
     ]
    },
    {
     "name": "stdout",
     "output_type": "stream",
     "text": [
      "\r",
      " [******** 33%           ] Elapsed 0.15s / Remaining 00:00:00:00"
     ]
    },
    {
     "name": "stdout",
     "output_type": "stream",
     "text": [
      "\r",
      " [******** 34%           ] Elapsed 0.15s / Remaining 00:00:00:00"
     ]
    },
    {
     "name": "stdout",
     "output_type": "stream",
     "text": [
      "\r",
      " [******** 34%           ] Elapsed 0.15s / Remaining 00:00:00:00"
     ]
    },
    {
     "name": "stdout",
     "output_type": "stream",
     "text": [
      "\r",
      " [******** 34%           ] Elapsed 0.15s / Remaining 00:00:00:00"
     ]
    },
    {
     "name": "stdout",
     "output_type": "stream",
     "text": [
      "\r",
      " [******** 34%           ] Elapsed 0.15s / Remaining 00:00:00:00"
     ]
    },
    {
     "name": "stdout",
     "output_type": "stream",
     "text": [
      "\r",
      " [******** 34%           ] Elapsed 0.15s / Remaining 00:00:00:00"
     ]
    },
    {
     "name": "stdout",
     "output_type": "stream",
     "text": [
      "\r",
      " [******** 34%           ] Elapsed 0.15s / Remaining 00:00:00:00"
     ]
    },
    {
     "name": "stdout",
     "output_type": "stream",
     "text": [
      "\r",
      " [******** 35%           ] Elapsed 0.15s / Remaining 00:00:00:00"
     ]
    },
    {
     "name": "stdout",
     "output_type": "stream",
     "text": [
      "\r",
      " [******** 35%           ] Elapsed 0.15s / Remaining 00:00:00:00"
     ]
    },
    {
     "name": "stdout",
     "output_type": "stream",
     "text": [
      "\r",
      " [******** 35%           ] Elapsed 0.15s / Remaining 00:00:00:00"
     ]
    },
    {
     "name": "stdout",
     "output_type": "stream",
     "text": [
      "\r",
      " [******** 35%           ] Elapsed 0.15s / Remaining 00:00:00:00"
     ]
    },
    {
     "name": "stdout",
     "output_type": "stream",
     "text": [
      "\r",
      " [******** 35%           ] Elapsed 0.15s / Remaining 00:00:00:00"
     ]
    },
    {
     "name": "stdout",
     "output_type": "stream",
     "text": [
      "\r",
      " [******** 35%           ] Elapsed 0.15s / Remaining 00:00:00:00"
     ]
    },
    {
     "name": "stdout",
     "output_type": "stream",
     "text": [
      "\r",
      " [******** 36%           ] Elapsed 0.16s / Remaining 00:00:00:00"
     ]
    },
    {
     "name": "stdout",
     "output_type": "stream",
     "text": [
      "\r",
      " [******** 36%           ] Elapsed 0.16s / Remaining 00:00:00:00"
     ]
    },
    {
     "name": "stdout",
     "output_type": "stream",
     "text": [
      "\r",
      " [******** 36%           ] Elapsed 0.16s / Remaining 00:00:00:00"
     ]
    },
    {
     "name": "stdout",
     "output_type": "stream",
     "text": [
      "\r",
      " [******** 36%           ] Elapsed 0.16s / Remaining 00:00:00:00"
     ]
    },
    {
     "name": "stdout",
     "output_type": "stream",
     "text": [
      "\r",
      " [******** 36%           ] Elapsed 0.16s / Remaining 00:00:00:00"
     ]
    },
    {
     "name": "stdout",
     "output_type": "stream",
     "text": [
      "\r",
      " [******** 36%           ] Elapsed 0.16s / Remaining 00:00:00:00"
     ]
    },
    {
     "name": "stdout",
     "output_type": "stream",
     "text": [
      "\r",
      " [*********37%           ] Elapsed 0.16s / Remaining 00:00:00:00"
     ]
    },
    {
     "name": "stdout",
     "output_type": "stream",
     "text": [
      "\r",
      " [*********37%           ] Elapsed 0.16s / Remaining 00:00:00:00"
     ]
    },
    {
     "name": "stdout",
     "output_type": "stream",
     "text": [
      "\r",
      " [*********37%           ] Elapsed 0.16s / Remaining 00:00:00:00"
     ]
    },
    {
     "name": "stdout",
     "output_type": "stream",
     "text": [
      "\r",
      " [*********37%           ] Elapsed 0.16s / Remaining 00:00:00:00"
     ]
    },
    {
     "name": "stdout",
     "output_type": "stream",
     "text": [
      "\r",
      " [*********37%           ] Elapsed 0.16s / Remaining 00:00:00:00"
     ]
    },
    {
     "name": "stdout",
     "output_type": "stream",
     "text": [
      "\r",
      " [*********37%           ] Elapsed 0.16s / Remaining 00:00:00:00"
     ]
    },
    {
     "name": "stdout",
     "output_type": "stream",
     "text": [
      "\r",
      " [*********38%           ] Elapsed 0.16s / Remaining 00:00:00:00"
     ]
    },
    {
     "name": "stdout",
     "output_type": "stream",
     "text": [
      "\r",
      " [*********38%           ] Elapsed 0.16s / Remaining 00:00:00:00"
     ]
    },
    {
     "name": "stdout",
     "output_type": "stream",
     "text": [
      "\r",
      " [*********38%           ] Elapsed 0.16s / Remaining 00:00:00:00"
     ]
    },
    {
     "name": "stdout",
     "output_type": "stream",
     "text": [
      "\r",
      " [*********38%           ] Elapsed 0.17s / Remaining 00:00:00:00"
     ]
    },
    {
     "name": "stdout",
     "output_type": "stream",
     "text": [
      "\r",
      " [*********38%           ] Elapsed 0.17s / Remaining 00:00:00:00"
     ]
    },
    {
     "name": "stdout",
     "output_type": "stream",
     "text": [
      "\r",
      " [*********38%           ] Elapsed 0.17s / Remaining 00:00:00:00"
     ]
    },
    {
     "name": "stdout",
     "output_type": "stream",
     "text": [
      "\r",
      " [*********39%           ] Elapsed 0.17s / Remaining 00:00:00:00"
     ]
    },
    {
     "name": "stdout",
     "output_type": "stream",
     "text": [
      "\r",
      " [*********39%           ] Elapsed 0.17s / Remaining 00:00:00:00"
     ]
    },
    {
     "name": "stdout",
     "output_type": "stream",
     "text": [
      "\r",
      " [*********39%           ] Elapsed 0.17s / Remaining 00:00:00:00"
     ]
    },
    {
     "name": "stdout",
     "output_type": "stream",
     "text": [
      "\r",
      " [*********39%           ] Elapsed 0.17s / Remaining 00:00:00:00"
     ]
    },
    {
     "name": "stdout",
     "output_type": "stream",
     "text": [
      "\r",
      " [*********39%           ] Elapsed 0.17s / Remaining 00:00:00:00"
     ]
    },
    {
     "name": "stdout",
     "output_type": "stream",
     "text": [
      "\r",
      " [*********39%           ] Elapsed 0.17s / Remaining 00:00:00:00"
     ]
    },
    {
     "name": "stdout",
     "output_type": "stream",
     "text": [
      "\r",
      " [*********40%           ] Elapsed 0.17s / Remaining 00:00:00:00"
     ]
    },
    {
     "name": "stdout",
     "output_type": "stream",
     "text": [
      "\r",
      " [*********40%           ] Elapsed 0.17s / Remaining 00:00:00:00"
     ]
    },
    {
     "name": "stdout",
     "output_type": "stream",
     "text": [
      "\r",
      " [*********40%           ] Elapsed 0.17s / Remaining 00:00:00:00"
     ]
    },
    {
     "name": "stdout",
     "output_type": "stream",
     "text": [
      "\r",
      " [*********40%           ] Elapsed 0.17s / Remaining 00:00:00:00"
     ]
    },
    {
     "name": "stdout",
     "output_type": "stream",
     "text": [
      "\r",
      " [*********40%           ] Elapsed 0.17s / Remaining 00:00:00:00"
     ]
    },
    {
     "name": "stdout",
     "output_type": "stream",
     "text": [
      "\r",
      " [*********40%           ] Elapsed 0.18s / Remaining 00:00:00:00"
     ]
    },
    {
     "name": "stdout",
     "output_type": "stream",
     "text": [
      "\r",
      " [*********41%           ] Elapsed 0.18s / Remaining 00:00:00:00"
     ]
    },
    {
     "name": "stdout",
     "output_type": "stream",
     "text": [
      "\r",
      " [*********41%           ] Elapsed 0.18s / Remaining 00:00:00:00"
     ]
    },
    {
     "name": "stdout",
     "output_type": "stream",
     "text": [
      "\r",
      " [*********41%           ] Elapsed 0.18s / Remaining 00:00:00:00"
     ]
    },
    {
     "name": "stdout",
     "output_type": "stream",
     "text": [
      "\r",
      " [*********41%           ] Elapsed 0.18s / Remaining 00:00:00:00"
     ]
    },
    {
     "name": "stdout",
     "output_type": "stream",
     "text": [
      "\r",
      " [*********41%           ] Elapsed 0.18s / Remaining 00:00:00:00"
     ]
    },
    {
     "name": "stdout",
     "output_type": "stream",
     "text": [
      "\r",
      " [*********41%           ] Elapsed 0.18s / Remaining 00:00:00:00"
     ]
    },
    {
     "name": "stdout",
     "output_type": "stream",
     "text": [
      "\r",
      " [*********42%           ] Elapsed 0.18s / Remaining 00:00:00:00"
     ]
    },
    {
     "name": "stdout",
     "output_type": "stream",
     "text": [
      "\r",
      " [*********42%           ] Elapsed 0.18s / Remaining 00:00:00:00"
     ]
    },
    {
     "name": "stdout",
     "output_type": "stream",
     "text": [
      "\r",
      " [*********42%           ] Elapsed 0.18s / Remaining 00:00:00:00"
     ]
    },
    {
     "name": "stdout",
     "output_type": "stream",
     "text": [
      "\r",
      " [*********42%           ] Elapsed 0.18s / Remaining 00:00:00:00"
     ]
    },
    {
     "name": "stdout",
     "output_type": "stream",
     "text": [
      "\r",
      " [*********42%           ] Elapsed 0.18s / Remaining 00:00:00:00"
     ]
    },
    {
     "name": "stdout",
     "output_type": "stream",
     "text": [
      "\r",
      " [*********42%           ] Elapsed 0.18s / Remaining 00:00:00:00"
     ]
    },
    {
     "name": "stdout",
     "output_type": "stream",
     "text": [
      "\r",
      " [*********43%           ] Elapsed 0.18s / Remaining 00:00:00:00"
     ]
    },
    {
     "name": "stdout",
     "output_type": "stream",
     "text": [
      "\r",
      " [*********43%           ] Elapsed 0.18s / Remaining 00:00:00:00"
     ]
    },
    {
     "name": "stdout",
     "output_type": "stream",
     "text": [
      "\r",
      " [*********43%           ] Elapsed 0.19s / Remaining 00:00:00:00"
     ]
    },
    {
     "name": "stdout",
     "output_type": "stream",
     "text": [
      "\r",
      " [*********43%           ] Elapsed 0.19s / Remaining 00:00:00:00"
     ]
    },
    {
     "name": "stdout",
     "output_type": "stream",
     "text": [
      "\r",
      " [*********43%           ] Elapsed 0.19s / Remaining 00:00:00:00"
     ]
    },
    {
     "name": "stdout",
     "output_type": "stream",
     "text": [
      "\r",
      " [*********43%           ] Elapsed 0.19s / Remaining 00:00:00:00"
     ]
    },
    {
     "name": "stdout",
     "output_type": "stream",
     "text": [
      "\r",
      " [*********44%           ] Elapsed 0.19s / Remaining 00:00:00:00"
     ]
    },
    {
     "name": "stdout",
     "output_type": "stream",
     "text": [
      "\r",
      " [*********44%           ] Elapsed 0.19s / Remaining 00:00:00:00"
     ]
    },
    {
     "name": "stdout",
     "output_type": "stream",
     "text": [
      "\r",
      " [*********44%           ] Elapsed 0.19s / Remaining 00:00:00:00"
     ]
    },
    {
     "name": "stdout",
     "output_type": "stream",
     "text": [
      "\r",
      " [*********44%           ] Elapsed 0.19s / Remaining 00:00:00:00"
     ]
    },
    {
     "name": "stdout",
     "output_type": "stream",
     "text": [
      "\r",
      " [*********44%           ] Elapsed 0.19s / Remaining 00:00:00:00"
     ]
    },
    {
     "name": "stdout",
     "output_type": "stream",
     "text": [
      "\r",
      " [*********44%           ] Elapsed 0.19s / Remaining 00:00:00:00"
     ]
    },
    {
     "name": "stdout",
     "output_type": "stream",
     "text": [
      "\r",
      " [*********45%           ] Elapsed 0.19s / Remaining 00:00:00:00"
     ]
    },
    {
     "name": "stdout",
     "output_type": "stream",
     "text": [
      "\r",
      " [*********45%           ] Elapsed 0.19s / Remaining 00:00:00:00"
     ]
    },
    {
     "name": "stdout",
     "output_type": "stream",
     "text": [
      "\r",
      " [*********45%           ] Elapsed 0.19s / Remaining 00:00:00:00"
     ]
    },
    {
     "name": "stdout",
     "output_type": "stream",
     "text": [
      "\r",
      " [*********45%           ] Elapsed 0.20s / Remaining 00:00:00:00"
     ]
    },
    {
     "name": "stdout",
     "output_type": "stream",
     "text": [
      "\r",
      " [*********45%           ] Elapsed 0.20s / Remaining 00:00:00:00"
     ]
    },
    {
     "name": "stdout",
     "output_type": "stream",
     "text": [
      "\r",
      " [*********45%           ] Elapsed 0.20s / Remaining 00:00:00:00"
     ]
    },
    {
     "name": "stdout",
     "output_type": "stream",
     "text": [
      "\r",
      " [*********46%           ] Elapsed 0.20s / Remaining 00:00:00:00"
     ]
    },
    {
     "name": "stdout",
     "output_type": "stream",
     "text": [
      "\r",
      " [*********46%           ] Elapsed 0.20s / Remaining 00:00:00:00"
     ]
    },
    {
     "name": "stdout",
     "output_type": "stream",
     "text": [
      "\r",
      " [*********46%           ] Elapsed 0.20s / Remaining 00:00:00:00"
     ]
    },
    {
     "name": "stdout",
     "output_type": "stream",
     "text": [
      "\r",
      " [*********46%           ] Elapsed 0.20s / Remaining 00:00:00:00"
     ]
    },
    {
     "name": "stdout",
     "output_type": "stream",
     "text": [
      "\r",
      " [*********46%           ] Elapsed 0.20s / Remaining 00:00:00:00"
     ]
    },
    {
     "name": "stdout",
     "output_type": "stream",
     "text": [
      "\r",
      " [*********46%           ] Elapsed 0.20s / Remaining 00:00:00:00"
     ]
    },
    {
     "name": "stdout",
     "output_type": "stream",
     "text": [
      "\r",
      " [*********47%           ] Elapsed 0.20s / Remaining 00:00:00:00"
     ]
    },
    {
     "name": "stdout",
     "output_type": "stream",
     "text": [
      "\r",
      " [*********47%           ] Elapsed 0.20s / Remaining 00:00:00:00"
     ]
    },
    {
     "name": "stdout",
     "output_type": "stream",
     "text": [
      "\r",
      " [*********47%           ] Elapsed 0.20s / Remaining 00:00:00:00"
     ]
    },
    {
     "name": "stdout",
     "output_type": "stream",
     "text": [
      "\r",
      " [*********47%           ] Elapsed 0.20s / Remaining 00:00:00:00"
     ]
    },
    {
     "name": "stdout",
     "output_type": "stream",
     "text": [
      "\r",
      " [*********47%           ] Elapsed 0.20s / Remaining 00:00:00:00"
     ]
    },
    {
     "name": "stdout",
     "output_type": "stream",
     "text": [
      "\r",
      " [*********47%           ] Elapsed 0.20s / Remaining 00:00:00:00"
     ]
    },
    {
     "name": "stdout",
     "output_type": "stream",
     "text": [
      "\r",
      " [*********48%           ] Elapsed 0.21s / Remaining 00:00:00:00"
     ]
    },
    {
     "name": "stdout",
     "output_type": "stream",
     "text": [
      "\r",
      " [*********48%           ] Elapsed 0.21s / Remaining 00:00:00:00"
     ]
    },
    {
     "name": "stdout",
     "output_type": "stream",
     "text": [
      "\r",
      " [*********48%           ] Elapsed 0.21s / Remaining 00:00:00:00"
     ]
    },
    {
     "name": "stdout",
     "output_type": "stream",
     "text": [
      "\r",
      " [*********48%           ] Elapsed 0.21s / Remaining 00:00:00:00"
     ]
    },
    {
     "name": "stdout",
     "output_type": "stream",
     "text": [
      "\r",
      " [*********48%           ] Elapsed 0.21s / Remaining 00:00:00:00"
     ]
    },
    {
     "name": "stdout",
     "output_type": "stream",
     "text": [
      "\r",
      " [*********48%           ] Elapsed 0.21s / Remaining 00:00:00:00"
     ]
    },
    {
     "name": "stdout",
     "output_type": "stream",
     "text": [
      "\r",
      " [*********49%           ] Elapsed 0.21s / Remaining 00:00:00:00"
     ]
    },
    {
     "name": "stdout",
     "output_type": "stream",
     "text": [
      "\r",
      " [*********49%           ] Elapsed 0.21s / Remaining 00:00:00:00"
     ]
    },
    {
     "name": "stdout",
     "output_type": "stream",
     "text": [
      "\r",
      " [*********49%           ] Elapsed 0.21s / Remaining 00:00:00:00"
     ]
    },
    {
     "name": "stdout",
     "output_type": "stream",
     "text": [
      "\r",
      " [*********49%           ] Elapsed 0.21s / Remaining 00:00:00:00"
     ]
    },
    {
     "name": "stdout",
     "output_type": "stream",
     "text": [
      "\r",
      " [*********49%           ] Elapsed 0.21s / Remaining 00:00:00:00"
     ]
    },
    {
     "name": "stdout",
     "output_type": "stream",
     "text": [
      "\r",
      " [*********49%           ] Elapsed 0.21s / Remaining 00:00:00:00"
     ]
    },
    {
     "name": "stdout",
     "output_type": "stream",
     "text": [
      "\r",
      " [*********50%           ] Elapsed 0.21s / Remaining 00:00:00:00"
     ]
    },
    {
     "name": "stdout",
     "output_type": "stream",
     "text": [
      "\r",
      " [*********50%           ] Elapsed 0.21s / Remaining 00:00:00:00"
     ]
    },
    {
     "name": "stdout",
     "output_type": "stream",
     "text": [
      "\r",
      " [*********50%           ] Elapsed 0.21s / Remaining 00:00:00:00"
     ]
    },
    {
     "name": "stdout",
     "output_type": "stream",
     "text": [
      "\r",
      " [*********50%           ] Elapsed 0.22s / Remaining 00:00:00:00"
     ]
    },
    {
     "name": "stdout",
     "output_type": "stream",
     "text": [
      "\r",
      " [*********50%           ] Elapsed 0.22s / Remaining 00:00:00:00"
     ]
    },
    {
     "name": "stdout",
     "output_type": "stream",
     "text": [
      "\r",
      " [*********50%           ] Elapsed 0.22s / Remaining 00:00:00:00"
     ]
    },
    {
     "name": "stdout",
     "output_type": "stream",
     "text": [
      "\r",
      " [*********51%           ] Elapsed 0.22s / Remaining 00:00:00:00"
     ]
    },
    {
     "name": "stdout",
     "output_type": "stream",
     "text": [
      "\r",
      " [*********51%           ] Elapsed 0.22s / Remaining 00:00:00:00"
     ]
    },
    {
     "name": "stdout",
     "output_type": "stream",
     "text": [
      "\r",
      " [*********51%           ] Elapsed 0.22s / Remaining 00:00:00:00"
     ]
    },
    {
     "name": "stdout",
     "output_type": "stream",
     "text": [
      "\r",
      " [*********51%           ] Elapsed 0.22s / Remaining 00:00:00:00"
     ]
    },
    {
     "name": "stdout",
     "output_type": "stream",
     "text": [
      "\r",
      " [*********51%           ] Elapsed 0.22s / Remaining 00:00:00:00"
     ]
    },
    {
     "name": "stdout",
     "output_type": "stream",
     "text": [
      "\r",
      " [*********51%           ] Elapsed 0.22s / Remaining 00:00:00:00"
     ]
    },
    {
     "name": "stdout",
     "output_type": "stream",
     "text": [
      "\r",
      " [*********52%           ] Elapsed 0.22s / Remaining 00:00:00:00"
     ]
    },
    {
     "name": "stdout",
     "output_type": "stream",
     "text": [
      "\r",
      " [*********52%           ] Elapsed 0.22s / Remaining 00:00:00:00"
     ]
    },
    {
     "name": "stdout",
     "output_type": "stream",
     "text": [
      "\r",
      " [*********52%           ] Elapsed 0.22s / Remaining 00:00:00:00"
     ]
    },
    {
     "name": "stdout",
     "output_type": "stream",
     "text": [
      "\r",
      " [*********52%           ] Elapsed 0.22s / Remaining 00:00:00:00"
     ]
    },
    {
     "name": "stdout",
     "output_type": "stream",
     "text": [
      "\r",
      " [*********52%           ] Elapsed 0.22s / Remaining 00:00:00:00"
     ]
    },
    {
     "name": "stdout",
     "output_type": "stream",
     "text": [
      "\r"
     ]
    },
    {
     "name": "stdout",
     "output_type": "stream",
     "text": [
      " [*********52%           ] Elapsed 0.23s / Remaining 00:00:00:00"
     ]
    },
    {
     "name": "stdout",
     "output_type": "stream",
     "text": [
      "\r",
      " [*********53%           ] Elapsed 0.23s / Remaining 00:00:00:00"
     ]
    },
    {
     "name": "stdout",
     "output_type": "stream",
     "text": [
      "\r",
      " [*********53%           ] Elapsed 0.23s / Remaining 00:00:00:00"
     ]
    },
    {
     "name": "stdout",
     "output_type": "stream",
     "text": [
      "\r",
      " [*********53%           ] Elapsed 0.23s / Remaining 00:00:00:00"
     ]
    },
    {
     "name": "stdout",
     "output_type": "stream",
     "text": [
      "\r",
      " [*********53%           ] Elapsed 0.23s / Remaining 00:00:00:00"
     ]
    },
    {
     "name": "stdout",
     "output_type": "stream",
     "text": [
      "\r",
      " [*********53%           ] Elapsed 0.23s / Remaining 00:00:00:00"
     ]
    },
    {
     "name": "stdout",
     "output_type": "stream",
     "text": [
      "\r",
      " [*********53%           ] Elapsed 0.23s / Remaining 00:00:00:00"
     ]
    },
    {
     "name": "stdout",
     "output_type": "stream",
     "text": [
      "\r",
      " [*********54%           ] Elapsed 0.23s / Remaining 00:00:00:00"
     ]
    },
    {
     "name": "stdout",
     "output_type": "stream",
     "text": [
      "\r",
      " [*********54%           ] Elapsed 0.23s / Remaining 00:00:00:00"
     ]
    },
    {
     "name": "stdout",
     "output_type": "stream",
     "text": [
      "\r",
      " [*********54%           ] Elapsed 0.23s / Remaining 00:00:00:00"
     ]
    },
    {
     "name": "stdout",
     "output_type": "stream",
     "text": [
      "\r",
      " [*********54%           ] Elapsed 0.23s / Remaining 00:00:00:00"
     ]
    },
    {
     "name": "stdout",
     "output_type": "stream",
     "text": [
      "\r",
      " [*********54%           ] Elapsed 0.23s / Remaining 00:00:00:00"
     ]
    },
    {
     "name": "stdout",
     "output_type": "stream",
     "text": [
      "\r",
      " [*********54%           ] Elapsed 0.23s / Remaining 00:00:00:00"
     ]
    },
    {
     "name": "stdout",
     "output_type": "stream",
     "text": [
      "\r",
      " [*********55%*          ] Elapsed 0.23s / Remaining 00:00:00:00"
     ]
    },
    {
     "name": "stdout",
     "output_type": "stream",
     "text": [
      "\r",
      " [*********55%*          ] Elapsed 0.24s / Remaining 00:00:00:00"
     ]
    },
    {
     "name": "stdout",
     "output_type": "stream",
     "text": [
      "\r",
      " [*********55%*          ] Elapsed 0.24s / Remaining 00:00:00:00"
     ]
    },
    {
     "name": "stdout",
     "output_type": "stream",
     "text": [
      "\r",
      " [*********55%*          ] Elapsed 0.24s / Remaining 00:00:00:00"
     ]
    },
    {
     "name": "stdout",
     "output_type": "stream",
     "text": [
      "\r",
      " [*********55%*          ] Elapsed 0.24s / Remaining 00:00:00:00"
     ]
    },
    {
     "name": "stdout",
     "output_type": "stream",
     "text": [
      "\r",
      " [*********55%*          ] Elapsed 0.24s / Remaining 00:00:00:00"
     ]
    },
    {
     "name": "stdout",
     "output_type": "stream",
     "text": [
      "\r",
      " [*********56%*          ] Elapsed 0.24s / Remaining 00:00:00:00"
     ]
    },
    {
     "name": "stdout",
     "output_type": "stream",
     "text": [
      "\r",
      " [*********56%*          ] Elapsed 0.24s / Remaining 00:00:00:00"
     ]
    },
    {
     "name": "stdout",
     "output_type": "stream",
     "text": [
      "\r",
      " [*********56%*          ] Elapsed 0.24s / Remaining 00:00:00:00"
     ]
    },
    {
     "name": "stdout",
     "output_type": "stream",
     "text": [
      "\r",
      " [*********56%*          ] Elapsed 0.24s / Remaining 00:00:00:00"
     ]
    },
    {
     "name": "stdout",
     "output_type": "stream",
     "text": [
      "\r",
      " [*********56%*          ] Elapsed 0.24s / Remaining 00:00:00:00"
     ]
    },
    {
     "name": "stdout",
     "output_type": "stream",
     "text": [
      "\r",
      " [*********56%*          ] Elapsed 0.24s / Remaining 00:00:00:00"
     ]
    },
    {
     "name": "stdout",
     "output_type": "stream",
     "text": [
      "\r",
      " [*********57%*          ] Elapsed 0.24s / Remaining 00:00:00:00"
     ]
    },
    {
     "name": "stdout",
     "output_type": "stream",
     "text": [
      "\r",
      " [*********57%*          ] Elapsed 0.24s / Remaining 00:00:00:00"
     ]
    },
    {
     "name": "stdout",
     "output_type": "stream",
     "text": [
      "\r",
      " [*********57%*          ] Elapsed 0.24s / Remaining 00:00:00:00"
     ]
    },
    {
     "name": "stdout",
     "output_type": "stream",
     "text": [
      "\r",
      " [*********57%*          ] Elapsed 0.25s / Remaining 00:00:00:00"
     ]
    },
    {
     "name": "stdout",
     "output_type": "stream",
     "text": [
      "\r",
      " [*********57%*          ] Elapsed 0.25s / Remaining 00:00:00:00"
     ]
    },
    {
     "name": "stdout",
     "output_type": "stream",
     "text": [
      "\r",
      " [*********57%*          ] Elapsed 0.25s / Remaining 00:00:00:00"
     ]
    },
    {
     "name": "stdout",
     "output_type": "stream",
     "text": [
      "\r",
      " [*********58%*          ] Elapsed 0.25s / Remaining 00:00:00:00"
     ]
    },
    {
     "name": "stdout",
     "output_type": "stream",
     "text": [
      "\r",
      " [*********58%*          ] Elapsed 0.25s / Remaining 00:00:00:00"
     ]
    },
    {
     "name": "stdout",
     "output_type": "stream",
     "text": [
      "\r",
      " [*********58%*          ] Elapsed 0.25s / Remaining 00:00:00:00"
     ]
    },
    {
     "name": "stdout",
     "output_type": "stream",
     "text": [
      "\r",
      " [*********58%*          ] Elapsed 0.25s / Remaining 00:00:00:00"
     ]
    },
    {
     "name": "stdout",
     "output_type": "stream",
     "text": [
      "\r",
      " [*********58%*          ] Elapsed 0.25s / Remaining 00:00:00:00"
     ]
    },
    {
     "name": "stdout",
     "output_type": "stream",
     "text": [
      "\r",
      " [*********58%*          ] Elapsed 0.25s / Remaining 00:00:00:00"
     ]
    },
    {
     "name": "stdout",
     "output_type": "stream",
     "text": [
      "\r",
      " [*********59%**         ] Elapsed 0.25s / Remaining 00:00:00:00"
     ]
    },
    {
     "name": "stdout",
     "output_type": "stream",
     "text": [
      "\r",
      " [*********59%**         ] Elapsed 0.25s / Remaining 00:00:00:00"
     ]
    },
    {
     "name": "stdout",
     "output_type": "stream",
     "text": [
      "\r",
      " [*********59%**         ] Elapsed 0.25s / Remaining 00:00:00:00"
     ]
    },
    {
     "name": "stdout",
     "output_type": "stream",
     "text": [
      "\r",
      " [*********59%**         ] Elapsed 0.25s / Remaining 00:00:00:00"
     ]
    },
    {
     "name": "stdout",
     "output_type": "stream",
     "text": [
      "\r",
      " [*********59%**         ] Elapsed 0.25s / Remaining 00:00:00:00"
     ]
    },
    {
     "name": "stdout",
     "output_type": "stream",
     "text": [
      "\r",
      " [*********59%**         ] Elapsed 0.25s / Remaining 00:00:00:00"
     ]
    },
    {
     "name": "stdout",
     "output_type": "stream",
     "text": [
      "\r",
      " [*********60%**         ] Elapsed 0.26s / Remaining 00:00:00:00"
     ]
    },
    {
     "name": "stdout",
     "output_type": "stream",
     "text": [
      "\r",
      " [*********60%**         ] Elapsed 0.26s / Remaining 00:00:00:00"
     ]
    },
    {
     "name": "stdout",
     "output_type": "stream",
     "text": [
      "\r",
      " [*********60%**         ] Elapsed 0.26s / Remaining 00:00:00:00"
     ]
    },
    {
     "name": "stdout",
     "output_type": "stream",
     "text": [
      "\r",
      " [*********60%**         ] Elapsed 0.26s / Remaining 00:00:00:00"
     ]
    },
    {
     "name": "stdout",
     "output_type": "stream",
     "text": [
      "\r",
      " [*********60%**         ] Elapsed 0.26s / Remaining 00:00:00:00"
     ]
    },
    {
     "name": "stdout",
     "output_type": "stream",
     "text": [
      "\r",
      " [*********60%**         ] Elapsed 0.26s / Remaining 00:00:00:00"
     ]
    },
    {
     "name": "stdout",
     "output_type": "stream",
     "text": [
      "\r",
      " [*********61%**         ] Elapsed 0.26s / Remaining 00:00:00:00"
     ]
    },
    {
     "name": "stdout",
     "output_type": "stream",
     "text": [
      "\r",
      " [*********61%**         ] Elapsed 0.26s / Remaining 00:00:00:00"
     ]
    },
    {
     "name": "stdout",
     "output_type": "stream",
     "text": [
      "\r",
      " [*********61%**         ] Elapsed 0.26s / Remaining 00:00:00:00"
     ]
    },
    {
     "name": "stdout",
     "output_type": "stream",
     "text": [
      "\r",
      " [*********61%**         ] Elapsed 0.26s / Remaining 00:00:00:00"
     ]
    },
    {
     "name": "stdout",
     "output_type": "stream",
     "text": [
      "\r",
      " [*********61%**         ] Elapsed 0.26s / Remaining 00:00:00:00"
     ]
    },
    {
     "name": "stdout",
     "output_type": "stream",
     "text": [
      "\r",
      " [*********61%**         ] Elapsed 0.26s / Remaining 00:00:00:00"
     ]
    },
    {
     "name": "stdout",
     "output_type": "stream",
     "text": [
      "\r",
      " [*********62%**         ] Elapsed 0.26s / Remaining 00:00:00:00"
     ]
    },
    {
     "name": "stdout",
     "output_type": "stream",
     "text": [
      "\r",
      " [*********62%**         ] Elapsed 0.26s / Remaining 00:00:00:00"
     ]
    },
    {
     "name": "stdout",
     "output_type": "stream",
     "text": [
      "\r",
      " [*********62%**         ] Elapsed 0.27s / Remaining 00:00:00:00"
     ]
    },
    {
     "name": "stdout",
     "output_type": "stream",
     "text": [
      "\r",
      " [*********62%**         ] Elapsed 0.27s / Remaining 00:00:00:00"
     ]
    },
    {
     "name": "stdout",
     "output_type": "stream",
     "text": [
      "\r",
      " [*********62%**         ] Elapsed 0.27s / Remaining 00:00:00:00"
     ]
    },
    {
     "name": "stdout",
     "output_type": "stream",
     "text": [
      "\r",
      " [*********62%**         ] Elapsed 0.27s / Remaining 00:00:00:00"
     ]
    },
    {
     "name": "stdout",
     "output_type": "stream",
     "text": [
      "\r",
      " [*********63%**         ] Elapsed 0.27s / Remaining 00:00:00:00"
     ]
    },
    {
     "name": "stdout",
     "output_type": "stream",
     "text": [
      "\r",
      " [*********63%**         ] Elapsed 0.27s / Remaining 00:00:00:00"
     ]
    },
    {
     "name": "stdout",
     "output_type": "stream",
     "text": [
      "\r",
      " [*********63%**         ] Elapsed 0.27s / Remaining 00:00:00:00"
     ]
    },
    {
     "name": "stdout",
     "output_type": "stream",
     "text": [
      "\r",
      " [*********63%**         ] Elapsed 0.27s / Remaining 00:00:00:00"
     ]
    },
    {
     "name": "stdout",
     "output_type": "stream",
     "text": [
      "\r",
      " [*********63%**         ] Elapsed 0.27s / Remaining 00:00:00:00"
     ]
    },
    {
     "name": "stdout",
     "output_type": "stream",
     "text": [
      "\r",
      " [*********63%**         ] Elapsed 0.27s / Remaining 00:00:00:00"
     ]
    },
    {
     "name": "stdout",
     "output_type": "stream",
     "text": [
      "\r",
      " [*********64%***        ] Elapsed 0.27s / Remaining 00:00:00:00"
     ]
    },
    {
     "name": "stdout",
     "output_type": "stream",
     "text": [
      "\r",
      " [*********64%***        ] Elapsed 0.27s / Remaining 00:00:00:00"
     ]
    },
    {
     "name": "stdout",
     "output_type": "stream",
     "text": [
      "\r",
      " [*********64%***        ] Elapsed 0.27s / Remaining 00:00:00:00"
     ]
    },
    {
     "name": "stdout",
     "output_type": "stream",
     "text": [
      "\r",
      " [*********64%***        ] Elapsed 0.27s / Remaining 00:00:00:00"
     ]
    },
    {
     "name": "stdout",
     "output_type": "stream",
     "text": [
      "\r",
      " [*********64%***        ] Elapsed 0.28s / Remaining 00:00:00:00"
     ]
    },
    {
     "name": "stdout",
     "output_type": "stream",
     "text": [
      "\r",
      " [*********64%***        ] Elapsed 0.28s / Remaining 00:00:00:00"
     ]
    },
    {
     "name": "stdout",
     "output_type": "stream",
     "text": [
      "\r",
      " [*********65%***        ] Elapsed 0.28s / Remaining 00:00:00:00"
     ]
    },
    {
     "name": "stdout",
     "output_type": "stream",
     "text": [
      "\r",
      " [*********65%***        ] Elapsed 0.28s / Remaining 00:00:00:00"
     ]
    },
    {
     "name": "stdout",
     "output_type": "stream",
     "text": [
      "\r",
      " [*********65%***        ] Elapsed 0.28s / Remaining 00:00:00:00"
     ]
    },
    {
     "name": "stdout",
     "output_type": "stream",
     "text": [
      "\r",
      " [*********65%***        ] Elapsed 0.28s / Remaining 00:00:00:00"
     ]
    },
    {
     "name": "stdout",
     "output_type": "stream",
     "text": [
      "\r",
      " [*********65%***        ] Elapsed 0.28s / Remaining 00:00:00:00"
     ]
    },
    {
     "name": "stdout",
     "output_type": "stream",
     "text": [
      "\r",
      " [*********65%***        ] Elapsed 0.28s / Remaining 00:00:00:00"
     ]
    },
    {
     "name": "stdout",
     "output_type": "stream",
     "text": [
      "\r",
      " [*********66%***        ] Elapsed 0.28s / Remaining 00:00:00:00"
     ]
    },
    {
     "name": "stdout",
     "output_type": "stream",
     "text": [
      "\r",
      " [*********66%***        ] Elapsed 0.28s / Remaining 00:00:00:00"
     ]
    },
    {
     "name": "stdout",
     "output_type": "stream",
     "text": [
      "\r",
      " [*********66%***        ] Elapsed 0.28s / Remaining 00:00:00:00"
     ]
    },
    {
     "name": "stdout",
     "output_type": "stream",
     "text": [
      "\r",
      " [*********66%***        ] Elapsed 0.28s / Remaining 00:00:00:00"
     ]
    },
    {
     "name": "stdout",
     "output_type": "stream",
     "text": [
      "\r",
      " [*********66%***        ] Elapsed 0.28s / Remaining 00:00:00:00"
     ]
    },
    {
     "name": "stdout",
     "output_type": "stream",
     "text": [
      "\r",
      " [*********66%***        ] Elapsed 0.28s / Remaining 00:00:00:00"
     ]
    },
    {
     "name": "stdout",
     "output_type": "stream",
     "text": [
      "\r",
      " [*********67%***        ] Elapsed 0.29s / Remaining 00:00:00:00"
     ]
    },
    {
     "name": "stdout",
     "output_type": "stream",
     "text": [
      "\r",
      " [*********67%***        ] Elapsed 0.29s / Remaining 00:00:00:00"
     ]
    },
    {
     "name": "stdout",
     "output_type": "stream",
     "text": [
      "\r",
      " [*********67%***        ] Elapsed 0.29s / Remaining 00:00:00:00"
     ]
    },
    {
     "name": "stdout",
     "output_type": "stream",
     "text": [
      "\r",
      " [*********67%***        ] Elapsed 0.29s / Remaining 00:00:00:00"
     ]
    },
    {
     "name": "stdout",
     "output_type": "stream",
     "text": [
      "\r",
      " [*********67%***        ] Elapsed 0.29s / Remaining 00:00:00:00"
     ]
    },
    {
     "name": "stdout",
     "output_type": "stream",
     "text": [
      "\r",
      " [*********67%***        ] Elapsed 0.29s / Remaining 00:00:00:00"
     ]
    },
    {
     "name": "stdout",
     "output_type": "stream",
     "text": [
      "\r",
      " [*********68%****       ] Elapsed 0.29s / Remaining 00:00:00:00"
     ]
    },
    {
     "name": "stdout",
     "output_type": "stream",
     "text": [
      "\r",
      " [*********68%****       ] Elapsed 0.29s / Remaining 00:00:00:00"
     ]
    },
    {
     "name": "stdout",
     "output_type": "stream",
     "text": [
      "\r",
      " [*********68%****       ] Elapsed 0.29s / Remaining 00:00:00:00"
     ]
    },
    {
     "name": "stdout",
     "output_type": "stream",
     "text": [
      "\r",
      " [*********68%****       ] Elapsed 0.29s / Remaining 00:00:00:00"
     ]
    },
    {
     "name": "stdout",
     "output_type": "stream",
     "text": [
      "\r",
      " [*********68%****       ] Elapsed 0.29s / Remaining 00:00:00:00"
     ]
    },
    {
     "name": "stdout",
     "output_type": "stream",
     "text": [
      "\r",
      " [*********68%****       ] Elapsed 0.29s / Remaining 00:00:00:00"
     ]
    },
    {
     "name": "stdout",
     "output_type": "stream",
     "text": [
      "\r",
      " [*********69%****       ] Elapsed 0.29s / Remaining 00:00:00:00"
     ]
    },
    {
     "name": "stdout",
     "output_type": "stream",
     "text": [
      "\r",
      " [*********69%****       ] Elapsed 0.29s / Remaining 00:00:00:00"
     ]
    },
    {
     "name": "stdout",
     "output_type": "stream",
     "text": [
      "\r",
      " [*********69%****       ] Elapsed 0.30s / Remaining 00:00:00:00"
     ]
    },
    {
     "name": "stdout",
     "output_type": "stream",
     "text": [
      "\r",
      " [*********69%****       ] Elapsed 0.30s / Remaining 00:00:00:00"
     ]
    },
    {
     "name": "stdout",
     "output_type": "stream",
     "text": [
      "\r",
      " [*********69%****       ] Elapsed 0.30s / Remaining 00:00:00:00"
     ]
    },
    {
     "name": "stdout",
     "output_type": "stream",
     "text": [
      "\r",
      " [*********69%****       ] Elapsed 0.30s / Remaining 00:00:00:00"
     ]
    },
    {
     "name": "stdout",
     "output_type": "stream",
     "text": [
      "\r",
      " [*********70%****       ] Elapsed 0.30s / Remaining 00:00:00:00"
     ]
    },
    {
     "name": "stdout",
     "output_type": "stream",
     "text": [
      "\r",
      " [*********70%****       ] Elapsed 0.30s / Remaining 00:00:00:00"
     ]
    },
    {
     "name": "stdout",
     "output_type": "stream",
     "text": [
      "\r",
      " [*********70%****       ] Elapsed 0.30s / Remaining 00:00:00:00"
     ]
    },
    {
     "name": "stdout",
     "output_type": "stream",
     "text": [
      "\r",
      " [*********70%****       ] Elapsed 0.30s / Remaining 00:00:00:00"
     ]
    },
    {
     "name": "stdout",
     "output_type": "stream",
     "text": [
      "\r",
      " [*********70%****       ] Elapsed 0.30s / Remaining 00:00:00:00"
     ]
    },
    {
     "name": "stdout",
     "output_type": "stream",
     "text": [
      "\r",
      " [*********70%****       ] Elapsed 0.30s / Remaining 00:00:00:00"
     ]
    },
    {
     "name": "stdout",
     "output_type": "stream",
     "text": [
      "\r",
      " [*********71%****       ] Elapsed 0.30s / Remaining 00:00:00:00"
     ]
    },
    {
     "name": "stdout",
     "output_type": "stream",
     "text": [
      "\r",
      " [*********71%****       ] Elapsed 0.30s / Remaining 00:00:00:00"
     ]
    },
    {
     "name": "stdout",
     "output_type": "stream",
     "text": [
      "\r",
      " [*********71%****       ] Elapsed 0.30s / Remaining 00:00:00:00"
     ]
    },
    {
     "name": "stdout",
     "output_type": "stream",
     "text": [
      "\r",
      " [*********71%****       ] Elapsed 0.30s / Remaining 00:00:00:00"
     ]
    },
    {
     "name": "stdout",
     "output_type": "stream",
     "text": [
      "\r",
      " [*********71%****       ] Elapsed 0.30s / Remaining 00:00:00:00"
     ]
    },
    {
     "name": "stdout",
     "output_type": "stream",
     "text": [
      "\r",
      " [*********71%****       ] Elapsed 0.31s / Remaining 00:00:00:00"
     ]
    },
    {
     "name": "stdout",
     "output_type": "stream",
     "text": [
      "\r",
      " [*********72%*****      ] Elapsed 0.31s / Remaining 00:00:00:00"
     ]
    },
    {
     "name": "stdout",
     "output_type": "stream",
     "text": [
      "\r",
      " [*********72%*****      ] Elapsed 0.31s / Remaining 00:00:00:00"
     ]
    },
    {
     "name": "stdout",
     "output_type": "stream",
     "text": [
      "\r",
      " [*********72%*****      ] Elapsed 0.31s / Remaining 00:00:00:00"
     ]
    },
    {
     "name": "stdout",
     "output_type": "stream",
     "text": [
      "\r",
      " [*********72%*****      ] Elapsed 0.31s / Remaining 00:00:00:00"
     ]
    },
    {
     "name": "stdout",
     "output_type": "stream",
     "text": [
      "\r",
      " [*********72%*****      ] Elapsed 0.31s / Remaining 00:00:00:00"
     ]
    },
    {
     "name": "stdout",
     "output_type": "stream",
     "text": [
      "\r",
      " [*********72%*****      ] Elapsed 0.31s / Remaining 00:00:00:00"
     ]
    },
    {
     "name": "stdout",
     "output_type": "stream",
     "text": [
      "\r",
      " [*********73%*****      ] Elapsed 0.31s / Remaining 00:00:00:00"
     ]
    },
    {
     "name": "stdout",
     "output_type": "stream",
     "text": [
      "\r",
      " [*********73%*****      ] Elapsed 0.31s / Remaining 00:00:00:00"
     ]
    },
    {
     "name": "stdout",
     "output_type": "stream",
     "text": [
      "\r",
      " [*********73%*****      ] Elapsed 0.31s / Remaining 00:00:00:00"
     ]
    },
    {
     "name": "stdout",
     "output_type": "stream",
     "text": [
      "\r",
      " [*********73%*****      ] Elapsed 0.31s / Remaining 00:00:00:00"
     ]
    },
    {
     "name": "stdout",
     "output_type": "stream",
     "text": [
      "\r",
      " [*********73%*****      ] Elapsed 0.31s / Remaining 00:00:00:00"
     ]
    },
    {
     "name": "stdout",
     "output_type": "stream",
     "text": [
      "\r",
      " [*********73%*****      ] Elapsed 0.31s / Remaining 00:00:00:00"
     ]
    },
    {
     "name": "stdout",
     "output_type": "stream",
     "text": [
      "\r",
      " [*********74%*****      ] Elapsed 0.32s / Remaining 00:00:00:00"
     ]
    },
    {
     "name": "stdout",
     "output_type": "stream",
     "text": [
      "\r",
      " [*********74%*****      ] Elapsed 0.32s / Remaining 00:00:00:00"
     ]
    },
    {
     "name": "stdout",
     "output_type": "stream",
     "text": [
      "\r",
      " [*********74%*****      ] Elapsed 0.32s / Remaining 00:00:00:00"
     ]
    },
    {
     "name": "stdout",
     "output_type": "stream",
     "text": [
      "\r",
      " [*********74%*****      ] Elapsed 0.32s / Remaining 00:00:00:00"
     ]
    },
    {
     "name": "stdout",
     "output_type": "stream",
     "text": [
      "\r",
      " [*********74%*****      ] Elapsed 0.32s / Remaining 00:00:00:00"
     ]
    },
    {
     "name": "stdout",
     "output_type": "stream",
     "text": [
      "\r",
      " [*********74%*****      ] Elapsed 0.32s / Remaining 00:00:00:00"
     ]
    },
    {
     "name": "stdout",
     "output_type": "stream",
     "text": [
      "\r",
      " [*********75%*****      ] Elapsed 0.32s / Remaining 00:00:00:00"
     ]
    },
    {
     "name": "stdout",
     "output_type": "stream",
     "text": [
      "\r",
      " [*********75%*****      ] Elapsed 0.32s / Remaining 00:00:00:00"
     ]
    },
    {
     "name": "stdout",
     "output_type": "stream",
     "text": [
      "\r",
      " [*********75%*****      ] Elapsed 0.32s / Remaining 00:00:00:00"
     ]
    },
    {
     "name": "stdout",
     "output_type": "stream",
     "text": [
      "\r",
      " [*********75%*****      ] Elapsed 0.32s / Remaining 00:00:00:00"
     ]
    },
    {
     "name": "stdout",
     "output_type": "stream",
     "text": [
      "\r",
      " [*********75%*****      ] Elapsed 0.32s / Remaining 00:00:00:00"
     ]
    },
    {
     "name": "stdout",
     "output_type": "stream",
     "text": [
      "\r",
      " [*********75%*****      ] Elapsed 0.32s / Remaining 00:00:00:00"
     ]
    },
    {
     "name": "stdout",
     "output_type": "stream",
     "text": [
      "\r",
      " [*********76%*****      ] Elapsed 0.32s / Remaining 00:00:00:00"
     ]
    },
    {
     "name": "stdout",
     "output_type": "stream",
     "text": [
      "\r",
      " [*********76%*****      ] Elapsed 0.32s / Remaining 00:00:00:00"
     ]
    },
    {
     "name": "stdout",
     "output_type": "stream",
     "text": [
      "\r",
      " [*********76%*****      ] Elapsed 0.33s / Remaining 00:00:00:00"
     ]
    },
    {
     "name": "stdout",
     "output_type": "stream",
     "text": [
      "\r",
      " [*********76%*****      ] Elapsed 0.33s / Remaining 00:00:00:00"
     ]
    },
    {
     "name": "stdout",
     "output_type": "stream",
     "text": [
      "\r",
      " [*********76%*****      ] Elapsed 0.33s / Remaining 00:00:00:00"
     ]
    },
    {
     "name": "stdout",
     "output_type": "stream",
     "text": [
      "\r",
      " [*********76%*****      ] Elapsed 0.33s / Remaining 00:00:00:00"
     ]
    },
    {
     "name": "stdout",
     "output_type": "stream",
     "text": [
      "\r",
      " [*********77%******     ] Elapsed 0.33s / Remaining 00:00:00:00"
     ]
    },
    {
     "name": "stdout",
     "output_type": "stream",
     "text": [
      "\r",
      " [*********77%******     ] Elapsed 0.33s / Remaining 00:00:00:00"
     ]
    },
    {
     "name": "stdout",
     "output_type": "stream",
     "text": [
      "\r",
      " [*********77%******     ] Elapsed 0.33s / Remaining 00:00:00:00"
     ]
    },
    {
     "name": "stdout",
     "output_type": "stream",
     "text": [
      "\r",
      " [*********77%******     ] Elapsed 0.33s / Remaining 00:00:00:00"
     ]
    },
    {
     "name": "stdout",
     "output_type": "stream",
     "text": [
      "\r",
      " [*********77%******     ] Elapsed 0.33s / Remaining 00:00:00:00"
     ]
    },
    {
     "name": "stdout",
     "output_type": "stream",
     "text": [
      "\r",
      " [*********77%******     ] Elapsed 0.33s / Remaining 00:00:00:00"
     ]
    },
    {
     "name": "stdout",
     "output_type": "stream",
     "text": [
      "\r",
      " [*********78%******     ] Elapsed 0.33s / Remaining 00:00:00:00"
     ]
    },
    {
     "name": "stdout",
     "output_type": "stream",
     "text": [
      "\r",
      " [*********78%******     ] Elapsed 0.33s / Remaining 00:00:00:00"
     ]
    },
    {
     "name": "stdout",
     "output_type": "stream",
     "text": [
      "\r",
      " [*********78%******     ] Elapsed 0.33s / Remaining 00:00:00:00"
     ]
    },
    {
     "name": "stdout",
     "output_type": "stream",
     "text": [
      "\r",
      " [*********78%******     ] Elapsed 0.33s / Remaining 00:00:00:00"
     ]
    },
    {
     "name": "stdout",
     "output_type": "stream",
     "text": [
      "\r",
      " [*********78%******     ] Elapsed 0.34s / Remaining 00:00:00:00"
     ]
    },
    {
     "name": "stdout",
     "output_type": "stream",
     "text": [
      "\r",
      " [*********78%******     ] Elapsed 0.34s / Remaining 00:00:00:00"
     ]
    },
    {
     "name": "stdout",
     "output_type": "stream",
     "text": [
      "\r",
      " [*********79%******     ] Elapsed 0.34s / Remaining 00:00:00:00"
     ]
    },
    {
     "name": "stdout",
     "output_type": "stream",
     "text": [
      "\r",
      " [*********79%******     ] Elapsed 0.34s / Remaining 00:00:00:00"
     ]
    },
    {
     "name": "stdout",
     "output_type": "stream",
     "text": [
      "\r",
      " [*********79%******     ] Elapsed 0.34s / Remaining 00:00:00:00"
     ]
    },
    {
     "name": "stdout",
     "output_type": "stream",
     "text": [
      "\r",
      " [*********79%******     ] Elapsed 0.34s / Remaining 00:00:00:00"
     ]
    },
    {
     "name": "stdout",
     "output_type": "stream",
     "text": [
      "\r",
      " [*********79%******     ] Elapsed 0.34s / Remaining 00:00:00:00"
     ]
    },
    {
     "name": "stdout",
     "output_type": "stream",
     "text": [
      "\r",
      " [*********79%******     ] Elapsed 0.34s / Remaining 00:00:00:00"
     ]
    },
    {
     "name": "stdout",
     "output_type": "stream",
     "text": [
      "\r",
      " [*********80%******     ] Elapsed 0.34s / Remaining 00:00:00:00"
     ]
    },
    {
     "name": "stdout",
     "output_type": "stream",
     "text": [
      "\r",
      " [*********80%******     ] Elapsed 0.34s / Remaining 00:00:00:00"
     ]
    },
    {
     "name": "stdout",
     "output_type": "stream",
     "text": [
      "\r",
      " [*********80%******     ] Elapsed 0.34s / Remaining 00:00:00:00"
     ]
    },
    {
     "name": "stdout",
     "output_type": "stream",
     "text": [
      "\r",
      " [*********80%******     ] Elapsed 0.34s / Remaining 00:00:00:00"
     ]
    },
    {
     "name": "stdout",
     "output_type": "stream",
     "text": [
      "\r",
      " [*********80%******     ] Elapsed 0.34s / Remaining 00:00:00:00"
     ]
    },
    {
     "name": "stdout",
     "output_type": "stream",
     "text": [
      "\r",
      " [*********80%******     ] Elapsed 0.34s / Remaining 00:00:00:00"
     ]
    },
    {
     "name": "stdout",
     "output_type": "stream",
     "text": [
      "\r",
      " [*********81%*******    ] Elapsed 0.35s / Remaining 00:00:00:00"
     ]
    },
    {
     "name": "stdout",
     "output_type": "stream",
     "text": [
      "\r",
      " [*********81%*******    ] Elapsed 0.35s / Remaining 00:00:00:00"
     ]
    },
    {
     "name": "stdout",
     "output_type": "stream",
     "text": [
      "\r",
      " [*********81%*******    ] Elapsed 0.35s / Remaining 00:00:00:00"
     ]
    },
    {
     "name": "stdout",
     "output_type": "stream",
     "text": [
      "\r",
      " [*********81%*******    ] Elapsed 0.35s / Remaining 00:00:00:00"
     ]
    },
    {
     "name": "stdout",
     "output_type": "stream",
     "text": [
      "\r",
      " [*********81%*******    ] Elapsed 0.35s / Remaining 00:00:00:00"
     ]
    },
    {
     "name": "stdout",
     "output_type": "stream",
     "text": [
      "\r",
      " [*********81%*******    ] Elapsed 0.35s / Remaining 00:00:00:00"
     ]
    },
    {
     "name": "stdout",
     "output_type": "stream",
     "text": [
      "\r",
      " [*********82%*******    ] Elapsed 0.35s / Remaining 00:00:00:00"
     ]
    },
    {
     "name": "stdout",
     "output_type": "stream",
     "text": [
      "\r",
      " [*********82%*******    ] Elapsed 0.35s / Remaining 00:00:00:00"
     ]
    },
    {
     "name": "stdout",
     "output_type": "stream",
     "text": [
      "\r",
      " [*********82%*******    ] Elapsed 0.35s / Remaining 00:00:00:00"
     ]
    },
    {
     "name": "stdout",
     "output_type": "stream",
     "text": [
      "\r",
      " [*********82%*******    ] Elapsed 0.35s / Remaining 00:00:00:00"
     ]
    },
    {
     "name": "stdout",
     "output_type": "stream",
     "text": [
      "\r",
      " [*********82%*******    ] Elapsed 0.35s / Remaining 00:00:00:00"
     ]
    },
    {
     "name": "stdout",
     "output_type": "stream",
     "text": [
      "\r",
      " [*********82%*******    ] Elapsed 0.35s / Remaining 00:00:00:00"
     ]
    },
    {
     "name": "stdout",
     "output_type": "stream",
     "text": [
      "\r",
      " [*********83%*******    ] Elapsed 0.35s / Remaining 00:00:00:00"
     ]
    },
    {
     "name": "stdout",
     "output_type": "stream",
     "text": [
      "\r",
      " [*********83%*******    ] Elapsed 0.35s / Remaining 00:00:00:00"
     ]
    },
    {
     "name": "stdout",
     "output_type": "stream",
     "text": [
      "\r",
      " [*********83%*******    ] Elapsed 0.36s / Remaining 00:00:00:00"
     ]
    },
    {
     "name": "stdout",
     "output_type": "stream",
     "text": [
      "\r",
      " [*********83%*******    ] Elapsed 0.36s / Remaining 00:00:00:00"
     ]
    },
    {
     "name": "stdout",
     "output_type": "stream",
     "text": [
      "\r",
      " [*********83%*******    ] Elapsed 0.36s / Remaining 00:00:00:00"
     ]
    },
    {
     "name": "stdout",
     "output_type": "stream",
     "text": [
      "\r",
      " [*********83%*******    ] Elapsed 0.36s / Remaining 00:00:00:00"
     ]
    },
    {
     "name": "stdout",
     "output_type": "stream",
     "text": [
      "\r",
      " [*********84%*******    ] Elapsed 0.36s / Remaining 00:00:00:00"
     ]
    },
    {
     "name": "stdout",
     "output_type": "stream",
     "text": [
      "\r",
      " [*********84%*******    ] Elapsed 0.36s / Remaining 00:00:00:00"
     ]
    },
    {
     "name": "stdout",
     "output_type": "stream",
     "text": [
      "\r",
      " [*********84%*******    ] Elapsed 0.36s / Remaining 00:00:00:00"
     ]
    },
    {
     "name": "stdout",
     "output_type": "stream",
     "text": [
      "\r",
      " [*********84%*******    ] Elapsed 0.36s / Remaining 00:00:00:00"
     ]
    },
    {
     "name": "stdout",
     "output_type": "stream",
     "text": [
      "\r",
      " [*********84%*******    ] Elapsed 0.36s / Remaining 00:00:00:00"
     ]
    },
    {
     "name": "stdout",
     "output_type": "stream",
     "text": [
      "\r",
      " [*********84%*******    ] Elapsed 0.36s / Remaining 00:00:00:00"
     ]
    },
    {
     "name": "stdout",
     "output_type": "stream",
     "text": [
      "\r",
      " [*********85%********   ] Elapsed 0.36s / Remaining 00:00:00:00"
     ]
    },
    {
     "name": "stdout",
     "output_type": "stream",
     "text": [
      "\r",
      " [*********85%********   ] Elapsed 0.36s / Remaining 00:00:00:00"
     ]
    },
    {
     "name": "stdout",
     "output_type": "stream",
     "text": [
      "\r",
      " [*********85%********   ] Elapsed 0.36s / Remaining 00:00:00:00"
     ]
    },
    {
     "name": "stdout",
     "output_type": "stream",
     "text": [
      "\r",
      " [*********85%********   ] Elapsed 0.36s / Remaining 00:00:00:00"
     ]
    },
    {
     "name": "stdout",
     "output_type": "stream",
     "text": [
      "\r",
      " [*********85%********   ] Elapsed 0.36s / Remaining 00:00:00:00"
     ]
    },
    {
     "name": "stdout",
     "output_type": "stream",
     "text": [
      "\r",
      " [*********85%********   ] Elapsed 0.37s / Remaining 00:00:00:00"
     ]
    },
    {
     "name": "stdout",
     "output_type": "stream",
     "text": [
      "\r",
      " [*********86%********   ] Elapsed 0.37s / Remaining 00:00:00:00"
     ]
    },
    {
     "name": "stdout",
     "output_type": "stream",
     "text": [
      "\r",
      " [*********86%********   ] Elapsed 0.37s / Remaining 00:00:00:00"
     ]
    },
    {
     "name": "stdout",
     "output_type": "stream",
     "text": [
      "\r",
      " [*********86%********   ] Elapsed 0.37s / Remaining 00:00:00:00"
     ]
    },
    {
     "name": "stdout",
     "output_type": "stream",
     "text": [
      "\r",
      " [*********86%********   ] Elapsed 0.37s / Remaining 00:00:00:00"
     ]
    },
    {
     "name": "stdout",
     "output_type": "stream",
     "text": [
      "\r",
      " [*********86%********   ] Elapsed 0.37s / Remaining 00:00:00:00"
     ]
    },
    {
     "name": "stdout",
     "output_type": "stream",
     "text": [
      "\r",
      " [*********86%********   ] Elapsed 0.37s / Remaining 00:00:00:00"
     ]
    },
    {
     "name": "stdout",
     "output_type": "stream",
     "text": [
      "\r",
      " [*********87%********   ] Elapsed 0.37s / Remaining 00:00:00:00"
     ]
    },
    {
     "name": "stdout",
     "output_type": "stream",
     "text": [
      "\r",
      " [*********87%********   ] Elapsed 0.37s / Remaining 00:00:00:00"
     ]
    },
    {
     "name": "stdout",
     "output_type": "stream",
     "text": [
      "\r",
      " [*********87%********   ] Elapsed 0.37s / Remaining 00:00:00:00"
     ]
    },
    {
     "name": "stdout",
     "output_type": "stream",
     "text": [
      "\r",
      " [*********87%********   ] Elapsed 0.37s / Remaining 00:00:00:00"
     ]
    },
    {
     "name": "stdout",
     "output_type": "stream",
     "text": [
      "\r",
      " [*********87%********   ] Elapsed 0.37s / Remaining 00:00:00:00"
     ]
    },
    {
     "name": "stdout",
     "output_type": "stream",
     "text": [
      "\r",
      " [*********87%********   ] Elapsed 0.37s / Remaining 00:00:00:00"
     ]
    },
    {
     "name": "stdout",
     "output_type": "stream",
     "text": [
      "\r",
      " [*********88%********   ] Elapsed 0.38s / Remaining 00:00:00:00"
     ]
    },
    {
     "name": "stdout",
     "output_type": "stream",
     "text": [
      "\r",
      " [*********88%********   ] Elapsed 0.38s / Remaining 00:00:00:00"
     ]
    },
    {
     "name": "stdout",
     "output_type": "stream",
     "text": [
      "\r",
      " [*********88%********   ] Elapsed 0.38s / Remaining 00:00:00:00"
     ]
    },
    {
     "name": "stdout",
     "output_type": "stream",
     "text": [
      "\r",
      " [*********88%********   ] Elapsed 0.38s / Remaining 00:00:00:00"
     ]
    },
    {
     "name": "stdout",
     "output_type": "stream",
     "text": [
      "\r",
      " [*********88%********   ] Elapsed 0.38s / Remaining 00:00:00:00"
     ]
    },
    {
     "name": "stdout",
     "output_type": "stream",
     "text": [
      "\r",
      " [*********88%********   ] Elapsed 0.38s / Remaining 00:00:00:00"
     ]
    },
    {
     "name": "stdout",
     "output_type": "stream",
     "text": [
      "\r",
      " [*********89%********   ] Elapsed 0.38s / Remaining 00:00:00:00"
     ]
    },
    {
     "name": "stdout",
     "output_type": "stream",
     "text": [
      "\r",
      " [*********89%********   ] Elapsed 0.38s / Remaining 00:00:00:00"
     ]
    },
    {
     "name": "stdout",
     "output_type": "stream",
     "text": [
      "\r",
      " [*********89%********   ] Elapsed 0.38s / Remaining 00:00:00:00"
     ]
    },
    {
     "name": "stdout",
     "output_type": "stream",
     "text": [
      "\r",
      " [*********89%********   ] Elapsed 0.38s / Remaining 00:00:00:00"
     ]
    },
    {
     "name": "stdout",
     "output_type": "stream",
     "text": [
      "\r",
      " [*********89%********   ] Elapsed 0.38s / Remaining 00:00:00:00"
     ]
    },
    {
     "name": "stdout",
     "output_type": "stream",
     "text": [
      "\r",
      " [*********89%********   ] Elapsed 0.38s / Remaining 00:00:00:00"
     ]
    },
    {
     "name": "stdout",
     "output_type": "stream",
     "text": [
      "\r",
      " [*********90%*********  ] Elapsed 0.38s / Remaining 00:00:00:00"
     ]
    },
    {
     "name": "stdout",
     "output_type": "stream",
     "text": [
      "\r",
      " [*********90%*********  ] Elapsed 0.38s / Remaining 00:00:00:00"
     ]
    },
    {
     "name": "stdout",
     "output_type": "stream",
     "text": [
      "\r",
      " [*********90%*********  ] Elapsed 0.38s / Remaining 00:00:00:00"
     ]
    },
    {
     "name": "stdout",
     "output_type": "stream",
     "text": [
      "\r",
      " [*********90%*********  ] Elapsed 0.39s / Remaining 00:00:00:00"
     ]
    },
    {
     "name": "stdout",
     "output_type": "stream",
     "text": [
      "\r",
      " [*********90%*********  ] Elapsed 0.39s / Remaining 00:00:00:00"
     ]
    },
    {
     "name": "stdout",
     "output_type": "stream",
     "text": [
      "\r",
      " [*********90%*********  ] Elapsed 0.39s / Remaining 00:00:00:00"
     ]
    },
    {
     "name": "stdout",
     "output_type": "stream",
     "text": [
      "\r",
      " [*********91%*********  ] Elapsed 0.39s / Remaining 00:00:00:00"
     ]
    },
    {
     "name": "stdout",
     "output_type": "stream",
     "text": [
      "\r",
      " [*********91%*********  ] Elapsed 0.39s / Remaining 00:00:00:00"
     ]
    },
    {
     "name": "stdout",
     "output_type": "stream",
     "text": [
      "\r",
      " [*********91%*********  ] Elapsed 0.39s / Remaining 00:00:00:00"
     ]
    },
    {
     "name": "stdout",
     "output_type": "stream",
     "text": [
      "\r",
      " [*********91%*********  ] Elapsed 0.39s / Remaining 00:00:00:00"
     ]
    },
    {
     "name": "stdout",
     "output_type": "stream",
     "text": [
      "\r",
      " [*********91%*********  ] Elapsed 0.39s / Remaining 00:00:00:00"
     ]
    },
    {
     "name": "stdout",
     "output_type": "stream",
     "text": [
      "\r",
      " [*********91%*********  ] Elapsed 0.39s / Remaining 00:00:00:00"
     ]
    },
    {
     "name": "stdout",
     "output_type": "stream",
     "text": [
      "\r",
      " [*********92%*********  ] Elapsed 0.39s / Remaining 00:00:00:00"
     ]
    },
    {
     "name": "stdout",
     "output_type": "stream",
     "text": [
      "\r",
      " [*********92%*********  ] Elapsed 0.39s / Remaining 00:00:00:00"
     ]
    },
    {
     "name": "stdout",
     "output_type": "stream",
     "text": [
      "\r",
      " [*********92%*********  ] Elapsed 0.39s / Remaining 00:00:00:00"
     ]
    },
    {
     "name": "stdout",
     "output_type": "stream",
     "text": [
      "\r",
      " [*********92%*********  ] Elapsed 0.39s / Remaining 00:00:00:00"
     ]
    },
    {
     "name": "stdout",
     "output_type": "stream",
     "text": [
      "\r",
      " [*********92%*********  ] Elapsed 0.39s / Remaining 00:00:00:00"
     ]
    },
    {
     "name": "stdout",
     "output_type": "stream",
     "text": [
      "\r",
      " [*********92%*********  ] Elapsed 0.40s / Remaining 00:00:00:00"
     ]
    },
    {
     "name": "stdout",
     "output_type": "stream",
     "text": [
      "\r",
      " [*********93%*********  ] Elapsed 0.40s / Remaining 00:00:00:00"
     ]
    },
    {
     "name": "stdout",
     "output_type": "stream",
     "text": [
      "\r",
      " [*********93%*********  ] Elapsed 0.40s / Remaining 00:00:00:00"
     ]
    },
    {
     "name": "stdout",
     "output_type": "stream",
     "text": [
      "\r",
      " [*********93%*********  ] Elapsed 0.40s / Remaining 00:00:00:00"
     ]
    },
    {
     "name": "stdout",
     "output_type": "stream",
     "text": [
      "\r",
      " [*********93%*********  ] Elapsed 0.40s / Remaining 00:00:00:00"
     ]
    },
    {
     "name": "stdout",
     "output_type": "stream",
     "text": [
      "\r",
      " [*********93%*********  ] Elapsed 0.40s / Remaining 00:00:00:00"
     ]
    },
    {
     "name": "stdout",
     "output_type": "stream",
     "text": [
      "\r",
      " [*********93%*********  ] Elapsed 0.40s / Remaining 00:00:00:00"
     ]
    },
    {
     "name": "stdout",
     "output_type": "stream",
     "text": [
      "\r",
      " [*********94%********** ] Elapsed 0.40s / Remaining 00:00:00:00"
     ]
    },
    {
     "name": "stdout",
     "output_type": "stream",
     "text": [
      "\r",
      " [*********94%********** ] Elapsed 0.40s / Remaining 00:00:00:00"
     ]
    },
    {
     "name": "stdout",
     "output_type": "stream",
     "text": [
      "\r",
      " [*********94%********** ] Elapsed 0.40s / Remaining 00:00:00:00"
     ]
    },
    {
     "name": "stdout",
     "output_type": "stream",
     "text": [
      "\r",
      " [*********94%********** ] Elapsed 0.40s / Remaining 00:00:00:00"
     ]
    },
    {
     "name": "stdout",
     "output_type": "stream",
     "text": [
      "\r",
      " [*********94%********** ] Elapsed 0.40s / Remaining 00:00:00:00"
     ]
    },
    {
     "name": "stdout",
     "output_type": "stream",
     "text": [
      "\r",
      " [*********94%********** ] Elapsed 0.40s / Remaining 00:00:00:00"
     ]
    },
    {
     "name": "stdout",
     "output_type": "stream",
     "text": [
      "\r",
      " [*********95%********** ] Elapsed 0.40s / Remaining 00:00:00:00"
     ]
    },
    {
     "name": "stdout",
     "output_type": "stream",
     "text": [
      "\r",
      " [*********95%********** ] Elapsed 0.41s / Remaining 00:00:00:00"
     ]
    },
    {
     "name": "stdout",
     "output_type": "stream",
     "text": [
      "\r",
      " [*********95%********** ] Elapsed 0.41s / Remaining 00:00:00:00"
     ]
    },
    {
     "name": "stdout",
     "output_type": "stream",
     "text": [
      "\r",
      " [*********95%********** ] Elapsed 0.41s / Remaining 00:00:00:00"
     ]
    },
    {
     "name": "stdout",
     "output_type": "stream",
     "text": [
      "\r",
      " [*********95%********** ] Elapsed 0.41s / Remaining 00:00:00:00"
     ]
    },
    {
     "name": "stdout",
     "output_type": "stream",
     "text": [
      "\r",
      " [*********95%********** ] Elapsed 0.41s / Remaining 00:00:00:00"
     ]
    },
    {
     "name": "stdout",
     "output_type": "stream",
     "text": [
      "\r",
      " [*********96%********** ] Elapsed 0.41s / Remaining 00:00:00:00"
     ]
    },
    {
     "name": "stdout",
     "output_type": "stream",
     "text": [
      "\r",
      " [*********96%********** ] Elapsed 0.41s / Remaining 00:00:00:00"
     ]
    },
    {
     "name": "stdout",
     "output_type": "stream",
     "text": [
      "\r",
      " [*********96%********** ] Elapsed 0.41s / Remaining 00:00:00:00"
     ]
    },
    {
     "name": "stdout",
     "output_type": "stream",
     "text": [
      "\r",
      " [*********96%********** ] Elapsed 0.41s / Remaining 00:00:00:00"
     ]
    },
    {
     "name": "stdout",
     "output_type": "stream",
     "text": [
      "\r",
      " [*********96%********** ] Elapsed 0.41s / Remaining 00:00:00:00"
     ]
    },
    {
     "name": "stdout",
     "output_type": "stream",
     "text": [
      "\r",
      " [*********96%********** ] Elapsed 0.41s / Remaining 00:00:00:00"
     ]
    },
    {
     "name": "stdout",
     "output_type": "stream",
     "text": [
      "\r",
      " [*********97%********** ] Elapsed 0.41s / Remaining 00:00:00:00"
     ]
    },
    {
     "name": "stdout",
     "output_type": "stream",
     "text": [
      "\r",
      " [*********97%********** ] Elapsed 0.41s / Remaining 00:00:00:00"
     ]
    },
    {
     "name": "stdout",
     "output_type": "stream",
     "text": [
      "\r",
      " [*********97%********** ] Elapsed 0.41s / Remaining 00:00:00:00"
     ]
    },
    {
     "name": "stdout",
     "output_type": "stream",
     "text": [
      "\r",
      " [*********97%********** ] Elapsed 0.42s / Remaining 00:00:00:00"
     ]
    },
    {
     "name": "stdout",
     "output_type": "stream",
     "text": [
      "\r",
      " [*********97%********** ] Elapsed 0.42s / Remaining 00:00:00:00"
     ]
    },
    {
     "name": "stdout",
     "output_type": "stream",
     "text": [
      "\r",
      " [*********97%********** ] Elapsed 0.42s / Remaining 00:00:00:00"
     ]
    },
    {
     "name": "stdout",
     "output_type": "stream",
     "text": [
      "\r",
      " [*********98%***********] Elapsed 0.42s / Remaining 00:00:00:00"
     ]
    },
    {
     "name": "stdout",
     "output_type": "stream",
     "text": [
      "\r",
      " [*********98%***********] Elapsed 0.42s / Remaining 00:00:00:00"
     ]
    },
    {
     "name": "stdout",
     "output_type": "stream",
     "text": [
      "\r",
      " [*********98%***********] Elapsed 0.42s / Remaining 00:00:00:00"
     ]
    },
    {
     "name": "stdout",
     "output_type": "stream",
     "text": [
      "\r",
      " [*********98%***********] Elapsed 0.42s / Remaining 00:00:00:00"
     ]
    },
    {
     "name": "stdout",
     "output_type": "stream",
     "text": [
      "\r",
      " [*********98%***********] Elapsed 0.42s / Remaining 00:00:00:00"
     ]
    },
    {
     "name": "stdout",
     "output_type": "stream",
     "text": [
      "\r",
      " [*********98%***********] Elapsed 0.42s / Remaining 00:00:00:00"
     ]
    },
    {
     "name": "stdout",
     "output_type": "stream",
     "text": [
      "\r",
      " [*********99%***********] Elapsed 0.42s / Remaining 00:00:00:00"
     ]
    },
    {
     "name": "stdout",
     "output_type": "stream",
     "text": [
      "\r",
      " [*********99%***********] Elapsed 0.42s / Remaining 00:00:00:00"
     ]
    },
    {
     "name": "stdout",
     "output_type": "stream",
     "text": [
      "\r",
      " [*********99%***********] Elapsed 0.42s / Remaining 00:00:00:00"
     ]
    },
    {
     "name": "stdout",
     "output_type": "stream",
     "text": [
      "\r",
      " [*********99%***********] Elapsed 0.42s / Remaining 00:00:00:00"
     ]
    },
    {
     "name": "stdout",
     "output_type": "stream",
     "text": [
      "\r",
      " [*********99%***********] Elapsed 0.42s / Remaining 00:00:00:00"
     ]
    },
    {
     "name": "stdout",
     "output_type": "stream",
     "text": [
      "\r",
      " [*********99%***********] Elapsed 0.43s / Remaining 00:00:00:00"
     ]
    },
    {
     "name": "stdout",
     "output_type": "stream",
     "text": [
      "\r",
      " [********100%***********] Elapsed 0.43s / Remaining 00:00:00:00"
     ]
    },
    {
     "name": "stdout",
     "output_type": "stream",
     "text": [
      "\r",
      " [********100%***********] Elapsed 0.43s / Remaining 00:00:00:00"
     ]
    },
    {
     "name": "stdout",
     "output_type": "stream",
     "text": [
      "\r",
      " [********100%***********] Elapsed 0.43s / Remaining 00:00:00:00"
     ]
    },
    {
     "name": "stdout",
     "output_type": "stream",
     "text": [
      "\r",
      " Total run time:   0.43s\n",
      "ODE solver time: 0.42819714546203613\n"
     ]
    }
   ],
   "source": [
    "with timer(\"RHS construction time\"):\n",
    "    HEOMPade = HEOMSolver(Hsys, (padeEnv, Q), NC, options=options)\n",
    "\n",
    "with timer(\"ODE solver time\"):\n",
    "    resultPade = HEOMPade.run(rho0, tlist)"
   ]
  },
  {
   "cell_type": "code",
   "execution_count": 15,
   "id": "be9bbefa",
   "metadata": {
    "execution": {
     "iopub.execute_input": "2025-08-20T04:09:25.170301Z",
     "iopub.status.busy": "2025-08-20T04:09:25.170131Z",
     "iopub.status.idle": "2025-08-20T04:09:25.312934Z",
     "shell.execute_reply": "2025-08-20T04:09:25.312365Z"
    }
   },
   "outputs": [
    {
     "data": {
      "image/png": "[encoded data removed]",
      "text/plain": [
       "<Figure size 800x800 with 1 Axes>"
      ]
     },
     "metadata": {},
     "output_type": "display_data"
    }
   ],
   "source": [
    "# Plot the results\n",
    "fig, axes = plt.subplots(figsize=(8, 8))\n",
    "\n",
    "axes.plot(\n",
    "    tlist, np.real(P11_mats),\n",
    "    'b', linewidth=2, label=\"P11 (Matsubara)\",\n",
    ")\n",
    "axes.plot(\n",
    "    tlist, np.real(P11_matsT),\n",
    "    'b--', linewidth=2, label=\"P11 (Matsubara + Terminator)\",\n",
    ")\n",
    "\n",
    "P11_pade = np.real(expect(resultPade.states, P11p))\n",
    "axes.plot(\n",
    "    tlist, np.real(P11_pade),\n",
    "    'r', linewidth=2, label=\"P11 (Pade)\",\n",
    ")\n",
    "\n",
    "axes.set_xlabel(r't', fontsize=28)\n",
    "axes.legend(loc=0, fontsize=12);"
   ]
  },
  {
   "cell_type": "markdown",
   "id": "a73e0d7e",
   "metadata": {},
   "source": [
    "## Simulation 4: Fitting approach\n",
    "\n",
    "In `HEOM 1a: Spin-Bath model (introduction)` there is an example of a manually performed fit, here\n",
    "we will only use the built-in tools. More details about them can be seen in \n",
    "`HEOM 1d: Spin-Bath model, fitting of spectrum and correlation functions`"
   ]
  },
  {
   "cell_type": "code",
   "execution_count": 16,
   "id": "f741f18a",
   "metadata": {
    "execution": {
     "iopub.execute_input": "2025-08-20T04:09:25.314454Z",
     "iopub.status.busy": "2025-08-20T04:09:25.314267Z",
     "iopub.status.idle": "2025-08-20T04:09:26.208948Z",
     "shell.execute_reply": "2025-08-20T04:09:26.208328Z"
    }
   },
   "outputs": [],
   "source": [
    "tfit = np.linspace(0, 10, 10000)\n",
    "lower = [0, -np.inf, -1e-6, -3]\n",
    "guess = [np.real(env.correlation_function(0)) / 10, -10, 0, 0]\n",
    "upper = [5, 0, 1e-6, 0]\n",
    "# for better fits increase the first element in upper, or change approximate\n",
    "# method that makes the simulation much slower (Larger C(t) as C(0) is fit\n",
    "# better)\n",
    "\n",
    "envfit, fitinfo = env.approximate(\n",
    "    \"cf\", tlist=tfit, Nr_max=2, Ni_max=1, full_ansatz=True,\n",
    "    sigma=0.1, maxfev=1e6, target_rmse=None,\n",
    "    lower=lower, upper=upper, guess=guess,\n",
    ")"
   ]
  },
  {
   "cell_type": "code",
   "execution_count": 17,
   "id": "fc726bec",
   "metadata": {
    "execution": {
     "iopub.execute_input": "2025-08-20T04:09:26.210866Z",
     "iopub.status.busy": "2025-08-20T04:09:26.210645Z",
     "iopub.status.idle": "2025-08-20T04:09:26.214037Z",
     "shell.execute_reply": "2025-08-20T04:09:26.213527Z"
    }
   },
   "outputs": [
    {
     "name": "stdout",
     "output_type": "stream",
     "text": [
      "Correlation function fit:\n",
      "\n",
      "Result of fitting the real part of                        |Result of fitting the imaginary part                       \n",
      "the correlation function with 2 terms:                    |of the correlation function with 1 terms:                  \n",
      "                                                          |                                                           \n",
      " Parameters|   ckr    |   vkr    |   vki    |  cki        | Parameters|   ckr    |   vkr    |   vki    |  cki         \n",
      " 1         | 5.00e+00 |-1.91e+01 |-3.81e-07 |-2.97e+00    | 1         | 4.10e+00 |-1.00e+00 |-9.18e-07 |-2.50e+00     \n",
      " 2         | 5.00e+00 |-1.07e+00 | 3.03e-07 |-1.06e-04    |                                                           \n",
      "                                                          |A RMSE of  1.00e-04 was obtained for the the imaginary part\n",
      "A RMSE of  6.46e-05 was obtained for the the real part of |of the correlation function.                               \n",
      "the correlation function.                                 |                                                           \n",
      "The current fit took  0.144656 seconds.                   |The current fit took  0.018092 seconds.                    \n",
      "\n"
     ]
    }
   ],
   "source": [
    "print(fitinfo[\"summary\"])"
   ]
  },
  {
   "cell_type": "markdown",
   "id": "b846fc03",
   "metadata": {},
   "source": [
    "We can quickly compare the result of the fit with the Pade expansion"
   ]
  },
  {
   "cell_type": "code",
   "execution_count": 18,
   "id": "b6108526",
   "metadata": {
    "execution": {
     "iopub.execute_input": "2025-08-20T04:09:26.215572Z",
     "iopub.status.busy": "2025-08-20T04:09:26.215369Z",
     "iopub.status.idle": "2025-08-20T04:09:27.073943Z",
     "shell.execute_reply": "2025-08-20T04:09:27.073412Z"
    }
   },
   "outputs": [
    {
     "data": {
      "image/png": "[encoded data removed]",
      "text/plain": [
       "<Figure size 1600x800 with 2 Axes>"
      ]
     },
     "metadata": {},
     "output_type": "display_data"
    }
   ],
   "source": [
    "fig, (ax1, ax2) = plt.subplots(ncols=2, figsize=(16, 8))\n",
    "\n",
    "ax1.plot(\n",
    "    tlist, np.real(env.correlation_function(tlist)),\n",
    "    \"r\", linewidth=2, label=\"Exact\",\n",
    ")\n",
    "ax1.plot(\n",
    "    tlist, np.real(envfit.correlation_function(tlist)),\n",
    "    \"g--\", linewidth=2, label=\"Fit\", marker=\"o\", markevery=50,\n",
    ")\n",
    "ax1.plot(\n",
    "    tlist, np.real(padeEnv.correlation_function(tlist)),\n",
    "    \"b--\", linewidth=2, label=f\"Pade (Nk={Nk})\",\n",
    ")\n",
    "\n",
    "ax1.set_xlabel(r\"t\", fontsize=28)\n",
    "ax1.set_ylabel(r\"$C_R(t)$\", fontsize=28)\n",
    "ax1.legend(loc=0, fontsize=12)\n",
    "\n",
    "ax2.plot(\n",
    "    tlist, np.imag(env.correlation_function(tlist)),\n",
    "    \"r\", linewidth=2, label=\"Exact\",\n",
    ")\n",
    "ax2.plot(\n",
    "    tlist, np.imag(envfit.correlation_function(tlist)),\n",
    "    \"g--\", linewidth=2, label=\"Fit\", marker=\"o\", markevery=50,\n",
    ")\n",
    "ax2.plot(\n",
    "    tlist, np.imag(padeEnv.correlation_function(tlist)),\n",
    "    \"b--\", linewidth=2, label=f\"Pade (Nk={Nk})\",\n",
    ")\n",
    "\n",
    "ax2.set_xlabel(r\"t\", fontsize=28)\n",
    "ax2.set_ylabel(r\"$C_I(t)$\", fontsize=28)\n",
    "ax2.legend(loc=0, fontsize=12)\n",
    "plt.show()"
   ]
  },
  {
   "cell_type": "code",
   "execution_count": 19,
   "id": "dff2f444",
   "metadata": {
    "execution": {
     "iopub.execute_input": "2025-08-20T04:09:27.075473Z",
     "iopub.status.busy": "2025-08-20T04:09:27.075276Z",
     "iopub.status.idle": "2025-08-20T04:09:27.755481Z",
     "shell.execute_reply": "2025-08-20T04:09:27.754943Z"
    }
   },
   "outputs": [
    {
     "name": "stdout",
     "output_type": "stream",
     "text": [
      "RHS construction time: 0.021004676818847656\n",
      "\r",
      " [          0%           ] Elapsed 0.00s / Remaining 00:00:00:00"
     ]
    },
    {
     "name": "stdout",
     "output_type": "stream",
     "text": [
      "\r",
      " [          0%           ] Elapsed 0.00s / Remaining 00:00:00:00"
     ]
    },
    {
     "name": "stdout",
     "output_type": "stream",
     "text": [
      "\r",
      " [          1%           ] Elapsed 0.00s / Remaining 00:00:00:00"
     ]
    },
    {
     "name": "stdout",
     "output_type": "stream",
     "text": [
      "\r",
      " [          1%           ] Elapsed 0.01s / Remaining 00:00:00:00"
     ]
    },
    {
     "name": "stdout",
     "output_type": "stream",
     "text": [
      "\r",
      " [          1%           ] Elapsed 0.01s / Remaining 00:00:00:00"
     ]
    },
    {
     "name": "stdout",
     "output_type": "stream",
     "text": [
      "\r",
      " [          1%           ] Elapsed 0.01s / Remaining 00:00:00:00"
     ]
    },
    {
     "name": "stdout",
     "output_type": "stream",
     "text": [
      "\r",
      " [          1%           ] Elapsed 0.01s / Remaining 00:00:00:00"
     ]
    },
    {
     "name": "stdout",
     "output_type": "stream",
     "text": [
      "\r",
      " [          1%           ] Elapsed 0.01s / Remaining 00:00:00:01"
     ]
    },
    {
     "name": "stdout",
     "output_type": "stream",
     "text": [
      "\r",
      " [          2%           ] Elapsed 0.01s / Remaining 00:00:00:00"
     ]
    },
    {
     "name": "stdout",
     "output_type": "stream",
     "text": [
      "\r",
      " [          2%           ] Elapsed 0.01s / Remaining 00:00:00:00"
     ]
    },
    {
     "name": "stdout",
     "output_type": "stream",
     "text": [
      "\r",
      " [          2%           ] Elapsed 0.01s / Remaining 00:00:00:00"
     ]
    },
    {
     "name": "stdout",
     "output_type": "stream",
     "text": [
      "\r",
      " [          2%           ] Elapsed 0.01s / Remaining 00:00:00:00"
     ]
    },
    {
     "name": "stdout",
     "output_type": "stream",
     "text": [
      "\r",
      " [          2%           ] Elapsed 0.02s / Remaining 00:00:00:00"
     ]
    },
    {
     "name": "stdout",
     "output_type": "stream",
     "text": [
      "\r",
      " [          2%           ] Elapsed 0.02s / Remaining 00:00:00:00"
     ]
    },
    {
     "name": "stdout",
     "output_type": "stream",
     "text": [
      "\r",
      " [*         3%           ] Elapsed 0.02s / Remaining 00:00:00:00"
     ]
    },
    {
     "name": "stdout",
     "output_type": "stream",
     "text": [
      "\r",
      " [*         3%           ] Elapsed 0.02s / Remaining 00:00:00:00"
     ]
    },
    {
     "name": "stdout",
     "output_type": "stream",
     "text": [
      "\r",
      " [*         3%           ] Elapsed 0.02s / Remaining 00:00:00:00"
     ]
    },
    {
     "name": "stdout",
     "output_type": "stream",
     "text": [
      "\r",
      " [*         3%           ] Elapsed 0.02s / Remaining 00:00:00:00"
     ]
    },
    {
     "name": "stdout",
     "output_type": "stream",
     "text": [
      "\r",
      " [*         3%           ] Elapsed 0.02s / Remaining 00:00:00:00"
     ]
    },
    {
     "name": "stdout",
     "output_type": "stream",
     "text": [
      "\r",
      " [*         3%           ] Elapsed 0.02s / Remaining 00:00:00:00"
     ]
    },
    {
     "name": "stdout",
     "output_type": "stream",
     "text": [
      "\r",
      " [*         4%           ] Elapsed 0.03s / Remaining 00:00:00:00"
     ]
    },
    {
     "name": "stdout",
     "output_type": "stream",
     "text": [
      "\r",
      " [*         4%           ] Elapsed 0.03s / Remaining 00:00:00:00"
     ]
    },
    {
     "name": "stdout",
     "output_type": "stream",
     "text": [
      "\r",
      " [*         4%           ] Elapsed 0.03s / Remaining 00:00:00:00"
     ]
    },
    {
     "name": "stdout",
     "output_type": "stream",
     "text": [
      "\r",
      " [*         4%           ] Elapsed 0.03s / Remaining 00:00:00:00"
     ]
    },
    {
     "name": "stdout",
     "output_type": "stream",
     "text": [
      "\r",
      " [*         4%           ] Elapsed 0.03s / Remaining 00:00:00:00"
     ]
    },
    {
     "name": "stdout",
     "output_type": "stream",
     "text": [
      "\r",
      " [*         4%           ] Elapsed 0.03s / Remaining 00:00:00:00"
     ]
    },
    {
     "name": "stdout",
     "output_type": "stream",
     "text": [
      "\r",
      " [*         5%           ] Elapsed 0.03s / Remaining 00:00:00:00"
     ]
    },
    {
     "name": "stdout",
     "output_type": "stream",
     "text": [
      "\r",
      " [*         5%           ] Elapsed 0.03s / Remaining 00:00:00:00"
     ]
    },
    {
     "name": "stdout",
     "output_type": "stream",
     "text": [
      "\r",
      " [*         5%           ] Elapsed 0.04s / Remaining 00:00:00:00"
     ]
    },
    {
     "name": "stdout",
     "output_type": "stream",
     "text": [
      "\r",
      " [*         5%           ] Elapsed 0.04s / Remaining 00:00:00:00"
     ]
    },
    {
     "name": "stdout",
     "output_type": "stream",
     "text": [
      "\r",
      " [*         5%           ] Elapsed 0.04s / Remaining 00:00:00:00"
     ]
    },
    {
     "name": "stdout",
     "output_type": "stream",
     "text": [
      "\r",
      " [*         5%           ] Elapsed 0.04s / Remaining 00:00:00:00"
     ]
    },
    {
     "name": "stdout",
     "output_type": "stream",
     "text": [
      "\r",
      " [*         6%           ] Elapsed 0.04s / Remaining 00:00:00:00"
     ]
    },
    {
     "name": "stdout",
     "output_type": "stream",
     "text": [
      "\r",
      " [*         6%           ] Elapsed 0.04s / Remaining 00:00:00:00"
     ]
    },
    {
     "name": "stdout",
     "output_type": "stream",
     "text": [
      "\r",
      " [*         6%           ] Elapsed 0.04s / Remaining 00:00:00:00"
     ]
    },
    {
     "name": "stdout",
     "output_type": "stream",
     "text": [
      "\r",
      " [*         6%           ] Elapsed 0.04s / Remaining 00:00:00:00"
     ]
    },
    {
     "name": "stdout",
     "output_type": "stream",
     "text": [
      "\r",
      " [*         6%           ] Elapsed 0.04s / Remaining 00:00:00:00"
     ]
    },
    {
     "name": "stdout",
     "output_type": "stream",
     "text": [
      "\r",
      " [*         6%           ] Elapsed 0.05s / Remaining 00:00:00:00"
     ]
    },
    {
     "name": "stdout",
     "output_type": "stream",
     "text": [
      "\r",
      " [**        7%           ] Elapsed 0.05s / Remaining 00:00:00:00"
     ]
    },
    {
     "name": "stdout",
     "output_type": "stream",
     "text": [
      "\r",
      " [**        7%           ] Elapsed 0.05s / Remaining 00:00:00:00"
     ]
    },
    {
     "name": "stdout",
     "output_type": "stream",
     "text": [
      "\r",
      " [**        7%           ] Elapsed 0.05s / Remaining 00:00:00:00"
     ]
    },
    {
     "name": "stdout",
     "output_type": "stream",
     "text": [
      "\r",
      " [**        7%           ] Elapsed 0.05s / Remaining 00:00:00:00"
     ]
    },
    {
     "name": "stdout",
     "output_type": "stream",
     "text": [
      "\r",
      " [**        7%           ] Elapsed 0.05s / Remaining 00:00:00:00"
     ]
    },
    {
     "name": "stdout",
     "output_type": "stream",
     "text": [
      "\r",
      " [**        7%           ] Elapsed 0.05s / Remaining 00:00:00:00"
     ]
    },
    {
     "name": "stdout",
     "output_type": "stream",
     "text": [
      "\r",
      " [**        8%           ] Elapsed 0.05s / Remaining 00:00:00:00"
     ]
    },
    {
     "name": "stdout",
     "output_type": "stream",
     "text": [
      "\r",
      " [**        8%           ] Elapsed 0.05s / Remaining 00:00:00:00"
     ]
    },
    {
     "name": "stdout",
     "output_type": "stream",
     "text": [
      "\r",
      " [**        8%           ] Elapsed 0.06s / Remaining 00:00:00:00"
     ]
    },
    {
     "name": "stdout",
     "output_type": "stream",
     "text": [
      "\r",
      " [**        8%           ] Elapsed 0.06s / Remaining 00:00:00:00"
     ]
    },
    {
     "name": "stdout",
     "output_type": "stream",
     "text": [
      "\r",
      " [**        8%           ] Elapsed 0.06s / Remaining 00:00:00:00"
     ]
    },
    {
     "name": "stdout",
     "output_type": "stream",
     "text": [
      "\r",
      " [**        8%           ] Elapsed 0.06s / Remaining 00:00:00:00"
     ]
    },
    {
     "name": "stdout",
     "output_type": "stream",
     "text": [
      "\r",
      " [**        9%           ] Elapsed 0.06s / Remaining 00:00:00:00"
     ]
    },
    {
     "name": "stdout",
     "output_type": "stream",
     "text": [
      "\r",
      " [**        9%           ] Elapsed 0.06s / Remaining 00:00:00:00"
     ]
    },
    {
     "name": "stdout",
     "output_type": "stream",
     "text": [
      "\r",
      " [**        9%           ] Elapsed 0.06s / Remaining 00:00:00:00"
     ]
    },
    {
     "name": "stdout",
     "output_type": "stream",
     "text": [
      "\r",
      " [**        9%           ] Elapsed 0.06s / Remaining 00:00:00:00"
     ]
    },
    {
     "name": "stdout",
     "output_type": "stream",
     "text": [
      "\r",
      " [**        9%           ] Elapsed 0.06s / Remaining 00:00:00:00"
     ]
    },
    {
     "name": "stdout",
     "output_type": "stream",
     "text": [
      "\r",
      " [**        9%           ] Elapsed 0.07s / Remaining 00:00:00:00"
     ]
    },
    {
     "name": "stdout",
     "output_type": "stream",
     "text": [
      "\r",
      " [**       10%           ] Elapsed 0.07s / Remaining 00:00:00:00"
     ]
    },
    {
     "name": "stdout",
     "output_type": "stream",
     "text": [
      "\r",
      " [**       10%           ] Elapsed 0.07s / Remaining 00:00:00:00"
     ]
    },
    {
     "name": "stdout",
     "output_type": "stream",
     "text": [
      "\r",
      " [**       10%           ] Elapsed 0.07s / Remaining 00:00:00:00"
     ]
    },
    {
     "name": "stdout",
     "output_type": "stream",
     "text": [
      "\r",
      " [**       10%           ] Elapsed 0.07s / Remaining 00:00:00:00"
     ]
    },
    {
     "name": "stdout",
     "output_type": "stream",
     "text": [
      "\r",
      " [**       10%           ] Elapsed 0.07s / Remaining 00:00:00:00"
     ]
    },
    {
     "name": "stdout",
     "output_type": "stream",
     "text": [
      "\r",
      " [**       10%           ] Elapsed 0.07s / Remaining 00:00:00:00"
     ]
    },
    {
     "name": "stdout",
     "output_type": "stream",
     "text": [
      "\r",
      " [***      11%           ] Elapsed 0.07s / Remaining 00:00:00:00"
     ]
    },
    {
     "name": "stdout",
     "output_type": "stream",
     "text": [
      "\r",
      " [***      11%           ] Elapsed 0.07s / Remaining 00:00:00:00"
     ]
    },
    {
     "name": "stdout",
     "output_type": "stream",
     "text": [
      "\r",
      " [***      11%           ] Elapsed 0.07s / Remaining 00:00:00:00"
     ]
    },
    {
     "name": "stdout",
     "output_type": "stream",
     "text": [
      "\r",
      " [***      11%           ] Elapsed 0.08s / Remaining 00:00:00:00"
     ]
    },
    {
     "name": "stdout",
     "output_type": "stream",
     "text": [
      "\r",
      " [***      11%           ] Elapsed 0.08s / Remaining 00:00:00:00"
     ]
    },
    {
     "name": "stdout",
     "output_type": "stream",
     "text": [
      "\r",
      " [***      11%           ] Elapsed 0.08s / Remaining 00:00:00:00"
     ]
    },
    {
     "name": "stdout",
     "output_type": "stream",
     "text": [
      "\r",
      " [***      12%           ] Elapsed 0.08s / Remaining 00:00:00:00"
     ]
    },
    {
     "name": "stdout",
     "output_type": "stream",
     "text": [
      "\r",
      " [***      12%           ] Elapsed 0.08s / Remaining 00:00:00:00"
     ]
    },
    {
     "name": "stdout",
     "output_type": "stream",
     "text": [
      "\r",
      " [***      12%           ] Elapsed 0.08s / Remaining 00:00:00:00"
     ]
    },
    {
     "name": "stdout",
     "output_type": "stream",
     "text": [
      "\r",
      " [***      12%           ] Elapsed 0.08s / Remaining 00:00:00:00"
     ]
    },
    {
     "name": "stdout",
     "output_type": "stream",
     "text": [
      "\r",
      " [***      12%           ] Elapsed 0.08s / Remaining 00:00:00:00"
     ]
    },
    {
     "name": "stdout",
     "output_type": "stream",
     "text": [
      "\r",
      " [***      12%           ] Elapsed 0.09s / Remaining 00:00:00:00"
     ]
    },
    {
     "name": "stdout",
     "output_type": "stream",
     "text": [
      "\r",
      " [***      13%           ] Elapsed 0.09s / Remaining 00:00:00:00"
     ]
    },
    {
     "name": "stdout",
     "output_type": "stream",
     "text": [
      "\r",
      " [***      13%           ] Elapsed 0.09s / Remaining 00:00:00:00"
     ]
    },
    {
     "name": "stdout",
     "output_type": "stream",
     "text": [
      "\r",
      " [***      13%           ] Elapsed 0.09s / Remaining 00:00:00:00"
     ]
    },
    {
     "name": "stdout",
     "output_type": "stream",
     "text": [
      "\r",
      " [***      13%           ] Elapsed 0.09s / Remaining 00:00:00:00"
     ]
    },
    {
     "name": "stdout",
     "output_type": "stream",
     "text": [
      "\r",
      " [***      13%           ] Elapsed 0.09s / Remaining 00:00:00:00"
     ]
    },
    {
     "name": "stdout",
     "output_type": "stream",
     "text": [
      "\r",
      " [***      13%           ] Elapsed 0.09s / Remaining 00:00:00:00"
     ]
    },
    {
     "name": "stdout",
     "output_type": "stream",
     "text": [
      "\r",
      " [***      14%           ] Elapsed 0.09s / Remaining 00:00:00:00"
     ]
    },
    {
     "name": "stdout",
     "output_type": "stream",
     "text": [
      "\r",
      " [***      14%           ] Elapsed 0.09s / Remaining 00:00:00:00"
     ]
    },
    {
     "name": "stdout",
     "output_type": "stream",
     "text": [
      "\r",
      " [***      14%           ] Elapsed 0.10s / Remaining 00:00:00:00"
     ]
    },
    {
     "name": "stdout",
     "output_type": "stream",
     "text": [
      "\r",
      " [***      14%           ] Elapsed 0.10s / Remaining 00:00:00:00"
     ]
    },
    {
     "name": "stdout",
     "output_type": "stream",
     "text": [
      "\r",
      " [***      14%           ] Elapsed 0.10s / Remaining 00:00:00:00"
     ]
    },
    {
     "name": "stdout",
     "output_type": "stream",
     "text": [
      "\r",
      " [***      14%           ] Elapsed 0.10s / Remaining 00:00:00:00"
     ]
    },
    {
     "name": "stdout",
     "output_type": "stream",
     "text": [
      "\r",
      " [***      15%           ] Elapsed 0.10s / Remaining 00:00:00:00"
     ]
    },
    {
     "name": "stdout",
     "output_type": "stream",
     "text": [
      "\r",
      " [***      15%           ] Elapsed 0.10s / Remaining 00:00:00:00"
     ]
    },
    {
     "name": "stdout",
     "output_type": "stream",
     "text": [
      "\r",
      " [***      15%           ] Elapsed 0.10s / Remaining 00:00:00:00"
     ]
    },
    {
     "name": "stdout",
     "output_type": "stream",
     "text": [
      "\r",
      " [***      15%           ] Elapsed 0.10s / Remaining 00:00:00:00"
     ]
    },
    {
     "name": "stdout",
     "output_type": "stream",
     "text": [
      "\r",
      " [***      15%           ] Elapsed 0.11s / Remaining 00:00:00:00"
     ]
    },
    {
     "name": "stdout",
     "output_type": "stream",
     "text": [
      "\r",
      " [***      15%           ] Elapsed 0.11s / Remaining 00:00:00:00"
     ]
    },
    {
     "name": "stdout",
     "output_type": "stream",
     "text": [
      "\r",
      " [****     16%           ] Elapsed 0.11s / Remaining 00:00:00:00"
     ]
    },
    {
     "name": "stdout",
     "output_type": "stream",
     "text": [
      "\r",
      " [****     16%           ] Elapsed 0.11s / Remaining 00:00:00:00"
     ]
    },
    {
     "name": "stdout",
     "output_type": "stream",
     "text": [
      "\r",
      " [****     16%           ] Elapsed 0.11s / Remaining 00:00:00:00"
     ]
    },
    {
     "name": "stdout",
     "output_type": "stream",
     "text": [
      "\r",
      " [****     16%           ] Elapsed 0.11s / Remaining 00:00:00:00"
     ]
    },
    {
     "name": "stdout",
     "output_type": "stream",
     "text": [
      "\r",
      " [****     16%           ] Elapsed 0.11s / Remaining 00:00:00:00"
     ]
    },
    {
     "name": "stdout",
     "output_type": "stream",
     "text": [
      "\r",
      " [****     16%           ] Elapsed 0.11s / Remaining 00:00:00:00"
     ]
    },
    {
     "name": "stdout",
     "output_type": "stream",
     "text": [
      "\r",
      " [****     17%           ] Elapsed 0.11s / Remaining 00:00:00:00"
     ]
    },
    {
     "name": "stdout",
     "output_type": "stream",
     "text": [
      "\r",
      " [****     17%           ] Elapsed 0.11s / Remaining 00:00:00:00"
     ]
    },
    {
     "name": "stdout",
     "output_type": "stream",
     "text": [
      "\r",
      " [****     17%           ] Elapsed 0.12s / Remaining 00:00:00:00"
     ]
    },
    {
     "name": "stdout",
     "output_type": "stream",
     "text": [
      "\r",
      " [****     17%           ] Elapsed 0.12s / Remaining 00:00:00:00"
     ]
    },
    {
     "name": "stdout",
     "output_type": "stream",
     "text": [
      "\r",
      " [****     17%           ] Elapsed 0.12s / Remaining 00:00:00:00"
     ]
    },
    {
     "name": "stdout",
     "output_type": "stream",
     "text": [
      "\r",
      " [****     17%           ] Elapsed 0.12s / Remaining 00:00:00:00"
     ]
    },
    {
     "name": "stdout",
     "output_type": "stream",
     "text": [
      "\r",
      " [****     18%           ] Elapsed 0.12s / Remaining 00:00:00:00"
     ]
    },
    {
     "name": "stdout",
     "output_type": "stream",
     "text": [
      "\r",
      " [****     18%           ] Elapsed 0.12s / Remaining 00:00:00:00"
     ]
    },
    {
     "name": "stdout",
     "output_type": "stream",
     "text": [
      "\r",
      " [****     18%           ] Elapsed 0.12s / Remaining 00:00:00:00"
     ]
    },
    {
     "name": "stdout",
     "output_type": "stream",
     "text": [
      "\r",
      " [****     18%           ] Elapsed 0.12s / Remaining 00:00:00:00"
     ]
    },
    {
     "name": "stdout",
     "output_type": "stream",
     "text": [
      "\r",
      " [****     18%           ] Elapsed 0.12s / Remaining 00:00:00:00"
     ]
    },
    {
     "name": "stdout",
     "output_type": "stream",
     "text": [
      "\r",
      " [****     18%           ] Elapsed 0.13s / Remaining 00:00:00:00"
     ]
    },
    {
     "name": "stdout",
     "output_type": "stream",
     "text": [
      "\r",
      " [****     19%           ] Elapsed 0.13s / Remaining 00:00:00:00"
     ]
    },
    {
     "name": "stdout",
     "output_type": "stream",
     "text": [
      "\r",
      " [****     19%           ] Elapsed 0.13s / Remaining 00:00:00:00"
     ]
    },
    {
     "name": "stdout",
     "output_type": "stream",
     "text": [
      "\r",
      " [****     19%           ] Elapsed 0.13s / Remaining 00:00:00:00"
     ]
    },
    {
     "name": "stdout",
     "output_type": "stream",
     "text": [
      "\r",
      " [****     19%           ] Elapsed 0.13s / Remaining 00:00:00:00"
     ]
    },
    {
     "name": "stdout",
     "output_type": "stream",
     "text": [
      "\r",
      " [****     19%           ] Elapsed 0.13s / Remaining 00:00:00:00"
     ]
    },
    {
     "name": "stdout",
     "output_type": "stream",
     "text": [
      "\r",
      " [****     19%           ] Elapsed 0.13s / Remaining 00:00:00:00"
     ]
    },
    {
     "name": "stdout",
     "output_type": "stream",
     "text": [
      "\r",
      " [*****    20%           ] Elapsed 0.13s / Remaining 00:00:00:00"
     ]
    },
    {
     "name": "stdout",
     "output_type": "stream",
     "text": [
      "\r",
      " [*****    20%           ] Elapsed 0.13s / Remaining 00:00:00:00"
     ]
    },
    {
     "name": "stdout",
     "output_type": "stream",
     "text": [
      "\r",
      " [*****    20%           ] Elapsed 0.14s / Remaining 00:00:00:00"
     ]
    },
    {
     "name": "stdout",
     "output_type": "stream",
     "text": [
      "\r",
      " [*****    20%           ] Elapsed 0.14s / Remaining 00:00:00:00"
     ]
    },
    {
     "name": "stdout",
     "output_type": "stream",
     "text": [
      "\r",
      " [*****    20%           ] Elapsed 0.14s / Remaining 00:00:00:00"
     ]
    },
    {
     "name": "stdout",
     "output_type": "stream",
     "text": [
      "\r",
      " [*****    20%           ] Elapsed 0.14s / Remaining 00:00:00:00"
     ]
    },
    {
     "name": "stdout",
     "output_type": "stream",
     "text": [
      "\r",
      " [*****    21%           ] Elapsed 0.14s / Remaining 00:00:00:00"
     ]
    },
    {
     "name": "stdout",
     "output_type": "stream",
     "text": [
      "\r",
      " [*****    21%           ] Elapsed 0.14s / Remaining 00:00:00:00"
     ]
    },
    {
     "name": "stdout",
     "output_type": "stream",
     "text": [
      "\r",
      " [*****    21%           ] Elapsed 0.14s / Remaining 00:00:00:00"
     ]
    },
    {
     "name": "stdout",
     "output_type": "stream",
     "text": [
      "\r",
      " [*****    21%           ] Elapsed 0.14s / Remaining 00:00:00:00"
     ]
    },
    {
     "name": "stdout",
     "output_type": "stream",
     "text": [
      "\r",
      " [*****    21%           ] Elapsed 0.14s / Remaining 00:00:00:00"
     ]
    },
    {
     "name": "stdout",
     "output_type": "stream",
     "text": [
      "\r",
      " [*****    21%           ] Elapsed 0.14s / Remaining 00:00:00:00"
     ]
    },
    {
     "name": "stdout",
     "output_type": "stream",
     "text": [
      "\r",
      " [*****    22%           ] Elapsed 0.14s / Remaining 00:00:00:00"
     ]
    },
    {
     "name": "stdout",
     "output_type": "stream",
     "text": [
      "\r",
      " [*****    22%           ] Elapsed 0.15s / Remaining 00:00:00:00"
     ]
    },
    {
     "name": "stdout",
     "output_type": "stream",
     "text": [
      "\r",
      " [*****    22%           ] Elapsed 0.15s / Remaining 00:00:00:00"
     ]
    },
    {
     "name": "stdout",
     "output_type": "stream",
     "text": [
      "\r",
      " [*****    22%           ] Elapsed 0.15s / Remaining 00:00:00:00"
     ]
    },
    {
     "name": "stdout",
     "output_type": "stream",
     "text": [
      "\r",
      " [*****    22%           ] Elapsed 0.15s / Remaining 00:00:00:00"
     ]
    },
    {
     "name": "stdout",
     "output_type": "stream",
     "text": [
      "\r",
      " [*****    22%           ] Elapsed 0.15s / Remaining 00:00:00:00"
     ]
    },
    {
     "name": "stdout",
     "output_type": "stream",
     "text": [
      "\r",
      " [*****    23%           ] Elapsed 0.15s / Remaining 00:00:00:00"
     ]
    },
    {
     "name": "stdout",
     "output_type": "stream",
     "text": [
      "\r",
      " [*****    23%           ] Elapsed 0.15s / Remaining 00:00:00:00"
     ]
    },
    {
     "name": "stdout",
     "output_type": "stream",
     "text": [
      "\r",
      " [*****    23%           ] Elapsed 0.15s / Remaining 00:00:00:00"
     ]
    },
    {
     "name": "stdout",
     "output_type": "stream",
     "text": [
      "\r",
      " [*****    23%           ] Elapsed 0.15s / Remaining 00:00:00:00"
     ]
    },
    {
     "name": "stdout",
     "output_type": "stream",
     "text": [
      "\r",
      " [*****    23%           ] Elapsed 0.16s / Remaining 00:00:00:00"
     ]
    },
    {
     "name": "stdout",
     "output_type": "stream",
     "text": [
      "\r",
      " [*****    23%           ] Elapsed 0.16s / Remaining 00:00:00:00"
     ]
    },
    {
     "name": "stdout",
     "output_type": "stream",
     "text": [
      "\r",
      " [******   24%           ] Elapsed 0.16s / Remaining 00:00:00:00"
     ]
    },
    {
     "name": "stdout",
     "output_type": "stream",
     "text": [
      "\r",
      " [******   24%           ] Elapsed 0.16s / Remaining 00:00:00:00"
     ]
    },
    {
     "name": "stdout",
     "output_type": "stream",
     "text": [
      "\r",
      " [******   24%           ] Elapsed 0.16s / Remaining 00:00:00:00"
     ]
    },
    {
     "name": "stdout",
     "output_type": "stream",
     "text": [
      "\r",
      " [******   24%           ] Elapsed 0.16s / Remaining 00:00:00:00"
     ]
    },
    {
     "name": "stdout",
     "output_type": "stream",
     "text": [
      "\r",
      " [******   24%           ] Elapsed 0.16s / Remaining 00:00:00:00"
     ]
    },
    {
     "name": "stdout",
     "output_type": "stream",
     "text": [
      "\r",
      " [******   24%           ] Elapsed 0.16s / Remaining 00:00:00:00"
     ]
    },
    {
     "name": "stdout",
     "output_type": "stream",
     "text": [
      "\r",
      " [******   25%           ] Elapsed 0.16s / Remaining 00:00:00:00"
     ]
    },
    {
     "name": "stdout",
     "output_type": "stream",
     "text": [
      "\r",
      " [******   25%           ] Elapsed 0.16s / Remaining 00:00:00:00"
     ]
    },
    {
     "name": "stdout",
     "output_type": "stream",
     "text": [
      "\r",
      " [******   25%           ] Elapsed 0.17s / Remaining 00:00:00:00"
     ]
    },
    {
     "name": "stdout",
     "output_type": "stream",
     "text": [
      "\r",
      " [******   25%           ] Elapsed 0.17s / Remaining 00:00:00:00"
     ]
    },
    {
     "name": "stdout",
     "output_type": "stream",
     "text": [
      "\r",
      " [******   25%           ] Elapsed 0.17s / Remaining 00:00:00:00"
     ]
    },
    {
     "name": "stdout",
     "output_type": "stream",
     "text": [
      "\r",
      " [******   25%           ] Elapsed 0.17s / Remaining 00:00:00:00"
     ]
    },
    {
     "name": "stdout",
     "output_type": "stream",
     "text": [
      "\r",
      " [******   26%           ] Elapsed 0.17s / Remaining 00:00:00:00"
     ]
    },
    {
     "name": "stdout",
     "output_type": "stream",
     "text": [
      "\r",
      " [******   26%           ] Elapsed 0.17s / Remaining 00:00:00:00"
     ]
    },
    {
     "name": "stdout",
     "output_type": "stream",
     "text": [
      "\r",
      " [******   26%           ] Elapsed 0.17s / Remaining 00:00:00:00"
     ]
    },
    {
     "name": "stdout",
     "output_type": "stream",
     "text": [
      "\r",
      " [******   26%           ] Elapsed 0.17s / Remaining 00:00:00:00"
     ]
    },
    {
     "name": "stdout",
     "output_type": "stream",
     "text": [
      "\r",
      " [******   26%           ] Elapsed 0.17s / Remaining 00:00:00:00"
     ]
    },
    {
     "name": "stdout",
     "output_type": "stream",
     "text": [
      "\r",
      " [******   26%           ] Elapsed 0.17s / Remaining 00:00:00:00"
     ]
    },
    {
     "name": "stdout",
     "output_type": "stream",
     "text": [
      "\r",
      " [******   27%           ] Elapsed 0.18s / Remaining 00:00:00:00"
     ]
    },
    {
     "name": "stdout",
     "output_type": "stream",
     "text": [
      "\r",
      " [******   27%           ] Elapsed 0.18s / Remaining 00:00:00:00"
     ]
    },
    {
     "name": "stdout",
     "output_type": "stream",
     "text": [
      "\r",
      " [******   27%           ] Elapsed 0.18s / Remaining 00:00:00:00"
     ]
    },
    {
     "name": "stdout",
     "output_type": "stream",
     "text": [
      "\r",
      " [******   27%           ] Elapsed 0.18s / Remaining 00:00:00:00"
     ]
    },
    {
     "name": "stdout",
     "output_type": "stream",
     "text": [
      "\r",
      " [******   27%           ] Elapsed 0.18s / Remaining 00:00:00:00"
     ]
    },
    {
     "name": "stdout",
     "output_type": "stream",
     "text": [
      "\r",
      " [******   27%           ] Elapsed 0.18s / Remaining 00:00:00:00"
     ]
    },
    {
     "name": "stdout",
     "output_type": "stream",
     "text": [
      "\r",
      " [******   28%           ] Elapsed 0.18s / Remaining 00:00:00:00"
     ]
    },
    {
     "name": "stdout",
     "output_type": "stream",
     "text": [
      "\r",
      " [******   28%           ] Elapsed 0.18s / Remaining 00:00:00:00"
     ]
    },
    {
     "name": "stdout",
     "output_type": "stream",
     "text": [
      "\r",
      " [******   28%           ] Elapsed 0.18s / Remaining 00:00:00:00"
     ]
    },
    {
     "name": "stdout",
     "output_type": "stream",
     "text": [
      "\r",
      " [******   28%           ] Elapsed 0.18s / Remaining 00:00:00:00"
     ]
    },
    {
     "name": "stdout",
     "output_type": "stream",
     "text": [
      "\r",
      " [******   28%           ] Elapsed 0.18s / Remaining 00:00:00:00"
     ]
    },
    {
     "name": "stdout",
     "output_type": "stream",
     "text": [
      "\r",
      " [******   28%           ] Elapsed 0.19s / Remaining 00:00:00:00"
     ]
    },
    {
     "name": "stdout",
     "output_type": "stream",
     "text": [
      "\r",
      " [*******  29%           ] Elapsed 0.19s / Remaining 00:00:00:00"
     ]
    },
    {
     "name": "stdout",
     "output_type": "stream",
     "text": [
      "\r",
      " [*******  29%           ] Elapsed 0.19s / Remaining 00:00:00:00"
     ]
    },
    {
     "name": "stdout",
     "output_type": "stream",
     "text": [
      "\r",
      " [*******  29%           ] Elapsed 0.19s / Remaining 00:00:00:00"
     ]
    },
    {
     "name": "stdout",
     "output_type": "stream",
     "text": [
      "\r",
      " [*******  29%           ] Elapsed 0.19s / Remaining 00:00:00:00"
     ]
    },
    {
     "name": "stdout",
     "output_type": "stream",
     "text": [
      "\r",
      " [*******  29%           ] Elapsed 0.19s / Remaining 00:00:00:00"
     ]
    },
    {
     "name": "stdout",
     "output_type": "stream",
     "text": [
      "\r",
      " [*******  29%           ] Elapsed 0.19s / Remaining 00:00:00:00"
     ]
    },
    {
     "name": "stdout",
     "output_type": "stream",
     "text": [
      "\r",
      " [*******  30%           ] Elapsed 0.19s / Remaining 00:00:00:00"
     ]
    },
    {
     "name": "stdout",
     "output_type": "stream",
     "text": [
      "\r",
      " [*******  30%           ] Elapsed 0.19s / Remaining 00:00:00:00"
     ]
    },
    {
     "name": "stdout",
     "output_type": "stream",
     "text": [
      "\r",
      " [*******  30%           ] Elapsed 0.20s / Remaining 00:00:00:00"
     ]
    },
    {
     "name": "stdout",
     "output_type": "stream",
     "text": [
      "\r",
      " [*******  30%           ] Elapsed 0.20s / Remaining 00:00:00:00"
     ]
    },
    {
     "name": "stdout",
     "output_type": "stream",
     "text": [
      "\r",
      " [*******  30%           ] Elapsed 0.20s / Remaining 00:00:00:00"
     ]
    },
    {
     "name": "stdout",
     "output_type": "stream",
     "text": [
      "\r",
      " [*******  30%           ] Elapsed 0.20s / Remaining 00:00:00:00"
     ]
    },
    {
     "name": "stdout",
     "output_type": "stream",
     "text": [
      "\r",
      " [*******  31%           ] Elapsed 0.20s / Remaining 00:00:00:00"
     ]
    },
    {
     "name": "stdout",
     "output_type": "stream",
     "text": [
      "\r",
      " [*******  31%           ] Elapsed 0.20s / Remaining 00:00:00:00"
     ]
    },
    {
     "name": "stdout",
     "output_type": "stream",
     "text": [
      "\r",
      " [*******  31%           ] Elapsed 0.20s / Remaining 00:00:00:00"
     ]
    },
    {
     "name": "stdout",
     "output_type": "stream",
     "text": [
      "\r",
      " [*******  31%           ] Elapsed 0.20s / Remaining 00:00:00:00"
     ]
    },
    {
     "name": "stdout",
     "output_type": "stream",
     "text": [
      "\r",
      " [*******  31%           ] Elapsed 0.20s / Remaining 00:00:00:00"
     ]
    },
    {
     "name": "stdout",
     "output_type": "stream",
     "text": [
      "\r",
      " [*******  31%           ] Elapsed 0.21s / Remaining 00:00:00:00"
     ]
    },
    {
     "name": "stdout",
     "output_type": "stream",
     "text": [
      "\r",
      " [*******  32%           ] Elapsed 0.21s / Remaining 00:00:00:00"
     ]
    },
    {
     "name": "stdout",
     "output_type": "stream",
     "text": [
      "\r",
      " [*******  32%           ] Elapsed 0.21s / Remaining 00:00:00:00"
     ]
    },
    {
     "name": "stdout",
     "output_type": "stream",
     "text": [
      "\r",
      " [*******  32%           ] Elapsed 0.21s / Remaining 00:00:00:00"
     ]
    },
    {
     "name": "stdout",
     "output_type": "stream",
     "text": [
      "\r",
      " [*******  32%           ] Elapsed 0.21s / Remaining 00:00:00:00"
     ]
    },
    {
     "name": "stdout",
     "output_type": "stream",
     "text": [
      "\r",
      " [*******  32%           ] Elapsed 0.21s / Remaining 00:00:00:00"
     ]
    },
    {
     "name": "stdout",
     "output_type": "stream",
     "text": [
      "\r",
      " [*******  32%           ] Elapsed 0.21s / Remaining 00:00:00:00"
     ]
    },
    {
     "name": "stdout",
     "output_type": "stream",
     "text": [
      "\r",
      " [******** 33%           ] Elapsed 0.21s / Remaining 00:00:00:00"
     ]
    },
    {
     "name": "stdout",
     "output_type": "stream",
     "text": [
      "\r",
      " [******** 33%           ] Elapsed 0.21s / Remaining 00:00:00:00"
     ]
    },
    {
     "name": "stdout",
     "output_type": "stream",
     "text": [
      "\r",
      " [******** 33%           ] Elapsed 0.22s / Remaining 00:00:00:00"
     ]
    },
    {
     "name": "stdout",
     "output_type": "stream",
     "text": [
      "\r",
      " [******** 33%           ] Elapsed 0.22s / Remaining 00:00:00:00"
     ]
    },
    {
     "name": "stdout",
     "output_type": "stream",
     "text": [
      "\r",
      " [******** 33%           ] Elapsed 0.22s / Remaining 00:00:00:00"
     ]
    },
    {
     "name": "stdout",
     "output_type": "stream",
     "text": [
      "\r",
      " [******** 33%           ] Elapsed 0.22s / Remaining 00:00:00:00"
     ]
    },
    {
     "name": "stdout",
     "output_type": "stream",
     "text": [
      "\r",
      " [******** 34%           ] Elapsed 0.22s / Remaining 00:00:00:00"
     ]
    },
    {
     "name": "stdout",
     "output_type": "stream",
     "text": [
      "\r",
      " [******** 34%           ] Elapsed 0.22s / Remaining 00:00:00:00"
     ]
    },
    {
     "name": "stdout",
     "output_type": "stream",
     "text": [
      "\r",
      " [******** 34%           ] Elapsed 0.22s / Remaining 00:00:00:00"
     ]
    },
    {
     "name": "stdout",
     "output_type": "stream",
     "text": [
      "\r",
      " [******** 34%           ] Elapsed 0.22s / Remaining 00:00:00:00"
     ]
    },
    {
     "name": "stdout",
     "output_type": "stream",
     "text": [
      "\r",
      " [******** 34%           ] Elapsed 0.22s / Remaining 00:00:00:00"
     ]
    },
    {
     "name": "stdout",
     "output_type": "stream",
     "text": [
      "\r",
      " [******** 34%           ] Elapsed 0.23s / Remaining 00:00:00:00"
     ]
    },
    {
     "name": "stdout",
     "output_type": "stream",
     "text": [
      "\r",
      " [******** 35%           ] Elapsed 0.23s / Remaining 00:00:00:00"
     ]
    },
    {
     "name": "stdout",
     "output_type": "stream",
     "text": [
      "\r",
      " [******** 35%           ] Elapsed 0.23s / Remaining 00:00:00:00"
     ]
    },
    {
     "name": "stdout",
     "output_type": "stream",
     "text": [
      "\r",
      " [******** 35%           ] Elapsed 0.23s / Remaining 00:00:00:00"
     ]
    },
    {
     "name": "stdout",
     "output_type": "stream",
     "text": [
      "\r",
      " [******** 35%           ] Elapsed 0.23s / Remaining 00:00:00:00"
     ]
    },
    {
     "name": "stdout",
     "output_type": "stream",
     "text": [
      "\r",
      " [******** 35%           ] Elapsed 0.23s / Remaining 00:00:00:00"
     ]
    },
    {
     "name": "stdout",
     "output_type": "stream",
     "text": [
      "\r",
      " [******** 35%           ] Elapsed 0.23s / Remaining 00:00:00:00"
     ]
    },
    {
     "name": "stdout",
     "output_type": "stream",
     "text": [
      "\r",
      " [******** 36%           ] Elapsed 0.23s / Remaining 00:00:00:00"
     ]
    },
    {
     "name": "stdout",
     "output_type": "stream",
     "text": [
      "\r",
      " [******** 36%           ] Elapsed 0.24s / Remaining 00:00:00:00"
     ]
    },
    {
     "name": "stdout",
     "output_type": "stream",
     "text": [
      "\r",
      " [******** 36%           ] Elapsed 0.24s / Remaining 00:00:00:00"
     ]
    },
    {
     "name": "stdout",
     "output_type": "stream",
     "text": [
      "\r",
      " [******** 36%           ] Elapsed 0.24s / Remaining 00:00:00:00"
     ]
    },
    {
     "name": "stdout",
     "output_type": "stream",
     "text": [
      "\r",
      " [******** 36%           ] Elapsed 0.24s / Remaining 00:00:00:00"
     ]
    },
    {
     "name": "stdout",
     "output_type": "stream",
     "text": [
      "\r",
      " [******** 36%           ] Elapsed 0.24s / Remaining 00:00:00:00"
     ]
    },
    {
     "name": "stdout",
     "output_type": "stream",
     "text": [
      "\r",
      " [*********37%           ] Elapsed 0.24s / Remaining 00:00:00:00"
     ]
    },
    {
     "name": "stdout",
     "output_type": "stream",
     "text": [
      "\r",
      " [*********37%           ] Elapsed 0.24s / Remaining 00:00:00:00"
     ]
    },
    {
     "name": "stdout",
     "output_type": "stream",
     "text": [
      "\r",
      " [*********37%           ] Elapsed 0.24s / Remaining 00:00:00:00"
     ]
    },
    {
     "name": "stdout",
     "output_type": "stream",
     "text": [
      "\r",
      " [*********37%           ] Elapsed 0.24s / Remaining 00:00:00:00"
     ]
    },
    {
     "name": "stdout",
     "output_type": "stream",
     "text": [
      "\r",
      " [*********37%           ] Elapsed 0.24s / Remaining 00:00:00:00"
     ]
    },
    {
     "name": "stdout",
     "output_type": "stream",
     "text": [
      "\r",
      " [*********37%           ] Elapsed 0.25s / Remaining 00:00:00:00"
     ]
    },
    {
     "name": "stdout",
     "output_type": "stream",
     "text": [
      "\r",
      " [*********38%           ] Elapsed 0.25s / Remaining 00:00:00:00"
     ]
    },
    {
     "name": "stdout",
     "output_type": "stream",
     "text": [
      "\r",
      " [*********38%           ] Elapsed 0.25s / Remaining 00:00:00:00"
     ]
    },
    {
     "name": "stdout",
     "output_type": "stream",
     "text": [
      "\r",
      " [*********38%           ] Elapsed 0.25s / Remaining 00:00:00:00"
     ]
    },
    {
     "name": "stdout",
     "output_type": "stream",
     "text": [
      "\r",
      " [*********38%           ] Elapsed 0.25s / Remaining 00:00:00:00"
     ]
    },
    {
     "name": "stdout",
     "output_type": "stream",
     "text": [
      "\r",
      " [*********38%           ] Elapsed 0.25s / Remaining 00:00:00:00"
     ]
    },
    {
     "name": "stdout",
     "output_type": "stream",
     "text": [
      "\r",
      " [*********38%           ] Elapsed 0.25s / Remaining 00:00:00:00"
     ]
    },
    {
     "name": "stdout",
     "output_type": "stream",
     "text": [
      "\r",
      " [*********39%           ] Elapsed 0.25s / Remaining 00:00:00:00"
     ]
    },
    {
     "name": "stdout",
     "output_type": "stream",
     "text": [
      "\r",
      " [*********39%           ] Elapsed 0.25s / Remaining 00:00:00:00"
     ]
    },
    {
     "name": "stdout",
     "output_type": "stream",
     "text": [
      "\r",
      " [*********39%           ] Elapsed 0.26s / Remaining 00:00:00:00"
     ]
    },
    {
     "name": "stdout",
     "output_type": "stream",
     "text": [
      "\r",
      " [*********39%           ] Elapsed 0.26s / Remaining 00:00:00:00"
     ]
    },
    {
     "name": "stdout",
     "output_type": "stream",
     "text": [
      "\r",
      " [*********39%           ] Elapsed 0.26s / Remaining 00:00:00:00"
     ]
    },
    {
     "name": "stdout",
     "output_type": "stream",
     "text": [
      "\r",
      " [*********39%           ] Elapsed 0.26s / Remaining 00:00:00:00"
     ]
    },
    {
     "name": "stdout",
     "output_type": "stream",
     "text": [
      "\r",
      " [*********40%           ] Elapsed 0.26s / Remaining 00:00:00:00"
     ]
    },
    {
     "name": "stdout",
     "output_type": "stream",
     "text": [
      "\r",
      " [*********40%           ] Elapsed 0.26s / Remaining 00:00:00:00"
     ]
    },
    {
     "name": "stdout",
     "output_type": "stream",
     "text": [
      "\r",
      " [*********40%           ] Elapsed 0.26s / Remaining 00:00:00:00"
     ]
    },
    {
     "name": "stdout",
     "output_type": "stream",
     "text": [
      "\r",
      " [*********40%           ] Elapsed 0.26s / Remaining 00:00:00:00"
     ]
    },
    {
     "name": "stdout",
     "output_type": "stream",
     "text": [
      "\r",
      " [*********40%           ] Elapsed 0.26s / Remaining 00:00:00:00"
     ]
    },
    {
     "name": "stdout",
     "output_type": "stream",
     "text": [
      "\r",
      " [*********40%           ] Elapsed 0.27s / Remaining 00:00:00:00"
     ]
    },
    {
     "name": "stdout",
     "output_type": "stream",
     "text": [
      "\r",
      " [*********41%           ] Elapsed 0.27s / Remaining 00:00:00:00"
     ]
    },
    {
     "name": "stdout",
     "output_type": "stream",
     "text": [
      "\r",
      " [*********41%           ] Elapsed 0.27s / Remaining 00:00:00:00"
     ]
    },
    {
     "name": "stdout",
     "output_type": "stream",
     "text": [
      "\r",
      " [*********41%           ] Elapsed 0.27s / Remaining 00:00:00:00"
     ]
    },
    {
     "name": "stdout",
     "output_type": "stream",
     "text": [
      "\r",
      " [*********41%           ] Elapsed 0.27s / Remaining 00:00:00:00"
     ]
    },
    {
     "name": "stdout",
     "output_type": "stream",
     "text": [
      "\r",
      " [*********41%           ] Elapsed 0.27s / Remaining 00:00:00:00"
     ]
    },
    {
     "name": "stdout",
     "output_type": "stream",
     "text": [
      "\r",
      " [*********41%           ] Elapsed 0.27s / Remaining 00:00:00:00"
     ]
    },
    {
     "name": "stdout",
     "output_type": "stream",
     "text": [
      "\r",
      " [*********42%           ] Elapsed 0.27s / Remaining 00:00:00:00"
     ]
    },
    {
     "name": "stdout",
     "output_type": "stream",
     "text": [
      "\r",
      " [*********42%           ] Elapsed 0.27s / Remaining 00:00:00:00"
     ]
    },
    {
     "name": "stdout",
     "output_type": "stream",
     "text": [
      "\r",
      " [*********42%           ] Elapsed 0.28s / Remaining 00:00:00:00"
     ]
    },
    {
     "name": "stdout",
     "output_type": "stream",
     "text": [
      "\r",
      " [*********42%           ] Elapsed 0.28s / Remaining 00:00:00:00"
     ]
    },
    {
     "name": "stdout",
     "output_type": "stream",
     "text": [
      "\r",
      " [*********42%           ] Elapsed 0.28s / Remaining 00:00:00:00"
     ]
    },
    {
     "name": "stdout",
     "output_type": "stream",
     "text": [
      "\r",
      " [*********42%           ] Elapsed 0.28s / Remaining 00:00:00:00"
     ]
    },
    {
     "name": "stdout",
     "output_type": "stream",
     "text": [
      "\r",
      " [*********43%           ] Elapsed 0.28s / Remaining 00:00:00:00"
     ]
    },
    {
     "name": "stdout",
     "output_type": "stream",
     "text": [
      "\r",
      " [*********43%           ] Elapsed 0.28s / Remaining 00:00:00:00"
     ]
    },
    {
     "name": "stdout",
     "output_type": "stream",
     "text": [
      "\r",
      " [*********43%           ] Elapsed 0.28s / Remaining 00:00:00:00"
     ]
    },
    {
     "name": "stdout",
     "output_type": "stream",
     "text": [
      "\r",
      " [*********43%           ] Elapsed 0.28s / Remaining 00:00:00:00"
     ]
    },
    {
     "name": "stdout",
     "output_type": "stream",
     "text": [
      "\r",
      " [*********43%           ] Elapsed 0.28s / Remaining 00:00:00:00"
     ]
    },
    {
     "name": "stdout",
     "output_type": "stream",
     "text": [
      "\r",
      " [*********43%           ] Elapsed 0.29s / Remaining 00:00:00:00"
     ]
    },
    {
     "name": "stdout",
     "output_type": "stream",
     "text": [
      "\r",
      " [*********44%           ] Elapsed 0.29s / Remaining 00:00:00:00"
     ]
    },
    {
     "name": "stdout",
     "output_type": "stream",
     "text": [
      "\r",
      " [*********44%           ] Elapsed 0.29s / Remaining 00:00:00:00"
     ]
    },
    {
     "name": "stdout",
     "output_type": "stream",
     "text": [
      "\r",
      " [*********44%           ] Elapsed 0.29s / Remaining 00:00:00:00"
     ]
    },
    {
     "name": "stdout",
     "output_type": "stream",
     "text": [
      "\r",
      " [*********44%           ] Elapsed 0.29s / Remaining 00:00:00:00"
     ]
    },
    {
     "name": "stdout",
     "output_type": "stream",
     "text": [
      "\r",
      " [*********44%           ] Elapsed 0.29s / Remaining 00:00:00:00"
     ]
    },
    {
     "name": "stdout",
     "output_type": "stream",
     "text": [
      "\r",
      " [*********44%           ] Elapsed 0.29s / Remaining 00:00:00:00"
     ]
    },
    {
     "name": "stdout",
     "output_type": "stream",
     "text": [
      "\r",
      " [*********45%           ] Elapsed 0.30s / Remaining 00:00:00:00"
     ]
    },
    {
     "name": "stdout",
     "output_type": "stream",
     "text": [
      "\r",
      " [*********45%           ] Elapsed 0.30s / Remaining 00:00:00:00"
     ]
    },
    {
     "name": "stdout",
     "output_type": "stream",
     "text": [
      "\r",
      " [*********45%           ] Elapsed 0.30s / Remaining 00:00:00:00"
     ]
    },
    {
     "name": "stdout",
     "output_type": "stream",
     "text": [
      "\r",
      " [*********45%           ] Elapsed 0.30s / Remaining 00:00:00:00"
     ]
    },
    {
     "name": "stdout",
     "output_type": "stream",
     "text": [
      "\r",
      " [*********45%           ] Elapsed 0.30s / Remaining 00:00:00:00"
     ]
    },
    {
     "name": "stdout",
     "output_type": "stream",
     "text": [
      "\r",
      " [*********45%           ] Elapsed 0.30s / Remaining 00:00:00:00"
     ]
    },
    {
     "name": "stdout",
     "output_type": "stream",
     "text": [
      "\r",
      " [*********46%           ] Elapsed 0.30s / Remaining 00:00:00:00"
     ]
    },
    {
     "name": "stdout",
     "output_type": "stream",
     "text": [
      "\r",
      " [*********46%           ] Elapsed 0.31s / Remaining 00:00:00:00"
     ]
    },
    {
     "name": "stdout",
     "output_type": "stream",
     "text": [
      "\r",
      " [*********46%           ] Elapsed 0.31s / Remaining 00:00:00:00"
     ]
    },
    {
     "name": "stdout",
     "output_type": "stream",
     "text": [
      "\r",
      " [*********46%           ] Elapsed 0.31s / Remaining 00:00:00:00"
     ]
    },
    {
     "name": "stdout",
     "output_type": "stream",
     "text": [
      "\r",
      " [*********46%           ] Elapsed 0.31s / Remaining 00:00:00:00"
     ]
    },
    {
     "name": "stdout",
     "output_type": "stream",
     "text": [
      "\r",
      " [*********46%           ] Elapsed 0.31s / Remaining 00:00:00:00"
     ]
    },
    {
     "name": "stdout",
     "output_type": "stream",
     "text": [
      "\r",
      " [*********47%           ] Elapsed 0.31s / Remaining 00:00:00:00"
     ]
    },
    {
     "name": "stdout",
     "output_type": "stream",
     "text": [
      "\r",
      " [*********47%           ] Elapsed 0.31s / Remaining 00:00:00:00"
     ]
    },
    {
     "name": "stdout",
     "output_type": "stream",
     "text": [
      "\r",
      " [*********47%           ] Elapsed 0.31s / Remaining 00:00:00:00"
     ]
    },
    {
     "name": "stdout",
     "output_type": "stream",
     "text": [
      "\r",
      " [*********47%           ] Elapsed 0.31s / Remaining 00:00:00:00"
     ]
    },
    {
     "name": "stdout",
     "output_type": "stream",
     "text": [
      "\r",
      " [*********47%           ] Elapsed 0.32s / Remaining 00:00:00:00"
     ]
    },
    {
     "name": "stdout",
     "output_type": "stream",
     "text": [
      "\r",
      " [*********47%           ] Elapsed 0.32s / Remaining 00:00:00:00"
     ]
    },
    {
     "name": "stdout",
     "output_type": "stream",
     "text": [
      "\r",
      " [*********48%           ] Elapsed 0.32s / Remaining 00:00:00:00"
     ]
    },
    {
     "name": "stdout",
     "output_type": "stream",
     "text": [
      "\r",
      " [*********48%           ] Elapsed 0.32s / Remaining 00:00:00:00"
     ]
    },
    {
     "name": "stdout",
     "output_type": "stream",
     "text": [
      "\r",
      " [*********48%           ] Elapsed 0.32s / Remaining 00:00:00:00"
     ]
    },
    {
     "name": "stdout",
     "output_type": "stream",
     "text": [
      "\r",
      " [*********48%           ] Elapsed 0.32s / Remaining 00:00:00:00"
     ]
    },
    {
     "name": "stdout",
     "output_type": "stream",
     "text": [
      "\r",
      " [*********48%           ] Elapsed 0.32s / Remaining 00:00:00:00"
     ]
    },
    {
     "name": "stdout",
     "output_type": "stream",
     "text": [
      "\r",
      " [*********48%           ] Elapsed 0.32s / Remaining 00:00:00:00"
     ]
    },
    {
     "name": "stdout",
     "output_type": "stream",
     "text": [
      "\r",
      " [*********49%           ] Elapsed 0.32s / Remaining 00:00:00:00"
     ]
    },
    {
     "name": "stdout",
     "output_type": "stream",
     "text": [
      "\r",
      " [*********49%           ] Elapsed 0.33s / Remaining 00:00:00:00"
     ]
    },
    {
     "name": "stdout",
     "output_type": "stream",
     "text": [
      "\r",
      " [*********49%           ] Elapsed 0.33s / Remaining 00:00:00:00"
     ]
    },
    {
     "name": "stdout",
     "output_type": "stream",
     "text": [
      "\r",
      " [*********49%           ] Elapsed 0.33s / Remaining 00:00:00:00"
     ]
    },
    {
     "name": "stdout",
     "output_type": "stream",
     "text": [
      "\r",
      " [*********49%           ] Elapsed 0.33s / Remaining 00:00:00:00"
     ]
    },
    {
     "name": "stdout",
     "output_type": "stream",
     "text": [
      "\r",
      " [*********49%           ] Elapsed 0.33s / Remaining 00:00:00:00"
     ]
    },
    {
     "name": "stdout",
     "output_type": "stream",
     "text": [
      "\r",
      " [*********50%           ] Elapsed 0.33s / Remaining 00:00:00:00"
     ]
    },
    {
     "name": "stdout",
     "output_type": "stream",
     "text": [
      "\r",
      " [*********50%           ] Elapsed 0.33s / Remaining 00:00:00:00"
     ]
    },
    {
     "name": "stdout",
     "output_type": "stream",
     "text": [
      "\r",
      " [*********50%           ] Elapsed 0.33s / Remaining 00:00:00:00"
     ]
    },
    {
     "name": "stdout",
     "output_type": "stream",
     "text": [
      "\r",
      " [*********50%           ] Elapsed 0.33s / Remaining 00:00:00:00"
     ]
    },
    {
     "name": "stdout",
     "output_type": "stream",
     "text": [
      "\r",
      " [*********50%           ] Elapsed 0.34s / Remaining 00:00:00:00"
     ]
    },
    {
     "name": "stdout",
     "output_type": "stream",
     "text": [
      "\r",
      " [*********50%           ] Elapsed 0.34s / Remaining 00:00:00:00"
     ]
    },
    {
     "name": "stdout",
     "output_type": "stream",
     "text": [
      "\r",
      " [*********51%           ] Elapsed 0.34s / Remaining 00:00:00:00"
     ]
    },
    {
     "name": "stdout",
     "output_type": "stream",
     "text": [
      "\r",
      " [*********51%           ] Elapsed 0.34s / Remaining 00:00:00:00"
     ]
    },
    {
     "name": "stdout",
     "output_type": "stream",
     "text": [
      "\r",
      " [*********51%           ] Elapsed 0.34s / Remaining 00:00:00:00"
     ]
    },
    {
     "name": "stdout",
     "output_type": "stream",
     "text": [
      "\r",
      " [*********51%           ] Elapsed 0.34s / Remaining 00:00:00:00"
     ]
    },
    {
     "name": "stdout",
     "output_type": "stream",
     "text": [
      "\r",
      " [*********51%           ] Elapsed 0.34s / Remaining 00:00:00:00"
     ]
    },
    {
     "name": "stdout",
     "output_type": "stream",
     "text": [
      "\r",
      " [*********51%           ] Elapsed 0.34s / Remaining 00:00:00:00"
     ]
    },
    {
     "name": "stdout",
     "output_type": "stream",
     "text": [
      "\r",
      " [*********52%           ] Elapsed 0.34s / Remaining 00:00:00:00"
     ]
    },
    {
     "name": "stdout",
     "output_type": "stream",
     "text": [
      "\r",
      " [*********52%           ] Elapsed 0.35s / Remaining 00:00:00:00"
     ]
    },
    {
     "name": "stdout",
     "output_type": "stream",
     "text": [
      "\r",
      " [*********52%           ] Elapsed 0.35s / Remaining 00:00:00:00"
     ]
    },
    {
     "name": "stdout",
     "output_type": "stream",
     "text": [
      "\r",
      " [*********52%           ] Elapsed 0.35s / Remaining 00:00:00:00"
     ]
    },
    {
     "name": "stdout",
     "output_type": "stream",
     "text": [
      "\r",
      " [*********52%           ] Elapsed 0.35s / Remaining 00:00:00:00"
     ]
    },
    {
     "name": "stdout",
     "output_type": "stream",
     "text": [
      "\r",
      " [*********52%           ] Elapsed 0.35s / Remaining 00:00:00:00"
     ]
    },
    {
     "name": "stdout",
     "output_type": "stream",
     "text": [
      "\r",
      " [*********53%           ] Elapsed 0.35s / Remaining 00:00:00:00"
     ]
    },
    {
     "name": "stdout",
     "output_type": "stream",
     "text": [
      "\r",
      " [*********53%           ] Elapsed 0.35s / Remaining 00:00:00:00"
     ]
    },
    {
     "name": "stdout",
     "output_type": "stream",
     "text": [
      "\r",
      " [*********53%           ] Elapsed 0.35s / Remaining 00:00:00:00"
     ]
    },
    {
     "name": "stdout",
     "output_type": "stream",
     "text": [
      "\r",
      " [*********53%           ] Elapsed 0.35s / Remaining 00:00:00:00"
     ]
    },
    {
     "name": "stdout",
     "output_type": "stream",
     "text": [
      "\r",
      " [*********53%           ] Elapsed 0.36s / Remaining 00:00:00:00"
     ]
    },
    {
     "name": "stdout",
     "output_type": "stream",
     "text": [
      "\r",
      " [*********53%           ] Elapsed 0.36s / Remaining 00:00:00:00"
     ]
    },
    {
     "name": "stdout",
     "output_type": "stream",
     "text": [
      "\r",
      " [*********54%           ] Elapsed 0.36s / Remaining 00:00:00:00"
     ]
    },
    {
     "name": "stdout",
     "output_type": "stream",
     "text": [
      "\r",
      " [*********54%           ] Elapsed 0.36s / Remaining 00:00:00:00"
     ]
    },
    {
     "name": "stdout",
     "output_type": "stream",
     "text": [
      "\r",
      " [*********54%           ] Elapsed 0.36s / Remaining 00:00:00:00"
     ]
    },
    {
     "name": "stdout",
     "output_type": "stream",
     "text": [
      "\r",
      " [*********54%           ] Elapsed 0.36s / Remaining 00:00:00:00"
     ]
    },
    {
     "name": "stdout",
     "output_type": "stream",
     "text": [
      "\r",
      " [*********54%           ] Elapsed 0.36s / Remaining 00:00:00:00"
     ]
    },
    {
     "name": "stdout",
     "output_type": "stream",
     "text": [
      "\r",
      " [*********54%           ] Elapsed 0.36s / Remaining 00:00:00:00"
     ]
    },
    {
     "name": "stdout",
     "output_type": "stream",
     "text": [
      "\r",
      " [*********55%*          ] Elapsed 0.36s / Remaining 00:00:00:00"
     ]
    },
    {
     "name": "stdout",
     "output_type": "stream",
     "text": [
      "\r",
      " [*********55%*          ] Elapsed 0.37s / Remaining 00:00:00:00"
     ]
    },
    {
     "name": "stdout",
     "output_type": "stream",
     "text": [
      "\r",
      " [*********55%*          ] Elapsed 0.37s / Remaining 00:00:00:00"
     ]
    },
    {
     "name": "stdout",
     "output_type": "stream",
     "text": [
      "\r",
      " [*********55%*          ] Elapsed 0.37s / Remaining 00:00:00:00"
     ]
    },
    {
     "name": "stdout",
     "output_type": "stream",
     "text": [
      "\r",
      " [*********55%*          ] Elapsed 0.37s / Remaining 00:00:00:00"
     ]
    },
    {
     "name": "stdout",
     "output_type": "stream",
     "text": [
      "\r",
      " [*********55%*          ] Elapsed 0.37s / Remaining 00:00:00:00"
     ]
    },
    {
     "name": "stdout",
     "output_type": "stream",
     "text": [
      "\r",
      " [*********56%*          ] Elapsed 0.37s / Remaining 00:00:00:00"
     ]
    },
    {
     "name": "stdout",
     "output_type": "stream",
     "text": [
      "\r",
      " [*********56%*          ] Elapsed 0.37s / Remaining 00:00:00:00"
     ]
    },
    {
     "name": "stdout",
     "output_type": "stream",
     "text": [
      "\r",
      " [*********56%*          ] Elapsed 0.37s / Remaining 00:00:00:00"
     ]
    },
    {
     "name": "stdout",
     "output_type": "stream",
     "text": [
      "\r",
      " [*********56%*          ] Elapsed 0.37s / Remaining 00:00:00:00"
     ]
    },
    {
     "name": "stdout",
     "output_type": "stream",
     "text": [
      "\r",
      " [*********56%*          ] Elapsed 0.37s / Remaining 00:00:00:00"
     ]
    },
    {
     "name": "stdout",
     "output_type": "stream",
     "text": [
      "\r",
      " [*********56%*          ] Elapsed 0.38s / Remaining 00:00:00:00"
     ]
    },
    {
     "name": "stdout",
     "output_type": "stream",
     "text": [
      "\r",
      " [*********57%*          ] Elapsed 0.38s / Remaining 00:00:00:00"
     ]
    },
    {
     "name": "stdout",
     "output_type": "stream",
     "text": [
      "\r",
      " [*********57%*          ] Elapsed 0.38s / Remaining 00:00:00:00"
     ]
    },
    {
     "name": "stdout",
     "output_type": "stream",
     "text": [
      "\r",
      " [*********57%*          ] Elapsed 0.38s / Remaining 00:00:00:00"
     ]
    },
    {
     "name": "stdout",
     "output_type": "stream",
     "text": [
      "\r",
      " [*********57%*          ] Elapsed 0.38s / Remaining 00:00:00:00"
     ]
    },
    {
     "name": "stdout",
     "output_type": "stream",
     "text": [
      "\r",
      " [*********57%*          ] Elapsed 0.38s / Remaining 00:00:00:00"
     ]
    },
    {
     "name": "stdout",
     "output_type": "stream",
     "text": [
      "\r",
      " [*********57%*          ] Elapsed 0.38s / Remaining 00:00:00:00"
     ]
    },
    {
     "name": "stdout",
     "output_type": "stream",
     "text": [
      "\r",
      " [*********58%*          ] Elapsed 0.38s / Remaining 00:00:00:00"
     ]
    },
    {
     "name": "stdout",
     "output_type": "stream",
     "text": [
      "\r",
      " [*********58%*          ] Elapsed 0.38s / Remaining 00:00:00:00"
     ]
    },
    {
     "name": "stdout",
     "output_type": "stream",
     "text": [
      "\r",
      " [*********58%*          ] Elapsed 0.39s / Remaining 00:00:00:00"
     ]
    },
    {
     "name": "stdout",
     "output_type": "stream",
     "text": [
      "\r",
      " [*********58%*          ] Elapsed 0.39s / Remaining 00:00:00:00"
     ]
    },
    {
     "name": "stdout",
     "output_type": "stream",
     "text": [
      "\r",
      " [*********58%*          ] Elapsed 0.39s / Remaining 00:00:00:00"
     ]
    },
    {
     "name": "stdout",
     "output_type": "stream",
     "text": [
      "\r",
      " [*********58%*          ] Elapsed 0.39s / Remaining 00:00:00:00"
     ]
    },
    {
     "name": "stdout",
     "output_type": "stream",
     "text": [
      "\r",
      " [*********59%**         ] Elapsed 0.39s / Remaining 00:00:00:00"
     ]
    },
    {
     "name": "stdout",
     "output_type": "stream",
     "text": [
      "\r",
      " [*********59%**         ] Elapsed 0.39s / Remaining 00:00:00:00"
     ]
    },
    {
     "name": "stdout",
     "output_type": "stream",
     "text": [
      "\r",
      " [*********59%**         ] Elapsed 0.39s / Remaining 00:00:00:00"
     ]
    },
    {
     "name": "stdout",
     "output_type": "stream",
     "text": [
      "\r",
      " [*********59%**         ] Elapsed 0.39s / Remaining 00:00:00:00"
     ]
    },
    {
     "name": "stdout",
     "output_type": "stream",
     "text": [
      "\r",
      " [*********59%**         ] Elapsed 0.39s / Remaining 00:00:00:00"
     ]
    },
    {
     "name": "stdout",
     "output_type": "stream",
     "text": [
      "\r",
      " [*********59%**         ] Elapsed 0.39s / Remaining 00:00:00:00"
     ]
    },
    {
     "name": "stdout",
     "output_type": "stream",
     "text": [
      "\r",
      " [*********60%**         ] Elapsed 0.39s / Remaining 00:00:00:00"
     ]
    },
    {
     "name": "stdout",
     "output_type": "stream",
     "text": [
      "\r",
      " [*********60%**         ] Elapsed 0.40s / Remaining 00:00:00:00"
     ]
    },
    {
     "name": "stdout",
     "output_type": "stream",
     "text": [
      "\r",
      " [*********60%**         ] Elapsed 0.40s / Remaining 00:00:00:00"
     ]
    },
    {
     "name": "stdout",
     "output_type": "stream",
     "text": [
      "\r",
      " [*********60%**         ] Elapsed 0.40s / Remaining 00:00:00:00"
     ]
    },
    {
     "name": "stdout",
     "output_type": "stream",
     "text": [
      "\r",
      " [*********60%**         ] Elapsed 0.40s / Remaining 00:00:00:00"
     ]
    },
    {
     "name": "stdout",
     "output_type": "stream",
     "text": [
      "\r",
      " [*********60%**         ] Elapsed 0.40s / Remaining 00:00:00:00"
     ]
    },
    {
     "name": "stdout",
     "output_type": "stream",
     "text": [
      "\r",
      " [*********61%**         ] Elapsed 0.40s / Remaining 00:00:00:00"
     ]
    },
    {
     "name": "stdout",
     "output_type": "stream",
     "text": [
      "\r",
      " [*********61%**         ] Elapsed 0.40s / Remaining 00:00:00:00"
     ]
    },
    {
     "name": "stdout",
     "output_type": "stream",
     "text": [
      "\r",
      " [*********61%**         ] Elapsed 0.40s / Remaining 00:00:00:00"
     ]
    },
    {
     "name": "stdout",
     "output_type": "stream",
     "text": [
      "\r",
      " [*********61%**         ] Elapsed 0.40s / Remaining 00:00:00:00"
     ]
    },
    {
     "name": "stdout",
     "output_type": "stream",
     "text": [
      "\r",
      " [*********61%**         ] Elapsed 0.40s / Remaining 00:00:00:00"
     ]
    },
    {
     "name": "stdout",
     "output_type": "stream",
     "text": [
      "\r",
      " [*********61%**         ] Elapsed 0.40s / Remaining 00:00:00:00"
     ]
    },
    {
     "name": "stdout",
     "output_type": "stream",
     "text": [
      "\r",
      " [*********62%**         ] Elapsed 0.41s / Remaining 00:00:00:00"
     ]
    },
    {
     "name": "stdout",
     "output_type": "stream",
     "text": [
      "\r",
      " [*********62%**         ] Elapsed 0.41s / Remaining 00:00:00:00"
     ]
    },
    {
     "name": "stdout",
     "output_type": "stream",
     "text": [
      "\r",
      " [*********62%**         ] Elapsed 0.41s / Remaining 00:00:00:00"
     ]
    },
    {
     "name": "stdout",
     "output_type": "stream",
     "text": [
      "\r",
      " [*********62%**         ] Elapsed 0.41s / Remaining 00:00:00:00"
     ]
    },
    {
     "name": "stdout",
     "output_type": "stream",
     "text": [
      "\r",
      " [*********62%**         ] Elapsed 0.41s / Remaining 00:00:00:00"
     ]
    },
    {
     "name": "stdout",
     "output_type": "stream",
     "text": [
      "\r",
      " [*********62%**         ] Elapsed 0.41s / Remaining 00:00:00:00"
     ]
    },
    {
     "name": "stdout",
     "output_type": "stream",
     "text": [
      "\r",
      " [*********63%**         ] Elapsed 0.41s / Remaining 00:00:00:00"
     ]
    },
    {
     "name": "stdout",
     "output_type": "stream",
     "text": [
      "\r",
      " [*********63%**         ] Elapsed 0.41s / Remaining 00:00:00:00"
     ]
    },
    {
     "name": "stdout",
     "output_type": "stream",
     "text": [
      "\r",
      " [*********63%**         ] Elapsed 0.41s / Remaining 00:00:00:00"
     ]
    },
    {
     "name": "stdout",
     "output_type": "stream",
     "text": [
      "\r",
      " [*********63%**         ] Elapsed 0.41s / Remaining 00:00:00:00"
     ]
    },
    {
     "name": "stdout",
     "output_type": "stream",
     "text": [
      "\r",
      " [*********63%**         ] Elapsed 0.41s / Remaining 00:00:00:00"
     ]
    },
    {
     "name": "stdout",
     "output_type": "stream",
     "text": [
      "\r",
      " [*********63%**         ] Elapsed 0.42s / Remaining 00:00:00:00"
     ]
    },
    {
     "name": "stdout",
     "output_type": "stream",
     "text": [
      "\r",
      " [*********64%***        ] Elapsed 0.42s / Remaining 00:00:00:00"
     ]
    },
    {
     "name": "stdout",
     "output_type": "stream",
     "text": [
      "\r",
      " [*********64%***        ] Elapsed 0.42s / Remaining 00:00:00:00"
     ]
    },
    {
     "name": "stdout",
     "output_type": "stream",
     "text": [
      "\r",
      " [*********64%***        ] Elapsed 0.42s / Remaining 00:00:00:00"
     ]
    },
    {
     "name": "stdout",
     "output_type": "stream",
     "text": [
      "\r",
      " [*********64%***        ] Elapsed 0.42s / Remaining 00:00:00:00"
     ]
    },
    {
     "name": "stdout",
     "output_type": "stream",
     "text": [
      "\r",
      " [*********64%***        ] Elapsed 0.42s / Remaining 00:00:00:00"
     ]
    },
    {
     "name": "stdout",
     "output_type": "stream",
     "text": [
      "\r",
      " [*********64%***        ] Elapsed 0.42s / Remaining 00:00:00:00"
     ]
    },
    {
     "name": "stdout",
     "output_type": "stream",
     "text": [
      "\r",
      " [*********65%***        ] Elapsed 0.42s / Remaining 00:00:00:00"
     ]
    },
    {
     "name": "stdout",
     "output_type": "stream",
     "text": [
      "\r",
      " [*********65%***        ] Elapsed 0.42s / Remaining 00:00:00:00"
     ]
    },
    {
     "name": "stdout",
     "output_type": "stream",
     "text": [
      "\r",
      " [*********65%***        ] Elapsed 0.42s / Remaining 00:00:00:00"
     ]
    },
    {
     "name": "stdout",
     "output_type": "stream",
     "text": [
      "\r",
      " [*********65%***        ] Elapsed 0.42s / Remaining 00:00:00:00"
     ]
    },
    {
     "name": "stdout",
     "output_type": "stream",
     "text": [
      "\r",
      " [*********65%***        ] Elapsed 0.43s / Remaining 00:00:00:00"
     ]
    },
    {
     "name": "stdout",
     "output_type": "stream",
     "text": [
      "\r",
      " [*********65%***        ] Elapsed 0.43s / Remaining 00:00:00:00"
     ]
    },
    {
     "name": "stdout",
     "output_type": "stream",
     "text": [
      "\r",
      " [*********66%***        ] Elapsed 0.43s / Remaining 00:00:00:00"
     ]
    },
    {
     "name": "stdout",
     "output_type": "stream",
     "text": [
      "\r",
      " [*********66%***        ] Elapsed 0.43s / Remaining 00:00:00:00"
     ]
    },
    {
     "name": "stdout",
     "output_type": "stream",
     "text": [
      "\r",
      " [*********66%***        ] Elapsed 0.43s / Remaining 00:00:00:00"
     ]
    },
    {
     "name": "stdout",
     "output_type": "stream",
     "text": [
      "\r",
      " [*********66%***        ] Elapsed 0.43s / Remaining 00:00:00:00"
     ]
    },
    {
     "name": "stdout",
     "output_type": "stream",
     "text": [
      "\r",
      " [*********66%***        ] Elapsed 0.43s / Remaining 00:00:00:00"
     ]
    },
    {
     "name": "stdout",
     "output_type": "stream",
     "text": [
      "\r",
      " [*********66%***        ] Elapsed 0.43s / Remaining 00:00:00:00"
     ]
    },
    {
     "name": "stdout",
     "output_type": "stream",
     "text": [
      "\r",
      " [*********67%***        ] Elapsed 0.44s / Remaining 00:00:00:00"
     ]
    },
    {
     "name": "stdout",
     "output_type": "stream",
     "text": [
      "\r",
      " [*********67%***        ] Elapsed 0.44s / Remaining 00:00:00:00"
     ]
    },
    {
     "name": "stdout",
     "output_type": "stream",
     "text": [
      "\r",
      " [*********67%***        ] Elapsed 0.44s / Remaining 00:00:00:00"
     ]
    },
    {
     "name": "stdout",
     "output_type": "stream",
     "text": [
      "\r",
      " [*********67%***        ] Elapsed 0.44s / Remaining 00:00:00:00"
     ]
    },
    {
     "name": "stdout",
     "output_type": "stream",
     "text": [
      "\r",
      " [*********67%***        ] Elapsed 0.44s / Remaining 00:00:00:00"
     ]
    },
    {
     "name": "stdout",
     "output_type": "stream",
     "text": [
      "\r",
      " [*********67%***        ] Elapsed 0.44s / Remaining 00:00:00:00"
     ]
    },
    {
     "name": "stdout",
     "output_type": "stream",
     "text": [
      "\r",
      " [*********68%****       ] Elapsed 0.44s / Remaining 00:00:00:00"
     ]
    },
    {
     "name": "stdout",
     "output_type": "stream",
     "text": [
      "\r",
      " [*********68%****       ] Elapsed 0.44s / Remaining 00:00:00:00"
     ]
    },
    {
     "name": "stdout",
     "output_type": "stream",
     "text": [
      "\r",
      " [*********68%****       ] Elapsed 0.44s / Remaining 00:00:00:00"
     ]
    },
    {
     "name": "stdout",
     "output_type": "stream",
     "text": [
      "\r",
      " [*********68%****       ] Elapsed 0.44s / Remaining 00:00:00:00"
     ]
    },
    {
     "name": "stdout",
     "output_type": "stream",
     "text": [
      "\r",
      " [*********68%****       ] Elapsed 0.45s / Remaining 00:00:00:00"
     ]
    },
    {
     "name": "stdout",
     "output_type": "stream",
     "text": [
      "\r",
      " [*********68%****       ] Elapsed 0.45s / Remaining 00:00:00:00"
     ]
    },
    {
     "name": "stdout",
     "output_type": "stream",
     "text": [
      "\r",
      " [*********69%****       ] Elapsed 0.45s / Remaining 00:00:00:00"
     ]
    },
    {
     "name": "stdout",
     "output_type": "stream",
     "text": [
      "\r",
      " [*********69%****       ] Elapsed 0.45s / Remaining 00:00:00:00"
     ]
    },
    {
     "name": "stdout",
     "output_type": "stream",
     "text": [
      "\r",
      " [*********69%****       ] Elapsed 0.45s / Remaining 00:00:00:00"
     ]
    },
    {
     "name": "stdout",
     "output_type": "stream",
     "text": [
      "\r",
      " [*********69%****       ] Elapsed 0.45s / Remaining 00:00:00:00"
     ]
    },
    {
     "name": "stdout",
     "output_type": "stream",
     "text": [
      "\r",
      " [*********69%****       ] Elapsed 0.45s / Remaining 00:00:00:00"
     ]
    },
    {
     "name": "stdout",
     "output_type": "stream",
     "text": [
      "\r",
      " [*********69%****       ] Elapsed 0.45s / Remaining 00:00:00:00"
     ]
    },
    {
     "name": "stdout",
     "output_type": "stream",
     "text": [
      "\r",
      " [*********70%****       ] Elapsed 0.45s / Remaining 00:00:00:00"
     ]
    },
    {
     "name": "stdout",
     "output_type": "stream",
     "text": [
      "\r",
      " [*********70%****       ] Elapsed 0.45s / Remaining 00:00:00:00"
     ]
    },
    {
     "name": "stdout",
     "output_type": "stream",
     "text": [
      "\r",
      " [*********70%****       ] Elapsed 0.45s / Remaining 00:00:00:00"
     ]
    },
    {
     "name": "stdout",
     "output_type": "stream",
     "text": [
      "\r",
      " [*********70%****       ] Elapsed 0.46s / Remaining 00:00:00:00"
     ]
    },
    {
     "name": "stdout",
     "output_type": "stream",
     "text": [
      "\r",
      " [*********70%****       ] Elapsed 0.46s / Remaining 00:00:00:00"
     ]
    },
    {
     "name": "stdout",
     "output_type": "stream",
     "text": [
      "\r",
      " [*********70%****       ] Elapsed 0.46s / Remaining 00:00:00:00"
     ]
    },
    {
     "name": "stdout",
     "output_type": "stream",
     "text": [
      "\r",
      " [*********71%****       ] Elapsed 0.46s / Remaining 00:00:00:00"
     ]
    },
    {
     "name": "stdout",
     "output_type": "stream",
     "text": [
      "\r",
      " [*********71%****       ] Elapsed 0.46s / Remaining 00:00:00:00"
     ]
    },
    {
     "name": "stdout",
     "output_type": "stream",
     "text": [
      "\r",
      " [*********71%****       ] Elapsed 0.46s / Remaining 00:00:00:00"
     ]
    },
    {
     "name": "stdout",
     "output_type": "stream",
     "text": [
      "\r",
      " [*********71%****       ] Elapsed 0.46s / Remaining 00:00:00:00"
     ]
    },
    {
     "name": "stdout",
     "output_type": "stream",
     "text": [
      "\r",
      " [*********71%****       ] Elapsed 0.46s / Remaining 00:00:00:00"
     ]
    },
    {
     "name": "stdout",
     "output_type": "stream",
     "text": [
      "\r",
      " [*********71%****       ] Elapsed 0.46s / Remaining 00:00:00:00"
     ]
    },
    {
     "name": "stdout",
     "output_type": "stream",
     "text": [
      "\r",
      " [*********72%*****      ] Elapsed 0.46s / Remaining 00:00:00:00"
     ]
    },
    {
     "name": "stdout",
     "output_type": "stream",
     "text": [
      "\r",
      " [*********72%*****      ] Elapsed 0.46s / Remaining 00:00:00:00"
     ]
    },
    {
     "name": "stdout",
     "output_type": "stream",
     "text": [
      "\r",
      " [*********72%*****      ] Elapsed 0.47s / Remaining 00:00:00:00"
     ]
    },
    {
     "name": "stdout",
     "output_type": "stream",
     "text": [
      "\r",
      " [*********72%*****      ] Elapsed 0.47s / Remaining 00:00:00:00"
     ]
    },
    {
     "name": "stdout",
     "output_type": "stream",
     "text": [
      "\r",
      " [*********72%*****      ] Elapsed 0.47s / Remaining 00:00:00:00"
     ]
    },
    {
     "name": "stdout",
     "output_type": "stream",
     "text": [
      "\r",
      " [*********72%*****      ] Elapsed 0.47s / Remaining 00:00:00:00"
     ]
    },
    {
     "name": "stdout",
     "output_type": "stream",
     "text": [
      "\r",
      " [*********73%*****      ] Elapsed 0.47s / Remaining 00:00:00:00"
     ]
    },
    {
     "name": "stdout",
     "output_type": "stream",
     "text": [
      "\r",
      " [*********73%*****      ] Elapsed 0.47s / Remaining 00:00:00:00"
     ]
    },
    {
     "name": "stdout",
     "output_type": "stream",
     "text": [
      "\r",
      " [*********73%*****      ] Elapsed 0.47s / Remaining 00:00:00:00"
     ]
    },
    {
     "name": "stdout",
     "output_type": "stream",
     "text": [
      "\r",
      " [*********73%*****      ] Elapsed 0.47s / Remaining 00:00:00:00"
     ]
    },
    {
     "name": "stdout",
     "output_type": "stream",
     "text": [
      "\r",
      " [*********73%*****      ] Elapsed 0.47s / Remaining 00:00:00:00"
     ]
    },
    {
     "name": "stdout",
     "output_type": "stream",
     "text": [
      "\r",
      " [*********73%*****      ] Elapsed 0.47s / Remaining 00:00:00:00"
     ]
    },
    {
     "name": "stdout",
     "output_type": "stream",
     "text": [
      "\r",
      " [*********74%*****      ] Elapsed 0.47s / Remaining 00:00:00:00"
     ]
    },
    {
     "name": "stdout",
     "output_type": "stream",
     "text": [
      "\r",
      " [*********74%*****      ] Elapsed 0.48s / Remaining 00:00:00:00"
     ]
    },
    {
     "name": "stdout",
     "output_type": "stream",
     "text": [
      "\r",
      " [*********74%*****      ] Elapsed 0.48s / Remaining 00:00:00:00"
     ]
    },
    {
     "name": "stdout",
     "output_type": "stream",
     "text": [
      "\r",
      " [*********74%*****      ] Elapsed 0.48s / Remaining 00:00:00:00"
     ]
    },
    {
     "name": "stdout",
     "output_type": "stream",
     "text": [
      "\r",
      " [*********74%*****      ] Elapsed 0.48s / Remaining 00:00:00:00"
     ]
    },
    {
     "name": "stdout",
     "output_type": "stream",
     "text": [
      "\r",
      " [*********74%*****      ] Elapsed 0.48s / Remaining 00:00:00:00"
     ]
    },
    {
     "name": "stdout",
     "output_type": "stream",
     "text": [
      "\r",
      " [*********75%*****      ] Elapsed 0.48s / Remaining 00:00:00:00"
     ]
    },
    {
     "name": "stdout",
     "output_type": "stream",
     "text": [
      "\r",
      " [*********75%*****      ] Elapsed 0.48s / Remaining 00:00:00:00"
     ]
    },
    {
     "name": "stdout",
     "output_type": "stream",
     "text": [
      "\r",
      " [*********75%*****      ] Elapsed 0.48s / Remaining 00:00:00:00"
     ]
    },
    {
     "name": "stdout",
     "output_type": "stream",
     "text": [
      "\r",
      " [*********75%*****      ] Elapsed 0.48s / Remaining 00:00:00:00"
     ]
    },
    {
     "name": "stdout",
     "output_type": "stream",
     "text": [
      "\r",
      " [*********75%*****      ] Elapsed 0.48s / Remaining 00:00:00:00"
     ]
    },
    {
     "name": "stdout",
     "output_type": "stream",
     "text": [
      "\r",
      " [*********75%*****      ] Elapsed 0.49s / Remaining 00:00:00:00"
     ]
    },
    {
     "name": "stdout",
     "output_type": "stream",
     "text": [
      "\r",
      " [*********76%*****      ] Elapsed 0.49s / Remaining 00:00:00:00"
     ]
    },
    {
     "name": "stdout",
     "output_type": "stream",
     "text": [
      "\r",
      " [*********76%*****      ] Elapsed 0.49s / Remaining 00:00:00:00"
     ]
    },
    {
     "name": "stdout",
     "output_type": "stream",
     "text": [
      "\r",
      " [*********76%*****      ] Elapsed 0.49s / Remaining 00:00:00:00"
     ]
    },
    {
     "name": "stdout",
     "output_type": "stream",
     "text": [
      "\r",
      " [*********76%*****      ] Elapsed 0.49s / Remaining 00:00:00:00"
     ]
    },
    {
     "name": "stdout",
     "output_type": "stream",
     "text": [
      "\r",
      " [*********76%*****      ] Elapsed 0.49s / Remaining 00:00:00:00"
     ]
    },
    {
     "name": "stdout",
     "output_type": "stream",
     "text": [
      "\r",
      " [*********76%*****      ] Elapsed 0.49s / Remaining 00:00:00:00"
     ]
    },
    {
     "name": "stdout",
     "output_type": "stream",
     "text": [
      "\r",
      " [*********77%******     ] Elapsed 0.49s / Remaining 00:00:00:00"
     ]
    },
    {
     "name": "stdout",
     "output_type": "stream",
     "text": [
      "\r",
      " [*********77%******     ] Elapsed 0.49s / Remaining 00:00:00:00"
     ]
    },
    {
     "name": "stdout",
     "output_type": "stream",
     "text": [
      "\r",
      " [*********77%******     ] Elapsed 0.50s / Remaining 00:00:00:00"
     ]
    },
    {
     "name": "stdout",
     "output_type": "stream",
     "text": [
      "\r",
      " [*********77%******     ] Elapsed 0.50s / Remaining 00:00:00:00"
     ]
    },
    {
     "name": "stdout",
     "output_type": "stream",
     "text": [
      "\r",
      " [*********77%******     ] Elapsed 0.50s / Remaining 00:00:00:00"
     ]
    },
    {
     "name": "stdout",
     "output_type": "stream",
     "text": [
      "\r",
      " [*********77%******     ] Elapsed 0.50s / Remaining 00:00:00:00"
     ]
    },
    {
     "name": "stdout",
     "output_type": "stream",
     "text": [
      "\r",
      " [*********78%******     ] Elapsed 0.50s / Remaining 00:00:00:00"
     ]
    },
    {
     "name": "stdout",
     "output_type": "stream",
     "text": [
      "\r",
      " [*********78%******     ] Elapsed 0.50s / Remaining 00:00:00:00"
     ]
    },
    {
     "name": "stdout",
     "output_type": "stream",
     "text": [
      "\r",
      " [*********78%******     ] Elapsed 0.50s / Remaining 00:00:00:00"
     ]
    },
    {
     "name": "stdout",
     "output_type": "stream",
     "text": [
      "\r",
      " [*********78%******     ] Elapsed 0.50s / Remaining 00:00:00:00"
     ]
    },
    {
     "name": "stdout",
     "output_type": "stream",
     "text": [
      "\r",
      " [*********78%******     ] Elapsed 0.50s / Remaining 00:00:00:00"
     ]
    },
    {
     "name": "stdout",
     "output_type": "stream",
     "text": [
      "\r",
      " [*********78%******     ] Elapsed 0.51s / Remaining 00:00:00:00"
     ]
    },
    {
     "name": "stdout",
     "output_type": "stream",
     "text": [
      "\r",
      " [*********79%******     ] Elapsed 0.51s / Remaining 00:00:00:00"
     ]
    },
    {
     "name": "stdout",
     "output_type": "stream",
     "text": [
      "\r",
      " [*********79%******     ] Elapsed 0.51s / Remaining 00:00:00:00"
     ]
    },
    {
     "name": "stdout",
     "output_type": "stream",
     "text": [
      "\r",
      " [*********79%******     ] Elapsed 0.51s / Remaining 00:00:00:00"
     ]
    },
    {
     "name": "stdout",
     "output_type": "stream",
     "text": [
      "\r",
      " [*********79%******     ] Elapsed 0.51s / Remaining 00:00:00:00"
     ]
    },
    {
     "name": "stdout",
     "output_type": "stream",
     "text": [
      "\r",
      " [*********79%******     ] Elapsed 0.51s / Remaining 00:00:00:00"
     ]
    },
    {
     "name": "stdout",
     "output_type": "stream",
     "text": [
      "\r",
      " [*********79%******     ] Elapsed 0.51s / Remaining 00:00:00:00"
     ]
    },
    {
     "name": "stdout",
     "output_type": "stream",
     "text": [
      "\r",
      " [*********80%******     ] Elapsed 0.51s / Remaining 00:00:00:00"
     ]
    },
    {
     "name": "stdout",
     "output_type": "stream",
     "text": [
      "\r",
      " [*********80%******     ] Elapsed 0.52s / Remaining 00:00:00:00"
     ]
    },
    {
     "name": "stdout",
     "output_type": "stream",
     "text": [
      "\r",
      " [*********80%******     ] Elapsed 0.52s / Remaining 00:00:00:00"
     ]
    },
    {
     "name": "stdout",
     "output_type": "stream",
     "text": [
      "\r",
      " [*********80%******     ] Elapsed 0.52s / Remaining 00:00:00:00"
     ]
    },
    {
     "name": "stdout",
     "output_type": "stream",
     "text": [
      "\r",
      " [*********80%******     ] Elapsed 0.52s / Remaining 00:00:00:00"
     ]
    },
    {
     "name": "stdout",
     "output_type": "stream",
     "text": [
      "\r",
      " [*********80%******     ] Elapsed 0.52s / Remaining 00:00:00:00"
     ]
    },
    {
     "name": "stdout",
     "output_type": "stream",
     "text": [
      "\r",
      " [*********81%*******    ] Elapsed 0.52s / Remaining 00:00:00:00"
     ]
    },
    {
     "name": "stdout",
     "output_type": "stream",
     "text": [
      "\r",
      " [*********81%*******    ] Elapsed 0.52s / Remaining 00:00:00:00"
     ]
    },
    {
     "name": "stdout",
     "output_type": "stream",
     "text": [
      "\r",
      " [*********81%*******    ] Elapsed 0.52s / Remaining 00:00:00:00"
     ]
    },
    {
     "name": "stdout",
     "output_type": "stream",
     "text": [
      "\r",
      " [*********81%*******    ] Elapsed 0.53s / Remaining 00:00:00:00"
     ]
    },
    {
     "name": "stdout",
     "output_type": "stream",
     "text": [
      "\r",
      " [*********81%*******    ] Elapsed 0.53s / Remaining 00:00:00:00"
     ]
    },
    {
     "name": "stdout",
     "output_type": "stream",
     "text": [
      "\r",
      " [*********81%*******    ] Elapsed 0.53s / Remaining 00:00:00:00"
     ]
    },
    {
     "name": "stdout",
     "output_type": "stream",
     "text": [
      "\r",
      " [*********82%*******    ] Elapsed 0.53s / Remaining 00:00:00:00"
     ]
    },
    {
     "name": "stdout",
     "output_type": "stream",
     "text": [
      "\r",
      " [*********82%*******    ] Elapsed 0.53s / Remaining 00:00:00:00"
     ]
    },
    {
     "name": "stdout",
     "output_type": "stream",
     "text": [
      "\r",
      " [*********82%*******    ] Elapsed 0.53s / Remaining 00:00:00:00"
     ]
    },
    {
     "name": "stdout",
     "output_type": "stream",
     "text": [
      "\r",
      " [*********82%*******    ] Elapsed 0.53s / Remaining 00:00:00:00"
     ]
    },
    {
     "name": "stdout",
     "output_type": "stream",
     "text": [
      "\r",
      " [*********82%*******    ] Elapsed 0.53s / Remaining 00:00:00:00"
     ]
    },
    {
     "name": "stdout",
     "output_type": "stream",
     "text": [
      "\r",
      " [*********82%*******    ] Elapsed 0.54s / Remaining 00:00:00:00"
     ]
    },
    {
     "name": "stdout",
     "output_type": "stream",
     "text": [
      "\r",
      " [*********83%*******    ] Elapsed 0.54s / Remaining 00:00:00:00"
     ]
    },
    {
     "name": "stdout",
     "output_type": "stream",
     "text": [
      "\r",
      " [*********83%*******    ] Elapsed 0.54s / Remaining 00:00:00:00"
     ]
    },
    {
     "name": "stdout",
     "output_type": "stream",
     "text": [
      "\r",
      " [*********83%*******    ] Elapsed 0.54s / Remaining 00:00:00:00"
     ]
    },
    {
     "name": "stdout",
     "output_type": "stream",
     "text": [
      "\r",
      " [*********83%*******    ] Elapsed 0.54s / Remaining 00:00:00:00"
     ]
    },
    {
     "name": "stdout",
     "output_type": "stream",
     "text": [
      "\r",
      " [*********83%*******    ] Elapsed 0.54s / Remaining 00:00:00:00"
     ]
    },
    {
     "name": "stdout",
     "output_type": "stream",
     "text": [
      "\r",
      " [*********83%*******    ] Elapsed 0.54s / Remaining 00:00:00:00"
     ]
    },
    {
     "name": "stdout",
     "output_type": "stream",
     "text": [
      "\r",
      " [*********84%*******    ] Elapsed 0.54s / Remaining 00:00:00:00"
     ]
    },
    {
     "name": "stdout",
     "output_type": "stream",
     "text": [
      "\r",
      " [*********84%*******    ] Elapsed 0.54s / Remaining 00:00:00:00"
     ]
    },
    {
     "name": "stdout",
     "output_type": "stream",
     "text": [
      "\r",
      " [*********84%*******    ] Elapsed 0.55s / Remaining 00:00:00:00"
     ]
    },
    {
     "name": "stdout",
     "output_type": "stream",
     "text": [
      "\r",
      " [*********84%*******    ] Elapsed 0.55s / Remaining 00:00:00:00"
     ]
    },
    {
     "name": "stdout",
     "output_type": "stream",
     "text": [
      "\r",
      " [*********84%*******    ] Elapsed 0.55s / Remaining 00:00:00:00"
     ]
    },
    {
     "name": "stdout",
     "output_type": "stream",
     "text": [
      "\r",
      " [*********84%*******    ] Elapsed 0.55s / Remaining 00:00:00:00"
     ]
    },
    {
     "name": "stdout",
     "output_type": "stream",
     "text": [
      "\r",
      " [*********85%********   ] Elapsed 0.55s / Remaining 00:00:00:00"
     ]
    },
    {
     "name": "stdout",
     "output_type": "stream",
     "text": [
      "\r",
      " [*********85%********   ] Elapsed 0.55s / Remaining 00:00:00:00"
     ]
    },
    {
     "name": "stdout",
     "output_type": "stream",
     "text": [
      "\r",
      " [*********85%********   ] Elapsed 0.55s / Remaining 00:00:00:00"
     ]
    },
    {
     "name": "stdout",
     "output_type": "stream",
     "text": [
      "\r",
      " [*********85%********   ] Elapsed 0.55s / Remaining 00:00:00:00"
     ]
    },
    {
     "name": "stdout",
     "output_type": "stream",
     "text": [
      "\r",
      " [*********85%********   ] Elapsed 0.55s / Remaining 00:00:00:00"
     ]
    },
    {
     "name": "stdout",
     "output_type": "stream",
     "text": [
      "\r",
      " [*********85%********   ] Elapsed 0.56s / Remaining 00:00:00:00"
     ]
    },
    {
     "name": "stdout",
     "output_type": "stream",
     "text": [
      "\r",
      " [*********86%********   ] Elapsed 0.56s / Remaining 00:00:00:00"
     ]
    },
    {
     "name": "stdout",
     "output_type": "stream",
     "text": [
      "\r",
      " [*********86%********   ] Elapsed 0.56s / Remaining 00:00:00:00"
     ]
    },
    {
     "name": "stdout",
     "output_type": "stream",
     "text": [
      "\r",
      " [*********86%********   ] Elapsed 0.56s / Remaining 00:00:00:00"
     ]
    },
    {
     "name": "stdout",
     "output_type": "stream",
     "text": [
      "\r",
      " [*********86%********   ] Elapsed 0.56s / Remaining 00:00:00:00"
     ]
    },
    {
     "name": "stdout",
     "output_type": "stream",
     "text": [
      "\r",
      " [*********86%********   ] Elapsed 0.56s / Remaining 00:00:00:00"
     ]
    },
    {
     "name": "stdout",
     "output_type": "stream",
     "text": [
      "\r",
      " [*********86%********   ] Elapsed 0.56s / Remaining 00:00:00:00"
     ]
    },
    {
     "name": "stdout",
     "output_type": "stream",
     "text": [
      "\r",
      " [*********87%********   ] Elapsed 0.56s / Remaining 00:00:00:00"
     ]
    },
    {
     "name": "stdout",
     "output_type": "stream",
     "text": [
      "\r",
      " [*********87%********   ] Elapsed 0.56s / Remaining 00:00:00:00"
     ]
    },
    {
     "name": "stdout",
     "output_type": "stream",
     "text": [
      "\r",
      " [*********87%********   ] Elapsed 0.57s / Remaining 00:00:00:00"
     ]
    },
    {
     "name": "stdout",
     "output_type": "stream",
     "text": [
      "\r",
      " [*********87%********   ] Elapsed 0.57s / Remaining 00:00:00:00"
     ]
    },
    {
     "name": "stdout",
     "output_type": "stream",
     "text": [
      "\r",
      " [*********87%********   ] Elapsed 0.57s / Remaining 00:00:00:00"
     ]
    },
    {
     "name": "stdout",
     "output_type": "stream",
     "text": [
      "\r",
      " [*********87%********   ] Elapsed 0.57s / Remaining 00:00:00:00"
     ]
    },
    {
     "name": "stdout",
     "output_type": "stream",
     "text": [
      "\r",
      " [*********88%********   ] Elapsed 0.57s / Remaining 00:00:00:00"
     ]
    },
    {
     "name": "stdout",
     "output_type": "stream",
     "text": [
      "\r",
      " [*********88%********   ] Elapsed 0.57s / Remaining 00:00:00:00"
     ]
    },
    {
     "name": "stdout",
     "output_type": "stream",
     "text": [
      "\r",
      " [*********88%********   ] Elapsed 0.57s / Remaining 00:00:00:00"
     ]
    },
    {
     "name": "stdout",
     "output_type": "stream",
     "text": [
      "\r",
      " [*********88%********   ] Elapsed 0.57s / Remaining 00:00:00:00"
     ]
    },
    {
     "name": "stdout",
     "output_type": "stream",
     "text": [
      "\r",
      " [*********88%********   ] Elapsed 0.57s / Remaining 00:00:00:00"
     ]
    },
    {
     "name": "stdout",
     "output_type": "stream",
     "text": [
      "\r",
      " [*********88%********   ] Elapsed 0.58s / Remaining 00:00:00:00"
     ]
    },
    {
     "name": "stdout",
     "output_type": "stream",
     "text": [
      "\r",
      " [*********89%********   ] Elapsed 0.58s / Remaining 00:00:00:00"
     ]
    },
    {
     "name": "stdout",
     "output_type": "stream",
     "text": [
      "\r",
      " [*********89%********   ] Elapsed 0.58s / Remaining 00:00:00:00"
     ]
    },
    {
     "name": "stdout",
     "output_type": "stream",
     "text": [
      "\r",
      " [*********89%********   ] Elapsed 0.58s / Remaining 00:00:00:00"
     ]
    },
    {
     "name": "stdout",
     "output_type": "stream",
     "text": [
      "\r",
      " [*********89%********   ] Elapsed 0.58s / Remaining 00:00:00:00"
     ]
    },
    {
     "name": "stdout",
     "output_type": "stream",
     "text": [
      "\r",
      " [*********89%********   ] Elapsed 0.58s / Remaining 00:00:00:00"
     ]
    },
    {
     "name": "stdout",
     "output_type": "stream",
     "text": [
      "\r",
      " [*********89%********   ] Elapsed 0.58s / Remaining 00:00:00:00"
     ]
    },
    {
     "name": "stdout",
     "output_type": "stream",
     "text": [
      "\r",
      " [*********90%*********  ] Elapsed 0.58s / Remaining 00:00:00:00"
     ]
    },
    {
     "name": "stdout",
     "output_type": "stream",
     "text": [
      "\r",
      " [*********90%*********  ] Elapsed 0.59s / Remaining 00:00:00:00"
     ]
    },
    {
     "name": "stdout",
     "output_type": "stream",
     "text": [
      "\r",
      " [*********90%*********  ] Elapsed 0.59s / Remaining 00:00:00:00"
     ]
    },
    {
     "name": "stdout",
     "output_type": "stream",
     "text": [
      "\r",
      " [*********90%*********  ] Elapsed 0.59s / Remaining 00:00:00:00"
     ]
    },
    {
     "name": "stdout",
     "output_type": "stream",
     "text": [
      "\r",
      " [*********90%*********  ] Elapsed 0.59s / Remaining 00:00:00:00"
     ]
    },
    {
     "name": "stdout",
     "output_type": "stream",
     "text": [
      "\r",
      " [*********90%*********  ] Elapsed 0.59s / Remaining 00:00:00:00"
     ]
    },
    {
     "name": "stdout",
     "output_type": "stream",
     "text": [
      "\r",
      " [*********91%*********  ] Elapsed 0.59s / Remaining 00:00:00:00"
     ]
    },
    {
     "name": "stdout",
     "output_type": "stream",
     "text": [
      "\r",
      " [*********91%*********  ] Elapsed 0.59s / Remaining 00:00:00:00"
     ]
    },
    {
     "name": "stdout",
     "output_type": "stream",
     "text": [
      "\r",
      " [*********91%*********  ] Elapsed 0.59s / Remaining 00:00:00:00"
     ]
    },
    {
     "name": "stdout",
     "output_type": "stream",
     "text": [
      "\r",
      " [*********91%*********  ] Elapsed 0.59s / Remaining 00:00:00:00"
     ]
    },
    {
     "name": "stdout",
     "output_type": "stream",
     "text": [
      "\r",
      " [*********91%*********  ] Elapsed 0.60s / Remaining 00:00:00:00"
     ]
    },
    {
     "name": "stdout",
     "output_type": "stream",
     "text": [
      "\r",
      " [*********91%*********  ] Elapsed 0.60s / Remaining 00:00:00:00"
     ]
    },
    {
     "name": "stdout",
     "output_type": "stream",
     "text": [
      "\r",
      " [*********92%*********  ] Elapsed 0.60s / Remaining 00:00:00:00"
     ]
    },
    {
     "name": "stdout",
     "output_type": "stream",
     "text": [
      "\r",
      " [*********92%*********  ] Elapsed 0.60s / Remaining 00:00:00:00"
     ]
    },
    {
     "name": "stdout",
     "output_type": "stream",
     "text": [
      "\r",
      " [*********92%*********  ] Elapsed 0.60s / Remaining 00:00:00:00"
     ]
    },
    {
     "name": "stdout",
     "output_type": "stream",
     "text": [
      "\r",
      " [*********92%*********  ] Elapsed 0.60s / Remaining 00:00:00:00"
     ]
    },
    {
     "name": "stdout",
     "output_type": "stream",
     "text": [
      "\r",
      " [*********92%*********  ] Elapsed 0.60s / Remaining 00:00:00:00"
     ]
    },
    {
     "name": "stdout",
     "output_type": "stream",
     "text": [
      "\r",
      " [*********92%*********  ] Elapsed 0.60s / Remaining 00:00:00:00"
     ]
    },
    {
     "name": "stdout",
     "output_type": "stream",
     "text": [
      "\r",
      " [*********93%*********  ] Elapsed 0.60s / Remaining 00:00:00:00"
     ]
    },
    {
     "name": "stdout",
     "output_type": "stream",
     "text": [
      "\r",
      " [*********93%*********  ] Elapsed 0.61s / Remaining 00:00:00:00"
     ]
    },
    {
     "name": "stdout",
     "output_type": "stream",
     "text": [
      "\r",
      " [*********93%*********  ] Elapsed 0.61s / Remaining 00:00:00:00"
     ]
    },
    {
     "name": "stdout",
     "output_type": "stream",
     "text": [
      "\r",
      " [*********93%*********  ] Elapsed 0.61s / Remaining 00:00:00:00"
     ]
    },
    {
     "name": "stdout",
     "output_type": "stream",
     "text": [
      "\r",
      " [*********93%*********  ] Elapsed 0.61s / Remaining 00:00:00:00"
     ]
    },
    {
     "name": "stdout",
     "output_type": "stream",
     "text": [
      "\r",
      " [*********93%*********  ] Elapsed 0.61s / Remaining 00:00:00:00"
     ]
    },
    {
     "name": "stdout",
     "output_type": "stream",
     "text": [
      "\r",
      " [*********94%********** ] Elapsed 0.61s / Remaining 00:00:00:00"
     ]
    },
    {
     "name": "stdout",
     "output_type": "stream",
     "text": [
      "\r",
      " [*********94%********** ] Elapsed 0.61s / Remaining 00:00:00:00"
     ]
    },
    {
     "name": "stdout",
     "output_type": "stream",
     "text": [
      "\r",
      " [*********94%********** ] Elapsed 0.61s / Remaining 00:00:00:00"
     ]
    },
    {
     "name": "stdout",
     "output_type": "stream",
     "text": [
      "\r",
      " [*********94%********** ] Elapsed 0.62s / Remaining 00:00:00:00"
     ]
    },
    {
     "name": "stdout",
     "output_type": "stream",
     "text": [
      "\r",
      " [*********94%********** ] Elapsed 0.62s / Remaining 00:00:00:00"
     ]
    },
    {
     "name": "stdout",
     "output_type": "stream",
     "text": [
      "\r",
      " [*********94%********** ] Elapsed 0.62s / Remaining 00:00:00:00"
     ]
    },
    {
     "name": "stdout",
     "output_type": "stream",
     "text": [
      "\r",
      " [*********95%********** ] Elapsed 0.62s / Remaining 00:00:00:00"
     ]
    },
    {
     "name": "stdout",
     "output_type": "stream",
     "text": [
      "\r",
      " [*********95%********** ] Elapsed 0.62s / Remaining 00:00:00:00"
     ]
    },
    {
     "name": "stdout",
     "output_type": "stream",
     "text": [
      "\r",
      " [*********95%********** ] Elapsed 0.62s / Remaining 00:00:00:00"
     ]
    },
    {
     "name": "stdout",
     "output_type": "stream",
     "text": [
      "\r",
      " [*********95%********** ] Elapsed 0.62s / Remaining 00:00:00:00"
     ]
    },
    {
     "name": "stdout",
     "output_type": "stream",
     "text": [
      "\r",
      " [*********95%********** ] Elapsed 0.62s / Remaining 00:00:00:00"
     ]
    },
    {
     "name": "stdout",
     "output_type": "stream",
     "text": [
      "\r",
      " [*********95%********** ] Elapsed 0.62s / Remaining 00:00:00:00"
     ]
    },
    {
     "name": "stdout",
     "output_type": "stream",
     "text": [
      "\r",
      " [*********96%********** ] Elapsed 0.63s / Remaining 00:00:00:00"
     ]
    },
    {
     "name": "stdout",
     "output_type": "stream",
     "text": [
      "\r",
      " [*********96%********** ] Elapsed 0.63s / Remaining 00:00:00:00"
     ]
    },
    {
     "name": "stdout",
     "output_type": "stream",
     "text": [
      "\r",
      " [*********96%********** ] Elapsed 0.63s / Remaining 00:00:00:00"
     ]
    },
    {
     "name": "stdout",
     "output_type": "stream",
     "text": [
      "\r",
      " [*********96%********** ] Elapsed 0.63s / Remaining 00:00:00:00"
     ]
    },
    {
     "name": "stdout",
     "output_type": "stream",
     "text": [
      "\r",
      " [*********96%********** ] Elapsed 0.63s / Remaining 00:00:00:00"
     ]
    },
    {
     "name": "stdout",
     "output_type": "stream",
     "text": [
      "\r",
      " [*********96%********** ] Elapsed 0.63s / Remaining 00:00:00:00"
     ]
    },
    {
     "name": "stdout",
     "output_type": "stream",
     "text": [
      "\r",
      " [*********97%********** ] Elapsed 0.63s / Remaining 00:00:00:00"
     ]
    },
    {
     "name": "stdout",
     "output_type": "stream",
     "text": [
      "\r",
      " [*********97%********** ] Elapsed 0.63s / Remaining 00:00:00:00"
     ]
    },
    {
     "name": "stdout",
     "output_type": "stream",
     "text": [
      "\r",
      " [*********97%********** ] Elapsed 0.64s / Remaining 00:00:00:00"
     ]
    },
    {
     "name": "stdout",
     "output_type": "stream",
     "text": [
      "\r",
      " [*********97%********** ] Elapsed 0.64s / Remaining 00:00:00:00"
     ]
    },
    {
     "name": "stdout",
     "output_type": "stream",
     "text": [
      "\r",
      " [*********97%********** ] Elapsed 0.64s / Remaining 00:00:00:00"
     ]
    },
    {
     "name": "stdout",
     "output_type": "stream",
     "text": [
      "\r",
      " [*********97%********** ] Elapsed 0.64s / Remaining 00:00:00:00"
     ]
    },
    {
     "name": "stdout",
     "output_type": "stream",
     "text": [
      "\r",
      " [*********98%***********] Elapsed 0.64s / Remaining 00:00:00:00"
     ]
    },
    {
     "name": "stdout",
     "output_type": "stream",
     "text": [
      "\r",
      " [*********98%***********] Elapsed 0.64s / Remaining 00:00:00:00"
     ]
    },
    {
     "name": "stdout",
     "output_type": "stream",
     "text": [
      "\r",
      " [*********98%***********] Elapsed 0.64s / Remaining 00:00:00:00"
     ]
    },
    {
     "name": "stdout",
     "output_type": "stream",
     "text": [
      "\r",
      " [*********98%***********] Elapsed 0.64s / Remaining 00:00:00:00"
     ]
    },
    {
     "name": "stdout",
     "output_type": "stream",
     "text": [
      "\r",
      " [*********98%***********] Elapsed 0.64s / Remaining 00:00:00:00"
     ]
    },
    {
     "name": "stdout",
     "output_type": "stream",
     "text": [
      "\r",
      " [*********98%***********] Elapsed 0.65s / Remaining 00:00:00:00"
     ]
    },
    {
     "name": "stdout",
     "output_type": "stream",
     "text": [
      "\r",
      " [*********99%***********] Elapsed 0.65s / Remaining 00:00:00:00"
     ]
    },
    {
     "name": "stdout",
     "output_type": "stream",
     "text": [
      "\r",
      " [*********99%***********] Elapsed 0.65s / Remaining 00:00:00:00"
     ]
    },
    {
     "name": "stdout",
     "output_type": "stream",
     "text": [
      "\r",
      " [*********99%***********] Elapsed 0.65s / Remaining 00:00:00:00"
     ]
    },
    {
     "name": "stdout",
     "output_type": "stream",
     "text": [
      "\r",
      " [*********99%***********] Elapsed 0.65s / Remaining 00:00:00:00"
     ]
    },
    {
     "name": "stdout",
     "output_type": "stream",
     "text": [
      "\r",
      " [*********99%***********] Elapsed 0.65s / Remaining 00:00:00:00"
     ]
    },
    {
     "name": "stdout",
     "output_type": "stream",
     "text": [
      "\r",
      " [*********99%***********] Elapsed 0.65s / Remaining 00:00:00:00"
     ]
    },
    {
     "name": "stdout",
     "output_type": "stream",
     "text": [
      "\r",
      " [********100%***********] Elapsed 0.65s / Remaining 00:00:00:00"
     ]
    },
    {
     "name": "stdout",
     "output_type": "stream",
     "text": [
      "\r",
      " [********100%***********] Elapsed 0.65s / Remaining 00:00:00:00"
     ]
    },
    {
     "name": "stdout",
     "output_type": "stream",
     "text": [
      "\r",
      " [********100%***********] Elapsed 0.65s / Remaining 00:00:00:00"
     ]
    },
    {
     "name": "stdout",
     "output_type": "stream",
     "text": [
      "\r",
      " Total run time:   0.66s\n",
      "ODE solver time: 0.6559224128723145\n"
     ]
    }
   ],
   "source": [
    "with timer(\"RHS construction time\"):\n",
    "    # We reduce NC slightly here for speed of execution because we retain\n",
    "    # 3 exponents in ckAR instead of 1. Please restore full NC for\n",
    "    # convergence though:\n",
    "    HEOMFit = HEOMSolver(Hsys, (envfit, Q), int(NC * 0.7), options=options)\n",
    "\n",
    "with timer(\"ODE solver time\"):\n",
    "    resultFit = HEOMFit.run(rho0, tlist)"
   ]
  },
  {
   "cell_type": "markdown",
   "id": "493e12b7",
   "metadata": {},
   "source": [
    "## Simulation 5: Bloch-Redfield"
   ]
  },
  {
   "cell_type": "code",
   "execution_count": 20,
   "id": "95d87a83",
   "metadata": {
    "execution": {
     "iopub.execute_input": "2025-08-20T04:09:27.756963Z",
     "iopub.status.busy": "2025-08-20T04:09:27.756785Z",
     "iopub.status.idle": "2025-08-20T04:09:28.026113Z",
     "shell.execute_reply": "2025-08-20T04:09:28.025601Z"
    }
   },
   "outputs": [
    {
     "name": "stdout",
     "output_type": "stream",
     "text": [
      "\r",
      " [          0%           ] Elapsed 0.00s / Remaining 00:00:00:00"
     ]
    },
    {
     "name": "stdout",
     "output_type": "stream",
     "text": [
      "\r",
      " [          0%           ] Elapsed 0.00s / Remaining 00:00:00:00"
     ]
    },
    {
     "name": "stdout",
     "output_type": "stream",
     "text": [
      "\r",
      " [          1%           ] Elapsed 0.00s / Remaining 00:00:00:00"
     ]
    },
    {
     "name": "stdout",
     "output_type": "stream",
     "text": [
      "\r",
      " [          1%           ] Elapsed 0.00s / Remaining 00:00:00:00"
     ]
    },
    {
     "name": "stdout",
     "output_type": "stream",
     "text": [
      "\r",
      " [          1%           ] Elapsed 0.00s / Remaining 00:00:00:00"
     ]
    },
    {
     "name": "stdout",
     "output_type": "stream",
     "text": [
      "\r",
      " [          1%           ] Elapsed 0.00s / Remaining 00:00:00:00"
     ]
    },
    {
     "name": "stdout",
     "output_type": "stream",
     "text": [
      "\r",
      " [          1%           ] Elapsed 0.00s / Remaining 00:00:00:00"
     ]
    },
    {
     "name": "stdout",
     "output_type": "stream",
     "text": [
      "\r",
      " [          1%           ] Elapsed 0.00s / Remaining 00:00:00:00"
     ]
    },
    {
     "name": "stdout",
     "output_type": "stream",
     "text": [
      "\r",
      " [          2%           ] Elapsed 0.00s / Remaining 00:00:00:00"
     ]
    },
    {
     "name": "stdout",
     "output_type": "stream",
     "text": [
      "\r",
      " [          2%           ] Elapsed 0.00s / Remaining 00:00:00:00"
     ]
    },
    {
     "name": "stdout",
     "output_type": "stream",
     "text": [
      "\r",
      " [          2%           ] Elapsed 0.00s / Remaining 00:00:00:00"
     ]
    },
    {
     "name": "stdout",
     "output_type": "stream",
     "text": [
      "\r",
      " [          2%           ] Elapsed 0.01s / Remaining 00:00:00:00"
     ]
    },
    {
     "name": "stdout",
     "output_type": "stream",
     "text": [
      "\r",
      " [          2%           ] Elapsed 0.01s / Remaining 00:00:00:00"
     ]
    },
    {
     "name": "stdout",
     "output_type": "stream",
     "text": [
      "\r",
      " [          2%           ] Elapsed 0.01s / Remaining 00:00:00:00"
     ]
    },
    {
     "name": "stdout",
     "output_type": "stream",
     "text": [
      "\r",
      " [*         3%           ] Elapsed 0.01s / Remaining 00:00:00:00"
     ]
    },
    {
     "name": "stdout",
     "output_type": "stream",
     "text": [
      "\r",
      " [*         3%           ] Elapsed 0.01s / Remaining 00:00:00:00"
     ]
    },
    {
     "name": "stdout",
     "output_type": "stream",
     "text": [
      "\r",
      " [*         3%           ] Elapsed 0.01s / Remaining 00:00:00:00"
     ]
    },
    {
     "name": "stdout",
     "output_type": "stream",
     "text": [
      "\r",
      " [*         3%           ] Elapsed 0.01s / Remaining 00:00:00:00"
     ]
    },
    {
     "name": "stdout",
     "output_type": "stream",
     "text": [
      "\r",
      " [*         3%           ] Elapsed 0.01s / Remaining 00:00:00:00"
     ]
    },
    {
     "name": "stdout",
     "output_type": "stream",
     "text": [
      "\r",
      " [*         3%           ] Elapsed 0.01s / Remaining 00:00:00:00"
     ]
    },
    {
     "name": "stdout",
     "output_type": "stream",
     "text": [
      "\r",
      " [*         4%           ] Elapsed 0.01s / Remaining 00:00:00:00"
     ]
    },
    {
     "name": "stdout",
     "output_type": "stream",
     "text": [
      "\r",
      " [*         4%           ] Elapsed 0.01s / Remaining 00:00:00:00"
     ]
    },
    {
     "name": "stdout",
     "output_type": "stream",
     "text": [
      "\r",
      " [*         4%           ] Elapsed 0.01s / Remaining 00:00:00:00"
     ]
    },
    {
     "name": "stdout",
     "output_type": "stream",
     "text": [
      "\r",
      " [*         4%           ] Elapsed 0.01s / Remaining 00:00:00:00"
     ]
    },
    {
     "name": "stdout",
     "output_type": "stream",
     "text": [
      "\r",
      " [*         4%           ] Elapsed 0.01s / Remaining 00:00:00:00"
     ]
    },
    {
     "name": "stdout",
     "output_type": "stream",
     "text": [
      "\r",
      " [*         4%           ] Elapsed 0.01s / Remaining 00:00:00:00"
     ]
    },
    {
     "name": "stdout",
     "output_type": "stream",
     "text": [
      "\r",
      " [*         5%           ] Elapsed 0.01s / Remaining 00:00:00:00"
     ]
    },
    {
     "name": "stdout",
     "output_type": "stream",
     "text": [
      "\r",
      " [*         5%           ] Elapsed 0.01s / Remaining 00:00:00:00"
     ]
    },
    {
     "name": "stdout",
     "output_type": "stream",
     "text": [
      "\r",
      " [*         5%           ] Elapsed 0.01s / Remaining 00:00:00:00"
     ]
    },
    {
     "name": "stdout",
     "output_type": "stream",
     "text": [
      "\r",
      " [*         5%           ] Elapsed 0.02s / Remaining 00:00:00:00"
     ]
    },
    {
     "name": "stdout",
     "output_type": "stream",
     "text": [
      "\r",
      " [*         5%           ] Elapsed 0.02s / Remaining 00:00:00:00"
     ]
    },
    {
     "name": "stdout",
     "output_type": "stream",
     "text": [
      "\r",
      " [*         5%           ] Elapsed 0.02s / Remaining 00:00:00:00"
     ]
    },
    {
     "name": "stdout",
     "output_type": "stream",
     "text": [
      "\r",
      " [*         6%           ] Elapsed 0.02s / Remaining 00:00:00:00"
     ]
    },
    {
     "name": "stdout",
     "output_type": "stream",
     "text": [
      "\r",
      " [*         6%           ] Elapsed 0.02s / Remaining 00:00:00:00"
     ]
    },
    {
     "name": "stdout",
     "output_type": "stream",
     "text": [
      "\r",
      " [*         6%           ] Elapsed 0.02s / Remaining 00:00:00:00"
     ]
    },
    {
     "name": "stdout",
     "output_type": "stream",
     "text": [
      "\r",
      " [*         6%           ] Elapsed 0.02s / Remaining 00:00:00:00"
     ]
    },
    {
     "name": "stdout",
     "output_type": "stream",
     "text": [
      "\r",
      " [*         6%           ] Elapsed 0.02s / Remaining 00:00:00:00"
     ]
    },
    {
     "name": "stdout",
     "output_type": "stream",
     "text": [
      "\r",
      " [*         6%           ] Elapsed 0.02s / Remaining 00:00:00:00"
     ]
    },
    {
     "name": "stdout",
     "output_type": "stream",
     "text": [
      "\r",
      " [**        7%           ] Elapsed 0.02s / Remaining 00:00:00:00"
     ]
    },
    {
     "name": "stdout",
     "output_type": "stream",
     "text": [
      "\r",
      " [**        7%           ] Elapsed 0.02s / Remaining 00:00:00:00"
     ]
    },
    {
     "name": "stdout",
     "output_type": "stream",
     "text": [
      "\r",
      " [**        7%           ] Elapsed 0.02s / Remaining 00:00:00:00"
     ]
    },
    {
     "name": "stdout",
     "output_type": "stream",
     "text": [
      "\r",
      " [**        7%           ] Elapsed 0.02s / Remaining 00:00:00:00"
     ]
    },
    {
     "name": "stdout",
     "output_type": "stream",
     "text": [
      "\r",
      " [**        7%           ] Elapsed 0.02s / Remaining 00:00:00:00"
     ]
    },
    {
     "name": "stdout",
     "output_type": "stream",
     "text": [
      "\r",
      " [**        7%           ] Elapsed 0.02s / Remaining 00:00:00:00"
     ]
    },
    {
     "name": "stdout",
     "output_type": "stream",
     "text": [
      "\r",
      " [**        8%           ] Elapsed 0.02s / Remaining 00:00:00:00"
     ]
    },
    {
     "name": "stdout",
     "output_type": "stream",
     "text": [
      "\r",
      " [**        8%           ] Elapsed 0.02s / Remaining 00:00:00:00"
     ]
    },
    {
     "name": "stdout",
     "output_type": "stream",
     "text": [
      "\r",
      " [**        8%           ] Elapsed 0.02s / Remaining 00:00:00:00"
     ]
    },
    {
     "name": "stdout",
     "output_type": "stream",
     "text": [
      "\r",
      " [**        8%           ] Elapsed 0.02s / Remaining 00:00:00:00"
     ]
    },
    {
     "name": "stdout",
     "output_type": "stream",
     "text": [
      "\r",
      " [**        8%           ] Elapsed 0.02s / Remaining 00:00:00:00"
     ]
    },
    {
     "name": "stdout",
     "output_type": "stream",
     "text": [
      "\r",
      " [**        8%           ] Elapsed 0.02s / Remaining 00:00:00:00"
     ]
    },
    {
     "name": "stdout",
     "output_type": "stream",
     "text": [
      "\r",
      " [**        9%           ] Elapsed 0.02s / Remaining 00:00:00:00"
     ]
    },
    {
     "name": "stdout",
     "output_type": "stream",
     "text": [
      "\r",
      " [**        9%           ] Elapsed 0.02s / Remaining 00:00:00:00"
     ]
    },
    {
     "name": "stdout",
     "output_type": "stream",
     "text": [
      "\r",
      " [**        9%           ] Elapsed 0.02s / Remaining 00:00:00:00"
     ]
    },
    {
     "name": "stdout",
     "output_type": "stream",
     "text": [
      "\r",
      " [**        9%           ] Elapsed 0.02s / Remaining 00:00:00:00"
     ]
    },
    {
     "name": "stdout",
     "output_type": "stream",
     "text": [
      "\r",
      " [**        9%           ] Elapsed 0.02s / Remaining 00:00:00:00"
     ]
    },
    {
     "name": "stdout",
     "output_type": "stream",
     "text": [
      "\r",
      " [**        9%           ] Elapsed 0.03s / Remaining 00:00:00:00"
     ]
    },
    {
     "name": "stdout",
     "output_type": "stream",
     "text": [
      "\r",
      " [**       10%           ] Elapsed 0.03s / Remaining 00:00:00:00"
     ]
    },
    {
     "name": "stdout",
     "output_type": "stream",
     "text": [
      "\r",
      " [**       10%           ] Elapsed 0.03s / Remaining 00:00:00:00"
     ]
    },
    {
     "name": "stdout",
     "output_type": "stream",
     "text": [
      "\r",
      " [**       10%           ] Elapsed 0.03s / Remaining 00:00:00:00"
     ]
    },
    {
     "name": "stdout",
     "output_type": "stream",
     "text": [
      "\r",
      " [**       10%           ] Elapsed 0.03s / Remaining 00:00:00:00"
     ]
    },
    {
     "name": "stdout",
     "output_type": "stream",
     "text": [
      "\r",
      " [**       10%           ] Elapsed 0.03s / Remaining 00:00:00:00"
     ]
    },
    {
     "name": "stdout",
     "output_type": "stream",
     "text": [
      "\r",
      " [**       10%           ] Elapsed 0.03s / Remaining 00:00:00:00"
     ]
    },
    {
     "name": "stdout",
     "output_type": "stream",
     "text": [
      "\r",
      " [***      11%           ] Elapsed 0.03s / Remaining 00:00:00:00"
     ]
    },
    {
     "name": "stdout",
     "output_type": "stream",
     "text": [
      "\r",
      " [***      11%           ] Elapsed 0.03s / Remaining 00:00:00:00"
     ]
    },
    {
     "name": "stdout",
     "output_type": "stream",
     "text": [
      "\r",
      " [***      11%           ] Elapsed 0.03s / Remaining 00:00:00:00"
     ]
    },
    {
     "name": "stdout",
     "output_type": "stream",
     "text": [
      "\r",
      " [***      11%           ] Elapsed 0.03s / Remaining 00:00:00:00"
     ]
    },
    {
     "name": "stdout",
     "output_type": "stream",
     "text": [
      "\r",
      " [***      11%           ] Elapsed 0.03s / Remaining 00:00:00:00"
     ]
    },
    {
     "name": "stdout",
     "output_type": "stream",
     "text": [
      "\r",
      " [***      11%           ] Elapsed 0.03s / Remaining 00:00:00:00"
     ]
    },
    {
     "name": "stdout",
     "output_type": "stream",
     "text": [
      "\r",
      " [***      12%           ] Elapsed 0.03s / Remaining 00:00:00:00"
     ]
    },
    {
     "name": "stdout",
     "output_type": "stream",
     "text": [
      "\r",
      " [***      12%           ] Elapsed 0.03s / Remaining 00:00:00:00"
     ]
    },
    {
     "name": "stdout",
     "output_type": "stream",
     "text": [
      "\r",
      " [***      12%           ] Elapsed 0.03s / Remaining 00:00:00:00"
     ]
    },
    {
     "name": "stdout",
     "output_type": "stream",
     "text": [
      "\r",
      " [***      12%           ] Elapsed 0.03s / Remaining 00:00:00:00"
     ]
    },
    {
     "name": "stdout",
     "output_type": "stream",
     "text": [
      "\r",
      " [***      12%           ] Elapsed 0.03s / Remaining 00:00:00:00"
     ]
    },
    {
     "name": "stdout",
     "output_type": "stream",
     "text": [
      "\r",
      " [***      12%           ] Elapsed 0.03s / Remaining 00:00:00:00"
     ]
    },
    {
     "name": "stdout",
     "output_type": "stream",
     "text": [
      "\r",
      " [***      13%           ] Elapsed 0.03s / Remaining 00:00:00:00"
     ]
    },
    {
     "name": "stdout",
     "output_type": "stream",
     "text": [
      "\r",
      " [***      13%           ] Elapsed 0.03s / Remaining 00:00:00:00"
     ]
    },
    {
     "name": "stdout",
     "output_type": "stream",
     "text": [
      "\r",
      " [***      13%           ] Elapsed 0.03s / Remaining 00:00:00:00"
     ]
    },
    {
     "name": "stdout",
     "output_type": "stream",
     "text": [
      "\r",
      " [***      13%           ] Elapsed 0.03s / Remaining 00:00:00:00"
     ]
    },
    {
     "name": "stdout",
     "output_type": "stream",
     "text": [
      "\r",
      " [***      13%           ] Elapsed 0.04s / Remaining 00:00:00:00"
     ]
    },
    {
     "name": "stdout",
     "output_type": "stream",
     "text": [
      "\r",
      " [***      13%           ] Elapsed 0.04s / Remaining 00:00:00:00"
     ]
    },
    {
     "name": "stdout",
     "output_type": "stream",
     "text": [
      "\r",
      " [***      14%           ] Elapsed 0.04s / Remaining 00:00:00:00"
     ]
    },
    {
     "name": "stdout",
     "output_type": "stream",
     "text": [
      "\r",
      " [***      14%           ] Elapsed 0.04s / Remaining 00:00:00:00"
     ]
    },
    {
     "name": "stdout",
     "output_type": "stream",
     "text": [
      "\r",
      " [***      14%           ] Elapsed 0.04s / Remaining 00:00:00:00"
     ]
    },
    {
     "name": "stdout",
     "output_type": "stream",
     "text": [
      "\r",
      " [***      14%           ] Elapsed 0.04s / Remaining 00:00:00:00"
     ]
    },
    {
     "name": "stdout",
     "output_type": "stream",
     "text": [
      "\r",
      " [***      14%           ] Elapsed 0.04s / Remaining 00:00:00:00"
     ]
    },
    {
     "name": "stdout",
     "output_type": "stream",
     "text": [
      "\r",
      " [***      14%           ] Elapsed 0.04s / Remaining 00:00:00:00"
     ]
    },
    {
     "name": "stdout",
     "output_type": "stream",
     "text": [
      "\r",
      " [***      15%           ] Elapsed 0.04s / Remaining 00:00:00:00"
     ]
    },
    {
     "name": "stdout",
     "output_type": "stream",
     "text": [
      "\r",
      " [***      15%           ] Elapsed 0.04s / Remaining 00:00:00:00"
     ]
    },
    {
     "name": "stdout",
     "output_type": "stream",
     "text": [
      "\r",
      " [***      15%           ] Elapsed 0.04s / Remaining 00:00:00:00"
     ]
    },
    {
     "name": "stdout",
     "output_type": "stream",
     "text": [
      "\r",
      " [***      15%           ] Elapsed 0.04s / Remaining 00:00:00:00"
     ]
    },
    {
     "name": "stdout",
     "output_type": "stream",
     "text": [
      "\r",
      " [***      15%           ] Elapsed 0.04s / Remaining 00:00:00:00"
     ]
    },
    {
     "name": "stdout",
     "output_type": "stream",
     "text": [
      "\r",
      " [***      15%           ] Elapsed 0.04s / Remaining 00:00:00:00"
     ]
    },
    {
     "name": "stdout",
     "output_type": "stream",
     "text": [
      "\r",
      " [****     16%           ] Elapsed 0.04s / Remaining 00:00:00:00"
     ]
    },
    {
     "name": "stdout",
     "output_type": "stream",
     "text": [
      "\r",
      " [****     16%           ] Elapsed 0.04s / Remaining 00:00:00:00"
     ]
    },
    {
     "name": "stdout",
     "output_type": "stream",
     "text": [
      "\r",
      " [****     16%           ] Elapsed 0.04s / Remaining 00:00:00:00"
     ]
    },
    {
     "name": "stdout",
     "output_type": "stream",
     "text": [
      "\r",
      " [****     16%           ] Elapsed 0.04s / Remaining 00:00:00:00"
     ]
    },
    {
     "name": "stdout",
     "output_type": "stream",
     "text": [
      "\r",
      " [****     16%           ] Elapsed 0.04s / Remaining 00:00:00:00"
     ]
    },
    {
     "name": "stdout",
     "output_type": "stream",
     "text": [
      "\r",
      " [****     16%           ] Elapsed 0.04s / Remaining 00:00:00:00"
     ]
    },
    {
     "name": "stdout",
     "output_type": "stream",
     "text": [
      "\r",
      " [****     17%           ] Elapsed 0.04s / Remaining 00:00:00:00"
     ]
    },
    {
     "name": "stdout",
     "output_type": "stream",
     "text": [
      "\r",
      " [****     17%           ] Elapsed 0.04s / Remaining 00:00:00:00"
     ]
    },
    {
     "name": "stdout",
     "output_type": "stream",
     "text": [
      "\r",
      " [****     17%           ] Elapsed 0.05s / Remaining 00:00:00:00"
     ]
    },
    {
     "name": "stdout",
     "output_type": "stream",
     "text": [
      "\r",
      " [****     17%           ] Elapsed 0.05s / Remaining 00:00:00:00"
     ]
    },
    {
     "name": "stdout",
     "output_type": "stream",
     "text": [
      "\r",
      " [****     17%           ] Elapsed 0.05s / Remaining 00:00:00:00"
     ]
    },
    {
     "name": "stdout",
     "output_type": "stream",
     "text": [
      "\r",
      " [****     17%           ] Elapsed 0.05s / Remaining 00:00:00:00"
     ]
    },
    {
     "name": "stdout",
     "output_type": "stream",
     "text": [
      "\r",
      " [****     18%           ] Elapsed 0.05s / Remaining 00:00:00:00"
     ]
    },
    {
     "name": "stdout",
     "output_type": "stream",
     "text": [
      "\r",
      " [****     18%           ] Elapsed 0.05s / Remaining 00:00:00:00"
     ]
    },
    {
     "name": "stdout",
     "output_type": "stream",
     "text": [
      "\r",
      " [****     18%           ] Elapsed 0.05s / Remaining 00:00:00:00"
     ]
    },
    {
     "name": "stdout",
     "output_type": "stream",
     "text": [
      "\r",
      " [****     18%           ] Elapsed 0.05s / Remaining 00:00:00:00"
     ]
    },
    {
     "name": "stdout",
     "output_type": "stream",
     "text": [
      "\r",
      " [****     18%           ] Elapsed 0.05s / Remaining 00:00:00:00"
     ]
    },
    {
     "name": "stdout",
     "output_type": "stream",
     "text": [
      "\r",
      " [****     18%           ] Elapsed 0.05s / Remaining 00:00:00:00"
     ]
    },
    {
     "name": "stdout",
     "output_type": "stream",
     "text": [
      "\r",
      " [****     19%           ] Elapsed 0.05s / Remaining 00:00:00:00"
     ]
    },
    {
     "name": "stdout",
     "output_type": "stream",
     "text": [
      "\r",
      " [****     19%           ] Elapsed 0.05s / Remaining 00:00:00:00"
     ]
    },
    {
     "name": "stdout",
     "output_type": "stream",
     "text": [
      "\r",
      " [****     19%           ] Elapsed 0.05s / Remaining 00:00:00:00"
     ]
    },
    {
     "name": "stdout",
     "output_type": "stream",
     "text": [
      "\r",
      " [****     19%           ] Elapsed 0.05s / Remaining 00:00:00:00"
     ]
    },
    {
     "name": "stdout",
     "output_type": "stream",
     "text": [
      "\r",
      " [****     19%           ] Elapsed 0.05s / Remaining 00:00:00:00"
     ]
    },
    {
     "name": "stdout",
     "output_type": "stream",
     "text": [
      "\r",
      " [****     19%           ] Elapsed 0.05s / Remaining 00:00:00:00"
     ]
    },
    {
     "name": "stdout",
     "output_type": "stream",
     "text": [
      "\r",
      " [*****    20%           ] Elapsed 0.05s / Remaining 00:00:00:00"
     ]
    },
    {
     "name": "stdout",
     "output_type": "stream",
     "text": [
      "\r",
      " [*****    20%           ] Elapsed 0.05s / Remaining 00:00:00:00"
     ]
    },
    {
     "name": "stdout",
     "output_type": "stream",
     "text": [
      "\r",
      " [*****    20%           ] Elapsed 0.05s / Remaining 00:00:00:00"
     ]
    },
    {
     "name": "stdout",
     "output_type": "stream",
     "text": [
      "\r",
      " [*****    20%           ] Elapsed 0.05s / Remaining 00:00:00:00"
     ]
    },
    {
     "name": "stdout",
     "output_type": "stream",
     "text": [
      "\r",
      " [*****    20%           ] Elapsed 0.05s / Remaining 00:00:00:00"
     ]
    },
    {
     "name": "stdout",
     "output_type": "stream",
     "text": [
      "\r",
      " [*****    20%           ] Elapsed 0.05s / Remaining 00:00:00:00"
     ]
    },
    {
     "name": "stdout",
     "output_type": "stream",
     "text": [
      "\r",
      " [*****    21%           ] Elapsed 0.05s / Remaining 00:00:00:00"
     ]
    },
    {
     "name": "stdout",
     "output_type": "stream",
     "text": [
      "\r",
      " [*****    21%           ] Elapsed 0.05s / Remaining 00:00:00:00"
     ]
    },
    {
     "name": "stdout",
     "output_type": "stream",
     "text": [
      "\r",
      " [*****    21%           ] Elapsed 0.05s / Remaining 00:00:00:00"
     ]
    },
    {
     "name": "stdout",
     "output_type": "stream",
     "text": [
      "\r",
      " [*****    21%           ] Elapsed 0.06s / Remaining 00:00:00:00"
     ]
    },
    {
     "name": "stdout",
     "output_type": "stream",
     "text": [
      "\r",
      " [*****    21%           ] Elapsed 0.06s / Remaining 00:00:00:00"
     ]
    },
    {
     "name": "stdout",
     "output_type": "stream",
     "text": [
      "\r",
      " [*****    21%           ] Elapsed 0.06s / Remaining 00:00:00:00"
     ]
    },
    {
     "name": "stdout",
     "output_type": "stream",
     "text": [
      "\r",
      " [*****    22%           ] Elapsed 0.06s / Remaining 00:00:00:00"
     ]
    },
    {
     "name": "stdout",
     "output_type": "stream",
     "text": [
      "\r",
      " [*****    22%           ] Elapsed 0.06s / Remaining 00:00:00:00"
     ]
    },
    {
     "name": "stdout",
     "output_type": "stream",
     "text": [
      "\r",
      " [*****    22%           ] Elapsed 0.06s / Remaining 00:00:00:00"
     ]
    },
    {
     "name": "stdout",
     "output_type": "stream",
     "text": [
      "\r",
      " [*****    22%           ] Elapsed 0.06s / Remaining 00:00:00:00"
     ]
    },
    {
     "name": "stdout",
     "output_type": "stream",
     "text": [
      "\r",
      " [*****    22%           ] Elapsed 0.06s / Remaining 00:00:00:00"
     ]
    },
    {
     "name": "stdout",
     "output_type": "stream",
     "text": [
      "\r",
      " [*****    22%           ] Elapsed 0.06s / Remaining 00:00:00:00"
     ]
    },
    {
     "name": "stdout",
     "output_type": "stream",
     "text": [
      "\r",
      " [*****    23%           ] Elapsed 0.06s / Remaining 00:00:00:00"
     ]
    },
    {
     "name": "stdout",
     "output_type": "stream",
     "text": [
      "\r",
      " [*****    23%           ] Elapsed 0.06s / Remaining 00:00:00:00"
     ]
    },
    {
     "name": "stdout",
     "output_type": "stream",
     "text": [
      "\r",
      " [*****    23%           ] Elapsed 0.06s / Remaining 00:00:00:00"
     ]
    },
    {
     "name": "stdout",
     "output_type": "stream",
     "text": [
      "\r",
      " [*****    23%           ] Elapsed 0.06s / Remaining 00:00:00:00"
     ]
    },
    {
     "name": "stdout",
     "output_type": "stream",
     "text": [
      "\r",
      " [*****    23%           ] Elapsed 0.06s / Remaining 00:00:00:00"
     ]
    },
    {
     "name": "stdout",
     "output_type": "stream",
     "text": [
      "\r",
      " [*****    23%           ] Elapsed 0.06s / Remaining 00:00:00:00"
     ]
    },
    {
     "name": "stdout",
     "output_type": "stream",
     "text": [
      "\r",
      " [******   24%           ] Elapsed 0.06s / Remaining 00:00:00:00"
     ]
    },
    {
     "name": "stdout",
     "output_type": "stream",
     "text": [
      "\r",
      " [******   24%           ] Elapsed 0.06s / Remaining 00:00:00:00"
     ]
    },
    {
     "name": "stdout",
     "output_type": "stream",
     "text": [
      "\r",
      " [******   24%           ] Elapsed 0.06s / Remaining 00:00:00:00"
     ]
    },
    {
     "name": "stdout",
     "output_type": "stream",
     "text": [
      "\r",
      " [******   24%           ] Elapsed 0.06s / Remaining 00:00:00:00"
     ]
    },
    {
     "name": "stdout",
     "output_type": "stream",
     "text": [
      "\r",
      " [******   24%           ] Elapsed 0.06s / Remaining 00:00:00:00"
     ]
    },
    {
     "name": "stdout",
     "output_type": "stream",
     "text": [
      "\r",
      " [******   24%           ] Elapsed 0.06s / Remaining 00:00:00:00"
     ]
    },
    {
     "name": "stdout",
     "output_type": "stream",
     "text": [
      "\r",
      " [******   25%           ] Elapsed 0.06s / Remaining 00:00:00:00"
     ]
    },
    {
     "name": "stdout",
     "output_type": "stream",
     "text": [
      "\r",
      " [******   25%           ] Elapsed 0.06s / Remaining 00:00:00:00"
     ]
    },
    {
     "name": "stdout",
     "output_type": "stream",
     "text": [
      "\r",
      " [******   25%           ] Elapsed 0.06s / Remaining 00:00:00:00"
     ]
    },
    {
     "name": "stdout",
     "output_type": "stream",
     "text": [
      "\r",
      " [******   25%           ] Elapsed 0.06s / Remaining 00:00:00:00"
     ]
    },
    {
     "name": "stdout",
     "output_type": "stream",
     "text": [
      "\r",
      " [******   25%           ] Elapsed 0.07s / Remaining 00:00:00:00"
     ]
    },
    {
     "name": "stdout",
     "output_type": "stream",
     "text": [
      "\r",
      " [******   25%           ] Elapsed 0.07s / Remaining 00:00:00:00"
     ]
    },
    {
     "name": "stdout",
     "output_type": "stream",
     "text": [
      "\r",
      " [******   26%           ] Elapsed 0.07s / Remaining 00:00:00:00"
     ]
    },
    {
     "name": "stdout",
     "output_type": "stream",
     "text": [
      "\r",
      " [******   26%           ] Elapsed 0.07s / Remaining 00:00:00:00"
     ]
    },
    {
     "name": "stdout",
     "output_type": "stream",
     "text": [
      "\r",
      " [******   26%           ] Elapsed 0.07s / Remaining 00:00:00:00"
     ]
    },
    {
     "name": "stdout",
     "output_type": "stream",
     "text": [
      "\r",
      " [******   26%           ] Elapsed 0.07s / Remaining 00:00:00:00"
     ]
    },
    {
     "name": "stdout",
     "output_type": "stream",
     "text": [
      "\r",
      " [******   26%           ] Elapsed 0.07s / Remaining 00:00:00:00"
     ]
    },
    {
     "name": "stdout",
     "output_type": "stream",
     "text": [
      "\r",
      " [******   26%           ] Elapsed 0.07s / Remaining 00:00:00:00"
     ]
    },
    {
     "name": "stdout",
     "output_type": "stream",
     "text": [
      "\r",
      " [******   27%           ] Elapsed 0.07s / Remaining 00:00:00:00"
     ]
    },
    {
     "name": "stdout",
     "output_type": "stream",
     "text": [
      "\r",
      " [******   27%           ] Elapsed 0.07s / Remaining 00:00:00:00"
     ]
    },
    {
     "name": "stdout",
     "output_type": "stream",
     "text": [
      "\r",
      " [******   27%           ] Elapsed 0.07s / Remaining 00:00:00:00"
     ]
    },
    {
     "name": "stdout",
     "output_type": "stream",
     "text": [
      "\r",
      " [******   27%           ] Elapsed 0.07s / Remaining 00:00:00:00"
     ]
    },
    {
     "name": "stdout",
     "output_type": "stream",
     "text": [
      "\r",
      " [******   27%           ] Elapsed 0.07s / Remaining 00:00:00:00"
     ]
    },
    {
     "name": "stdout",
     "output_type": "stream",
     "text": [
      "\r",
      " [******   27%           ] Elapsed 0.07s / Remaining 00:00:00:00"
     ]
    },
    {
     "name": "stdout",
     "output_type": "stream",
     "text": [
      "\r",
      " [******   28%           ] Elapsed 0.07s / Remaining 00:00:00:00"
     ]
    },
    {
     "name": "stdout",
     "output_type": "stream",
     "text": [
      "\r",
      " [******   28%           ] Elapsed 0.07s / Remaining 00:00:00:00"
     ]
    },
    {
     "name": "stdout",
     "output_type": "stream",
     "text": [
      "\r",
      " [******   28%           ] Elapsed 0.07s / Remaining 00:00:00:00"
     ]
    },
    {
     "name": "stdout",
     "output_type": "stream",
     "text": [
      "\r",
      " [******   28%           ] Elapsed 0.07s / Remaining 00:00:00:00"
     ]
    },
    {
     "name": "stdout",
     "output_type": "stream",
     "text": [
      "\r",
      " [******   28%           ] Elapsed 0.07s / Remaining 00:00:00:00"
     ]
    },
    {
     "name": "stdout",
     "output_type": "stream",
     "text": [
      "\r",
      " [******   28%           ] Elapsed 0.07s / Remaining 00:00:00:00"
     ]
    },
    {
     "name": "stdout",
     "output_type": "stream",
     "text": [
      "\r",
      " [*******  29%           ] Elapsed 0.07s / Remaining 00:00:00:00"
     ]
    },
    {
     "name": "stdout",
     "output_type": "stream",
     "text": [
      "\r",
      " [*******  29%           ] Elapsed 0.07s / Remaining 00:00:00:00"
     ]
    },
    {
     "name": "stdout",
     "output_type": "stream",
     "text": [
      "\r",
      " [*******  29%           ] Elapsed 0.07s / Remaining 00:00:00:00"
     ]
    },
    {
     "name": "stdout",
     "output_type": "stream",
     "text": [
      "\r",
      " [*******  29%           ] Elapsed 0.08s / Remaining 00:00:00:00"
     ]
    },
    {
     "name": "stdout",
     "output_type": "stream",
     "text": [
      "\r",
      " [*******  29%           ] Elapsed 0.08s / Remaining 00:00:00:00"
     ]
    },
    {
     "name": "stdout",
     "output_type": "stream",
     "text": [
      "\r",
      " [*******  29%           ] Elapsed 0.08s / Remaining 00:00:00:00"
     ]
    },
    {
     "name": "stdout",
     "output_type": "stream",
     "text": [
      "\r",
      " [*******  30%           ] Elapsed 0.08s / Remaining 00:00:00:00"
     ]
    },
    {
     "name": "stdout",
     "output_type": "stream",
     "text": [
      "\r",
      " [*******  30%           ] Elapsed 0.08s / Remaining 00:00:00:00"
     ]
    },
    {
     "name": "stdout",
     "output_type": "stream",
     "text": [
      "\r",
      " [*******  30%           ] Elapsed 0.08s / Remaining 00:00:00:00"
     ]
    },
    {
     "name": "stdout",
     "output_type": "stream",
     "text": [
      "\r",
      " [*******  30%           ] Elapsed 0.08s / Remaining 00:00:00:00"
     ]
    },
    {
     "name": "stdout",
     "output_type": "stream",
     "text": [
      "\r",
      " [*******  30%           ] Elapsed 0.08s / Remaining 00:00:00:00"
     ]
    },
    {
     "name": "stdout",
     "output_type": "stream",
     "text": [
      "\r",
      " [*******  30%           ] Elapsed 0.08s / Remaining 00:00:00:00"
     ]
    },
    {
     "name": "stdout",
     "output_type": "stream",
     "text": [
      "\r",
      " [*******  31%           ] Elapsed 0.08s / Remaining 00:00:00:00"
     ]
    },
    {
     "name": "stdout",
     "output_type": "stream",
     "text": [
      "\r",
      " [*******  31%           ] Elapsed 0.08s / Remaining 00:00:00:00"
     ]
    },
    {
     "name": "stdout",
     "output_type": "stream",
     "text": [
      "\r",
      " [*******  31%           ] Elapsed 0.08s / Remaining 00:00:00:00"
     ]
    },
    {
     "name": "stdout",
     "output_type": "stream",
     "text": [
      "\r",
      " [*******  31%           ] Elapsed 0.08s / Remaining 00:00:00:00"
     ]
    },
    {
     "name": "stdout",
     "output_type": "stream",
     "text": [
      "\r",
      " [*******  31%           ] Elapsed 0.08s / Remaining 00:00:00:00"
     ]
    },
    {
     "name": "stdout",
     "output_type": "stream",
     "text": [
      "\r",
      " [*******  31%           ] Elapsed 0.08s / Remaining 00:00:00:00"
     ]
    },
    {
     "name": "stdout",
     "output_type": "stream",
     "text": [
      "\r",
      " [*******  32%           ] Elapsed 0.08s / Remaining 00:00:00:00"
     ]
    },
    {
     "name": "stdout",
     "output_type": "stream",
     "text": [
      "\r",
      " [*******  32%           ] Elapsed 0.08s / Remaining 00:00:00:00"
     ]
    },
    {
     "name": "stdout",
     "output_type": "stream",
     "text": [
      "\r",
      " [*******  32%           ] Elapsed 0.08s / Remaining 00:00:00:00"
     ]
    },
    {
     "name": "stdout",
     "output_type": "stream",
     "text": [
      "\r",
      " [*******  32%           ] Elapsed 0.08s / Remaining 00:00:00:00"
     ]
    },
    {
     "name": "stdout",
     "output_type": "stream",
     "text": [
      "\r",
      " [*******  32%           ] Elapsed 0.08s / Remaining 00:00:00:00"
     ]
    },
    {
     "name": "stdout",
     "output_type": "stream",
     "text": [
      "\r",
      " [*******  32%           ] Elapsed 0.08s / Remaining 00:00:00:00"
     ]
    },
    {
     "name": "stdout",
     "output_type": "stream",
     "text": [
      "\r",
      " [******** 33%           ] Elapsed 0.08s / Remaining 00:00:00:00"
     ]
    },
    {
     "name": "stdout",
     "output_type": "stream",
     "text": [
      "\r",
      " [******** 33%           ] Elapsed 0.08s / Remaining 00:00:00:00"
     ]
    },
    {
     "name": "stdout",
     "output_type": "stream",
     "text": [
      "\r",
      " [******** 33%           ] Elapsed 0.08s / Remaining 00:00:00:00"
     ]
    },
    {
     "name": "stdout",
     "output_type": "stream",
     "text": [
      "\r",
      " [******** 33%           ] Elapsed 0.08s / Remaining 00:00:00:00"
     ]
    },
    {
     "name": "stdout",
     "output_type": "stream",
     "text": [
      "\r",
      " [******** 33%           ] Elapsed 0.09s / Remaining 00:00:00:00"
     ]
    },
    {
     "name": "stdout",
     "output_type": "stream",
     "text": [
      "\r",
      " [******** 33%           ] Elapsed 0.09s / Remaining 00:00:00:00"
     ]
    },
    {
     "name": "stdout",
     "output_type": "stream",
     "text": [
      "\r",
      " [******** 34%           ] Elapsed 0.09s / Remaining 00:00:00:00"
     ]
    },
    {
     "name": "stdout",
     "output_type": "stream",
     "text": [
      "\r",
      " [******** 34%           ] Elapsed 0.09s / Remaining 00:00:00:00"
     ]
    },
    {
     "name": "stdout",
     "output_type": "stream",
     "text": [
      "\r",
      " [******** 34%           ] Elapsed 0.09s / Remaining 00:00:00:00"
     ]
    },
    {
     "name": "stdout",
     "output_type": "stream",
     "text": [
      "\r",
      " [******** 34%           ] Elapsed 0.09s / Remaining 00:00:00:00"
     ]
    },
    {
     "name": "stdout",
     "output_type": "stream",
     "text": [
      "\r",
      " [******** 34%           ] Elapsed 0.09s / Remaining 00:00:00:00"
     ]
    },
    {
     "name": "stdout",
     "output_type": "stream",
     "text": [
      "\r",
      " [******** 34%           ] Elapsed 0.09s / Remaining 00:00:00:00"
     ]
    },
    {
     "name": "stdout",
     "output_type": "stream",
     "text": [
      "\r",
      " [******** 35%           ] Elapsed 0.09s / Remaining 00:00:00:00"
     ]
    },
    {
     "name": "stdout",
     "output_type": "stream",
     "text": [
      "\r",
      " [******** 35%           ] Elapsed 0.09s / Remaining 00:00:00:00"
     ]
    },
    {
     "name": "stdout",
     "output_type": "stream",
     "text": [
      "\r",
      " [******** 35%           ] Elapsed 0.09s / Remaining 00:00:00:00"
     ]
    },
    {
     "name": "stdout",
     "output_type": "stream",
     "text": [
      "\r",
      " [******** 35%           ] Elapsed 0.09s / Remaining 00:00:00:00"
     ]
    },
    {
     "name": "stdout",
     "output_type": "stream",
     "text": [
      "\r",
      " [******** 35%           ] Elapsed 0.09s / Remaining 00:00:00:00"
     ]
    },
    {
     "name": "stdout",
     "output_type": "stream",
     "text": [
      "\r",
      " [******** 35%           ] Elapsed 0.09s / Remaining 00:00:00:00"
     ]
    },
    {
     "name": "stdout",
     "output_type": "stream",
     "text": [
      "\r",
      " [******** 36%           ] Elapsed 0.09s / Remaining 00:00:00:00"
     ]
    },
    {
     "name": "stdout",
     "output_type": "stream",
     "text": [
      "\r",
      " [******** 36%           ] Elapsed 0.09s / Remaining 00:00:00:00"
     ]
    },
    {
     "name": "stdout",
     "output_type": "stream",
     "text": [
      "\r",
      " [******** 36%           ] Elapsed 0.09s / Remaining 00:00:00:00"
     ]
    },
    {
     "name": "stdout",
     "output_type": "stream",
     "text": [
      "\r",
      " [******** 36%           ] Elapsed 0.09s / Remaining 00:00:00:00"
     ]
    },
    {
     "name": "stdout",
     "output_type": "stream",
     "text": [
      "\r",
      " [******** 36%           ] Elapsed 0.09s / Remaining 00:00:00:00"
     ]
    },
    {
     "name": "stdout",
     "output_type": "stream",
     "text": [
      "\r",
      " [******** 36%           ] Elapsed 0.09s / Remaining 00:00:00:00"
     ]
    },
    {
     "name": "stdout",
     "output_type": "stream",
     "text": [
      "\r",
      " [*********37%           ] Elapsed 0.09s / Remaining 00:00:00:00"
     ]
    },
    {
     "name": "stdout",
     "output_type": "stream",
     "text": [
      "\r",
      " [*********37%           ] Elapsed 0.09s / Remaining 00:00:00:00"
     ]
    },
    {
     "name": "stdout",
     "output_type": "stream",
     "text": [
      "\r",
      " [*********37%           ] Elapsed 0.09s / Remaining 00:00:00:00"
     ]
    },
    {
     "name": "stdout",
     "output_type": "stream",
     "text": [
      "\r",
      " [*********37%           ] Elapsed 0.10s / Remaining 00:00:00:00"
     ]
    },
    {
     "name": "stdout",
     "output_type": "stream",
     "text": [
      "\r",
      " [*********37%           ] Elapsed 0.10s / Remaining 00:00:00:00"
     ]
    },
    {
     "name": "stdout",
     "output_type": "stream",
     "text": [
      "\r",
      " [*********37%           ] Elapsed 0.10s / Remaining 00:00:00:00"
     ]
    },
    {
     "name": "stdout",
     "output_type": "stream",
     "text": [
      "\r",
      " [*********38%           ] Elapsed 0.10s / Remaining 00:00:00:00"
     ]
    },
    {
     "name": "stdout",
     "output_type": "stream",
     "text": [
      "\r",
      " [*********38%           ] Elapsed 0.10s / Remaining 00:00:00:00"
     ]
    },
    {
     "name": "stdout",
     "output_type": "stream",
     "text": [
      "\r",
      " [*********38%           ] Elapsed 0.10s / Remaining 00:00:00:00"
     ]
    },
    {
     "name": "stdout",
     "output_type": "stream",
     "text": [
      "\r",
      " [*********38%           ] Elapsed 0.10s / Remaining 00:00:00:00"
     ]
    },
    {
     "name": "stdout",
     "output_type": "stream",
     "text": [
      "\r",
      " [*********38%           ] Elapsed 0.10s / Remaining 00:00:00:00"
     ]
    },
    {
     "name": "stdout",
     "output_type": "stream",
     "text": [
      "\r",
      " [*********38%           ] Elapsed 0.10s / Remaining 00:00:00:00"
     ]
    },
    {
     "name": "stdout",
     "output_type": "stream",
     "text": [
      "\r",
      " [*********39%           ] Elapsed 0.10s / Remaining 00:00:00:00"
     ]
    },
    {
     "name": "stdout",
     "output_type": "stream",
     "text": [
      "\r",
      " [*********39%           ] Elapsed 0.10s / Remaining 00:00:00:00"
     ]
    },
    {
     "name": "stdout",
     "output_type": "stream",
     "text": [
      "\r",
      " [*********39%           ] Elapsed 0.10s / Remaining 00:00:00:00"
     ]
    },
    {
     "name": "stdout",
     "output_type": "stream",
     "text": [
      "\r",
      " [*********39%           ] Elapsed 0.10s / Remaining 00:00:00:00"
     ]
    },
    {
     "name": "stdout",
     "output_type": "stream",
     "text": [
      "\r",
      " [*********39%           ] Elapsed 0.10s / Remaining 00:00:00:00"
     ]
    },
    {
     "name": "stdout",
     "output_type": "stream",
     "text": [
      "\r",
      " [*********39%           ] Elapsed 0.10s / Remaining 00:00:00:00"
     ]
    },
    {
     "name": "stdout",
     "output_type": "stream",
     "text": [
      "\r",
      " [*********40%           ] Elapsed 0.10s / Remaining 00:00:00:00"
     ]
    },
    {
     "name": "stdout",
     "output_type": "stream",
     "text": [
      "\r",
      " [*********40%           ] Elapsed 0.10s / Remaining 00:00:00:00"
     ]
    },
    {
     "name": "stdout",
     "output_type": "stream",
     "text": [
      "\r",
      " [*********40%           ] Elapsed 0.10s / Remaining 00:00:00:00"
     ]
    },
    {
     "name": "stdout",
     "output_type": "stream",
     "text": [
      "\r",
      " [*********40%           ] Elapsed 0.10s / Remaining 00:00:00:00"
     ]
    },
    {
     "name": "stdout",
     "output_type": "stream",
     "text": [
      "\r",
      " [*********40%           ] Elapsed 0.10s / Remaining 00:00:00:00"
     ]
    },
    {
     "name": "stdout",
     "output_type": "stream",
     "text": [
      "\r",
      " [*********40%           ] Elapsed 0.10s / Remaining 00:00:00:00"
     ]
    },
    {
     "name": "stdout",
     "output_type": "stream",
     "text": [
      "\r",
      " [*********41%           ] Elapsed 0.10s / Remaining 00:00:00:00"
     ]
    },
    {
     "name": "stdout",
     "output_type": "stream",
     "text": [
      "\r",
      " [*********41%           ] Elapsed 0.10s / Remaining 00:00:00:00"
     ]
    },
    {
     "name": "stdout",
     "output_type": "stream",
     "text": [
      "\r",
      " [*********41%           ] Elapsed 0.10s / Remaining 00:00:00:00"
     ]
    },
    {
     "name": "stdout",
     "output_type": "stream",
     "text": [
      "\r",
      " [*********41%           ] Elapsed 0.11s / Remaining 00:00:00:00"
     ]
    },
    {
     "name": "stdout",
     "output_type": "stream",
     "text": [
      "\r",
      " [*********41%           ] Elapsed 0.11s / Remaining 00:00:00:00"
     ]
    },
    {
     "name": "stdout",
     "output_type": "stream",
     "text": [
      "\r",
      " [*********41%           ] Elapsed 0.11s / Remaining 00:00:00:00"
     ]
    },
    {
     "name": "stdout",
     "output_type": "stream",
     "text": [
      "\r",
      " [*********42%           ] Elapsed 0.11s / Remaining 00:00:00:00"
     ]
    },
    {
     "name": "stdout",
     "output_type": "stream",
     "text": [
      "\r",
      " [*********42%           ] Elapsed 0.11s / Remaining 00:00:00:00"
     ]
    },
    {
     "name": "stdout",
     "output_type": "stream",
     "text": [
      "\r",
      " [*********42%           ] Elapsed 0.11s / Remaining 00:00:00:00"
     ]
    },
    {
     "name": "stdout",
     "output_type": "stream",
     "text": [
      "\r",
      " [*********42%           ] Elapsed 0.11s / Remaining 00:00:00:00"
     ]
    },
    {
     "name": "stdout",
     "output_type": "stream",
     "text": [
      "\r",
      " [*********42%           ] Elapsed 0.11s / Remaining 00:00:00:00"
     ]
    },
    {
     "name": "stdout",
     "output_type": "stream",
     "text": [
      "\r",
      " [*********42%           ] Elapsed 0.11s / Remaining 00:00:00:00"
     ]
    },
    {
     "name": "stdout",
     "output_type": "stream",
     "text": [
      "\r",
      " [*********43%           ] Elapsed 0.11s / Remaining 00:00:00:00"
     ]
    },
    {
     "name": "stdout",
     "output_type": "stream",
     "text": [
      "\r",
      " [*********43%           ] Elapsed 0.11s / Remaining 00:00:00:00"
     ]
    },
    {
     "name": "stdout",
     "output_type": "stream",
     "text": [
      "\r",
      " [*********43%           ] Elapsed 0.11s / Remaining 00:00:00:00"
     ]
    },
    {
     "name": "stdout",
     "output_type": "stream",
     "text": [
      "\r",
      " [*********43%           ] Elapsed 0.11s / Remaining 00:00:00:00"
     ]
    },
    {
     "name": "stdout",
     "output_type": "stream",
     "text": [
      "\r",
      " [*********43%           ] Elapsed 0.11s / Remaining 00:00:00:00"
     ]
    },
    {
     "name": "stdout",
     "output_type": "stream",
     "text": [
      "\r",
      " [*********43%           ] Elapsed 0.11s / Remaining 00:00:00:00"
     ]
    },
    {
     "name": "stdout",
     "output_type": "stream",
     "text": [
      "\r",
      " [*********44%           ] Elapsed 0.11s / Remaining 00:00:00:00"
     ]
    },
    {
     "name": "stdout",
     "output_type": "stream",
     "text": [
      "\r",
      " [*********44%           ] Elapsed 0.11s / Remaining 00:00:00:00"
     ]
    },
    {
     "name": "stdout",
     "output_type": "stream",
     "text": [
      "\r",
      " [*********44%           ] Elapsed 0.11s / Remaining 00:00:00:00"
     ]
    },
    {
     "name": "stdout",
     "output_type": "stream",
     "text": [
      "\r",
      " [*********44%           ] Elapsed 0.11s / Remaining 00:00:00:00"
     ]
    },
    {
     "name": "stdout",
     "output_type": "stream",
     "text": [
      "\r",
      " [*********44%           ] Elapsed 0.11s / Remaining 00:00:00:00"
     ]
    },
    {
     "name": "stdout",
     "output_type": "stream",
     "text": [
      "\r",
      " [*********44%           ] Elapsed 0.11s / Remaining 00:00:00:00"
     ]
    },
    {
     "name": "stdout",
     "output_type": "stream",
     "text": [
      "\r",
      " [*********45%           ] Elapsed 0.11s / Remaining 00:00:00:00"
     ]
    },
    {
     "name": "stdout",
     "output_type": "stream",
     "text": [
      "\r",
      " [*********45%           ] Elapsed 0.11s / Remaining 00:00:00:00"
     ]
    },
    {
     "name": "stdout",
     "output_type": "stream",
     "text": [
      "\r",
      " [*********45%           ] Elapsed 0.11s / Remaining 00:00:00:00"
     ]
    },
    {
     "name": "stdout",
     "output_type": "stream",
     "text": [
      "\r",
      " [*********45%           ] Elapsed 0.11s / Remaining 00:00:00:00"
     ]
    },
    {
     "name": "stdout",
     "output_type": "stream",
     "text": [
      "\r",
      " [*********45%           ] Elapsed 0.11s / Remaining 00:00:00:00"
     ]
    },
    {
     "name": "stdout",
     "output_type": "stream",
     "text": [
      "\r",
      " [*********45%           ] Elapsed 0.11s / Remaining 00:00:00:00"
     ]
    },
    {
     "name": "stdout",
     "output_type": "stream",
     "text": [
      "\r",
      " [*********46%           ] Elapsed 0.12s / Remaining 00:00:00:00"
     ]
    },
    {
     "name": "stdout",
     "output_type": "stream",
     "text": [
      "\r",
      " [*********46%           ] Elapsed 0.12s / Remaining 00:00:00:00"
     ]
    },
    {
     "name": "stdout",
     "output_type": "stream",
     "text": [
      "\r",
      " [*********46%           ] Elapsed 0.12s / Remaining 00:00:00:00"
     ]
    },
    {
     "name": "stdout",
     "output_type": "stream",
     "text": [
      "\r",
      " [*********46%           ] Elapsed 0.12s / Remaining 00:00:00:00"
     ]
    },
    {
     "name": "stdout",
     "output_type": "stream",
     "text": [
      "\r",
      " [*********46%           ] Elapsed 0.12s / Remaining 00:00:00:00"
     ]
    },
    {
     "name": "stdout",
     "output_type": "stream",
     "text": [
      "\r",
      " [*********46%           ] Elapsed 0.12s / Remaining 00:00:00:00"
     ]
    },
    {
     "name": "stdout",
     "output_type": "stream",
     "text": [
      "\r",
      " [*********47%           ] Elapsed 0.12s / Remaining 00:00:00:00"
     ]
    },
    {
     "name": "stdout",
     "output_type": "stream",
     "text": [
      "\r",
      " [*********47%           ] Elapsed 0.12s / Remaining 00:00:00:00"
     ]
    },
    {
     "name": "stdout",
     "output_type": "stream",
     "text": [
      "\r",
      " [*********47%           ] Elapsed 0.12s / Remaining 00:00:00:00"
     ]
    },
    {
     "name": "stdout",
     "output_type": "stream",
     "text": [
      "\r",
      " [*********47%           ] Elapsed 0.12s / Remaining 00:00:00:00"
     ]
    },
    {
     "name": "stdout",
     "output_type": "stream",
     "text": [
      "\r",
      " [*********47%           ] Elapsed 0.12s / Remaining 00:00:00:00"
     ]
    },
    {
     "name": "stdout",
     "output_type": "stream",
     "text": [
      "\r",
      " [*********47%           ] Elapsed 0.12s / Remaining 00:00:00:00"
     ]
    },
    {
     "name": "stdout",
     "output_type": "stream",
     "text": [
      "\r",
      " [*********48%           ] Elapsed 0.12s / Remaining 00:00:00:00"
     ]
    },
    {
     "name": "stdout",
     "output_type": "stream",
     "text": [
      "\r",
      " [*********48%           ] Elapsed 0.12s / Remaining 00:00:00:00"
     ]
    },
    {
     "name": "stdout",
     "output_type": "stream",
     "text": [
      "\r",
      " [*********48%           ] Elapsed 0.12s / Remaining 00:00:00:00"
     ]
    },
    {
     "name": "stdout",
     "output_type": "stream",
     "text": [
      "\r",
      " [*********48%           ] Elapsed 0.12s / Remaining 00:00:00:00"
     ]
    },
    {
     "name": "stdout",
     "output_type": "stream",
     "text": [
      "\r",
      " [*********48%           ] Elapsed 0.12s / Remaining 00:00:00:00"
     ]
    },
    {
     "name": "stdout",
     "output_type": "stream",
     "text": [
      "\r",
      " [*********48%           ] Elapsed 0.12s / Remaining 00:00:00:00"
     ]
    },
    {
     "name": "stdout",
     "output_type": "stream",
     "text": [
      "\r",
      " [*********49%           ] Elapsed 0.12s / Remaining 00:00:00:00"
     ]
    },
    {
     "name": "stdout",
     "output_type": "stream",
     "text": [
      "\r",
      " [*********49%           ] Elapsed 0.12s / Remaining 00:00:00:00"
     ]
    },
    {
     "name": "stdout",
     "output_type": "stream",
     "text": [
      "\r",
      " [*********49%           ] Elapsed 0.12s / Remaining 00:00:00:00"
     ]
    },
    {
     "name": "stdout",
     "output_type": "stream",
     "text": [
      "\r",
      " [*********49%           ] Elapsed 0.12s / Remaining 00:00:00:00"
     ]
    },
    {
     "name": "stdout",
     "output_type": "stream",
     "text": [
      "\r",
      " [*********49%           ] Elapsed 0.13s / Remaining 00:00:00:00"
     ]
    },
    {
     "name": "stdout",
     "output_type": "stream",
     "text": [
      "\r",
      " [*********49%           ] Elapsed 0.13s / Remaining 00:00:00:00"
     ]
    },
    {
     "name": "stdout",
     "output_type": "stream",
     "text": [
      "\r",
      " [*********50%           ] Elapsed 0.13s / Remaining 00:00:00:00"
     ]
    },
    {
     "name": "stdout",
     "output_type": "stream",
     "text": [
      "\r",
      " [*********50%           ] Elapsed 0.13s / Remaining 00:00:00:00"
     ]
    },
    {
     "name": "stdout",
     "output_type": "stream",
     "text": [
      "\r",
      " [*********50%           ] Elapsed 0.13s / Remaining 00:00:00:00"
     ]
    },
    {
     "name": "stdout",
     "output_type": "stream",
     "text": [
      "\r",
      " [*********50%           ] Elapsed 0.13s / Remaining 00:00:00:00"
     ]
    },
    {
     "name": "stdout",
     "output_type": "stream",
     "text": [
      "\r",
      " [*********50%           ] Elapsed 0.13s / Remaining 00:00:00:00"
     ]
    },
    {
     "name": "stdout",
     "output_type": "stream",
     "text": [
      "\r",
      " [*********50%           ] Elapsed 0.13s / Remaining 00:00:00:00"
     ]
    },
    {
     "name": "stdout",
     "output_type": "stream",
     "text": [
      "\r",
      " [*********51%           ] Elapsed 0.13s / Remaining 00:00:00:00"
     ]
    },
    {
     "name": "stdout",
     "output_type": "stream",
     "text": [
      "\r",
      " [*********51%           ] Elapsed 0.13s / Remaining 00:00:00:00"
     ]
    },
    {
     "name": "stdout",
     "output_type": "stream",
     "text": [
      "\r",
      " [*********51%           ] Elapsed 0.13s / Remaining 00:00:00:00"
     ]
    },
    {
     "name": "stdout",
     "output_type": "stream",
     "text": [
      "\r",
      " [*********51%           ] Elapsed 0.13s / Remaining 00:00:00:00"
     ]
    },
    {
     "name": "stdout",
     "output_type": "stream",
     "text": [
      "\r",
      " [*********51%           ] Elapsed 0.13s / Remaining 00:00:00:00"
     ]
    },
    {
     "name": "stdout",
     "output_type": "stream",
     "text": [
      "\r",
      " [*********51%           ] Elapsed 0.13s / Remaining 00:00:00:00"
     ]
    },
    {
     "name": "stdout",
     "output_type": "stream",
     "text": [
      "\r",
      " [*********52%           ] Elapsed 0.13s / Remaining 00:00:00:00"
     ]
    },
    {
     "name": "stdout",
     "output_type": "stream",
     "text": [
      "\r",
      " [*********52%           ] Elapsed 0.13s / Remaining 00:00:00:00"
     ]
    },
    {
     "name": "stdout",
     "output_type": "stream",
     "text": [
      "\r",
      " [*********52%           ] Elapsed 0.13s / Remaining 00:00:00:00"
     ]
    },
    {
     "name": "stdout",
     "output_type": "stream",
     "text": [
      "\r",
      " [*********52%           ] Elapsed 0.13s / Remaining 00:00:00:00"
     ]
    },
    {
     "name": "stdout",
     "output_type": "stream",
     "text": [
      "\r",
      " [*********52%           ] Elapsed 0.13s / Remaining 00:00:00:00"
     ]
    },
    {
     "name": "stdout",
     "output_type": "stream",
     "text": [
      "\r",
      " [*********52%           ] Elapsed 0.13s / Remaining 00:00:00:00"
     ]
    },
    {
     "name": "stdout",
     "output_type": "stream",
     "text": [
      "\r",
      " [*********53%           ] Elapsed 0.13s / Remaining 00:00:00:00"
     ]
    },
    {
     "name": "stdout",
     "output_type": "stream",
     "text": [
      "\r",
      " [*********53%           ] Elapsed 0.13s / Remaining 00:00:00:00"
     ]
    },
    {
     "name": "stdout",
     "output_type": "stream",
     "text": [
      "\r",
      " [*********53%           ] Elapsed 0.13s / Remaining 00:00:00:00"
     ]
    },
    {
     "name": "stdout",
     "output_type": "stream",
     "text": [
      "\r",
      " [*********53%           ] Elapsed 0.14s / Remaining 00:00:00:00"
     ]
    },
    {
     "name": "stdout",
     "output_type": "stream",
     "text": [
      "\r",
      " [*********53%           ] Elapsed 0.14s / Remaining 00:00:00:00"
     ]
    },
    {
     "name": "stdout",
     "output_type": "stream",
     "text": [
      "\r",
      " [*********53%           ] Elapsed 0.14s / Remaining 00:00:00:00"
     ]
    },
    {
     "name": "stdout",
     "output_type": "stream",
     "text": [
      "\r",
      " [*********54%           ] Elapsed 0.14s / Remaining 00:00:00:00"
     ]
    },
    {
     "name": "stdout",
     "output_type": "stream",
     "text": [
      "\r",
      " [*********54%           ] Elapsed 0.14s / Remaining 00:00:00:00"
     ]
    },
    {
     "name": "stdout",
     "output_type": "stream",
     "text": [
      "\r",
      " [*********54%           ] Elapsed 0.14s / Remaining 00:00:00:00"
     ]
    },
    {
     "name": "stdout",
     "output_type": "stream",
     "text": [
      "\r",
      " [*********54%           ] Elapsed 0.14s / Remaining 00:00:00:00"
     ]
    },
    {
     "name": "stdout",
     "output_type": "stream",
     "text": [
      "\r",
      " [*********54%           ] Elapsed 0.14s / Remaining 00:00:00:00"
     ]
    },
    {
     "name": "stdout",
     "output_type": "stream",
     "text": [
      "\r",
      " [*********54%           ] Elapsed 0.14s / Remaining 00:00:00:00"
     ]
    },
    {
     "name": "stdout",
     "output_type": "stream",
     "text": [
      "\r",
      " [*********55%*          ] Elapsed 0.14s / Remaining 00:00:00:00"
     ]
    },
    {
     "name": "stdout",
     "output_type": "stream",
     "text": [
      "\r",
      " [*********55%*          ] Elapsed 0.14s / Remaining 00:00:00:00"
     ]
    },
    {
     "name": "stdout",
     "output_type": "stream",
     "text": [
      "\r",
      " [*********55%*          ] Elapsed 0.14s / Remaining 00:00:00:00"
     ]
    },
    {
     "name": "stdout",
     "output_type": "stream",
     "text": [
      "\r",
      " [*********55%*          ] Elapsed 0.14s / Remaining 00:00:00:00"
     ]
    },
    {
     "name": "stdout",
     "output_type": "stream",
     "text": [
      "\r",
      " [*********55%*          ] Elapsed 0.14s / Remaining 00:00:00:00"
     ]
    },
    {
     "name": "stdout",
     "output_type": "stream",
     "text": [
      "\r",
      " [*********55%*          ] Elapsed 0.14s / Remaining 00:00:00:00"
     ]
    },
    {
     "name": "stdout",
     "output_type": "stream",
     "text": [
      "\r",
      " [*********56%*          ] Elapsed 0.14s / Remaining 00:00:00:00"
     ]
    },
    {
     "name": "stdout",
     "output_type": "stream",
     "text": [
      "\r",
      " [*********56%*          ] Elapsed 0.14s / Remaining 00:00:00:00"
     ]
    },
    {
     "name": "stdout",
     "output_type": "stream",
     "text": [
      "\r",
      " [*********56%*          ] Elapsed 0.14s / Remaining 00:00:00:00"
     ]
    },
    {
     "name": "stdout",
     "output_type": "stream",
     "text": [
      "\r",
      " [*********56%*          ] Elapsed 0.14s / Remaining 00:00:00:00"
     ]
    },
    {
     "name": "stdout",
     "output_type": "stream",
     "text": [
      "\r",
      " [*********56%*          ] Elapsed 0.14s / Remaining 00:00:00:00"
     ]
    },
    {
     "name": "stdout",
     "output_type": "stream",
     "text": [
      "\r",
      " [*********56%*          ] Elapsed 0.14s / Remaining 00:00:00:00"
     ]
    },
    {
     "name": "stdout",
     "output_type": "stream",
     "text": [
      "\r",
      " [*********57%*          ] Elapsed 0.15s / Remaining 00:00:00:00"
     ]
    },
    {
     "name": "stdout",
     "output_type": "stream",
     "text": [
      "\r",
      " [*********57%*          ] Elapsed 0.15s / Remaining 00:00:00:00"
     ]
    },
    {
     "name": "stdout",
     "output_type": "stream",
     "text": [
      "\r",
      " [*********57%*          ] Elapsed 0.15s / Remaining 00:00:00:00"
     ]
    },
    {
     "name": "stdout",
     "output_type": "stream",
     "text": [
      "\r",
      " [*********57%*          ] Elapsed 0.15s / Remaining 00:00:00:00"
     ]
    },
    {
     "name": "stdout",
     "output_type": "stream",
     "text": [
      "\r",
      " [*********57%*          ] Elapsed 0.15s / Remaining 00:00:00:00"
     ]
    },
    {
     "name": "stdout",
     "output_type": "stream",
     "text": [
      "\r",
      " [*********57%*          ] Elapsed 0.15s / Remaining 00:00:00:00"
     ]
    },
    {
     "name": "stdout",
     "output_type": "stream",
     "text": [
      "\r",
      " [*********58%*          ] Elapsed 0.15s / Remaining 00:00:00:00"
     ]
    },
    {
     "name": "stdout",
     "output_type": "stream",
     "text": [
      "\r",
      " [*********58%*          ] Elapsed 0.15s / Remaining 00:00:00:00"
     ]
    },
    {
     "name": "stdout",
     "output_type": "stream",
     "text": [
      "\r",
      " [*********58%*          ] Elapsed 0.15s / Remaining 00:00:00:00"
     ]
    },
    {
     "name": "stdout",
     "output_type": "stream",
     "text": [
      "\r",
      " [*********58%*          ] Elapsed 0.15s / Remaining 00:00:00:00"
     ]
    },
    {
     "name": "stdout",
     "output_type": "stream",
     "text": [
      "\r",
      " [*********58%*          ] Elapsed 0.15s / Remaining 00:00:00:00"
     ]
    },
    {
     "name": "stdout",
     "output_type": "stream",
     "text": [
      "\r",
      " [*********58%*          ] Elapsed 0.15s / Remaining 00:00:00:00"
     ]
    },
    {
     "name": "stdout",
     "output_type": "stream",
     "text": [
      "\r",
      " [*********59%**         ] Elapsed 0.15s / Remaining 00:00:00:00"
     ]
    },
    {
     "name": "stdout",
     "output_type": "stream",
     "text": [
      "\r",
      " [*********59%**         ] Elapsed 0.15s / Remaining 00:00:00:00"
     ]
    },
    {
     "name": "stdout",
     "output_type": "stream",
     "text": [
      "\r",
      " [*********59%**         ] Elapsed 0.15s / Remaining 00:00:00:00"
     ]
    },
    {
     "name": "stdout",
     "output_type": "stream",
     "text": [
      "\r",
      " [*********59%**         ] Elapsed 0.15s / Remaining 00:00:00:00"
     ]
    },
    {
     "name": "stdout",
     "output_type": "stream",
     "text": [
      "\r",
      " [*********59%**         ] Elapsed 0.15s / Remaining 00:00:00:00"
     ]
    },
    {
     "name": "stdout",
     "output_type": "stream",
     "text": [
      "\r",
      " [*********59%**         ] Elapsed 0.15s / Remaining 00:00:00:00"
     ]
    },
    {
     "name": "stdout",
     "output_type": "stream",
     "text": [
      "\r",
      " [*********60%**         ] Elapsed 0.15s / Remaining 00:00:00:00"
     ]
    },
    {
     "name": "stdout",
     "output_type": "stream",
     "text": [
      "\r",
      " [*********60%**         ] Elapsed 0.15s / Remaining 00:00:00:00"
     ]
    },
    {
     "name": "stdout",
     "output_type": "stream",
     "text": [
      "\r",
      " [*********60%**         ] Elapsed 0.15s / Remaining 00:00:00:00"
     ]
    },
    {
     "name": "stdout",
     "output_type": "stream",
     "text": [
      "\r",
      " [*********60%**         ] Elapsed 0.15s / Remaining 00:00:00:00"
     ]
    },
    {
     "name": "stdout",
     "output_type": "stream",
     "text": [
      "\r",
      " [*********60%**         ] Elapsed 0.16s / Remaining 00:00:00:00"
     ]
    },
    {
     "name": "stdout",
     "output_type": "stream",
     "text": [
      "\r",
      " [*********60%**         ] Elapsed 0.16s / Remaining 00:00:00:00"
     ]
    },
    {
     "name": "stdout",
     "output_type": "stream",
     "text": [
      "\r",
      " [*********61%**         ] Elapsed 0.16s / Remaining 00:00:00:00"
     ]
    },
    {
     "name": "stdout",
     "output_type": "stream",
     "text": [
      "\r",
      " [*********61%**         ] Elapsed 0.16s / Remaining 00:00:00:00"
     ]
    },
    {
     "name": "stdout",
     "output_type": "stream",
     "text": [
      "\r",
      " [*********61%**         ] Elapsed 0.16s / Remaining 00:00:00:00"
     ]
    },
    {
     "name": "stdout",
     "output_type": "stream",
     "text": [
      "\r",
      " [*********61%**         ] Elapsed 0.16s / Remaining 00:00:00:00"
     ]
    },
    {
     "name": "stdout",
     "output_type": "stream",
     "text": [
      "\r",
      " [*********61%**         ] Elapsed 0.16s / Remaining 00:00:00:00"
     ]
    },
    {
     "name": "stdout",
     "output_type": "stream",
     "text": [
      "\r",
      " [*********61%**         ] Elapsed 0.16s / Remaining 00:00:00:00"
     ]
    },
    {
     "name": "stdout",
     "output_type": "stream",
     "text": [
      "\r",
      " [*********62%**         ] Elapsed 0.16s / Remaining 00:00:00:00"
     ]
    },
    {
     "name": "stdout",
     "output_type": "stream",
     "text": [
      "\r",
      " [*********62%**         ] Elapsed 0.16s / Remaining 00:00:00:00"
     ]
    },
    {
     "name": "stdout",
     "output_type": "stream",
     "text": [
      "\r",
      " [*********62%**         ] Elapsed 0.16s / Remaining 00:00:00:00"
     ]
    },
    {
     "name": "stdout",
     "output_type": "stream",
     "text": [
      "\r",
      " [*********62%**         ] Elapsed 0.16s / Remaining 00:00:00:00"
     ]
    },
    {
     "name": "stdout",
     "output_type": "stream",
     "text": [
      "\r",
      " [*********62%**         ] Elapsed 0.16s / Remaining 00:00:00:00"
     ]
    },
    {
     "name": "stdout",
     "output_type": "stream",
     "text": [
      "\r",
      " [*********62%**         ] Elapsed 0.16s / Remaining 00:00:00:00"
     ]
    },
    {
     "name": "stdout",
     "output_type": "stream",
     "text": [
      "\r",
      " [*********63%**         ] Elapsed 0.16s / Remaining 00:00:00:00"
     ]
    },
    {
     "name": "stdout",
     "output_type": "stream",
     "text": [
      "\r",
      " [*********63%**         ] Elapsed 0.16s / Remaining 00:00:00:00"
     ]
    },
    {
     "name": "stdout",
     "output_type": "stream",
     "text": [
      "\r",
      " [*********63%**         ] Elapsed 0.16s / Remaining 00:00:00:00"
     ]
    },
    {
     "name": "stdout",
     "output_type": "stream",
     "text": [
      "\r",
      " [*********63%**         ] Elapsed 0.16s / Remaining 00:00:00:00"
     ]
    },
    {
     "name": "stdout",
     "output_type": "stream",
     "text": [
      "\r",
      " [*********63%**         ] Elapsed 0.16s / Remaining 00:00:00:00"
     ]
    },
    {
     "name": "stdout",
     "output_type": "stream",
     "text": [
      "\r",
      " [*********63%**         ] Elapsed 0.16s / Remaining 00:00:00:00"
     ]
    },
    {
     "name": "stdout",
     "output_type": "stream",
     "text": [
      "\r",
      " [*********64%***        ] Elapsed 0.17s / Remaining 00:00:00:00"
     ]
    },
    {
     "name": "stdout",
     "output_type": "stream",
     "text": [
      "\r",
      " [*********64%***        ] Elapsed 0.17s / Remaining 00:00:00:00"
     ]
    },
    {
     "name": "stdout",
     "output_type": "stream",
     "text": [
      "\r",
      " [*********64%***        ] Elapsed 0.17s / Remaining 00:00:00:00"
     ]
    },
    {
     "name": "stdout",
     "output_type": "stream",
     "text": [
      "\r",
      " [*********64%***        ] Elapsed 0.17s / Remaining 00:00:00:00"
     ]
    },
    {
     "name": "stdout",
     "output_type": "stream",
     "text": [
      "\r",
      " [*********64%***        ] Elapsed 0.17s / Remaining 00:00:00:00"
     ]
    },
    {
     "name": "stdout",
     "output_type": "stream",
     "text": [
      "\r",
      " [*********64%***        ] Elapsed 0.17s / Remaining 00:00:00:00"
     ]
    },
    {
     "name": "stdout",
     "output_type": "stream",
     "text": [
      "\r",
      " [*********65%***        ] Elapsed 0.17s / Remaining 00:00:00:00"
     ]
    },
    {
     "name": "stdout",
     "output_type": "stream",
     "text": [
      "\r",
      " [*********65%***        ] Elapsed 0.17s / Remaining 00:00:00:00"
     ]
    },
    {
     "name": "stdout",
     "output_type": "stream",
     "text": [
      "\r",
      " [*********65%***        ] Elapsed 0.17s / Remaining 00:00:00:00"
     ]
    },
    {
     "name": "stdout",
     "output_type": "stream",
     "text": [
      "\r",
      " [*********65%***        ] Elapsed 0.17s / Remaining 00:00:00:00"
     ]
    },
    {
     "name": "stdout",
     "output_type": "stream",
     "text": [
      "\r",
      " [*********65%***        ] Elapsed 0.17s / Remaining 00:00:00:00"
     ]
    },
    {
     "name": "stdout",
     "output_type": "stream",
     "text": [
      "\r",
      " [*********65%***        ] Elapsed 0.17s / Remaining 00:00:00:00"
     ]
    },
    {
     "name": "stdout",
     "output_type": "stream",
     "text": [
      "\r",
      " [*********66%***        ] Elapsed 0.17s / Remaining 00:00:00:00"
     ]
    },
    {
     "name": "stdout",
     "output_type": "stream",
     "text": [
      "\r",
      " [*********66%***        ] Elapsed 0.17s / Remaining 00:00:00:00"
     ]
    },
    {
     "name": "stdout",
     "output_type": "stream",
     "text": [
      "\r",
      " [*********66%***        ] Elapsed 0.17s / Remaining 00:00:00:00"
     ]
    },
    {
     "name": "stdout",
     "output_type": "stream",
     "text": [
      "\r",
      " [*********66%***        ] Elapsed 0.17s / Remaining 00:00:00:00"
     ]
    },
    {
     "name": "stdout",
     "output_type": "stream",
     "text": [
      "\r",
      " [*********66%***        ] Elapsed 0.18s / Remaining 00:00:00:00"
     ]
    },
    {
     "name": "stdout",
     "output_type": "stream",
     "text": [
      "\r",
      " [*********66%***        ] Elapsed 0.18s / Remaining 00:00:00:00"
     ]
    },
    {
     "name": "stdout",
     "output_type": "stream",
     "text": [
      "\r",
      " [*********67%***        ] Elapsed 0.18s / Remaining 00:00:00:00"
     ]
    },
    {
     "name": "stdout",
     "output_type": "stream",
     "text": [
      "\r",
      " [*********67%***        ] Elapsed 0.18s / Remaining 00:00:00:00"
     ]
    },
    {
     "name": "stdout",
     "output_type": "stream",
     "text": [
      "\r",
      " [*********67%***        ] Elapsed 0.18s / Remaining 00:00:00:00"
     ]
    },
    {
     "name": "stdout",
     "output_type": "stream",
     "text": [
      "\r",
      " [*********67%***        ] Elapsed 0.18s / Remaining 00:00:00:00"
     ]
    },
    {
     "name": "stdout",
     "output_type": "stream",
     "text": [
      "\r",
      " [*********67%***        ] Elapsed 0.18s / Remaining 00:00:00:00"
     ]
    },
    {
     "name": "stdout",
     "output_type": "stream",
     "text": [
      "\r",
      " [*********67%***        ] Elapsed 0.18s / Remaining 00:00:00:00"
     ]
    },
    {
     "name": "stdout",
     "output_type": "stream",
     "text": [
      "\r",
      " [*********68%****       ] Elapsed 0.18s / Remaining 00:00:00:00"
     ]
    },
    {
     "name": "stdout",
     "output_type": "stream",
     "text": [
      "\r",
      " [*********68%****       ] Elapsed 0.18s / Remaining 00:00:00:00"
     ]
    },
    {
     "name": "stdout",
     "output_type": "stream",
     "text": [
      "\r",
      " [*********68%****       ] Elapsed 0.18s / Remaining 00:00:00:00"
     ]
    },
    {
     "name": "stdout",
     "output_type": "stream",
     "text": [
      "\r",
      " [*********68%****       ] Elapsed 0.18s / Remaining 00:00:00:00"
     ]
    },
    {
     "name": "stdout",
     "output_type": "stream",
     "text": [
      "\r",
      " [*********68%****       ] Elapsed 0.18s / Remaining 00:00:00:00"
     ]
    },
    {
     "name": "stdout",
     "output_type": "stream",
     "text": [
      "\r",
      " [*********68%****       ] Elapsed 0.18s / Remaining 00:00:00:00"
     ]
    },
    {
     "name": "stdout",
     "output_type": "stream",
     "text": [
      "\r",
      " [*********69%****       ] Elapsed 0.18s / Remaining 00:00:00:00"
     ]
    },
    {
     "name": "stdout",
     "output_type": "stream",
     "text": [
      "\r",
      " [*********69%****       ] Elapsed 0.18s / Remaining 00:00:00:00"
     ]
    },
    {
     "name": "stdout",
     "output_type": "stream",
     "text": [
      "\r",
      " [*********69%****       ] Elapsed 0.18s / Remaining 00:00:00:00"
     ]
    },
    {
     "name": "stdout",
     "output_type": "stream",
     "text": [
      "\r",
      " [*********69%****       ] Elapsed 0.18s / Remaining 00:00:00:00"
     ]
    },
    {
     "name": "stdout",
     "output_type": "stream",
     "text": [
      "\r",
      " [*********69%****       ] Elapsed 0.18s / Remaining 00:00:00:00"
     ]
    },
    {
     "name": "stdout",
     "output_type": "stream",
     "text": [
      "\r",
      " [*********69%****       ] Elapsed 0.18s / Remaining 00:00:00:00"
     ]
    },
    {
     "name": "stdout",
     "output_type": "stream",
     "text": [
      "\r",
      " [*********70%****       ] Elapsed 0.18s / Remaining 00:00:00:00"
     ]
    },
    {
     "name": "stdout",
     "output_type": "stream",
     "text": [
      "\r",
      " [*********70%****       ] Elapsed 0.18s / Remaining 00:00:00:00"
     ]
    },
    {
     "name": "stdout",
     "output_type": "stream",
     "text": [
      "\r",
      " [*********70%****       ] Elapsed 0.19s / Remaining 00:00:00:00"
     ]
    },
    {
     "name": "stdout",
     "output_type": "stream",
     "text": [
      "\r",
      " [*********70%****       ] Elapsed 0.19s / Remaining 00:00:00:00"
     ]
    },
    {
     "name": "stdout",
     "output_type": "stream",
     "text": [
      "\r",
      " [*********70%****       ] Elapsed 0.19s / Remaining 00:00:00:00"
     ]
    },
    {
     "name": "stdout",
     "output_type": "stream",
     "text": [
      "\r",
      " [*********70%****       ] Elapsed 0.19s / Remaining 00:00:00:00"
     ]
    },
    {
     "name": "stdout",
     "output_type": "stream",
     "text": [
      "\r",
      " [*********71%****       ] Elapsed 0.19s / Remaining 00:00:00:00"
     ]
    },
    {
     "name": "stdout",
     "output_type": "stream",
     "text": [
      "\r",
      " [*********71%****       ] Elapsed 0.19s / Remaining 00:00:00:00"
     ]
    },
    {
     "name": "stdout",
     "output_type": "stream",
     "text": [
      "\r",
      " [*********71%****       ] Elapsed 0.19s / Remaining 00:00:00:00"
     ]
    },
    {
     "name": "stdout",
     "output_type": "stream",
     "text": [
      "\r",
      " [*********71%****       ] Elapsed 0.19s / Remaining 00:00:00:00"
     ]
    },
    {
     "name": "stdout",
     "output_type": "stream",
     "text": [
      "\r",
      " [*********71%****       ] Elapsed 0.19s / Remaining 00:00:00:00"
     ]
    },
    {
     "name": "stdout",
     "output_type": "stream",
     "text": [
      "\r",
      " [*********71%****       ] Elapsed 0.19s / Remaining 00:00:00:00"
     ]
    },
    {
     "name": "stdout",
     "output_type": "stream",
     "text": [
      "\r",
      " [*********72%*****      ] Elapsed 0.19s / Remaining 00:00:00:00"
     ]
    },
    {
     "name": "stdout",
     "output_type": "stream",
     "text": [
      "\r",
      " [*********72%*****      ] Elapsed 0.19s / Remaining 00:00:00:00"
     ]
    },
    {
     "name": "stdout",
     "output_type": "stream",
     "text": [
      "\r",
      " [*********72%*****      ] Elapsed 0.19s / Remaining 00:00:00:00"
     ]
    },
    {
     "name": "stdout",
     "output_type": "stream",
     "text": [
      "\r",
      " [*********72%*****      ] Elapsed 0.19s / Remaining 00:00:00:00"
     ]
    },
    {
     "name": "stdout",
     "output_type": "stream",
     "text": [
      "\r",
      " [*********72%*****      ] Elapsed 0.19s / Remaining 00:00:00:00"
     ]
    },
    {
     "name": "stdout",
     "output_type": "stream",
     "text": [
      "\r",
      " [*********72%*****      ] Elapsed 0.19s / Remaining 00:00:00:00"
     ]
    },
    {
     "name": "stdout",
     "output_type": "stream",
     "text": [
      "\r",
      " [*********73%*****      ] Elapsed 0.19s / Remaining 00:00:00:00"
     ]
    },
    {
     "name": "stdout",
     "output_type": "stream",
     "text": [
      "\r",
      " [*********73%*****      ] Elapsed 0.19s / Remaining 00:00:00:00"
     ]
    },
    {
     "name": "stdout",
     "output_type": "stream",
     "text": [
      "\r",
      " [*********73%*****      ] Elapsed 0.19s / Remaining 00:00:00:00"
     ]
    },
    {
     "name": "stdout",
     "output_type": "stream",
     "text": [
      "\r",
      " [*********73%*****      ] Elapsed 0.20s / Remaining 00:00:00:00"
     ]
    },
    {
     "name": "stdout",
     "output_type": "stream",
     "text": [
      "\r",
      " [*********73%*****      ] Elapsed 0.20s / Remaining 00:00:00:00"
     ]
    },
    {
     "name": "stdout",
     "output_type": "stream",
     "text": [
      "\r",
      " [*********73%*****      ] Elapsed 0.20s / Remaining 00:00:00:00"
     ]
    },
    {
     "name": "stdout",
     "output_type": "stream",
     "text": [
      "\r",
      " [*********74%*****      ] Elapsed 0.20s / Remaining 00:00:00:00"
     ]
    },
    {
     "name": "stdout",
     "output_type": "stream",
     "text": [
      "\r",
      " [*********74%*****      ] Elapsed 0.20s / Remaining 00:00:00:00"
     ]
    },
    {
     "name": "stdout",
     "output_type": "stream",
     "text": [
      "\r",
      " [*********74%*****      ] Elapsed 0.20s / Remaining 00:00:00:00"
     ]
    },
    {
     "name": "stdout",
     "output_type": "stream",
     "text": [
      "\r",
      " [*********74%*****      ] Elapsed 0.20s / Remaining 00:00:00:00"
     ]
    },
    {
     "name": "stdout",
     "output_type": "stream",
     "text": [
      "\r",
      " [*********74%*****      ] Elapsed 0.20s / Remaining 00:00:00:00"
     ]
    },
    {
     "name": "stdout",
     "output_type": "stream",
     "text": [
      "\r",
      " [*********74%*****      ] Elapsed 0.20s / Remaining 00:00:00:00"
     ]
    },
    {
     "name": "stdout",
     "output_type": "stream",
     "text": [
      "\r",
      " [*********75%*****      ] Elapsed 0.20s / Remaining 00:00:00:00"
     ]
    },
    {
     "name": "stdout",
     "output_type": "stream",
     "text": [
      "\r",
      " [*********75%*****      ] Elapsed 0.20s / Remaining 00:00:00:00"
     ]
    },
    {
     "name": "stdout",
     "output_type": "stream",
     "text": [
      "\r",
      " [*********75%*****      ] Elapsed 0.20s / Remaining 00:00:00:00"
     ]
    },
    {
     "name": "stdout",
     "output_type": "stream",
     "text": [
      "\r",
      " [*********75%*****      ] Elapsed 0.20s / Remaining 00:00:00:00"
     ]
    },
    {
     "name": "stdout",
     "output_type": "stream",
     "text": [
      "\r",
      " [*********75%*****      ] Elapsed 0.20s / Remaining 00:00:00:00"
     ]
    },
    {
     "name": "stdout",
     "output_type": "stream",
     "text": [
      "\r",
      " [*********75%*****      ] Elapsed 0.20s / Remaining 00:00:00:00"
     ]
    },
    {
     "name": "stdout",
     "output_type": "stream",
     "text": [
      "\r",
      " [*********76%*****      ] Elapsed 0.20s / Remaining 00:00:00:00"
     ]
    },
    {
     "name": "stdout",
     "output_type": "stream",
     "text": [
      "\r",
      " [*********76%*****      ] Elapsed 0.20s / Remaining 00:00:00:00"
     ]
    },
    {
     "name": "stdout",
     "output_type": "stream",
     "text": [
      "\r",
      " [*********76%*****      ] Elapsed 0.20s / Remaining 00:00:00:00"
     ]
    },
    {
     "name": "stdout",
     "output_type": "stream",
     "text": [
      "\r",
      " [*********76%*****      ] Elapsed 0.20s / Remaining 00:00:00:00"
     ]
    },
    {
     "name": "stdout",
     "output_type": "stream",
     "text": [
      "\r",
      " [*********76%*****      ] Elapsed 0.20s / Remaining 00:00:00:00"
     ]
    },
    {
     "name": "stdout",
     "output_type": "stream",
     "text": [
      "\r",
      " [*********76%*****      ] Elapsed 0.20s / Remaining 00:00:00:00"
     ]
    },
    {
     "name": "stdout",
     "output_type": "stream",
     "text": [
      "\r",
      " [*********77%******     ] Elapsed 0.21s / Remaining 00:00:00:00"
     ]
    },
    {
     "name": "stdout",
     "output_type": "stream",
     "text": [
      "\r",
      " [*********77%******     ] Elapsed 0.21s / Remaining 00:00:00:00"
     ]
    },
    {
     "name": "stdout",
     "output_type": "stream",
     "text": [
      "\r",
      " [*********77%******     ] Elapsed 0.21s / Remaining 00:00:00:00"
     ]
    },
    {
     "name": "stdout",
     "output_type": "stream",
     "text": [
      "\r",
      " [*********77%******     ] Elapsed 0.21s / Remaining 00:00:00:00"
     ]
    },
    {
     "name": "stdout",
     "output_type": "stream",
     "text": [
      "\r",
      " [*********77%******     ] Elapsed 0.21s / Remaining 00:00:00:00"
     ]
    },
    {
     "name": "stdout",
     "output_type": "stream",
     "text": [
      "\r",
      " [*********77%******     ] Elapsed 0.21s / Remaining 00:00:00:00"
     ]
    },
    {
     "name": "stdout",
     "output_type": "stream",
     "text": [
      "\r",
      " [*********78%******     ] Elapsed 0.21s / Remaining 00:00:00:00"
     ]
    },
    {
     "name": "stdout",
     "output_type": "stream",
     "text": [
      "\r",
      " [*********78%******     ] Elapsed 0.21s / Remaining 00:00:00:00"
     ]
    },
    {
     "name": "stdout",
     "output_type": "stream",
     "text": [
      "\r",
      " [*********78%******     ] Elapsed 0.21s / Remaining 00:00:00:00"
     ]
    },
    {
     "name": "stdout",
     "output_type": "stream",
     "text": [
      "\r",
      " [*********78%******     ] Elapsed 0.21s / Remaining 00:00:00:00"
     ]
    },
    {
     "name": "stdout",
     "output_type": "stream",
     "text": [
      "\r",
      " [*********78%******     ] Elapsed 0.21s / Remaining 00:00:00:00"
     ]
    },
    {
     "name": "stdout",
     "output_type": "stream",
     "text": [
      "\r",
      " [*********78%******     ] Elapsed 0.21s / Remaining 00:00:00:00"
     ]
    },
    {
     "name": "stdout",
     "output_type": "stream",
     "text": [
      "\r",
      " [*********79%******     ] Elapsed 0.21s / Remaining 00:00:00:00"
     ]
    },
    {
     "name": "stdout",
     "output_type": "stream",
     "text": [
      "\r",
      " [*********79%******     ] Elapsed 0.21s / Remaining 00:00:00:00"
     ]
    },
    {
     "name": "stdout",
     "output_type": "stream",
     "text": [
      "\r",
      " [*********79%******     ] Elapsed 0.21s / Remaining 00:00:00:00"
     ]
    },
    {
     "name": "stdout",
     "output_type": "stream",
     "text": [
      "\r",
      " [*********79%******     ] Elapsed 0.21s / Remaining 00:00:00:00"
     ]
    },
    {
     "name": "stdout",
     "output_type": "stream",
     "text": [
      "\r",
      " [*********79%******     ] Elapsed 0.21s / Remaining 00:00:00:00"
     ]
    },
    {
     "name": "stdout",
     "output_type": "stream",
     "text": [
      "\r",
      " [*********79%******     ] Elapsed 0.21s / Remaining 00:00:00:00"
     ]
    },
    {
     "name": "stdout",
     "output_type": "stream",
     "text": [
      "\r",
      " [*********80%******     ] Elapsed 0.21s / Remaining 00:00:00:00"
     ]
    },
    {
     "name": "stdout",
     "output_type": "stream",
     "text": [
      "\r",
      " [*********80%******     ] Elapsed 0.21s / Remaining 00:00:00:00"
     ]
    },
    {
     "name": "stdout",
     "output_type": "stream",
     "text": [
      "\r",
      " [*********80%******     ] Elapsed 0.21s / Remaining 00:00:00:00"
     ]
    },
    {
     "name": "stdout",
     "output_type": "stream",
     "text": [
      "\r",
      " [*********80%******     ] Elapsed 0.21s / Remaining 00:00:00:00"
     ]
    },
    {
     "name": "stdout",
     "output_type": "stream",
     "text": [
      "\r",
      " [*********80%******     ] Elapsed 0.21s / Remaining 00:00:00:00"
     ]
    },
    {
     "name": "stdout",
     "output_type": "stream",
     "text": [
      "\r",
      " [*********80%******     ] Elapsed 0.21s / Remaining 00:00:00:00"
     ]
    },
    {
     "name": "stdout",
     "output_type": "stream",
     "text": [
      "\r",
      " [*********81%*******    ] Elapsed 0.21s / Remaining 00:00:00:00"
     ]
    },
    {
     "name": "stdout",
     "output_type": "stream",
     "text": [
      "\r",
      " [*********81%*******    ] Elapsed 0.22s / Remaining 00:00:00:00"
     ]
    },
    {
     "name": "stdout",
     "output_type": "stream",
     "text": [
      "\r",
      " [*********81%*******    ] Elapsed 0.22s / Remaining 00:00:00:00"
     ]
    },
    {
     "name": "stdout",
     "output_type": "stream",
     "text": [
      "\r",
      " [*********81%*******    ] Elapsed 0.22s / Remaining 00:00:00:00"
     ]
    },
    {
     "name": "stdout",
     "output_type": "stream",
     "text": [
      "\r",
      " [*********81%*******    ] Elapsed 0.22s / Remaining 00:00:00:00"
     ]
    },
    {
     "name": "stdout",
     "output_type": "stream",
     "text": [
      "\r",
      " [*********81%*******    ] Elapsed 0.22s / Remaining 00:00:00:00"
     ]
    },
    {
     "name": "stdout",
     "output_type": "stream",
     "text": [
      "\r",
      " [*********82%*******    ] Elapsed 0.22s / Remaining 00:00:00:00"
     ]
    },
    {
     "name": "stdout",
     "output_type": "stream",
     "text": [
      "\r",
      " [*********82%*******    ] Elapsed 0.22s / Remaining 00:00:00:00"
     ]
    },
    {
     "name": "stdout",
     "output_type": "stream",
     "text": [
      "\r",
      " [*********82%*******    ] Elapsed 0.22s / Remaining 00:00:00:00"
     ]
    },
    {
     "name": "stdout",
     "output_type": "stream",
     "text": [
      "\r",
      " [*********82%*******    ] Elapsed 0.22s / Remaining 00:00:00:00"
     ]
    },
    {
     "name": "stdout",
     "output_type": "stream",
     "text": [
      "\r",
      " [*********82%*******    ] Elapsed 0.22s / Remaining 00:00:00:00"
     ]
    },
    {
     "name": "stdout",
     "output_type": "stream",
     "text": [
      "\r",
      " [*********82%*******    ] Elapsed 0.22s / Remaining 00:00:00:00"
     ]
    },
    {
     "name": "stdout",
     "output_type": "stream",
     "text": [
      "\r",
      " [*********83%*******    ] Elapsed 0.22s / Remaining 00:00:00:00"
     ]
    },
    {
     "name": "stdout",
     "output_type": "stream",
     "text": [
      "\r",
      " [*********83%*******    ] Elapsed 0.22s / Remaining 00:00:00:00"
     ]
    },
    {
     "name": "stdout",
     "output_type": "stream",
     "text": [
      "\r",
      " [*********83%*******    ] Elapsed 0.22s / Remaining 00:00:00:00"
     ]
    },
    {
     "name": "stdout",
     "output_type": "stream",
     "text": [
      "\r",
      " [*********83%*******    ] Elapsed 0.22s / Remaining 00:00:00:00"
     ]
    },
    {
     "name": "stdout",
     "output_type": "stream",
     "text": [
      "\r",
      " [*********83%*******    ] Elapsed 0.22s / Remaining 00:00:00:00"
     ]
    },
    {
     "name": "stdout",
     "output_type": "stream",
     "text": [
      "\r",
      " [*********83%*******    ] Elapsed 0.22s / Remaining 00:00:00:00"
     ]
    },
    {
     "name": "stdout",
     "output_type": "stream",
     "text": [
      "\r",
      " [*********84%*******    ] Elapsed 0.22s / Remaining 00:00:00:00"
     ]
    },
    {
     "name": "stdout",
     "output_type": "stream",
     "text": [
      "\r",
      " [*********84%*******    ] Elapsed 0.22s / Remaining 00:00:00:00"
     ]
    },
    {
     "name": "stdout",
     "output_type": "stream",
     "text": [
      "\r",
      " [*********84%*******    ] Elapsed 0.22s / Remaining 00:00:00:00"
     ]
    },
    {
     "name": "stdout",
     "output_type": "stream",
     "text": [
      "\r",
      " [*********84%*******    ] Elapsed 0.22s / Remaining 00:00:00:00"
     ]
    },
    {
     "name": "stdout",
     "output_type": "stream",
     "text": [
      "\r",
      " [*********84%*******    ] Elapsed 0.22s / Remaining 00:00:00:00"
     ]
    },
    {
     "name": "stdout",
     "output_type": "stream",
     "text": [
      "\r",
      " [*********84%*******    ] Elapsed 0.22s / Remaining 00:00:00:00"
     ]
    },
    {
     "name": "stdout",
     "output_type": "stream",
     "text": [
      "\r",
      " [*********85%********   ] Elapsed 0.23s / Remaining 00:00:00:00"
     ]
    },
    {
     "name": "stdout",
     "output_type": "stream",
     "text": [
      "\r",
      " [*********85%********   ] Elapsed 0.23s / Remaining 00:00:00:00"
     ]
    },
    {
     "name": "stdout",
     "output_type": "stream",
     "text": [
      "\r",
      " [*********85%********   ] Elapsed 0.23s / Remaining 00:00:00:00"
     ]
    },
    {
     "name": "stdout",
     "output_type": "stream",
     "text": [
      "\r",
      " [*********85%********   ] Elapsed 0.23s / Remaining 00:00:00:00"
     ]
    },
    {
     "name": "stdout",
     "output_type": "stream",
     "text": [
      "\r",
      " [*********85%********   ] Elapsed 0.23s / Remaining 00:00:00:00"
     ]
    },
    {
     "name": "stdout",
     "output_type": "stream",
     "text": [
      "\r",
      " [*********85%********   ] Elapsed 0.23s / Remaining 00:00:00:00"
     ]
    },
    {
     "name": "stdout",
     "output_type": "stream",
     "text": [
      "\r",
      " [*********86%********   ] Elapsed 0.23s / Remaining 00:00:00:00"
     ]
    },
    {
     "name": "stdout",
     "output_type": "stream",
     "text": [
      "\r",
      " [*********86%********   ] Elapsed 0.23s / Remaining 00:00:00:00"
     ]
    },
    {
     "name": "stdout",
     "output_type": "stream",
     "text": [
      "\r",
      " [*********86%********   ] Elapsed 0.23s / Remaining 00:00:00:00"
     ]
    },
    {
     "name": "stdout",
     "output_type": "stream",
     "text": [
      "\r",
      " [*********86%********   ] Elapsed 0.23s / Remaining 00:00:00:00"
     ]
    },
    {
     "name": "stdout",
     "output_type": "stream",
     "text": [
      "\r",
      " [*********86%********   ] Elapsed 0.23s / Remaining 00:00:00:00"
     ]
    },
    {
     "name": "stdout",
     "output_type": "stream",
     "text": [
      "\r",
      " [*********86%********   ] Elapsed 0.23s / Remaining 00:00:00:00"
     ]
    },
    {
     "name": "stdout",
     "output_type": "stream",
     "text": [
      "\r",
      " [*********87%********   ] Elapsed 0.23s / Remaining 00:00:00:00"
     ]
    },
    {
     "name": "stdout",
     "output_type": "stream",
     "text": [
      "\r",
      " [*********87%********   ] Elapsed 0.23s / Remaining 00:00:00:00"
     ]
    },
    {
     "name": "stdout",
     "output_type": "stream",
     "text": [
      "\r",
      " [*********87%********   ] Elapsed 0.23s / Remaining 00:00:00:00"
     ]
    },
    {
     "name": "stdout",
     "output_type": "stream",
     "text": [
      "\r",
      " [*********87%********   ] Elapsed 0.23s / Remaining 00:00:00:00"
     ]
    },
    {
     "name": "stdout",
     "output_type": "stream",
     "text": [
      "\r",
      " [*********87%********   ] Elapsed 0.23s / Remaining 00:00:00:00"
     ]
    },
    {
     "name": "stdout",
     "output_type": "stream",
     "text": [
      "\r",
      " [*********87%********   ] Elapsed 0.23s / Remaining 00:00:00:00"
     ]
    },
    {
     "name": "stdout",
     "output_type": "stream",
     "text": [
      "\r",
      " [*********88%********   ] Elapsed 0.23s / Remaining 00:00:00:00"
     ]
    },
    {
     "name": "stdout",
     "output_type": "stream",
     "text": [
      "\r",
      " [*********88%********   ] Elapsed 0.23s / Remaining 00:00:00:00"
     ]
    },
    {
     "name": "stdout",
     "output_type": "stream",
     "text": [
      "\r",
      " [*********88%********   ] Elapsed 0.23s / Remaining 00:00:00:00"
     ]
    },
    {
     "name": "stdout",
     "output_type": "stream",
     "text": [
      "\r",
      " [*********88%********   ] Elapsed 0.23s / Remaining 00:00:00:00"
     ]
    },
    {
     "name": "stdout",
     "output_type": "stream",
     "text": [
      "\r",
      " [*********88%********   ] Elapsed 0.23s / Remaining 00:00:00:00"
     ]
    },
    {
     "name": "stdout",
     "output_type": "stream",
     "text": [
      "\r",
      " [*********88%********   ] Elapsed 0.23s / Remaining 00:00:00:00"
     ]
    },
    {
     "name": "stdout",
     "output_type": "stream",
     "text": [
      "\r",
      " [*********89%********   ] Elapsed 0.23s / Remaining 00:00:00:00"
     ]
    },
    {
     "name": "stdout",
     "output_type": "stream",
     "text": [
      "\r",
      " [*********89%********   ] Elapsed 0.24s / Remaining 00:00:00:00"
     ]
    },
    {
     "name": "stdout",
     "output_type": "stream",
     "text": [
      "\r",
      " [*********89%********   ] Elapsed 0.24s / Remaining 00:00:00:00"
     ]
    },
    {
     "name": "stdout",
     "output_type": "stream",
     "text": [
      "\r",
      " [*********89%********   ] Elapsed 0.24s / Remaining 00:00:00:00"
     ]
    },
    {
     "name": "stdout",
     "output_type": "stream",
     "text": [
      "\r",
      " [*********89%********   ] Elapsed 0.24s / Remaining 00:00:00:00"
     ]
    },
    {
     "name": "stdout",
     "output_type": "stream",
     "text": [
      "\r",
      " [*********89%********   ] Elapsed 0.24s / Remaining 00:00:00:00"
     ]
    },
    {
     "name": "stdout",
     "output_type": "stream",
     "text": [
      "\r",
      " [*********90%*********  ] Elapsed 0.24s / Remaining 00:00:00:00"
     ]
    },
    {
     "name": "stdout",
     "output_type": "stream",
     "text": [
      "\r",
      " [*********90%*********  ] Elapsed 0.24s / Remaining 00:00:00:00"
     ]
    },
    {
     "name": "stdout",
     "output_type": "stream",
     "text": [
      "\r",
      " [*********90%*********  ] Elapsed 0.24s / Remaining 00:00:00:00"
     ]
    },
    {
     "name": "stdout",
     "output_type": "stream",
     "text": [
      "\r",
      " [*********90%*********  ] Elapsed 0.24s / Remaining 00:00:00:00"
     ]
    },
    {
     "name": "stdout",
     "output_type": "stream",
     "text": [
      "\r",
      " [*********90%*********  ] Elapsed 0.24s / Remaining 00:00:00:00"
     ]
    },
    {
     "name": "stdout",
     "output_type": "stream",
     "text": [
      "\r",
      " [*********90%*********  ] Elapsed 0.24s / Remaining 00:00:00:00"
     ]
    },
    {
     "name": "stdout",
     "output_type": "stream",
     "text": [
      "\r",
      " [*********91%*********  ] Elapsed 0.24s / Remaining 00:00:00:00"
     ]
    },
    {
     "name": "stdout",
     "output_type": "stream",
     "text": [
      "\r",
      " [*********91%*********  ] Elapsed 0.24s / Remaining 00:00:00:00"
     ]
    },
    {
     "name": "stdout",
     "output_type": "stream",
     "text": [
      "\r",
      " [*********91%*********  ] Elapsed 0.24s / Remaining 00:00:00:00"
     ]
    },
    {
     "name": "stdout",
     "output_type": "stream",
     "text": [
      "\r",
      " [*********91%*********  ] Elapsed 0.24s / Remaining 00:00:00:00"
     ]
    },
    {
     "name": "stdout",
     "output_type": "stream",
     "text": [
      "\r",
      " [*********91%*********  ] Elapsed 0.24s / Remaining 00:00:00:00"
     ]
    },
    {
     "name": "stdout",
     "output_type": "stream",
     "text": [
      "\r",
      " [*********91%*********  ] Elapsed 0.24s / Remaining 00:00:00:00"
     ]
    },
    {
     "name": "stdout",
     "output_type": "stream",
     "text": [
      "\r",
      " [*********92%*********  ] Elapsed 0.24s / Remaining 00:00:00:00"
     ]
    },
    {
     "name": "stdout",
     "output_type": "stream",
     "text": [
      "\r",
      " [*********92%*********  ] Elapsed 0.24s / Remaining 00:00:00:00"
     ]
    },
    {
     "name": "stdout",
     "output_type": "stream",
     "text": [
      "\r",
      " [*********92%*********  ] Elapsed 0.24s / Remaining 00:00:00:00"
     ]
    },
    {
     "name": "stdout",
     "output_type": "stream",
     "text": [
      "\r",
      " [*********92%*********  ] Elapsed 0.24s / Remaining 00:00:00:00"
     ]
    },
    {
     "name": "stdout",
     "output_type": "stream",
     "text": [
      "\r",
      " [*********92%*********  ] Elapsed 0.24s / Remaining 00:00:00:00"
     ]
    },
    {
     "name": "stdout",
     "output_type": "stream",
     "text": [
      "\r",
      " [*********92%*********  ] Elapsed 0.24s / Remaining 00:00:00:00"
     ]
    },
    {
     "name": "stdout",
     "output_type": "stream",
     "text": [
      "\r",
      " [*********93%*********  ] Elapsed 0.25s / Remaining 00:00:00:00"
     ]
    },
    {
     "name": "stdout",
     "output_type": "stream",
     "text": [
      "\r",
      " [*********93%*********  ] Elapsed 0.25s / Remaining 00:00:00:00"
     ]
    },
    {
     "name": "stdout",
     "output_type": "stream",
     "text": [
      "\r",
      " [*********93%*********  ] Elapsed 0.25s / Remaining 00:00:00:00"
     ]
    },
    {
     "name": "stdout",
     "output_type": "stream",
     "text": [
      "\r",
      " [*********93%*********  ] Elapsed 0.25s / Remaining 00:00:00:00"
     ]
    },
    {
     "name": "stdout",
     "output_type": "stream",
     "text": [
      "\r",
      " [*********93%*********  ] Elapsed 0.25s / Remaining 00:00:00:00"
     ]
    },
    {
     "name": "stdout",
     "output_type": "stream",
     "text": [
      "\r",
      " [*********93%*********  ] Elapsed 0.25s / Remaining 00:00:00:00"
     ]
    },
    {
     "name": "stdout",
     "output_type": "stream",
     "text": [
      "\r",
      " [*********94%********** ] Elapsed 0.25s / Remaining 00:00:00:00"
     ]
    },
    {
     "name": "stdout",
     "output_type": "stream",
     "text": [
      "\r",
      " [*********94%********** ] Elapsed 0.25s / Remaining 00:00:00:00"
     ]
    },
    {
     "name": "stdout",
     "output_type": "stream",
     "text": [
      "\r",
      " [*********94%********** ] Elapsed 0.25s / Remaining 00:00:00:00"
     ]
    },
    {
     "name": "stdout",
     "output_type": "stream",
     "text": [
      "\r",
      " [*********94%********** ] Elapsed 0.25s / Remaining 00:00:00:00"
     ]
    },
    {
     "name": "stdout",
     "output_type": "stream",
     "text": [
      "\r",
      " [*********94%********** ] Elapsed 0.25s / Remaining 00:00:00:00"
     ]
    },
    {
     "name": "stdout",
     "output_type": "stream",
     "text": [
      "\r",
      " [*********94%********** ] Elapsed 0.25s / Remaining 00:00:00:00"
     ]
    },
    {
     "name": "stdout",
     "output_type": "stream",
     "text": [
      "\r",
      " [*********95%********** ] Elapsed 0.25s / Remaining 00:00:00:00"
     ]
    },
    {
     "name": "stdout",
     "output_type": "stream",
     "text": [
      "\r",
      " [*********95%********** ] Elapsed 0.25s / Remaining 00:00:00:00"
     ]
    },
    {
     "name": "stdout",
     "output_type": "stream",
     "text": [
      "\r",
      " [*********95%********** ] Elapsed 0.25s / Remaining 00:00:00:00"
     ]
    },
    {
     "name": "stdout",
     "output_type": "stream",
     "text": [
      "\r",
      " [*********95%********** ] Elapsed 0.25s / Remaining 00:00:00:00"
     ]
    },
    {
     "name": "stdout",
     "output_type": "stream",
     "text": [
      "\r",
      " [*********95%********** ] Elapsed 0.25s / Remaining 00:00:00:00"
     ]
    },
    {
     "name": "stdout",
     "output_type": "stream",
     "text": [
      "\r",
      " [*********95%********** ] Elapsed 0.25s / Remaining 00:00:00:00"
     ]
    },
    {
     "name": "stdout",
     "output_type": "stream",
     "text": [
      "\r",
      " [*********96%********** ] Elapsed 0.25s / Remaining 00:00:00:00"
     ]
    },
    {
     "name": "stdout",
     "output_type": "stream",
     "text": [
      "\r",
      " [*********96%********** ] Elapsed 0.25s / Remaining 00:00:00:00"
     ]
    },
    {
     "name": "stdout",
     "output_type": "stream",
     "text": [
      "\r",
      " [*********96%********** ] Elapsed 0.25s / Remaining 00:00:00:00"
     ]
    },
    {
     "name": "stdout",
     "output_type": "stream",
     "text": [
      "\r",
      " [*********96%********** ] Elapsed 0.25s / Remaining 00:00:00:00"
     ]
    },
    {
     "name": "stdout",
     "output_type": "stream",
     "text": [
      "\r",
      " [*********96%********** ] Elapsed 0.25s / Remaining 00:00:00:00"
     ]
    },
    {
     "name": "stdout",
     "output_type": "stream",
     "text": [
      "\r",
      " [*********96%********** ] Elapsed 0.26s / Remaining 00:00:00:00"
     ]
    },
    {
     "name": "stdout",
     "output_type": "stream",
     "text": [
      "\r",
      " [*********97%********** ] Elapsed 0.26s / Remaining 00:00:00:00"
     ]
    },
    {
     "name": "stdout",
     "output_type": "stream",
     "text": [
      "\r",
      " [*********97%********** ] Elapsed 0.26s / Remaining 00:00:00:00"
     ]
    },
    {
     "name": "stdout",
     "output_type": "stream",
     "text": [
      "\r",
      " [*********97%********** ] Elapsed 0.26s / Remaining 00:00:00:00"
     ]
    },
    {
     "name": "stdout",
     "output_type": "stream",
     "text": [
      "\r",
      " [*********97%********** ] Elapsed 0.26s / Remaining 00:00:00:00"
     ]
    },
    {
     "name": "stdout",
     "output_type": "stream",
     "text": [
      "\r",
      " [*********97%********** ] Elapsed 0.26s / Remaining 00:00:00:00"
     ]
    },
    {
     "name": "stdout",
     "output_type": "stream",
     "text": [
      "\r",
      " [*********97%********** ] Elapsed 0.26s / Remaining 00:00:00:00"
     ]
    },
    {
     "name": "stdout",
     "output_type": "stream",
     "text": [
      "\r",
      " [*********98%***********] Elapsed 0.26s / Remaining 00:00:00:00"
     ]
    },
    {
     "name": "stdout",
     "output_type": "stream",
     "text": [
      "\r",
      " [*********98%***********] Elapsed 0.26s / Remaining 00:00:00:00"
     ]
    },
    {
     "name": "stdout",
     "output_type": "stream",
     "text": [
      "\r",
      " [*********98%***********] Elapsed 0.26s / Remaining 00:00:00:00"
     ]
    },
    {
     "name": "stdout",
     "output_type": "stream",
     "text": [
      "\r",
      " [*********98%***********] Elapsed 0.26s / Remaining 00:00:00:00"
     ]
    },
    {
     "name": "stdout",
     "output_type": "stream",
     "text": [
      "\r",
      " [*********98%***********] Elapsed 0.26s / Remaining 00:00:00:00"
     ]
    },
    {
     "name": "stdout",
     "output_type": "stream",
     "text": [
      "\r",
      " [*********98%***********] Elapsed 0.26s / Remaining 00:00:00:00"
     ]
    },
    {
     "name": "stdout",
     "output_type": "stream",
     "text": [
      "\r",
      " [*********99%***********] Elapsed 0.26s / Remaining 00:00:00:00"
     ]
    },
    {
     "name": "stdout",
     "output_type": "stream",
     "text": [
      "\r",
      " [*********99%***********] Elapsed 0.26s / Remaining 00:00:00:00"
     ]
    },
    {
     "name": "stdout",
     "output_type": "stream",
     "text": [
      "\r",
      " [*********99%***********] Elapsed 0.26s / Remaining 00:00:00:00"
     ]
    },
    {
     "name": "stdout",
     "output_type": "stream",
     "text": [
      "\r",
      " [*********99%***********] Elapsed 0.26s / Remaining 00:00:00:00"
     ]
    },
    {
     "name": "stdout",
     "output_type": "stream",
     "text": [
      "\r",
      " [*********99%***********] Elapsed 0.26s / Remaining 00:00:00:00"
     ]
    },
    {
     "name": "stdout",
     "output_type": "stream",
     "text": [
      "\r",
      " [*********99%***********] Elapsed 0.26s / Remaining 00:00:00:00"
     ]
    },
    {
     "name": "stdout",
     "output_type": "stream",
     "text": [
      "\r",
      " [********100%***********] Elapsed 0.26s / Remaining 00:00:00:00"
     ]
    },
    {
     "name": "stdout",
     "output_type": "stream",
     "text": [
      "\r",
      " [********100%***********] Elapsed 0.26s / Remaining 00:00:00:00"
     ]
    },
    {
     "name": "stdout",
     "output_type": "stream",
     "text": [
      "\r",
      " [********100%***********] Elapsed 0.26s / Remaining 00:00:00:00"
     ]
    },
    {
     "name": "stdout",
     "output_type": "stream",
     "text": [
      "\r",
      " Total run time:   0.26s\n",
      "ODE solver time: 0.2656986713409424\n"
     ]
    }
   ],
   "source": [
    "with timer(\"ODE solver time\"):\n",
    "    resultBR = brmesolve(\n",
    "        Hsys, rho0, tlist,\n",
    "        a_ops=[[sigmaz(), env]], sec_cutoff=0, options=options,\n",
    "    )"
   ]
  },
  {
   "cell_type": "markdown",
   "id": "78d23352",
   "metadata": {},
   "source": [
    "## Let's plot all our results\n",
    "\n",
    "Finally, let's plot all of our different results to see how they shape up against each other."
   ]
  },
  {
   "cell_type": "code",
   "execution_count": 21,
   "id": "4e067011",
   "metadata": {
    "execution": {
     "iopub.execute_input": "2025-08-20T04:09:28.028635Z",
     "iopub.status.busy": "2025-08-20T04:09:28.028464Z",
     "iopub.status.idle": "2025-08-20T04:09:28.039439Z",
     "shell.execute_reply": "2025-08-20T04:09:28.038993Z"
    }
   },
   "outputs": [],
   "source": [
    "# Calculate expectation values in the bases:\n",
    "P11_mats = np.real(expect(resultMats.states, P11p))\n",
    "P11_matsT = np.real(expect(resultMatsT.states, P11p))\n",
    "P11_pade = np.real(expect(resultPade.states, P11p))\n",
    "P11_fit = np.real(expect(resultFit.states, P11p))\n",
    "P11_br = np.real(expect(resultBR.states, P11p))"
   ]
  },
  {
   "cell_type": "code",
   "execution_count": 22,
   "id": "c914b0ef",
   "metadata": {
    "execution": {
     "iopub.execute_input": "2025-08-20T04:09:28.040834Z",
     "iopub.status.busy": "2025-08-20T04:09:28.040673Z",
     "iopub.status.idle": "2025-08-20T04:09:28.043234Z",
     "shell.execute_reply": "2025-08-20T04:09:28.042828Z"
    }
   },
   "outputs": [],
   "source": [
    "rcParams = {\n",
    "    \"axes.titlesize\": 25,\n",
    "    \"axes.labelsize\": 30,\n",
    "    \"xtick.labelsize\": 28,\n",
    "    \"ytick.labelsize\": 28,\n",
    "    \"legend.fontsize\": 28,\n",
    "    \"axes.grid\": False,\n",
    "    \"savefig.bbox\": \"tight\",\n",
    "    \"lines.markersize\": 5,\n",
    "    \"font.family\": \"STIXgeneral\",\n",
    "    \"mathtext.fontset\": \"stix\",\n",
    "    \"font.serif\": \"STIX\",\n",
    "    \"text.usetex\": False,\n",
    "}"
   ]
  },
  {
   "cell_type": "code",
   "execution_count": 23,
   "id": "62c3d2e2",
   "metadata": {
    "execution": {
     "iopub.execute_input": "2025-08-20T04:09:28.044558Z",
     "iopub.status.busy": "2025-08-20T04:09:28.044408Z",
     "iopub.status.idle": "2025-08-20T04:09:28.229343Z",
     "shell.execute_reply": "2025-08-20T04:09:28.228823Z"
    }
   },
   "outputs": [
    {
     "data": {
      "image/png": "[encoded data removed]",
      "text/plain": [
       "<Figure size 1200x700 with 1 Axes>"
      ]
     },
     "metadata": {},
     "output_type": "display_data"
    }
   ],
   "source": [
    "fig, axes = plt.subplots(1, 1, sharex=True, figsize=(12, 7))\n",
    "\n",
    "with plt.rc_context(rcParams):\n",
    "    # Plot the results\n",
    "    plt.yticks([0.99, 1.0], [0.99, 1])\n",
    "    axes.plot(\n",
    "        tlist, np.real(P11_mats),\n",
    "        'b', linewidth=2, label=f\"Matsubara $N_k={Nk}$\",\n",
    "    )\n",
    "    axes.plot(\n",
    "        tlist, np.real(P11_matsT),\n",
    "        'g--', linewidth=3,\n",
    "        label=f\"Matsubara $N_k={Nk}$ & terminator\",\n",
    "    )\n",
    "    axes.plot(\n",
    "        tlist, np.real(P11_pade),\n",
    "        'y-.', linewidth=2, label=f\"Padé $N_k={Nk}$\",\n",
    "    )\n",
    "    axes.plot(\n",
    "        tlist, np.real(P11_fit),\n",
    "        'r', dashes=[3, 2], linewidth=2,\n",
    "        label=r\"Fit $N_f = 3$, $N_k=15 \\times 10^3$\",\n",
    "    )\n",
    "    axes.plot(\n",
    "        tlist, np.real(P11_br),\n",
    "        'b-.', linewidth=1, label=\"Bloch Redfield\",\n",
    "    )\n",
    "\n",
    "    axes.locator_params(axis='y', nbins=6)\n",
    "    axes.locator_params(axis='x', nbins=6)\n",
    "    axes.set_ylabel(r'$\\rho_{11}$', fontsize=30)\n",
    "    axes.set_xlabel(r'$t\\;\\gamma$', fontsize=30)\n",
    "    axes.set_xlim(tlist[0], tlist[-1])\n",
    "    axes.set_ylim(0.98405, 1.0005)\n",
    "    axes.legend(loc=0)"
   ]
  },
  {
   "cell_type": "markdown",
   "id": "9be0f523",
   "metadata": {},
   "source": [
    "## About"
   ]
  },
  {
   "cell_type": "code",
   "execution_count": 24,
   "id": "1468fd8d",
   "metadata": {
    "execution": {
     "iopub.execute_input": "2025-08-20T04:09:28.230856Z",
     "iopub.status.busy": "2025-08-20T04:09:28.230672Z",
     "iopub.status.idle": "2025-08-20T04:09:28.812917Z",
     "shell.execute_reply": "2025-08-20T04:09:28.812412Z"
    }
   },
   "outputs": [
    {
     "name": "stdout",
     "output_type": "stream",
     "text": [
      "\n",
      "QuTiP: Quantum Toolbox in Python\n",
      "================================\n",
      "Copyright (c) QuTiP team 2011 and later.\n",
      "Current admin team: Alexander Pitchford, Nathan Shammah, Shahnawaz Ahmed, Neill Lambert, Eric Giguère, Boxi Li, Simon Cross, Asier Galicia, Paul Menczel, and Patrick Hopf.\n",
      "Board members: Daniel Burgarth, Robert Johansson, Anton F. Kockum, Franco Nori and Will Zeng.\n",
      "Original developers: R. J. Johansson & P. D. Nation.\n",
      "Previous lead developers: Chris Granade & A. Grimsmo.\n",
      "Currently developed through wide collaboration. See https://github.com/qutip for details.\n",
      "\n",
      "QuTiP Version:      5.3.0.dev0+d849c94\n",
      "Numpy Version:      2.3.2\n",
      "Scipy Version:      1.16.1\n",
      "Cython Version:     3.1.3\n",
      "Matplotlib Version: 3.10.5\n",
      "Python Version:     3.12.0\n",
      "Number of CPUs:     4\n",
      "BLAS Info:          Generic\n",
      "INTEL MKL Ext:      None\n",
      "Platform Info:      Linux (x86_64)\n",
      "Installation path:  /home/runner/miniconda3/envs/test-environment-v5/lib/python3.12/site-packages/qutip\n",
      "\n",
      "Installed QuTiP family packages\n",
      "-------------------------------\n",
      "\n",
      "qutip-qtrl: 0.2.0.dev0+acb71a0\n"
     ]
    },
    {
     "name": "stdout",
     "output_type": "stream",
     "text": [
      "qutip-jax: 0.1.1.dev6\n",
      "qutip-qip: 0.5.0.dev0+2db1138\n",
      "\n",
      "================================================================================\n",
      "Please cite QuTiP in your publication.\n",
      "================================================================================\n",
      "For your convenience a bibtex reference can be easily generated using `qutip.cite()`\n"
     ]
    }
   ],
   "source": [
    "about()"
   ]
  },
  {
   "cell_type": "markdown",
   "id": "c9aa35d8",
   "metadata": {},
   "source": [
    "## Testing\n",
    "\n",
    "This section can include some tests to verify that the expected outputs are generated within the notebook. We put this section at the end of the notebook, so it's not interfering with the user experience. Please, define the tests using assert, so that the cell execution fails if a wrong output is generated."
   ]
  },
  {
   "cell_type": "code",
   "execution_count": 25,
   "id": "38672e0a",
   "metadata": {
    "execution": {
     "iopub.execute_input": "2025-08-20T04:09:28.814469Z",
     "iopub.status.busy": "2025-08-20T04:09:28.814267Z",
     "iopub.status.idle": "2025-08-20T04:09:28.816946Z",
     "shell.execute_reply": "2025-08-20T04:09:28.816561Z"
    }
   },
   "outputs": [],
   "source": [
    "assert np.allclose(P11_matsT, P11_pade, rtol=1e-3)\n",
    "assert np.allclose(P11_matsT, P11_fit, rtol=1e-3)"
   ]
  }
 ],
 "metadata": {
  "jupytext": {
   "default_lexer": "ipython3"
  },
  "kernelspec": {
   "display_name": "Python 3 (ipykernel)",
   "language": "python",
   "name": "python3"
  },
  "language_info": {
   "codemirror_mode": {
    "name": "ipython",
    "version": 3
   },
   "file_extension": ".py",
   "mimetype": "text/x-python",
   "name": "python",
   "nbconvert_exporter": "python",
   "pygments_lexer": "ipython3",
   "version": "3.12.0"
  }
 },
 "nbformat": 4,
 "nbformat_minor": 5
}
