{
 "cells": [
  {
   "cell_type": "markdown",
   "id": "503ecb20",
   "metadata": {},
   "source": [
    "# HEOM 3: Quantum Heat Transport"
   ]
  },
  {
   "cell_type": "markdown",
   "id": "5bc26b3f",
   "metadata": {},
   "source": [
    "## Introduction\n",
    "\n",
    "In this notebook, we apply the QuTiP HEOM solver to a quantum system coupled to two bosonic baths and demonstrate how to extract information about the system-bath heat currents from the auxiliary density operators (ADOs).\n",
    "We consider the setup described in Ref. \\[1\\], which consists of two coupled qubits, each connected to its own heat bath.\n",
    "The Hamiltonian of the qubits is given by\n",
    "\n",
    "$$ \\begin{aligned} H_{\\text{S}} &= H_1 + H_2 + H_{12} , \\quad\\text{ where }\\\\\n",
    "H_K &= \\frac{\\epsilon}{2} \\bigl(\\sigma_z^K + 1\\bigr) \\quad  (K=1,2) \\quad\\text{ and }\\quad H_{12} = J_{12} \\bigl( \\sigma_+^1 \\sigma_-^2 + \\sigma_-^1 \\sigma_+^2 \\bigr) . \\end{aligned} $$\n",
    "\n",
    "Here, $\\sigma^K_{x,y,z,\\pm}$ denotes the usual Pauli matrices for the K-th qubit, $\\epsilon$ is the eigenfrequency of the qubits and $J_{12}$ the coupling constant.\n",
    "\n",
    "Each qubit is coupled to its own bath; therefore, the total Hamiltonian is\n",
    "\n",
    "$$ H_{\\text{tot}} = H_{\\text{S}} + \\sum_{K=1,2} \\bigl( H_{\\text{B}}^K + Q_K \\otimes X_{\\text{B}}^K \\bigr) , $$\n",
    "\n",
    "where $H_{\\text{B}}^K$ is the free Hamiltonian of the K-th bath and $X_{\\text{B}}^K$ its coupling operator, and $Q_K = \\sigma_x^K$ are the system coupling operators.\n",
    "We assume that the bath spectral densities are given by Drude distributions\n",
    "\n",
    "$$ J_K(\\omega) = \\frac{2 \\lambda_K \\gamma_K \\omega}{\\omega^2 + \\gamma_K^2} , $$\n",
    "\n",
    "where $\\lambda_K$ is the free coupling strength and $\\gamma_K$ the cutoff frequency.\n",
    "\n",
    "We begin by defining the system and bath parameters.\n",
    "We use the parameter values from Fig. 3(a) of Ref. \\[1\\].\n",
    "Note that we set $\\hbar$ and $k_B$ to one and we will measure all frequencies and energies in units of $\\epsilon$.\n",
    "\n",
    "References:\n",
    "\n",
    "&nbsp;&nbsp; \\[1\\] Kato and Tanimura, [J. Chem. Phys. **143**, 064107](https://doi.org/10.1063/1.4928192) (2015)."
   ]
  },
  {
   "cell_type": "markdown",
   "id": "a638d154",
   "metadata": {},
   "source": [
    "## Setup"
   ]
  },
  {
   "cell_type": "code",
   "execution_count": 1,
   "id": "75a861d1",
   "metadata": {
    "execution": {
     "iopub.execute_input": "2025-08-20T04:03:42.910540Z",
     "iopub.status.busy": "2025-08-20T04:03:42.910356Z",
     "iopub.status.idle": "2025-08-20T04:03:43.693860Z",
     "shell.execute_reply": "2025-08-20T04:03:43.693300Z"
    }
   },
   "outputs": [],
   "source": [
    "import dataclasses\n",
    "\n",
    "import numpy as np\n",
    "import matplotlib.pyplot as plt\n",
    "\n",
    "import qutip as qt\n",
    "from qutip.core.environment import (CFExponent, DrudeLorentzEnvironment,\n",
    "                                    system_terminator)\n",
    "from qutip.solver.heom import HEOMSolver\n",
    "\n",
    "from ipywidgets import IntProgress\n",
    "from IPython.display import display\n",
    "\n",
    "%matplotlib inline"
   ]
  },
  {
   "cell_type": "markdown",
   "id": "83458953",
   "metadata": {},
   "source": [
    "## Helpers"
   ]
  },
  {
   "cell_type": "code",
   "execution_count": 2,
   "id": "ddcacbb0",
   "metadata": {
    "execution": {
     "iopub.execute_input": "2025-08-20T04:03:43.695727Z",
     "iopub.status.busy": "2025-08-20T04:03:43.695469Z",
     "iopub.status.idle": "2025-08-20T04:03:43.698209Z",
     "shell.execute_reply": "2025-08-20T04:03:43.697730Z"
    }
   },
   "outputs": [],
   "source": [
    "# Solver options:\n",
    "\n",
    "options = {\n",
    "    \"nsteps\": 15000,\n",
    "    \"store_states\": True,\n",
    "    \"rtol\": 1e-12,\n",
    "    \"atol\": 1e-12,\n",
    "    \"min_step\": 1e-18,\n",
    "    \"method\": \"vern9\",\n",
    "    \"progress_bar\": \"enhanced\",\n",
    "}"
   ]
  },
  {
   "cell_type": "markdown",
   "id": "82178b7b",
   "metadata": {},
   "source": [
    "## System and bath definition"
   ]
  },
  {
   "cell_type": "code",
   "execution_count": 3,
   "id": "3bf045e7",
   "metadata": {
    "execution": {
     "iopub.execute_input": "2025-08-20T04:03:43.699599Z",
     "iopub.status.busy": "2025-08-20T04:03:43.699437Z",
     "iopub.status.idle": "2025-08-20T04:03:43.703205Z",
     "shell.execute_reply": "2025-08-20T04:03:43.702734Z"
    }
   },
   "outputs": [],
   "source": [
    "@dataclasses.dataclass\n",
    "class SystemParams:\n",
    "    \"\"\" System parameters and Hamiltonian. \"\"\"\n",
    "\n",
    "    epsilon: float = 1.0\n",
    "    J12: float = 0.1\n",
    "\n",
    "    def H(self):\n",
    "        \"\"\" Return the Hamiltonian for the system.\n",
    "\n",
    "            The system consists of two qubits with Hamiltonians (H1 and H2)\n",
    "            and an interaction term (H12).\n",
    "        \"\"\"\n",
    "        H1 = self.epsilon / 2 * (\n",
    "            qt.tensor(qt.sigmaz() + qt.identity(2), qt.identity(2))\n",
    "        )\n",
    "        H2 = self.epsilon / 2 * (\n",
    "            qt.tensor(qt.identity(2), qt.sigmaz() + qt.identity(2))\n",
    "        )\n",
    "        H12 = self.J12 * (\n",
    "            qt.tensor(qt.sigmap(), qt.sigmam()) +\n",
    "            qt.tensor(qt.sigmam(), qt.sigmap())\n",
    "        )\n",
    "        return H1 + H2 + H12\n",
    "\n",
    "    def replace(self, **kw):\n",
    "        return dataclasses.replace(self, **kw)"
   ]
  },
  {
   "cell_type": "code",
   "execution_count": 4,
   "id": "bdb03e5b",
   "metadata": {
    "execution": {
     "iopub.execute_input": "2025-08-20T04:03:43.704538Z",
     "iopub.status.busy": "2025-08-20T04:03:43.704357Z",
     "iopub.status.idle": "2025-08-20T04:03:43.709101Z",
     "shell.execute_reply": "2025-08-20T04:03:43.708677Z"
    }
   },
   "outputs": [],
   "source": [
    "@dataclasses.dataclass\n",
    "class BathParams:\n",
    "    \"\"\" Bath parameters. \"\"\"\n",
    "    sign: str  # + or -\n",
    "    qubit: int  # 0 or 1\n",
    "\n",
    "    gamma: float = 2.0\n",
    "    lam: float = 0.05\n",
    "    Tbar: float = 2.0\n",
    "    Tdelta: float = 0.01\n",
    "\n",
    "    def __post_init__(self):\n",
    "        # T = Tbar +- Tdelta * Tbar:\n",
    "        assert self.sign in (\"+\", \"-\")\n",
    "        sign = +1 if self.sign == \"+\" else -1\n",
    "        self.T = self.Tbar + sign * self.Tdelta * self.Tbar\n",
    "        # qubit\n",
    "        assert self.qubit in (0, 1)\n",
    "\n",
    "    def Q(self):\n",
    "        \"\"\" Coupling operator for the bath. \"\"\"\n",
    "        Q = [qt.identity(2), qt.identity(2)]\n",
    "        Q[self.qubit] = qt.sigmax()\n",
    "        return qt.tensor(Q)\n",
    "\n",
    "    def bath(self, Nk, tag=None):\n",
    "        env = DrudeLorentzEnvironment(\n",
    "            lam=self.lam, gamma=self.gamma, T=self.T, tag=tag\n",
    "        )\n",
    "        env_approx, delta = env.approximate(\n",
    "            \"pade\", Nk=Nk, compute_delta=True, tag=tag\n",
    "        )\n",
    "        return (\n",
    "            (env_approx, self.Q()),\n",
    "            system_terminator(self.Q(), delta),\n",
    "            delta,\n",
    "        )\n",
    "\n",
    "    def replace(self, **kw):\n",
    "        return dataclasses.replace(self, **kw)"
   ]
  },
  {
   "cell_type": "markdown",
   "id": "9a025ea0",
   "metadata": {},
   "source": [
    "## Heat currents\n",
    "\n",
    "Following Ref. \\[2\\], we consider two possible definitions of the heat currents from the qubits into the baths.\n",
    "The so-called bath heat currents are $j_{\\text{B}}^K = \\partial_t \\langle H_{\\text{B}}^K \\rangle$ and the system heat currents are $j_{\\text{S}}^K = \\mathrm i\\, \\langle [H_{\\text{S}}, Q_K] X_{\\text{B}}^K \\rangle$.\n",
    "As shown in Ref. \\[2\\], they can be expressed in terms of the HEOM ADOs as follows:\n",
    "$$ \\begin{aligned} \\mbox{} \\\\\n",
    "    j_{\\text{B}}^K &= \\!\\!\\sum_{\\substack{\\mathbf n\\\\ \\text{Level 1}\\\\ \\text{Bath $K$}}}\\!\\! \\nu[\\mathbf n] \\operatorname{tr}\\bigl[ Q_K \\rho_{\\mathbf n} \\bigr] - 2 C_I^K(0) \\operatorname{tr}\\bigl[ Q_k^2 \\rho \\bigr] + \\Gamma_{\\text{T}}^K \\operatorname{tr}\\bigl[ [[H_{\\text{S}}, Q_K], Q_K]\\, \\rho \\bigr] , \\\\[.5em]\n",
    "    j_{\\text{S}}^K &= \\mathrm i\\!\\! \\sum_{\\substack{\\mathbf n\\\\ \\text{Level 1}\\\\ \\text{Bath $k$}}}\\!\\! \\operatorname{tr}\\bigl[ [H_{\\text{S}}, Q_K]\\, \\rho_{\\mathbf n} \\bigr] + \\Gamma_{\\text{T}}^K \\operatorname{tr}\\bigl[ [[H_{\\text{S}}, Q_K], Q_K]\\, \\rho \\bigr] . \\\\ \\mbox{}\n",
    "\\end{aligned} $$\n",
    "The sums run over all level-$1$ multi-indices $\\mathbf n$ with one excitation corresponding to the K-th bath, $\\nu[\\mathbf n]$ is the corresponding (negative) exponent of the bath auto-correlation function $C^K(t)$, and $\\Gamma_{\\text{T}}^K$ is the Ishizaki-Tanimura terminator (i.e., a correction term accounting for the error introduced by approximating the correlation function with a finite sum of exponential terms).\n",
    "In the expression for the bath heat currents, we left out terms involving $[Q_1, Q_2]$, which is zero in this example.\n",
    "\n",
    "&nbsp;&nbsp; \\[2\\] Kato and Tanimura, [J. Chem. Phys. **145**, 224105](https://doi.org/10.1063/1.4971370) (2016)."
   ]
  },
  {
   "cell_type": "markdown",
   "id": "3019a8ba",
   "metadata": {},
   "source": [
    "In QuTiP, these currents can be conveniently calculated as follows:"
   ]
  },
  {
   "cell_type": "code",
   "execution_count": 5,
   "id": "9598e5a8",
   "metadata": {
    "execution": {
     "iopub.execute_input": "2025-08-20T04:03:43.710486Z",
     "iopub.status.busy": "2025-08-20T04:03:43.710305Z",
     "iopub.status.idle": "2025-08-20T04:03:43.715188Z",
     "shell.execute_reply": "2025-08-20T04:03:43.714699Z"
    }
   },
   "outputs": [],
   "source": [
    "def bath_heat_current(bath_tag, ado_state, hamiltonian, coupling_op, delta=0):\n",
    "    \"\"\"\n",
    "    Bath heat current from the system into the heat bath with the given tag.\n",
    "\n",
    "    Parameters\n",
    "    ----------\n",
    "    bath_tag : str, tuple or any other object\n",
    "        Tag of the heat bath corresponding to the current of interest.\n",
    "\n",
    "    ado_state : HierarchyADOsState\n",
    "        Current state of the system and the environment (encoded in the ADOs).\n",
    "\n",
    "    hamiltonian : Qobj\n",
    "        System Hamiltonian at the current time.\n",
    "\n",
    "    coupling_op : Qobj\n",
    "        System coupling operator at the current time.\n",
    "\n",
    "    delta : float\n",
    "        The prefactor of the \\\\delta(t) term in the correlation function (the\n",
    "        Ishizaki-Tanimura terminator).\n",
    "    \"\"\"\n",
    "    l1_labels = ado_state.filter(level=1, tags=[bath_tag])\n",
    "    a_op = 1j * (hamiltonian * coupling_op - coupling_op * hamiltonian)\n",
    "\n",
    "    result = 0\n",
    "    cI0 = 0  # imaginary part of bath auto-correlation function (t=0)\n",
    "    for label in l1_labels:\n",
    "        [exp] = ado_state.exps(label)\n",
    "        result += exp.vk * (coupling_op * ado_state.extract(label)).tr()\n",
    "\n",
    "        if exp.type == CFExponent.types[\"I\"]:\n",
    "            cI0 += exp.ck\n",
    "        elif exp.type == CFExponent.types[\"RI\"]:\n",
    "            cI0 += exp.ck2\n",
    "\n",
    "    result -= 2 * cI0 * (coupling_op * coupling_op * ado_state.rho).tr()\n",
    "    if delta != 0:\n",
    "        result -= (\n",
    "            1j * delta *\n",
    "            ((a_op * coupling_op - coupling_op * a_op) * ado_state.rho).tr()\n",
    "        )\n",
    "    return result\n",
    "\n",
    "\n",
    "def system_heat_current(\n",
    "    bath_tag, ado_state, hamiltonian, coupling_op, delta=0,\n",
    "):\n",
    "    \"\"\"\n",
    "    System heat current from the system into the heat bath with the given tag.\n",
    "\n",
    "    Parameters\n",
    "    ----------\n",
    "    bath_tag : str, tuple or any other object\n",
    "        Tag of the heat bath corresponding to the current of interest.\n",
    "\n",
    "    ado_state : HierarchyADOsState\n",
    "        Current state of the system and the environment (encoded in the ADOs).\n",
    "\n",
    "    hamiltonian : Qobj\n",
    "        System Hamiltonian at the current time.\n",
    "\n",
    "    coupling_op : Qobj\n",
    "        System coupling operator at the current time.\n",
    "\n",
    "    delta : float\n",
    "        The prefactor of the \\\\delta(t) term in the correlation function (the\n",
    "        Ishizaki-Tanimura terminator).\n",
    "    \"\"\"\n",
    "    l1_labels = ado_state.filter(level=1, tags=[bath_tag])\n",
    "    a_op = 1j * (hamiltonian * coupling_op - coupling_op * hamiltonian)\n",
    "\n",
    "    result = 0\n",
    "    for label in l1_labels:\n",
    "        result += (a_op * ado_state.extract(label)).tr()\n",
    "\n",
    "    if delta != 0:\n",
    "        result -= (\n",
    "            1j * delta *\n",
    "            ((a_op * coupling_op - coupling_op * a_op) * ado_state.rho).tr()\n",
    "        )\n",
    "    return result"
   ]
  },
  {
   "cell_type": "markdown",
   "id": "e4de5e2e",
   "metadata": {},
   "source": [
    "Note that at long times, we expect $j_{\\text{B}}^1 = -j_{\\text{B}}^2$ and $j_{\\text{S}}^1 = -j_{\\text{S}}^2$ due to energy conservation. At long times, we also expect $j_{\\text{B}}^1 = j_{\\text{S}}^1$ and $j_{\\text{B}}^2 = j_{\\text{S}}^2$ since the coupling operators commute, $[Q_1, Q_2] = 0$. Hence, all four currents should agree in the long-time limit (up to a sign). This long-time value is what was analyzed in Ref. \\[2\\]."
   ]
  },
  {
   "cell_type": "markdown",
   "id": "138a6979",
   "metadata": {},
   "source": [
    "## Simulations"
   ]
  },
  {
   "cell_type": "markdown",
   "id": "8ccf3a9c",
   "metadata": {},
   "source": [
    "For our simulations, we will represent the bath spectral densities using the first term of their Padé decompositions, and we will use $7$ levels of the HEOM hierarchy."
   ]
  },
  {
   "cell_type": "code",
   "execution_count": 6,
   "id": "64658e64",
   "metadata": {
    "execution": {
     "iopub.execute_input": "2025-08-20T04:03:43.716591Z",
     "iopub.status.busy": "2025-08-20T04:03:43.716439Z",
     "iopub.status.idle": "2025-08-20T04:03:43.718567Z",
     "shell.execute_reply": "2025-08-20T04:03:43.718159Z"
    }
   },
   "outputs": [],
   "source": [
    "Nk = 1\n",
    "NC = 7"
   ]
  },
  {
   "cell_type": "markdown",
   "id": "dca3b35d",
   "metadata": {},
   "source": [
    "### Time Evolution\n",
    "\n",
    "We fix $J_{12} = 0.1 \\epsilon$ (as in Fig. 3(a-ii) of Ref. \\[2\\]) and choose the fixed coupling strength $\\lambda_1 = \\lambda_2 = J_{12}\\, /\\, (2\\epsilon)$ (corresponding to $\\bar\\zeta = 1$ in Ref. \\[2\\]).\n",
    "Using these values, we will study the time evolution of the system state and the heat currents."
   ]
  },
  {
   "cell_type": "code",
   "execution_count": 7,
   "id": "b4ab820f",
   "metadata": {
    "execution": {
     "iopub.execute_input": "2025-08-20T04:03:43.719845Z",
     "iopub.status.busy": "2025-08-20T04:03:43.719699Z",
     "iopub.status.idle": "2025-08-20T04:03:43.722575Z",
     "shell.execute_reply": "2025-08-20T04:03:43.722172Z"
    }
   },
   "outputs": [],
   "source": [
    "# fix qubit-qubit and qubit-bath coupling strengths\n",
    "sys = SystemParams(J12=0.1)\n",
    "bath_p1 = BathParams(qubit=0, sign=\"+\", lam=sys.J12 / 2)\n",
    "bath_p2 = BathParams(qubit=1, sign=\"-\", lam=sys.J12 / 2)\n",
    "\n",
    "# choose arbitrary initial state\n",
    "rho0 = qt.tensor(qt.identity(2), qt.identity(2)) / 4\n",
    "\n",
    "# simulation time span\n",
    "tlist = np.linspace(0, 50, 250)"
   ]
  },
  {
   "cell_type": "code",
   "execution_count": 8,
   "id": "b0ab3629",
   "metadata": {
    "execution": {
     "iopub.execute_input": "2025-08-20T04:03:43.723911Z",
     "iopub.status.busy": "2025-08-20T04:03:43.723751Z",
     "iopub.status.idle": "2025-08-20T04:03:47.636218Z",
     "shell.execute_reply": "2025-08-20T04:03:47.635774Z"
    }
   },
   "outputs": [
    {
     "name": "stdout",
     "output_type": "stream",
     "text": [
      "\r",
      " [          0%           ] Elapsed 0.02s / Remaining 00:00:00:00"
     ]
    },
    {
     "name": "stdout",
     "output_type": "stream",
     "text": [
      "\r",
      " [          1%           ] Elapsed 0.04s / Remaining 00:00:00:03"
     ]
    },
    {
     "name": "stdout",
     "output_type": "stream",
     "text": [
      "\r",
      " [          1%           ] Elapsed 0.05s / Remaining 00:00:00:05"
     ]
    },
    {
     "name": "stdout",
     "output_type": "stream",
     "text": [
      "\r",
      " [          2%           ] Elapsed 0.07s / Remaining 00:00:00:03"
     ]
    },
    {
     "name": "stdout",
     "output_type": "stream",
     "text": [
      "\r",
      " [          2%           ] Elapsed 0.08s / Remaining 00:00:00:04"
     ]
    },
    {
     "name": "stdout",
     "output_type": "stream",
     "text": [
      "\r",
      " [          2%           ] Elapsed 0.10s / Remaining 00:00:00:04"
     ]
    },
    {
     "name": "stdout",
     "output_type": "stream",
     "text": [
      "\r",
      " [*         3%           ] Elapsed 0.11s / Remaining 00:00:00:03"
     ]
    },
    {
     "name": "stdout",
     "output_type": "stream",
     "text": [
      "\r",
      " [*         3%           ] Elapsed 0.12s / Remaining 00:00:00:03"
     ]
    },
    {
     "name": "stdout",
     "output_type": "stream",
     "text": [
      "\r",
      " [*         4%           ] Elapsed 0.14s / Remaining 00:00:00:03"
     ]
    },
    {
     "name": "stdout",
     "output_type": "stream",
     "text": [
      "\r",
      " [*         4%           ] Elapsed 0.15s / Remaining 00:00:00:03"
     ]
    },
    {
     "name": "stdout",
     "output_type": "stream",
     "text": [
      "\r",
      " [*         4%           ] Elapsed 0.17s / Remaining 00:00:00:04"
     ]
    },
    {
     "name": "stdout",
     "output_type": "stream",
     "text": [
      "\r",
      " [*         5%           ] Elapsed 0.19s / Remaining 00:00:00:03"
     ]
    },
    {
     "name": "stdout",
     "output_type": "stream",
     "text": [
      "\r",
      " [*         5%           ] Elapsed 0.20s / Remaining 00:00:00:03"
     ]
    },
    {
     "name": "stdout",
     "output_type": "stream",
     "text": [
      "\r",
      " [*         6%           ] Elapsed 0.22s / Remaining 00:00:00:03"
     ]
    },
    {
     "name": "stdout",
     "output_type": "stream",
     "text": [
      "\r",
      " [*         6%           ] Elapsed 0.24s / Remaining 00:00:00:03"
     ]
    },
    {
     "name": "stdout",
     "output_type": "stream",
     "text": [
      "\r",
      " [*         6%           ] Elapsed 0.25s / Remaining 00:00:00:03"
     ]
    },
    {
     "name": "stdout",
     "output_type": "stream",
     "text": [
      "\r",
      " [**        7%           ] Elapsed 0.27s / Remaining 00:00:00:03"
     ]
    },
    {
     "name": "stdout",
     "output_type": "stream",
     "text": [
      "\r",
      " [**        7%           ] Elapsed 0.29s / Remaining 00:00:00:03"
     ]
    },
    {
     "name": "stdout",
     "output_type": "stream",
     "text": [
      "\r",
      " [**        8%           ] Elapsed 0.30s / Remaining 00:00:00:03"
     ]
    },
    {
     "name": "stdout",
     "output_type": "stream",
     "text": [
      "\r",
      " [**        8%           ] Elapsed 0.31s / Remaining 00:00:00:03"
     ]
    },
    {
     "name": "stdout",
     "output_type": "stream",
     "text": [
      "\r",
      " [**        8%           ] Elapsed 0.33s / Remaining 00:00:00:03"
     ]
    },
    {
     "name": "stdout",
     "output_type": "stream",
     "text": [
      "\r",
      " [**        9%           ] Elapsed 0.34s / Remaining 00:00:00:03"
     ]
    },
    {
     "name": "stdout",
     "output_type": "stream",
     "text": [
      "\r",
      " [**        9%           ] Elapsed 0.36s / Remaining 00:00:00:03"
     ]
    },
    {
     "name": "stdout",
     "output_type": "stream",
     "text": [
      "\r",
      " [**       10%           ] Elapsed 0.38s / Remaining 00:00:00:03"
     ]
    },
    {
     "name": "stdout",
     "output_type": "stream",
     "text": [
      "\r",
      " [**       10%           ] Elapsed 0.39s / Remaining 00:00:00:03"
     ]
    },
    {
     "name": "stdout",
     "output_type": "stream",
     "text": [
      "\r",
      " [**       10%           ] Elapsed 0.40s / Remaining 00:00:00:03"
     ]
    },
    {
     "name": "stdout",
     "output_type": "stream",
     "text": [
      "\r",
      " [***      11%           ] Elapsed 0.42s / Remaining 00:00:00:03"
     ]
    },
    {
     "name": "stdout",
     "output_type": "stream",
     "text": [
      "\r",
      " [***      11%           ] Elapsed 0.43s / Remaining 00:00:00:03"
     ]
    },
    {
     "name": "stdout",
     "output_type": "stream",
     "text": [
      "\r",
      " [***      12%           ] Elapsed 0.45s / Remaining 00:00:00:03"
     ]
    },
    {
     "name": "stdout",
     "output_type": "stream",
     "text": [
      "\r",
      " [***      12%           ] Elapsed 0.46s / Remaining 00:00:00:03"
     ]
    },
    {
     "name": "stdout",
     "output_type": "stream",
     "text": [
      "\r",
      " [***      12%           ] Elapsed 0.48s / Remaining 00:00:00:03"
     ]
    },
    {
     "name": "stdout",
     "output_type": "stream",
     "text": [
      "\r",
      " [***      13%           ] Elapsed 0.49s / Remaining 00:00:00:03"
     ]
    },
    {
     "name": "stdout",
     "output_type": "stream",
     "text": [
      "\r",
      " [***      13%           ] Elapsed 0.51s / Remaining 00:00:00:03"
     ]
    },
    {
     "name": "stdout",
     "output_type": "stream",
     "text": [
      "\r",
      " [***      14%           ] Elapsed 0.53s / Remaining 00:00:00:03"
     ]
    },
    {
     "name": "stdout",
     "output_type": "stream",
     "text": [
      "\r",
      " [***      14%           ] Elapsed 0.54s / Remaining 00:00:00:03"
     ]
    },
    {
     "name": "stdout",
     "output_type": "stream",
     "text": [
      "\r",
      " [***      14%           ] Elapsed 0.56s / Remaining 00:00:00:03"
     ]
    },
    {
     "name": "stdout",
     "output_type": "stream",
     "text": [
      "\r",
      " [***      15%           ] Elapsed 0.58s / Remaining 00:00:00:03"
     ]
    },
    {
     "name": "stdout",
     "output_type": "stream",
     "text": [
      "\r",
      " [***      15%           ] Elapsed 0.59s / Remaining 00:00:00:03"
     ]
    },
    {
     "name": "stdout",
     "output_type": "stream",
     "text": [
      "\r",
      " [****     16%           ] Elapsed 0.61s / Remaining 00:00:00:03"
     ]
    },
    {
     "name": "stdout",
     "output_type": "stream",
     "text": [
      "\r",
      " [****     16%           ] Elapsed 0.63s / Remaining 00:00:00:03"
     ]
    },
    {
     "name": "stdout",
     "output_type": "stream",
     "text": [
      "\r",
      " [****     16%           ] Elapsed 0.64s / Remaining 00:00:00:03"
     ]
    },
    {
     "name": "stdout",
     "output_type": "stream",
     "text": [
      "\r",
      " [****     17%           ] Elapsed 0.66s / Remaining 00:00:00:03"
     ]
    },
    {
     "name": "stdout",
     "output_type": "stream",
     "text": [
      "\r",
      " [****     17%           ] Elapsed 0.67s / Remaining 00:00:00:03"
     ]
    },
    {
     "name": "stdout",
     "output_type": "stream",
     "text": [
      "\r",
      " [****     18%           ] Elapsed 0.69s / Remaining 00:00:00:03"
     ]
    },
    {
     "name": "stdout",
     "output_type": "stream",
     "text": [
      "\r",
      " [****     18%           ] Elapsed 0.70s / Remaining 00:00:00:03"
     ]
    },
    {
     "name": "stdout",
     "output_type": "stream",
     "text": [
      "\r",
      " [****     18%           ] Elapsed 0.72s / Remaining 00:00:00:03"
     ]
    },
    {
     "name": "stdout",
     "output_type": "stream",
     "text": [
      "\r",
      " [****     19%           ] Elapsed 0.73s / Remaining 00:00:00:03"
     ]
    },
    {
     "name": "stdout",
     "output_type": "stream",
     "text": [
      "\r",
      " [****     19%           ] Elapsed 0.75s / Remaining 00:00:00:03"
     ]
    },
    {
     "name": "stdout",
     "output_type": "stream",
     "text": [
      "\r",
      " [*****    20%           ] Elapsed 0.76s / Remaining 00:00:00:03"
     ]
    },
    {
     "name": "stdout",
     "output_type": "stream",
     "text": [
      "\r",
      " [*****    20%           ] Elapsed 0.78s / Remaining 00:00:00:03"
     ]
    },
    {
     "name": "stdout",
     "output_type": "stream",
     "text": [
      "\r",
      " [*****    20%           ] Elapsed 0.79s / Remaining 00:00:00:03"
     ]
    },
    {
     "name": "stdout",
     "output_type": "stream",
     "text": [
      "\r",
      " [*****    21%           ] Elapsed 0.81s / Remaining 00:00:00:03"
     ]
    },
    {
     "name": "stdout",
     "output_type": "stream",
     "text": [
      "\r",
      " [*****    21%           ] Elapsed 0.82s / Remaining 00:00:00:03"
     ]
    },
    {
     "name": "stdout",
     "output_type": "stream",
     "text": [
      "\r",
      " [*****    22%           ] Elapsed 0.84s / Remaining 00:00:00:02"
     ]
    },
    {
     "name": "stdout",
     "output_type": "stream",
     "text": [
      "\r",
      " [*****    22%           ] Elapsed 0.86s / Remaining 00:00:00:03"
     ]
    },
    {
     "name": "stdout",
     "output_type": "stream",
     "text": [
      "\r",
      " [*****    22%           ] Elapsed 0.87s / Remaining 00:00:00:03"
     ]
    },
    {
     "name": "stdout",
     "output_type": "stream",
     "text": [
      "\r",
      " [*****    23%           ] Elapsed 0.89s / Remaining 00:00:00:02"
     ]
    },
    {
     "name": "stdout",
     "output_type": "stream",
     "text": [
      "\r",
      " [*****    23%           ] Elapsed 0.90s / Remaining 00:00:00:03"
     ]
    },
    {
     "name": "stdout",
     "output_type": "stream",
     "text": [
      "\r",
      " [******   24%           ] Elapsed 0.92s / Remaining 00:00:00:02"
     ]
    },
    {
     "name": "stdout",
     "output_type": "stream",
     "text": [
      "\r",
      " [******   24%           ] Elapsed 0.94s / Remaining 00:00:00:02"
     ]
    },
    {
     "name": "stdout",
     "output_type": "stream",
     "text": [
      "\r",
      " [******   24%           ] Elapsed 0.95s / Remaining 00:00:00:03"
     ]
    },
    {
     "name": "stdout",
     "output_type": "stream",
     "text": [
      "\r",
      " [******   25%           ] Elapsed 0.97s / Remaining 00:00:00:02"
     ]
    },
    {
     "name": "stdout",
     "output_type": "stream",
     "text": [
      "\r",
      " [******   25%           ] Elapsed 0.98s / Remaining 00:00:00:02"
     ]
    },
    {
     "name": "stdout",
     "output_type": "stream",
     "text": [
      "\r",
      " [******   26%           ] Elapsed 1.00s / Remaining 00:00:00:02"
     ]
    },
    {
     "name": "stdout",
     "output_type": "stream",
     "text": [
      "\r",
      " [******   26%           ] Elapsed 1.01s / Remaining 00:00:00:02"
     ]
    },
    {
     "name": "stdout",
     "output_type": "stream",
     "text": [
      "\r",
      " [******   27%           ] Elapsed 1.03s / Remaining 00:00:00:02"
     ]
    },
    {
     "name": "stdout",
     "output_type": "stream",
     "text": [
      "\r",
      " [******   27%           ] Elapsed 1.04s / Remaining 00:00:00:02"
     ]
    },
    {
     "name": "stdout",
     "output_type": "stream",
     "text": [
      "\r",
      " [******   27%           ] Elapsed 1.06s / Remaining 00:00:00:02"
     ]
    },
    {
     "name": "stdout",
     "output_type": "stream",
     "text": [
      "\r",
      " [******   28%           ] Elapsed 1.07s / Remaining 00:00:00:02"
     ]
    },
    {
     "name": "stdout",
     "output_type": "stream",
     "text": [
      "\r",
      " [******   28%           ] Elapsed 1.09s / Remaining 00:00:00:02"
     ]
    },
    {
     "name": "stdout",
     "output_type": "stream",
     "text": [
      "\r",
      " [*******  29%           ] Elapsed 1.10s / Remaining 00:00:00:02"
     ]
    },
    {
     "name": "stdout",
     "output_type": "stream",
     "text": [
      "\r",
      " [*******  29%           ] Elapsed 1.12s / Remaining 00:00:00:02"
     ]
    },
    {
     "name": "stdout",
     "output_type": "stream",
     "text": [
      "\r",
      " [*******  29%           ] Elapsed 1.13s / Remaining 00:00:00:02"
     ]
    },
    {
     "name": "stdout",
     "output_type": "stream",
     "text": [
      "\r",
      " [*******  30%           ] Elapsed 1.15s / Remaining 00:00:00:02"
     ]
    },
    {
     "name": "stdout",
     "output_type": "stream",
     "text": [
      "\r",
      " [*******  30%           ] Elapsed 1.16s / Remaining 00:00:00:02"
     ]
    },
    {
     "name": "stdout",
     "output_type": "stream",
     "text": [
      "\r",
      " [*******  31%           ] Elapsed 1.18s / Remaining 00:00:00:02"
     ]
    },
    {
     "name": "stdout",
     "output_type": "stream",
     "text": [
      "\r",
      " [*******  31%           ] Elapsed 1.20s / Remaining 00:00:00:02"
     ]
    },
    {
     "name": "stdout",
     "output_type": "stream",
     "text": [
      "\r",
      " [*******  31%           ] Elapsed 1.21s / Remaining 00:00:00:02"
     ]
    },
    {
     "name": "stdout",
     "output_type": "stream",
     "text": [
      "\r",
      " [*******  32%           ] Elapsed 1.23s / Remaining 00:00:00:02"
     ]
    },
    {
     "name": "stdout",
     "output_type": "stream",
     "text": [
      "\r",
      " [*******  32%           ] Elapsed 1.25s / Remaining 00:00:00:02"
     ]
    },
    {
     "name": "stdout",
     "output_type": "stream",
     "text": [
      "\r",
      " [******** 33%           ] Elapsed 1.26s / Remaining 00:00:00:02"
     ]
    },
    {
     "name": "stdout",
     "output_type": "stream",
     "text": [
      "\r",
      " [******** 33%           ] Elapsed 1.28s / Remaining 00:00:00:02"
     ]
    },
    {
     "name": "stdout",
     "output_type": "stream",
     "text": [
      "\r",
      " [******** 33%           ] Elapsed 1.30s / Remaining 00:00:00:02"
     ]
    },
    {
     "name": "stdout",
     "output_type": "stream",
     "text": [
      "\r",
      " [******** 34%           ] Elapsed 1.31s / Remaining 00:00:00:02"
     ]
    },
    {
     "name": "stdout",
     "output_type": "stream",
     "text": [
      "\r",
      " [******** 34%           ] Elapsed 1.33s / Remaining 00:00:00:02"
     ]
    },
    {
     "name": "stdout",
     "output_type": "stream",
     "text": [
      "\r",
      " [******** 35%           ] Elapsed 1.34s / Remaining 00:00:00:02"
     ]
    },
    {
     "name": "stdout",
     "output_type": "stream",
     "text": [
      "\r",
      " [******** 35%           ] Elapsed 1.35s / Remaining 00:00:00:02"
     ]
    },
    {
     "name": "stdout",
     "output_type": "stream",
     "text": [
      "\r",
      " [******** 35%           ] Elapsed 1.37s / Remaining 00:00:00:02"
     ]
    },
    {
     "name": "stdout",
     "output_type": "stream",
     "text": [
      "\r",
      " [******** 36%           ] Elapsed 1.38s / Remaining 00:00:00:02"
     ]
    },
    {
     "name": "stdout",
     "output_type": "stream",
     "text": [
      "\r",
      " [******** 36%           ] Elapsed 1.40s / Remaining 00:00:00:02"
     ]
    },
    {
     "name": "stdout",
     "output_type": "stream",
     "text": [
      "\r",
      " [*********37%           ] Elapsed 1.42s / Remaining 00:00:00:02"
     ]
    },
    {
     "name": "stdout",
     "output_type": "stream",
     "text": [
      "\r",
      " [*********37%           ] Elapsed 1.43s / Remaining 00:00:00:02"
     ]
    },
    {
     "name": "stdout",
     "output_type": "stream",
     "text": [
      "\r",
      " [*********37%           ] Elapsed 1.45s / Remaining 00:00:00:02"
     ]
    },
    {
     "name": "stdout",
     "output_type": "stream",
     "text": [
      "\r",
      " [*********38%           ] Elapsed 1.46s / Remaining 00:00:00:02"
     ]
    },
    {
     "name": "stdout",
     "output_type": "stream",
     "text": [
      "\r",
      " [*********38%           ] Elapsed 1.48s / Remaining 00:00:00:02"
     ]
    },
    {
     "name": "stdout",
     "output_type": "stream",
     "text": [
      "\r",
      " [*********39%           ] Elapsed 1.50s / Remaining 00:00:00:02"
     ]
    },
    {
     "name": "stdout",
     "output_type": "stream",
     "text": [
      "\r",
      " [*********39%           ] Elapsed 1.51s / Remaining 00:00:00:02"
     ]
    },
    {
     "name": "stdout",
     "output_type": "stream",
     "text": [
      "\r",
      " [*********39%           ] Elapsed 1.53s / Remaining 00:00:00:02"
     ]
    },
    {
     "name": "stdout",
     "output_type": "stream",
     "text": [
      "\r",
      " [*********40%           ] Elapsed 1.55s / Remaining 00:00:00:02"
     ]
    },
    {
     "name": "stdout",
     "output_type": "stream",
     "text": [
      "\r",
      " [*********40%           ] Elapsed 1.56s / Remaining 00:00:00:02"
     ]
    },
    {
     "name": "stdout",
     "output_type": "stream",
     "text": [
      "\r",
      " [*********41%           ] Elapsed 1.58s / Remaining 00:00:00:02"
     ]
    },
    {
     "name": "stdout",
     "output_type": "stream",
     "text": [
      "\r",
      " [*********41%           ] Elapsed 1.59s / Remaining 00:00:00:02"
     ]
    },
    {
     "name": "stdout",
     "output_type": "stream",
     "text": [
      "\r",
      " [*********41%           ] Elapsed 1.61s / Remaining 00:00:00:02"
     ]
    },
    {
     "name": "stdout",
     "output_type": "stream",
     "text": [
      "\r",
      " [*********42%           ] Elapsed 1.63s / Remaining 00:00:00:02"
     ]
    },
    {
     "name": "stdout",
     "output_type": "stream",
     "text": [
      "\r",
      " [*********42%           ] Elapsed 1.64s / Remaining 00:00:00:02"
     ]
    },
    {
     "name": "stdout",
     "output_type": "stream",
     "text": [
      "\r",
      " [*********43%           ] Elapsed 1.65s / Remaining 00:00:00:02"
     ]
    },
    {
     "name": "stdout",
     "output_type": "stream",
     "text": [
      "\r",
      " [*********43%           ] Elapsed 1.67s / Remaining 00:00:00:02"
     ]
    },
    {
     "name": "stdout",
     "output_type": "stream",
     "text": [
      "\r",
      " [*********43%           ] Elapsed 1.68s / Remaining 00:00:00:02"
     ]
    },
    {
     "name": "stdout",
     "output_type": "stream",
     "text": [
      "\r",
      " [*********44%           ] Elapsed 1.70s / Remaining 00:00:00:02"
     ]
    },
    {
     "name": "stdout",
     "output_type": "stream",
     "text": [
      "\r",
      " [*********44%           ] Elapsed 1.71s / Remaining 00:00:00:02"
     ]
    },
    {
     "name": "stdout",
     "output_type": "stream",
     "text": [
      "\r",
      " [*********45%           ] Elapsed 1.73s / Remaining 00:00:00:02"
     ]
    },
    {
     "name": "stdout",
     "output_type": "stream",
     "text": [
      "\r",
      " [*********45%           ] Elapsed 1.74s / Remaining 00:00:00:02"
     ]
    },
    {
     "name": "stdout",
     "output_type": "stream",
     "text": [
      "\r",
      " [*********45%           ] Elapsed 1.76s / Remaining 00:00:00:02"
     ]
    },
    {
     "name": "stdout",
     "output_type": "stream",
     "text": [
      "\r",
      " [*********46%           ] Elapsed 1.78s / Remaining 00:00:00:02"
     ]
    },
    {
     "name": "stdout",
     "output_type": "stream",
     "text": [
      "\r",
      " [*********46%           ] Elapsed 1.79s / Remaining 00:00:00:02"
     ]
    },
    {
     "name": "stdout",
     "output_type": "stream",
     "text": [
      "\r",
      " [*********47%           ] Elapsed 1.81s / Remaining 00:00:00:02"
     ]
    },
    {
     "name": "stdout",
     "output_type": "stream",
     "text": [
      "\r",
      " [*********47%           ] Elapsed 1.82s / Remaining 00:00:00:02"
     ]
    },
    {
     "name": "stdout",
     "output_type": "stream",
     "text": [
      "\r",
      " [*********47%           ] Elapsed 1.84s / Remaining 00:00:00:02"
     ]
    },
    {
     "name": "stdout",
     "output_type": "stream",
     "text": [
      "\r",
      " [*********48%           ] Elapsed 1.86s / Remaining 00:00:00:02"
     ]
    },
    {
     "name": "stdout",
     "output_type": "stream",
     "text": [
      "\r",
      " [*********48%           ] Elapsed 1.88s / Remaining 00:00:00:02"
     ]
    },
    {
     "name": "stdout",
     "output_type": "stream",
     "text": [
      "\r",
      " [*********49%           ] Elapsed 1.90s / Remaining 00:00:00:01"
     ]
    },
    {
     "name": "stdout",
     "output_type": "stream",
     "text": [
      "\r",
      " [*********49%           ] Elapsed 1.91s / Remaining 00:00:00:01"
     ]
    },
    {
     "name": "stdout",
     "output_type": "stream",
     "text": [
      "\r",
      " [*********49%           ] Elapsed 1.92s / Remaining 00:00:00:02"
     ]
    },
    {
     "name": "stdout",
     "output_type": "stream",
     "text": [
      "\r",
      " [*********50%           ] Elapsed 1.94s / Remaining 00:00:00:01"
     ]
    },
    {
     "name": "stdout",
     "output_type": "stream",
     "text": [
      "\r",
      " [*********50%           ] Elapsed 1.95s / Remaining 00:00:00:01"
     ]
    },
    {
     "name": "stdout",
     "output_type": "stream",
     "text": [
      "\r",
      " [*********51%           ] Elapsed 1.97s / Remaining 00:00:00:01"
     ]
    },
    {
     "name": "stdout",
     "output_type": "stream",
     "text": [
      "\r",
      " [*********51%           ] Elapsed 1.98s / Remaining 00:00:00:01"
     ]
    },
    {
     "name": "stdout",
     "output_type": "stream",
     "text": [
      "\r",
      " [*********51%           ] Elapsed 2.00s / Remaining 00:00:00:01"
     ]
    },
    {
     "name": "stdout",
     "output_type": "stream",
     "text": [
      "\r",
      " [*********52%           ] Elapsed 2.02s / Remaining 00:00:00:01"
     ]
    },
    {
     "name": "stdout",
     "output_type": "stream",
     "text": [
      "\r",
      " [*********52%           ] Elapsed 2.03s / Remaining 00:00:00:01"
     ]
    },
    {
     "name": "stdout",
     "output_type": "stream",
     "text": [
      "\r",
      " [*********53%           ] Elapsed 2.05s / Remaining 00:00:00:01"
     ]
    },
    {
     "name": "stdout",
     "output_type": "stream",
     "text": [
      "\r",
      " [*********53%           ] Elapsed 2.06s / Remaining 00:00:00:01"
     ]
    },
    {
     "name": "stdout",
     "output_type": "stream",
     "text": [
      "\r",
      " [*********53%           ] Elapsed 2.08s / Remaining 00:00:00:01"
     ]
    },
    {
     "name": "stdout",
     "output_type": "stream",
     "text": [
      "\r"
     ]
    },
    {
     "name": "stdout",
     "output_type": "stream",
     "text": [
      " [*********54%           ] Elapsed 2.10s / Remaining 00:00:00:01"
     ]
    },
    {
     "name": "stdout",
     "output_type": "stream",
     "text": [
      "\r",
      " [*********54%           ] Elapsed 2.11s / Remaining 00:00:00:01"
     ]
    },
    {
     "name": "stdout",
     "output_type": "stream",
     "text": [
      "\r",
      " [*********55%*          ] Elapsed 2.13s / Remaining 00:00:00:01"
     ]
    },
    {
     "name": "stdout",
     "output_type": "stream",
     "text": [
      "\r",
      " [*********55%*          ] Elapsed 2.15s / Remaining 00:00:00:01"
     ]
    },
    {
     "name": "stdout",
     "output_type": "stream",
     "text": [
      "\r",
      " [*********55%*          ] Elapsed 2.16s / Remaining 00:00:00:01"
     ]
    },
    {
     "name": "stdout",
     "output_type": "stream",
     "text": [
      "\r",
      " [*********56%*          ] Elapsed 2.18s / Remaining 00:00:00:01"
     ]
    },
    {
     "name": "stdout",
     "output_type": "stream",
     "text": [
      "\r",
      " [*********56%*          ] Elapsed 2.19s / Remaining 00:00:00:01"
     ]
    },
    {
     "name": "stdout",
     "output_type": "stream",
     "text": [
      "\r",
      " [*********57%*          ] Elapsed 2.21s / Remaining 00:00:00:01"
     ]
    },
    {
     "name": "stdout",
     "output_type": "stream",
     "text": [
      "\r",
      " [*********57%*          ] Elapsed 2.22s / Remaining 00:00:00:01"
     ]
    },
    {
     "name": "stdout",
     "output_type": "stream",
     "text": [
      "\r",
      " [*********57%*          ] Elapsed 2.24s / Remaining 00:00:00:01"
     ]
    },
    {
     "name": "stdout",
     "output_type": "stream",
     "text": [
      "\r",
      " [*********58%*          ] Elapsed 2.25s / Remaining 00:00:00:01"
     ]
    },
    {
     "name": "stdout",
     "output_type": "stream",
     "text": [
      "\r",
      " [*********58%*          ] Elapsed 2.27s / Remaining 00:00:00:01"
     ]
    },
    {
     "name": "stdout",
     "output_type": "stream",
     "text": [
      "\r",
      " [*********59%**         ] Elapsed 2.28s / Remaining 00:00:00:01"
     ]
    },
    {
     "name": "stdout",
     "output_type": "stream",
     "text": [
      "\r",
      " [*********59%**         ] Elapsed 2.30s / Remaining 00:00:00:01"
     ]
    },
    {
     "name": "stdout",
     "output_type": "stream",
     "text": [
      "\r",
      " [*********59%**         ] Elapsed 2.31s / Remaining 00:00:00:01"
     ]
    },
    {
     "name": "stdout",
     "output_type": "stream",
     "text": [
      "\r",
      " [*********60%**         ] Elapsed 2.33s / Remaining 00:00:00:01"
     ]
    },
    {
     "name": "stdout",
     "output_type": "stream",
     "text": [
      "\r",
      " [*********60%**         ] Elapsed 2.34s / Remaining 00:00:00:01"
     ]
    },
    {
     "name": "stdout",
     "output_type": "stream",
     "text": [
      "\r",
      " [*********61%**         ] Elapsed 2.36s / Remaining 00:00:00:01"
     ]
    },
    {
     "name": "stdout",
     "output_type": "stream",
     "text": [
      "\r",
      " [*********61%**         ] Elapsed 2.37s / Remaining 00:00:00:01"
     ]
    },
    {
     "name": "stdout",
     "output_type": "stream",
     "text": [
      "\r",
      " [*********61%**         ] Elapsed 2.39s / Remaining 00:00:00:01"
     ]
    },
    {
     "name": "stdout",
     "output_type": "stream",
     "text": [
      "\r",
      " [*********62%**         ] Elapsed 2.41s / Remaining 00:00:00:01"
     ]
    },
    {
     "name": "stdout",
     "output_type": "stream",
     "text": [
      "\r",
      " [*********62%**         ] Elapsed 2.42s / Remaining 00:00:00:01"
     ]
    },
    {
     "name": "stdout",
     "output_type": "stream",
     "text": [
      "\r",
      " [*********63%**         ] Elapsed 2.44s / Remaining 00:00:00:01"
     ]
    },
    {
     "name": "stdout",
     "output_type": "stream",
     "text": [
      "\r",
      " [*********63%**         ] Elapsed 2.45s / Remaining 00:00:00:01"
     ]
    },
    {
     "name": "stdout",
     "output_type": "stream",
     "text": [
      "\r",
      " [*********63%**         ] Elapsed 2.47s / Remaining 00:00:00:01"
     ]
    },
    {
     "name": "stdout",
     "output_type": "stream",
     "text": [
      "\r",
      " [*********64%***        ] Elapsed 2.49s / Remaining 00:00:00:01"
     ]
    },
    {
     "name": "stdout",
     "output_type": "stream",
     "text": [
      "\r",
      " [*********64%***        ] Elapsed 2.50s / Remaining 00:00:00:01"
     ]
    },
    {
     "name": "stdout",
     "output_type": "stream",
     "text": [
      "\r",
      " [*********65%***        ] Elapsed 2.52s / Remaining 00:00:00:01"
     ]
    },
    {
     "name": "stdout",
     "output_type": "stream",
     "text": [
      "\r",
      " [*********65%***        ] Elapsed 2.54s / Remaining 00:00:00:01"
     ]
    },
    {
     "name": "stdout",
     "output_type": "stream",
     "text": [
      "\r",
      " [*********65%***        ] Elapsed 2.55s / Remaining 00:00:00:01"
     ]
    },
    {
     "name": "stdout",
     "output_type": "stream",
     "text": [
      "\r",
      " [*********66%***        ] Elapsed 2.57s / Remaining 00:00:00:01"
     ]
    },
    {
     "name": "stdout",
     "output_type": "stream",
     "text": [
      "\r",
      " [*********66%***        ] Elapsed 2.58s / Remaining 00:00:00:01"
     ]
    },
    {
     "name": "stdout",
     "output_type": "stream",
     "text": [
      "\r",
      " [*********67%***        ] Elapsed 2.59s / Remaining 00:00:00:01"
     ]
    },
    {
     "name": "stdout",
     "output_type": "stream",
     "text": [
      "\r",
      " [*********67%***        ] Elapsed 2.61s / Remaining 00:00:00:01"
     ]
    },
    {
     "name": "stdout",
     "output_type": "stream",
     "text": [
      "\r",
      " [*********67%***        ] Elapsed 2.63s / Remaining 00:00:00:01"
     ]
    },
    {
     "name": "stdout",
     "output_type": "stream",
     "text": [
      "\r",
      " [*********68%****       ] Elapsed 2.64s / Remaining 00:00:00:01"
     ]
    },
    {
     "name": "stdout",
     "output_type": "stream",
     "text": [
      "\r",
      " [*********68%****       ] Elapsed 2.66s / Remaining 00:00:00:01"
     ]
    },
    {
     "name": "stdout",
     "output_type": "stream",
     "text": [
      "\r",
      " [*********69%****       ] Elapsed 2.67s / Remaining 00:00:00:01"
     ]
    },
    {
     "name": "stdout",
     "output_type": "stream",
     "text": [
      "\r",
      " [*********69%****       ] Elapsed 2.69s / Remaining 00:00:00:01"
     ]
    },
    {
     "name": "stdout",
     "output_type": "stream",
     "text": [
      "\r",
      " [*********69%****       ] Elapsed 2.70s / Remaining 00:00:00:01"
     ]
    },
    {
     "name": "stdout",
     "output_type": "stream",
     "text": [
      "\r",
      " [*********70%****       ] Elapsed 2.72s / Remaining 00:00:00:01"
     ]
    },
    {
     "name": "stdout",
     "output_type": "stream",
     "text": [
      "\r",
      " [*********70%****       ] Elapsed 2.74s / Remaining 00:00:00:01"
     ]
    },
    {
     "name": "stdout",
     "output_type": "stream",
     "text": [
      "\r",
      " [*********71%****       ] Elapsed 2.76s / Remaining 00:00:00:01"
     ]
    },
    {
     "name": "stdout",
     "output_type": "stream",
     "text": [
      "\r",
      " [*********71%****       ] Elapsed 2.77s / Remaining 00:00:00:01"
     ]
    },
    {
     "name": "stdout",
     "output_type": "stream",
     "text": [
      "\r",
      " [*********71%****       ] Elapsed 2.79s / Remaining 00:00:00:01"
     ]
    },
    {
     "name": "stdout",
     "output_type": "stream",
     "text": [
      "\r",
      " [*********72%*****      ] Elapsed 2.80s / Remaining 00:00:00:01"
     ]
    },
    {
     "name": "stdout",
     "output_type": "stream",
     "text": [
      "\r",
      " [*********72%*****      ] Elapsed 2.82s / Remaining 00:00:00:01"
     ]
    },
    {
     "name": "stdout",
     "output_type": "stream",
     "text": [
      "\r",
      " [*********73%*****      ] Elapsed 2.83s / Remaining 00:00:00:01"
     ]
    },
    {
     "name": "stdout",
     "output_type": "stream",
     "text": [
      "\r",
      " [*********73%*****      ] Elapsed 2.85s / Remaining 00:00:00:01"
     ]
    },
    {
     "name": "stdout",
     "output_type": "stream",
     "text": [
      "\r",
      " [*********73%*****      ] Elapsed 2.86s / Remaining 00:00:00:01"
     ]
    },
    {
     "name": "stdout",
     "output_type": "stream",
     "text": [
      "\r",
      " [*********74%*****      ] Elapsed 2.88s / Remaining 00:00:00:01"
     ]
    },
    {
     "name": "stdout",
     "output_type": "stream",
     "text": [
      "\r",
      " [*********74%*****      ] Elapsed 2.89s / Remaining 00:00:00:01"
     ]
    },
    {
     "name": "stdout",
     "output_type": "stream",
     "text": [
      "\r",
      " [*********75%*****      ] Elapsed 2.90s / Remaining 00:00:00:00"
     ]
    },
    {
     "name": "stdout",
     "output_type": "stream",
     "text": [
      "\r",
      " [*********75%*****      ] Elapsed 2.92s / Remaining 00:00:00:00"
     ]
    },
    {
     "name": "stdout",
     "output_type": "stream",
     "text": [
      "\r",
      " [*********76%*****      ] Elapsed 2.93s / Remaining 00:00:00:00"
     ]
    },
    {
     "name": "stdout",
     "output_type": "stream",
     "text": [
      "\r",
      " [*********76%*****      ] Elapsed 2.95s / Remaining 00:00:00:00"
     ]
    },
    {
     "name": "stdout",
     "output_type": "stream",
     "text": [
      "\r",
      " [*********76%*****      ] Elapsed 2.97s / Remaining 00:00:00:00"
     ]
    },
    {
     "name": "stdout",
     "output_type": "stream",
     "text": [
      "\r",
      " [*********77%******     ] Elapsed 2.98s / Remaining 00:00:00:00"
     ]
    },
    {
     "name": "stdout",
     "output_type": "stream",
     "text": [
      "\r",
      " [*********77%******     ] Elapsed 3.00s / Remaining 00:00:00:00"
     ]
    },
    {
     "name": "stdout",
     "output_type": "stream",
     "text": [
      "\r",
      " [*********78%******     ] Elapsed 3.01s / Remaining 00:00:00:00"
     ]
    },
    {
     "name": "stdout",
     "output_type": "stream",
     "text": [
      "\r",
      " [*********78%******     ] Elapsed 3.03s / Remaining 00:00:00:00"
     ]
    },
    {
     "name": "stdout",
     "output_type": "stream",
     "text": [
      "\r",
      " [*********78%******     ] Elapsed 3.05s / Remaining 00:00:00:00"
     ]
    },
    {
     "name": "stdout",
     "output_type": "stream",
     "text": [
      "\r",
      " [*********79%******     ] Elapsed 3.06s / Remaining 00:00:00:00"
     ]
    },
    {
     "name": "stdout",
     "output_type": "stream",
     "text": [
      "\r",
      " [*********79%******     ] Elapsed 3.08s / Remaining 00:00:00:00"
     ]
    },
    {
     "name": "stdout",
     "output_type": "stream",
     "text": [
      "\r",
      " [*********80%******     ] Elapsed 3.10s / Remaining 00:00:00:00"
     ]
    },
    {
     "name": "stdout",
     "output_type": "stream",
     "text": [
      "\r",
      " [*********80%******     ] Elapsed 3.11s / Remaining 00:00:00:00"
     ]
    },
    {
     "name": "stdout",
     "output_type": "stream",
     "text": [
      "\r",
      " [*********80%******     ] Elapsed 3.12s / Remaining 00:00:00:00"
     ]
    },
    {
     "name": "stdout",
     "output_type": "stream",
     "text": [
      "\r",
      " [*********81%*******    ] Elapsed 3.14s / Remaining 00:00:00:00"
     ]
    },
    {
     "name": "stdout",
     "output_type": "stream",
     "text": [
      "\r",
      " [*********81%*******    ] Elapsed 3.16s / Remaining 00:00:00:00"
     ]
    },
    {
     "name": "stdout",
     "output_type": "stream",
     "text": [
      "\r",
      " [*********82%*******    ] Elapsed 3.17s / Remaining 00:00:00:00"
     ]
    },
    {
     "name": "stdout",
     "output_type": "stream",
     "text": [
      "\r",
      " [*********82%*******    ] Elapsed 3.19s / Remaining 00:00:00:00"
     ]
    },
    {
     "name": "stdout",
     "output_type": "stream",
     "text": [
      "\r",
      " [*********82%*******    ] Elapsed 3.20s / Remaining 00:00:00:00"
     ]
    },
    {
     "name": "stdout",
     "output_type": "stream",
     "text": [
      "\r",
      " [*********83%*******    ] Elapsed 3.22s / Remaining 00:00:00:00"
     ]
    },
    {
     "name": "stdout",
     "output_type": "stream",
     "text": [
      "\r",
      " [*********83%*******    ] Elapsed 3.23s / Remaining 00:00:00:00"
     ]
    },
    {
     "name": "stdout",
     "output_type": "stream",
     "text": [
      "\r",
      " [*********84%*******    ] Elapsed 3.24s / Remaining 00:00:00:00"
     ]
    },
    {
     "name": "stdout",
     "output_type": "stream",
     "text": [
      "\r",
      " [*********84%*******    ] Elapsed 3.26s / Remaining 00:00:00:00"
     ]
    },
    {
     "name": "stdout",
     "output_type": "stream",
     "text": [
      "\r",
      " [*********84%*******    ] Elapsed 3.27s / Remaining 00:00:00:00"
     ]
    },
    {
     "name": "stdout",
     "output_type": "stream",
     "text": [
      "\r",
      " [*********85%********   ] Elapsed 3.29s / Remaining 00:00:00:00"
     ]
    },
    {
     "name": "stdout",
     "output_type": "stream",
     "text": [
      "\r",
      " [*********85%********   ] Elapsed 3.30s / Remaining 00:00:00:00"
     ]
    },
    {
     "name": "stdout",
     "output_type": "stream",
     "text": [
      "\r",
      " [*********86%********   ] Elapsed 3.32s / Remaining 00:00:00:00"
     ]
    },
    {
     "name": "stdout",
     "output_type": "stream",
     "text": [
      "\r",
      " [*********86%********   ] Elapsed 3.34s / Remaining 00:00:00:00"
     ]
    },
    {
     "name": "stdout",
     "output_type": "stream",
     "text": [
      "\r",
      " [*********86%********   ] Elapsed 3.35s / Remaining 00:00:00:00"
     ]
    },
    {
     "name": "stdout",
     "output_type": "stream",
     "text": [
      "\r",
      " [*********87%********   ] Elapsed 3.37s / Remaining 00:00:00:00"
     ]
    },
    {
     "name": "stdout",
     "output_type": "stream",
     "text": [
      "\r",
      " [*********87%********   ] Elapsed 3.39s / Remaining 00:00:00:00"
     ]
    },
    {
     "name": "stdout",
     "output_type": "stream",
     "text": [
      "\r",
      " [*********88%********   ] Elapsed 3.40s / Remaining 00:00:00:00"
     ]
    },
    {
     "name": "stdout",
     "output_type": "stream",
     "text": [
      "\r",
      " [*********88%********   ] Elapsed 3.42s / Remaining 00:00:00:00"
     ]
    },
    {
     "name": "stdout",
     "output_type": "stream",
     "text": [
      "\r",
      " [*********88%********   ] Elapsed 3.43s / Remaining 00:00:00:00"
     ]
    },
    {
     "name": "stdout",
     "output_type": "stream",
     "text": [
      "\r",
      " [*********89%********   ] Elapsed 3.45s / Remaining 00:00:00:00"
     ]
    },
    {
     "name": "stdout",
     "output_type": "stream",
     "text": [
      "\r",
      " [*********89%********   ] Elapsed 3.47s / Remaining 00:00:00:00"
     ]
    },
    {
     "name": "stdout",
     "output_type": "stream",
     "text": [
      "\r",
      " [*********90%*********  ] Elapsed 3.48s / Remaining 00:00:00:00"
     ]
    },
    {
     "name": "stdout",
     "output_type": "stream",
     "text": [
      "\r",
      " [*********90%*********  ] Elapsed 3.49s / Remaining 00:00:00:00"
     ]
    },
    {
     "name": "stdout",
     "output_type": "stream",
     "text": [
      "\r",
      " [*********90%*********  ] Elapsed 3.51s / Remaining 00:00:00:00"
     ]
    },
    {
     "name": "stdout",
     "output_type": "stream",
     "text": [
      "\r",
      " [*********91%*********  ] Elapsed 3.53s / Remaining 00:00:00:00"
     ]
    },
    {
     "name": "stdout",
     "output_type": "stream",
     "text": [
      "\r",
      " [*********91%*********  ] Elapsed 3.54s / Remaining 00:00:00:00"
     ]
    },
    {
     "name": "stdout",
     "output_type": "stream",
     "text": [
      "\r",
      " [*********92%*********  ] Elapsed 3.55s / Remaining 00:00:00:00"
     ]
    },
    {
     "name": "stdout",
     "output_type": "stream",
     "text": [
      "\r",
      " [*********92%*********  ] Elapsed 3.57s / Remaining 00:00:00:00"
     ]
    },
    {
     "name": "stdout",
     "output_type": "stream",
     "text": [
      "\r",
      " [*********92%*********  ] Elapsed 3.58s / Remaining 00:00:00:00"
     ]
    },
    {
     "name": "stdout",
     "output_type": "stream",
     "text": [
      "\r",
      " [*********93%*********  ] Elapsed 3.60s / Remaining 00:00:00:00"
     ]
    },
    {
     "name": "stdout",
     "output_type": "stream",
     "text": [
      "\r",
      " [*********93%*********  ] Elapsed 3.61s / Remaining 00:00:00:00"
     ]
    },
    {
     "name": "stdout",
     "output_type": "stream",
     "text": [
      "\r",
      " [*********94%********** ] Elapsed 3.63s / Remaining 00:00:00:00"
     ]
    },
    {
     "name": "stdout",
     "output_type": "stream",
     "text": [
      "\r",
      " [*********94%********** ] Elapsed 3.64s / Remaining 00:00:00:00"
     ]
    },
    {
     "name": "stdout",
     "output_type": "stream",
     "text": [
      "\r",
      " [*********94%********** ] Elapsed 3.66s / Remaining 00:00:00:00"
     ]
    },
    {
     "name": "stdout",
     "output_type": "stream",
     "text": [
      "\r",
      " [*********95%********** ] Elapsed 3.68s / Remaining 00:00:00:00"
     ]
    },
    {
     "name": "stdout",
     "output_type": "stream",
     "text": [
      "\r",
      " [*********95%********** ] Elapsed 3.69s / Remaining 00:00:00:00"
     ]
    },
    {
     "name": "stdout",
     "output_type": "stream",
     "text": [
      "\r",
      " [*********96%********** ] Elapsed 3.71s / Remaining 00:00:00:00"
     ]
    },
    {
     "name": "stdout",
     "output_type": "stream",
     "text": [
      "\r",
      " [*********96%********** ] Elapsed 3.73s / Remaining 00:00:00:00"
     ]
    },
    {
     "name": "stdout",
     "output_type": "stream",
     "text": [
      "\r",
      " [*********96%********** ] Elapsed 3.74s / Remaining 00:00:00:00"
     ]
    },
    {
     "name": "stdout",
     "output_type": "stream",
     "text": [
      "\r",
      " [*********97%********** ] Elapsed 3.76s / Remaining 00:00:00:00"
     ]
    },
    {
     "name": "stdout",
     "output_type": "stream",
     "text": [
      "\r",
      " [*********97%********** ] Elapsed 3.77s / Remaining 00:00:00:00"
     ]
    },
    {
     "name": "stdout",
     "output_type": "stream",
     "text": [
      "\r",
      " [*********98%***********] Elapsed 3.79s / Remaining 00:00:00:00"
     ]
    },
    {
     "name": "stdout",
     "output_type": "stream",
     "text": [
      "\r",
      " [*********98%***********] Elapsed 3.80s / Remaining 00:00:00:00"
     ]
    },
    {
     "name": "stdout",
     "output_type": "stream",
     "text": [
      "\r",
      " [*********98%***********] Elapsed 3.82s / Remaining 00:00:00:00"
     ]
    },
    {
     "name": "stdout",
     "output_type": "stream",
     "text": [
      "\r",
      " [*********99%***********] Elapsed 3.83s / Remaining 00:00:00:00"
     ]
    },
    {
     "name": "stdout",
     "output_type": "stream",
     "text": [
      "\r",
      " [*********99%***********] Elapsed 3.85s / Remaining 00:00:00:00"
     ]
    },
    {
     "name": "stdout",
     "output_type": "stream",
     "text": [
      "\r",
      " [********100%***********] Elapsed 3.86s / Remaining 00:00:00:00"
     ]
    },
    {
     "name": "stdout",
     "output_type": "stream",
     "text": [
      "\r",
      " [********100%***********] Elapsed 3.88s / Remaining 00:00:00:00"
     ]
    },
    {
     "name": "stdout",
     "output_type": "stream",
     "text": [
      "\r",
      " Total run time:   3.88s\n"
     ]
    }
   ],
   "source": [
    "H = sys.H()\n",
    "\n",
    "bath1, b1term, b1delta = bath_p1.bath(Nk, tag=\"bath 1\")\n",
    "Q1 = bath_p1.Q()\n",
    "\n",
    "bath2, b2term, b2delta = bath_p2.bath(Nk, tag=\"bath 2\")\n",
    "Q2 = bath_p2.Q()\n",
    "\n",
    "solver = HEOMSolver(\n",
    "    qt.liouvillian(H) + b1term + b2term,\n",
    "    [bath1, bath2],\n",
    "    max_depth=NC,\n",
    "    options=options,\n",
    ")\n",
    "\n",
    "result = solver.run(rho0, tlist, e_ops=[\n",
    "    qt.tensor(qt.sigmaz(), qt.identity(2)),\n",
    "    lambda t, ado: bath_heat_current('bath 1', ado, H, Q1, b1delta),\n",
    "    lambda t, ado: bath_heat_current('bath 2', ado, H, Q2, b2delta),\n",
    "    lambda t, ado: system_heat_current('bath 1', ado, H, Q1, b1delta),\n",
    "    lambda t, ado: system_heat_current('bath 2', ado, H, Q2, b2delta),\n",
    "])"
   ]
  },
  {
   "cell_type": "markdown",
   "id": "31738592",
   "metadata": {},
   "source": [
    "We first plot $\\langle \\sigma_z^1 \\rangle$ to see the time evolution of the system state:"
   ]
  },
  {
   "cell_type": "code",
   "execution_count": 9,
   "id": "9d957176",
   "metadata": {
    "execution": {
     "iopub.execute_input": "2025-08-20T04:03:47.637724Z",
     "iopub.status.busy": "2025-08-20T04:03:47.637552Z",
     "iopub.status.idle": "2025-08-20T04:03:47.794100Z",
     "shell.execute_reply": "2025-08-20T04:03:47.793552Z"
    }
   },
   "outputs": [
    {
     "data": {
      "image/png": "[encoded data removed]",
      "text/plain": [
       "<Figure size 800x800 with 1 Axes>"
      ]
     },
     "metadata": {},
     "output_type": "display_data"
    }
   ],
   "source": [
    "fig, axes = plt.subplots(figsize=(8, 8))\n",
    "axes.plot(tlist, np.real(result.expect[0]), 'r', linewidth=2)\n",
    "axes.set_xlabel('t', fontsize=28)\n",
    "axes.set_ylabel(r\"$\\langle \\sigma_z^1 \\rangle$\", fontsize=28);"
   ]
  },
  {
   "cell_type": "markdown",
   "id": "ad28e1dd",
   "metadata": {},
   "source": [
    "We find a rather quick thermalization of the system state. For the heat currents, however, it takes a somewhat longer time until they converge to their long-time values:"
   ]
  },
  {
   "cell_type": "code",
   "execution_count": 10,
   "id": "953bbfe5",
   "metadata": {
    "execution": {
     "iopub.execute_input": "2025-08-20T04:03:47.795744Z",
     "iopub.status.busy": "2025-08-20T04:03:47.795567Z",
     "iopub.status.idle": "2025-08-20T04:03:48.045203Z",
     "shell.execute_reply": "2025-08-20T04:03:48.044674Z"
    }
   },
   "outputs": [
    {
     "data": {
      "image/png": "[encoded data removed]",
      "text/plain": [
       "<Figure size 1600x800 with 2 Axes>"
      ]
     },
     "metadata": {},
     "output_type": "display_data"
    }
   ],
   "source": [
    "fig, (ax1, ax2) = plt.subplots(ncols=2, figsize=(16, 8))\n",
    "\n",
    "ax1.plot(\n",
    "    tlist, -np.real(result.expect[1]),\n",
    "    color='darkorange', label='BHC (bath 1 -> system)',\n",
    ")\n",
    "ax1.plot(\n",
    "    tlist, np.real(result.expect[2]),\n",
    "    '--', color='darkorange', label='BHC (system -> bath 2)',\n",
    ")\n",
    "ax1.plot(\n",
    "    tlist, -np.real(result.expect[3]),\n",
    "    color='dodgerblue', label='SHC (bath 1 -> system)',\n",
    ")\n",
    "ax1.plot(\n",
    "    tlist, np.real(result.expect[4]),\n",
    "    '--', color='dodgerblue', label='SHC (system -> bath 2)',\n",
    ")\n",
    "\n",
    "ax1.set_xlabel('t', fontsize=28)\n",
    "ax1.set_ylabel('j', fontsize=28)\n",
    "ax1.set_ylim((-0.05, 0.05))\n",
    "ax1.legend(loc=0, fontsize=12)\n",
    "\n",
    "ax2.plot(\n",
    "    tlist, -np.real(result.expect[1]),\n",
    "    color='darkorange', label='BHC (bath 1 -> system)',\n",
    ")\n",
    "ax2.plot(\n",
    "    tlist, np.real(result.expect[2]),\n",
    "    '--', color='darkorange', label='BHC (system -> bath 2)',\n",
    ")\n",
    "ax2.plot(\n",
    "    tlist, -np.real(result.expect[3]),\n",
    "    color='dodgerblue', label='SHC (bath 1 -> system)',\n",
    ")\n",
    "ax2.plot(\n",
    "    tlist, np.real(result.expect[4]),\n",
    "    '--', color='dodgerblue', label='SHC (system -> bath 2)',\n",
    ")\n",
    "\n",
    "ax2.set_xlabel('t', fontsize=28)\n",
    "ax2.set_xlim((20, 50))\n",
    "ax2.set_ylim((0, 0.0002))\n",
    "ax2.legend(loc=0, fontsize=12);"
   ]
  },
  {
   "cell_type": "markdown",
   "id": "1e046d19",
   "metadata": {},
   "source": [
    "### Steady-state currents\n",
    "\n",
    "Here, we try to reproduce the HEOM curves in Fig. 3(a) of Ref. \\[1\\] by varying the coupling strength and finding the steady state for each coupling strength."
   ]
  },
  {
   "cell_type": "code",
   "execution_count": 11,
   "id": "f7593782",
   "metadata": {
    "execution": {
     "iopub.execute_input": "2025-08-20T04:03:48.046680Z",
     "iopub.status.busy": "2025-08-20T04:03:48.046522Z",
     "iopub.status.idle": "2025-08-20T04:03:48.050011Z",
     "shell.execute_reply": "2025-08-20T04:03:48.049623Z"
    }
   },
   "outputs": [],
   "source": [
    "def heat_currents(sys, bath_p1, bath_p2, Nk, NC, options):\n",
    "    \"\"\" Calculate the steady sate heat currents for the given system and\n",
    "        bath.\n",
    "    \"\"\"\n",
    "\n",
    "    bath1, b1term, b1delta = bath_p1.bath(Nk, tag=\"bath 1\")\n",
    "    Q1 = bath_p1.Q()\n",
    "\n",
    "    bath2, b2term, b2delta = bath_p2.bath(Nk, tag=\"bath 2\")\n",
    "    Q2 = bath_p2.Q()\n",
    "\n",
    "    solver = HEOMSolver(\n",
    "        qt.liouvillian(sys.H()) + b1term + b2term,\n",
    "        [bath1, bath2],\n",
    "        max_depth=NC,\n",
    "        options=options\n",
    "    )\n",
    "\n",
    "    _, steady_ados = solver.steady_state()\n",
    "\n",
    "    return (\n",
    "        bath_heat_current('bath 1', steady_ados, sys.H(), Q1, b1delta),\n",
    "        bath_heat_current('bath 2', steady_ados, sys.H(), Q2, b2delta),\n",
    "        system_heat_current('bath 1', steady_ados, sys.H(), Q1, b1delta),\n",
    "        system_heat_current('bath 2', steady_ados, sys.H(), Q2, b2delta),\n",
    "    )"
   ]
  },
  {
   "cell_type": "code",
   "execution_count": 12,
   "id": "6dd704fa",
   "metadata": {
    "execution": {
     "iopub.execute_input": "2025-08-20T04:03:48.051277Z",
     "iopub.status.busy": "2025-08-20T04:03:48.051115Z",
     "iopub.status.idle": "2025-08-20T04:04:00.923175Z",
     "shell.execute_reply": "2025-08-20T04:04:00.922717Z"
    }
   },
   "outputs": [
    {
     "data": {
      "application/vnd.jupyter.widget-view+json": {
       "model_id": "16ac81e6e3134975b8b221ab20af0e61",
       "version_major": 2,
       "version_minor": 0
      },
      "text/plain": [
       "IntProgress(value=0, max=30)"
      ]
     },
     "metadata": {},
     "output_type": "display_data"
    }
   ],
   "source": [
    "# Define number of points to use for the plot\n",
    "plot_points = 10  # use 100 for a smoother curve\n",
    "\n",
    "# Range of relative coupling strengths\n",
    "# Chosen so that zb_max is maximum, centered around 1 on a log scale\n",
    "zb_max = 4  # use 20 to see more of the current curve\n",
    "zeta_bars = np.logspace(\n",
    "    -np.log(zb_max),\n",
    "    np.log(zb_max),\n",
    "    plot_points,\n",
    "    base=np.e,\n",
    ")\n",
    "\n",
    "# Setup a progress bar\n",
    "progress = IntProgress(min=0, max=(3 * plot_points))\n",
    "display(progress)\n",
    "\n",
    "\n",
    "def calculate_heat_current(J12, zb, Nk, progress=progress):\n",
    "    \"\"\" Calculate a single heat current and update the progress bar. \"\"\"\n",
    "    # Estimate appropriate HEOM max_depth from coupling strength\n",
    "    NC = 7 + int(max(zb * J12 - 1, 0) * 2)\n",
    "    NC = min(NC, 20)\n",
    "    # the four currents are identical in the steady state\n",
    "    j, _, _, _ = heat_currents(\n",
    "        sys.replace(J12=J12),\n",
    "        bath_p1.replace(lam=zb * J12 / 2),\n",
    "        bath_p2.replace(lam=zb * J12 / 2),\n",
    "        Nk, NC, options=options,\n",
    "    )\n",
    "    progress.value += 1\n",
    "    return j\n",
    "\n",
    "\n",
    "# Calculate steady state currents for range of zeta_bars\n",
    "# for J12 = 0.01, 0.1 and 0.5:\n",
    "j1s = [calculate_heat_current(0.01, zb, Nk) for zb in zeta_bars]\n",
    "j2s = [calculate_heat_current(0.1, zb, Nk) for zb in zeta_bars]\n",
    "j3s = [calculate_heat_current(0.5, zb, Nk) for zb in zeta_bars]"
   ]
  },
  {
   "cell_type": "markdown",
   "id": "940955d6",
   "metadata": {},
   "source": [
    "## Create Plot"
   ]
  },
  {
   "cell_type": "code",
   "execution_count": 13,
   "id": "e557868b",
   "metadata": {
    "execution": {
     "iopub.execute_input": "2025-08-20T04:04:00.925023Z",
     "iopub.status.busy": "2025-08-20T04:04:00.924841Z",
     "iopub.status.idle": "2025-08-20T04:04:01.162909Z",
     "shell.execute_reply": "2025-08-20T04:04:01.162374Z"
    }
   },
   "outputs": [
    {
     "data": {
      "image/png": "[encoded data removed]",
      "text/plain": [
       "<Figure size 1200x700 with 1 Axes>"
      ]
     },
     "metadata": {},
     "output_type": "display_data"
    }
   ],
   "source": [
    "fig, axes = plt.subplots(figsize=(12, 7))\n",
    "\n",
    "axes.plot(\n",
    "    zeta_bars, -1000 * 100 * np.real(j1s),\n",
    "    'b', linewidth=2, label=r\"$J_{12} = 0.01\\, \\epsilon$\",\n",
    ")\n",
    "axes.plot(\n",
    "    zeta_bars, -1000 * 10 * np.real(j2s),\n",
    "    'r--',  linewidth=2, label=r\"$J_{12} = 0.1\\, \\epsilon$\",\n",
    ")\n",
    "axes.plot(\n",
    "    zeta_bars, -1000 * 2 * np.real(j3s),\n",
    "    'g-.', linewidth=2, label=r\"$J_{12} = 0.5\\, \\epsilon$\",\n",
    ")\n",
    "\n",
    "axes.set_xscale('log')\n",
    "axes.set_xlabel(r\"$\\bar\\zeta$\", fontsize=30)\n",
    "axes.set_xlim((zeta_bars[0], zeta_bars[-1]))\n",
    "\n",
    "axes.set_ylabel(\n",
    "    r\"$j_{\\mathrm{ss}}\\; /\\; (\\epsilon J_{12}) \\times 10^3$\",\n",
    "    fontsize=30,\n",
    ")\n",
    "axes.set_ylim((0, 2))\n",
    "\n",
    "axes.legend(loc=0);"
   ]
  },
  {
   "cell_type": "markdown",
   "id": "e5c4cbdc",
   "metadata": {},
   "source": [
    "## About"
   ]
  },
  {
   "cell_type": "code",
   "execution_count": 14,
   "id": "7b27a523",
   "metadata": {
    "execution": {
     "iopub.execute_input": "2025-08-20T04:04:01.164518Z",
     "iopub.status.busy": "2025-08-20T04:04:01.164311Z",
     "iopub.status.idle": "2025-08-20T04:04:01.732946Z",
     "shell.execute_reply": "2025-08-20T04:04:01.732340Z"
    }
   },
   "outputs": [
    {
     "name": "stdout",
     "output_type": "stream",
     "text": [
      "\n",
      "QuTiP: Quantum Toolbox in Python\n",
      "================================\n",
      "Copyright (c) QuTiP team 2011 and later.\n",
      "Current admin team: Alexander Pitchford, Nathan Shammah, Shahnawaz Ahmed, Neill Lambert, Eric Giguère, Boxi Li, Simon Cross, Asier Galicia, Paul Menczel, and Patrick Hopf.\n",
      "Board members: Daniel Burgarth, Robert Johansson, Anton F. Kockum, Franco Nori and Will Zeng.\n",
      "Original developers: R. J. Johansson & P. D. Nation.\n",
      "Previous lead developers: Chris Granade & A. Grimsmo.\n",
      "Currently developed through wide collaboration. See https://github.com/qutip for details.\n",
      "\n",
      "QuTiP Version:      5.3.0.dev0+d849c94\n",
      "Numpy Version:      2.3.2\n",
      "Scipy Version:      1.16.1\n",
      "Cython Version:     3.1.3\n",
      "Matplotlib Version: 3.10.5\n",
      "Python Version:     3.12.0\n",
      "Number of CPUs:     4\n",
      "BLAS Info:          Generic\n",
      "INTEL MKL Ext:      None\n",
      "Platform Info:      Linux (x86_64)\n",
      "Installation path:  /home/runner/miniconda3/envs/test-environment-v5/lib/python3.12/site-packages/qutip\n",
      "\n",
      "Installed QuTiP family packages\n",
      "-------------------------------\n",
      "\n",
      "qutip-qtrl: 0.2.0.dev0+acb71a0\n"
     ]
    },
    {
     "name": "stdout",
     "output_type": "stream",
     "text": [
      "qutip-jax: 0.1.1.dev6\n",
      "qutip-qip: 0.5.0.dev0+2db1138\n",
      "\n",
      "================================================================================\n",
      "Please cite QuTiP in your publication.\n",
      "================================================================================\n",
      "For your convenience a bibtex reference can be easily generated using `qutip.cite()`\n"
     ]
    }
   ],
   "source": [
    "qt.about()"
   ]
  }
 ],
 "metadata": {
  "jupytext": {
   "default_lexer": "ipython3"
  },
  "kernelspec": {
   "display_name": "Python 3 (ipykernel)",
   "language": "python",
   "name": "python3"
  },
  "language_info": {
   "codemirror_mode": {
    "name": "ipython",
    "version": 3
   },
   "file_extension": ".py",
   "mimetype": "text/x-python",
   "name": "python",
   "nbconvert_exporter": "python",
   "pygments_lexer": "ipython3",
   "version": "3.12.0"
  },
  "widgets": {
   "application/vnd.jupyter.widget-state+json": {
    "state": {
     "16ac81e6e3134975b8b221ab20af0e61": {
      "model_module": "@jupyter-widgets/controls",
      "model_module_version": "2.0.0",
      "model_name": "IntProgressModel",
      "state": {
       "_dom_classes": [],
       "_model_module": "@jupyter-widgets/controls",
       "_model_module_version": "2.0.0",
       "_model_name": "IntProgressModel",
       "_view_count": null,
       "_view_module": "@jupyter-widgets/controls",
       "_view_module_version": "2.0.0",
       "_view_name": "ProgressView",
       "bar_style": "",
       "description": "",
       "description_allow_html": false,
       "layout": "IPY_MODEL_ddaddfc39e124cd5a94f152df2aeb18e",
       "max": 30,
       "min": 0,
       "orientation": "horizontal",
       "style": "IPY_MODEL_fc3f020a18ef4ed198da0128c7a68a2e",
       "tabbable": null,
       "tooltip": null,
       "value": 30
      }
     },
     "ddaddfc39e124cd5a94f152df2aeb18e": {
      "model_module": "@jupyter-widgets/base",
      "model_module_version": "2.0.0",
      "model_name": "LayoutModel",
      "state": {
       "_model_module": "@jupyter-widgets/base",
       "_model_module_version": "2.0.0",
       "_model_name": "LayoutModel",
       "_view_count": null,
       "_view_module": "@jupyter-widgets/base",
       "_view_module_version": "2.0.0",
       "_view_name": "LayoutView",
       "align_content": null,
       "align_items": null,
       "align_self": null,
       "border_bottom": null,
       "border_left": null,
       "border_right": null,
       "border_top": null,
       "bottom": null,
       "display": null,
       "flex": null,
       "flex_flow": null,
       "grid_area": null,
       "grid_auto_columns": null,
       "grid_auto_flow": null,
       "grid_auto_rows": null,
       "grid_column": null,
       "grid_gap": null,
       "grid_row": null,
       "grid_template_areas": null,
       "grid_template_columns": null,
       "grid_template_rows": null,
       "height": null,
       "justify_content": null,
       "justify_items": null,
       "left": null,
       "margin": null,
       "max_height": null,
       "max_width": null,
       "min_height": null,
       "min_width": null,
       "object_fit": null,
       "object_position": null,
       "order": null,
       "overflow": null,
       "padding": null,
       "right": null,
       "top": null,
       "visibility": null,
       "width": null
      }
     },
     "fc3f020a18ef4ed198da0128c7a68a2e": {
      "model_module": "@jupyter-widgets/controls",
      "model_module_version": "2.0.0",
      "model_name": "ProgressStyleModel",
      "state": {
       "_model_module": "@jupyter-widgets/controls",
       "_model_module_version": "2.0.0",
       "_model_name": "ProgressStyleModel",
       "_view_count": null,
       "_view_module": "@jupyter-widgets/base",
       "_view_module_version": "2.0.0",
       "_view_name": "StyleView",
       "bar_color": null,
       "description_width": ""
      }
     }
    },
    "version_major": 2,
    "version_minor": 0
   }
  }
 },
 "nbformat": 4,
 "nbformat_minor": 5
}
