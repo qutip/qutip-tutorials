{
 "cells": [
  {
   "cell_type": "markdown",
   "id": "88262749",
   "metadata": {},
   "source": [
    "# HEOM 5b: Discrete boson coupled to an impurity and fermionic leads"
   ]
  },
  {
   "cell_type": "markdown",
   "id": "024b4230",
   "metadata": {},
   "source": [
    "## Introduction\n",
    "\n",
    "Here we model a single fermion coupled to two electronic leads or reservoirs (e.g.,  this can describe a single quantum dot, a molecular transistor, etc), also coupled to a discrete bosonic (vibronic) mode.\n",
    "\n",
    "Note that in this implementation we primarily follow the definitions used by Christian Schinabeck in his Dissertation https://open.fau.de/items/36fdd708-a467-4b59-bf4e-4a2110fbc431 and related publications. In particular this example reproduces some results from https://journals.aps.org/prb/abstract/10.1103/PhysRevB.94.201407\n",
    "\n",
    "Notation:\n",
    "\n",
    "* $K=L/R$ refers to  left or right leads.\n",
    "* $\\sigma=\\pm$ refers to input/output\n",
    "\n",
    "We choose a Lorentzian spectral density for the leads, with a peak at the chemical potential. The latter simplifies a little the notation required for the correlation functions, but can be relaxed if neccessary.\n",
    "\n",
    "$$J(\\omega) = \\frac{\\Gamma  W^2}{((\\omega-\\mu_K)^2 +W^2 )}$$\n",
    "\n",
    "The Fermi distribution function is:\n",
    "\n",
    "$$f_F (x) = (\\exp(x) + 1)^{-1}$$\n",
    "\n",
    "Together these allow the correlation functions to be expressed as:\n",
    "\n",
    "$$C^{\\sigma}_K(t) = \\frac{1}{2\\pi} \\int_{-\\infty}^{\\infty} d\\omega e^{\\sigma i \\omega t} \\Gamma_K(\\omega) f_F[\\sigma\\beta(\\omega - \\mu)]$$\n",
    "\n",
    "As with the Bosonic case we can treat these with Matsubara, Pade, or fitting approaches.\n",
    "\n",
    "The Pade decomposition approximates the Fermi distubition as \n",
    "\n",
    "$$f_F(x) \\approx f_F^{\\mathrm{approx}}(x) = \\frac{1}{2} - \\sum_l^{l_{max}} \\frac{2k_l x}{x^2 + \\epsilon_l^2}$$\n",
    "\n",
    "$k_l$ and $\\epsilon_l$ are co-efficients defined in J. Chem Phys 133,10106\n",
    "\n",
    "Evaluating the integral for the correlation functions gives,\n",
    "\n",
    "\n",
    "$$C_K^{\\sigma}(t) \\approx \\sum_{l=0}^{l_{max}} \\eta_K^{\\sigma_l} e^{-\\gamma_{K,\\sigma,l}t}$$\n",
    "\n",
    "where\n",
    "\n",
    "$$\\eta_{K,0} = \\frac{\\Gamma_KW_K}{2} f_F^{approx}(i\\beta_K W)$$\n",
    "\n",
    "$$\\gamma_{K,\\sigma,0} = W_K - \\sigma i\\mu_K$$ \n",
    "\n",
    "$$\\eta_{K,l\\neq 0} = -i\\cdot \\frac{k_m}{\\beta_K} \\cdot \\frac{\\Gamma_K W_K^2}{-\\frac{\\epsilon^2_m}{\\beta_K^2} + W_K^2}$$\n",
    "\n",
    "$$\\gamma_{K,\\sigma,l\\neq 0}= \\frac{\\epsilon_m}{\\beta_K} - \\sigma i \\mu_K$$"
   ]
  },
  {
   "cell_type": "markdown",
   "id": "45f0ef2d",
   "metadata": {},
   "source": [
    "## Differences from Example 5a"
   ]
  },
  {
   "cell_type": "markdown",
   "id": "fa0981cc",
   "metadata": {},
   "source": [
    "The system we study here has two big differences from the HEOM 5a example:\n",
    "\n",
    "* the system now includes a discrete bosonic mode,\n",
    "* and the electronic leads have $W$ set to $10^4$ (i.e. the wide-band limit).\n",
    "\n",
    "The new system Hamiltonian is:\n",
    "\n",
    "$$\n",
    "H_{\\mathrm{vib}} = H_{\\mathrm{SIAM}} + \\Omega a^{\\dagger}a + \\lambda (a+a^{\\dagger})c{^\\dagger}c.\n",
    "$$\n",
    "\n",
    "where $H_{\\mathrm{SIAM}}$ is the Hamiltonian of the single impurity, and the remaining terms are the Hamiltonian of the bosonic mode and its interaction with the impurity.\n",
    "\n",
    "The complete setup now consists of four parts:\n",
    "\n",
    "* the single impurity\n",
    "* a discrete bosonic mode\n",
    "* two fermionic leads.\n",
    "\n",
    "**Note**: This example is quite numerically challenging and has many system and bath components. For an easier introduction into the fermionic case, see example 5a.\n",
    "\n",
    "**Note**: We've reduced the cut-off of the bosonic mode to 2 modes to facilitate faster execution of the notebooks when the outputs are being checked and compiled. A more accurate result may be obtained by increasing the number of bosonic modes to, for example, 16."
   ]
  },
  {
   "cell_type": "markdown",
   "id": "4312a7b3",
   "metadata": {},
   "source": [
    "## Setup"
   ]
  },
  {
   "cell_type": "code",
   "execution_count": 1,
   "id": "8d3844ac",
   "metadata": {
    "execution": {
     "iopub.execute_input": "2025-08-20T04:09:30.864875Z",
     "iopub.status.busy": "2025-08-20T04:09:30.864699Z",
     "iopub.status.idle": "2025-08-20T04:09:31.708126Z",
     "shell.execute_reply": "2025-08-20T04:09:31.707613Z"
    }
   },
   "outputs": [],
   "source": [
    "import contextlib\n",
    "import dataclasses\n",
    "import time\n",
    "\n",
    "import numpy as np\n",
    "import matplotlib.pyplot as plt\n",
    "\n",
    "from qutip import about, destroy, qeye, tensor\n",
    "from qutip.core.environment import LorentzianEnvironment\n",
    "from qutip.solver.heom import HEOMSolver\n",
    "\n",
    "from IPython.display import display\n",
    "from ipywidgets import IntProgress\n",
    "\n",
    "%matplotlib inline"
   ]
  },
  {
   "cell_type": "markdown",
   "id": "f58f09f2",
   "metadata": {},
   "source": [
    "## Helpers"
   ]
  },
  {
   "cell_type": "code",
   "execution_count": 2,
   "id": "ffa5a52b",
   "metadata": {
    "execution": {
     "iopub.execute_input": "2025-08-20T04:09:31.709928Z",
     "iopub.status.busy": "2025-08-20T04:09:31.709682Z",
     "iopub.status.idle": "2025-08-20T04:09:31.712472Z",
     "shell.execute_reply": "2025-08-20T04:09:31.712029Z"
    }
   },
   "outputs": [],
   "source": [
    "@contextlib.contextmanager\n",
    "def timer(label):\n",
    "    \"\"\" Simple utility for timing functions:\n",
    "\n",
    "        with timer(\"name\"):\n",
    "            ... code to time ...\n",
    "    \"\"\"\n",
    "    start = time.time()\n",
    "    yield\n",
    "    end = time.time()\n",
    "    print(f\"{label}: {end - start}\")"
   ]
  },
  {
   "cell_type": "code",
   "execution_count": 3,
   "id": "64468068",
   "metadata": {
    "execution": {
     "iopub.execute_input": "2025-08-20T04:09:31.713827Z",
     "iopub.status.busy": "2025-08-20T04:09:31.713668Z",
     "iopub.status.idle": "2025-08-20T04:09:31.716912Z",
     "shell.execute_reply": "2025-08-20T04:09:31.716532Z"
    }
   },
   "outputs": [],
   "source": [
    "def state_current(ado_state, bath_tag):\n",
    "    \"\"\" Determine current from the given bath (either \"R\" or \"L\") to\n",
    "        the system in the given ADO state.\n",
    "    \"\"\"\n",
    "    level_1_aux = [\n",
    "        (ado_state.extract(label), ado_state.exps(label)[0])\n",
    "        for label in ado_state.filter(level=1, tags=[bath_tag])\n",
    "    ]\n",
    "\n",
    "    def exp_sign(exp):\n",
    "        return 1 if exp.type == exp.types[\"+\"] else -1\n",
    "\n",
    "    def exp_op(exp):\n",
    "        return exp.Q if exp.type == exp.types[\"+\"] else exp.Q.dag()\n",
    "\n",
    "    return -1.0j * sum(\n",
    "        exp_sign(exp) * (exp_op(exp) * aux).tr() for aux, exp in level_1_aux\n",
    "    )"
   ]
  },
  {
   "cell_type": "code",
   "execution_count": 4,
   "id": "2db8cef8",
   "metadata": {
    "execution": {
     "iopub.execute_input": "2025-08-20T04:09:31.718227Z",
     "iopub.status.busy": "2025-08-20T04:09:31.718076Z",
     "iopub.status.idle": "2025-08-20T04:09:31.720581Z",
     "shell.execute_reply": "2025-08-20T04:09:31.720147Z"
    }
   },
   "outputs": [],
   "source": [
    "# Solver options:\n",
    "\n",
    "# We set store_ados to True so that we can\n",
    "# use the auxilliary density operators (ADOs)\n",
    "# to calculate the current between the leads\n",
    "# and the system.\n",
    "\n",
    "options = {\n",
    "    \"nsteps\": 1500,\n",
    "    \"store_states\": True,\n",
    "    \"store_ados\": True,\n",
    "    \"rtol\": 1e-12,\n",
    "    \"atol\": 1e-12,\n",
    "    \"method\": \"vern9\",\n",
    "    \"progress_bar\": \"enhanced\",\n",
    "}"
   ]
  },
  {
   "cell_type": "markdown",
   "id": "879571dc",
   "metadata": {},
   "source": [
    "## System and bath definition\n",
    "\n",
    "Let us set up the system Hamiltonian and specify the properties of the two reservoirs."
   ]
  },
  {
   "cell_type": "code",
   "execution_count": 5,
   "id": "9f7712c2",
   "metadata": {
    "execution": {
     "iopub.execute_input": "2025-08-20T04:09:31.721894Z",
     "iopub.status.busy": "2025-08-20T04:09:31.721749Z",
     "iopub.status.idle": "2025-08-20T04:09:31.725964Z",
     "shell.execute_reply": "2025-08-20T04:09:31.725579Z"
    }
   },
   "outputs": [],
   "source": [
    "# Define the system Hamiltonian:\n",
    "\n",
    "@dataclasses.dataclass\n",
    "class SystemParameters:\n",
    "    e1: float = 0.3  # fermion mode energy splitting\n",
    "    Omega: float = 0.2  # bosonic mode energy splitting\n",
    "    Lambda: float = 0.12  # coupling between fermion and boson\n",
    "    Nbos: int = 2\n",
    "\n",
    "    def __post_init__(self):\n",
    "        d = tensor(destroy(2), qeye(self.Nbos))\n",
    "        a = tensor(qeye(2), destroy(self.Nbos))\n",
    "        self.H = (\n",
    "            self.e1 * d.dag() * d +\n",
    "            self.Omega * a.dag() * a +\n",
    "            self.Lambda * (a + a.dag()) * d.dag() * d\n",
    "        )\n",
    "        self.Q = d\n",
    "\n",
    "    def replace(self, **kw):\n",
    "        return dataclasses.replace(self, **kw)\n",
    "\n",
    "\n",
    "sys_p = SystemParameters()"
   ]
  },
  {
   "cell_type": "code",
   "execution_count": 6,
   "id": "e52ebe83",
   "metadata": {
    "execution": {
     "iopub.execute_input": "2025-08-20T04:09:31.727282Z",
     "iopub.status.busy": "2025-08-20T04:09:31.727122Z",
     "iopub.status.idle": "2025-08-20T04:09:31.732144Z",
     "shell.execute_reply": "2025-08-20T04:09:31.731659Z"
    }
   },
   "outputs": [],
   "source": [
    "# Define parameters for left and right fermionic baths.\n",
    "# Each bath is a lead (i.e. a wire held at a potential)\n",
    "# with temperature T and chemical potential mu.\n",
    "\n",
    "@dataclasses.dataclass\n",
    "class LorentzianBathParameters:\n",
    "    lead: str\n",
    "    gamma: float = 0.01  # coupling strength\n",
    "    W: float = 1.0  # cut-off\n",
    "    T: float = 0.025851991  # temperature (in eV)\n",
    "    theta: float = 2.0  # bias\n",
    "\n",
    "    def __post_init__(self):\n",
    "        assert self.lead in (\"L\", \"R\")\n",
    "        self.beta = 1 / self.T\n",
    "        if self.lead == \"L\":\n",
    "            self.mu = self.theta / 2.0\n",
    "        else:\n",
    "            self.mu = -self.theta / 2.0\n",
    "\n",
    "    def J(self, w):\n",
    "        \"\"\" Spectral density. \"\"\"\n",
    "        return self.gamma * self.W**2 / ((w - self.mu)**2 + self.W**2)\n",
    "\n",
    "    def fF(self, w, sign=1.0):\n",
    "        \"\"\" Fermi distribution for this bath. \"\"\"\n",
    "        x = sign * self.beta * (w - self.mu)\n",
    "        return fF(x)\n",
    "\n",
    "    def lamshift(self, w):\n",
    "        \"\"\" Return the lamb shift. \"\"\"\n",
    "        return 0.5 * (w - self.mu) * self.J(w) / self.W\n",
    "\n",
    "    def replace(self, **kw):\n",
    "        return dataclasses.replace(self, **kw)\n",
    "\n",
    "\n",
    "def fF(x):\n",
    "    \"\"\" Return the Fermi distribution. \"\"\"\n",
    "    # in units where kB = 1.0\n",
    "    return 1 / (np.exp(x) + 1)\n",
    "\n",
    "\n",
    "# We set W = 1e4 to investigate the wide-band limit:\n",
    "\n",
    "bath_L = LorentzianBathParameters(W=10**4, lead=\"L\")\n",
    "bath_R = LorentzianBathParameters(W=10**4, lead=\"R\")"
   ]
  },
  {
   "cell_type": "markdown",
   "id": "60048b1b",
   "metadata": {},
   "source": [
    "## Emission and absorption by the leads\n",
    "\n",
    "Next let's plot the emission and absorption by the leads."
   ]
  },
  {
   "cell_type": "code",
   "execution_count": 7,
   "id": "75b6efde",
   "metadata": {
    "execution": {
     "iopub.execute_input": "2025-08-20T04:09:31.733447Z",
     "iopub.status.busy": "2025-08-20T04:09:31.733264Z",
     "iopub.status.idle": "2025-08-20T04:09:31.941408Z",
     "shell.execute_reply": "2025-08-20T04:09:31.940829Z"
    }
   },
   "outputs": [
    {
     "data": {
      "image/png": "[encoded data removed]",
      "text/plain": [
       "<Figure size 1200x700 with 1 Axes>"
      ]
     },
     "metadata": {},
     "output_type": "display_data"
    }
   ],
   "source": [
    "w_list = np.linspace(-2, 2, 100)\n",
    "\n",
    "fig, ax = plt.subplots(figsize=(12, 7))\n",
    "\n",
    "# Left lead emission and absorption\n",
    "\n",
    "gam_L_in = bath_L.J(w_list) * bath_L.fF(w_list, sign=1.0)\n",
    "gam_L_out = bath_L.J(w_list) * bath_L.fF(w_list, sign=-1.0)\n",
    "\n",
    "ax.plot(\n",
    "    w_list, gam_L_in,\n",
    "    \"b--\", linewidth=3,\n",
    "    label=r\"S_L(w) input (absorption)\",\n",
    ")\n",
    "ax.plot(\n",
    "    w_list, gam_L_out,\n",
    "    \"r--\", linewidth=3,\n",
    "    label=r\"S_L(w) output (emission)\",\n",
    ")\n",
    "\n",
    "# Right lead emission and absorption\n",
    "\n",
    "gam_R_in = bath_R.J(w_list) * bath_R.fF(w_list, sign=1.0)\n",
    "gam_R_out = bath_R.J(w_list) * bath_R.fF(w_list, sign=-1.0)\n",
    "\n",
    "ax.plot(\n",
    "    w_list, gam_R_in,\n",
    "    \"b\", linewidth=3,\n",
    "    label=r\"S_R(w) input (absorption)\",\n",
    ")\n",
    "ax.plot(\n",
    "    w_list, gam_R_out,\n",
    "    \"r\", linewidth=3,\n",
    "    label=r\"S_R(w) output (emission)\",\n",
    ")\n",
    "\n",
    "ax.set_xlabel(\"w\")\n",
    "ax.set_ylabel(r\"$S(\\omega)$\")\n",
    "ax.legend();"
   ]
  },
  {
   "cell_type": "markdown",
   "id": "2d4d422e",
   "metadata": {},
   "source": [
    "## Below we give one example data set from Paper\n",
    "\n",
    "Here we just give one example of the current as a function of bias voltage, but in general one can try different cut-offs of the bosonic Fock space and the expansion of the correlation functions until convergence is found.\n",
    "\n",
    "One note:  for very large problems, this can be slow."
   ]
  },
  {
   "cell_type": "code",
   "execution_count": 8,
   "id": "3f2fc43c",
   "metadata": {
    "execution": {
     "iopub.execute_input": "2025-08-20T04:09:31.943036Z",
     "iopub.status.busy": "2025-08-20T04:09:31.942853Z",
     "iopub.status.idle": "2025-08-20T04:09:31.946913Z",
     "shell.execute_reply": "2025-08-20T04:09:31.946475Z"
    }
   },
   "outputs": [],
   "source": [
    "def steady_state_pade_for_theta(sys_p, bath_L, bath_R, theta, Nk, Nc, Nbos):\n",
    "    \"\"\" Return the steady state current using the Pade approximation. \"\"\"\n",
    "\n",
    "    sys_p = sys_p.replace(Nbos=Nbos)\n",
    "    bath_L = bath_L.replace(theta=theta)\n",
    "    bath_R = bath_R.replace(theta=theta)\n",
    "\n",
    "    envL = LorentzianEnvironment(bath_L.T, bath_L.mu, bath_L.gamma, bath_L.W)\n",
    "    envR = LorentzianEnvironment(bath_R.T, bath_R.mu, bath_R.gamma, bath_R.W)\n",
    "\n",
    "    bathL = envL.approx_by_matsubara(Nk, tag=\"L\")\n",
    "    bathR = envR.approx_by_matsubara(Nk, tag=\"R\")\n",
    "\n",
    "    solver_pade = HEOMSolver(\n",
    "        sys_p.H,\n",
    "        [(bathL, sys_p.Q), (bathR, sys_p.Q)],\n",
    "        max_depth=2,\n",
    "        options=options,\n",
    "    )\n",
    "    rho_ss_pade, ado_ss_pade = solver_pade.steady_state()\n",
    "    current = state_current(ado_ss_pade, bath_tag=\"R\")\n",
    "\n",
    "    return np.real(2.434e-4 * 1e6 * current)"
   ]
  },
  {
   "cell_type": "code",
   "execution_count": 9,
   "id": "e4ead092",
   "metadata": {
    "execution": {
     "iopub.execute_input": "2025-08-20T04:09:31.948256Z",
     "iopub.status.busy": "2025-08-20T04:09:31.948093Z",
     "iopub.status.idle": "2025-08-20T04:09:39.370879Z",
     "shell.execute_reply": "2025-08-20T04:09:39.370435Z"
    }
   },
   "outputs": [
    {
     "data": {
      "application/vnd.jupyter.widget-view+json": {
       "model_id": "2e5bd37fe96c4d8dae9c8109b2f741c3",
       "version_major": 2,
       "version_minor": 0
      },
      "text/plain": [
       "IntProgress(value=0, max=30)"
      ]
     },
     "metadata": {},
     "output_type": "display_data"
    }
   ],
   "source": [
    "# Parameters:\n",
    "\n",
    "Nk = 6\n",
    "Nc = 2\n",
    "Nbos = 2  # Use Nbos = 16 for more accurate results\n",
    "\n",
    "thetas = np.linspace(0, 2, 30)\n",
    "\n",
    "# Progress bar:\n",
    "\n",
    "progress = IntProgress(min=0, max=len(thetas))\n",
    "display(progress)\n",
    "\n",
    "currents = []\n",
    "\n",
    "for theta in thetas:\n",
    "    currents.append(steady_state_pade_for_theta(\n",
    "        sys_p, bath_L, bath_R, theta,\n",
    "        Nk=Nk, Nc=Nc, Nbos=Nbos,\n",
    "    ))\n",
    "    progress.value += 1"
   ]
  },
  {
   "cell_type": "code",
   "execution_count": 10,
   "id": "5db0da41",
   "metadata": {
    "execution": {
     "iopub.execute_input": "2025-08-20T04:09:39.372660Z",
     "iopub.status.busy": "2025-08-20T04:09:39.372473Z",
     "iopub.status.idle": "2025-08-20T04:09:39.508039Z",
     "shell.execute_reply": "2025-08-20T04:09:39.507617Z"
    }
   },
   "outputs": [
    {
     "data": {
      "image/png": "[encoded data removed]",
      "text/plain": [
       "<Figure size 1200x1000 with 1 Axes>"
      ]
     },
     "metadata": {},
     "output_type": "display_data"
    }
   ],
   "source": [
    "fig, ax = plt.subplots(figsize=(12, 10))\n",
    "\n",
    "ax.plot(\n",
    "    thetas, currents,\n",
    "    color=\"green\", linestyle='-', linewidth=3,\n",
    "    label=f\"Nk = {5}, max_depth = {Nc}, Nbos = {Nbos}\",\n",
    ")\n",
    "\n",
    "ax.set_yticks([0, 0.5, 1])\n",
    "ax.set_yticklabels([0, 0.5, 1])\n",
    "\n",
    "ax.locator_params(axis='y', nbins=4)\n",
    "ax.locator_params(axis='x', nbins=4)\n",
    "\n",
    "ax.set_xlabel(r\"Bias voltage $\\Delta \\mu$ ($V$)\", fontsize=30)\n",
    "ax.set_ylabel(r\"Current ($\\mu A$)\", fontsize=30)\n",
    "ax.legend(loc=4);"
   ]
  },
  {
   "cell_type": "markdown",
   "id": "e5d662e3",
   "metadata": {},
   "source": [
    "## About"
   ]
  },
  {
   "cell_type": "code",
   "execution_count": 11,
   "id": "2898b859",
   "metadata": {
    "execution": {
     "iopub.execute_input": "2025-08-20T04:09:39.509546Z",
     "iopub.status.busy": "2025-08-20T04:09:39.509333Z",
     "iopub.status.idle": "2025-08-20T04:09:40.014039Z",
     "shell.execute_reply": "2025-08-20T04:09:40.013493Z"
    }
   },
   "outputs": [
    {
     "name": "stdout",
     "output_type": "stream",
     "text": [
      "\n",
      "QuTiP: Quantum Toolbox in Python\n",
      "================================\n",
      "Copyright (c) QuTiP team 2011 and later.\n",
      "Current admin team: Alexander Pitchford, Nathan Shammah, Shahnawaz Ahmed, Neill Lambert, Eric Giguère, Boxi Li, Simon Cross, Asier Galicia, Paul Menczel, and Patrick Hopf.\n",
      "Board members: Daniel Burgarth, Robert Johansson, Anton F. Kockum, Franco Nori and Will Zeng.\n",
      "Original developers: R. J. Johansson & P. D. Nation.\n",
      "Previous lead developers: Chris Granade & A. Grimsmo.\n",
      "Currently developed through wide collaboration. See https://github.com/qutip for details.\n",
      "\n",
      "QuTiP Version:      5.3.0.dev0+d849c94\n",
      "Numpy Version:      2.3.2\n",
      "Scipy Version:      1.16.1\n",
      "Cython Version:     3.1.3\n",
      "Matplotlib Version: 3.10.5\n",
      "Python Version:     3.12.0\n",
      "Number of CPUs:     4\n",
      "BLAS Info:          Generic\n",
      "INTEL MKL Ext:      None\n",
      "Platform Info:      Linux (x86_64)\n",
      "Installation path:  /home/runner/miniconda3/envs/test-environment-v5/lib/python3.12/site-packages/qutip\n",
      "\n",
      "Installed QuTiP family packages\n",
      "-------------------------------\n",
      "\n",
      "qutip-qtrl: 0.2.0.dev0+acb71a0\n"
     ]
    },
    {
     "name": "stdout",
     "output_type": "stream",
     "text": [
      "qutip-jax: 0.1.1.dev6\n",
      "qutip-qip: 0.5.0.dev0+2db1138\n",
      "\n",
      "================================================================================\n",
      "Please cite QuTiP in your publication.\n",
      "================================================================================\n",
      "For your convenience a bibtex reference can be easily generated using `qutip.cite()`\n"
     ]
    }
   ],
   "source": [
    "about()"
   ]
  }
 ],
 "metadata": {
  "jupytext": {
   "default_lexer": "ipython3"
  },
  "kernelspec": {
   "display_name": "Python 3 (ipykernel)",
   "language": "python",
   "name": "python3"
  },
  "language_info": {
   "codemirror_mode": {
    "name": "ipython",
    "version": 3
   },
   "file_extension": ".py",
   "mimetype": "text/x-python",
   "name": "python",
   "nbconvert_exporter": "python",
   "pygments_lexer": "ipython3",
   "version": "3.12.0"
  },
  "widgets": {
   "application/vnd.jupyter.widget-state+json": {
    "state": {
     "1e90b637ed254645a60ef0d64180ade5": {
      "model_module": "@jupyter-widgets/base",
      "model_module_version": "2.0.0",
      "model_name": "LayoutModel",
      "state": {
       "_model_module": "@jupyter-widgets/base",
       "_model_module_version": "2.0.0",
       "_model_name": "LayoutModel",
       "_view_count": null,
       "_view_module": "@jupyter-widgets/base",
       "_view_module_version": "2.0.0",
       "_view_name": "LayoutView",
       "align_content": null,
       "align_items": null,
       "align_self": null,
       "border_bottom": null,
       "border_left": null,
       "border_right": null,
       "border_top": null,
       "bottom": null,
       "display": null,
       "flex": null,
       "flex_flow": null,
       "grid_area": null,
       "grid_auto_columns": null,
       "grid_auto_flow": null,
       "grid_auto_rows": null,
       "grid_column": null,
       "grid_gap": null,
       "grid_row": null,
       "grid_template_areas": null,
       "grid_template_columns": null,
       "grid_template_rows": null,
       "height": null,
       "justify_content": null,
       "justify_items": null,
       "left": null,
       "margin": null,
       "max_height": null,
       "max_width": null,
       "min_height": null,
       "min_width": null,
       "object_fit": null,
       "object_position": null,
       "order": null,
       "overflow": null,
       "padding": null,
       "right": null,
       "top": null,
       "visibility": null,
       "width": null
      }
     },
     "2e5bd37fe96c4d8dae9c8109b2f741c3": {
      "model_module": "@jupyter-widgets/controls",
      "model_module_version": "2.0.0",
      "model_name": "IntProgressModel",
      "state": {
       "_dom_classes": [],
       "_model_module": "@jupyter-widgets/controls",
       "_model_module_version": "2.0.0",
       "_model_name": "IntProgressModel",
       "_view_count": null,
       "_view_module": "@jupyter-widgets/controls",
       "_view_module_version": "2.0.0",
       "_view_name": "ProgressView",
       "bar_style": "",
       "description": "",
       "description_allow_html": false,
       "layout": "IPY_MODEL_1e90b637ed254645a60ef0d64180ade5",
       "max": 30,
       "min": 0,
       "orientation": "horizontal",
       "style": "IPY_MODEL_cef1e90f0ed14f1e8f28e4e13c629251",
       "tabbable": null,
       "tooltip": null,
       "value": 30
      }
     },
     "cef1e90f0ed14f1e8f28e4e13c629251": {
      "model_module": "@jupyter-widgets/controls",
      "model_module_version": "2.0.0",
      "model_name": "ProgressStyleModel",
      "state": {
       "_model_module": "@jupyter-widgets/controls",
       "_model_module_version": "2.0.0",
       "_model_name": "ProgressStyleModel",
       "_view_count": null,
       "_view_module": "@jupyter-widgets/base",
       "_view_module_version": "2.0.0",
       "_view_name": "StyleView",
       "bar_color": null,
       "description_width": ""
      }
     }
    },
    "version_major": 2,
    "version_minor": 0
   }
  }
 },
 "nbformat": 4,
 "nbformat_minor": 5
}
