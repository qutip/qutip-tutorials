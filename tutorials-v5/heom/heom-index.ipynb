{
 "cells": [
  {
   "cell_type": "markdown",
   "id": "d996ef55",
   "metadata": {},
   "source": [
    "# Hierarchical Equation of Motion Examples\n",
    "\n",
    "The \"hierarchical equations of motion\" (HEOM) method is a powerful numerical approach to solve the dynamics and steady-state of a quantum system coupled to a non-Markovian and non-perturbative environment. Originally developed in the context of physical chemistry, it has also been extended and applied to problems in solid-state physics, optics, single-molecule electronics, and biological physics.\n",
    "\n",
    "QuTiP's implementation of the HEOM is described in detail in https://arxiv.org/abs/2010.10806.\n",
    "\n",
    "This collection of examples from the paper illustrates how to use QuTiP's HEOM to model and investigate the dynamics of a variety of systems coupled to bosonic or fermionic baths.\n",
    "\n",
    "## Overview of the notebooks\n",
    "\n",
    "<!-- markdown-link-check-disable -->\n",
    "\n",
    "* [Example 1a: Spin-Bath model (introduction)](./heom-1a-spin-bath-model-basic.ipynb)\n",
    "\n",
    "* [Example 1b: Spin-Bath model (very strong coupling)](./heom-1b-spin-bath-model-very-strong-coupling.ipynb)\n",
    "\n",
    "* [Example 1c: Spin-Bath model (underdamped case)](./heom-1c-spin-bath-model-underdamped-sd.ipynb)\n",
    "\n",
    "* [Example 1d: Spin-Bath model, fitting of spectrum and correlation functions](./heom-1d-spin-bath-model-ohmic-fitting.ipynb)\n",
    "\n",
    "* [Example 1e: Spin-Bath model (pure dephasing)](./heom-1e-spin-bath-model-pure-dephasing.ipynb)\n",
    "\n",
    "* [Example 2: Dynamics in Fenna-Mathews-Olsen complex (FMO)](./heom-2-fmo-example.ipynb)\n",
    "\n",
    "* [Example 3: Quantum Heat Transport](./heom-3-quantum-heat-transport.ipynb)\n",
    "\n",
    "* [Example 4: Dynamical decoupling of a non-Markovian environment](./heom-4-dynamical-decoupling.ipynb)\n",
    "\n",
    "* [Example 5a: Fermionic single impurity model](./heom-5a-fermions-single-impurity-model.ipynb)\n",
    "\n",
    "* [Example 5b: Discrete boson coupled to an impurity + fermionic leads](./heom-5b-fermions-discrete-boson-model.ipynb)\n",
    "\n",
    "<!-- markdown-link-check-enable -->"
   ]
  }
 ],
 "metadata": {
  "jupytext": {
   "formats": "ipynb,md:myst"
  },
  "kernelspec": {
   "display_name": "Python 3 (ipykernel)",
   "language": "python",
   "name": "python3"
  },
  "language_info": {
   "codemirror_mode": {
    "name": "ipython",
    "version": 3
   },
   "file_extension": ".py",
   "mimetype": "text/x-python",
   "name": "python",
   "nbconvert_exporter": "python",
   "pygments_lexer": "ipython3",
   "version": "3.12.0"
  }
 },
 "nbformat": 4,
 "nbformat_minor": 5
}
