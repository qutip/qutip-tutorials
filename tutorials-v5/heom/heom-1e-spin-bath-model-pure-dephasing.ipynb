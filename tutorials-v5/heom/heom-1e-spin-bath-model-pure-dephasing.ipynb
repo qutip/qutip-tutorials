{
 "cells": [
  {
   "cell_type": "markdown",
   "id": "a38cad2b",
   "metadata": {},
   "source": [
    "# HEOM 1e: Spin-Bath model (pure dephasing)"
   ]
  },
  {
   "cell_type": "markdown",
   "id": "db6a8c0f",
   "metadata": {},
   "source": [
    "## Introduction\n",
    "\n",
    "The HEOM method solves the dynamics and steady state of a system and its environment, the latter of which is encoded in a set of auxiliary density matrices.\n",
    "\n",
    "In this example we show the evolution of a single two-level system in contact with a single Bosonic environment.  The properties of the system are encoded in Hamiltonian, and a coupling operator which describes how it is coupled to the environment.\n",
    "\n",
    "The Bosonic environment is implicitly assumed to obey a particular Hamiltonian (see paper), the parameters of which are encoded in the spectral density, and subsequently the free-bath correlation functions.\n",
    "\n",
    "In the example below we show how to model the overdamped Drude-Lorentz Spectral Density, commonly used with the HEOM. We show how to do the Matsubara and Pade analytical decompositions, as well as how to fit the latter with a finite set of approximate exponentials.  This differs from example 1a in that we assume that the system and coupling parts of the Hamiltonian commute, hence giving an analytically solvable ''pure dephasing'' model. This is a useful example to look at when introducing other approximations  (e.g., fitting of correlation functions) to check for validity/convergence against the analytical results.  (Note that, generally, for the fitting examples, the pure dephasing model is the 'worst possible case'.)\n",
    "\n",
    "### Drude-Lorentz spectral density\n",
    "\n",
    "The Drude-Lorentz spectral density is:\n",
    "\n",
    "$$J(\\omega)=\\omega \\frac{2\\lambda\\gamma}{{\\gamma}^2 + \\omega^2}$$\n",
    "\n",
    "where $\\lambda$ scales the coupling strength, and $\\gamma$ is the cut-off frequency.\n",
    "We use the convention,\n",
    "\\begin{equation*}\n",
    "C(t) = \\int_0^{\\infty} d\\omega \\frac{J_D(\\omega)}{\\pi}[\\coth(\\beta\\omega) \\cos(\\omega \\tau) - i \\sin(\\omega \\tau)]\n",
    "\\end{equation*}\n",
    "\n",
    "With the HEOM we must use an exponential decomposition:\n",
    "\n",
    "\\begin{equation*}\n",
    "C(t)=\\sum_{k=0}^{k=\\infty} c_k e^{-\\nu_k t}\n",
    "\\end{equation*}\n",
    "\n",
    "The Matsubara decomposition of the Drude-Lorentz spectral density is given by:\n",
    "\n",
    "\\begin{equation*}\n",
    "    \\nu_k = \\begin{cases}\n",
    "               \\gamma               & k = 0\\\\\n",
    "               {2 \\pi k} / {\\beta \\hbar}  & k \\geq 1\\\\\n",
    "           \\end{cases}\n",
    "\\end{equation*}\n",
    "\n",
    "\\begin{equation*}\n",
    "    c_k = \\begin{cases}\n",
    "               \\lambda \\gamma (\\cot(\\beta \\gamma / 2) - i) / \\hbar               & k = 0\\\\\n",
    "               4 \\lambda \\gamma \\nu_k / \\{(nu_k^2 - \\gamma^2)\\beta \\hbar^2 \\}    & k \\geq 1\\\\\n",
    "           \\end{cases}\n",
    "\\end{equation*}\n",
    "\n",
    "Note that in the above, and the following, we set $\\hbar = k_\\mathrm{B} = 1$."
   ]
  },
  {
   "cell_type": "markdown",
   "id": "be61d31f",
   "metadata": {},
   "source": [
    "## Setup"
   ]
  },
  {
   "cell_type": "code",
   "execution_count": 1,
   "id": "05431a78",
   "metadata": {
    "execution": {
     "iopub.execute_input": "2025-08-20T04:02:45.402403Z",
     "iopub.status.busy": "2025-08-20T04:02:45.402216Z",
     "iopub.status.idle": "2025-08-20T04:02:46.168281Z",
     "shell.execute_reply": "2025-08-20T04:02:46.167781Z"
    }
   },
   "outputs": [],
   "source": [
    "import contextlib\n",
    "import time\n",
    "\n",
    "import numpy as np\n",
    "import scipy\n",
    "from matplotlib import pyplot as plt\n",
    "\n",
    "from qutip import about, basis, expect, liouvillian, sigmax, sigmaz\n",
    "from qutip.core.environment import DrudeLorentzEnvironment, system_terminator\n",
    "from qutip.solver.heom import HEOMSolver\n",
    "\n",
    "%matplotlib inline"
   ]
  },
  {
   "cell_type": "markdown",
   "id": "df9bfda0",
   "metadata": {},
   "source": [
    "## Helper functions\n",
    "\n",
    "Let's define some helper functions for calculating correlation function expansions, plotting results and timing how long operations take:"
   ]
  },
  {
   "cell_type": "code",
   "execution_count": 2,
   "id": "d2df27b9",
   "metadata": {
    "execution": {
     "iopub.execute_input": "2025-08-20T04:02:46.170057Z",
     "iopub.status.busy": "2025-08-20T04:02:46.169819Z",
     "iopub.status.idle": "2025-08-20T04:02:46.172431Z",
     "shell.execute_reply": "2025-08-20T04:02:46.172019Z"
    }
   },
   "outputs": [],
   "source": [
    "def cot(x):\n",
    "    \"\"\" Vectorized cotangent of x. \"\"\"\n",
    "    return 1.0 / np.tan(x)\n",
    "\n",
    "\n",
    "def coth(x):\n",
    "    \"\"\" Vectorized hyperbolic cotangent of x. \"\"\"\n",
    "    return 1.0 / np.tanh(x)"
   ]
  },
  {
   "cell_type": "code",
   "execution_count": 3,
   "id": "ee4a3573",
   "metadata": {
    "execution": {
     "iopub.execute_input": "2025-08-20T04:02:46.173716Z",
     "iopub.status.busy": "2025-08-20T04:02:46.173562Z",
     "iopub.status.idle": "2025-08-20T04:02:46.177345Z",
     "shell.execute_reply": "2025-08-20T04:02:46.176959Z"
    }
   },
   "outputs": [],
   "source": [
    "def plot_result_expectations(plots, axes=None):\n",
    "    \"\"\" Plot the expectation values of operators as functions of time.\n",
    "\n",
    "        Each plot in plots consists of (solver_result, measurement_operation,\n",
    "        color, label).\n",
    "    \"\"\"\n",
    "    if axes is None:\n",
    "        fig, axes = plt.subplots(1, 1, sharex=True, figsize=(8, 8))\n",
    "        fig_created = True\n",
    "    else:\n",
    "        fig = None\n",
    "        fig_created = False\n",
    "\n",
    "    # add kw arguments to each plot if missing\n",
    "    plots = [p if len(p) == 5 else p + ({},) for p in plots]\n",
    "    for result, m_op, color, label, kw in plots:\n",
    "        if m_op is None:\n",
    "            t, exp = result\n",
    "        else:\n",
    "            t = result.times\n",
    "            exp = np.real(expect(result.states, m_op))\n",
    "        kw.setdefault(\"linewidth\", 2)\n",
    "        axes.plot(t, exp, color, label=label, **kw)\n",
    "\n",
    "    if fig_created:\n",
    "        axes.legend(loc=0, fontsize=12)\n",
    "        axes.set_xlabel(\"t\", fontsize=28)\n",
    "\n",
    "    return fig"
   ]
  },
  {
   "cell_type": "code",
   "execution_count": 4,
   "id": "6ee129d0",
   "metadata": {
    "execution": {
     "iopub.execute_input": "2025-08-20T04:02:46.178694Z",
     "iopub.status.busy": "2025-08-20T04:02:46.178525Z",
     "iopub.status.idle": "2025-08-20T04:02:46.181309Z",
     "shell.execute_reply": "2025-08-20T04:02:46.180818Z"
    }
   },
   "outputs": [],
   "source": [
    "@contextlib.contextmanager\n",
    "def timer(label):\n",
    "    \"\"\" Simple utility for timing functions:\n",
    "\n",
    "        with timer(\"name\"):\n",
    "            ... code to time ...\n",
    "    \"\"\"\n",
    "    start = time.time()\n",
    "    yield\n",
    "    end = time.time()\n",
    "    print(f\"{label}: {end - start}\")"
   ]
  },
  {
   "cell_type": "code",
   "execution_count": 5,
   "id": "26287eca",
   "metadata": {
    "execution": {
     "iopub.execute_input": "2025-08-20T04:02:46.182597Z",
     "iopub.status.busy": "2025-08-20T04:02:46.182439Z",
     "iopub.status.idle": "2025-08-20T04:02:46.184853Z",
     "shell.execute_reply": "2025-08-20T04:02:46.184359Z"
    }
   },
   "outputs": [],
   "source": [
    "# Solver options:\n",
    "\n",
    "options = {\n",
    "    \"nsteps\": 15000,\n",
    "    \"store_states\": True,\n",
    "    \"rtol\": 1e-14,\n",
    "    \"atol\": 1e-14,\n",
    "    \"method\": \"vern9\",\n",
    "    \"progress_bar\": \"enhanced\",\n",
    "}"
   ]
  },
  {
   "cell_type": "markdown",
   "id": "78e1e46b",
   "metadata": {},
   "source": [
    "## System and bath definition\n",
    "\n",
    "And let us set up the system Hamiltonian, bath and system measurement operators:"
   ]
  },
  {
   "cell_type": "markdown",
   "id": "beacf956",
   "metadata": {},
   "source": [
    "Here we set $H_{sys}=0$, which means the interaction Hamiltonian and the system Hamiltonian commute, and we can compare the numerical results to a known analytical one.  We could in principle keep $\\epsilon \\neq 0$, but it just introduces fast system oscillations, so it is more convenient to set it to zero."
   ]
  },
  {
   "cell_type": "code",
   "execution_count": 6,
   "id": "c5a1510f",
   "metadata": {
    "execution": {
     "iopub.execute_input": "2025-08-20T04:02:46.186113Z",
     "iopub.status.busy": "2025-08-20T04:02:46.185955Z",
     "iopub.status.idle": "2025-08-20T04:02:46.188442Z",
     "shell.execute_reply": "2025-08-20T04:02:46.187949Z"
    }
   },
   "outputs": [],
   "source": [
    "# Defining the system Hamiltonian\n",
    "eps = 0.0  # Energy of the 2-level system.\n",
    "Del = 0.0  # Tunnelling term\n",
    "Hsys = 0.5 * eps * sigmaz() + 0.5 * Del * sigmax()"
   ]
  },
  {
   "cell_type": "code",
   "execution_count": 7,
   "id": "84c561f9",
   "metadata": {
    "execution": {
     "iopub.execute_input": "2025-08-20T04:02:46.189675Z",
     "iopub.status.busy": "2025-08-20T04:02:46.189516Z",
     "iopub.status.idle": "2025-08-20T04:02:46.192288Z",
     "shell.execute_reply": "2025-08-20T04:02:46.191814Z"
    }
   },
   "outputs": [],
   "source": [
    "# System-bath coupling (Drude-Lorentz spectral density)\n",
    "Q = sigmaz()  # coupling operator\n",
    "\n",
    "# Bath properties:\n",
    "gamma = 0.5  # cut off frequency\n",
    "lam = 0.1  # coupling strength\n",
    "T = 0.5\n",
    "beta = 1.0 / T\n",
    "\n",
    "# HEOM parameters:\n",
    "# cut off parameter for the bath:\n",
    "NC = 6\n",
    "# number of exponents to retain in the Matsubara expansion\n",
    "# of the correlation function:\n",
    "Nk = 3\n",
    "\n",
    "# Times to solve for\n",
    "tlist = np.linspace(0, 50, 1000)"
   ]
  },
  {
   "cell_type": "code",
   "execution_count": 8,
   "id": "02dbcad9",
   "metadata": {
    "execution": {
     "iopub.execute_input": "2025-08-20T04:02:46.193681Z",
     "iopub.status.busy": "2025-08-20T04:02:46.193518Z",
     "iopub.status.idle": "2025-08-20T04:02:46.196799Z",
     "shell.execute_reply": "2025-08-20T04:02:46.196295Z"
    }
   },
   "outputs": [],
   "source": [
    "# Define some operators with which we will measure the system\n",
    "# 1,1 element of density matrix - corresponding to groundstate\n",
    "P11p = basis(2, 0) * basis(2, 0).dag()\n",
    "P22p = basis(2, 1) * basis(2, 1).dag()\n",
    "# 1,2 element of density matrix  - corresponding to coherence\n",
    "P12p = basis(2, 0) * basis(2, 1).dag()"
   ]
  },
  {
   "cell_type": "markdown",
   "id": "dc842fef",
   "metadata": {},
   "source": [
    "To get a non-trivial result we prepare the initial state in a superposition, and see how the bath destroys the coherence."
   ]
  },
  {
   "cell_type": "code",
   "execution_count": 9,
   "id": "9b5284fa",
   "metadata": {
    "execution": {
     "iopub.execute_input": "2025-08-20T04:02:46.198048Z",
     "iopub.status.busy": "2025-08-20T04:02:46.197887Z",
     "iopub.status.idle": "2025-08-20T04:02:46.200428Z",
     "shell.execute_reply": "2025-08-20T04:02:46.199947Z"
    }
   },
   "outputs": [],
   "source": [
    "# Initial state of the system.\n",
    "psi = (basis(2, 0) + basis(2, 1)).unit()\n",
    "rho0 = psi * psi.dag()"
   ]
  },
  {
   "cell_type": "markdown",
   "id": "e60ab7d9",
   "metadata": {},
   "source": [
    "We then define our environment, from which all the different simulations will \n",
    "be obtained"
   ]
  },
  {
   "cell_type": "code",
   "execution_count": 10,
   "id": "e173bbfb",
   "metadata": {
    "execution": {
     "iopub.execute_input": "2025-08-20T04:02:46.201710Z",
     "iopub.status.busy": "2025-08-20T04:02:46.201555Z",
     "iopub.status.idle": "2025-08-20T04:02:46.203869Z",
     "shell.execute_reply": "2025-08-20T04:02:46.203409Z"
    }
   },
   "outputs": [],
   "source": [
    "env = DrudeLorentzEnvironment(lam=lam, gamma=gamma, T=T, Nk=Nk)"
   ]
  },
  {
   "cell_type": "markdown",
   "id": "d971295f",
   "metadata": {},
   "source": [
    "## Simulation 1: Matsubara decomposition, not using Ishizaki-Tanimura terminator"
   ]
  },
  {
   "cell_type": "code",
   "execution_count": 11,
   "id": "7da8010d",
   "metadata": {
    "execution": {
     "iopub.execute_input": "2025-08-20T04:02:46.205140Z",
     "iopub.status.busy": "2025-08-20T04:02:46.204985Z",
     "iopub.status.idle": "2025-08-20T04:02:47.053289Z",
     "shell.execute_reply": "2025-08-20T04:02:47.052818Z"
    }
   },
   "outputs": [
    {
     "name": "stdout",
     "output_type": "stream",
     "text": [
      "RHS construction time: 0.021039724349975586\n",
      "\r",
      " [          0%           ] Elapsed 0.00s / Remaining 00:00:00:00"
     ]
    },
    {
     "name": "stdout",
     "output_type": "stream",
     "text": [
      "\r",
      " [          0%           ] Elapsed 0.00s / Remaining 00:00:00:00"
     ]
    },
    {
     "name": "stdout",
     "output_type": "stream",
     "text": [
      "\r",
      " [          0%           ] Elapsed 0.00s / Remaining 00:00:00:00"
     ]
    },
    {
     "name": "stdout",
     "output_type": "stream",
     "text": [
      "\r",
      " [          0%           ] Elapsed 0.00s / Remaining 00:00:00:00"
     ]
    },
    {
     "name": "stdout",
     "output_type": "stream",
     "text": [
      "\r",
      " [          1%           ] Elapsed 0.00s / Remaining 00:00:00:00"
     ]
    },
    {
     "name": "stdout",
     "output_type": "stream",
     "text": [
      "\r",
      " [          1%           ] Elapsed 0.01s / Remaining 00:00:00:00"
     ]
    },
    {
     "name": "stdout",
     "output_type": "stream",
     "text": [
      "\r",
      " [          1%           ] Elapsed 0.01s / Remaining 00:00:00:00"
     ]
    },
    {
     "name": "stdout",
     "output_type": "stream",
     "text": [
      "\r",
      " [          1%           ] Elapsed 0.01s / Remaining 00:00:00:00"
     ]
    },
    {
     "name": "stdout",
     "output_type": "stream",
     "text": [
      "\r",
      " [          1%           ] Elapsed 0.01s / Remaining 00:00:00:00"
     ]
    },
    {
     "name": "stdout",
     "output_type": "stream",
     "text": [
      "\r",
      " [          1%           ] Elapsed 0.01s / Remaining 00:00:00:00"
     ]
    },
    {
     "name": "stdout",
     "output_type": "stream",
     "text": [
      "\r",
      " [          1%           ] Elapsed 0.01s / Remaining 00:00:00:00"
     ]
    },
    {
     "name": "stdout",
     "output_type": "stream",
     "text": [
      "\r",
      " [          1%           ] Elapsed 0.01s / Remaining 00:00:00:01"
     ]
    },
    {
     "name": "stdout",
     "output_type": "stream",
     "text": [
      "\r",
      " [          1%           ] Elapsed 0.01s / Remaining 00:00:00:01"
     ]
    },
    {
     "name": "stdout",
     "output_type": "stream",
     "text": [
      "\r",
      " [          1%           ] Elapsed 0.01s / Remaining 00:00:00:01"
     ]
    },
    {
     "name": "stdout",
     "output_type": "stream",
     "text": [
      "\r",
      " [          2%           ] Elapsed 0.01s / Remaining 00:00:00:00"
     ]
    },
    {
     "name": "stdout",
     "output_type": "stream",
     "text": [
      "\r",
      " [          2%           ] Elapsed 0.01s / Remaining 00:00:00:00"
     ]
    },
    {
     "name": "stdout",
     "output_type": "stream",
     "text": [
      "\r",
      " [          2%           ] Elapsed 0.01s / Remaining 00:00:00:00"
     ]
    },
    {
     "name": "stdout",
     "output_type": "stream",
     "text": [
      "\r",
      " [          2%           ] Elapsed 0.02s / Remaining 00:00:00:00"
     ]
    },
    {
     "name": "stdout",
     "output_type": "stream",
     "text": [
      "\r",
      " [          2%           ] Elapsed 0.02s / Remaining 00:00:00:00"
     ]
    },
    {
     "name": "stdout",
     "output_type": "stream",
     "text": [
      "\r",
      " [          2%           ] Elapsed 0.02s / Remaining 00:00:00:00"
     ]
    },
    {
     "name": "stdout",
     "output_type": "stream",
     "text": [
      "\r",
      " [          2%           ] Elapsed 0.02s / Remaining 00:00:00:00"
     ]
    },
    {
     "name": "stdout",
     "output_type": "stream",
     "text": [
      "\r",
      " [          2%           ] Elapsed 0.02s / Remaining 00:00:00:00"
     ]
    },
    {
     "name": "stdout",
     "output_type": "stream",
     "text": [
      "\r",
      " [          2%           ] Elapsed 0.02s / Remaining 00:00:00:00"
     ]
    },
    {
     "name": "stdout",
     "output_type": "stream",
     "text": [
      "\r",
      " [          2%           ] Elapsed 0.02s / Remaining 00:00:00:00"
     ]
    },
    {
     "name": "stdout",
     "output_type": "stream",
     "text": [
      "\r",
      " [*         3%           ] Elapsed 0.02s / Remaining 00:00:00:00"
     ]
    },
    {
     "name": "stdout",
     "output_type": "stream",
     "text": [
      "\r",
      " [*         3%           ] Elapsed 0.02s / Remaining 00:00:00:00"
     ]
    },
    {
     "name": "stdout",
     "output_type": "stream",
     "text": [
      "\r",
      " [*         3%           ] Elapsed 0.02s / Remaining 00:00:00:00"
     ]
    },
    {
     "name": "stdout",
     "output_type": "stream",
     "text": [
      "\r",
      " [*         3%           ] Elapsed 0.02s / Remaining 00:00:00:00"
     ]
    },
    {
     "name": "stdout",
     "output_type": "stream",
     "text": [
      "\r",
      " [*         3%           ] Elapsed 0.02s / Remaining 00:00:00:00"
     ]
    },
    {
     "name": "stdout",
     "output_type": "stream",
     "text": [
      "\r",
      " [*         3%           ] Elapsed 0.02s / Remaining 00:00:00:00"
     ]
    },
    {
     "name": "stdout",
     "output_type": "stream",
     "text": [
      "\r",
      " [*         3%           ] Elapsed 0.03s / Remaining 00:00:00:00"
     ]
    },
    {
     "name": "stdout",
     "output_type": "stream",
     "text": [
      "\r",
      " [*         3%           ] Elapsed 0.03s / Remaining 00:00:00:00"
     ]
    },
    {
     "name": "stdout",
     "output_type": "stream",
     "text": [
      "\r",
      " [*         3%           ] Elapsed 0.03s / Remaining 00:00:00:00"
     ]
    },
    {
     "name": "stdout",
     "output_type": "stream",
     "text": [
      "\r",
      " [*         3%           ] Elapsed 0.03s / Remaining 00:00:00:00"
     ]
    },
    {
     "name": "stdout",
     "output_type": "stream",
     "text": [
      "\r",
      " [*         4%           ] Elapsed 0.03s / Remaining 00:00:00:00"
     ]
    },
    {
     "name": "stdout",
     "output_type": "stream",
     "text": [
      "\r",
      " [*         4%           ] Elapsed 0.03s / Remaining 00:00:00:00"
     ]
    },
    {
     "name": "stdout",
     "output_type": "stream",
     "text": [
      "\r",
      " [*         4%           ] Elapsed 0.03s / Remaining 00:00:00:00"
     ]
    },
    {
     "name": "stdout",
     "output_type": "stream",
     "text": [
      "\r",
      " [*         4%           ] Elapsed 0.03s / Remaining 00:00:00:00"
     ]
    },
    {
     "name": "stdout",
     "output_type": "stream",
     "text": [
      "\r",
      " [*         4%           ] Elapsed 0.03s / Remaining 00:00:00:00"
     ]
    },
    {
     "name": "stdout",
     "output_type": "stream",
     "text": [
      "\r",
      " [*         4%           ] Elapsed 0.03s / Remaining 00:00:00:00"
     ]
    },
    {
     "name": "stdout",
     "output_type": "stream",
     "text": [
      "\r",
      " [*         4%           ] Elapsed 0.03s / Remaining 00:00:00:00"
     ]
    },
    {
     "name": "stdout",
     "output_type": "stream",
     "text": [
      "\r",
      " [*         4%           ] Elapsed 0.03s / Remaining 00:00:00:00"
     ]
    },
    {
     "name": "stdout",
     "output_type": "stream",
     "text": [
      "\r",
      " [*         4%           ] Elapsed 0.04s / Remaining 00:00:00:00"
     ]
    },
    {
     "name": "stdout",
     "output_type": "stream",
     "text": [
      "\r",
      " [*         4%           ] Elapsed 0.04s / Remaining 00:00:00:00"
     ]
    },
    {
     "name": "stdout",
     "output_type": "stream",
     "text": [
      "\r",
      " [*         5%           ] Elapsed 0.04s / Remaining 00:00:00:00"
     ]
    },
    {
     "name": "stdout",
     "output_type": "stream",
     "text": [
      "\r",
      " [*         5%           ] Elapsed 0.04s / Remaining 00:00:00:00"
     ]
    },
    {
     "name": "stdout",
     "output_type": "stream",
     "text": [
      "\r",
      " [*         5%           ] Elapsed 0.04s / Remaining 00:00:00:00"
     ]
    },
    {
     "name": "stdout",
     "output_type": "stream",
     "text": [
      "\r",
      " [*         5%           ] Elapsed 0.04s / Remaining 00:00:00:00"
     ]
    },
    {
     "name": "stdout",
     "output_type": "stream",
     "text": [
      "\r",
      " [*         5%           ] Elapsed 0.04s / Remaining 00:00:00:00"
     ]
    },
    {
     "name": "stdout",
     "output_type": "stream",
     "text": [
      "\r",
      " [*         5%           ] Elapsed 0.04s / Remaining 00:00:00:00"
     ]
    },
    {
     "name": "stdout",
     "output_type": "stream",
     "text": [
      "\r",
      " [*         5%           ] Elapsed 0.04s / Remaining 00:00:00:00"
     ]
    },
    {
     "name": "stdout",
     "output_type": "stream",
     "text": [
      "\r",
      " [*         5%           ] Elapsed 0.04s / Remaining 00:00:00:00"
     ]
    },
    {
     "name": "stdout",
     "output_type": "stream",
     "text": [
      "\r",
      " [*         5%           ] Elapsed 0.04s / Remaining 00:00:00:00"
     ]
    },
    {
     "name": "stdout",
     "output_type": "stream",
     "text": [
      "\r",
      " [*         5%           ] Elapsed 0.04s / Remaining 00:00:00:00"
     ]
    },
    {
     "name": "stdout",
     "output_type": "stream",
     "text": [
      "\r",
      " [*         6%           ] Elapsed 0.05s / Remaining 00:00:00:00"
     ]
    },
    {
     "name": "stdout",
     "output_type": "stream",
     "text": [
      "\r",
      " [*         6%           ] Elapsed 0.05s / Remaining 00:00:00:00"
     ]
    },
    {
     "name": "stdout",
     "output_type": "stream",
     "text": [
      "\r",
      " [*         6%           ] Elapsed 0.05s / Remaining 00:00:00:00"
     ]
    },
    {
     "name": "stdout",
     "output_type": "stream",
     "text": [
      "\r",
      " [*         6%           ] Elapsed 0.05s / Remaining 00:00:00:00"
     ]
    },
    {
     "name": "stdout",
     "output_type": "stream",
     "text": [
      "\r",
      " [*         6%           ] Elapsed 0.05s / Remaining 00:00:00:00"
     ]
    },
    {
     "name": "stdout",
     "output_type": "stream",
     "text": [
      "\r",
      " [*         6%           ] Elapsed 0.05s / Remaining 00:00:00:00"
     ]
    },
    {
     "name": "stdout",
     "output_type": "stream",
     "text": [
      "\r",
      " [*         6%           ] Elapsed 0.05s / Remaining 00:00:00:00"
     ]
    },
    {
     "name": "stdout",
     "output_type": "stream",
     "text": [
      "\r",
      " [*         6%           ] Elapsed 0.05s / Remaining 00:00:00:00"
     ]
    },
    {
     "name": "stdout",
     "output_type": "stream",
     "text": [
      "\r",
      " [*         6%           ] Elapsed 0.05s / Remaining 00:00:00:00"
     ]
    },
    {
     "name": "stdout",
     "output_type": "stream",
     "text": [
      "\r",
      " [*         6%           ] Elapsed 0.05s / Remaining 00:00:00:00"
     ]
    },
    {
     "name": "stdout",
     "output_type": "stream",
     "text": [
      "\r",
      " [**        7%           ] Elapsed 0.05s / Remaining 00:00:00:00"
     ]
    },
    {
     "name": "stdout",
     "output_type": "stream",
     "text": [
      "\r",
      " [**        7%           ] Elapsed 0.06s / Remaining 00:00:00:00"
     ]
    },
    {
     "name": "stdout",
     "output_type": "stream",
     "text": [
      "\r",
      " [**        7%           ] Elapsed 0.06s / Remaining 00:00:00:00"
     ]
    },
    {
     "name": "stdout",
     "output_type": "stream",
     "text": [
      "\r",
      " [**        7%           ] Elapsed 0.06s / Remaining 00:00:00:00"
     ]
    },
    {
     "name": "stdout",
     "output_type": "stream",
     "text": [
      "\r",
      " [**        7%           ] Elapsed 0.06s / Remaining 00:00:00:00"
     ]
    },
    {
     "name": "stdout",
     "output_type": "stream",
     "text": [
      "\r",
      " [**        7%           ] Elapsed 0.06s / Remaining 00:00:00:00"
     ]
    },
    {
     "name": "stdout",
     "output_type": "stream",
     "text": [
      "\r",
      " [**        7%           ] Elapsed 0.06s / Remaining 00:00:00:00"
     ]
    },
    {
     "name": "stdout",
     "output_type": "stream",
     "text": [
      "\r",
      " [**        7%           ] Elapsed 0.06s / Remaining 00:00:00:00"
     ]
    },
    {
     "name": "stdout",
     "output_type": "stream",
     "text": [
      "\r",
      " [**        7%           ] Elapsed 0.06s / Remaining 00:00:00:00"
     ]
    },
    {
     "name": "stdout",
     "output_type": "stream",
     "text": [
      "\r",
      " [**        7%           ] Elapsed 0.06s / Remaining 00:00:00:00"
     ]
    },
    {
     "name": "stdout",
     "output_type": "stream",
     "text": [
      "\r",
      " [**        8%           ] Elapsed 0.06s / Remaining 00:00:00:00"
     ]
    },
    {
     "name": "stdout",
     "output_type": "stream",
     "text": [
      "\r",
      " [**        8%           ] Elapsed 0.06s / Remaining 00:00:00:00"
     ]
    },
    {
     "name": "stdout",
     "output_type": "stream",
     "text": [
      "\r",
      " [**        8%           ] Elapsed 0.06s / Remaining 00:00:00:00"
     ]
    },
    {
     "name": "stdout",
     "output_type": "stream",
     "text": [
      "\r",
      " [**        8%           ] Elapsed 0.07s / Remaining 00:00:00:00"
     ]
    },
    {
     "name": "stdout",
     "output_type": "stream",
     "text": [
      "\r",
      " [**        8%           ] Elapsed 0.07s / Remaining 00:00:00:00"
     ]
    },
    {
     "name": "stdout",
     "output_type": "stream",
     "text": [
      "\r",
      " [**        8%           ] Elapsed 0.07s / Remaining 00:00:00:00"
     ]
    },
    {
     "name": "stdout",
     "output_type": "stream",
     "text": [
      "\r",
      " [**        8%           ] Elapsed 0.07s / Remaining 00:00:00:00"
     ]
    },
    {
     "name": "stdout",
     "output_type": "stream",
     "text": [
      "\r",
      " [**        8%           ] Elapsed 0.07s / Remaining 00:00:00:00"
     ]
    },
    {
     "name": "stdout",
     "output_type": "stream",
     "text": [
      "\r",
      " [**        8%           ] Elapsed 0.07s / Remaining 00:00:00:00"
     ]
    },
    {
     "name": "stdout",
     "output_type": "stream",
     "text": [
      "\r",
      " [**        8%           ] Elapsed 0.07s / Remaining 00:00:00:00"
     ]
    },
    {
     "name": "stdout",
     "output_type": "stream",
     "text": [
      "\r",
      " [**        9%           ] Elapsed 0.07s / Remaining 00:00:00:00"
     ]
    },
    {
     "name": "stdout",
     "output_type": "stream",
     "text": [
      "\r",
      " [**        9%           ] Elapsed 0.07s / Remaining 00:00:00:00"
     ]
    },
    {
     "name": "stdout",
     "output_type": "stream",
     "text": [
      "\r",
      " [**        9%           ] Elapsed 0.07s / Remaining 00:00:00:00"
     ]
    },
    {
     "name": "stdout",
     "output_type": "stream",
     "text": [
      "\r",
      " [**        9%           ] Elapsed 0.07s / Remaining 00:00:00:00"
     ]
    },
    {
     "name": "stdout",
     "output_type": "stream",
     "text": [
      "\r",
      " [**        9%           ] Elapsed 0.07s / Remaining 00:00:00:00"
     ]
    },
    {
     "name": "stdout",
     "output_type": "stream",
     "text": [
      "\r",
      " [**        9%           ] Elapsed 0.07s / Remaining 00:00:00:00"
     ]
    },
    {
     "name": "stdout",
     "output_type": "stream",
     "text": [
      "\r",
      " [**        9%           ] Elapsed 0.08s / Remaining 00:00:00:00"
     ]
    },
    {
     "name": "stdout",
     "output_type": "stream",
     "text": [
      "\r",
      " [**        9%           ] Elapsed 0.08s / Remaining 00:00:00:00"
     ]
    },
    {
     "name": "stdout",
     "output_type": "stream",
     "text": [
      "\r",
      " [**        9%           ] Elapsed 0.08s / Remaining 00:00:00:00"
     ]
    },
    {
     "name": "stdout",
     "output_type": "stream",
     "text": [
      "\r",
      " [**        9%           ] Elapsed 0.08s / Remaining 00:00:00:00"
     ]
    },
    {
     "name": "stdout",
     "output_type": "stream",
     "text": [
      "\r",
      " [**       10%           ] Elapsed 0.08s / Remaining 00:00:00:00"
     ]
    },
    {
     "name": "stdout",
     "output_type": "stream",
     "text": [
      "\r",
      " [**       10%           ] Elapsed 0.08s / Remaining 00:00:00:00"
     ]
    },
    {
     "name": "stdout",
     "output_type": "stream",
     "text": [
      "\r",
      " [**       10%           ] Elapsed 0.08s / Remaining 00:00:00:00"
     ]
    },
    {
     "name": "stdout",
     "output_type": "stream",
     "text": [
      "\r",
      " [**       10%           ] Elapsed 0.08s / Remaining 00:00:00:00"
     ]
    },
    {
     "name": "stdout",
     "output_type": "stream",
     "text": [
      "\r",
      " [**       10%           ] Elapsed 0.08s / Remaining 00:00:00:00"
     ]
    },
    {
     "name": "stdout",
     "output_type": "stream",
     "text": [
      "\r",
      " [**       10%           ] Elapsed 0.08s / Remaining 00:00:00:00"
     ]
    },
    {
     "name": "stdout",
     "output_type": "stream",
     "text": [
      "\r",
      " [**       10%           ] Elapsed 0.08s / Remaining 00:00:00:00"
     ]
    },
    {
     "name": "stdout",
     "output_type": "stream",
     "text": [
      "\r",
      " [**       10%           ] Elapsed 0.08s / Remaining 00:00:00:00"
     ]
    },
    {
     "name": "stdout",
     "output_type": "stream",
     "text": [
      "\r",
      " [**       10%           ] Elapsed 0.09s / Remaining 00:00:00:00"
     ]
    },
    {
     "name": "stdout",
     "output_type": "stream",
     "text": [
      "\r",
      " [**       10%           ] Elapsed 0.09s / Remaining 00:00:00:00"
     ]
    },
    {
     "name": "stdout",
     "output_type": "stream",
     "text": [
      "\r",
      " [***      11%           ] Elapsed 0.09s / Remaining 00:00:00:00"
     ]
    },
    {
     "name": "stdout",
     "output_type": "stream",
     "text": [
      "\r",
      " [***      11%           ] Elapsed 0.09s / Remaining 00:00:00:00"
     ]
    },
    {
     "name": "stdout",
     "output_type": "stream",
     "text": [
      "\r",
      " [***      11%           ] Elapsed 0.09s / Remaining 00:00:00:00"
     ]
    },
    {
     "name": "stdout",
     "output_type": "stream",
     "text": [
      "\r",
      " [***      11%           ] Elapsed 0.09s / Remaining 00:00:00:00"
     ]
    },
    {
     "name": "stdout",
     "output_type": "stream",
     "text": [
      "\r",
      " [***      11%           ] Elapsed 0.09s / Remaining 00:00:00:00"
     ]
    },
    {
     "name": "stdout",
     "output_type": "stream",
     "text": [
      "\r",
      " [***      11%           ] Elapsed 0.09s / Remaining 00:00:00:00"
     ]
    },
    {
     "name": "stdout",
     "output_type": "stream",
     "text": [
      "\r",
      " [***      11%           ] Elapsed 0.09s / Remaining 00:00:00:00"
     ]
    },
    {
     "name": "stdout",
     "output_type": "stream",
     "text": [
      "\r",
      " [***      11%           ] Elapsed 0.09s / Remaining 00:00:00:00"
     ]
    },
    {
     "name": "stdout",
     "output_type": "stream",
     "text": [
      "\r",
      " [***      11%           ] Elapsed 0.09s / Remaining 00:00:00:00"
     ]
    },
    {
     "name": "stdout",
     "output_type": "stream",
     "text": [
      "\r",
      " [***      11%           ] Elapsed 0.09s / Remaining 00:00:00:00"
     ]
    },
    {
     "name": "stdout",
     "output_type": "stream",
     "text": [
      "\r",
      " [***      12%           ] Elapsed 0.10s / Remaining 00:00:00:00"
     ]
    },
    {
     "name": "stdout",
     "output_type": "stream",
     "text": [
      "\r",
      " [***      12%           ] Elapsed 0.10s / Remaining 00:00:00:00"
     ]
    },
    {
     "name": "stdout",
     "output_type": "stream",
     "text": [
      "\r",
      " [***      12%           ] Elapsed 0.10s / Remaining 00:00:00:00"
     ]
    },
    {
     "name": "stdout",
     "output_type": "stream",
     "text": [
      "\r",
      " [***      12%           ] Elapsed 0.10s / Remaining 00:00:00:00"
     ]
    },
    {
     "name": "stdout",
     "output_type": "stream",
     "text": [
      "\r",
      " [***      12%           ] Elapsed 0.10s / Remaining 00:00:00:00"
     ]
    },
    {
     "name": "stdout",
     "output_type": "stream",
     "text": [
      "\r",
      " [***      12%           ] Elapsed 0.10s / Remaining 00:00:00:00"
     ]
    },
    {
     "name": "stdout",
     "output_type": "stream",
     "text": [
      "\r",
      " [***      12%           ] Elapsed 0.10s / Remaining 00:00:00:00"
     ]
    },
    {
     "name": "stdout",
     "output_type": "stream",
     "text": [
      "\r",
      " [***      12%           ] Elapsed 0.10s / Remaining 00:00:00:00"
     ]
    },
    {
     "name": "stdout",
     "output_type": "stream",
     "text": [
      "\r",
      " [***      12%           ] Elapsed 0.10s / Remaining 00:00:00:00"
     ]
    },
    {
     "name": "stdout",
     "output_type": "stream",
     "text": [
      "\r",
      " [***      12%           ] Elapsed 0.10s / Remaining 00:00:00:00"
     ]
    },
    {
     "name": "stdout",
     "output_type": "stream",
     "text": [
      "\r",
      " [***      13%           ] Elapsed 0.10s / Remaining 00:00:00:00"
     ]
    },
    {
     "name": "stdout",
     "output_type": "stream",
     "text": [
      "\r",
      " [***      13%           ] Elapsed 0.10s / Remaining 00:00:00:00"
     ]
    },
    {
     "name": "stdout",
     "output_type": "stream",
     "text": [
      "\r",
      " [***      13%           ] Elapsed 0.11s / Remaining 00:00:00:00"
     ]
    },
    {
     "name": "stdout",
     "output_type": "stream",
     "text": [
      "\r",
      " [***      13%           ] Elapsed 0.11s / Remaining 00:00:00:00"
     ]
    },
    {
     "name": "stdout",
     "output_type": "stream",
     "text": [
      "\r",
      " [***      13%           ] Elapsed 0.11s / Remaining 00:00:00:00"
     ]
    },
    {
     "name": "stdout",
     "output_type": "stream",
     "text": [
      "\r",
      " [***      13%           ] Elapsed 0.11s / Remaining 00:00:00:00"
     ]
    },
    {
     "name": "stdout",
     "output_type": "stream",
     "text": [
      "\r",
      " [***      13%           ] Elapsed 0.11s / Remaining 00:00:00:00"
     ]
    },
    {
     "name": "stdout",
     "output_type": "stream",
     "text": [
      "\r",
      " [***      13%           ] Elapsed 0.11s / Remaining 00:00:00:00"
     ]
    },
    {
     "name": "stdout",
     "output_type": "stream",
     "text": [
      "\r",
      " [***      13%           ] Elapsed 0.11s / Remaining 00:00:00:00"
     ]
    },
    {
     "name": "stdout",
     "output_type": "stream",
     "text": [
      "\r",
      " [***      13%           ] Elapsed 0.11s / Remaining 00:00:00:00"
     ]
    },
    {
     "name": "stdout",
     "output_type": "stream",
     "text": [
      "\r",
      " [***      14%           ] Elapsed 0.11s / Remaining 00:00:00:00"
     ]
    },
    {
     "name": "stdout",
     "output_type": "stream",
     "text": [
      "\r",
      " [***      14%           ] Elapsed 0.11s / Remaining 00:00:00:00"
     ]
    },
    {
     "name": "stdout",
     "output_type": "stream",
     "text": [
      "\r",
      " [***      14%           ] Elapsed 0.11s / Remaining 00:00:00:00"
     ]
    },
    {
     "name": "stdout",
     "output_type": "stream",
     "text": [
      "\r",
      " [***      14%           ] Elapsed 0.11s / Remaining 00:00:00:00"
     ]
    },
    {
     "name": "stdout",
     "output_type": "stream",
     "text": [
      "\r",
      " [***      14%           ] Elapsed 0.11s / Remaining 00:00:00:00"
     ]
    },
    {
     "name": "stdout",
     "output_type": "stream",
     "text": [
      "\r",
      " [***      14%           ] Elapsed 0.12s / Remaining 00:00:00:00"
     ]
    },
    {
     "name": "stdout",
     "output_type": "stream",
     "text": [
      "\r",
      " [***      14%           ] Elapsed 0.12s / Remaining 00:00:00:00"
     ]
    },
    {
     "name": "stdout",
     "output_type": "stream",
     "text": [
      "\r",
      " [***      14%           ] Elapsed 0.12s / Remaining 00:00:00:00"
     ]
    },
    {
     "name": "stdout",
     "output_type": "stream",
     "text": [
      "\r",
      " [***      14%           ] Elapsed 0.12s / Remaining 00:00:00:00"
     ]
    },
    {
     "name": "stdout",
     "output_type": "stream",
     "text": [
      "\r",
      " [***      14%           ] Elapsed 0.12s / Remaining 00:00:00:00"
     ]
    },
    {
     "name": "stdout",
     "output_type": "stream",
     "text": [
      "\r",
      " [***      15%           ] Elapsed 0.12s / Remaining 00:00:00:00"
     ]
    },
    {
     "name": "stdout",
     "output_type": "stream",
     "text": [
      "\r",
      " [***      15%           ] Elapsed 0.12s / Remaining 00:00:00:00"
     ]
    },
    {
     "name": "stdout",
     "output_type": "stream",
     "text": [
      "\r",
      " [***      15%           ] Elapsed 0.12s / Remaining 00:00:00:00"
     ]
    },
    {
     "name": "stdout",
     "output_type": "stream",
     "text": [
      "\r",
      " [***      15%           ] Elapsed 0.12s / Remaining 00:00:00:00"
     ]
    },
    {
     "name": "stdout",
     "output_type": "stream",
     "text": [
      "\r",
      " [***      15%           ] Elapsed 0.12s / Remaining 00:00:00:00"
     ]
    },
    {
     "name": "stdout",
     "output_type": "stream",
     "text": [
      "\r",
      " [***      15%           ] Elapsed 0.12s / Remaining 00:00:00:00"
     ]
    },
    {
     "name": "stdout",
     "output_type": "stream",
     "text": [
      "\r",
      " [***      15%           ] Elapsed 0.12s / Remaining 00:00:00:00"
     ]
    },
    {
     "name": "stdout",
     "output_type": "stream",
     "text": [
      "\r",
      " [***      15%           ] Elapsed 0.13s / Remaining 00:00:00:00"
     ]
    },
    {
     "name": "stdout",
     "output_type": "stream",
     "text": [
      "\r",
      " [***      15%           ] Elapsed 0.13s / Remaining 00:00:00:00"
     ]
    },
    {
     "name": "stdout",
     "output_type": "stream",
     "text": [
      "\r",
      " [***      15%           ] Elapsed 0.13s / Remaining 00:00:00:00"
     ]
    },
    {
     "name": "stdout",
     "output_type": "stream",
     "text": [
      "\r",
      " [****     16%           ] Elapsed 0.13s / Remaining 00:00:00:00"
     ]
    },
    {
     "name": "stdout",
     "output_type": "stream",
     "text": [
      "\r",
      " [****     16%           ] Elapsed 0.13s / Remaining 00:00:00:00"
     ]
    },
    {
     "name": "stdout",
     "output_type": "stream",
     "text": [
      "\r",
      " [****     16%           ] Elapsed 0.13s / Remaining 00:00:00:00"
     ]
    },
    {
     "name": "stdout",
     "output_type": "stream",
     "text": [
      "\r",
      " [****     16%           ] Elapsed 0.13s / Remaining 00:00:00:00"
     ]
    },
    {
     "name": "stdout",
     "output_type": "stream",
     "text": [
      "\r",
      " [****     16%           ] Elapsed 0.13s / Remaining 00:00:00:00"
     ]
    },
    {
     "name": "stdout",
     "output_type": "stream",
     "text": [
      "\r",
      " [****     16%           ] Elapsed 0.13s / Remaining 00:00:00:00"
     ]
    },
    {
     "name": "stdout",
     "output_type": "stream",
     "text": [
      "\r",
      " [****     16%           ] Elapsed 0.13s / Remaining 00:00:00:00"
     ]
    },
    {
     "name": "stdout",
     "output_type": "stream",
     "text": [
      "\r",
      " [****     16%           ] Elapsed 0.13s / Remaining 00:00:00:00"
     ]
    },
    {
     "name": "stdout",
     "output_type": "stream",
     "text": [
      "\r",
      " [****     16%           ] Elapsed 0.13s / Remaining 00:00:00:00"
     ]
    },
    {
     "name": "stdout",
     "output_type": "stream",
     "text": [
      "\r",
      " [****     16%           ] Elapsed 0.14s / Remaining 00:00:00:00"
     ]
    },
    {
     "name": "stdout",
     "output_type": "stream",
     "text": [
      "\r",
      " [****     17%           ] Elapsed 0.14s / Remaining 00:00:00:00"
     ]
    },
    {
     "name": "stdout",
     "output_type": "stream",
     "text": [
      "\r",
      " [****     17%           ] Elapsed 0.14s / Remaining 00:00:00:00"
     ]
    },
    {
     "name": "stdout",
     "output_type": "stream",
     "text": [
      "\r",
      " [****     17%           ] Elapsed 0.14s / Remaining 00:00:00:00"
     ]
    },
    {
     "name": "stdout",
     "output_type": "stream",
     "text": [
      "\r",
      " [****     17%           ] Elapsed 0.14s / Remaining 00:00:00:00"
     ]
    },
    {
     "name": "stdout",
     "output_type": "stream",
     "text": [
      "\r",
      " [****     17%           ] Elapsed 0.14s / Remaining 00:00:00:00"
     ]
    },
    {
     "name": "stdout",
     "output_type": "stream",
     "text": [
      "\r",
      " [****     17%           ] Elapsed 0.14s / Remaining 00:00:00:00"
     ]
    },
    {
     "name": "stdout",
     "output_type": "stream",
     "text": [
      "\r",
      " [****     17%           ] Elapsed 0.14s / Remaining 00:00:00:00"
     ]
    },
    {
     "name": "stdout",
     "output_type": "stream",
     "text": [
      "\r",
      " [****     17%           ] Elapsed 0.14s / Remaining 00:00:00:00"
     ]
    },
    {
     "name": "stdout",
     "output_type": "stream",
     "text": [
      "\r",
      " [****     17%           ] Elapsed 0.14s / Remaining 00:00:00:00"
     ]
    },
    {
     "name": "stdout",
     "output_type": "stream",
     "text": [
      "\r",
      " [****     17%           ] Elapsed 0.14s / Remaining 00:00:00:00"
     ]
    },
    {
     "name": "stdout",
     "output_type": "stream",
     "text": [
      "\r",
      " [****     18%           ] Elapsed 0.14s / Remaining 00:00:00:00"
     ]
    },
    {
     "name": "stdout",
     "output_type": "stream",
     "text": [
      "\r",
      " [****     18%           ] Elapsed 0.15s / Remaining 00:00:00:00"
     ]
    },
    {
     "name": "stdout",
     "output_type": "stream",
     "text": [
      "\r",
      " [****     18%           ] Elapsed 0.15s / Remaining 00:00:00:00"
     ]
    },
    {
     "name": "stdout",
     "output_type": "stream",
     "text": [
      "\r",
      " [****     18%           ] Elapsed 0.15s / Remaining 00:00:00:00"
     ]
    },
    {
     "name": "stdout",
     "output_type": "stream",
     "text": [
      "\r",
      " [****     18%           ] Elapsed 0.15s / Remaining 00:00:00:00"
     ]
    },
    {
     "name": "stdout",
     "output_type": "stream",
     "text": [
      "\r",
      " [****     18%           ] Elapsed 0.15s / Remaining 00:00:00:00"
     ]
    },
    {
     "name": "stdout",
     "output_type": "stream",
     "text": [
      "\r",
      " [****     18%           ] Elapsed 0.15s / Remaining 00:00:00:00"
     ]
    },
    {
     "name": "stdout",
     "output_type": "stream",
     "text": [
      "\r",
      " [****     18%           ] Elapsed 0.15s / Remaining 00:00:00:00"
     ]
    },
    {
     "name": "stdout",
     "output_type": "stream",
     "text": [
      "\r",
      " [****     18%           ] Elapsed 0.15s / Remaining 00:00:00:00"
     ]
    },
    {
     "name": "stdout",
     "output_type": "stream",
     "text": [
      "\r",
      " [****     18%           ] Elapsed 0.15s / Remaining 00:00:00:00"
     ]
    },
    {
     "name": "stdout",
     "output_type": "stream",
     "text": [
      "\r",
      " [****     19%           ] Elapsed 0.15s / Remaining 00:00:00:00"
     ]
    },
    {
     "name": "stdout",
     "output_type": "stream",
     "text": [
      "\r",
      " [****     19%           ] Elapsed 0.15s / Remaining 00:00:00:00"
     ]
    },
    {
     "name": "stdout",
     "output_type": "stream",
     "text": [
      "\r",
      " [****     19%           ] Elapsed 0.16s / Remaining 00:00:00:00"
     ]
    },
    {
     "name": "stdout",
     "output_type": "stream",
     "text": [
      "\r",
      " [****     19%           ] Elapsed 0.16s / Remaining 00:00:00:00"
     ]
    },
    {
     "name": "stdout",
     "output_type": "stream",
     "text": [
      "\r",
      " [****     19%           ] Elapsed 0.16s / Remaining 00:00:00:00"
     ]
    },
    {
     "name": "stdout",
     "output_type": "stream",
     "text": [
      "\r",
      " [****     19%           ] Elapsed 0.16s / Remaining 00:00:00:00"
     ]
    },
    {
     "name": "stdout",
     "output_type": "stream",
     "text": [
      "\r",
      " [****     19%           ] Elapsed 0.16s / Remaining 00:00:00:00"
     ]
    },
    {
     "name": "stdout",
     "output_type": "stream",
     "text": [
      "\r",
      " [****     19%           ] Elapsed 0.16s / Remaining 00:00:00:00"
     ]
    },
    {
     "name": "stdout",
     "output_type": "stream",
     "text": [
      "\r",
      " [****     19%           ] Elapsed 0.16s / Remaining 00:00:00:00"
     ]
    },
    {
     "name": "stdout",
     "output_type": "stream",
     "text": [
      "\r",
      " [****     19%           ] Elapsed 0.16s / Remaining 00:00:00:00"
     ]
    },
    {
     "name": "stdout",
     "output_type": "stream",
     "text": [
      "\r",
      " [*****    20%           ] Elapsed 0.16s / Remaining 00:00:00:00"
     ]
    },
    {
     "name": "stdout",
     "output_type": "stream",
     "text": [
      "\r",
      " [*****    20%           ] Elapsed 0.16s / Remaining 00:00:00:00"
     ]
    },
    {
     "name": "stdout",
     "output_type": "stream",
     "text": [
      "\r",
      " [*****    20%           ] Elapsed 0.16s / Remaining 00:00:00:00"
     ]
    },
    {
     "name": "stdout",
     "output_type": "stream",
     "text": [
      "\r",
      " [*****    20%           ] Elapsed 0.16s / Remaining 00:00:00:00"
     ]
    },
    {
     "name": "stdout",
     "output_type": "stream",
     "text": [
      "\r",
      " [*****    20%           ] Elapsed 0.16s / Remaining 00:00:00:00"
     ]
    },
    {
     "name": "stdout",
     "output_type": "stream",
     "text": [
      "\r",
      " [*****    20%           ] Elapsed 0.17s / Remaining 00:00:00:00"
     ]
    },
    {
     "name": "stdout",
     "output_type": "stream",
     "text": [
      "\r",
      " [*****    20%           ] Elapsed 0.17s / Remaining 00:00:00:00"
     ]
    },
    {
     "name": "stdout",
     "output_type": "stream",
     "text": [
      "\r",
      " [*****    20%           ] Elapsed 0.17s / Remaining 00:00:00:00"
     ]
    },
    {
     "name": "stdout",
     "output_type": "stream",
     "text": [
      "\r",
      " [*****    20%           ] Elapsed 0.17s / Remaining 00:00:00:00"
     ]
    },
    {
     "name": "stdout",
     "output_type": "stream",
     "text": [
      "\r",
      " [*****    20%           ] Elapsed 0.17s / Remaining 00:00:00:00"
     ]
    },
    {
     "name": "stdout",
     "output_type": "stream",
     "text": [
      "\r",
      " [*****    21%           ] Elapsed 0.17s / Remaining 00:00:00:00"
     ]
    },
    {
     "name": "stdout",
     "output_type": "stream",
     "text": [
      "\r",
      " [*****    21%           ] Elapsed 0.17s / Remaining 00:00:00:00"
     ]
    },
    {
     "name": "stdout",
     "output_type": "stream",
     "text": [
      "\r",
      " [*****    21%           ] Elapsed 0.17s / Remaining 00:00:00:00"
     ]
    },
    {
     "name": "stdout",
     "output_type": "stream",
     "text": [
      "\r",
      " [*****    21%           ] Elapsed 0.17s / Remaining 00:00:00:00"
     ]
    },
    {
     "name": "stdout",
     "output_type": "stream",
     "text": [
      "\r",
      " [*****    21%           ] Elapsed 0.17s / Remaining 00:00:00:00"
     ]
    },
    {
     "name": "stdout",
     "output_type": "stream",
     "text": [
      "\r",
      " [*****    21%           ] Elapsed 0.17s / Remaining 00:00:00:00"
     ]
    },
    {
     "name": "stdout",
     "output_type": "stream",
     "text": [
      "\r",
      " [*****    21%           ] Elapsed 0.17s / Remaining 00:00:00:00"
     ]
    },
    {
     "name": "stdout",
     "output_type": "stream",
     "text": [
      "\r",
      " [*****    21%           ] Elapsed 0.17s / Remaining 00:00:00:00"
     ]
    },
    {
     "name": "stdout",
     "output_type": "stream",
     "text": [
      "\r",
      " [*****    21%           ] Elapsed 0.18s / Remaining 00:00:00:00"
     ]
    },
    {
     "name": "stdout",
     "output_type": "stream",
     "text": [
      "\r",
      " [*****    21%           ] Elapsed 0.18s / Remaining 00:00:00:00"
     ]
    },
    {
     "name": "stdout",
     "output_type": "stream",
     "text": [
      "\r",
      " [*****    22%           ] Elapsed 0.18s / Remaining 00:00:00:00"
     ]
    },
    {
     "name": "stdout",
     "output_type": "stream",
     "text": [
      "\r",
      " [*****    22%           ] Elapsed 0.18s / Remaining 00:00:00:00"
     ]
    },
    {
     "name": "stdout",
     "output_type": "stream",
     "text": [
      "\r",
      " [*****    22%           ] Elapsed 0.18s / Remaining 00:00:00:00"
     ]
    },
    {
     "name": "stdout",
     "output_type": "stream",
     "text": [
      "\r",
      " [*****    22%           ] Elapsed 0.18s / Remaining 00:00:00:00"
     ]
    },
    {
     "name": "stdout",
     "output_type": "stream",
     "text": [
      "\r",
      " [*****    22%           ] Elapsed 0.18s / Remaining 00:00:00:00"
     ]
    },
    {
     "name": "stdout",
     "output_type": "stream",
     "text": [
      "\r",
      " [*****    22%           ] Elapsed 0.18s / Remaining 00:00:00:00"
     ]
    },
    {
     "name": "stdout",
     "output_type": "stream",
     "text": [
      "\r",
      " [*****    22%           ] Elapsed 0.18s / Remaining 00:00:00:00"
     ]
    },
    {
     "name": "stdout",
     "output_type": "stream",
     "text": [
      "\r",
      " [*****    22%           ] Elapsed 0.18s / Remaining 00:00:00:00"
     ]
    },
    {
     "name": "stdout",
     "output_type": "stream",
     "text": [
      "\r",
      " [*****    22%           ] Elapsed 0.18s / Remaining 00:00:00:00"
     ]
    },
    {
     "name": "stdout",
     "output_type": "stream",
     "text": [
      "\r",
      " [*****    22%           ] Elapsed 0.19s / Remaining 00:00:00:00"
     ]
    },
    {
     "name": "stdout",
     "output_type": "stream",
     "text": [
      "\r",
      " [*****    23%           ] Elapsed 0.19s / Remaining 00:00:00:00"
     ]
    },
    {
     "name": "stdout",
     "output_type": "stream",
     "text": [
      "\r",
      " [*****    23%           ] Elapsed 0.19s / Remaining 00:00:00:00"
     ]
    },
    {
     "name": "stdout",
     "output_type": "stream",
     "text": [
      "\r",
      " [*****    23%           ] Elapsed 0.19s / Remaining 00:00:00:00"
     ]
    },
    {
     "name": "stdout",
     "output_type": "stream",
     "text": [
      "\r",
      " [*****    23%           ] Elapsed 0.19s / Remaining 00:00:00:00"
     ]
    },
    {
     "name": "stdout",
     "output_type": "stream",
     "text": [
      "\r",
      " [*****    23%           ] Elapsed 0.19s / Remaining 00:00:00:00"
     ]
    },
    {
     "name": "stdout",
     "output_type": "stream",
     "text": [
      "\r",
      " [*****    23%           ] Elapsed 0.19s / Remaining 00:00:00:00"
     ]
    },
    {
     "name": "stdout",
     "output_type": "stream",
     "text": [
      "\r",
      " [*****    23%           ] Elapsed 0.19s / Remaining 00:00:00:00"
     ]
    },
    {
     "name": "stdout",
     "output_type": "stream",
     "text": [
      "\r",
      " [*****    23%           ] Elapsed 0.19s / Remaining 00:00:00:00"
     ]
    },
    {
     "name": "stdout",
     "output_type": "stream",
     "text": [
      "\r",
      " [*****    23%           ] Elapsed 0.19s / Remaining 00:00:00:00"
     ]
    },
    {
     "name": "stdout",
     "output_type": "stream",
     "text": [
      "\r",
      " [*****    23%           ] Elapsed 0.19s / Remaining 00:00:00:00"
     ]
    },
    {
     "name": "stdout",
     "output_type": "stream",
     "text": [
      "\r",
      " [******   24%           ] Elapsed 0.19s / Remaining 00:00:00:00"
     ]
    },
    {
     "name": "stdout",
     "output_type": "stream",
     "text": [
      "\r",
      " [******   24%           ] Elapsed 0.19s / Remaining 00:00:00:00"
     ]
    },
    {
     "name": "stdout",
     "output_type": "stream",
     "text": [
      "\r",
      " [******   24%           ] Elapsed 0.20s / Remaining 00:00:00:00"
     ]
    },
    {
     "name": "stdout",
     "output_type": "stream",
     "text": [
      "\r",
      " [******   24%           ] Elapsed 0.20s / Remaining 00:00:00:00"
     ]
    },
    {
     "name": "stdout",
     "output_type": "stream",
     "text": [
      "\r",
      " [******   24%           ] Elapsed 0.20s / Remaining 00:00:00:00"
     ]
    },
    {
     "name": "stdout",
     "output_type": "stream",
     "text": [
      "\r",
      " [******   24%           ] Elapsed 0.20s / Remaining 00:00:00:00"
     ]
    },
    {
     "name": "stdout",
     "output_type": "stream",
     "text": [
      "\r",
      " [******   24%           ] Elapsed 0.20s / Remaining 00:00:00:00"
     ]
    },
    {
     "name": "stdout",
     "output_type": "stream",
     "text": [
      "\r",
      " [******   24%           ] Elapsed 0.20s / Remaining 00:00:00:00"
     ]
    },
    {
     "name": "stdout",
     "output_type": "stream",
     "text": [
      "\r",
      " [******   24%           ] Elapsed 0.20s / Remaining 00:00:00:00"
     ]
    },
    {
     "name": "stdout",
     "output_type": "stream",
     "text": [
      "\r",
      " [******   24%           ] Elapsed 0.20s / Remaining 00:00:00:00"
     ]
    },
    {
     "name": "stdout",
     "output_type": "stream",
     "text": [
      "\r",
      " [******   25%           ] Elapsed 0.20s / Remaining 00:00:00:00"
     ]
    },
    {
     "name": "stdout",
     "output_type": "stream",
     "text": [
      "\r",
      " [******   25%           ] Elapsed 0.20s / Remaining 00:00:00:00"
     ]
    },
    {
     "name": "stdout",
     "output_type": "stream",
     "text": [
      "\r",
      " [******   25%           ] Elapsed 0.20s / Remaining 00:00:00:00"
     ]
    },
    {
     "name": "stdout",
     "output_type": "stream",
     "text": [
      "\r",
      " [******   25%           ] Elapsed 0.20s / Remaining 00:00:00:00"
     ]
    },
    {
     "name": "stdout",
     "output_type": "stream",
     "text": [
      "\r",
      " [******   25%           ] Elapsed 0.20s / Remaining 00:00:00:00"
     ]
    },
    {
     "name": "stdout",
     "output_type": "stream",
     "text": [
      "\r",
      " [******   25%           ] Elapsed 0.21s / Remaining 00:00:00:00"
     ]
    },
    {
     "name": "stdout",
     "output_type": "stream",
     "text": [
      "\r",
      " [******   25%           ] Elapsed 0.21s / Remaining 00:00:00:00"
     ]
    },
    {
     "name": "stdout",
     "output_type": "stream",
     "text": [
      "\r",
      " [******   25%           ] Elapsed 0.21s / Remaining 00:00:00:00"
     ]
    },
    {
     "name": "stdout",
     "output_type": "stream",
     "text": [
      "\r",
      " [******   25%           ] Elapsed 0.21s / Remaining 00:00:00:00"
     ]
    },
    {
     "name": "stdout",
     "output_type": "stream",
     "text": [
      "\r",
      " [******   25%           ] Elapsed 0.21s / Remaining 00:00:00:00"
     ]
    },
    {
     "name": "stdout",
     "output_type": "stream",
     "text": [
      "\r",
      " [******   26%           ] Elapsed 0.21s / Remaining 00:00:00:00"
     ]
    },
    {
     "name": "stdout",
     "output_type": "stream",
     "text": [
      "\r",
      " [******   26%           ] Elapsed 0.21s / Remaining 00:00:00:00"
     ]
    },
    {
     "name": "stdout",
     "output_type": "stream",
     "text": [
      "\r",
      " [******   26%           ] Elapsed 0.21s / Remaining 00:00:00:00"
     ]
    },
    {
     "name": "stdout",
     "output_type": "stream",
     "text": [
      "\r",
      " [******   26%           ] Elapsed 0.21s / Remaining 00:00:00:00"
     ]
    },
    {
     "name": "stdout",
     "output_type": "stream",
     "text": [
      "\r",
      " [******   26%           ] Elapsed 0.21s / Remaining 00:00:00:00"
     ]
    },
    {
     "name": "stdout",
     "output_type": "stream",
     "text": [
      "\r",
      " [******   26%           ] Elapsed 0.21s / Remaining 00:00:00:00"
     ]
    },
    {
     "name": "stdout",
     "output_type": "stream",
     "text": [
      "\r",
      " [******   26%           ] Elapsed 0.22s / Remaining 00:00:00:00"
     ]
    },
    {
     "name": "stdout",
     "output_type": "stream",
     "text": [
      "\r",
      " [******   26%           ] Elapsed 0.22s / Remaining 00:00:00:00"
     ]
    },
    {
     "name": "stdout",
     "output_type": "stream",
     "text": [
      "\r",
      " [******   26%           ] Elapsed 0.22s / Remaining 00:00:00:00"
     ]
    },
    {
     "name": "stdout",
     "output_type": "stream",
     "text": [
      "\r",
      " [******   26%           ] Elapsed 0.22s / Remaining 00:00:00:00"
     ]
    },
    {
     "name": "stdout",
     "output_type": "stream",
     "text": [
      "\r",
      " [******   27%           ] Elapsed 0.22s / Remaining 00:00:00:00"
     ]
    },
    {
     "name": "stdout",
     "output_type": "stream",
     "text": [
      "\r",
      " [******   27%           ] Elapsed 0.22s / Remaining 00:00:00:00"
     ]
    },
    {
     "name": "stdout",
     "output_type": "stream",
     "text": [
      "\r",
      " [******   27%           ] Elapsed 0.22s / Remaining 00:00:00:00"
     ]
    },
    {
     "name": "stdout",
     "output_type": "stream",
     "text": [
      "\r",
      " [******   27%           ] Elapsed 0.22s / Remaining 00:00:00:00"
     ]
    },
    {
     "name": "stdout",
     "output_type": "stream",
     "text": [
      "\r",
      " [******   27%           ] Elapsed 0.22s / Remaining 00:00:00:00"
     ]
    },
    {
     "name": "stdout",
     "output_type": "stream",
     "text": [
      "\r",
      " [******   27%           ] Elapsed 0.22s / Remaining 00:00:00:00"
     ]
    },
    {
     "name": "stdout",
     "output_type": "stream",
     "text": [
      "\r",
      " [******   27%           ] Elapsed 0.22s / Remaining 00:00:00:00"
     ]
    },
    {
     "name": "stdout",
     "output_type": "stream",
     "text": [
      "\r",
      " [******   27%           ] Elapsed 0.22s / Remaining 00:00:00:00"
     ]
    },
    {
     "name": "stdout",
     "output_type": "stream",
     "text": [
      "\r",
      " [******   27%           ] Elapsed 0.23s / Remaining 00:00:00:00"
     ]
    },
    {
     "name": "stdout",
     "output_type": "stream",
     "text": [
      "\r",
      " [******   27%           ] Elapsed 0.23s / Remaining 00:00:00:00"
     ]
    },
    {
     "name": "stdout",
     "output_type": "stream",
     "text": [
      "\r",
      " [******   28%           ] Elapsed 0.23s / Remaining 00:00:00:00"
     ]
    },
    {
     "name": "stdout",
     "output_type": "stream",
     "text": [
      "\r",
      " [******   28%           ] Elapsed 0.23s / Remaining 00:00:00:00"
     ]
    },
    {
     "name": "stdout",
     "output_type": "stream",
     "text": [
      "\r",
      " [******   28%           ] Elapsed 0.23s / Remaining 00:00:00:00"
     ]
    },
    {
     "name": "stdout",
     "output_type": "stream",
     "text": [
      "\r",
      " [******   28%           ] Elapsed 0.23s / Remaining 00:00:00:00"
     ]
    },
    {
     "name": "stdout",
     "output_type": "stream",
     "text": [
      "\r",
      " [******   28%           ] Elapsed 0.23s / Remaining 00:00:00:00"
     ]
    },
    {
     "name": "stdout",
     "output_type": "stream",
     "text": [
      "\r",
      " [******   28%           ] Elapsed 0.23s / Remaining 00:00:00:00"
     ]
    },
    {
     "name": "stdout",
     "output_type": "stream",
     "text": [
      "\r",
      " [******   28%           ] Elapsed 0.23s / Remaining 00:00:00:00"
     ]
    },
    {
     "name": "stdout",
     "output_type": "stream",
     "text": [
      "\r",
      " [******   28%           ] Elapsed 0.23s / Remaining 00:00:00:00"
     ]
    },
    {
     "name": "stdout",
     "output_type": "stream",
     "text": [
      "\r",
      " [******   28%           ] Elapsed 0.23s / Remaining 00:00:00:00"
     ]
    },
    {
     "name": "stdout",
     "output_type": "stream",
     "text": [
      "\r",
      " [******   28%           ] Elapsed 0.23s / Remaining 00:00:00:00"
     ]
    },
    {
     "name": "stdout",
     "output_type": "stream",
     "text": [
      "\r",
      " [*******  29%           ] Elapsed 0.23s / Remaining 00:00:00:00"
     ]
    },
    {
     "name": "stdout",
     "output_type": "stream",
     "text": [
      "\r",
      " [*******  29%           ] Elapsed 0.24s / Remaining 00:00:00:00"
     ]
    },
    {
     "name": "stdout",
     "output_type": "stream",
     "text": [
      "\r",
      " [*******  29%           ] Elapsed 0.24s / Remaining 00:00:00:00"
     ]
    },
    {
     "name": "stdout",
     "output_type": "stream",
     "text": [
      "\r",
      " [*******  29%           ] Elapsed 0.24s / Remaining 00:00:00:00"
     ]
    },
    {
     "name": "stdout",
     "output_type": "stream",
     "text": [
      "\r",
      " [*******  29%           ] Elapsed 0.24s / Remaining 00:00:00:00"
     ]
    },
    {
     "name": "stdout",
     "output_type": "stream",
     "text": [
      "\r",
      " [*******  29%           ] Elapsed 0.24s / Remaining 00:00:00:00"
     ]
    },
    {
     "name": "stdout",
     "output_type": "stream",
     "text": [
      "\r",
      " [*******  29%           ] Elapsed 0.24s / Remaining 00:00:00:00"
     ]
    },
    {
     "name": "stdout",
     "output_type": "stream",
     "text": [
      "\r",
      " [*******  29%           ] Elapsed 0.24s / Remaining 00:00:00:00"
     ]
    },
    {
     "name": "stdout",
     "output_type": "stream",
     "text": [
      "\r",
      " [*******  29%           ] Elapsed 0.24s / Remaining 00:00:00:00"
     ]
    },
    {
     "name": "stdout",
     "output_type": "stream",
     "text": [
      "\r",
      " [*******  29%           ] Elapsed 0.24s / Remaining 00:00:00:00"
     ]
    },
    {
     "name": "stdout",
     "output_type": "stream",
     "text": [
      "\r",
      " [*******  30%           ] Elapsed 0.24s / Remaining 00:00:00:00"
     ]
    },
    {
     "name": "stdout",
     "output_type": "stream",
     "text": [
      "\r",
      " [*******  30%           ] Elapsed 0.24s / Remaining 00:00:00:00"
     ]
    },
    {
     "name": "stdout",
     "output_type": "stream",
     "text": [
      "\r",
      " [*******  30%           ] Elapsed 0.24s / Remaining 00:00:00:00"
     ]
    },
    {
     "name": "stdout",
     "output_type": "stream",
     "text": [
      "\r",
      " [*******  30%           ] Elapsed 0.25s / Remaining 00:00:00:00"
     ]
    },
    {
     "name": "stdout",
     "output_type": "stream",
     "text": [
      "\r",
      " [*******  30%           ] Elapsed 0.25s / Remaining 00:00:00:00"
     ]
    },
    {
     "name": "stdout",
     "output_type": "stream",
     "text": [
      "\r",
      " [*******  30%           ] Elapsed 0.25s / Remaining 00:00:00:00"
     ]
    },
    {
     "name": "stdout",
     "output_type": "stream",
     "text": [
      "\r",
      " [*******  30%           ] Elapsed 0.25s / Remaining 00:00:00:00"
     ]
    },
    {
     "name": "stdout",
     "output_type": "stream",
     "text": [
      "\r",
      " [*******  30%           ] Elapsed 0.25s / Remaining 00:00:00:00"
     ]
    },
    {
     "name": "stdout",
     "output_type": "stream",
     "text": [
      "\r",
      " [*******  30%           ] Elapsed 0.25s / Remaining 00:00:00:00"
     ]
    },
    {
     "name": "stdout",
     "output_type": "stream",
     "text": [
      "\r",
      " [*******  30%           ] Elapsed 0.25s / Remaining 00:00:00:00"
     ]
    },
    {
     "name": "stdout",
     "output_type": "stream",
     "text": [
      "\r",
      " [*******  31%           ] Elapsed 0.25s / Remaining 00:00:00:00"
     ]
    },
    {
     "name": "stdout",
     "output_type": "stream",
     "text": [
      "\r",
      " [*******  31%           ] Elapsed 0.25s / Remaining 00:00:00:00"
     ]
    },
    {
     "name": "stdout",
     "output_type": "stream",
     "text": [
      "\r",
      " [*******  31%           ] Elapsed 0.25s / Remaining 00:00:00:00"
     ]
    },
    {
     "name": "stdout",
     "output_type": "stream",
     "text": [
      "\r",
      " [*******  31%           ] Elapsed 0.25s / Remaining 00:00:00:00"
     ]
    },
    {
     "name": "stdout",
     "output_type": "stream",
     "text": [
      "\r",
      " [*******  31%           ] Elapsed 0.25s / Remaining 00:00:00:00"
     ]
    },
    {
     "name": "stdout",
     "output_type": "stream",
     "text": [
      "\r",
      " [*******  31%           ] Elapsed 0.25s / Remaining 00:00:00:00"
     ]
    },
    {
     "name": "stdout",
     "output_type": "stream",
     "text": [
      "\r",
      " [*******  31%           ] Elapsed 0.26s / Remaining 00:00:00:00"
     ]
    },
    {
     "name": "stdout",
     "output_type": "stream",
     "text": [
      "\r",
      " [*******  31%           ] Elapsed 0.26s / Remaining 00:00:00:00"
     ]
    },
    {
     "name": "stdout",
     "output_type": "stream",
     "text": [
      "\r",
      " [*******  31%           ] Elapsed 0.26s / Remaining 00:00:00:00"
     ]
    },
    {
     "name": "stdout",
     "output_type": "stream",
     "text": [
      "\r",
      " [*******  31%           ] Elapsed 0.26s / Remaining 00:00:00:00"
     ]
    },
    {
     "name": "stdout",
     "output_type": "stream",
     "text": [
      "\r",
      " [*******  32%           ] Elapsed 0.26s / Remaining 00:00:00:00"
     ]
    },
    {
     "name": "stdout",
     "output_type": "stream",
     "text": [
      "\r",
      " [*******  32%           ] Elapsed 0.26s / Remaining 00:00:00:00"
     ]
    },
    {
     "name": "stdout",
     "output_type": "stream",
     "text": [
      "\r",
      " [*******  32%           ] Elapsed 0.26s / Remaining 00:00:00:00"
     ]
    },
    {
     "name": "stdout",
     "output_type": "stream",
     "text": [
      "\r",
      " [*******  32%           ] Elapsed 0.26s / Remaining 00:00:00:00"
     ]
    },
    {
     "name": "stdout",
     "output_type": "stream",
     "text": [
      "\r",
      " [*******  32%           ] Elapsed 0.26s / Remaining 00:00:00:00"
     ]
    },
    {
     "name": "stdout",
     "output_type": "stream",
     "text": [
      "\r",
      " [*******  32%           ] Elapsed 0.26s / Remaining 00:00:00:00"
     ]
    },
    {
     "name": "stdout",
     "output_type": "stream",
     "text": [
      "\r",
      " [*******  32%           ] Elapsed 0.26s / Remaining 00:00:00:00"
     ]
    },
    {
     "name": "stdout",
     "output_type": "stream",
     "text": [
      "\r",
      " [*******  32%           ] Elapsed 0.26s / Remaining 00:00:00:00"
     ]
    },
    {
     "name": "stdout",
     "output_type": "stream",
     "text": [
      "\r",
      " [*******  32%           ] Elapsed 0.26s / Remaining 00:00:00:00"
     ]
    },
    {
     "name": "stdout",
     "output_type": "stream",
     "text": [
      "\r",
      " [*******  32%           ] Elapsed 0.27s / Remaining 00:00:00:00"
     ]
    },
    {
     "name": "stdout",
     "output_type": "stream",
     "text": [
      "\r",
      " [******** 33%           ] Elapsed 0.27s / Remaining 00:00:00:00"
     ]
    },
    {
     "name": "stdout",
     "output_type": "stream",
     "text": [
      "\r",
      " [******** 33%           ] Elapsed 0.27s / Remaining 00:00:00:00"
     ]
    },
    {
     "name": "stdout",
     "output_type": "stream",
     "text": [
      "\r",
      " [******** 33%           ] Elapsed 0.27s / Remaining 00:00:00:00"
     ]
    },
    {
     "name": "stdout",
     "output_type": "stream",
     "text": [
      "\r",
      " [******** 33%           ] Elapsed 0.27s / Remaining 00:00:00:00"
     ]
    },
    {
     "name": "stdout",
     "output_type": "stream",
     "text": [
      "\r",
      " [******** 33%           ] Elapsed 0.27s / Remaining 00:00:00:00"
     ]
    },
    {
     "name": "stdout",
     "output_type": "stream",
     "text": [
      "\r",
      " [******** 33%           ] Elapsed 0.27s / Remaining 00:00:00:00"
     ]
    },
    {
     "name": "stdout",
     "output_type": "stream",
     "text": [
      "\r",
      " [******** 33%           ] Elapsed 0.27s / Remaining 00:00:00:00"
     ]
    },
    {
     "name": "stdout",
     "output_type": "stream",
     "text": [
      "\r",
      " [******** 33%           ] Elapsed 0.27s / Remaining 00:00:00:00"
     ]
    },
    {
     "name": "stdout",
     "output_type": "stream",
     "text": [
      "\r",
      " [******** 33%           ] Elapsed 0.27s / Remaining 00:00:00:00"
     ]
    },
    {
     "name": "stdout",
     "output_type": "stream",
     "text": [
      "\r",
      " [******** 33%           ] Elapsed 0.27s / Remaining 00:00:00:00"
     ]
    },
    {
     "name": "stdout",
     "output_type": "stream",
     "text": [
      "\r",
      " [******** 34%           ] Elapsed 0.27s / Remaining 00:00:00:00"
     ]
    },
    {
     "name": "stdout",
     "output_type": "stream",
     "text": [
      "\r",
      " [******** 34%           ] Elapsed 0.28s / Remaining 00:00:00:00"
     ]
    },
    {
     "name": "stdout",
     "output_type": "stream",
     "text": [
      "\r",
      " [******** 34%           ] Elapsed 0.28s / Remaining 00:00:00:00"
     ]
    },
    {
     "name": "stdout",
     "output_type": "stream",
     "text": [
      "\r",
      " [******** 34%           ] Elapsed 0.28s / Remaining 00:00:00:00"
     ]
    },
    {
     "name": "stdout",
     "output_type": "stream",
     "text": [
      "\r",
      " [******** 34%           ] Elapsed 0.28s / Remaining 00:00:00:00"
     ]
    },
    {
     "name": "stdout",
     "output_type": "stream",
     "text": [
      "\r",
      " [******** 34%           ] Elapsed 0.28s / Remaining 00:00:00:00"
     ]
    },
    {
     "name": "stdout",
     "output_type": "stream",
     "text": [
      "\r",
      " [******** 34%           ] Elapsed 0.28s / Remaining 00:00:00:00"
     ]
    },
    {
     "name": "stdout",
     "output_type": "stream",
     "text": [
      "\r",
      " [******** 34%           ] Elapsed 0.28s / Remaining 00:00:00:00"
     ]
    },
    {
     "name": "stdout",
     "output_type": "stream",
     "text": [
      "\r",
      " [******** 34%           ] Elapsed 0.28s / Remaining 00:00:00:00"
     ]
    },
    {
     "name": "stdout",
     "output_type": "stream",
     "text": [
      "\r",
      " [******** 34%           ] Elapsed 0.28s / Remaining 00:00:00:00"
     ]
    },
    {
     "name": "stdout",
     "output_type": "stream",
     "text": [
      "\r",
      " [******** 35%           ] Elapsed 0.28s / Remaining 00:00:00:00"
     ]
    },
    {
     "name": "stdout",
     "output_type": "stream",
     "text": [
      "\r",
      " [******** 35%           ] Elapsed 0.28s / Remaining 00:00:00:00"
     ]
    },
    {
     "name": "stdout",
     "output_type": "stream",
     "text": [
      "\r",
      " [******** 35%           ] Elapsed 0.28s / Remaining 00:00:00:00"
     ]
    },
    {
     "name": "stdout",
     "output_type": "stream",
     "text": [
      "\r",
      " [******** 35%           ] Elapsed 0.29s / Remaining 00:00:00:00"
     ]
    },
    {
     "name": "stdout",
     "output_type": "stream",
     "text": [
      "\r",
      " [******** 35%           ] Elapsed 0.29s / Remaining 00:00:00:00"
     ]
    },
    {
     "name": "stdout",
     "output_type": "stream",
     "text": [
      "\r",
      " [******** 35%           ] Elapsed 0.29s / Remaining 00:00:00:00"
     ]
    },
    {
     "name": "stdout",
     "output_type": "stream",
     "text": [
      "\r",
      " [******** 35%           ] Elapsed 0.29s / Remaining 00:00:00:00"
     ]
    },
    {
     "name": "stdout",
     "output_type": "stream",
     "text": [
      "\r",
      " [******** 35%           ] Elapsed 0.29s / Remaining 00:00:00:00"
     ]
    },
    {
     "name": "stdout",
     "output_type": "stream",
     "text": [
      "\r",
      " [******** 35%           ] Elapsed 0.29s / Remaining 00:00:00:00"
     ]
    },
    {
     "name": "stdout",
     "output_type": "stream",
     "text": [
      "\r",
      " [******** 35%           ] Elapsed 0.29s / Remaining 00:00:00:00"
     ]
    },
    {
     "name": "stdout",
     "output_type": "stream",
     "text": [
      "\r",
      " [******** 36%           ] Elapsed 0.29s / Remaining 00:00:00:00"
     ]
    },
    {
     "name": "stdout",
     "output_type": "stream",
     "text": [
      "\r",
      " [******** 36%           ] Elapsed 0.29s / Remaining 00:00:00:00"
     ]
    },
    {
     "name": "stdout",
     "output_type": "stream",
     "text": [
      "\r",
      " [******** 36%           ] Elapsed 0.29s / Remaining 00:00:00:00"
     ]
    },
    {
     "name": "stdout",
     "output_type": "stream",
     "text": [
      "\r",
      " [******** 36%           ] Elapsed 0.29s / Remaining 00:00:00:00"
     ]
    },
    {
     "name": "stdout",
     "output_type": "stream",
     "text": [
      "\r",
      " [******** 36%           ] Elapsed 0.29s / Remaining 00:00:00:00"
     ]
    },
    {
     "name": "stdout",
     "output_type": "stream",
     "text": [
      "\r",
      " [******** 36%           ] Elapsed 0.30s / Remaining 00:00:00:00"
     ]
    },
    {
     "name": "stdout",
     "output_type": "stream",
     "text": [
      "\r",
      " [******** 36%           ] Elapsed 0.30s / Remaining 00:00:00:00"
     ]
    },
    {
     "name": "stdout",
     "output_type": "stream",
     "text": [
      "\r",
      " [******** 36%           ] Elapsed 0.30s / Remaining 00:00:00:00"
     ]
    },
    {
     "name": "stdout",
     "output_type": "stream",
     "text": [
      "\r",
      " [******** 36%           ] Elapsed 0.30s / Remaining 00:00:00:00"
     ]
    },
    {
     "name": "stdout",
     "output_type": "stream",
     "text": [
      "\r",
      " [******** 36%           ] Elapsed 0.30s / Remaining 00:00:00:00"
     ]
    },
    {
     "name": "stdout",
     "output_type": "stream",
     "text": [
      "\r",
      " [*********37%           ] Elapsed 0.30s / Remaining 00:00:00:00"
     ]
    },
    {
     "name": "stdout",
     "output_type": "stream",
     "text": [
      "\r",
      " [*********37%           ] Elapsed 0.30s / Remaining 00:00:00:00"
     ]
    },
    {
     "name": "stdout",
     "output_type": "stream",
     "text": [
      "\r",
      " [*********37%           ] Elapsed 0.30s / Remaining 00:00:00:00"
     ]
    },
    {
     "name": "stdout",
     "output_type": "stream",
     "text": [
      "\r",
      " [*********37%           ] Elapsed 0.30s / Remaining 00:00:00:00"
     ]
    },
    {
     "name": "stdout",
     "output_type": "stream",
     "text": [
      "\r",
      " [*********37%           ] Elapsed 0.30s / Remaining 00:00:00:00"
     ]
    },
    {
     "name": "stdout",
     "output_type": "stream",
     "text": [
      "\r",
      " [*********37%           ] Elapsed 0.30s / Remaining 00:00:00:00"
     ]
    },
    {
     "name": "stdout",
     "output_type": "stream",
     "text": [
      "\r",
      " [*********37%           ] Elapsed 0.30s / Remaining 00:00:00:00"
     ]
    },
    {
     "name": "stdout",
     "output_type": "stream",
     "text": [
      "\r",
      " [*********37%           ] Elapsed 0.30s / Remaining 00:00:00:00"
     ]
    },
    {
     "name": "stdout",
     "output_type": "stream",
     "text": [
      "\r",
      " [*********37%           ] Elapsed 0.31s / Remaining 00:00:00:00"
     ]
    },
    {
     "name": "stdout",
     "output_type": "stream",
     "text": [
      "\r",
      " [*********37%           ] Elapsed 0.31s / Remaining 00:00:00:00"
     ]
    },
    {
     "name": "stdout",
     "output_type": "stream",
     "text": [
      "\r",
      " [*********38%           ] Elapsed 0.31s / Remaining 00:00:00:00"
     ]
    },
    {
     "name": "stdout",
     "output_type": "stream",
     "text": [
      "\r",
      " [*********38%           ] Elapsed 0.31s / Remaining 00:00:00:00"
     ]
    },
    {
     "name": "stdout",
     "output_type": "stream",
     "text": [
      "\r",
      " [*********38%           ] Elapsed 0.31s / Remaining 00:00:00:00"
     ]
    },
    {
     "name": "stdout",
     "output_type": "stream",
     "text": [
      "\r",
      " [*********38%           ] Elapsed 0.31s / Remaining 00:00:00:00"
     ]
    },
    {
     "name": "stdout",
     "output_type": "stream",
     "text": [
      "\r",
      " [*********38%           ] Elapsed 0.31s / Remaining 00:00:00:00"
     ]
    },
    {
     "name": "stdout",
     "output_type": "stream",
     "text": [
      "\r",
      " [*********38%           ] Elapsed 0.31s / Remaining 00:00:00:00"
     ]
    },
    {
     "name": "stdout",
     "output_type": "stream",
     "text": [
      "\r",
      " [*********38%           ] Elapsed 0.31s / Remaining 00:00:00:00"
     ]
    },
    {
     "name": "stdout",
     "output_type": "stream",
     "text": [
      "\r",
      " [*********38%           ] Elapsed 0.31s / Remaining 00:00:00:00"
     ]
    },
    {
     "name": "stdout",
     "output_type": "stream",
     "text": [
      "\r",
      " [*********38%           ] Elapsed 0.31s / Remaining 00:00:00:00"
     ]
    },
    {
     "name": "stdout",
     "output_type": "stream",
     "text": [
      "\r",
      " [*********38%           ] Elapsed 0.31s / Remaining 00:00:00:00"
     ]
    },
    {
     "name": "stdout",
     "output_type": "stream",
     "text": [
      "\r",
      " [*********39%           ] Elapsed 0.31s / Remaining 00:00:00:00"
     ]
    },
    {
     "name": "stdout",
     "output_type": "stream",
     "text": [
      "\r",
      " [*********39%           ] Elapsed 0.32s / Remaining 00:00:00:00"
     ]
    },
    {
     "name": "stdout",
     "output_type": "stream",
     "text": [
      "\r",
      " [*********39%           ] Elapsed 0.32s / Remaining 00:00:00:00"
     ]
    },
    {
     "name": "stdout",
     "output_type": "stream",
     "text": [
      "\r",
      " [*********39%           ] Elapsed 0.32s / Remaining 00:00:00:00"
     ]
    },
    {
     "name": "stdout",
     "output_type": "stream",
     "text": [
      "\r",
      " [*********39%           ] Elapsed 0.32s / Remaining 00:00:00:00"
     ]
    },
    {
     "name": "stdout",
     "output_type": "stream",
     "text": [
      "\r",
      " [*********39%           ] Elapsed 0.32s / Remaining 00:00:00:00"
     ]
    },
    {
     "name": "stdout",
     "output_type": "stream",
     "text": [
      "\r",
      " [*********39%           ] Elapsed 0.32s / Remaining 00:00:00:00"
     ]
    },
    {
     "name": "stdout",
     "output_type": "stream",
     "text": [
      "\r",
      " [*********39%           ] Elapsed 0.32s / Remaining 00:00:00:00"
     ]
    },
    {
     "name": "stdout",
     "output_type": "stream",
     "text": [
      "\r",
      " [*********39%           ] Elapsed 0.32s / Remaining 00:00:00:00"
     ]
    },
    {
     "name": "stdout",
     "output_type": "stream",
     "text": [
      "\r",
      " [*********39%           ] Elapsed 0.32s / Remaining 00:00:00:00"
     ]
    },
    {
     "name": "stdout",
     "output_type": "stream",
     "text": [
      "\r",
      " [*********40%           ] Elapsed 0.32s / Remaining 00:00:00:00"
     ]
    },
    {
     "name": "stdout",
     "output_type": "stream",
     "text": [
      "\r",
      " [*********40%           ] Elapsed 0.32s / Remaining 00:00:00:00"
     ]
    },
    {
     "name": "stdout",
     "output_type": "stream",
     "text": [
      "\r",
      " [*********40%           ] Elapsed 0.32s / Remaining 00:00:00:00"
     ]
    },
    {
     "name": "stdout",
     "output_type": "stream",
     "text": [
      "\r",
      " [*********40%           ] Elapsed 0.33s / Remaining 00:00:00:00"
     ]
    },
    {
     "name": "stdout",
     "output_type": "stream",
     "text": [
      "\r",
      " [*********40%           ] Elapsed 0.33s / Remaining 00:00:00:00"
     ]
    },
    {
     "name": "stdout",
     "output_type": "stream",
     "text": [
      "\r",
      " [*********40%           ] Elapsed 0.33s / Remaining 00:00:00:00"
     ]
    },
    {
     "name": "stdout",
     "output_type": "stream",
     "text": [
      "\r",
      " [*********40%           ] Elapsed 0.33s / Remaining 00:00:00:00"
     ]
    },
    {
     "name": "stdout",
     "output_type": "stream",
     "text": [
      "\r",
      " [*********40%           ] Elapsed 0.33s / Remaining 00:00:00:00"
     ]
    },
    {
     "name": "stdout",
     "output_type": "stream",
     "text": [
      "\r",
      " [*********40%           ] Elapsed 0.33s / Remaining 00:00:00:00"
     ]
    },
    {
     "name": "stdout",
     "output_type": "stream",
     "text": [
      "\r",
      " [*********40%           ] Elapsed 0.33s / Remaining 00:00:00:00"
     ]
    },
    {
     "name": "stdout",
     "output_type": "stream",
     "text": [
      "\r",
      " [*********41%           ] Elapsed 0.33s / Remaining 00:00:00:00"
     ]
    },
    {
     "name": "stdout",
     "output_type": "stream",
     "text": [
      "\r",
      " [*********41%           ] Elapsed 0.33s / Remaining 00:00:00:00"
     ]
    },
    {
     "name": "stdout",
     "output_type": "stream",
     "text": [
      "\r",
      " [*********41%           ] Elapsed 0.33s / Remaining 00:00:00:00"
     ]
    },
    {
     "name": "stdout",
     "output_type": "stream",
     "text": [
      "\r",
      " [*********41%           ] Elapsed 0.33s / Remaining 00:00:00:00"
     ]
    },
    {
     "name": "stdout",
     "output_type": "stream",
     "text": [
      "\r",
      " [*********41%           ] Elapsed 0.33s / Remaining 00:00:00:00"
     ]
    },
    {
     "name": "stdout",
     "output_type": "stream",
     "text": [
      "\r",
      " [*********41%           ] Elapsed 0.33s / Remaining 00:00:00:00"
     ]
    },
    {
     "name": "stdout",
     "output_type": "stream",
     "text": [
      "\r",
      " [*********41%           ] Elapsed 0.34s / Remaining 00:00:00:00"
     ]
    },
    {
     "name": "stdout",
     "output_type": "stream",
     "text": [
      "\r",
      " [*********41%           ] Elapsed 0.34s / Remaining 00:00:00:00"
     ]
    },
    {
     "name": "stdout",
     "output_type": "stream",
     "text": [
      "\r",
      " [*********41%           ] Elapsed 0.34s / Remaining 00:00:00:00"
     ]
    },
    {
     "name": "stdout",
     "output_type": "stream",
     "text": [
      "\r",
      " [*********41%           ] Elapsed 0.34s / Remaining 00:00:00:00"
     ]
    },
    {
     "name": "stdout",
     "output_type": "stream",
     "text": [
      "\r",
      " [*********42%           ] Elapsed 0.34s / Remaining 00:00:00:00"
     ]
    },
    {
     "name": "stdout",
     "output_type": "stream",
     "text": [
      "\r",
      " [*********42%           ] Elapsed 0.34s / Remaining 00:00:00:00"
     ]
    },
    {
     "name": "stdout",
     "output_type": "stream",
     "text": [
      "\r",
      " [*********42%           ] Elapsed 0.34s / Remaining 00:00:00:00"
     ]
    },
    {
     "name": "stdout",
     "output_type": "stream",
     "text": [
      "\r",
      " [*********42%           ] Elapsed 0.34s / Remaining 00:00:00:00"
     ]
    },
    {
     "name": "stdout",
     "output_type": "stream",
     "text": [
      "\r",
      " [*********42%           ] Elapsed 0.34s / Remaining 00:00:00:00"
     ]
    },
    {
     "name": "stdout",
     "output_type": "stream",
     "text": [
      "\r",
      " [*********42%           ] Elapsed 0.34s / Remaining 00:00:00:00"
     ]
    },
    {
     "name": "stdout",
     "output_type": "stream",
     "text": [
      "\r",
      " [*********42%           ] Elapsed 0.34s / Remaining 00:00:00:00"
     ]
    },
    {
     "name": "stdout",
     "output_type": "stream",
     "text": [
      "\r",
      " [*********42%           ] Elapsed 0.35s / Remaining 00:00:00:00"
     ]
    },
    {
     "name": "stdout",
     "output_type": "stream",
     "text": [
      "\r",
      " [*********42%           ] Elapsed 0.35s / Remaining 00:00:00:00"
     ]
    },
    {
     "name": "stdout",
     "output_type": "stream",
     "text": [
      "\r",
      " [*********42%           ] Elapsed 0.35s / Remaining 00:00:00:00"
     ]
    },
    {
     "name": "stdout",
     "output_type": "stream",
     "text": [
      "\r",
      " [*********43%           ] Elapsed 0.35s / Remaining 00:00:00:00"
     ]
    },
    {
     "name": "stdout",
     "output_type": "stream",
     "text": [
      "\r",
      " [*********43%           ] Elapsed 0.35s / Remaining 00:00:00:00"
     ]
    },
    {
     "name": "stdout",
     "output_type": "stream",
     "text": [
      "\r",
      " [*********43%           ] Elapsed 0.35s / Remaining 00:00:00:00"
     ]
    },
    {
     "name": "stdout",
     "output_type": "stream",
     "text": [
      "\r",
      " [*********43%           ] Elapsed 0.35s / Remaining 00:00:00:00"
     ]
    },
    {
     "name": "stdout",
     "output_type": "stream",
     "text": [
      "\r",
      " [*********43%           ] Elapsed 0.35s / Remaining 00:00:00:00"
     ]
    },
    {
     "name": "stdout",
     "output_type": "stream",
     "text": [
      "\r",
      " [*********43%           ] Elapsed 0.35s / Remaining 00:00:00:00"
     ]
    },
    {
     "name": "stdout",
     "output_type": "stream",
     "text": [
      "\r",
      " [*********43%           ] Elapsed 0.35s / Remaining 00:00:00:00"
     ]
    },
    {
     "name": "stdout",
     "output_type": "stream",
     "text": [
      "\r",
      " [*********43%           ] Elapsed 0.35s / Remaining 00:00:00:00"
     ]
    },
    {
     "name": "stdout",
     "output_type": "stream",
     "text": [
      "\r",
      " [*********43%           ] Elapsed 0.35s / Remaining 00:00:00:00"
     ]
    },
    {
     "name": "stdout",
     "output_type": "stream",
     "text": [
      "\r",
      " [*********43%           ] Elapsed 0.36s / Remaining 00:00:00:00"
     ]
    },
    {
     "name": "stdout",
     "output_type": "stream",
     "text": [
      "\r",
      " [*********44%           ] Elapsed 0.36s / Remaining 00:00:00:00"
     ]
    },
    {
     "name": "stdout",
     "output_type": "stream",
     "text": [
      "\r",
      " [*********44%           ] Elapsed 0.36s / Remaining 00:00:00:00"
     ]
    },
    {
     "name": "stdout",
     "output_type": "stream",
     "text": [
      "\r",
      " [*********44%           ] Elapsed 0.36s / Remaining 00:00:00:00"
     ]
    },
    {
     "name": "stdout",
     "output_type": "stream",
     "text": [
      "\r",
      " [*********44%           ] Elapsed 0.36s / Remaining 00:00:00:00"
     ]
    },
    {
     "name": "stdout",
     "output_type": "stream",
     "text": [
      "\r",
      " [*********44%           ] Elapsed 0.36s / Remaining 00:00:00:00"
     ]
    },
    {
     "name": "stdout",
     "output_type": "stream",
     "text": [
      "\r",
      " [*********44%           ] Elapsed 0.36s / Remaining 00:00:00:00"
     ]
    },
    {
     "name": "stdout",
     "output_type": "stream",
     "text": [
      "\r",
      " [*********44%           ] Elapsed 0.36s / Remaining 00:00:00:00"
     ]
    },
    {
     "name": "stdout",
     "output_type": "stream",
     "text": [
      "\r",
      " [*********44%           ] Elapsed 0.36s / Remaining 00:00:00:00"
     ]
    },
    {
     "name": "stdout",
     "output_type": "stream",
     "text": [
      "\r",
      " [*********44%           ] Elapsed 0.36s / Remaining 00:00:00:00"
     ]
    },
    {
     "name": "stdout",
     "output_type": "stream",
     "text": [
      "\r",
      " [*********44%           ] Elapsed 0.36s / Remaining 00:00:00:00"
     ]
    },
    {
     "name": "stdout",
     "output_type": "stream",
     "text": [
      "\r",
      " [*********45%           ] Elapsed 0.36s / Remaining 00:00:00:00"
     ]
    },
    {
     "name": "stdout",
     "output_type": "stream",
     "text": [
      "\r",
      " [*********45%           ] Elapsed 0.36s / Remaining 00:00:00:00"
     ]
    },
    {
     "name": "stdout",
     "output_type": "stream",
     "text": [
      "\r",
      " [*********45%           ] Elapsed 0.37s / Remaining 00:00:00:00"
     ]
    },
    {
     "name": "stdout",
     "output_type": "stream",
     "text": [
      "\r",
      " [*********45%           ] Elapsed 0.37s / Remaining 00:00:00:00"
     ]
    },
    {
     "name": "stdout",
     "output_type": "stream",
     "text": [
      "\r",
      " [*********45%           ] Elapsed 0.37s / Remaining 00:00:00:00"
     ]
    },
    {
     "name": "stdout",
     "output_type": "stream",
     "text": [
      "\r",
      " [*********45%           ] Elapsed 0.37s / Remaining 00:00:00:00"
     ]
    },
    {
     "name": "stdout",
     "output_type": "stream",
     "text": [
      "\r",
      " [*********45%           ] Elapsed 0.37s / Remaining 00:00:00:00"
     ]
    },
    {
     "name": "stdout",
     "output_type": "stream",
     "text": [
      "\r",
      " [*********45%           ] Elapsed 0.37s / Remaining 00:00:00:00"
     ]
    },
    {
     "name": "stdout",
     "output_type": "stream",
     "text": [
      "\r",
      " [*********45%           ] Elapsed 0.37s / Remaining 00:00:00:00"
     ]
    },
    {
     "name": "stdout",
     "output_type": "stream",
     "text": [
      "\r",
      " [*********45%           ] Elapsed 0.37s / Remaining 00:00:00:00"
     ]
    },
    {
     "name": "stdout",
     "output_type": "stream",
     "text": [
      "\r",
      " [*********46%           ] Elapsed 0.37s / Remaining 00:00:00:00"
     ]
    },
    {
     "name": "stdout",
     "output_type": "stream",
     "text": [
      "\r",
      " [*********46%           ] Elapsed 0.37s / Remaining 00:00:00:00"
     ]
    },
    {
     "name": "stdout",
     "output_type": "stream",
     "text": [
      "\r",
      " [*********46%           ] Elapsed 0.37s / Remaining 00:00:00:00"
     ]
    },
    {
     "name": "stdout",
     "output_type": "stream",
     "text": [
      "\r",
      " [*********46%           ] Elapsed 0.37s / Remaining 00:00:00:00"
     ]
    },
    {
     "name": "stdout",
     "output_type": "stream",
     "text": [
      "\r",
      " [*********46%           ] Elapsed 0.38s / Remaining 00:00:00:00"
     ]
    },
    {
     "name": "stdout",
     "output_type": "stream",
     "text": [
      "\r",
      " [*********46%           ] Elapsed 0.38s / Remaining 00:00:00:00"
     ]
    },
    {
     "name": "stdout",
     "output_type": "stream",
     "text": [
      "\r",
      " [*********46%           ] Elapsed 0.38s / Remaining 00:00:00:00"
     ]
    },
    {
     "name": "stdout",
     "output_type": "stream",
     "text": [
      "\r",
      " [*********46%           ] Elapsed 0.38s / Remaining 00:00:00:00"
     ]
    },
    {
     "name": "stdout",
     "output_type": "stream",
     "text": [
      "\r",
      " [*********46%           ] Elapsed 0.38s / Remaining 00:00:00:00"
     ]
    },
    {
     "name": "stdout",
     "output_type": "stream",
     "text": [
      "\r",
      " [*********46%           ] Elapsed 0.38s / Remaining 00:00:00:00"
     ]
    },
    {
     "name": "stdout",
     "output_type": "stream",
     "text": [
      "\r",
      " [*********47%           ] Elapsed 0.38s / Remaining 00:00:00:00"
     ]
    },
    {
     "name": "stdout",
     "output_type": "stream",
     "text": [
      "\r",
      " [*********47%           ] Elapsed 0.38s / Remaining 00:00:00:00"
     ]
    },
    {
     "name": "stdout",
     "output_type": "stream",
     "text": [
      "\r",
      " [*********47%           ] Elapsed 0.38s / Remaining 00:00:00:00"
     ]
    },
    {
     "name": "stdout",
     "output_type": "stream",
     "text": [
      "\r",
      " [*********47%           ] Elapsed 0.38s / Remaining 00:00:00:00"
     ]
    },
    {
     "name": "stdout",
     "output_type": "stream",
     "text": [
      "\r",
      " [*********47%           ] Elapsed 0.38s / Remaining 00:00:00:00"
     ]
    },
    {
     "name": "stdout",
     "output_type": "stream",
     "text": [
      "\r",
      " [*********47%           ] Elapsed 0.38s / Remaining 00:00:00:00"
     ]
    },
    {
     "name": "stdout",
     "output_type": "stream",
     "text": [
      "\r",
      " [*********47%           ] Elapsed 0.39s / Remaining 00:00:00:00"
     ]
    },
    {
     "name": "stdout",
     "output_type": "stream",
     "text": [
      "\r",
      " [*********47%           ] Elapsed 0.39s / Remaining 00:00:00:00"
     ]
    },
    {
     "name": "stdout",
     "output_type": "stream",
     "text": [
      "\r",
      " [*********47%           ] Elapsed 0.39s / Remaining 00:00:00:00"
     ]
    },
    {
     "name": "stdout",
     "output_type": "stream",
     "text": [
      "\r",
      " [*********47%           ] Elapsed 0.39s / Remaining 00:00:00:00"
     ]
    },
    {
     "name": "stdout",
     "output_type": "stream",
     "text": [
      "\r",
      " [*********48%           ] Elapsed 0.39s / Remaining 00:00:00:00"
     ]
    },
    {
     "name": "stdout",
     "output_type": "stream",
     "text": [
      "\r",
      " [*********48%           ] Elapsed 0.39s / Remaining 00:00:00:00"
     ]
    },
    {
     "name": "stdout",
     "output_type": "stream",
     "text": [
      "\r",
      " [*********48%           ] Elapsed 0.39s / Remaining 00:00:00:00"
     ]
    },
    {
     "name": "stdout",
     "output_type": "stream",
     "text": [
      "\r",
      " [*********48%           ] Elapsed 0.39s / Remaining 00:00:00:00"
     ]
    },
    {
     "name": "stdout",
     "output_type": "stream",
     "text": [
      "\r",
      " [*********48%           ] Elapsed 0.39s / Remaining 00:00:00:00"
     ]
    },
    {
     "name": "stdout",
     "output_type": "stream",
     "text": [
      "\r",
      " [*********48%           ] Elapsed 0.39s / Remaining 00:00:00:00"
     ]
    },
    {
     "name": "stdout",
     "output_type": "stream",
     "text": [
      "\r",
      " [*********48%           ] Elapsed 0.39s / Remaining 00:00:00:00"
     ]
    },
    {
     "name": "stdout",
     "output_type": "stream",
     "text": [
      "\r",
      " [*********48%           ] Elapsed 0.39s / Remaining 00:00:00:00"
     ]
    },
    {
     "name": "stdout",
     "output_type": "stream",
     "text": [
      "\r",
      " [*********48%           ] Elapsed 0.39s / Remaining 00:00:00:00"
     ]
    },
    {
     "name": "stdout",
     "output_type": "stream",
     "text": [
      "\r",
      " [*********48%           ] Elapsed 0.40s / Remaining 00:00:00:00"
     ]
    },
    {
     "name": "stdout",
     "output_type": "stream",
     "text": [
      "\r",
      " [*********49%           ] Elapsed 0.40s / Remaining 00:00:00:00"
     ]
    },
    {
     "name": "stdout",
     "output_type": "stream",
     "text": [
      "\r",
      " [*********49%           ] Elapsed 0.40s / Remaining 00:00:00:00"
     ]
    },
    {
     "name": "stdout",
     "output_type": "stream",
     "text": [
      "\r",
      " [*********49%           ] Elapsed 0.40s / Remaining 00:00:00:00"
     ]
    },
    {
     "name": "stdout",
     "output_type": "stream",
     "text": [
      "\r",
      " [*********49%           ] Elapsed 0.40s / Remaining 00:00:00:00"
     ]
    },
    {
     "name": "stdout",
     "output_type": "stream",
     "text": [
      "\r",
      " [*********49%           ] Elapsed 0.40s / Remaining 00:00:00:00"
     ]
    },
    {
     "name": "stdout",
     "output_type": "stream",
     "text": [
      "\r",
      " [*********49%           ] Elapsed 0.40s / Remaining 00:00:00:00"
     ]
    },
    {
     "name": "stdout",
     "output_type": "stream",
     "text": [
      "\r",
      " [*********49%           ] Elapsed 0.40s / Remaining 00:00:00:00"
     ]
    },
    {
     "name": "stdout",
     "output_type": "stream",
     "text": [
      "\r",
      " [*********49%           ] Elapsed 0.40s / Remaining 00:00:00:00"
     ]
    },
    {
     "name": "stdout",
     "output_type": "stream",
     "text": [
      "\r",
      " [*********49%           ] Elapsed 0.40s / Remaining 00:00:00:00"
     ]
    },
    {
     "name": "stdout",
     "output_type": "stream",
     "text": [
      "\r",
      " [*********49%           ] Elapsed 0.40s / Remaining 00:00:00:00"
     ]
    },
    {
     "name": "stdout",
     "output_type": "stream",
     "text": [
      "\r",
      " [*********50%           ] Elapsed 0.40s / Remaining 00:00:00:00"
     ]
    },
    {
     "name": "stdout",
     "output_type": "stream",
     "text": [
      "\r",
      " [*********50%           ] Elapsed 0.41s / Remaining 00:00:00:00"
     ]
    },
    {
     "name": "stdout",
     "output_type": "stream",
     "text": [
      "\r",
      " [*********50%           ] Elapsed 0.41s / Remaining 00:00:00:00"
     ]
    },
    {
     "name": "stdout",
     "output_type": "stream",
     "text": [
      "\r",
      " [*********50%           ] Elapsed 0.41s / Remaining 00:00:00:00"
     ]
    },
    {
     "name": "stdout",
     "output_type": "stream",
     "text": [
      "\r",
      " [*********50%           ] Elapsed 0.41s / Remaining 00:00:00:00"
     ]
    },
    {
     "name": "stdout",
     "output_type": "stream",
     "text": [
      "\r",
      " [*********50%           ] Elapsed 0.41s / Remaining 00:00:00:00"
     ]
    },
    {
     "name": "stdout",
     "output_type": "stream",
     "text": [
      "\r",
      " [*********50%           ] Elapsed 0.41s / Remaining 00:00:00:00"
     ]
    },
    {
     "name": "stdout",
     "output_type": "stream",
     "text": [
      "\r",
      " [*********50%           ] Elapsed 0.41s / Remaining 00:00:00:00"
     ]
    },
    {
     "name": "stdout",
     "output_type": "stream",
     "text": [
      "\r",
      " [*********50%           ] Elapsed 0.41s / Remaining 00:00:00:00"
     ]
    },
    {
     "name": "stdout",
     "output_type": "stream",
     "text": [
      "\r",
      " [*********50%           ] Elapsed 0.41s / Remaining 00:00:00:00"
     ]
    },
    {
     "name": "stdout",
     "output_type": "stream",
     "text": [
      "\r",
      " [*********51%           ] Elapsed 0.41s / Remaining 00:00:00:00"
     ]
    },
    {
     "name": "stdout",
     "output_type": "stream",
     "text": [
      "\r",
      " [*********51%           ] Elapsed 0.41s / Remaining 00:00:00:00"
     ]
    },
    {
     "name": "stdout",
     "output_type": "stream",
     "text": [
      "\r",
      " [*********51%           ] Elapsed 0.41s / Remaining 00:00:00:00"
     ]
    },
    {
     "name": "stdout",
     "output_type": "stream",
     "text": [
      "\r",
      " [*********51%           ] Elapsed 0.41s / Remaining 00:00:00:00"
     ]
    },
    {
     "name": "stdout",
     "output_type": "stream",
     "text": [
      "\r",
      " [*********51%           ] Elapsed 0.42s / Remaining 00:00:00:00"
     ]
    },
    {
     "name": "stdout",
     "output_type": "stream",
     "text": [
      "\r",
      " [*********51%           ] Elapsed 0.42s / Remaining 00:00:00:00"
     ]
    },
    {
     "name": "stdout",
     "output_type": "stream",
     "text": [
      "\r",
      " [*********51%           ] Elapsed 0.42s / Remaining 00:00:00:00"
     ]
    },
    {
     "name": "stdout",
     "output_type": "stream",
     "text": [
      "\r",
      " [*********51%           ] Elapsed 0.42s / Remaining 00:00:00:00"
     ]
    },
    {
     "name": "stdout",
     "output_type": "stream",
     "text": [
      "\r",
      " [*********51%           ] Elapsed 0.42s / Remaining 00:00:00:00"
     ]
    },
    {
     "name": "stdout",
     "output_type": "stream",
     "text": [
      "\r",
      " [*********51%           ] Elapsed 0.42s / Remaining 00:00:00:00"
     ]
    },
    {
     "name": "stdout",
     "output_type": "stream",
     "text": [
      "\r",
      " [*********52%           ] Elapsed 0.42s / Remaining 00:00:00:00"
     ]
    },
    {
     "name": "stdout",
     "output_type": "stream",
     "text": [
      "\r",
      " [*********52%           ] Elapsed 0.42s / Remaining 00:00:00:00"
     ]
    },
    {
     "name": "stdout",
     "output_type": "stream",
     "text": [
      "\r",
      " [*********52%           ] Elapsed 0.42s / Remaining 00:00:00:00"
     ]
    },
    {
     "name": "stdout",
     "output_type": "stream",
     "text": [
      "\r",
      " [*********52%           ] Elapsed 0.42s / Remaining 00:00:00:00"
     ]
    },
    {
     "name": "stdout",
     "output_type": "stream",
     "text": [
      "\r",
      " [*********52%           ] Elapsed 0.42s / Remaining 00:00:00:00"
     ]
    },
    {
     "name": "stdout",
     "output_type": "stream",
     "text": [
      "\r",
      " [*********52%           ] Elapsed 0.43s / Remaining 00:00:00:00"
     ]
    },
    {
     "name": "stdout",
     "output_type": "stream",
     "text": [
      "\r",
      " [*********52%           ] Elapsed 0.43s / Remaining 00:00:00:00"
     ]
    },
    {
     "name": "stdout",
     "output_type": "stream",
     "text": [
      "\r",
      " [*********52%           ] Elapsed 0.43s / Remaining 00:00:00:00"
     ]
    },
    {
     "name": "stdout",
     "output_type": "stream",
     "text": [
      "\r",
      " [*********52%           ] Elapsed 0.43s / Remaining 00:00:00:00"
     ]
    },
    {
     "name": "stdout",
     "output_type": "stream",
     "text": [
      "\r",
      " [*********52%           ] Elapsed 0.43s / Remaining 00:00:00:00"
     ]
    },
    {
     "name": "stdout",
     "output_type": "stream",
     "text": [
      "\r",
      " [*********53%           ] Elapsed 0.43s / Remaining 00:00:00:00"
     ]
    },
    {
     "name": "stdout",
     "output_type": "stream",
     "text": [
      "\r",
      " [*********53%           ] Elapsed 0.43s / Remaining 00:00:00:00"
     ]
    },
    {
     "name": "stdout",
     "output_type": "stream",
     "text": [
      "\r",
      " [*********53%           ] Elapsed 0.43s / Remaining 00:00:00:00"
     ]
    },
    {
     "name": "stdout",
     "output_type": "stream",
     "text": [
      "\r",
      " [*********53%           ] Elapsed 0.43s / Remaining 00:00:00:00"
     ]
    },
    {
     "name": "stdout",
     "output_type": "stream",
     "text": [
      "\r",
      " [*********53%           ] Elapsed 0.43s / Remaining 00:00:00:00"
     ]
    },
    {
     "name": "stdout",
     "output_type": "stream",
     "text": [
      "\r",
      " [*********53%           ] Elapsed 0.43s / Remaining 00:00:00:00"
     ]
    },
    {
     "name": "stdout",
     "output_type": "stream",
     "text": [
      "\r",
      " [*********53%           ] Elapsed 0.43s / Remaining 00:00:00:00"
     ]
    },
    {
     "name": "stdout",
     "output_type": "stream",
     "text": [
      "\r",
      " [*********53%           ] Elapsed 0.43s / Remaining 00:00:00:00"
     ]
    },
    {
     "name": "stdout",
     "output_type": "stream",
     "text": [
      "\r",
      " [*********53%           ] Elapsed 0.44s / Remaining 00:00:00:00"
     ]
    },
    {
     "name": "stdout",
     "output_type": "stream",
     "text": [
      "\r",
      " [*********53%           ] Elapsed 0.44s / Remaining 00:00:00:00"
     ]
    },
    {
     "name": "stdout",
     "output_type": "stream",
     "text": [
      "\r",
      " [*********54%           ] Elapsed 0.44s / Remaining 00:00:00:00"
     ]
    },
    {
     "name": "stdout",
     "output_type": "stream",
     "text": [
      "\r",
      " [*********54%           ] Elapsed 0.44s / Remaining 00:00:00:00"
     ]
    },
    {
     "name": "stdout",
     "output_type": "stream",
     "text": [
      "\r",
      " [*********54%           ] Elapsed 0.44s / Remaining 00:00:00:00"
     ]
    },
    {
     "name": "stdout",
     "output_type": "stream",
     "text": [
      "\r",
      " [*********54%           ] Elapsed 0.44s / Remaining 00:00:00:00"
     ]
    },
    {
     "name": "stdout",
     "output_type": "stream",
     "text": [
      "\r",
      " [*********54%           ] Elapsed 0.44s / Remaining 00:00:00:00"
     ]
    },
    {
     "name": "stdout",
     "output_type": "stream",
     "text": [
      "\r",
      " [*********54%           ] Elapsed 0.44s / Remaining 00:00:00:00"
     ]
    },
    {
     "name": "stdout",
     "output_type": "stream",
     "text": [
      "\r",
      " [*********54%           ] Elapsed 0.44s / Remaining 00:00:00:00"
     ]
    },
    {
     "name": "stdout",
     "output_type": "stream",
     "text": [
      "\r",
      " [*********54%           ] Elapsed 0.44s / Remaining 00:00:00:00"
     ]
    },
    {
     "name": "stdout",
     "output_type": "stream",
     "text": [
      "\r",
      " [*********54%           ] Elapsed 0.44s / Remaining 00:00:00:00"
     ]
    },
    {
     "name": "stdout",
     "output_type": "stream",
     "text": [
      "\r",
      " [*********54%           ] Elapsed 0.44s / Remaining 00:00:00:00"
     ]
    },
    {
     "name": "stdout",
     "output_type": "stream",
     "text": [
      "\r",
      " [*********55%*          ] Elapsed 0.45s / Remaining 00:00:00:00"
     ]
    },
    {
     "name": "stdout",
     "output_type": "stream",
     "text": [
      "\r",
      " [*********55%*          ] Elapsed 0.45s / Remaining 00:00:00:00"
     ]
    },
    {
     "name": "stdout",
     "output_type": "stream",
     "text": [
      "\r",
      " [*********55%*          ] Elapsed 0.45s / Remaining 00:00:00:00"
     ]
    },
    {
     "name": "stdout",
     "output_type": "stream",
     "text": [
      "\r",
      " [*********55%*          ] Elapsed 0.45s / Remaining 00:00:00:00"
     ]
    },
    {
     "name": "stdout",
     "output_type": "stream",
     "text": [
      "\r",
      " [*********55%*          ] Elapsed 0.45s / Remaining 00:00:00:00"
     ]
    },
    {
     "name": "stdout",
     "output_type": "stream",
     "text": [
      "\r",
      " [*********55%*          ] Elapsed 0.45s / Remaining 00:00:00:00"
     ]
    },
    {
     "name": "stdout",
     "output_type": "stream",
     "text": [
      "\r",
      " [*********55%*          ] Elapsed 0.45s / Remaining 00:00:00:00"
     ]
    },
    {
     "name": "stdout",
     "output_type": "stream",
     "text": [
      "\r",
      " [*********55%*          ] Elapsed 0.45s / Remaining 00:00:00:00"
     ]
    },
    {
     "name": "stdout",
     "output_type": "stream",
     "text": [
      "\r",
      " [*********55%*          ] Elapsed 0.45s / Remaining 00:00:00:00"
     ]
    },
    {
     "name": "stdout",
     "output_type": "stream",
     "text": [
      "\r",
      " [*********55%*          ] Elapsed 0.45s / Remaining 00:00:00:00"
     ]
    },
    {
     "name": "stdout",
     "output_type": "stream",
     "text": [
      "\r",
      " [*********56%*          ] Elapsed 0.45s / Remaining 00:00:00:00"
     ]
    },
    {
     "name": "stdout",
     "output_type": "stream",
     "text": [
      "\r",
      " [*********56%*          ] Elapsed 0.45s / Remaining 00:00:00:00"
     ]
    },
    {
     "name": "stdout",
     "output_type": "stream",
     "text": [
      "\r",
      " [*********56%*          ] Elapsed 0.46s / Remaining 00:00:00:00"
     ]
    },
    {
     "name": "stdout",
     "output_type": "stream",
     "text": [
      "\r",
      " [*********56%*          ] Elapsed 0.46s / Remaining 00:00:00:00"
     ]
    },
    {
     "name": "stdout",
     "output_type": "stream",
     "text": [
      "\r",
      " [*********56%*          ] Elapsed 0.46s / Remaining 00:00:00:00"
     ]
    },
    {
     "name": "stdout",
     "output_type": "stream",
     "text": [
      "\r",
      " [*********56%*          ] Elapsed 0.46s / Remaining 00:00:00:00"
     ]
    },
    {
     "name": "stdout",
     "output_type": "stream",
     "text": [
      "\r",
      " [*********56%*          ] Elapsed 0.46s / Remaining 00:00:00:00"
     ]
    },
    {
     "name": "stdout",
     "output_type": "stream",
     "text": [
      "\r",
      " [*********56%*          ] Elapsed 0.46s / Remaining 00:00:00:00"
     ]
    },
    {
     "name": "stdout",
     "output_type": "stream",
     "text": [
      "\r",
      " [*********56%*          ] Elapsed 0.46s / Remaining 00:00:00:00"
     ]
    },
    {
     "name": "stdout",
     "output_type": "stream",
     "text": [
      "\r",
      " [*********56%*          ] Elapsed 0.46s / Remaining 00:00:00:00"
     ]
    },
    {
     "name": "stdout",
     "output_type": "stream",
     "text": [
      "\r",
      " [*********57%*          ] Elapsed 0.46s / Remaining 00:00:00:00"
     ]
    },
    {
     "name": "stdout",
     "output_type": "stream",
     "text": [
      "\r",
      " [*********57%*          ] Elapsed 0.46s / Remaining 00:00:00:00"
     ]
    },
    {
     "name": "stdout",
     "output_type": "stream",
     "text": [
      "\r",
      " [*********57%*          ] Elapsed 0.46s / Remaining 00:00:00:00"
     ]
    },
    {
     "name": "stdout",
     "output_type": "stream",
     "text": [
      "\r",
      " [*********57%*          ] Elapsed 0.46s / Remaining 00:00:00:00"
     ]
    },
    {
     "name": "stdout",
     "output_type": "stream",
     "text": [
      "\r",
      " [*********57%*          ] Elapsed 0.47s / Remaining 00:00:00:00"
     ]
    },
    {
     "name": "stdout",
     "output_type": "stream",
     "text": [
      "\r",
      " [*********57%*          ] Elapsed 0.47s / Remaining 00:00:00:00"
     ]
    },
    {
     "name": "stdout",
     "output_type": "stream",
     "text": [
      "\r",
      " [*********57%*          ] Elapsed 0.47s / Remaining 00:00:00:00"
     ]
    },
    {
     "name": "stdout",
     "output_type": "stream",
     "text": [
      "\r",
      " [*********57%*          ] Elapsed 0.47s / Remaining 00:00:00:00"
     ]
    },
    {
     "name": "stdout",
     "output_type": "stream",
     "text": [
      "\r",
      " [*********57%*          ] Elapsed 0.47s / Remaining 00:00:00:00"
     ]
    },
    {
     "name": "stdout",
     "output_type": "stream",
     "text": [
      "\r",
      " [*********57%*          ] Elapsed 0.47s / Remaining 00:00:00:00"
     ]
    },
    {
     "name": "stdout",
     "output_type": "stream",
     "text": [
      "\r",
      " [*********58%*          ] Elapsed 0.47s / Remaining 00:00:00:00"
     ]
    },
    {
     "name": "stdout",
     "output_type": "stream",
     "text": [
      "\r",
      " [*********58%*          ] Elapsed 0.47s / Remaining 00:00:00:00"
     ]
    },
    {
     "name": "stdout",
     "output_type": "stream",
     "text": [
      "\r",
      " [*********58%*          ] Elapsed 0.47s / Remaining 00:00:00:00"
     ]
    },
    {
     "name": "stdout",
     "output_type": "stream",
     "text": [
      "\r",
      " [*********58%*          ] Elapsed 0.47s / Remaining 00:00:00:00"
     ]
    },
    {
     "name": "stdout",
     "output_type": "stream",
     "text": [
      "\r",
      " [*********58%*          ] Elapsed 0.47s / Remaining 00:00:00:00"
     ]
    },
    {
     "name": "stdout",
     "output_type": "stream",
     "text": [
      "\r",
      " [*********58%*          ] Elapsed 0.47s / Remaining 00:00:00:00"
     ]
    },
    {
     "name": "stdout",
     "output_type": "stream",
     "text": [
      "\r",
      " [*********58%*          ] Elapsed 0.47s / Remaining 00:00:00:00"
     ]
    },
    {
     "name": "stdout",
     "output_type": "stream",
     "text": [
      "\r",
      " [*********58%*          ] Elapsed 0.48s / Remaining 00:00:00:00"
     ]
    },
    {
     "name": "stdout",
     "output_type": "stream",
     "text": [
      "\r",
      " [*********58%*          ] Elapsed 0.48s / Remaining 00:00:00:00"
     ]
    },
    {
     "name": "stdout",
     "output_type": "stream",
     "text": [
      "\r",
      " [*********58%*          ] Elapsed 0.48s / Remaining 00:00:00:00"
     ]
    },
    {
     "name": "stdout",
     "output_type": "stream",
     "text": [
      "\r",
      " [*********59%**         ] Elapsed 0.48s / Remaining 00:00:00:00"
     ]
    },
    {
     "name": "stdout",
     "output_type": "stream",
     "text": [
      "\r",
      " [*********59%**         ] Elapsed 0.48s / Remaining 00:00:00:00"
     ]
    },
    {
     "name": "stdout",
     "output_type": "stream",
     "text": [
      "\r",
      " [*********59%**         ] Elapsed 0.48s / Remaining 00:00:00:00"
     ]
    },
    {
     "name": "stdout",
     "output_type": "stream",
     "text": [
      "\r",
      " [*********59%**         ] Elapsed 0.48s / Remaining 00:00:00:00"
     ]
    },
    {
     "name": "stdout",
     "output_type": "stream",
     "text": [
      "\r",
      " [*********59%**         ] Elapsed 0.48s / Remaining 00:00:00:00"
     ]
    },
    {
     "name": "stdout",
     "output_type": "stream",
     "text": [
      "\r",
      " [*********59%**         ] Elapsed 0.48s / Remaining 00:00:00:00"
     ]
    },
    {
     "name": "stdout",
     "output_type": "stream",
     "text": [
      "\r",
      " [*********59%**         ] Elapsed 0.48s / Remaining 00:00:00:00"
     ]
    },
    {
     "name": "stdout",
     "output_type": "stream",
     "text": [
      "\r",
      " [*********59%**         ] Elapsed 0.48s / Remaining 00:00:00:00"
     ]
    },
    {
     "name": "stdout",
     "output_type": "stream",
     "text": [
      "\r",
      " [*********59%**         ] Elapsed 0.48s / Remaining 00:00:00:00"
     ]
    },
    {
     "name": "stdout",
     "output_type": "stream",
     "text": [
      "\r",
      " [*********59%**         ] Elapsed 0.49s / Remaining 00:00:00:00"
     ]
    },
    {
     "name": "stdout",
     "output_type": "stream",
     "text": [
      "\r",
      " [*********60%**         ] Elapsed 0.49s / Remaining 00:00:00:00"
     ]
    },
    {
     "name": "stdout",
     "output_type": "stream",
     "text": [
      "\r",
      " [*********60%**         ] Elapsed 0.49s / Remaining 00:00:00:00"
     ]
    },
    {
     "name": "stdout",
     "output_type": "stream",
     "text": [
      "\r",
      " [*********60%**         ] Elapsed 0.49s / Remaining 00:00:00:00"
     ]
    },
    {
     "name": "stdout",
     "output_type": "stream",
     "text": [
      "\r",
      " [*********60%**         ] Elapsed 0.49s / Remaining 00:00:00:00"
     ]
    },
    {
     "name": "stdout",
     "output_type": "stream",
     "text": [
      "\r",
      " [*********60%**         ] Elapsed 0.49s / Remaining 00:00:00:00"
     ]
    },
    {
     "name": "stdout",
     "output_type": "stream",
     "text": [
      "\r",
      " [*********60%**         ] Elapsed 0.49s / Remaining 00:00:00:00"
     ]
    },
    {
     "name": "stdout",
     "output_type": "stream",
     "text": [
      "\r",
      " [*********60%**         ] Elapsed 0.49s / Remaining 00:00:00:00"
     ]
    },
    {
     "name": "stdout",
     "output_type": "stream",
     "text": [
      "\r",
      " [*********60%**         ] Elapsed 0.49s / Remaining 00:00:00:00"
     ]
    },
    {
     "name": "stdout",
     "output_type": "stream",
     "text": [
      "\r",
      " [*********60%**         ] Elapsed 0.49s / Remaining 00:00:00:00"
     ]
    },
    {
     "name": "stdout",
     "output_type": "stream",
     "text": [
      "\r",
      " [*********60%**         ] Elapsed 0.49s / Remaining 00:00:00:00"
     ]
    },
    {
     "name": "stdout",
     "output_type": "stream",
     "text": [
      "\r",
      " [*********61%**         ] Elapsed 0.49s / Remaining 00:00:00:00"
     ]
    },
    {
     "name": "stdout",
     "output_type": "stream",
     "text": [
      "\r",
      " [*********61%**         ] Elapsed 0.50s / Remaining 00:00:00:00"
     ]
    },
    {
     "name": "stdout",
     "output_type": "stream",
     "text": [
      "\r",
      " [*********61%**         ] Elapsed 0.50s / Remaining 00:00:00:00"
     ]
    },
    {
     "name": "stdout",
     "output_type": "stream",
     "text": [
      "\r",
      " [*********61%**         ] Elapsed 0.50s / Remaining 00:00:00:00"
     ]
    },
    {
     "name": "stdout",
     "output_type": "stream",
     "text": [
      "\r",
      " [*********61%**         ] Elapsed 0.50s / Remaining 00:00:00:00"
     ]
    },
    {
     "name": "stdout",
     "output_type": "stream",
     "text": [
      "\r",
      " [*********61%**         ] Elapsed 0.50s / Remaining 00:00:00:00"
     ]
    },
    {
     "name": "stdout",
     "output_type": "stream",
     "text": [
      "\r",
      " [*********61%**         ] Elapsed 0.50s / Remaining 00:00:00:00"
     ]
    },
    {
     "name": "stdout",
     "output_type": "stream",
     "text": [
      "\r",
      " [*********61%**         ] Elapsed 0.50s / Remaining 00:00:00:00"
     ]
    },
    {
     "name": "stdout",
     "output_type": "stream",
     "text": [
      "\r",
      " [*********61%**         ] Elapsed 0.50s / Remaining 00:00:00:00"
     ]
    },
    {
     "name": "stdout",
     "output_type": "stream",
     "text": [
      "\r",
      " [*********61%**         ] Elapsed 0.50s / Remaining 00:00:00:00"
     ]
    },
    {
     "name": "stdout",
     "output_type": "stream",
     "text": [
      "\r",
      " [*********62%**         ] Elapsed 0.50s / Remaining 00:00:00:00"
     ]
    },
    {
     "name": "stdout",
     "output_type": "stream",
     "text": [
      "\r",
      " [*********62%**         ] Elapsed 0.50s / Remaining 00:00:00:00"
     ]
    },
    {
     "name": "stdout",
     "output_type": "stream",
     "text": [
      "\r",
      " [*********62%**         ] Elapsed 0.50s / Remaining 00:00:00:00"
     ]
    },
    {
     "name": "stdout",
     "output_type": "stream",
     "text": [
      "\r",
      " [*********62%**         ] Elapsed 0.51s / Remaining 00:00:00:00"
     ]
    },
    {
     "name": "stdout",
     "output_type": "stream",
     "text": [
      "\r",
      " [*********62%**         ] Elapsed 0.51s / Remaining 00:00:00:00"
     ]
    },
    {
     "name": "stdout",
     "output_type": "stream",
     "text": [
      "\r",
      " [*********62%**         ] Elapsed 0.51s / Remaining 00:00:00:00"
     ]
    },
    {
     "name": "stdout",
     "output_type": "stream",
     "text": [
      "\r",
      " [*********62%**         ] Elapsed 0.51s / Remaining 00:00:00:00"
     ]
    },
    {
     "name": "stdout",
     "output_type": "stream",
     "text": [
      "\r",
      " [*********62%**         ] Elapsed 0.51s / Remaining 00:00:00:00"
     ]
    },
    {
     "name": "stdout",
     "output_type": "stream",
     "text": [
      "\r",
      " [*********62%**         ] Elapsed 0.51s / Remaining 00:00:00:00"
     ]
    },
    {
     "name": "stdout",
     "output_type": "stream",
     "text": [
      "\r",
      " [*********62%**         ] Elapsed 0.51s / Remaining 00:00:00:00"
     ]
    },
    {
     "name": "stdout",
     "output_type": "stream",
     "text": [
      "\r",
      " [*********63%**         ] Elapsed 0.51s / Remaining 00:00:00:00"
     ]
    },
    {
     "name": "stdout",
     "output_type": "stream",
     "text": [
      "\r",
      " [*********63%**         ] Elapsed 0.51s / Remaining 00:00:00:00"
     ]
    },
    {
     "name": "stdout",
     "output_type": "stream",
     "text": [
      "\r",
      " [*********63%**         ] Elapsed 0.51s / Remaining 00:00:00:00"
     ]
    },
    {
     "name": "stdout",
     "output_type": "stream",
     "text": [
      "\r",
      " [*********63%**         ] Elapsed 0.51s / Remaining 00:00:00:00"
     ]
    },
    {
     "name": "stdout",
     "output_type": "stream",
     "text": [
      "\r",
      " [*********63%**         ] Elapsed 0.51s / Remaining 00:00:00:00"
     ]
    },
    {
     "name": "stdout",
     "output_type": "stream",
     "text": [
      "\r",
      " [*********63%**         ] Elapsed 0.51s / Remaining 00:00:00:00"
     ]
    },
    {
     "name": "stdout",
     "output_type": "stream",
     "text": [
      "\r",
      " [*********63%**         ] Elapsed 0.52s / Remaining 00:00:00:00"
     ]
    },
    {
     "name": "stdout",
     "output_type": "stream",
     "text": [
      "\r",
      " [*********63%**         ] Elapsed 0.52s / Remaining 00:00:00:00"
     ]
    },
    {
     "name": "stdout",
     "output_type": "stream",
     "text": [
      "\r",
      " [*********63%**         ] Elapsed 0.52s / Remaining 00:00:00:00"
     ]
    },
    {
     "name": "stdout",
     "output_type": "stream",
     "text": [
      "\r",
      " [*********63%**         ] Elapsed 0.52s / Remaining 00:00:00:00"
     ]
    },
    {
     "name": "stdout",
     "output_type": "stream",
     "text": [
      "\r",
      " [*********64%***        ] Elapsed 0.52s / Remaining 00:00:00:00"
     ]
    },
    {
     "name": "stdout",
     "output_type": "stream",
     "text": [
      "\r",
      " [*********64%***        ] Elapsed 0.52s / Remaining 00:00:00:00"
     ]
    },
    {
     "name": "stdout",
     "output_type": "stream",
     "text": [
      "\r",
      " [*********64%***        ] Elapsed 0.52s / Remaining 00:00:00:00"
     ]
    },
    {
     "name": "stdout",
     "output_type": "stream",
     "text": [
      "\r",
      " [*********64%***        ] Elapsed 0.52s / Remaining 00:00:00:00"
     ]
    },
    {
     "name": "stdout",
     "output_type": "stream",
     "text": [
      "\r",
      " [*********64%***        ] Elapsed 0.52s / Remaining 00:00:00:00"
     ]
    },
    {
     "name": "stdout",
     "output_type": "stream",
     "text": [
      "\r",
      " [*********64%***        ] Elapsed 0.52s / Remaining 00:00:00:00"
     ]
    },
    {
     "name": "stdout",
     "output_type": "stream",
     "text": [
      "\r",
      " [*********64%***        ] Elapsed 0.52s / Remaining 00:00:00:00"
     ]
    },
    {
     "name": "stdout",
     "output_type": "stream",
     "text": [
      "\r",
      " [*********64%***        ] Elapsed 0.53s / Remaining 00:00:00:00"
     ]
    },
    {
     "name": "stdout",
     "output_type": "stream",
     "text": [
      "\r",
      " [*********64%***        ] Elapsed 0.53s / Remaining 00:00:00:00"
     ]
    },
    {
     "name": "stdout",
     "output_type": "stream",
     "text": [
      "\r",
      " [*********64%***        ] Elapsed 0.53s / Remaining 00:00:00:00"
     ]
    },
    {
     "name": "stdout",
     "output_type": "stream",
     "text": [
      "\r",
      " [*********65%***        ] Elapsed 0.53s / Remaining 00:00:00:00"
     ]
    },
    {
     "name": "stdout",
     "output_type": "stream",
     "text": [
      "\r",
      " [*********65%***        ] Elapsed 0.53s / Remaining 00:00:00:00"
     ]
    },
    {
     "name": "stdout",
     "output_type": "stream",
     "text": [
      "\r",
      " [*********65%***        ] Elapsed 0.53s / Remaining 00:00:00:00"
     ]
    },
    {
     "name": "stdout",
     "output_type": "stream",
     "text": [
      "\r",
      " [*********65%***        ] Elapsed 0.53s / Remaining 00:00:00:00"
     ]
    },
    {
     "name": "stdout",
     "output_type": "stream",
     "text": [
      "\r",
      " [*********65%***        ] Elapsed 0.53s / Remaining 00:00:00:00"
     ]
    },
    {
     "name": "stdout",
     "output_type": "stream",
     "text": [
      "\r",
      " [*********65%***        ] Elapsed 0.53s / Remaining 00:00:00:00"
     ]
    },
    {
     "name": "stdout",
     "output_type": "stream",
     "text": [
      "\r",
      " [*********65%***        ] Elapsed 0.53s / Remaining 00:00:00:00"
     ]
    },
    {
     "name": "stdout",
     "output_type": "stream",
     "text": [
      "\r",
      " [*********65%***        ] Elapsed 0.53s / Remaining 00:00:00:00"
     ]
    },
    {
     "name": "stdout",
     "output_type": "stream",
     "text": [
      "\r",
      " [*********65%***        ] Elapsed 0.53s / Remaining 00:00:00:00"
     ]
    },
    {
     "name": "stdout",
     "output_type": "stream",
     "text": [
      "\r",
      " [*********65%***        ] Elapsed 0.53s / Remaining 00:00:00:00"
     ]
    },
    {
     "name": "stdout",
     "output_type": "stream",
     "text": [
      "\r",
      " [*********66%***        ] Elapsed 0.53s / Remaining 00:00:00:00"
     ]
    },
    {
     "name": "stdout",
     "output_type": "stream",
     "text": [
      "\r",
      " [*********66%***        ] Elapsed 0.54s / Remaining 00:00:00:00"
     ]
    },
    {
     "name": "stdout",
     "output_type": "stream",
     "text": [
      "\r",
      " [*********66%***        ] Elapsed 0.54s / Remaining 00:00:00:00"
     ]
    },
    {
     "name": "stdout",
     "output_type": "stream",
     "text": [
      "\r",
      " [*********66%***        ] Elapsed 0.54s / Remaining 00:00:00:00"
     ]
    },
    {
     "name": "stdout",
     "output_type": "stream",
     "text": [
      "\r",
      " [*********66%***        ] Elapsed 0.54s / Remaining 00:00:00:00"
     ]
    },
    {
     "name": "stdout",
     "output_type": "stream",
     "text": [
      "\r",
      " [*********66%***        ] Elapsed 0.54s / Remaining 00:00:00:00"
     ]
    },
    {
     "name": "stdout",
     "output_type": "stream",
     "text": [
      "\r",
      " [*********66%***        ] Elapsed 0.54s / Remaining 00:00:00:00"
     ]
    },
    {
     "name": "stdout",
     "output_type": "stream",
     "text": [
      "\r",
      " [*********66%***        ] Elapsed 0.54s / Remaining 00:00:00:00"
     ]
    },
    {
     "name": "stdout",
     "output_type": "stream",
     "text": [
      "\r",
      " [*********66%***        ] Elapsed 0.54s / Remaining 00:00:00:00"
     ]
    },
    {
     "name": "stdout",
     "output_type": "stream",
     "text": [
      "\r",
      " [*********66%***        ] Elapsed 0.54s / Remaining 00:00:00:00"
     ]
    },
    {
     "name": "stdout",
     "output_type": "stream",
     "text": [
      "\r",
      " [*********67%***        ] Elapsed 0.54s / Remaining 00:00:00:00"
     ]
    },
    {
     "name": "stdout",
     "output_type": "stream",
     "text": [
      "\r",
      " [*********67%***        ] Elapsed 0.54s / Remaining 00:00:00:00"
     ]
    },
    {
     "name": "stdout",
     "output_type": "stream",
     "text": [
      "\r",
      " [*********67%***        ] Elapsed 0.55s / Remaining 00:00:00:00"
     ]
    },
    {
     "name": "stdout",
     "output_type": "stream",
     "text": [
      "\r",
      " [*********67%***        ] Elapsed 0.55s / Remaining 00:00:00:00"
     ]
    },
    {
     "name": "stdout",
     "output_type": "stream",
     "text": [
      "\r",
      " [*********67%***        ] Elapsed 0.55s / Remaining 00:00:00:00"
     ]
    },
    {
     "name": "stdout",
     "output_type": "stream",
     "text": [
      "\r",
      " [*********67%***        ] Elapsed 0.55s / Remaining 00:00:00:00"
     ]
    },
    {
     "name": "stdout",
     "output_type": "stream",
     "text": [
      "\r",
      " [*********67%***        ] Elapsed 0.55s / Remaining 00:00:00:00"
     ]
    },
    {
     "name": "stdout",
     "output_type": "stream",
     "text": [
      "\r",
      " [*********67%***        ] Elapsed 0.55s / Remaining 00:00:00:00"
     ]
    },
    {
     "name": "stdout",
     "output_type": "stream",
     "text": [
      "\r",
      " [*********67%***        ] Elapsed 0.55s / Remaining 00:00:00:00"
     ]
    },
    {
     "name": "stdout",
     "output_type": "stream",
     "text": [
      "\r",
      " [*********67%***        ] Elapsed 0.55s / Remaining 00:00:00:00"
     ]
    },
    {
     "name": "stdout",
     "output_type": "stream",
     "text": [
      "\r",
      " [*********68%****       ] Elapsed 0.55s / Remaining 00:00:00:00"
     ]
    },
    {
     "name": "stdout",
     "output_type": "stream",
     "text": [
      "\r",
      " [*********68%****       ] Elapsed 0.55s / Remaining 00:00:00:00"
     ]
    },
    {
     "name": "stdout",
     "output_type": "stream",
     "text": [
      "\r",
      " [*********68%****       ] Elapsed 0.55s / Remaining 00:00:00:00"
     ]
    },
    {
     "name": "stdout",
     "output_type": "stream",
     "text": [
      "\r",
      " [*********68%****       ] Elapsed 0.55s / Remaining 00:00:00:00"
     ]
    },
    {
     "name": "stdout",
     "output_type": "stream",
     "text": [
      "\r",
      " [*********68%****       ] Elapsed 0.55s / Remaining 00:00:00:00"
     ]
    },
    {
     "name": "stdout",
     "output_type": "stream",
     "text": [
      "\r",
      " [*********68%****       ] Elapsed 0.56s / Remaining 00:00:00:00"
     ]
    },
    {
     "name": "stdout",
     "output_type": "stream",
     "text": [
      "\r",
      " [*********68%****       ] Elapsed 0.56s / Remaining 00:00:00:00"
     ]
    },
    {
     "name": "stdout",
     "output_type": "stream",
     "text": [
      "\r",
      " [*********68%****       ] Elapsed 0.56s / Remaining 00:00:00:00"
     ]
    },
    {
     "name": "stdout",
     "output_type": "stream",
     "text": [
      "\r",
      " [*********68%****       ] Elapsed 0.56s / Remaining 00:00:00:00"
     ]
    },
    {
     "name": "stdout",
     "output_type": "stream",
     "text": [
      "\r",
      " [*********68%****       ] Elapsed 0.56s / Remaining 00:00:00:00"
     ]
    },
    {
     "name": "stdout",
     "output_type": "stream",
     "text": [
      "\r",
      " [*********69%****       ] Elapsed 0.56s / Remaining 00:00:00:00"
     ]
    },
    {
     "name": "stdout",
     "output_type": "stream",
     "text": [
      "\r",
      " [*********69%****       ] Elapsed 0.56s / Remaining 00:00:00:00"
     ]
    },
    {
     "name": "stdout",
     "output_type": "stream",
     "text": [
      "\r",
      " [*********69%****       ] Elapsed 0.56s / Remaining 00:00:00:00"
     ]
    },
    {
     "name": "stdout",
     "output_type": "stream",
     "text": [
      "\r",
      " [*********69%****       ] Elapsed 0.56s / Remaining 00:00:00:00"
     ]
    },
    {
     "name": "stdout",
     "output_type": "stream",
     "text": [
      "\r",
      " [*********69%****       ] Elapsed 0.56s / Remaining 00:00:00:00"
     ]
    },
    {
     "name": "stdout",
     "output_type": "stream",
     "text": [
      "\r",
      " [*********69%****       ] Elapsed 0.56s / Remaining 00:00:00:00"
     ]
    },
    {
     "name": "stdout",
     "output_type": "stream",
     "text": [
      "\r",
      " [*********69%****       ] Elapsed 0.56s / Remaining 00:00:00:00"
     ]
    },
    {
     "name": "stdout",
     "output_type": "stream",
     "text": [
      "\r",
      " [*********69%****       ] Elapsed 0.57s / Remaining 00:00:00:00"
     ]
    },
    {
     "name": "stdout",
     "output_type": "stream",
     "text": [
      "\r",
      " [*********69%****       ] Elapsed 0.57s / Remaining 00:00:00:00"
     ]
    },
    {
     "name": "stdout",
     "output_type": "stream",
     "text": [
      "\r",
      " [*********69%****       ] Elapsed 0.57s / Remaining 00:00:00:00"
     ]
    },
    {
     "name": "stdout",
     "output_type": "stream",
     "text": [
      "\r",
      " [*********70%****       ] Elapsed 0.57s / Remaining 00:00:00:00"
     ]
    },
    {
     "name": "stdout",
     "output_type": "stream",
     "text": [
      "\r",
      " [*********70%****       ] Elapsed 0.57s / Remaining 00:00:00:00"
     ]
    },
    {
     "name": "stdout",
     "output_type": "stream",
     "text": [
      "\r",
      " [*********70%****       ] Elapsed 0.57s / Remaining 00:00:00:00"
     ]
    },
    {
     "name": "stdout",
     "output_type": "stream",
     "text": [
      "\r",
      " [*********70%****       ] Elapsed 0.57s / Remaining 00:00:00:00"
     ]
    },
    {
     "name": "stdout",
     "output_type": "stream",
     "text": [
      "\r",
      " [*********70%****       ] Elapsed 0.57s / Remaining 00:00:00:00"
     ]
    },
    {
     "name": "stdout",
     "output_type": "stream",
     "text": [
      "\r",
      " [*********70%****       ] Elapsed 0.57s / Remaining 00:00:00:00"
     ]
    },
    {
     "name": "stdout",
     "output_type": "stream",
     "text": [
      "\r",
      " [*********70%****       ] Elapsed 0.57s / Remaining 00:00:00:00"
     ]
    },
    {
     "name": "stdout",
     "output_type": "stream",
     "text": [
      "\r",
      " [*********70%****       ] Elapsed 0.57s / Remaining 00:00:00:00"
     ]
    },
    {
     "name": "stdout",
     "output_type": "stream",
     "text": [
      "\r",
      " [*********70%****       ] Elapsed 0.57s / Remaining 00:00:00:00"
     ]
    },
    {
     "name": "stdout",
     "output_type": "stream",
     "text": [
      "\r",
      " [*********70%****       ] Elapsed 0.58s / Remaining 00:00:00:00"
     ]
    },
    {
     "name": "stdout",
     "output_type": "stream",
     "text": [
      "\r",
      " [*********71%****       ] Elapsed 0.58s / Remaining 00:00:00:00"
     ]
    },
    {
     "name": "stdout",
     "output_type": "stream",
     "text": [
      "\r",
      " [*********71%****       ] Elapsed 0.58s / Remaining 00:00:00:00"
     ]
    },
    {
     "name": "stdout",
     "output_type": "stream",
     "text": [
      "\r",
      " [*********71%****       ] Elapsed 0.58s / Remaining 00:00:00:00"
     ]
    },
    {
     "name": "stdout",
     "output_type": "stream",
     "text": [
      "\r",
      " [*********71%****       ] Elapsed 0.58s / Remaining 00:00:00:00"
     ]
    },
    {
     "name": "stdout",
     "output_type": "stream",
     "text": [
      "\r",
      " [*********71%****       ] Elapsed 0.58s / Remaining 00:00:00:00"
     ]
    },
    {
     "name": "stdout",
     "output_type": "stream",
     "text": [
      "\r",
      " [*********71%****       ] Elapsed 0.58s / Remaining 00:00:00:00"
     ]
    },
    {
     "name": "stdout",
     "output_type": "stream",
     "text": [
      "\r",
      " [*********71%****       ] Elapsed 0.58s / Remaining 00:00:00:00"
     ]
    },
    {
     "name": "stdout",
     "output_type": "stream",
     "text": [
      "\r",
      " [*********71%****       ] Elapsed 0.58s / Remaining 00:00:00:00"
     ]
    },
    {
     "name": "stdout",
     "output_type": "stream",
     "text": [
      "\r",
      " [*********71%****       ] Elapsed 0.58s / Remaining 00:00:00:00"
     ]
    },
    {
     "name": "stdout",
     "output_type": "stream",
     "text": [
      "\r",
      " [*********71%****       ] Elapsed 0.58s / Remaining 00:00:00:00"
     ]
    },
    {
     "name": "stdout",
     "output_type": "stream",
     "text": [
      "\r",
      " [*********72%*****      ] Elapsed 0.59s / Remaining 00:00:00:00"
     ]
    },
    {
     "name": "stdout",
     "output_type": "stream",
     "text": [
      "\r",
      " [*********72%*****      ] Elapsed 0.59s / Remaining 00:00:00:00"
     ]
    },
    {
     "name": "stdout",
     "output_type": "stream",
     "text": [
      "\r",
      " [*********72%*****      ] Elapsed 0.59s / Remaining 00:00:00:00"
     ]
    },
    {
     "name": "stdout",
     "output_type": "stream",
     "text": [
      "\r",
      " [*********72%*****      ] Elapsed 0.59s / Remaining 00:00:00:00"
     ]
    },
    {
     "name": "stdout",
     "output_type": "stream",
     "text": [
      "\r",
      " [*********72%*****      ] Elapsed 0.59s / Remaining 00:00:00:00"
     ]
    },
    {
     "name": "stdout",
     "output_type": "stream",
     "text": [
      "\r",
      " [*********72%*****      ] Elapsed 0.59s / Remaining 00:00:00:00"
     ]
    },
    {
     "name": "stdout",
     "output_type": "stream",
     "text": [
      "\r",
      " [*********72%*****      ] Elapsed 0.59s / Remaining 00:00:00:00"
     ]
    },
    {
     "name": "stdout",
     "output_type": "stream",
     "text": [
      "\r",
      " [*********72%*****      ] Elapsed 0.59s / Remaining 00:00:00:00"
     ]
    },
    {
     "name": "stdout",
     "output_type": "stream",
     "text": [
      "\r",
      " [*********72%*****      ] Elapsed 0.59s / Remaining 00:00:00:00"
     ]
    },
    {
     "name": "stdout",
     "output_type": "stream",
     "text": [
      "\r",
      " [*********72%*****      ] Elapsed 0.59s / Remaining 00:00:00:00"
     ]
    },
    {
     "name": "stdout",
     "output_type": "stream",
     "text": [
      "\r",
      " [*********73%*****      ] Elapsed 0.59s / Remaining 00:00:00:00"
     ]
    },
    {
     "name": "stdout",
     "output_type": "stream",
     "text": [
      "\r",
      " [*********73%*****      ] Elapsed 0.59s / Remaining 00:00:00:00"
     ]
    },
    {
     "name": "stdout",
     "output_type": "stream",
     "text": [
      "\r",
      " [*********73%*****      ] Elapsed 0.60s / Remaining 00:00:00:00"
     ]
    },
    {
     "name": "stdout",
     "output_type": "stream",
     "text": [
      "\r",
      " [*********73%*****      ] Elapsed 0.60s / Remaining 00:00:00:00"
     ]
    },
    {
     "name": "stdout",
     "output_type": "stream",
     "text": [
      "\r",
      " [*********73%*****      ] Elapsed 0.60s / Remaining 00:00:00:00"
     ]
    },
    {
     "name": "stdout",
     "output_type": "stream",
     "text": [
      "\r",
      " [*********73%*****      ] Elapsed 0.60s / Remaining 00:00:00:00"
     ]
    },
    {
     "name": "stdout",
     "output_type": "stream",
     "text": [
      "\r",
      " [*********73%*****      ] Elapsed 0.60s / Remaining 00:00:00:00"
     ]
    },
    {
     "name": "stdout",
     "output_type": "stream",
     "text": [
      "\r",
      " [*********73%*****      ] Elapsed 0.60s / Remaining 00:00:00:00"
     ]
    },
    {
     "name": "stdout",
     "output_type": "stream",
     "text": [
      "\r",
      " [*********73%*****      ] Elapsed 0.60s / Remaining 00:00:00:00"
     ]
    },
    {
     "name": "stdout",
     "output_type": "stream",
     "text": [
      "\r",
      " [*********73%*****      ] Elapsed 0.60s / Remaining 00:00:00:00"
     ]
    },
    {
     "name": "stdout",
     "output_type": "stream",
     "text": [
      "\r",
      " [*********74%*****      ] Elapsed 0.60s / Remaining 00:00:00:00"
     ]
    },
    {
     "name": "stdout",
     "output_type": "stream",
     "text": [
      "\r",
      " [*********74%*****      ] Elapsed 0.60s / Remaining 00:00:00:00"
     ]
    },
    {
     "name": "stdout",
     "output_type": "stream",
     "text": [
      "\r",
      " [*********74%*****      ] Elapsed 0.60s / Remaining 00:00:00:00"
     ]
    },
    {
     "name": "stdout",
     "output_type": "stream",
     "text": [
      "\r",
      " [*********74%*****      ] Elapsed 0.60s / Remaining 00:00:00:00"
     ]
    },
    {
     "name": "stdout",
     "output_type": "stream",
     "text": [
      "\r",
      " [*********74%*****      ] Elapsed 0.61s / Remaining 00:00:00:00"
     ]
    },
    {
     "name": "stdout",
     "output_type": "stream",
     "text": [
      "\r",
      " [*********74%*****      ] Elapsed 0.61s / Remaining 00:00:00:00"
     ]
    },
    {
     "name": "stdout",
     "output_type": "stream",
     "text": [
      "\r",
      " [*********74%*****      ] Elapsed 0.61s / Remaining 00:00:00:00"
     ]
    },
    {
     "name": "stdout",
     "output_type": "stream",
     "text": [
      "\r",
      " [*********74%*****      ] Elapsed 0.61s / Remaining 00:00:00:00"
     ]
    },
    {
     "name": "stdout",
     "output_type": "stream",
     "text": [
      "\r",
      " [*********74%*****      ] Elapsed 0.61s / Remaining 00:00:00:00"
     ]
    },
    {
     "name": "stdout",
     "output_type": "stream",
     "text": [
      "\r",
      " [*********74%*****      ] Elapsed 0.61s / Remaining 00:00:00:00"
     ]
    },
    {
     "name": "stdout",
     "output_type": "stream",
     "text": [
      "\r",
      " [*********75%*****      ] Elapsed 0.61s / Remaining 00:00:00:00"
     ]
    },
    {
     "name": "stdout",
     "output_type": "stream",
     "text": [
      "\r",
      " [*********75%*****      ] Elapsed 0.61s / Remaining 00:00:00:00"
     ]
    },
    {
     "name": "stdout",
     "output_type": "stream",
     "text": [
      "\r",
      " [*********75%*****      ] Elapsed 0.61s / Remaining 00:00:00:00"
     ]
    },
    {
     "name": "stdout",
     "output_type": "stream",
     "text": [
      "\r",
      " [*********75%*****      ] Elapsed 0.61s / Remaining 00:00:00:00"
     ]
    },
    {
     "name": "stdout",
     "output_type": "stream",
     "text": [
      "\r",
      " [*********75%*****      ] Elapsed 0.61s / Remaining 00:00:00:00"
     ]
    },
    {
     "name": "stdout",
     "output_type": "stream",
     "text": [
      "\r",
      " [*********75%*****      ] Elapsed 0.62s / Remaining 00:00:00:00"
     ]
    },
    {
     "name": "stdout",
     "output_type": "stream",
     "text": [
      "\r",
      " [*********75%*****      ] Elapsed 0.62s / Remaining 00:00:00:00"
     ]
    },
    {
     "name": "stdout",
     "output_type": "stream",
     "text": [
      "\r",
      " [*********75%*****      ] Elapsed 0.62s / Remaining 00:00:00:00"
     ]
    },
    {
     "name": "stdout",
     "output_type": "stream",
     "text": [
      "\r",
      " [*********75%*****      ] Elapsed 0.62s / Remaining 00:00:00:00"
     ]
    },
    {
     "name": "stdout",
     "output_type": "stream",
     "text": [
      "\r",
      " [*********75%*****      ] Elapsed 0.62s / Remaining 00:00:00:00"
     ]
    },
    {
     "name": "stdout",
     "output_type": "stream",
     "text": [
      "\r",
      " [*********76%*****      ] Elapsed 0.62s / Remaining 00:00:00:00"
     ]
    },
    {
     "name": "stdout",
     "output_type": "stream",
     "text": [
      "\r",
      " [*********76%*****      ] Elapsed 0.62s / Remaining 00:00:00:00"
     ]
    },
    {
     "name": "stdout",
     "output_type": "stream",
     "text": [
      "\r",
      " [*********76%*****      ] Elapsed 0.62s / Remaining 00:00:00:00"
     ]
    },
    {
     "name": "stdout",
     "output_type": "stream",
     "text": [
      "\r",
      " [*********76%*****      ] Elapsed 0.62s / Remaining 00:00:00:00"
     ]
    },
    {
     "name": "stdout",
     "output_type": "stream",
     "text": [
      "\r",
      " [*********76%*****      ] Elapsed 0.62s / Remaining 00:00:00:00"
     ]
    },
    {
     "name": "stdout",
     "output_type": "stream",
     "text": [
      "\r",
      " [*********76%*****      ] Elapsed 0.62s / Remaining 00:00:00:00"
     ]
    },
    {
     "name": "stdout",
     "output_type": "stream",
     "text": [
      "\r",
      " [*********76%*****      ] Elapsed 0.62s / Remaining 00:00:00:00"
     ]
    },
    {
     "name": "stdout",
     "output_type": "stream",
     "text": [
      "\r",
      " [*********76%*****      ] Elapsed 0.62s / Remaining 00:00:00:00"
     ]
    },
    {
     "name": "stdout",
     "output_type": "stream",
     "text": [
      "\r",
      " [*********76%*****      ] Elapsed 0.63s / Remaining 00:00:00:00"
     ]
    },
    {
     "name": "stdout",
     "output_type": "stream",
     "text": [
      "\r",
      " [*********76%*****      ] Elapsed 0.63s / Remaining 00:00:00:00"
     ]
    },
    {
     "name": "stdout",
     "output_type": "stream",
     "text": [
      "\r",
      " [*********77%******     ] Elapsed 0.63s / Remaining 00:00:00:00"
     ]
    },
    {
     "name": "stdout",
     "output_type": "stream",
     "text": [
      "\r",
      " [*********77%******     ] Elapsed 0.63s / Remaining 00:00:00:00"
     ]
    },
    {
     "name": "stdout",
     "output_type": "stream",
     "text": [
      "\r",
      " [*********77%******     ] Elapsed 0.63s / Remaining 00:00:00:00"
     ]
    },
    {
     "name": "stdout",
     "output_type": "stream",
     "text": [
      "\r",
      " [*********77%******     ] Elapsed 0.63s / Remaining 00:00:00:00"
     ]
    },
    {
     "name": "stdout",
     "output_type": "stream",
     "text": [
      "\r",
      " [*********77%******     ] Elapsed 0.63s / Remaining 00:00:00:00"
     ]
    },
    {
     "name": "stdout",
     "output_type": "stream",
     "text": [
      "\r",
      " [*********77%******     ] Elapsed 0.63s / Remaining 00:00:00:00"
     ]
    },
    {
     "name": "stdout",
     "output_type": "stream",
     "text": [
      "\r",
      " [*********77%******     ] Elapsed 0.63s / Remaining 00:00:00:00"
     ]
    },
    {
     "name": "stdout",
     "output_type": "stream",
     "text": [
      "\r",
      " [*********77%******     ] Elapsed 0.63s / Remaining 00:00:00:00"
     ]
    },
    {
     "name": "stdout",
     "output_type": "stream",
     "text": [
      "\r",
      " [*********77%******     ] Elapsed 0.63s / Remaining 00:00:00:00"
     ]
    },
    {
     "name": "stdout",
     "output_type": "stream",
     "text": [
      "\r",
      " [*********77%******     ] Elapsed 0.64s / Remaining 00:00:00:00"
     ]
    },
    {
     "name": "stdout",
     "output_type": "stream",
     "text": [
      "\r",
      " [*********78%******     ] Elapsed 0.64s / Remaining 00:00:00:00"
     ]
    },
    {
     "name": "stdout",
     "output_type": "stream",
     "text": [
      "\r",
      " [*********78%******     ] Elapsed 0.64s / Remaining 00:00:00:00"
     ]
    },
    {
     "name": "stdout",
     "output_type": "stream",
     "text": [
      "\r",
      " [*********78%******     ] Elapsed 0.64s / Remaining 00:00:00:00"
     ]
    },
    {
     "name": "stdout",
     "output_type": "stream",
     "text": [
      "\r",
      " [*********78%******     ] Elapsed 0.64s / Remaining 00:00:00:00"
     ]
    },
    {
     "name": "stdout",
     "output_type": "stream",
     "text": [
      "\r",
      " [*********78%******     ] Elapsed 0.64s / Remaining 00:00:00:00"
     ]
    },
    {
     "name": "stdout",
     "output_type": "stream",
     "text": [
      "\r",
      " [*********78%******     ] Elapsed 0.64s / Remaining 00:00:00:00"
     ]
    },
    {
     "name": "stdout",
     "output_type": "stream",
     "text": [
      "\r",
      " [*********78%******     ] Elapsed 0.64s / Remaining 00:00:00:00"
     ]
    },
    {
     "name": "stdout",
     "output_type": "stream",
     "text": [
      "\r",
      " [*********78%******     ] Elapsed 0.64s / Remaining 00:00:00:00"
     ]
    },
    {
     "name": "stdout",
     "output_type": "stream",
     "text": [
      "\r",
      " [*********78%******     ] Elapsed 0.64s / Remaining 00:00:00:00"
     ]
    },
    {
     "name": "stdout",
     "output_type": "stream",
     "text": [
      "\r",
      " [*********78%******     ] Elapsed 0.64s / Remaining 00:00:00:00"
     ]
    },
    {
     "name": "stdout",
     "output_type": "stream",
     "text": [
      "\r",
      " [*********79%******     ] Elapsed 0.64s / Remaining 00:00:00:00"
     ]
    },
    {
     "name": "stdout",
     "output_type": "stream",
     "text": [
      "\r",
      " [*********79%******     ] Elapsed 0.64s / Remaining 00:00:00:00"
     ]
    },
    {
     "name": "stdout",
     "output_type": "stream",
     "text": [
      "\r",
      " [*********79%******     ] Elapsed 0.65s / Remaining 00:00:00:00"
     ]
    },
    {
     "name": "stdout",
     "output_type": "stream",
     "text": [
      "\r",
      " [*********79%******     ] Elapsed 0.65s / Remaining 00:00:00:00"
     ]
    },
    {
     "name": "stdout",
     "output_type": "stream",
     "text": [
      "\r",
      " [*********79%******     ] Elapsed 0.65s / Remaining 00:00:00:00"
     ]
    },
    {
     "name": "stdout",
     "output_type": "stream",
     "text": [
      "\r",
      " [*********79%******     ] Elapsed 0.65s / Remaining 00:00:00:00"
     ]
    },
    {
     "name": "stdout",
     "output_type": "stream",
     "text": [
      "\r",
      " [*********79%******     ] Elapsed 0.65s / Remaining 00:00:00:00"
     ]
    },
    {
     "name": "stdout",
     "output_type": "stream",
     "text": [
      "\r",
      " [*********79%******     ] Elapsed 0.65s / Remaining 00:00:00:00"
     ]
    },
    {
     "name": "stdout",
     "output_type": "stream",
     "text": [
      "\r",
      " [*********79%******     ] Elapsed 0.65s / Remaining 00:00:00:00"
     ]
    },
    {
     "name": "stdout",
     "output_type": "stream",
     "text": [
      "\r",
      " [*********79%******     ] Elapsed 0.65s / Remaining 00:00:00:00"
     ]
    },
    {
     "name": "stdout",
     "output_type": "stream",
     "text": [
      "\r",
      " [*********80%******     ] Elapsed 0.65s / Remaining 00:00:00:00"
     ]
    },
    {
     "name": "stdout",
     "output_type": "stream",
     "text": [
      "\r",
      " [*********80%******     ] Elapsed 0.65s / Remaining 00:00:00:00"
     ]
    },
    {
     "name": "stdout",
     "output_type": "stream",
     "text": [
      "\r",
      " [*********80%******     ] Elapsed 0.65s / Remaining 00:00:00:00"
     ]
    },
    {
     "name": "stdout",
     "output_type": "stream",
     "text": [
      "\r",
      " [*********80%******     ] Elapsed 0.65s / Remaining 00:00:00:00"
     ]
    },
    {
     "name": "stdout",
     "output_type": "stream",
     "text": [
      "\r",
      " [*********80%******     ] Elapsed 0.66s / Remaining 00:00:00:00"
     ]
    },
    {
     "name": "stdout",
     "output_type": "stream",
     "text": [
      "\r",
      " [*********80%******     ] Elapsed 0.66s / Remaining 00:00:00:00"
     ]
    },
    {
     "name": "stdout",
     "output_type": "stream",
     "text": [
      "\r",
      " [*********80%******     ] Elapsed 0.66s / Remaining 00:00:00:00"
     ]
    },
    {
     "name": "stdout",
     "output_type": "stream",
     "text": [
      "\r",
      " [*********80%******     ] Elapsed 0.66s / Remaining 00:00:00:00"
     ]
    },
    {
     "name": "stdout",
     "output_type": "stream",
     "text": [
      "\r",
      " [*********80%******     ] Elapsed 0.66s / Remaining 00:00:00:00"
     ]
    },
    {
     "name": "stdout",
     "output_type": "stream",
     "text": [
      "\r",
      " [*********80%******     ] Elapsed 0.66s / Remaining 00:00:00:00"
     ]
    },
    {
     "name": "stdout",
     "output_type": "stream",
     "text": [
      "\r",
      " [*********81%*******    ] Elapsed 0.66s / Remaining 00:00:00:00"
     ]
    },
    {
     "name": "stdout",
     "output_type": "stream",
     "text": [
      "\r",
      " [*********81%*******    ] Elapsed 0.66s / Remaining 00:00:00:00"
     ]
    },
    {
     "name": "stdout",
     "output_type": "stream",
     "text": [
      "\r",
      " [*********81%*******    ] Elapsed 0.66s / Remaining 00:00:00:00"
     ]
    },
    {
     "name": "stdout",
     "output_type": "stream",
     "text": [
      "\r",
      " [*********81%*******    ] Elapsed 0.66s / Remaining 00:00:00:00"
     ]
    },
    {
     "name": "stdout",
     "output_type": "stream",
     "text": [
      "\r",
      " [*********81%*******    ] Elapsed 0.66s / Remaining 00:00:00:00"
     ]
    },
    {
     "name": "stdout",
     "output_type": "stream",
     "text": [
      "\r",
      " [*********81%*******    ] Elapsed 0.67s / Remaining 00:00:00:00"
     ]
    },
    {
     "name": "stdout",
     "output_type": "stream",
     "text": [
      "\r",
      " [*********81%*******    ] Elapsed 0.67s / Remaining 00:00:00:00"
     ]
    },
    {
     "name": "stdout",
     "output_type": "stream",
     "text": [
      "\r",
      " [*********81%*******    ] Elapsed 0.67s / Remaining 00:00:00:00"
     ]
    },
    {
     "name": "stdout",
     "output_type": "stream",
     "text": [
      "\r",
      " [*********81%*******    ] Elapsed 0.67s / Remaining 00:00:00:00"
     ]
    },
    {
     "name": "stdout",
     "output_type": "stream",
     "text": [
      "\r",
      " [*********81%*******    ] Elapsed 0.67s / Remaining 00:00:00:00"
     ]
    },
    {
     "name": "stdout",
     "output_type": "stream",
     "text": [
      "\r",
      " [*********82%*******    ] Elapsed 0.67s / Remaining 00:00:00:00"
     ]
    },
    {
     "name": "stdout",
     "output_type": "stream",
     "text": [
      "\r",
      " [*********82%*******    ] Elapsed 0.67s / Remaining 00:00:00:00"
     ]
    },
    {
     "name": "stdout",
     "output_type": "stream",
     "text": [
      "\r",
      " [*********82%*******    ] Elapsed 0.67s / Remaining 00:00:00:00"
     ]
    },
    {
     "name": "stdout",
     "output_type": "stream",
     "text": [
      "\r",
      " [*********82%*******    ] Elapsed 0.67s / Remaining 00:00:00:00"
     ]
    },
    {
     "name": "stdout",
     "output_type": "stream",
     "text": [
      "\r",
      " [*********82%*******    ] Elapsed 0.67s / Remaining 00:00:00:00"
     ]
    },
    {
     "name": "stdout",
     "output_type": "stream",
     "text": [
      "\r",
      " [*********82%*******    ] Elapsed 0.67s / Remaining 00:00:00:00"
     ]
    },
    {
     "name": "stdout",
     "output_type": "stream",
     "text": [
      "\r",
      " [*********82%*******    ] Elapsed 0.68s / Remaining 00:00:00:00"
     ]
    },
    {
     "name": "stdout",
     "output_type": "stream",
     "text": [
      "\r",
      " [*********82%*******    ] Elapsed 0.68s / Remaining 00:00:00:00"
     ]
    },
    {
     "name": "stdout",
     "output_type": "stream",
     "text": [
      "\r",
      " [*********82%*******    ] Elapsed 0.68s / Remaining 00:00:00:00"
     ]
    },
    {
     "name": "stdout",
     "output_type": "stream",
     "text": [
      "\r",
      " [*********82%*******    ] Elapsed 0.68s / Remaining 00:00:00:00"
     ]
    },
    {
     "name": "stdout",
     "output_type": "stream",
     "text": [
      "\r",
      " [*********83%*******    ] Elapsed 0.68s / Remaining 00:00:00:00"
     ]
    },
    {
     "name": "stdout",
     "output_type": "stream",
     "text": [
      "\r",
      " [*********83%*******    ] Elapsed 0.68s / Remaining 00:00:00:00"
     ]
    },
    {
     "name": "stdout",
     "output_type": "stream",
     "text": [
      "\r",
      " [*********83%*******    ] Elapsed 0.68s / Remaining 00:00:00:00"
     ]
    },
    {
     "name": "stdout",
     "output_type": "stream",
     "text": [
      "\r",
      " [*********83%*******    ] Elapsed 0.68s / Remaining 00:00:00:00"
     ]
    },
    {
     "name": "stdout",
     "output_type": "stream",
     "text": [
      "\r",
      " [*********83%*******    ] Elapsed 0.68s / Remaining 00:00:00:00"
     ]
    },
    {
     "name": "stdout",
     "output_type": "stream",
     "text": [
      "\r",
      " [*********83%*******    ] Elapsed 0.68s / Remaining 00:00:00:00"
     ]
    },
    {
     "name": "stdout",
     "output_type": "stream",
     "text": [
      "\r",
      " [*********83%*******    ] Elapsed 0.68s / Remaining 00:00:00:00"
     ]
    },
    {
     "name": "stdout",
     "output_type": "stream",
     "text": [
      "\r",
      " [*********83%*******    ] Elapsed 0.68s / Remaining 00:00:00:00"
     ]
    },
    {
     "name": "stdout",
     "output_type": "stream",
     "text": [
      "\r",
      " [*********83%*******    ] Elapsed 0.68s / Remaining 00:00:00:00"
     ]
    },
    {
     "name": "stdout",
     "output_type": "stream",
     "text": [
      "\r",
      " [*********83%*******    ] Elapsed 0.69s / Remaining 00:00:00:00"
     ]
    },
    {
     "name": "stdout",
     "output_type": "stream",
     "text": [
      "\r",
      " [*********84%*******    ] Elapsed 0.69s / Remaining 00:00:00:00"
     ]
    },
    {
     "name": "stdout",
     "output_type": "stream",
     "text": [
      "\r",
      " [*********84%*******    ] Elapsed 0.69s / Remaining 00:00:00:00"
     ]
    },
    {
     "name": "stdout",
     "output_type": "stream",
     "text": [
      "\r",
      " [*********84%*******    ] Elapsed 0.69s / Remaining 00:00:00:00"
     ]
    },
    {
     "name": "stdout",
     "output_type": "stream",
     "text": [
      "\r",
      " [*********84%*******    ] Elapsed 0.69s / Remaining 00:00:00:00"
     ]
    },
    {
     "name": "stdout",
     "output_type": "stream",
     "text": [
      "\r",
      " [*********84%*******    ] Elapsed 0.69s / Remaining 00:00:00:00"
     ]
    },
    {
     "name": "stdout",
     "output_type": "stream",
     "text": [
      "\r",
      " [*********84%*******    ] Elapsed 0.69s / Remaining 00:00:00:00"
     ]
    },
    {
     "name": "stdout",
     "output_type": "stream",
     "text": [
      "\r",
      " [*********84%*******    ] Elapsed 0.69s / Remaining 00:00:00:00"
     ]
    },
    {
     "name": "stdout",
     "output_type": "stream",
     "text": [
      "\r",
      " [*********84%*******    ] Elapsed 0.69s / Remaining 00:00:00:00"
     ]
    },
    {
     "name": "stdout",
     "output_type": "stream",
     "text": [
      "\r",
      " [*********84%*******    ] Elapsed 0.69s / Remaining 00:00:00:00"
     ]
    },
    {
     "name": "stdout",
     "output_type": "stream",
     "text": [
      "\r",
      " [*********84%*******    ] Elapsed 0.69s / Remaining 00:00:00:00"
     ]
    },
    {
     "name": "stdout",
     "output_type": "stream",
     "text": [
      "\r",
      " [*********85%********   ] Elapsed 0.69s / Remaining 00:00:00:00"
     ]
    },
    {
     "name": "stdout",
     "output_type": "stream",
     "text": [
      "\r",
      " [*********85%********   ] Elapsed 0.70s / Remaining 00:00:00:00"
     ]
    },
    {
     "name": "stdout",
     "output_type": "stream",
     "text": [
      "\r",
      " [*********85%********   ] Elapsed 0.70s / Remaining 00:00:00:00"
     ]
    },
    {
     "name": "stdout",
     "output_type": "stream",
     "text": [
      "\r",
      " [*********85%********   ] Elapsed 0.70s / Remaining 00:00:00:00"
     ]
    },
    {
     "name": "stdout",
     "output_type": "stream",
     "text": [
      "\r",
      " [*********85%********   ] Elapsed 0.70s / Remaining 00:00:00:00"
     ]
    },
    {
     "name": "stdout",
     "output_type": "stream",
     "text": [
      "\r",
      " [*********85%********   ] Elapsed 0.70s / Remaining 00:00:00:00"
     ]
    },
    {
     "name": "stdout",
     "output_type": "stream",
     "text": [
      "\r",
      " [*********85%********   ] Elapsed 0.70s / Remaining 00:00:00:00"
     ]
    },
    {
     "name": "stdout",
     "output_type": "stream",
     "text": [
      "\r",
      " [*********85%********   ] Elapsed 0.70s / Remaining 00:00:00:00"
     ]
    },
    {
     "name": "stdout",
     "output_type": "stream",
     "text": [
      "\r",
      " [*********85%********   ] Elapsed 0.70s / Remaining 00:00:00:00"
     ]
    },
    {
     "name": "stdout",
     "output_type": "stream",
     "text": [
      "\r",
      " [*********85%********   ] Elapsed 0.70s / Remaining 00:00:00:00"
     ]
    },
    {
     "name": "stdout",
     "output_type": "stream",
     "text": [
      "\r",
      " [*********86%********   ] Elapsed 0.70s / Remaining 00:00:00:00"
     ]
    },
    {
     "name": "stdout",
     "output_type": "stream",
     "text": [
      "\r",
      " [*********86%********   ] Elapsed 0.70s / Remaining 00:00:00:00"
     ]
    },
    {
     "name": "stdout",
     "output_type": "stream",
     "text": [
      "\r",
      " [*********86%********   ] Elapsed 0.70s / Remaining 00:00:00:00"
     ]
    },
    {
     "name": "stdout",
     "output_type": "stream",
     "text": [
      "\r",
      " [*********86%********   ] Elapsed 0.71s / Remaining 00:00:00:00"
     ]
    },
    {
     "name": "stdout",
     "output_type": "stream",
     "text": [
      "\r",
      " [*********86%********   ] Elapsed 0.71s / Remaining 00:00:00:00"
     ]
    },
    {
     "name": "stdout",
     "output_type": "stream",
     "text": [
      "\r",
      " [*********86%********   ] Elapsed 0.71s / Remaining 00:00:00:00"
     ]
    },
    {
     "name": "stdout",
     "output_type": "stream",
     "text": [
      "\r",
      " [*********86%********   ] Elapsed 0.71s / Remaining 00:00:00:00"
     ]
    },
    {
     "name": "stdout",
     "output_type": "stream",
     "text": [
      "\r",
      " [*********86%********   ] Elapsed 0.71s / Remaining 00:00:00:00"
     ]
    },
    {
     "name": "stdout",
     "output_type": "stream",
     "text": [
      "\r",
      " [*********86%********   ] Elapsed 0.71s / Remaining 00:00:00:00"
     ]
    },
    {
     "name": "stdout",
     "output_type": "stream",
     "text": [
      "\r",
      " [*********86%********   ] Elapsed 0.71s / Remaining 00:00:00:00"
     ]
    },
    {
     "name": "stdout",
     "output_type": "stream",
     "text": [
      "\r",
      " [*********87%********   ] Elapsed 0.71s / Remaining 00:00:00:00"
     ]
    },
    {
     "name": "stdout",
     "output_type": "stream",
     "text": [
      "\r",
      " [*********87%********   ] Elapsed 0.71s / Remaining 00:00:00:00"
     ]
    },
    {
     "name": "stdout",
     "output_type": "stream",
     "text": [
      "\r",
      " [*********87%********   ] Elapsed 0.71s / Remaining 00:00:00:00"
     ]
    },
    {
     "name": "stdout",
     "output_type": "stream",
     "text": [
      "\r",
      " [*********87%********   ] Elapsed 0.71s / Remaining 00:00:00:00"
     ]
    },
    {
     "name": "stdout",
     "output_type": "stream",
     "text": [
      "\r",
      " [*********87%********   ] Elapsed 0.71s / Remaining 00:00:00:00"
     ]
    },
    {
     "name": "stdout",
     "output_type": "stream",
     "text": [
      "\r",
      " [*********87%********   ] Elapsed 0.72s / Remaining 00:00:00:00"
     ]
    },
    {
     "name": "stdout",
     "output_type": "stream",
     "text": [
      "\r",
      " [*********87%********   ] Elapsed 0.72s / Remaining 00:00:00:00"
     ]
    },
    {
     "name": "stdout",
     "output_type": "stream",
     "text": [
      "\r",
      " [*********87%********   ] Elapsed 0.72s / Remaining 00:00:00:00"
     ]
    },
    {
     "name": "stdout",
     "output_type": "stream",
     "text": [
      "\r",
      " [*********87%********   ] Elapsed 0.72s / Remaining 00:00:00:00"
     ]
    },
    {
     "name": "stdout",
     "output_type": "stream",
     "text": [
      "\r",
      " [*********87%********   ] Elapsed 0.72s / Remaining 00:00:00:00"
     ]
    },
    {
     "name": "stdout",
     "output_type": "stream",
     "text": [
      "\r",
      " [*********88%********   ] Elapsed 0.72s / Remaining 00:00:00:00"
     ]
    },
    {
     "name": "stdout",
     "output_type": "stream",
     "text": [
      "\r",
      " [*********88%********   ] Elapsed 0.72s / Remaining 00:00:00:00"
     ]
    },
    {
     "name": "stdout",
     "output_type": "stream",
     "text": [
      "\r",
      " [*********88%********   ] Elapsed 0.72s / Remaining 00:00:00:00"
     ]
    },
    {
     "name": "stdout",
     "output_type": "stream",
     "text": [
      "\r",
      " [*********88%********   ] Elapsed 0.72s / Remaining 00:00:00:00"
     ]
    },
    {
     "name": "stdout",
     "output_type": "stream",
     "text": [
      "\r",
      " [*********88%********   ] Elapsed 0.72s / Remaining 00:00:00:00"
     ]
    },
    {
     "name": "stdout",
     "output_type": "stream",
     "text": [
      "\r",
      " [*********88%********   ] Elapsed 0.72s / Remaining 00:00:00:00"
     ]
    },
    {
     "name": "stdout",
     "output_type": "stream",
     "text": [
      "\r",
      " [*********88%********   ] Elapsed 0.72s / Remaining 00:00:00:00"
     ]
    },
    {
     "name": "stdout",
     "output_type": "stream",
     "text": [
      "\r",
      " [*********88%********   ] Elapsed 0.73s / Remaining 00:00:00:00"
     ]
    },
    {
     "name": "stdout",
     "output_type": "stream",
     "text": [
      "\r",
      " [*********88%********   ] Elapsed 0.73s / Remaining 00:00:00:00"
     ]
    },
    {
     "name": "stdout",
     "output_type": "stream",
     "text": [
      "\r",
      " [*********88%********   ] Elapsed 0.73s / Remaining 00:00:00:00"
     ]
    },
    {
     "name": "stdout",
     "output_type": "stream",
     "text": [
      "\r",
      " [*********89%********   ] Elapsed 0.73s / Remaining 00:00:00:00"
     ]
    },
    {
     "name": "stdout",
     "output_type": "stream",
     "text": [
      "\r",
      " [*********89%********   ] Elapsed 0.73s / Remaining 00:00:00:00"
     ]
    },
    {
     "name": "stdout",
     "output_type": "stream",
     "text": [
      "\r",
      " [*********89%********   ] Elapsed 0.73s / Remaining 00:00:00:00"
     ]
    },
    {
     "name": "stdout",
     "output_type": "stream",
     "text": [
      "\r",
      " [*********89%********   ] Elapsed 0.73s / Remaining 00:00:00:00"
     ]
    },
    {
     "name": "stdout",
     "output_type": "stream",
     "text": [
      "\r",
      " [*********89%********   ] Elapsed 0.73s / Remaining 00:00:00:00"
     ]
    },
    {
     "name": "stdout",
     "output_type": "stream",
     "text": [
      "\r",
      " [*********89%********   ] Elapsed 0.73s / Remaining 00:00:00:00"
     ]
    },
    {
     "name": "stdout",
     "output_type": "stream",
     "text": [
      "\r",
      " [*********89%********   ] Elapsed 0.73s / Remaining 00:00:00:00"
     ]
    },
    {
     "name": "stdout",
     "output_type": "stream",
     "text": [
      "\r",
      " [*********89%********   ] Elapsed 0.73s / Remaining 00:00:00:00"
     ]
    },
    {
     "name": "stdout",
     "output_type": "stream",
     "text": [
      "\r",
      " [*********89%********   ] Elapsed 0.73s / Remaining 00:00:00:00"
     ]
    },
    {
     "name": "stdout",
     "output_type": "stream",
     "text": [
      "\r",
      " [*********89%********   ] Elapsed 0.74s / Remaining 00:00:00:00"
     ]
    },
    {
     "name": "stdout",
     "output_type": "stream",
     "text": [
      "\r",
      " [*********90%*********  ] Elapsed 0.74s / Remaining 00:00:00:00"
     ]
    },
    {
     "name": "stdout",
     "output_type": "stream",
     "text": [
      "\r",
      " [*********90%*********  ] Elapsed 0.74s / Remaining 00:00:00:00"
     ]
    },
    {
     "name": "stdout",
     "output_type": "stream",
     "text": [
      "\r",
      " [*********90%*********  ] Elapsed 0.74s / Remaining 00:00:00:00"
     ]
    },
    {
     "name": "stdout",
     "output_type": "stream",
     "text": [
      "\r",
      " [*********90%*********  ] Elapsed 0.74s / Remaining 00:00:00:00"
     ]
    },
    {
     "name": "stdout",
     "output_type": "stream",
     "text": [
      "\r",
      " [*********90%*********  ] Elapsed 0.74s / Remaining 00:00:00:00"
     ]
    },
    {
     "name": "stdout",
     "output_type": "stream",
     "text": [
      "\r",
      " [*********90%*********  ] Elapsed 0.74s / Remaining 00:00:00:00"
     ]
    },
    {
     "name": "stdout",
     "output_type": "stream",
     "text": [
      "\r",
      " [*********90%*********  ] Elapsed 0.74s / Remaining 00:00:00:00"
     ]
    },
    {
     "name": "stdout",
     "output_type": "stream",
     "text": [
      "\r",
      " [*********90%*********  ] Elapsed 0.74s / Remaining 00:00:00:00"
     ]
    },
    {
     "name": "stdout",
     "output_type": "stream",
     "text": [
      "\r",
      " [*********90%*********  ] Elapsed 0.74s / Remaining 00:00:00:00"
     ]
    },
    {
     "name": "stdout",
     "output_type": "stream",
     "text": [
      "\r",
      " [*********90%*********  ] Elapsed 0.74s / Remaining 00:00:00:00"
     ]
    },
    {
     "name": "stdout",
     "output_type": "stream",
     "text": [
      "\r",
      " [*********91%*********  ] Elapsed 0.75s / Remaining 00:00:00:00"
     ]
    },
    {
     "name": "stdout",
     "output_type": "stream",
     "text": [
      "\r",
      " [*********91%*********  ] Elapsed 0.75s / Remaining 00:00:00:00"
     ]
    },
    {
     "name": "stdout",
     "output_type": "stream",
     "text": [
      "\r",
      " [*********91%*********  ] Elapsed 0.75s / Remaining 00:00:00:00"
     ]
    },
    {
     "name": "stdout",
     "output_type": "stream",
     "text": [
      "\r",
      " [*********91%*********  ] Elapsed 0.75s / Remaining 00:00:00:00"
     ]
    },
    {
     "name": "stdout",
     "output_type": "stream",
     "text": [
      "\r",
      " [*********91%*********  ] Elapsed 0.75s / Remaining 00:00:00:00"
     ]
    },
    {
     "name": "stdout",
     "output_type": "stream",
     "text": [
      "\r",
      " [*********91%*********  ] Elapsed 0.75s / Remaining 00:00:00:00"
     ]
    },
    {
     "name": "stdout",
     "output_type": "stream",
     "text": [
      "\r",
      " [*********91%*********  ] Elapsed 0.75s / Remaining 00:00:00:00"
     ]
    },
    {
     "name": "stdout",
     "output_type": "stream",
     "text": [
      "\r",
      " [*********91%*********  ] Elapsed 0.75s / Remaining 00:00:00:00"
     ]
    },
    {
     "name": "stdout",
     "output_type": "stream",
     "text": [
      "\r",
      " [*********91%*********  ] Elapsed 0.75s / Remaining 00:00:00:00"
     ]
    },
    {
     "name": "stdout",
     "output_type": "stream",
     "text": [
      "\r",
      " [*********91%*********  ] Elapsed 0.75s / Remaining 00:00:00:00"
     ]
    },
    {
     "name": "stdout",
     "output_type": "stream",
     "text": [
      "\r",
      " [*********92%*********  ] Elapsed 0.75s / Remaining 00:00:00:00"
     ]
    },
    {
     "name": "stdout",
     "output_type": "stream",
     "text": [
      "\r",
      " [*********92%*********  ] Elapsed 0.76s / Remaining 00:00:00:00"
     ]
    },
    {
     "name": "stdout",
     "output_type": "stream",
     "text": [
      "\r",
      " [*********92%*********  ] Elapsed 0.76s / Remaining 00:00:00:00"
     ]
    },
    {
     "name": "stdout",
     "output_type": "stream",
     "text": [
      "\r",
      " [*********92%*********  ] Elapsed 0.76s / Remaining 00:00:00:00"
     ]
    },
    {
     "name": "stdout",
     "output_type": "stream",
     "text": [
      "\r",
      " [*********92%*********  ] Elapsed 0.76s / Remaining 00:00:00:00"
     ]
    },
    {
     "name": "stdout",
     "output_type": "stream",
     "text": [
      "\r",
      " [*********92%*********  ] Elapsed 0.76s / Remaining 00:00:00:00"
     ]
    },
    {
     "name": "stdout",
     "output_type": "stream",
     "text": [
      "\r",
      " [*********92%*********  ] Elapsed 0.76s / Remaining 00:00:00:00"
     ]
    },
    {
     "name": "stdout",
     "output_type": "stream",
     "text": [
      "\r",
      " [*********92%*********  ] Elapsed 0.76s / Remaining 00:00:00:00"
     ]
    },
    {
     "name": "stdout",
     "output_type": "stream",
     "text": [
      "\r",
      " [*********92%*********  ] Elapsed 0.76s / Remaining 00:00:00:00"
     ]
    },
    {
     "name": "stdout",
     "output_type": "stream",
     "text": [
      "\r",
      " [*********92%*********  ] Elapsed 0.76s / Remaining 00:00:00:00"
     ]
    },
    {
     "name": "stdout",
     "output_type": "stream",
     "text": [
      "\r",
      " [*********93%*********  ] Elapsed 0.76s / Remaining 00:00:00:00"
     ]
    },
    {
     "name": "stdout",
     "output_type": "stream",
     "text": [
      "\r",
      " [*********93%*********  ] Elapsed 0.76s / Remaining 00:00:00:00"
     ]
    },
    {
     "name": "stdout",
     "output_type": "stream",
     "text": [
      "\r",
      " [*********93%*********  ] Elapsed 0.76s / Remaining 00:00:00:00"
     ]
    },
    {
     "name": "stdout",
     "output_type": "stream",
     "text": [
      "\r",
      " [*********93%*********  ] Elapsed 0.76s / Remaining 00:00:00:00"
     ]
    },
    {
     "name": "stdout",
     "output_type": "stream",
     "text": [
      "\r",
      " [*********93%*********  ] Elapsed 0.77s / Remaining 00:00:00:00"
     ]
    },
    {
     "name": "stdout",
     "output_type": "stream",
     "text": [
      "\r",
      " [*********93%*********  ] Elapsed 0.77s / Remaining 00:00:00:00"
     ]
    },
    {
     "name": "stdout",
     "output_type": "stream",
     "text": [
      "\r",
      " [*********93%*********  ] Elapsed 0.77s / Remaining 00:00:00:00"
     ]
    },
    {
     "name": "stdout",
     "output_type": "stream",
     "text": [
      "\r",
      " [*********93%*********  ] Elapsed 0.77s / Remaining 00:00:00:00"
     ]
    },
    {
     "name": "stdout",
     "output_type": "stream",
     "text": [
      "\r",
      " [*********93%*********  ] Elapsed 0.77s / Remaining 00:00:00:00"
     ]
    },
    {
     "name": "stdout",
     "output_type": "stream",
     "text": [
      "\r",
      " [*********93%*********  ] Elapsed 0.77s / Remaining 00:00:00:00"
     ]
    },
    {
     "name": "stdout",
     "output_type": "stream",
     "text": [
      "\r",
      " [*********94%********** ] Elapsed 0.77s / Remaining 00:00:00:00"
     ]
    },
    {
     "name": "stdout",
     "output_type": "stream",
     "text": [
      "\r",
      " [*********94%********** ] Elapsed 0.77s / Remaining 00:00:00:00"
     ]
    },
    {
     "name": "stdout",
     "output_type": "stream",
     "text": [
      "\r",
      " [*********94%********** ] Elapsed 0.77s / Remaining 00:00:00:00"
     ]
    },
    {
     "name": "stdout",
     "output_type": "stream",
     "text": [
      "\r",
      " [*********94%********** ] Elapsed 0.77s / Remaining 00:00:00:00"
     ]
    },
    {
     "name": "stdout",
     "output_type": "stream",
     "text": [
      "\r",
      " [*********94%********** ] Elapsed 0.77s / Remaining 00:00:00:00"
     ]
    },
    {
     "name": "stdout",
     "output_type": "stream",
     "text": [
      "\r",
      " [*********94%********** ] Elapsed 0.77s / Remaining 00:00:00:00"
     ]
    },
    {
     "name": "stdout",
     "output_type": "stream",
     "text": [
      "\r",
      " [*********94%********** ] Elapsed 0.77s / Remaining 00:00:00:00"
     ]
    },
    {
     "name": "stdout",
     "output_type": "stream",
     "text": [
      "\r",
      " [*********94%********** ] Elapsed 0.78s / Remaining 00:00:00:00"
     ]
    },
    {
     "name": "stdout",
     "output_type": "stream",
     "text": [
      "\r",
      " [*********94%********** ] Elapsed 0.78s / Remaining 00:00:00:00"
     ]
    },
    {
     "name": "stdout",
     "output_type": "stream",
     "text": [
      "\r",
      " [*********94%********** ] Elapsed 0.78s / Remaining 00:00:00:00"
     ]
    },
    {
     "name": "stdout",
     "output_type": "stream",
     "text": [
      "\r",
      " [*********95%********** ] Elapsed 0.78s / Remaining 00:00:00:00"
     ]
    },
    {
     "name": "stdout",
     "output_type": "stream",
     "text": [
      "\r",
      " [*********95%********** ] Elapsed 0.78s / Remaining 00:00:00:00"
     ]
    },
    {
     "name": "stdout",
     "output_type": "stream",
     "text": [
      "\r",
      " [*********95%********** ] Elapsed 0.78s / Remaining 00:00:00:00"
     ]
    },
    {
     "name": "stdout",
     "output_type": "stream",
     "text": [
      "\r",
      " [*********95%********** ] Elapsed 0.78s / Remaining 00:00:00:00"
     ]
    },
    {
     "name": "stdout",
     "output_type": "stream",
     "text": [
      "\r",
      " [*********95%********** ] Elapsed 0.78s / Remaining 00:00:00:00"
     ]
    },
    {
     "name": "stdout",
     "output_type": "stream",
     "text": [
      "\r",
      " [*********95%********** ] Elapsed 0.78s / Remaining 00:00:00:00"
     ]
    },
    {
     "name": "stdout",
     "output_type": "stream",
     "text": [
      "\r",
      " [*********95%********** ] Elapsed 0.78s / Remaining 00:00:00:00"
     ]
    },
    {
     "name": "stdout",
     "output_type": "stream",
     "text": [
      "\r",
      " [*********95%********** ] Elapsed 0.78s / Remaining 00:00:00:00"
     ]
    },
    {
     "name": "stdout",
     "output_type": "stream",
     "text": [
      "\r",
      " [*********95%********** ] Elapsed 0.79s / Remaining 00:00:00:00"
     ]
    },
    {
     "name": "stdout",
     "output_type": "stream",
     "text": [
      "\r",
      " [*********95%********** ] Elapsed 0.79s / Remaining 00:00:00:00"
     ]
    },
    {
     "name": "stdout",
     "output_type": "stream",
     "text": [
      "\r",
      " [*********96%********** ] Elapsed 0.79s / Remaining 00:00:00:00"
     ]
    },
    {
     "name": "stdout",
     "output_type": "stream",
     "text": [
      "\r",
      " [*********96%********** ] Elapsed 0.79s / Remaining 00:00:00:00"
     ]
    },
    {
     "name": "stdout",
     "output_type": "stream",
     "text": [
      "\r",
      " [*********96%********** ] Elapsed 0.79s / Remaining 00:00:00:00"
     ]
    },
    {
     "name": "stdout",
     "output_type": "stream",
     "text": [
      "\r",
      " [*********96%********** ] Elapsed 0.79s / Remaining 00:00:00:00"
     ]
    },
    {
     "name": "stdout",
     "output_type": "stream",
     "text": [
      "\r",
      " [*********96%********** ] Elapsed 0.79s / Remaining 00:00:00:00"
     ]
    },
    {
     "name": "stdout",
     "output_type": "stream",
     "text": [
      "\r",
      " [*********96%********** ] Elapsed 0.79s / Remaining 00:00:00:00"
     ]
    },
    {
     "name": "stdout",
     "output_type": "stream",
     "text": [
      "\r",
      " [*********96%********** ] Elapsed 0.79s / Remaining 00:00:00:00"
     ]
    },
    {
     "name": "stdout",
     "output_type": "stream",
     "text": [
      "\r",
      " [*********96%********** ] Elapsed 0.79s / Remaining 00:00:00:00"
     ]
    },
    {
     "name": "stdout",
     "output_type": "stream",
     "text": [
      "\r",
      " [*********96%********** ] Elapsed 0.79s / Remaining 00:00:00:00"
     ]
    },
    {
     "name": "stdout",
     "output_type": "stream",
     "text": [
      "\r",
      " [*********96%********** ] Elapsed 0.79s / Remaining 00:00:00:00"
     ]
    },
    {
     "name": "stdout",
     "output_type": "stream",
     "text": [
      "\r",
      " [*********97%********** ] Elapsed 0.80s / Remaining 00:00:00:00"
     ]
    },
    {
     "name": "stdout",
     "output_type": "stream",
     "text": [
      "\r",
      " [*********97%********** ] Elapsed 0.80s / Remaining 00:00:00:00"
     ]
    },
    {
     "name": "stdout",
     "output_type": "stream",
     "text": [
      "\r",
      " [*********97%********** ] Elapsed 0.80s / Remaining 00:00:00:00"
     ]
    },
    {
     "name": "stdout",
     "output_type": "stream",
     "text": [
      "\r",
      " [*********97%********** ] Elapsed 0.80s / Remaining 00:00:00:00"
     ]
    },
    {
     "name": "stdout",
     "output_type": "stream",
     "text": [
      "\r",
      " [*********97%********** ] Elapsed 0.80s / Remaining 00:00:00:00"
     ]
    },
    {
     "name": "stdout",
     "output_type": "stream",
     "text": [
      "\r",
      " [*********97%********** ] Elapsed 0.80s / Remaining 00:00:00:00"
     ]
    },
    {
     "name": "stdout",
     "output_type": "stream",
     "text": [
      "\r",
      " [*********97%********** ] Elapsed 0.80s / Remaining 00:00:00:00"
     ]
    },
    {
     "name": "stdout",
     "output_type": "stream",
     "text": [
      "\r",
      " [*********97%********** ] Elapsed 0.80s / Remaining 00:00:00:00"
     ]
    },
    {
     "name": "stdout",
     "output_type": "stream",
     "text": [
      "\r",
      " [*********97%********** ] Elapsed 0.80s / Remaining 00:00:00:00"
     ]
    },
    {
     "name": "stdout",
     "output_type": "stream",
     "text": [
      "\r",
      " [*********97%********** ] Elapsed 0.80s / Remaining 00:00:00:00"
     ]
    },
    {
     "name": "stdout",
     "output_type": "stream",
     "text": [
      "\r",
      " [*********98%***********] Elapsed 0.80s / Remaining 00:00:00:00"
     ]
    },
    {
     "name": "stdout",
     "output_type": "stream",
     "text": [
      "\r",
      " [*********98%***********] Elapsed 0.80s / Remaining 00:00:00:00"
     ]
    },
    {
     "name": "stdout",
     "output_type": "stream",
     "text": [
      "\r",
      " [*********98%***********] Elapsed 0.80s / Remaining 00:00:00:00"
     ]
    },
    {
     "name": "stdout",
     "output_type": "stream",
     "text": [
      "\r",
      " [*********98%***********] Elapsed 0.81s / Remaining 00:00:00:00"
     ]
    },
    {
     "name": "stdout",
     "output_type": "stream",
     "text": [
      "\r",
      " [*********98%***********] Elapsed 0.81s / Remaining 00:00:00:00"
     ]
    },
    {
     "name": "stdout",
     "output_type": "stream",
     "text": [
      "\r",
      " [*********98%***********] Elapsed 0.81s / Remaining 00:00:00:00"
     ]
    },
    {
     "name": "stdout",
     "output_type": "stream",
     "text": [
      "\r",
      " [*********98%***********] Elapsed 0.81s / Remaining 00:00:00:00"
     ]
    },
    {
     "name": "stdout",
     "output_type": "stream",
     "text": [
      "\r",
      " [*********98%***********] Elapsed 0.81s / Remaining 00:00:00:00"
     ]
    },
    {
     "name": "stdout",
     "output_type": "stream",
     "text": [
      "\r",
      " [*********98%***********] Elapsed 0.81s / Remaining 00:00:00:00"
     ]
    },
    {
     "name": "stdout",
     "output_type": "stream",
     "text": [
      "\r",
      " [*********98%***********] Elapsed 0.81s / Remaining 00:00:00:00"
     ]
    },
    {
     "name": "stdout",
     "output_type": "stream",
     "text": [
      "\r",
      " [*********99%***********] Elapsed 0.81s / Remaining 00:00:00:00"
     ]
    },
    {
     "name": "stdout",
     "output_type": "stream",
     "text": [
      "\r",
      " [*********99%***********] Elapsed 0.81s / Remaining 00:00:00:00"
     ]
    },
    {
     "name": "stdout",
     "output_type": "stream",
     "text": [
      "\r",
      " [*********99%***********] Elapsed 0.81s / Remaining 00:00:00:00"
     ]
    },
    {
     "name": "stdout",
     "output_type": "stream",
     "text": [
      "\r",
      " [*********99%***********] Elapsed 0.81s / Remaining 00:00:00:00"
     ]
    },
    {
     "name": "stdout",
     "output_type": "stream",
     "text": [
      "\r",
      " [*********99%***********] Elapsed 0.81s / Remaining 00:00:00:00"
     ]
    },
    {
     "name": "stdout",
     "output_type": "stream",
     "text": [
      "\r",
      " [*********99%***********] Elapsed 0.82s / Remaining 00:00:00:00"
     ]
    },
    {
     "name": "stdout",
     "output_type": "stream",
     "text": [
      "\r",
      " [*********99%***********] Elapsed 0.82s / Remaining 00:00:00:00"
     ]
    },
    {
     "name": "stdout",
     "output_type": "stream",
     "text": [
      "\r",
      " [*********99%***********] Elapsed 0.82s / Remaining 00:00:00:00"
     ]
    },
    {
     "name": "stdout",
     "output_type": "stream",
     "text": [
      "\r",
      " [*********99%***********] Elapsed 0.82s / Remaining 00:00:00:00"
     ]
    },
    {
     "name": "stdout",
     "output_type": "stream",
     "text": [
      "\r",
      " [*********99%***********] Elapsed 0.82s / Remaining 00:00:00:00"
     ]
    },
    {
     "name": "stdout",
     "output_type": "stream",
     "text": [
      "\r",
      " [********100%***********] Elapsed 0.82s / Remaining 00:00:00:00"
     ]
    },
    {
     "name": "stdout",
     "output_type": "stream",
     "text": [
      "\r",
      " [********100%***********] Elapsed 0.82s / Remaining 00:00:00:00"
     ]
    },
    {
     "name": "stdout",
     "output_type": "stream",
     "text": [
      "\r",
      " [********100%***********] Elapsed 0.82s / Remaining 00:00:00:00"
     ]
    },
    {
     "name": "stdout",
     "output_type": "stream",
     "text": [
      "\r",
      " [********100%***********] Elapsed 0.82s / Remaining 00:00:00:00"
     ]
    },
    {
     "name": "stdout",
     "output_type": "stream",
     "text": [
      "\r",
      " [********100%***********] Elapsed 0.82s / Remaining 00:00:00:00"
     ]
    },
    {
     "name": "stdout",
     "output_type": "stream",
     "text": [
      "\r",
      " Total run time:   0.82s\n",
      "ODE solver time: 0.8240458965301514\n"
     ]
    }
   ],
   "source": [
    "with timer(\"RHS construction time\"):\n",
    "    env_mats = env.approximate(method=\"matsubara\", Nk=Nk)\n",
    "    HEOMMats = HEOMSolver(Hsys, (env_mats, Q), NC, options=options)\n",
    "\n",
    "with timer(\"ODE solver time\"):\n",
    "    resultMats = HEOMMats.run(rho0, tlist)"
   ]
  },
  {
   "cell_type": "code",
   "execution_count": 12,
   "id": "bbe1d964",
   "metadata": {
    "execution": {
     "iopub.execute_input": "2025-08-20T04:02:47.055064Z",
     "iopub.status.busy": "2025-08-20T04:02:47.054882Z",
     "iopub.status.idle": "2025-08-20T04:02:47.189608Z",
     "shell.execute_reply": "2025-08-20T04:02:47.189063Z"
    }
   },
   "outputs": [
    {
     "data": {
      "image/png": "[encoded data removed]",
      "text/plain": [
       "<Figure size 800x800 with 1 Axes>"
      ]
     },
     "metadata": {},
     "output_type": "display_data"
    }
   ],
   "source": [
    "# Plot the results so far\n",
    "plot_result_expectations([\n",
    "    (resultMats, P11p, 'b', \"P11 Matsubara\"),\n",
    "    (resultMats, P12p, 'r', \"P12 Matsubara\"),\n",
    "]);"
   ]
  },
  {
   "cell_type": "markdown",
   "id": "7ff6360e",
   "metadata": {},
   "source": [
    "## Simulation 2: Matsubara decomposition (including terminator)"
   ]
  },
  {
   "cell_type": "code",
   "execution_count": 13,
   "id": "76895afd",
   "metadata": {
    "execution": {
     "iopub.execute_input": "2025-08-20T04:02:47.191123Z",
     "iopub.status.busy": "2025-08-20T04:02:47.190939Z",
     "iopub.status.idle": "2025-08-20T04:02:48.045597Z",
     "shell.execute_reply": "2025-08-20T04:02:48.045132Z"
    }
   },
   "outputs": [
    {
     "name": "stdout",
     "output_type": "stream",
     "text": [
      "RHS construction time: 0.0214385986328125\n"
     ]
    },
    {
     "name": "stdout",
     "output_type": "stream",
     "text": [
      "\r",
      " [          0%           ] Elapsed 0.00s / Remaining 00:00:00:00"
     ]
    },
    {
     "name": "stdout",
     "output_type": "stream",
     "text": [
      "\r",
      " [          0%           ] Elapsed 0.00s / Remaining 00:00:00:00"
     ]
    },
    {
     "name": "stdout",
     "output_type": "stream",
     "text": [
      "\r",
      " [          0%           ] Elapsed 0.00s / Remaining 00:00:00:00"
     ]
    },
    {
     "name": "stdout",
     "output_type": "stream",
     "text": [
      "\r",
      " [          0%           ] Elapsed 0.00s / Remaining 00:00:00:00"
     ]
    },
    {
     "name": "stdout",
     "output_type": "stream",
     "text": [
      "\r",
      " [          1%           ] Elapsed 0.01s / Remaining 00:00:00:00"
     ]
    },
    {
     "name": "stdout",
     "output_type": "stream",
     "text": [
      "\r",
      " [          1%           ] Elapsed 0.01s / Remaining 00:00:00:00"
     ]
    },
    {
     "name": "stdout",
     "output_type": "stream",
     "text": [
      "\r",
      " [          1%           ] Elapsed 0.01s / Remaining 00:00:00:00"
     ]
    },
    {
     "name": "stdout",
     "output_type": "stream",
     "text": [
      "\r",
      " [          1%           ] Elapsed 0.01s / Remaining 00:00:00:00"
     ]
    },
    {
     "name": "stdout",
     "output_type": "stream",
     "text": [
      "\r",
      " [          1%           ] Elapsed 0.01s / Remaining 00:00:00:00"
     ]
    },
    {
     "name": "stdout",
     "output_type": "stream",
     "text": [
      "\r",
      " [          1%           ] Elapsed 0.01s / Remaining 00:00:00:00"
     ]
    },
    {
     "name": "stdout",
     "output_type": "stream",
     "text": [
      "\r",
      " [          1%           ] Elapsed 0.01s / Remaining 00:00:00:01"
     ]
    },
    {
     "name": "stdout",
     "output_type": "stream",
     "text": [
      "\r",
      " [          1%           ] Elapsed 0.01s / Remaining 00:00:00:01"
     ]
    },
    {
     "name": "stdout",
     "output_type": "stream",
     "text": [
      "\r",
      " [          1%           ] Elapsed 0.01s / Remaining 00:00:00:01"
     ]
    },
    {
     "name": "stdout",
     "output_type": "stream",
     "text": [
      "\r",
      " [          1%           ] Elapsed 0.01s / Remaining 00:00:00:01"
     ]
    },
    {
     "name": "stdout",
     "output_type": "stream",
     "text": [
      "\r",
      " [          2%           ] Elapsed 0.01s / Remaining 00:00:00:00"
     ]
    },
    {
     "name": "stdout",
     "output_type": "stream",
     "text": [
      "\r",
      " [          2%           ] Elapsed 0.01s / Remaining 00:00:00:00"
     ]
    },
    {
     "name": "stdout",
     "output_type": "stream",
     "text": [
      "\r",
      " [          2%           ] Elapsed 0.01s / Remaining 00:00:00:00"
     ]
    },
    {
     "name": "stdout",
     "output_type": "stream",
     "text": [
      "\r",
      " [          2%           ] Elapsed 0.02s / Remaining 00:00:00:00"
     ]
    },
    {
     "name": "stdout",
     "output_type": "stream",
     "text": [
      "\r",
      " [          2%           ] Elapsed 0.02s / Remaining 00:00:00:00"
     ]
    },
    {
     "name": "stdout",
     "output_type": "stream",
     "text": [
      "\r",
      " [          2%           ] Elapsed 0.02s / Remaining 00:00:00:00"
     ]
    },
    {
     "name": "stdout",
     "output_type": "stream",
     "text": [
      "\r",
      " [          2%           ] Elapsed 0.02s / Remaining 00:00:00:00"
     ]
    },
    {
     "name": "stdout",
     "output_type": "stream",
     "text": [
      "\r",
      " [          2%           ] Elapsed 0.02s / Remaining 00:00:00:00"
     ]
    },
    {
     "name": "stdout",
     "output_type": "stream",
     "text": [
      "\r",
      " [          2%           ] Elapsed 0.02s / Remaining 00:00:00:00"
     ]
    },
    {
     "name": "stdout",
     "output_type": "stream",
     "text": [
      "\r",
      " [          2%           ] Elapsed 0.02s / Remaining 00:00:00:00"
     ]
    },
    {
     "name": "stdout",
     "output_type": "stream",
     "text": [
      "\r",
      " [*         3%           ] Elapsed 0.02s / Remaining 00:00:00:00"
     ]
    },
    {
     "name": "stdout",
     "output_type": "stream",
     "text": [
      "\r",
      " [*         3%           ] Elapsed 0.02s / Remaining 00:00:00:00"
     ]
    },
    {
     "name": "stdout",
     "output_type": "stream",
     "text": [
      "\r",
      " [*         3%           ] Elapsed 0.02s / Remaining 00:00:00:00"
     ]
    },
    {
     "name": "stdout",
     "output_type": "stream",
     "text": [
      "\r",
      " [*         3%           ] Elapsed 0.02s / Remaining 00:00:00:00"
     ]
    },
    {
     "name": "stdout",
     "output_type": "stream",
     "text": [
      "\r",
      " [*         3%           ] Elapsed 0.02s / Remaining 00:00:00:00"
     ]
    },
    {
     "name": "stdout",
     "output_type": "stream",
     "text": [
      "\r",
      " [*         3%           ] Elapsed 0.03s / Remaining 00:00:00:00"
     ]
    },
    {
     "name": "stdout",
     "output_type": "stream",
     "text": [
      "\r",
      " [*         3%           ] Elapsed 0.03s / Remaining 00:00:00:00"
     ]
    },
    {
     "name": "stdout",
     "output_type": "stream",
     "text": [
      "\r",
      " [*         3%           ] Elapsed 0.03s / Remaining 00:00:00:00"
     ]
    },
    {
     "name": "stdout",
     "output_type": "stream",
     "text": [
      "\r",
      " [*         3%           ] Elapsed 0.03s / Remaining 00:00:00:00"
     ]
    },
    {
     "name": "stdout",
     "output_type": "stream",
     "text": [
      "\r",
      " [*         3%           ] Elapsed 0.03s / Remaining 00:00:00:00"
     ]
    },
    {
     "name": "stdout",
     "output_type": "stream",
     "text": [
      "\r",
      " [*         4%           ] Elapsed 0.03s / Remaining 00:00:00:00"
     ]
    },
    {
     "name": "stdout",
     "output_type": "stream",
     "text": [
      "\r",
      " [*         4%           ] Elapsed 0.03s / Remaining 00:00:00:00"
     ]
    },
    {
     "name": "stdout",
     "output_type": "stream",
     "text": [
      "\r",
      " [*         4%           ] Elapsed 0.03s / Remaining 00:00:00:00"
     ]
    },
    {
     "name": "stdout",
     "output_type": "stream",
     "text": [
      "\r",
      " [*         4%           ] Elapsed 0.03s / Remaining 00:00:00:00"
     ]
    },
    {
     "name": "stdout",
     "output_type": "stream",
     "text": [
      "\r",
      " [*         4%           ] Elapsed 0.03s / Remaining 00:00:00:00"
     ]
    },
    {
     "name": "stdout",
     "output_type": "stream",
     "text": [
      "\r",
      " [*         4%           ] Elapsed 0.03s / Remaining 00:00:00:00"
     ]
    },
    {
     "name": "stdout",
     "output_type": "stream",
     "text": [
      "\r",
      " [*         4%           ] Elapsed 0.03s / Remaining 00:00:00:00"
     ]
    },
    {
     "name": "stdout",
     "output_type": "stream",
     "text": [
      "\r",
      " [*         4%           ] Elapsed 0.03s / Remaining 00:00:00:00"
     ]
    },
    {
     "name": "stdout",
     "output_type": "stream",
     "text": [
      "\r",
      " [*         4%           ] Elapsed 0.04s / Remaining 00:00:00:00"
     ]
    },
    {
     "name": "stdout",
     "output_type": "stream",
     "text": [
      "\r",
      " [*         4%           ] Elapsed 0.04s / Remaining 00:00:00:00"
     ]
    },
    {
     "name": "stdout",
     "output_type": "stream",
     "text": [
      "\r",
      " [*         5%           ] Elapsed 0.04s / Remaining 00:00:00:00"
     ]
    },
    {
     "name": "stdout",
     "output_type": "stream",
     "text": [
      "\r",
      " [*         5%           ] Elapsed 0.04s / Remaining 00:00:00:00"
     ]
    },
    {
     "name": "stdout",
     "output_type": "stream",
     "text": [
      "\r",
      " [*         5%           ] Elapsed 0.04s / Remaining 00:00:00:00"
     ]
    },
    {
     "name": "stdout",
     "output_type": "stream",
     "text": [
      "\r",
      " [*         5%           ] Elapsed 0.04s / Remaining 00:00:00:00"
     ]
    },
    {
     "name": "stdout",
     "output_type": "stream",
     "text": [
      "\r",
      " [*         5%           ] Elapsed 0.04s / Remaining 00:00:00:00"
     ]
    },
    {
     "name": "stdout",
     "output_type": "stream",
     "text": [
      "\r",
      " [*         5%           ] Elapsed 0.04s / Remaining 00:00:00:00"
     ]
    },
    {
     "name": "stdout",
     "output_type": "stream",
     "text": [
      "\r",
      " [*         5%           ] Elapsed 0.04s / Remaining 00:00:00:00"
     ]
    },
    {
     "name": "stdout",
     "output_type": "stream",
     "text": [
      "\r",
      " [*         5%           ] Elapsed 0.04s / Remaining 00:00:00:00"
     ]
    },
    {
     "name": "stdout",
     "output_type": "stream",
     "text": [
      "\r",
      " [*         5%           ] Elapsed 0.04s / Remaining 00:00:00:00"
     ]
    },
    {
     "name": "stdout",
     "output_type": "stream",
     "text": [
      "\r",
      " [*         5%           ] Elapsed 0.04s / Remaining 00:00:00:00"
     ]
    },
    {
     "name": "stdout",
     "output_type": "stream",
     "text": [
      "\r",
      " [*         6%           ] Elapsed 0.04s / Remaining 00:00:00:00"
     ]
    },
    {
     "name": "stdout",
     "output_type": "stream",
     "text": [
      "\r",
      " [*         6%           ] Elapsed 0.05s / Remaining 00:00:00:00"
     ]
    },
    {
     "name": "stdout",
     "output_type": "stream",
     "text": [
      "\r",
      " [*         6%           ] Elapsed 0.05s / Remaining 00:00:00:00"
     ]
    },
    {
     "name": "stdout",
     "output_type": "stream",
     "text": [
      "\r",
      " [*         6%           ] Elapsed 0.05s / Remaining 00:00:00:00"
     ]
    },
    {
     "name": "stdout",
     "output_type": "stream",
     "text": [
      "\r",
      " [*         6%           ] Elapsed 0.05s / Remaining 00:00:00:00"
     ]
    },
    {
     "name": "stdout",
     "output_type": "stream",
     "text": [
      "\r",
      " [*         6%           ] Elapsed 0.05s / Remaining 00:00:00:00"
     ]
    },
    {
     "name": "stdout",
     "output_type": "stream",
     "text": [
      "\r",
      " [*         6%           ] Elapsed 0.05s / Remaining 00:00:00:00"
     ]
    },
    {
     "name": "stdout",
     "output_type": "stream",
     "text": [
      "\r",
      " [*         6%           ] Elapsed 0.05s / Remaining 00:00:00:00"
     ]
    },
    {
     "name": "stdout",
     "output_type": "stream",
     "text": [
      "\r",
      " [*         6%           ] Elapsed 0.05s / Remaining 00:00:00:00"
     ]
    },
    {
     "name": "stdout",
     "output_type": "stream",
     "text": [
      "\r",
      " [*         6%           ] Elapsed 0.05s / Remaining 00:00:00:00"
     ]
    },
    {
     "name": "stdout",
     "output_type": "stream",
     "text": [
      "\r",
      " [**        7%           ] Elapsed 0.05s / Remaining 00:00:00:00"
     ]
    },
    {
     "name": "stdout",
     "output_type": "stream",
     "text": [
      "\r",
      " [**        7%           ] Elapsed 0.05s / Remaining 00:00:00:00"
     ]
    },
    {
     "name": "stdout",
     "output_type": "stream",
     "text": [
      "\r",
      " [**        7%           ] Elapsed 0.05s / Remaining 00:00:00:00"
     ]
    },
    {
     "name": "stdout",
     "output_type": "stream",
     "text": [
      "\r",
      " [**        7%           ] Elapsed 0.06s / Remaining 00:00:00:00"
     ]
    },
    {
     "name": "stdout",
     "output_type": "stream",
     "text": [
      "\r",
      " [**        7%           ] Elapsed 0.06s / Remaining 00:00:00:00"
     ]
    },
    {
     "name": "stdout",
     "output_type": "stream",
     "text": [
      "\r",
      " [**        7%           ] Elapsed 0.06s / Remaining 00:00:00:00"
     ]
    },
    {
     "name": "stdout",
     "output_type": "stream",
     "text": [
      "\r",
      " [**        7%           ] Elapsed 0.06s / Remaining 00:00:00:00"
     ]
    },
    {
     "name": "stdout",
     "output_type": "stream",
     "text": [
      "\r",
      " [**        7%           ] Elapsed 0.06s / Remaining 00:00:00:00"
     ]
    },
    {
     "name": "stdout",
     "output_type": "stream",
     "text": [
      "\r",
      " [**        7%           ] Elapsed 0.06s / Remaining 00:00:00:00"
     ]
    },
    {
     "name": "stdout",
     "output_type": "stream",
     "text": [
      "\r",
      " [**        7%           ] Elapsed 0.06s / Remaining 00:00:00:00"
     ]
    },
    {
     "name": "stdout",
     "output_type": "stream",
     "text": [
      "\r",
      " [**        8%           ] Elapsed 0.06s / Remaining 00:00:00:00"
     ]
    },
    {
     "name": "stdout",
     "output_type": "stream",
     "text": [
      "\r",
      " [**        8%           ] Elapsed 0.06s / Remaining 00:00:00:00"
     ]
    },
    {
     "name": "stdout",
     "output_type": "stream",
     "text": [
      "\r",
      " [**        8%           ] Elapsed 0.06s / Remaining 00:00:00:00"
     ]
    },
    {
     "name": "stdout",
     "output_type": "stream",
     "text": [
      "\r",
      " [**        8%           ] Elapsed 0.06s / Remaining 00:00:00:00"
     ]
    },
    {
     "name": "stdout",
     "output_type": "stream",
     "text": [
      "\r",
      " [**        8%           ] Elapsed 0.06s / Remaining 00:00:00:00"
     ]
    },
    {
     "name": "stdout",
     "output_type": "stream",
     "text": [
      "\r",
      " [**        8%           ] Elapsed 0.07s / Remaining 00:00:00:00"
     ]
    },
    {
     "name": "stdout",
     "output_type": "stream",
     "text": [
      "\r",
      " [**        8%           ] Elapsed 0.07s / Remaining 00:00:00:00"
     ]
    },
    {
     "name": "stdout",
     "output_type": "stream",
     "text": [
      "\r",
      " [**        8%           ] Elapsed 0.07s / Remaining 00:00:00:00"
     ]
    },
    {
     "name": "stdout",
     "output_type": "stream",
     "text": [
      "\r",
      " [**        8%           ] Elapsed 0.07s / Remaining 00:00:00:00"
     ]
    },
    {
     "name": "stdout",
     "output_type": "stream",
     "text": [
      "\r",
      " [**        8%           ] Elapsed 0.07s / Remaining 00:00:00:00"
     ]
    },
    {
     "name": "stdout",
     "output_type": "stream",
     "text": [
      "\r",
      " [**        9%           ] Elapsed 0.07s / Remaining 00:00:00:00"
     ]
    },
    {
     "name": "stdout",
     "output_type": "stream",
     "text": [
      "\r",
      " [**        9%           ] Elapsed 0.07s / Remaining 00:00:00:00"
     ]
    },
    {
     "name": "stdout",
     "output_type": "stream",
     "text": [
      "\r",
      " [**        9%           ] Elapsed 0.07s / Remaining 00:00:00:00"
     ]
    },
    {
     "name": "stdout",
     "output_type": "stream",
     "text": [
      "\r",
      " [**        9%           ] Elapsed 0.07s / Remaining 00:00:00:00"
     ]
    },
    {
     "name": "stdout",
     "output_type": "stream",
     "text": [
      "\r",
      " [**        9%           ] Elapsed 0.07s / Remaining 00:00:00:00"
     ]
    },
    {
     "name": "stdout",
     "output_type": "stream",
     "text": [
      "\r",
      " [**        9%           ] Elapsed 0.07s / Remaining 00:00:00:00"
     ]
    },
    {
     "name": "stdout",
     "output_type": "stream",
     "text": [
      "\r",
      " [**        9%           ] Elapsed 0.07s / Remaining 00:00:00:00"
     ]
    },
    {
     "name": "stdout",
     "output_type": "stream",
     "text": [
      "\r",
      " [**        9%           ] Elapsed 0.08s / Remaining 00:00:00:00"
     ]
    },
    {
     "name": "stdout",
     "output_type": "stream",
     "text": [
      "\r",
      " [**        9%           ] Elapsed 0.08s / Remaining 00:00:00:00"
     ]
    },
    {
     "name": "stdout",
     "output_type": "stream",
     "text": [
      "\r",
      " [**        9%           ] Elapsed 0.08s / Remaining 00:00:00:00"
     ]
    },
    {
     "name": "stdout",
     "output_type": "stream",
     "text": [
      "\r",
      " [**       10%           ] Elapsed 0.08s / Remaining 00:00:00:00"
     ]
    },
    {
     "name": "stdout",
     "output_type": "stream",
     "text": [
      "\r",
      " [**       10%           ] Elapsed 0.08s / Remaining 00:00:00:00"
     ]
    },
    {
     "name": "stdout",
     "output_type": "stream",
     "text": [
      "\r",
      " [**       10%           ] Elapsed 0.08s / Remaining 00:00:00:00"
     ]
    },
    {
     "name": "stdout",
     "output_type": "stream",
     "text": [
      "\r",
      " [**       10%           ] Elapsed 0.08s / Remaining 00:00:00:00"
     ]
    },
    {
     "name": "stdout",
     "output_type": "stream",
     "text": [
      "\r",
      " [**       10%           ] Elapsed 0.08s / Remaining 00:00:00:00"
     ]
    },
    {
     "name": "stdout",
     "output_type": "stream",
     "text": [
      "\r",
      " [**       10%           ] Elapsed 0.08s / Remaining 00:00:00:00"
     ]
    },
    {
     "name": "stdout",
     "output_type": "stream",
     "text": [
      "\r",
      " [**       10%           ] Elapsed 0.08s / Remaining 00:00:00:00"
     ]
    },
    {
     "name": "stdout",
     "output_type": "stream",
     "text": [
      "\r",
      " [**       10%           ] Elapsed 0.08s / Remaining 00:00:00:00"
     ]
    },
    {
     "name": "stdout",
     "output_type": "stream",
     "text": [
      "\r",
      " [**       10%           ] Elapsed 0.08s / Remaining 00:00:00:00"
     ]
    },
    {
     "name": "stdout",
     "output_type": "stream",
     "text": [
      "\r",
      " [**       10%           ] Elapsed 0.09s / Remaining 00:00:00:00"
     ]
    },
    {
     "name": "stdout",
     "output_type": "stream",
     "text": [
      "\r",
      " [***      11%           ] Elapsed 0.09s / Remaining 00:00:00:00"
     ]
    },
    {
     "name": "stdout",
     "output_type": "stream",
     "text": [
      "\r",
      " [***      11%           ] Elapsed 0.09s / Remaining 00:00:00:00"
     ]
    },
    {
     "name": "stdout",
     "output_type": "stream",
     "text": [
      "\r",
      " [***      11%           ] Elapsed 0.09s / Remaining 00:00:00:00"
     ]
    },
    {
     "name": "stdout",
     "output_type": "stream",
     "text": [
      "\r",
      " [***      11%           ] Elapsed 0.09s / Remaining 00:00:00:00"
     ]
    },
    {
     "name": "stdout",
     "output_type": "stream",
     "text": [
      "\r",
      " [***      11%           ] Elapsed 0.09s / Remaining 00:00:00:00"
     ]
    },
    {
     "name": "stdout",
     "output_type": "stream",
     "text": [
      "\r",
      " [***      11%           ] Elapsed 0.09s / Remaining 00:00:00:00"
     ]
    },
    {
     "name": "stdout",
     "output_type": "stream",
     "text": [
      "\r",
      " [***      11%           ] Elapsed 0.09s / Remaining 00:00:00:00"
     ]
    },
    {
     "name": "stdout",
     "output_type": "stream",
     "text": [
      "\r",
      " [***      11%           ] Elapsed 0.09s / Remaining 00:00:00:00"
     ]
    },
    {
     "name": "stdout",
     "output_type": "stream",
     "text": [
      "\r",
      " [***      11%           ] Elapsed 0.09s / Remaining 00:00:00:00"
     ]
    },
    {
     "name": "stdout",
     "output_type": "stream",
     "text": [
      "\r",
      " [***      11%           ] Elapsed 0.09s / Remaining 00:00:00:00"
     ]
    },
    {
     "name": "stdout",
     "output_type": "stream",
     "text": [
      "\r",
      " [***      12%           ] Elapsed 0.09s / Remaining 00:00:00:00"
     ]
    },
    {
     "name": "stdout",
     "output_type": "stream",
     "text": [
      "\r",
      " [***      12%           ] Elapsed 0.10s / Remaining 00:00:00:00"
     ]
    },
    {
     "name": "stdout",
     "output_type": "stream",
     "text": [
      "\r",
      " [***      12%           ] Elapsed 0.10s / Remaining 00:00:00:00"
     ]
    },
    {
     "name": "stdout",
     "output_type": "stream",
     "text": [
      "\r",
      " [***      12%           ] Elapsed 0.10s / Remaining 00:00:00:00"
     ]
    },
    {
     "name": "stdout",
     "output_type": "stream",
     "text": [
      "\r",
      " [***      12%           ] Elapsed 0.10s / Remaining 00:00:00:00"
     ]
    },
    {
     "name": "stdout",
     "output_type": "stream",
     "text": [
      "\r",
      " [***      12%           ] Elapsed 0.10s / Remaining 00:00:00:00"
     ]
    },
    {
     "name": "stdout",
     "output_type": "stream",
     "text": [
      "\r",
      " [***      12%           ] Elapsed 0.10s / Remaining 00:00:00:00"
     ]
    },
    {
     "name": "stdout",
     "output_type": "stream",
     "text": [
      "\r",
      " [***      12%           ] Elapsed 0.10s / Remaining 00:00:00:00"
     ]
    },
    {
     "name": "stdout",
     "output_type": "stream",
     "text": [
      "\r",
      " [***      12%           ] Elapsed 0.10s / Remaining 00:00:00:00"
     ]
    },
    {
     "name": "stdout",
     "output_type": "stream",
     "text": [
      "\r",
      " [***      12%           ] Elapsed 0.10s / Remaining 00:00:00:00"
     ]
    },
    {
     "name": "stdout",
     "output_type": "stream",
     "text": [
      "\r",
      " [***      13%           ] Elapsed 0.10s / Remaining 00:00:00:00"
     ]
    },
    {
     "name": "stdout",
     "output_type": "stream",
     "text": [
      "\r",
      " [***      13%           ] Elapsed 0.10s / Remaining 00:00:00:00"
     ]
    },
    {
     "name": "stdout",
     "output_type": "stream",
     "text": [
      "\r",
      " [***      13%           ] Elapsed 0.11s / Remaining 00:00:00:00"
     ]
    },
    {
     "name": "stdout",
     "output_type": "stream",
     "text": [
      "\r",
      " [***      13%           ] Elapsed 0.11s / Remaining 00:00:00:00"
     ]
    },
    {
     "name": "stdout",
     "output_type": "stream",
     "text": [
      "\r",
      " [***      13%           ] Elapsed 0.11s / Remaining 00:00:00:00"
     ]
    },
    {
     "name": "stdout",
     "output_type": "stream",
     "text": [
      "\r",
      " [***      13%           ] Elapsed 0.11s / Remaining 00:00:00:00"
     ]
    },
    {
     "name": "stdout",
     "output_type": "stream",
     "text": [
      "\r",
      " [***      13%           ] Elapsed 0.11s / Remaining 00:00:00:00"
     ]
    },
    {
     "name": "stdout",
     "output_type": "stream",
     "text": [
      "\r",
      " [***      13%           ] Elapsed 0.11s / Remaining 00:00:00:00"
     ]
    },
    {
     "name": "stdout",
     "output_type": "stream",
     "text": [
      "\r",
      " [***      13%           ] Elapsed 0.11s / Remaining 00:00:00:00"
     ]
    },
    {
     "name": "stdout",
     "output_type": "stream",
     "text": [
      "\r",
      " [***      13%           ] Elapsed 0.11s / Remaining 00:00:00:00"
     ]
    },
    {
     "name": "stdout",
     "output_type": "stream",
     "text": [
      "\r",
      " [***      14%           ] Elapsed 0.11s / Remaining 00:00:00:00"
     ]
    },
    {
     "name": "stdout",
     "output_type": "stream",
     "text": [
      "\r",
      " [***      14%           ] Elapsed 0.11s / Remaining 00:00:00:00"
     ]
    },
    {
     "name": "stdout",
     "output_type": "stream",
     "text": [
      "\r",
      " [***      14%           ] Elapsed 0.11s / Remaining 00:00:00:00"
     ]
    },
    {
     "name": "stdout",
     "output_type": "stream",
     "text": [
      "\r",
      " [***      14%           ] Elapsed 0.11s / Remaining 00:00:00:00"
     ]
    },
    {
     "name": "stdout",
     "output_type": "stream",
     "text": [
      "\r",
      " [***      14%           ] Elapsed 0.11s / Remaining 00:00:00:00"
     ]
    },
    {
     "name": "stdout",
     "output_type": "stream",
     "text": [
      "\r",
      " [***      14%           ] Elapsed 0.12s / Remaining 00:00:00:00"
     ]
    },
    {
     "name": "stdout",
     "output_type": "stream",
     "text": [
      "\r",
      " [***      14%           ] Elapsed 0.12s / Remaining 00:00:00:00"
     ]
    },
    {
     "name": "stdout",
     "output_type": "stream",
     "text": [
      "\r",
      " [***      14%           ] Elapsed 0.12s / Remaining 00:00:00:00"
     ]
    },
    {
     "name": "stdout",
     "output_type": "stream",
     "text": [
      "\r",
      " [***      14%           ] Elapsed 0.12s / Remaining 00:00:00:00"
     ]
    },
    {
     "name": "stdout",
     "output_type": "stream",
     "text": [
      "\r",
      " [***      14%           ] Elapsed 0.12s / Remaining 00:00:00:00"
     ]
    },
    {
     "name": "stdout",
     "output_type": "stream",
     "text": [
      "\r",
      " [***      15%           ] Elapsed 0.12s / Remaining 00:00:00:00"
     ]
    },
    {
     "name": "stdout",
     "output_type": "stream",
     "text": [
      "\r",
      " [***      15%           ] Elapsed 0.12s / Remaining 00:00:00:00"
     ]
    },
    {
     "name": "stdout",
     "output_type": "stream",
     "text": [
      "\r",
      " [***      15%           ] Elapsed 0.12s / Remaining 00:00:00:00"
     ]
    },
    {
     "name": "stdout",
     "output_type": "stream",
     "text": [
      "\r",
      " [***      15%           ] Elapsed 0.12s / Remaining 00:00:00:00"
     ]
    },
    {
     "name": "stdout",
     "output_type": "stream",
     "text": [
      "\r",
      " [***      15%           ] Elapsed 0.12s / Remaining 00:00:00:00"
     ]
    },
    {
     "name": "stdout",
     "output_type": "stream",
     "text": [
      "\r",
      " [***      15%           ] Elapsed 0.12s / Remaining 00:00:00:00"
     ]
    },
    {
     "name": "stdout",
     "output_type": "stream",
     "text": [
      "\r",
      " [***      15%           ] Elapsed 0.13s / Remaining 00:00:00:00"
     ]
    },
    {
     "name": "stdout",
     "output_type": "stream",
     "text": [
      "\r",
      " [***      15%           ] Elapsed 0.13s / Remaining 00:00:00:00"
     ]
    },
    {
     "name": "stdout",
     "output_type": "stream",
     "text": [
      "\r",
      " [***      15%           ] Elapsed 0.13s / Remaining 00:00:00:00"
     ]
    },
    {
     "name": "stdout",
     "output_type": "stream",
     "text": [
      "\r",
      " [***      15%           ] Elapsed 0.13s / Remaining 00:00:00:00"
     ]
    },
    {
     "name": "stdout",
     "output_type": "stream",
     "text": [
      "\r",
      " [****     16%           ] Elapsed 0.13s / Remaining 00:00:00:00"
     ]
    },
    {
     "name": "stdout",
     "output_type": "stream",
     "text": [
      "\r",
      " [****     16%           ] Elapsed 0.13s / Remaining 00:00:00:00"
     ]
    },
    {
     "name": "stdout",
     "output_type": "stream",
     "text": [
      "\r",
      " [****     16%           ] Elapsed 0.13s / Remaining 00:00:00:00"
     ]
    },
    {
     "name": "stdout",
     "output_type": "stream",
     "text": [
      "\r",
      " [****     16%           ] Elapsed 0.13s / Remaining 00:00:00:00"
     ]
    },
    {
     "name": "stdout",
     "output_type": "stream",
     "text": [
      "\r",
      " [****     16%           ] Elapsed 0.13s / Remaining 00:00:00:00"
     ]
    },
    {
     "name": "stdout",
     "output_type": "stream",
     "text": [
      "\r",
      " [****     16%           ] Elapsed 0.13s / Remaining 00:00:00:00"
     ]
    },
    {
     "name": "stdout",
     "output_type": "stream",
     "text": [
      "\r",
      " [****     16%           ] Elapsed 0.13s / Remaining 00:00:00:00"
     ]
    },
    {
     "name": "stdout",
     "output_type": "stream",
     "text": [
      "\r",
      " [****     16%           ] Elapsed 0.13s / Remaining 00:00:00:00"
     ]
    },
    {
     "name": "stdout",
     "output_type": "stream",
     "text": [
      "\r",
      " [****     16%           ] Elapsed 0.13s / Remaining 00:00:00:00"
     ]
    },
    {
     "name": "stdout",
     "output_type": "stream",
     "text": [
      "\r",
      " [****     16%           ] Elapsed 0.14s / Remaining 00:00:00:00"
     ]
    },
    {
     "name": "stdout",
     "output_type": "stream",
     "text": [
      "\r",
      " [****     17%           ] Elapsed 0.14s / Remaining 00:00:00:00"
     ]
    },
    {
     "name": "stdout",
     "output_type": "stream",
     "text": [
      "\r",
      " [****     17%           ] Elapsed 0.14s / Remaining 00:00:00:00"
     ]
    },
    {
     "name": "stdout",
     "output_type": "stream",
     "text": [
      "\r",
      " [****     17%           ] Elapsed 0.14s / Remaining 00:00:00:00"
     ]
    },
    {
     "name": "stdout",
     "output_type": "stream",
     "text": [
      "\r",
      " [****     17%           ] Elapsed 0.14s / Remaining 00:00:00:00"
     ]
    },
    {
     "name": "stdout",
     "output_type": "stream",
     "text": [
      "\r",
      " [****     17%           ] Elapsed 0.14s / Remaining 00:00:00:00"
     ]
    },
    {
     "name": "stdout",
     "output_type": "stream",
     "text": [
      "\r",
      " [****     17%           ] Elapsed 0.14s / Remaining 00:00:00:00"
     ]
    },
    {
     "name": "stdout",
     "output_type": "stream",
     "text": [
      "\r",
      " [****     17%           ] Elapsed 0.14s / Remaining 00:00:00:00"
     ]
    },
    {
     "name": "stdout",
     "output_type": "stream",
     "text": [
      "\r",
      " [****     17%           ] Elapsed 0.14s / Remaining 00:00:00:00"
     ]
    },
    {
     "name": "stdout",
     "output_type": "stream",
     "text": [
      "\r",
      " [****     17%           ] Elapsed 0.14s / Remaining 00:00:00:00"
     ]
    },
    {
     "name": "stdout",
     "output_type": "stream",
     "text": [
      "\r",
      " [****     17%           ] Elapsed 0.14s / Remaining 00:00:00:00"
     ]
    },
    {
     "name": "stdout",
     "output_type": "stream",
     "text": [
      "\r",
      " [****     18%           ] Elapsed 0.14s / Remaining 00:00:00:00"
     ]
    },
    {
     "name": "stdout",
     "output_type": "stream",
     "text": [
      "\r",
      " [****     18%           ] Elapsed 0.15s / Remaining 00:00:00:00"
     ]
    },
    {
     "name": "stdout",
     "output_type": "stream",
     "text": [
      "\r",
      " [****     18%           ] Elapsed 0.15s / Remaining 00:00:00:00"
     ]
    },
    {
     "name": "stdout",
     "output_type": "stream",
     "text": [
      "\r",
      " [****     18%           ] Elapsed 0.15s / Remaining 00:00:00:00"
     ]
    },
    {
     "name": "stdout",
     "output_type": "stream",
     "text": [
      "\r",
      " [****     18%           ] Elapsed 0.15s / Remaining 00:00:00:00"
     ]
    },
    {
     "name": "stdout",
     "output_type": "stream",
     "text": [
      "\r",
      " [****     18%           ] Elapsed 0.15s / Remaining 00:00:00:00"
     ]
    },
    {
     "name": "stdout",
     "output_type": "stream",
     "text": [
      "\r",
      " [****     18%           ] Elapsed 0.15s / Remaining 00:00:00:00"
     ]
    },
    {
     "name": "stdout",
     "output_type": "stream",
     "text": [
      "\r",
      " [****     18%           ] Elapsed 0.15s / Remaining 00:00:00:00"
     ]
    },
    {
     "name": "stdout",
     "output_type": "stream",
     "text": [
      "\r",
      " [****     18%           ] Elapsed 0.15s / Remaining 00:00:00:00"
     ]
    },
    {
     "name": "stdout",
     "output_type": "stream",
     "text": [
      "\r",
      " [****     18%           ] Elapsed 0.15s / Remaining 00:00:00:00"
     ]
    },
    {
     "name": "stdout",
     "output_type": "stream",
     "text": [
      "\r",
      " [****     19%           ] Elapsed 0.15s / Remaining 00:00:00:00"
     ]
    },
    {
     "name": "stdout",
     "output_type": "stream",
     "text": [
      "\r",
      " [****     19%           ] Elapsed 0.15s / Remaining 00:00:00:00"
     ]
    },
    {
     "name": "stdout",
     "output_type": "stream",
     "text": [
      "\r",
      " [****     19%           ] Elapsed 0.15s / Remaining 00:00:00:00"
     ]
    },
    {
     "name": "stdout",
     "output_type": "stream",
     "text": [
      "\r",
      " [****     19%           ] Elapsed 0.15s / Remaining 00:00:00:00"
     ]
    },
    {
     "name": "stdout",
     "output_type": "stream",
     "text": [
      "\r",
      " [****     19%           ] Elapsed 0.16s / Remaining 00:00:00:00"
     ]
    },
    {
     "name": "stdout",
     "output_type": "stream",
     "text": [
      "\r",
      " [****     19%           ] Elapsed 0.16s / Remaining 00:00:00:00"
     ]
    },
    {
     "name": "stdout",
     "output_type": "stream",
     "text": [
      "\r",
      " [****     19%           ] Elapsed 0.16s / Remaining 00:00:00:00"
     ]
    },
    {
     "name": "stdout",
     "output_type": "stream",
     "text": [
      "\r",
      " [****     19%           ] Elapsed 0.16s / Remaining 00:00:00:00"
     ]
    },
    {
     "name": "stdout",
     "output_type": "stream",
     "text": [
      "\r",
      " [****     19%           ] Elapsed 0.16s / Remaining 00:00:00:00"
     ]
    },
    {
     "name": "stdout",
     "output_type": "stream",
     "text": [
      "\r",
      " [****     19%           ] Elapsed 0.16s / Remaining 00:00:00:00"
     ]
    },
    {
     "name": "stdout",
     "output_type": "stream",
     "text": [
      "\r",
      " [*****    20%           ] Elapsed 0.16s / Remaining 00:00:00:00"
     ]
    },
    {
     "name": "stdout",
     "output_type": "stream",
     "text": [
      "\r",
      " [*****    20%           ] Elapsed 0.16s / Remaining 00:00:00:00"
     ]
    },
    {
     "name": "stdout",
     "output_type": "stream",
     "text": [
      "\r",
      " [*****    20%           ] Elapsed 0.16s / Remaining 00:00:00:00"
     ]
    },
    {
     "name": "stdout",
     "output_type": "stream",
     "text": [
      "\r",
      " [*****    20%           ] Elapsed 0.16s / Remaining 00:00:00:00"
     ]
    },
    {
     "name": "stdout",
     "output_type": "stream",
     "text": [
      "\r",
      " [*****    20%           ] Elapsed 0.16s / Remaining 00:00:00:00"
     ]
    },
    {
     "name": "stdout",
     "output_type": "stream",
     "text": [
      "\r",
      " [*****    20%           ] Elapsed 0.16s / Remaining 00:00:00:00"
     ]
    },
    {
     "name": "stdout",
     "output_type": "stream",
     "text": [
      "\r",
      " [*****    20%           ] Elapsed 0.17s / Remaining 00:00:00:00"
     ]
    },
    {
     "name": "stdout",
     "output_type": "stream",
     "text": [
      "\r",
      " [*****    20%           ] Elapsed 0.17s / Remaining 00:00:00:00"
     ]
    },
    {
     "name": "stdout",
     "output_type": "stream",
     "text": [
      "\r",
      " [*****    20%           ] Elapsed 0.17s / Remaining 00:00:00:00"
     ]
    },
    {
     "name": "stdout",
     "output_type": "stream",
     "text": [
      "\r",
      " [*****    20%           ] Elapsed 0.17s / Remaining 00:00:00:00"
     ]
    },
    {
     "name": "stdout",
     "output_type": "stream",
     "text": [
      "\r",
      " [*****    21%           ] Elapsed 0.17s / Remaining 00:00:00:00"
     ]
    },
    {
     "name": "stdout",
     "output_type": "stream",
     "text": [
      "\r",
      " [*****    21%           ] Elapsed 0.17s / Remaining 00:00:00:00"
     ]
    },
    {
     "name": "stdout",
     "output_type": "stream",
     "text": [
      "\r",
      " [*****    21%           ] Elapsed 0.17s / Remaining 00:00:00:00"
     ]
    },
    {
     "name": "stdout",
     "output_type": "stream",
     "text": [
      "\r",
      " [*****    21%           ] Elapsed 0.17s / Remaining 00:00:00:00"
     ]
    },
    {
     "name": "stdout",
     "output_type": "stream",
     "text": [
      "\r",
      " [*****    21%           ] Elapsed 0.17s / Remaining 00:00:00:00"
     ]
    },
    {
     "name": "stdout",
     "output_type": "stream",
     "text": [
      "\r",
      " [*****    21%           ] Elapsed 0.17s / Remaining 00:00:00:00"
     ]
    },
    {
     "name": "stdout",
     "output_type": "stream",
     "text": [
      "\r",
      " [*****    21%           ] Elapsed 0.17s / Remaining 00:00:00:00"
     ]
    },
    {
     "name": "stdout",
     "output_type": "stream",
     "text": [
      "\r",
      " [*****    21%           ] Elapsed 0.17s / Remaining 00:00:00:00"
     ]
    },
    {
     "name": "stdout",
     "output_type": "stream",
     "text": [
      "\r",
      " [*****    21%           ] Elapsed 0.17s / Remaining 00:00:00:00"
     ]
    },
    {
     "name": "stdout",
     "output_type": "stream",
     "text": [
      "\r",
      " [*****    21%           ] Elapsed 0.18s / Remaining 00:00:00:00"
     ]
    },
    {
     "name": "stdout",
     "output_type": "stream",
     "text": [
      "\r",
      " [*****    22%           ] Elapsed 0.18s / Remaining 00:00:00:00"
     ]
    },
    {
     "name": "stdout",
     "output_type": "stream",
     "text": [
      "\r",
      " [*****    22%           ] Elapsed 0.18s / Remaining 00:00:00:00"
     ]
    },
    {
     "name": "stdout",
     "output_type": "stream",
     "text": [
      "\r",
      " [*****    22%           ] Elapsed 0.18s / Remaining 00:00:00:00"
     ]
    },
    {
     "name": "stdout",
     "output_type": "stream",
     "text": [
      "\r",
      " [*****    22%           ] Elapsed 0.18s / Remaining 00:00:00:00"
     ]
    },
    {
     "name": "stdout",
     "output_type": "stream",
     "text": [
      "\r",
      " [*****    22%           ] Elapsed 0.18s / Remaining 00:00:00:00"
     ]
    },
    {
     "name": "stdout",
     "output_type": "stream",
     "text": [
      "\r",
      " [*****    22%           ] Elapsed 0.18s / Remaining 00:00:00:00"
     ]
    },
    {
     "name": "stdout",
     "output_type": "stream",
     "text": [
      "\r",
      " [*****    22%           ] Elapsed 0.18s / Remaining 00:00:00:00"
     ]
    },
    {
     "name": "stdout",
     "output_type": "stream",
     "text": [
      "\r",
      " [*****    22%           ] Elapsed 0.18s / Remaining 00:00:00:00"
     ]
    },
    {
     "name": "stdout",
     "output_type": "stream",
     "text": [
      "\r",
      " [*****    22%           ] Elapsed 0.18s / Remaining 00:00:00:00"
     ]
    },
    {
     "name": "stdout",
     "output_type": "stream",
     "text": [
      "\r",
      " [*****    22%           ] Elapsed 0.18s / Remaining 00:00:00:00"
     ]
    },
    {
     "name": "stdout",
     "output_type": "stream",
     "text": [
      "\r",
      " [*****    23%           ] Elapsed 0.18s / Remaining 00:00:00:00"
     ]
    },
    {
     "name": "stdout",
     "output_type": "stream",
     "text": [
      "\r",
      " [*****    23%           ] Elapsed 0.18s / Remaining 00:00:00:00"
     ]
    },
    {
     "name": "stdout",
     "output_type": "stream",
     "text": [
      "\r",
      " [*****    23%           ] Elapsed 0.19s / Remaining 00:00:00:00"
     ]
    },
    {
     "name": "stdout",
     "output_type": "stream",
     "text": [
      "\r",
      " [*****    23%           ] Elapsed 0.19s / Remaining 00:00:00:00"
     ]
    },
    {
     "name": "stdout",
     "output_type": "stream",
     "text": [
      "\r",
      " [*****    23%           ] Elapsed 0.19s / Remaining 00:00:00:00"
     ]
    },
    {
     "name": "stdout",
     "output_type": "stream",
     "text": [
      "\r",
      " [*****    23%           ] Elapsed 0.19s / Remaining 00:00:00:00"
     ]
    },
    {
     "name": "stdout",
     "output_type": "stream",
     "text": [
      "\r",
      " [*****    23%           ] Elapsed 0.19s / Remaining 00:00:00:00"
     ]
    },
    {
     "name": "stdout",
     "output_type": "stream",
     "text": [
      "\r",
      " [*****    23%           ] Elapsed 0.19s / Remaining 00:00:00:00"
     ]
    },
    {
     "name": "stdout",
     "output_type": "stream",
     "text": [
      "\r",
      " [*****    23%           ] Elapsed 0.19s / Remaining 00:00:00:00"
     ]
    },
    {
     "name": "stdout",
     "output_type": "stream",
     "text": [
      "\r",
      " [*****    23%           ] Elapsed 0.19s / Remaining 00:00:00:00"
     ]
    },
    {
     "name": "stdout",
     "output_type": "stream",
     "text": [
      "\r",
      " [******   24%           ] Elapsed 0.19s / Remaining 00:00:00:00"
     ]
    },
    {
     "name": "stdout",
     "output_type": "stream",
     "text": [
      "\r",
      " [******   24%           ] Elapsed 0.19s / Remaining 00:00:00:00"
     ]
    },
    {
     "name": "stdout",
     "output_type": "stream",
     "text": [
      "\r",
      " [******   24%           ] Elapsed 0.19s / Remaining 00:00:00:00"
     ]
    },
    {
     "name": "stdout",
     "output_type": "stream",
     "text": [
      "\r",
      " [******   24%           ] Elapsed 0.19s / Remaining 00:00:00:00"
     ]
    },
    {
     "name": "stdout",
     "output_type": "stream",
     "text": [
      "\r",
      " [******   24%           ] Elapsed 0.20s / Remaining 00:00:00:00"
     ]
    },
    {
     "name": "stdout",
     "output_type": "stream",
     "text": [
      "\r",
      " [******   24%           ] Elapsed 0.20s / Remaining 00:00:00:00"
     ]
    },
    {
     "name": "stdout",
     "output_type": "stream",
     "text": [
      "\r",
      " [******   24%           ] Elapsed 0.20s / Remaining 00:00:00:00"
     ]
    },
    {
     "name": "stdout",
     "output_type": "stream",
     "text": [
      "\r",
      " [******   24%           ] Elapsed 0.20s / Remaining 00:00:00:00"
     ]
    },
    {
     "name": "stdout",
     "output_type": "stream",
     "text": [
      "\r",
      " [******   24%           ] Elapsed 0.20s / Remaining 00:00:00:00"
     ]
    },
    {
     "name": "stdout",
     "output_type": "stream",
     "text": [
      "\r",
      " [******   24%           ] Elapsed 0.20s / Remaining 00:00:00:00"
     ]
    },
    {
     "name": "stdout",
     "output_type": "stream",
     "text": [
      "\r",
      " [******   25%           ] Elapsed 0.20s / Remaining 00:00:00:00"
     ]
    },
    {
     "name": "stdout",
     "output_type": "stream",
     "text": [
      "\r",
      " [******   25%           ] Elapsed 0.20s / Remaining 00:00:00:00"
     ]
    },
    {
     "name": "stdout",
     "output_type": "stream",
     "text": [
      "\r",
      " [******   25%           ] Elapsed 0.20s / Remaining 00:00:00:00"
     ]
    },
    {
     "name": "stdout",
     "output_type": "stream",
     "text": [
      "\r",
      " [******   25%           ] Elapsed 0.20s / Remaining 00:00:00:00"
     ]
    },
    {
     "name": "stdout",
     "output_type": "stream",
     "text": [
      "\r",
      " [******   25%           ] Elapsed 0.20s / Remaining 00:00:00:00"
     ]
    },
    {
     "name": "stdout",
     "output_type": "stream",
     "text": [
      "\r",
      " [******   25%           ] Elapsed 0.20s / Remaining 00:00:00:00"
     ]
    },
    {
     "name": "stdout",
     "output_type": "stream",
     "text": [
      "\r",
      " [******   25%           ] Elapsed 0.21s / Remaining 00:00:00:00"
     ]
    },
    {
     "name": "stdout",
     "output_type": "stream",
     "text": [
      "\r",
      " [******   25%           ] Elapsed 0.21s / Remaining 00:00:00:00"
     ]
    },
    {
     "name": "stdout",
     "output_type": "stream",
     "text": [
      "\r",
      " [******   25%           ] Elapsed 0.21s / Remaining 00:00:00:00"
     ]
    },
    {
     "name": "stdout",
     "output_type": "stream",
     "text": [
      "\r",
      " [******   25%           ] Elapsed 0.21s / Remaining 00:00:00:00"
     ]
    },
    {
     "name": "stdout",
     "output_type": "stream",
     "text": [
      "\r",
      " [******   26%           ] Elapsed 0.21s / Remaining 00:00:00:00"
     ]
    },
    {
     "name": "stdout",
     "output_type": "stream",
     "text": [
      "\r",
      " [******   26%           ] Elapsed 0.21s / Remaining 00:00:00:00"
     ]
    },
    {
     "name": "stdout",
     "output_type": "stream",
     "text": [
      "\r",
      " [******   26%           ] Elapsed 0.21s / Remaining 00:00:00:00"
     ]
    },
    {
     "name": "stdout",
     "output_type": "stream",
     "text": [
      "\r",
      " [******   26%           ] Elapsed 0.21s / Remaining 00:00:00:00"
     ]
    },
    {
     "name": "stdout",
     "output_type": "stream",
     "text": [
      "\r",
      " [******   26%           ] Elapsed 0.21s / Remaining 00:00:00:00"
     ]
    },
    {
     "name": "stdout",
     "output_type": "stream",
     "text": [
      "\r",
      " [******   26%           ] Elapsed 0.21s / Remaining 00:00:00:00"
     ]
    },
    {
     "name": "stdout",
     "output_type": "stream",
     "text": [
      "\r",
      " [******   26%           ] Elapsed 0.21s / Remaining 00:00:00:00"
     ]
    },
    {
     "name": "stdout",
     "output_type": "stream",
     "text": [
      "\r",
      " [******   26%           ] Elapsed 0.22s / Remaining 00:00:00:00"
     ]
    },
    {
     "name": "stdout",
     "output_type": "stream",
     "text": [
      "\r",
      " [******   26%           ] Elapsed 0.22s / Remaining 00:00:00:00"
     ]
    },
    {
     "name": "stdout",
     "output_type": "stream",
     "text": [
      "\r",
      " [******   26%           ] Elapsed 0.22s / Remaining 00:00:00:00"
     ]
    },
    {
     "name": "stdout",
     "output_type": "stream",
     "text": [
      "\r",
      " [******   27%           ] Elapsed 0.22s / Remaining 00:00:00:00"
     ]
    },
    {
     "name": "stdout",
     "output_type": "stream",
     "text": [
      "\r",
      " [******   27%           ] Elapsed 0.22s / Remaining 00:00:00:00"
     ]
    },
    {
     "name": "stdout",
     "output_type": "stream",
     "text": [
      "\r",
      " [******   27%           ] Elapsed 0.22s / Remaining 00:00:00:00"
     ]
    },
    {
     "name": "stdout",
     "output_type": "stream",
     "text": [
      "\r",
      " [******   27%           ] Elapsed 0.22s / Remaining 00:00:00:00"
     ]
    },
    {
     "name": "stdout",
     "output_type": "stream",
     "text": [
      "\r",
      " [******   27%           ] Elapsed 0.22s / Remaining 00:00:00:00"
     ]
    },
    {
     "name": "stdout",
     "output_type": "stream",
     "text": [
      "\r",
      " [******   27%           ] Elapsed 0.22s / Remaining 00:00:00:00"
     ]
    },
    {
     "name": "stdout",
     "output_type": "stream",
     "text": [
      "\r",
      " [******   27%           ] Elapsed 0.22s / Remaining 00:00:00:00"
     ]
    },
    {
     "name": "stdout",
     "output_type": "stream",
     "text": [
      "\r",
      " [******   27%           ] Elapsed 0.22s / Remaining 00:00:00:00"
     ]
    },
    {
     "name": "stdout",
     "output_type": "stream",
     "text": [
      "\r",
      " [******   27%           ] Elapsed 0.22s / Remaining 00:00:00:00"
     ]
    },
    {
     "name": "stdout",
     "output_type": "stream",
     "text": [
      "\r",
      " [******   27%           ] Elapsed 0.22s / Remaining 00:00:00:00"
     ]
    },
    {
     "name": "stdout",
     "output_type": "stream",
     "text": [
      "\r",
      " [******   28%           ] Elapsed 0.23s / Remaining 00:00:00:00"
     ]
    },
    {
     "name": "stdout",
     "output_type": "stream",
     "text": [
      "\r",
      " [******   28%           ] Elapsed 0.23s / Remaining 00:00:00:00"
     ]
    },
    {
     "name": "stdout",
     "output_type": "stream",
     "text": [
      "\r",
      " [******   28%           ] Elapsed 0.23s / Remaining 00:00:00:00"
     ]
    },
    {
     "name": "stdout",
     "output_type": "stream",
     "text": [
      "\r",
      " [******   28%           ] Elapsed 0.23s / Remaining 00:00:00:00"
     ]
    },
    {
     "name": "stdout",
     "output_type": "stream",
     "text": [
      "\r",
      " [******   28%           ] Elapsed 0.23s / Remaining 00:00:00:00"
     ]
    },
    {
     "name": "stdout",
     "output_type": "stream",
     "text": [
      "\r",
      " [******   28%           ] Elapsed 0.23s / Remaining 00:00:00:00"
     ]
    },
    {
     "name": "stdout",
     "output_type": "stream",
     "text": [
      "\r",
      " [******   28%           ] Elapsed 0.23s / Remaining 00:00:00:00"
     ]
    },
    {
     "name": "stdout",
     "output_type": "stream",
     "text": [
      "\r",
      " [******   28%           ] Elapsed 0.23s / Remaining 00:00:00:00"
     ]
    },
    {
     "name": "stdout",
     "output_type": "stream",
     "text": [
      "\r",
      " [******   28%           ] Elapsed 0.23s / Remaining 00:00:00:00"
     ]
    },
    {
     "name": "stdout",
     "output_type": "stream",
     "text": [
      "\r",
      " [******   28%           ] Elapsed 0.23s / Remaining 00:00:00:00"
     ]
    },
    {
     "name": "stdout",
     "output_type": "stream",
     "text": [
      "\r",
      " [*******  29%           ] Elapsed 0.23s / Remaining 00:00:00:00"
     ]
    },
    {
     "name": "stdout",
     "output_type": "stream",
     "text": [
      "\r",
      " [*******  29%           ] Elapsed 0.23s / Remaining 00:00:00:00"
     ]
    },
    {
     "name": "stdout",
     "output_type": "stream",
     "text": [
      "\r",
      " [*******  29%           ] Elapsed 0.24s / Remaining 00:00:00:00"
     ]
    },
    {
     "name": "stdout",
     "output_type": "stream",
     "text": [
      "\r",
      " [*******  29%           ] Elapsed 0.24s / Remaining 00:00:00:00"
     ]
    },
    {
     "name": "stdout",
     "output_type": "stream",
     "text": [
      "\r",
      " [*******  29%           ] Elapsed 0.24s / Remaining 00:00:00:00"
     ]
    },
    {
     "name": "stdout",
     "output_type": "stream",
     "text": [
      "\r",
      " [*******  29%           ] Elapsed 0.24s / Remaining 00:00:00:00"
     ]
    },
    {
     "name": "stdout",
     "output_type": "stream",
     "text": [
      "\r",
      " [*******  29%           ] Elapsed 0.24s / Remaining 00:00:00:00"
     ]
    },
    {
     "name": "stdout",
     "output_type": "stream",
     "text": [
      "\r",
      " [*******  29%           ] Elapsed 0.24s / Remaining 00:00:00:00"
     ]
    },
    {
     "name": "stdout",
     "output_type": "stream",
     "text": [
      "\r",
      " [*******  29%           ] Elapsed 0.24s / Remaining 00:00:00:00"
     ]
    },
    {
     "name": "stdout",
     "output_type": "stream",
     "text": [
      "\r",
      " [*******  29%           ] Elapsed 0.24s / Remaining 00:00:00:00"
     ]
    },
    {
     "name": "stdout",
     "output_type": "stream",
     "text": [
      "\r",
      " [*******  30%           ] Elapsed 0.24s / Remaining 00:00:00:00"
     ]
    },
    {
     "name": "stdout",
     "output_type": "stream",
     "text": [
      "\r",
      " [*******  30%           ] Elapsed 0.24s / Remaining 00:00:00:00"
     ]
    },
    {
     "name": "stdout",
     "output_type": "stream",
     "text": [
      "\r",
      " [*******  30%           ] Elapsed 0.24s / Remaining 00:00:00:00"
     ]
    },
    {
     "name": "stdout",
     "output_type": "stream",
     "text": [
      "\r",
      " [*******  30%           ] Elapsed 0.25s / Remaining 00:00:00:00"
     ]
    },
    {
     "name": "stdout",
     "output_type": "stream",
     "text": [
      "\r",
      " [*******  30%           ] Elapsed 0.25s / Remaining 00:00:00:00"
     ]
    },
    {
     "name": "stdout",
     "output_type": "stream",
     "text": [
      "\r",
      " [*******  30%           ] Elapsed 0.25s / Remaining 00:00:00:00"
     ]
    },
    {
     "name": "stdout",
     "output_type": "stream",
     "text": [
      "\r",
      " [*******  30%           ] Elapsed 0.25s / Remaining 00:00:00:00"
     ]
    },
    {
     "name": "stdout",
     "output_type": "stream",
     "text": [
      "\r",
      " [*******  30%           ] Elapsed 0.25s / Remaining 00:00:00:00"
     ]
    },
    {
     "name": "stdout",
     "output_type": "stream",
     "text": [
      "\r",
      " [*******  30%           ] Elapsed 0.25s / Remaining 00:00:00:00"
     ]
    },
    {
     "name": "stdout",
     "output_type": "stream",
     "text": [
      "\r",
      " [*******  30%           ] Elapsed 0.25s / Remaining 00:00:00:00"
     ]
    },
    {
     "name": "stdout",
     "output_type": "stream",
     "text": [
      "\r",
      " [*******  31%           ] Elapsed 0.25s / Remaining 00:00:00:00"
     ]
    },
    {
     "name": "stdout",
     "output_type": "stream",
     "text": [
      "\r",
      " [*******  31%           ] Elapsed 0.25s / Remaining 00:00:00:00"
     ]
    },
    {
     "name": "stdout",
     "output_type": "stream",
     "text": [
      "\r",
      " [*******  31%           ] Elapsed 0.25s / Remaining 00:00:00:00"
     ]
    },
    {
     "name": "stdout",
     "output_type": "stream",
     "text": [
      "\r",
      " [*******  31%           ] Elapsed 0.25s / Remaining 00:00:00:00"
     ]
    },
    {
     "name": "stdout",
     "output_type": "stream",
     "text": [
      "\r",
      " [*******  31%           ] Elapsed 0.25s / Remaining 00:00:00:00"
     ]
    },
    {
     "name": "stdout",
     "output_type": "stream",
     "text": [
      "\r",
      " [*******  31%           ] Elapsed 0.25s / Remaining 00:00:00:00"
     ]
    },
    {
     "name": "stdout",
     "output_type": "stream",
     "text": [
      "\r",
      " [*******  31%           ] Elapsed 0.26s / Remaining 00:00:00:00"
     ]
    },
    {
     "name": "stdout",
     "output_type": "stream",
     "text": [
      "\r",
      " [*******  31%           ] Elapsed 0.26s / Remaining 00:00:00:00"
     ]
    },
    {
     "name": "stdout",
     "output_type": "stream",
     "text": [
      "\r",
      " [*******  31%           ] Elapsed 0.26s / Remaining 00:00:00:00"
     ]
    },
    {
     "name": "stdout",
     "output_type": "stream",
     "text": [
      "\r",
      " [*******  31%           ] Elapsed 0.26s / Remaining 00:00:00:00"
     ]
    },
    {
     "name": "stdout",
     "output_type": "stream",
     "text": [
      "\r",
      " [*******  32%           ] Elapsed 0.26s / Remaining 00:00:00:00"
     ]
    },
    {
     "name": "stdout",
     "output_type": "stream",
     "text": [
      "\r",
      " [*******  32%           ] Elapsed 0.26s / Remaining 00:00:00:00"
     ]
    },
    {
     "name": "stdout",
     "output_type": "stream",
     "text": [
      "\r",
      " [*******  32%           ] Elapsed 0.26s / Remaining 00:00:00:00"
     ]
    },
    {
     "name": "stdout",
     "output_type": "stream",
     "text": [
      "\r",
      " [*******  32%           ] Elapsed 0.26s / Remaining 00:00:00:00"
     ]
    },
    {
     "name": "stdout",
     "output_type": "stream",
     "text": [
      "\r",
      " [*******  32%           ] Elapsed 0.26s / Remaining 00:00:00:00"
     ]
    },
    {
     "name": "stdout",
     "output_type": "stream",
     "text": [
      "\r",
      " [*******  32%           ] Elapsed 0.26s / Remaining 00:00:00:00"
     ]
    },
    {
     "name": "stdout",
     "output_type": "stream",
     "text": [
      "\r",
      " [*******  32%           ] Elapsed 0.26s / Remaining 00:00:00:00"
     ]
    },
    {
     "name": "stdout",
     "output_type": "stream",
     "text": [
      "\r",
      " [*******  32%           ] Elapsed 0.26s / Remaining 00:00:00:00"
     ]
    },
    {
     "name": "stdout",
     "output_type": "stream",
     "text": [
      "\r",
      " [*******  32%           ] Elapsed 0.27s / Remaining 00:00:00:00"
     ]
    },
    {
     "name": "stdout",
     "output_type": "stream",
     "text": [
      "\r",
      " [*******  32%           ] Elapsed 0.27s / Remaining 00:00:00:00"
     ]
    },
    {
     "name": "stdout",
     "output_type": "stream",
     "text": [
      "\r",
      " [******** 33%           ] Elapsed 0.27s / Remaining 00:00:00:00"
     ]
    },
    {
     "name": "stdout",
     "output_type": "stream",
     "text": [
      "\r",
      " [******** 33%           ] Elapsed 0.27s / Remaining 00:00:00:00"
     ]
    },
    {
     "name": "stdout",
     "output_type": "stream",
     "text": [
      "\r",
      " [******** 33%           ] Elapsed 0.27s / Remaining 00:00:00:00"
     ]
    },
    {
     "name": "stdout",
     "output_type": "stream",
     "text": [
      "\r",
      " [******** 33%           ] Elapsed 0.27s / Remaining 00:00:00:00"
     ]
    },
    {
     "name": "stdout",
     "output_type": "stream",
     "text": [
      "\r",
      " [******** 33%           ] Elapsed 0.27s / Remaining 00:00:00:00"
     ]
    },
    {
     "name": "stdout",
     "output_type": "stream",
     "text": [
      "\r",
      " [******** 33%           ] Elapsed 0.27s / Remaining 00:00:00:00"
     ]
    },
    {
     "name": "stdout",
     "output_type": "stream",
     "text": [
      "\r",
      " [******** 33%           ] Elapsed 0.27s / Remaining 00:00:00:00"
     ]
    },
    {
     "name": "stdout",
     "output_type": "stream",
     "text": [
      "\r",
      " [******** 33%           ] Elapsed 0.27s / Remaining 00:00:00:00"
     ]
    },
    {
     "name": "stdout",
     "output_type": "stream",
     "text": [
      "\r",
      " [******** 33%           ] Elapsed 0.27s / Remaining 00:00:00:00"
     ]
    },
    {
     "name": "stdout",
     "output_type": "stream",
     "text": [
      "\r",
      " [******** 33%           ] Elapsed 0.28s / Remaining 00:00:00:00"
     ]
    },
    {
     "name": "stdout",
     "output_type": "stream",
     "text": [
      "\r",
      " [******** 34%           ] Elapsed 0.28s / Remaining 00:00:00:00"
     ]
    },
    {
     "name": "stdout",
     "output_type": "stream",
     "text": [
      "\r",
      " [******** 34%           ] Elapsed 0.28s / Remaining 00:00:00:00"
     ]
    },
    {
     "name": "stdout",
     "output_type": "stream",
     "text": [
      "\r",
      " [******** 34%           ] Elapsed 0.28s / Remaining 00:00:00:00"
     ]
    },
    {
     "name": "stdout",
     "output_type": "stream",
     "text": [
      "\r",
      " [******** 34%           ] Elapsed 0.28s / Remaining 00:00:00:00"
     ]
    },
    {
     "name": "stdout",
     "output_type": "stream",
     "text": [
      "\r",
      " [******** 34%           ] Elapsed 0.28s / Remaining 00:00:00:00"
     ]
    },
    {
     "name": "stdout",
     "output_type": "stream",
     "text": [
      "\r",
      " [******** 34%           ] Elapsed 0.28s / Remaining 00:00:00:00"
     ]
    },
    {
     "name": "stdout",
     "output_type": "stream",
     "text": [
      "\r",
      " [******** 34%           ] Elapsed 0.28s / Remaining 00:00:00:00"
     ]
    },
    {
     "name": "stdout",
     "output_type": "stream",
     "text": [
      "\r",
      " [******** 34%           ] Elapsed 0.28s / Remaining 00:00:00:00"
     ]
    },
    {
     "name": "stdout",
     "output_type": "stream",
     "text": [
      "\r",
      " [******** 34%           ] Elapsed 0.28s / Remaining 00:00:00:00"
     ]
    },
    {
     "name": "stdout",
     "output_type": "stream",
     "text": [
      "\r",
      " [******** 34%           ] Elapsed 0.28s / Remaining 00:00:00:00"
     ]
    },
    {
     "name": "stdout",
     "output_type": "stream",
     "text": [
      "\r",
      " [******** 35%           ] Elapsed 0.28s / Remaining 00:00:00:00"
     ]
    },
    {
     "name": "stdout",
     "output_type": "stream",
     "text": [
      "\r",
      " [******** 35%           ] Elapsed 0.28s / Remaining 00:00:00:00"
     ]
    },
    {
     "name": "stdout",
     "output_type": "stream",
     "text": [
      "\r",
      " [******** 35%           ] Elapsed 0.29s / Remaining 00:00:00:00"
     ]
    },
    {
     "name": "stdout",
     "output_type": "stream",
     "text": [
      "\r",
      " [******** 35%           ] Elapsed 0.29s / Remaining 00:00:00:00"
     ]
    },
    {
     "name": "stdout",
     "output_type": "stream",
     "text": [
      "\r",
      " [******** 35%           ] Elapsed 0.29s / Remaining 00:00:00:00"
     ]
    },
    {
     "name": "stdout",
     "output_type": "stream",
     "text": [
      "\r",
      " [******** 35%           ] Elapsed 0.29s / Remaining 00:00:00:00"
     ]
    },
    {
     "name": "stdout",
     "output_type": "stream",
     "text": [
      "\r",
      " [******** 35%           ] Elapsed 0.29s / Remaining 00:00:00:00"
     ]
    },
    {
     "name": "stdout",
     "output_type": "stream",
     "text": [
      "\r",
      " [******** 35%           ] Elapsed 0.29s / Remaining 00:00:00:00"
     ]
    },
    {
     "name": "stdout",
     "output_type": "stream",
     "text": [
      "\r",
      " [******** 35%           ] Elapsed 0.29s / Remaining 00:00:00:00"
     ]
    },
    {
     "name": "stdout",
     "output_type": "stream",
     "text": [
      "\r",
      " [******** 35%           ] Elapsed 0.29s / Remaining 00:00:00:00"
     ]
    },
    {
     "name": "stdout",
     "output_type": "stream",
     "text": [
      "\r",
      " [******** 36%           ] Elapsed 0.29s / Remaining 00:00:00:00"
     ]
    },
    {
     "name": "stdout",
     "output_type": "stream",
     "text": [
      "\r",
      " [******** 36%           ] Elapsed 0.29s / Remaining 00:00:00:00"
     ]
    },
    {
     "name": "stdout",
     "output_type": "stream",
     "text": [
      "\r",
      " [******** 36%           ] Elapsed 0.29s / Remaining 00:00:00:00"
     ]
    },
    {
     "name": "stdout",
     "output_type": "stream",
     "text": [
      "\r",
      " [******** 36%           ] Elapsed 0.29s / Remaining 00:00:00:00"
     ]
    },
    {
     "name": "stdout",
     "output_type": "stream",
     "text": [
      "\r",
      " [******** 36%           ] Elapsed 0.29s / Remaining 00:00:00:00"
     ]
    },
    {
     "name": "stdout",
     "output_type": "stream",
     "text": [
      "\r",
      " [******** 36%           ] Elapsed 0.30s / Remaining 00:00:00:00"
     ]
    },
    {
     "name": "stdout",
     "output_type": "stream",
     "text": [
      "\r",
      " [******** 36%           ] Elapsed 0.30s / Remaining 00:00:00:00"
     ]
    },
    {
     "name": "stdout",
     "output_type": "stream",
     "text": [
      "\r",
      " [******** 36%           ] Elapsed 0.30s / Remaining 00:00:00:00"
     ]
    },
    {
     "name": "stdout",
     "output_type": "stream",
     "text": [
      "\r",
      " [******** 36%           ] Elapsed 0.30s / Remaining 00:00:00:00"
     ]
    },
    {
     "name": "stdout",
     "output_type": "stream",
     "text": [
      "\r",
      " [******** 36%           ] Elapsed 0.30s / Remaining 00:00:00:00"
     ]
    },
    {
     "name": "stdout",
     "output_type": "stream",
     "text": [
      "\r",
      " [*********37%           ] Elapsed 0.30s / Remaining 00:00:00:00"
     ]
    },
    {
     "name": "stdout",
     "output_type": "stream",
     "text": [
      "\r",
      " [*********37%           ] Elapsed 0.30s / Remaining 00:00:00:00"
     ]
    },
    {
     "name": "stdout",
     "output_type": "stream",
     "text": [
      "\r",
      " [*********37%           ] Elapsed 0.30s / Remaining 00:00:00:00"
     ]
    },
    {
     "name": "stdout",
     "output_type": "stream",
     "text": [
      "\r",
      " [*********37%           ] Elapsed 0.30s / Remaining 00:00:00:00"
     ]
    },
    {
     "name": "stdout",
     "output_type": "stream",
     "text": [
      "\r",
      " [*********37%           ] Elapsed 0.30s / Remaining 00:00:00:00"
     ]
    },
    {
     "name": "stdout",
     "output_type": "stream",
     "text": [
      "\r",
      " [*********37%           ] Elapsed 0.30s / Remaining 00:00:00:00"
     ]
    },
    {
     "name": "stdout",
     "output_type": "stream",
     "text": [
      "\r",
      " [*********37%           ] Elapsed 0.30s / Remaining 00:00:00:00"
     ]
    },
    {
     "name": "stdout",
     "output_type": "stream",
     "text": [
      "\r",
      " [*********37%           ] Elapsed 0.31s / Remaining 00:00:00:00"
     ]
    },
    {
     "name": "stdout",
     "output_type": "stream",
     "text": [
      "\r",
      " [*********37%           ] Elapsed 0.31s / Remaining 00:00:00:00"
     ]
    },
    {
     "name": "stdout",
     "output_type": "stream",
     "text": [
      "\r",
      " [*********37%           ] Elapsed 0.31s / Remaining 00:00:00:00"
     ]
    },
    {
     "name": "stdout",
     "output_type": "stream",
     "text": [
      "\r",
      " [*********38%           ] Elapsed 0.31s / Remaining 00:00:00:00"
     ]
    },
    {
     "name": "stdout",
     "output_type": "stream",
     "text": [
      "\r",
      " [*********38%           ] Elapsed 0.31s / Remaining 00:00:00:00"
     ]
    },
    {
     "name": "stdout",
     "output_type": "stream",
     "text": [
      "\r",
      " [*********38%           ] Elapsed 0.31s / Remaining 00:00:00:00"
     ]
    },
    {
     "name": "stdout",
     "output_type": "stream",
     "text": [
      "\r",
      " [*********38%           ] Elapsed 0.31s / Remaining 00:00:00:00"
     ]
    },
    {
     "name": "stdout",
     "output_type": "stream",
     "text": [
      "\r",
      " [*********38%           ] Elapsed 0.31s / Remaining 00:00:00:00"
     ]
    },
    {
     "name": "stdout",
     "output_type": "stream",
     "text": [
      "\r",
      " [*********38%           ] Elapsed 0.31s / Remaining 00:00:00:00"
     ]
    },
    {
     "name": "stdout",
     "output_type": "stream",
     "text": [
      "\r",
      " [*********38%           ] Elapsed 0.31s / Remaining 00:00:00:00"
     ]
    },
    {
     "name": "stdout",
     "output_type": "stream",
     "text": [
      "\r",
      " [*********38%           ] Elapsed 0.31s / Remaining 00:00:00:00"
     ]
    },
    {
     "name": "stdout",
     "output_type": "stream",
     "text": [
      "\r",
      " [*********38%           ] Elapsed 0.31s / Remaining 00:00:00:00"
     ]
    },
    {
     "name": "stdout",
     "output_type": "stream",
     "text": [
      "\r",
      " [*********38%           ] Elapsed 0.32s / Remaining 00:00:00:00"
     ]
    },
    {
     "name": "stdout",
     "output_type": "stream",
     "text": [
      "\r",
      " [*********39%           ] Elapsed 0.32s / Remaining 00:00:00:00"
     ]
    },
    {
     "name": "stdout",
     "output_type": "stream",
     "text": [
      "\r",
      " [*********39%           ] Elapsed 0.32s / Remaining 00:00:00:00"
     ]
    },
    {
     "name": "stdout",
     "output_type": "stream",
     "text": [
      "\r",
      " [*********39%           ] Elapsed 0.32s / Remaining 00:00:00:00"
     ]
    },
    {
     "name": "stdout",
     "output_type": "stream",
     "text": [
      "\r",
      " [*********39%           ] Elapsed 0.32s / Remaining 00:00:00:00"
     ]
    },
    {
     "name": "stdout",
     "output_type": "stream",
     "text": [
      "\r",
      " [*********39%           ] Elapsed 0.32s / Remaining 00:00:00:00"
     ]
    },
    {
     "name": "stdout",
     "output_type": "stream",
     "text": [
      "\r",
      " [*********39%           ] Elapsed 0.32s / Remaining 00:00:00:00"
     ]
    },
    {
     "name": "stdout",
     "output_type": "stream",
     "text": [
      "\r",
      " [*********39%           ] Elapsed 0.32s / Remaining 00:00:00:00"
     ]
    },
    {
     "name": "stdout",
     "output_type": "stream",
     "text": [
      "\r",
      " [*********39%           ] Elapsed 0.32s / Remaining 00:00:00:00"
     ]
    },
    {
     "name": "stdout",
     "output_type": "stream",
     "text": [
      "\r",
      " [*********39%           ] Elapsed 0.32s / Remaining 00:00:00:00"
     ]
    },
    {
     "name": "stdout",
     "output_type": "stream",
     "text": [
      "\r",
      " [*********39%           ] Elapsed 0.32s / Remaining 00:00:00:00"
     ]
    },
    {
     "name": "stdout",
     "output_type": "stream",
     "text": [
      "\r",
      " [*********40%           ] Elapsed 0.32s / Remaining 00:00:00:00"
     ]
    },
    {
     "name": "stdout",
     "output_type": "stream",
     "text": [
      "\r",
      " [*********40%           ] Elapsed 0.32s / Remaining 00:00:00:00"
     ]
    },
    {
     "name": "stdout",
     "output_type": "stream",
     "text": [
      "\r",
      " [*********40%           ] Elapsed 0.33s / Remaining 00:00:00:00"
     ]
    },
    {
     "name": "stdout",
     "output_type": "stream",
     "text": [
      "\r",
      " [*********40%           ] Elapsed 0.33s / Remaining 00:00:00:00"
     ]
    },
    {
     "name": "stdout",
     "output_type": "stream",
     "text": [
      "\r",
      " [*********40%           ] Elapsed 0.33s / Remaining 00:00:00:00"
     ]
    },
    {
     "name": "stdout",
     "output_type": "stream",
     "text": [
      "\r",
      " [*********40%           ] Elapsed 0.33s / Remaining 00:00:00:00"
     ]
    },
    {
     "name": "stdout",
     "output_type": "stream",
     "text": [
      "\r",
      " [*********40%           ] Elapsed 0.33s / Remaining 00:00:00:00"
     ]
    },
    {
     "name": "stdout",
     "output_type": "stream",
     "text": [
      "\r",
      " [*********40%           ] Elapsed 0.33s / Remaining 00:00:00:00"
     ]
    },
    {
     "name": "stdout",
     "output_type": "stream",
     "text": [
      "\r",
      " [*********40%           ] Elapsed 0.33s / Remaining 00:00:00:00"
     ]
    },
    {
     "name": "stdout",
     "output_type": "stream",
     "text": [
      "\r",
      " [*********40%           ] Elapsed 0.33s / Remaining 00:00:00:00"
     ]
    },
    {
     "name": "stdout",
     "output_type": "stream",
     "text": [
      "\r",
      " [*********41%           ] Elapsed 0.33s / Remaining 00:00:00:00"
     ]
    },
    {
     "name": "stdout",
     "output_type": "stream",
     "text": [
      "\r",
      " [*********41%           ] Elapsed 0.33s / Remaining 00:00:00:00"
     ]
    },
    {
     "name": "stdout",
     "output_type": "stream",
     "text": [
      "\r",
      " [*********41%           ] Elapsed 0.34s / Remaining 00:00:00:00"
     ]
    },
    {
     "name": "stdout",
     "output_type": "stream",
     "text": [
      "\r",
      " [*********41%           ] Elapsed 0.34s / Remaining 00:00:00:00"
     ]
    },
    {
     "name": "stdout",
     "output_type": "stream",
     "text": [
      "\r",
      " [*********41%           ] Elapsed 0.34s / Remaining 00:00:00:00"
     ]
    },
    {
     "name": "stdout",
     "output_type": "stream",
     "text": [
      "\r",
      " [*********41%           ] Elapsed 0.34s / Remaining 00:00:00:00"
     ]
    },
    {
     "name": "stdout",
     "output_type": "stream",
     "text": [
      "\r",
      " [*********41%           ] Elapsed 0.34s / Remaining 00:00:00:00"
     ]
    },
    {
     "name": "stdout",
     "output_type": "stream",
     "text": [
      "\r",
      " [*********41%           ] Elapsed 0.34s / Remaining 00:00:00:00"
     ]
    },
    {
     "name": "stdout",
     "output_type": "stream",
     "text": [
      "\r",
      " [*********41%           ] Elapsed 0.34s / Remaining 00:00:00:00"
     ]
    },
    {
     "name": "stdout",
     "output_type": "stream",
     "text": [
      "\r",
      " [*********41%           ] Elapsed 0.34s / Remaining 00:00:00:00"
     ]
    },
    {
     "name": "stdout",
     "output_type": "stream",
     "text": [
      "\r",
      " [*********42%           ] Elapsed 0.34s / Remaining 00:00:00:00"
     ]
    },
    {
     "name": "stdout",
     "output_type": "stream",
     "text": [
      "\r",
      " [*********42%           ] Elapsed 0.34s / Remaining 00:00:00:00"
     ]
    },
    {
     "name": "stdout",
     "output_type": "stream",
     "text": [
      "\r",
      " [*********42%           ] Elapsed 0.34s / Remaining 00:00:00:00"
     ]
    },
    {
     "name": "stdout",
     "output_type": "stream",
     "text": [
      "\r",
      " [*********42%           ] Elapsed 0.34s / Remaining 00:00:00:00"
     ]
    },
    {
     "name": "stdout",
     "output_type": "stream",
     "text": [
      "\r",
      " [*********42%           ] Elapsed 0.34s / Remaining 00:00:00:00"
     ]
    },
    {
     "name": "stdout",
     "output_type": "stream",
     "text": [
      "\r",
      " [*********42%           ] Elapsed 0.35s / Remaining 00:00:00:00"
     ]
    },
    {
     "name": "stdout",
     "output_type": "stream",
     "text": [
      "\r",
      " [*********42%           ] Elapsed 0.35s / Remaining 00:00:00:00"
     ]
    },
    {
     "name": "stdout",
     "output_type": "stream",
     "text": [
      "\r",
      " [*********42%           ] Elapsed 0.35s / Remaining 00:00:00:00"
     ]
    },
    {
     "name": "stdout",
     "output_type": "stream",
     "text": [
      "\r",
      " [*********42%           ] Elapsed 0.35s / Remaining 00:00:00:00"
     ]
    },
    {
     "name": "stdout",
     "output_type": "stream",
     "text": [
      "\r",
      " [*********42%           ] Elapsed 0.35s / Remaining 00:00:00:00"
     ]
    },
    {
     "name": "stdout",
     "output_type": "stream",
     "text": [
      "\r",
      " [*********43%           ] Elapsed 0.35s / Remaining 00:00:00:00"
     ]
    },
    {
     "name": "stdout",
     "output_type": "stream",
     "text": [
      "\r",
      " [*********43%           ] Elapsed 0.35s / Remaining 00:00:00:00"
     ]
    },
    {
     "name": "stdout",
     "output_type": "stream",
     "text": [
      "\r",
      " [*********43%           ] Elapsed 0.35s / Remaining 00:00:00:00"
     ]
    },
    {
     "name": "stdout",
     "output_type": "stream",
     "text": [
      "\r",
      " [*********43%           ] Elapsed 0.35s / Remaining 00:00:00:00"
     ]
    },
    {
     "name": "stdout",
     "output_type": "stream",
     "text": [
      "\r",
      " [*********43%           ] Elapsed 0.35s / Remaining 00:00:00:00"
     ]
    },
    {
     "name": "stdout",
     "output_type": "stream",
     "text": [
      "\r",
      " [*********43%           ] Elapsed 0.35s / Remaining 00:00:00:00"
     ]
    },
    {
     "name": "stdout",
     "output_type": "stream",
     "text": [
      "\r",
      " [*********43%           ] Elapsed 0.36s / Remaining 00:00:00:00"
     ]
    },
    {
     "name": "stdout",
     "output_type": "stream",
     "text": [
      "\r",
      " [*********43%           ] Elapsed 0.36s / Remaining 00:00:00:00"
     ]
    },
    {
     "name": "stdout",
     "output_type": "stream",
     "text": [
      "\r",
      " [*********43%           ] Elapsed 0.36s / Remaining 00:00:00:00"
     ]
    },
    {
     "name": "stdout",
     "output_type": "stream",
     "text": [
      "\r",
      " [*********43%           ] Elapsed 0.36s / Remaining 00:00:00:00"
     ]
    },
    {
     "name": "stdout",
     "output_type": "stream",
     "text": [
      "\r",
      " [*********44%           ] Elapsed 0.36s / Remaining 00:00:00:00"
     ]
    },
    {
     "name": "stdout",
     "output_type": "stream",
     "text": [
      "\r",
      " [*********44%           ] Elapsed 0.36s / Remaining 00:00:00:00"
     ]
    },
    {
     "name": "stdout",
     "output_type": "stream",
     "text": [
      "\r",
      " [*********44%           ] Elapsed 0.36s / Remaining 00:00:00:00"
     ]
    },
    {
     "name": "stdout",
     "output_type": "stream",
     "text": [
      "\r",
      " [*********44%           ] Elapsed 0.36s / Remaining 00:00:00:00"
     ]
    },
    {
     "name": "stdout",
     "output_type": "stream",
     "text": [
      "\r",
      " [*********44%           ] Elapsed 0.36s / Remaining 00:00:00:00"
     ]
    },
    {
     "name": "stdout",
     "output_type": "stream",
     "text": [
      "\r",
      " [*********44%           ] Elapsed 0.36s / Remaining 00:00:00:00"
     ]
    },
    {
     "name": "stdout",
     "output_type": "stream",
     "text": [
      "\r",
      " [*********44%           ] Elapsed 0.36s / Remaining 00:00:00:00"
     ]
    },
    {
     "name": "stdout",
     "output_type": "stream",
     "text": [
      "\r",
      " [*********44%           ] Elapsed 0.36s / Remaining 00:00:00:00"
     ]
    },
    {
     "name": "stdout",
     "output_type": "stream",
     "text": [
      "\r",
      " [*********44%           ] Elapsed 0.36s / Remaining 00:00:00:00"
     ]
    },
    {
     "name": "stdout",
     "output_type": "stream",
     "text": [
      "\r",
      " [*********44%           ] Elapsed 0.37s / Remaining 00:00:00:00"
     ]
    },
    {
     "name": "stdout",
     "output_type": "stream",
     "text": [
      "\r",
      " [*********45%           ] Elapsed 0.37s / Remaining 00:00:00:00"
     ]
    },
    {
     "name": "stdout",
     "output_type": "stream",
     "text": [
      "\r",
      " [*********45%           ] Elapsed 0.37s / Remaining 00:00:00:00"
     ]
    },
    {
     "name": "stdout",
     "output_type": "stream",
     "text": [
      "\r",
      " [*********45%           ] Elapsed 0.37s / Remaining 00:00:00:00"
     ]
    },
    {
     "name": "stdout",
     "output_type": "stream",
     "text": [
      "\r",
      " [*********45%           ] Elapsed 0.37s / Remaining 00:00:00:00"
     ]
    },
    {
     "name": "stdout",
     "output_type": "stream",
     "text": [
      "\r",
      " [*********45%           ] Elapsed 0.37s / Remaining 00:00:00:00"
     ]
    },
    {
     "name": "stdout",
     "output_type": "stream",
     "text": [
      "\r",
      " [*********45%           ] Elapsed 0.37s / Remaining 00:00:00:00"
     ]
    },
    {
     "name": "stdout",
     "output_type": "stream",
     "text": [
      "\r",
      " [*********45%           ] Elapsed 0.37s / Remaining 00:00:00:00"
     ]
    },
    {
     "name": "stdout",
     "output_type": "stream",
     "text": [
      "\r",
      " [*********45%           ] Elapsed 0.37s / Remaining 00:00:00:00"
     ]
    },
    {
     "name": "stdout",
     "output_type": "stream",
     "text": [
      "\r",
      " [*********45%           ] Elapsed 0.37s / Remaining 00:00:00:00"
     ]
    },
    {
     "name": "stdout",
     "output_type": "stream",
     "text": [
      "\r",
      " [*********45%           ] Elapsed 0.37s / Remaining 00:00:00:00"
     ]
    },
    {
     "name": "stdout",
     "output_type": "stream",
     "text": [
      "\r",
      " [*********46%           ] Elapsed 0.37s / Remaining 00:00:00:00"
     ]
    },
    {
     "name": "stdout",
     "output_type": "stream",
     "text": [
      "\r",
      " [*********46%           ] Elapsed 0.37s / Remaining 00:00:00:00"
     ]
    },
    {
     "name": "stdout",
     "output_type": "stream",
     "text": [
      "\r",
      " [*********46%           ] Elapsed 0.38s / Remaining 00:00:00:00"
     ]
    },
    {
     "name": "stdout",
     "output_type": "stream",
     "text": [
      "\r",
      " [*********46%           ] Elapsed 0.38s / Remaining 00:00:00:00"
     ]
    },
    {
     "name": "stdout",
     "output_type": "stream",
     "text": [
      "\r",
      " [*********46%           ] Elapsed 0.38s / Remaining 00:00:00:00"
     ]
    },
    {
     "name": "stdout",
     "output_type": "stream",
     "text": [
      "\r",
      " [*********46%           ] Elapsed 0.38s / Remaining 00:00:00:00"
     ]
    },
    {
     "name": "stdout",
     "output_type": "stream",
     "text": [
      "\r",
      " [*********46%           ] Elapsed 0.38s / Remaining 00:00:00:00"
     ]
    },
    {
     "name": "stdout",
     "output_type": "stream",
     "text": [
      "\r",
      " [*********46%           ] Elapsed 0.38s / Remaining 00:00:00:00"
     ]
    },
    {
     "name": "stdout",
     "output_type": "stream",
     "text": [
      "\r",
      " [*********46%           ] Elapsed 0.38s / Remaining 00:00:00:00"
     ]
    },
    {
     "name": "stdout",
     "output_type": "stream",
     "text": [
      "\r",
      " [*********46%           ] Elapsed 0.38s / Remaining 00:00:00:00"
     ]
    },
    {
     "name": "stdout",
     "output_type": "stream",
     "text": [
      "\r",
      " [*********47%           ] Elapsed 0.38s / Remaining 00:00:00:00"
     ]
    },
    {
     "name": "stdout",
     "output_type": "stream",
     "text": [
      "\r",
      " [*********47%           ] Elapsed 0.38s / Remaining 00:00:00:00"
     ]
    },
    {
     "name": "stdout",
     "output_type": "stream",
     "text": [
      "\r",
      " [*********47%           ] Elapsed 0.38s / Remaining 00:00:00:00"
     ]
    },
    {
     "name": "stdout",
     "output_type": "stream",
     "text": [
      "\r",
      " [*********47%           ] Elapsed 0.38s / Remaining 00:00:00:00"
     ]
    },
    {
     "name": "stdout",
     "output_type": "stream",
     "text": [
      "\r",
      " [*********47%           ] Elapsed 0.39s / Remaining 00:00:00:00"
     ]
    },
    {
     "name": "stdout",
     "output_type": "stream",
     "text": [
      "\r",
      " [*********47%           ] Elapsed 0.39s / Remaining 00:00:00:00"
     ]
    },
    {
     "name": "stdout",
     "output_type": "stream",
     "text": [
      "\r",
      " [*********47%           ] Elapsed 0.39s / Remaining 00:00:00:00"
     ]
    },
    {
     "name": "stdout",
     "output_type": "stream",
     "text": [
      "\r",
      " [*********47%           ] Elapsed 0.39s / Remaining 00:00:00:00"
     ]
    },
    {
     "name": "stdout",
     "output_type": "stream",
     "text": [
      "\r",
      " [*********47%           ] Elapsed 0.39s / Remaining 00:00:00:00"
     ]
    },
    {
     "name": "stdout",
     "output_type": "stream",
     "text": [
      "\r",
      " [*********47%           ] Elapsed 0.39s / Remaining 00:00:00:00"
     ]
    },
    {
     "name": "stdout",
     "output_type": "stream",
     "text": [
      "\r",
      " [*********48%           ] Elapsed 0.39s / Remaining 00:00:00:00"
     ]
    },
    {
     "name": "stdout",
     "output_type": "stream",
     "text": [
      "\r",
      " [*********48%           ] Elapsed 0.39s / Remaining 00:00:00:00"
     ]
    },
    {
     "name": "stdout",
     "output_type": "stream",
     "text": [
      "\r",
      " [*********48%           ] Elapsed 0.39s / Remaining 00:00:00:00"
     ]
    },
    {
     "name": "stdout",
     "output_type": "stream",
     "text": [
      "\r",
      " [*********48%           ] Elapsed 0.39s / Remaining 00:00:00:00"
     ]
    },
    {
     "name": "stdout",
     "output_type": "stream",
     "text": [
      "\r",
      " [*********48%           ] Elapsed 0.39s / Remaining 00:00:00:00"
     ]
    },
    {
     "name": "stdout",
     "output_type": "stream",
     "text": [
      "\r",
      " [*********48%           ] Elapsed 0.39s / Remaining 00:00:00:00"
     ]
    },
    {
     "name": "stdout",
     "output_type": "stream",
     "text": [
      "\r",
      " [*********48%           ] Elapsed 0.39s / Remaining 00:00:00:00"
     ]
    },
    {
     "name": "stdout",
     "output_type": "stream",
     "text": [
      "\r",
      " [*********48%           ] Elapsed 0.40s / Remaining 00:00:00:00"
     ]
    },
    {
     "name": "stdout",
     "output_type": "stream",
     "text": [
      "\r",
      " [*********48%           ] Elapsed 0.40s / Remaining 00:00:00:00"
     ]
    },
    {
     "name": "stdout",
     "output_type": "stream",
     "text": [
      "\r",
      " [*********48%           ] Elapsed 0.40s / Remaining 00:00:00:00"
     ]
    },
    {
     "name": "stdout",
     "output_type": "stream",
     "text": [
      "\r",
      " [*********49%           ] Elapsed 0.40s / Remaining 00:00:00:00"
     ]
    },
    {
     "name": "stdout",
     "output_type": "stream",
     "text": [
      "\r",
      " [*********49%           ] Elapsed 0.40s / Remaining 00:00:00:00"
     ]
    },
    {
     "name": "stdout",
     "output_type": "stream",
     "text": [
      "\r",
      " [*********49%           ] Elapsed 0.40s / Remaining 00:00:00:00"
     ]
    },
    {
     "name": "stdout",
     "output_type": "stream",
     "text": [
      "\r",
      " [*********49%           ] Elapsed 0.40s / Remaining 00:00:00:00"
     ]
    },
    {
     "name": "stdout",
     "output_type": "stream",
     "text": [
      "\r",
      " [*********49%           ] Elapsed 0.40s / Remaining 00:00:00:00"
     ]
    },
    {
     "name": "stdout",
     "output_type": "stream",
     "text": [
      "\r",
      " [*********49%           ] Elapsed 0.40s / Remaining 00:00:00:00"
     ]
    },
    {
     "name": "stdout",
     "output_type": "stream",
     "text": [
      "\r",
      " [*********49%           ] Elapsed 0.40s / Remaining 00:00:00:00"
     ]
    },
    {
     "name": "stdout",
     "output_type": "stream",
     "text": [
      "\r",
      " [*********49%           ] Elapsed 0.40s / Remaining 00:00:00:00"
     ]
    },
    {
     "name": "stdout",
     "output_type": "stream",
     "text": [
      "\r",
      " [*********49%           ] Elapsed 0.40s / Remaining 00:00:00:00"
     ]
    },
    {
     "name": "stdout",
     "output_type": "stream",
     "text": [
      "\r",
      " [*********49%           ] Elapsed 0.41s / Remaining 00:00:00:00"
     ]
    },
    {
     "name": "stdout",
     "output_type": "stream",
     "text": [
      "\r",
      " [*********50%           ] Elapsed 0.41s / Remaining 00:00:00:00"
     ]
    },
    {
     "name": "stdout",
     "output_type": "stream",
     "text": [
      "\r",
      " [*********50%           ] Elapsed 0.41s / Remaining 00:00:00:00"
     ]
    },
    {
     "name": "stdout",
     "output_type": "stream",
     "text": [
      "\r",
      " [*********50%           ] Elapsed 0.41s / Remaining 00:00:00:00"
     ]
    },
    {
     "name": "stdout",
     "output_type": "stream",
     "text": [
      "\r",
      " [*********50%           ] Elapsed 0.41s / Remaining 00:00:00:00"
     ]
    },
    {
     "name": "stdout",
     "output_type": "stream",
     "text": [
      "\r",
      " [*********50%           ] Elapsed 0.41s / Remaining 00:00:00:00"
     ]
    },
    {
     "name": "stdout",
     "output_type": "stream",
     "text": [
      "\r",
      " [*********50%           ] Elapsed 0.41s / Remaining 00:00:00:00"
     ]
    },
    {
     "name": "stdout",
     "output_type": "stream",
     "text": [
      "\r",
      " [*********50%           ] Elapsed 0.41s / Remaining 00:00:00:00"
     ]
    },
    {
     "name": "stdout",
     "output_type": "stream",
     "text": [
      "\r",
      " [*********50%           ] Elapsed 0.41s / Remaining 00:00:00:00"
     ]
    },
    {
     "name": "stdout",
     "output_type": "stream",
     "text": [
      "\r",
      " [*********50%           ] Elapsed 0.41s / Remaining 00:00:00:00"
     ]
    },
    {
     "name": "stdout",
     "output_type": "stream",
     "text": [
      "\r",
      " [*********50%           ] Elapsed 0.41s / Remaining 00:00:00:00"
     ]
    },
    {
     "name": "stdout",
     "output_type": "stream",
     "text": [
      "\r",
      " [*********51%           ] Elapsed 0.41s / Remaining 00:00:00:00"
     ]
    },
    {
     "name": "stdout",
     "output_type": "stream",
     "text": [
      "\r",
      " [*********51%           ] Elapsed 0.42s / Remaining 00:00:00:00"
     ]
    },
    {
     "name": "stdout",
     "output_type": "stream",
     "text": [
      "\r",
      " [*********51%           ] Elapsed 0.42s / Remaining 00:00:00:00"
     ]
    },
    {
     "name": "stdout",
     "output_type": "stream",
     "text": [
      "\r",
      " [*********51%           ] Elapsed 0.42s / Remaining 00:00:00:00"
     ]
    },
    {
     "name": "stdout",
     "output_type": "stream",
     "text": [
      "\r",
      " [*********51%           ] Elapsed 0.42s / Remaining 00:00:00:00"
     ]
    },
    {
     "name": "stdout",
     "output_type": "stream",
     "text": [
      "\r",
      " [*********51%           ] Elapsed 0.42s / Remaining 00:00:00:00"
     ]
    },
    {
     "name": "stdout",
     "output_type": "stream",
     "text": [
      "\r",
      " [*********51%           ] Elapsed 0.42s / Remaining 00:00:00:00"
     ]
    },
    {
     "name": "stdout",
     "output_type": "stream",
     "text": [
      "\r",
      " [*********51%           ] Elapsed 0.42s / Remaining 00:00:00:00"
     ]
    },
    {
     "name": "stdout",
     "output_type": "stream",
     "text": [
      "\r",
      " [*********51%           ] Elapsed 0.42s / Remaining 00:00:00:00"
     ]
    },
    {
     "name": "stdout",
     "output_type": "stream",
     "text": [
      "\r",
      " [*********51%           ] Elapsed 0.42s / Remaining 00:00:00:00"
     ]
    },
    {
     "name": "stdout",
     "output_type": "stream",
     "text": [
      "\r",
      " [*********52%           ] Elapsed 0.42s / Remaining 00:00:00:00"
     ]
    },
    {
     "name": "stdout",
     "output_type": "stream",
     "text": [
      "\r",
      " [*********52%           ] Elapsed 0.42s / Remaining 00:00:00:00"
     ]
    },
    {
     "name": "stdout",
     "output_type": "stream",
     "text": [
      "\r",
      " [*********52%           ] Elapsed 0.42s / Remaining 00:00:00:00"
     ]
    },
    {
     "name": "stdout",
     "output_type": "stream",
     "text": [
      "\r",
      " [*********52%           ] Elapsed 0.42s / Remaining 00:00:00:00"
     ]
    },
    {
     "name": "stdout",
     "output_type": "stream",
     "text": [
      "\r",
      " [*********52%           ] Elapsed 0.43s / Remaining 00:00:00:00"
     ]
    },
    {
     "name": "stdout",
     "output_type": "stream",
     "text": [
      "\r",
      " [*********52%           ] Elapsed 0.43s / Remaining 00:00:00:00"
     ]
    },
    {
     "name": "stdout",
     "output_type": "stream",
     "text": [
      "\r",
      " [*********52%           ] Elapsed 0.43s / Remaining 00:00:00:00"
     ]
    },
    {
     "name": "stdout",
     "output_type": "stream",
     "text": [
      "\r",
      " [*********52%           ] Elapsed 0.43s / Remaining 00:00:00:00"
     ]
    },
    {
     "name": "stdout",
     "output_type": "stream",
     "text": [
      "\r",
      " [*********52%           ] Elapsed 0.43s / Remaining 00:00:00:00"
     ]
    },
    {
     "name": "stdout",
     "output_type": "stream",
     "text": [
      "\r",
      " [*********52%           ] Elapsed 0.43s / Remaining 00:00:00:00"
     ]
    },
    {
     "name": "stdout",
     "output_type": "stream",
     "text": [
      "\r",
      " [*********53%           ] Elapsed 0.43s / Remaining 00:00:00:00"
     ]
    },
    {
     "name": "stdout",
     "output_type": "stream",
     "text": [
      "\r",
      " [*********53%           ] Elapsed 0.43s / Remaining 00:00:00:00"
     ]
    },
    {
     "name": "stdout",
     "output_type": "stream",
     "text": [
      "\r",
      " [*********53%           ] Elapsed 0.43s / Remaining 00:00:00:00"
     ]
    },
    {
     "name": "stdout",
     "output_type": "stream",
     "text": [
      "\r",
      " [*********53%           ] Elapsed 0.43s / Remaining 00:00:00:00"
     ]
    },
    {
     "name": "stdout",
     "output_type": "stream",
     "text": [
      "\r",
      " [*********53%           ] Elapsed 0.44s / Remaining 00:00:00:00"
     ]
    },
    {
     "name": "stdout",
     "output_type": "stream",
     "text": [
      "\r",
      " [*********53%           ] Elapsed 0.44s / Remaining 00:00:00:00"
     ]
    },
    {
     "name": "stdout",
     "output_type": "stream",
     "text": [
      "\r",
      " [*********53%           ] Elapsed 0.44s / Remaining 00:00:00:00"
     ]
    },
    {
     "name": "stdout",
     "output_type": "stream",
     "text": [
      "\r",
      " [*********53%           ] Elapsed 0.44s / Remaining 00:00:00:00"
     ]
    },
    {
     "name": "stdout",
     "output_type": "stream",
     "text": [
      "\r",
      " [*********53%           ] Elapsed 0.44s / Remaining 00:00:00:00"
     ]
    },
    {
     "name": "stdout",
     "output_type": "stream",
     "text": [
      "\r",
      " [*********53%           ] Elapsed 0.44s / Remaining 00:00:00:00"
     ]
    },
    {
     "name": "stdout",
     "output_type": "stream",
     "text": [
      "\r",
      " [*********54%           ] Elapsed 0.44s / Remaining 00:00:00:00"
     ]
    },
    {
     "name": "stdout",
     "output_type": "stream",
     "text": [
      "\r",
      " [*********54%           ] Elapsed 0.44s / Remaining 00:00:00:00"
     ]
    },
    {
     "name": "stdout",
     "output_type": "stream",
     "text": [
      "\r",
      " [*********54%           ] Elapsed 0.44s / Remaining 00:00:00:00"
     ]
    },
    {
     "name": "stdout",
     "output_type": "stream",
     "text": [
      "\r",
      " [*********54%           ] Elapsed 0.44s / Remaining 00:00:00:00"
     ]
    },
    {
     "name": "stdout",
     "output_type": "stream",
     "text": [
      "\r",
      " [*********54%           ] Elapsed 0.44s / Remaining 00:00:00:00"
     ]
    },
    {
     "name": "stdout",
     "output_type": "stream",
     "text": [
      "\r",
      " [*********54%           ] Elapsed 0.44s / Remaining 00:00:00:00"
     ]
    },
    {
     "name": "stdout",
     "output_type": "stream",
     "text": [
      "\r",
      " [*********54%           ] Elapsed 0.44s / Remaining 00:00:00:00"
     ]
    },
    {
     "name": "stdout",
     "output_type": "stream",
     "text": [
      "\r",
      " [*********54%           ] Elapsed 0.45s / Remaining 00:00:00:00"
     ]
    },
    {
     "name": "stdout",
     "output_type": "stream",
     "text": [
      "\r",
      " [*********54%           ] Elapsed 0.45s / Remaining 00:00:00:00"
     ]
    },
    {
     "name": "stdout",
     "output_type": "stream",
     "text": [
      "\r",
      " [*********54%           ] Elapsed 0.45s / Remaining 00:00:00:00"
     ]
    },
    {
     "name": "stdout",
     "output_type": "stream",
     "text": [
      "\r",
      " [*********55%*          ] Elapsed 0.45s / Remaining 00:00:00:00"
     ]
    },
    {
     "name": "stdout",
     "output_type": "stream",
     "text": [
      "\r",
      " [*********55%*          ] Elapsed 0.45s / Remaining 00:00:00:00"
     ]
    },
    {
     "name": "stdout",
     "output_type": "stream",
     "text": [
      "\r",
      " [*********55%*          ] Elapsed 0.45s / Remaining 00:00:00:00"
     ]
    },
    {
     "name": "stdout",
     "output_type": "stream",
     "text": [
      "\r",
      " [*********55%*          ] Elapsed 0.45s / Remaining 00:00:00:00"
     ]
    },
    {
     "name": "stdout",
     "output_type": "stream",
     "text": [
      "\r",
      " [*********55%*          ] Elapsed 0.45s / Remaining 00:00:00:00"
     ]
    },
    {
     "name": "stdout",
     "output_type": "stream",
     "text": [
      "\r",
      " [*********55%*          ] Elapsed 0.45s / Remaining 00:00:00:00"
     ]
    },
    {
     "name": "stdout",
     "output_type": "stream",
     "text": [
      "\r",
      " [*********55%*          ] Elapsed 0.45s / Remaining 00:00:00:00"
     ]
    },
    {
     "name": "stdout",
     "output_type": "stream",
     "text": [
      "\r",
      " [*********55%*          ] Elapsed 0.45s / Remaining 00:00:00:00"
     ]
    },
    {
     "name": "stdout",
     "output_type": "stream",
     "text": [
      "\r",
      " [*********55%*          ] Elapsed 0.45s / Remaining 00:00:00:00"
     ]
    },
    {
     "name": "stdout",
     "output_type": "stream",
     "text": [
      "\r",
      " [*********55%*          ] Elapsed 0.46s / Remaining 00:00:00:00"
     ]
    },
    {
     "name": "stdout",
     "output_type": "stream",
     "text": [
      "\r",
      " [*********56%*          ] Elapsed 0.46s / Remaining 00:00:00:00"
     ]
    },
    {
     "name": "stdout",
     "output_type": "stream",
     "text": [
      "\r",
      " [*********56%*          ] Elapsed 0.46s / Remaining 00:00:00:00"
     ]
    },
    {
     "name": "stdout",
     "output_type": "stream",
     "text": [
      "\r",
      " [*********56%*          ] Elapsed 0.46s / Remaining 00:00:00:00"
     ]
    },
    {
     "name": "stdout",
     "output_type": "stream",
     "text": [
      "\r",
      " [*********56%*          ] Elapsed 0.46s / Remaining 00:00:00:00"
     ]
    },
    {
     "name": "stdout",
     "output_type": "stream",
     "text": [
      "\r",
      " [*********56%*          ] Elapsed 0.46s / Remaining 00:00:00:00"
     ]
    },
    {
     "name": "stdout",
     "output_type": "stream",
     "text": [
      "\r",
      " [*********56%*          ] Elapsed 0.46s / Remaining 00:00:00:00"
     ]
    },
    {
     "name": "stdout",
     "output_type": "stream",
     "text": [
      "\r",
      " [*********56%*          ] Elapsed 0.46s / Remaining 00:00:00:00"
     ]
    },
    {
     "name": "stdout",
     "output_type": "stream",
     "text": [
      "\r",
      " [*********56%*          ] Elapsed 0.46s / Remaining 00:00:00:00"
     ]
    },
    {
     "name": "stdout",
     "output_type": "stream",
     "text": [
      "\r",
      " [*********56%*          ] Elapsed 0.46s / Remaining 00:00:00:00"
     ]
    },
    {
     "name": "stdout",
     "output_type": "stream",
     "text": [
      "\r",
      " [*********56%*          ] Elapsed 0.46s / Remaining 00:00:00:00"
     ]
    },
    {
     "name": "stdout",
     "output_type": "stream",
     "text": [
      "\r",
      " [*********57%*          ] Elapsed 0.46s / Remaining 00:00:00:00"
     ]
    },
    {
     "name": "stdout",
     "output_type": "stream",
     "text": [
      "\r",
      " [*********57%*          ] Elapsed 0.47s / Remaining 00:00:00:00"
     ]
    },
    {
     "name": "stdout",
     "output_type": "stream",
     "text": [
      "\r",
      " [*********57%*          ] Elapsed 0.47s / Remaining 00:00:00:00"
     ]
    },
    {
     "name": "stdout",
     "output_type": "stream",
     "text": [
      "\r",
      " [*********57%*          ] Elapsed 0.47s / Remaining 00:00:00:00"
     ]
    },
    {
     "name": "stdout",
     "output_type": "stream",
     "text": [
      "\r",
      " [*********57%*          ] Elapsed 0.47s / Remaining 00:00:00:00"
     ]
    },
    {
     "name": "stdout",
     "output_type": "stream",
     "text": [
      "\r",
      " [*********57%*          ] Elapsed 0.47s / Remaining 00:00:00:00"
     ]
    },
    {
     "name": "stdout",
     "output_type": "stream",
     "text": [
      "\r",
      " [*********57%*          ] Elapsed 0.47s / Remaining 00:00:00:00"
     ]
    },
    {
     "name": "stdout",
     "output_type": "stream",
     "text": [
      "\r",
      " [*********57%*          ] Elapsed 0.47s / Remaining 00:00:00:00"
     ]
    },
    {
     "name": "stdout",
     "output_type": "stream",
     "text": [
      "\r",
      " [*********57%*          ] Elapsed 0.47s / Remaining 00:00:00:00"
     ]
    },
    {
     "name": "stdout",
     "output_type": "stream",
     "text": [
      "\r",
      " [*********57%*          ] Elapsed 0.47s / Remaining 00:00:00:00"
     ]
    },
    {
     "name": "stdout",
     "output_type": "stream",
     "text": [
      "\r",
      " [*********58%*          ] Elapsed 0.47s / Remaining 00:00:00:00"
     ]
    },
    {
     "name": "stdout",
     "output_type": "stream",
     "text": [
      "\r",
      " [*********58%*          ] Elapsed 0.47s / Remaining 00:00:00:00"
     ]
    },
    {
     "name": "stdout",
     "output_type": "stream",
     "text": [
      "\r",
      " [*********58%*          ] Elapsed 0.47s / Remaining 00:00:00:00"
     ]
    },
    {
     "name": "stdout",
     "output_type": "stream",
     "text": [
      "\r",
      " [*********58%*          ] Elapsed 0.47s / Remaining 00:00:00:00"
     ]
    },
    {
     "name": "stdout",
     "output_type": "stream",
     "text": [
      "\r",
      " [*********58%*          ] Elapsed 0.48s / Remaining 00:00:00:00"
     ]
    },
    {
     "name": "stdout",
     "output_type": "stream",
     "text": [
      "\r",
      " [*********58%*          ] Elapsed 0.48s / Remaining 00:00:00:00"
     ]
    },
    {
     "name": "stdout",
     "output_type": "stream",
     "text": [
      "\r",
      " [*********58%*          ] Elapsed 0.48s / Remaining 00:00:00:00"
     ]
    },
    {
     "name": "stdout",
     "output_type": "stream",
     "text": [
      "\r",
      " [*********58%*          ] Elapsed 0.48s / Remaining 00:00:00:00"
     ]
    },
    {
     "name": "stdout",
     "output_type": "stream",
     "text": [
      "\r",
      " [*********58%*          ] Elapsed 0.48s / Remaining 00:00:00:00"
     ]
    },
    {
     "name": "stdout",
     "output_type": "stream",
     "text": [
      "\r",
      " [*********58%*          ] Elapsed 0.48s / Remaining 00:00:00:00"
     ]
    },
    {
     "name": "stdout",
     "output_type": "stream",
     "text": [
      "\r",
      " [*********59%**         ] Elapsed 0.48s / Remaining 00:00:00:00"
     ]
    },
    {
     "name": "stdout",
     "output_type": "stream",
     "text": [
      "\r",
      " [*********59%**         ] Elapsed 0.48s / Remaining 00:00:00:00"
     ]
    },
    {
     "name": "stdout",
     "output_type": "stream",
     "text": [
      "\r",
      " [*********59%**         ] Elapsed 0.48s / Remaining 00:00:00:00"
     ]
    },
    {
     "name": "stdout",
     "output_type": "stream",
     "text": [
      "\r",
      " [*********59%**         ] Elapsed 0.48s / Remaining 00:00:00:00"
     ]
    },
    {
     "name": "stdout",
     "output_type": "stream",
     "text": [
      "\r",
      " [*********59%**         ] Elapsed 0.48s / Remaining 00:00:00:00"
     ]
    },
    {
     "name": "stdout",
     "output_type": "stream",
     "text": [
      "\r",
      " [*********59%**         ] Elapsed 0.48s / Remaining 00:00:00:00"
     ]
    },
    {
     "name": "stdout",
     "output_type": "stream",
     "text": [
      "\r",
      " [*********59%**         ] Elapsed 0.49s / Remaining 00:00:00:00"
     ]
    },
    {
     "name": "stdout",
     "output_type": "stream",
     "text": [
      "\r",
      " [*********59%**         ] Elapsed 0.49s / Remaining 00:00:00:00"
     ]
    },
    {
     "name": "stdout",
     "output_type": "stream",
     "text": [
      "\r",
      " [*********59%**         ] Elapsed 0.49s / Remaining 00:00:00:00"
     ]
    },
    {
     "name": "stdout",
     "output_type": "stream",
     "text": [
      "\r",
      " [*********59%**         ] Elapsed 0.49s / Remaining 00:00:00:00"
     ]
    },
    {
     "name": "stdout",
     "output_type": "stream",
     "text": [
      "\r",
      " [*********60%**         ] Elapsed 0.49s / Remaining 00:00:00:00"
     ]
    },
    {
     "name": "stdout",
     "output_type": "stream",
     "text": [
      "\r",
      " [*********60%**         ] Elapsed 0.49s / Remaining 00:00:00:00"
     ]
    },
    {
     "name": "stdout",
     "output_type": "stream",
     "text": [
      "\r",
      " [*********60%**         ] Elapsed 0.49s / Remaining 00:00:00:00"
     ]
    },
    {
     "name": "stdout",
     "output_type": "stream",
     "text": [
      "\r",
      " [*********60%**         ] Elapsed 0.49s / Remaining 00:00:00:00"
     ]
    },
    {
     "name": "stdout",
     "output_type": "stream",
     "text": [
      "\r",
      " [*********60%**         ] Elapsed 0.49s / Remaining 00:00:00:00"
     ]
    },
    {
     "name": "stdout",
     "output_type": "stream",
     "text": [
      "\r",
      " [*********60%**         ] Elapsed 0.49s / Remaining 00:00:00:00"
     ]
    },
    {
     "name": "stdout",
     "output_type": "stream",
     "text": [
      "\r",
      " [*********60%**         ] Elapsed 0.50s / Remaining 00:00:00:00"
     ]
    },
    {
     "name": "stdout",
     "output_type": "stream",
     "text": [
      "\r",
      " [*********60%**         ] Elapsed 0.50s / Remaining 00:00:00:00"
     ]
    },
    {
     "name": "stdout",
     "output_type": "stream",
     "text": [
      "\r",
      " [*********60%**         ] Elapsed 0.50s / Remaining 00:00:00:00"
     ]
    },
    {
     "name": "stdout",
     "output_type": "stream",
     "text": [
      "\r",
      " [*********60%**         ] Elapsed 0.50s / Remaining 00:00:00:00"
     ]
    },
    {
     "name": "stdout",
     "output_type": "stream",
     "text": [
      "\r",
      " [*********61%**         ] Elapsed 0.50s / Remaining 00:00:00:00"
     ]
    },
    {
     "name": "stdout",
     "output_type": "stream",
     "text": [
      "\r",
      " [*********61%**         ] Elapsed 0.50s / Remaining 00:00:00:00"
     ]
    },
    {
     "name": "stdout",
     "output_type": "stream",
     "text": [
      "\r",
      " [*********61%**         ] Elapsed 0.50s / Remaining 00:00:00:00"
     ]
    },
    {
     "name": "stdout",
     "output_type": "stream",
     "text": [
      "\r",
      " [*********61%**         ] Elapsed 0.50s / Remaining 00:00:00:00"
     ]
    },
    {
     "name": "stdout",
     "output_type": "stream",
     "text": [
      "\r",
      " [*********61%**         ] Elapsed 0.50s / Remaining 00:00:00:00"
     ]
    },
    {
     "name": "stdout",
     "output_type": "stream",
     "text": [
      "\r",
      " [*********61%**         ] Elapsed 0.50s / Remaining 00:00:00:00"
     ]
    },
    {
     "name": "stdout",
     "output_type": "stream",
     "text": [
      "\r",
      " [*********61%**         ] Elapsed 0.50s / Remaining 00:00:00:00"
     ]
    },
    {
     "name": "stdout",
     "output_type": "stream",
     "text": [
      "\r",
      " [*********61%**         ] Elapsed 0.50s / Remaining 00:00:00:00"
     ]
    },
    {
     "name": "stdout",
     "output_type": "stream",
     "text": [
      "\r",
      " [*********61%**         ] Elapsed 0.50s / Remaining 00:00:00:00"
     ]
    },
    {
     "name": "stdout",
     "output_type": "stream",
     "text": [
      "\r",
      " [*********61%**         ] Elapsed 0.51s / Remaining 00:00:00:00"
     ]
    },
    {
     "name": "stdout",
     "output_type": "stream",
     "text": [
      "\r",
      " [*********62%**         ] Elapsed 0.51s / Remaining 00:00:00:00"
     ]
    },
    {
     "name": "stdout",
     "output_type": "stream",
     "text": [
      "\r",
      " [*********62%**         ] Elapsed 0.51s / Remaining 00:00:00:00"
     ]
    },
    {
     "name": "stdout",
     "output_type": "stream",
     "text": [
      "\r",
      " [*********62%**         ] Elapsed 0.51s / Remaining 00:00:00:00"
     ]
    },
    {
     "name": "stdout",
     "output_type": "stream",
     "text": [
      "\r",
      " [*********62%**         ] Elapsed 0.51s / Remaining 00:00:00:00"
     ]
    },
    {
     "name": "stdout",
     "output_type": "stream",
     "text": [
      "\r",
      " [*********62%**         ] Elapsed 0.51s / Remaining 00:00:00:00"
     ]
    },
    {
     "name": "stdout",
     "output_type": "stream",
     "text": [
      "\r",
      " [*********62%**         ] Elapsed 0.51s / Remaining 00:00:00:00"
     ]
    },
    {
     "name": "stdout",
     "output_type": "stream",
     "text": [
      "\r",
      " [*********62%**         ] Elapsed 0.51s / Remaining 00:00:00:00"
     ]
    },
    {
     "name": "stdout",
     "output_type": "stream",
     "text": [
      "\r",
      " [*********62%**         ] Elapsed 0.51s / Remaining 00:00:00:00"
     ]
    },
    {
     "name": "stdout",
     "output_type": "stream",
     "text": [
      "\r",
      " [*********62%**         ] Elapsed 0.51s / Remaining 00:00:00:00"
     ]
    },
    {
     "name": "stdout",
     "output_type": "stream",
     "text": [
      "\r",
      " [*********62%**         ] Elapsed 0.51s / Remaining 00:00:00:00"
     ]
    },
    {
     "name": "stdout",
     "output_type": "stream",
     "text": [
      "\r",
      " [*********63%**         ] Elapsed 0.51s / Remaining 00:00:00:00"
     ]
    },
    {
     "name": "stdout",
     "output_type": "stream",
     "text": [
      "\r",
      " [*********63%**         ] Elapsed 0.52s / Remaining 00:00:00:00"
     ]
    },
    {
     "name": "stdout",
     "output_type": "stream",
     "text": [
      "\r",
      " [*********63%**         ] Elapsed 0.52s / Remaining 00:00:00:00"
     ]
    },
    {
     "name": "stdout",
     "output_type": "stream",
     "text": [
      "\r",
      " [*********63%**         ] Elapsed 0.52s / Remaining 00:00:00:00"
     ]
    },
    {
     "name": "stdout",
     "output_type": "stream",
     "text": [
      "\r",
      " [*********63%**         ] Elapsed 0.52s / Remaining 00:00:00:00"
     ]
    },
    {
     "name": "stdout",
     "output_type": "stream",
     "text": [
      "\r",
      " [*********63%**         ] Elapsed 0.52s / Remaining 00:00:00:00"
     ]
    },
    {
     "name": "stdout",
     "output_type": "stream",
     "text": [
      "\r",
      " [*********63%**         ] Elapsed 0.52s / Remaining 00:00:00:00"
     ]
    },
    {
     "name": "stdout",
     "output_type": "stream",
     "text": [
      "\r",
      " [*********63%**         ] Elapsed 0.52s / Remaining 00:00:00:00"
     ]
    },
    {
     "name": "stdout",
     "output_type": "stream",
     "text": [
      "\r",
      " [*********63%**         ] Elapsed 0.52s / Remaining 00:00:00:00"
     ]
    },
    {
     "name": "stdout",
     "output_type": "stream",
     "text": [
      "\r",
      " [*********63%**         ] Elapsed 0.52s / Remaining 00:00:00:00"
     ]
    },
    {
     "name": "stdout",
     "output_type": "stream",
     "text": [
      "\r",
      " [*********64%***        ] Elapsed 0.52s / Remaining 00:00:00:00"
     ]
    },
    {
     "name": "stdout",
     "output_type": "stream",
     "text": [
      "\r",
      " [*********64%***        ] Elapsed 0.52s / Remaining 00:00:00:00"
     ]
    },
    {
     "name": "stdout",
     "output_type": "stream",
     "text": [
      "\r",
      " [*********64%***        ] Elapsed 0.52s / Remaining 00:00:00:00"
     ]
    },
    {
     "name": "stdout",
     "output_type": "stream",
     "text": [
      "\r",
      " [*********64%***        ] Elapsed 0.53s / Remaining 00:00:00:00"
     ]
    },
    {
     "name": "stdout",
     "output_type": "stream",
     "text": [
      "\r",
      " [*********64%***        ] Elapsed 0.53s / Remaining 00:00:00:00"
     ]
    },
    {
     "name": "stdout",
     "output_type": "stream",
     "text": [
      "\r",
      " [*********64%***        ] Elapsed 0.53s / Remaining 00:00:00:00"
     ]
    },
    {
     "name": "stdout",
     "output_type": "stream",
     "text": [
      "\r",
      " [*********64%***        ] Elapsed 0.53s / Remaining 00:00:00:00"
     ]
    },
    {
     "name": "stdout",
     "output_type": "stream",
     "text": [
      "\r",
      " [*********64%***        ] Elapsed 0.53s / Remaining 00:00:00:00"
     ]
    },
    {
     "name": "stdout",
     "output_type": "stream",
     "text": [
      "\r",
      " [*********64%***        ] Elapsed 0.53s / Remaining 00:00:00:00"
     ]
    },
    {
     "name": "stdout",
     "output_type": "stream",
     "text": [
      "\r",
      " [*********64%***        ] Elapsed 0.53s / Remaining 00:00:00:00"
     ]
    },
    {
     "name": "stdout",
     "output_type": "stream",
     "text": [
      "\r",
      " [*********65%***        ] Elapsed 0.53s / Remaining 00:00:00:00"
     ]
    },
    {
     "name": "stdout",
     "output_type": "stream",
     "text": [
      "\r",
      " [*********65%***        ] Elapsed 0.53s / Remaining 00:00:00:00"
     ]
    },
    {
     "name": "stdout",
     "output_type": "stream",
     "text": [
      "\r",
      " [*********65%***        ] Elapsed 0.53s / Remaining 00:00:00:00"
     ]
    },
    {
     "name": "stdout",
     "output_type": "stream",
     "text": [
      "\r",
      " [*********65%***        ] Elapsed 0.53s / Remaining 00:00:00:00"
     ]
    },
    {
     "name": "stdout",
     "output_type": "stream",
     "text": [
      "\r",
      " [*********65%***        ] Elapsed 0.53s / Remaining 00:00:00:00"
     ]
    },
    {
     "name": "stdout",
     "output_type": "stream",
     "text": [
      "\r",
      " [*********65%***        ] Elapsed 0.54s / Remaining 00:00:00:00"
     ]
    },
    {
     "name": "stdout",
     "output_type": "stream",
     "text": [
      "\r",
      " [*********65%***        ] Elapsed 0.54s / Remaining 00:00:00:00"
     ]
    },
    {
     "name": "stdout",
     "output_type": "stream",
     "text": [
      "\r",
      " [*********65%***        ] Elapsed 0.54s / Remaining 00:00:00:00"
     ]
    },
    {
     "name": "stdout",
     "output_type": "stream",
     "text": [
      "\r",
      " [*********65%***        ] Elapsed 0.54s / Remaining 00:00:00:00"
     ]
    },
    {
     "name": "stdout",
     "output_type": "stream",
     "text": [
      "\r",
      " [*********65%***        ] Elapsed 0.54s / Remaining 00:00:00:00"
     ]
    },
    {
     "name": "stdout",
     "output_type": "stream",
     "text": [
      "\r",
      " [*********66%***        ] Elapsed 0.54s / Remaining 00:00:00:00"
     ]
    },
    {
     "name": "stdout",
     "output_type": "stream",
     "text": [
      "\r",
      " [*********66%***        ] Elapsed 0.54s / Remaining 00:00:00:00"
     ]
    },
    {
     "name": "stdout",
     "output_type": "stream",
     "text": [
      "\r",
      " [*********66%***        ] Elapsed 0.54s / Remaining 00:00:00:00"
     ]
    },
    {
     "name": "stdout",
     "output_type": "stream",
     "text": [
      "\r",
      " [*********66%***        ] Elapsed 0.54s / Remaining 00:00:00:00"
     ]
    },
    {
     "name": "stdout",
     "output_type": "stream",
     "text": [
      "\r",
      " [*********66%***        ] Elapsed 0.54s / Remaining 00:00:00:00"
     ]
    },
    {
     "name": "stdout",
     "output_type": "stream",
     "text": [
      "\r",
      " [*********66%***        ] Elapsed 0.54s / Remaining 00:00:00:00"
     ]
    },
    {
     "name": "stdout",
     "output_type": "stream",
     "text": [
      "\r",
      " [*********66%***        ] Elapsed 0.54s / Remaining 00:00:00:00"
     ]
    },
    {
     "name": "stdout",
     "output_type": "stream",
     "text": [
      "\r",
      " [*********66%***        ] Elapsed 0.55s / Remaining 00:00:00:00"
     ]
    },
    {
     "name": "stdout",
     "output_type": "stream",
     "text": [
      "\r",
      " [*********66%***        ] Elapsed 0.55s / Remaining 00:00:00:00"
     ]
    },
    {
     "name": "stdout",
     "output_type": "stream",
     "text": [
      "\r",
      " [*********66%***        ] Elapsed 0.55s / Remaining 00:00:00:00"
     ]
    },
    {
     "name": "stdout",
     "output_type": "stream",
     "text": [
      "\r",
      " [*********67%***        ] Elapsed 0.55s / Remaining 00:00:00:00"
     ]
    },
    {
     "name": "stdout",
     "output_type": "stream",
     "text": [
      "\r",
      " [*********67%***        ] Elapsed 0.55s / Remaining 00:00:00:00"
     ]
    },
    {
     "name": "stdout",
     "output_type": "stream",
     "text": [
      "\r",
      " [*********67%***        ] Elapsed 0.55s / Remaining 00:00:00:00"
     ]
    },
    {
     "name": "stdout",
     "output_type": "stream",
     "text": [
      "\r",
      " [*********67%***        ] Elapsed 0.55s / Remaining 00:00:00:00"
     ]
    },
    {
     "name": "stdout",
     "output_type": "stream",
     "text": [
      "\r",
      " [*********67%***        ] Elapsed 0.55s / Remaining 00:00:00:00"
     ]
    },
    {
     "name": "stdout",
     "output_type": "stream",
     "text": [
      "\r",
      " [*********67%***        ] Elapsed 0.55s / Remaining 00:00:00:00"
     ]
    },
    {
     "name": "stdout",
     "output_type": "stream",
     "text": [
      "\r",
      " [*********67%***        ] Elapsed 0.55s / Remaining 00:00:00:00"
     ]
    },
    {
     "name": "stdout",
     "output_type": "stream",
     "text": [
      "\r",
      " [*********67%***        ] Elapsed 0.55s / Remaining 00:00:00:00"
     ]
    },
    {
     "name": "stdout",
     "output_type": "stream",
     "text": [
      "\r",
      " [*********67%***        ] Elapsed 0.55s / Remaining 00:00:00:00"
     ]
    },
    {
     "name": "stdout",
     "output_type": "stream",
     "text": [
      "\r",
      " [*********67%***        ] Elapsed 0.56s / Remaining 00:00:00:00"
     ]
    },
    {
     "name": "stdout",
     "output_type": "stream",
     "text": [
      "\r",
      " [*********68%****       ] Elapsed 0.56s / Remaining 00:00:00:00"
     ]
    },
    {
     "name": "stdout",
     "output_type": "stream",
     "text": [
      "\r",
      " [*********68%****       ] Elapsed 0.56s / Remaining 00:00:00:00"
     ]
    },
    {
     "name": "stdout",
     "output_type": "stream",
     "text": [
      "\r",
      " [*********68%****       ] Elapsed 0.56s / Remaining 00:00:00:00"
     ]
    },
    {
     "name": "stdout",
     "output_type": "stream",
     "text": [
      "\r",
      " [*********68%****       ] Elapsed 0.56s / Remaining 00:00:00:00"
     ]
    },
    {
     "name": "stdout",
     "output_type": "stream",
     "text": [
      "\r",
      " [*********68%****       ] Elapsed 0.56s / Remaining 00:00:00:00"
     ]
    },
    {
     "name": "stdout",
     "output_type": "stream",
     "text": [
      "\r",
      " [*********68%****       ] Elapsed 0.56s / Remaining 00:00:00:00"
     ]
    },
    {
     "name": "stdout",
     "output_type": "stream",
     "text": [
      "\r",
      " [*********68%****       ] Elapsed 0.56s / Remaining 00:00:00:00"
     ]
    },
    {
     "name": "stdout",
     "output_type": "stream",
     "text": [
      "\r",
      " [*********68%****       ] Elapsed 0.56s / Remaining 00:00:00:00"
     ]
    },
    {
     "name": "stdout",
     "output_type": "stream",
     "text": [
      "\r",
      " [*********68%****       ] Elapsed 0.56s / Remaining 00:00:00:00"
     ]
    },
    {
     "name": "stdout",
     "output_type": "stream",
     "text": [
      "\r",
      " [*********68%****       ] Elapsed 0.56s / Remaining 00:00:00:00"
     ]
    },
    {
     "name": "stdout",
     "output_type": "stream",
     "text": [
      "\r",
      " [*********69%****       ] Elapsed 0.57s / Remaining 00:00:00:00"
     ]
    },
    {
     "name": "stdout",
     "output_type": "stream",
     "text": [
      "\r",
      " [*********69%****       ] Elapsed 0.57s / Remaining 00:00:00:00"
     ]
    },
    {
     "name": "stdout",
     "output_type": "stream",
     "text": [
      "\r",
      " [*********69%****       ] Elapsed 0.57s / Remaining 00:00:00:00"
     ]
    },
    {
     "name": "stdout",
     "output_type": "stream",
     "text": [
      "\r",
      " [*********69%****       ] Elapsed 0.57s / Remaining 00:00:00:00"
     ]
    },
    {
     "name": "stdout",
     "output_type": "stream",
     "text": [
      "\r",
      " [*********69%****       ] Elapsed 0.57s / Remaining 00:00:00:00"
     ]
    },
    {
     "name": "stdout",
     "output_type": "stream",
     "text": [
      "\r",
      " [*********69%****       ] Elapsed 0.57s / Remaining 00:00:00:00"
     ]
    },
    {
     "name": "stdout",
     "output_type": "stream",
     "text": [
      "\r",
      " [*********69%****       ] Elapsed 0.57s / Remaining 00:00:00:00"
     ]
    },
    {
     "name": "stdout",
     "output_type": "stream",
     "text": [
      "\r",
      " [*********69%****       ] Elapsed 0.57s / Remaining 00:00:00:00"
     ]
    },
    {
     "name": "stdout",
     "output_type": "stream",
     "text": [
      "\r",
      " [*********69%****       ] Elapsed 0.57s / Remaining 00:00:00:00"
     ]
    },
    {
     "name": "stdout",
     "output_type": "stream",
     "text": [
      "\r",
      " [*********69%****       ] Elapsed 0.57s / Remaining 00:00:00:00"
     ]
    },
    {
     "name": "stdout",
     "output_type": "stream",
     "text": [
      "\r",
      " [*********70%****       ] Elapsed 0.57s / Remaining 00:00:00:00"
     ]
    },
    {
     "name": "stdout",
     "output_type": "stream",
     "text": [
      "\r",
      " [*********70%****       ] Elapsed 0.58s / Remaining 00:00:00:00"
     ]
    },
    {
     "name": "stdout",
     "output_type": "stream",
     "text": [
      "\r",
      " [*********70%****       ] Elapsed 0.58s / Remaining 00:00:00:00"
     ]
    },
    {
     "name": "stdout",
     "output_type": "stream",
     "text": [
      "\r",
      " [*********70%****       ] Elapsed 0.58s / Remaining 00:00:00:00"
     ]
    },
    {
     "name": "stdout",
     "output_type": "stream",
     "text": [
      "\r",
      " [*********70%****       ] Elapsed 0.58s / Remaining 00:00:00:00"
     ]
    },
    {
     "name": "stdout",
     "output_type": "stream",
     "text": [
      "\r",
      " [*********70%****       ] Elapsed 0.58s / Remaining 00:00:00:00"
     ]
    },
    {
     "name": "stdout",
     "output_type": "stream",
     "text": [
      "\r",
      " [*********70%****       ] Elapsed 0.58s / Remaining 00:00:00:00"
     ]
    },
    {
     "name": "stdout",
     "output_type": "stream",
     "text": [
      "\r",
      " [*********70%****       ] Elapsed 0.58s / Remaining 00:00:00:00"
     ]
    },
    {
     "name": "stdout",
     "output_type": "stream",
     "text": [
      "\r",
      " [*********70%****       ] Elapsed 0.58s / Remaining 00:00:00:00"
     ]
    },
    {
     "name": "stdout",
     "output_type": "stream",
     "text": [
      "\r",
      " [*********70%****       ] Elapsed 0.58s / Remaining 00:00:00:00"
     ]
    },
    {
     "name": "stdout",
     "output_type": "stream",
     "text": [
      "\r",
      " [*********71%****       ] Elapsed 0.58s / Remaining 00:00:00:00"
     ]
    },
    {
     "name": "stdout",
     "output_type": "stream",
     "text": [
      "\r",
      " [*********71%****       ] Elapsed 0.58s / Remaining 00:00:00:00"
     ]
    },
    {
     "name": "stdout",
     "output_type": "stream",
     "text": [
      "\r",
      " [*********71%****       ] Elapsed 0.58s / Remaining 00:00:00:00"
     ]
    },
    {
     "name": "stdout",
     "output_type": "stream",
     "text": [
      "\r",
      " [*********71%****       ] Elapsed 0.59s / Remaining 00:00:00:00"
     ]
    },
    {
     "name": "stdout",
     "output_type": "stream",
     "text": [
      "\r",
      " [*********71%****       ] Elapsed 0.59s / Remaining 00:00:00:00"
     ]
    },
    {
     "name": "stdout",
     "output_type": "stream",
     "text": [
      "\r",
      " [*********71%****       ] Elapsed 0.59s / Remaining 00:00:00:00"
     ]
    },
    {
     "name": "stdout",
     "output_type": "stream",
     "text": [
      "\r",
      " [*********71%****       ] Elapsed 0.59s / Remaining 00:00:00:00"
     ]
    },
    {
     "name": "stdout",
     "output_type": "stream",
     "text": [
      "\r",
      " [*********71%****       ] Elapsed 0.59s / Remaining 00:00:00:00"
     ]
    },
    {
     "name": "stdout",
     "output_type": "stream",
     "text": [
      "\r",
      " [*********71%****       ] Elapsed 0.59s / Remaining 00:00:00:00"
     ]
    },
    {
     "name": "stdout",
     "output_type": "stream",
     "text": [
      "\r",
      " [*********71%****       ] Elapsed 0.59s / Remaining 00:00:00:00"
     ]
    },
    {
     "name": "stdout",
     "output_type": "stream",
     "text": [
      "\r",
      " [*********72%*****      ] Elapsed 0.59s / Remaining 00:00:00:00"
     ]
    },
    {
     "name": "stdout",
     "output_type": "stream",
     "text": [
      "\r",
      " [*********72%*****      ] Elapsed 0.59s / Remaining 00:00:00:00"
     ]
    },
    {
     "name": "stdout",
     "output_type": "stream",
     "text": [
      "\r",
      " [*********72%*****      ] Elapsed 0.59s / Remaining 00:00:00:00"
     ]
    },
    {
     "name": "stdout",
     "output_type": "stream",
     "text": [
      "\r",
      " [*********72%*****      ] Elapsed 0.59s / Remaining 00:00:00:00"
     ]
    },
    {
     "name": "stdout",
     "output_type": "stream",
     "text": [
      "\r",
      " [*********72%*****      ] Elapsed 0.59s / Remaining 00:00:00:00"
     ]
    },
    {
     "name": "stdout",
     "output_type": "stream",
     "text": [
      "\r",
      " [*********72%*****      ] Elapsed 0.60s / Remaining 00:00:00:00"
     ]
    },
    {
     "name": "stdout",
     "output_type": "stream",
     "text": [
      "\r",
      " [*********72%*****      ] Elapsed 0.60s / Remaining 00:00:00:00"
     ]
    },
    {
     "name": "stdout",
     "output_type": "stream",
     "text": [
      "\r",
      " [*********72%*****      ] Elapsed 0.60s / Remaining 00:00:00:00"
     ]
    },
    {
     "name": "stdout",
     "output_type": "stream",
     "text": [
      "\r",
      " [*********72%*****      ] Elapsed 0.60s / Remaining 00:00:00:00"
     ]
    },
    {
     "name": "stdout",
     "output_type": "stream",
     "text": [
      "\r",
      " [*********72%*****      ] Elapsed 0.60s / Remaining 00:00:00:00"
     ]
    },
    {
     "name": "stdout",
     "output_type": "stream",
     "text": [
      "\r",
      " [*********73%*****      ] Elapsed 0.60s / Remaining 00:00:00:00"
     ]
    },
    {
     "name": "stdout",
     "output_type": "stream",
     "text": [
      "\r",
      " [*********73%*****      ] Elapsed 0.60s / Remaining 00:00:00:00"
     ]
    },
    {
     "name": "stdout",
     "output_type": "stream",
     "text": [
      "\r",
      " [*********73%*****      ] Elapsed 0.60s / Remaining 00:00:00:00"
     ]
    },
    {
     "name": "stdout",
     "output_type": "stream",
     "text": [
      "\r",
      " [*********73%*****      ] Elapsed 0.60s / Remaining 00:00:00:00"
     ]
    },
    {
     "name": "stdout",
     "output_type": "stream",
     "text": [
      "\r",
      " [*********73%*****      ] Elapsed 0.60s / Remaining 00:00:00:00"
     ]
    },
    {
     "name": "stdout",
     "output_type": "stream",
     "text": [
      "\r",
      " [*********73%*****      ] Elapsed 0.60s / Remaining 00:00:00:00"
     ]
    },
    {
     "name": "stdout",
     "output_type": "stream",
     "text": [
      "\r",
      " [*********73%*****      ] Elapsed 0.60s / Remaining 00:00:00:00"
     ]
    },
    {
     "name": "stdout",
     "output_type": "stream",
     "text": [
      "\r",
      " [*********73%*****      ] Elapsed 0.61s / Remaining 00:00:00:00"
     ]
    },
    {
     "name": "stdout",
     "output_type": "stream",
     "text": [
      "\r",
      " [*********73%*****      ] Elapsed 0.61s / Remaining 00:00:00:00"
     ]
    },
    {
     "name": "stdout",
     "output_type": "stream",
     "text": [
      "\r",
      " [*********73%*****      ] Elapsed 0.61s / Remaining 00:00:00:00"
     ]
    },
    {
     "name": "stdout",
     "output_type": "stream",
     "text": [
      "\r",
      " [*********74%*****      ] Elapsed 0.61s / Remaining 00:00:00:00"
     ]
    },
    {
     "name": "stdout",
     "output_type": "stream",
     "text": [
      "\r",
      " [*********74%*****      ] Elapsed 0.61s / Remaining 00:00:00:00"
     ]
    },
    {
     "name": "stdout",
     "output_type": "stream",
     "text": [
      "\r",
      " [*********74%*****      ] Elapsed 0.61s / Remaining 00:00:00:00"
     ]
    },
    {
     "name": "stdout",
     "output_type": "stream",
     "text": [
      "\r",
      " [*********74%*****      ] Elapsed 0.61s / Remaining 00:00:00:00"
     ]
    },
    {
     "name": "stdout",
     "output_type": "stream",
     "text": [
      "\r",
      " [*********74%*****      ] Elapsed 0.61s / Remaining 00:00:00:00"
     ]
    },
    {
     "name": "stdout",
     "output_type": "stream",
     "text": [
      "\r",
      " [*********74%*****      ] Elapsed 0.61s / Remaining 00:00:00:00"
     ]
    },
    {
     "name": "stdout",
     "output_type": "stream",
     "text": [
      "\r",
      " [*********74%*****      ] Elapsed 0.61s / Remaining 00:00:00:00"
     ]
    },
    {
     "name": "stdout",
     "output_type": "stream",
     "text": [
      "\r",
      " [*********74%*****      ] Elapsed 0.61s / Remaining 00:00:00:00"
     ]
    },
    {
     "name": "stdout",
     "output_type": "stream",
     "text": [
      "\r",
      " [*********74%*****      ] Elapsed 0.61s / Remaining 00:00:00:00"
     ]
    },
    {
     "name": "stdout",
     "output_type": "stream",
     "text": [
      "\r",
      " [*********74%*****      ] Elapsed 0.62s / Remaining 00:00:00:00"
     ]
    },
    {
     "name": "stdout",
     "output_type": "stream",
     "text": [
      "\r",
      " [*********75%*****      ] Elapsed 0.62s / Remaining 00:00:00:00"
     ]
    },
    {
     "name": "stdout",
     "output_type": "stream",
     "text": [
      "\r",
      " [*********75%*****      ] Elapsed 0.62s / Remaining 00:00:00:00"
     ]
    },
    {
     "name": "stdout",
     "output_type": "stream",
     "text": [
      "\r",
      " [*********75%*****      ] Elapsed 0.62s / Remaining 00:00:00:00"
     ]
    },
    {
     "name": "stdout",
     "output_type": "stream",
     "text": [
      "\r",
      " [*********75%*****      ] Elapsed 0.62s / Remaining 00:00:00:00"
     ]
    },
    {
     "name": "stdout",
     "output_type": "stream",
     "text": [
      "\r",
      " [*********75%*****      ] Elapsed 0.62s / Remaining 00:00:00:00"
     ]
    },
    {
     "name": "stdout",
     "output_type": "stream",
     "text": [
      "\r",
      " [*********75%*****      ] Elapsed 0.62s / Remaining 00:00:00:00"
     ]
    },
    {
     "name": "stdout",
     "output_type": "stream",
     "text": [
      "\r",
      " [*********75%*****      ] Elapsed 0.62s / Remaining 00:00:00:00"
     ]
    },
    {
     "name": "stdout",
     "output_type": "stream",
     "text": [
      "\r",
      " [*********75%*****      ] Elapsed 0.62s / Remaining 00:00:00:00"
     ]
    },
    {
     "name": "stdout",
     "output_type": "stream",
     "text": [
      "\r",
      " [*********75%*****      ] Elapsed 0.62s / Remaining 00:00:00:00"
     ]
    },
    {
     "name": "stdout",
     "output_type": "stream",
     "text": [
      "\r",
      " [*********75%*****      ] Elapsed 0.62s / Remaining 00:00:00:00"
     ]
    },
    {
     "name": "stdout",
     "output_type": "stream",
     "text": [
      "\r",
      " [*********76%*****      ] Elapsed 0.62s / Remaining 00:00:00:00"
     ]
    },
    {
     "name": "stdout",
     "output_type": "stream",
     "text": [
      "\r",
      " [*********76%*****      ] Elapsed 0.63s / Remaining 00:00:00:00"
     ]
    },
    {
     "name": "stdout",
     "output_type": "stream",
     "text": [
      "\r",
      " [*********76%*****      ] Elapsed 0.63s / Remaining 00:00:00:00"
     ]
    },
    {
     "name": "stdout",
     "output_type": "stream",
     "text": [
      "\r",
      " [*********76%*****      ] Elapsed 0.63s / Remaining 00:00:00:00"
     ]
    },
    {
     "name": "stdout",
     "output_type": "stream",
     "text": [
      "\r",
      " [*********76%*****      ] Elapsed 0.63s / Remaining 00:00:00:00"
     ]
    },
    {
     "name": "stdout",
     "output_type": "stream",
     "text": [
      "\r",
      " [*********76%*****      ] Elapsed 0.63s / Remaining 00:00:00:00"
     ]
    },
    {
     "name": "stdout",
     "output_type": "stream",
     "text": [
      "\r",
      " [*********76%*****      ] Elapsed 0.63s / Remaining 00:00:00:00"
     ]
    },
    {
     "name": "stdout",
     "output_type": "stream",
     "text": [
      "\r",
      " [*********76%*****      ] Elapsed 0.63s / Remaining 00:00:00:00"
     ]
    },
    {
     "name": "stdout",
     "output_type": "stream",
     "text": [
      "\r",
      " [*********76%*****      ] Elapsed 0.63s / Remaining 00:00:00:00"
     ]
    },
    {
     "name": "stdout",
     "output_type": "stream",
     "text": [
      "\r",
      " [*********76%*****      ] Elapsed 0.63s / Remaining 00:00:00:00"
     ]
    },
    {
     "name": "stdout",
     "output_type": "stream",
     "text": [
      "\r",
      " [*********77%******     ] Elapsed 0.63s / Remaining 00:00:00:00"
     ]
    },
    {
     "name": "stdout",
     "output_type": "stream",
     "text": [
      "\r",
      " [*********77%******     ] Elapsed 0.63s / Remaining 00:00:00:00"
     ]
    },
    {
     "name": "stdout",
     "output_type": "stream",
     "text": [
      "\r",
      " [*********77%******     ] Elapsed 0.64s / Remaining 00:00:00:00"
     ]
    },
    {
     "name": "stdout",
     "output_type": "stream",
     "text": [
      "\r",
      " [*********77%******     ] Elapsed 0.64s / Remaining 00:00:00:00"
     ]
    },
    {
     "name": "stdout",
     "output_type": "stream",
     "text": [
      "\r",
      " [*********77%******     ] Elapsed 0.64s / Remaining 00:00:00:00"
     ]
    },
    {
     "name": "stdout",
     "output_type": "stream",
     "text": [
      "\r",
      " [*********77%******     ] Elapsed 0.64s / Remaining 00:00:00:00"
     ]
    },
    {
     "name": "stdout",
     "output_type": "stream",
     "text": [
      "\r",
      " [*********77%******     ] Elapsed 0.64s / Remaining 00:00:00:00"
     ]
    },
    {
     "name": "stdout",
     "output_type": "stream",
     "text": [
      "\r",
      " [*********77%******     ] Elapsed 0.64s / Remaining 00:00:00:00"
     ]
    },
    {
     "name": "stdout",
     "output_type": "stream",
     "text": [
      "\r",
      " [*********77%******     ] Elapsed 0.64s / Remaining 00:00:00:00"
     ]
    },
    {
     "name": "stdout",
     "output_type": "stream",
     "text": [
      "\r",
      " [*********77%******     ] Elapsed 0.64s / Remaining 00:00:00:00"
     ]
    },
    {
     "name": "stdout",
     "output_type": "stream",
     "text": [
      "\r",
      " [*********78%******     ] Elapsed 0.64s / Remaining 00:00:00:00"
     ]
    },
    {
     "name": "stdout",
     "output_type": "stream",
     "text": [
      "\r",
      " [*********78%******     ] Elapsed 0.64s / Remaining 00:00:00:00"
     ]
    },
    {
     "name": "stdout",
     "output_type": "stream",
     "text": [
      "\r",
      " [*********78%******     ] Elapsed 0.64s / Remaining 00:00:00:00"
     ]
    },
    {
     "name": "stdout",
     "output_type": "stream",
     "text": [
      "\r",
      " [*********78%******     ] Elapsed 0.64s / Remaining 00:00:00:00"
     ]
    },
    {
     "name": "stdout",
     "output_type": "stream",
     "text": [
      "\r",
      " [*********78%******     ] Elapsed 0.64s / Remaining 00:00:00:00"
     ]
    },
    {
     "name": "stdout",
     "output_type": "stream",
     "text": [
      "\r",
      " [*********78%******     ] Elapsed 0.65s / Remaining 00:00:00:00"
     ]
    },
    {
     "name": "stdout",
     "output_type": "stream",
     "text": [
      "\r",
      " [*********78%******     ] Elapsed 0.65s / Remaining 00:00:00:00"
     ]
    },
    {
     "name": "stdout",
     "output_type": "stream",
     "text": [
      "\r",
      " [*********78%******     ] Elapsed 0.65s / Remaining 00:00:00:00"
     ]
    },
    {
     "name": "stdout",
     "output_type": "stream",
     "text": [
      "\r",
      " [*********78%******     ] Elapsed 0.65s / Remaining 00:00:00:00"
     ]
    },
    {
     "name": "stdout",
     "output_type": "stream",
     "text": [
      "\r",
      " [*********78%******     ] Elapsed 0.65s / Remaining 00:00:00:00"
     ]
    },
    {
     "name": "stdout",
     "output_type": "stream",
     "text": [
      "\r",
      " [*********79%******     ] Elapsed 0.65s / Remaining 00:00:00:00"
     ]
    },
    {
     "name": "stdout",
     "output_type": "stream",
     "text": [
      "\r",
      " [*********79%******     ] Elapsed 0.65s / Remaining 00:00:00:00"
     ]
    },
    {
     "name": "stdout",
     "output_type": "stream",
     "text": [
      "\r",
      " [*********79%******     ] Elapsed 0.65s / Remaining 00:00:00:00"
     ]
    },
    {
     "name": "stdout",
     "output_type": "stream",
     "text": [
      "\r",
      " [*********79%******     ] Elapsed 0.65s / Remaining 00:00:00:00"
     ]
    },
    {
     "name": "stdout",
     "output_type": "stream",
     "text": [
      "\r",
      " [*********79%******     ] Elapsed 0.65s / Remaining 00:00:00:00"
     ]
    },
    {
     "name": "stdout",
     "output_type": "stream",
     "text": [
      "\r",
      " [*********79%******     ] Elapsed 0.65s / Remaining 00:00:00:00"
     ]
    },
    {
     "name": "stdout",
     "output_type": "stream",
     "text": [
      "\r",
      " [*********79%******     ] Elapsed 0.65s / Remaining 00:00:00:00"
     ]
    },
    {
     "name": "stdout",
     "output_type": "stream",
     "text": [
      "\r",
      " [*********79%******     ] Elapsed 0.65s / Remaining 00:00:00:00"
     ]
    },
    {
     "name": "stdout",
     "output_type": "stream",
     "text": [
      "\r",
      " [*********79%******     ] Elapsed 0.66s / Remaining 00:00:00:00"
     ]
    },
    {
     "name": "stdout",
     "output_type": "stream",
     "text": [
      "\r",
      " [*********79%******     ] Elapsed 0.66s / Remaining 00:00:00:00"
     ]
    },
    {
     "name": "stdout",
     "output_type": "stream",
     "text": [
      "\r",
      " [*********80%******     ] Elapsed 0.66s / Remaining 00:00:00:00"
     ]
    },
    {
     "name": "stdout",
     "output_type": "stream",
     "text": [
      "\r",
      " [*********80%******     ] Elapsed 0.66s / Remaining 00:00:00:00"
     ]
    },
    {
     "name": "stdout",
     "output_type": "stream",
     "text": [
      "\r",
      " [*********80%******     ] Elapsed 0.66s / Remaining 00:00:00:00"
     ]
    },
    {
     "name": "stdout",
     "output_type": "stream",
     "text": [
      "\r",
      " [*********80%******     ] Elapsed 0.66s / Remaining 00:00:00:00"
     ]
    },
    {
     "name": "stdout",
     "output_type": "stream",
     "text": [
      "\r",
      " [*********80%******     ] Elapsed 0.66s / Remaining 00:00:00:00"
     ]
    },
    {
     "name": "stdout",
     "output_type": "stream",
     "text": [
      "\r",
      " [*********80%******     ] Elapsed 0.66s / Remaining 00:00:00:00"
     ]
    },
    {
     "name": "stdout",
     "output_type": "stream",
     "text": [
      "\r",
      " [*********80%******     ] Elapsed 0.66s / Remaining 00:00:00:00"
     ]
    },
    {
     "name": "stdout",
     "output_type": "stream",
     "text": [
      "\r",
      " [*********80%******     ] Elapsed 0.67s / Remaining 00:00:00:00"
     ]
    },
    {
     "name": "stdout",
     "output_type": "stream",
     "text": [
      "\r",
      " [*********80%******     ] Elapsed 0.67s / Remaining 00:00:00:00"
     ]
    },
    {
     "name": "stdout",
     "output_type": "stream",
     "text": [
      "\r",
      " [*********80%******     ] Elapsed 0.67s / Remaining 00:00:00:00"
     ]
    },
    {
     "name": "stdout",
     "output_type": "stream",
     "text": [
      "\r",
      " [*********81%*******    ] Elapsed 0.67s / Remaining 00:00:00:00"
     ]
    },
    {
     "name": "stdout",
     "output_type": "stream",
     "text": [
      "\r",
      " [*********81%*******    ] Elapsed 0.67s / Remaining 00:00:00:00"
     ]
    },
    {
     "name": "stdout",
     "output_type": "stream",
     "text": [
      "\r",
      " [*********81%*******    ] Elapsed 0.67s / Remaining 00:00:00:00"
     ]
    },
    {
     "name": "stdout",
     "output_type": "stream",
     "text": [
      "\r",
      " [*********81%*******    ] Elapsed 0.67s / Remaining 00:00:00:00"
     ]
    },
    {
     "name": "stdout",
     "output_type": "stream",
     "text": [
      "\r",
      " [*********81%*******    ] Elapsed 0.67s / Remaining 00:00:00:00"
     ]
    },
    {
     "name": "stdout",
     "output_type": "stream",
     "text": [
      "\r",
      " [*********81%*******    ] Elapsed 0.67s / Remaining 00:00:00:00"
     ]
    },
    {
     "name": "stdout",
     "output_type": "stream",
     "text": [
      "\r",
      " [*********81%*******    ] Elapsed 0.67s / Remaining 00:00:00:00"
     ]
    },
    {
     "name": "stdout",
     "output_type": "stream",
     "text": [
      "\r",
      " [*********81%*******    ] Elapsed 0.67s / Remaining 00:00:00:00"
     ]
    },
    {
     "name": "stdout",
     "output_type": "stream",
     "text": [
      "\r",
      " [*********81%*******    ] Elapsed 0.67s / Remaining 00:00:00:00"
     ]
    },
    {
     "name": "stdout",
     "output_type": "stream",
     "text": [
      "\r",
      " [*********81%*******    ] Elapsed 0.68s / Remaining 00:00:00:00"
     ]
    },
    {
     "name": "stdout",
     "output_type": "stream",
     "text": [
      "\r",
      " [*********82%*******    ] Elapsed 0.68s / Remaining 00:00:00:00"
     ]
    },
    {
     "name": "stdout",
     "output_type": "stream",
     "text": [
      "\r",
      " [*********82%*******    ] Elapsed 0.68s / Remaining 00:00:00:00"
     ]
    },
    {
     "name": "stdout",
     "output_type": "stream",
     "text": [
      "\r",
      " [*********82%*******    ] Elapsed 0.68s / Remaining 00:00:00:00"
     ]
    },
    {
     "name": "stdout",
     "output_type": "stream",
     "text": [
      "\r",
      " [*********82%*******    ] Elapsed 0.68s / Remaining 00:00:00:00"
     ]
    },
    {
     "name": "stdout",
     "output_type": "stream",
     "text": [
      "\r",
      " [*********82%*******    ] Elapsed 0.68s / Remaining 00:00:00:00"
     ]
    },
    {
     "name": "stdout",
     "output_type": "stream",
     "text": [
      "\r",
      " [*********82%*******    ] Elapsed 0.68s / Remaining 00:00:00:00"
     ]
    },
    {
     "name": "stdout",
     "output_type": "stream",
     "text": [
      "\r",
      " [*********82%*******    ] Elapsed 0.68s / Remaining 00:00:00:00"
     ]
    },
    {
     "name": "stdout",
     "output_type": "stream",
     "text": [
      "\r",
      " [*********82%*******    ] Elapsed 0.68s / Remaining 00:00:00:00"
     ]
    },
    {
     "name": "stdout",
     "output_type": "stream",
     "text": [
      "\r",
      " [*********82%*******    ] Elapsed 0.68s / Remaining 00:00:00:00"
     ]
    },
    {
     "name": "stdout",
     "output_type": "stream",
     "text": [
      "\r",
      " [*********82%*******    ] Elapsed 0.68s / Remaining 00:00:00:00"
     ]
    },
    {
     "name": "stdout",
     "output_type": "stream",
     "text": [
      "\r",
      " [*********83%*******    ] Elapsed 0.69s / Remaining 00:00:00:00"
     ]
    },
    {
     "name": "stdout",
     "output_type": "stream",
     "text": [
      "\r",
      " [*********83%*******    ] Elapsed 0.69s / Remaining 00:00:00:00"
     ]
    },
    {
     "name": "stdout",
     "output_type": "stream",
     "text": [
      "\r",
      " [*********83%*******    ] Elapsed 0.69s / Remaining 00:00:00:00"
     ]
    },
    {
     "name": "stdout",
     "output_type": "stream",
     "text": [
      "\r",
      " [*********83%*******    ] Elapsed 0.69s / Remaining 00:00:00:00"
     ]
    },
    {
     "name": "stdout",
     "output_type": "stream",
     "text": [
      "\r",
      " [*********83%*******    ] Elapsed 0.69s / Remaining 00:00:00:00"
     ]
    },
    {
     "name": "stdout",
     "output_type": "stream",
     "text": [
      "\r",
      " [*********83%*******    ] Elapsed 0.69s / Remaining 00:00:00:00"
     ]
    },
    {
     "name": "stdout",
     "output_type": "stream",
     "text": [
      "\r",
      " [*********83%*******    ] Elapsed 0.69s / Remaining 00:00:00:00"
     ]
    },
    {
     "name": "stdout",
     "output_type": "stream",
     "text": [
      "\r",
      " [*********83%*******    ] Elapsed 0.69s / Remaining 00:00:00:00"
     ]
    },
    {
     "name": "stdout",
     "output_type": "stream",
     "text": [
      "\r",
      " [*********83%*******    ] Elapsed 0.69s / Remaining 00:00:00:00"
     ]
    },
    {
     "name": "stdout",
     "output_type": "stream",
     "text": [
      "\r",
      " [*********83%*******    ] Elapsed 0.69s / Remaining 00:00:00:00"
     ]
    },
    {
     "name": "stdout",
     "output_type": "stream",
     "text": [
      "\r",
      " [*********84%*******    ] Elapsed 0.69s / Remaining 00:00:00:00"
     ]
    },
    {
     "name": "stdout",
     "output_type": "stream",
     "text": [
      "\r",
      " [*********84%*******    ] Elapsed 0.69s / Remaining 00:00:00:00"
     ]
    },
    {
     "name": "stdout",
     "output_type": "stream",
     "text": [
      "\r",
      " [*********84%*******    ] Elapsed 0.70s / Remaining 00:00:00:00"
     ]
    },
    {
     "name": "stdout",
     "output_type": "stream",
     "text": [
      "\r",
      " [*********84%*******    ] Elapsed 0.70s / Remaining 00:00:00:00"
     ]
    },
    {
     "name": "stdout",
     "output_type": "stream",
     "text": [
      "\r",
      " [*********84%*******    ] Elapsed 0.70s / Remaining 00:00:00:00"
     ]
    },
    {
     "name": "stdout",
     "output_type": "stream",
     "text": [
      "\r",
      " [*********84%*******    ] Elapsed 0.70s / Remaining 00:00:00:00"
     ]
    },
    {
     "name": "stdout",
     "output_type": "stream",
     "text": [
      "\r",
      " [*********84%*******    ] Elapsed 0.70s / Remaining 00:00:00:00"
     ]
    },
    {
     "name": "stdout",
     "output_type": "stream",
     "text": [
      "\r",
      " [*********84%*******    ] Elapsed 0.70s / Remaining 00:00:00:00"
     ]
    },
    {
     "name": "stdout",
     "output_type": "stream",
     "text": [
      "\r",
      " [*********84%*******    ] Elapsed 0.70s / Remaining 00:00:00:00"
     ]
    },
    {
     "name": "stdout",
     "output_type": "stream",
     "text": [
      "\r",
      " [*********84%*******    ] Elapsed 0.70s / Remaining 00:00:00:00"
     ]
    },
    {
     "name": "stdout",
     "output_type": "stream",
     "text": [
      "\r",
      " [*********85%********   ] Elapsed 0.70s / Remaining 00:00:00:00"
     ]
    },
    {
     "name": "stdout",
     "output_type": "stream",
     "text": [
      "\r",
      " [*********85%********   ] Elapsed 0.70s / Remaining 00:00:00:00"
     ]
    },
    {
     "name": "stdout",
     "output_type": "stream",
     "text": [
      "\r",
      " [*********85%********   ] Elapsed 0.70s / Remaining 00:00:00:00"
     ]
    },
    {
     "name": "stdout",
     "output_type": "stream",
     "text": [
      "\r",
      " [*********85%********   ] Elapsed 0.71s / Remaining 00:00:00:00"
     ]
    },
    {
     "name": "stdout",
     "output_type": "stream",
     "text": [
      "\r",
      " [*********85%********   ] Elapsed 0.71s / Remaining 00:00:00:00"
     ]
    },
    {
     "name": "stdout",
     "output_type": "stream",
     "text": [
      "\r",
      " [*********85%********   ] Elapsed 0.71s / Remaining 00:00:00:00"
     ]
    },
    {
     "name": "stdout",
     "output_type": "stream",
     "text": [
      "\r",
      " [*********85%********   ] Elapsed 0.71s / Remaining 00:00:00:00"
     ]
    },
    {
     "name": "stdout",
     "output_type": "stream",
     "text": [
      "\r",
      " [*********85%********   ] Elapsed 0.71s / Remaining 00:00:00:00"
     ]
    },
    {
     "name": "stdout",
     "output_type": "stream",
     "text": [
      "\r",
      " [*********85%********   ] Elapsed 0.71s / Remaining 00:00:00:00"
     ]
    },
    {
     "name": "stdout",
     "output_type": "stream",
     "text": [
      "\r",
      " [*********85%********   ] Elapsed 0.71s / Remaining 00:00:00:00"
     ]
    },
    {
     "name": "stdout",
     "output_type": "stream",
     "text": [
      "\r",
      " [*********86%********   ] Elapsed 0.71s / Remaining 00:00:00:00"
     ]
    },
    {
     "name": "stdout",
     "output_type": "stream",
     "text": [
      "\r",
      " [*********86%********   ] Elapsed 0.71s / Remaining 00:00:00:00"
     ]
    },
    {
     "name": "stdout",
     "output_type": "stream",
     "text": [
      "\r",
      " [*********86%********   ] Elapsed 0.71s / Remaining 00:00:00:00"
     ]
    },
    {
     "name": "stdout",
     "output_type": "stream",
     "text": [
      "\r",
      " [*********86%********   ] Elapsed 0.71s / Remaining 00:00:00:00"
     ]
    },
    {
     "name": "stdout",
     "output_type": "stream",
     "text": [
      "\r",
      " [*********86%********   ] Elapsed 0.71s / Remaining 00:00:00:00"
     ]
    },
    {
     "name": "stdout",
     "output_type": "stream",
     "text": [
      "\r",
      " [*********86%********   ] Elapsed 0.71s / Remaining 00:00:00:00"
     ]
    },
    {
     "name": "stdout",
     "output_type": "stream",
     "text": [
      "\r",
      " [*********86%********   ] Elapsed 0.72s / Remaining 00:00:00:00"
     ]
    },
    {
     "name": "stdout",
     "output_type": "stream",
     "text": [
      "\r",
      " [*********86%********   ] Elapsed 0.72s / Remaining 00:00:00:00"
     ]
    },
    {
     "name": "stdout",
     "output_type": "stream",
     "text": [
      "\r",
      " [*********86%********   ] Elapsed 0.72s / Remaining 00:00:00:00"
     ]
    },
    {
     "name": "stdout",
     "output_type": "stream",
     "text": [
      "\r",
      " [*********86%********   ] Elapsed 0.72s / Remaining 00:00:00:00"
     ]
    },
    {
     "name": "stdout",
     "output_type": "stream",
     "text": [
      "\r",
      " [*********87%********   ] Elapsed 0.72s / Remaining 00:00:00:00"
     ]
    },
    {
     "name": "stdout",
     "output_type": "stream",
     "text": [
      "\r",
      " [*********87%********   ] Elapsed 0.72s / Remaining 00:00:00:00"
     ]
    },
    {
     "name": "stdout",
     "output_type": "stream",
     "text": [
      "\r",
      " [*********87%********   ] Elapsed 0.72s / Remaining 00:00:00:00"
     ]
    },
    {
     "name": "stdout",
     "output_type": "stream",
     "text": [
      "\r",
      " [*********87%********   ] Elapsed 0.72s / Remaining 00:00:00:00"
     ]
    },
    {
     "name": "stdout",
     "output_type": "stream",
     "text": [
      "\r",
      " [*********87%********   ] Elapsed 0.72s / Remaining 00:00:00:00"
     ]
    },
    {
     "name": "stdout",
     "output_type": "stream",
     "text": [
      "\r",
      " [*********87%********   ] Elapsed 0.72s / Remaining 00:00:00:00"
     ]
    },
    {
     "name": "stdout",
     "output_type": "stream",
     "text": [
      "\r",
      " [*********87%********   ] Elapsed 0.72s / Remaining 00:00:00:00"
     ]
    },
    {
     "name": "stdout",
     "output_type": "stream",
     "text": [
      "\r",
      " [*********87%********   ] Elapsed 0.72s / Remaining 00:00:00:00"
     ]
    },
    {
     "name": "stdout",
     "output_type": "stream",
     "text": [
      "\r",
      " [*********87%********   ] Elapsed 0.72s / Remaining 00:00:00:00"
     ]
    },
    {
     "name": "stdout",
     "output_type": "stream",
     "text": [
      "\r",
      " [*********87%********   ] Elapsed 0.73s / Remaining 00:00:00:00"
     ]
    },
    {
     "name": "stdout",
     "output_type": "stream",
     "text": [
      "\r",
      " [*********88%********   ] Elapsed 0.73s / Remaining 00:00:00:00"
     ]
    },
    {
     "name": "stdout",
     "output_type": "stream",
     "text": [
      "\r",
      " [*********88%********   ] Elapsed 0.73s / Remaining 00:00:00:00"
     ]
    },
    {
     "name": "stdout",
     "output_type": "stream",
     "text": [
      "\r",
      " [*********88%********   ] Elapsed 0.73s / Remaining 00:00:00:00"
     ]
    },
    {
     "name": "stdout",
     "output_type": "stream",
     "text": [
      "\r",
      " [*********88%********   ] Elapsed 0.73s / Remaining 00:00:00:00"
     ]
    },
    {
     "name": "stdout",
     "output_type": "stream",
     "text": [
      "\r",
      " [*********88%********   ] Elapsed 0.73s / Remaining 00:00:00:00"
     ]
    },
    {
     "name": "stdout",
     "output_type": "stream",
     "text": [
      "\r",
      " [*********88%********   ] Elapsed 0.73s / Remaining 00:00:00:00"
     ]
    },
    {
     "name": "stdout",
     "output_type": "stream",
     "text": [
      "\r",
      " [*********88%********   ] Elapsed 0.73s / Remaining 00:00:00:00"
     ]
    },
    {
     "name": "stdout",
     "output_type": "stream",
     "text": [
      "\r",
      " [*********88%********   ] Elapsed 0.73s / Remaining 00:00:00:00"
     ]
    },
    {
     "name": "stdout",
     "output_type": "stream",
     "text": [
      "\r",
      " [*********88%********   ] Elapsed 0.73s / Remaining 00:00:00:00"
     ]
    },
    {
     "name": "stdout",
     "output_type": "stream",
     "text": [
      "\r",
      " [*********88%********   ] Elapsed 0.73s / Remaining 00:00:00:00"
     ]
    },
    {
     "name": "stdout",
     "output_type": "stream",
     "text": [
      "\r",
      " [*********89%********   ] Elapsed 0.73s / Remaining 00:00:00:00"
     ]
    },
    {
     "name": "stdout",
     "output_type": "stream",
     "text": [
      "\r",
      " [*********89%********   ] Elapsed 0.74s / Remaining 00:00:00:00"
     ]
    },
    {
     "name": "stdout",
     "output_type": "stream",
     "text": [
      "\r",
      " [*********89%********   ] Elapsed 0.74s / Remaining 00:00:00:00"
     ]
    },
    {
     "name": "stdout",
     "output_type": "stream",
     "text": [
      "\r",
      " [*********89%********   ] Elapsed 0.74s / Remaining 00:00:00:00"
     ]
    },
    {
     "name": "stdout",
     "output_type": "stream",
     "text": [
      "\r",
      " [*********89%********   ] Elapsed 0.74s / Remaining 00:00:00:00"
     ]
    },
    {
     "name": "stdout",
     "output_type": "stream",
     "text": [
      "\r",
      " [*********89%********   ] Elapsed 0.74s / Remaining 00:00:00:00"
     ]
    },
    {
     "name": "stdout",
     "output_type": "stream",
     "text": [
      "\r",
      " [*********89%********   ] Elapsed 0.74s / Remaining 00:00:00:00"
     ]
    },
    {
     "name": "stdout",
     "output_type": "stream",
     "text": [
      "\r",
      " [*********89%********   ] Elapsed 0.74s / Remaining 00:00:00:00"
     ]
    },
    {
     "name": "stdout",
     "output_type": "stream",
     "text": [
      "\r",
      " [*********89%********   ] Elapsed 0.74s / Remaining 00:00:00:00"
     ]
    },
    {
     "name": "stdout",
     "output_type": "stream",
     "text": [
      "\r",
      " [*********89%********   ] Elapsed 0.74s / Remaining 00:00:00:00"
     ]
    },
    {
     "name": "stdout",
     "output_type": "stream",
     "text": [
      "\r",
      " [*********90%*********  ] Elapsed 0.74s / Remaining 00:00:00:00"
     ]
    },
    {
     "name": "stdout",
     "output_type": "stream",
     "text": [
      "\r",
      " [*********90%*********  ] Elapsed 0.74s / Remaining 00:00:00:00"
     ]
    },
    {
     "name": "stdout",
     "output_type": "stream",
     "text": [
      "\r",
      " [*********90%*********  ] Elapsed 0.74s / Remaining 00:00:00:00"
     ]
    },
    {
     "name": "stdout",
     "output_type": "stream",
     "text": [
      "\r",
      " [*********90%*********  ] Elapsed 0.74s / Remaining 00:00:00:00"
     ]
    },
    {
     "name": "stdout",
     "output_type": "stream",
     "text": [
      "\r",
      " [*********90%*********  ] Elapsed 0.75s / Remaining 00:00:00:00"
     ]
    },
    {
     "name": "stdout",
     "output_type": "stream",
     "text": [
      "\r",
      " [*********90%*********  ] Elapsed 0.75s / Remaining 00:00:00:00"
     ]
    },
    {
     "name": "stdout",
     "output_type": "stream",
     "text": [
      "\r",
      " [*********90%*********  ] Elapsed 0.75s / Remaining 00:00:00:00"
     ]
    },
    {
     "name": "stdout",
     "output_type": "stream",
     "text": [
      "\r",
      " [*********90%*********  ] Elapsed 0.75s / Remaining 00:00:00:00"
     ]
    },
    {
     "name": "stdout",
     "output_type": "stream",
     "text": [
      "\r",
      " [*********90%*********  ] Elapsed 0.75s / Remaining 00:00:00:00"
     ]
    },
    {
     "name": "stdout",
     "output_type": "stream",
     "text": [
      "\r",
      " [*********90%*********  ] Elapsed 0.75s / Remaining 00:00:00:00"
     ]
    },
    {
     "name": "stdout",
     "output_type": "stream",
     "text": [
      "\r",
      " [*********91%*********  ] Elapsed 0.75s / Remaining 00:00:00:00"
     ]
    },
    {
     "name": "stdout",
     "output_type": "stream",
     "text": [
      "\r",
      " [*********91%*********  ] Elapsed 0.75s / Remaining 00:00:00:00"
     ]
    },
    {
     "name": "stdout",
     "output_type": "stream",
     "text": [
      "\r",
      " [*********91%*********  ] Elapsed 0.75s / Remaining 00:00:00:00"
     ]
    },
    {
     "name": "stdout",
     "output_type": "stream",
     "text": [
      "\r",
      " [*********91%*********  ] Elapsed 0.75s / Remaining 00:00:00:00"
     ]
    },
    {
     "name": "stdout",
     "output_type": "stream",
     "text": [
      "\r",
      " [*********91%*********  ] Elapsed 0.75s / Remaining 00:00:00:00"
     ]
    },
    {
     "name": "stdout",
     "output_type": "stream",
     "text": [
      "\r",
      " [*********91%*********  ] Elapsed 0.75s / Remaining 00:00:00:00"
     ]
    },
    {
     "name": "stdout",
     "output_type": "stream",
     "text": [
      "\r",
      " [*********91%*********  ] Elapsed 0.76s / Remaining 00:00:00:00"
     ]
    },
    {
     "name": "stdout",
     "output_type": "stream",
     "text": [
      "\r",
      " [*********91%*********  ] Elapsed 0.76s / Remaining 00:00:00:00"
     ]
    },
    {
     "name": "stdout",
     "output_type": "stream",
     "text": [
      "\r",
      " [*********91%*********  ] Elapsed 0.76s / Remaining 00:00:00:00"
     ]
    },
    {
     "name": "stdout",
     "output_type": "stream",
     "text": [
      "\r",
      " [*********91%*********  ] Elapsed 0.76s / Remaining 00:00:00:00"
     ]
    },
    {
     "name": "stdout",
     "output_type": "stream",
     "text": [
      "\r",
      " [*********92%*********  ] Elapsed 0.76s / Remaining 00:00:00:00"
     ]
    },
    {
     "name": "stdout",
     "output_type": "stream",
     "text": [
      "\r",
      " [*********92%*********  ] Elapsed 0.76s / Remaining 00:00:00:00"
     ]
    },
    {
     "name": "stdout",
     "output_type": "stream",
     "text": [
      "\r",
      " [*********92%*********  ] Elapsed 0.76s / Remaining 00:00:00:00"
     ]
    },
    {
     "name": "stdout",
     "output_type": "stream",
     "text": [
      "\r",
      " [*********92%*********  ] Elapsed 0.76s / Remaining 00:00:00:00"
     ]
    },
    {
     "name": "stdout",
     "output_type": "stream",
     "text": [
      "\r",
      " [*********92%*********  ] Elapsed 0.76s / Remaining 00:00:00:00"
     ]
    },
    {
     "name": "stdout",
     "output_type": "stream",
     "text": [
      "\r",
      " [*********92%*********  ] Elapsed 0.76s / Remaining 00:00:00:00"
     ]
    },
    {
     "name": "stdout",
     "output_type": "stream",
     "text": [
      "\r",
      " [*********92%*********  ] Elapsed 0.76s / Remaining 00:00:00:00"
     ]
    },
    {
     "name": "stdout",
     "output_type": "stream",
     "text": [
      "\r",
      " [*********92%*********  ] Elapsed 0.76s / Remaining 00:00:00:00"
     ]
    },
    {
     "name": "stdout",
     "output_type": "stream",
     "text": [
      "\r",
      " [*********92%*********  ] Elapsed 0.77s / Remaining 00:00:00:00"
     ]
    },
    {
     "name": "stdout",
     "output_type": "stream",
     "text": [
      "\r",
      " [*********92%*********  ] Elapsed 0.77s / Remaining 00:00:00:00"
     ]
    },
    {
     "name": "stdout",
     "output_type": "stream",
     "text": [
      "\r",
      " [*********93%*********  ] Elapsed 0.77s / Remaining 00:00:00:00"
     ]
    },
    {
     "name": "stdout",
     "output_type": "stream",
     "text": [
      "\r",
      " [*********93%*********  ] Elapsed 0.77s / Remaining 00:00:00:00"
     ]
    },
    {
     "name": "stdout",
     "output_type": "stream",
     "text": [
      "\r",
      " [*********93%*********  ] Elapsed 0.77s / Remaining 00:00:00:00"
     ]
    },
    {
     "name": "stdout",
     "output_type": "stream",
     "text": [
      "\r",
      " [*********93%*********  ] Elapsed 0.77s / Remaining 00:00:00:00"
     ]
    },
    {
     "name": "stdout",
     "output_type": "stream",
     "text": [
      "\r",
      " [*********93%*********  ] Elapsed 0.77s / Remaining 00:00:00:00"
     ]
    },
    {
     "name": "stdout",
     "output_type": "stream",
     "text": [
      "\r",
      " [*********93%*********  ] Elapsed 0.77s / Remaining 00:00:00:00"
     ]
    },
    {
     "name": "stdout",
     "output_type": "stream",
     "text": [
      "\r",
      " [*********93%*********  ] Elapsed 0.77s / Remaining 00:00:00:00"
     ]
    },
    {
     "name": "stdout",
     "output_type": "stream",
     "text": [
      "\r",
      " [*********93%*********  ] Elapsed 0.77s / Remaining 00:00:00:00"
     ]
    },
    {
     "name": "stdout",
     "output_type": "stream",
     "text": [
      "\r",
      " [*********93%*********  ] Elapsed 0.77s / Remaining 00:00:00:00"
     ]
    },
    {
     "name": "stdout",
     "output_type": "stream",
     "text": [
      "\r",
      " [*********93%*********  ] Elapsed 0.77s / Remaining 00:00:00:00"
     ]
    },
    {
     "name": "stdout",
     "output_type": "stream",
     "text": [
      "\r",
      " [*********94%********** ] Elapsed 0.78s / Remaining 00:00:00:00"
     ]
    },
    {
     "name": "stdout",
     "output_type": "stream",
     "text": [
      "\r",
      " [*********94%********** ] Elapsed 0.78s / Remaining 00:00:00:00"
     ]
    },
    {
     "name": "stdout",
     "output_type": "stream",
     "text": [
      "\r",
      " [*********94%********** ] Elapsed 0.78s / Remaining 00:00:00:00"
     ]
    },
    {
     "name": "stdout",
     "output_type": "stream",
     "text": [
      "\r",
      " [*********94%********** ] Elapsed 0.78s / Remaining 00:00:00:00"
     ]
    },
    {
     "name": "stdout",
     "output_type": "stream",
     "text": [
      "\r",
      " [*********94%********** ] Elapsed 0.78s / Remaining 00:00:00:00"
     ]
    },
    {
     "name": "stdout",
     "output_type": "stream",
     "text": [
      "\r",
      " [*********94%********** ] Elapsed 0.78s / Remaining 00:00:00:00"
     ]
    },
    {
     "name": "stdout",
     "output_type": "stream",
     "text": [
      "\r",
      " [*********94%********** ] Elapsed 0.78s / Remaining 00:00:00:00"
     ]
    },
    {
     "name": "stdout",
     "output_type": "stream",
     "text": [
      "\r",
      " [*********94%********** ] Elapsed 0.78s / Remaining 00:00:00:00"
     ]
    },
    {
     "name": "stdout",
     "output_type": "stream",
     "text": [
      "\r",
      " [*********94%********** ] Elapsed 0.78s / Remaining 00:00:00:00"
     ]
    },
    {
     "name": "stdout",
     "output_type": "stream",
     "text": [
      "\r",
      " [*********94%********** ] Elapsed 0.78s / Remaining 00:00:00:00"
     ]
    },
    {
     "name": "stdout",
     "output_type": "stream",
     "text": [
      "\r",
      " [*********95%********** ] Elapsed 0.78s / Remaining 00:00:00:00"
     ]
    },
    {
     "name": "stdout",
     "output_type": "stream",
     "text": [
      "\r",
      " [*********95%********** ] Elapsed 0.79s / Remaining 00:00:00:00"
     ]
    },
    {
     "name": "stdout",
     "output_type": "stream",
     "text": [
      "\r",
      " [*********95%********** ] Elapsed 0.79s / Remaining 00:00:00:00"
     ]
    },
    {
     "name": "stdout",
     "output_type": "stream",
     "text": [
      "\r",
      " [*********95%********** ] Elapsed 0.79s / Remaining 00:00:00:00"
     ]
    },
    {
     "name": "stdout",
     "output_type": "stream",
     "text": [
      "\r",
      " [*********95%********** ] Elapsed 0.79s / Remaining 00:00:00:00"
     ]
    },
    {
     "name": "stdout",
     "output_type": "stream",
     "text": [
      "\r",
      " [*********95%********** ] Elapsed 0.79s / Remaining 00:00:00:00"
     ]
    },
    {
     "name": "stdout",
     "output_type": "stream",
     "text": [
      "\r",
      " [*********95%********** ] Elapsed 0.79s / Remaining 00:00:00:00"
     ]
    },
    {
     "name": "stdout",
     "output_type": "stream",
     "text": [
      "\r",
      " [*********95%********** ] Elapsed 0.79s / Remaining 00:00:00:00"
     ]
    },
    {
     "name": "stdout",
     "output_type": "stream",
     "text": [
      "\r",
      " [*********95%********** ] Elapsed 0.79s / Remaining 00:00:00:00"
     ]
    },
    {
     "name": "stdout",
     "output_type": "stream",
     "text": [
      "\r",
      " [*********95%********** ] Elapsed 0.79s / Remaining 00:00:00:00"
     ]
    },
    {
     "name": "stdout",
     "output_type": "stream",
     "text": [
      "\r",
      " [*********96%********** ] Elapsed 0.79s / Remaining 00:00:00:00"
     ]
    },
    {
     "name": "stdout",
     "output_type": "stream",
     "text": [
      "\r",
      " [*********96%********** ] Elapsed 0.79s / Remaining 00:00:00:00"
     ]
    },
    {
     "name": "stdout",
     "output_type": "stream",
     "text": [
      "\r",
      " [*********96%********** ] Elapsed 0.79s / Remaining 00:00:00:00"
     ]
    },
    {
     "name": "stdout",
     "output_type": "stream",
     "text": [
      "\r",
      " [*********96%********** ] Elapsed 0.79s / Remaining 00:00:00:00"
     ]
    },
    {
     "name": "stdout",
     "output_type": "stream",
     "text": [
      "\r",
      " [*********96%********** ] Elapsed 0.80s / Remaining 00:00:00:00"
     ]
    },
    {
     "name": "stdout",
     "output_type": "stream",
     "text": [
      "\r",
      " [*********96%********** ] Elapsed 0.80s / Remaining 00:00:00:00"
     ]
    },
    {
     "name": "stdout",
     "output_type": "stream",
     "text": [
      "\r",
      " [*********96%********** ] Elapsed 0.80s / Remaining 00:00:00:00"
     ]
    },
    {
     "name": "stdout",
     "output_type": "stream",
     "text": [
      "\r",
      " [*********96%********** ] Elapsed 0.80s / Remaining 00:00:00:00"
     ]
    },
    {
     "name": "stdout",
     "output_type": "stream",
     "text": [
      "\r",
      " [*********96%********** ] Elapsed 0.80s / Remaining 00:00:00:00"
     ]
    },
    {
     "name": "stdout",
     "output_type": "stream",
     "text": [
      "\r",
      " [*********96%********** ] Elapsed 0.80s / Remaining 00:00:00:00"
     ]
    },
    {
     "name": "stdout",
     "output_type": "stream",
     "text": [
      "\r",
      " [*********97%********** ] Elapsed 0.80s / Remaining 00:00:00:00"
     ]
    },
    {
     "name": "stdout",
     "output_type": "stream",
     "text": [
      "\r",
      " [*********97%********** ] Elapsed 0.80s / Remaining 00:00:00:00"
     ]
    },
    {
     "name": "stdout",
     "output_type": "stream",
     "text": [
      "\r",
      " [*********97%********** ] Elapsed 0.80s / Remaining 00:00:00:00"
     ]
    },
    {
     "name": "stdout",
     "output_type": "stream",
     "text": [
      "\r",
      " [*********97%********** ] Elapsed 0.80s / Remaining 00:00:00:00"
     ]
    },
    {
     "name": "stdout",
     "output_type": "stream",
     "text": [
      "\r",
      " [*********97%********** ] Elapsed 0.80s / Remaining 00:00:00:00"
     ]
    },
    {
     "name": "stdout",
     "output_type": "stream",
     "text": [
      "\r",
      " [*********97%********** ] Elapsed 0.80s / Remaining 00:00:00:00"
     ]
    },
    {
     "name": "stdout",
     "output_type": "stream",
     "text": [
      "\r",
      " [*********97%********** ] Elapsed 0.81s / Remaining 00:00:00:00"
     ]
    },
    {
     "name": "stdout",
     "output_type": "stream",
     "text": [
      "\r",
      " [*********97%********** ] Elapsed 0.81s / Remaining 00:00:00:00"
     ]
    },
    {
     "name": "stdout",
     "output_type": "stream",
     "text": [
      "\r",
      " [*********97%********** ] Elapsed 0.81s / Remaining 00:00:00:00"
     ]
    },
    {
     "name": "stdout",
     "output_type": "stream",
     "text": [
      "\r",
      " [*********97%********** ] Elapsed 0.81s / Remaining 00:00:00:00"
     ]
    },
    {
     "name": "stdout",
     "output_type": "stream",
     "text": [
      "\r",
      " [*********98%***********] Elapsed 0.81s / Remaining 00:00:00:00"
     ]
    },
    {
     "name": "stdout",
     "output_type": "stream",
     "text": [
      "\r",
      " [*********98%***********] Elapsed 0.81s / Remaining 00:00:00:00"
     ]
    },
    {
     "name": "stdout",
     "output_type": "stream",
     "text": [
      "\r",
      " [*********98%***********] Elapsed 0.81s / Remaining 00:00:00:00"
     ]
    },
    {
     "name": "stdout",
     "output_type": "stream",
     "text": [
      "\r",
      " [*********98%***********] Elapsed 0.81s / Remaining 00:00:00:00"
     ]
    },
    {
     "name": "stdout",
     "output_type": "stream",
     "text": [
      "\r",
      " [*********98%***********] Elapsed 0.81s / Remaining 00:00:00:00"
     ]
    },
    {
     "name": "stdout",
     "output_type": "stream",
     "text": [
      "\r",
      " [*********98%***********] Elapsed 0.81s / Remaining 00:00:00:00"
     ]
    },
    {
     "name": "stdout",
     "output_type": "stream",
     "text": [
      "\r",
      " [*********98%***********] Elapsed 0.81s / Remaining 00:00:00:00"
     ]
    },
    {
     "name": "stdout",
     "output_type": "stream",
     "text": [
      "\r",
      " [*********98%***********] Elapsed 0.81s / Remaining 00:00:00:00"
     ]
    },
    {
     "name": "stdout",
     "output_type": "stream",
     "text": [
      "\r",
      " [*********98%***********] Elapsed 0.82s / Remaining 00:00:00:00"
     ]
    },
    {
     "name": "stdout",
     "output_type": "stream",
     "text": [
      "\r",
      " [*********98%***********] Elapsed 0.82s / Remaining 00:00:00:00"
     ]
    },
    {
     "name": "stdout",
     "output_type": "stream",
     "text": [
      "\r",
      " [*********99%***********] Elapsed 0.82s / Remaining 00:00:00:00"
     ]
    },
    {
     "name": "stdout",
     "output_type": "stream",
     "text": [
      "\r",
      " [*********99%***********] Elapsed 0.82s / Remaining 00:00:00:00"
     ]
    },
    {
     "name": "stdout",
     "output_type": "stream",
     "text": [
      "\r",
      " [*********99%***********] Elapsed 0.82s / Remaining 00:00:00:00"
     ]
    },
    {
     "name": "stdout",
     "output_type": "stream",
     "text": [
      "\r",
      " [*********99%***********] Elapsed 0.82s / Remaining 00:00:00:00"
     ]
    },
    {
     "name": "stdout",
     "output_type": "stream",
     "text": [
      "\r",
      " [*********99%***********] Elapsed 0.82s / Remaining 00:00:00:00"
     ]
    },
    {
     "name": "stdout",
     "output_type": "stream",
     "text": [
      "\r",
      " [*********99%***********] Elapsed 0.82s / Remaining 00:00:00:00"
     ]
    },
    {
     "name": "stdout",
     "output_type": "stream",
     "text": [
      "\r",
      " [*********99%***********] Elapsed 0.82s / Remaining 00:00:00:00"
     ]
    },
    {
     "name": "stdout",
     "output_type": "stream",
     "text": [
      "\r",
      " [*********99%***********] Elapsed 0.82s / Remaining 00:00:00:00"
     ]
    },
    {
     "name": "stdout",
     "output_type": "stream",
     "text": [
      "\r",
      " [*********99%***********] Elapsed 0.82s / Remaining 00:00:00:00"
     ]
    },
    {
     "name": "stdout",
     "output_type": "stream",
     "text": [
      "\r",
      " [*********99%***********] Elapsed 0.82s / Remaining 00:00:00:00"
     ]
    },
    {
     "name": "stdout",
     "output_type": "stream",
     "text": [
      "\r",
      " [********100%***********] Elapsed 0.83s / Remaining 00:00:00:00"
     ]
    },
    {
     "name": "stdout",
     "output_type": "stream",
     "text": [
      "\r",
      " [********100%***********] Elapsed 0.83s / Remaining 00:00:00:00"
     ]
    },
    {
     "name": "stdout",
     "output_type": "stream",
     "text": [
      "\r",
      " [********100%***********] Elapsed 0.83s / Remaining 00:00:00:00"
     ]
    },
    {
     "name": "stdout",
     "output_type": "stream",
     "text": [
      "\r",
      " [********100%***********] Elapsed 0.83s / Remaining 00:00:00:00"
     ]
    },
    {
     "name": "stdout",
     "output_type": "stream",
     "text": [
      "\r",
      " [********100%***********] Elapsed 0.83s / Remaining 00:00:00:00"
     ]
    },
    {
     "name": "stdout",
     "output_type": "stream",
     "text": [
      "\r",
      " Total run time:   0.83s\n",
      "ODE solver time: 0.8299424648284912\n"
     ]
    }
   ],
   "source": [
    "with timer(\"RHS construction time\"):\n",
    "    env_mats, delta = env.approximate(\n",
    "        method=\"matsubara\", Nk=Nk, compute_delta=True\n",
    "    )\n",
    "    Ltot = liouvillian(Hsys) + system_terminator(Q, delta)\n",
    "    HEOMMatsT = HEOMSolver(Ltot, (env_mats, Q), NC, options=options)\n",
    "\n",
    "with timer(\"ODE solver time\"):\n",
    "    resultMatsT = HEOMMatsT.run(rho0, tlist)"
   ]
  },
  {
   "cell_type": "code",
   "execution_count": 14,
   "id": "77b6e657",
   "metadata": {
    "execution": {
     "iopub.execute_input": "2025-08-20T04:02:48.047165Z",
     "iopub.status.busy": "2025-08-20T04:02:48.046994Z",
     "iopub.status.idle": "2025-08-20T04:02:48.193361Z",
     "shell.execute_reply": "2025-08-20T04:02:48.192864Z"
    }
   },
   "outputs": [
    {
     "data": {
      "image/png": "[encoded data removed]",
      "text/plain": [
       "<Figure size 800x800 with 1 Axes>"
      ]
     },
     "metadata": {},
     "output_type": "display_data"
    }
   ],
   "source": [
    "# Plot the results\n",
    "plot_result_expectations([\n",
    "    (resultMats, P11p, 'b', \"P11 Matsubara\"),\n",
    "    (resultMats, P12p, 'r', \"P12 Matsubara\"),\n",
    "    (resultMatsT, P11p, 'b--', \"P11 Matsubara and terminator\"),\n",
    "    (resultMatsT, P12p, 'r--', \"P12 Matsubara and terminator\"),\n",
    "]);"
   ]
  },
  {
   "cell_type": "markdown",
   "id": "c09b2f4f",
   "metadata": {},
   "source": [
    "## Simulation 3: Pade decomposition\n",
    "\n",
    "As in example 1a, we can compare to Pade and Fitting approaches."
   ]
  },
  {
   "cell_type": "code",
   "execution_count": 15,
   "id": "5e564d73",
   "metadata": {
    "execution": {
     "iopub.execute_input": "2025-08-20T04:02:48.194944Z",
     "iopub.status.busy": "2025-08-20T04:02:48.194690Z",
     "iopub.status.idle": "2025-08-20T04:02:49.283785Z",
     "shell.execute_reply": "2025-08-20T04:02:49.283235Z"
    }
   },
   "outputs": [
    {
     "name": "stdout",
     "output_type": "stream",
     "text": [
      "RHS construction time: 0.0214691162109375\n"
     ]
    },
    {
     "name": "stdout",
     "output_type": "stream",
     "text": [
      "\r",
      " [          0%           ] Elapsed 0.00s / Remaining 00:00:00:00"
     ]
    },
    {
     "name": "stdout",
     "output_type": "stream",
     "text": [
      "\r",
      " [          0%           ] Elapsed 0.00s / Remaining 00:00:00:00"
     ]
    },
    {
     "name": "stdout",
     "output_type": "stream",
     "text": [
      "\r",
      " [          0%           ] Elapsed 0.00s / Remaining 00:00:00:00"
     ]
    },
    {
     "name": "stdout",
     "output_type": "stream",
     "text": [
      "\r",
      " [          0%           ] Elapsed 0.00s / Remaining 00:00:00:00"
     ]
    },
    {
     "name": "stdout",
     "output_type": "stream",
     "text": [
      "\r",
      " [          1%           ] Elapsed 0.01s / Remaining 00:00:00:00"
     ]
    },
    {
     "name": "stdout",
     "output_type": "stream",
     "text": [
      "\r",
      " [          1%           ] Elapsed 0.01s / Remaining 00:00:00:00"
     ]
    },
    {
     "name": "stdout",
     "output_type": "stream",
     "text": [
      "\r",
      " [          1%           ] Elapsed 0.01s / Remaining 00:00:00:00"
     ]
    },
    {
     "name": "stdout",
     "output_type": "stream",
     "text": [
      "\r",
      " [          1%           ] Elapsed 0.01s / Remaining 00:00:00:00"
     ]
    },
    {
     "name": "stdout",
     "output_type": "stream",
     "text": [
      "\r",
      " [          1%           ] Elapsed 0.01s / Remaining 00:00:00:00"
     ]
    },
    {
     "name": "stdout",
     "output_type": "stream",
     "text": [
      "\r",
      " [          1%           ] Elapsed 0.01s / Remaining 00:00:00:00"
     ]
    },
    {
     "name": "stdout",
     "output_type": "stream",
     "text": [
      "\r",
      " [          1%           ] Elapsed 0.01s / Remaining 00:00:00:01"
     ]
    },
    {
     "name": "stdout",
     "output_type": "stream",
     "text": [
      "\r",
      " [          1%           ] Elapsed 0.01s / Remaining 00:00:00:01"
     ]
    },
    {
     "name": "stdout",
     "output_type": "stream",
     "text": [
      "\r",
      " [          1%           ] Elapsed 0.01s / Remaining 00:00:00:01"
     ]
    },
    {
     "name": "stdout",
     "output_type": "stream",
     "text": [
      "\r",
      " [          1%           ] Elapsed 0.01s / Remaining 00:00:00:01"
     ]
    },
    {
     "name": "stdout",
     "output_type": "stream",
     "text": [
      "\r",
      " [          2%           ] Elapsed 0.01s / Remaining 00:00:00:00"
     ]
    },
    {
     "name": "stdout",
     "output_type": "stream",
     "text": [
      "\r",
      " [          2%           ] Elapsed 0.01s / Remaining 00:00:00:00"
     ]
    },
    {
     "name": "stdout",
     "output_type": "stream",
     "text": [
      "\r",
      " [          2%           ] Elapsed 0.02s / Remaining 00:00:00:00"
     ]
    },
    {
     "name": "stdout",
     "output_type": "stream",
     "text": [
      "\r",
      " [          2%           ] Elapsed 0.02s / Remaining 00:00:00:00"
     ]
    },
    {
     "name": "stdout",
     "output_type": "stream",
     "text": [
      "\r",
      " [          2%           ] Elapsed 0.02s / Remaining 00:00:00:00"
     ]
    },
    {
     "name": "stdout",
     "output_type": "stream",
     "text": [
      "\r",
      " [          2%           ] Elapsed 0.02s / Remaining 00:00:00:00"
     ]
    },
    {
     "name": "stdout",
     "output_type": "stream",
     "text": [
      "\r",
      " [          2%           ] Elapsed 0.02s / Remaining 00:00:00:00"
     ]
    },
    {
     "name": "stdout",
     "output_type": "stream",
     "text": [
      "\r",
      " [          2%           ] Elapsed 0.02s / Remaining 00:00:00:01"
     ]
    },
    {
     "name": "stdout",
     "output_type": "stream",
     "text": [
      "\r",
      " [          2%           ] Elapsed 0.02s / Remaining 00:00:00:01"
     ]
    },
    {
     "name": "stdout",
     "output_type": "stream",
     "text": [
      "\r",
      " [          2%           ] Elapsed 0.02s / Remaining 00:00:00:01"
     ]
    },
    {
     "name": "stdout",
     "output_type": "stream",
     "text": [
      "\r",
      " [*         3%           ] Elapsed 0.02s / Remaining 00:00:00:00"
     ]
    },
    {
     "name": "stdout",
     "output_type": "stream",
     "text": [
      "\r",
      " [*         3%           ] Elapsed 0.03s / Remaining 00:00:00:00"
     ]
    },
    {
     "name": "stdout",
     "output_type": "stream",
     "text": [
      "\r",
      " [*         3%           ] Elapsed 0.03s / Remaining 00:00:00:00"
     ]
    },
    {
     "name": "stdout",
     "output_type": "stream",
     "text": [
      "\r",
      " [*         3%           ] Elapsed 0.03s / Remaining 00:00:00:00"
     ]
    },
    {
     "name": "stdout",
     "output_type": "stream",
     "text": [
      "\r",
      " [*         3%           ] Elapsed 0.03s / Remaining 00:00:00:00"
     ]
    },
    {
     "name": "stdout",
     "output_type": "stream",
     "text": [
      "\r",
      " [*         3%           ] Elapsed 0.03s / Remaining 00:00:00:00"
     ]
    },
    {
     "name": "stdout",
     "output_type": "stream",
     "text": [
      "\r",
      " [*         3%           ] Elapsed 0.03s / Remaining 00:00:00:00"
     ]
    },
    {
     "name": "stdout",
     "output_type": "stream",
     "text": [
      "\r",
      " [*         3%           ] Elapsed 0.03s / Remaining 00:00:00:01"
     ]
    },
    {
     "name": "stdout",
     "output_type": "stream",
     "text": [
      "\r",
      " [*         3%           ] Elapsed 0.03s / Remaining 00:00:00:01"
     ]
    },
    {
     "name": "stdout",
     "output_type": "stream",
     "text": [
      "\r",
      " [*         3%           ] Elapsed 0.03s / Remaining 00:00:00:01"
     ]
    },
    {
     "name": "stdout",
     "output_type": "stream",
     "text": [
      "\r",
      " [*         4%           ] Elapsed 0.03s / Remaining 00:00:00:00"
     ]
    },
    {
     "name": "stdout",
     "output_type": "stream",
     "text": [
      "\r",
      " [*         4%           ] Elapsed 0.04s / Remaining 00:00:00:00"
     ]
    },
    {
     "name": "stdout",
     "output_type": "stream",
     "text": [
      "\r",
      " [*         4%           ] Elapsed 0.04s / Remaining 00:00:00:00"
     ]
    },
    {
     "name": "stdout",
     "output_type": "stream",
     "text": [
      "\r",
      " [*         4%           ] Elapsed 0.04s / Remaining 00:00:00:00"
     ]
    },
    {
     "name": "stdout",
     "output_type": "stream",
     "text": [
      "\r",
      " [*         4%           ] Elapsed 0.04s / Remaining 00:00:00:00"
     ]
    },
    {
     "name": "stdout",
     "output_type": "stream",
     "text": [
      "\r",
      " [*         4%           ] Elapsed 0.04s / Remaining 00:00:00:00"
     ]
    },
    {
     "name": "stdout",
     "output_type": "stream",
     "text": [
      "\r",
      " [*         4%           ] Elapsed 0.04s / Remaining 00:00:00:00"
     ]
    },
    {
     "name": "stdout",
     "output_type": "stream",
     "text": [
      "\r",
      " [*         4%           ] Elapsed 0.04s / Remaining 00:00:00:00"
     ]
    },
    {
     "name": "stdout",
     "output_type": "stream",
     "text": [
      "\r",
      " [*         4%           ] Elapsed 0.04s / Remaining 00:00:00:01"
     ]
    },
    {
     "name": "stdout",
     "output_type": "stream",
     "text": [
      "\r",
      " [*         4%           ] Elapsed 0.04s / Remaining 00:00:00:01"
     ]
    },
    {
     "name": "stdout",
     "output_type": "stream",
     "text": [
      "\r",
      " [*         5%           ] Elapsed 0.04s / Remaining 00:00:00:00"
     ]
    },
    {
     "name": "stdout",
     "output_type": "stream",
     "text": [
      "\r",
      " [*         5%           ] Elapsed 0.05s / Remaining 00:00:00:00"
     ]
    },
    {
     "name": "stdout",
     "output_type": "stream",
     "text": [
      "\r",
      " [*         5%           ] Elapsed 0.05s / Remaining 00:00:00:00"
     ]
    },
    {
     "name": "stdout",
     "output_type": "stream",
     "text": [
      "\r",
      " [*         5%           ] Elapsed 0.05s / Remaining 00:00:00:00"
     ]
    },
    {
     "name": "stdout",
     "output_type": "stream",
     "text": [
      "\r",
      " [*         5%           ] Elapsed 0.05s / Remaining 00:00:00:00"
     ]
    },
    {
     "name": "stdout",
     "output_type": "stream",
     "text": [
      "\r",
      " [*         5%           ] Elapsed 0.05s / Remaining 00:00:00:00"
     ]
    },
    {
     "name": "stdout",
     "output_type": "stream",
     "text": [
      "\r",
      " [*         5%           ] Elapsed 0.05s / Remaining 00:00:00:00"
     ]
    },
    {
     "name": "stdout",
     "output_type": "stream",
     "text": [
      "\r",
      " [*         5%           ] Elapsed 0.05s / Remaining 00:00:00:00"
     ]
    },
    {
     "name": "stdout",
     "output_type": "stream",
     "text": [
      "\r",
      " [*         5%           ] Elapsed 0.05s / Remaining 00:00:00:00"
     ]
    },
    {
     "name": "stdout",
     "output_type": "stream",
     "text": [
      "\r",
      " [*         5%           ] Elapsed 0.05s / Remaining 00:00:00:01"
     ]
    },
    {
     "name": "stdout",
     "output_type": "stream",
     "text": [
      "\r",
      " [*         6%           ] Elapsed 0.05s / Remaining 00:00:00:00"
     ]
    },
    {
     "name": "stdout",
     "output_type": "stream",
     "text": [
      "\r",
      " [*         6%           ] Elapsed 0.06s / Remaining 00:00:00:00"
     ]
    },
    {
     "name": "stdout",
     "output_type": "stream",
     "text": [
      "\r",
      " [*         6%           ] Elapsed 0.06s / Remaining 00:00:00:00"
     ]
    },
    {
     "name": "stdout",
     "output_type": "stream",
     "text": [
      "\r",
      " [*         6%           ] Elapsed 0.06s / Remaining 00:00:00:00"
     ]
    },
    {
     "name": "stdout",
     "output_type": "stream",
     "text": [
      "\r",
      " [*         6%           ] Elapsed 0.06s / Remaining 00:00:00:00"
     ]
    },
    {
     "name": "stdout",
     "output_type": "stream",
     "text": [
      "\r",
      " [*         6%           ] Elapsed 0.06s / Remaining 00:00:00:00"
     ]
    },
    {
     "name": "stdout",
     "output_type": "stream",
     "text": [
      "\r",
      " [*         6%           ] Elapsed 0.06s / Remaining 00:00:00:00"
     ]
    },
    {
     "name": "stdout",
     "output_type": "stream",
     "text": [
      "\r",
      " [*         6%           ] Elapsed 0.06s / Remaining 00:00:00:00"
     ]
    },
    {
     "name": "stdout",
     "output_type": "stream",
     "text": [
      "\r",
      " [*         6%           ] Elapsed 0.06s / Remaining 00:00:00:00"
     ]
    },
    {
     "name": "stdout",
     "output_type": "stream",
     "text": [
      "\r",
      " [*         6%           ] Elapsed 0.06s / Remaining 00:00:00:00"
     ]
    },
    {
     "name": "stdout",
     "output_type": "stream",
     "text": [
      "\r",
      " [**        7%           ] Elapsed 0.06s / Remaining 00:00:00:00"
     ]
    },
    {
     "name": "stdout",
     "output_type": "stream",
     "text": [
      "\r",
      " [**        7%           ] Elapsed 0.07s / Remaining 00:00:00:00"
     ]
    },
    {
     "name": "stdout",
     "output_type": "stream",
     "text": [
      "\r",
      " [**        7%           ] Elapsed 0.07s / Remaining 00:00:00:00"
     ]
    },
    {
     "name": "stdout",
     "output_type": "stream",
     "text": [
      "\r",
      " [**        7%           ] Elapsed 0.07s / Remaining 00:00:00:00"
     ]
    },
    {
     "name": "stdout",
     "output_type": "stream",
     "text": [
      "\r",
      " [**        7%           ] Elapsed 0.07s / Remaining 00:00:00:00"
     ]
    },
    {
     "name": "stdout",
     "output_type": "stream",
     "text": [
      "\r",
      " [**        7%           ] Elapsed 0.07s / Remaining 00:00:00:00"
     ]
    },
    {
     "name": "stdout",
     "output_type": "stream",
     "text": [
      "\r",
      " [**        7%           ] Elapsed 0.07s / Remaining 00:00:00:00"
     ]
    },
    {
     "name": "stdout",
     "output_type": "stream",
     "text": [
      "\r",
      " [**        7%           ] Elapsed 0.07s / Remaining 00:00:00:00"
     ]
    },
    {
     "name": "stdout",
     "output_type": "stream",
     "text": [
      "\r",
      " [**        7%           ] Elapsed 0.07s / Remaining 00:00:00:00"
     ]
    },
    {
     "name": "stdout",
     "output_type": "stream",
     "text": [
      "\r",
      " [**        7%           ] Elapsed 0.07s / Remaining 00:00:00:00"
     ]
    },
    {
     "name": "stdout",
     "output_type": "stream",
     "text": [
      "\r",
      " [**        8%           ] Elapsed 0.07s / Remaining 00:00:00:00"
     ]
    },
    {
     "name": "stdout",
     "output_type": "stream",
     "text": [
      "\r",
      " [**        8%           ] Elapsed 0.08s / Remaining 00:00:00:00"
     ]
    },
    {
     "name": "stdout",
     "output_type": "stream",
     "text": [
      "\r",
      " [**        8%           ] Elapsed 0.08s / Remaining 00:00:00:00"
     ]
    },
    {
     "name": "stdout",
     "output_type": "stream",
     "text": [
      "\r",
      " [**        8%           ] Elapsed 0.08s / Remaining 00:00:00:00"
     ]
    },
    {
     "name": "stdout",
     "output_type": "stream",
     "text": [
      "\r",
      " [**        8%           ] Elapsed 0.08s / Remaining 00:00:00:00"
     ]
    },
    {
     "name": "stdout",
     "output_type": "stream",
     "text": [
      "\r",
      " [**        8%           ] Elapsed 0.08s / Remaining 00:00:00:00"
     ]
    },
    {
     "name": "stdout",
     "output_type": "stream",
     "text": [
      "\r",
      " [**        8%           ] Elapsed 0.08s / Remaining 00:00:00:00"
     ]
    },
    {
     "name": "stdout",
     "output_type": "stream",
     "text": [
      "\r",
      " [**        8%           ] Elapsed 0.08s / Remaining 00:00:00:00"
     ]
    },
    {
     "name": "stdout",
     "output_type": "stream",
     "text": [
      "\r",
      " [**        8%           ] Elapsed 0.08s / Remaining 00:00:00:00"
     ]
    },
    {
     "name": "stdout",
     "output_type": "stream",
     "text": [
      "\r",
      " [**        8%           ] Elapsed 0.08s / Remaining 00:00:00:00"
     ]
    },
    {
     "name": "stdout",
     "output_type": "stream",
     "text": [
      "\r",
      " [**        9%           ] Elapsed 0.09s / Remaining 00:00:00:00"
     ]
    },
    {
     "name": "stdout",
     "output_type": "stream",
     "text": [
      "\r",
      " [**        9%           ] Elapsed 0.09s / Remaining 00:00:00:00"
     ]
    },
    {
     "name": "stdout",
     "output_type": "stream",
     "text": [
      "\r",
      " [**        9%           ] Elapsed 0.09s / Remaining 00:00:00:00"
     ]
    },
    {
     "name": "stdout",
     "output_type": "stream",
     "text": [
      "\r",
      " [**        9%           ] Elapsed 0.09s / Remaining 00:00:00:00"
     ]
    },
    {
     "name": "stdout",
     "output_type": "stream",
     "text": [
      "\r",
      " [**        9%           ] Elapsed 0.09s / Remaining 00:00:00:00"
     ]
    },
    {
     "name": "stdout",
     "output_type": "stream",
     "text": [
      "\r",
      " [**        9%           ] Elapsed 0.09s / Remaining 00:00:00:00"
     ]
    },
    {
     "name": "stdout",
     "output_type": "stream",
     "text": [
      "\r",
      " [**        9%           ] Elapsed 0.09s / Remaining 00:00:00:00"
     ]
    },
    {
     "name": "stdout",
     "output_type": "stream",
     "text": [
      "\r",
      " [**        9%           ] Elapsed 0.09s / Remaining 00:00:00:00"
     ]
    },
    {
     "name": "stdout",
     "output_type": "stream",
     "text": [
      "\r",
      " [**        9%           ] Elapsed 0.09s / Remaining 00:00:00:00"
     ]
    },
    {
     "name": "stdout",
     "output_type": "stream",
     "text": [
      "\r",
      " [**        9%           ] Elapsed 0.09s / Remaining 00:00:00:00"
     ]
    },
    {
     "name": "stdout",
     "output_type": "stream",
     "text": [
      "\r",
      " [**       10%           ] Elapsed 0.10s / Remaining 00:00:00:00"
     ]
    },
    {
     "name": "stdout",
     "output_type": "stream",
     "text": [
      "\r",
      " [**       10%           ] Elapsed 0.10s / Remaining 00:00:00:00"
     ]
    },
    {
     "name": "stdout",
     "output_type": "stream",
     "text": [
      "\r",
      " [**       10%           ] Elapsed 0.10s / Remaining 00:00:00:00"
     ]
    },
    {
     "name": "stdout",
     "output_type": "stream",
     "text": [
      "\r",
      " [**       10%           ] Elapsed 0.10s / Remaining 00:00:00:00"
     ]
    },
    {
     "name": "stdout",
     "output_type": "stream",
     "text": [
      "\r",
      " [**       10%           ] Elapsed 0.10s / Remaining 00:00:00:00"
     ]
    },
    {
     "name": "stdout",
     "output_type": "stream",
     "text": [
      "\r",
      " [**       10%           ] Elapsed 0.10s / Remaining 00:00:00:00"
     ]
    },
    {
     "name": "stdout",
     "output_type": "stream",
     "text": [
      "\r",
      " [**       10%           ] Elapsed 0.10s / Remaining 00:00:00:00"
     ]
    },
    {
     "name": "stdout",
     "output_type": "stream",
     "text": [
      "\r",
      " [**       10%           ] Elapsed 0.10s / Remaining 00:00:00:00"
     ]
    },
    {
     "name": "stdout",
     "output_type": "stream",
     "text": [
      "\r",
      " [**       10%           ] Elapsed 0.10s / Remaining 00:00:00:00"
     ]
    },
    {
     "name": "stdout",
     "output_type": "stream",
     "text": [
      "\r",
      " [**       10%           ] Elapsed 0.10s / Remaining 00:00:00:00"
     ]
    },
    {
     "name": "stdout",
     "output_type": "stream",
     "text": [
      "\r",
      " [***      11%           ] Elapsed 0.11s / Remaining 00:00:00:00"
     ]
    },
    {
     "name": "stdout",
     "output_type": "stream",
     "text": [
      "\r",
      " [***      11%           ] Elapsed 0.11s / Remaining 00:00:00:00"
     ]
    },
    {
     "name": "stdout",
     "output_type": "stream",
     "text": [
      "\r",
      " [***      11%           ] Elapsed 0.11s / Remaining 00:00:00:00"
     ]
    },
    {
     "name": "stdout",
     "output_type": "stream",
     "text": [
      "\r",
      " [***      11%           ] Elapsed 0.11s / Remaining 00:00:00:00"
     ]
    },
    {
     "name": "stdout",
     "output_type": "stream",
     "text": [
      "\r",
      " [***      11%           ] Elapsed 0.11s / Remaining 00:00:00:00"
     ]
    },
    {
     "name": "stdout",
     "output_type": "stream",
     "text": [
      "\r",
      " [***      11%           ] Elapsed 0.11s / Remaining 00:00:00:00"
     ]
    },
    {
     "name": "stdout",
     "output_type": "stream",
     "text": [
      "\r",
      " [***      11%           ] Elapsed 0.11s / Remaining 00:00:00:00"
     ]
    },
    {
     "name": "stdout",
     "output_type": "stream",
     "text": [
      "\r",
      " [***      11%           ] Elapsed 0.11s / Remaining 00:00:00:00"
     ]
    },
    {
     "name": "stdout",
     "output_type": "stream",
     "text": [
      "\r",
      " [***      11%           ] Elapsed 0.11s / Remaining 00:00:00:00"
     ]
    },
    {
     "name": "stdout",
     "output_type": "stream",
     "text": [
      "\r",
      " [***      11%           ] Elapsed 0.11s / Remaining 00:00:00:00"
     ]
    },
    {
     "name": "stdout",
     "output_type": "stream",
     "text": [
      "\r",
      " [***      12%           ] Elapsed 0.11s / Remaining 00:00:00:00"
     ]
    },
    {
     "name": "stdout",
     "output_type": "stream",
     "text": [
      "\r",
      " [***      12%           ] Elapsed 0.12s / Remaining 00:00:00:00"
     ]
    },
    {
     "name": "stdout",
     "output_type": "stream",
     "text": [
      "\r",
      " [***      12%           ] Elapsed 0.12s / Remaining 00:00:00:00"
     ]
    },
    {
     "name": "stdout",
     "output_type": "stream",
     "text": [
      "\r",
      " [***      12%           ] Elapsed 0.12s / Remaining 00:00:00:00"
     ]
    },
    {
     "name": "stdout",
     "output_type": "stream",
     "text": [
      "\r",
      " [***      12%           ] Elapsed 0.12s / Remaining 00:00:00:00"
     ]
    },
    {
     "name": "stdout",
     "output_type": "stream",
     "text": [
      "\r",
      " [***      12%           ] Elapsed 0.12s / Remaining 00:00:00:00"
     ]
    },
    {
     "name": "stdout",
     "output_type": "stream",
     "text": [
      "\r",
      " [***      12%           ] Elapsed 0.12s / Remaining 00:00:00:00"
     ]
    },
    {
     "name": "stdout",
     "output_type": "stream",
     "text": [
      "\r",
      " [***      12%           ] Elapsed 0.12s / Remaining 00:00:00:00"
     ]
    },
    {
     "name": "stdout",
     "output_type": "stream",
     "text": [
      "\r",
      " [***      12%           ] Elapsed 0.12s / Remaining 00:00:00:00"
     ]
    },
    {
     "name": "stdout",
     "output_type": "stream",
     "text": [
      "\r",
      " [***      12%           ] Elapsed 0.12s / Remaining 00:00:00:00"
     ]
    },
    {
     "name": "stdout",
     "output_type": "stream",
     "text": [
      "\r",
      " [***      13%           ] Elapsed 0.12s / Remaining 00:00:00:00"
     ]
    },
    {
     "name": "stdout",
     "output_type": "stream",
     "text": [
      "\r",
      " [***      13%           ] Elapsed 0.13s / Remaining 00:00:00:00"
     ]
    },
    {
     "name": "stdout",
     "output_type": "stream",
     "text": [
      "\r",
      " [***      13%           ] Elapsed 0.13s / Remaining 00:00:00:00"
     ]
    },
    {
     "name": "stdout",
     "output_type": "stream",
     "text": [
      "\r",
      " [***      13%           ] Elapsed 0.13s / Remaining 00:00:00:00"
     ]
    },
    {
     "name": "stdout",
     "output_type": "stream",
     "text": [
      "\r",
      " [***      13%           ] Elapsed 0.13s / Remaining 00:00:00:00"
     ]
    },
    {
     "name": "stdout",
     "output_type": "stream",
     "text": [
      "\r",
      " [***      13%           ] Elapsed 0.13s / Remaining 00:00:00:00"
     ]
    },
    {
     "name": "stdout",
     "output_type": "stream",
     "text": [
      "\r",
      " [***      13%           ] Elapsed 0.13s / Remaining 00:00:00:00"
     ]
    },
    {
     "name": "stdout",
     "output_type": "stream",
     "text": [
      "\r",
      " [***      13%           ] Elapsed 0.13s / Remaining 00:00:00:00"
     ]
    },
    {
     "name": "stdout",
     "output_type": "stream",
     "text": [
      "\r",
      " [***      13%           ] Elapsed 0.13s / Remaining 00:00:00:00"
     ]
    },
    {
     "name": "stdout",
     "output_type": "stream",
     "text": [
      "\r",
      " [***      13%           ] Elapsed 0.13s / Remaining 00:00:00:00"
     ]
    },
    {
     "name": "stdout",
     "output_type": "stream",
     "text": [
      "\r",
      " [***      14%           ] Elapsed 0.13s / Remaining 00:00:00:00"
     ]
    },
    {
     "name": "stdout",
     "output_type": "stream",
     "text": [
      "\r",
      " [***      14%           ] Elapsed 0.14s / Remaining 00:00:00:00"
     ]
    },
    {
     "name": "stdout",
     "output_type": "stream",
     "text": [
      "\r",
      " [***      14%           ] Elapsed 0.14s / Remaining 00:00:00:00"
     ]
    },
    {
     "name": "stdout",
     "output_type": "stream",
     "text": [
      "\r",
      " [***      14%           ] Elapsed 0.14s / Remaining 00:00:00:00"
     ]
    },
    {
     "name": "stdout",
     "output_type": "stream",
     "text": [
      "\r",
      " [***      14%           ] Elapsed 0.14s / Remaining 00:00:00:00"
     ]
    },
    {
     "name": "stdout",
     "output_type": "stream",
     "text": [
      "\r",
      " [***      14%           ] Elapsed 0.14s / Remaining 00:00:00:00"
     ]
    },
    {
     "name": "stdout",
     "output_type": "stream",
     "text": [
      "\r",
      " [***      14%           ] Elapsed 0.14s / Remaining 00:00:00:00"
     ]
    },
    {
     "name": "stdout",
     "output_type": "stream",
     "text": [
      "\r",
      " [***      14%           ] Elapsed 0.14s / Remaining 00:00:00:00"
     ]
    },
    {
     "name": "stdout",
     "output_type": "stream",
     "text": [
      "\r",
      " [***      14%           ] Elapsed 0.14s / Remaining 00:00:00:00"
     ]
    },
    {
     "name": "stdout",
     "output_type": "stream",
     "text": [
      "\r",
      " [***      14%           ] Elapsed 0.14s / Remaining 00:00:00:00"
     ]
    },
    {
     "name": "stdout",
     "output_type": "stream",
     "text": [
      "\r",
      " [***      15%           ] Elapsed 0.14s / Remaining 00:00:00:00"
     ]
    },
    {
     "name": "stdout",
     "output_type": "stream",
     "text": [
      "\r",
      " [***      15%           ] Elapsed 0.15s / Remaining 00:00:00:00"
     ]
    },
    {
     "name": "stdout",
     "output_type": "stream",
     "text": [
      "\r",
      " [***      15%           ] Elapsed 0.15s / Remaining 00:00:00:00"
     ]
    },
    {
     "name": "stdout",
     "output_type": "stream",
     "text": [
      "\r",
      " [***      15%           ] Elapsed 0.15s / Remaining 00:00:00:00"
     ]
    },
    {
     "name": "stdout",
     "output_type": "stream",
     "text": [
      "\r",
      " [***      15%           ] Elapsed 0.15s / Remaining 00:00:00:00"
     ]
    },
    {
     "name": "stdout",
     "output_type": "stream",
     "text": [
      "\r",
      " [***      15%           ] Elapsed 0.15s / Remaining 00:00:00:00"
     ]
    },
    {
     "name": "stdout",
     "output_type": "stream",
     "text": [
      "\r",
      " [***      15%           ] Elapsed 0.15s / Remaining 00:00:00:00"
     ]
    },
    {
     "name": "stdout",
     "output_type": "stream",
     "text": [
      "\r",
      " [***      15%           ] Elapsed 0.15s / Remaining 00:00:00:00"
     ]
    },
    {
     "name": "stdout",
     "output_type": "stream",
     "text": [
      "\r",
      " [***      15%           ] Elapsed 0.15s / Remaining 00:00:00:00"
     ]
    },
    {
     "name": "stdout",
     "output_type": "stream",
     "text": [
      "\r",
      " [***      15%           ] Elapsed 0.15s / Remaining 00:00:00:00"
     ]
    },
    {
     "name": "stdout",
     "output_type": "stream",
     "text": [
      "\r",
      " [****     16%           ] Elapsed 0.16s / Remaining 00:00:00:00"
     ]
    },
    {
     "name": "stdout",
     "output_type": "stream",
     "text": [
      "\r",
      " [****     16%           ] Elapsed 0.16s / Remaining 00:00:00:00"
     ]
    },
    {
     "name": "stdout",
     "output_type": "stream",
     "text": [
      "\r",
      " [****     16%           ] Elapsed 0.16s / Remaining 00:00:00:00"
     ]
    },
    {
     "name": "stdout",
     "output_type": "stream",
     "text": [
      "\r",
      " [****     16%           ] Elapsed 0.16s / Remaining 00:00:00:00"
     ]
    },
    {
     "name": "stdout",
     "output_type": "stream",
     "text": [
      "\r",
      " [****     16%           ] Elapsed 0.16s / Remaining 00:00:00:00"
     ]
    },
    {
     "name": "stdout",
     "output_type": "stream",
     "text": [
      "\r",
      " [****     16%           ] Elapsed 0.16s / Remaining 00:00:00:00"
     ]
    },
    {
     "name": "stdout",
     "output_type": "stream",
     "text": [
      "\r",
      " [****     16%           ] Elapsed 0.16s / Remaining 00:00:00:00"
     ]
    },
    {
     "name": "stdout",
     "output_type": "stream",
     "text": [
      "\r",
      " [****     16%           ] Elapsed 0.16s / Remaining 00:00:00:00"
     ]
    },
    {
     "name": "stdout",
     "output_type": "stream",
     "text": [
      "\r",
      " [****     16%           ] Elapsed 0.16s / Remaining 00:00:00:00"
     ]
    },
    {
     "name": "stdout",
     "output_type": "stream",
     "text": [
      "\r",
      " [****     16%           ] Elapsed 0.16s / Remaining 00:00:00:00"
     ]
    },
    {
     "name": "stdout",
     "output_type": "stream",
     "text": [
      "\r",
      " [****     17%           ] Elapsed 0.17s / Remaining 00:00:00:00"
     ]
    },
    {
     "name": "stdout",
     "output_type": "stream",
     "text": [
      "\r",
      " [****     17%           ] Elapsed 0.17s / Remaining 00:00:00:00"
     ]
    },
    {
     "name": "stdout",
     "output_type": "stream",
     "text": [
      "\r",
      " [****     17%           ] Elapsed 0.17s / Remaining 00:00:00:00"
     ]
    },
    {
     "name": "stdout",
     "output_type": "stream",
     "text": [
      "\r",
      " [****     17%           ] Elapsed 0.17s / Remaining 00:00:00:00"
     ]
    },
    {
     "name": "stdout",
     "output_type": "stream",
     "text": [
      "\r",
      " [****     17%           ] Elapsed 0.17s / Remaining 00:00:00:00"
     ]
    },
    {
     "name": "stdout",
     "output_type": "stream",
     "text": [
      "\r",
      " [****     17%           ] Elapsed 0.17s / Remaining 00:00:00:00"
     ]
    },
    {
     "name": "stdout",
     "output_type": "stream",
     "text": [
      "\r",
      " [****     17%           ] Elapsed 0.17s / Remaining 00:00:00:00"
     ]
    },
    {
     "name": "stdout",
     "output_type": "stream",
     "text": [
      "\r",
      " [****     17%           ] Elapsed 0.17s / Remaining 00:00:00:00"
     ]
    },
    {
     "name": "stdout",
     "output_type": "stream",
     "text": [
      "\r",
      " [****     17%           ] Elapsed 0.17s / Remaining 00:00:00:00"
     ]
    },
    {
     "name": "stdout",
     "output_type": "stream",
     "text": [
      "\r",
      " [****     17%           ] Elapsed 0.17s / Remaining 00:00:00:00"
     ]
    },
    {
     "name": "stdout",
     "output_type": "stream",
     "text": [
      "\r",
      " [****     18%           ] Elapsed 0.18s / Remaining 00:00:00:00"
     ]
    },
    {
     "name": "stdout",
     "output_type": "stream",
     "text": [
      "\r",
      " [****     18%           ] Elapsed 0.18s / Remaining 00:00:00:00"
     ]
    },
    {
     "name": "stdout",
     "output_type": "stream",
     "text": [
      "\r",
      " [****     18%           ] Elapsed 0.18s / Remaining 00:00:00:00"
     ]
    },
    {
     "name": "stdout",
     "output_type": "stream",
     "text": [
      "\r",
      " [****     18%           ] Elapsed 0.18s / Remaining 00:00:00:00"
     ]
    },
    {
     "name": "stdout",
     "output_type": "stream",
     "text": [
      "\r",
      " [****     18%           ] Elapsed 0.18s / Remaining 00:00:00:00"
     ]
    },
    {
     "name": "stdout",
     "output_type": "stream",
     "text": [
      "\r",
      " [****     18%           ] Elapsed 0.18s / Remaining 00:00:00:00"
     ]
    },
    {
     "name": "stdout",
     "output_type": "stream",
     "text": [
      "\r",
      " [****     18%           ] Elapsed 0.18s / Remaining 00:00:00:00"
     ]
    },
    {
     "name": "stdout",
     "output_type": "stream",
     "text": [
      "\r",
      " [****     18%           ] Elapsed 0.18s / Remaining 00:00:00:00"
     ]
    },
    {
     "name": "stdout",
     "output_type": "stream",
     "text": [
      "\r",
      " [****     18%           ] Elapsed 0.18s / Remaining 00:00:00:00"
     ]
    },
    {
     "name": "stdout",
     "output_type": "stream",
     "text": [
      "\r",
      " [****     18%           ] Elapsed 0.19s / Remaining 00:00:00:00"
     ]
    },
    {
     "name": "stdout",
     "output_type": "stream",
     "text": [
      "\r",
      " [****     19%           ] Elapsed 0.19s / Remaining 00:00:00:00"
     ]
    },
    {
     "name": "stdout",
     "output_type": "stream",
     "text": [
      "\r",
      " [****     19%           ] Elapsed 0.19s / Remaining 00:00:00:00"
     ]
    },
    {
     "name": "stdout",
     "output_type": "stream",
     "text": [
      "\r",
      " [****     19%           ] Elapsed 0.19s / Remaining 00:00:00:00"
     ]
    },
    {
     "name": "stdout",
     "output_type": "stream",
     "text": [
      "\r",
      " [****     19%           ] Elapsed 0.19s / Remaining 00:00:00:00"
     ]
    },
    {
     "name": "stdout",
     "output_type": "stream",
     "text": [
      "\r",
      " [****     19%           ] Elapsed 0.19s / Remaining 00:00:00:00"
     ]
    },
    {
     "name": "stdout",
     "output_type": "stream",
     "text": [
      "\r",
      " [****     19%           ] Elapsed 0.19s / Remaining 00:00:00:00"
     ]
    },
    {
     "name": "stdout",
     "output_type": "stream",
     "text": [
      "\r",
      " [****     19%           ] Elapsed 0.19s / Remaining 00:00:00:00"
     ]
    },
    {
     "name": "stdout",
     "output_type": "stream",
     "text": [
      "\r",
      " [****     19%           ] Elapsed 0.19s / Remaining 00:00:00:00"
     ]
    },
    {
     "name": "stdout",
     "output_type": "stream",
     "text": [
      "\r",
      " [****     19%           ] Elapsed 0.19s / Remaining 00:00:00:00"
     ]
    },
    {
     "name": "stdout",
     "output_type": "stream",
     "text": [
      "\r",
      " [****     19%           ] Elapsed 0.20s / Remaining 00:00:00:00"
     ]
    },
    {
     "name": "stdout",
     "output_type": "stream",
     "text": [
      "\r",
      " [*****    20%           ] Elapsed 0.20s / Remaining 00:00:00:00"
     ]
    },
    {
     "name": "stdout",
     "output_type": "stream",
     "text": [
      "\r",
      " [*****    20%           ] Elapsed 0.20s / Remaining 00:00:00:00"
     ]
    },
    {
     "name": "stdout",
     "output_type": "stream",
     "text": [
      "\r",
      " [*****    20%           ] Elapsed 0.20s / Remaining 00:00:00:00"
     ]
    },
    {
     "name": "stdout",
     "output_type": "stream",
     "text": [
      "\r",
      " [*****    20%           ] Elapsed 0.20s / Remaining 00:00:00:00"
     ]
    },
    {
     "name": "stdout",
     "output_type": "stream",
     "text": [
      "\r",
      " [*****    20%           ] Elapsed 0.20s / Remaining 00:00:00:00"
     ]
    },
    {
     "name": "stdout",
     "output_type": "stream",
     "text": [
      "\r",
      " [*****    20%           ] Elapsed 0.20s / Remaining 00:00:00:00"
     ]
    },
    {
     "name": "stdout",
     "output_type": "stream",
     "text": [
      "\r",
      " [*****    20%           ] Elapsed 0.20s / Remaining 00:00:00:00"
     ]
    },
    {
     "name": "stdout",
     "output_type": "stream",
     "text": [
      "\r",
      " [*****    20%           ] Elapsed 0.20s / Remaining 00:00:00:00"
     ]
    },
    {
     "name": "stdout",
     "output_type": "stream",
     "text": [
      "\r",
      " [*****    20%           ] Elapsed 0.21s / Remaining 00:00:00:00"
     ]
    },
    {
     "name": "stdout",
     "output_type": "stream",
     "text": [
      "\r",
      " [*****    20%           ] Elapsed 0.21s / Remaining 00:00:00:00"
     ]
    },
    {
     "name": "stdout",
     "output_type": "stream",
     "text": [
      "\r",
      " [*****    21%           ] Elapsed 0.21s / Remaining 00:00:00:00"
     ]
    },
    {
     "name": "stdout",
     "output_type": "stream",
     "text": [
      "\r",
      " [*****    21%           ] Elapsed 0.21s / Remaining 00:00:00:00"
     ]
    },
    {
     "name": "stdout",
     "output_type": "stream",
     "text": [
      "\r",
      " [*****    21%           ] Elapsed 0.21s / Remaining 00:00:00:00"
     ]
    },
    {
     "name": "stdout",
     "output_type": "stream",
     "text": [
      "\r"
     ]
    },
    {
     "name": "stdout",
     "output_type": "stream",
     "text": [
      " [*****    21%           ] Elapsed 0.21s / Remaining 00:00:00:00"
     ]
    },
    {
     "name": "stdout",
     "output_type": "stream",
     "text": [
      "\r",
      " [*****    21%           ] Elapsed 0.21s / Remaining 00:00:00:00"
     ]
    },
    {
     "name": "stdout",
     "output_type": "stream",
     "text": [
      "\r",
      " [*****    21%           ] Elapsed 0.21s / Remaining 00:00:00:00"
     ]
    },
    {
     "name": "stdout",
     "output_type": "stream",
     "text": [
      "\r",
      " [*****    21%           ] Elapsed 0.21s / Remaining 00:00:00:00"
     ]
    },
    {
     "name": "stdout",
     "output_type": "stream",
     "text": [
      "\r",
      " [*****    21%           ] Elapsed 0.21s / Remaining 00:00:00:00"
     ]
    },
    {
     "name": "stdout",
     "output_type": "stream",
     "text": [
      "\r",
      " [*****    21%           ] Elapsed 0.22s / Remaining 00:00:00:00"
     ]
    },
    {
     "name": "stdout",
     "output_type": "stream",
     "text": [
      "\r",
      " [*****    21%           ] Elapsed 0.22s / Remaining 00:00:00:00"
     ]
    },
    {
     "name": "stdout",
     "output_type": "stream",
     "text": [
      "\r",
      " [*****    22%           ] Elapsed 0.22s / Remaining 00:00:00:00"
     ]
    },
    {
     "name": "stdout",
     "output_type": "stream",
     "text": [
      "\r",
      " [*****    22%           ] Elapsed 0.22s / Remaining 00:00:00:00"
     ]
    },
    {
     "name": "stdout",
     "output_type": "stream",
     "text": [
      "\r",
      " [*****    22%           ] Elapsed 0.22s / Remaining 00:00:00:00"
     ]
    },
    {
     "name": "stdout",
     "output_type": "stream",
     "text": [
      "\r",
      " [*****    22%           ] Elapsed 0.22s / Remaining 00:00:00:00"
     ]
    },
    {
     "name": "stdout",
     "output_type": "stream",
     "text": [
      "\r",
      " [*****    22%           ] Elapsed 0.22s / Remaining 00:00:00:00"
     ]
    },
    {
     "name": "stdout",
     "output_type": "stream",
     "text": [
      "\r",
      " [*****    22%           ] Elapsed 0.22s / Remaining 00:00:00:00"
     ]
    },
    {
     "name": "stdout",
     "output_type": "stream",
     "text": [
      "\r",
      " [*****    22%           ] Elapsed 0.22s / Remaining 00:00:00:00"
     ]
    },
    {
     "name": "stdout",
     "output_type": "stream",
     "text": [
      "\r",
      " [*****    22%           ] Elapsed 0.22s / Remaining 00:00:00:00"
     ]
    },
    {
     "name": "stdout",
     "output_type": "stream",
     "text": [
      "\r",
      " [*****    22%           ] Elapsed 0.23s / Remaining 00:00:00:00"
     ]
    },
    {
     "name": "stdout",
     "output_type": "stream",
     "text": [
      "\r",
      " [*****    22%           ] Elapsed 0.23s / Remaining 00:00:00:00"
     ]
    },
    {
     "name": "stdout",
     "output_type": "stream",
     "text": [
      "\r",
      " [*****    23%           ] Elapsed 0.23s / Remaining 00:00:00:00"
     ]
    },
    {
     "name": "stdout",
     "output_type": "stream",
     "text": [
      "\r",
      " [*****    23%           ] Elapsed 0.23s / Remaining 00:00:00:00"
     ]
    },
    {
     "name": "stdout",
     "output_type": "stream",
     "text": [
      "\r",
      " [*****    23%           ] Elapsed 0.23s / Remaining 00:00:00:00"
     ]
    },
    {
     "name": "stdout",
     "output_type": "stream",
     "text": [
      "\r",
      " [*****    23%           ] Elapsed 0.23s / Remaining 00:00:00:00"
     ]
    },
    {
     "name": "stdout",
     "output_type": "stream",
     "text": [
      "\r",
      " [*****    23%           ] Elapsed 0.23s / Remaining 00:00:00:00"
     ]
    },
    {
     "name": "stdout",
     "output_type": "stream",
     "text": [
      "\r",
      " [*****    23%           ] Elapsed 0.23s / Remaining 00:00:00:00"
     ]
    },
    {
     "name": "stdout",
     "output_type": "stream",
     "text": [
      "\r",
      " [*****    23%           ] Elapsed 0.23s / Remaining 00:00:00:00"
     ]
    },
    {
     "name": "stdout",
     "output_type": "stream",
     "text": [
      "\r",
      " [*****    23%           ] Elapsed 0.24s / Remaining 00:00:00:00"
     ]
    },
    {
     "name": "stdout",
     "output_type": "stream",
     "text": [
      "\r",
      " [*****    23%           ] Elapsed 0.24s / Remaining 00:00:00:00"
     ]
    },
    {
     "name": "stdout",
     "output_type": "stream",
     "text": [
      "\r",
      " [*****    23%           ] Elapsed 0.24s / Remaining 00:00:00:00"
     ]
    },
    {
     "name": "stdout",
     "output_type": "stream",
     "text": [
      "\r",
      " [******   24%           ] Elapsed 0.24s / Remaining 00:00:00:00"
     ]
    },
    {
     "name": "stdout",
     "output_type": "stream",
     "text": [
      "\r",
      " [******   24%           ] Elapsed 0.24s / Remaining 00:00:00:00"
     ]
    },
    {
     "name": "stdout",
     "output_type": "stream",
     "text": [
      "\r",
      " [******   24%           ] Elapsed 0.24s / Remaining 00:00:00:00"
     ]
    },
    {
     "name": "stdout",
     "output_type": "stream",
     "text": [
      "\r",
      " [******   24%           ] Elapsed 0.24s / Remaining 00:00:00:00"
     ]
    },
    {
     "name": "stdout",
     "output_type": "stream",
     "text": [
      "\r",
      " [******   24%           ] Elapsed 0.24s / Remaining 00:00:00:00"
     ]
    },
    {
     "name": "stdout",
     "output_type": "stream",
     "text": [
      "\r",
      " [******   24%           ] Elapsed 0.24s / Remaining 00:00:00:00"
     ]
    },
    {
     "name": "stdout",
     "output_type": "stream",
     "text": [
      "\r"
     ]
    },
    {
     "name": "stdout",
     "output_type": "stream",
     "text": [
      " [******   24%           ] Elapsed 0.24s / Remaining 00:00:00:00"
     ]
    },
    {
     "name": "stdout",
     "output_type": "stream",
     "text": [
      "\r",
      " [******   24%           ] Elapsed 0.25s / Remaining 00:00:00:00"
     ]
    },
    {
     "name": "stdout",
     "output_type": "stream",
     "text": [
      "\r",
      " [******   24%           ] Elapsed 0.25s / Remaining 00:00:00:00"
     ]
    },
    {
     "name": "stdout",
     "output_type": "stream",
     "text": [
      "\r",
      " [******   24%           ] Elapsed 0.25s / Remaining 00:00:00:00"
     ]
    },
    {
     "name": "stdout",
     "output_type": "stream",
     "text": [
      "\r",
      " [******   25%           ] Elapsed 0.25s / Remaining 00:00:00:00"
     ]
    },
    {
     "name": "stdout",
     "output_type": "stream",
     "text": [
      "\r",
      " [******   25%           ] Elapsed 0.25s / Remaining 00:00:00:00"
     ]
    },
    {
     "name": "stdout",
     "output_type": "stream",
     "text": [
      "\r",
      " [******   25%           ] Elapsed 0.25s / Remaining 00:00:00:00"
     ]
    },
    {
     "name": "stdout",
     "output_type": "stream",
     "text": [
      "\r",
      " [******   25%           ] Elapsed 0.25s / Remaining 00:00:00:00"
     ]
    },
    {
     "name": "stdout",
     "output_type": "stream",
     "text": [
      "\r",
      " [******   25%           ] Elapsed 0.25s / Remaining 00:00:00:00"
     ]
    },
    {
     "name": "stdout",
     "output_type": "stream",
     "text": [
      "\r",
      " [******   25%           ] Elapsed 0.26s / Remaining 00:00:00:00"
     ]
    },
    {
     "name": "stdout",
     "output_type": "stream",
     "text": [
      "\r",
      " [******   25%           ] Elapsed 0.26s / Remaining 00:00:00:00"
     ]
    },
    {
     "name": "stdout",
     "output_type": "stream",
     "text": [
      "\r",
      " [******   25%           ] Elapsed 0.26s / Remaining 00:00:00:00"
     ]
    },
    {
     "name": "stdout",
     "output_type": "stream",
     "text": [
      "\r",
      " [******   25%           ] Elapsed 0.26s / Remaining 00:00:00:00"
     ]
    },
    {
     "name": "stdout",
     "output_type": "stream",
     "text": [
      "\r",
      " [******   25%           ] Elapsed 0.26s / Remaining 00:00:00:00"
     ]
    },
    {
     "name": "stdout",
     "output_type": "stream",
     "text": [
      "\r",
      " [******   26%           ] Elapsed 0.26s / Remaining 00:00:00:00"
     ]
    },
    {
     "name": "stdout",
     "output_type": "stream",
     "text": [
      "\r",
      " [******   26%           ] Elapsed 0.26s / Remaining 00:00:00:00"
     ]
    },
    {
     "name": "stdout",
     "output_type": "stream",
     "text": [
      "\r"
     ]
    },
    {
     "name": "stdout",
     "output_type": "stream",
     "text": [
      " [******   26%           ] Elapsed 0.26s / Remaining 00:00:00:00"
     ]
    },
    {
     "name": "stdout",
     "output_type": "stream",
     "text": [
      "\r",
      " [******   26%           ] Elapsed 0.26s / Remaining 00:00:00:00"
     ]
    },
    {
     "name": "stdout",
     "output_type": "stream",
     "text": [
      "\r",
      " [******   26%           ] Elapsed 0.26s / Remaining 00:00:00:00"
     ]
    },
    {
     "name": "stdout",
     "output_type": "stream",
     "text": [
      "\r",
      " [******   26%           ] Elapsed 0.27s / Remaining 00:00:00:00"
     ]
    },
    {
     "name": "stdout",
     "output_type": "stream",
     "text": [
      "\r",
      " [******   26%           ] Elapsed 0.27s / Remaining 00:00:00:00"
     ]
    },
    {
     "name": "stdout",
     "output_type": "stream",
     "text": [
      "\r",
      " [******   26%           ] Elapsed 0.27s / Remaining 00:00:00:00"
     ]
    },
    {
     "name": "stdout",
     "output_type": "stream",
     "text": [
      "\r",
      " [******   26%           ] Elapsed 0.27s / Remaining 00:00:00:00"
     ]
    },
    {
     "name": "stdout",
     "output_type": "stream",
     "text": [
      "\r",
      " [******   26%           ] Elapsed 0.27s / Remaining 00:00:00:00"
     ]
    },
    {
     "name": "stdout",
     "output_type": "stream",
     "text": [
      "\r",
      " [******   27%           ] Elapsed 0.27s / Remaining 00:00:00:00"
     ]
    },
    {
     "name": "stdout",
     "output_type": "stream",
     "text": [
      "\r",
      " [******   27%           ] Elapsed 0.27s / Remaining 00:00:00:00"
     ]
    },
    {
     "name": "stdout",
     "output_type": "stream",
     "text": [
      "\r",
      " [******   27%           ] Elapsed 0.27s / Remaining 00:00:00:00"
     ]
    },
    {
     "name": "stdout",
     "output_type": "stream",
     "text": [
      "\r",
      " [******   27%           ] Elapsed 0.28s / Remaining 00:00:00:00"
     ]
    },
    {
     "name": "stdout",
     "output_type": "stream",
     "text": [
      "\r",
      " [******   27%           ] Elapsed 0.28s / Remaining 00:00:00:00"
     ]
    },
    {
     "name": "stdout",
     "output_type": "stream",
     "text": [
      "\r",
      " [******   27%           ] Elapsed 0.28s / Remaining 00:00:00:00"
     ]
    },
    {
     "name": "stdout",
     "output_type": "stream",
     "text": [
      "\r",
      " [******   27%           ] Elapsed 0.28s / Remaining 00:00:00:00"
     ]
    },
    {
     "name": "stdout",
     "output_type": "stream",
     "text": [
      "\r",
      " [******   27%           ] Elapsed 0.28s / Remaining 00:00:00:00"
     ]
    },
    {
     "name": "stdout",
     "output_type": "stream",
     "text": [
      "\r",
      " [******   27%           ] Elapsed 0.28s / Remaining 00:00:00:00"
     ]
    },
    {
     "name": "stdout",
     "output_type": "stream",
     "text": [
      "\r",
      " [******   27%           ] Elapsed 0.28s / Remaining 00:00:00:00"
     ]
    },
    {
     "name": "stdout",
     "output_type": "stream",
     "text": [
      "\r",
      " [******   28%           ] Elapsed 0.28s / Remaining 00:00:00:00"
     ]
    },
    {
     "name": "stdout",
     "output_type": "stream",
     "text": [
      "\r",
      " [******   28%           ] Elapsed 0.28s / Remaining 00:00:00:00"
     ]
    },
    {
     "name": "stdout",
     "output_type": "stream",
     "text": [
      "\r",
      " [******   28%           ] Elapsed 0.29s / Remaining 00:00:00:00"
     ]
    },
    {
     "name": "stdout",
     "output_type": "stream",
     "text": [
      "\r",
      " [******   28%           ] Elapsed 0.29s / Remaining 00:00:00:00"
     ]
    },
    {
     "name": "stdout",
     "output_type": "stream",
     "text": [
      "\r",
      " [******   28%           ] Elapsed 0.29s / Remaining 00:00:00:00"
     ]
    },
    {
     "name": "stdout",
     "output_type": "stream",
     "text": [
      "\r",
      " [******   28%           ] Elapsed 0.29s / Remaining 00:00:00:00"
     ]
    },
    {
     "name": "stdout",
     "output_type": "stream",
     "text": [
      "\r",
      " [******   28%           ] Elapsed 0.29s / Remaining 00:00:00:00"
     ]
    },
    {
     "name": "stdout",
     "output_type": "stream",
     "text": [
      "\r",
      " [******   28%           ] Elapsed 0.29s / Remaining 00:00:00:00"
     ]
    },
    {
     "name": "stdout",
     "output_type": "stream",
     "text": [
      "\r",
      " [******   28%           ] Elapsed 0.29s / Remaining 00:00:00:00"
     ]
    },
    {
     "name": "stdout",
     "output_type": "stream",
     "text": [
      "\r",
      " [******   28%           ] Elapsed 0.29s / Remaining 00:00:00:00"
     ]
    },
    {
     "name": "stdout",
     "output_type": "stream",
     "text": [
      "\r",
      " [*******  29%           ] Elapsed 0.29s / Remaining 00:00:00:00"
     ]
    },
    {
     "name": "stdout",
     "output_type": "stream",
     "text": [
      "\r",
      " [*******  29%           ] Elapsed 0.29s / Remaining 00:00:00:00"
     ]
    },
    {
     "name": "stdout",
     "output_type": "stream",
     "text": [
      "\r",
      " [*******  29%           ] Elapsed 0.30s / Remaining 00:00:00:00"
     ]
    },
    {
     "name": "stdout",
     "output_type": "stream",
     "text": [
      "\r",
      " [*******  29%           ] Elapsed 0.30s / Remaining 00:00:00:00"
     ]
    },
    {
     "name": "stdout",
     "output_type": "stream",
     "text": [
      "\r",
      " [*******  29%           ] Elapsed 0.30s / Remaining 00:00:00:00"
     ]
    },
    {
     "name": "stdout",
     "output_type": "stream",
     "text": [
      "\r",
      " [*******  29%           ] Elapsed 0.30s / Remaining 00:00:00:00"
     ]
    },
    {
     "name": "stdout",
     "output_type": "stream",
     "text": [
      "\r",
      " [*******  29%           ] Elapsed 0.30s / Remaining 00:00:00:00"
     ]
    },
    {
     "name": "stdout",
     "output_type": "stream",
     "text": [
      "\r",
      " [*******  29%           ] Elapsed 0.30s / Remaining 00:00:00:00"
     ]
    },
    {
     "name": "stdout",
     "output_type": "stream",
     "text": [
      "\r",
      " [*******  29%           ] Elapsed 0.30s / Remaining 00:00:00:00"
     ]
    },
    {
     "name": "stdout",
     "output_type": "stream",
     "text": [
      "\r",
      " [*******  29%           ] Elapsed 0.30s / Remaining 00:00:00:00"
     ]
    },
    {
     "name": "stdout",
     "output_type": "stream",
     "text": [
      "\r",
      " [*******  30%           ] Elapsed 0.30s / Remaining 00:00:00:00"
     ]
    },
    {
     "name": "stdout",
     "output_type": "stream",
     "text": [
      "\r",
      " [*******  30%           ] Elapsed 0.31s / Remaining 00:00:00:00"
     ]
    },
    {
     "name": "stdout",
     "output_type": "stream",
     "text": [
      "\r",
      " [*******  30%           ] Elapsed 0.31s / Remaining 00:00:00:00"
     ]
    },
    {
     "name": "stdout",
     "output_type": "stream",
     "text": [
      "\r",
      " [*******  30%           ] Elapsed 0.31s / Remaining 00:00:00:00"
     ]
    },
    {
     "name": "stdout",
     "output_type": "stream",
     "text": [
      "\r",
      " [*******  30%           ] Elapsed 0.31s / Remaining 00:00:00:00"
     ]
    },
    {
     "name": "stdout",
     "output_type": "stream",
     "text": [
      "\r",
      " [*******  30%           ] Elapsed 0.31s / Remaining 00:00:00:00"
     ]
    },
    {
     "name": "stdout",
     "output_type": "stream",
     "text": [
      "\r",
      " [*******  30%           ] Elapsed 0.31s / Remaining 00:00:00:00"
     ]
    },
    {
     "name": "stdout",
     "output_type": "stream",
     "text": [
      "\r",
      " [*******  30%           ] Elapsed 0.31s / Remaining 00:00:00:00"
     ]
    },
    {
     "name": "stdout",
     "output_type": "stream",
     "text": [
      "\r",
      " [*******  30%           ] Elapsed 0.31s / Remaining 00:00:00:00"
     ]
    },
    {
     "name": "stdout",
     "output_type": "stream",
     "text": [
      "\r",
      " [*******  30%           ] Elapsed 0.31s / Remaining 00:00:00:00"
     ]
    },
    {
     "name": "stdout",
     "output_type": "stream",
     "text": [
      "\r",
      " [*******  31%           ] Elapsed 0.31s / Remaining 00:00:00:00"
     ]
    },
    {
     "name": "stdout",
     "output_type": "stream",
     "text": [
      "\r",
      " [*******  31%           ] Elapsed 0.32s / Remaining 00:00:00:00"
     ]
    },
    {
     "name": "stdout",
     "output_type": "stream",
     "text": [
      "\r",
      " [*******  31%           ] Elapsed 0.32s / Remaining 00:00:00:00"
     ]
    },
    {
     "name": "stdout",
     "output_type": "stream",
     "text": [
      "\r",
      " [*******  31%           ] Elapsed 0.32s / Remaining 00:00:00:00"
     ]
    },
    {
     "name": "stdout",
     "output_type": "stream",
     "text": [
      "\r",
      " [*******  31%           ] Elapsed 0.32s / Remaining 00:00:00:00"
     ]
    },
    {
     "name": "stdout",
     "output_type": "stream",
     "text": [
      "\r",
      " [*******  31%           ] Elapsed 0.32s / Remaining 00:00:00:00"
     ]
    },
    {
     "name": "stdout",
     "output_type": "stream",
     "text": [
      "\r",
      " [*******  31%           ] Elapsed 0.32s / Remaining 00:00:00:00"
     ]
    },
    {
     "name": "stdout",
     "output_type": "stream",
     "text": [
      "\r",
      " [*******  31%           ] Elapsed 0.32s / Remaining 00:00:00:00"
     ]
    },
    {
     "name": "stdout",
     "output_type": "stream",
     "text": [
      "\r",
      " [*******  31%           ] Elapsed 0.32s / Remaining 00:00:00:00"
     ]
    },
    {
     "name": "stdout",
     "output_type": "stream",
     "text": [
      "\r",
      " [*******  31%           ] Elapsed 0.33s / Remaining 00:00:00:00"
     ]
    },
    {
     "name": "stdout",
     "output_type": "stream",
     "text": [
      "\r",
      " [*******  32%           ] Elapsed 0.33s / Remaining 00:00:00:00"
     ]
    },
    {
     "name": "stdout",
     "output_type": "stream",
     "text": [
      "\r",
      " [*******  32%           ] Elapsed 0.33s / Remaining 00:00:00:00"
     ]
    },
    {
     "name": "stdout",
     "output_type": "stream",
     "text": [
      "\r",
      " [*******  32%           ] Elapsed 0.33s / Remaining 00:00:00:00"
     ]
    },
    {
     "name": "stdout",
     "output_type": "stream",
     "text": [
      "\r",
      " [*******  32%           ] Elapsed 0.33s / Remaining 00:00:00:00"
     ]
    },
    {
     "name": "stdout",
     "output_type": "stream",
     "text": [
      "\r",
      " [*******  32%           ] Elapsed 0.33s / Remaining 00:00:00:00"
     ]
    },
    {
     "name": "stdout",
     "output_type": "stream",
     "text": [
      "\r",
      " [*******  32%           ] Elapsed 0.33s / Remaining 00:00:00:00"
     ]
    },
    {
     "name": "stdout",
     "output_type": "stream",
     "text": [
      "\r",
      " [*******  32%           ] Elapsed 0.33s / Remaining 00:00:00:00"
     ]
    },
    {
     "name": "stdout",
     "output_type": "stream",
     "text": [
      "\r",
      " [*******  32%           ] Elapsed 0.33s / Remaining 00:00:00:00"
     ]
    },
    {
     "name": "stdout",
     "output_type": "stream",
     "text": [
      "\r",
      " [*******  32%           ] Elapsed 0.33s / Remaining 00:00:00:00"
     ]
    },
    {
     "name": "stdout",
     "output_type": "stream",
     "text": [
      "\r",
      " [*******  32%           ] Elapsed 0.34s / Remaining 00:00:00:00"
     ]
    },
    {
     "name": "stdout",
     "output_type": "stream",
     "text": [
      "\r",
      " [******** 33%           ] Elapsed 0.34s / Remaining 00:00:00:00"
     ]
    },
    {
     "name": "stdout",
     "output_type": "stream",
     "text": [
      "\r",
      " [******** 33%           ] Elapsed 0.34s / Remaining 00:00:00:00"
     ]
    },
    {
     "name": "stdout",
     "output_type": "stream",
     "text": [
      "\r",
      " [******** 33%           ] Elapsed 0.34s / Remaining 00:00:00:00"
     ]
    },
    {
     "name": "stdout",
     "output_type": "stream",
     "text": [
      "\r",
      " [******** 33%           ] Elapsed 0.34s / Remaining 00:00:00:00"
     ]
    },
    {
     "name": "stdout",
     "output_type": "stream",
     "text": [
      "\r",
      " [******** 33%           ] Elapsed 0.34s / Remaining 00:00:00:00"
     ]
    },
    {
     "name": "stdout",
     "output_type": "stream",
     "text": [
      "\r",
      " [******** 33%           ] Elapsed 0.34s / Remaining 00:00:00:00"
     ]
    },
    {
     "name": "stdout",
     "output_type": "stream",
     "text": [
      "\r",
      " [******** 33%           ] Elapsed 0.34s / Remaining 00:00:00:00"
     ]
    },
    {
     "name": "stdout",
     "output_type": "stream",
     "text": [
      "\r",
      " [******** 33%           ] Elapsed 0.34s / Remaining 00:00:00:00"
     ]
    },
    {
     "name": "stdout",
     "output_type": "stream",
     "text": [
      "\r",
      " [******** 33%           ] Elapsed 0.35s / Remaining 00:00:00:00"
     ]
    },
    {
     "name": "stdout",
     "output_type": "stream",
     "text": [
      "\r",
      " [******** 33%           ] Elapsed 0.35s / Remaining 00:00:00:00"
     ]
    },
    {
     "name": "stdout",
     "output_type": "stream",
     "text": [
      "\r",
      " [******** 34%           ] Elapsed 0.35s / Remaining 00:00:00:00"
     ]
    },
    {
     "name": "stdout",
     "output_type": "stream",
     "text": [
      "\r",
      " [******** 34%           ] Elapsed 0.35s / Remaining 00:00:00:00"
     ]
    },
    {
     "name": "stdout",
     "output_type": "stream",
     "text": [
      "\r",
      " [******** 34%           ] Elapsed 0.35s / Remaining 00:00:00:00"
     ]
    },
    {
     "name": "stdout",
     "output_type": "stream",
     "text": [
      "\r",
      " [******** 34%           ] Elapsed 0.35s / Remaining 00:00:00:00"
     ]
    },
    {
     "name": "stdout",
     "output_type": "stream",
     "text": [
      "\r",
      " [******** 34%           ] Elapsed 0.35s / Remaining 00:00:00:00"
     ]
    },
    {
     "name": "stdout",
     "output_type": "stream",
     "text": [
      "\r",
      " [******** 34%           ] Elapsed 0.35s / Remaining 00:00:00:00"
     ]
    },
    {
     "name": "stdout",
     "output_type": "stream",
     "text": [
      "\r",
      " [******** 34%           ] Elapsed 0.35s / Remaining 00:00:00:00"
     ]
    },
    {
     "name": "stdout",
     "output_type": "stream",
     "text": [
      "\r",
      " [******** 34%           ] Elapsed 0.36s / Remaining 00:00:00:00"
     ]
    },
    {
     "name": "stdout",
     "output_type": "stream",
     "text": [
      "\r",
      " [******** 34%           ] Elapsed 0.36s / Remaining 00:00:00:00"
     ]
    },
    {
     "name": "stdout",
     "output_type": "stream",
     "text": [
      "\r",
      " [******** 34%           ] Elapsed 0.36s / Remaining 00:00:00:00"
     ]
    },
    {
     "name": "stdout",
     "output_type": "stream",
     "text": [
      "\r",
      " [******** 35%           ] Elapsed 0.36s / Remaining 00:00:00:00"
     ]
    },
    {
     "name": "stdout",
     "output_type": "stream",
     "text": [
      "\r",
      " [******** 35%           ] Elapsed 0.36s / Remaining 00:00:00:00"
     ]
    },
    {
     "name": "stdout",
     "output_type": "stream",
     "text": [
      "\r",
      " [******** 35%           ] Elapsed 0.36s / Remaining 00:00:00:00"
     ]
    },
    {
     "name": "stdout",
     "output_type": "stream",
     "text": [
      "\r",
      " [******** 35%           ] Elapsed 0.36s / Remaining 00:00:00:00"
     ]
    },
    {
     "name": "stdout",
     "output_type": "stream",
     "text": [
      "\r",
      " [******** 35%           ] Elapsed 0.36s / Remaining 00:00:00:00"
     ]
    },
    {
     "name": "stdout",
     "output_type": "stream",
     "text": [
      "\r",
      " [******** 35%           ] Elapsed 0.36s / Remaining 00:00:00:00"
     ]
    },
    {
     "name": "stdout",
     "output_type": "stream",
     "text": [
      "\r",
      " [******** 35%           ] Elapsed 0.37s / Remaining 00:00:00:00"
     ]
    },
    {
     "name": "stdout",
     "output_type": "stream",
     "text": [
      "\r",
      " [******** 35%           ] Elapsed 0.37s / Remaining 00:00:00:00"
     ]
    },
    {
     "name": "stdout",
     "output_type": "stream",
     "text": [
      "\r",
      " [******** 35%           ] Elapsed 0.37s / Remaining 00:00:00:00"
     ]
    },
    {
     "name": "stdout",
     "output_type": "stream",
     "text": [
      "\r",
      " [******** 35%           ] Elapsed 0.37s / Remaining 00:00:00:00"
     ]
    },
    {
     "name": "stdout",
     "output_type": "stream",
     "text": [
      "\r",
      " [******** 36%           ] Elapsed 0.37s / Remaining 00:00:00:00"
     ]
    },
    {
     "name": "stdout",
     "output_type": "stream",
     "text": [
      "\r",
      " [******** 36%           ] Elapsed 0.37s / Remaining 00:00:00:00"
     ]
    },
    {
     "name": "stdout",
     "output_type": "stream",
     "text": [
      "\r",
      " [******** 36%           ] Elapsed 0.37s / Remaining 00:00:00:00"
     ]
    },
    {
     "name": "stdout",
     "output_type": "stream",
     "text": [
      "\r",
      " [******** 36%           ] Elapsed 0.37s / Remaining 00:00:00:00"
     ]
    },
    {
     "name": "stdout",
     "output_type": "stream",
     "text": [
      "\r",
      " [******** 36%           ] Elapsed 0.37s / Remaining 00:00:00:00"
     ]
    },
    {
     "name": "stdout",
     "output_type": "stream",
     "text": [
      "\r",
      " [******** 36%           ] Elapsed 0.37s / Remaining 00:00:00:00"
     ]
    },
    {
     "name": "stdout",
     "output_type": "stream",
     "text": [
      "\r",
      " [******** 36%           ] Elapsed 0.38s / Remaining 00:00:00:00"
     ]
    },
    {
     "name": "stdout",
     "output_type": "stream",
     "text": [
      "\r",
      " [******** 36%           ] Elapsed 0.38s / Remaining 00:00:00:00"
     ]
    },
    {
     "name": "stdout",
     "output_type": "stream",
     "text": [
      "\r",
      " [******** 36%           ] Elapsed 0.38s / Remaining 00:00:00:00"
     ]
    },
    {
     "name": "stdout",
     "output_type": "stream",
     "text": [
      "\r",
      " [******** 36%           ] Elapsed 0.38s / Remaining 00:00:00:00"
     ]
    },
    {
     "name": "stdout",
     "output_type": "stream",
     "text": [
      "\r",
      " [*********37%           ] Elapsed 0.38s / Remaining 00:00:00:00"
     ]
    },
    {
     "name": "stdout",
     "output_type": "stream",
     "text": [
      "\r",
      " [*********37%           ] Elapsed 0.38s / Remaining 00:00:00:00"
     ]
    },
    {
     "name": "stdout",
     "output_type": "stream",
     "text": [
      "\r",
      " [*********37%           ] Elapsed 0.38s / Remaining 00:00:00:00"
     ]
    },
    {
     "name": "stdout",
     "output_type": "stream",
     "text": [
      "\r",
      " [*********37%           ] Elapsed 0.38s / Remaining 00:00:00:00"
     ]
    },
    {
     "name": "stdout",
     "output_type": "stream",
     "text": [
      "\r",
      " [*********37%           ] Elapsed 0.38s / Remaining 00:00:00:00"
     ]
    },
    {
     "name": "stdout",
     "output_type": "stream",
     "text": [
      "\r",
      " [*********37%           ] Elapsed 0.39s / Remaining 00:00:00:00"
     ]
    },
    {
     "name": "stdout",
     "output_type": "stream",
     "text": [
      "\r",
      " [*********37%           ] Elapsed 0.39s / Remaining 00:00:00:00"
     ]
    },
    {
     "name": "stdout",
     "output_type": "stream",
     "text": [
      "\r",
      " [*********37%           ] Elapsed 0.39s / Remaining 00:00:00:00"
     ]
    },
    {
     "name": "stdout",
     "output_type": "stream",
     "text": [
      "\r",
      " [*********37%           ] Elapsed 0.39s / Remaining 00:00:00:00"
     ]
    },
    {
     "name": "stdout",
     "output_type": "stream",
     "text": [
      "\r",
      " [*********37%           ] Elapsed 0.39s / Remaining 00:00:00:00"
     ]
    },
    {
     "name": "stdout",
     "output_type": "stream",
     "text": [
      "\r",
      " [*********38%           ] Elapsed 0.39s / Remaining 00:00:00:00"
     ]
    },
    {
     "name": "stdout",
     "output_type": "stream",
     "text": [
      "\r",
      " [*********38%           ] Elapsed 0.39s / Remaining 00:00:00:00"
     ]
    },
    {
     "name": "stdout",
     "output_type": "stream",
     "text": [
      "\r",
      " [*********38%           ] Elapsed 0.39s / Remaining 00:00:00:00"
     ]
    },
    {
     "name": "stdout",
     "output_type": "stream",
     "text": [
      "\r",
      " [*********38%           ] Elapsed 0.39s / Remaining 00:00:00:00"
     ]
    },
    {
     "name": "stdout",
     "output_type": "stream",
     "text": [
      "\r",
      " [*********38%           ] Elapsed 0.40s / Remaining 00:00:00:00"
     ]
    },
    {
     "name": "stdout",
     "output_type": "stream",
     "text": [
      "\r",
      " [*********38%           ] Elapsed 0.40s / Remaining 00:00:00:00"
     ]
    },
    {
     "name": "stdout",
     "output_type": "stream",
     "text": [
      "\r",
      " [*********38%           ] Elapsed 0.40s / Remaining 00:00:00:00"
     ]
    },
    {
     "name": "stdout",
     "output_type": "stream",
     "text": [
      "\r",
      " [*********38%           ] Elapsed 0.40s / Remaining 00:00:00:00"
     ]
    },
    {
     "name": "stdout",
     "output_type": "stream",
     "text": [
      "\r",
      " [*********38%           ] Elapsed 0.40s / Remaining 00:00:00:00"
     ]
    },
    {
     "name": "stdout",
     "output_type": "stream",
     "text": [
      "\r",
      " [*********38%           ] Elapsed 0.40s / Remaining 00:00:00:00"
     ]
    },
    {
     "name": "stdout",
     "output_type": "stream",
     "text": [
      "\r",
      " [*********39%           ] Elapsed 0.40s / Remaining 00:00:00:00"
     ]
    },
    {
     "name": "stdout",
     "output_type": "stream",
     "text": [
      "\r",
      " [*********39%           ] Elapsed 0.40s / Remaining 00:00:00:00"
     ]
    },
    {
     "name": "stdout",
     "output_type": "stream",
     "text": [
      "\r",
      " [*********39%           ] Elapsed 0.40s / Remaining 00:00:00:00"
     ]
    },
    {
     "name": "stdout",
     "output_type": "stream",
     "text": [
      "\r",
      " [*********39%           ] Elapsed 0.40s / Remaining 00:00:00:00"
     ]
    },
    {
     "name": "stdout",
     "output_type": "stream",
     "text": [
      "\r",
      " [*********39%           ] Elapsed 0.41s / Remaining 00:00:00:00"
     ]
    },
    {
     "name": "stdout",
     "output_type": "stream",
     "text": [
      "\r",
      " [*********39%           ] Elapsed 0.41s / Remaining 00:00:00:00"
     ]
    },
    {
     "name": "stdout",
     "output_type": "stream",
     "text": [
      "\r",
      " [*********39%           ] Elapsed 0.41s / Remaining 00:00:00:00"
     ]
    },
    {
     "name": "stdout",
     "output_type": "stream",
     "text": [
      "\r",
      " [*********39%           ] Elapsed 0.41s / Remaining 00:00:00:00"
     ]
    },
    {
     "name": "stdout",
     "output_type": "stream",
     "text": [
      "\r",
      " [*********39%           ] Elapsed 0.41s / Remaining 00:00:00:00"
     ]
    },
    {
     "name": "stdout",
     "output_type": "stream",
     "text": [
      "\r",
      " [*********39%           ] Elapsed 0.41s / Remaining 00:00:00:00"
     ]
    },
    {
     "name": "stdout",
     "output_type": "stream",
     "text": [
      "\r",
      " [*********40%           ] Elapsed 0.41s / Remaining 00:00:00:00"
     ]
    },
    {
     "name": "stdout",
     "output_type": "stream",
     "text": [
      "\r",
      " [*********40%           ] Elapsed 0.41s / Remaining 00:00:00:00"
     ]
    },
    {
     "name": "stdout",
     "output_type": "stream",
     "text": [
      "\r",
      " [*********40%           ] Elapsed 0.41s / Remaining 00:00:00:00"
     ]
    },
    {
     "name": "stdout",
     "output_type": "stream",
     "text": [
      "\r",
      " [*********40%           ] Elapsed 0.42s / Remaining 00:00:00:00"
     ]
    },
    {
     "name": "stdout",
     "output_type": "stream",
     "text": [
      "\r",
      " [*********40%           ] Elapsed 0.42s / Remaining 00:00:00:00"
     ]
    },
    {
     "name": "stdout",
     "output_type": "stream",
     "text": [
      "\r",
      " [*********40%           ] Elapsed 0.42s / Remaining 00:00:00:00"
     ]
    },
    {
     "name": "stdout",
     "output_type": "stream",
     "text": [
      "\r",
      " [*********40%           ] Elapsed 0.42s / Remaining 00:00:00:00"
     ]
    },
    {
     "name": "stdout",
     "output_type": "stream",
     "text": [
      "\r",
      " [*********40%           ] Elapsed 0.42s / Remaining 00:00:00:00"
     ]
    },
    {
     "name": "stdout",
     "output_type": "stream",
     "text": [
      "\r",
      " [*********40%           ] Elapsed 0.42s / Remaining 00:00:00:00"
     ]
    },
    {
     "name": "stdout",
     "output_type": "stream",
     "text": [
      "\r",
      " [*********40%           ] Elapsed 0.42s / Remaining 00:00:00:00"
     ]
    },
    {
     "name": "stdout",
     "output_type": "stream",
     "text": [
      "\r",
      " [*********41%           ] Elapsed 0.42s / Remaining 00:00:00:00"
     ]
    },
    {
     "name": "stdout",
     "output_type": "stream",
     "text": [
      "\r",
      " [*********41%           ] Elapsed 0.42s / Remaining 00:00:00:00"
     ]
    },
    {
     "name": "stdout",
     "output_type": "stream",
     "text": [
      "\r",
      " [*********41%           ] Elapsed 0.43s / Remaining 00:00:00:00"
     ]
    },
    {
     "name": "stdout",
     "output_type": "stream",
     "text": [
      "\r",
      " [*********41%           ] Elapsed 0.43s / Remaining 00:00:00:00"
     ]
    },
    {
     "name": "stdout",
     "output_type": "stream",
     "text": [
      "\r",
      " [*********41%           ] Elapsed 0.43s / Remaining 00:00:00:00"
     ]
    },
    {
     "name": "stdout",
     "output_type": "stream",
     "text": [
      "\r",
      " [*********41%           ] Elapsed 0.43s / Remaining 00:00:00:00"
     ]
    },
    {
     "name": "stdout",
     "output_type": "stream",
     "text": [
      "\r",
      " [*********41%           ] Elapsed 0.43s / Remaining 00:00:00:00"
     ]
    },
    {
     "name": "stdout",
     "output_type": "stream",
     "text": [
      "\r",
      " [*********41%           ] Elapsed 0.43s / Remaining 00:00:00:00"
     ]
    },
    {
     "name": "stdout",
     "output_type": "stream",
     "text": [
      "\r",
      " [*********41%           ] Elapsed 0.43s / Remaining 00:00:00:00"
     ]
    },
    {
     "name": "stdout",
     "output_type": "stream",
     "text": [
      "\r",
      " [*********41%           ] Elapsed 0.43s / Remaining 00:00:00:00"
     ]
    },
    {
     "name": "stdout",
     "output_type": "stream",
     "text": [
      "\r",
      " [*********42%           ] Elapsed 0.43s / Remaining 00:00:00:00"
     ]
    },
    {
     "name": "stdout",
     "output_type": "stream",
     "text": [
      "\r",
      " [*********42%           ] Elapsed 0.44s / Remaining 00:00:00:00"
     ]
    },
    {
     "name": "stdout",
     "output_type": "stream",
     "text": [
      "\r",
      " [*********42%           ] Elapsed 0.44s / Remaining 00:00:00:00"
     ]
    },
    {
     "name": "stdout",
     "output_type": "stream",
     "text": [
      "\r",
      " [*********42%           ] Elapsed 0.44s / Remaining 00:00:00:00"
     ]
    },
    {
     "name": "stdout",
     "output_type": "stream",
     "text": [
      "\r",
      " [*********42%           ] Elapsed 0.44s / Remaining 00:00:00:00"
     ]
    },
    {
     "name": "stdout",
     "output_type": "stream",
     "text": [
      "\r",
      " [*********42%           ] Elapsed 0.44s / Remaining 00:00:00:00"
     ]
    },
    {
     "name": "stdout",
     "output_type": "stream",
     "text": [
      "\r",
      " [*********42%           ] Elapsed 0.44s / Remaining 00:00:00:00"
     ]
    },
    {
     "name": "stdout",
     "output_type": "stream",
     "text": [
      "\r",
      " [*********42%           ] Elapsed 0.44s / Remaining 00:00:00:00"
     ]
    },
    {
     "name": "stdout",
     "output_type": "stream",
     "text": [
      "\r",
      " [*********42%           ] Elapsed 0.44s / Remaining 00:00:00:00"
     ]
    },
    {
     "name": "stdout",
     "output_type": "stream",
     "text": [
      "\r",
      " [*********42%           ] Elapsed 0.45s / Remaining 00:00:00:00"
     ]
    },
    {
     "name": "stdout",
     "output_type": "stream",
     "text": [
      "\r",
      " [*********43%           ] Elapsed 0.45s / Remaining 00:00:00:00"
     ]
    },
    {
     "name": "stdout",
     "output_type": "stream",
     "text": [
      "\r",
      " [*********43%           ] Elapsed 0.45s / Remaining 00:00:00:00"
     ]
    },
    {
     "name": "stdout",
     "output_type": "stream",
     "text": [
      "\r",
      " [*********43%           ] Elapsed 0.45s / Remaining 00:00:00:00"
     ]
    },
    {
     "name": "stdout",
     "output_type": "stream",
     "text": [
      "\r",
      " [*********43%           ] Elapsed 0.45s / Remaining 00:00:00:00"
     ]
    },
    {
     "name": "stdout",
     "output_type": "stream",
     "text": [
      "\r",
      " [*********43%           ] Elapsed 0.45s / Remaining 00:00:00:00"
     ]
    },
    {
     "name": "stdout",
     "output_type": "stream",
     "text": [
      "\r",
      " [*********43%           ] Elapsed 0.45s / Remaining 00:00:00:00"
     ]
    },
    {
     "name": "stdout",
     "output_type": "stream",
     "text": [
      "\r",
      " [*********43%           ] Elapsed 0.45s / Remaining 00:00:00:00"
     ]
    },
    {
     "name": "stdout",
     "output_type": "stream",
     "text": [
      "\r",
      " [*********43%           ] Elapsed 0.45s / Remaining 00:00:00:00"
     ]
    },
    {
     "name": "stdout",
     "output_type": "stream",
     "text": [
      "\r",
      " [*********43%           ] Elapsed 0.46s / Remaining 00:00:00:00"
     ]
    },
    {
     "name": "stdout",
     "output_type": "stream",
     "text": [
      "\r",
      " [*********43%           ] Elapsed 0.46s / Remaining 00:00:00:00"
     ]
    },
    {
     "name": "stdout",
     "output_type": "stream",
     "text": [
      "\r",
      " [*********44%           ] Elapsed 0.46s / Remaining 00:00:00:00"
     ]
    },
    {
     "name": "stdout",
     "output_type": "stream",
     "text": [
      "\r",
      " [*********44%           ] Elapsed 0.46s / Remaining 00:00:00:00"
     ]
    },
    {
     "name": "stdout",
     "output_type": "stream",
     "text": [
      "\r",
      " [*********44%           ] Elapsed 0.46s / Remaining 00:00:00:00"
     ]
    },
    {
     "name": "stdout",
     "output_type": "stream",
     "text": [
      "\r",
      " [*********44%           ] Elapsed 0.46s / Remaining 00:00:00:00"
     ]
    },
    {
     "name": "stdout",
     "output_type": "stream",
     "text": [
      "\r",
      " [*********44%           ] Elapsed 0.46s / Remaining 00:00:00:00"
     ]
    },
    {
     "name": "stdout",
     "output_type": "stream",
     "text": [
      "\r",
      " [*********44%           ] Elapsed 0.46s / Remaining 00:00:00:00"
     ]
    },
    {
     "name": "stdout",
     "output_type": "stream",
     "text": [
      "\r",
      " [*********44%           ] Elapsed 0.46s / Remaining 00:00:00:00"
     ]
    },
    {
     "name": "stdout",
     "output_type": "stream",
     "text": [
      "\r",
      " [*********44%           ] Elapsed 0.46s / Remaining 00:00:00:00"
     ]
    },
    {
     "name": "stdout",
     "output_type": "stream",
     "text": [
      "\r",
      " [*********44%           ] Elapsed 0.47s / Remaining 00:00:00:00"
     ]
    },
    {
     "name": "stdout",
     "output_type": "stream",
     "text": [
      "\r",
      " [*********44%           ] Elapsed 0.47s / Remaining 00:00:00:00"
     ]
    },
    {
     "name": "stdout",
     "output_type": "stream",
     "text": [
      "\r",
      " [*********45%           ] Elapsed 0.47s / Remaining 00:00:00:00"
     ]
    },
    {
     "name": "stdout",
     "output_type": "stream",
     "text": [
      "\r",
      " [*********45%           ] Elapsed 0.47s / Remaining 00:00:00:00"
     ]
    },
    {
     "name": "stdout",
     "output_type": "stream",
     "text": [
      "\r",
      " [*********45%           ] Elapsed 0.47s / Remaining 00:00:00:00"
     ]
    },
    {
     "name": "stdout",
     "output_type": "stream",
     "text": [
      "\r",
      " [*********45%           ] Elapsed 0.47s / Remaining 00:00:00:00"
     ]
    },
    {
     "name": "stdout",
     "output_type": "stream",
     "text": [
      "\r",
      " [*********45%           ] Elapsed 0.47s / Remaining 00:00:00:00"
     ]
    },
    {
     "name": "stdout",
     "output_type": "stream",
     "text": [
      "\r",
      " [*********45%           ] Elapsed 0.47s / Remaining 00:00:00:00"
     ]
    },
    {
     "name": "stdout",
     "output_type": "stream",
     "text": [
      "\r",
      " [*********45%           ] Elapsed 0.47s / Remaining 00:00:00:00"
     ]
    },
    {
     "name": "stdout",
     "output_type": "stream",
     "text": [
      "\r",
      " [*********45%           ] Elapsed 0.48s / Remaining 00:00:00:00"
     ]
    },
    {
     "name": "stdout",
     "output_type": "stream",
     "text": [
      "\r",
      " [*********45%           ] Elapsed 0.48s / Remaining 00:00:00:00"
     ]
    },
    {
     "name": "stdout",
     "output_type": "stream",
     "text": [
      "\r",
      " [*********45%           ] Elapsed 0.48s / Remaining 00:00:00:00"
     ]
    },
    {
     "name": "stdout",
     "output_type": "stream",
     "text": [
      "\r",
      " [*********46%           ] Elapsed 0.48s / Remaining 00:00:00:00"
     ]
    },
    {
     "name": "stdout",
     "output_type": "stream",
     "text": [
      "\r",
      " [*********46%           ] Elapsed 0.48s / Remaining 00:00:00:00"
     ]
    },
    {
     "name": "stdout",
     "output_type": "stream",
     "text": [
      "\r",
      " [*********46%           ] Elapsed 0.48s / Remaining 00:00:00:00"
     ]
    },
    {
     "name": "stdout",
     "output_type": "stream",
     "text": [
      "\r",
      " [*********46%           ] Elapsed 0.48s / Remaining 00:00:00:00"
     ]
    },
    {
     "name": "stdout",
     "output_type": "stream",
     "text": [
      "\r",
      " [*********46%           ] Elapsed 0.48s / Remaining 00:00:00:00"
     ]
    },
    {
     "name": "stdout",
     "output_type": "stream",
     "text": [
      "\r",
      " [*********46%           ] Elapsed 0.48s / Remaining 00:00:00:00"
     ]
    },
    {
     "name": "stdout",
     "output_type": "stream",
     "text": [
      "\r",
      " [*********46%           ] Elapsed 0.48s / Remaining 00:00:00:00"
     ]
    },
    {
     "name": "stdout",
     "output_type": "stream",
     "text": [
      "\r",
      " [*********46%           ] Elapsed 0.49s / Remaining 00:00:00:00"
     ]
    },
    {
     "name": "stdout",
     "output_type": "stream",
     "text": [
      "\r",
      " [*********46%           ] Elapsed 0.49s / Remaining 00:00:00:00"
     ]
    },
    {
     "name": "stdout",
     "output_type": "stream",
     "text": [
      "\r",
      " [*********46%           ] Elapsed 0.49s / Remaining 00:00:00:00"
     ]
    },
    {
     "name": "stdout",
     "output_type": "stream",
     "text": [
      "\r",
      " [*********47%           ] Elapsed 0.49s / Remaining 00:00:00:00"
     ]
    },
    {
     "name": "stdout",
     "output_type": "stream",
     "text": [
      "\r",
      " [*********47%           ] Elapsed 0.49s / Remaining 00:00:00:00"
     ]
    },
    {
     "name": "stdout",
     "output_type": "stream",
     "text": [
      "\r",
      " [*********47%           ] Elapsed 0.49s / Remaining 00:00:00:00"
     ]
    },
    {
     "name": "stdout",
     "output_type": "stream",
     "text": [
      "\r",
      " [*********47%           ] Elapsed 0.49s / Remaining 00:00:00:00"
     ]
    },
    {
     "name": "stdout",
     "output_type": "stream",
     "text": [
      "\r",
      " [*********47%           ] Elapsed 0.49s / Remaining 00:00:00:00"
     ]
    },
    {
     "name": "stdout",
     "output_type": "stream",
     "text": [
      "\r",
      " [*********47%           ] Elapsed 0.49s / Remaining 00:00:00:00"
     ]
    },
    {
     "name": "stdout",
     "output_type": "stream",
     "text": [
      "\r",
      " [*********47%           ] Elapsed 0.50s / Remaining 00:00:00:00"
     ]
    },
    {
     "name": "stdout",
     "output_type": "stream",
     "text": [
      "\r",
      " [*********47%           ] Elapsed 0.50s / Remaining 00:00:00:00"
     ]
    },
    {
     "name": "stdout",
     "output_type": "stream",
     "text": [
      "\r",
      " [*********47%           ] Elapsed 0.50s / Remaining 00:00:00:00"
     ]
    },
    {
     "name": "stdout",
     "output_type": "stream",
     "text": [
      "\r",
      " [*********47%           ] Elapsed 0.50s / Remaining 00:00:00:00"
     ]
    },
    {
     "name": "stdout",
     "output_type": "stream",
     "text": [
      "\r",
      " [*********48%           ] Elapsed 0.50s / Remaining 00:00:00:00"
     ]
    },
    {
     "name": "stdout",
     "output_type": "stream",
     "text": [
      "\r",
      " [*********48%           ] Elapsed 0.50s / Remaining 00:00:00:00"
     ]
    },
    {
     "name": "stdout",
     "output_type": "stream",
     "text": [
      "\r",
      " [*********48%           ] Elapsed 0.50s / Remaining 00:00:00:00"
     ]
    },
    {
     "name": "stdout",
     "output_type": "stream",
     "text": [
      "\r",
      " [*********48%           ] Elapsed 0.50s / Remaining 00:00:00:00"
     ]
    },
    {
     "name": "stdout",
     "output_type": "stream",
     "text": [
      "\r",
      " [*********48%           ] Elapsed 0.50s / Remaining 00:00:00:00"
     ]
    },
    {
     "name": "stdout",
     "output_type": "stream",
     "text": [
      "\r",
      " [*********48%           ] Elapsed 0.51s / Remaining 00:00:00:00"
     ]
    },
    {
     "name": "stdout",
     "output_type": "stream",
     "text": [
      "\r",
      " [*********48%           ] Elapsed 0.51s / Remaining 00:00:00:00"
     ]
    },
    {
     "name": "stdout",
     "output_type": "stream",
     "text": [
      "\r",
      " [*********48%           ] Elapsed 0.51s / Remaining 00:00:00:00"
     ]
    },
    {
     "name": "stdout",
     "output_type": "stream",
     "text": [
      "\r",
      " [*********48%           ] Elapsed 0.51s / Remaining 00:00:00:00"
     ]
    },
    {
     "name": "stdout",
     "output_type": "stream",
     "text": [
      "\r",
      " [*********48%           ] Elapsed 0.51s / Remaining 00:00:00:00"
     ]
    },
    {
     "name": "stdout",
     "output_type": "stream",
     "text": [
      "\r",
      " [*********49%           ] Elapsed 0.51s / Remaining 00:00:00:00"
     ]
    },
    {
     "name": "stdout",
     "output_type": "stream",
     "text": [
      "\r",
      " [*********49%           ] Elapsed 0.51s / Remaining 00:00:00:00"
     ]
    },
    {
     "name": "stdout",
     "output_type": "stream",
     "text": [
      "\r",
      " [*********49%           ] Elapsed 0.51s / Remaining 00:00:00:00"
     ]
    },
    {
     "name": "stdout",
     "output_type": "stream",
     "text": [
      "\r",
      " [*********49%           ] Elapsed 0.51s / Remaining 00:00:00:00"
     ]
    },
    {
     "name": "stdout",
     "output_type": "stream",
     "text": [
      "\r",
      " [*********49%           ] Elapsed 0.52s / Remaining 00:00:00:00"
     ]
    },
    {
     "name": "stdout",
     "output_type": "stream",
     "text": [
      "\r",
      " [*********49%           ] Elapsed 0.52s / Remaining 00:00:00:00"
     ]
    },
    {
     "name": "stdout",
     "output_type": "stream",
     "text": [
      "\r",
      " [*********49%           ] Elapsed 0.52s / Remaining 00:00:00:00"
     ]
    },
    {
     "name": "stdout",
     "output_type": "stream",
     "text": [
      "\r",
      " [*********49%           ] Elapsed 0.52s / Remaining 00:00:00:00"
     ]
    },
    {
     "name": "stdout",
     "output_type": "stream",
     "text": [
      "\r",
      " [*********49%           ] Elapsed 0.52s / Remaining 00:00:00:00"
     ]
    },
    {
     "name": "stdout",
     "output_type": "stream",
     "text": [
      "\r",
      " [*********49%           ] Elapsed 0.52s / Remaining 00:00:00:00"
     ]
    },
    {
     "name": "stdout",
     "output_type": "stream",
     "text": [
      "\r",
      " [*********50%           ] Elapsed 0.52s / Remaining 00:00:00:00"
     ]
    },
    {
     "name": "stdout",
     "output_type": "stream",
     "text": [
      "\r",
      " [*********50%           ] Elapsed 0.52s / Remaining 00:00:00:00"
     ]
    },
    {
     "name": "stdout",
     "output_type": "stream",
     "text": [
      "\r",
      " [*********50%           ] Elapsed 0.52s / Remaining 00:00:00:00"
     ]
    },
    {
     "name": "stdout",
     "output_type": "stream",
     "text": [
      "\r",
      " [*********50%           ] Elapsed 0.53s / Remaining 00:00:00:00"
     ]
    },
    {
     "name": "stdout",
     "output_type": "stream",
     "text": [
      "\r",
      " [*********50%           ] Elapsed 0.53s / Remaining 00:00:00:00"
     ]
    },
    {
     "name": "stdout",
     "output_type": "stream",
     "text": [
      "\r",
      " [*********50%           ] Elapsed 0.53s / Remaining 00:00:00:00"
     ]
    },
    {
     "name": "stdout",
     "output_type": "stream",
     "text": [
      "\r",
      " [*********50%           ] Elapsed 0.53s / Remaining 00:00:00:00"
     ]
    },
    {
     "name": "stdout",
     "output_type": "stream",
     "text": [
      "\r",
      " [*********50%           ] Elapsed 0.53s / Remaining 00:00:00:00"
     ]
    },
    {
     "name": "stdout",
     "output_type": "stream",
     "text": [
      "\r",
      " [*********50%           ] Elapsed 0.53s / Remaining 00:00:00:00"
     ]
    },
    {
     "name": "stdout",
     "output_type": "stream",
     "text": [
      "\r",
      " [*********50%           ] Elapsed 0.53s / Remaining 00:00:00:00"
     ]
    },
    {
     "name": "stdout",
     "output_type": "stream",
     "text": [
      "\r",
      " [*********51%           ] Elapsed 0.53s / Remaining 00:00:00:00"
     ]
    },
    {
     "name": "stdout",
     "output_type": "stream",
     "text": [
      "\r",
      " [*********51%           ] Elapsed 0.53s / Remaining 00:00:00:00"
     ]
    },
    {
     "name": "stdout",
     "output_type": "stream",
     "text": [
      "\r",
      " [*********51%           ] Elapsed 0.54s / Remaining 00:00:00:00"
     ]
    },
    {
     "name": "stdout",
     "output_type": "stream",
     "text": [
      "\r",
      " [*********51%           ] Elapsed 0.54s / Remaining 00:00:00:00"
     ]
    },
    {
     "name": "stdout",
     "output_type": "stream",
     "text": [
      "\r",
      " [*********51%           ] Elapsed 0.54s / Remaining 00:00:00:00"
     ]
    },
    {
     "name": "stdout",
     "output_type": "stream",
     "text": [
      "\r",
      " [*********51%           ] Elapsed 0.54s / Remaining 00:00:00:00"
     ]
    },
    {
     "name": "stdout",
     "output_type": "stream",
     "text": [
      "\r",
      " [*********51%           ] Elapsed 0.54s / Remaining 00:00:00:00"
     ]
    },
    {
     "name": "stdout",
     "output_type": "stream",
     "text": [
      "\r",
      " [*********51%           ] Elapsed 0.54s / Remaining 00:00:00:00"
     ]
    },
    {
     "name": "stdout",
     "output_type": "stream",
     "text": [
      "\r",
      " [*********51%           ] Elapsed 0.54s / Remaining 00:00:00:00"
     ]
    },
    {
     "name": "stdout",
     "output_type": "stream",
     "text": [
      "\r",
      " [*********51%           ] Elapsed 0.54s / Remaining 00:00:00:00"
     ]
    },
    {
     "name": "stdout",
     "output_type": "stream",
     "text": [
      "\r",
      " [*********52%           ] Elapsed 0.54s / Remaining 00:00:00:00"
     ]
    },
    {
     "name": "stdout",
     "output_type": "stream",
     "text": [
      "\r",
      " [*********52%           ] Elapsed 0.55s / Remaining 00:00:00:00"
     ]
    },
    {
     "name": "stdout",
     "output_type": "stream",
     "text": [
      "\r",
      " [*********52%           ] Elapsed 0.55s / Remaining 00:00:00:00"
     ]
    },
    {
     "name": "stdout",
     "output_type": "stream",
     "text": [
      "\r",
      " [*********52%           ] Elapsed 0.55s / Remaining 00:00:00:00"
     ]
    },
    {
     "name": "stdout",
     "output_type": "stream",
     "text": [
      "\r",
      " [*********52%           ] Elapsed 0.55s / Remaining 00:00:00:00"
     ]
    },
    {
     "name": "stdout",
     "output_type": "stream",
     "text": [
      "\r",
      " [*********52%           ] Elapsed 0.55s / Remaining 00:00:00:00"
     ]
    },
    {
     "name": "stdout",
     "output_type": "stream",
     "text": [
      "\r",
      " [*********52%           ] Elapsed 0.55s / Remaining 00:00:00:00"
     ]
    },
    {
     "name": "stdout",
     "output_type": "stream",
     "text": [
      "\r",
      " [*********52%           ] Elapsed 0.55s / Remaining 00:00:00:00"
     ]
    },
    {
     "name": "stdout",
     "output_type": "stream",
     "text": [
      "\r",
      " [*********52%           ] Elapsed 0.55s / Remaining 00:00:00:00"
     ]
    },
    {
     "name": "stdout",
     "output_type": "stream",
     "text": [
      "\r",
      " [*********52%           ] Elapsed 0.55s / Remaining 00:00:00:00"
     ]
    },
    {
     "name": "stdout",
     "output_type": "stream",
     "text": [
      "\r",
      " [*********53%           ] Elapsed 0.56s / Remaining 00:00:00:00"
     ]
    },
    {
     "name": "stdout",
     "output_type": "stream",
     "text": [
      "\r",
      " [*********53%           ] Elapsed 0.56s / Remaining 00:00:00:00"
     ]
    },
    {
     "name": "stdout",
     "output_type": "stream",
     "text": [
      "\r",
      " [*********53%           ] Elapsed 0.56s / Remaining 00:00:00:00"
     ]
    },
    {
     "name": "stdout",
     "output_type": "stream",
     "text": [
      "\r",
      " [*********53%           ] Elapsed 0.56s / Remaining 00:00:00:00"
     ]
    },
    {
     "name": "stdout",
     "output_type": "stream",
     "text": [
      "\r",
      " [*********53%           ] Elapsed 0.56s / Remaining 00:00:00:00"
     ]
    },
    {
     "name": "stdout",
     "output_type": "stream",
     "text": [
      "\r",
      " [*********53%           ] Elapsed 0.56s / Remaining 00:00:00:00"
     ]
    },
    {
     "name": "stdout",
     "output_type": "stream",
     "text": [
      "\r",
      " [*********53%           ] Elapsed 0.56s / Remaining 00:00:00:00"
     ]
    },
    {
     "name": "stdout",
     "output_type": "stream",
     "text": [
      "\r",
      " [*********53%           ] Elapsed 0.56s / Remaining 00:00:00:00"
     ]
    },
    {
     "name": "stdout",
     "output_type": "stream",
     "text": [
      "\r",
      " [*********53%           ] Elapsed 0.56s / Remaining 00:00:00:00"
     ]
    },
    {
     "name": "stdout",
     "output_type": "stream",
     "text": [
      "\r",
      " [*********53%           ] Elapsed 0.57s / Remaining 00:00:00:00"
     ]
    },
    {
     "name": "stdout",
     "output_type": "stream",
     "text": [
      "\r",
      " [*********54%           ] Elapsed 0.57s / Remaining 00:00:00:00"
     ]
    },
    {
     "name": "stdout",
     "output_type": "stream",
     "text": [
      "\r",
      " [*********54%           ] Elapsed 0.57s / Remaining 00:00:00:00"
     ]
    },
    {
     "name": "stdout",
     "output_type": "stream",
     "text": [
      "\r",
      " [*********54%           ] Elapsed 0.57s / Remaining 00:00:00:00"
     ]
    },
    {
     "name": "stdout",
     "output_type": "stream",
     "text": [
      "\r",
      " [*********54%           ] Elapsed 0.57s / Remaining 00:00:00:00"
     ]
    },
    {
     "name": "stdout",
     "output_type": "stream",
     "text": [
      "\r",
      " [*********54%           ] Elapsed 0.57s / Remaining 00:00:00:00"
     ]
    },
    {
     "name": "stdout",
     "output_type": "stream",
     "text": [
      "\r",
      " [*********54%           ] Elapsed 0.57s / Remaining 00:00:00:00"
     ]
    },
    {
     "name": "stdout",
     "output_type": "stream",
     "text": [
      "\r",
      " [*********54%           ] Elapsed 0.57s / Remaining 00:00:00:00"
     ]
    },
    {
     "name": "stdout",
     "output_type": "stream",
     "text": [
      "\r",
      " [*********54%           ] Elapsed 0.57s / Remaining 00:00:00:00"
     ]
    },
    {
     "name": "stdout",
     "output_type": "stream",
     "text": [
      "\r",
      " [*********54%           ] Elapsed 0.58s / Remaining 00:00:00:00"
     ]
    },
    {
     "name": "stdout",
     "output_type": "stream",
     "text": [
      "\r",
      " [*********54%           ] Elapsed 0.58s / Remaining 00:00:00:00"
     ]
    },
    {
     "name": "stdout",
     "output_type": "stream",
     "text": [
      "\r",
      " [*********55%*          ] Elapsed 0.58s / Remaining 00:00:00:00"
     ]
    },
    {
     "name": "stdout",
     "output_type": "stream",
     "text": [
      "\r",
      " [*********55%*          ] Elapsed 0.58s / Remaining 00:00:00:00"
     ]
    },
    {
     "name": "stdout",
     "output_type": "stream",
     "text": [
      "\r",
      " [*********55%*          ] Elapsed 0.58s / Remaining 00:00:00:00"
     ]
    },
    {
     "name": "stdout",
     "output_type": "stream",
     "text": [
      "\r",
      " [*********55%*          ] Elapsed 0.58s / Remaining 00:00:00:00"
     ]
    },
    {
     "name": "stdout",
     "output_type": "stream",
     "text": [
      "\r",
      " [*********55%*          ] Elapsed 0.58s / Remaining 00:00:00:00"
     ]
    },
    {
     "name": "stdout",
     "output_type": "stream",
     "text": [
      "\r",
      " [*********55%*          ] Elapsed 0.58s / Remaining 00:00:00:00"
     ]
    },
    {
     "name": "stdout",
     "output_type": "stream",
     "text": [
      "\r",
      " [*********55%*          ] Elapsed 0.58s / Remaining 00:00:00:00"
     ]
    },
    {
     "name": "stdout",
     "output_type": "stream",
     "text": [
      "\r",
      " [*********55%*          ] Elapsed 0.58s / Remaining 00:00:00:00"
     ]
    },
    {
     "name": "stdout",
     "output_type": "stream",
     "text": [
      "\r",
      " [*********55%*          ] Elapsed 0.59s / Remaining 00:00:00:00"
     ]
    },
    {
     "name": "stdout",
     "output_type": "stream",
     "text": [
      "\r",
      " [*********55%*          ] Elapsed 0.59s / Remaining 00:00:00:00"
     ]
    },
    {
     "name": "stdout",
     "output_type": "stream",
     "text": [
      "\r",
      " [*********56%*          ] Elapsed 0.59s / Remaining 00:00:00:00"
     ]
    },
    {
     "name": "stdout",
     "output_type": "stream",
     "text": [
      "\r",
      " [*********56%*          ] Elapsed 0.59s / Remaining 00:00:00:00"
     ]
    },
    {
     "name": "stdout",
     "output_type": "stream",
     "text": [
      "\r",
      " [*********56%*          ] Elapsed 0.59s / Remaining 00:00:00:00"
     ]
    },
    {
     "name": "stdout",
     "output_type": "stream",
     "text": [
      "\r",
      " [*********56%*          ] Elapsed 0.59s / Remaining 00:00:00:00"
     ]
    },
    {
     "name": "stdout",
     "output_type": "stream",
     "text": [
      "\r",
      " [*********56%*          ] Elapsed 0.59s / Remaining 00:00:00:00"
     ]
    },
    {
     "name": "stdout",
     "output_type": "stream",
     "text": [
      "\r",
      " [*********56%*          ] Elapsed 0.59s / Remaining 00:00:00:00"
     ]
    },
    {
     "name": "stdout",
     "output_type": "stream",
     "text": [
      "\r",
      " [*********56%*          ] Elapsed 0.59s / Remaining 00:00:00:00"
     ]
    },
    {
     "name": "stdout",
     "output_type": "stream",
     "text": [
      "\r",
      " [*********56%*          ] Elapsed 0.60s / Remaining 00:00:00:00"
     ]
    },
    {
     "name": "stdout",
     "output_type": "stream",
     "text": [
      "\r",
      " [*********56%*          ] Elapsed 0.60s / Remaining 00:00:00:00"
     ]
    },
    {
     "name": "stdout",
     "output_type": "stream",
     "text": [
      "\r",
      " [*********56%*          ] Elapsed 0.60s / Remaining 00:00:00:00"
     ]
    },
    {
     "name": "stdout",
     "output_type": "stream",
     "text": [
      "\r",
      " [*********57%*          ] Elapsed 0.60s / Remaining 00:00:00:00"
     ]
    },
    {
     "name": "stdout",
     "output_type": "stream",
     "text": [
      "\r",
      " [*********57%*          ] Elapsed 0.60s / Remaining 00:00:00:00"
     ]
    },
    {
     "name": "stdout",
     "output_type": "stream",
     "text": [
      "\r",
      " [*********57%*          ] Elapsed 0.60s / Remaining 00:00:00:00"
     ]
    },
    {
     "name": "stdout",
     "output_type": "stream",
     "text": [
      "\r",
      " [*********57%*          ] Elapsed 0.60s / Remaining 00:00:00:00"
     ]
    },
    {
     "name": "stdout",
     "output_type": "stream",
     "text": [
      "\r",
      " [*********57%*          ] Elapsed 0.60s / Remaining 00:00:00:00"
     ]
    },
    {
     "name": "stdout",
     "output_type": "stream",
     "text": [
      "\r",
      " [*********57%*          ] Elapsed 0.60s / Remaining 00:00:00:00"
     ]
    },
    {
     "name": "stdout",
     "output_type": "stream",
     "text": [
      "\r",
      " [*********57%*          ] Elapsed 0.61s / Remaining 00:00:00:00"
     ]
    },
    {
     "name": "stdout",
     "output_type": "stream",
     "text": [
      "\r",
      " [*********57%*          ] Elapsed 0.61s / Remaining 00:00:00:00"
     ]
    },
    {
     "name": "stdout",
     "output_type": "stream",
     "text": [
      "\r",
      " [*********57%*          ] Elapsed 0.61s / Remaining 00:00:00:00"
     ]
    },
    {
     "name": "stdout",
     "output_type": "stream",
     "text": [
      "\r",
      " [*********57%*          ] Elapsed 0.61s / Remaining 00:00:00:00"
     ]
    },
    {
     "name": "stdout",
     "output_type": "stream",
     "text": [
      "\r",
      " [*********58%*          ] Elapsed 0.61s / Remaining 00:00:00:00"
     ]
    },
    {
     "name": "stdout",
     "output_type": "stream",
     "text": [
      "\r",
      " [*********58%*          ] Elapsed 0.61s / Remaining 00:00:00:00"
     ]
    },
    {
     "name": "stdout",
     "output_type": "stream",
     "text": [
      "\r",
      " [*********58%*          ] Elapsed 0.61s / Remaining 00:00:00:00"
     ]
    },
    {
     "name": "stdout",
     "output_type": "stream",
     "text": [
      "\r",
      " [*********58%*          ] Elapsed 0.61s / Remaining 00:00:00:00"
     ]
    },
    {
     "name": "stdout",
     "output_type": "stream",
     "text": [
      "\r",
      " [*********58%*          ] Elapsed 0.61s / Remaining 00:00:00:00"
     ]
    },
    {
     "name": "stdout",
     "output_type": "stream",
     "text": [
      "\r",
      " [*********58%*          ] Elapsed 0.62s / Remaining 00:00:00:00"
     ]
    },
    {
     "name": "stdout",
     "output_type": "stream",
     "text": [
      "\r",
      " [*********58%*          ] Elapsed 0.62s / Remaining 00:00:00:00"
     ]
    },
    {
     "name": "stdout",
     "output_type": "stream",
     "text": [
      "\r",
      " [*********58%*          ] Elapsed 0.62s / Remaining 00:00:00:00"
     ]
    },
    {
     "name": "stdout",
     "output_type": "stream",
     "text": [
      "\r",
      " [*********58%*          ] Elapsed 0.62s / Remaining 00:00:00:00"
     ]
    },
    {
     "name": "stdout",
     "output_type": "stream",
     "text": [
      "\r",
      " [*********58%*          ] Elapsed 0.62s / Remaining 00:00:00:00"
     ]
    },
    {
     "name": "stdout",
     "output_type": "stream",
     "text": [
      "\r",
      " [*********59%**         ] Elapsed 0.62s / Remaining 00:00:00:00"
     ]
    },
    {
     "name": "stdout",
     "output_type": "stream",
     "text": [
      "\r",
      " [*********59%**         ] Elapsed 0.62s / Remaining 00:00:00:00"
     ]
    },
    {
     "name": "stdout",
     "output_type": "stream",
     "text": [
      "\r",
      " [*********59%**         ] Elapsed 0.62s / Remaining 00:00:00:00"
     ]
    },
    {
     "name": "stdout",
     "output_type": "stream",
     "text": [
      "\r",
      " [*********59%**         ] Elapsed 0.62s / Remaining 00:00:00:00"
     ]
    },
    {
     "name": "stdout",
     "output_type": "stream",
     "text": [
      "\r",
      " [*********59%**         ] Elapsed 0.63s / Remaining 00:00:00:00"
     ]
    },
    {
     "name": "stdout",
     "output_type": "stream",
     "text": [
      "\r",
      " [*********59%**         ] Elapsed 0.63s / Remaining 00:00:00:00"
     ]
    },
    {
     "name": "stdout",
     "output_type": "stream",
     "text": [
      "\r",
      " [*********59%**         ] Elapsed 0.63s / Remaining 00:00:00:00"
     ]
    },
    {
     "name": "stdout",
     "output_type": "stream",
     "text": [
      "\r",
      " [*********59%**         ] Elapsed 0.63s / Remaining 00:00:00:00"
     ]
    },
    {
     "name": "stdout",
     "output_type": "stream",
     "text": [
      "\r",
      " [*********59%**         ] Elapsed 0.63s / Remaining 00:00:00:00"
     ]
    },
    {
     "name": "stdout",
     "output_type": "stream",
     "text": [
      "\r",
      " [*********59%**         ] Elapsed 0.63s / Remaining 00:00:00:00"
     ]
    },
    {
     "name": "stdout",
     "output_type": "stream",
     "text": [
      "\r",
      " [*********60%**         ] Elapsed 0.63s / Remaining 00:00:00:00"
     ]
    },
    {
     "name": "stdout",
     "output_type": "stream",
     "text": [
      "\r",
      " [*********60%**         ] Elapsed 0.63s / Remaining 00:00:00:00"
     ]
    },
    {
     "name": "stdout",
     "output_type": "stream",
     "text": [
      "\r",
      " [*********60%**         ] Elapsed 0.63s / Remaining 00:00:00:00"
     ]
    },
    {
     "name": "stdout",
     "output_type": "stream",
     "text": [
      "\r",
      " [*********60%**         ] Elapsed 0.64s / Remaining 00:00:00:00"
     ]
    },
    {
     "name": "stdout",
     "output_type": "stream",
     "text": [
      "\r",
      " [*********60%**         ] Elapsed 0.64s / Remaining 00:00:00:00"
     ]
    },
    {
     "name": "stdout",
     "output_type": "stream",
     "text": [
      "\r",
      " [*********60%**         ] Elapsed 0.64s / Remaining 00:00:00:00"
     ]
    },
    {
     "name": "stdout",
     "output_type": "stream",
     "text": [
      "\r",
      " [*********60%**         ] Elapsed 0.64s / Remaining 00:00:00:00"
     ]
    },
    {
     "name": "stdout",
     "output_type": "stream",
     "text": [
      "\r",
      " [*********60%**         ] Elapsed 0.64s / Remaining 00:00:00:00"
     ]
    },
    {
     "name": "stdout",
     "output_type": "stream",
     "text": [
      "\r",
      " [*********60%**         ] Elapsed 0.64s / Remaining 00:00:00:00"
     ]
    },
    {
     "name": "stdout",
     "output_type": "stream",
     "text": [
      "\r",
      " [*********60%**         ] Elapsed 0.64s / Remaining 00:00:00:00"
     ]
    },
    {
     "name": "stdout",
     "output_type": "stream",
     "text": [
      "\r",
      " [*********61%**         ] Elapsed 0.64s / Remaining 00:00:00:00"
     ]
    },
    {
     "name": "stdout",
     "output_type": "stream",
     "text": [
      "\r",
      " [*********61%**         ] Elapsed 0.64s / Remaining 00:00:00:00"
     ]
    },
    {
     "name": "stdout",
     "output_type": "stream",
     "text": [
      "\r",
      " [*********61%**         ] Elapsed 0.64s / Remaining 00:00:00:00"
     ]
    },
    {
     "name": "stdout",
     "output_type": "stream",
     "text": [
      "\r",
      " [*********61%**         ] Elapsed 0.65s / Remaining 00:00:00:00"
     ]
    },
    {
     "name": "stdout",
     "output_type": "stream",
     "text": [
      "\r",
      " [*********61%**         ] Elapsed 0.65s / Remaining 00:00:00:00"
     ]
    },
    {
     "name": "stdout",
     "output_type": "stream",
     "text": [
      "\r",
      " [*********61%**         ] Elapsed 0.65s / Remaining 00:00:00:00"
     ]
    },
    {
     "name": "stdout",
     "output_type": "stream",
     "text": [
      "\r",
      " [*********61%**         ] Elapsed 0.65s / Remaining 00:00:00:00"
     ]
    },
    {
     "name": "stdout",
     "output_type": "stream",
     "text": [
      "\r",
      " [*********61%**         ] Elapsed 0.65s / Remaining 00:00:00:00"
     ]
    },
    {
     "name": "stdout",
     "output_type": "stream",
     "text": [
      "\r",
      " [*********61%**         ] Elapsed 0.65s / Remaining 00:00:00:00"
     ]
    },
    {
     "name": "stdout",
     "output_type": "stream",
     "text": [
      "\r",
      " [*********61%**         ] Elapsed 0.65s / Remaining 00:00:00:00"
     ]
    },
    {
     "name": "stdout",
     "output_type": "stream",
     "text": [
      "\r",
      " [*********62%**         ] Elapsed 0.65s / Remaining 00:00:00:00"
     ]
    },
    {
     "name": "stdout",
     "output_type": "stream",
     "text": [
      "\r",
      " [*********62%**         ] Elapsed 0.65s / Remaining 00:00:00:00"
     ]
    },
    {
     "name": "stdout",
     "output_type": "stream",
     "text": [
      "\r",
      " [*********62%**         ] Elapsed 0.66s / Remaining 00:00:00:00"
     ]
    },
    {
     "name": "stdout",
     "output_type": "stream",
     "text": [
      "\r",
      " [*********62%**         ] Elapsed 0.66s / Remaining 00:00:00:00"
     ]
    },
    {
     "name": "stdout",
     "output_type": "stream",
     "text": [
      "\r",
      " [*********62%**         ] Elapsed 0.66s / Remaining 00:00:00:00"
     ]
    },
    {
     "name": "stdout",
     "output_type": "stream",
     "text": [
      "\r",
      " [*********62%**         ] Elapsed 0.66s / Remaining 00:00:00:00"
     ]
    },
    {
     "name": "stdout",
     "output_type": "stream",
     "text": [
      "\r",
      " [*********62%**         ] Elapsed 0.66s / Remaining 00:00:00:00"
     ]
    },
    {
     "name": "stdout",
     "output_type": "stream",
     "text": [
      "\r",
      " [*********62%**         ] Elapsed 0.66s / Remaining 00:00:00:00"
     ]
    },
    {
     "name": "stdout",
     "output_type": "stream",
     "text": [
      "\r",
      " [*********62%**         ] Elapsed 0.66s / Remaining 00:00:00:00"
     ]
    },
    {
     "name": "stdout",
     "output_type": "stream",
     "text": [
      "\r",
      " [*********62%**         ] Elapsed 0.66s / Remaining 00:00:00:00"
     ]
    },
    {
     "name": "stdout",
     "output_type": "stream",
     "text": [
      "\r",
      " [*********63%**         ] Elapsed 0.66s / Remaining 00:00:00:00"
     ]
    },
    {
     "name": "stdout",
     "output_type": "stream",
     "text": [
      "\r",
      " [*********63%**         ] Elapsed 0.66s / Remaining 00:00:00:00"
     ]
    },
    {
     "name": "stdout",
     "output_type": "stream",
     "text": [
      "\r",
      " [*********63%**         ] Elapsed 0.67s / Remaining 00:00:00:00"
     ]
    },
    {
     "name": "stdout",
     "output_type": "stream",
     "text": [
      "\r",
      " [*********63%**         ] Elapsed 0.67s / Remaining 00:00:00:00"
     ]
    },
    {
     "name": "stdout",
     "output_type": "stream",
     "text": [
      "\r",
      " [*********63%**         ] Elapsed 0.67s / Remaining 00:00:00:00"
     ]
    },
    {
     "name": "stdout",
     "output_type": "stream",
     "text": [
      "\r",
      " [*********63%**         ] Elapsed 0.67s / Remaining 00:00:00:00"
     ]
    },
    {
     "name": "stdout",
     "output_type": "stream",
     "text": [
      "\r",
      " [*********63%**         ] Elapsed 0.67s / Remaining 00:00:00:00"
     ]
    },
    {
     "name": "stdout",
     "output_type": "stream",
     "text": [
      "\r",
      " [*********63%**         ] Elapsed 0.67s / Remaining 00:00:00:00"
     ]
    },
    {
     "name": "stdout",
     "output_type": "stream",
     "text": [
      "\r",
      " [*********63%**         ] Elapsed 0.67s / Remaining 00:00:00:00"
     ]
    },
    {
     "name": "stdout",
     "output_type": "stream",
     "text": [
      "\r",
      " [*********63%**         ] Elapsed 0.67s / Remaining 00:00:00:00"
     ]
    },
    {
     "name": "stdout",
     "output_type": "stream",
     "text": [
      "\r",
      " [*********64%***        ] Elapsed 0.67s / Remaining 00:00:00:00"
     ]
    },
    {
     "name": "stdout",
     "output_type": "stream",
     "text": [
      "\r",
      " [*********64%***        ] Elapsed 0.67s / Remaining 00:00:00:00"
     ]
    },
    {
     "name": "stdout",
     "output_type": "stream",
     "text": [
      "\r",
      " [*********64%***        ] Elapsed 0.68s / Remaining 00:00:00:00"
     ]
    },
    {
     "name": "stdout",
     "output_type": "stream",
     "text": [
      "\r",
      " [*********64%***        ] Elapsed 0.68s / Remaining 00:00:00:00"
     ]
    },
    {
     "name": "stdout",
     "output_type": "stream",
     "text": [
      "\r",
      " [*********64%***        ] Elapsed 0.68s / Remaining 00:00:00:00"
     ]
    },
    {
     "name": "stdout",
     "output_type": "stream",
     "text": [
      "\r",
      " [*********64%***        ] Elapsed 0.68s / Remaining 00:00:00:00"
     ]
    },
    {
     "name": "stdout",
     "output_type": "stream",
     "text": [
      "\r",
      " [*********64%***        ] Elapsed 0.68s / Remaining 00:00:00:00"
     ]
    },
    {
     "name": "stdout",
     "output_type": "stream",
     "text": [
      "\r",
      " [*********64%***        ] Elapsed 0.68s / Remaining 00:00:00:00"
     ]
    },
    {
     "name": "stdout",
     "output_type": "stream",
     "text": [
      "\r",
      " [*********64%***        ] Elapsed 0.68s / Remaining 00:00:00:00"
     ]
    },
    {
     "name": "stdout",
     "output_type": "stream",
     "text": [
      "\r",
      " [*********64%***        ] Elapsed 0.68s / Remaining 00:00:00:00"
     ]
    },
    {
     "name": "stdout",
     "output_type": "stream",
     "text": [
      "\r",
      " [*********65%***        ] Elapsed 0.68s / Remaining 00:00:00:00"
     ]
    },
    {
     "name": "stdout",
     "output_type": "stream",
     "text": [
      "\r",
      " [*********65%***        ] Elapsed 0.68s / Remaining 00:00:00:00"
     ]
    },
    {
     "name": "stdout",
     "output_type": "stream",
     "text": [
      "\r",
      " [*********65%***        ] Elapsed 0.69s / Remaining 00:00:00:00"
     ]
    },
    {
     "name": "stdout",
     "output_type": "stream",
     "text": [
      "\r",
      " [*********65%***        ] Elapsed 0.69s / Remaining 00:00:00:00"
     ]
    },
    {
     "name": "stdout",
     "output_type": "stream",
     "text": [
      "\r",
      " [*********65%***        ] Elapsed 0.69s / Remaining 00:00:00:00"
     ]
    },
    {
     "name": "stdout",
     "output_type": "stream",
     "text": [
      "\r",
      " [*********65%***        ] Elapsed 0.69s / Remaining 00:00:00:00"
     ]
    },
    {
     "name": "stdout",
     "output_type": "stream",
     "text": [
      "\r",
      " [*********65%***        ] Elapsed 0.69s / Remaining 00:00:00:00"
     ]
    },
    {
     "name": "stdout",
     "output_type": "stream",
     "text": [
      "\r",
      " [*********65%***        ] Elapsed 0.69s / Remaining 00:00:00:00"
     ]
    },
    {
     "name": "stdout",
     "output_type": "stream",
     "text": [
      "\r",
      " [*********65%***        ] Elapsed 0.69s / Remaining 00:00:00:00"
     ]
    },
    {
     "name": "stdout",
     "output_type": "stream",
     "text": [
      "\r",
      " [*********65%***        ] Elapsed 0.69s / Remaining 00:00:00:00"
     ]
    },
    {
     "name": "stdout",
     "output_type": "stream",
     "text": [
      "\r",
      " [*********66%***        ] Elapsed 0.69s / Remaining 00:00:00:00"
     ]
    },
    {
     "name": "stdout",
     "output_type": "stream",
     "text": [
      "\r",
      " [*********66%***        ] Elapsed 0.70s / Remaining 00:00:00:00"
     ]
    },
    {
     "name": "stdout",
     "output_type": "stream",
     "text": [
      "\r",
      " [*********66%***        ] Elapsed 0.70s / Remaining 00:00:00:00"
     ]
    },
    {
     "name": "stdout",
     "output_type": "stream",
     "text": [
      "\r",
      " [*********66%***        ] Elapsed 0.70s / Remaining 00:00:00:00"
     ]
    },
    {
     "name": "stdout",
     "output_type": "stream",
     "text": [
      "\r",
      " [*********66%***        ] Elapsed 0.70s / Remaining 00:00:00:00"
     ]
    },
    {
     "name": "stdout",
     "output_type": "stream",
     "text": [
      "\r",
      " [*********66%***        ] Elapsed 0.70s / Remaining 00:00:00:00"
     ]
    },
    {
     "name": "stdout",
     "output_type": "stream",
     "text": [
      "\r",
      " [*********66%***        ] Elapsed 0.70s / Remaining 00:00:00:00"
     ]
    },
    {
     "name": "stdout",
     "output_type": "stream",
     "text": [
      "\r",
      " [*********66%***        ] Elapsed 0.70s / Remaining 00:00:00:00"
     ]
    },
    {
     "name": "stdout",
     "output_type": "stream",
     "text": [
      "\r",
      " [*********66%***        ] Elapsed 0.70s / Remaining 00:00:00:00"
     ]
    },
    {
     "name": "stdout",
     "output_type": "stream",
     "text": [
      "\r",
      " [*********66%***        ] Elapsed 0.70s / Remaining 00:00:00:00"
     ]
    },
    {
     "name": "stdout",
     "output_type": "stream",
     "text": [
      "\r",
      " [*********67%***        ] Elapsed 0.71s / Remaining 00:00:00:00"
     ]
    },
    {
     "name": "stdout",
     "output_type": "stream",
     "text": [
      "\r",
      " [*********67%***        ] Elapsed 0.71s / Remaining 00:00:00:00"
     ]
    },
    {
     "name": "stdout",
     "output_type": "stream",
     "text": [
      "\r",
      " [*********67%***        ] Elapsed 0.71s / Remaining 00:00:00:00"
     ]
    },
    {
     "name": "stdout",
     "output_type": "stream",
     "text": [
      "\r",
      " [*********67%***        ] Elapsed 0.71s / Remaining 00:00:00:00"
     ]
    },
    {
     "name": "stdout",
     "output_type": "stream",
     "text": [
      "\r",
      " [*********67%***        ] Elapsed 0.71s / Remaining 00:00:00:00"
     ]
    },
    {
     "name": "stdout",
     "output_type": "stream",
     "text": [
      "\r",
      " [*********67%***        ] Elapsed 0.71s / Remaining 00:00:00:00"
     ]
    },
    {
     "name": "stdout",
     "output_type": "stream",
     "text": [
      "\r",
      " [*********67%***        ] Elapsed 0.71s / Remaining 00:00:00:00"
     ]
    },
    {
     "name": "stdout",
     "output_type": "stream",
     "text": [
      "\r",
      " [*********67%***        ] Elapsed 0.71s / Remaining 00:00:00:00"
     ]
    },
    {
     "name": "stdout",
     "output_type": "stream",
     "text": [
      "\r",
      " [*********67%***        ] Elapsed 0.71s / Remaining 00:00:00:00"
     ]
    },
    {
     "name": "stdout",
     "output_type": "stream",
     "text": [
      "\r",
      " [*********67%***        ] Elapsed 0.72s / Remaining 00:00:00:00"
     ]
    },
    {
     "name": "stdout",
     "output_type": "stream",
     "text": [
      "\r",
      " [*********68%****       ] Elapsed 0.72s / Remaining 00:00:00:00"
     ]
    },
    {
     "name": "stdout",
     "output_type": "stream",
     "text": [
      "\r",
      " [*********68%****       ] Elapsed 0.72s / Remaining 00:00:00:00"
     ]
    },
    {
     "name": "stdout",
     "output_type": "stream",
     "text": [
      "\r",
      " [*********68%****       ] Elapsed 0.72s / Remaining 00:00:00:00"
     ]
    },
    {
     "name": "stdout",
     "output_type": "stream",
     "text": [
      "\r",
      " [*********68%****       ] Elapsed 0.72s / Remaining 00:00:00:00"
     ]
    },
    {
     "name": "stdout",
     "output_type": "stream",
     "text": [
      "\r",
      " [*********68%****       ] Elapsed 0.72s / Remaining 00:00:00:00"
     ]
    },
    {
     "name": "stdout",
     "output_type": "stream",
     "text": [
      "\r",
      " [*********68%****       ] Elapsed 0.72s / Remaining 00:00:00:00"
     ]
    },
    {
     "name": "stdout",
     "output_type": "stream",
     "text": [
      "\r",
      " [*********68%****       ] Elapsed 0.72s / Remaining 00:00:00:00"
     ]
    },
    {
     "name": "stdout",
     "output_type": "stream",
     "text": [
      "\r",
      " [*********68%****       ] Elapsed 0.73s / Remaining 00:00:00:00"
     ]
    },
    {
     "name": "stdout",
     "output_type": "stream",
     "text": [
      "\r",
      " [*********68%****       ] Elapsed 0.73s / Remaining 00:00:00:00"
     ]
    },
    {
     "name": "stdout",
     "output_type": "stream",
     "text": [
      "\r",
      " [*********68%****       ] Elapsed 0.73s / Remaining 00:00:00:00"
     ]
    },
    {
     "name": "stdout",
     "output_type": "stream",
     "text": [
      "\r",
      " [*********69%****       ] Elapsed 0.73s / Remaining 00:00:00:00"
     ]
    },
    {
     "name": "stdout",
     "output_type": "stream",
     "text": [
      "\r",
      " [*********69%****       ] Elapsed 0.73s / Remaining 00:00:00:00"
     ]
    },
    {
     "name": "stdout",
     "output_type": "stream",
     "text": [
      "\r",
      " [*********69%****       ] Elapsed 0.73s / Remaining 00:00:00:00"
     ]
    },
    {
     "name": "stdout",
     "output_type": "stream",
     "text": [
      "\r",
      " [*********69%****       ] Elapsed 0.73s / Remaining 00:00:00:00"
     ]
    },
    {
     "name": "stdout",
     "output_type": "stream",
     "text": [
      "\r",
      " [*********69%****       ] Elapsed 0.73s / Remaining 00:00:00:00"
     ]
    },
    {
     "name": "stdout",
     "output_type": "stream",
     "text": [
      "\r",
      " [*********69%****       ] Elapsed 0.73s / Remaining 00:00:00:00"
     ]
    },
    {
     "name": "stdout",
     "output_type": "stream",
     "text": [
      "\r",
      " [*********69%****       ] Elapsed 0.74s / Remaining 00:00:00:00"
     ]
    },
    {
     "name": "stdout",
     "output_type": "stream",
     "text": [
      "\r",
      " [*********69%****       ] Elapsed 0.74s / Remaining 00:00:00:00"
     ]
    },
    {
     "name": "stdout",
     "output_type": "stream",
     "text": [
      "\r",
      " [*********69%****       ] Elapsed 0.74s / Remaining 00:00:00:00"
     ]
    },
    {
     "name": "stdout",
     "output_type": "stream",
     "text": [
      "\r",
      " [*********69%****       ] Elapsed 0.74s / Remaining 00:00:00:00"
     ]
    },
    {
     "name": "stdout",
     "output_type": "stream",
     "text": [
      "\r",
      " [*********70%****       ] Elapsed 0.74s / Remaining 00:00:00:00"
     ]
    },
    {
     "name": "stdout",
     "output_type": "stream",
     "text": [
      "\r",
      " [*********70%****       ] Elapsed 0.74s / Remaining 00:00:00:00"
     ]
    },
    {
     "name": "stdout",
     "output_type": "stream",
     "text": [
      "\r",
      " [*********70%****       ] Elapsed 0.74s / Remaining 00:00:00:00"
     ]
    },
    {
     "name": "stdout",
     "output_type": "stream",
     "text": [
      "\r",
      " [*********70%****       ] Elapsed 0.74s / Remaining 00:00:00:00"
     ]
    },
    {
     "name": "stdout",
     "output_type": "stream",
     "text": [
      "\r",
      " [*********70%****       ] Elapsed 0.74s / Remaining 00:00:00:00"
     ]
    },
    {
     "name": "stdout",
     "output_type": "stream",
     "text": [
      "\r",
      " [*********70%****       ] Elapsed 0.75s / Remaining 00:00:00:00"
     ]
    },
    {
     "name": "stdout",
     "output_type": "stream",
     "text": [
      "\r",
      " [*********70%****       ] Elapsed 0.75s / Remaining 00:00:00:00"
     ]
    },
    {
     "name": "stdout",
     "output_type": "stream",
     "text": [
      "\r",
      " [*********70%****       ] Elapsed 0.75s / Remaining 00:00:00:00"
     ]
    },
    {
     "name": "stdout",
     "output_type": "stream",
     "text": [
      "\r",
      " [*********70%****       ] Elapsed 0.75s / Remaining 00:00:00:00"
     ]
    },
    {
     "name": "stdout",
     "output_type": "stream",
     "text": [
      "\r",
      " [*********70%****       ] Elapsed 0.75s / Remaining 00:00:00:00"
     ]
    },
    {
     "name": "stdout",
     "output_type": "stream",
     "text": [
      "\r",
      " [*********71%****       ] Elapsed 0.75s / Remaining 00:00:00:00"
     ]
    },
    {
     "name": "stdout",
     "output_type": "stream",
     "text": [
      "\r",
      " [*********71%****       ] Elapsed 0.75s / Remaining 00:00:00:00"
     ]
    },
    {
     "name": "stdout",
     "output_type": "stream",
     "text": [
      "\r",
      " [*********71%****       ] Elapsed 0.75s / Remaining 00:00:00:00"
     ]
    },
    {
     "name": "stdout",
     "output_type": "stream",
     "text": [
      "\r",
      " [*********71%****       ] Elapsed 0.75s / Remaining 00:00:00:00"
     ]
    },
    {
     "name": "stdout",
     "output_type": "stream",
     "text": [
      "\r",
      " [*********71%****       ] Elapsed 0.76s / Remaining 00:00:00:00"
     ]
    },
    {
     "name": "stdout",
     "output_type": "stream",
     "text": [
      "\r",
      " [*********71%****       ] Elapsed 0.76s / Remaining 00:00:00:00"
     ]
    },
    {
     "name": "stdout",
     "output_type": "stream",
     "text": [
      "\r",
      " [*********71%****       ] Elapsed 0.76s / Remaining 00:00:00:00"
     ]
    },
    {
     "name": "stdout",
     "output_type": "stream",
     "text": [
      "\r",
      " [*********71%****       ] Elapsed 0.76s / Remaining 00:00:00:00"
     ]
    },
    {
     "name": "stdout",
     "output_type": "stream",
     "text": [
      "\r",
      " [*********71%****       ] Elapsed 0.76s / Remaining 00:00:00:00"
     ]
    },
    {
     "name": "stdout",
     "output_type": "stream",
     "text": [
      "\r",
      " [*********71%****       ] Elapsed 0.76s / Remaining 00:00:00:00"
     ]
    },
    {
     "name": "stdout",
     "output_type": "stream",
     "text": [
      "\r",
      " [*********72%*****      ] Elapsed 0.76s / Remaining 00:00:00:00"
     ]
    },
    {
     "name": "stdout",
     "output_type": "stream",
     "text": [
      "\r",
      " [*********72%*****      ] Elapsed 0.76s / Remaining 00:00:00:00"
     ]
    },
    {
     "name": "stdout",
     "output_type": "stream",
     "text": [
      "\r",
      " [*********72%*****      ] Elapsed 0.76s / Remaining 00:00:00:00"
     ]
    },
    {
     "name": "stdout",
     "output_type": "stream",
     "text": [
      "\r",
      " [*********72%*****      ] Elapsed 0.76s / Remaining 00:00:00:00"
     ]
    },
    {
     "name": "stdout",
     "output_type": "stream",
     "text": [
      "\r",
      " [*********72%*****      ] Elapsed 0.77s / Remaining 00:00:00:00"
     ]
    },
    {
     "name": "stdout",
     "output_type": "stream",
     "text": [
      "\r",
      " [*********72%*****      ] Elapsed 0.77s / Remaining 00:00:00:00"
     ]
    },
    {
     "name": "stdout",
     "output_type": "stream",
     "text": [
      "\r",
      " [*********72%*****      ] Elapsed 0.77s / Remaining 00:00:00:00"
     ]
    },
    {
     "name": "stdout",
     "output_type": "stream",
     "text": [
      "\r",
      " [*********72%*****      ] Elapsed 0.77s / Remaining 00:00:00:00"
     ]
    },
    {
     "name": "stdout",
     "output_type": "stream",
     "text": [
      "\r",
      " [*********72%*****      ] Elapsed 0.77s / Remaining 00:00:00:00"
     ]
    },
    {
     "name": "stdout",
     "output_type": "stream",
     "text": [
      "\r",
      " [*********72%*****      ] Elapsed 0.77s / Remaining 00:00:00:00"
     ]
    },
    {
     "name": "stdout",
     "output_type": "stream",
     "text": [
      "\r",
      " [*********73%*****      ] Elapsed 0.77s / Remaining 00:00:00:00"
     ]
    },
    {
     "name": "stdout",
     "output_type": "stream",
     "text": [
      "\r",
      " [*********73%*****      ] Elapsed 0.77s / Remaining 00:00:00:00"
     ]
    },
    {
     "name": "stdout",
     "output_type": "stream",
     "text": [
      "\r",
      " [*********73%*****      ] Elapsed 0.77s / Remaining 00:00:00:00"
     ]
    },
    {
     "name": "stdout",
     "output_type": "stream",
     "text": [
      "\r",
      " [*********73%*****      ] Elapsed 0.78s / Remaining 00:00:00:00"
     ]
    },
    {
     "name": "stdout",
     "output_type": "stream",
     "text": [
      "\r",
      " [*********73%*****      ] Elapsed 0.78s / Remaining 00:00:00:00"
     ]
    },
    {
     "name": "stdout",
     "output_type": "stream",
     "text": [
      "\r",
      " [*********73%*****      ] Elapsed 0.78s / Remaining 00:00:00:00"
     ]
    },
    {
     "name": "stdout",
     "output_type": "stream",
     "text": [
      "\r",
      " [*********73%*****      ] Elapsed 0.78s / Remaining 00:00:00:00"
     ]
    },
    {
     "name": "stdout",
     "output_type": "stream",
     "text": [
      "\r",
      " [*********73%*****      ] Elapsed 0.78s / Remaining 00:00:00:00"
     ]
    },
    {
     "name": "stdout",
     "output_type": "stream",
     "text": [
      "\r",
      " [*********73%*****      ] Elapsed 0.78s / Remaining 00:00:00:00"
     ]
    },
    {
     "name": "stdout",
     "output_type": "stream",
     "text": [
      "\r",
      " [*********73%*****      ] Elapsed 0.78s / Remaining 00:00:00:00"
     ]
    },
    {
     "name": "stdout",
     "output_type": "stream",
     "text": [
      "\r",
      " [*********74%*****      ] Elapsed 0.78s / Remaining 00:00:00:00"
     ]
    },
    {
     "name": "stdout",
     "output_type": "stream",
     "text": [
      "\r",
      " [*********74%*****      ] Elapsed 0.78s / Remaining 00:00:00:00"
     ]
    },
    {
     "name": "stdout",
     "output_type": "stream",
     "text": [
      "\r",
      " [*********74%*****      ] Elapsed 0.78s / Remaining 00:00:00:00"
     ]
    },
    {
     "name": "stdout",
     "output_type": "stream",
     "text": [
      "\r",
      " [*********74%*****      ] Elapsed 0.79s / Remaining 00:00:00:00"
     ]
    },
    {
     "name": "stdout",
     "output_type": "stream",
     "text": [
      "\r",
      " [*********74%*****      ] Elapsed 0.79s / Remaining 00:00:00:00"
     ]
    },
    {
     "name": "stdout",
     "output_type": "stream",
     "text": [
      "\r",
      " [*********74%*****      ] Elapsed 0.79s / Remaining 00:00:00:00"
     ]
    },
    {
     "name": "stdout",
     "output_type": "stream",
     "text": [
      "\r",
      " [*********74%*****      ] Elapsed 0.79s / Remaining 00:00:00:00"
     ]
    },
    {
     "name": "stdout",
     "output_type": "stream",
     "text": [
      "\r",
      " [*********74%*****      ] Elapsed 0.79s / Remaining 00:00:00:00"
     ]
    },
    {
     "name": "stdout",
     "output_type": "stream",
     "text": [
      "\r",
      " [*********74%*****      ] Elapsed 0.79s / Remaining 00:00:00:00"
     ]
    },
    {
     "name": "stdout",
     "output_type": "stream",
     "text": [
      "\r",
      " [*********74%*****      ] Elapsed 0.79s / Remaining 00:00:00:00"
     ]
    },
    {
     "name": "stdout",
     "output_type": "stream",
     "text": [
      "\r",
      " [*********75%*****      ] Elapsed 0.79s / Remaining 00:00:00:00"
     ]
    },
    {
     "name": "stdout",
     "output_type": "stream",
     "text": [
      "\r",
      " [*********75%*****      ] Elapsed 0.79s / Remaining 00:00:00:00"
     ]
    },
    {
     "name": "stdout",
     "output_type": "stream",
     "text": [
      "\r",
      " [*********75%*****      ] Elapsed 0.79s / Remaining 00:00:00:00"
     ]
    },
    {
     "name": "stdout",
     "output_type": "stream",
     "text": [
      "\r",
      " [*********75%*****      ] Elapsed 0.80s / Remaining 00:00:00:00"
     ]
    },
    {
     "name": "stdout",
     "output_type": "stream",
     "text": [
      "\r",
      " [*********75%*****      ] Elapsed 0.80s / Remaining 00:00:00:00"
     ]
    },
    {
     "name": "stdout",
     "output_type": "stream",
     "text": [
      "\r",
      " [*********75%*****      ] Elapsed 0.80s / Remaining 00:00:00:00"
     ]
    },
    {
     "name": "stdout",
     "output_type": "stream",
     "text": [
      "\r",
      " [*********75%*****      ] Elapsed 0.80s / Remaining 00:00:00:00"
     ]
    },
    {
     "name": "stdout",
     "output_type": "stream",
     "text": [
      "\r",
      " [*********75%*****      ] Elapsed 0.80s / Remaining 00:00:00:00"
     ]
    },
    {
     "name": "stdout",
     "output_type": "stream",
     "text": [
      "\r",
      " [*********75%*****      ] Elapsed 0.80s / Remaining 00:00:00:00"
     ]
    },
    {
     "name": "stdout",
     "output_type": "stream",
     "text": [
      "\r",
      " [*********75%*****      ] Elapsed 0.80s / Remaining 00:00:00:00"
     ]
    },
    {
     "name": "stdout",
     "output_type": "stream",
     "text": [
      "\r",
      " [*********76%*****      ] Elapsed 0.80s / Remaining 00:00:00:00"
     ]
    },
    {
     "name": "stdout",
     "output_type": "stream",
     "text": [
      "\r",
      " [*********76%*****      ] Elapsed 0.80s / Remaining 00:00:00:00"
     ]
    },
    {
     "name": "stdout",
     "output_type": "stream",
     "text": [
      "\r",
      " [*********76%*****      ] Elapsed 0.80s / Remaining 00:00:00:00"
     ]
    },
    {
     "name": "stdout",
     "output_type": "stream",
     "text": [
      "\r",
      " [*********76%*****      ] Elapsed 0.80s / Remaining 00:00:00:00"
     ]
    },
    {
     "name": "stdout",
     "output_type": "stream",
     "text": [
      "\r",
      " [*********76%*****      ] Elapsed 0.81s / Remaining 00:00:00:00"
     ]
    },
    {
     "name": "stdout",
     "output_type": "stream",
     "text": [
      "\r",
      " [*********76%*****      ] Elapsed 0.81s / Remaining 00:00:00:00"
     ]
    },
    {
     "name": "stdout",
     "output_type": "stream",
     "text": [
      "\r",
      " [*********76%*****      ] Elapsed 0.81s / Remaining 00:00:00:00"
     ]
    },
    {
     "name": "stdout",
     "output_type": "stream",
     "text": [
      "\r",
      " [*********76%*****      ] Elapsed 0.81s / Remaining 00:00:00:00"
     ]
    },
    {
     "name": "stdout",
     "output_type": "stream",
     "text": [
      "\r",
      " [*********76%*****      ] Elapsed 0.81s / Remaining 00:00:00:00"
     ]
    },
    {
     "name": "stdout",
     "output_type": "stream",
     "text": [
      "\r",
      " [*********76%*****      ] Elapsed 0.81s / Remaining 00:00:00:00"
     ]
    },
    {
     "name": "stdout",
     "output_type": "stream",
     "text": [
      "\r",
      " [*********77%******     ] Elapsed 0.81s / Remaining 00:00:00:00"
     ]
    },
    {
     "name": "stdout",
     "output_type": "stream",
     "text": [
      "\r",
      " [*********77%******     ] Elapsed 0.81s / Remaining 00:00:00:00"
     ]
    },
    {
     "name": "stdout",
     "output_type": "stream",
     "text": [
      "\r",
      " [*********77%******     ] Elapsed 0.81s / Remaining 00:00:00:00"
     ]
    },
    {
     "name": "stdout",
     "output_type": "stream",
     "text": [
      "\r",
      " [*********77%******     ] Elapsed 0.82s / Remaining 00:00:00:00"
     ]
    },
    {
     "name": "stdout",
     "output_type": "stream",
     "text": [
      "\r",
      " [*********77%******     ] Elapsed 0.82s / Remaining 00:00:00:00"
     ]
    },
    {
     "name": "stdout",
     "output_type": "stream",
     "text": [
      "\r",
      " [*********77%******     ] Elapsed 0.82s / Remaining 00:00:00:00"
     ]
    },
    {
     "name": "stdout",
     "output_type": "stream",
     "text": [
      "\r",
      " [*********77%******     ] Elapsed 0.82s / Remaining 00:00:00:00"
     ]
    },
    {
     "name": "stdout",
     "output_type": "stream",
     "text": [
      "\r",
      " [*********77%******     ] Elapsed 0.82s / Remaining 00:00:00:00"
     ]
    },
    {
     "name": "stdout",
     "output_type": "stream",
     "text": [
      "\r",
      " [*********77%******     ] Elapsed 0.82s / Remaining 00:00:00:00"
     ]
    },
    {
     "name": "stdout",
     "output_type": "stream",
     "text": [
      "\r",
      " [*********77%******     ] Elapsed 0.82s / Remaining 00:00:00:00"
     ]
    },
    {
     "name": "stdout",
     "output_type": "stream",
     "text": [
      "\r",
      " [*********78%******     ] Elapsed 0.82s / Remaining 00:00:00:00"
     ]
    },
    {
     "name": "stdout",
     "output_type": "stream",
     "text": [
      "\r",
      " [*********78%******     ] Elapsed 0.82s / Remaining 00:00:00:00"
     ]
    },
    {
     "name": "stdout",
     "output_type": "stream",
     "text": [
      "\r",
      " [*********78%******     ] Elapsed 0.82s / Remaining 00:00:00:00"
     ]
    },
    {
     "name": "stdout",
     "output_type": "stream",
     "text": [
      "\r",
      " [*********78%******     ] Elapsed 0.83s / Remaining 00:00:00:00"
     ]
    },
    {
     "name": "stdout",
     "output_type": "stream",
     "text": [
      "\r",
      " [*********78%******     ] Elapsed 0.83s / Remaining 00:00:00:00"
     ]
    },
    {
     "name": "stdout",
     "output_type": "stream",
     "text": [
      "\r",
      " [*********78%******     ] Elapsed 0.83s / Remaining 00:00:00:00"
     ]
    },
    {
     "name": "stdout",
     "output_type": "stream",
     "text": [
      "\r",
      " [*********78%******     ] Elapsed 0.83s / Remaining 00:00:00:00"
     ]
    },
    {
     "name": "stdout",
     "output_type": "stream",
     "text": [
      "\r",
      " [*********78%******     ] Elapsed 0.83s / Remaining 00:00:00:00"
     ]
    },
    {
     "name": "stdout",
     "output_type": "stream",
     "text": [
      "\r",
      " [*********78%******     ] Elapsed 0.83s / Remaining 00:00:00:00"
     ]
    },
    {
     "name": "stdout",
     "output_type": "stream",
     "text": [
      "\r",
      " [*********78%******     ] Elapsed 0.83s / Remaining 00:00:00:00"
     ]
    },
    {
     "name": "stdout",
     "output_type": "stream",
     "text": [
      "\r",
      " [*********79%******     ] Elapsed 0.83s / Remaining 00:00:00:00"
     ]
    },
    {
     "name": "stdout",
     "output_type": "stream",
     "text": [
      "\r",
      " [*********79%******     ] Elapsed 0.83s / Remaining 00:00:00:00"
     ]
    },
    {
     "name": "stdout",
     "output_type": "stream",
     "text": [
      "\r",
      " [*********79%******     ] Elapsed 0.84s / Remaining 00:00:00:00"
     ]
    },
    {
     "name": "stdout",
     "output_type": "stream",
     "text": [
      "\r",
      " [*********79%******     ] Elapsed 0.84s / Remaining 00:00:00:00"
     ]
    },
    {
     "name": "stdout",
     "output_type": "stream",
     "text": [
      "\r",
      " [*********79%******     ] Elapsed 0.84s / Remaining 00:00:00:00"
     ]
    },
    {
     "name": "stdout",
     "output_type": "stream",
     "text": [
      "\r",
      " [*********79%******     ] Elapsed 0.84s / Remaining 00:00:00:00"
     ]
    },
    {
     "name": "stdout",
     "output_type": "stream",
     "text": [
      "\r",
      " [*********79%******     ] Elapsed 0.84s / Remaining 00:00:00:00"
     ]
    },
    {
     "name": "stdout",
     "output_type": "stream",
     "text": [
      "\r",
      " [*********79%******     ] Elapsed 0.84s / Remaining 00:00:00:00"
     ]
    },
    {
     "name": "stdout",
     "output_type": "stream",
     "text": [
      "\r",
      " [*********79%******     ] Elapsed 0.84s / Remaining 00:00:00:00"
     ]
    },
    {
     "name": "stdout",
     "output_type": "stream",
     "text": [
      "\r",
      " [*********79%******     ] Elapsed 0.84s / Remaining 00:00:00:00"
     ]
    },
    {
     "name": "stdout",
     "output_type": "stream",
     "text": [
      "\r",
      " [*********80%******     ] Elapsed 0.84s / Remaining 00:00:00:00"
     ]
    },
    {
     "name": "stdout",
     "output_type": "stream",
     "text": [
      "\r",
      " [*********80%******     ] Elapsed 0.85s / Remaining 00:00:00:00"
     ]
    },
    {
     "name": "stdout",
     "output_type": "stream",
     "text": [
      "\r",
      " [*********80%******     ] Elapsed 0.85s / Remaining 00:00:00:00"
     ]
    },
    {
     "name": "stdout",
     "output_type": "stream",
     "text": [
      "\r",
      " [*********80%******     ] Elapsed 0.85s / Remaining 00:00:00:00"
     ]
    },
    {
     "name": "stdout",
     "output_type": "stream",
     "text": [
      "\r",
      " [*********80%******     ] Elapsed 0.85s / Remaining 00:00:00:00"
     ]
    },
    {
     "name": "stdout",
     "output_type": "stream",
     "text": [
      "\r",
      " [*********80%******     ] Elapsed 0.85s / Remaining 00:00:00:00"
     ]
    },
    {
     "name": "stdout",
     "output_type": "stream",
     "text": [
      "\r",
      " [*********80%******     ] Elapsed 0.85s / Remaining 00:00:00:00"
     ]
    },
    {
     "name": "stdout",
     "output_type": "stream",
     "text": [
      "\r",
      " [*********80%******     ] Elapsed 0.85s / Remaining 00:00:00:00"
     ]
    },
    {
     "name": "stdout",
     "output_type": "stream",
     "text": [
      "\r",
      " [*********80%******     ] Elapsed 0.85s / Remaining 00:00:00:00"
     ]
    },
    {
     "name": "stdout",
     "output_type": "stream",
     "text": [
      "\r",
      " [*********80%******     ] Elapsed 0.85s / Remaining 00:00:00:00"
     ]
    },
    {
     "name": "stdout",
     "output_type": "stream",
     "text": [
      "\r",
      " [*********81%*******    ] Elapsed 0.85s / Remaining 00:00:00:00"
     ]
    },
    {
     "name": "stdout",
     "output_type": "stream",
     "text": [
      "\r",
      " [*********81%*******    ] Elapsed 0.86s / Remaining 00:00:00:00"
     ]
    },
    {
     "name": "stdout",
     "output_type": "stream",
     "text": [
      "\r",
      " [*********81%*******    ] Elapsed 0.86s / Remaining 00:00:00:00"
     ]
    },
    {
     "name": "stdout",
     "output_type": "stream",
     "text": [
      "\r",
      " [*********81%*******    ] Elapsed 0.86s / Remaining 00:00:00:00"
     ]
    },
    {
     "name": "stdout",
     "output_type": "stream",
     "text": [
      "\r",
      " [*********81%*******    ] Elapsed 0.86s / Remaining 00:00:00:00"
     ]
    },
    {
     "name": "stdout",
     "output_type": "stream",
     "text": [
      "\r",
      " [*********81%*******    ] Elapsed 0.86s / Remaining 00:00:00:00"
     ]
    },
    {
     "name": "stdout",
     "output_type": "stream",
     "text": [
      "\r",
      " [*********81%*******    ] Elapsed 0.86s / Remaining 00:00:00:00"
     ]
    },
    {
     "name": "stdout",
     "output_type": "stream",
     "text": [
      "\r",
      " [*********81%*******    ] Elapsed 0.86s / Remaining 00:00:00:00"
     ]
    },
    {
     "name": "stdout",
     "output_type": "stream",
     "text": [
      "\r",
      " [*********81%*******    ] Elapsed 0.86s / Remaining 00:00:00:00"
     ]
    },
    {
     "name": "stdout",
     "output_type": "stream",
     "text": [
      "\r",
      " [*********81%*******    ] Elapsed 0.86s / Remaining 00:00:00:00"
     ]
    },
    {
     "name": "stdout",
     "output_type": "stream",
     "text": [
      "\r",
      " [*********82%*******    ] Elapsed 0.86s / Remaining 00:00:00:00"
     ]
    },
    {
     "name": "stdout",
     "output_type": "stream",
     "text": [
      "\r",
      " [*********82%*******    ] Elapsed 0.87s / Remaining 00:00:00:00"
     ]
    },
    {
     "name": "stdout",
     "output_type": "stream",
     "text": [
      "\r",
      " [*********82%*******    ] Elapsed 0.87s / Remaining 00:00:00:00"
     ]
    },
    {
     "name": "stdout",
     "output_type": "stream",
     "text": [
      "\r",
      " [*********82%*******    ] Elapsed 0.87s / Remaining 00:00:00:00"
     ]
    },
    {
     "name": "stdout",
     "output_type": "stream",
     "text": [
      "\r",
      " [*********82%*******    ] Elapsed 0.87s / Remaining 00:00:00:00"
     ]
    },
    {
     "name": "stdout",
     "output_type": "stream",
     "text": [
      "\r",
      " [*********82%*******    ] Elapsed 0.87s / Remaining 00:00:00:00"
     ]
    },
    {
     "name": "stdout",
     "output_type": "stream",
     "text": [
      "\r",
      " [*********82%*******    ] Elapsed 0.87s / Remaining 00:00:00:00"
     ]
    },
    {
     "name": "stdout",
     "output_type": "stream",
     "text": [
      "\r",
      " [*********82%*******    ] Elapsed 0.87s / Remaining 00:00:00:00"
     ]
    },
    {
     "name": "stdout",
     "output_type": "stream",
     "text": [
      "\r",
      " [*********82%*******    ] Elapsed 0.87s / Remaining 00:00:00:00"
     ]
    },
    {
     "name": "stdout",
     "output_type": "stream",
     "text": [
      "\r",
      " [*********82%*******    ] Elapsed 0.87s / Remaining 00:00:00:00"
     ]
    },
    {
     "name": "stdout",
     "output_type": "stream",
     "text": [
      "\r",
      " [*********83%*******    ] Elapsed 0.87s / Remaining 00:00:00:00"
     ]
    },
    {
     "name": "stdout",
     "output_type": "stream",
     "text": [
      "\r",
      " [*********83%*******    ] Elapsed 0.88s / Remaining 00:00:00:00"
     ]
    },
    {
     "name": "stdout",
     "output_type": "stream",
     "text": [
      "\r",
      " [*********83%*******    ] Elapsed 0.88s / Remaining 00:00:00:00"
     ]
    },
    {
     "name": "stdout",
     "output_type": "stream",
     "text": [
      "\r",
      " [*********83%*******    ] Elapsed 0.88s / Remaining 00:00:00:00"
     ]
    },
    {
     "name": "stdout",
     "output_type": "stream",
     "text": [
      "\r",
      " [*********83%*******    ] Elapsed 0.88s / Remaining 00:00:00:00"
     ]
    },
    {
     "name": "stdout",
     "output_type": "stream",
     "text": [
      "\r",
      " [*********83%*******    ] Elapsed 0.88s / Remaining 00:00:00:00"
     ]
    },
    {
     "name": "stdout",
     "output_type": "stream",
     "text": [
      "\r",
      " [*********83%*******    ] Elapsed 0.88s / Remaining 00:00:00:00"
     ]
    },
    {
     "name": "stdout",
     "output_type": "stream",
     "text": [
      "\r",
      " [*********83%*******    ] Elapsed 0.88s / Remaining 00:00:00:00"
     ]
    },
    {
     "name": "stdout",
     "output_type": "stream",
     "text": [
      "\r",
      " [*********83%*******    ] Elapsed 0.88s / Remaining 00:00:00:00"
     ]
    },
    {
     "name": "stdout",
     "output_type": "stream",
     "text": [
      "\r",
      " [*********83%*******    ] Elapsed 0.88s / Remaining 00:00:00:00"
     ]
    },
    {
     "name": "stdout",
     "output_type": "stream",
     "text": [
      "\r",
      " [*********84%*******    ] Elapsed 0.89s / Remaining 00:00:00:00"
     ]
    },
    {
     "name": "stdout",
     "output_type": "stream",
     "text": [
      "\r",
      " [*********84%*******    ] Elapsed 0.89s / Remaining 00:00:00:00"
     ]
    },
    {
     "name": "stdout",
     "output_type": "stream",
     "text": [
      "\r",
      " [*********84%*******    ] Elapsed 0.89s / Remaining 00:00:00:00"
     ]
    },
    {
     "name": "stdout",
     "output_type": "stream",
     "text": [
      "\r",
      " [*********84%*******    ] Elapsed 0.89s / Remaining 00:00:00:00"
     ]
    },
    {
     "name": "stdout",
     "output_type": "stream",
     "text": [
      "\r",
      " [*********84%*******    ] Elapsed 0.89s / Remaining 00:00:00:00"
     ]
    },
    {
     "name": "stdout",
     "output_type": "stream",
     "text": [
      "\r",
      " [*********84%*******    ] Elapsed 0.89s / Remaining 00:00:00:00"
     ]
    },
    {
     "name": "stdout",
     "output_type": "stream",
     "text": [
      "\r",
      " [*********84%*******    ] Elapsed 0.89s / Remaining 00:00:00:00"
     ]
    },
    {
     "name": "stdout",
     "output_type": "stream",
     "text": [
      "\r",
      " [*********84%*******    ] Elapsed 0.89s / Remaining 00:00:00:00"
     ]
    },
    {
     "name": "stdout",
     "output_type": "stream",
     "text": [
      "\r",
      " [*********84%*******    ] Elapsed 0.89s / Remaining 00:00:00:00"
     ]
    },
    {
     "name": "stdout",
     "output_type": "stream",
     "text": [
      "\r",
      " [*********84%*******    ] Elapsed 0.90s / Remaining 00:00:00:00"
     ]
    },
    {
     "name": "stdout",
     "output_type": "stream",
     "text": [
      "\r",
      " [*********85%********   ] Elapsed 0.90s / Remaining 00:00:00:00"
     ]
    },
    {
     "name": "stdout",
     "output_type": "stream",
     "text": [
      "\r",
      " [*********85%********   ] Elapsed 0.90s / Remaining 00:00:00:00"
     ]
    },
    {
     "name": "stdout",
     "output_type": "stream",
     "text": [
      "\r",
      " [*********85%********   ] Elapsed 0.90s / Remaining 00:00:00:00"
     ]
    },
    {
     "name": "stdout",
     "output_type": "stream",
     "text": [
      "\r",
      " [*********85%********   ] Elapsed 0.90s / Remaining 00:00:00:00"
     ]
    },
    {
     "name": "stdout",
     "output_type": "stream",
     "text": [
      "\r",
      " [*********85%********   ] Elapsed 0.90s / Remaining 00:00:00:00"
     ]
    },
    {
     "name": "stdout",
     "output_type": "stream",
     "text": [
      "\r",
      " [*********85%********   ] Elapsed 0.90s / Remaining 00:00:00:00"
     ]
    },
    {
     "name": "stdout",
     "output_type": "stream",
     "text": [
      "\r",
      " [*********85%********   ] Elapsed 0.90s / Remaining 00:00:00:00"
     ]
    },
    {
     "name": "stdout",
     "output_type": "stream",
     "text": [
      "\r",
      " [*********85%********   ] Elapsed 0.90s / Remaining 00:00:00:00"
     ]
    },
    {
     "name": "stdout",
     "output_type": "stream",
     "text": [
      "\r",
      " [*********85%********   ] Elapsed 0.90s / Remaining 00:00:00:00"
     ]
    },
    {
     "name": "stdout",
     "output_type": "stream",
     "text": [
      "\r",
      " [*********85%********   ] Elapsed 0.91s / Remaining 00:00:00:00"
     ]
    },
    {
     "name": "stdout",
     "output_type": "stream",
     "text": [
      "\r",
      " [*********86%********   ] Elapsed 0.91s / Remaining 00:00:00:00"
     ]
    },
    {
     "name": "stdout",
     "output_type": "stream",
     "text": [
      "\r",
      " [*********86%********   ] Elapsed 0.91s / Remaining 00:00:00:00"
     ]
    },
    {
     "name": "stdout",
     "output_type": "stream",
     "text": [
      "\r",
      " [*********86%********   ] Elapsed 0.91s / Remaining 00:00:00:00"
     ]
    },
    {
     "name": "stdout",
     "output_type": "stream",
     "text": [
      "\r",
      " [*********86%********   ] Elapsed 0.91s / Remaining 00:00:00:00"
     ]
    },
    {
     "name": "stdout",
     "output_type": "stream",
     "text": [
      "\r",
      " [*********86%********   ] Elapsed 0.91s / Remaining 00:00:00:00"
     ]
    },
    {
     "name": "stdout",
     "output_type": "stream",
     "text": [
      "\r",
      " [*********86%********   ] Elapsed 0.91s / Remaining 00:00:00:00"
     ]
    },
    {
     "name": "stdout",
     "output_type": "stream",
     "text": [
      "\r",
      " [*********86%********   ] Elapsed 0.91s / Remaining 00:00:00:00"
     ]
    },
    {
     "name": "stdout",
     "output_type": "stream",
     "text": [
      "\r",
      " [*********86%********   ] Elapsed 0.91s / Remaining 00:00:00:00"
     ]
    },
    {
     "name": "stdout",
     "output_type": "stream",
     "text": [
      "\r",
      " [*********86%********   ] Elapsed 0.92s / Remaining 00:00:00:00"
     ]
    },
    {
     "name": "stdout",
     "output_type": "stream",
     "text": [
      "\r",
      " [*********86%********   ] Elapsed 0.92s / Remaining 00:00:00:00"
     ]
    },
    {
     "name": "stdout",
     "output_type": "stream",
     "text": [
      "\r",
      " [*********87%********   ] Elapsed 0.92s / Remaining 00:00:00:00"
     ]
    },
    {
     "name": "stdout",
     "output_type": "stream",
     "text": [
      "\r",
      " [*********87%********   ] Elapsed 0.92s / Remaining 00:00:00:00"
     ]
    },
    {
     "name": "stdout",
     "output_type": "stream",
     "text": [
      "\r",
      " [*********87%********   ] Elapsed 0.92s / Remaining 00:00:00:00"
     ]
    },
    {
     "name": "stdout",
     "output_type": "stream",
     "text": [
      "\r",
      " [*********87%********   ] Elapsed 0.92s / Remaining 00:00:00:00"
     ]
    },
    {
     "name": "stdout",
     "output_type": "stream",
     "text": [
      "\r",
      " [*********87%********   ] Elapsed 0.92s / Remaining 00:00:00:00"
     ]
    },
    {
     "name": "stdout",
     "output_type": "stream",
     "text": [
      "\r",
      " [*********87%********   ] Elapsed 0.92s / Remaining 00:00:00:00"
     ]
    },
    {
     "name": "stdout",
     "output_type": "stream",
     "text": [
      "\r",
      " [*********87%********   ] Elapsed 0.93s / Remaining 00:00:00:00"
     ]
    },
    {
     "name": "stdout",
     "output_type": "stream",
     "text": [
      "\r",
      " [*********87%********   ] Elapsed 0.93s / Remaining 00:00:00:00"
     ]
    },
    {
     "name": "stdout",
     "output_type": "stream",
     "text": [
      "\r",
      " [*********87%********   ] Elapsed 0.93s / Remaining 00:00:00:00"
     ]
    },
    {
     "name": "stdout",
     "output_type": "stream",
     "text": [
      "\r",
      " [*********87%********   ] Elapsed 0.93s / Remaining 00:00:00:00"
     ]
    },
    {
     "name": "stdout",
     "output_type": "stream",
     "text": [
      "\r",
      " [*********88%********   ] Elapsed 0.93s / Remaining 00:00:00:00"
     ]
    },
    {
     "name": "stdout",
     "output_type": "stream",
     "text": [
      "\r",
      " [*********88%********   ] Elapsed 0.93s / Remaining 00:00:00:00"
     ]
    },
    {
     "name": "stdout",
     "output_type": "stream",
     "text": [
      "\r",
      " [*********88%********   ] Elapsed 0.93s / Remaining 00:00:00:00"
     ]
    },
    {
     "name": "stdout",
     "output_type": "stream",
     "text": [
      "\r",
      " [*********88%********   ] Elapsed 0.93s / Remaining 00:00:00:00"
     ]
    },
    {
     "name": "stdout",
     "output_type": "stream",
     "text": [
      "\r",
      " [*********88%********   ] Elapsed 0.93s / Remaining 00:00:00:00"
     ]
    },
    {
     "name": "stdout",
     "output_type": "stream",
     "text": [
      "\r",
      " [*********88%********   ] Elapsed 0.93s / Remaining 00:00:00:00"
     ]
    },
    {
     "name": "stdout",
     "output_type": "stream",
     "text": [
      "\r",
      " [*********88%********   ] Elapsed 0.93s / Remaining 00:00:00:00"
     ]
    },
    {
     "name": "stdout",
     "output_type": "stream",
     "text": [
      "\r",
      " [*********88%********   ] Elapsed 0.94s / Remaining 00:00:00:00"
     ]
    },
    {
     "name": "stdout",
     "output_type": "stream",
     "text": [
      "\r",
      " [*********88%********   ] Elapsed 0.94s / Remaining 00:00:00:00"
     ]
    },
    {
     "name": "stdout",
     "output_type": "stream",
     "text": [
      "\r",
      " [*********88%********   ] Elapsed 0.94s / Remaining 00:00:00:00"
     ]
    },
    {
     "name": "stdout",
     "output_type": "stream",
     "text": [
      "\r",
      " [*********89%********   ] Elapsed 0.94s / Remaining 00:00:00:00"
     ]
    },
    {
     "name": "stdout",
     "output_type": "stream",
     "text": [
      "\r",
      " [*********89%********   ] Elapsed 0.94s / Remaining 00:00:00:00"
     ]
    },
    {
     "name": "stdout",
     "output_type": "stream",
     "text": [
      "\r",
      " [*********89%********   ] Elapsed 0.94s / Remaining 00:00:00:00"
     ]
    },
    {
     "name": "stdout",
     "output_type": "stream",
     "text": [
      "\r",
      " [*********89%********   ] Elapsed 0.94s / Remaining 00:00:00:00"
     ]
    },
    {
     "name": "stdout",
     "output_type": "stream",
     "text": [
      "\r",
      " [*********89%********   ] Elapsed 0.94s / Remaining 00:00:00:00"
     ]
    },
    {
     "name": "stdout",
     "output_type": "stream",
     "text": [
      "\r",
      " [*********89%********   ] Elapsed 0.94s / Remaining 00:00:00:00"
     ]
    },
    {
     "name": "stdout",
     "output_type": "stream",
     "text": [
      "\r",
      " [*********89%********   ] Elapsed 0.95s / Remaining 00:00:00:00"
     ]
    },
    {
     "name": "stdout",
     "output_type": "stream",
     "text": [
      "\r",
      " [*********89%********   ] Elapsed 0.95s / Remaining 00:00:00:00"
     ]
    },
    {
     "name": "stdout",
     "output_type": "stream",
     "text": [
      "\r",
      " [*********89%********   ] Elapsed 0.95s / Remaining 00:00:00:00"
     ]
    },
    {
     "name": "stdout",
     "output_type": "stream",
     "text": [
      "\r",
      " [*********89%********   ] Elapsed 0.95s / Remaining 00:00:00:00"
     ]
    },
    {
     "name": "stdout",
     "output_type": "stream",
     "text": [
      "\r",
      " [*********90%*********  ] Elapsed 0.95s / Remaining 00:00:00:00"
     ]
    },
    {
     "name": "stdout",
     "output_type": "stream",
     "text": [
      "\r",
      " [*********90%*********  ] Elapsed 0.95s / Remaining 00:00:00:00"
     ]
    },
    {
     "name": "stdout",
     "output_type": "stream",
     "text": [
      "\r",
      " [*********90%*********  ] Elapsed 0.95s / Remaining 00:00:00:00"
     ]
    },
    {
     "name": "stdout",
     "output_type": "stream",
     "text": [
      "\r",
      " [*********90%*********  ] Elapsed 0.96s / Remaining 00:00:00:00"
     ]
    },
    {
     "name": "stdout",
     "output_type": "stream",
     "text": [
      "\r",
      " [*********90%*********  ] Elapsed 0.96s / Remaining 00:00:00:00"
     ]
    },
    {
     "name": "stdout",
     "output_type": "stream",
     "text": [
      "\r",
      " [*********90%*********  ] Elapsed 0.96s / Remaining 00:00:00:00"
     ]
    },
    {
     "name": "stdout",
     "output_type": "stream",
     "text": [
      "\r",
      " [*********90%*********  ] Elapsed 0.96s / Remaining 00:00:00:00"
     ]
    },
    {
     "name": "stdout",
     "output_type": "stream",
     "text": [
      "\r",
      " [*********90%*********  ] Elapsed 0.96s / Remaining 00:00:00:00"
     ]
    },
    {
     "name": "stdout",
     "output_type": "stream",
     "text": [
      "\r",
      " [*********90%*********  ] Elapsed 0.96s / Remaining 00:00:00:00"
     ]
    },
    {
     "name": "stdout",
     "output_type": "stream",
     "text": [
      "\r",
      " [*********90%*********  ] Elapsed 0.96s / Remaining 00:00:00:00"
     ]
    },
    {
     "name": "stdout",
     "output_type": "stream",
     "text": [
      "\r",
      " [*********91%*********  ] Elapsed 0.96s / Remaining 00:00:00:00"
     ]
    },
    {
     "name": "stdout",
     "output_type": "stream",
     "text": [
      "\r",
      " [*********91%*********  ] Elapsed 0.96s / Remaining 00:00:00:00"
     ]
    },
    {
     "name": "stdout",
     "output_type": "stream",
     "text": [
      "\r",
      " [*********91%*********  ] Elapsed 0.96s / Remaining 00:00:00:00"
     ]
    },
    {
     "name": "stdout",
     "output_type": "stream",
     "text": [
      "\r",
      " [*********91%*********  ] Elapsed 0.97s / Remaining 00:00:00:00"
     ]
    },
    {
     "name": "stdout",
     "output_type": "stream",
     "text": [
      "\r",
      " [*********91%*********  ] Elapsed 0.97s / Remaining 00:00:00:00"
     ]
    },
    {
     "name": "stdout",
     "output_type": "stream",
     "text": [
      "\r",
      " [*********91%*********  ] Elapsed 0.97s / Remaining 00:00:00:00"
     ]
    },
    {
     "name": "stdout",
     "output_type": "stream",
     "text": [
      "\r",
      " [*********91%*********  ] Elapsed 0.97s / Remaining 00:00:00:00"
     ]
    },
    {
     "name": "stdout",
     "output_type": "stream",
     "text": [
      "\r",
      " [*********91%*********  ] Elapsed 0.97s / Remaining 00:00:00:00"
     ]
    },
    {
     "name": "stdout",
     "output_type": "stream",
     "text": [
      "\r",
      " [*********91%*********  ] Elapsed 0.97s / Remaining 00:00:00:00"
     ]
    },
    {
     "name": "stdout",
     "output_type": "stream",
     "text": [
      "\r",
      " [*********91%*********  ] Elapsed 0.97s / Remaining 00:00:00:00"
     ]
    },
    {
     "name": "stdout",
     "output_type": "stream",
     "text": [
      "\r",
      " [*********92%*********  ] Elapsed 0.97s / Remaining 00:00:00:00"
     ]
    },
    {
     "name": "stdout",
     "output_type": "stream",
     "text": [
      "\r",
      " [*********92%*********  ] Elapsed 0.97s / Remaining 00:00:00:00"
     ]
    },
    {
     "name": "stdout",
     "output_type": "stream",
     "text": [
      "\r",
      " [*********92%*********  ] Elapsed 0.98s / Remaining 00:00:00:00"
     ]
    },
    {
     "name": "stdout",
     "output_type": "stream",
     "text": [
      "\r",
      " [*********92%*********  ] Elapsed 0.98s / Remaining 00:00:00:00"
     ]
    },
    {
     "name": "stdout",
     "output_type": "stream",
     "text": [
      "\r",
      " [*********92%*********  ] Elapsed 0.98s / Remaining 00:00:00:00"
     ]
    },
    {
     "name": "stdout",
     "output_type": "stream",
     "text": [
      "\r",
      " [*********92%*********  ] Elapsed 0.98s / Remaining 00:00:00:00"
     ]
    },
    {
     "name": "stdout",
     "output_type": "stream",
     "text": [
      "\r",
      " [*********92%*********  ] Elapsed 0.98s / Remaining 00:00:00:00"
     ]
    },
    {
     "name": "stdout",
     "output_type": "stream",
     "text": [
      "\r",
      " [*********92%*********  ] Elapsed 0.98s / Remaining 00:00:00:00"
     ]
    },
    {
     "name": "stdout",
     "output_type": "stream",
     "text": [
      "\r",
      " [*********92%*********  ] Elapsed 0.98s / Remaining 00:00:00:00"
     ]
    },
    {
     "name": "stdout",
     "output_type": "stream",
     "text": [
      "\r",
      " [*********92%*********  ] Elapsed 0.98s / Remaining 00:00:00:00"
     ]
    },
    {
     "name": "stdout",
     "output_type": "stream",
     "text": [
      "\r",
      " [*********93%*********  ] Elapsed 0.98s / Remaining 00:00:00:00"
     ]
    },
    {
     "name": "stdout",
     "output_type": "stream",
     "text": [
      "\r",
      " [*********93%*********  ] Elapsed 0.99s / Remaining 00:00:00:00"
     ]
    },
    {
     "name": "stdout",
     "output_type": "stream",
     "text": [
      "\r",
      " [*********93%*********  ] Elapsed 0.99s / Remaining 00:00:00:00"
     ]
    },
    {
     "name": "stdout",
     "output_type": "stream",
     "text": [
      "\r",
      " [*********93%*********  ] Elapsed 0.99s / Remaining 00:00:00:00"
     ]
    },
    {
     "name": "stdout",
     "output_type": "stream",
     "text": [
      "\r",
      " [*********93%*********  ] Elapsed 0.99s / Remaining 00:00:00:00"
     ]
    },
    {
     "name": "stdout",
     "output_type": "stream",
     "text": [
      "\r",
      " [*********93%*********  ] Elapsed 0.99s / Remaining 00:00:00:00"
     ]
    },
    {
     "name": "stdout",
     "output_type": "stream",
     "text": [
      "\r",
      " [*********93%*********  ] Elapsed 0.99s / Remaining 00:00:00:00"
     ]
    },
    {
     "name": "stdout",
     "output_type": "stream",
     "text": [
      "\r",
      " [*********93%*********  ] Elapsed 0.99s / Remaining 00:00:00:00"
     ]
    },
    {
     "name": "stdout",
     "output_type": "stream",
     "text": [
      "\r",
      " [*********93%*********  ] Elapsed 0.99s / Remaining 00:00:00:00"
     ]
    },
    {
     "name": "stdout",
     "output_type": "stream",
     "text": [
      "\r",
      " [*********93%*********  ] Elapsed 0.99s / Remaining 00:00:00:00"
     ]
    },
    {
     "name": "stdout",
     "output_type": "stream",
     "text": [
      "\r",
      " [*********94%********** ] Elapsed 0.99s / Remaining 00:00:00:00"
     ]
    },
    {
     "name": "stdout",
     "output_type": "stream",
     "text": [
      "\r",
      " [*********94%********** ] Elapsed 1.00s / Remaining 00:00:00:00"
     ]
    },
    {
     "name": "stdout",
     "output_type": "stream",
     "text": [
      "\r",
      " [*********94%********** ] Elapsed 1.00s / Remaining 00:00:00:00"
     ]
    },
    {
     "name": "stdout",
     "output_type": "stream",
     "text": [
      "\r",
      " [*********94%********** ] Elapsed 1.00s / Remaining 00:00:00:00"
     ]
    },
    {
     "name": "stdout",
     "output_type": "stream",
     "text": [
      "\r",
      " [*********94%********** ] Elapsed 1.00s / Remaining 00:00:00:00"
     ]
    },
    {
     "name": "stdout",
     "output_type": "stream",
     "text": [
      "\r",
      " [*********94%********** ] Elapsed 1.00s / Remaining 00:00:00:00"
     ]
    },
    {
     "name": "stdout",
     "output_type": "stream",
     "text": [
      "\r",
      " [*********94%********** ] Elapsed 1.00s / Remaining 00:00:00:00"
     ]
    },
    {
     "name": "stdout",
     "output_type": "stream",
     "text": [
      "\r",
      " [*********94%********** ] Elapsed 1.00s / Remaining 00:00:00:00"
     ]
    },
    {
     "name": "stdout",
     "output_type": "stream",
     "text": [
      "\r",
      " [*********94%********** ] Elapsed 1.00s / Remaining 00:00:00:00"
     ]
    },
    {
     "name": "stdout",
     "output_type": "stream",
     "text": [
      "\r",
      " [*********94%********** ] Elapsed 1.00s / Remaining 00:00:00:00"
     ]
    },
    {
     "name": "stdout",
     "output_type": "stream",
     "text": [
      "\r",
      " [*********95%********** ] Elapsed 1.01s / Remaining 00:00:00:00"
     ]
    },
    {
     "name": "stdout",
     "output_type": "stream",
     "text": [
      "\r",
      " [*********95%********** ] Elapsed 1.01s / Remaining 00:00:00:00"
     ]
    },
    {
     "name": "stdout",
     "output_type": "stream",
     "text": [
      "\r",
      " [*********95%********** ] Elapsed 1.01s / Remaining 00:00:00:00"
     ]
    },
    {
     "name": "stdout",
     "output_type": "stream",
     "text": [
      "\r",
      " [*********95%********** ] Elapsed 1.01s / Remaining 00:00:00:00"
     ]
    },
    {
     "name": "stdout",
     "output_type": "stream",
     "text": [
      "\r",
      " [*********95%********** ] Elapsed 1.01s / Remaining 00:00:00:00"
     ]
    },
    {
     "name": "stdout",
     "output_type": "stream",
     "text": [
      "\r",
      " [*********95%********** ] Elapsed 1.01s / Remaining 00:00:00:00"
     ]
    },
    {
     "name": "stdout",
     "output_type": "stream",
     "text": [
      "\r",
      " [*********95%********** ] Elapsed 1.01s / Remaining 00:00:00:00"
     ]
    },
    {
     "name": "stdout",
     "output_type": "stream",
     "text": [
      "\r",
      " [*********95%********** ] Elapsed 1.01s / Remaining 00:00:00:00"
     ]
    },
    {
     "name": "stdout",
     "output_type": "stream",
     "text": [
      "\r",
      " [*********95%********** ] Elapsed 1.01s / Remaining 00:00:00:00"
     ]
    },
    {
     "name": "stdout",
     "output_type": "stream",
     "text": [
      "\r",
      " [*********95%********** ] Elapsed 1.02s / Remaining 00:00:00:00"
     ]
    },
    {
     "name": "stdout",
     "output_type": "stream",
     "text": [
      "\r",
      " [*********96%********** ] Elapsed 1.02s / Remaining 00:00:00:00"
     ]
    },
    {
     "name": "stdout",
     "output_type": "stream",
     "text": [
      "\r",
      " [*********96%********** ] Elapsed 1.02s / Remaining 00:00:00:00"
     ]
    },
    {
     "name": "stdout",
     "output_type": "stream",
     "text": [
      "\r",
      " [*********96%********** ] Elapsed 1.02s / Remaining 00:00:00:00"
     ]
    },
    {
     "name": "stdout",
     "output_type": "stream",
     "text": [
      "\r",
      " [*********96%********** ] Elapsed 1.02s / Remaining 00:00:00:00"
     ]
    },
    {
     "name": "stdout",
     "output_type": "stream",
     "text": [
      "\r",
      " [*********96%********** ] Elapsed 1.02s / Remaining 00:00:00:00"
     ]
    },
    {
     "name": "stdout",
     "output_type": "stream",
     "text": [
      "\r",
      " [*********96%********** ] Elapsed 1.02s / Remaining 00:00:00:00"
     ]
    },
    {
     "name": "stdout",
     "output_type": "stream",
     "text": [
      "\r",
      " [*********96%********** ] Elapsed 1.02s / Remaining 00:00:00:00"
     ]
    },
    {
     "name": "stdout",
     "output_type": "stream",
     "text": [
      "\r",
      " [*********96%********** ] Elapsed 1.02s / Remaining 00:00:00:00"
     ]
    },
    {
     "name": "stdout",
     "output_type": "stream",
     "text": [
      "\r",
      " [*********96%********** ] Elapsed 1.03s / Remaining 00:00:00:00"
     ]
    },
    {
     "name": "stdout",
     "output_type": "stream",
     "text": [
      "\r",
      " [*********96%********** ] Elapsed 1.03s / Remaining 00:00:00:00"
     ]
    },
    {
     "name": "stdout",
     "output_type": "stream",
     "text": [
      "\r",
      " [*********97%********** ] Elapsed 1.03s / Remaining 00:00:00:00"
     ]
    },
    {
     "name": "stdout",
     "output_type": "stream",
     "text": [
      "\r",
      " [*********97%********** ] Elapsed 1.03s / Remaining 00:00:00:00"
     ]
    },
    {
     "name": "stdout",
     "output_type": "stream",
     "text": [
      "\r",
      " [*********97%********** ] Elapsed 1.03s / Remaining 00:00:00:00"
     ]
    },
    {
     "name": "stdout",
     "output_type": "stream",
     "text": [
      "\r",
      " [*********97%********** ] Elapsed 1.03s / Remaining 00:00:00:00"
     ]
    },
    {
     "name": "stdout",
     "output_type": "stream",
     "text": [
      "\r",
      " [*********97%********** ] Elapsed 1.03s / Remaining 00:00:00:00"
     ]
    },
    {
     "name": "stdout",
     "output_type": "stream",
     "text": [
      "\r",
      " [*********97%********** ] Elapsed 1.03s / Remaining 00:00:00:00"
     ]
    },
    {
     "name": "stdout",
     "output_type": "stream",
     "text": [
      "\r",
      " [*********97%********** ] Elapsed 1.03s / Remaining 00:00:00:00"
     ]
    },
    {
     "name": "stdout",
     "output_type": "stream",
     "text": [
      "\r",
      " [*********97%********** ] Elapsed 1.03s / Remaining 00:00:00:00"
     ]
    },
    {
     "name": "stdout",
     "output_type": "stream",
     "text": [
      "\r",
      " [*********97%********** ] Elapsed 1.04s / Remaining 00:00:00:00"
     ]
    },
    {
     "name": "stdout",
     "output_type": "stream",
     "text": [
      "\r",
      " [*********97%********** ] Elapsed 1.04s / Remaining 00:00:00:00"
     ]
    },
    {
     "name": "stdout",
     "output_type": "stream",
     "text": [
      "\r",
      " [*********98%***********] Elapsed 1.04s / Remaining 00:00:00:00"
     ]
    },
    {
     "name": "stdout",
     "output_type": "stream",
     "text": [
      "\r",
      " [*********98%***********] Elapsed 1.04s / Remaining 00:00:00:00"
     ]
    },
    {
     "name": "stdout",
     "output_type": "stream",
     "text": [
      "\r",
      " [*********98%***********] Elapsed 1.04s / Remaining 00:00:00:00"
     ]
    },
    {
     "name": "stdout",
     "output_type": "stream",
     "text": [
      "\r",
      " [*********98%***********] Elapsed 1.04s / Remaining 00:00:00:00"
     ]
    },
    {
     "name": "stdout",
     "output_type": "stream",
     "text": [
      "\r",
      " [*********98%***********] Elapsed 1.04s / Remaining 00:00:00:00"
     ]
    },
    {
     "name": "stdout",
     "output_type": "stream",
     "text": [
      "\r",
      " [*********98%***********] Elapsed 1.04s / Remaining 00:00:00:00"
     ]
    },
    {
     "name": "stdout",
     "output_type": "stream",
     "text": [
      "\r",
      " [*********98%***********] Elapsed 1.04s / Remaining 00:00:00:00"
     ]
    },
    {
     "name": "stdout",
     "output_type": "stream",
     "text": [
      "\r",
      " [*********98%***********] Elapsed 1.05s / Remaining 00:00:00:00"
     ]
    },
    {
     "name": "stdout",
     "output_type": "stream",
     "text": [
      "\r",
      " [*********98%***********] Elapsed 1.05s / Remaining 00:00:00:00"
     ]
    },
    {
     "name": "stdout",
     "output_type": "stream",
     "text": [
      "\r",
      " [*********98%***********] Elapsed 1.05s / Remaining 00:00:00:00"
     ]
    },
    {
     "name": "stdout",
     "output_type": "stream",
     "text": [
      "\r",
      " [*********99%***********] Elapsed 1.05s / Remaining 00:00:00:00"
     ]
    },
    {
     "name": "stdout",
     "output_type": "stream",
     "text": [
      "\r",
      " [*********99%***********] Elapsed 1.05s / Remaining 00:00:00:00"
     ]
    },
    {
     "name": "stdout",
     "output_type": "stream",
     "text": [
      "\r",
      " [*********99%***********] Elapsed 1.05s / Remaining 00:00:00:00"
     ]
    },
    {
     "name": "stdout",
     "output_type": "stream",
     "text": [
      "\r",
      " [*********99%***********] Elapsed 1.05s / Remaining 00:00:00:00"
     ]
    },
    {
     "name": "stdout",
     "output_type": "stream",
     "text": [
      "\r",
      " [*********99%***********] Elapsed 1.05s / Remaining 00:00:00:00"
     ]
    },
    {
     "name": "stdout",
     "output_type": "stream",
     "text": [
      "\r",
      " [*********99%***********] Elapsed 1.05s / Remaining 00:00:00:00"
     ]
    },
    {
     "name": "stdout",
     "output_type": "stream",
     "text": [
      "\r",
      " [*********99%***********] Elapsed 1.05s / Remaining 00:00:00:00"
     ]
    },
    {
     "name": "stdout",
     "output_type": "stream",
     "text": [
      "\r",
      " [*********99%***********] Elapsed 1.06s / Remaining 00:00:00:00"
     ]
    },
    {
     "name": "stdout",
     "output_type": "stream",
     "text": [
      "\r",
      " [*********99%***********] Elapsed 1.06s / Remaining 00:00:00:00"
     ]
    },
    {
     "name": "stdout",
     "output_type": "stream",
     "text": [
      "\r",
      " [*********99%***********] Elapsed 1.06s / Remaining 00:00:00:00"
     ]
    },
    {
     "name": "stdout",
     "output_type": "stream",
     "text": [
      "\r",
      " [********100%***********] Elapsed 1.06s / Remaining 00:00:00:00"
     ]
    },
    {
     "name": "stdout",
     "output_type": "stream",
     "text": [
      "\r",
      " [********100%***********] Elapsed 1.06s / Remaining 00:00:00:00"
     ]
    },
    {
     "name": "stdout",
     "output_type": "stream",
     "text": [
      "\r",
      " [********100%***********] Elapsed 1.06s / Remaining 00:00:00:00"
     ]
    },
    {
     "name": "stdout",
     "output_type": "stream",
     "text": [
      "\r",
      " [********100%***********] Elapsed 1.06s / Remaining 00:00:00:00"
     ]
    },
    {
     "name": "stdout",
     "output_type": "stream",
     "text": [
      "\r",
      " [********100%***********] Elapsed 1.06s / Remaining 00:00:00:00"
     ]
    },
    {
     "name": "stdout",
     "output_type": "stream",
     "text": [
      "\r",
      " Total run time:   1.06s\n",
      "ODE solver time: 1.0641870498657227\n"
     ]
    }
   ],
   "source": [
    "with timer(\"RHS construction time\"):\n",
    "    env_pade = env.approximate(method=\"pade\", Nk=Nk)\n",
    "    HEOMPade = HEOMSolver(Hsys, (env_pade, Q), NC, options=options)\n",
    "\n",
    "with timer(\"ODE solver time\"):\n",
    "    resultPade = HEOMPade.run(rho0, tlist)"
   ]
  },
  {
   "cell_type": "code",
   "execution_count": 16,
   "id": "449ea150",
   "metadata": {
    "execution": {
     "iopub.execute_input": "2025-08-20T04:02:49.285463Z",
     "iopub.status.busy": "2025-08-20T04:02:49.285278Z",
     "iopub.status.idle": "2025-08-20T04:02:49.435626Z",
     "shell.execute_reply": "2025-08-20T04:02:49.435072Z"
    }
   },
   "outputs": [
    {
     "data": {
      "image/png": "[encoded data removed]",
      "text/plain": [
       "<Figure size 800x800 with 1 Axes>"
      ]
     },
     "metadata": {},
     "output_type": "display_data"
    }
   ],
   "source": [
    "# Plot the results\n",
    "plot_result_expectations([\n",
    "    (resultMatsT, P11p, 'b', \"P11 Matsubara (+term)\"),\n",
    "    (resultMatsT, P12p, 'r', \"P12 Matsubara (+term)\"),\n",
    "    (resultPade, P11p, 'b--', \"P11 Pade\"),\n",
    "    (resultPade, P12p, 'r--', \"P12 Pade\"),\n",
    "]);"
   ]
  },
  {
   "cell_type": "markdown",
   "id": "527bb813",
   "metadata": {},
   "source": [
    "## Simulation 4: Fitting approach"
   ]
  },
  {
   "cell_type": "code",
   "execution_count": 17,
   "id": "afe5cfe2",
   "metadata": {
    "execution": {
     "iopub.execute_input": "2025-08-20T04:02:49.437282Z",
     "iopub.status.busy": "2025-08-20T04:02:49.437093Z",
     "iopub.status.idle": "2025-08-20T04:02:51.178667Z",
     "shell.execute_reply": "2025-08-20T04:02:51.178126Z"
    }
   },
   "outputs": [
    {
     "name": "stdout",
     "output_type": "stream",
     "text": [
      "RHS construction time: 0.3521721363067627\n",
      "\r",
      " [          0%           ] Elapsed 0.00s / Remaining 00:00:00:00"
     ]
    },
    {
     "name": "stdout",
     "output_type": "stream",
     "text": [
      "\r",
      " [          0%           ] Elapsed 0.00s / Remaining 00:00:00:00"
     ]
    },
    {
     "name": "stdout",
     "output_type": "stream",
     "text": [
      "\r",
      " [          0%           ] Elapsed 0.01s / Remaining 00:00:00:00"
     ]
    },
    {
     "name": "stdout",
     "output_type": "stream",
     "text": [
      "\r",
      " [          0%           ] Elapsed 0.01s / Remaining 00:00:00:00"
     ]
    },
    {
     "name": "stdout",
     "output_type": "stream",
     "text": [
      "\r",
      " [          1%           ] Elapsed 0.01s / Remaining 00:00:00:00"
     ]
    },
    {
     "name": "stdout",
     "output_type": "stream",
     "text": [
      "\r",
      " [          1%           ] Elapsed 0.01s / Remaining 00:00:00:01"
     ]
    },
    {
     "name": "stdout",
     "output_type": "stream",
     "text": [
      "\r",
      " [          1%           ] Elapsed 0.01s / Remaining 00:00:00:01"
     ]
    },
    {
     "name": "stdout",
     "output_type": "stream",
     "text": [
      "\r",
      " [          1%           ] Elapsed 0.01s / Remaining 00:00:00:01"
     ]
    },
    {
     "name": "stdout",
     "output_type": "stream",
     "text": [
      "\r",
      " [          1%           ] Elapsed 0.01s / Remaining 00:00:00:01"
     ]
    },
    {
     "name": "stdout",
     "output_type": "stream",
     "text": [
      "\r",
      " [          1%           ] Elapsed 0.02s / Remaining 00:00:00:01"
     ]
    },
    {
     "name": "stdout",
     "output_type": "stream",
     "text": [
      "\r",
      " [          1%           ] Elapsed 0.02s / Remaining 00:00:00:01"
     ]
    },
    {
     "name": "stdout",
     "output_type": "stream",
     "text": [
      "\r",
      " [          1%           ] Elapsed 0.02s / Remaining 00:00:00:01"
     ]
    },
    {
     "name": "stdout",
     "output_type": "stream",
     "text": [
      "\r",
      " [          1%           ] Elapsed 0.02s / Remaining 00:00:00:01"
     ]
    },
    {
     "name": "stdout",
     "output_type": "stream",
     "text": [
      "\r",
      " [          1%           ] Elapsed 0.02s / Remaining 00:00:00:02"
     ]
    },
    {
     "name": "stdout",
     "output_type": "stream",
     "text": [
      "\r",
      " [          2%           ] Elapsed 0.02s / Remaining 00:00:00:01"
     ]
    },
    {
     "name": "stdout",
     "output_type": "stream",
     "text": [
      "\r",
      " [          2%           ] Elapsed 0.02s / Remaining 00:00:00:01"
     ]
    },
    {
     "name": "stdout",
     "output_type": "stream",
     "text": [
      "\r",
      " [          2%           ] Elapsed 0.03s / Remaining 00:00:00:01"
     ]
    },
    {
     "name": "stdout",
     "output_type": "stream",
     "text": [
      "\r",
      " [          2%           ] Elapsed 0.03s / Remaining 00:00:00:01"
     ]
    },
    {
     "name": "stdout",
     "output_type": "stream",
     "text": [
      "\r",
      " [          2%           ] Elapsed 0.03s / Remaining 00:00:00:01"
     ]
    },
    {
     "name": "stdout",
     "output_type": "stream",
     "text": [
      "\r",
      " [          2%           ] Elapsed 0.03s / Remaining 00:00:00:01"
     ]
    },
    {
     "name": "stdout",
     "output_type": "stream",
     "text": [
      "\r",
      " [          2%           ] Elapsed 0.03s / Remaining 00:00:00:01"
     ]
    },
    {
     "name": "stdout",
     "output_type": "stream",
     "text": [
      "\r",
      " [          2%           ] Elapsed 0.03s / Remaining 00:00:00:01"
     ]
    },
    {
     "name": "stdout",
     "output_type": "stream",
     "text": [
      "\r",
      " [          2%           ] Elapsed 0.03s / Remaining 00:00:00:01"
     ]
    },
    {
     "name": "stdout",
     "output_type": "stream",
     "text": [
      "\r",
      " [          2%           ] Elapsed 0.04s / Remaining 00:00:00:01"
     ]
    },
    {
     "name": "stdout",
     "output_type": "stream",
     "text": [
      "\r",
      " [*         3%           ] Elapsed 0.04s / Remaining 00:00:00:01"
     ]
    },
    {
     "name": "stdout",
     "output_type": "stream",
     "text": [
      "\r",
      " [*         3%           ] Elapsed 0.04s / Remaining 00:00:00:01"
     ]
    },
    {
     "name": "stdout",
     "output_type": "stream",
     "text": [
      "\r",
      " [*         3%           ] Elapsed 0.04s / Remaining 00:00:00:01"
     ]
    },
    {
     "name": "stdout",
     "output_type": "stream",
     "text": [
      "\r",
      " [*         3%           ] Elapsed 0.04s / Remaining 00:00:00:01"
     ]
    },
    {
     "name": "stdout",
     "output_type": "stream",
     "text": [
      "\r",
      " [*         3%           ] Elapsed 0.04s / Remaining 00:00:00:01"
     ]
    },
    {
     "name": "stdout",
     "output_type": "stream",
     "text": [
      "\r",
      " [*         3%           ] Elapsed 0.04s / Remaining 00:00:00:01"
     ]
    },
    {
     "name": "stdout",
     "output_type": "stream",
     "text": [
      "\r",
      " [*         3%           ] Elapsed 0.05s / Remaining 00:00:00:01"
     ]
    },
    {
     "name": "stdout",
     "output_type": "stream",
     "text": [
      "\r",
      " [*         3%           ] Elapsed 0.05s / Remaining 00:00:00:01"
     ]
    },
    {
     "name": "stdout",
     "output_type": "stream",
     "text": [
      "\r",
      " [*         3%           ] Elapsed 0.05s / Remaining 00:00:00:01"
     ]
    },
    {
     "name": "stdout",
     "output_type": "stream",
     "text": [
      "\r",
      " [*         3%           ] Elapsed 0.05s / Remaining 00:00:00:01"
     ]
    },
    {
     "name": "stdout",
     "output_type": "stream",
     "text": [
      "\r",
      " [*         4%           ] Elapsed 0.05s / Remaining 00:00:00:01"
     ]
    },
    {
     "name": "stdout",
     "output_type": "stream",
     "text": [
      "\r",
      " [*         4%           ] Elapsed 0.05s / Remaining 00:00:00:01"
     ]
    },
    {
     "name": "stdout",
     "output_type": "stream",
     "text": [
      "\r",
      " [*         4%           ] Elapsed 0.06s / Remaining 00:00:00:01"
     ]
    },
    {
     "name": "stdout",
     "output_type": "stream",
     "text": [
      "\r",
      " [*         4%           ] Elapsed 0.06s / Remaining 00:00:00:01"
     ]
    },
    {
     "name": "stdout",
     "output_type": "stream",
     "text": [
      "\r",
      " [*         4%           ] Elapsed 0.06s / Remaining 00:00:00:01"
     ]
    },
    {
     "name": "stdout",
     "output_type": "stream",
     "text": [
      "\r",
      " [*         4%           ] Elapsed 0.06s / Remaining 00:00:00:01"
     ]
    },
    {
     "name": "stdout",
     "output_type": "stream",
     "text": [
      "\r",
      " [*         4%           ] Elapsed 0.06s / Remaining 00:00:00:01"
     ]
    },
    {
     "name": "stdout",
     "output_type": "stream",
     "text": [
      "\r",
      " [*         4%           ] Elapsed 0.06s / Remaining 00:00:00:01"
     ]
    },
    {
     "name": "stdout",
     "output_type": "stream",
     "text": [
      "\r",
      " [*         4%           ] Elapsed 0.06s / Remaining 00:00:00:01"
     ]
    },
    {
     "name": "stdout",
     "output_type": "stream",
     "text": [
      "\r",
      " [*         4%           ] Elapsed 0.07s / Remaining 00:00:00:01"
     ]
    },
    {
     "name": "stdout",
     "output_type": "stream",
     "text": [
      "\r",
      " [*         5%           ] Elapsed 0.07s / Remaining 00:00:00:01"
     ]
    },
    {
     "name": "stdout",
     "output_type": "stream",
     "text": [
      "\r",
      " [*         5%           ] Elapsed 0.07s / Remaining 00:00:00:01"
     ]
    },
    {
     "name": "stdout",
     "output_type": "stream",
     "text": [
      "\r",
      " [*         5%           ] Elapsed 0.07s / Remaining 00:00:00:01"
     ]
    },
    {
     "name": "stdout",
     "output_type": "stream",
     "text": [
      "\r",
      " [*         5%           ] Elapsed 0.07s / Remaining 00:00:00:01"
     ]
    },
    {
     "name": "stdout",
     "output_type": "stream",
     "text": [
      "\r",
      " [*         5%           ] Elapsed 0.07s / Remaining 00:00:00:01"
     ]
    },
    {
     "name": "stdout",
     "output_type": "stream",
     "text": [
      "\r",
      " [*         5%           ] Elapsed 0.07s / Remaining 00:00:00:01"
     ]
    },
    {
     "name": "stdout",
     "output_type": "stream",
     "text": [
      "\r",
      " [*         5%           ] Elapsed 0.08s / Remaining 00:00:00:01"
     ]
    },
    {
     "name": "stdout",
     "output_type": "stream",
     "text": [
      "\r",
      " [*         5%           ] Elapsed 0.08s / Remaining 00:00:00:01"
     ]
    },
    {
     "name": "stdout",
     "output_type": "stream",
     "text": [
      "\r",
      " [*         5%           ] Elapsed 0.08s / Remaining 00:00:00:01"
     ]
    },
    {
     "name": "stdout",
     "output_type": "stream",
     "text": [
      "\r",
      " [*         5%           ] Elapsed 0.08s / Remaining 00:00:00:01"
     ]
    },
    {
     "name": "stdout",
     "output_type": "stream",
     "text": [
      "\r",
      " [*         6%           ] Elapsed 0.08s / Remaining 00:00:00:01"
     ]
    },
    {
     "name": "stdout",
     "output_type": "stream",
     "text": [
      "\r",
      " [*         6%           ] Elapsed 0.08s / Remaining 00:00:00:01"
     ]
    },
    {
     "name": "stdout",
     "output_type": "stream",
     "text": [
      "\r",
      " [*         6%           ] Elapsed 0.08s / Remaining 00:00:00:01"
     ]
    },
    {
     "name": "stdout",
     "output_type": "stream",
     "text": [
      "\r",
      " [*         6%           ] Elapsed 0.09s / Remaining 00:00:00:01"
     ]
    },
    {
     "name": "stdout",
     "output_type": "stream",
     "text": [
      "\r",
      " [*         6%           ] Elapsed 0.09s / Remaining 00:00:00:01"
     ]
    },
    {
     "name": "stdout",
     "output_type": "stream",
     "text": [
      "\r",
      " [*         6%           ] Elapsed 0.09s / Remaining 00:00:00:01"
     ]
    },
    {
     "name": "stdout",
     "output_type": "stream",
     "text": [
      "\r",
      " [*         6%           ] Elapsed 0.09s / Remaining 00:00:00:01"
     ]
    },
    {
     "name": "stdout",
     "output_type": "stream",
     "text": [
      "\r",
      " [*         6%           ] Elapsed 0.09s / Remaining 00:00:00:01"
     ]
    },
    {
     "name": "stdout",
     "output_type": "stream",
     "text": [
      "\r",
      " [*         6%           ] Elapsed 0.09s / Remaining 00:00:00:01"
     ]
    },
    {
     "name": "stdout",
     "output_type": "stream",
     "text": [
      "\r",
      " [*         6%           ] Elapsed 0.09s / Remaining 00:00:00:01"
     ]
    },
    {
     "name": "stdout",
     "output_type": "stream",
     "text": [
      "\r",
      " [**        7%           ] Elapsed 0.10s / Remaining 00:00:00:01"
     ]
    },
    {
     "name": "stdout",
     "output_type": "stream",
     "text": [
      "\r",
      " [**        7%           ] Elapsed 0.10s / Remaining 00:00:00:01"
     ]
    },
    {
     "name": "stdout",
     "output_type": "stream",
     "text": [
      "\r",
      " [**        7%           ] Elapsed 0.10s / Remaining 00:00:00:01"
     ]
    },
    {
     "name": "stdout",
     "output_type": "stream",
     "text": [
      "\r",
      " [**        7%           ] Elapsed 0.10s / Remaining 00:00:00:01"
     ]
    },
    {
     "name": "stdout",
     "output_type": "stream",
     "text": [
      "\r",
      " [**        7%           ] Elapsed 0.10s / Remaining 00:00:00:01"
     ]
    },
    {
     "name": "stdout",
     "output_type": "stream",
     "text": [
      "\r",
      " [**        7%           ] Elapsed 0.10s / Remaining 00:00:00:01"
     ]
    },
    {
     "name": "stdout",
     "output_type": "stream",
     "text": [
      "\r",
      " [**        7%           ] Elapsed 0.10s / Remaining 00:00:00:01"
     ]
    },
    {
     "name": "stdout",
     "output_type": "stream",
     "text": [
      "\r",
      " [**        7%           ] Elapsed 0.11s / Remaining 00:00:00:01"
     ]
    },
    {
     "name": "stdout",
     "output_type": "stream",
     "text": [
      "\r",
      " [**        7%           ] Elapsed 0.11s / Remaining 00:00:00:01"
     ]
    },
    {
     "name": "stdout",
     "output_type": "stream",
     "text": [
      "\r",
      " [**        7%           ] Elapsed 0.11s / Remaining 00:00:00:01"
     ]
    },
    {
     "name": "stdout",
     "output_type": "stream",
     "text": [
      "\r",
      " [**        8%           ] Elapsed 0.11s / Remaining 00:00:00:01"
     ]
    },
    {
     "name": "stdout",
     "output_type": "stream",
     "text": [
      "\r",
      " [**        8%           ] Elapsed 0.11s / Remaining 00:00:00:01"
     ]
    },
    {
     "name": "stdout",
     "output_type": "stream",
     "text": [
      "\r",
      " [**        8%           ] Elapsed 0.11s / Remaining 00:00:00:01"
     ]
    },
    {
     "name": "stdout",
     "output_type": "stream",
     "text": [
      "\r",
      " [**        8%           ] Elapsed 0.12s / Remaining 00:00:00:01"
     ]
    },
    {
     "name": "stdout",
     "output_type": "stream",
     "text": [
      "\r",
      " [**        8%           ] Elapsed 0.12s / Remaining 00:00:00:01"
     ]
    },
    {
     "name": "stdout",
     "output_type": "stream",
     "text": [
      "\r",
      " [**        8%           ] Elapsed 0.12s / Remaining 00:00:00:01"
     ]
    },
    {
     "name": "stdout",
     "output_type": "stream",
     "text": [
      "\r",
      " [**        8%           ] Elapsed 0.12s / Remaining 00:00:00:01"
     ]
    },
    {
     "name": "stdout",
     "output_type": "stream",
     "text": [
      "\r",
      " [**        8%           ] Elapsed 0.12s / Remaining 00:00:00:01"
     ]
    },
    {
     "name": "stdout",
     "output_type": "stream",
     "text": [
      "\r",
      " [**        8%           ] Elapsed 0.12s / Remaining 00:00:00:01"
     ]
    },
    {
     "name": "stdout",
     "output_type": "stream",
     "text": [
      "\r",
      " [**        8%           ] Elapsed 0.12s / Remaining 00:00:00:01"
     ]
    },
    {
     "name": "stdout",
     "output_type": "stream",
     "text": [
      "\r",
      " [**        9%           ] Elapsed 0.13s / Remaining 00:00:00:01"
     ]
    },
    {
     "name": "stdout",
     "output_type": "stream",
     "text": [
      "\r",
      " [**        9%           ] Elapsed 0.13s / Remaining 00:00:00:01"
     ]
    },
    {
     "name": "stdout",
     "output_type": "stream",
     "text": [
      "\r",
      " [**        9%           ] Elapsed 0.13s / Remaining 00:00:00:01"
     ]
    },
    {
     "name": "stdout",
     "output_type": "stream",
     "text": [
      "\r",
      " [**        9%           ] Elapsed 0.13s / Remaining 00:00:00:01"
     ]
    },
    {
     "name": "stdout",
     "output_type": "stream",
     "text": [
      "\r",
      " [**        9%           ] Elapsed 0.13s / Remaining 00:00:00:01"
     ]
    },
    {
     "name": "stdout",
     "output_type": "stream",
     "text": [
      "\r",
      " [**        9%           ] Elapsed 0.13s / Remaining 00:00:00:01"
     ]
    },
    {
     "name": "stdout",
     "output_type": "stream",
     "text": [
      "\r",
      " [**        9%           ] Elapsed 0.13s / Remaining 00:00:00:01"
     ]
    },
    {
     "name": "stdout",
     "output_type": "stream",
     "text": [
      "\r",
      " [**        9%           ] Elapsed 0.14s / Remaining 00:00:00:01"
     ]
    },
    {
     "name": "stdout",
     "output_type": "stream",
     "text": [
      "\r",
      " [**        9%           ] Elapsed 0.14s / Remaining 00:00:00:01"
     ]
    },
    {
     "name": "stdout",
     "output_type": "stream",
     "text": [
      "\r",
      " [**        9%           ] Elapsed 0.14s / Remaining 00:00:00:01"
     ]
    },
    {
     "name": "stdout",
     "output_type": "stream",
     "text": [
      "\r",
      " [**       10%           ] Elapsed 0.14s / Remaining 00:00:00:01"
     ]
    },
    {
     "name": "stdout",
     "output_type": "stream",
     "text": [
      "\r",
      " [**       10%           ] Elapsed 0.14s / Remaining 00:00:00:01"
     ]
    },
    {
     "name": "stdout",
     "output_type": "stream",
     "text": [
      "\r",
      " [**       10%           ] Elapsed 0.14s / Remaining 00:00:00:01"
     ]
    },
    {
     "name": "stdout",
     "output_type": "stream",
     "text": [
      "\r",
      " [**       10%           ] Elapsed 0.14s / Remaining 00:00:00:01"
     ]
    },
    {
     "name": "stdout",
     "output_type": "stream",
     "text": [
      "\r",
      " [**       10%           ] Elapsed 0.15s / Remaining 00:00:00:01"
     ]
    },
    {
     "name": "stdout",
     "output_type": "stream",
     "text": [
      "\r",
      " [**       10%           ] Elapsed 0.15s / Remaining 00:00:00:01"
     ]
    },
    {
     "name": "stdout",
     "output_type": "stream",
     "text": [
      "\r",
      " [**       10%           ] Elapsed 0.15s / Remaining 00:00:00:01"
     ]
    },
    {
     "name": "stdout",
     "output_type": "stream",
     "text": [
      "\r",
      " [**       10%           ] Elapsed 0.15s / Remaining 00:00:00:01"
     ]
    },
    {
     "name": "stdout",
     "output_type": "stream",
     "text": [
      "\r",
      " [**       10%           ] Elapsed 0.15s / Remaining 00:00:00:01"
     ]
    },
    {
     "name": "stdout",
     "output_type": "stream",
     "text": [
      "\r",
      " [**       10%           ] Elapsed 0.15s / Remaining 00:00:00:01"
     ]
    },
    {
     "name": "stdout",
     "output_type": "stream",
     "text": [
      "\r",
      " [***      11%           ] Elapsed 0.15s / Remaining 00:00:00:01"
     ]
    },
    {
     "name": "stdout",
     "output_type": "stream",
     "text": [
      "\r",
      " [***      11%           ] Elapsed 0.16s / Remaining 00:00:00:01"
     ]
    },
    {
     "name": "stdout",
     "output_type": "stream",
     "text": [
      "\r",
      " [***      11%           ] Elapsed 0.16s / Remaining 00:00:00:01"
     ]
    },
    {
     "name": "stdout",
     "output_type": "stream",
     "text": [
      "\r",
      " [***      11%           ] Elapsed 0.16s / Remaining 00:00:00:01"
     ]
    },
    {
     "name": "stdout",
     "output_type": "stream",
     "text": [
      "\r",
      " [***      11%           ] Elapsed 0.16s / Remaining 00:00:00:01"
     ]
    },
    {
     "name": "stdout",
     "output_type": "stream",
     "text": [
      "\r",
      " [***      11%           ] Elapsed 0.16s / Remaining 00:00:00:01"
     ]
    },
    {
     "name": "stdout",
     "output_type": "stream",
     "text": [
      "\r",
      " [***      11%           ] Elapsed 0.16s / Remaining 00:00:00:01"
     ]
    },
    {
     "name": "stdout",
     "output_type": "stream",
     "text": [
      "\r",
      " [***      11%           ] Elapsed 0.16s / Remaining 00:00:00:01"
     ]
    },
    {
     "name": "stdout",
     "output_type": "stream",
     "text": [
      "\r",
      " [***      11%           ] Elapsed 0.17s / Remaining 00:00:00:01"
     ]
    },
    {
     "name": "stdout",
     "output_type": "stream",
     "text": [
      "\r",
      " [***      11%           ] Elapsed 0.17s / Remaining 00:00:00:01"
     ]
    },
    {
     "name": "stdout",
     "output_type": "stream",
     "text": [
      "\r",
      " [***      12%           ] Elapsed 0.17s / Remaining 00:00:00:01"
     ]
    },
    {
     "name": "stdout",
     "output_type": "stream",
     "text": [
      "\r",
      " [***      12%           ] Elapsed 0.17s / Remaining 00:00:00:01"
     ]
    },
    {
     "name": "stdout",
     "output_type": "stream",
     "text": [
      "\r",
      " [***      12%           ] Elapsed 0.17s / Remaining 00:00:00:01"
     ]
    },
    {
     "name": "stdout",
     "output_type": "stream",
     "text": [
      "\r",
      " [***      12%           ] Elapsed 0.17s / Remaining 00:00:00:01"
     ]
    },
    {
     "name": "stdout",
     "output_type": "stream",
     "text": [
      "\r",
      " [***      12%           ] Elapsed 0.17s / Remaining 00:00:00:01"
     ]
    },
    {
     "name": "stdout",
     "output_type": "stream",
     "text": [
      "\r",
      " [***      12%           ] Elapsed 0.18s / Remaining 00:00:00:01"
     ]
    },
    {
     "name": "stdout",
     "output_type": "stream",
     "text": [
      "\r",
      " [***      12%           ] Elapsed 0.18s / Remaining 00:00:00:01"
     ]
    },
    {
     "name": "stdout",
     "output_type": "stream",
     "text": [
      "\r",
      " [***      12%           ] Elapsed 0.18s / Remaining 00:00:00:01"
     ]
    },
    {
     "name": "stdout",
     "output_type": "stream",
     "text": [
      "\r",
      " [***      12%           ] Elapsed 0.18s / Remaining 00:00:00:01"
     ]
    },
    {
     "name": "stdout",
     "output_type": "stream",
     "text": [
      "\r",
      " [***      12%           ] Elapsed 0.18s / Remaining 00:00:00:01"
     ]
    },
    {
     "name": "stdout",
     "output_type": "stream",
     "text": [
      "\r",
      " [***      13%           ] Elapsed 0.18s / Remaining 00:00:00:01"
     ]
    },
    {
     "name": "stdout",
     "output_type": "stream",
     "text": [
      "\r",
      " [***      13%           ] Elapsed 0.18s / Remaining 00:00:00:01"
     ]
    },
    {
     "name": "stdout",
     "output_type": "stream",
     "text": [
      "\r",
      " [***      13%           ] Elapsed 0.19s / Remaining 00:00:00:01"
     ]
    },
    {
     "name": "stdout",
     "output_type": "stream",
     "text": [
      "\r",
      " [***      13%           ] Elapsed 0.19s / Remaining 00:00:00:01"
     ]
    },
    {
     "name": "stdout",
     "output_type": "stream",
     "text": [
      "\r",
      " [***      13%           ] Elapsed 0.19s / Remaining 00:00:00:01"
     ]
    },
    {
     "name": "stdout",
     "output_type": "stream",
     "text": [
      "\r",
      " [***      13%           ] Elapsed 0.19s / Remaining 00:00:00:01"
     ]
    },
    {
     "name": "stdout",
     "output_type": "stream",
     "text": [
      "\r",
      " [***      13%           ] Elapsed 0.19s / Remaining 00:00:00:01"
     ]
    },
    {
     "name": "stdout",
     "output_type": "stream",
     "text": [
      "\r",
      " [***      13%           ] Elapsed 0.19s / Remaining 00:00:00:01"
     ]
    },
    {
     "name": "stdout",
     "output_type": "stream",
     "text": [
      "\r",
      " [***      13%           ] Elapsed 0.19s / Remaining 00:00:00:01"
     ]
    },
    {
     "name": "stdout",
     "output_type": "stream",
     "text": [
      "\r",
      " [***      13%           ] Elapsed 0.20s / Remaining 00:00:00:01"
     ]
    },
    {
     "name": "stdout",
     "output_type": "stream",
     "text": [
      "\r",
      " [***      14%           ] Elapsed 0.20s / Remaining 00:00:00:01"
     ]
    },
    {
     "name": "stdout",
     "output_type": "stream",
     "text": [
      "\r",
      " [***      14%           ] Elapsed 0.20s / Remaining 00:00:00:01"
     ]
    },
    {
     "name": "stdout",
     "output_type": "stream",
     "text": [
      "\r",
      " [***      14%           ] Elapsed 0.20s / Remaining 00:00:00:01"
     ]
    },
    {
     "name": "stdout",
     "output_type": "stream",
     "text": [
      "\r",
      " [***      14%           ] Elapsed 0.20s / Remaining 00:00:00:01"
     ]
    },
    {
     "name": "stdout",
     "output_type": "stream",
     "text": [
      "\r",
      " [***      14%           ] Elapsed 0.20s / Remaining 00:00:00:01"
     ]
    },
    {
     "name": "stdout",
     "output_type": "stream",
     "text": [
      "\r",
      " [***      14%           ] Elapsed 0.21s / Remaining 00:00:00:01"
     ]
    },
    {
     "name": "stdout",
     "output_type": "stream",
     "text": [
      "\r",
      " [***      14%           ] Elapsed 0.21s / Remaining 00:00:00:01"
     ]
    },
    {
     "name": "stdout",
     "output_type": "stream",
     "text": [
      "\r",
      " [***      14%           ] Elapsed 0.21s / Remaining 00:00:00:01"
     ]
    },
    {
     "name": "stdout",
     "output_type": "stream",
     "text": [
      "\r",
      " [***      14%           ] Elapsed 0.21s / Remaining 00:00:00:01"
     ]
    },
    {
     "name": "stdout",
     "output_type": "stream",
     "text": [
      "\r",
      " [***      14%           ] Elapsed 0.21s / Remaining 00:00:00:01"
     ]
    },
    {
     "name": "stdout",
     "output_type": "stream",
     "text": [
      "\r",
      " [***      15%           ] Elapsed 0.21s / Remaining 00:00:00:01"
     ]
    },
    {
     "name": "stdout",
     "output_type": "stream",
     "text": [
      "\r",
      " [***      15%           ] Elapsed 0.21s / Remaining 00:00:00:01"
     ]
    },
    {
     "name": "stdout",
     "output_type": "stream",
     "text": [
      "\r",
      " [***      15%           ] Elapsed 0.22s / Remaining 00:00:00:01"
     ]
    },
    {
     "name": "stdout",
     "output_type": "stream",
     "text": [
      "\r",
      " [***      15%           ] Elapsed 0.22s / Remaining 00:00:00:01"
     ]
    },
    {
     "name": "stdout",
     "output_type": "stream",
     "text": [
      "\r",
      " [***      15%           ] Elapsed 0.22s / Remaining 00:00:00:01"
     ]
    },
    {
     "name": "stdout",
     "output_type": "stream",
     "text": [
      "\r",
      " [***      15%           ] Elapsed 0.22s / Remaining 00:00:00:01"
     ]
    },
    {
     "name": "stdout",
     "output_type": "stream",
     "text": [
      "\r",
      " [***      15%           ] Elapsed 0.22s / Remaining 00:00:00:01"
     ]
    },
    {
     "name": "stdout",
     "output_type": "stream",
     "text": [
      "\r",
      " [***      15%           ] Elapsed 0.22s / Remaining 00:00:00:01"
     ]
    },
    {
     "name": "stdout",
     "output_type": "stream",
     "text": [
      "\r",
      " [***      15%           ] Elapsed 0.22s / Remaining 00:00:00:01"
     ]
    },
    {
     "name": "stdout",
     "output_type": "stream",
     "text": [
      "\r",
      " [***      15%           ] Elapsed 0.23s / Remaining 00:00:00:01"
     ]
    },
    {
     "name": "stdout",
     "output_type": "stream",
     "text": [
      "\r",
      " [****     16%           ] Elapsed 0.23s / Remaining 00:00:00:01"
     ]
    },
    {
     "name": "stdout",
     "output_type": "stream",
     "text": [
      "\r",
      " [****     16%           ] Elapsed 0.23s / Remaining 00:00:00:01"
     ]
    },
    {
     "name": "stdout",
     "output_type": "stream",
     "text": [
      "\r",
      " [****     16%           ] Elapsed 0.23s / Remaining 00:00:00:01"
     ]
    },
    {
     "name": "stdout",
     "output_type": "stream",
     "text": [
      "\r",
      " [****     16%           ] Elapsed 0.23s / Remaining 00:00:00:01"
     ]
    },
    {
     "name": "stdout",
     "output_type": "stream",
     "text": [
      "\r",
      " [****     16%           ] Elapsed 0.23s / Remaining 00:00:00:01"
     ]
    },
    {
     "name": "stdout",
     "output_type": "stream",
     "text": [
      "\r",
      " [****     16%           ] Elapsed 0.23s / Remaining 00:00:00:01"
     ]
    },
    {
     "name": "stdout",
     "output_type": "stream",
     "text": [
      "\r",
      " [****     16%           ] Elapsed 0.24s / Remaining 00:00:00:01"
     ]
    },
    {
     "name": "stdout",
     "output_type": "stream",
     "text": [
      "\r",
      " [****     16%           ] Elapsed 0.24s / Remaining 00:00:00:01"
     ]
    },
    {
     "name": "stdout",
     "output_type": "stream",
     "text": [
      "\r",
      " [****     16%           ] Elapsed 0.24s / Remaining 00:00:00:01"
     ]
    },
    {
     "name": "stdout",
     "output_type": "stream",
     "text": [
      "\r",
      " [****     16%           ] Elapsed 0.24s / Remaining 00:00:00:01"
     ]
    },
    {
     "name": "stdout",
     "output_type": "stream",
     "text": [
      "\r",
      " [****     17%           ] Elapsed 0.24s / Remaining 00:00:00:01"
     ]
    },
    {
     "name": "stdout",
     "output_type": "stream",
     "text": [
      "\r",
      " [****     17%           ] Elapsed 0.24s / Remaining 00:00:00:01"
     ]
    },
    {
     "name": "stdout",
     "output_type": "stream",
     "text": [
      "\r",
      " [****     17%           ] Elapsed 0.24s / Remaining 00:00:00:01"
     ]
    },
    {
     "name": "stdout",
     "output_type": "stream",
     "text": [
      "\r",
      " [****     17%           ] Elapsed 0.24s / Remaining 00:00:00:01"
     ]
    },
    {
     "name": "stdout",
     "output_type": "stream",
     "text": [
      "\r",
      " [****     17%           ] Elapsed 0.25s / Remaining 00:00:00:01"
     ]
    },
    {
     "name": "stdout",
     "output_type": "stream",
     "text": [
      "\r",
      " [****     17%           ] Elapsed 0.25s / Remaining 00:00:00:01"
     ]
    },
    {
     "name": "stdout",
     "output_type": "stream",
     "text": [
      "\r",
      " [****     17%           ] Elapsed 0.25s / Remaining 00:00:00:01"
     ]
    },
    {
     "name": "stdout",
     "output_type": "stream",
     "text": [
      "\r",
      " [****     17%           ] Elapsed 0.25s / Remaining 00:00:00:01"
     ]
    },
    {
     "name": "stdout",
     "output_type": "stream",
     "text": [
      "\r",
      " [****     17%           ] Elapsed 0.25s / Remaining 00:00:00:01"
     ]
    },
    {
     "name": "stdout",
     "output_type": "stream",
     "text": [
      "\r",
      " [****     17%           ] Elapsed 0.25s / Remaining 00:00:00:01"
     ]
    },
    {
     "name": "stdout",
     "output_type": "stream",
     "text": [
      "\r",
      " [****     18%           ] Elapsed 0.25s / Remaining 00:00:00:01"
     ]
    },
    {
     "name": "stdout",
     "output_type": "stream",
     "text": [
      "\r",
      " [****     18%           ] Elapsed 0.25s / Remaining 00:00:00:01"
     ]
    },
    {
     "name": "stdout",
     "output_type": "stream",
     "text": [
      "\r",
      " [****     18%           ] Elapsed 0.26s / Remaining 00:00:00:01"
     ]
    },
    {
     "name": "stdout",
     "output_type": "stream",
     "text": [
      "\r",
      " [****     18%           ] Elapsed 0.26s / Remaining 00:00:00:01"
     ]
    },
    {
     "name": "stdout",
     "output_type": "stream",
     "text": [
      "\r",
      " [****     18%           ] Elapsed 0.26s / Remaining 00:00:00:01"
     ]
    },
    {
     "name": "stdout",
     "output_type": "stream",
     "text": [
      "\r",
      " [****     18%           ] Elapsed 0.26s / Remaining 00:00:00:01"
     ]
    },
    {
     "name": "stdout",
     "output_type": "stream",
     "text": [
      "\r",
      " [****     18%           ] Elapsed 0.26s / Remaining 00:00:00:01"
     ]
    },
    {
     "name": "stdout",
     "output_type": "stream",
     "text": [
      "\r",
      " [****     18%           ] Elapsed 0.26s / Remaining 00:00:00:01"
     ]
    },
    {
     "name": "stdout",
     "output_type": "stream",
     "text": [
      "\r",
      " [****     18%           ] Elapsed 0.26s / Remaining 00:00:00:01"
     ]
    },
    {
     "name": "stdout",
     "output_type": "stream",
     "text": [
      "\r",
      " [****     18%           ] Elapsed 0.26s / Remaining 00:00:00:01"
     ]
    },
    {
     "name": "stdout",
     "output_type": "stream",
     "text": [
      "\r",
      " [****     19%           ] Elapsed 0.27s / Remaining 00:00:00:01"
     ]
    },
    {
     "name": "stdout",
     "output_type": "stream",
     "text": [
      "\r",
      " [****     19%           ] Elapsed 0.27s / Remaining 00:00:00:01"
     ]
    },
    {
     "name": "stdout",
     "output_type": "stream",
     "text": [
      "\r",
      " [****     19%           ] Elapsed 0.27s / Remaining 00:00:00:01"
     ]
    },
    {
     "name": "stdout",
     "output_type": "stream",
     "text": [
      "\r",
      " [****     19%           ] Elapsed 0.27s / Remaining 00:00:00:01"
     ]
    },
    {
     "name": "stdout",
     "output_type": "stream",
     "text": [
      "\r",
      " [****     19%           ] Elapsed 0.27s / Remaining 00:00:00:01"
     ]
    },
    {
     "name": "stdout",
     "output_type": "stream",
     "text": [
      "\r",
      " [****     19%           ] Elapsed 0.27s / Remaining 00:00:00:01"
     ]
    },
    {
     "name": "stdout",
     "output_type": "stream",
     "text": [
      "\r",
      " [****     19%           ] Elapsed 0.27s / Remaining 00:00:00:01"
     ]
    },
    {
     "name": "stdout",
     "output_type": "stream",
     "text": [
      "\r",
      " [****     19%           ] Elapsed 0.28s / Remaining 00:00:00:01"
     ]
    },
    {
     "name": "stdout",
     "output_type": "stream",
     "text": [
      "\r",
      " [****     19%           ] Elapsed 0.28s / Remaining 00:00:00:01"
     ]
    },
    {
     "name": "stdout",
     "output_type": "stream",
     "text": [
      "\r",
      " [****     19%           ] Elapsed 0.28s / Remaining 00:00:00:01"
     ]
    },
    {
     "name": "stdout",
     "output_type": "stream",
     "text": [
      "\r",
      " [*****    20%           ] Elapsed 0.28s / Remaining 00:00:00:01"
     ]
    },
    {
     "name": "stdout",
     "output_type": "stream",
     "text": [
      "\r",
      " [*****    20%           ] Elapsed 0.28s / Remaining 00:00:00:01"
     ]
    },
    {
     "name": "stdout",
     "output_type": "stream",
     "text": [
      "\r",
      " [*****    20%           ] Elapsed 0.28s / Remaining 00:00:00:01"
     ]
    },
    {
     "name": "stdout",
     "output_type": "stream",
     "text": [
      "\r",
      " [*****    20%           ] Elapsed 0.28s / Remaining 00:00:00:01"
     ]
    },
    {
     "name": "stdout",
     "output_type": "stream",
     "text": [
      "\r",
      " [*****    20%           ] Elapsed 0.28s / Remaining 00:00:00:01"
     ]
    },
    {
     "name": "stdout",
     "output_type": "stream",
     "text": [
      "\r",
      " [*****    20%           ] Elapsed 0.29s / Remaining 00:00:00:01"
     ]
    },
    {
     "name": "stdout",
     "output_type": "stream",
     "text": [
      "\r",
      " [*****    20%           ] Elapsed 0.29s / Remaining 00:00:00:01"
     ]
    },
    {
     "name": "stdout",
     "output_type": "stream",
     "text": [
      "\r",
      " [*****    20%           ] Elapsed 0.29s / Remaining 00:00:00:01"
     ]
    },
    {
     "name": "stdout",
     "output_type": "stream",
     "text": [
      "\r",
      " [*****    20%           ] Elapsed 0.29s / Remaining 00:00:00:01"
     ]
    },
    {
     "name": "stdout",
     "output_type": "stream",
     "text": [
      "\r",
      " [*****    20%           ] Elapsed 0.29s / Remaining 00:00:00:01"
     ]
    },
    {
     "name": "stdout",
     "output_type": "stream",
     "text": [
      "\r",
      " [*****    21%           ] Elapsed 0.29s / Remaining 00:00:00:01"
     ]
    },
    {
     "name": "stdout",
     "output_type": "stream",
     "text": [
      "\r",
      " [*****    21%           ] Elapsed 0.29s / Remaining 00:00:00:01"
     ]
    },
    {
     "name": "stdout",
     "output_type": "stream",
     "text": [
      "\r",
      " [*****    21%           ] Elapsed 0.30s / Remaining 00:00:00:01"
     ]
    },
    {
     "name": "stdout",
     "output_type": "stream",
     "text": [
      "\r",
      " [*****    21%           ] Elapsed 0.30s / Remaining 00:00:00:01"
     ]
    },
    {
     "name": "stdout",
     "output_type": "stream",
     "text": [
      "\r",
      " [*****    21%           ] Elapsed 0.30s / Remaining 00:00:00:01"
     ]
    },
    {
     "name": "stdout",
     "output_type": "stream",
     "text": [
      "\r",
      " [*****    21%           ] Elapsed 0.30s / Remaining 00:00:00:01"
     ]
    },
    {
     "name": "stdout",
     "output_type": "stream",
     "text": [
      "\r",
      " [*****    21%           ] Elapsed 0.30s / Remaining 00:00:00:01"
     ]
    },
    {
     "name": "stdout",
     "output_type": "stream",
     "text": [
      "\r",
      " [*****    21%           ] Elapsed 0.30s / Remaining 00:00:00:01"
     ]
    },
    {
     "name": "stdout",
     "output_type": "stream",
     "text": [
      "\r",
      " [*****    21%           ] Elapsed 0.31s / Remaining 00:00:00:01"
     ]
    },
    {
     "name": "stdout",
     "output_type": "stream",
     "text": [
      "\r",
      " [*****    21%           ] Elapsed 0.31s / Remaining 00:00:00:01"
     ]
    },
    {
     "name": "stdout",
     "output_type": "stream",
     "text": [
      "\r",
      " [*****    22%           ] Elapsed 0.31s / Remaining 00:00:00:01"
     ]
    },
    {
     "name": "stdout",
     "output_type": "stream",
     "text": [
      "\r",
      " [*****    22%           ] Elapsed 0.31s / Remaining 00:00:00:01"
     ]
    },
    {
     "name": "stdout",
     "output_type": "stream",
     "text": [
      "\r",
      " [*****    22%           ] Elapsed 0.31s / Remaining 00:00:00:01"
     ]
    },
    {
     "name": "stdout",
     "output_type": "stream",
     "text": [
      "\r",
      " [*****    22%           ] Elapsed 0.31s / Remaining 00:00:00:01"
     ]
    },
    {
     "name": "stdout",
     "output_type": "stream",
     "text": [
      "\r",
      " [*****    22%           ] Elapsed 0.31s / Remaining 00:00:00:01"
     ]
    },
    {
     "name": "stdout",
     "output_type": "stream",
     "text": [
      "\r",
      " [*****    22%           ] Elapsed 0.32s / Remaining 00:00:00:01"
     ]
    },
    {
     "name": "stdout",
     "output_type": "stream",
     "text": [
      "\r",
      " [*****    22%           ] Elapsed 0.32s / Remaining 00:00:00:01"
     ]
    },
    {
     "name": "stdout",
     "output_type": "stream",
     "text": [
      "\r",
      " [*****    22%           ] Elapsed 0.32s / Remaining 00:00:00:01"
     ]
    },
    {
     "name": "stdout",
     "output_type": "stream",
     "text": [
      "\r",
      " [*****    22%           ] Elapsed 0.32s / Remaining 00:00:00:01"
     ]
    },
    {
     "name": "stdout",
     "output_type": "stream",
     "text": [
      "\r",
      " [*****    22%           ] Elapsed 0.32s / Remaining 00:00:00:01"
     ]
    },
    {
     "name": "stdout",
     "output_type": "stream",
     "text": [
      "\r",
      " [*****    23%           ] Elapsed 0.32s / Remaining 00:00:00:01"
     ]
    },
    {
     "name": "stdout",
     "output_type": "stream",
     "text": [
      "\r",
      " [*****    23%           ] Elapsed 0.32s / Remaining 00:00:00:01"
     ]
    },
    {
     "name": "stdout",
     "output_type": "stream",
     "text": [
      "\r",
      " [*****    23%           ] Elapsed 0.33s / Remaining 00:00:00:01"
     ]
    },
    {
     "name": "stdout",
     "output_type": "stream",
     "text": [
      "\r",
      " [*****    23%           ] Elapsed 0.33s / Remaining 00:00:00:01"
     ]
    },
    {
     "name": "stdout",
     "output_type": "stream",
     "text": [
      "\r",
      " [*****    23%           ] Elapsed 0.33s / Remaining 00:00:00:01"
     ]
    },
    {
     "name": "stdout",
     "output_type": "stream",
     "text": [
      "\r",
      " [*****    23%           ] Elapsed 0.33s / Remaining 00:00:00:01"
     ]
    },
    {
     "name": "stdout",
     "output_type": "stream",
     "text": [
      "\r",
      " [*****    23%           ] Elapsed 0.33s / Remaining 00:00:00:01"
     ]
    },
    {
     "name": "stdout",
     "output_type": "stream",
     "text": [
      "\r",
      " [*****    23%           ] Elapsed 0.33s / Remaining 00:00:00:01"
     ]
    },
    {
     "name": "stdout",
     "output_type": "stream",
     "text": [
      "\r",
      " [*****    23%           ] Elapsed 0.34s / Remaining 00:00:00:01"
     ]
    },
    {
     "name": "stdout",
     "output_type": "stream",
     "text": [
      "\r",
      " [*****    23%           ] Elapsed 0.34s / Remaining 00:00:00:01"
     ]
    },
    {
     "name": "stdout",
     "output_type": "stream",
     "text": [
      "\r",
      " [******   24%           ] Elapsed 0.34s / Remaining 00:00:00:01"
     ]
    },
    {
     "name": "stdout",
     "output_type": "stream",
     "text": [
      "\r",
      " [******   24%           ] Elapsed 0.34s / Remaining 00:00:00:01"
     ]
    },
    {
     "name": "stdout",
     "output_type": "stream",
     "text": [
      "\r",
      " [******   24%           ] Elapsed 0.34s / Remaining 00:00:00:01"
     ]
    },
    {
     "name": "stdout",
     "output_type": "stream",
     "text": [
      "\r",
      " [******   24%           ] Elapsed 0.34s / Remaining 00:00:00:01"
     ]
    },
    {
     "name": "stdout",
     "output_type": "stream",
     "text": [
      "\r",
      " [******   24%           ] Elapsed 0.34s / Remaining 00:00:00:01"
     ]
    },
    {
     "name": "stdout",
     "output_type": "stream",
     "text": [
      "\r",
      " [******   24%           ] Elapsed 0.34s / Remaining 00:00:00:01"
     ]
    },
    {
     "name": "stdout",
     "output_type": "stream",
     "text": [
      "\r",
      " [******   24%           ] Elapsed 0.35s / Remaining 00:00:00:01"
     ]
    },
    {
     "name": "stdout",
     "output_type": "stream",
     "text": [
      "\r",
      " [******   24%           ] Elapsed 0.35s / Remaining 00:00:00:01"
     ]
    },
    {
     "name": "stdout",
     "output_type": "stream",
     "text": [
      "\r",
      " [******   24%           ] Elapsed 0.35s / Remaining 00:00:00:01"
     ]
    },
    {
     "name": "stdout",
     "output_type": "stream",
     "text": [
      "\r",
      " [******   24%           ] Elapsed 0.35s / Remaining 00:00:00:01"
     ]
    },
    {
     "name": "stdout",
     "output_type": "stream",
     "text": [
      "\r",
      " [******   25%           ] Elapsed 0.35s / Remaining 00:00:00:01"
     ]
    },
    {
     "name": "stdout",
     "output_type": "stream",
     "text": [
      "\r",
      " [******   25%           ] Elapsed 0.35s / Remaining 00:00:00:01"
     ]
    },
    {
     "name": "stdout",
     "output_type": "stream",
     "text": [
      "\r",
      " [******   25%           ] Elapsed 0.36s / Remaining 00:00:00:01"
     ]
    },
    {
     "name": "stdout",
     "output_type": "stream",
     "text": [
      "\r",
      " [******   25%           ] Elapsed 0.36s / Remaining 00:00:00:01"
     ]
    },
    {
     "name": "stdout",
     "output_type": "stream",
     "text": [
      "\r",
      " [******   25%           ] Elapsed 0.36s / Remaining 00:00:00:01"
     ]
    },
    {
     "name": "stdout",
     "output_type": "stream",
     "text": [
      "\r",
      " [******   25%           ] Elapsed 0.36s / Remaining 00:00:00:01"
     ]
    },
    {
     "name": "stdout",
     "output_type": "stream",
     "text": [
      "\r",
      " [******   25%           ] Elapsed 0.36s / Remaining 00:00:00:01"
     ]
    },
    {
     "name": "stdout",
     "output_type": "stream",
     "text": [
      "\r",
      " [******   25%           ] Elapsed 0.36s / Remaining 00:00:00:01"
     ]
    },
    {
     "name": "stdout",
     "output_type": "stream",
     "text": [
      "\r",
      " [******   25%           ] Elapsed 0.36s / Remaining 00:00:00:01"
     ]
    },
    {
     "name": "stdout",
     "output_type": "stream",
     "text": [
      "\r",
      " [******   25%           ] Elapsed 0.37s / Remaining 00:00:00:01"
     ]
    },
    {
     "name": "stdout",
     "output_type": "stream",
     "text": [
      "\r",
      " [******   26%           ] Elapsed 0.37s / Remaining 00:00:00:01"
     ]
    },
    {
     "name": "stdout",
     "output_type": "stream",
     "text": [
      "\r",
      " [******   26%           ] Elapsed 0.37s / Remaining 00:00:00:01"
     ]
    },
    {
     "name": "stdout",
     "output_type": "stream",
     "text": [
      "\r",
      " [******   26%           ] Elapsed 0.37s / Remaining 00:00:00:01"
     ]
    },
    {
     "name": "stdout",
     "output_type": "stream",
     "text": [
      "\r",
      " [******   26%           ] Elapsed 0.37s / Remaining 00:00:00:01"
     ]
    },
    {
     "name": "stdout",
     "output_type": "stream",
     "text": [
      "\r",
      " [******   26%           ] Elapsed 0.37s / Remaining 00:00:00:01"
     ]
    },
    {
     "name": "stdout",
     "output_type": "stream",
     "text": [
      "\r",
      " [******   26%           ] Elapsed 0.37s / Remaining 00:00:00:01"
     ]
    },
    {
     "name": "stdout",
     "output_type": "stream",
     "text": [
      "\r",
      " [******   26%           ] Elapsed 0.38s / Remaining 00:00:00:01"
     ]
    },
    {
     "name": "stdout",
     "output_type": "stream",
     "text": [
      "\r",
      " [******   26%           ] Elapsed 0.38s / Remaining 00:00:00:01"
     ]
    },
    {
     "name": "stdout",
     "output_type": "stream",
     "text": [
      "\r",
      " [******   26%           ] Elapsed 0.38s / Remaining 00:00:00:01"
     ]
    },
    {
     "name": "stdout",
     "output_type": "stream",
     "text": [
      "\r",
      " [******   26%           ] Elapsed 0.38s / Remaining 00:00:00:01"
     ]
    },
    {
     "name": "stdout",
     "output_type": "stream",
     "text": [
      "\r",
      " [******   27%           ] Elapsed 0.38s / Remaining 00:00:00:01"
     ]
    },
    {
     "name": "stdout",
     "output_type": "stream",
     "text": [
      "\r",
      " [******   27%           ] Elapsed 0.38s / Remaining 00:00:00:01"
     ]
    },
    {
     "name": "stdout",
     "output_type": "stream",
     "text": [
      "\r",
      " [******   27%           ] Elapsed 0.38s / Remaining 00:00:00:01"
     ]
    },
    {
     "name": "stdout",
     "output_type": "stream",
     "text": [
      "\r",
      " [******   27%           ] Elapsed 0.39s / Remaining 00:00:00:01"
     ]
    },
    {
     "name": "stdout",
     "output_type": "stream",
     "text": [
      "\r",
      " [******   27%           ] Elapsed 0.39s / Remaining 00:00:00:01"
     ]
    },
    {
     "name": "stdout",
     "output_type": "stream",
     "text": [
      "\r",
      " [******   27%           ] Elapsed 0.39s / Remaining 00:00:00:01"
     ]
    },
    {
     "name": "stdout",
     "output_type": "stream",
     "text": [
      "\r",
      " [******   27%           ] Elapsed 0.39s / Remaining 00:00:00:01"
     ]
    },
    {
     "name": "stdout",
     "output_type": "stream",
     "text": [
      "\r",
      " [******   27%           ] Elapsed 0.39s / Remaining 00:00:00:01"
     ]
    },
    {
     "name": "stdout",
     "output_type": "stream",
     "text": [
      "\r",
      " [******   27%           ] Elapsed 0.39s / Remaining 00:00:00:01"
     ]
    },
    {
     "name": "stdout",
     "output_type": "stream",
     "text": [
      "\r",
      " [******   27%           ] Elapsed 0.39s / Remaining 00:00:00:01"
     ]
    },
    {
     "name": "stdout",
     "output_type": "stream",
     "text": [
      "\r",
      " [******   28%           ] Elapsed 0.40s / Remaining 00:00:00:01"
     ]
    },
    {
     "name": "stdout",
     "output_type": "stream",
     "text": [
      "\r",
      " [******   28%           ] Elapsed 0.40s / Remaining 00:00:00:01"
     ]
    },
    {
     "name": "stdout",
     "output_type": "stream",
     "text": [
      "\r",
      " [******   28%           ] Elapsed 0.40s / Remaining 00:00:00:01"
     ]
    },
    {
     "name": "stdout",
     "output_type": "stream",
     "text": [
      "\r",
      " [******   28%           ] Elapsed 0.40s / Remaining 00:00:00:01"
     ]
    },
    {
     "name": "stdout",
     "output_type": "stream",
     "text": [
      "\r",
      " [******   28%           ] Elapsed 0.40s / Remaining 00:00:00:01"
     ]
    },
    {
     "name": "stdout",
     "output_type": "stream",
     "text": [
      "\r",
      " [******   28%           ] Elapsed 0.40s / Remaining 00:00:00:01"
     ]
    },
    {
     "name": "stdout",
     "output_type": "stream",
     "text": [
      "\r",
      " [******   28%           ] Elapsed 0.40s / Remaining 00:00:00:01"
     ]
    },
    {
     "name": "stdout",
     "output_type": "stream",
     "text": [
      "\r",
      " [******   28%           ] Elapsed 0.41s / Remaining 00:00:00:01"
     ]
    },
    {
     "name": "stdout",
     "output_type": "stream",
     "text": [
      "\r",
      " [******   28%           ] Elapsed 0.41s / Remaining 00:00:00:01"
     ]
    },
    {
     "name": "stdout",
     "output_type": "stream",
     "text": [
      "\r",
      " [******   28%           ] Elapsed 0.41s / Remaining 00:00:00:01"
     ]
    },
    {
     "name": "stdout",
     "output_type": "stream",
     "text": [
      "\r",
      " [*******  29%           ] Elapsed 0.41s / Remaining 00:00:00:01"
     ]
    },
    {
     "name": "stdout",
     "output_type": "stream",
     "text": [
      "\r",
      " [*******  29%           ] Elapsed 0.41s / Remaining 00:00:00:01"
     ]
    },
    {
     "name": "stdout",
     "output_type": "stream",
     "text": [
      "\r",
      " [*******  29%           ] Elapsed 0.41s / Remaining 00:00:00:01"
     ]
    },
    {
     "name": "stdout",
     "output_type": "stream",
     "text": [
      "\r",
      " [*******  29%           ] Elapsed 0.41s / Remaining 00:00:00:01"
     ]
    },
    {
     "name": "stdout",
     "output_type": "stream",
     "text": [
      "\r",
      " [*******  29%           ] Elapsed 0.42s / Remaining 00:00:00:01"
     ]
    },
    {
     "name": "stdout",
     "output_type": "stream",
     "text": [
      "\r",
      " [*******  29%           ] Elapsed 0.42s / Remaining 00:00:00:01"
     ]
    },
    {
     "name": "stdout",
     "output_type": "stream",
     "text": [
      "\r",
      " [*******  29%           ] Elapsed 0.42s / Remaining 00:00:00:01"
     ]
    },
    {
     "name": "stdout",
     "output_type": "stream",
     "text": [
      "\r",
      " [*******  29%           ] Elapsed 0.42s / Remaining 00:00:00:01"
     ]
    },
    {
     "name": "stdout",
     "output_type": "stream",
     "text": [
      "\r",
      " [*******  29%           ] Elapsed 0.42s / Remaining 00:00:00:01"
     ]
    },
    {
     "name": "stdout",
     "output_type": "stream",
     "text": [
      "\r",
      " [*******  29%           ] Elapsed 0.42s / Remaining 00:00:00:01"
     ]
    },
    {
     "name": "stdout",
     "output_type": "stream",
     "text": [
      "\r",
      " [*******  30%           ] Elapsed 0.42s / Remaining 00:00:00:00"
     ]
    },
    {
     "name": "stdout",
     "output_type": "stream",
     "text": [
      "\r",
      " [*******  30%           ] Elapsed 0.42s / Remaining 00:00:00:00"
     ]
    },
    {
     "name": "stdout",
     "output_type": "stream",
     "text": [
      "\r",
      " [*******  30%           ] Elapsed 0.43s / Remaining 00:00:00:00"
     ]
    },
    {
     "name": "stdout",
     "output_type": "stream",
     "text": [
      "\r",
      " [*******  30%           ] Elapsed 0.43s / Remaining 00:00:00:00"
     ]
    },
    {
     "name": "stdout",
     "output_type": "stream",
     "text": [
      "\r",
      " [*******  30%           ] Elapsed 0.43s / Remaining 00:00:00:01"
     ]
    },
    {
     "name": "stdout",
     "output_type": "stream",
     "text": [
      "\r",
      " [*******  30%           ] Elapsed 0.43s / Remaining 00:00:00:01"
     ]
    },
    {
     "name": "stdout",
     "output_type": "stream",
     "text": [
      "\r",
      " [*******  30%           ] Elapsed 0.43s / Remaining 00:00:00:01"
     ]
    },
    {
     "name": "stdout",
     "output_type": "stream",
     "text": [
      "\r",
      " [*******  30%           ] Elapsed 0.43s / Remaining 00:00:00:01"
     ]
    },
    {
     "name": "stdout",
     "output_type": "stream",
     "text": [
      "\r",
      " [*******  30%           ] Elapsed 0.43s / Remaining 00:00:00:01"
     ]
    },
    {
     "name": "stdout",
     "output_type": "stream",
     "text": [
      "\r",
      " [*******  30%           ] Elapsed 0.44s / Remaining 00:00:00:01"
     ]
    },
    {
     "name": "stdout",
     "output_type": "stream",
     "text": [
      "\r",
      " [*******  31%           ] Elapsed 0.44s / Remaining 00:00:00:00"
     ]
    },
    {
     "name": "stdout",
     "output_type": "stream",
     "text": [
      "\r",
      " [*******  31%           ] Elapsed 0.44s / Remaining 00:00:00:00"
     ]
    },
    {
     "name": "stdout",
     "output_type": "stream",
     "text": [
      "\r",
      " [*******  31%           ] Elapsed 0.44s / Remaining 00:00:00:00"
     ]
    },
    {
     "name": "stdout",
     "output_type": "stream",
     "text": [
      "\r",
      " [*******  31%           ] Elapsed 0.44s / Remaining 00:00:00:00"
     ]
    },
    {
     "name": "stdout",
     "output_type": "stream",
     "text": [
      "\r",
      " [*******  31%           ] Elapsed 0.44s / Remaining 00:00:00:00"
     ]
    },
    {
     "name": "stdout",
     "output_type": "stream",
     "text": [
      "\r",
      " [*******  31%           ] Elapsed 0.44s / Remaining 00:00:00:00"
     ]
    },
    {
     "name": "stdout",
     "output_type": "stream",
     "text": [
      "\r",
      " [*******  31%           ] Elapsed 0.44s / Remaining 00:00:00:00"
     ]
    },
    {
     "name": "stdout",
     "output_type": "stream",
     "text": [
      "\r",
      " [*******  31%           ] Elapsed 0.45s / Remaining 00:00:00:00"
     ]
    },
    {
     "name": "stdout",
     "output_type": "stream",
     "text": [
      "\r",
      " [*******  31%           ] Elapsed 0.45s / Remaining 00:00:00:00"
     ]
    },
    {
     "name": "stdout",
     "output_type": "stream",
     "text": [
      "\r",
      " [*******  31%           ] Elapsed 0.45s / Remaining 00:00:00:01"
     ]
    },
    {
     "name": "stdout",
     "output_type": "stream",
     "text": [
      "\r",
      " [*******  32%           ] Elapsed 0.45s / Remaining 00:00:00:00"
     ]
    },
    {
     "name": "stdout",
     "output_type": "stream",
     "text": [
      "\r",
      " [*******  32%           ] Elapsed 0.45s / Remaining 00:00:00:00"
     ]
    },
    {
     "name": "stdout",
     "output_type": "stream",
     "text": [
      "\r",
      " [*******  32%           ] Elapsed 0.45s / Remaining 00:00:00:00"
     ]
    },
    {
     "name": "stdout",
     "output_type": "stream",
     "text": [
      "\r",
      " [*******  32%           ] Elapsed 0.45s / Remaining 00:00:00:00"
     ]
    },
    {
     "name": "stdout",
     "output_type": "stream",
     "text": [
      "\r",
      " [*******  32%           ] Elapsed 0.46s / Remaining 00:00:00:00"
     ]
    },
    {
     "name": "stdout",
     "output_type": "stream",
     "text": [
      "\r",
      " [*******  32%           ] Elapsed 0.46s / Remaining 00:00:00:00"
     ]
    },
    {
     "name": "stdout",
     "output_type": "stream",
     "text": [
      "\r",
      " [*******  32%           ] Elapsed 0.46s / Remaining 00:00:00:00"
     ]
    },
    {
     "name": "stdout",
     "output_type": "stream",
     "text": [
      "\r",
      " [*******  32%           ] Elapsed 0.46s / Remaining 00:00:00:00"
     ]
    },
    {
     "name": "stdout",
     "output_type": "stream",
     "text": [
      "\r",
      " [*******  32%           ] Elapsed 0.46s / Remaining 00:00:00:00"
     ]
    },
    {
     "name": "stdout",
     "output_type": "stream",
     "text": [
      "\r",
      " [*******  32%           ] Elapsed 0.46s / Remaining 00:00:00:00"
     ]
    },
    {
     "name": "stdout",
     "output_type": "stream",
     "text": [
      "\r",
      " [******** 33%           ] Elapsed 0.46s / Remaining 00:00:00:00"
     ]
    },
    {
     "name": "stdout",
     "output_type": "stream",
     "text": [
      "\r",
      " [******** 33%           ] Elapsed 0.47s / Remaining 00:00:00:00"
     ]
    },
    {
     "name": "stdout",
     "output_type": "stream",
     "text": [
      "\r",
      " [******** 33%           ] Elapsed 0.47s / Remaining 00:00:00:00"
     ]
    },
    {
     "name": "stdout",
     "output_type": "stream",
     "text": [
      "\r",
      " [******** 33%           ] Elapsed 0.47s / Remaining 00:00:00:00"
     ]
    },
    {
     "name": "stdout",
     "output_type": "stream",
     "text": [
      "\r",
      " [******** 33%           ] Elapsed 0.47s / Remaining 00:00:00:00"
     ]
    },
    {
     "name": "stdout",
     "output_type": "stream",
     "text": [
      "\r",
      " [******** 33%           ] Elapsed 0.47s / Remaining 00:00:00:00"
     ]
    },
    {
     "name": "stdout",
     "output_type": "stream",
     "text": [
      "\r",
      " [******** 33%           ] Elapsed 0.47s / Remaining 00:00:00:00"
     ]
    },
    {
     "name": "stdout",
     "output_type": "stream",
     "text": [
      "\r",
      " [******** 33%           ] Elapsed 0.47s / Remaining 00:00:00:00"
     ]
    },
    {
     "name": "stdout",
     "output_type": "stream",
     "text": [
      "\r",
      " [******** 33%           ] Elapsed 0.47s / Remaining 00:00:00:00"
     ]
    },
    {
     "name": "stdout",
     "output_type": "stream",
     "text": [
      "\r",
      " [******** 33%           ] Elapsed 0.48s / Remaining 00:00:00:00"
     ]
    },
    {
     "name": "stdout",
     "output_type": "stream",
     "text": [
      "\r",
      " [******** 34%           ] Elapsed 0.48s / Remaining 00:00:00:00"
     ]
    },
    {
     "name": "stdout",
     "output_type": "stream",
     "text": [
      "\r",
      " [******** 34%           ] Elapsed 0.48s / Remaining 00:00:00:00"
     ]
    },
    {
     "name": "stdout",
     "output_type": "stream",
     "text": [
      "\r",
      " [******** 34%           ] Elapsed 0.48s / Remaining 00:00:00:00"
     ]
    },
    {
     "name": "stdout",
     "output_type": "stream",
     "text": [
      "\r",
      " [******** 34%           ] Elapsed 0.48s / Remaining 00:00:00:00"
     ]
    },
    {
     "name": "stdout",
     "output_type": "stream",
     "text": [
      "\r",
      " [******** 34%           ] Elapsed 0.48s / Remaining 00:00:00:00"
     ]
    },
    {
     "name": "stdout",
     "output_type": "stream",
     "text": [
      "\r",
      " [******** 34%           ] Elapsed 0.48s / Remaining 00:00:00:00"
     ]
    },
    {
     "name": "stdout",
     "output_type": "stream",
     "text": [
      "\r",
      " [******** 34%           ] Elapsed 0.48s / Remaining 00:00:00:00"
     ]
    },
    {
     "name": "stdout",
     "output_type": "stream",
     "text": [
      "\r",
      " [******** 34%           ] Elapsed 0.49s / Remaining 00:00:00:00"
     ]
    },
    {
     "name": "stdout",
     "output_type": "stream",
     "text": [
      "\r",
      " [******** 34%           ] Elapsed 0.49s / Remaining 00:00:00:00"
     ]
    },
    {
     "name": "stdout",
     "output_type": "stream",
     "text": [
      "\r",
      " [******** 34%           ] Elapsed 0.49s / Remaining 00:00:00:00"
     ]
    },
    {
     "name": "stdout",
     "output_type": "stream",
     "text": [
      "\r",
      " [******** 35%           ] Elapsed 0.49s / Remaining 00:00:00:00"
     ]
    },
    {
     "name": "stdout",
     "output_type": "stream",
     "text": [
      "\r",
      " [******** 35%           ] Elapsed 0.49s / Remaining 00:00:00:00"
     ]
    },
    {
     "name": "stdout",
     "output_type": "stream",
     "text": [
      "\r",
      " [******** 35%           ] Elapsed 0.49s / Remaining 00:00:00:00"
     ]
    },
    {
     "name": "stdout",
     "output_type": "stream",
     "text": [
      "\r",
      " [******** 35%           ] Elapsed 0.49s / Remaining 00:00:00:00"
     ]
    },
    {
     "name": "stdout",
     "output_type": "stream",
     "text": [
      "\r",
      " [******** 35%           ] Elapsed 0.49s / Remaining 00:00:00:00"
     ]
    },
    {
     "name": "stdout",
     "output_type": "stream",
     "text": [
      "\r",
      " [******** 35%           ] Elapsed 0.50s / Remaining 00:00:00:00"
     ]
    },
    {
     "name": "stdout",
     "output_type": "stream",
     "text": [
      "\r",
      " [******** 35%           ] Elapsed 0.50s / Remaining 00:00:00:00"
     ]
    },
    {
     "name": "stdout",
     "output_type": "stream",
     "text": [
      "\r",
      " [******** 35%           ] Elapsed 0.50s / Remaining 00:00:00:00"
     ]
    },
    {
     "name": "stdout",
     "output_type": "stream",
     "text": [
      "\r",
      " [******** 35%           ] Elapsed 0.50s / Remaining 00:00:00:00"
     ]
    },
    {
     "name": "stdout",
     "output_type": "stream",
     "text": [
      "\r",
      " [******** 35%           ] Elapsed 0.50s / Remaining 00:00:00:00"
     ]
    },
    {
     "name": "stdout",
     "output_type": "stream",
     "text": [
      "\r",
      " [******** 36%           ] Elapsed 0.50s / Remaining 00:00:00:00"
     ]
    },
    {
     "name": "stdout",
     "output_type": "stream",
     "text": [
      "\r",
      " [******** 36%           ] Elapsed 0.50s / Remaining 00:00:00:00"
     ]
    },
    {
     "name": "stdout",
     "output_type": "stream",
     "text": [
      "\r",
      " [******** 36%           ] Elapsed 0.51s / Remaining 00:00:00:00"
     ]
    },
    {
     "name": "stdout",
     "output_type": "stream",
     "text": [
      "\r",
      " [******** 36%           ] Elapsed 0.51s / Remaining 00:00:00:00"
     ]
    },
    {
     "name": "stdout",
     "output_type": "stream",
     "text": [
      "\r",
      " [******** 36%           ] Elapsed 0.51s / Remaining 00:00:00:00"
     ]
    },
    {
     "name": "stdout",
     "output_type": "stream",
     "text": [
      "\r",
      " [******** 36%           ] Elapsed 0.51s / Remaining 00:00:00:00"
     ]
    },
    {
     "name": "stdout",
     "output_type": "stream",
     "text": [
      "\r",
      " [******** 36%           ] Elapsed 0.51s / Remaining 00:00:00:00"
     ]
    },
    {
     "name": "stdout",
     "output_type": "stream",
     "text": [
      "\r",
      " [******** 36%           ] Elapsed 0.51s / Remaining 00:00:00:00"
     ]
    },
    {
     "name": "stdout",
     "output_type": "stream",
     "text": [
      "\r",
      " [******** 36%           ] Elapsed 0.51s / Remaining 00:00:00:00"
     ]
    },
    {
     "name": "stdout",
     "output_type": "stream",
     "text": [
      "\r",
      " [******** 36%           ] Elapsed 0.51s / Remaining 00:00:00:00"
     ]
    },
    {
     "name": "stdout",
     "output_type": "stream",
     "text": [
      "\r",
      " [*********37%           ] Elapsed 0.52s / Remaining 00:00:00:00"
     ]
    },
    {
     "name": "stdout",
     "output_type": "stream",
     "text": [
      "\r",
      " [*********37%           ] Elapsed 0.52s / Remaining 00:00:00:00"
     ]
    },
    {
     "name": "stdout",
     "output_type": "stream",
     "text": [
      "\r",
      " [*********37%           ] Elapsed 0.52s / Remaining 00:00:00:00"
     ]
    },
    {
     "name": "stdout",
     "output_type": "stream",
     "text": [
      "\r",
      " [*********37%           ] Elapsed 0.52s / Remaining 00:00:00:00"
     ]
    },
    {
     "name": "stdout",
     "output_type": "stream",
     "text": [
      "\r",
      " [*********37%           ] Elapsed 0.52s / Remaining 00:00:00:00"
     ]
    },
    {
     "name": "stdout",
     "output_type": "stream",
     "text": [
      "\r",
      " [*********37%           ] Elapsed 0.52s / Remaining 00:00:00:00"
     ]
    },
    {
     "name": "stdout",
     "output_type": "stream",
     "text": [
      "\r",
      " [*********37%           ] Elapsed 0.52s / Remaining 00:00:00:00"
     ]
    },
    {
     "name": "stdout",
     "output_type": "stream",
     "text": [
      "\r",
      " [*********37%           ] Elapsed 0.52s / Remaining 00:00:00:00"
     ]
    },
    {
     "name": "stdout",
     "output_type": "stream",
     "text": [
      "\r",
      " [*********37%           ] Elapsed 0.53s / Remaining 00:00:00:00"
     ]
    },
    {
     "name": "stdout",
     "output_type": "stream",
     "text": [
      "\r",
      " [*********37%           ] Elapsed 0.53s / Remaining 00:00:00:00"
     ]
    },
    {
     "name": "stdout",
     "output_type": "stream",
     "text": [
      "\r",
      " [*********38%           ] Elapsed 0.53s / Remaining 00:00:00:00"
     ]
    },
    {
     "name": "stdout",
     "output_type": "stream",
     "text": [
      "\r",
      " [*********38%           ] Elapsed 0.53s / Remaining 00:00:00:00"
     ]
    },
    {
     "name": "stdout",
     "output_type": "stream",
     "text": [
      "\r",
      " [*********38%           ] Elapsed 0.53s / Remaining 00:00:00:00"
     ]
    },
    {
     "name": "stdout",
     "output_type": "stream",
     "text": [
      "\r",
      " [*********38%           ] Elapsed 0.53s / Remaining 00:00:00:00"
     ]
    },
    {
     "name": "stdout",
     "output_type": "stream",
     "text": [
      "\r",
      " [*********38%           ] Elapsed 0.53s / Remaining 00:00:00:00"
     ]
    },
    {
     "name": "stdout",
     "output_type": "stream",
     "text": [
      "\r",
      " [*********38%           ] Elapsed 0.54s / Remaining 00:00:00:00"
     ]
    },
    {
     "name": "stdout",
     "output_type": "stream",
     "text": [
      "\r",
      " [*********38%           ] Elapsed 0.54s / Remaining 00:00:00:00"
     ]
    },
    {
     "name": "stdout",
     "output_type": "stream",
     "text": [
      "\r",
      " [*********38%           ] Elapsed 0.54s / Remaining 00:00:00:00"
     ]
    },
    {
     "name": "stdout",
     "output_type": "stream",
     "text": [
      "\r",
      " [*********38%           ] Elapsed 0.54s / Remaining 00:00:00:00"
     ]
    },
    {
     "name": "stdout",
     "output_type": "stream",
     "text": [
      "\r",
      " [*********38%           ] Elapsed 0.54s / Remaining 00:00:00:00"
     ]
    },
    {
     "name": "stdout",
     "output_type": "stream",
     "text": [
      "\r"
     ]
    },
    {
     "name": "stdout",
     "output_type": "stream",
     "text": [
      " [*********39%           ] Elapsed 0.54s / Remaining 00:00:00:00"
     ]
    },
    {
     "name": "stdout",
     "output_type": "stream",
     "text": [
      "\r",
      " [*********39%           ] Elapsed 0.54s / Remaining 00:00:00:00"
     ]
    },
    {
     "name": "stdout",
     "output_type": "stream",
     "text": [
      "\r",
      " [*********39%           ] Elapsed 0.54s / Remaining 00:00:00:00"
     ]
    },
    {
     "name": "stdout",
     "output_type": "stream",
     "text": [
      "\r",
      " [*********39%           ] Elapsed 0.55s / Remaining 00:00:00:00"
     ]
    },
    {
     "name": "stdout",
     "output_type": "stream",
     "text": [
      "\r",
      " [*********39%           ] Elapsed 0.55s / Remaining 00:00:00:00"
     ]
    },
    {
     "name": "stdout",
     "output_type": "stream",
     "text": [
      "\r",
      " [*********39%           ] Elapsed 0.55s / Remaining 00:00:00:00"
     ]
    },
    {
     "name": "stdout",
     "output_type": "stream",
     "text": [
      "\r",
      " [*********39%           ] Elapsed 0.55s / Remaining 00:00:00:00"
     ]
    },
    {
     "name": "stdout",
     "output_type": "stream",
     "text": [
      "\r",
      " [*********39%           ] Elapsed 0.55s / Remaining 00:00:00:00"
     ]
    },
    {
     "name": "stdout",
     "output_type": "stream",
     "text": [
      "\r",
      " [*********39%           ] Elapsed 0.55s / Remaining 00:00:00:00"
     ]
    },
    {
     "name": "stdout",
     "output_type": "stream",
     "text": [
      "\r",
      " [*********39%           ] Elapsed 0.55s / Remaining 00:00:00:00"
     ]
    },
    {
     "name": "stdout",
     "output_type": "stream",
     "text": [
      "\r",
      " [*********40%           ] Elapsed 0.56s / Remaining 00:00:00:00"
     ]
    },
    {
     "name": "stdout",
     "output_type": "stream",
     "text": [
      "\r",
      " [*********40%           ] Elapsed 0.56s / Remaining 00:00:00:00"
     ]
    },
    {
     "name": "stdout",
     "output_type": "stream",
     "text": [
      "\r",
      " [*********40%           ] Elapsed 0.56s / Remaining 00:00:00:00"
     ]
    },
    {
     "name": "stdout",
     "output_type": "stream",
     "text": [
      "\r",
      " [*********40%           ] Elapsed 0.56s / Remaining 00:00:00:00"
     ]
    },
    {
     "name": "stdout",
     "output_type": "stream",
     "text": [
      "\r",
      " [*********40%           ] Elapsed 0.56s / Remaining 00:00:00:00"
     ]
    },
    {
     "name": "stdout",
     "output_type": "stream",
     "text": [
      "\r",
      " [*********40%           ] Elapsed 0.56s / Remaining 00:00:00:00"
     ]
    },
    {
     "name": "stdout",
     "output_type": "stream",
     "text": [
      "\r",
      " [*********40%           ] Elapsed 0.57s / Remaining 00:00:00:00"
     ]
    },
    {
     "name": "stdout",
     "output_type": "stream",
     "text": [
      "\r",
      " [*********40%           ] Elapsed 0.57s / Remaining 00:00:00:00"
     ]
    },
    {
     "name": "stdout",
     "output_type": "stream",
     "text": [
      "\r",
      " [*********40%           ] Elapsed 0.57s / Remaining 00:00:00:00"
     ]
    },
    {
     "name": "stdout",
     "output_type": "stream",
     "text": [
      "\r",
      " [*********40%           ] Elapsed 0.57s / Remaining 00:00:00:00"
     ]
    },
    {
     "name": "stdout",
     "output_type": "stream",
     "text": [
      "\r",
      " [*********41%           ] Elapsed 0.57s / Remaining 00:00:00:00"
     ]
    },
    {
     "name": "stdout",
     "output_type": "stream",
     "text": [
      "\r",
      " [*********41%           ] Elapsed 0.57s / Remaining 00:00:00:00"
     ]
    },
    {
     "name": "stdout",
     "output_type": "stream",
     "text": [
      "\r",
      " [*********41%           ] Elapsed 0.57s / Remaining 00:00:00:00"
     ]
    },
    {
     "name": "stdout",
     "output_type": "stream",
     "text": [
      "\r",
      " [*********41%           ] Elapsed 0.58s / Remaining 00:00:00:00"
     ]
    },
    {
     "name": "stdout",
     "output_type": "stream",
     "text": [
      "\r",
      " [*********41%           ] Elapsed 0.58s / Remaining 00:00:00:00"
     ]
    },
    {
     "name": "stdout",
     "output_type": "stream",
     "text": [
      "\r",
      " [*********41%           ] Elapsed 0.58s / Remaining 00:00:00:00"
     ]
    },
    {
     "name": "stdout",
     "output_type": "stream",
     "text": [
      "\r",
      " [*********41%           ] Elapsed 0.58s / Remaining 00:00:00:00"
     ]
    },
    {
     "name": "stdout",
     "output_type": "stream",
     "text": [
      "\r",
      " [*********41%           ] Elapsed 0.58s / Remaining 00:00:00:00"
     ]
    },
    {
     "name": "stdout",
     "output_type": "stream",
     "text": [
      "\r",
      " [*********41%           ] Elapsed 0.58s / Remaining 00:00:00:00"
     ]
    },
    {
     "name": "stdout",
     "output_type": "stream",
     "text": [
      "\r",
      " [*********41%           ] Elapsed 0.59s / Remaining 00:00:00:00"
     ]
    },
    {
     "name": "stdout",
     "output_type": "stream",
     "text": [
      "\r",
      " [*********42%           ] Elapsed 0.59s / Remaining 00:00:00:00"
     ]
    },
    {
     "name": "stdout",
     "output_type": "stream",
     "text": [
      "\r",
      " [*********42%           ] Elapsed 0.59s / Remaining 00:00:00:00"
     ]
    },
    {
     "name": "stdout",
     "output_type": "stream",
     "text": [
      "\r",
      " [*********42%           ] Elapsed 0.59s / Remaining 00:00:00:00"
     ]
    },
    {
     "name": "stdout",
     "output_type": "stream",
     "text": [
      "\r",
      " [*********42%           ] Elapsed 0.59s / Remaining 00:00:00:00"
     ]
    },
    {
     "name": "stdout",
     "output_type": "stream",
     "text": [
      "\r",
      " [*********42%           ] Elapsed 0.59s / Remaining 00:00:00:00"
     ]
    },
    {
     "name": "stdout",
     "output_type": "stream",
     "text": [
      "\r",
      " [*********42%           ] Elapsed 0.59s / Remaining 00:00:00:00"
     ]
    },
    {
     "name": "stdout",
     "output_type": "stream",
     "text": [
      "\r",
      " [*********42%           ] Elapsed 0.60s / Remaining 00:00:00:00"
     ]
    },
    {
     "name": "stdout",
     "output_type": "stream",
     "text": [
      "\r",
      " [*********42%           ] Elapsed 0.60s / Remaining 00:00:00:00"
     ]
    },
    {
     "name": "stdout",
     "output_type": "stream",
     "text": [
      "\r",
      " [*********42%           ] Elapsed 0.60s / Remaining 00:00:00:00"
     ]
    },
    {
     "name": "stdout",
     "output_type": "stream",
     "text": [
      "\r",
      " [*********42%           ] Elapsed 0.60s / Remaining 00:00:00:00"
     ]
    },
    {
     "name": "stdout",
     "output_type": "stream",
     "text": [
      "\r",
      " [*********43%           ] Elapsed 0.60s / Remaining 00:00:00:00"
     ]
    },
    {
     "name": "stdout",
     "output_type": "stream",
     "text": [
      "\r",
      " [*********43%           ] Elapsed 0.60s / Remaining 00:00:00:00"
     ]
    },
    {
     "name": "stdout",
     "output_type": "stream",
     "text": [
      "\r",
      " [*********43%           ] Elapsed 0.60s / Remaining 00:00:00:00"
     ]
    },
    {
     "name": "stdout",
     "output_type": "stream",
     "text": [
      "\r",
      " [*********43%           ] Elapsed 0.61s / Remaining 00:00:00:00"
     ]
    },
    {
     "name": "stdout",
     "output_type": "stream",
     "text": [
      "\r",
      " [*********43%           ] Elapsed 0.61s / Remaining 00:00:00:00"
     ]
    },
    {
     "name": "stdout",
     "output_type": "stream",
     "text": [
      "\r",
      " [*********43%           ] Elapsed 0.61s / Remaining 00:00:00:00"
     ]
    },
    {
     "name": "stdout",
     "output_type": "stream",
     "text": [
      "\r",
      " [*********43%           ] Elapsed 0.61s / Remaining 00:00:00:00"
     ]
    },
    {
     "name": "stdout",
     "output_type": "stream",
     "text": [
      "\r",
      " [*********43%           ] Elapsed 0.61s / Remaining 00:00:00:00"
     ]
    },
    {
     "name": "stdout",
     "output_type": "stream",
     "text": [
      "\r",
      " [*********43%           ] Elapsed 0.61s / Remaining 00:00:00:00"
     ]
    },
    {
     "name": "stdout",
     "output_type": "stream",
     "text": [
      "\r",
      " [*********43%           ] Elapsed 0.61s / Remaining 00:00:00:00"
     ]
    },
    {
     "name": "stdout",
     "output_type": "stream",
     "text": [
      "\r",
      " [*********44%           ] Elapsed 0.62s / Remaining 00:00:00:00"
     ]
    },
    {
     "name": "stdout",
     "output_type": "stream",
     "text": [
      "\r",
      " [*********44%           ] Elapsed 0.62s / Remaining 00:00:00:00"
     ]
    },
    {
     "name": "stdout",
     "output_type": "stream",
     "text": [
      "\r",
      " [*********44%           ] Elapsed 0.62s / Remaining 00:00:00:00"
     ]
    },
    {
     "name": "stdout",
     "output_type": "stream",
     "text": [
      "\r",
      " [*********44%           ] Elapsed 0.62s / Remaining 00:00:00:00"
     ]
    },
    {
     "name": "stdout",
     "output_type": "stream",
     "text": [
      "\r",
      " [*********44%           ] Elapsed 0.62s / Remaining 00:00:00:00"
     ]
    },
    {
     "name": "stdout",
     "output_type": "stream",
     "text": [
      "\r",
      " [*********44%           ] Elapsed 0.62s / Remaining 00:00:00:00"
     ]
    },
    {
     "name": "stdout",
     "output_type": "stream",
     "text": [
      "\r",
      " [*********44%           ] Elapsed 0.62s / Remaining 00:00:00:00"
     ]
    },
    {
     "name": "stdout",
     "output_type": "stream",
     "text": [
      "\r",
      " [*********44%           ] Elapsed 0.62s / Remaining 00:00:00:00"
     ]
    },
    {
     "name": "stdout",
     "output_type": "stream",
     "text": [
      "\r",
      " [*********44%           ] Elapsed 0.63s / Remaining 00:00:00:00"
     ]
    },
    {
     "name": "stdout",
     "output_type": "stream",
     "text": [
      "\r",
      " [*********44%           ] Elapsed 0.63s / Remaining 00:00:00:00"
     ]
    },
    {
     "name": "stdout",
     "output_type": "stream",
     "text": [
      "\r",
      " [*********45%           ] Elapsed 0.63s / Remaining 00:00:00:00"
     ]
    },
    {
     "name": "stdout",
     "output_type": "stream",
     "text": [
      "\r",
      " [*********45%           ] Elapsed 0.63s / Remaining 00:00:00:00"
     ]
    },
    {
     "name": "stdout",
     "output_type": "stream",
     "text": [
      "\r",
      " [*********45%           ] Elapsed 0.63s / Remaining 00:00:00:00"
     ]
    },
    {
     "name": "stdout",
     "output_type": "stream",
     "text": [
      "\r",
      " [*********45%           ] Elapsed 0.63s / Remaining 00:00:00:00"
     ]
    },
    {
     "name": "stdout",
     "output_type": "stream",
     "text": [
      "\r",
      " [*********45%           ] Elapsed 0.64s / Remaining 00:00:00:00"
     ]
    },
    {
     "name": "stdout",
     "output_type": "stream",
     "text": [
      "\r",
      " [*********45%           ] Elapsed 0.64s / Remaining 00:00:00:00"
     ]
    },
    {
     "name": "stdout",
     "output_type": "stream",
     "text": [
      "\r",
      " [*********45%           ] Elapsed 0.64s / Remaining 00:00:00:00"
     ]
    },
    {
     "name": "stdout",
     "output_type": "stream",
     "text": [
      "\r",
      " [*********45%           ] Elapsed 0.64s / Remaining 00:00:00:00"
     ]
    },
    {
     "name": "stdout",
     "output_type": "stream",
     "text": [
      "\r",
      " [*********45%           ] Elapsed 0.64s / Remaining 00:00:00:00"
     ]
    },
    {
     "name": "stdout",
     "output_type": "stream",
     "text": [
      "\r",
      " [*********45%           ] Elapsed 0.64s / Remaining 00:00:00:00"
     ]
    },
    {
     "name": "stdout",
     "output_type": "stream",
     "text": [
      "\r",
      " [*********46%           ] Elapsed 0.64s / Remaining 00:00:00:00"
     ]
    },
    {
     "name": "stdout",
     "output_type": "stream",
     "text": [
      "\r",
      " [*********46%           ] Elapsed 0.65s / Remaining 00:00:00:00"
     ]
    },
    {
     "name": "stdout",
     "output_type": "stream",
     "text": [
      "\r",
      " [*********46%           ] Elapsed 0.65s / Remaining 00:00:00:00"
     ]
    },
    {
     "name": "stdout",
     "output_type": "stream",
     "text": [
      "\r",
      " [*********46%           ] Elapsed 0.65s / Remaining 00:00:00:00"
     ]
    },
    {
     "name": "stdout",
     "output_type": "stream",
     "text": [
      "\r",
      " [*********46%           ] Elapsed 0.65s / Remaining 00:00:00:00"
     ]
    },
    {
     "name": "stdout",
     "output_type": "stream",
     "text": [
      "\r",
      " [*********46%           ] Elapsed 0.65s / Remaining 00:00:00:00"
     ]
    },
    {
     "name": "stdout",
     "output_type": "stream",
     "text": [
      "\r",
      " [*********46%           ] Elapsed 0.65s / Remaining 00:00:00:00"
     ]
    },
    {
     "name": "stdout",
     "output_type": "stream",
     "text": [
      "\r",
      " [*********46%           ] Elapsed 0.65s / Remaining 00:00:00:00"
     ]
    },
    {
     "name": "stdout",
     "output_type": "stream",
     "text": [
      "\r",
      " [*********46%           ] Elapsed 0.66s / Remaining 00:00:00:00"
     ]
    },
    {
     "name": "stdout",
     "output_type": "stream",
     "text": [
      "\r",
      " [*********46%           ] Elapsed 0.66s / Remaining 00:00:00:00"
     ]
    },
    {
     "name": "stdout",
     "output_type": "stream",
     "text": [
      "\r",
      " [*********47%           ] Elapsed 0.66s / Remaining 00:00:00:00"
     ]
    },
    {
     "name": "stdout",
     "output_type": "stream",
     "text": [
      "\r",
      " [*********47%           ] Elapsed 0.66s / Remaining 00:00:00:00"
     ]
    },
    {
     "name": "stdout",
     "output_type": "stream",
     "text": [
      "\r",
      " [*********47%           ] Elapsed 0.66s / Remaining 00:00:00:00"
     ]
    },
    {
     "name": "stdout",
     "output_type": "stream",
     "text": [
      "\r",
      " [*********47%           ] Elapsed 0.66s / Remaining 00:00:00:00"
     ]
    },
    {
     "name": "stdout",
     "output_type": "stream",
     "text": [
      "\r",
      " [*********47%           ] Elapsed 0.66s / Remaining 00:00:00:00"
     ]
    },
    {
     "name": "stdout",
     "output_type": "stream",
     "text": [
      "\r",
      " [*********47%           ] Elapsed 0.67s / Remaining 00:00:00:00"
     ]
    },
    {
     "name": "stdout",
     "output_type": "stream",
     "text": [
      "\r",
      " [*********47%           ] Elapsed 0.67s / Remaining 00:00:00:00"
     ]
    },
    {
     "name": "stdout",
     "output_type": "stream",
     "text": [
      "\r",
      " [*********47%           ] Elapsed 0.67s / Remaining 00:00:00:00"
     ]
    },
    {
     "name": "stdout",
     "output_type": "stream",
     "text": [
      "\r",
      " [*********47%           ] Elapsed 0.67s / Remaining 00:00:00:00"
     ]
    },
    {
     "name": "stdout",
     "output_type": "stream",
     "text": [
      "\r",
      " [*********47%           ] Elapsed 0.67s / Remaining 00:00:00:00"
     ]
    },
    {
     "name": "stdout",
     "output_type": "stream",
     "text": [
      "\r",
      " [*********48%           ] Elapsed 0.67s / Remaining 00:00:00:00"
     ]
    },
    {
     "name": "stdout",
     "output_type": "stream",
     "text": [
      "\r",
      " [*********48%           ] Elapsed 0.67s / Remaining 00:00:00:00"
     ]
    },
    {
     "name": "stdout",
     "output_type": "stream",
     "text": [
      "\r",
      " [*********48%           ] Elapsed 0.67s / Remaining 00:00:00:00"
     ]
    },
    {
     "name": "stdout",
     "output_type": "stream",
     "text": [
      "\r",
      " [*********48%           ] Elapsed 0.68s / Remaining 00:00:00:00"
     ]
    },
    {
     "name": "stdout",
     "output_type": "stream",
     "text": [
      "\r",
      " [*********48%           ] Elapsed 0.68s / Remaining 00:00:00:00"
     ]
    },
    {
     "name": "stdout",
     "output_type": "stream",
     "text": [
      "\r",
      " [*********48%           ] Elapsed 0.68s / Remaining 00:00:00:00"
     ]
    },
    {
     "name": "stdout",
     "output_type": "stream",
     "text": [
      "\r",
      " [*********48%           ] Elapsed 0.68s / Remaining 00:00:00:00"
     ]
    },
    {
     "name": "stdout",
     "output_type": "stream",
     "text": [
      "\r",
      " [*********48%           ] Elapsed 0.68s / Remaining 00:00:00:00"
     ]
    },
    {
     "name": "stdout",
     "output_type": "stream",
     "text": [
      "\r",
      " [*********48%           ] Elapsed 0.68s / Remaining 00:00:00:00"
     ]
    },
    {
     "name": "stdout",
     "output_type": "stream",
     "text": [
      "\r",
      " [*********48%           ] Elapsed 0.68s / Remaining 00:00:00:00"
     ]
    },
    {
     "name": "stdout",
     "output_type": "stream",
     "text": [
      "\r",
      " [*********49%           ] Elapsed 0.68s / Remaining 00:00:00:00"
     ]
    },
    {
     "name": "stdout",
     "output_type": "stream",
     "text": [
      "\r",
      " [*********49%           ] Elapsed 0.69s / Remaining 00:00:00:00"
     ]
    },
    {
     "name": "stdout",
     "output_type": "stream",
     "text": [
      "\r",
      " [*********49%           ] Elapsed 0.69s / Remaining 00:00:00:00"
     ]
    },
    {
     "name": "stdout",
     "output_type": "stream",
     "text": [
      "\r",
      " [*********49%           ] Elapsed 0.69s / Remaining 00:00:00:00"
     ]
    },
    {
     "name": "stdout",
     "output_type": "stream",
     "text": [
      "\r",
      " [*********49%           ] Elapsed 0.69s / Remaining 00:00:00:00"
     ]
    },
    {
     "name": "stdout",
     "output_type": "stream",
     "text": [
      "\r",
      " [*********49%           ] Elapsed 0.69s / Remaining 00:00:00:00"
     ]
    },
    {
     "name": "stdout",
     "output_type": "stream",
     "text": [
      "\r",
      " [*********49%           ] Elapsed 0.69s / Remaining 00:00:00:00"
     ]
    },
    {
     "name": "stdout",
     "output_type": "stream",
     "text": [
      "\r",
      " [*********49%           ] Elapsed 0.69s / Remaining 00:00:00:00"
     ]
    },
    {
     "name": "stdout",
     "output_type": "stream",
     "text": [
      "\r",
      " [*********49%           ] Elapsed 0.70s / Remaining 00:00:00:00"
     ]
    },
    {
     "name": "stdout",
     "output_type": "stream",
     "text": [
      "\r",
      " [*********49%           ] Elapsed 0.70s / Remaining 00:00:00:00"
     ]
    },
    {
     "name": "stdout",
     "output_type": "stream",
     "text": [
      "\r",
      " [*********50%           ] Elapsed 0.70s / Remaining 00:00:00:00"
     ]
    },
    {
     "name": "stdout",
     "output_type": "stream",
     "text": [
      "\r",
      " [*********50%           ] Elapsed 0.70s / Remaining 00:00:00:00"
     ]
    },
    {
     "name": "stdout",
     "output_type": "stream",
     "text": [
      "\r",
      " [*********50%           ] Elapsed 0.70s / Remaining 00:00:00:00"
     ]
    },
    {
     "name": "stdout",
     "output_type": "stream",
     "text": [
      "\r",
      " [*********50%           ] Elapsed 0.70s / Remaining 00:00:00:00"
     ]
    },
    {
     "name": "stdout",
     "output_type": "stream",
     "text": [
      "\r",
      " [*********50%           ] Elapsed 0.70s / Remaining 00:00:00:00"
     ]
    },
    {
     "name": "stdout",
     "output_type": "stream",
     "text": [
      "\r",
      " [*********50%           ] Elapsed 0.71s / Remaining 00:00:00:00"
     ]
    },
    {
     "name": "stdout",
     "output_type": "stream",
     "text": [
      "\r",
      " [*********50%           ] Elapsed 0.71s / Remaining 00:00:00:00"
     ]
    },
    {
     "name": "stdout",
     "output_type": "stream",
     "text": [
      "\r",
      " [*********50%           ] Elapsed 0.71s / Remaining 00:00:00:00"
     ]
    },
    {
     "name": "stdout",
     "output_type": "stream",
     "text": [
      "\r",
      " [*********50%           ] Elapsed 0.71s / Remaining 00:00:00:00"
     ]
    },
    {
     "name": "stdout",
     "output_type": "stream",
     "text": [
      "\r",
      " [*********50%           ] Elapsed 0.71s / Remaining 00:00:00:00"
     ]
    },
    {
     "name": "stdout",
     "output_type": "stream",
     "text": [
      "\r",
      " [*********51%           ] Elapsed 0.71s / Remaining 00:00:00:00"
     ]
    },
    {
     "name": "stdout",
     "output_type": "stream",
     "text": [
      "\r",
      " [*********51%           ] Elapsed 0.71s / Remaining 00:00:00:00"
     ]
    },
    {
     "name": "stdout",
     "output_type": "stream",
     "text": [
      "\r",
      " [*********51%           ] Elapsed 0.71s / Remaining 00:00:00:00"
     ]
    },
    {
     "name": "stdout",
     "output_type": "stream",
     "text": [
      "\r",
      " [*********51%           ] Elapsed 0.72s / Remaining 00:00:00:00"
     ]
    },
    {
     "name": "stdout",
     "output_type": "stream",
     "text": [
      "\r",
      " [*********51%           ] Elapsed 0.72s / Remaining 00:00:00:00"
     ]
    },
    {
     "name": "stdout",
     "output_type": "stream",
     "text": [
      "\r",
      " [*********51%           ] Elapsed 0.72s / Remaining 00:00:00:00"
     ]
    },
    {
     "name": "stdout",
     "output_type": "stream",
     "text": [
      "\r",
      " [*********51%           ] Elapsed 0.72s / Remaining 00:00:00:00"
     ]
    },
    {
     "name": "stdout",
     "output_type": "stream",
     "text": [
      "\r",
      " [*********51%           ] Elapsed 0.72s / Remaining 00:00:00:00"
     ]
    },
    {
     "name": "stdout",
     "output_type": "stream",
     "text": [
      "\r",
      " [*********51%           ] Elapsed 0.72s / Remaining 00:00:00:00"
     ]
    },
    {
     "name": "stdout",
     "output_type": "stream",
     "text": [
      "\r",
      " [*********51%           ] Elapsed 0.72s / Remaining 00:00:00:00"
     ]
    },
    {
     "name": "stdout",
     "output_type": "stream",
     "text": [
      "\r",
      " [*********52%           ] Elapsed 0.73s / Remaining 00:00:00:00"
     ]
    },
    {
     "name": "stdout",
     "output_type": "stream",
     "text": [
      "\r",
      " [*********52%           ] Elapsed 0.73s / Remaining 00:00:00:00"
     ]
    },
    {
     "name": "stdout",
     "output_type": "stream",
     "text": [
      "\r",
      " [*********52%           ] Elapsed 0.73s / Remaining 00:00:00:00"
     ]
    },
    {
     "name": "stdout",
     "output_type": "stream",
     "text": [
      "\r",
      " [*********52%           ] Elapsed 0.73s / Remaining 00:00:00:00"
     ]
    },
    {
     "name": "stdout",
     "output_type": "stream",
     "text": [
      "\r",
      " [*********52%           ] Elapsed 0.73s / Remaining 00:00:00:00"
     ]
    },
    {
     "name": "stdout",
     "output_type": "stream",
     "text": [
      "\r",
      " [*********52%           ] Elapsed 0.73s / Remaining 00:00:00:00"
     ]
    },
    {
     "name": "stdout",
     "output_type": "stream",
     "text": [
      "\r",
      " [*********52%           ] Elapsed 0.73s / Remaining 00:00:00:00"
     ]
    },
    {
     "name": "stdout",
     "output_type": "stream",
     "text": [
      "\r",
      " [*********52%           ] Elapsed 0.73s / Remaining 00:00:00:00"
     ]
    },
    {
     "name": "stdout",
     "output_type": "stream",
     "text": [
      "\r",
      " [*********52%           ] Elapsed 0.74s / Remaining 00:00:00:00"
     ]
    },
    {
     "name": "stdout",
     "output_type": "stream",
     "text": [
      "\r",
      " [*********52%           ] Elapsed 0.74s / Remaining 00:00:00:00"
     ]
    },
    {
     "name": "stdout",
     "output_type": "stream",
     "text": [
      "\r",
      " [*********53%           ] Elapsed 0.74s / Remaining 00:00:00:00"
     ]
    },
    {
     "name": "stdout",
     "output_type": "stream",
     "text": [
      "\r",
      " [*********53%           ] Elapsed 0.74s / Remaining 00:00:00:00"
     ]
    },
    {
     "name": "stdout",
     "output_type": "stream",
     "text": [
      "\r",
      " [*********53%           ] Elapsed 0.74s / Remaining 00:00:00:00"
     ]
    },
    {
     "name": "stdout",
     "output_type": "stream",
     "text": [
      "\r",
      " [*********53%           ] Elapsed 0.74s / Remaining 00:00:00:00"
     ]
    },
    {
     "name": "stdout",
     "output_type": "stream",
     "text": [
      "\r",
      " [*********53%           ] Elapsed 0.74s / Remaining 00:00:00:00"
     ]
    },
    {
     "name": "stdout",
     "output_type": "stream",
     "text": [
      "\r",
      " [*********53%           ] Elapsed 0.74s / Remaining 00:00:00:00"
     ]
    },
    {
     "name": "stdout",
     "output_type": "stream",
     "text": [
      "\r",
      " [*********53%           ] Elapsed 0.75s / Remaining 00:00:00:00"
     ]
    },
    {
     "name": "stdout",
     "output_type": "stream",
     "text": [
      "\r",
      " [*********53%           ] Elapsed 0.75s / Remaining 00:00:00:00"
     ]
    },
    {
     "name": "stdout",
     "output_type": "stream",
     "text": [
      "\r",
      " [*********53%           ] Elapsed 0.75s / Remaining 00:00:00:00"
     ]
    },
    {
     "name": "stdout",
     "output_type": "stream",
     "text": [
      "\r",
      " [*********53%           ] Elapsed 0.75s / Remaining 00:00:00:00"
     ]
    },
    {
     "name": "stdout",
     "output_type": "stream",
     "text": [
      "\r",
      " [*********54%           ] Elapsed 0.75s / Remaining 00:00:00:00"
     ]
    },
    {
     "name": "stdout",
     "output_type": "stream",
     "text": [
      "\r",
      " [*********54%           ] Elapsed 0.75s / Remaining 00:00:00:00"
     ]
    },
    {
     "name": "stdout",
     "output_type": "stream",
     "text": [
      "\r",
      " [*********54%           ] Elapsed 0.75s / Remaining 00:00:00:00"
     ]
    },
    {
     "name": "stdout",
     "output_type": "stream",
     "text": [
      "\r",
      " [*********54%           ] Elapsed 0.76s / Remaining 00:00:00:00"
     ]
    },
    {
     "name": "stdout",
     "output_type": "stream",
     "text": [
      "\r",
      " [*********54%           ] Elapsed 0.76s / Remaining 00:00:00:00"
     ]
    },
    {
     "name": "stdout",
     "output_type": "stream",
     "text": [
      "\r",
      " [*********54%           ] Elapsed 0.76s / Remaining 00:00:00:00"
     ]
    },
    {
     "name": "stdout",
     "output_type": "stream",
     "text": [
      "\r",
      " [*********54%           ] Elapsed 0.76s / Remaining 00:00:00:00"
     ]
    },
    {
     "name": "stdout",
     "output_type": "stream",
     "text": [
      "\r",
      " [*********54%           ] Elapsed 0.76s / Remaining 00:00:00:00"
     ]
    },
    {
     "name": "stdout",
     "output_type": "stream",
     "text": [
      "\r",
      " [*********54%           ] Elapsed 0.76s / Remaining 00:00:00:00"
     ]
    },
    {
     "name": "stdout",
     "output_type": "stream",
     "text": [
      "\r",
      " [*********54%           ] Elapsed 0.76s / Remaining 00:00:00:00"
     ]
    },
    {
     "name": "stdout",
     "output_type": "stream",
     "text": [
      "\r",
      " [*********55%*          ] Elapsed 0.76s / Remaining 00:00:00:00"
     ]
    },
    {
     "name": "stdout",
     "output_type": "stream",
     "text": [
      "\r",
      " [*********55%*          ] Elapsed 0.77s / Remaining 00:00:00:00"
     ]
    },
    {
     "name": "stdout",
     "output_type": "stream",
     "text": [
      "\r",
      " [*********55%*          ] Elapsed 0.77s / Remaining 00:00:00:00"
     ]
    },
    {
     "name": "stdout",
     "output_type": "stream",
     "text": [
      "\r",
      " [*********55%*          ] Elapsed 0.77s / Remaining 00:00:00:00"
     ]
    },
    {
     "name": "stdout",
     "output_type": "stream",
     "text": [
      "\r",
      " [*********55%*          ] Elapsed 0.77s / Remaining 00:00:00:00"
     ]
    },
    {
     "name": "stdout",
     "output_type": "stream",
     "text": [
      "\r",
      " [*********55%*          ] Elapsed 0.77s / Remaining 00:00:00:00"
     ]
    },
    {
     "name": "stdout",
     "output_type": "stream",
     "text": [
      "\r",
      " [*********55%*          ] Elapsed 0.77s / Remaining 00:00:00:00"
     ]
    },
    {
     "name": "stdout",
     "output_type": "stream",
     "text": [
      "\r",
      " [*********55%*          ] Elapsed 0.77s / Remaining 00:00:00:00"
     ]
    },
    {
     "name": "stdout",
     "output_type": "stream",
     "text": [
      "\r",
      " [*********55%*          ] Elapsed 0.77s / Remaining 00:00:00:00"
     ]
    },
    {
     "name": "stdout",
     "output_type": "stream",
     "text": [
      "\r",
      " [*********55%*          ] Elapsed 0.78s / Remaining 00:00:00:00"
     ]
    },
    {
     "name": "stdout",
     "output_type": "stream",
     "text": [
      "\r",
      " [*********56%*          ] Elapsed 0.78s / Remaining 00:00:00:00"
     ]
    },
    {
     "name": "stdout",
     "output_type": "stream",
     "text": [
      "\r",
      " [*********56%*          ] Elapsed 0.78s / Remaining 00:00:00:00"
     ]
    },
    {
     "name": "stdout",
     "output_type": "stream",
     "text": [
      "\r",
      " [*********56%*          ] Elapsed 0.78s / Remaining 00:00:00:00"
     ]
    },
    {
     "name": "stdout",
     "output_type": "stream",
     "text": [
      "\r",
      " [*********56%*          ] Elapsed 0.78s / Remaining 00:00:00:00"
     ]
    },
    {
     "name": "stdout",
     "output_type": "stream",
     "text": [
      "\r",
      " [*********56%*          ] Elapsed 0.78s / Remaining 00:00:00:00"
     ]
    },
    {
     "name": "stdout",
     "output_type": "stream",
     "text": [
      "\r",
      " [*********56%*          ] Elapsed 0.78s / Remaining 00:00:00:00"
     ]
    },
    {
     "name": "stdout",
     "output_type": "stream",
     "text": [
      "\r",
      " [*********56%*          ] Elapsed 0.78s / Remaining 00:00:00:00"
     ]
    },
    {
     "name": "stdout",
     "output_type": "stream",
     "text": [
      "\r",
      " [*********56%*          ] Elapsed 0.79s / Remaining 00:00:00:00"
     ]
    },
    {
     "name": "stdout",
     "output_type": "stream",
     "text": [
      "\r",
      " [*********56%*          ] Elapsed 0.79s / Remaining 00:00:00:00"
     ]
    },
    {
     "name": "stdout",
     "output_type": "stream",
     "text": [
      "\r",
      " [*********56%*          ] Elapsed 0.79s / Remaining 00:00:00:00"
     ]
    },
    {
     "name": "stdout",
     "output_type": "stream",
     "text": [
      "\r",
      " [*********57%*          ] Elapsed 0.79s / Remaining 00:00:00:00"
     ]
    },
    {
     "name": "stdout",
     "output_type": "stream",
     "text": [
      "\r",
      " [*********57%*          ] Elapsed 0.79s / Remaining 00:00:00:00"
     ]
    },
    {
     "name": "stdout",
     "output_type": "stream",
     "text": [
      "\r",
      " [*********57%*          ] Elapsed 0.79s / Remaining 00:00:00:00"
     ]
    },
    {
     "name": "stdout",
     "output_type": "stream",
     "text": [
      "\r",
      " [*********57%*          ] Elapsed 0.79s / Remaining 00:00:00:00"
     ]
    },
    {
     "name": "stdout",
     "output_type": "stream",
     "text": [
      "\r",
      " [*********57%*          ] Elapsed 0.80s / Remaining 00:00:00:00"
     ]
    },
    {
     "name": "stdout",
     "output_type": "stream",
     "text": [
      "\r",
      " [*********57%*          ] Elapsed 0.80s / Remaining 00:00:00:00"
     ]
    },
    {
     "name": "stdout",
     "output_type": "stream",
     "text": [
      "\r",
      " [*********57%*          ] Elapsed 0.80s / Remaining 00:00:00:00"
     ]
    },
    {
     "name": "stdout",
     "output_type": "stream",
     "text": [
      "\r",
      " [*********57%*          ] Elapsed 0.80s / Remaining 00:00:00:00"
     ]
    },
    {
     "name": "stdout",
     "output_type": "stream",
     "text": [
      "\r",
      " [*********57%*          ] Elapsed 0.80s / Remaining 00:00:00:00"
     ]
    },
    {
     "name": "stdout",
     "output_type": "stream",
     "text": [
      "\r",
      " [*********57%*          ] Elapsed 0.80s / Remaining 00:00:00:00"
     ]
    },
    {
     "name": "stdout",
     "output_type": "stream",
     "text": [
      "\r",
      " [*********58%*          ] Elapsed 0.80s / Remaining 00:00:00:00"
     ]
    },
    {
     "name": "stdout",
     "output_type": "stream",
     "text": [
      "\r",
      " [*********58%*          ] Elapsed 0.80s / Remaining 00:00:00:00"
     ]
    },
    {
     "name": "stdout",
     "output_type": "stream",
     "text": [
      "\r",
      " [*********58%*          ] Elapsed 0.81s / Remaining 00:00:00:00"
     ]
    },
    {
     "name": "stdout",
     "output_type": "stream",
     "text": [
      "\r",
      " [*********58%*          ] Elapsed 0.81s / Remaining 00:00:00:00"
     ]
    },
    {
     "name": "stdout",
     "output_type": "stream",
     "text": [
      "\r",
      " [*********58%*          ] Elapsed 0.81s / Remaining 00:00:00:00"
     ]
    },
    {
     "name": "stdout",
     "output_type": "stream",
     "text": [
      "\r",
      " [*********58%*          ] Elapsed 0.81s / Remaining 00:00:00:00"
     ]
    },
    {
     "name": "stdout",
     "output_type": "stream",
     "text": [
      "\r",
      " [*********58%*          ] Elapsed 0.81s / Remaining 00:00:00:00"
     ]
    },
    {
     "name": "stdout",
     "output_type": "stream",
     "text": [
      "\r",
      " [*********58%*          ] Elapsed 0.81s / Remaining 00:00:00:00"
     ]
    },
    {
     "name": "stdout",
     "output_type": "stream",
     "text": [
      "\r",
      " [*********58%*          ] Elapsed 0.81s / Remaining 00:00:00:00"
     ]
    },
    {
     "name": "stdout",
     "output_type": "stream",
     "text": [
      "\r",
      " [*********58%*          ] Elapsed 0.82s / Remaining 00:00:00:00"
     ]
    },
    {
     "name": "stdout",
     "output_type": "stream",
     "text": [
      "\r",
      " [*********59%**         ] Elapsed 0.82s / Remaining 00:00:00:00"
     ]
    },
    {
     "name": "stdout",
     "output_type": "stream",
     "text": [
      "\r",
      " [*********59%**         ] Elapsed 0.82s / Remaining 00:00:00:00"
     ]
    },
    {
     "name": "stdout",
     "output_type": "stream",
     "text": [
      "\r",
      " [*********59%**         ] Elapsed 0.82s / Remaining 00:00:00:00"
     ]
    },
    {
     "name": "stdout",
     "output_type": "stream",
     "text": [
      "\r",
      " [*********59%**         ] Elapsed 0.82s / Remaining 00:00:00:00"
     ]
    },
    {
     "name": "stdout",
     "output_type": "stream",
     "text": [
      "\r",
      " [*********59%**         ] Elapsed 0.82s / Remaining 00:00:00:00"
     ]
    },
    {
     "name": "stdout",
     "output_type": "stream",
     "text": [
      "\r",
      " [*********59%**         ] Elapsed 0.82s / Remaining 00:00:00:00"
     ]
    },
    {
     "name": "stdout",
     "output_type": "stream",
     "text": [
      "\r",
      " [*********59%**         ] Elapsed 0.82s / Remaining 00:00:00:00"
     ]
    },
    {
     "name": "stdout",
     "output_type": "stream",
     "text": [
      "\r",
      " [*********59%**         ] Elapsed 0.83s / Remaining 00:00:00:00"
     ]
    },
    {
     "name": "stdout",
     "output_type": "stream",
     "text": [
      "\r",
      " [*********59%**         ] Elapsed 0.83s / Remaining 00:00:00:00"
     ]
    },
    {
     "name": "stdout",
     "output_type": "stream",
     "text": [
      "\r",
      " [*********59%**         ] Elapsed 0.83s / Remaining 00:00:00:00"
     ]
    },
    {
     "name": "stdout",
     "output_type": "stream",
     "text": [
      "\r",
      " [*********60%**         ] Elapsed 0.83s / Remaining 00:00:00:00"
     ]
    },
    {
     "name": "stdout",
     "output_type": "stream",
     "text": [
      "\r",
      " [*********60%**         ] Elapsed 0.83s / Remaining 00:00:00:00"
     ]
    },
    {
     "name": "stdout",
     "output_type": "stream",
     "text": [
      "\r",
      " [*********60%**         ] Elapsed 0.83s / Remaining 00:00:00:00"
     ]
    },
    {
     "name": "stdout",
     "output_type": "stream",
     "text": [
      "\r",
      " [*********60%**         ] Elapsed 0.83s / Remaining 00:00:00:00"
     ]
    },
    {
     "name": "stdout",
     "output_type": "stream",
     "text": [
      "\r",
      " [*********60%**         ] Elapsed 0.84s / Remaining 00:00:00:00"
     ]
    },
    {
     "name": "stdout",
     "output_type": "stream",
     "text": [
      "\r",
      " [*********60%**         ] Elapsed 0.84s / Remaining 00:00:00:00"
     ]
    },
    {
     "name": "stdout",
     "output_type": "stream",
     "text": [
      "\r",
      " [*********60%**         ] Elapsed 0.84s / Remaining 00:00:00:00"
     ]
    },
    {
     "name": "stdout",
     "output_type": "stream",
     "text": [
      "\r",
      " [*********60%**         ] Elapsed 0.84s / Remaining 00:00:00:00"
     ]
    },
    {
     "name": "stdout",
     "output_type": "stream",
     "text": [
      "\r",
      " [*********60%**         ] Elapsed 0.84s / Remaining 00:00:00:00"
     ]
    },
    {
     "name": "stdout",
     "output_type": "stream",
     "text": [
      "\r",
      " [*********60%**         ] Elapsed 0.84s / Remaining 00:00:00:00"
     ]
    },
    {
     "name": "stdout",
     "output_type": "stream",
     "text": [
      "\r",
      " [*********61%**         ] Elapsed 0.84s / Remaining 00:00:00:00"
     ]
    },
    {
     "name": "stdout",
     "output_type": "stream",
     "text": [
      "\r",
      " [*********61%**         ] Elapsed 0.85s / Remaining 00:00:00:00"
     ]
    },
    {
     "name": "stdout",
     "output_type": "stream",
     "text": [
      "\r",
      " [*********61%**         ] Elapsed 0.85s / Remaining 00:00:00:00"
     ]
    },
    {
     "name": "stdout",
     "output_type": "stream",
     "text": [
      "\r",
      " [*********61%**         ] Elapsed 0.85s / Remaining 00:00:00:00"
     ]
    },
    {
     "name": "stdout",
     "output_type": "stream",
     "text": [
      "\r",
      " [*********61%**         ] Elapsed 0.85s / Remaining 00:00:00:00"
     ]
    },
    {
     "name": "stdout",
     "output_type": "stream",
     "text": [
      "\r",
      " [*********61%**         ] Elapsed 0.85s / Remaining 00:00:00:00"
     ]
    },
    {
     "name": "stdout",
     "output_type": "stream",
     "text": [
      "\r",
      " [*********61%**         ] Elapsed 0.85s / Remaining 00:00:00:00"
     ]
    },
    {
     "name": "stdout",
     "output_type": "stream",
     "text": [
      "\r",
      " [*********61%**         ] Elapsed 0.85s / Remaining 00:00:00:00"
     ]
    },
    {
     "name": "stdout",
     "output_type": "stream",
     "text": [
      "\r",
      " [*********61%**         ] Elapsed 0.85s / Remaining 00:00:00:00"
     ]
    },
    {
     "name": "stdout",
     "output_type": "stream",
     "text": [
      "\r",
      " [*********61%**         ] Elapsed 0.86s / Remaining 00:00:00:00"
     ]
    },
    {
     "name": "stdout",
     "output_type": "stream",
     "text": [
      "\r",
      " [*********62%**         ] Elapsed 0.86s / Remaining 00:00:00:00"
     ]
    },
    {
     "name": "stdout",
     "output_type": "stream",
     "text": [
      "\r",
      " [*********62%**         ] Elapsed 0.86s / Remaining 00:00:00:00"
     ]
    },
    {
     "name": "stdout",
     "output_type": "stream",
     "text": [
      "\r",
      " [*********62%**         ] Elapsed 0.86s / Remaining 00:00:00:00"
     ]
    },
    {
     "name": "stdout",
     "output_type": "stream",
     "text": [
      "\r",
      " [*********62%**         ] Elapsed 0.86s / Remaining 00:00:00:00"
     ]
    },
    {
     "name": "stdout",
     "output_type": "stream",
     "text": [
      "\r",
      " [*********62%**         ] Elapsed 0.86s / Remaining 00:00:00:00"
     ]
    },
    {
     "name": "stdout",
     "output_type": "stream",
     "text": [
      "\r",
      " [*********62%**         ] Elapsed 0.86s / Remaining 00:00:00:00"
     ]
    },
    {
     "name": "stdout",
     "output_type": "stream",
     "text": [
      "\r",
      " [*********62%**         ] Elapsed 0.86s / Remaining 00:00:00:00"
     ]
    },
    {
     "name": "stdout",
     "output_type": "stream",
     "text": [
      "\r",
      " [*********62%**         ] Elapsed 0.87s / Remaining 00:00:00:00"
     ]
    },
    {
     "name": "stdout",
     "output_type": "stream",
     "text": [
      "\r",
      " [*********62%**         ] Elapsed 0.87s / Remaining 00:00:00:00"
     ]
    },
    {
     "name": "stdout",
     "output_type": "stream",
     "text": [
      "\r",
      " [*********62%**         ] Elapsed 0.87s / Remaining 00:00:00:00"
     ]
    },
    {
     "name": "stdout",
     "output_type": "stream",
     "text": [
      "\r",
      " [*********63%**         ] Elapsed 0.87s / Remaining 00:00:00:00"
     ]
    },
    {
     "name": "stdout",
     "output_type": "stream",
     "text": [
      "\r",
      " [*********63%**         ] Elapsed 0.87s / Remaining 00:00:00:00"
     ]
    },
    {
     "name": "stdout",
     "output_type": "stream",
     "text": [
      "\r",
      " [*********63%**         ] Elapsed 0.87s / Remaining 00:00:00:00"
     ]
    },
    {
     "name": "stdout",
     "output_type": "stream",
     "text": [
      "\r",
      " [*********63%**         ] Elapsed 0.87s / Remaining 00:00:00:00"
     ]
    },
    {
     "name": "stdout",
     "output_type": "stream",
     "text": [
      "\r",
      " [*********63%**         ] Elapsed 0.87s / Remaining 00:00:00:00"
     ]
    },
    {
     "name": "stdout",
     "output_type": "stream",
     "text": [
      "\r",
      " [*********63%**         ] Elapsed 0.88s / Remaining 00:00:00:00"
     ]
    },
    {
     "name": "stdout",
     "output_type": "stream",
     "text": [
      "\r",
      " [*********63%**         ] Elapsed 0.88s / Remaining 00:00:00:00"
     ]
    },
    {
     "name": "stdout",
     "output_type": "stream",
     "text": [
      "\r",
      " [*********63%**         ] Elapsed 0.88s / Remaining 00:00:00:00"
     ]
    },
    {
     "name": "stdout",
     "output_type": "stream",
     "text": [
      "\r",
      " [*********63%**         ] Elapsed 0.88s / Remaining 00:00:00:00"
     ]
    },
    {
     "name": "stdout",
     "output_type": "stream",
     "text": [
      "\r",
      " [*********63%**         ] Elapsed 0.88s / Remaining 00:00:00:00"
     ]
    },
    {
     "name": "stdout",
     "output_type": "stream",
     "text": [
      "\r",
      " [*********64%***        ] Elapsed 0.88s / Remaining 00:00:00:00"
     ]
    },
    {
     "name": "stdout",
     "output_type": "stream",
     "text": [
      "\r",
      " [*********64%***        ] Elapsed 0.88s / Remaining 00:00:00:00"
     ]
    },
    {
     "name": "stdout",
     "output_type": "stream",
     "text": [
      "\r",
      " [*********64%***        ] Elapsed 0.89s / Remaining 00:00:00:00"
     ]
    },
    {
     "name": "stdout",
     "output_type": "stream",
     "text": [
      "\r",
      " [*********64%***        ] Elapsed 0.89s / Remaining 00:00:00:00"
     ]
    },
    {
     "name": "stdout",
     "output_type": "stream",
     "text": [
      "\r",
      " [*********64%***        ] Elapsed 0.89s / Remaining 00:00:00:00"
     ]
    },
    {
     "name": "stdout",
     "output_type": "stream",
     "text": [
      "\r",
      " [*********64%***        ] Elapsed 0.89s / Remaining 00:00:00:00"
     ]
    },
    {
     "name": "stdout",
     "output_type": "stream",
     "text": [
      "\r",
      " [*********64%***        ] Elapsed 0.89s / Remaining 00:00:00:00"
     ]
    },
    {
     "name": "stdout",
     "output_type": "stream",
     "text": [
      "\r",
      " [*********64%***        ] Elapsed 0.89s / Remaining 00:00:00:00"
     ]
    },
    {
     "name": "stdout",
     "output_type": "stream",
     "text": [
      "\r",
      " [*********64%***        ] Elapsed 0.89s / Remaining 00:00:00:00"
     ]
    },
    {
     "name": "stdout",
     "output_type": "stream",
     "text": [
      "\r",
      " [*********64%***        ] Elapsed 0.89s / Remaining 00:00:00:00"
     ]
    },
    {
     "name": "stdout",
     "output_type": "stream",
     "text": [
      "\r",
      " [*********65%***        ] Elapsed 0.90s / Remaining 00:00:00:00"
     ]
    },
    {
     "name": "stdout",
     "output_type": "stream",
     "text": [
      "\r",
      " [*********65%***        ] Elapsed 0.90s / Remaining 00:00:00:00"
     ]
    },
    {
     "name": "stdout",
     "output_type": "stream",
     "text": [
      "\r",
      " [*********65%***        ] Elapsed 0.90s / Remaining 00:00:00:00"
     ]
    },
    {
     "name": "stdout",
     "output_type": "stream",
     "text": [
      "\r",
      " [*********65%***        ] Elapsed 0.90s / Remaining 00:00:00:00"
     ]
    },
    {
     "name": "stdout",
     "output_type": "stream",
     "text": [
      "\r",
      " [*********65%***        ] Elapsed 0.90s / Remaining 00:00:00:00"
     ]
    },
    {
     "name": "stdout",
     "output_type": "stream",
     "text": [
      "\r",
      " [*********65%***        ] Elapsed 0.90s / Remaining 00:00:00:00"
     ]
    },
    {
     "name": "stdout",
     "output_type": "stream",
     "text": [
      "\r",
      " [*********65%***        ] Elapsed 0.90s / Remaining 00:00:00:00"
     ]
    },
    {
     "name": "stdout",
     "output_type": "stream",
     "text": [
      "\r",
      " [*********65%***        ] Elapsed 0.90s / Remaining 00:00:00:00"
     ]
    },
    {
     "name": "stdout",
     "output_type": "stream",
     "text": [
      "\r",
      " [*********65%***        ] Elapsed 0.91s / Remaining 00:00:00:00"
     ]
    },
    {
     "name": "stdout",
     "output_type": "stream",
     "text": [
      "\r",
      " [*********65%***        ] Elapsed 0.91s / Remaining 00:00:00:00"
     ]
    },
    {
     "name": "stdout",
     "output_type": "stream",
     "text": [
      "\r",
      " [*********66%***        ] Elapsed 0.91s / Remaining 00:00:00:00"
     ]
    },
    {
     "name": "stdout",
     "output_type": "stream",
     "text": [
      "\r",
      " [*********66%***        ] Elapsed 0.91s / Remaining 00:00:00:00"
     ]
    },
    {
     "name": "stdout",
     "output_type": "stream",
     "text": [
      "\r",
      " [*********66%***        ] Elapsed 0.91s / Remaining 00:00:00:00"
     ]
    },
    {
     "name": "stdout",
     "output_type": "stream",
     "text": [
      "\r",
      " [*********66%***        ] Elapsed 0.91s / Remaining 00:00:00:00"
     ]
    },
    {
     "name": "stdout",
     "output_type": "stream",
     "text": [
      "\r",
      " [*********66%***        ] Elapsed 0.91s / Remaining 00:00:00:00"
     ]
    },
    {
     "name": "stdout",
     "output_type": "stream",
     "text": [
      "\r",
      " [*********66%***        ] Elapsed 0.92s / Remaining 00:00:00:00"
     ]
    },
    {
     "name": "stdout",
     "output_type": "stream",
     "text": [
      "\r",
      " [*********66%***        ] Elapsed 0.92s / Remaining 00:00:00:00"
     ]
    },
    {
     "name": "stdout",
     "output_type": "stream",
     "text": [
      "\r",
      " [*********66%***        ] Elapsed 0.92s / Remaining 00:00:00:00"
     ]
    },
    {
     "name": "stdout",
     "output_type": "stream",
     "text": [
      "\r",
      " [*********66%***        ] Elapsed 0.92s / Remaining 00:00:00:00"
     ]
    },
    {
     "name": "stdout",
     "output_type": "stream",
     "text": [
      "\r",
      " [*********66%***        ] Elapsed 0.92s / Remaining 00:00:00:00"
     ]
    },
    {
     "name": "stdout",
     "output_type": "stream",
     "text": [
      "\r",
      " [*********67%***        ] Elapsed 0.92s / Remaining 00:00:00:00"
     ]
    },
    {
     "name": "stdout",
     "output_type": "stream",
     "text": [
      "\r",
      " [*********67%***        ] Elapsed 0.92s / Remaining 00:00:00:00"
     ]
    },
    {
     "name": "stdout",
     "output_type": "stream",
     "text": [
      "\r",
      " [*********67%***        ] Elapsed 0.92s / Remaining 00:00:00:00"
     ]
    },
    {
     "name": "stdout",
     "output_type": "stream",
     "text": [
      "\r",
      " [*********67%***        ] Elapsed 0.93s / Remaining 00:00:00:00"
     ]
    },
    {
     "name": "stdout",
     "output_type": "stream",
     "text": [
      "\r",
      " [*********67%***        ] Elapsed 0.93s / Remaining 00:00:00:00"
     ]
    },
    {
     "name": "stdout",
     "output_type": "stream",
     "text": [
      "\r",
      " [*********67%***        ] Elapsed 0.93s / Remaining 00:00:00:00"
     ]
    },
    {
     "name": "stdout",
     "output_type": "stream",
     "text": [
      "\r",
      " [*********67%***        ] Elapsed 0.93s / Remaining 00:00:00:00"
     ]
    },
    {
     "name": "stdout",
     "output_type": "stream",
     "text": [
      "\r",
      " [*********67%***        ] Elapsed 0.93s / Remaining 00:00:00:00"
     ]
    },
    {
     "name": "stdout",
     "output_type": "stream",
     "text": [
      "\r",
      " [*********67%***        ] Elapsed 0.93s / Remaining 00:00:00:00"
     ]
    },
    {
     "name": "stdout",
     "output_type": "stream",
     "text": [
      "\r",
      " [*********67%***        ] Elapsed 0.93s / Remaining 00:00:00:00"
     ]
    },
    {
     "name": "stdout",
     "output_type": "stream",
     "text": [
      "\r",
      " [*********68%****       ] Elapsed 0.94s / Remaining 00:00:00:00"
     ]
    },
    {
     "name": "stdout",
     "output_type": "stream",
     "text": [
      "\r",
      " [*********68%****       ] Elapsed 0.94s / Remaining 00:00:00:00"
     ]
    },
    {
     "name": "stdout",
     "output_type": "stream",
     "text": [
      "\r",
      " [*********68%****       ] Elapsed 0.94s / Remaining 00:00:00:00"
     ]
    },
    {
     "name": "stdout",
     "output_type": "stream",
     "text": [
      "\r",
      " [*********68%****       ] Elapsed 0.94s / Remaining 00:00:00:00"
     ]
    },
    {
     "name": "stdout",
     "output_type": "stream",
     "text": [
      "\r",
      " [*********68%****       ] Elapsed 0.94s / Remaining 00:00:00:00"
     ]
    },
    {
     "name": "stdout",
     "output_type": "stream",
     "text": [
      "\r",
      " [*********68%****       ] Elapsed 0.94s / Remaining 00:00:00:00"
     ]
    },
    {
     "name": "stdout",
     "output_type": "stream",
     "text": [
      "\r",
      " [*********68%****       ] Elapsed 0.94s / Remaining 00:00:00:00"
     ]
    },
    {
     "name": "stdout",
     "output_type": "stream",
     "text": [
      "\r",
      " [*********68%****       ] Elapsed 0.94s / Remaining 00:00:00:00"
     ]
    },
    {
     "name": "stdout",
     "output_type": "stream",
     "text": [
      "\r",
      " [*********68%****       ] Elapsed 0.95s / Remaining 00:00:00:00"
     ]
    },
    {
     "name": "stdout",
     "output_type": "stream",
     "text": [
      "\r",
      " [*********68%****       ] Elapsed 0.95s / Remaining 00:00:00:00"
     ]
    },
    {
     "name": "stdout",
     "output_type": "stream",
     "text": [
      "\r",
      " [*********69%****       ] Elapsed 0.95s / Remaining 00:00:00:00"
     ]
    },
    {
     "name": "stdout",
     "output_type": "stream",
     "text": [
      "\r",
      " [*********69%****       ] Elapsed 0.95s / Remaining 00:00:00:00"
     ]
    },
    {
     "name": "stdout",
     "output_type": "stream",
     "text": [
      "\r",
      " [*********69%****       ] Elapsed 0.95s / Remaining 00:00:00:00"
     ]
    },
    {
     "name": "stdout",
     "output_type": "stream",
     "text": [
      "\r",
      " [*********69%****       ] Elapsed 0.95s / Remaining 00:00:00:00"
     ]
    },
    {
     "name": "stdout",
     "output_type": "stream",
     "text": [
      "\r",
      " [*********69%****       ] Elapsed 0.95s / Remaining 00:00:00:00"
     ]
    },
    {
     "name": "stdout",
     "output_type": "stream",
     "text": [
      "\r",
      " [*********69%****       ] Elapsed 0.96s / Remaining 00:00:00:00"
     ]
    },
    {
     "name": "stdout",
     "output_type": "stream",
     "text": [
      "\r",
      " [*********69%****       ] Elapsed 0.96s / Remaining 00:00:00:00"
     ]
    },
    {
     "name": "stdout",
     "output_type": "stream",
     "text": [
      "\r",
      " [*********69%****       ] Elapsed 0.96s / Remaining 00:00:00:00"
     ]
    },
    {
     "name": "stdout",
     "output_type": "stream",
     "text": [
      "\r",
      " [*********69%****       ] Elapsed 0.96s / Remaining 00:00:00:00"
     ]
    },
    {
     "name": "stdout",
     "output_type": "stream",
     "text": [
      "\r",
      " [*********69%****       ] Elapsed 0.96s / Remaining 00:00:00:00"
     ]
    },
    {
     "name": "stdout",
     "output_type": "stream",
     "text": [
      "\r",
      " [*********70%****       ] Elapsed 0.96s / Remaining 00:00:00:00"
     ]
    },
    {
     "name": "stdout",
     "output_type": "stream",
     "text": [
      "\r",
      " [*********70%****       ] Elapsed 0.96s / Remaining 00:00:00:00"
     ]
    },
    {
     "name": "stdout",
     "output_type": "stream",
     "text": [
      "\r",
      " [*********70%****       ] Elapsed 0.97s / Remaining 00:00:00:00"
     ]
    },
    {
     "name": "stdout",
     "output_type": "stream",
     "text": [
      "\r",
      " [*********70%****       ] Elapsed 0.97s / Remaining 00:00:00:00"
     ]
    },
    {
     "name": "stdout",
     "output_type": "stream",
     "text": [
      "\r",
      " [*********70%****       ] Elapsed 0.97s / Remaining 00:00:00:00"
     ]
    },
    {
     "name": "stdout",
     "output_type": "stream",
     "text": [
      "\r",
      " [*********70%****       ] Elapsed 0.97s / Remaining 00:00:00:00"
     ]
    },
    {
     "name": "stdout",
     "output_type": "stream",
     "text": [
      "\r",
      " [*********70%****       ] Elapsed 0.97s / Remaining 00:00:00:00"
     ]
    },
    {
     "name": "stdout",
     "output_type": "stream",
     "text": [
      "\r",
      " [*********70%****       ] Elapsed 0.97s / Remaining 00:00:00:00"
     ]
    },
    {
     "name": "stdout",
     "output_type": "stream",
     "text": [
      "\r",
      " [*********70%****       ] Elapsed 0.97s / Remaining 00:00:00:00"
     ]
    },
    {
     "name": "stdout",
     "output_type": "stream",
     "text": [
      "\r",
      " [*********70%****       ] Elapsed 0.97s / Remaining 00:00:00:00"
     ]
    },
    {
     "name": "stdout",
     "output_type": "stream",
     "text": [
      "\r",
      " [*********71%****       ] Elapsed 0.98s / Remaining 00:00:00:00"
     ]
    },
    {
     "name": "stdout",
     "output_type": "stream",
     "text": [
      "\r",
      " [*********71%****       ] Elapsed 0.98s / Remaining 00:00:00:00"
     ]
    },
    {
     "name": "stdout",
     "output_type": "stream",
     "text": [
      "\r",
      " [*********71%****       ] Elapsed 0.98s / Remaining 00:00:00:00"
     ]
    },
    {
     "name": "stdout",
     "output_type": "stream",
     "text": [
      "\r",
      " [*********71%****       ] Elapsed 0.98s / Remaining 00:00:00:00"
     ]
    },
    {
     "name": "stdout",
     "output_type": "stream",
     "text": [
      "\r",
      " [*********71%****       ] Elapsed 0.98s / Remaining 00:00:00:00"
     ]
    },
    {
     "name": "stdout",
     "output_type": "stream",
     "text": [
      "\r",
      " [*********71%****       ] Elapsed 0.98s / Remaining 00:00:00:00"
     ]
    },
    {
     "name": "stdout",
     "output_type": "stream",
     "text": [
      "\r",
      " [*********71%****       ] Elapsed 0.98s / Remaining 00:00:00:00"
     ]
    },
    {
     "name": "stdout",
     "output_type": "stream",
     "text": [
      "\r",
      " [*********71%****       ] Elapsed 0.98s / Remaining 00:00:00:00"
     ]
    },
    {
     "name": "stdout",
     "output_type": "stream",
     "text": [
      "\r",
      " [*********71%****       ] Elapsed 0.99s / Remaining 00:00:00:00"
     ]
    },
    {
     "name": "stdout",
     "output_type": "stream",
     "text": [
      "\r",
      " [*********71%****       ] Elapsed 0.99s / Remaining 00:00:00:00"
     ]
    },
    {
     "name": "stdout",
     "output_type": "stream",
     "text": [
      "\r",
      " [*********72%*****      ] Elapsed 0.99s / Remaining 00:00:00:00"
     ]
    },
    {
     "name": "stdout",
     "output_type": "stream",
     "text": [
      "\r",
      " [*********72%*****      ] Elapsed 0.99s / Remaining 00:00:00:00"
     ]
    },
    {
     "name": "stdout",
     "output_type": "stream",
     "text": [
      "\r",
      " [*********72%*****      ] Elapsed 0.99s / Remaining 00:00:00:00"
     ]
    },
    {
     "name": "stdout",
     "output_type": "stream",
     "text": [
      "\r",
      " [*********72%*****      ] Elapsed 0.99s / Remaining 00:00:00:00"
     ]
    },
    {
     "name": "stdout",
     "output_type": "stream",
     "text": [
      "\r",
      " [*********72%*****      ] Elapsed 0.99s / Remaining 00:00:00:00"
     ]
    },
    {
     "name": "stdout",
     "output_type": "stream",
     "text": [
      "\r",
      " [*********72%*****      ] Elapsed 1.00s / Remaining 00:00:00:00"
     ]
    },
    {
     "name": "stdout",
     "output_type": "stream",
     "text": [
      "\r",
      " [*********72%*****      ] Elapsed 1.00s / Remaining 00:00:00:00"
     ]
    },
    {
     "name": "stdout",
     "output_type": "stream",
     "text": [
      "\r",
      " [*********72%*****      ] Elapsed 1.00s / Remaining 00:00:00:00"
     ]
    },
    {
     "name": "stdout",
     "output_type": "stream",
     "text": [
      "\r",
      " [*********72%*****      ] Elapsed 1.00s / Remaining 00:00:00:00"
     ]
    },
    {
     "name": "stdout",
     "output_type": "stream",
     "text": [
      "\r",
      " [*********72%*****      ] Elapsed 1.00s / Remaining 00:00:00:00"
     ]
    },
    {
     "name": "stdout",
     "output_type": "stream",
     "text": [
      "\r",
      " [*********73%*****      ] Elapsed 1.00s / Remaining 00:00:00:00"
     ]
    },
    {
     "name": "stdout",
     "output_type": "stream",
     "text": [
      "\r",
      " [*********73%*****      ] Elapsed 1.00s / Remaining 00:00:00:00"
     ]
    },
    {
     "name": "stdout",
     "output_type": "stream",
     "text": [
      "\r",
      " [*********73%*****      ] Elapsed 1.00s / Remaining 00:00:00:00"
     ]
    },
    {
     "name": "stdout",
     "output_type": "stream",
     "text": [
      "\r",
      " [*********73%*****      ] Elapsed 1.01s / Remaining 00:00:00:00"
     ]
    },
    {
     "name": "stdout",
     "output_type": "stream",
     "text": [
      "\r",
      " [*********73%*****      ] Elapsed 1.01s / Remaining 00:00:00:00"
     ]
    },
    {
     "name": "stdout",
     "output_type": "stream",
     "text": [
      "\r",
      " [*********73%*****      ] Elapsed 1.01s / Remaining 00:00:00:00"
     ]
    },
    {
     "name": "stdout",
     "output_type": "stream",
     "text": [
      "\r",
      " [*********73%*****      ] Elapsed 1.01s / Remaining 00:00:00:00"
     ]
    },
    {
     "name": "stdout",
     "output_type": "stream",
     "text": [
      "\r",
      " [*********73%*****      ] Elapsed 1.01s / Remaining 00:00:00:00"
     ]
    },
    {
     "name": "stdout",
     "output_type": "stream",
     "text": [
      "\r",
      " [*********73%*****      ] Elapsed 1.01s / Remaining 00:00:00:00"
     ]
    },
    {
     "name": "stdout",
     "output_type": "stream",
     "text": [
      "\r",
      " [*********73%*****      ] Elapsed 1.01s / Remaining 00:00:00:00"
     ]
    },
    {
     "name": "stdout",
     "output_type": "stream",
     "text": [
      "\r",
      " [*********74%*****      ] Elapsed 1.01s / Remaining 00:00:00:00"
     ]
    },
    {
     "name": "stdout",
     "output_type": "stream",
     "text": [
      "\r",
      " [*********74%*****      ] Elapsed 1.02s / Remaining 00:00:00:00"
     ]
    },
    {
     "name": "stdout",
     "output_type": "stream",
     "text": [
      "\r",
      " [*********74%*****      ] Elapsed 1.02s / Remaining 00:00:00:00"
     ]
    },
    {
     "name": "stdout",
     "output_type": "stream",
     "text": [
      "\r",
      " [*********74%*****      ] Elapsed 1.02s / Remaining 00:00:00:00"
     ]
    },
    {
     "name": "stdout",
     "output_type": "stream",
     "text": [
      "\r",
      " [*********74%*****      ] Elapsed 1.02s / Remaining 00:00:00:00"
     ]
    },
    {
     "name": "stdout",
     "output_type": "stream",
     "text": [
      "\r",
      " [*********74%*****      ] Elapsed 1.02s / Remaining 00:00:00:00"
     ]
    },
    {
     "name": "stdout",
     "output_type": "stream",
     "text": [
      "\r",
      " [*********74%*****      ] Elapsed 1.02s / Remaining 00:00:00:00"
     ]
    },
    {
     "name": "stdout",
     "output_type": "stream",
     "text": [
      "\r",
      " [*********74%*****      ] Elapsed 1.02s / Remaining 00:00:00:00"
     ]
    },
    {
     "name": "stdout",
     "output_type": "stream",
     "text": [
      "\r",
      " [*********74%*****      ] Elapsed 1.02s / Remaining 00:00:00:00"
     ]
    },
    {
     "name": "stdout",
     "output_type": "stream",
     "text": [
      "\r",
      " [*********74%*****      ] Elapsed 1.03s / Remaining 00:00:00:00"
     ]
    },
    {
     "name": "stdout",
     "output_type": "stream",
     "text": [
      "\r",
      " [*********75%*****      ] Elapsed 1.03s / Remaining 00:00:00:00"
     ]
    },
    {
     "name": "stdout",
     "output_type": "stream",
     "text": [
      "\r",
      " [*********75%*****      ] Elapsed 1.03s / Remaining 00:00:00:00"
     ]
    },
    {
     "name": "stdout",
     "output_type": "stream",
     "text": [
      "\r",
      " [*********75%*****      ] Elapsed 1.03s / Remaining 00:00:00:00"
     ]
    },
    {
     "name": "stdout",
     "output_type": "stream",
     "text": [
      "\r",
      " [*********75%*****      ] Elapsed 1.03s / Remaining 00:00:00:00"
     ]
    },
    {
     "name": "stdout",
     "output_type": "stream",
     "text": [
      "\r",
      " [*********75%*****      ] Elapsed 1.03s / Remaining 00:00:00:00"
     ]
    },
    {
     "name": "stdout",
     "output_type": "stream",
     "text": [
      "\r",
      " [*********75%*****      ] Elapsed 1.03s / Remaining 00:00:00:00"
     ]
    },
    {
     "name": "stdout",
     "output_type": "stream",
     "text": [
      "\r",
      " [*********75%*****      ] Elapsed 1.04s / Remaining 00:00:00:00"
     ]
    },
    {
     "name": "stdout",
     "output_type": "stream",
     "text": [
      "\r",
      " [*********75%*****      ] Elapsed 1.04s / Remaining 00:00:00:00"
     ]
    },
    {
     "name": "stdout",
     "output_type": "stream",
     "text": [
      "\r",
      " [*********75%*****      ] Elapsed 1.04s / Remaining 00:00:00:00"
     ]
    },
    {
     "name": "stdout",
     "output_type": "stream",
     "text": [
      "\r",
      " [*********75%*****      ] Elapsed 1.04s / Remaining 00:00:00:00"
     ]
    },
    {
     "name": "stdout",
     "output_type": "stream",
     "text": [
      "\r",
      " [*********76%*****      ] Elapsed 1.04s / Remaining 00:00:00:00"
     ]
    },
    {
     "name": "stdout",
     "output_type": "stream",
     "text": [
      "\r",
      " [*********76%*****      ] Elapsed 1.04s / Remaining 00:00:00:00"
     ]
    },
    {
     "name": "stdout",
     "output_type": "stream",
     "text": [
      "\r",
      " [*********76%*****      ] Elapsed 1.04s / Remaining 00:00:00:00"
     ]
    },
    {
     "name": "stdout",
     "output_type": "stream",
     "text": [
      "\r",
      " [*********76%*****      ] Elapsed 1.04s / Remaining 00:00:00:00"
     ]
    },
    {
     "name": "stdout",
     "output_type": "stream",
     "text": [
      "\r",
      " [*********76%*****      ] Elapsed 1.05s / Remaining 00:00:00:00"
     ]
    },
    {
     "name": "stdout",
     "output_type": "stream",
     "text": [
      "\r",
      " [*********76%*****      ] Elapsed 1.05s / Remaining 00:00:00:00"
     ]
    },
    {
     "name": "stdout",
     "output_type": "stream",
     "text": [
      "\r",
      " [*********76%*****      ] Elapsed 1.05s / Remaining 00:00:00:00"
     ]
    },
    {
     "name": "stdout",
     "output_type": "stream",
     "text": [
      "\r",
      " [*********76%*****      ] Elapsed 1.05s / Remaining 00:00:00:00"
     ]
    },
    {
     "name": "stdout",
     "output_type": "stream",
     "text": [
      "\r",
      " [*********76%*****      ] Elapsed 1.05s / Remaining 00:00:00:00"
     ]
    },
    {
     "name": "stdout",
     "output_type": "stream",
     "text": [
      "\r",
      " [*********76%*****      ] Elapsed 1.05s / Remaining 00:00:00:00"
     ]
    },
    {
     "name": "stdout",
     "output_type": "stream",
     "text": [
      "\r",
      " [*********77%******     ] Elapsed 1.05s / Remaining 00:00:00:00"
     ]
    },
    {
     "name": "stdout",
     "output_type": "stream",
     "text": [
      "\r",
      " [*********77%******     ] Elapsed 1.06s / Remaining 00:00:00:00"
     ]
    },
    {
     "name": "stdout",
     "output_type": "stream",
     "text": [
      "\r",
      " [*********77%******     ] Elapsed 1.06s / Remaining 00:00:00:00"
     ]
    },
    {
     "name": "stdout",
     "output_type": "stream",
     "text": [
      "\r",
      " [*********77%******     ] Elapsed 1.06s / Remaining 00:00:00:00"
     ]
    },
    {
     "name": "stdout",
     "output_type": "stream",
     "text": [
      "\r",
      " [*********77%******     ] Elapsed 1.06s / Remaining 00:00:00:00"
     ]
    },
    {
     "name": "stdout",
     "output_type": "stream",
     "text": [
      "\r",
      " [*********77%******     ] Elapsed 1.06s / Remaining 00:00:00:00"
     ]
    },
    {
     "name": "stdout",
     "output_type": "stream",
     "text": [
      "\r",
      " [*********77%******     ] Elapsed 1.06s / Remaining 00:00:00:00"
     ]
    },
    {
     "name": "stdout",
     "output_type": "stream",
     "text": [
      "\r",
      " [*********77%******     ] Elapsed 1.06s / Remaining 00:00:00:00"
     ]
    },
    {
     "name": "stdout",
     "output_type": "stream",
     "text": [
      "\r",
      " [*********77%******     ] Elapsed 1.06s / Remaining 00:00:00:00"
     ]
    },
    {
     "name": "stdout",
     "output_type": "stream",
     "text": [
      "\r",
      " [*********77%******     ] Elapsed 1.07s / Remaining 00:00:00:00"
     ]
    },
    {
     "name": "stdout",
     "output_type": "stream",
     "text": [
      "\r",
      " [*********78%******     ] Elapsed 1.07s / Remaining 00:00:00:00"
     ]
    },
    {
     "name": "stdout",
     "output_type": "stream",
     "text": [
      "\r",
      " [*********78%******     ] Elapsed 1.07s / Remaining 00:00:00:00"
     ]
    },
    {
     "name": "stdout",
     "output_type": "stream",
     "text": [
      "\r",
      " [*********78%******     ] Elapsed 1.07s / Remaining 00:00:00:00"
     ]
    },
    {
     "name": "stdout",
     "output_type": "stream",
     "text": [
      "\r",
      " [*********78%******     ] Elapsed 1.07s / Remaining 00:00:00:00"
     ]
    },
    {
     "name": "stdout",
     "output_type": "stream",
     "text": [
      "\r",
      " [*********78%******     ] Elapsed 1.07s / Remaining 00:00:00:00"
     ]
    },
    {
     "name": "stdout",
     "output_type": "stream",
     "text": [
      "\r",
      " [*********78%******     ] Elapsed 1.07s / Remaining 00:00:00:00"
     ]
    },
    {
     "name": "stdout",
     "output_type": "stream",
     "text": [
      "\r",
      " [*********78%******     ] Elapsed 1.08s / Remaining 00:00:00:00"
     ]
    },
    {
     "name": "stdout",
     "output_type": "stream",
     "text": [
      "\r",
      " [*********78%******     ] Elapsed 1.08s / Remaining 00:00:00:00"
     ]
    },
    {
     "name": "stdout",
     "output_type": "stream",
     "text": [
      "\r",
      " [*********78%******     ] Elapsed 1.08s / Remaining 00:00:00:00"
     ]
    },
    {
     "name": "stdout",
     "output_type": "stream",
     "text": [
      "\r",
      " [*********78%******     ] Elapsed 1.08s / Remaining 00:00:00:00"
     ]
    },
    {
     "name": "stdout",
     "output_type": "stream",
     "text": [
      "\r",
      " [*********79%******     ] Elapsed 1.08s / Remaining 00:00:00:00"
     ]
    },
    {
     "name": "stdout",
     "output_type": "stream",
     "text": [
      "\r",
      " [*********79%******     ] Elapsed 1.08s / Remaining 00:00:00:00"
     ]
    },
    {
     "name": "stdout",
     "output_type": "stream",
     "text": [
      "\r",
      " [*********79%******     ] Elapsed 1.08s / Remaining 00:00:00:00"
     ]
    },
    {
     "name": "stdout",
     "output_type": "stream",
     "text": [
      "\r",
      " [*********79%******     ] Elapsed 1.09s / Remaining 00:00:00:00"
     ]
    },
    {
     "name": "stdout",
     "output_type": "stream",
     "text": [
      "\r",
      " [*********79%******     ] Elapsed 1.09s / Remaining 00:00:00:00"
     ]
    },
    {
     "name": "stdout",
     "output_type": "stream",
     "text": [
      "\r",
      " [*********79%******     ] Elapsed 1.09s / Remaining 00:00:00:00"
     ]
    },
    {
     "name": "stdout",
     "output_type": "stream",
     "text": [
      "\r",
      " [*********79%******     ] Elapsed 1.09s / Remaining 00:00:00:00"
     ]
    },
    {
     "name": "stdout",
     "output_type": "stream",
     "text": [
      "\r",
      " [*********79%******     ] Elapsed 1.09s / Remaining 00:00:00:00"
     ]
    },
    {
     "name": "stdout",
     "output_type": "stream",
     "text": [
      "\r",
      " [*********79%******     ] Elapsed 1.09s / Remaining 00:00:00:00"
     ]
    },
    {
     "name": "stdout",
     "output_type": "stream",
     "text": [
      "\r",
      " [*********79%******     ] Elapsed 1.09s / Remaining 00:00:00:00"
     ]
    },
    {
     "name": "stdout",
     "output_type": "stream",
     "text": [
      "\r",
      " [*********80%******     ] Elapsed 1.09s / Remaining 00:00:00:00"
     ]
    },
    {
     "name": "stdout",
     "output_type": "stream",
     "text": [
      "\r",
      " [*********80%******     ] Elapsed 1.10s / Remaining 00:00:00:00"
     ]
    },
    {
     "name": "stdout",
     "output_type": "stream",
     "text": [
      "\r",
      " [*********80%******     ] Elapsed 1.10s / Remaining 00:00:00:00"
     ]
    },
    {
     "name": "stdout",
     "output_type": "stream",
     "text": [
      "\r",
      " [*********80%******     ] Elapsed 1.10s / Remaining 00:00:00:00"
     ]
    },
    {
     "name": "stdout",
     "output_type": "stream",
     "text": [
      "\r",
      " [*********80%******     ] Elapsed 1.10s / Remaining 00:00:00:00"
     ]
    },
    {
     "name": "stdout",
     "output_type": "stream",
     "text": [
      "\r",
      " [*********80%******     ] Elapsed 1.10s / Remaining 00:00:00:00"
     ]
    },
    {
     "name": "stdout",
     "output_type": "stream",
     "text": [
      "\r",
      " [*********80%******     ] Elapsed 1.10s / Remaining 00:00:00:00"
     ]
    },
    {
     "name": "stdout",
     "output_type": "stream",
     "text": [
      "\r",
      " [*********80%******     ] Elapsed 1.10s / Remaining 00:00:00:00"
     ]
    },
    {
     "name": "stdout",
     "output_type": "stream",
     "text": [
      "\r",
      " [*********80%******     ] Elapsed 1.11s / Remaining 00:00:00:00"
     ]
    },
    {
     "name": "stdout",
     "output_type": "stream",
     "text": [
      "\r",
      " [*********80%******     ] Elapsed 1.11s / Remaining 00:00:00:00"
     ]
    },
    {
     "name": "stdout",
     "output_type": "stream",
     "text": [
      "\r",
      " [*********81%*******    ] Elapsed 1.11s / Remaining 00:00:00:00"
     ]
    },
    {
     "name": "stdout",
     "output_type": "stream",
     "text": [
      "\r",
      " [*********81%*******    ] Elapsed 1.11s / Remaining 00:00:00:00"
     ]
    },
    {
     "name": "stdout",
     "output_type": "stream",
     "text": [
      "\r",
      " [*********81%*******    ] Elapsed 1.11s / Remaining 00:00:00:00"
     ]
    },
    {
     "name": "stdout",
     "output_type": "stream",
     "text": [
      "\r",
      " [*********81%*******    ] Elapsed 1.11s / Remaining 00:00:00:00"
     ]
    },
    {
     "name": "stdout",
     "output_type": "stream",
     "text": [
      "\r"
     ]
    },
    {
     "name": "stdout",
     "output_type": "stream",
     "text": [
      " [*********81%*******    ] Elapsed 1.11s / Remaining 00:00:00:00"
     ]
    },
    {
     "name": "stdout",
     "output_type": "stream",
     "text": [
      "\r",
      " [*********81%*******    ] Elapsed 1.11s / Remaining 00:00:00:00"
     ]
    },
    {
     "name": "stdout",
     "output_type": "stream",
     "text": [
      "\r",
      " [*********81%*******    ] Elapsed 1.12s / Remaining 00:00:00:00"
     ]
    },
    {
     "name": "stdout",
     "output_type": "stream",
     "text": [
      "\r",
      " [*********81%*******    ] Elapsed 1.12s / Remaining 00:00:00:00"
     ]
    },
    {
     "name": "stdout",
     "output_type": "stream",
     "text": [
      "\r",
      " [*********81%*******    ] Elapsed 1.12s / Remaining 00:00:00:00"
     ]
    },
    {
     "name": "stdout",
     "output_type": "stream",
     "text": [
      "\r",
      " [*********81%*******    ] Elapsed 1.12s / Remaining 00:00:00:00"
     ]
    },
    {
     "name": "stdout",
     "output_type": "stream",
     "text": [
      "\r",
      " [*********82%*******    ] Elapsed 1.12s / Remaining 00:00:00:00"
     ]
    },
    {
     "name": "stdout",
     "output_type": "stream",
     "text": [
      "\r",
      " [*********82%*******    ] Elapsed 1.12s / Remaining 00:00:00:00"
     ]
    },
    {
     "name": "stdout",
     "output_type": "stream",
     "text": [
      "\r",
      " [*********82%*******    ] Elapsed 1.13s / Remaining 00:00:00:00"
     ]
    },
    {
     "name": "stdout",
     "output_type": "stream",
     "text": [
      "\r",
      " [*********82%*******    ] Elapsed 1.13s / Remaining 00:00:00:00"
     ]
    },
    {
     "name": "stdout",
     "output_type": "stream",
     "text": [
      "\r",
      " [*********82%*******    ] Elapsed 1.13s / Remaining 00:00:00:00"
     ]
    },
    {
     "name": "stdout",
     "output_type": "stream",
     "text": [
      "\r",
      " [*********82%*******    ] Elapsed 1.13s / Remaining 00:00:00:00"
     ]
    },
    {
     "name": "stdout",
     "output_type": "stream",
     "text": [
      "\r",
      " [*********82%*******    ] Elapsed 1.13s / Remaining 00:00:00:00"
     ]
    },
    {
     "name": "stdout",
     "output_type": "stream",
     "text": [
      "\r",
      " [*********82%*******    ] Elapsed 1.13s / Remaining 00:00:00:00"
     ]
    },
    {
     "name": "stdout",
     "output_type": "stream",
     "text": [
      "\r",
      " [*********82%*******    ] Elapsed 1.13s / Remaining 00:00:00:00"
     ]
    },
    {
     "name": "stdout",
     "output_type": "stream",
     "text": [
      "\r",
      " [*********82%*******    ] Elapsed 1.14s / Remaining 00:00:00:00"
     ]
    },
    {
     "name": "stdout",
     "output_type": "stream",
     "text": [
      "\r",
      " [*********83%*******    ] Elapsed 1.14s / Remaining 00:00:00:00"
     ]
    },
    {
     "name": "stdout",
     "output_type": "stream",
     "text": [
      "\r",
      " [*********83%*******    ] Elapsed 1.14s / Remaining 00:00:00:00"
     ]
    },
    {
     "name": "stdout",
     "output_type": "stream",
     "text": [
      "\r",
      " [*********83%*******    ] Elapsed 1.14s / Remaining 00:00:00:00"
     ]
    },
    {
     "name": "stdout",
     "output_type": "stream",
     "text": [
      "\r",
      " [*********83%*******    ] Elapsed 1.14s / Remaining 00:00:00:00"
     ]
    },
    {
     "name": "stdout",
     "output_type": "stream",
     "text": [
      "\r",
      " [*********83%*******    ] Elapsed 1.14s / Remaining 00:00:00:00"
     ]
    },
    {
     "name": "stdout",
     "output_type": "stream",
     "text": [
      "\r",
      " [*********83%*******    ] Elapsed 1.14s / Remaining 00:00:00:00"
     ]
    },
    {
     "name": "stdout",
     "output_type": "stream",
     "text": [
      "\r",
      " [*********83%*******    ] Elapsed 1.14s / Remaining 00:00:00:00"
     ]
    },
    {
     "name": "stdout",
     "output_type": "stream",
     "text": [
      "\r",
      " [*********83%*******    ] Elapsed 1.15s / Remaining 00:00:00:00"
     ]
    },
    {
     "name": "stdout",
     "output_type": "stream",
     "text": [
      "\r",
      " [*********83%*******    ] Elapsed 1.15s / Remaining 00:00:00:00"
     ]
    },
    {
     "name": "stdout",
     "output_type": "stream",
     "text": [
      "\r",
      " [*********83%*******    ] Elapsed 1.15s / Remaining 00:00:00:00"
     ]
    },
    {
     "name": "stdout",
     "output_type": "stream",
     "text": [
      "\r",
      " [*********84%*******    ] Elapsed 1.15s / Remaining 00:00:00:00"
     ]
    },
    {
     "name": "stdout",
     "output_type": "stream",
     "text": [
      "\r",
      " [*********84%*******    ] Elapsed 1.15s / Remaining 00:00:00:00"
     ]
    },
    {
     "name": "stdout",
     "output_type": "stream",
     "text": [
      "\r",
      " [*********84%*******    ] Elapsed 1.15s / Remaining 00:00:00:00"
     ]
    },
    {
     "name": "stdout",
     "output_type": "stream",
     "text": [
      "\r",
      " [*********84%*******    ] Elapsed 1.15s / Remaining 00:00:00:00"
     ]
    },
    {
     "name": "stdout",
     "output_type": "stream",
     "text": [
      "\r",
      " [*********84%*******    ] Elapsed 1.16s / Remaining 00:00:00:00"
     ]
    },
    {
     "name": "stdout",
     "output_type": "stream",
     "text": [
      "\r",
      " [*********84%*******    ] Elapsed 1.16s / Remaining 00:00:00:00"
     ]
    },
    {
     "name": "stdout",
     "output_type": "stream",
     "text": [
      "\r",
      " [*********84%*******    ] Elapsed 1.16s / Remaining 00:00:00:00"
     ]
    },
    {
     "name": "stdout",
     "output_type": "stream",
     "text": [
      "\r",
      " [*********84%*******    ] Elapsed 1.16s / Remaining 00:00:00:00"
     ]
    },
    {
     "name": "stdout",
     "output_type": "stream",
     "text": [
      "\r",
      " [*********84%*******    ] Elapsed 1.16s / Remaining 00:00:00:00"
     ]
    },
    {
     "name": "stdout",
     "output_type": "stream",
     "text": [
      "\r",
      " [*********84%*******    ] Elapsed 1.16s / Remaining 00:00:00:00"
     ]
    },
    {
     "name": "stdout",
     "output_type": "stream",
     "text": [
      "\r",
      " [*********85%********   ] Elapsed 1.16s / Remaining 00:00:00:00"
     ]
    },
    {
     "name": "stdout",
     "output_type": "stream",
     "text": [
      "\r",
      " [*********85%********   ] Elapsed 1.16s / Remaining 00:00:00:00"
     ]
    },
    {
     "name": "stdout",
     "output_type": "stream",
     "text": [
      "\r",
      " [*********85%********   ] Elapsed 1.17s / Remaining 00:00:00:00"
     ]
    },
    {
     "name": "stdout",
     "output_type": "stream",
     "text": [
      "\r",
      " [*********85%********   ] Elapsed 1.17s / Remaining 00:00:00:00"
     ]
    },
    {
     "name": "stdout",
     "output_type": "stream",
     "text": [
      "\r",
      " [*********85%********   ] Elapsed 1.17s / Remaining 00:00:00:00"
     ]
    },
    {
     "name": "stdout",
     "output_type": "stream",
     "text": [
      "\r",
      " [*********85%********   ] Elapsed 1.17s / Remaining 00:00:00:00"
     ]
    },
    {
     "name": "stdout",
     "output_type": "stream",
     "text": [
      "\r",
      " [*********85%********   ] Elapsed 1.17s / Remaining 00:00:00:00"
     ]
    },
    {
     "name": "stdout",
     "output_type": "stream",
     "text": [
      "\r",
      " [*********85%********   ] Elapsed 1.17s / Remaining 00:00:00:00"
     ]
    },
    {
     "name": "stdout",
     "output_type": "stream",
     "text": [
      "\r",
      " [*********85%********   ] Elapsed 1.17s / Remaining 00:00:00:00"
     ]
    },
    {
     "name": "stdout",
     "output_type": "stream",
     "text": [
      "\r",
      " [*********85%********   ] Elapsed 1.18s / Remaining 00:00:00:00"
     ]
    },
    {
     "name": "stdout",
     "output_type": "stream",
     "text": [
      "\r",
      " [*********86%********   ] Elapsed 1.18s / Remaining 00:00:00:00"
     ]
    },
    {
     "name": "stdout",
     "output_type": "stream",
     "text": [
      "\r",
      " [*********86%********   ] Elapsed 1.18s / Remaining 00:00:00:00"
     ]
    },
    {
     "name": "stdout",
     "output_type": "stream",
     "text": [
      "\r",
      " [*********86%********   ] Elapsed 1.18s / Remaining 00:00:00:00"
     ]
    },
    {
     "name": "stdout",
     "output_type": "stream",
     "text": [
      "\r",
      " [*********86%********   ] Elapsed 1.18s / Remaining 00:00:00:00"
     ]
    },
    {
     "name": "stdout",
     "output_type": "stream",
     "text": [
      "\r",
      " [*********86%********   ] Elapsed 1.18s / Remaining 00:00:00:00"
     ]
    },
    {
     "name": "stdout",
     "output_type": "stream",
     "text": [
      "\r",
      " [*********86%********   ] Elapsed 1.18s / Remaining 00:00:00:00"
     ]
    },
    {
     "name": "stdout",
     "output_type": "stream",
     "text": [
      "\r",
      " [*********86%********   ] Elapsed 1.18s / Remaining 00:00:00:00"
     ]
    },
    {
     "name": "stdout",
     "output_type": "stream",
     "text": [
      "\r",
      " [*********86%********   ] Elapsed 1.19s / Remaining 00:00:00:00"
     ]
    },
    {
     "name": "stdout",
     "output_type": "stream",
     "text": [
      "\r",
      " [*********86%********   ] Elapsed 1.19s / Remaining 00:00:00:00"
     ]
    },
    {
     "name": "stdout",
     "output_type": "stream",
     "text": [
      "\r",
      " [*********86%********   ] Elapsed 1.19s / Remaining 00:00:00:00"
     ]
    },
    {
     "name": "stdout",
     "output_type": "stream",
     "text": [
      "\r",
      " [*********87%********   ] Elapsed 1.19s / Remaining 00:00:00:00"
     ]
    },
    {
     "name": "stdout",
     "output_type": "stream",
     "text": [
      "\r",
      " [*********87%********   ] Elapsed 1.19s / Remaining 00:00:00:00"
     ]
    },
    {
     "name": "stdout",
     "output_type": "stream",
     "text": [
      "\r",
      " [*********87%********   ] Elapsed 1.19s / Remaining 00:00:00:00"
     ]
    },
    {
     "name": "stdout",
     "output_type": "stream",
     "text": [
      "\r",
      " [*********87%********   ] Elapsed 1.19s / Remaining 00:00:00:00"
     ]
    },
    {
     "name": "stdout",
     "output_type": "stream",
     "text": [
      "\r",
      " [*********87%********   ] Elapsed 1.20s / Remaining 00:00:00:00"
     ]
    },
    {
     "name": "stdout",
     "output_type": "stream",
     "text": [
      "\r",
      " [*********87%********   ] Elapsed 1.20s / Remaining 00:00:00:00"
     ]
    },
    {
     "name": "stdout",
     "output_type": "stream",
     "text": [
      "\r",
      " [*********87%********   ] Elapsed 1.20s / Remaining 00:00:00:00"
     ]
    },
    {
     "name": "stdout",
     "output_type": "stream",
     "text": [
      "\r",
      " [*********87%********   ] Elapsed 1.20s / Remaining 00:00:00:00"
     ]
    },
    {
     "name": "stdout",
     "output_type": "stream",
     "text": [
      "\r",
      " [*********87%********   ] Elapsed 1.20s / Remaining 00:00:00:00"
     ]
    },
    {
     "name": "stdout",
     "output_type": "stream",
     "text": [
      "\r",
      " [*********87%********   ] Elapsed 1.20s / Remaining 00:00:00:00"
     ]
    },
    {
     "name": "stdout",
     "output_type": "stream",
     "text": [
      "\r",
      " [*********88%********   ] Elapsed 1.20s / Remaining 00:00:00:00"
     ]
    },
    {
     "name": "stdout",
     "output_type": "stream",
     "text": [
      "\r",
      " [*********88%********   ] Elapsed 1.21s / Remaining 00:00:00:00"
     ]
    },
    {
     "name": "stdout",
     "output_type": "stream",
     "text": [
      "\r",
      " [*********88%********   ] Elapsed 1.21s / Remaining 00:00:00:00"
     ]
    },
    {
     "name": "stdout",
     "output_type": "stream",
     "text": [
      "\r",
      " [*********88%********   ] Elapsed 1.21s / Remaining 00:00:00:00"
     ]
    },
    {
     "name": "stdout",
     "output_type": "stream",
     "text": [
      "\r",
      " [*********88%********   ] Elapsed 1.21s / Remaining 00:00:00:00"
     ]
    },
    {
     "name": "stdout",
     "output_type": "stream",
     "text": [
      "\r",
      " [*********88%********   ] Elapsed 1.21s / Remaining 00:00:00:00"
     ]
    },
    {
     "name": "stdout",
     "output_type": "stream",
     "text": [
      "\r",
      " [*********88%********   ] Elapsed 1.21s / Remaining 00:00:00:00"
     ]
    },
    {
     "name": "stdout",
     "output_type": "stream",
     "text": [
      "\r",
      " [*********88%********   ] Elapsed 1.21s / Remaining 00:00:00:00"
     ]
    },
    {
     "name": "stdout",
     "output_type": "stream",
     "text": [
      "\r",
      " [*********88%********   ] Elapsed 1.21s / Remaining 00:00:00:00"
     ]
    },
    {
     "name": "stdout",
     "output_type": "stream",
     "text": [
      "\r",
      " [*********88%********   ] Elapsed 1.22s / Remaining 00:00:00:00"
     ]
    },
    {
     "name": "stdout",
     "output_type": "stream",
     "text": [
      "\r",
      " [*********89%********   ] Elapsed 1.22s / Remaining 00:00:00:00"
     ]
    },
    {
     "name": "stdout",
     "output_type": "stream",
     "text": [
      "\r",
      " [*********89%********   ] Elapsed 1.22s / Remaining 00:00:00:00"
     ]
    },
    {
     "name": "stdout",
     "output_type": "stream",
     "text": [
      "\r",
      " [*********89%********   ] Elapsed 1.22s / Remaining 00:00:00:00"
     ]
    },
    {
     "name": "stdout",
     "output_type": "stream",
     "text": [
      "\r",
      " [*********89%********   ] Elapsed 1.22s / Remaining 00:00:00:00"
     ]
    },
    {
     "name": "stdout",
     "output_type": "stream",
     "text": [
      "\r",
      " [*********89%********   ] Elapsed 1.22s / Remaining 00:00:00:00"
     ]
    },
    {
     "name": "stdout",
     "output_type": "stream",
     "text": [
      "\r",
      " [*********89%********   ] Elapsed 1.22s / Remaining 00:00:00:00"
     ]
    },
    {
     "name": "stdout",
     "output_type": "stream",
     "text": [
      "\r",
      " [*********89%********   ] Elapsed 1.23s / Remaining 00:00:00:00"
     ]
    },
    {
     "name": "stdout",
     "output_type": "stream",
     "text": [
      "\r",
      " [*********89%********   ] Elapsed 1.23s / Remaining 00:00:00:00"
     ]
    },
    {
     "name": "stdout",
     "output_type": "stream",
     "text": [
      "\r",
      " [*********89%********   ] Elapsed 1.23s / Remaining 00:00:00:00"
     ]
    },
    {
     "name": "stdout",
     "output_type": "stream",
     "text": [
      "\r",
      " [*********89%********   ] Elapsed 1.23s / Remaining 00:00:00:00"
     ]
    },
    {
     "name": "stdout",
     "output_type": "stream",
     "text": [
      "\r",
      " [*********90%*********  ] Elapsed 1.23s / Remaining 00:00:00:00"
     ]
    },
    {
     "name": "stdout",
     "output_type": "stream",
     "text": [
      "\r",
      " [*********90%*********  ] Elapsed 1.23s / Remaining 00:00:00:00"
     ]
    },
    {
     "name": "stdout",
     "output_type": "stream",
     "text": [
      "\r",
      " [*********90%*********  ] Elapsed 1.23s / Remaining 00:00:00:00"
     ]
    },
    {
     "name": "stdout",
     "output_type": "stream",
     "text": [
      "\r",
      " [*********90%*********  ] Elapsed 1.23s / Remaining 00:00:00:00"
     ]
    },
    {
     "name": "stdout",
     "output_type": "stream",
     "text": [
      "\r",
      " [*********90%*********  ] Elapsed 1.24s / Remaining 00:00:00:00"
     ]
    },
    {
     "name": "stdout",
     "output_type": "stream",
     "text": [
      "\r",
      " [*********90%*********  ] Elapsed 1.24s / Remaining 00:00:00:00"
     ]
    },
    {
     "name": "stdout",
     "output_type": "stream",
     "text": [
      "\r",
      " [*********90%*********  ] Elapsed 1.24s / Remaining 00:00:00:00"
     ]
    },
    {
     "name": "stdout",
     "output_type": "stream",
     "text": [
      "\r",
      " [*********90%*********  ] Elapsed 1.24s / Remaining 00:00:00:00"
     ]
    },
    {
     "name": "stdout",
     "output_type": "stream",
     "text": [
      "\r",
      " [*********90%*********  ] Elapsed 1.24s / Remaining 00:00:00:00"
     ]
    },
    {
     "name": "stdout",
     "output_type": "stream",
     "text": [
      "\r",
      " [*********90%*********  ] Elapsed 1.24s / Remaining 00:00:00:00"
     ]
    },
    {
     "name": "stdout",
     "output_type": "stream",
     "text": [
      "\r",
      " [*********91%*********  ] Elapsed 1.24s / Remaining 00:00:00:00"
     ]
    },
    {
     "name": "stdout",
     "output_type": "stream",
     "text": [
      "\r",
      " [*********91%*********  ] Elapsed 1.25s / Remaining 00:00:00:00"
     ]
    },
    {
     "name": "stdout",
     "output_type": "stream",
     "text": [
      "\r",
      " [*********91%*********  ] Elapsed 1.25s / Remaining 00:00:00:00"
     ]
    },
    {
     "name": "stdout",
     "output_type": "stream",
     "text": [
      "\r",
      " [*********91%*********  ] Elapsed 1.25s / Remaining 00:00:00:00"
     ]
    },
    {
     "name": "stdout",
     "output_type": "stream",
     "text": [
      "\r",
      " [*********91%*********  ] Elapsed 1.25s / Remaining 00:00:00:00"
     ]
    },
    {
     "name": "stdout",
     "output_type": "stream",
     "text": [
      "\r",
      " [*********91%*********  ] Elapsed 1.25s / Remaining 00:00:00:00"
     ]
    },
    {
     "name": "stdout",
     "output_type": "stream",
     "text": [
      "\r",
      " [*********91%*********  ] Elapsed 1.25s / Remaining 00:00:00:00"
     ]
    },
    {
     "name": "stdout",
     "output_type": "stream",
     "text": [
      "\r",
      " [*********91%*********  ] Elapsed 1.26s / Remaining 00:00:00:00"
     ]
    },
    {
     "name": "stdout",
     "output_type": "stream",
     "text": [
      "\r",
      " [*********91%*********  ] Elapsed 1.26s / Remaining 00:00:00:00"
     ]
    },
    {
     "name": "stdout",
     "output_type": "stream",
     "text": [
      "\r",
      " [*********91%*********  ] Elapsed 1.26s / Remaining 00:00:00:00"
     ]
    },
    {
     "name": "stdout",
     "output_type": "stream",
     "text": [
      "\r",
      " [*********92%*********  ] Elapsed 1.26s / Remaining 00:00:00:00"
     ]
    },
    {
     "name": "stdout",
     "output_type": "stream",
     "text": [
      "\r",
      " [*********92%*********  ] Elapsed 1.26s / Remaining 00:00:00:00"
     ]
    },
    {
     "name": "stdout",
     "output_type": "stream",
     "text": [
      "\r",
      " [*********92%*********  ] Elapsed 1.26s / Remaining 00:00:00:00"
     ]
    },
    {
     "name": "stdout",
     "output_type": "stream",
     "text": [
      "\r",
      " [*********92%*********  ] Elapsed 1.26s / Remaining 00:00:00:00"
     ]
    },
    {
     "name": "stdout",
     "output_type": "stream",
     "text": [
      "\r",
      " [*********92%*********  ] Elapsed 1.26s / Remaining 00:00:00:00"
     ]
    },
    {
     "name": "stdout",
     "output_type": "stream",
     "text": [
      "\r",
      " [*********92%*********  ] Elapsed 1.27s / Remaining 00:00:00:00"
     ]
    },
    {
     "name": "stdout",
     "output_type": "stream",
     "text": [
      "\r",
      " [*********92%*********  ] Elapsed 1.27s / Remaining 00:00:00:00"
     ]
    },
    {
     "name": "stdout",
     "output_type": "stream",
     "text": [
      "\r",
      " [*********92%*********  ] Elapsed 1.27s / Remaining 00:00:00:00"
     ]
    },
    {
     "name": "stdout",
     "output_type": "stream",
     "text": [
      "\r",
      " [*********92%*********  ] Elapsed 1.27s / Remaining 00:00:00:00"
     ]
    },
    {
     "name": "stdout",
     "output_type": "stream",
     "text": [
      "\r",
      " [*********92%*********  ] Elapsed 1.27s / Remaining 00:00:00:00"
     ]
    },
    {
     "name": "stdout",
     "output_type": "stream",
     "text": [
      "\r",
      " [*********93%*********  ] Elapsed 1.27s / Remaining 00:00:00:00"
     ]
    },
    {
     "name": "stdout",
     "output_type": "stream",
     "text": [
      "\r",
      " [*********93%*********  ] Elapsed 1.28s / Remaining 00:00:00:00"
     ]
    },
    {
     "name": "stdout",
     "output_type": "stream",
     "text": [
      "\r",
      " [*********93%*********  ] Elapsed 1.28s / Remaining 00:00:00:00"
     ]
    },
    {
     "name": "stdout",
     "output_type": "stream",
     "text": [
      "\r",
      " [*********93%*********  ] Elapsed 1.28s / Remaining 00:00:00:00"
     ]
    },
    {
     "name": "stdout",
     "output_type": "stream",
     "text": [
      "\r",
      " [*********93%*********  ] Elapsed 1.28s / Remaining 00:00:00:00"
     ]
    },
    {
     "name": "stdout",
     "output_type": "stream",
     "text": [
      "\r",
      " [*********93%*********  ] Elapsed 1.28s / Remaining 00:00:00:00"
     ]
    },
    {
     "name": "stdout",
     "output_type": "stream",
     "text": [
      "\r",
      " [*********93%*********  ] Elapsed 1.28s / Remaining 00:00:00:00"
     ]
    },
    {
     "name": "stdout",
     "output_type": "stream",
     "text": [
      "\r",
      " [*********93%*********  ] Elapsed 1.28s / Remaining 00:00:00:00"
     ]
    },
    {
     "name": "stdout",
     "output_type": "stream",
     "text": [
      "\r",
      " [*********93%*********  ] Elapsed 1.29s / Remaining 00:00:00:00"
     ]
    },
    {
     "name": "stdout",
     "output_type": "stream",
     "text": [
      "\r",
      " [*********93%*********  ] Elapsed 1.29s / Remaining 00:00:00:00"
     ]
    },
    {
     "name": "stdout",
     "output_type": "stream",
     "text": [
      "\r",
      " [*********94%********** ] Elapsed 1.29s / Remaining 00:00:00:00"
     ]
    },
    {
     "name": "stdout",
     "output_type": "stream",
     "text": [
      "\r",
      " [*********94%********** ] Elapsed 1.29s / Remaining 00:00:00:00"
     ]
    },
    {
     "name": "stdout",
     "output_type": "stream",
     "text": [
      "\r",
      " [*********94%********** ] Elapsed 1.29s / Remaining 00:00:00:00"
     ]
    },
    {
     "name": "stdout",
     "output_type": "stream",
     "text": [
      "\r",
      " [*********94%********** ] Elapsed 1.29s / Remaining 00:00:00:00"
     ]
    },
    {
     "name": "stdout",
     "output_type": "stream",
     "text": [
      "\r",
      " [*********94%********** ] Elapsed 1.30s / Remaining 00:00:00:00"
     ]
    },
    {
     "name": "stdout",
     "output_type": "stream",
     "text": [
      "\r",
      " [*********94%********** ] Elapsed 1.30s / Remaining 00:00:00:00"
     ]
    },
    {
     "name": "stdout",
     "output_type": "stream",
     "text": [
      "\r",
      " [*********94%********** ] Elapsed 1.30s / Remaining 00:00:00:00"
     ]
    },
    {
     "name": "stdout",
     "output_type": "stream",
     "text": [
      "\r",
      " [*********94%********** ] Elapsed 1.30s / Remaining 00:00:00:00"
     ]
    },
    {
     "name": "stdout",
     "output_type": "stream",
     "text": [
      "\r",
      " [*********94%********** ] Elapsed 1.30s / Remaining 00:00:00:00"
     ]
    },
    {
     "name": "stdout",
     "output_type": "stream",
     "text": [
      "\r",
      " [*********94%********** ] Elapsed 1.30s / Remaining 00:00:00:00"
     ]
    },
    {
     "name": "stdout",
     "output_type": "stream",
     "text": [
      "\r",
      " [*********95%********** ] Elapsed 1.30s / Remaining 00:00:00:00"
     ]
    },
    {
     "name": "stdout",
     "output_type": "stream",
     "text": [
      "\r"
     ]
    },
    {
     "name": "stdout",
     "output_type": "stream",
     "text": [
      " [*********95%********** ] Elapsed 1.31s / Remaining 00:00:00:00"
     ]
    },
    {
     "name": "stdout",
     "output_type": "stream",
     "text": [
      "\r",
      " [*********95%********** ] Elapsed 1.31s / Remaining 00:00:00:00"
     ]
    },
    {
     "name": "stdout",
     "output_type": "stream",
     "text": [
      "\r",
      " [*********95%********** ] Elapsed 1.31s / Remaining 00:00:00:00"
     ]
    },
    {
     "name": "stdout",
     "output_type": "stream",
     "text": [
      "\r",
      " [*********95%********** ] Elapsed 1.31s / Remaining 00:00:00:00"
     ]
    },
    {
     "name": "stdout",
     "output_type": "stream",
     "text": [
      "\r",
      " [*********95%********** ] Elapsed 1.31s / Remaining 00:00:00:00"
     ]
    },
    {
     "name": "stdout",
     "output_type": "stream",
     "text": [
      "\r",
      " [*********95%********** ] Elapsed 1.31s / Remaining 00:00:00:00"
     ]
    },
    {
     "name": "stdout",
     "output_type": "stream",
     "text": [
      "\r",
      " [*********95%********** ] Elapsed 1.31s / Remaining 00:00:00:00"
     ]
    },
    {
     "name": "stdout",
     "output_type": "stream",
     "text": [
      "\r",
      " [*********95%********** ] Elapsed 1.32s / Remaining 00:00:00:00"
     ]
    },
    {
     "name": "stdout",
     "output_type": "stream",
     "text": [
      "\r",
      " [*********95%********** ] Elapsed 1.32s / Remaining 00:00:00:00"
     ]
    },
    {
     "name": "stdout",
     "output_type": "stream",
     "text": [
      "\r",
      " [*********96%********** ] Elapsed 1.32s / Remaining 00:00:00:00"
     ]
    },
    {
     "name": "stdout",
     "output_type": "stream",
     "text": [
      "\r",
      " [*********96%********** ] Elapsed 1.32s / Remaining 00:00:00:00"
     ]
    },
    {
     "name": "stdout",
     "output_type": "stream",
     "text": [
      "\r",
      " [*********96%********** ] Elapsed 1.32s / Remaining 00:00:00:00"
     ]
    },
    {
     "name": "stdout",
     "output_type": "stream",
     "text": [
      "\r",
      " [*********96%********** ] Elapsed 1.32s / Remaining 00:00:00:00"
     ]
    },
    {
     "name": "stdout",
     "output_type": "stream",
     "text": [
      "\r",
      " [*********96%********** ] Elapsed 1.33s / Remaining 00:00:00:00"
     ]
    },
    {
     "name": "stdout",
     "output_type": "stream",
     "text": [
      "\r"
     ]
    },
    {
     "name": "stdout",
     "output_type": "stream",
     "text": [
      " [*********96%********** ] Elapsed 1.33s / Remaining 00:00:00:00"
     ]
    },
    {
     "name": "stdout",
     "output_type": "stream",
     "text": [
      "\r",
      " [*********96%********** ] Elapsed 1.33s / Remaining 00:00:00:00"
     ]
    },
    {
     "name": "stdout",
     "output_type": "stream",
     "text": [
      "\r",
      " [*********96%********** ] Elapsed 1.33s / Remaining 00:00:00:00"
     ]
    },
    {
     "name": "stdout",
     "output_type": "stream",
     "text": [
      "\r",
      " [*********96%********** ] Elapsed 1.33s / Remaining 00:00:00:00"
     ]
    },
    {
     "name": "stdout",
     "output_type": "stream",
     "text": [
      "\r",
      " [*********96%********** ] Elapsed 1.33s / Remaining 00:00:00:00"
     ]
    },
    {
     "name": "stdout",
     "output_type": "stream",
     "text": [
      "\r",
      " [*********97%********** ] Elapsed 1.34s / Remaining 00:00:00:00"
     ]
    },
    {
     "name": "stdout",
     "output_type": "stream",
     "text": [
      "\r",
      " [*********97%********** ] Elapsed 1.34s / Remaining 00:00:00:00"
     ]
    },
    {
     "name": "stdout",
     "output_type": "stream",
     "text": [
      "\r",
      " [*********97%********** ] Elapsed 1.34s / Remaining 00:00:00:00"
     ]
    },
    {
     "name": "stdout",
     "output_type": "stream",
     "text": [
      "\r",
      " [*********97%********** ] Elapsed 1.34s / Remaining 00:00:00:00"
     ]
    },
    {
     "name": "stdout",
     "output_type": "stream",
     "text": [
      "\r",
      " [*********97%********** ] Elapsed 1.34s / Remaining 00:00:00:00"
     ]
    },
    {
     "name": "stdout",
     "output_type": "stream",
     "text": [
      "\r",
      " [*********97%********** ] Elapsed 1.34s / Remaining 00:00:00:00"
     ]
    },
    {
     "name": "stdout",
     "output_type": "stream",
     "text": [
      "\r",
      " [*********97%********** ] Elapsed 1.34s / Remaining 00:00:00:00"
     ]
    },
    {
     "name": "stdout",
     "output_type": "stream",
     "text": [
      "\r",
      " [*********97%********** ] Elapsed 1.35s / Remaining 00:00:00:00"
     ]
    },
    {
     "name": "stdout",
     "output_type": "stream",
     "text": [
      "\r",
      " [*********97%********** ] Elapsed 1.35s / Remaining 00:00:00:00"
     ]
    },
    {
     "name": "stdout",
     "output_type": "stream",
     "text": [
      "\r",
      " [*********97%********** ] Elapsed 1.35s / Remaining 00:00:00:00"
     ]
    },
    {
     "name": "stdout",
     "output_type": "stream",
     "text": [
      "\r",
      " [*********98%***********] Elapsed 1.35s / Remaining 00:00:00:00"
     ]
    },
    {
     "name": "stdout",
     "output_type": "stream",
     "text": [
      "\r",
      " [*********98%***********] Elapsed 1.35s / Remaining 00:00:00:00"
     ]
    },
    {
     "name": "stdout",
     "output_type": "stream",
     "text": [
      "\r",
      " [*********98%***********] Elapsed 1.35s / Remaining 00:00:00:00"
     ]
    },
    {
     "name": "stdout",
     "output_type": "stream",
     "text": [
      "\r",
      " [*********98%***********] Elapsed 1.36s / Remaining 00:00:00:00"
     ]
    },
    {
     "name": "stdout",
     "output_type": "stream",
     "text": [
      "\r",
      " [*********98%***********] Elapsed 1.36s / Remaining 00:00:00:00"
     ]
    },
    {
     "name": "stdout",
     "output_type": "stream",
     "text": [
      "\r",
      " [*********98%***********] Elapsed 1.36s / Remaining 00:00:00:00"
     ]
    },
    {
     "name": "stdout",
     "output_type": "stream",
     "text": [
      "\r",
      " [*********98%***********] Elapsed 1.36s / Remaining 00:00:00:00"
     ]
    },
    {
     "name": "stdout",
     "output_type": "stream",
     "text": [
      "\r",
      " [*********98%***********] Elapsed 1.36s / Remaining 00:00:00:00"
     ]
    },
    {
     "name": "stdout",
     "output_type": "stream",
     "text": [
      "\r",
      " [*********98%***********] Elapsed 1.36s / Remaining 00:00:00:00"
     ]
    },
    {
     "name": "stdout",
     "output_type": "stream",
     "text": [
      "\r",
      " [*********98%***********] Elapsed 1.36s / Remaining 00:00:00:00"
     ]
    },
    {
     "name": "stdout",
     "output_type": "stream",
     "text": [
      "\r",
      " [*********99%***********] Elapsed 1.37s / Remaining 00:00:00:00"
     ]
    },
    {
     "name": "stdout",
     "output_type": "stream",
     "text": [
      "\r",
      " [*********99%***********] Elapsed 1.37s / Remaining 00:00:00:00"
     ]
    },
    {
     "name": "stdout",
     "output_type": "stream",
     "text": [
      "\r",
      " [*********99%***********] Elapsed 1.37s / Remaining 00:00:00:00"
     ]
    },
    {
     "name": "stdout",
     "output_type": "stream",
     "text": [
      "\r",
      " [*********99%***********] Elapsed 1.37s / Remaining 00:00:00:00"
     ]
    },
    {
     "name": "stdout",
     "output_type": "stream",
     "text": [
      "\r",
      " [*********99%***********] Elapsed 1.37s / Remaining 00:00:00:00"
     ]
    },
    {
     "name": "stdout",
     "output_type": "stream",
     "text": [
      "\r",
      " [*********99%***********] Elapsed 1.37s / Remaining 00:00:00:00"
     ]
    },
    {
     "name": "stdout",
     "output_type": "stream",
     "text": [
      "\r",
      " [*********99%***********] Elapsed 1.37s / Remaining 00:00:00:00"
     ]
    },
    {
     "name": "stdout",
     "output_type": "stream",
     "text": [
      "\r",
      " [*********99%***********] Elapsed 1.37s / Remaining 00:00:00:00"
     ]
    },
    {
     "name": "stdout",
     "output_type": "stream",
     "text": [
      "\r",
      " [*********99%***********] Elapsed 1.38s / Remaining 00:00:00:00"
     ]
    },
    {
     "name": "stdout",
     "output_type": "stream",
     "text": [
      "\r",
      " [*********99%***********] Elapsed 1.38s / Remaining 00:00:00:00"
     ]
    },
    {
     "name": "stdout",
     "output_type": "stream",
     "text": [
      "\r",
      " [********100%***********] Elapsed 1.38s / Remaining 00:00:00:00"
     ]
    },
    {
     "name": "stdout",
     "output_type": "stream",
     "text": [
      "\r",
      " [********100%***********] Elapsed 1.38s / Remaining 00:00:00:00"
     ]
    },
    {
     "name": "stdout",
     "output_type": "stream",
     "text": [
      "\r",
      " [********100%***********] Elapsed 1.38s / Remaining 00:00:00:00"
     ]
    },
    {
     "name": "stdout",
     "output_type": "stream",
     "text": [
      "\r",
      " [********100%***********] Elapsed 1.38s / Remaining 00:00:00:00"
     ]
    },
    {
     "name": "stdout",
     "output_type": "stream",
     "text": [
      "\r",
      " [********100%***********] Elapsed 1.38s / Remaining 00:00:00:00"
     ]
    },
    {
     "name": "stdout",
     "output_type": "stream",
     "text": [
      "\r",
      " Total run time:   1.39s\n",
      "ODE solver time: 1.3856396675109863\n"
     ]
    }
   ],
   "source": [
    "tfit = np.linspace(0, 10, 1000)\n",
    "with timer(\"RHS construction time\"):\n",
    "    env_fit, _ = env.approximate(\n",
    "        method=\"cf\", tlist=tfit, Ni_max=1, Nr_max=3, target_rmse=None\n",
    "    )\n",
    "    HEOMFit = HEOMSolver(Hsys, (env_fit, Q), NC, options=options)\n",
    "\n",
    "with timer(\"ODE solver time\"):\n",
    "    resultFit = HEOMFit.run(rho0, tlist)"
   ]
  },
  {
   "cell_type": "markdown",
   "id": "d911626a",
   "metadata": {},
   "source": [
    "## Analytic calculations"
   ]
  },
  {
   "cell_type": "code",
   "execution_count": 18,
   "id": "9fd3283b",
   "metadata": {
    "execution": {
     "iopub.execute_input": "2025-08-20T04:02:51.180274Z",
     "iopub.status.busy": "2025-08-20T04:02:51.180106Z",
     "iopub.status.idle": "2025-08-20T04:02:51.184104Z",
     "shell.execute_reply": "2025-08-20T04:02:51.183683Z"
    }
   },
   "outputs": [],
   "source": [
    "def pure_dephasing_evolution_analytical(tlist, wq, ck, vk):\n",
    "    \"\"\"\n",
    "    Computes the propagating function appearing in the pure dephasing model.\n",
    "\n",
    "    Parameters\n",
    "    ----------\n",
    "    t: float\n",
    "        A float specifying the time at which to calculate the integral.\n",
    "\n",
    "    wq: float\n",
    "        The qubit frequency in the Hamiltonian.\n",
    "\n",
    "    ck: ndarray\n",
    "        The list of coefficients in the correlation function.\n",
    "\n",
    "    vk: ndarray\n",
    "        The list of frequencies in the correlation function.\n",
    "\n",
    "    Returns\n",
    "    -------\n",
    "    integral: float\n",
    "        The value of the integral function at time t.\n",
    "    \"\"\"\n",
    "    evolution = np.array(\n",
    "        [np.exp(-1j * wq * t - correlation_integral(t, ck, vk)) for t in tlist]\n",
    "    )\n",
    "    return evolution\n",
    "\n",
    "\n",
    "def correlation_integral(t, ck, vk):\n",
    "    r\"\"\"\n",
    "    Computes the integral sum function appearing in the pure dephasing model.\n",
    "\n",
    "    If the correlation function is a sum of exponentials then this sum\n",
    "    is given by:\n",
    "\n",
    "    .. math:\n",
    "\n",
    "        \\int_0^{t}d\\tau D(\\tau) = \\sum_k\\frac{c_k}{\\mu_k^2}e^{\\mu_k t}\n",
    "        + \\frac{\\bar c_k}{\\bar \\mu_k^2}e^{\\bar \\mu_k t}\n",
    "        - \\frac{\\bar \\mu_k c_k + \\mu_k \\bar c_k}{\\mu_k \\bar \\mu_k} t\n",
    "        + \\frac{\\bar \\mu_k^2 c_k + \\mu_k^2 \\bar c_k}{\\mu_k^2 \\bar \\mu_k^2}\n",
    "\n",
    "    Parameters\n",
    "    ----------\n",
    "    t: float\n",
    "        A float specifying the time at which to calculate the integral.\n",
    "\n",
    "    ck: ndarray\n",
    "        The list of coefficients in the correlation function.\n",
    "\n",
    "    vk: ndarray\n",
    "        The list of frequencies in the correlation function.\n",
    "\n",
    "    Returns\n",
    "    -------\n",
    "    integral: float\n",
    "        The value of the integral function at time t.\n",
    "    \"\"\"\n",
    "    t1 = np.sum((ck / vk**2) * (np.exp(vk * t) - 1))\n",
    "    t2 = np.sum((ck.conj() / vk.conj()**2) * (np.exp(vk.conj() * t) - 1))\n",
    "    t3 = np.sum((ck / vk + ck.conj() / vk.conj()) * t)\n",
    "    return 2 * (t1 + t2 - t3)"
   ]
  },
  {
   "cell_type": "markdown",
   "id": "dfbb9caa",
   "metadata": {},
   "source": [
    "For the pure dephasing analytics, we just sum up as many matsubara terms as we can:"
   ]
  },
  {
   "cell_type": "code",
   "execution_count": 19,
   "id": "d46f777b",
   "metadata": {
    "execution": {
     "iopub.execute_input": "2025-08-20T04:02:51.185417Z",
     "iopub.status.busy": "2025-08-20T04:02:51.185246Z",
     "iopub.status.idle": "2025-08-20T04:02:52.094972Z",
     "shell.execute_reply": "2025-08-20T04:02:52.094418Z"
    }
   },
   "outputs": [],
   "source": [
    "lmaxmats2 = 15000\n",
    "\n",
    "vk = [complex(-gamma)]\n",
    "vk.extend([complex(-2.0 * np.pi * k * T) for k in range(1, lmaxmats2)])\n",
    "\n",
    "ck = [complex(lam * gamma * (-1.0j + cot(gamma * beta / 2.0)))]\n",
    "ck.extend(\n",
    "    [complex(4 * lam * gamma * T * (-v) / (v**2 - gamma**2)) for v in vk[1:]]\n",
    ")\n",
    "\n",
    "P12_ana = 0.5 * pure_dephasing_evolution_analytical(\n",
    "    tlist, 0, np.asarray(ck), np.asarray(vk)\n",
    ")"
   ]
  },
  {
   "cell_type": "markdown",
   "id": "b846700e",
   "metadata": {},
   "source": [
    "Alternatively, we can just do the integral of the propagator directly, without using the correlation functions at all"
   ]
  },
  {
   "cell_type": "code",
   "execution_count": 20,
   "id": "495d94fe",
   "metadata": {
    "execution": {
     "iopub.execute_input": "2025-08-20T04:02:52.096822Z",
     "iopub.status.busy": "2025-08-20T04:02:52.096624Z",
     "iopub.status.idle": "2025-08-20T04:02:55.578257Z",
     "shell.execute_reply": "2025-08-20T04:02:55.577707Z"
    }
   },
   "outputs": [
    {
     "name": "stderr",
     "output_type": "stream",
     "text": [
      "/tmp/ipykernel_9849/2313629077.py:15: IntegrationWarning: The maximum number of subdivisions (50) has been achieved.\n",
      "  If increasing the limit yields no improvement it is advised to analyze \n",
      "  the integrand in order to determine the difficulties.  If the position of a \n",
      "  local difficulty can be determined (singularity, discontinuity) one will \n",
      "  probably gain from splitting up the interval and calling the integrator \n",
      "  on the subranges.  Perhaps a special-purpose integrator should be used.\n",
      "  scipy.integrate.quad(integrand, 0, np.inf, args=(lam, gamma, T, t))[0]\n"
     ]
    }
   ],
   "source": [
    "def JDL(omega, lamc, omega_c):\n",
    "    return 2.0 * lamc * omega * omega_c / (omega_c**2 + omega**2)\n",
    "\n",
    "\n",
    "def integrand(omega, lamc, omega_c, Temp, t):\n",
    "    return (\n",
    "        (-4.0 * JDL(omega, lamc, omega_c) / omega**2) *\n",
    "        (1.0 - np.cos(omega*t)) * (coth(omega/(2*Temp)))\n",
    "        / np.pi\n",
    "    )\n",
    "\n",
    "\n",
    "P12_ana2 = [\n",
    "    0.5 * np.exp(\n",
    "        scipy.integrate.quad(integrand, 0, np.inf, args=(lam, gamma, T, t))[0]\n",
    "    )\n",
    "    for t in tlist\n",
    "]"
   ]
  },
  {
   "cell_type": "markdown",
   "id": "30e48e57",
   "metadata": {},
   "source": [
    "## Compare results"
   ]
  },
  {
   "cell_type": "code",
   "execution_count": 21,
   "id": "380e3c76",
   "metadata": {
    "execution": {
     "iopub.execute_input": "2025-08-20T04:02:55.580155Z",
     "iopub.status.busy": "2025-08-20T04:02:55.579949Z",
     "iopub.status.idle": "2025-08-20T04:02:55.724071Z",
     "shell.execute_reply": "2025-08-20T04:02:55.723582Z"
    }
   },
   "outputs": [
    {
     "data": {
      "image/png": "[encoded data removed]",
      "text/plain": [
       "<Figure size 800x800 with 1 Axes>"
      ]
     },
     "metadata": {},
     "output_type": "display_data"
    }
   ],
   "source": [
    "plot_result_expectations([\n",
    "    (resultMats, P12p, 'r', \"P12 Mats\"),\n",
    "    (resultMatsT, P12p, 'r--', \"P12 Mats + Term\"),\n",
    "    (resultPade, P12p, 'b--', \"P12 Pade\"),\n",
    "    (resultFit, P12p, 'g', \"P12 Fit\"),\n",
    "    ((tlist, np.real(P12_ana)), None, 'b', \"Analytic 1\"),\n",
    "    ((tlist, np.real(P12_ana2)), None, 'y--', \"Analytic 2\"),\n",
    "]);"
   ]
  },
  {
   "cell_type": "markdown",
   "id": "1b337c7d",
   "metadata": {},
   "source": [
    "We can't see much difference in the plot above, so let's do a log plot instead:"
   ]
  },
  {
   "cell_type": "code",
   "execution_count": 22,
   "id": "d1f5a2bb",
   "metadata": {
    "execution": {
     "iopub.execute_input": "2025-08-20T04:02:55.725661Z",
     "iopub.status.busy": "2025-08-20T04:02:55.725479Z",
     "iopub.status.idle": "2025-08-20T04:02:56.001233Z",
     "shell.execute_reply": "2025-08-20T04:02:56.000690Z"
    }
   },
   "outputs": [
    {
     "data": {
      "image/png": "[encoded data removed]",
      "text/plain": [
       "<Figure size 800x800 with 1 Axes>"
      ]
     },
     "metadata": {},
     "output_type": "display_data"
    }
   ],
   "source": [
    "fig, axes = plt.subplots(1, 1, sharex=True, figsize=(8, 8))\n",
    "\n",
    "plot_result_expectations([\n",
    "    (resultMats, P12p, 'r', \"P12 Mats\"),\n",
    "    (resultMatsT, P12p, 'r--', \"P12 Mats + Term\"),\n",
    "    (resultPade, P12p, 'b-.', \"P12 Pade\"),\n",
    "    (resultFit, P12p, 'g', \"P12 Fit\"),\n",
    "    ((tlist, np.real(P12_ana)), None, 'b', \"Analytic 1\"),\n",
    "    ((tlist, np.real(P12_ana2)), None, 'y--', \"Analytic 2\"),\n",
    "], axes)\n",
    "\n",
    "axes.set_yscale('log')\n",
    "axes.legend(loc=0, fontsize=12);"
   ]
  },
  {
   "cell_type": "markdown",
   "id": "3df65a9d",
   "metadata": {},
   "source": [
    "## About"
   ]
  },
  {
   "cell_type": "code",
   "execution_count": 23,
   "id": "9d7c0538",
   "metadata": {
    "execution": {
     "iopub.execute_input": "2025-08-20T04:02:56.002705Z",
     "iopub.status.busy": "2025-08-20T04:02:56.002552Z",
     "iopub.status.idle": "2025-08-20T04:02:56.552923Z",
     "shell.execute_reply": "2025-08-20T04:02:56.552430Z"
    }
   },
   "outputs": [
    {
     "name": "stdout",
     "output_type": "stream",
     "text": [
      "\n",
      "QuTiP: Quantum Toolbox in Python\n",
      "================================\n",
      "Copyright (c) QuTiP team 2011 and later.\n",
      "Current admin team: Alexander Pitchford, Nathan Shammah, Shahnawaz Ahmed, Neill Lambert, Eric Giguère, Boxi Li, Simon Cross, Asier Galicia, Paul Menczel, and Patrick Hopf.\n",
      "Board members: Daniel Burgarth, Robert Johansson, Anton F. Kockum, Franco Nori and Will Zeng.\n",
      "Original developers: R. J. Johansson & P. D. Nation.\n",
      "Previous lead developers: Chris Granade & A. Grimsmo.\n",
      "Currently developed through wide collaboration. See https://github.com/qutip for details.\n",
      "\n",
      "QuTiP Version:      5.3.0.dev0+d849c94\n",
      "Numpy Version:      2.3.2\n",
      "Scipy Version:      1.16.1\n",
      "Cython Version:     3.1.3\n",
      "Matplotlib Version: 3.10.5\n",
      "Python Version:     3.12.0\n",
      "Number of CPUs:     4\n",
      "BLAS Info:          Generic\n",
      "INTEL MKL Ext:      None\n",
      "Platform Info:      Linux (x86_64)\n",
      "Installation path:  /home/runner/miniconda3/envs/test-environment-v5/lib/python3.12/site-packages/qutip\n",
      "\n",
      "Installed QuTiP family packages\n",
      "-------------------------------\n",
      "\n",
      "qutip-qtrl: 0.2.0.dev0+acb71a0\n"
     ]
    },
    {
     "name": "stdout",
     "output_type": "stream",
     "text": [
      "qutip-jax: 0.1.1.dev6\n",
      "qutip-qip: 0.5.0.dev0+2db1138\n",
      "\n",
      "================================================================================\n",
      "Please cite QuTiP in your publication.\n",
      "================================================================================\n",
      "For your convenience a bibtex reference can be easily generated using `qutip.cite()`\n"
     ]
    }
   ],
   "source": [
    "about()"
   ]
  },
  {
   "cell_type": "markdown",
   "id": "48753191",
   "metadata": {},
   "source": [
    "## Testing\n",
    "\n",
    "This section can include some tests to verify that the expected outputs are generated within the notebook. We put this section at the end of the notebook, so it's not interfering with the user experience. Please, define the tests using assert, so that the cell execution fails if a wrong output is generated."
   ]
  },
  {
   "cell_type": "code",
   "execution_count": 24,
   "id": "ef85f6d4",
   "metadata": {
    "execution": {
     "iopub.execute_input": "2025-08-20T04:02:56.554454Z",
     "iopub.status.busy": "2025-08-20T04:02:56.554268Z",
     "iopub.status.idle": "2025-08-20T04:02:56.558599Z",
     "shell.execute_reply": "2025-08-20T04:02:56.558155Z"
    }
   },
   "outputs": [],
   "source": [
    "assert np.allclose(\n",
    "    expect(P12p, resultMats.states[:15]), np.real(P12_ana)[:15],\n",
    "    rtol=1e-2,\n",
    ")\n",
    "assert np.allclose(\n",
    "    expect(P12p, resultMatsT.states[:100]), np.real(P12_ana)[:100],\n",
    "    rtol=1e-3,\n",
    ")\n",
    "assert np.allclose(\n",
    "    expect(P12p, resultPade.states[:100]), np.real(P12_ana)[:100],\n",
    "    rtol=1e-3,\n",
    ")\n",
    "assert np.allclose(\n",
    "    expect(P12p, resultFit.states[:50]), np.real(P12_ana)[:50],\n",
    "    rtol=1e-3,\n",
    ")\n",
    "assert np.allclose(P12_ana, P12_ana2, rtol=1e-3)"
   ]
  }
 ],
 "metadata": {
  "jupytext": {
   "default_lexer": "ipython3"
  },
  "kernelspec": {
   "display_name": "Python 3 (ipykernel)",
   "language": "python",
   "name": "python3"
  },
  "language_info": {
   "codemirror_mode": {
    "name": "ipython",
    "version": 3
   },
   "file_extension": ".py",
   "mimetype": "text/x-python",
   "name": "python",
   "nbconvert_exporter": "python",
   "pygments_lexer": "ipython3",
   "version": "3.12.0"
  }
 },
 "nbformat": 4,
 "nbformat_minor": 5
}
