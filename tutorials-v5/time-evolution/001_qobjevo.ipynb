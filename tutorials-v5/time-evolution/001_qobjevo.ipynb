{
 "cells": [
  {
   "cell_type": "markdown",
   "id": "87975e06",
   "metadata": {},
   "source": [
    "# <code>QobjEvo</code>: time-dependent quantum objects\n",
    "Made by Eric Giguere, updated by Jake Lishman"
   ]
  },
  {
   "cell_type": "code",
   "execution_count": 1,
   "id": "5b3d6ac7",
   "metadata": {
    "execution": {
     "iopub.execute_input": "2025-08-20T04:17:10.569825Z",
     "iopub.status.busy": "2025-08-20T04:17:10.569597Z",
     "iopub.status.idle": "2025-08-20T04:17:11.304704Z",
     "shell.execute_reply": "2025-08-20T04:17:11.304192Z"
    }
   },
   "outputs": [],
   "source": [
    "# Basic setup\n",
    "import numpy as np\n",
    "import qutip\n",
    "\n",
    "size = 4\n",
    "t = 1.0\n",
    "a = qutip.destroy(size)\n",
    "ad = qutip.create(size)\n",
    "n = qutip.num(size)\n",
    "Id = qutip.qeye(size)"
   ]
  },
  {
   "cell_type": "markdown",
   "id": "0e058a42",
   "metadata": {},
   "source": [
    "## Contents\n",
    "\n",
    "- [Motivation](#Motivation)\n",
    "- [Instantiation](#Instantiation)\n",
    "    * [Functional time dependence](#Function-time-dependence)\n",
    "    * [String time dependence](#String-time-dependence)\n",
    "    * [Array dependence](#Array-dependence)\n",
    "- [Evaluation](#Evaluation)\n",
    "- [Compilation](#Compilation)\n",
    "- [Arguments](#Arguments)\n",
    "    * [Function form](#Function-form)\n",
    "    * [String form](#String-form)\n",
    "    * [Using objects](#Using-objects)\n",
    "    * [Dynamic arguments](#Dynamic-arguments)\n",
    "- [Mathematics](#Mathematics)\n",
    "- [Superoperators](#Superoperators)"
   ]
  },
  {
   "cell_type": "markdown",
   "id": "840f96b8",
   "metadata": {},
   "source": [
    "## Motivation\n",
    "A `Qobj` is a generic quantum object, but it only represents constant objects.  When we need to represent time-dependent objects, the relevant functions take a list of `(Qobj, <time-dependence>)` tuples, where the time dependence is a function, a string or an array.  Inside the function, this is then converted into a new, time-dependent class `QobjEvo`.  We then use this for several compilation and optimisation steps to ensure that the solvers run quickly.\n",
    "\n",
    "You do not _need_ to use `QobjEvo`, but if you are planning to reuse some large operators for a long-running integration, you can instantiate one yourself and manually call the C compilation methods.  This will have a one-off start-up cost of a couple of seconds, but will make all uses of it faster afterwards.  This trade-off is often worthwhile if the integration will take over around 15 minutes, even if you do not reuse the object."
   ]
  },
  {
   "cell_type": "markdown",
   "id": "2b78c980",
   "metadata": {},
   "source": [
    "## Instantiation\n",
    "\n",
    "`QobjEvo` is instantiated with the same time-dependent list that is passed to, say, `mesolve`.  This doesn't even _have_ to be time dependent, but constant ones will not have significant benefits over varying ones.  The three types of scalar time dependence are:\n",
    "  - function\n",
    "  - string\n",
    "  - array\n",
    "\n",
    "This can represent objects of the form\n",
    "$$\n",
    "A(t) = \\sum_k f_k(t) A_k\n",
    "$$\n",
    "where the $f_k(t)$ are time-dependent scalars, and the $A_k$ are constant `Qobj` objects.  The list then looks like\n",
    "```\n",
    "[A0, [A1, f1], [A2, f2], ...]\n",
    "```\n",
    "where all the `Ak` are constant `Qobj`s, and the `fk` are time dependences in one of the available forms.\n",
    "\n",
    "Alternatively, `QobjEvo` can be created by multiplication of `Qobj` with wrapped time dependences:\n",
    "```\n",
    "A0 + A1 * qutip.coefficient(f1, ...) + ...\n",
    "```"
   ]
  },
  {
   "cell_type": "code",
   "execution_count": 2,
   "id": "b11a8c73",
   "metadata": {
    "execution": {
     "iopub.execute_input": "2025-08-20T04:17:11.306481Z",
     "iopub.status.busy": "2025-08-20T04:17:11.306213Z",
     "iopub.status.idle": "2025-08-20T04:17:11.308841Z",
     "shell.execute_reply": "2025-08-20T04:17:11.308424Z"
    }
   },
   "outputs": [],
   "source": [
    "constant_form = qutip.QobjEvo([n])"
   ]
  },
  {
   "cell_type": "markdown",
   "id": "b079d5a1",
   "metadata": {},
   "source": [
    "### Function time dependence\n",
    "\n",
    "This should be a valid Python function with the signature\n",
    "```python\n",
    "(t: float, ...) -> complex\n",
    "```\n",
    "where `t` is the time. Additional arguments that can be changed without needing a new `QobjEvo` can be added. The return value is the complex value of $f_k$.  We'll look more at extra arguments later."
   ]
  },
  {
   "cell_type": "code",
   "execution_count": 3,
   "id": "6478f1d5",
   "metadata": {
    "execution": {
     "iopub.execute_input": "2025-08-20T04:17:11.310095Z",
     "iopub.status.busy": "2025-08-20T04:17:11.309950Z",
     "iopub.status.idle": "2025-08-20T04:17:11.312489Z",
     "shell.execute_reply": "2025-08-20T04:17:11.312099Z"
    }
   },
   "outputs": [],
   "source": [
    "def cos_t(t):\n",
    "    return np.cos(t)\n",
    "\n",
    "\n",
    "function_form = n + (a + ad) * qutip.coefficient(cos_t)"
   ]
  },
  {
   "cell_type": "markdown",
   "id": "2ca958dd",
   "metadata": {},
   "source": [
    "If you need something more complex, such as a state with memory or to build a parametrised set of functions where the arguments will not change once set, you can use a class which implements `__call__`."
   ]
  },
  {
   "cell_type": "code",
   "execution_count": 4,
   "id": "fef1ac8e",
   "metadata": {
    "execution": {
     "iopub.execute_input": "2025-08-20T04:17:11.313793Z",
     "iopub.status.busy": "2025-08-20T04:17:11.313640Z",
     "iopub.status.idle": "2025-08-20T04:17:11.316510Z",
     "shell.execute_reply": "2025-08-20T04:17:11.316021Z"
    }
   },
   "outputs": [],
   "source": [
    "class callable_time_dependence:\n",
    "    def __init__(self, add):\n",
    "        self.add = add\n",
    "\n",
    "    def __call__(self, t, args):\n",
    "        return self.add + np.cos(t)\n",
    "\n",
    "\n",
    "callable_form = qutip.QobjEvo([n, [a + ad, callable_time_dependence(2)]])"
   ]
  },
  {
   "cell_type": "markdown",
   "id": "cb771439",
   "metadata": {},
   "source": [
    "### String time dependence\n",
    "\n",
    "This should be a valid single Python expression that evaluates to a `complex`.  Roughly, if you could do `eval(x)` and get a valid `complex`, you will be fine.  In addition to `t` being the time, the following symbols are also defined in scope with their usual definitions:\n",
    "```\n",
    "sin  cos  tan   asin  acos  atan\n",
    "sinh cosh tanh  asinh acosh atanh  \n",
    "exp  log  log10 erf   zerf  sqrt  \n",
    "real imag conj  abs   norm  arg\n",
    "proj pi\n",
    "```\n",
    "In addition, `np` refers to `numpy` and `spe` to `scipy.special`."
   ]
  },
  {
   "cell_type": "code",
   "execution_count": 5,
   "id": "fbd64121",
   "metadata": {
    "execution": {
     "iopub.execute_input": "2025-08-20T04:17:11.317796Z",
     "iopub.status.busy": "2025-08-20T04:17:11.317641Z",
     "iopub.status.idle": "2025-08-20T04:17:11.320587Z",
     "shell.execute_reply": "2025-08-20T04:17:11.320155Z"
    }
   },
   "outputs": [
    {
     "name": "stderr",
     "output_type": "stream",
     "text": [
      "/home/runner/miniconda3/envs/test-environment-v5/lib/python3.12/site-packages/qutip/core/coefficient.py:423: UserWarning: `cython`, `setuptools` and `filelock` are required for compilation of string coefficents. Falling back on `eval`.\n",
      "  warnings.warn(\n"
     ]
    }
   ],
   "source": [
    "string_form = qutip.QobjEvo([n, [a + ad, \"cos(t)\"]])"
   ]
  },
  {
   "cell_type": "markdown",
   "id": "3a5b04d5",
   "metadata": {},
   "source": [
    "### Array dependence\n",
    "\n",
    "If the time dependence is particularly costly to compute, you may pass an array containing the value of the functions evaluated at different times, and separately pass the corresponding list of times to the `tlist` keyword argument of the `QobjEvo` constructor.  All times inbetween will be interpolated with cubic splines.\n",
    "\n",
    "The times in `tlist` must be sorted, but they don't need to be evenly distributed.  If you use this for more than one entry, all entries must have the same values for `tlist` (you can only pass one)."
   ]
  },
  {
   "cell_type": "code",
   "execution_count": 6,
   "id": "fd213b65",
   "metadata": {
    "execution": {
     "iopub.execute_input": "2025-08-20T04:17:11.321875Z",
     "iopub.status.busy": "2025-08-20T04:17:11.321712Z",
     "iopub.status.idle": "2025-08-20T04:17:11.325048Z",
     "shell.execute_reply": "2025-08-20T04:17:11.324666Z"
    }
   },
   "outputs": [],
   "source": [
    "tlist = np.linspace(0, 10, 101)\n",
    "values = np.cos(tlist)\n",
    "\n",
    "array_form = n + (a + ad) * qutip.coefficient(values, tlist=tlist)"
   ]
  },
  {
   "cell_type": "markdown",
   "id": "48dc83c5",
   "metadata": {},
   "source": [
    "## Evaluation\n",
    "\n",
    "No matter what type of time dependence was used, or even if only a constant was created, you can always call your `QobjEvo` instance like a function to get the value at that time.  This will return a `Qobj`."
   ]
  },
  {
   "cell_type": "code",
   "execution_count": 7,
   "id": "419d7493",
   "metadata": {
    "execution": {
     "iopub.execute_input": "2025-08-20T04:17:11.326532Z",
     "iopub.status.busy": "2025-08-20T04:17:11.326355Z",
     "iopub.status.idle": "2025-08-20T04:17:11.331398Z",
     "shell.execute_reply": "2025-08-20T04:17:11.330928Z"
    }
   },
   "outputs": [
    {
     "data": {
      "text/latex": [
       "Quantum object: dims=[[4], [4]], shape=(4, 4), type='oper', dtype=Dia, isherm=True$$\\left(\\begin{array}{cc}0 & 0 & 0 & 0\\\\0 & 1 & 0 & 0\\\\0 & 0 & 2 & 0\\\\0 & 0 & 0 & 3\\end{array}\\right)$$"
      ],
      "text/plain": [
       "Quantum object: dims=[[4], [4]], shape=(4, 4), type='oper', dtype=Dia, isherm=True\n",
       "Qobj data =\n",
       "[[0. 0. 0. 0.]\n",
       " [0. 1. 0. 0.]\n",
       " [0. 0. 2. 0.]\n",
       " [0. 0. 0. 3.]]"
      ]
     },
     "execution_count": 7,
     "metadata": {},
     "output_type": "execute_result"
    }
   ],
   "source": [
    "constant_form(2)"
   ]
  },
  {
   "cell_type": "code",
   "execution_count": 8,
   "id": "c29e54dd",
   "metadata": {
    "execution": {
     "iopub.execute_input": "2025-08-20T04:17:11.332653Z",
     "iopub.status.busy": "2025-08-20T04:17:11.332490Z",
     "iopub.status.idle": "2025-08-20T04:17:11.335882Z",
     "shell.execute_reply": "2025-08-20T04:17:11.335407Z"
    }
   },
   "outputs": [
    {
     "data": {
      "text/latex": [
       "Quantum object: dims=[[4], [4]], shape=(4, 4), type='oper', dtype=Dia, isherm=True$$\\left(\\begin{array}{cc}0 & -0.416 & 0 & 0\\\\-0.416 & 1 & -0.589 & 0\\\\0 & -0.589 & 2 & -0.721\\\\0 & 0 & -0.721 & 3\\end{array}\\right)$$"
      ],
      "text/plain": [
       "Quantum object: dims=[[4], [4]], shape=(4, 4), type='oper', dtype=Dia, isherm=True\n",
       "Qobj data =\n",
       "[[ 0.         -0.41614684  0.          0.        ]\n",
       " [-0.41614684  1.         -0.5885205   0.        ]\n",
       " [ 0.         -0.5885205   2.         -0.72078746]\n",
       " [ 0.          0.         -0.72078746  3.        ]]"
      ]
     },
     "execution_count": 8,
     "metadata": {},
     "output_type": "execute_result"
    }
   ],
   "source": [
    "function_form(2)"
   ]
  },
  {
   "cell_type": "code",
   "execution_count": 9,
   "id": "df74a3ce",
   "metadata": {
    "execution": {
     "iopub.execute_input": "2025-08-20T04:17:11.337103Z",
     "iopub.status.busy": "2025-08-20T04:17:11.336946Z",
     "iopub.status.idle": "2025-08-20T04:17:11.340353Z",
     "shell.execute_reply": "2025-08-20T04:17:11.339861Z"
    }
   },
   "outputs": [
    {
     "data": {
      "text/latex": [
       "Quantum object: dims=[[4], [4]], shape=(4, 4), type='oper', dtype=Dia, isherm=True$$\\left(\\begin{array}{cc}0 & 1.584 & 0 & 0\\\\1.584 & 1 & 2.240 & 0\\\\0 & 2.240 & 2 & 2.743\\\\0 & 0 & 2.743 & 3\\end{array}\\right)$$"
      ],
      "text/plain": [
       "Quantum object: dims=[[4], [4]], shape=(4, 4), type='oper', dtype=Dia, isherm=True\n",
       "Qobj data =\n",
       "[[0.         1.58385316 0.         0.        ]\n",
       " [1.58385316 1.         2.23990662 0.        ]\n",
       " [0.         2.23990662 2.         2.74331415]\n",
       " [0.         0.         2.74331415 3.        ]]"
      ]
     },
     "execution_count": 9,
     "metadata": {},
     "output_type": "execute_result"
    }
   ],
   "source": [
    "callable_form(2)"
   ]
  },
  {
   "cell_type": "code",
   "execution_count": 10,
   "id": "b921f7c4",
   "metadata": {
    "execution": {
     "iopub.execute_input": "2025-08-20T04:17:11.341885Z",
     "iopub.status.busy": "2025-08-20T04:17:11.341703Z",
     "iopub.status.idle": "2025-08-20T04:17:11.344935Z",
     "shell.execute_reply": "2025-08-20T04:17:11.344560Z"
    }
   },
   "outputs": [
    {
     "data": {
      "text/latex": [
       "Quantum object: dims=[[4], [4]], shape=(4, 4), type='oper', dtype=Dia, isherm=True$$\\left(\\begin{array}{cc}0 & -0.416 & 0 & 0\\\\-0.416 & 1 & -0.589 & 0\\\\0 & -0.589 & 2 & -0.721\\\\0 & 0 & -0.721 & 3\\end{array}\\right)$$"
      ],
      "text/plain": [
       "Quantum object: dims=[[4], [4]], shape=(4, 4), type='oper', dtype=Dia, isherm=True\n",
       "Qobj data =\n",
       "[[ 0.         -0.41614684  0.          0.        ]\n",
       " [-0.41614684  1.         -0.5885205   0.        ]\n",
       " [ 0.         -0.5885205   2.         -0.72078746]\n",
       " [ 0.          0.         -0.72078746  3.        ]]"
      ]
     },
     "execution_count": 10,
     "metadata": {},
     "output_type": "execute_result"
    }
   ],
   "source": [
    "string_form(2)"
   ]
  },
  {
   "cell_type": "code",
   "execution_count": 11,
   "id": "a9803470",
   "metadata": {
    "execution": {
     "iopub.execute_input": "2025-08-20T04:17:11.346202Z",
     "iopub.status.busy": "2025-08-20T04:17:11.346052Z",
     "iopub.status.idle": "2025-08-20T04:17:11.349500Z",
     "shell.execute_reply": "2025-08-20T04:17:11.349008Z"
    },
    "lines_to_next_cell": 2
   },
   "outputs": [
    {
     "data": {
      "text/latex": [
       "Quantum object: dims=[[4], [4]], shape=(4, 4), type='oper', dtype=Dia, isherm=True$$\\left(\\begin{array}{cc}0 & -0.416 & 0 & 0\\\\-0.416 & 1 & -0.589 & 0\\\\0 & -0.589 & 2 & -0.721\\\\0 & 0 & -0.721 & 3\\end{array}\\right)$$"
      ],
      "text/plain": [
       "Quantum object: dims=[[4], [4]], shape=(4, 4), type='oper', dtype=Dia, isherm=True\n",
       "Qobj data =\n",
       "[[ 0.         -0.41614684  0.          0.        ]\n",
       " [-0.41614684  1.         -0.5885205   0.        ]\n",
       " [ 0.         -0.5885205   2.         -0.72078746]\n",
       " [ 0.          0.         -0.72078746  3.        ]]"
      ]
     },
     "execution_count": 11,
     "metadata": {},
     "output_type": "execute_result"
    }
   ],
   "source": [
    "array_form(2)"
   ]
  },
  {
   "cell_type": "code",
   "execution_count": 12,
   "id": "ee59bbf3",
   "metadata": {
    "execution": {
     "iopub.execute_input": "2025-08-20T04:17:11.350759Z",
     "iopub.status.busy": "2025-08-20T04:17:11.350603Z",
     "iopub.status.idle": "2025-08-20T04:17:11.353963Z",
     "shell.execute_reply": "2025-08-20T04:17:11.353495Z"
    }
   },
   "outputs": [
    {
     "data": {
      "text/latex": [
       "Quantum object: dims=[[4], [4]], shape=(4, 4), type='oper', dtype=Dia, isherm=True$$\\left(\\begin{array}{cc}0 & -0.654 & 0 & 0\\\\-0.654 & 1 & -0.924 & 0\\\\0 & -0.924 & 2 & -1.132\\\\0 & 0 & -1.132 & 3\\end{array}\\right)$$"
      ],
      "text/plain": [
       "Quantum object: dims=[[4], [4]], shape=(4, 4), type='oper', dtype=Dia, isherm=True\n",
       "Qobj data =\n",
       "[[ 0.         -0.65364362  0.          0.        ]\n",
       " [-0.65364362  1.         -0.92439167  0.        ]\n",
       " [ 0.         -0.92439167  2.         -1.13214396]\n",
       " [ 0.          0.         -1.13214396  3.        ]]"
      ]
     },
     "execution_count": 12,
     "metadata": {},
     "output_type": "execute_result"
    }
   ],
   "source": [
    "string_form(4)"
   ]
  },
  {
   "cell_type": "markdown",
   "id": "792fde94",
   "metadata": {},
   "source": [
    "## Arguments\n",
    "\n",
    "Data can be passed to the coefficient functions or strings using an `args` dictionary.  In the functional form, this is passed as an explicit parameter.  In the string form, `args` acts like additional variable definitions for the scope of the function.  In other words, `'x + 2'` will work and return a value if, for example, `args` is `{'x': 1}`.  \n",
    "The keys of `args` should always be strings representing valid Python identifiers (variable names), and they should not begin with an underscore (\\_).\n",
    "\n",
    "Values _can_ be any type, but if Cython compilation is used with string dependence, there will be a large performance penalty for using anything other than valid C numeric types (including `complex`), `numpy` arrays, or any object that Cython cannot call natively.\n",
    "\n",
    "You can pass `args` directly at instantiation, and these will be used in every call, unless you specifically override them using the `args` keyword argument in the call.  The overriding is temporary, and all subsequent calls will use the values given at initialisation."
   ]
  },
  {
   "cell_type": "markdown",
   "id": "6d904f95",
   "metadata": {},
   "source": [
    "### Function form"
   ]
  },
  {
   "cell_type": "code",
   "execution_count": 13,
   "id": "e007bd0d",
   "metadata": {
    "execution": {
     "iopub.execute_input": "2025-08-20T04:17:11.355335Z",
     "iopub.status.busy": "2025-08-20T04:17:11.355178Z",
     "iopub.status.idle": "2025-08-20T04:17:11.358861Z",
     "shell.execute_reply": "2025-08-20T04:17:11.358491Z"
    }
   },
   "outputs": [
    {
     "data": {
      "text/latex": [
       "Quantum object: dims=[[4], [4]], shape=(4, 4), type='oper', dtype=Dia, isherm=True$$\\left(\\begin{array}{cc}3 & 0 & 0 & 0\\\\0 & 3 & 0 & 0\\\\0 & 0 & 3 & 0\\\\0 & 0 & 0 & 3\\end{array}\\right)$$"
      ],
      "text/plain": [
       "Quantum object: dims=[[4], [4]], shape=(4, 4), type='oper', dtype=Dia, isherm=True\n",
       "Qobj data =\n",
       "[[3. 0. 0. 0.]\n",
       " [0. 3. 0. 0.]\n",
       " [0. 0. 3. 0.]\n",
       " [0. 0. 0. 3.]]"
      ]
     },
     "execution_count": 13,
     "metadata": {},
     "output_type": "execute_result"
    }
   ],
   "source": [
    "def coeff_with_args(t, args):\n",
    "    return t + args[\"delta\"]\n",
    "\n",
    "\n",
    "td_args = Id * qutip.coefficient(coeff_with_args, args={\"delta\": 1.0})\n",
    "td_args(2)"
   ]
  },
  {
   "cell_type": "code",
   "execution_count": 14,
   "id": "483d9ac3",
   "metadata": {
    "execution": {
     "iopub.execute_input": "2025-08-20T04:17:11.360212Z",
     "iopub.status.busy": "2025-08-20T04:17:11.360062Z",
     "iopub.status.idle": "2025-08-20T04:17:11.363168Z",
     "shell.execute_reply": "2025-08-20T04:17:11.362796Z"
    }
   },
   "outputs": [
    {
     "data": {
      "text/latex": [
       "Quantum object: dims=[[4], [4]], shape=(4, 4), type='oper', dtype=Dia, isherm=True$$\\left(\\begin{array}{cc}12 & 0 & 0 & 0\\\\0 & 12 & 0 & 0\\\\0 & 0 & 12 & 0\\\\0 & 0 & 0 & 12\\end{array}\\right)$$"
      ],
      "text/plain": [
       "Quantum object: dims=[[4], [4]], shape=(4, 4), type='oper', dtype=Dia, isherm=True\n",
       "Qobj data =\n",
       "[[12.  0.  0.  0.]\n",
       " [ 0. 12.  0.  0.]\n",
       " [ 0.  0. 12.  0.]\n",
       " [ 0.  0.  0. 12.]]"
      ]
     },
     "execution_count": 14,
     "metadata": {},
     "output_type": "execute_result"
    }
   ],
   "source": [
    "# Temporarily overriding the arguments.\n",
    "td_args(2, delta=10)"
   ]
  },
  {
   "cell_type": "code",
   "execution_count": 15,
   "id": "e20dae23",
   "metadata": {
    "execution": {
     "iopub.execute_input": "2025-08-20T04:17:11.364440Z",
     "iopub.status.busy": "2025-08-20T04:17:11.364273Z",
     "iopub.status.idle": "2025-08-20T04:17:11.367445Z",
     "shell.execute_reply": "2025-08-20T04:17:11.367000Z"
    }
   },
   "outputs": [
    {
     "data": {
      "text/latex": [
       "Quantum object: dims=[[4], [4]], shape=(4, 4), type='oper', dtype=Dia, isherm=True$$\\left(\\begin{array}{cc}3 & 0 & 0 & 0\\\\0 & 3 & 0 & 0\\\\0 & 0 & 3 & 0\\\\0 & 0 & 0 & 3\\end{array}\\right)$$"
      ],
      "text/plain": [
       "Quantum object: dims=[[4], [4]], shape=(4, 4), type='oper', dtype=Dia, isherm=True\n",
       "Qobj data =\n",
       "[[3. 0. 0. 0.]\n",
       " [0. 3. 0. 0.]\n",
       " [0. 0. 3. 0.]\n",
       " [0. 0. 0. 3.]]"
      ]
     },
     "execution_count": 15,
     "metadata": {},
     "output_type": "execute_result"
    }
   ],
   "source": [
    "# A subsequent regular call will still use the args given at initialisation.\n",
    "td_args(2)"
   ]
  },
  {
   "cell_type": "markdown",
   "id": "c5684f80",
   "metadata": {},
   "source": [
    "### String form"
   ]
  },
  {
   "cell_type": "code",
   "execution_count": 16,
   "id": "47b3ef69",
   "metadata": {
    "execution": {
     "iopub.execute_input": "2025-08-20T04:17:11.368722Z",
     "iopub.status.busy": "2025-08-20T04:17:11.368576Z",
     "iopub.status.idle": "2025-08-20T04:17:11.372164Z",
     "shell.execute_reply": "2025-08-20T04:17:11.371679Z"
    }
   },
   "outputs": [
    {
     "data": {
      "text/latex": [
       "Quantum object: dims=[[4], [4]], shape=(4, 4), type='oper', dtype=Dia, isherm=True$$\\left(\\begin{array}{cc}3 & 0 & 0 & 0\\\\0 & 3 & 0 & 0\\\\0 & 0 & 3 & 0\\\\0 & 0 & 0 & 3\\end{array}\\right)$$"
      ],
      "text/plain": [
       "Quantum object: dims=[[4], [4]], shape=(4, 4), type='oper', dtype=Dia, isherm=True\n",
       "Qobj data =\n",
       "[[3. 0. 0. 0.]\n",
       " [0. 3. 0. 0.]\n",
       " [0. 0. 3. 0.]\n",
       " [0. 0. 0. 3.]]"
      ]
     },
     "execution_count": 16,
     "metadata": {},
     "output_type": "execute_result"
    }
   ],
   "source": [
    "td_args_str = qutip.QobjEvo([Id, \"t + delta\"], args={\"delta\": 1.0})\n",
    "td_args_str(2)"
   ]
  },
  {
   "cell_type": "code",
   "execution_count": 17,
   "id": "047f2228",
   "metadata": {
    "execution": {
     "iopub.execute_input": "2025-08-20T04:17:11.373458Z",
     "iopub.status.busy": "2025-08-20T04:17:11.373276Z",
     "iopub.status.idle": "2025-08-20T04:17:11.376878Z",
     "shell.execute_reply": "2025-08-20T04:17:11.376400Z"
    }
   },
   "outputs": [
    {
     "data": {
      "text/latex": [
       "Quantum object: dims=[[4], [4]], shape=(4, 4), type='oper', dtype=Dia, isherm=True$$\\left(\\begin{array}{cc}12 & 0 & 0 & 0\\\\0 & 12 & 0 & 0\\\\0 & 0 & 12 & 0\\\\0 & 0 & 0 & 12\\end{array}\\right)$$"
      ],
      "text/plain": [
       "Quantum object: dims=[[4], [4]], shape=(4, 4), type='oper', dtype=Dia, isherm=True\n",
       "Qobj data =\n",
       "[[12.  0.  0.  0.]\n",
       " [ 0. 12.  0.  0.]\n",
       " [ 0.  0. 12.  0.]\n",
       " [ 0.  0.  0. 12.]]"
      ]
     },
     "execution_count": 17,
     "metadata": {},
     "output_type": "execute_result"
    }
   ],
   "source": [
    "td_args_str(2, {\"delta\": 10})"
   ]
  },
  {
   "cell_type": "markdown",
   "id": "11148312",
   "metadata": {},
   "source": [
    "### Multiple arguments\n",
    "\n",
    "Each term in the `QobjEvo` has its own arguments even if they share the variable name:"
   ]
  },
  {
   "cell_type": "code",
   "execution_count": 18,
   "id": "41085737",
   "metadata": {
    "execution": {
     "iopub.execute_input": "2025-08-20T04:17:11.378135Z",
     "iopub.status.busy": "2025-08-20T04:17:11.377978Z",
     "iopub.status.idle": "2025-08-20T04:17:11.382256Z",
     "shell.execute_reply": "2025-08-20T04:17:11.381788Z"
    }
   },
   "outputs": [
    {
     "data": {
      "text/latex": [
       "Quantum object: dims=[[4], [4]], shape=(4, 4), type='oper', dtype=Dia, isherm=True$$\\left(\\begin{array}{cc}0 & 1j & 0 & 0\\\\-1j & 1 & 1.414j & 0\\\\0 & -1.414j & 2 & 1.732j\\\\0 & 0 & -1.732j & 3\\end{array}\\right)$$"
      ],
      "text/plain": [
       "Quantum object: dims=[[4], [4]], shape=(4, 4), type='oper', dtype=Dia, isherm=True\n",
       "Qobj data =\n",
       "[[0.+0.j         0.+1.j         0.+0.j         0.+0.j        ]\n",
       " [0.-1.j         1.+0.j         0.+1.41421356j 0.+0.j        ]\n",
       " [0.+0.j         0.-1.41421356j 2.+0.j         0.+1.73205081j]\n",
       " [0.+0.j         0.+0.j         0.-1.73205081j 3.+0.j        ]]"
      ]
     },
     "execution_count": 18,
     "metadata": {},
     "output_type": "execute_result"
    }
   ],
   "source": [
    "def f(t, w):\n",
    "    return np.exp(1j * np.pi * w * t)\n",
    "\n",
    "\n",
    "qevo = (\n",
    "    n\n",
    "    + a * qutip.coefficient(f, args={\"w\": 0.5})\n",
    "    + a.dag() * qutip.coefficient(f, args={\"w\": -0.5})\n",
    ")\n",
    "qevo(1)"
   ]
  },
  {
   "cell_type": "code",
   "execution_count": 19,
   "id": "c7861538",
   "metadata": {
    "execution": {
     "iopub.execute_input": "2025-08-20T04:17:11.383551Z",
     "iopub.status.busy": "2025-08-20T04:17:11.383368Z",
     "iopub.status.idle": "2025-08-20T04:17:11.386859Z",
     "shell.execute_reply": "2025-08-20T04:17:11.386488Z"
    }
   },
   "outputs": [
    {
     "data": {
      "text/latex": [
       "Quantum object: dims=[[4], [4]], shape=(4, 4), type='oper', dtype=Dia, isherm=True$$\\left(\\begin{array}{cc}0 & -1 & 0 & 0\\\\-1 & 1 & -1.414 & 0\\\\0 & -1.414 & 2 & -1.732\\\\0 & 0 & -1.732 & 3\\end{array}\\right)$$"
      ],
      "text/plain": [
       "Quantum object: dims=[[4], [4]], shape=(4, 4), type='oper', dtype=Dia, isherm=True\n",
       "Qobj data =\n",
       "[[ 0.         -1.          0.          0.        ]\n",
       " [-1.          1.         -1.41421356  0.        ]\n",
       " [ 0.         -1.41421356  2.         -1.73205081]\n",
       " [ 0.          0.         -1.73205081  3.        ]]"
      ]
     },
     "execution_count": 19,
     "metadata": {},
     "output_type": "execute_result"
    }
   ],
   "source": [
    "# However overwritting the args with change them all:\n",
    "qevo(1, w=1)"
   ]
  },
  {
   "cell_type": "markdown",
   "id": "55af20b7",
   "metadata": {},
   "source": [
    "### Using objects\n",
    "\n",
    "The argument value need not just be a number. Even strings can accept functions which Cython can call natively, such as the core `numpy` functions."
   ]
  },
  {
   "cell_type": "code",
   "execution_count": 20,
   "id": "e9d316e6",
   "metadata": {
    "execution": {
     "iopub.execute_input": "2025-08-20T04:17:11.388151Z",
     "iopub.status.busy": "2025-08-20T04:17:11.387998Z",
     "iopub.status.idle": "2025-08-20T04:17:11.391518Z",
     "shell.execute_reply": "2025-08-20T04:17:11.391028Z"
    }
   },
   "outputs": [
    {
     "data": {
      "text/latex": [
       "Quantum object: dims=[[4], [4]], shape=(4, 4), type='oper', dtype=Dia, isherm=True$$\\left(\\begin{array}{cc}1 & 0 & 0 & 0\\\\0 & 1 & 0 & 0\\\\0 & 0 & 1 & 0\\\\0 & 0 & 0 & 1\\end{array}\\right)$$"
      ],
      "text/plain": [
       "Quantum object: dims=[[4], [4]], shape=(4, 4), type='oper', dtype=Dia, isherm=True\n",
       "Qobj data =\n",
       "[[1. 0. 0. 0.]\n",
       " [0. 1. 0. 0.]\n",
       " [0. 0. 1. 0.]\n",
       " [0. 0. 0. 1.]]"
      ]
     },
     "execution_count": 20,
     "metadata": {},
     "output_type": "execute_result"
    }
   ],
   "source": [
    "td_args_str = qutip.QobjEvo([Id, \"f(t)\"], args={\"f\": np.cos})\n",
    "td_args_str(0.0)"
   ]
  },
  {
   "cell_type": "code",
   "execution_count": 21,
   "id": "4917606c",
   "metadata": {
    "execution": {
     "iopub.execute_input": "2025-08-20T04:17:11.392765Z",
     "iopub.status.busy": "2025-08-20T04:17:11.392604Z",
     "iopub.status.idle": "2025-08-20T04:17:11.395915Z",
     "shell.execute_reply": "2025-08-20T04:17:11.395453Z"
    }
   },
   "outputs": [
    {
     "data": {
      "text/latex": [
       "Quantum object: dims=[[4], [4]], shape=(4, 4), type='oper', dtype=Dia, isherm=True$$\\left(\\begin{array}{cc}-1 & 0 & 0 & 0\\\\0 & -1 & 0 & 0\\\\0 & 0 & -1 & 0\\\\0 & 0 & 0 & -1\\end{array}\\right)$$"
      ],
      "text/plain": [
       "Quantum object: dims=[[4], [4]], shape=(4, 4), type='oper', dtype=Dia, isherm=True\n",
       "Qobj data =\n",
       "[[-1.  0.  0.  0.]\n",
       " [ 0. -1.  0.  0.]\n",
       " [ 0.  0. -1.  0.]\n",
       " [ 0.  0.  0. -1.]]"
      ]
     },
     "execution_count": 21,
     "metadata": {},
     "output_type": "execute_result"
    }
   ],
   "source": [
    "td_args_str(np.pi)"
   ]
  },
  {
   "cell_type": "markdown",
   "id": "56d8d37c",
   "metadata": {},
   "source": [
    "### Dynamic arguments\n",
    "\n",
    "When `QobjEvo` is used in the solvers, the solver states, derivated values or other internal values can be made available as arguments.\n",
    "\n",
    "These values are set from method to the solver classes:\n",
    "\n",
    "Most solver support:\n",
    "\n",
    "  - `StateFeedback`: state as a `Qobj` or qutip `Data`.\n",
    "  - `ExpectFeedback`: Expectation value computed from the state.\n",
    "\n",
    "Additionnally `mcsolve` has `CollapseFeedback` to get the collaspe list and stochastic solvers have `WienerFeedback` that returns the Wiener function along the trajectory.\n",
    "\n",
    "They all take a `default` input that specifies the value to be used when the `QobjEvo` is accessed outside of a solver. This value must be a valid input for the `QobjEvo` -- it will be used during solver setup."
   ]
  },
  {
   "cell_type": "code",
   "execution_count": 22,
   "id": "42d4c521",
   "metadata": {
    "execution": {
     "iopub.execute_input": "2025-08-20T04:17:11.397238Z",
     "iopub.status.busy": "2025-08-20T04:17:11.397079Z",
     "iopub.status.idle": "2025-08-20T04:17:11.403154Z",
     "shell.execute_reply": "2025-08-20T04:17:11.402770Z"
    }
   },
   "outputs": [
    {
     "name": "stdout",
     "output_type": "stream",
     "text": [
      "'state':\n",
      "Quantum object: dims=[[4], [4]], shape=(4, 4), type='oper', dtype=Dia, isherm=True\n",
      "Qobj data =\n",
      "[[0. 0. 0. 0.]\n",
      " [0. 0. 0. 0.]\n",
      " [0. 0. 1. 0.]\n",
      " [0. 0. 0. 0.]]\n",
      "'state':\n",
      "Quantum object: dims=[[4], [4]], shape=(4, 4), type='oper', dtype=Dia, isherm=True\n",
      "Qobj data =\n",
      "[[0. 0. 0. 0.]\n",
      " [0. 0. 0. 0.]\n",
      " [0. 0. 1. 0.]\n",
      " [0. 0. 0. 0.]]\n"
     ]
    },
    {
     "data": {
      "text/latex": [
       "Quantum object: dims=[[4], [4]], shape=(4, 4), type='oper', dtype=Dia, isherm=True$$\\left(\\begin{array}{cc}1.500 & 0 & 0 & 0\\\\0 & 1.500 & 0 & 0\\\\0 & 0 & 1.500 & 0\\\\0 & 0 & 0 & 1.500\\end{array}\\right)$$"
      ],
      "text/plain": [
       "Quantum object: dims=[[4], [4]], shape=(4, 4), type='oper', dtype=Dia, isherm=True\n",
       "Qobj data =\n",
       "[[1.5 0.  0.  0. ]\n",
       " [0.  1.5 0.  0. ]\n",
       " [0.  0.  1.5 0. ]\n",
       " [0.  0.  0.  1.5]]"
      ]
     },
     "execution_count": 22,
     "metadata": {},
     "output_type": "execute_result"
    }
   ],
   "source": [
    "args = {\"state\": qutip.MESolver.StateFeedback(default=qutip.fock_dm(4, 2))}\n",
    "\n",
    "\n",
    "def print_args(t, state):\n",
    "    print(f\"'state':\\n{state}\")\n",
    "    return t + state.norm()\n",
    "\n",
    "\n",
    "td_args = qutip.QobjEvo([Id, print_args], args=args)\n",
    "td_args(0.5)"
   ]
  },
  {
   "cell_type": "markdown",
   "id": "56a1466f",
   "metadata": {},
   "source": [
    "## Mathematics\n",
    "\n",
    "`QobjEvo` supports the basic mathematical operations which make sense for time-dependent quantum objects:\n",
    "  - addition of `QobjEvo` and `Qobj`\n",
    "  - subtraction of `QobjEvo` and `Qobj`\n",
    "  - product with `QobjEvo`, `Qobj` or scalars\n",
    "  - division by a scalar\n",
    "  - negation: `-x`\n",
    "  - conjugation: `QobjEvo.conj()`\n",
    "  - adjoint (dagger): `QobjEvo.dag()`\n",
    "  - transpose: `QobjEvo.trans`"
   ]
  },
  {
   "cell_type": "code",
   "execution_count": 23,
   "id": "65c311db",
   "metadata": {
    "execution": {
     "iopub.execute_input": "2025-08-20T04:17:11.404444Z",
     "iopub.status.busy": "2025-08-20T04:17:11.404265Z",
     "iopub.status.idle": "2025-08-20T04:17:11.407651Z",
     "shell.execute_reply": "2025-08-20T04:17:11.407169Z"
    }
   },
   "outputs": [
    {
     "data": {
      "text/latex": [
       "Quantum object: dims=[[4], [4]], shape=(4, 4), type='oper', dtype=Dia, isherm=True$$\\left(\\begin{array}{cc}0 & 2 & 0 & 0\\\\2 & 2 & 2.828 & 0\\\\0 & 2.828 & 4 & 3.464\\\\0 & 0 & 3.464 & 6\\end{array}\\right)$$"
      ],
      "text/plain": [
       "Quantum object: dims=[[4], [4]], shape=(4, 4), type='oper', dtype=Dia, isherm=True\n",
       "Qobj data =\n",
       "[[0.         2.         0.         0.        ]\n",
       " [2.         2.         2.82842712 0.        ]\n",
       " [0.         2.82842712 4.         3.46410162]\n",
       " [0.         0.         3.46410162 6.        ]]"
      ]
     },
     "execution_count": 23,
     "metadata": {},
     "output_type": "execute_result"
    }
   ],
   "source": [
    "(array_form * 2)(0)"
   ]
  },
  {
   "cell_type": "code",
   "execution_count": 24,
   "id": "156c2e46",
   "metadata": {
    "execution": {
     "iopub.execute_input": "2025-08-20T04:17:11.408874Z",
     "iopub.status.busy": "2025-08-20T04:17:11.408719Z",
     "iopub.status.idle": "2025-08-20T04:17:11.412126Z",
     "shell.execute_reply": "2025-08-20T04:17:11.411670Z"
    }
   },
   "outputs": [
    {
     "data": {
      "text/latex": [
       "Quantum object: dims=[[4], [4]], shape=(4, 4), type='oper', dtype=Dia, isherm=False$$\\left(\\begin{array}{cc}1 & 2 & 0 & 0\\\\1 & 2 & 2.828 & 0\\\\0 & 1.414 & 3 & 3.464\\\\0 & 0 & 1.732 & 4\\end{array}\\right)$$"
      ],
      "text/plain": [
       "Quantum object: dims=[[4], [4]], shape=(4, 4), type='oper', dtype=Dia, isherm=False\n",
       "Qobj data =\n",
       "[[1.         2.         0.         0.        ]\n",
       " [1.         2.         2.82842712 0.        ]\n",
       " [0.         1.41421356 3.         3.46410162]\n",
       " [0.         0.         1.73205081 4.        ]]"
      ]
     },
     "execution_count": 24,
     "metadata": {},
     "output_type": "execute_result"
    }
   ],
   "source": [
    "(array_form + 1 + a)(0)"
   ]
  },
  {
   "cell_type": "markdown",
   "id": "e5b1d373",
   "metadata": {},
   "source": [
    "## Superoperators\n",
    "\n",
    "The functions in `qutip.superoperator` can also be used for `QobjEvo`.  Of particular importance is `liouvillian`, as `mesolve` can take the Liouvillian as its first argument (and will be faster this way), in place of separated Hamiltonians and collapse operators."
   ]
  },
  {
   "cell_type": "code",
   "execution_count": 25,
   "id": "38810469",
   "metadata": {
    "execution": {
     "iopub.execute_input": "2025-08-20T04:17:11.413453Z",
     "iopub.status.busy": "2025-08-20T04:17:11.413281Z",
     "iopub.status.idle": "2025-08-20T04:17:11.419048Z",
     "shell.execute_reply": "2025-08-20T04:17:11.418650Z"
    }
   },
   "outputs": [
    {
     "data": {
      "text/latex": [
       "Quantum object: dims=[[[4], [4]], [[4], [4]]], shape=(16, 16), type='super', dtype=Dia, isherm=False$$\\left(\\begin{array}{cc}0 & -1j & 0 & 0 & 1j & \\cdots & 0 & 0 & 0 & 0 & 0\\\\-1j & (-0.500-1j) & -1.414j & 0 & 0 & \\cdots & 0 & 0 & 0 & 0 & 0\\\\0 & -1.414j & (-2-2j) & -1.732j & 0 & \\cdots & 0 & 0 & 0 & 0 & 0\\\\0 & 0 & -1.732j & (-4.500-3j) & 0 & \\cdots & 0 & 0 & 0 & 0 & 0\\\\1j & 0 & 0 & 0 & (-0.500+1j) & \\cdots & 0 & 0 & 0 & 0 & 0\\\\\\vdots & \\vdots & \\vdots & \\vdots & \\vdots & \\ddots & \\vdots & \\vdots & \\vdots & \\vdots & \\vdots\\\\0 & 0 & 0 & 0 & 0 & \\cdots & (-0.500-1j) & 0 & 0 & 0 & 1.732j\\\\0 & 0 & 0 & 0 & 0 & \\cdots & 0 & (-4.500+3j) & -1j & 0 & 0\\\\0 & 0 & 0 & 0 & 0 & \\cdots & 0 & -1j & (-2+2j) & -1.414j & 0\\\\0 & 0 & 0 & 0 & 0 & \\cdots & 0 & 0 & -1.414j & (-0.500+1j) & -1.732j\\\\0 & 0 & 0 & 0 & 0 & \\cdots & 1.732j & 0 & 0 & -1.732j & 0\\end{array}\\right)$$"
      ],
      "text/plain": [
       "Quantum object: dims=[[[4], [4]], [[4], [4]]], shape=(16, 16), type='super', dtype=Dia, isherm=False\n",
       "Qobj data =\n",
       "[[ 0. +0.j          0. -1.j          0. +0.j          0. +0.j\n",
       "   0. +1.j          0. +0.j          0. +0.j          0. +0.j\n",
       "   0. +0.j          0. +0.j          0. +0.j          0. +0.j\n",
       "   0. +0.j          0. +0.j          0. +0.j          0. +0.j        ]\n",
       " [ 0. -1.j         -0.5-1.j          0. -1.41421356j  0. +0.j\n",
       "   0. +0.j          0. +1.j          0. +0.j          0. +0.j\n",
       "   0. +0.j          0. +0.j          0. +0.j          0. +0.j\n",
       "   0. +0.j          0. +0.j          0. +0.j          0. +0.j        ]\n",
       " [ 0. +0.j          0. -1.41421356j -2. -2.j          0. -1.73205081j\n",
       "   0. +0.j          0. +0.j          0. +1.j          0. +0.j\n",
       "   0. +0.j          0. +0.j          0. +0.j          0. +0.j\n",
       "   0. +0.j          0. +0.j          0. +0.j          0. +0.j        ]\n",
       " [ 0. +0.j          0. +0.j          0. -1.73205081j -4.5-3.j\n",
       "   0. +0.j          0. +0.j          0. +0.j          0. +1.j\n",
       "   0. +0.j          0. +0.j          0. +0.j          0. +0.j\n",
       "   0. +0.j          0. +0.j          0. +0.j          0. +0.j        ]\n",
       " [ 0. +1.j          0. +0.j          0. +0.j          0. +0.j\n",
       "  -0.5+1.j          0. -1.j          0. +0.j          0. +0.j\n",
       "   0. +1.41421356j  0. +0.j          0. +0.j          0. +0.j\n",
       "   0. +0.j          0. +0.j          0. +0.j          0. +0.j        ]\n",
       " [ 0. +0.j          0. +1.j          0. +0.j          0. +0.j\n",
       "   0. -1.j          0. +0.j          0. -1.41421356j  0. +0.j\n",
       "   0. +0.j          0. +1.41421356j  0. +0.j          0. +0.j\n",
       "   0. +0.j          0. +0.j          0. +0.j          0. +0.j        ]\n",
       " [ 0. +0.j          0. +0.j          0. +1.j          0. +0.j\n",
       "   0. +0.j          0. -1.41421356j -0.5-1.j          0. -1.73205081j\n",
       "   0. +0.j          0. +0.j          0. +1.41421356j  0. +0.j\n",
       "   0. +0.j          0. +0.j          0. +0.j          0. +0.j        ]\n",
       " [ 0. +0.j          0. +0.j          0. +0.j          0. +1.j\n",
       "   0. +0.j          0. +0.j          0. -1.73205081j -2. -2.j\n",
       "   0. +0.j          0. +0.j          0. +0.j          0. +1.41421356j\n",
       "   0. +0.j          0. +0.j          0. +0.j          0. +0.j        ]\n",
       " [ 0. +0.j          0. +0.j          0. +0.j          0. +0.j\n",
       "   0. +1.41421356j  0. +0.j          0. +0.j          0. +0.j\n",
       "  -2. +2.j          0. -1.j          0. +0.j          0. +0.j\n",
       "   0. +1.73205081j  0. +0.j          0. +0.j          0. +0.j        ]\n",
       " [ 0. +0.j          0. +0.j          0. +0.j          0. +0.j\n",
       "   0. +0.j          0. +1.41421356j  0. +0.j          0. +0.j\n",
       "   0. -1.j         -0.5+1.j          0. -1.41421356j  0. +0.j\n",
       "   0. +0.j          0. +1.73205081j  0. +0.j          0. +0.j        ]\n",
       " [ 0. +0.j          0. +0.j          0. +0.j          0. +0.j\n",
       "   0. +0.j          0. +0.j          0. +1.41421356j  0. +0.j\n",
       "   0. +0.j          0. -1.41421356j  0. +0.j          0. -1.73205081j\n",
       "   0. +0.j          0. +0.j          0. +1.73205081j  0. +0.j        ]\n",
       " [ 0. +0.j          0. +0.j          0. +0.j          0. +0.j\n",
       "   0. +0.j          0. +0.j          0. +0.j          0. +1.41421356j\n",
       "   0. +0.j          0. +0.j          0. -1.73205081j -0.5-1.j\n",
       "   0. +0.j          0. +0.j          0. +0.j          0. +1.73205081j]\n",
       " [ 0. +0.j          0. +0.j          0. +0.j          0. +0.j\n",
       "   0. +0.j          0. +0.j          0. +0.j          0. +0.j\n",
       "   0. +1.73205081j  0. +0.j          0. +0.j          0. +0.j\n",
       "  -4.5+3.j          0. -1.j          0. +0.j          0. +0.j        ]\n",
       " [ 0. +0.j          0. +0.j          0. +0.j          0. +0.j\n",
       "   0. +0.j          0. +0.j          0. +0.j          0. +0.j\n",
       "   0. +0.j          0. +1.73205081j  0. +0.j          0. +0.j\n",
       "   0. -1.j         -2. +2.j          0. -1.41421356j  0. +0.j        ]\n",
       " [ 0. +0.j          0. +0.j          0. +0.j          0. +0.j\n",
       "   0. +0.j          0. +0.j          0. +0.j          0. +0.j\n",
       "   0. +0.j          0. +0.j          0. +1.73205081j  0. +0.j\n",
       "   0. +0.j          0. -1.41421356j -0.5+1.j          0. -1.73205081j]\n",
       " [ 0. +0.j          0. +0.j          0. +0.j          0. +0.j\n",
       "   0. +0.j          0. +0.j          0. +0.j          0. +0.j\n",
       "   0. +0.j          0. +0.j          0. +0.j          0. +1.73205081j\n",
       "   0. +0.j          0. +0.j          0. -1.73205081j  0. +0.j        ]]"
      ]
     },
     "execution_count": 25,
     "metadata": {},
     "output_type": "execute_result"
    }
   ],
   "source": [
    "liouv = qutip.liouvillian(array_form, c_ops=[constant_form])\n",
    "liouv(0)"
   ]
  },
  {
   "cell_type": "markdown",
   "id": "37b18b8f",
   "metadata": {},
   "source": [
    "## Epilogue"
   ]
  },
  {
   "cell_type": "code",
   "execution_count": 26,
   "id": "30bd4eb5",
   "metadata": {
    "execution": {
     "iopub.execute_input": "2025-08-20T04:17:11.420295Z",
     "iopub.status.busy": "2025-08-20T04:17:11.420147Z",
     "iopub.status.idle": "2025-08-20T04:17:11.909671Z",
     "shell.execute_reply": "2025-08-20T04:17:11.909162Z"
    }
   },
   "outputs": [
    {
     "name": "stdout",
     "output_type": "stream",
     "text": [
      "\n",
      "QuTiP: Quantum Toolbox in Python\n",
      "================================\n",
      "Copyright (c) QuTiP team 2011 and later.\n",
      "Current admin team: Alexander Pitchford, Nathan Shammah, Shahnawaz Ahmed, Neill Lambert, Eric Giguère, Boxi Li, Simon Cross, Asier Galicia, Paul Menczel, and Patrick Hopf.\n",
      "Board members: Daniel Burgarth, Robert Johansson, Anton F. Kockum, Franco Nori and Will Zeng.\n",
      "Original developers: R. J. Johansson & P. D. Nation.\n",
      "Previous lead developers: Chris Granade & A. Grimsmo.\n",
      "Currently developed through wide collaboration. See https://github.com/qutip for details.\n",
      "\n",
      "QuTiP Version:      5.3.0.dev0+d849c94\n",
      "Numpy Version:      2.3.2\n",
      "Scipy Version:      1.16.1\n",
      "Cython Version:     3.1.3\n",
      "Matplotlib Version: 3.10.5\n",
      "Python Version:     3.12.0\n",
      "Number of CPUs:     4\n",
      "BLAS Info:          Generic\n",
      "INTEL MKL Ext:      None\n",
      "Platform Info:      Linux (x86_64)\n",
      "Installation path:  /home/runner/miniconda3/envs/test-environment-v5/lib/python3.12/site-packages/qutip\n",
      "\n",
      "Installed QuTiP family packages\n",
      "-------------------------------\n",
      "\n",
      "qutip-qtrl: 0.2.0.dev0+acb71a0\n"
     ]
    },
    {
     "name": "stdout",
     "output_type": "stream",
     "text": [
      "qutip-jax: 0.1.1.dev6\n",
      "qutip-qip: 0.5.0.dev0+2db1138\n",
      "\n",
      "================================================================================\n",
      "Please cite QuTiP in your publication.\n",
      "================================================================================\n",
      "For your convenience a bibtex reference can be easily generated using `qutip.cite()`\n"
     ]
    }
   ],
   "source": [
    "qutip.about()"
   ]
  },
  {
   "cell_type": "code",
   "execution_count": null,
   "id": "c8b11ad0",
   "metadata": {},
   "outputs": [],
   "source": []
  }
 ],
 "metadata": {
  "jupytext": {
   "cell_metadata_filter": "-all",
   "notebook_metadata_filter": "-jupytext.cell_metadata_filter,-jupytext.notebook_metadata_filter"
  },
  "kernelspec": {
   "display_name": "Python 3 (ipykernel)",
   "language": "python",
   "name": "python3"
  },
  "language_info": {
   "codemirror_mode": {
    "name": "ipython",
    "version": 3
   },
   "file_extension": ".py",
   "mimetype": "text/x-python",
   "name": "python",
   "nbconvert_exporter": "python",
   "pygments_lexer": "ipython3",
   "version": "3.12.0"
  }
 },
 "nbformat": 4,
 "nbformat_minor": 5
}
