{
 "cells": [
  {
   "cell_type": "markdown",
   "id": "282f9ab9",
   "metadata": {},
   "source": [
    "# QuTiPv5 Paper Example: Stochastic Solver - Homodyne Detection\n",
    "\n",
    "Authors: Maximilian Meyer-Mölleringhof (m.meyermoelleringhof@gmail.com), Neill Lambert (nwlambert@gmail.com)\n",
    "\n",
    "## Introduction\n",
    "\n",
    "When modelling an open quantum system, stochastic noise can be used to simulate a large range of phenomena.\n",
    "In the `smesolve()` solver, noise is introduced by continuous measurement.\n",
    "This allows us to generate the trajectory evolution of a quantum system conditioned on a noisy measurement record.\n",
    "Historically speaking, such models were used by the quantum optics community to model homodyne and heterodyne detection of light emitted from a cavity.\n",
    "However, this solver is of course quite general and can thus also be applied to other problems.\n",
    "\n",
    "In this example we look at an optical cavity whose output is subject to homodyne detection.\n",
    "Such a cavity obeys the general stochastic master equation\n",
    "\n",
    "$d \\rho(t) = -i [H, \\rho(t)] dt + \\mathcal{D}[a] \\rho (t) dt + \\mathcal{H}[a] \\rho\\, dW(t)$\n",
    "\n",
    "with the Hamiltonian\n",
    "\n",
    "$H = \\Delta a^\\dagger a$\n",
    "\n",
    "and the Lindblad dissipator\n",
    "\n",
    "$\\mathcal{D}[a] = a \\rho a^\\dagger - \\dfrac{1}{2} a^\\dagger a \\rho - \\dfrac{1}{2} \\rho a^\\dagger a$.\n",
    "\n",
    "The stochastic part\n",
    "\n",
    "$\\mathcal{H}[a]\\rho = a \\rho + \\rho a^\\dagger - tr[a \\rho + \\rho a^\\dagger]$\n",
    "\n",
    "captures the conditioning of the trajectory through continuous monitoring of the operator $a$.\n",
    "The term $dW(t)$ is the increment of a Wiener process that obeys $\\mathbb{E}[dW] = 0$ and $\\mathbb{E}[dW^2] = dt$.\n",
    "\n",
    "Note that a similiar example is available in the [QuTiP user guide](https://qutip.readthedocs.io/en/qutip-5.0.x/guide/dynamics/dynamics-stochastic.html#stochastic-master-equation)."
   ]
  },
  {
   "cell_type": "code",
   "execution_count": 1,
   "id": "bd05fc38",
   "metadata": {
    "execution": {
     "iopub.execute_input": "2025-08-20T04:15:52.639719Z",
     "iopub.status.busy": "2025-08-20T04:15:52.639555Z",
     "iopub.status.idle": "2025-08-20T04:15:53.360768Z",
     "shell.execute_reply": "2025-08-20T04:15:53.360264Z"
    }
   },
   "outputs": [],
   "source": [
    "import numpy as np\n",
    "from matplotlib import pyplot as plt\n",
    "from qutip import about, coherent, destroy, mesolve, smesolve\n",
    "\n",
    "%matplotlib inline"
   ]
  },
  {
   "cell_type": "markdown",
   "id": "bcc2e2e7",
   "metadata": {},
   "source": [
    "## Problem Parameters"
   ]
  },
  {
   "cell_type": "code",
   "execution_count": 2,
   "id": "d8dae7cc",
   "metadata": {
    "execution": {
     "iopub.execute_input": "2025-08-20T04:15:53.362525Z",
     "iopub.status.busy": "2025-08-20T04:15:53.362269Z",
     "iopub.status.idle": "2025-08-20T04:15:53.364847Z",
     "shell.execute_reply": "2025-08-20T04:15:53.364358Z"
    }
   },
   "outputs": [],
   "source": [
    "N = 20  # dimensions of Hilbert space\n",
    "delta = 10 * np.pi  # cavity detuning\n",
    "kappa = 1  # decay rate\n",
    "A = 4  # initial coherent state intensity"
   ]
  },
  {
   "cell_type": "code",
   "execution_count": 3,
   "id": "757a579b",
   "metadata": {
    "execution": {
     "iopub.execute_input": "2025-08-20T04:15:53.366190Z",
     "iopub.status.busy": "2025-08-20T04:15:53.366018Z",
     "iopub.status.idle": "2025-08-20T04:15:53.368867Z",
     "shell.execute_reply": "2025-08-20T04:15:53.368409Z"
    }
   },
   "outputs": [],
   "source": [
    "a = destroy(N)\n",
    "x = a + a.dag()  # operator for expectation value\n",
    "H = delta * a.dag() * a  # Hamiltonian\n",
    "mon_op = np.sqrt(kappa) * a  # continiously monitored operators"
   ]
  },
  {
   "cell_type": "markdown",
   "id": "313495b3",
   "metadata": {},
   "source": [
    "## Solving for the Time Evolution\n",
    "\n",
    "We calculate the predicted trajectory conditioned on the continuous monitoring of the operator $a$.\n",
    "This is compared to the regular `mesolve()` solver for the same model but without resolving conditioned trajectories."
   ]
  },
  {
   "cell_type": "code",
   "execution_count": 4,
   "id": "36189ec9",
   "metadata": {
    "execution": {
     "iopub.execute_input": "2025-08-20T04:15:53.370213Z",
     "iopub.status.busy": "2025-08-20T04:15:53.370057Z",
     "iopub.status.idle": "2025-08-20T04:15:53.374076Z",
     "shell.execute_reply": "2025-08-20T04:15:53.373678Z"
    }
   },
   "outputs": [],
   "source": [
    "rho_0 = coherent(N, np.sqrt(A))  # initial state\n",
    "times = np.arange(0, 1, 0.0025)\n",
    "num_traj = 500  # number of computed trajectories\n",
    "opt = {\"dt\": 0.00125, \"store_measurement\": True, \"map\": \"parallel\"}"
   ]
  },
  {
   "cell_type": "code",
   "execution_count": 5,
   "id": "9c4544c7",
   "metadata": {
    "execution": {
     "iopub.execute_input": "2025-08-20T04:15:53.375542Z",
     "iopub.status.busy": "2025-08-20T04:15:53.375349Z",
     "iopub.status.idle": "2025-08-20T04:15:53.455490Z",
     "shell.execute_reply": "2025-08-20T04:15:53.455048Z"
    }
   },
   "outputs": [],
   "source": [
    "me_solution = mesolve(H, rho_0, times, c_ops=[mon_op], e_ops=[x])"
   ]
  },
  {
   "cell_type": "code",
   "execution_count": 6,
   "id": "d5a33a9a",
   "metadata": {
    "execution": {
     "iopub.execute_input": "2025-08-20T04:15:53.456994Z",
     "iopub.status.busy": "2025-08-20T04:15:53.456674Z",
     "iopub.status.idle": "2025-08-20T04:16:02.464717Z",
     "shell.execute_reply": "2025-08-20T04:16:02.464132Z"
    }
   },
   "outputs": [
    {
     "name": "stdout",
     "output_type": "stream",
     "text": [
      "10.0%. Run time:   0.96s. Est. time left: 00:00:00:08\n"
     ]
    },
    {
     "name": "stdout",
     "output_type": "stream",
     "text": [
      "20.0%. Run time:   1.83s. Est. time left: 00:00:00:07\n"
     ]
    },
    {
     "name": "stdout",
     "output_type": "stream",
     "text": [
      "30.0%. Run time:   2.74s. Est. time left: 00:00:00:06\n"
     ]
    },
    {
     "name": "stdout",
     "output_type": "stream",
     "text": [
      "40.0%. Run time:   3.64s. Est. time left: 00:00:00:05\n"
     ]
    },
    {
     "name": "stdout",
     "output_type": "stream",
     "text": [
      "50.0%. Run time:   4.52s. Est. time left: 00:00:00:04\n"
     ]
    },
    {
     "name": "stdout",
     "output_type": "stream",
     "text": [
      "60.0%. Run time:   5.42s. Est. time left: 00:00:00:03\n"
     ]
    },
    {
     "name": "stdout",
     "output_type": "stream",
     "text": [
      "70.0%. Run time:   6.31s. Est. time left: 00:00:00:02\n"
     ]
    },
    {
     "name": "stdout",
     "output_type": "stream",
     "text": [
      "80.0%. Run time:   7.22s. Est. time left: 00:00:00:01\n"
     ]
    },
    {
     "name": "stdout",
     "output_type": "stream",
     "text": [
      "90.0%. Run time:   8.09s. Est. time left: 00:00:00:00\n"
     ]
    },
    {
     "name": "stdout",
     "output_type": "stream",
     "text": [
      "100.0%. Run time:   8.99s. Est. time left: 00:00:00:00\n"
     ]
    },
    {
     "name": "stdout",
     "output_type": "stream",
     "text": [
      "Total run time:   9.00s\n"
     ]
    }
   ],
   "source": [
    "stoc_solution = smesolve(\n",
    "    H, rho_0, times, sc_ops=[mon_op], e_ops=[x], ntraj=num_traj, options=opt\n",
    ")"
   ]
  },
  {
   "cell_type": "markdown",
   "id": "dc84fcab",
   "metadata": {},
   "source": [
    "## Comparison of Results\n",
    "\n",
    "We plot the averaged homodyne current $J_x = \\langle x \\rangle + dW / dt$ and the average system behaviour $\\langle x \\rangle$ for 500 trajectories.\n",
    "This is compared with the prediction of the regular `mesolve()` solver that does not include the conditioned trajectories.\n",
    "Since the conditioned expectation values do not depend on the trajectories, we expect that this reproduces the result of the standard `mesolve()`."
   ]
  },
  {
   "cell_type": "code",
   "execution_count": 7,
   "id": "d26b63b5",
   "metadata": {
    "execution": {
     "iopub.execute_input": "2025-08-20T04:16:02.466414Z",
     "iopub.status.busy": "2025-08-20T04:16:02.466206Z",
     "iopub.status.idle": "2025-08-20T04:16:02.471169Z",
     "shell.execute_reply": "2025-08-20T04:16:02.470799Z"
    }
   },
   "outputs": [],
   "source": [
    "stoc_meas_mean = np.array(stoc_solution.measurement).mean(axis=0)[0, :].real"
   ]
  },
  {
   "cell_type": "code",
   "execution_count": 8,
   "id": "26334786",
   "metadata": {
    "execution": {
     "iopub.execute_input": "2025-08-20T04:16:02.472533Z",
     "iopub.status.busy": "2025-08-20T04:16:02.472353Z",
     "iopub.status.idle": "2025-08-20T04:16:02.636577Z",
     "shell.execute_reply": "2025-08-20T04:16:02.636048Z"
    }
   },
   "outputs": [
    {
     "data": {
      "image/png": "[encoded data removed]",
      "text/plain": [
       "<Figure size 640x480 with 1 Axes>"
      ]
     },
     "metadata": {},
     "output_type": "display_data"
    }
   ],
   "source": [
    "plt.figure()\n",
    "plt.plot(times[1:], stoc_meas_mean, lw=2, label=r\"$J_x$\")\n",
    "plt.plot(times, stoc_solution.expect[0], label=r\"$\\langle x \\rangle$\")\n",
    "plt.plot(\n",
    "    times,\n",
    "    me_solution.expect[0],\n",
    "    \"--\",\n",
    "    color=\"gray\",\n",
    "    label=r\"$\\langle x \\rangle$ mesolve\",\n",
    ")\n",
    "\n",
    "plt.legend()\n",
    "plt.xlabel(r\"$t \\cdot \\kappa$\")\n",
    "plt.show()"
   ]
  },
  {
   "cell_type": "markdown",
   "id": "d41e8065",
   "metadata": {},
   "source": [
    "## References\n",
    "\n",
    "[1] [QuTiP 5: The Quantum Toolbox in Python](https://arxiv.org/abs/2412.04705)"
   ]
  },
  {
   "cell_type": "markdown",
   "id": "d87f45ea",
   "metadata": {},
   "source": [
    "## About"
   ]
  },
  {
   "cell_type": "code",
   "execution_count": 9,
   "id": "173fc6a0",
   "metadata": {
    "execution": {
     "iopub.execute_input": "2025-08-20T04:16:02.637936Z",
     "iopub.status.busy": "2025-08-20T04:16:02.637764Z",
     "iopub.status.idle": "2025-08-20T04:16:03.112363Z",
     "shell.execute_reply": "2025-08-20T04:16:03.111891Z"
    }
   },
   "outputs": [
    {
     "name": "stdout",
     "output_type": "stream",
     "text": [
      "\n",
      "QuTiP: Quantum Toolbox in Python\n",
      "================================\n",
      "Copyright (c) QuTiP team 2011 and later.\n",
      "Current admin team: Alexander Pitchford, Nathan Shammah, Shahnawaz Ahmed, Neill Lambert, Eric Giguère, Boxi Li, Simon Cross, Asier Galicia, Paul Menczel, and Patrick Hopf.\n",
      "Board members: Daniel Burgarth, Robert Johansson, Anton F. Kockum, Franco Nori and Will Zeng.\n",
      "Original developers: R. J. Johansson & P. D. Nation.\n",
      "Previous lead developers: Chris Granade & A. Grimsmo.\n",
      "Currently developed through wide collaboration. See https://github.com/qutip for details.\n",
      "\n",
      "QuTiP Version:      5.3.0.dev0+d849c94\n",
      "Numpy Version:      2.3.2\n",
      "Scipy Version:      1.16.1\n",
      "Cython Version:     3.1.3\n",
      "Matplotlib Version: 3.10.5\n",
      "Python Version:     3.12.0\n",
      "Number of CPUs:     4\n",
      "BLAS Info:          Generic\n",
      "INTEL MKL Ext:      None\n",
      "Platform Info:      Linux (x86_64)\n",
      "Installation path:  /home/runner/miniconda3/envs/test-environment-v5/lib/python3.12/site-packages/qutip\n",
      "\n",
      "Installed QuTiP family packages\n",
      "-------------------------------\n",
      "\n",
      "qutip-qtrl: 0.2.0.dev0+acb71a0\n"
     ]
    },
    {
     "name": "stdout",
     "output_type": "stream",
     "text": [
      "qutip-jax: 0.1.1.dev6\n",
      "qutip-qip: 0.5.0.dev0+2db1138\n",
      "\n",
      "================================================================================\n",
      "Please cite QuTiP in your publication.\n",
      "================================================================================\n",
      "For your convenience a bibtex reference can be easily generated using `qutip.cite()`\n"
     ]
    }
   ],
   "source": [
    "about()"
   ]
  },
  {
   "cell_type": "markdown",
   "id": "32c039c7",
   "metadata": {},
   "source": [
    "## Testing"
   ]
  },
  {
   "cell_type": "code",
   "execution_count": 10,
   "id": "bca04a8f",
   "metadata": {
    "execution": {
     "iopub.execute_input": "2025-08-20T04:16:03.113721Z",
     "iopub.status.busy": "2025-08-20T04:16:03.113565Z",
     "iopub.status.idle": "2025-08-20T04:16:03.116045Z",
     "shell.execute_reply": "2025-08-20T04:16:03.115652Z"
    }
   },
   "outputs": [],
   "source": [
    "assert np.allclose(\n",
    "    stoc_solution.expect[0], me_solution.expect[0], atol=1e-1\n",
    "), \"smesolve and mesolve do not preoduce the same trajectory.\""
   ]
  }
 ],
 "metadata": {
  "jupytext": {
   "cell_metadata_filter": "-all",
   "notebook_metadata_filter": "-jupytext.cell_metadata_filter,-jupytext.notebook_metadata_filter"
  },
  "kernelspec": {
   "display_name": "Python 3 (ipykernel)",
   "language": "python",
   "name": "python3"
  },
  "language_info": {
   "codemirror_mode": {
    "name": "ipython",
    "version": 3
   },
   "file_extension": ".py",
   "mimetype": "text/x-python",
   "name": "python",
   "nbconvert_exporter": "python",
   "pygments_lexer": "ipython3",
   "version": "3.12.0"
  }
 },
 "nbformat": 4,
 "nbformat_minor": 5
}
