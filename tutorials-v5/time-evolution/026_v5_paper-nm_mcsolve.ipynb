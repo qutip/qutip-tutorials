{
 "cells": [
  {
   "cell_type": "markdown",
   "id": "22bf5eda",
   "metadata": {},
   "source": [
    "# QuTiPv5 Paper Example: Monte Carlo Solver for non-Markovian Baths\n",
    "\n",
    "Authors: Maximilian Meyer-Mölleringhof (m.meyermoelleringhof@gmail.com), Paul Menczel (paul@menczel.net), Neill Lambert (nwlambert@gmail.com)\n",
    "\n",
    "## Introduction\n",
    "\n",
    "When a quantum system experiences non-Markovian effects, it can no longer be described by the standard Lindblad formalism.\n",
    "To compute the time evolution of the density matrix, we can however use time-convolutionless (TCL) projection operators that lead to a differential equation in time-local form:\n",
    "\n",
    "$\\dot{\\rho} (t) = - \\dfrac{i}{\\hbar} [H(t), \\rho(t)] + \\sum_n \\gamma_n(t) \\mathcal{D}_n(t) [\\rho(t)]$\n",
    "\n",
    "with\n",
    "\n",
    "$\\mathcal{D}_n[\\rho(t)] = A_n \\rho(t) A^\\dagger_n - \\dfrac{1}{2} [A^\\dagger_n A_n \\rho(t) + \\rho(t) A_n^\\dagger A_n]$.\n",
    "\n",
    "These equations include the system Hamiltonian $H(t)$ and jump operators $A_n$.\n",
    "Contrary to a Lindblad equation, the coupling rates $\\gamma_n(t)$ may be negative here.\n",
    "\n",
    "In QuTiP v5, the non-Markovian Monte Carlo solver is introduced.\n",
    "It enables the mapping of the general master equation given above, to a Lindblad equation on the same Hilbert space.\n",
    "This is achieved by the introduction of the so called \"influence martingale\" which acts as trajectory weighting [\\[1, 2, 3\\]](#References):\n",
    "\n",
    "$\\mu (t) = \\exp \\left[ \\alpha \\int_0^t s(\\tau) d \\tau \\right] \\Pi_k \\dfrac{\\gamma_{n_k} (t_k)}{\\Gamma_{n_k} (t_k)}$.\n",
    "\n",
    "Here, the product runs over all jump operators on the trajectory with jump channels $n_k$ and jump times $t_k < t$.\n",
    "To finally arrive at the Lindblad form, the shift function\n",
    "\n",
    "$s(t) = 2 \\left| \\min \\{ 0, \\gamma_1(t), \\gamma_2(t), ... \\} \\right|$\n",
    "\n",
    "is applied, such that the shifted rates $\\Gamma_n (t) = \\gamma_n(t) + s(t)$ are non-negative.\n",
    "We obtain the completely positive Lindblad equation\n",
    "\n",
    "$\\dot{\\rho}'(t) = - \\dfrac{i}{\\hbar} [ H(t), \\rho'(t) ] + \\sum_n \\Gamma(t) \\mathcal{D}_n[\\rho'(t)]$,\n",
    "\n",
    "and $\\rho'(t) = \\mathbb{E} \\{\\ket{\\psi(t)} \\bra{\\psi(t)}\\}$ using the regular MCWF method.\n",
    "Here, $\\ket{\\psi (t)}$ are the generated trajectories and $\\mathbb{E}$ is the ensemble average over the trajectories.\n",
    "This can furthermore be used to finally reconstruct the original states via $\\rho(t) = \\mathbb{E}\\{\\mu(t) \\ket{\\psi(t)} \\bra{\\psi(t)}\\}$.\n",
    "\n",
    "Note that, for this technique, the jump operators are required to fulfill the completeness relation $\\sum_n A_n^\\dagger A_n = \\alpha \\mathbb{1}$ for $\\alpha > 0$.\n",
    "This condition is automatically taken care of by QuTiP's `nm_mcsolve()` function."
   ]
  },
  {
   "cell_type": "code",
   "execution_count": 1,
   "id": "f38d8a06",
   "metadata": {
    "execution": {
     "iopub.execute_input": "2025-08-20T04:18:19.084187Z",
     "iopub.status.busy": "2025-08-20T04:18:19.084023Z",
     "iopub.status.idle": "2025-08-20T04:18:19.911176Z",
     "shell.execute_reply": "2025-08-20T04:18:19.910670Z"
    }
   },
   "outputs": [],
   "source": [
    "import matplotlib.pyplot as plt\n",
    "import numpy as np\n",
    "from qutip import (ExponentialBosonicEnvironment, about, basis, brmesolve,\n",
    "                   expect, heom, ket2dm, lindblad_dissipator, liouvillian,\n",
    "                   mesolve, nm_mcsolve, qeye, sigmam, sigmap, sigmax, sigmay,\n",
    "                   sigmaz)\n",
    "from scipy.interpolate import CubicSpline\n",
    "from scipy.optimize import root_scalar"
   ]
  },
  {
   "cell_type": "markdown",
   "id": "3fdf8654",
   "metadata": {},
   "source": [
    "## Damped Jaynes-Cumming Model\n",
    "\n",
    "To illustrate the application of `nm_mcsolve()`, we want to look at the damped Jaynes-Cumming model.\n",
    "It describes a two-level atom coupled to a damped cavity mode.\n",
    "Such a model can be accurately model as a two-level system coupled to an environment with the power spectrum [\\[4\\]](#References):\n",
    "\n",
    "$S(\\omega) = \\dfrac{\\lambda \\Gamma^2}{(\\omega_0 - \\Delta - \\omega)^2 + \\Gamma^2}$,\n",
    "\n",
    "where $\\lambda$ is the atom-cavity coupling strength, $\\omega_0$ is the transition frequency of the atom, $\\Delta$ the detuning of the cavity and $\\Gamma$ the spectral width.\n",
    "At zero temperature and after performing the rotating wave approximation, the dynamics of the two-level atom can be described by the master equation\n",
    "\n",
    "$\\dot{\\rho}(t) = \\dfrac{A(t)}{2i\\hbar} [ \\sigma_+ \\sigma_-, \\rho(t) ] + \\gamma (t) \\mathcal{D}_- [\\rho (t)]$,\n",
    "\n",
    "with the state $\\rho(t)$ in the interaction picture, the the ladder operators $\\sigma_\\pm$, the dissipator $\\mathcal{D}_-$ for the Lindblad operator $\\sigma_-$, and lastly $\\gamma (t)$ and $A(t)$ being the real and imaginary parts of\n",
    "\n",
    "$\\gamma(t) + i A(t) = \\dfrac{2 \\lambda \\Gamma \\sinh (\\delta t / 2)}{\\delta \\cosh (\\delta t / 2) + (\\Gamma - i \\Delta) \\sinh (\\delta t/2)}$,\n",
    "\n",
    "with $\\delta = [(\\Gamma - i \\Delta)^2 - 2 \\lambda \\Gamma]^{1/2}$."
   ]
  },
  {
   "cell_type": "code",
   "execution_count": 2,
   "id": "16f38318",
   "metadata": {
    "execution": {
     "iopub.execute_input": "2025-08-20T04:18:19.912852Z",
     "iopub.status.busy": "2025-08-20T04:18:19.912625Z",
     "iopub.status.idle": "2025-08-20T04:18:19.915315Z",
     "shell.execute_reply": "2025-08-20T04:18:19.914940Z"
    }
   },
   "outputs": [],
   "source": [
    "H = sigmap() * sigmam() / 2\n",
    "initial_state = (basis(2, 0) + basis(2, 1)).unit()\n",
    "tlist = np.linspace(0, 5, 500)"
   ]
  },
  {
   "cell_type": "code",
   "execution_count": 3,
   "id": "68e3379e",
   "metadata": {
    "execution": {
     "iopub.execute_input": "2025-08-20T04:18:19.916595Z",
     "iopub.status.busy": "2025-08-20T04:18:19.916433Z",
     "iopub.status.idle": "2025-08-20T04:18:19.919172Z",
     "shell.execute_reply": "2025-08-20T04:18:19.918796Z"
    }
   },
   "outputs": [],
   "source": [
    "# Constants\n",
    "gamma0 = 1\n",
    "lamb = 0.3 * gamma0\n",
    "Delta = 8 * lamb\n",
    "\n",
    "# Derived Quantities\n",
    "delta = np.sqrt((lamb - 1j * Delta) ** 2 - 2 * gamma0 * lamb)\n",
    "deltaR = np.real(delta)\n",
    "deltaI = np.imag(delta)\n",
    "deltaSq = deltaR**2 + deltaI**2"
   ]
  },
  {
   "cell_type": "code",
   "execution_count": 4,
   "id": "9aa8639b",
   "metadata": {
    "execution": {
     "iopub.execute_input": "2025-08-20T04:18:19.920461Z",
     "iopub.status.busy": "2025-08-20T04:18:19.920283Z",
     "iopub.status.idle": "2025-08-20T04:18:19.923766Z",
     "shell.execute_reply": "2025-08-20T04:18:19.923364Z"
    }
   },
   "outputs": [],
   "source": [
    "# calculate gamma and A\n",
    "def prefac(t):\n",
    "    return (\n",
    "        2\n",
    "        * gamma0\n",
    "        * lamb\n",
    "        / (\n",
    "            (lamb**2 + Delta**2 - deltaSq) * np.cos(deltaI * t)\n",
    "            - (lamb**2 + Delta**2 + deltaSq) * np.cosh(deltaR * t)\n",
    "            - 2 * (Delta * deltaR + lamb * deltaI) * np.sin(deltaI * t)\n",
    "            + 2 * (Delta * deltaI - lamb * deltaR) * np.sinh(deltaR * t)\n",
    "        )\n",
    "    )\n",
    "\n",
    "\n",
    "def cgamma(t):\n",
    "    return prefac(t) * (\n",
    "        lamb * np.cos(deltaI * t)\n",
    "        - lamb * np.cosh(deltaR * t)\n",
    "        - deltaI * np.sin(deltaI * t)\n",
    "        - deltaR * np.sinh(deltaR * t)\n",
    "    )\n",
    "\n",
    "\n",
    "def cA(t):\n",
    "    return prefac(t) * (\n",
    "        Delta * np.cos(deltaI * t)\n",
    "        - Delta * np.cosh(deltaR * t)\n",
    "        - deltaR * np.sin(deltaI * t)\n",
    "        + deltaI * np.sinh(deltaR * t)\n",
    "    )"
   ]
  },
  {
   "cell_type": "code",
   "execution_count": 5,
   "id": "caa9fb03",
   "metadata": {
    "execution": {
     "iopub.execute_input": "2025-08-20T04:18:19.925010Z",
     "iopub.status.busy": "2025-08-20T04:18:19.924866Z",
     "iopub.status.idle": "2025-08-20T04:18:19.936514Z",
     "shell.execute_reply": "2025-08-20T04:18:19.936123Z"
    }
   },
   "outputs": [],
   "source": [
    "_gamma = np.zeros_like(tlist)\n",
    "_A = np.zeros_like(tlist)\n",
    "for i in range(len(tlist)):\n",
    "    _gamma[i] = cgamma(tlist[i])\n",
    "    _A[i] = cA(tlist[i])\n",
    "\n",
    "gamma = CubicSpline(tlist, np.complex128(_gamma))\n",
    "A = CubicSpline(tlist, np.complex128(_A))"
   ]
  },
  {
   "cell_type": "code",
   "execution_count": 6,
   "id": "82e275f8",
   "metadata": {
    "execution": {
     "iopub.execute_input": "2025-08-20T04:18:19.937749Z",
     "iopub.status.busy": "2025-08-20T04:18:19.937598Z",
     "iopub.status.idle": "2025-08-20T04:18:19.939977Z",
     "shell.execute_reply": "2025-08-20T04:18:19.939613Z"
    }
   },
   "outputs": [],
   "source": [
    "unitary_gen = liouvillian(H)\n",
    "dissipator = lindblad_dissipator(sigmam())"
   ]
  },
  {
   "cell_type": "code",
   "execution_count": 7,
   "id": "19606f07",
   "metadata": {
    "execution": {
     "iopub.execute_input": "2025-08-20T04:18:19.941185Z",
     "iopub.status.busy": "2025-08-20T04:18:19.941029Z",
     "iopub.status.idle": "2025-08-20T04:18:36.485549Z",
     "shell.execute_reply": "2025-08-20T04:18:36.484943Z"
    }
   },
   "outputs": [
    {
     "name": "stderr",
     "output_type": "stream",
     "text": [
      "/home/runner/miniconda3/envs/test-environment-v5/lib/python3.12/site-packages/qutip/core/data/expm.py:139: LinAlgWarning: Matrix is singular. The result might be inaccurate or the array might not have a square root.\n",
      "  return Dense(scipy.linalg.sqrtm(matrix.as_ndarray()))\n"
     ]
    },
    {
     "name": "stdout",
     "output_type": "stream",
     "text": [
      "10.0%. Run time:   1.63s. Est. time left: 00:00:00:14\n"
     ]
    },
    {
     "name": "stdout",
     "output_type": "stream",
     "text": [
      "20.0%. Run time:   3.29s. Est. time left: 00:00:00:13\n"
     ]
    },
    {
     "name": "stdout",
     "output_type": "stream",
     "text": [
      "30.0%. Run time:   4.98s. Est. time left: 00:00:00:11\n"
     ]
    },
    {
     "name": "stdout",
     "output_type": "stream",
     "text": [
      "40.0%. Run time:   6.69s. Est. time left: 00:00:00:10\n"
     ]
    },
    {
     "name": "stdout",
     "output_type": "stream",
     "text": [
      "50.0%. Run time:   8.27s. Est. time left: 00:00:00:08\n"
     ]
    },
    {
     "name": "stdout",
     "output_type": "stream",
     "text": [
      "60.0%. Run time:   9.86s. Est. time left: 00:00:00:06\n"
     ]
    },
    {
     "name": "stdout",
     "output_type": "stream",
     "text": [
      "70.0%. Run time:  11.40s. Est. time left: 00:00:00:04\n"
     ]
    },
    {
     "name": "stdout",
     "output_type": "stream",
     "text": [
      "80.0%. Run time:  13.11s. Est. time left: 00:00:00:03\n"
     ]
    },
    {
     "name": "stdout",
     "output_type": "stream",
     "text": [
      "90.0%. Run time:  14.86s. Est. time left: 00:00:00:01\n"
     ]
    },
    {
     "name": "stdout",
     "output_type": "stream",
     "text": [
      "100.0%. Run time:  16.50s. Est. time left: 00:00:00:00\n"
     ]
    },
    {
     "name": "stdout",
     "output_type": "stream",
     "text": [
      "Total run time:  16.51s\n"
     ]
    }
   ],
   "source": [
    "mc_sol = nm_mcsolve(\n",
    "    [[H, A]],\n",
    "    initial_state,\n",
    "    tlist,\n",
    "    ops_and_rates=[(sigmam(), gamma)],\n",
    "    ntraj=1_000,\n",
    "    options={\"map\": \"parallel\"},\n",
    "    seeds=0,\n",
    ")"
   ]
  },
  {
   "cell_type": "markdown",
   "id": "91e7dd9d",
   "metadata": {},
   "source": [
    "## Comparison to other methods\n",
    "\n",
    "We want to compare this computation with the standard `mesolve()`, the HEOM and the Bloch-Refield solver.\n",
    "For the `mesolve()` we can directly use the operators we have created for `nm_mcsolve()`:"
   ]
  },
  {
   "cell_type": "code",
   "execution_count": 8,
   "id": "504f8d0a",
   "metadata": {
    "execution": {
     "iopub.execute_input": "2025-08-20T04:18:36.487348Z",
     "iopub.status.busy": "2025-08-20T04:18:36.487155Z",
     "iopub.status.idle": "2025-08-20T04:18:36.509373Z",
     "shell.execute_reply": "2025-08-20T04:18:36.508811Z"
    }
   },
   "outputs": [],
   "source": [
    "me_sol = mesolve([[unitary_gen, A], [dissipator, gamma]], initial_state, tlist)"
   ]
  },
  {
   "cell_type": "markdown",
   "id": "2e0bd0f2",
   "metadata": {},
   "source": [
    "For the other methods we directly apply a spin-boson model and the free reservoir auto-correlation function\n",
    "\n",
    "$C(t) = \\dfrac{\\lambda \\Gamma}{2} e^{-i (\\omega - \\Delta) t - \\lambda |t|}$,\n",
    "\n",
    "which corresponds to the power spectrum defined above.\n",
    "We use the Hamiltonian $H = \\omega_0 \\sigma_+ \\sigma_-$ in the Schrödinger picture and the coupling operator $Q = \\sigma_+ + \\sigma_-$.\n",
    "Here, we chose $\\omega_0 \\gg \\Delta$ to ensure validity of the rotating wave approximation."
   ]
  },
  {
   "cell_type": "code",
   "execution_count": 9,
   "id": "b405db12",
   "metadata": {
    "execution": {
     "iopub.execute_input": "2025-08-20T04:18:36.510960Z",
     "iopub.status.busy": "2025-08-20T04:18:36.510788Z",
     "iopub.status.idle": "2025-08-20T04:18:36.513871Z",
     "shell.execute_reply": "2025-08-20T04:18:36.513452Z"
    }
   },
   "outputs": [],
   "source": [
    "omega_c = 100\n",
    "omega_0 = omega_c + Delta\n",
    "\n",
    "H = omega_0 * sigmap() * sigmam()\n",
    "Q = sigmap() + sigmam()\n",
    "\n",
    "\n",
    "def power_spectrum(w):\n",
    "    return gamma0 * lamb**2 / ((omega_c - w) ** 2 + lamb**2)"
   ]
  },
  {
   "cell_type": "markdown",
   "id": "0b2da644",
   "metadata": {},
   "source": [
    "Firstly, the HEOM solver can directly be applied after separating the auto-correlation function into its real and imaginary parts:"
   ]
  },
  {
   "cell_type": "code",
   "execution_count": 10,
   "id": "c253fe82",
   "metadata": {
    "execution": {
     "iopub.execute_input": "2025-08-20T04:18:36.515276Z",
     "iopub.status.busy": "2025-08-20T04:18:36.515095Z",
     "iopub.status.idle": "2025-08-20T04:18:36.517700Z",
     "shell.execute_reply": "2025-08-20T04:18:36.517275Z"
    }
   },
   "outputs": [],
   "source": [
    "ck_real = [gamma0 * lamb / 4] * 2\n",
    "vk_real = [lamb - 1j * omega_c, lamb + 1j * omega_c]\n",
    "ck_imag = np.array([1j, -1j]) * gamma0 * lamb / 4\n",
    "vk_imag = vk_real"
   ]
  },
  {
   "cell_type": "code",
   "execution_count": 11,
   "id": "012d30dd",
   "metadata": {
    "execution": {
     "iopub.execute_input": "2025-08-20T04:18:36.519040Z",
     "iopub.status.busy": "2025-08-20T04:18:36.518875Z",
     "iopub.status.idle": "2025-08-20T04:18:36.811958Z",
     "shell.execute_reply": "2025-08-20T04:18:36.811407Z"
    }
   },
   "outputs": [
    {
     "name": "stdout",
     "output_type": "stream",
     "text": [
      "10.0%. Run time:   0.02s. Est. time left: 00:00:00:00\n"
     ]
    },
    {
     "name": "stdout",
     "output_type": "stream",
     "text": [
      "20.0%. Run time:   0.05s. Est. time left: 00:00:00:00\n"
     ]
    },
    {
     "name": "stdout",
     "output_type": "stream",
     "text": [
      "30.1%. Run time:   0.08s. Est. time left: 00:00:00:00\n"
     ]
    },
    {
     "name": "stdout",
     "output_type": "stream",
     "text": [
      "40.1%. Run time:   0.11s. Est. time left: 00:00:00:00\n"
     ]
    },
    {
     "name": "stdout",
     "output_type": "stream",
     "text": [
      "50.1%. Run time:   0.13s. Est. time left: 00:00:00:00\n"
     ]
    },
    {
     "name": "stdout",
     "output_type": "stream",
     "text": [
      "60.1%. Run time:   0.16s. Est. time left: 00:00:00:00\n"
     ]
    },
    {
     "name": "stdout",
     "output_type": "stream",
     "text": [
      "70.1%. Run time:   0.19s. Est. time left: 00:00:00:00\n"
     ]
    },
    {
     "name": "stdout",
     "output_type": "stream",
     "text": [
      "80.2%. Run time:   0.21s. Est. time left: 00:00:00:00\n"
     ]
    },
    {
     "name": "stdout",
     "output_type": "stream",
     "text": [
      "90.2%. Run time:   0.24s. Est. time left: 00:00:00:00\n"
     ]
    },
    {
     "name": "stdout",
     "output_type": "stream",
     "text": [
      "100.0%. Run time:   0.27s. Est. time left: 00:00:00:00\n"
     ]
    },
    {
     "name": "stdout",
     "output_type": "stream",
     "text": [
      "Total run time:   0.27s\n"
     ]
    }
   ],
   "source": [
    "heom_env = ExponentialBosonicEnvironment(ck_real, vk_real, ck_imag, vk_imag)\n",
    "heom_sol = heom.heomsolve(H, (heom_env, Q), 10, ket2dm(initial_state), tlist)"
   ]
  },
  {
   "cell_type": "markdown",
   "id": "05b3839e",
   "metadata": {},
   "source": [
    "Secondly, for the Bloch-Redfield solver we can directly use the power spectrum as input:"
   ]
  },
  {
   "cell_type": "code",
   "execution_count": 12,
   "id": "4a73218e",
   "metadata": {
    "execution": {
     "iopub.execute_input": "2025-08-20T04:18:36.813481Z",
     "iopub.status.busy": "2025-08-20T04:18:36.813283Z",
     "iopub.status.idle": "2025-08-20T04:18:36.833137Z",
     "shell.execute_reply": "2025-08-20T04:18:36.832577Z"
    }
   },
   "outputs": [],
   "source": [
    "br_sol = brmesolve(H, initial_state, tlist, a_ops=[(sigmax(), power_spectrum)])"
   ]
  },
  {
   "cell_type": "markdown",
   "id": "79aeab09",
   "metadata": {},
   "source": [
    "Finally, in order to compare these results with the `nm_mesolve()` method, we transform them to the interaction picture:"
   ]
  },
  {
   "cell_type": "code",
   "execution_count": 13,
   "id": "768c12eb",
   "metadata": {
    "execution": {
     "iopub.execute_input": "2025-08-20T04:18:36.834752Z",
     "iopub.status.busy": "2025-08-20T04:18:36.834571Z",
     "iopub.status.idle": "2025-08-20T04:18:37.007433Z",
     "shell.execute_reply": "2025-08-20T04:18:37.006748Z"
    }
   },
   "outputs": [],
   "source": [
    "Us = [(-1j * H * t).expm() for t in tlist]\n",
    "heom_states = [U * s * U.dag() for (U, s) in zip(Us, heom_sol.states)]\n",
    "br_states = [U * s * U.dag() for (U, s) in zip(Us, br_sol.states)]"
   ]
  },
  {
   "cell_type": "markdown",
   "id": "011ce004",
   "metadata": {},
   "source": [
    "### Plotting the Time Evolution\n",
    "\n",
    "We choose to plot three comparisons to highlight the different solvers' computational results.\n",
    "In all plots, the gray areas show when $\\gamma(t)$ is negative."
   ]
  },
  {
   "cell_type": "code",
   "execution_count": 14,
   "id": "a6f89034",
   "metadata": {
    "execution": {
     "iopub.execute_input": "2025-08-20T04:18:37.009470Z",
     "iopub.status.busy": "2025-08-20T04:18:37.009224Z",
     "iopub.status.idle": "2025-08-20T04:18:37.014666Z",
     "shell.execute_reply": "2025-08-20T04:18:37.014122Z"
    }
   },
   "outputs": [],
   "source": [
    "root1 = root_scalar(lambda t: cgamma(t), method=\"bisect\", bracket=(1, 2)).root\n",
    "root2 = root_scalar(lambda t: cgamma(t), method=\"bisect\", bracket=(2, 3)).root\n",
    "root3 = root_scalar(lambda t: cgamma(t), method=\"bisect\", bracket=(3, 4)).root\n",
    "root4 = root_scalar(lambda t: cgamma(t), method=\"bisect\", bracket=(4, 5)).root"
   ]
  },
  {
   "cell_type": "code",
   "execution_count": 15,
   "id": "603ac091",
   "metadata": {
    "execution": {
     "iopub.execute_input": "2025-08-20T04:18:37.016301Z",
     "iopub.status.busy": "2025-08-20T04:18:37.016110Z",
     "iopub.status.idle": "2025-08-20T04:18:37.198068Z",
     "shell.execute_reply": "2025-08-20T04:18:37.197511Z"
    }
   },
   "outputs": [
    {
     "data": {
      "image/png": "[encoded data removed]",
      "text/plain": [
       "<Figure size 640x480 with 1 Axes>"
      ]
     },
     "metadata": {},
     "output_type": "display_data"
    }
   ],
   "source": [
    "projector = (sigmaz() + qeye(2)) / 2\n",
    "\n",
    "rho11_me = expect(projector, me_sol.states)\n",
    "rho11_mc = expect(projector, mc_sol.states)\n",
    "rho11_br = expect(projector, br_sol.states)\n",
    "rho11_heom = expect(projector, heom_states)\n",
    "\n",
    "plt.plot(tlist, rho11_me, \"-\", color=\"orange\", label=\"mesolve\")\n",
    "plt.plot(\n",
    "    tlist[::10],\n",
    "    rho11_mc[::10],\n",
    "    \"x\",\n",
    "    color=\"blue\",\n",
    "    label=\"nm_mcsolve\",\n",
    ")\n",
    "plt.plot(tlist, rho11_br, \"-.\", color=\"gray\", label=\"brmesolve\")\n",
    "plt.plot(tlist, rho11_heom, \"--\", color=\"green\", label=\"heomsolve\")\n",
    "\n",
    "plt.xlabel(r\"$t\\, /\\, \\lambda^{-1}$\")\n",
    "plt.xlim((-0.2, 5.2))\n",
    "plt.xticks([0, 2.5, 5], labels=[\"0\", \"2.5\", \"5\"])\n",
    "plt.title(r\"$\\rho_{11}$\")\n",
    "plt.ylim((0.4376, 0.5024))\n",
    "plt.yticks([0.44, 0.46, 0.48, 0.5], labels=[\"0.44\", \"0.46\", \"0.48\", \"0.50\"])\n",
    "\n",
    "plt.axvspan(root1, root2, color=\"gray\", alpha=0.08, zorder=0)\n",
    "plt.axvspan(root3, root4, color=\"gray\", alpha=0.08, zorder=0)\n",
    "\n",
    "plt.legend()\n",
    "plt.show()"
   ]
  },
  {
   "cell_type": "code",
   "execution_count": 16,
   "id": "7e6929f3",
   "metadata": {
    "execution": {
     "iopub.execute_input": "2025-08-20T04:18:37.199658Z",
     "iopub.status.busy": "2025-08-20T04:18:37.199485Z",
     "iopub.status.idle": "2025-08-20T04:18:37.211127Z",
     "shell.execute_reply": "2025-08-20T04:18:37.210550Z"
    }
   },
   "outputs": [],
   "source": [
    "me_x = expect(sigmax(), me_sol.states)\n",
    "mc_x = expect(sigmax(), mc_sol.states)\n",
    "heom_x = expect(sigmax(), heom_states)\n",
    "br_x = expect(sigmax(), br_states)\n",
    "\n",
    "me_y = expect(sigmay(), me_sol.states)\n",
    "mc_y = expect(sigmay(), mc_sol.states)\n",
    "heom_y = expect(sigmay(), heom_states)\n",
    "br_y = expect(sigmay(), br_states)"
   ]
  },
  {
   "cell_type": "code",
   "execution_count": 17,
   "id": "4de7e209",
   "metadata": {
    "execution": {
     "iopub.execute_input": "2025-08-20T04:18:37.212916Z",
     "iopub.status.busy": "2025-08-20T04:18:37.212730Z",
     "iopub.status.idle": "2025-08-20T04:18:37.215768Z",
     "shell.execute_reply": "2025-08-20T04:18:37.215208Z"
    }
   },
   "outputs": [],
   "source": [
    "# We smooth the HEOM result because it oscillates quickly and gets hard to see\n",
    "rho01_heom = heom_x * heom_x + heom_y * heom_y\n",
    "rho01_heom = np.convolve(rho01_heom, np.array([1 / 11] * 11), mode=\"valid\")\n",
    "heom_tlist = tlist[5:-5]"
   ]
  },
  {
   "cell_type": "code",
   "execution_count": 18,
   "id": "55620e2e",
   "metadata": {
    "execution": {
     "iopub.execute_input": "2025-08-20T04:18:37.217270Z",
     "iopub.status.busy": "2025-08-20T04:18:37.217098Z",
     "iopub.status.idle": "2025-08-20T04:18:37.337823Z",
     "shell.execute_reply": "2025-08-20T04:18:37.337229Z"
    }
   },
   "outputs": [
    {
     "data": {
      "image/png": "[encoded data removed]",
      "text/plain": [
       "<Figure size 640x480 with 1 Axes>"
      ]
     },
     "metadata": {},
     "output_type": "display_data"
    }
   ],
   "source": [
    "rho01_me = me_x * me_x + me_y * me_y\n",
    "rho01_mc = mc_x * mc_x + mc_y * mc_y\n",
    "rho01_br = br_x * br_x + br_y * br_y\n",
    "\n",
    "plt.plot(tlist, rho01_me, \"-\", color=\"orange\", label=r\"mesolve\")\n",
    "plt.plot(tlist[::10], rho01_mc[::10], \"x\", color=\"blue\", label=r\"nm_mcsolve\")\n",
    "plt.plot(heom_tlist, rho01_heom, \"--\", color=\"green\", label=r\"heomsolve\")\n",
    "plt.plot(tlist, rho01_br, \"-.\", color=\"gray\", label=r\"brmesolve\")\n",
    "\n",
    "plt.xlabel(r\"$t\\, /\\, \\lambda^{-1}$\")\n",
    "plt.xlim((-0.2, 5.2))\n",
    "plt.xticks([0, 2.5, 5], labels=[\"0\", \"2.5\", \"5\"])\n",
    "plt.title(r\"$| \\rho_{01} |^2$\")\n",
    "plt.ylim((0.8752, 1.0048))\n",
    "plt.yticks(\n",
    "    [0.88, 0.9, 0.92, 0.94, 0.96, 0.98, 1],\n",
    "    labels=[\"0.88\", \"0.90\", \"0.92\", \"0.94\", \"0.96\", \"0.98\", \"1\"],\n",
    ")\n",
    "\n",
    "plt.axvspan(root1, root2, color=\"gray\", alpha=0.08, zorder=0)\n",
    "plt.axvspan(root3, root4, color=\"gray\", alpha=0.08, zorder=0)\n",
    "\n",
    "plt.legend()\n",
    "plt.show()"
   ]
  },
  {
   "cell_type": "code",
   "execution_count": 19,
   "id": "8c473768",
   "metadata": {
    "execution": {
     "iopub.execute_input": "2025-08-20T04:18:37.339583Z",
     "iopub.status.busy": "2025-08-20T04:18:37.339368Z",
     "iopub.status.idle": "2025-08-20T04:18:37.341981Z",
     "shell.execute_reply": "2025-08-20T04:18:37.341487Z"
    }
   },
   "outputs": [],
   "source": [
    "mart_dev = mc_sol.trace - 1"
   ]
  },
  {
   "cell_type": "code",
   "execution_count": 20,
   "id": "cb165295",
   "metadata": {
    "execution": {
     "iopub.execute_input": "2025-08-20T04:18:37.343444Z",
     "iopub.status.busy": "2025-08-20T04:18:37.343257Z",
     "iopub.status.idle": "2025-08-20T04:18:37.442082Z",
     "shell.execute_reply": "2025-08-20T04:18:37.441573Z"
    }
   },
   "outputs": [
    {
     "data": {
      "image/png": "[encoded data removed]",
      "text/plain": [
       "<Figure size 640x480 with 1 Axes>"
      ]
     },
     "metadata": {},
     "output_type": "display_data"
    }
   ],
   "source": [
    "plt.plot(tlist, np.zeros_like(tlist), \"-\", color=\"orange\", label=r\"Zero\")\n",
    "plt.plot(\n",
    "    tlist[::10],\n",
    "    1000 * mart_dev[::10],\n",
    "    \"x\",\n",
    "    color=\"blue\",\n",
    "    label=r\"nm_mcsolve\",\n",
    ")\n",
    "\n",
    "plt.xlabel(r\"$t\\, /\\, \\lambda^{-1}$\")\n",
    "plt.xlim((-0.2, 5.2))\n",
    "plt.xticks([0, 2.5, 5], labels=[\"0\", \"2.5\", \"5\"])\n",
    "plt.title(r\"$(\\mu - 1)\\, /\\, 10^{-3}$\")\n",
    "plt.ylim((-5.8, 15.8))\n",
    "plt.yticks([-5, 0, 5, 10, 15])\n",
    "\n",
    "plt.axvspan(root1, root2, color=\"gray\", alpha=0.08, zorder=0)\n",
    "plt.axvspan(root3, root4, color=\"gray\", alpha=0.08, zorder=0)\n",
    "\n",
    "plt.legend()\n",
    "plt.show()"
   ]
  },
  {
   "cell_type": "markdown",
   "id": "9cb15143",
   "metadata": {},
   "source": [
    "In these plots we notice two things.\n",
    "First, the result from the Bloch-Redfield equation deviates greatly from the others, showing us that non-Markovian effects are strongly influencing the dynamics.\n",
    "Second, in the grey areas - when $\\gamma(t)$ is negative - the atom state restores coherence.\n",
    "In the last plot especially we see that during these times, the average influence martingale fluctuates, but is constant otherwise.\n",
    "Its deviation from unity tells us how well the simulation has converged.\n"
   ]
  },
  {
   "cell_type": "markdown",
   "id": "dfc85ac0",
   "metadata": {},
   "source": [
    "## References\n",
    "\n",
    "\\[1\\] [Donvil and Muratore-Ginanneschi. Nat Commun (2022).](https://www.nature.com/articles/s41467-022-31533-8)\n",
    "\n",
    "\\[2\\] [Donvil and Muratore-Ginanneschi. New J. Phys. (2023).](https://dx.doi.org/10.1088/1367-2630/acd4dc)\n",
    "\n",
    "\\[3\\] [Donvil and Muratore-Ginanneschi. *Open Systems & Information Dynamics*.](https://www.worldscientific.com/worldscinet/osid)\n",
    "\n",
    "\\[4\\] [Breuer and Petruccione *The Theory of Open Quantum Systems*.](https://doi.org/10.1093/acprof:oso/9780199213900.001.0001)\n",
    "\n",
    "\\[5\\] [QuTiP 5: The Quantum Toolbox in Python](https://arxiv.org/abs/2412.04705)\n"
   ]
  },
  {
   "cell_type": "markdown",
   "id": "4f1be617",
   "metadata": {},
   "source": [
    "## About"
   ]
  },
  {
   "cell_type": "code",
   "execution_count": 21,
   "id": "ad7bac32",
   "metadata": {
    "execution": {
     "iopub.execute_input": "2025-08-20T04:18:37.443651Z",
     "iopub.status.busy": "2025-08-20T04:18:37.443476Z",
     "iopub.status.idle": "2025-08-20T04:18:38.083518Z",
     "shell.execute_reply": "2025-08-20T04:18:38.082892Z"
    }
   },
   "outputs": [
    {
     "name": "stdout",
     "output_type": "stream",
     "text": [
      "\n",
      "QuTiP: Quantum Toolbox in Python\n",
      "================================\n",
      "Copyright (c) QuTiP team 2011 and later.\n",
      "Current admin team: Alexander Pitchford, Nathan Shammah, Shahnawaz Ahmed, Neill Lambert, Eric Giguère, Boxi Li, Simon Cross, Asier Galicia, Paul Menczel, and Patrick Hopf.\n",
      "Board members: Daniel Burgarth, Robert Johansson, Anton F. Kockum, Franco Nori and Will Zeng.\n",
      "Original developers: R. J. Johansson & P. D. Nation.\n",
      "Previous lead developers: Chris Granade & A. Grimsmo.\n",
      "Currently developed through wide collaboration. See https://github.com/qutip for details.\n",
      "\n",
      "QuTiP Version:      5.3.0.dev0+d849c94\n",
      "Numpy Version:      2.3.2\n",
      "Scipy Version:      1.16.1\n",
      "Cython Version:     3.1.3\n",
      "Matplotlib Version: 3.10.5\n",
      "Python Version:     3.12.0\n",
      "Number of CPUs:     4\n",
      "BLAS Info:          Generic\n",
      "INTEL MKL Ext:      None\n",
      "Platform Info:      Linux (x86_64)\n",
      "Installation path:  /home/runner/miniconda3/envs/test-environment-v5/lib/python3.12/site-packages/qutip\n",
      "\n",
      "Installed QuTiP family packages\n",
      "-------------------------------\n",
      "\n",
      "qutip-qtrl: 0.2.0.dev0+acb71a0\n"
     ]
    },
    {
     "name": "stdout",
     "output_type": "stream",
     "text": [
      "qutip-jax: 0.1.1.dev6\n",
      "qutip-qip: 0.5.0.dev0+2db1138\n",
      "\n",
      "================================================================================\n",
      "Please cite QuTiP in your publication.\n",
      "================================================================================\n",
      "For your convenience a bibtex reference can be easily generated using `qutip.cite()`\n"
     ]
    }
   ],
   "source": [
    "about()"
   ]
  },
  {
   "cell_type": "markdown",
   "id": "936c5859",
   "metadata": {},
   "source": [
    "## Testing"
   ]
  },
  {
   "cell_type": "code",
   "execution_count": 22,
   "id": "9843a328",
   "metadata": {
    "execution": {
     "iopub.execute_input": "2025-08-20T04:18:38.085137Z",
     "iopub.status.busy": "2025-08-20T04:18:38.084937Z",
     "iopub.status.idle": "2025-08-20T04:18:38.088529Z",
     "shell.execute_reply": "2025-08-20T04:18:38.088047Z"
    }
   },
   "outputs": [],
   "source": [
    "assert np.allclose(\n",
    "    rho11_me, rho11_heom, atol=1e-3\n",
    "), \"rho11 of mesolve and heomsolve do not agree.\"\n",
    "assert np.allclose(\n",
    "    rho11_me, rho11_mc, atol=1e-2\n",
    "), \"rho11 of nm_mcsolve deviates from mesolve too much.\"\n",
    "assert np.allclose(\n",
    "    rho01_me[5:-5], rho01_heom, atol=1e-3\n",
    "), \"|rho01|^2 of mesolve and heomsolve do not agree.\"\n",
    "assert np.allclose(\n",
    "    rho01_me, rho01_mc, atol=1e-1\n",
    "), \"|rho01|^2 of nm_mcsolve deviates from mesolve too much.\"\n",
    "assert (\n",
    "    np.max(mart_dev) < 1e-1\n",
    "), \"MC Simulation has not converged well enough. Average infl. mart. > 1e-1\""
   ]
  }
 ],
 "metadata": {
  "jupytext": {
   "cell_metadata_filter": "-all",
   "notebook_metadata_filter": "-jupytext.cell_metadata_filter,-jupytext.notebook_metadata_filter"
  },
  "kernelspec": {
   "display_name": "Python 3 (ipykernel)",
   "language": "python",
   "name": "python3"
  },
  "language_info": {
   "codemirror_mode": {
    "name": "ipython",
    "version": 3
   },
   "file_extension": ".py",
   "mimetype": "text/x-python",
   "name": "python",
   "nbconvert_exporter": "python",
   "pygments_lexer": "ipython3",
   "version": "3.12.0"
  }
 },
 "nbformat": 4,
 "nbformat_minor": 5
}
