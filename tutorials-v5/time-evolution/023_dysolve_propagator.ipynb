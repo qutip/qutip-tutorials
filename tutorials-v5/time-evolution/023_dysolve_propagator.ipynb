{
 "cells": [
  {
   "cell_type": "markdown",
   "id": "4d23f31b",
   "metadata": {},
   "source": [
    "# Calculate time propagators with Dysolve\n",
    "\n",
    "Author: Mathis Beaudoin, 2025\n",
    "\n",
    "### Introduction\n",
    "\n",
    "This notebook shows how to compute time propagators with Dysolve using QuTiP. Dysolve is a method to compute time propagators for hamiltonians of the form $H(t) = H_0 + \\cos(\\omega t)X$ where $H_0$ is some base hamiltonian and $X$ a perturbation. It performs better than other general methods for this class of hamiltonians and, later on, should support more complicated oscillating perturbations. It is still in development with more features to come in the future. For more details on Dysolve, see the corresponding guide in the documentation.\n",
    "\n",
    "For the moment, Dysolve can be used with the class `DysolvePropagator` and the function `dysolve_propagator` from QuTiP's solvers. They follow a similar structure to the class `Propagator` and the function `propagator`, another solver that also computes time propagators. \n",
    "\n",
    "Here, we import the necessary packages."
   ]
  },
  {
   "cell_type": "code",
   "execution_count": 1,
   "id": "0c86335a",
   "metadata": {
    "execution": {
     "iopub.execute_input": "2025-08-20T04:17:41.127346Z",
     "iopub.status.busy": "2025-08-20T04:17:41.127169Z",
     "iopub.status.idle": "2025-08-20T04:17:41.910505Z",
     "shell.execute_reply": "2025-08-20T04:17:41.909979Z"
    }
   },
   "outputs": [],
   "source": [
    "from qutip.solver.dysolve_propagator import DysolvePropagator, dysolve_propagator\n",
    "from qutip.solver.propagator import propagator\n",
    "from qutip import qeye, sigmax, sigmay, sigmaz, tensor, CoreOptions, about\n",
    "import numpy as np"
   ]
  },
  {
   "cell_type": "markdown",
   "id": "62c0e2ea",
   "metadata": {},
   "source": [
    "### One qubit example using `DysolvePropagator`\n",
    "\n",
    "We have to define what $H_0$, $X$ and $\\omega$ will be. For example, $H(t) = \\sigma_z + \\cos(10t)\\sigma_x$."
   ]
  },
  {
   "cell_type": "code",
   "execution_count": 2,
   "id": "550a1538",
   "metadata": {
    "execution": {
     "iopub.execute_input": "2025-08-20T04:17:41.912221Z",
     "iopub.status.busy": "2025-08-20T04:17:41.912000Z",
     "iopub.status.idle": "2025-08-20T04:17:41.914349Z",
     "shell.execute_reply": "2025-08-20T04:17:41.913987Z"
    }
   },
   "outputs": [],
   "source": [
    "H_0 = sigmaz()\n",
    "X = sigmax()\n",
    "omega = 10.0"
   ]
  },
  {
   "cell_type": "markdown",
   "id": "d0a696a3",
   "metadata": {},
   "source": [
    "Some options can be defined. `max_order` will be the order of approximation used when calculating a propagator. The higher this integer is, the more precise the results will be (at a cost of taking more time to calculate). `a_tol` is simply the absolute tolerance used in the calculations. Finally, a time propagator can be computed using subpropagators of time increment `max_dt`. If `max_dt` is set to 0.25, then the propagator $U(1, 0)$ will come from the multiplication of the supropagators $U(0.25, 0)$, $U(0.5, 0.25)$, $U(0.75, 0.5)$ and $U(1, 0.75)$. This allows for more precise results when the evolution is over a long period of time. In our case, we keep `a_tol` and `max_dt` to their default value, but we change `max_order` to 5."
   ]
  },
  {
   "cell_type": "code",
   "execution_count": 3,
   "id": "5f0df5ea",
   "metadata": {
    "execution": {
     "iopub.execute_input": "2025-08-20T04:17:41.915677Z",
     "iopub.status.busy": "2025-08-20T04:17:41.915516Z",
     "iopub.status.idle": "2025-08-20T04:17:41.917803Z",
     "shell.execute_reply": "2025-08-20T04:17:41.917318Z"
    }
   },
   "outputs": [],
   "source": [
    "options = {'max_order': 5}"
   ]
  },
  {
   "cell_type": "markdown",
   "id": "ea1ad0a5",
   "metadata": {},
   "source": [
    "Everything is now defined to initialize an instance."
   ]
  },
  {
   "cell_type": "code",
   "execution_count": 4,
   "id": "d4ef87c4",
   "metadata": {
    "execution": {
     "iopub.execute_input": "2025-08-20T04:17:41.919044Z",
     "iopub.status.busy": "2025-08-20T04:17:41.918897Z",
     "iopub.status.idle": "2025-08-20T04:17:41.921883Z",
     "shell.execute_reply": "2025-08-20T04:17:41.921511Z"
    }
   },
   "outputs": [],
   "source": [
    "dy = DysolvePropagator(H_0, X, omega, options=options)"
   ]
  },
  {
   "cell_type": "markdown",
   "id": "45a931e7",
   "metadata": {},
   "source": [
    "Then, to compute a time propagator, simply call the instance with a given initial time and final time. Also, only a final time can be given and, in that case, the initial time is considered to be 0."
   ]
  },
  {
   "cell_type": "code",
   "execution_count": 5,
   "id": "499eac4a",
   "metadata": {
    "execution": {
     "iopub.execute_input": "2025-08-20T04:17:41.923156Z",
     "iopub.status.busy": "2025-08-20T04:17:41.923001Z",
     "iopub.status.idle": "2025-08-20T04:17:41.930585Z",
     "shell.execute_reply": "2025-08-20T04:17:41.930092Z"
    }
   },
   "outputs": [],
   "source": [
    "t_i = -1\n",
    "t_f = 1\n",
    "U = dy(t_f, t_i)"
   ]
  },
  {
   "cell_type": "markdown",
   "id": "24646363",
   "metadata": {},
   "source": [
    "This returns a single time propagator $U(t_f = 1, t_i = -1)$. To verify that the $U$ is correct, we compare it to what `propagator` would return."
   ]
  },
  {
   "cell_type": "code",
   "execution_count": 6,
   "id": "73050d77",
   "metadata": {
    "execution": {
     "iopub.execute_input": "2025-08-20T04:17:41.931850Z",
     "iopub.status.busy": "2025-08-20T04:17:41.931695Z",
     "iopub.status.idle": "2025-08-20T04:17:41.952250Z",
     "shell.execute_reply": "2025-08-20T04:17:41.951764Z"
    }
   },
   "outputs": [],
   "source": [
    "# Solve using propagator\n",
    "def X_coeff(t, omega):\n",
    "    return np.cos(omega * t)\n",
    "\n",
    "H = [H_0, [X, X_coeff]]\n",
    "args = {'omega': omega}\n",
    "prop = propagator(\n",
    "    H, [t_i, t_f], args=args, options={\"atol\": 1e-10, \"rtol\": 1e-8}\n",
    ")\n",
    "\n",
    "# Comparison\n",
    "with CoreOptions(atol=1e-10, rtol=1e-6):\n",
    "    assert U == prop[1]"
   ]
  },
  {
   "cell_type": "markdown",
   "id": "5400ff35",
   "metadata": {},
   "source": [
    "### Two qubits example with `dysolve_propagator`\n",
    "\n",
    "We proceed like the previous example."
   ]
  },
  {
   "cell_type": "code",
   "execution_count": 7,
   "id": "b32cb8f0",
   "metadata": {
    "execution": {
     "iopub.execute_input": "2025-08-20T04:17:41.953653Z",
     "iopub.status.busy": "2025-08-20T04:17:41.953495Z",
     "iopub.status.idle": "2025-08-20T04:17:41.956269Z",
     "shell.execute_reply": "2025-08-20T04:17:41.955800Z"
    }
   },
   "outputs": [],
   "source": [
    "# Define the system\n",
    "H_0 = tensor(sigmax(), sigmaz()) + tensor(qeye(2), sigmay())\n",
    "X = tensor(qeye(2), sigmaz())\n",
    "omega = 5.0\n",
    "\n",
    "# Keep options to default"
   ]
  },
  {
   "cell_type": "markdown",
   "id": "282a33ba",
   "metadata": {},
   "source": [
    "`dysolve_propagator` can take more than one time value. If a single time is passed, a single propagator $U(t,0)$ is returned. If a list of times is given, the function will return a list of propagator $[U(\\text{times}[i], \\text{times}[0])]$ for all $i$. "
   ]
  },
  {
   "cell_type": "code",
   "execution_count": 8,
   "id": "00b3e17d",
   "metadata": {
    "execution": {
     "iopub.execute_input": "2025-08-20T04:17:41.957564Z",
     "iopub.status.busy": "2025-08-20T04:17:41.957409Z",
     "iopub.status.idle": "2025-08-20T04:17:42.077037Z",
     "shell.execute_reply": "2025-08-20T04:17:42.076559Z"
    }
   },
   "outputs": [],
   "source": [
    "times = [-0.1, 0, 0.1]\n",
    "Us = dysolve_propagator(H_0, X, omega, times)"
   ]
  },
  {
   "cell_type": "markdown",
   "id": "fe330ef4",
   "metadata": {},
   "source": [
    "Again, we compare the results with `propagator`."
   ]
  },
  {
   "cell_type": "code",
   "execution_count": 9,
   "id": "c13cea8e",
   "metadata": {
    "execution": {
     "iopub.execute_input": "2025-08-20T04:17:42.078815Z",
     "iopub.status.busy": "2025-08-20T04:17:42.078647Z",
     "iopub.status.idle": "2025-08-20T04:17:42.099233Z",
     "shell.execute_reply": "2025-08-20T04:17:42.098645Z"
    }
   },
   "outputs": [],
   "source": [
    "# Solve using propagator\n",
    "def X_coeff(t, omega):\n",
    "    return np.cos(omega * t)\n",
    "\n",
    "H = [H_0, [X, X_coeff]]\n",
    "args = {'omega': omega}\n",
    "props = propagator(\n",
    "    H, times, args=args, options={\"atol\": 1e-10, \"rtol\": 1e-8}\n",
    ")\n",
    "\n",
    "# Comparison\n",
    "with CoreOptions(atol=1e-10, rtol=1e-6):\n",
    "    assert Us == props"
   ]
  },
  {
   "cell_type": "markdown",
   "id": "a6a285c9",
   "metadata": {},
   "source": [
    "### About"
   ]
  },
  {
   "cell_type": "code",
   "execution_count": 10,
   "id": "c98b423e",
   "metadata": {
    "execution": {
     "iopub.execute_input": "2025-08-20T04:17:42.100944Z",
     "iopub.status.busy": "2025-08-20T04:17:42.100743Z",
     "iopub.status.idle": "2025-08-20T04:17:42.632199Z",
     "shell.execute_reply": "2025-08-20T04:17:42.631680Z"
    }
   },
   "outputs": [
    {
     "name": "stdout",
     "output_type": "stream",
     "text": [
      "\n",
      "QuTiP: Quantum Toolbox in Python\n",
      "================================\n",
      "Copyright (c) QuTiP team 2011 and later.\n",
      "Current admin team: Alexander Pitchford, Nathan Shammah, Shahnawaz Ahmed, Neill Lambert, Eric Giguère, Boxi Li, Simon Cross, Asier Galicia, Paul Menczel, and Patrick Hopf.\n",
      "Board members: Daniel Burgarth, Robert Johansson, Anton F. Kockum, Franco Nori and Will Zeng.\n",
      "Original developers: R. J. Johansson & P. D. Nation.\n",
      "Previous lead developers: Chris Granade & A. Grimsmo.\n",
      "Currently developed through wide collaboration. See https://github.com/qutip for details.\n",
      "\n",
      "QuTiP Version:      5.3.0.dev0+d849c94\n",
      "Numpy Version:      2.3.2\n",
      "Scipy Version:      1.16.1\n",
      "Cython Version:     3.1.3\n",
      "Matplotlib Version: 3.10.5\n",
      "Python Version:     3.12.0\n",
      "Number of CPUs:     4\n",
      "BLAS Info:          Generic\n",
      "INTEL MKL Ext:      None\n",
      "Platform Info:      Linux (x86_64)\n",
      "Installation path:  /home/runner/miniconda3/envs/test-environment-v5/lib/python3.12/site-packages/qutip\n",
      "\n",
      "Installed QuTiP family packages\n",
      "-------------------------------\n",
      "\n",
      "qutip-qtrl: 0.2.0.dev0+acb71a0\n"
     ]
    },
    {
     "name": "stdout",
     "output_type": "stream",
     "text": [
      "qutip-jax: 0.1.1.dev6\n",
      "qutip-qip: 0.5.0.dev0+2db1138\n",
      "\n",
      "================================================================================\n",
      "Please cite QuTiP in your publication.\n",
      "================================================================================\n",
      "For your convenience a bibtex reference can be easily generated using `qutip.cite()`\n"
     ]
    }
   ],
   "source": [
    "about()"
   ]
  }
 ],
 "metadata": {
  "jupytext": {
   "cell_metadata_filter": "-all",
   "notebook_metadata_filter": "-jupytext.cell_metadata_filter,-jupytext.notebook_metadata_filter"
  },
  "kernelspec": {
   "display_name": "Python 3 (ipykernel)",
   "language": "python",
   "name": "python3"
  },
  "language_info": {
   "codemirror_mode": {
    "name": "ipython",
    "version": 3
   },
   "file_extension": ".py",
   "mimetype": "text/x-python",
   "name": "python",
   "nbconvert_exporter": "python",
   "pygments_lexer": "ipython3",
   "version": "3.12.0"
  }
 },
 "nbformat": 4,
 "nbformat_minor": 5
}
