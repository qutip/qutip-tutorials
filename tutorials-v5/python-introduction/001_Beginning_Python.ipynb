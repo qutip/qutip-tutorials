{
 "cells": [
  {
   "cell_type": "markdown",
   "id": "5869d315",
   "metadata": {},
   "source": [
    "# Introduction to Python"
   ]
  },
  {
   "cell_type": "markdown",
   "id": "b3138fa9",
   "metadata": {},
   "source": [
    "P.D. Nation and J.R. Johansson\n",
    "\n",
    "For more information about QuTiP see [http://qutip.org](http://qutip.org)"
   ]
  },
  {
   "cell_type": "markdown",
   "id": "0357ad99",
   "metadata": {},
   "source": [
    "## Imports\n",
    "Here we import the required functions for later usage."
   ]
  },
  {
   "cell_type": "code",
   "execution_count": 1,
   "id": "d1bbf09b",
   "metadata": {
    "execution": {
     "iopub.execute_input": "2025-08-20T03:57:45.000367Z",
     "iopub.status.busy": "2025-08-20T03:57:45.000141Z",
     "iopub.status.idle": "2025-08-20T03:57:45.467972Z",
     "shell.execute_reply": "2025-08-20T03:57:45.467475Z"
    }
   },
   "outputs": [],
   "source": [
    "import matplotlib.pyplot as plt\n",
    "import numpy as np\n",
    "from scipy.special import factorial"
   ]
  },
  {
   "cell_type": "markdown",
   "id": "b6580f95",
   "metadata": {},
   "source": [
    "## Using Python For Simple Calculations"
   ]
  },
  {
   "cell_type": "markdown",
   "id": "bf5b5408",
   "metadata": {},
   "source": [
    "As a first step, lets try to use the interactive Python command line tool **iPython** as a basic calculator.  Addition, subtraction, and multiplication, all work in the same way as you would write the equations down on paper"
   ]
  },
  {
   "cell_type": "code",
   "execution_count": 2,
   "id": "b119c92a",
   "metadata": {
    "execution": {
     "iopub.execute_input": "2025-08-20T03:57:45.469590Z",
     "iopub.status.busy": "2025-08-20T03:57:45.469379Z",
     "iopub.status.idle": "2025-08-20T03:57:45.474222Z",
     "shell.execute_reply": "2025-08-20T03:57:45.473816Z"
    }
   },
   "outputs": [
    {
     "data": {
      "text/plain": [
       "15"
      ]
     },
     "execution_count": 2,
     "metadata": {},
     "output_type": "execute_result"
    }
   ],
   "source": [
    "10 + 5"
   ]
  },
  {
   "cell_type": "code",
   "execution_count": 3,
   "id": "c46dd553",
   "metadata": {
    "execution": {
     "iopub.execute_input": "2025-08-20T03:57:45.475468Z",
     "iopub.status.busy": "2025-08-20T03:57:45.475304Z",
     "iopub.status.idle": "2025-08-20T03:57:45.478357Z",
     "shell.execute_reply": "2025-08-20T03:57:45.477881Z"
    }
   },
   "outputs": [
    {
     "data": {
      "text/plain": [
       "-147"
      ]
     },
     "execution_count": 3,
     "metadata": {},
     "output_type": "execute_result"
    }
   ],
   "source": [
    "10 - 157"
   ]
  },
  {
   "cell_type": "code",
   "execution_count": 4,
   "id": "5d0d6c1d",
   "metadata": {
    "execution": {
     "iopub.execute_input": "2025-08-20T03:57:45.479609Z",
     "iopub.status.busy": "2025-08-20T03:57:45.479452Z",
     "iopub.status.idle": "2025-08-20T03:57:45.482496Z",
     "shell.execute_reply": "2025-08-20T03:57:45.482078Z"
    }
   },
   "outputs": [
    {
     "data": {
      "text/plain": [
       "1.3333333333333333"
      ]
     },
     "execution_count": 4,
     "metadata": {},
     "output_type": "execute_result"
    }
   ],
   "source": [
    "4 / 3"
   ]
  },
  {
   "cell_type": "code",
   "execution_count": 5,
   "id": "d568ec30",
   "metadata": {
    "execution": {
     "iopub.execute_input": "2025-08-20T03:57:45.483713Z",
     "iopub.status.busy": "2025-08-20T03:57:45.483556Z",
     "iopub.status.idle": "2025-08-20T03:57:45.486591Z",
     "shell.execute_reply": "2025-08-20T03:57:45.486107Z"
    }
   },
   "outputs": [
    {
     "data": {
      "text/plain": [
       "92.0"
      ]
     },
     "execution_count": 5,
     "metadata": {},
     "output_type": "execute_result"
    }
   ],
   "source": [
    "(50 - 4) * 10 / 5"
   ]
  },
  {
   "cell_type": "markdown",
   "id": "43d6989f",
   "metadata": {},
   "source": [
    "However, things like raising a number to a power, $4^{4}$, are written differently."
   ]
  },
  {
   "cell_type": "code",
   "execution_count": 6,
   "id": "30be3b45",
   "metadata": {
    "execution": {
     "iopub.execute_input": "2025-08-20T03:57:45.487808Z",
     "iopub.status.busy": "2025-08-20T03:57:45.487652Z",
     "iopub.status.idle": "2025-08-20T03:57:45.490615Z",
     "shell.execute_reply": "2025-08-20T03:57:45.490136Z"
    }
   },
   "outputs": [
    {
     "data": {
      "text/plain": [
       "256"
      ]
     },
     "execution_count": 6,
     "metadata": {},
     "output_type": "execute_result"
    }
   ],
   "source": [
    "4**4"
   ]
  },
  {
   "cell_type": "markdown",
   "id": "2049f569",
   "metadata": {},
   "source": [
    "We could also express this in the mathematically equivalent way as $4^{4.0}$.  However, inside of the computer, the result is not treated the same as the above answer."
   ]
  },
  {
   "cell_type": "code",
   "execution_count": 7,
   "id": "cb78c7f7",
   "metadata": {
    "execution": {
     "iopub.execute_input": "2025-08-20T03:57:45.491948Z",
     "iopub.status.busy": "2025-08-20T03:57:45.491790Z",
     "iopub.status.idle": "2025-08-20T03:57:45.494883Z",
     "shell.execute_reply": "2025-08-20T03:57:45.494413Z"
    }
   },
   "outputs": [
    {
     "data": {
      "text/plain": [
       "256.0"
      ]
     },
     "execution_count": 7,
     "metadata": {},
     "output_type": "execute_result"
    }
   ],
   "source": [
    "4**4.0"
   ]
  },
  {
   "cell_type": "markdown",
   "id": "097c9422",
   "metadata": {},
   "source": [
    "## Integers vs. Floating Point Numbers"
   ]
  },
  {
   "cell_type": "markdown",
   "id": "da7f455c",
   "metadata": {},
   "source": [
    "All information stored in a computer must be represented in a binary format consisting of zeros and ones (e.g. $461\\rightarrow 111001101$).  Each zero or one is called a **bit**, and given $N$ bits, one can store all of the integers in the range $[0,2^{N-1}]$, where the $-1$ is due to the fact that the first bit is reserved for defining if a number is positive or negative   \n",
    "\n",
    "However, given a fixed number of bits, it is impossible to store an arbitrary number exactly.  Therefore, if one is given a random number, unless the number is exactly divisible by a factor of two, the conversion between the random number and the binary bit representation ultimately leads to a loss of precision, and what is known as **roundoff error**.\n"
   ]
  },
  {
   "cell_type": "markdown",
   "id": "c3dcf5b8",
   "metadata": {},
   "source": [
    "When dealing with numbers inside a computer there are two distinct types of numbers to consider:"
   ]
  },
  {
   "cell_type": "markdown",
   "id": "c59df859",
   "metadata": {},
   "source": [
    "- **Integers** - (1,2,4,-586,..) Are what are called **fixed-point numbers**, where the term fixed-point means that there is a fixed number of decimal places in the number (zero for integers).  These numbers can be stored exactly in a computer."
   ]
  },
  {
   "cell_type": "markdown",
   "id": "1e42be7f",
   "metadata": {},
   "source": [
    "- **Doubles/Floats** - (3.141,0.21,-0.1,..) These are **floating-point numbers** that are the binary equivalent to scientific notation $c=2.99792458\\times 10^{8}$.  Doubles (also called double-precision numbers) are floating point numbers that are written using 64-bits and, in general, are only accurate to the 15th or 16th decimal place.  Floats (or single-precision numbers) use 32-bits, and are good to 6-7 decimal places.  **Serious scientific calculations always require a combination of integers and double (64-bit) numbers**."
   ]
  },
  {
   "cell_type": "code",
   "execution_count": 8,
   "id": "95be3241",
   "metadata": {
    "execution": {
     "iopub.execute_input": "2025-08-20T03:57:45.496170Z",
     "iopub.status.busy": "2025-08-20T03:57:45.496014Z",
     "iopub.status.idle": "2025-08-20T03:57:45.499079Z",
     "shell.execute_reply": "2025-08-20T03:57:45.498609Z"
    }
   },
   "outputs": [
    {
     "data": {
      "text/plain": [
       "7.000000000000001"
      ]
     },
     "execution_count": 8,
     "metadata": {},
     "output_type": "execute_result"
    }
   ],
   "source": [
    "7 + 0.000000000000001"
   ]
  },
  {
   "cell_type": "code",
   "execution_count": 9,
   "id": "bbbcf87e",
   "metadata": {
    "execution": {
     "iopub.execute_input": "2025-08-20T03:57:45.500408Z",
     "iopub.status.busy": "2025-08-20T03:57:45.500228Z",
     "iopub.status.idle": "2025-08-20T03:57:45.503172Z",
     "shell.execute_reply": "2025-08-20T03:57:45.502710Z"
    }
   },
   "outputs": [
    {
     "data": {
      "text/plain": [
       "7.0"
      ]
     },
     "execution_count": 9,
     "metadata": {},
     "output_type": "execute_result"
    }
   ],
   "source": [
    "7 + 0.0000000000000001"
   ]
  },
  {
   "cell_type": "code",
   "execution_count": 10,
   "id": "845217d0",
   "metadata": {
    "execution": {
     "iopub.execute_input": "2025-08-20T03:57:45.504372Z",
     "iopub.status.busy": "2025-08-20T03:57:45.504218Z",
     "iopub.status.idle": "2025-08-20T03:57:45.507258Z",
     "shell.execute_reply": "2025-08-20T03:57:45.506786Z"
    }
   },
   "outputs": [
    {
     "data": {
      "text/plain": [
       "0.30000000000000004"
      ]
     },
     "execution_count": 10,
     "metadata": {},
     "output_type": "execute_result"
    }
   ],
   "source": [
    "0.1 + 0.2"
   ]
  },
  {
   "cell_type": "markdown",
   "id": "463717f1",
   "metadata": {},
   "source": [
    "This last example clearly highlights the fact that the computer does not store decimal (floating-point) numbers exactly.  The loss of precision in floating-point numbers can be characterized by the **machine precision**, $\\epsilon_{\\rm m}$, that is defined to be the smallest positive number such that \n",
    "\n",
    "$$1_{\\rm c}+\\epsilon_{\\rm m}\\neq 1_{\\rm c}$$\n",
    "\n",
    "where the subscript on $1_{\\rm c}$ is meant to remind you that this is a computer number.  Therefore, for any arbitrary number $N$ is related to its floating-point equivalent $N_{\\rm c}$ by\n",
    "\n",
    "$$N_{\\rm c}=N\\pm \\epsilon, \\ \\ \\forall~|\\epsilon|< \\epsilon_{\\rm m}.$$\n",
    "\n",
    "**Take Home Message** - All double-precision decimal numbers that are not factors of two will have error in the 15th decimal place.  This can lead to errors in your numerical solutions if you are not careful."
   ]
  },
  {
   "cell_type": "markdown",
   "id": "a9655f58",
   "metadata": {},
   "source": [
    "## Making Python Smarter Using NumPy"
   ]
  },
  {
   "cell_type": "markdown",
   "id": "f7e4fd31",
   "metadata": {},
   "source": [
    "Python itself has limited support for mathematics outside of simple arithmetic.  Therefore, we will use the functions in the NumPy module to do more impressive, and faster, calculations.  We have imported NumPy already at the top of this notebook and can use it now by referring to `np`.\n",
    "\n",
    "We can now do more impressive calculations:"
   ]
  },
  {
   "cell_type": "code",
   "execution_count": 11,
   "id": "ae134cc9",
   "metadata": {
    "execution": {
     "iopub.execute_input": "2025-08-20T03:57:45.508514Z",
     "iopub.status.busy": "2025-08-20T03:57:45.508345Z",
     "iopub.status.idle": "2025-08-20T03:57:45.511219Z",
     "shell.execute_reply": "2025-08-20T03:57:45.510845Z"
    }
   },
   "outputs": [
    {
     "data": {
      "text/plain": [
       "np.float64(10.381236562731843)"
      ]
     },
     "execution_count": 11,
     "metadata": {},
     "output_type": "execute_result"
    }
   ],
   "source": [
    "np.exp(2.34)"
   ]
  },
  {
   "cell_type": "code",
   "execution_count": 12,
   "id": "8d8ca08d",
   "metadata": {
    "execution": {
     "iopub.execute_input": "2025-08-20T03:57:45.512435Z",
     "iopub.status.busy": "2025-08-20T03:57:45.512272Z",
     "iopub.status.idle": "2025-08-20T03:57:45.515446Z",
     "shell.execute_reply": "2025-08-20T03:57:45.514952Z"
    }
   },
   "outputs": [
    {
     "data": {
      "text/plain": [
       "np.float64(2.23606797749979)"
      ]
     },
     "execution_count": 12,
     "metadata": {},
     "output_type": "execute_result"
    }
   ],
   "source": [
    "np.sqrt(5)"
   ]
  },
  {
   "cell_type": "code",
   "execution_count": 13,
   "id": "9d023c93",
   "metadata": {
    "execution": {
     "iopub.execute_input": "2025-08-20T03:57:45.516705Z",
     "iopub.status.busy": "2025-08-20T03:57:45.516557Z",
     "iopub.status.idle": "2025-08-20T03:57:45.519668Z",
     "shell.execute_reply": "2025-08-20T03:57:45.519239Z"
    }
   },
   "outputs": [
    {
     "data": {
      "text/plain": [
       "np.float64(0.6366197723675814)"
      ]
     },
     "execution_count": 13,
     "metadata": {},
     "output_type": "execute_result"
    }
   ],
   "source": [
    "np.sinc(0.5)"
   ]
  },
  {
   "cell_type": "markdown",
   "id": "fafb5d37",
   "metadata": {},
   "source": [
    "## Variables"
   ]
  },
  {
   "cell_type": "markdown",
   "id": "e32b3585",
   "metadata": {},
   "source": [
    "If we want to be able to store the numbers and results from our calculations then we must define variables using the \"=\" sign:"
   ]
  },
  {
   "cell_type": "code",
   "execution_count": 14,
   "id": "eefe54a8",
   "metadata": {
    "execution": {
     "iopub.execute_input": "2025-08-20T03:57:45.520900Z",
     "iopub.status.busy": "2025-08-20T03:57:45.520759Z",
     "iopub.status.idle": "2025-08-20T03:57:45.523852Z",
     "shell.execute_reply": "2025-08-20T03:57:45.523348Z"
    }
   },
   "outputs": [
    {
     "data": {
      "text/plain": [
       "78.53981633974483"
      ]
     },
     "execution_count": 14,
     "metadata": {},
     "output_type": "execute_result"
    }
   ],
   "source": [
    "radius = 5\n",
    "area = np.pi * radius**2\n",
    "area"
   ]
  },
  {
   "cell_type": "markdown",
   "id": "f996c67a",
   "metadata": {},
   "source": [
    "We see that our variables name is defined on the left of the ```=``` sign and the value its given is defined on the right.  Here we have also used the ```pi``` variable that has been predefined by NumPy.  Variables can then be used in other expressions.  \n",
    "\n",
    "If a predefined variable is again used on the left side of ```=``` then its original value is replaced."
   ]
  },
  {
   "cell_type": "code",
   "execution_count": 15,
   "id": "55318e7b",
   "metadata": {
    "execution": {
     "iopub.execute_input": "2025-08-20T03:57:45.525139Z",
     "iopub.status.busy": "2025-08-20T03:57:45.524995Z",
     "iopub.status.idle": "2025-08-20T03:57:45.527854Z",
     "shell.execute_reply": "2025-08-20T03:57:45.527495Z"
    }
   },
   "outputs": [
    {
     "data": {
      "text/plain": [
       "12.5"
      ]
     },
     "execution_count": 15,
     "metadata": {},
     "output_type": "execute_result"
    }
   ],
   "source": [
    "x = 10\n",
    "x = (x**2 + 25) / 10\n",
    "x"
   ]
  },
  {
   "cell_type": "markdown",
   "id": "24a87a06",
   "metadata": {},
   "source": [
    "This is different than the mathematical equation $10x=x^{2}+25$  which has the solution $x=5$.  Therefore, it is important to remember that the ```=``` sign in a computer program is **not** equivalent to the mathematical equality. "
   ]
  },
  {
   "cell_type": "markdown",
   "id": "fc041535",
   "metadata": {},
   "source": [
    "What happens if you try to use a variable without first defining it? \n",
    "\n",
    "Python would give us an error that the variable is not defined.  In addition, there are several words that are reserved by the Python language and cannot be used as variables:\n",
    "\n",
    "    and, as, assert, break, class, continue, def, del, elif, else, except, \n",
    "    exec, finally, for, from, global, if, import, in, is, lambda, not, or,\n",
    "    pass, print, raise, return, try, while, with, yield\n",
    "    \n",
    "Other than the above reserved words, your variables can be anything that starts with a letter or the underscore character \"$\\_$\" followed by any combination of alphanumeric characters and \"$\\_$\".  Note that using upper or lower case letters will give you two different variables."
   ]
  },
  {
   "cell_type": "code",
   "execution_count": 16,
   "id": "12471087",
   "metadata": {
    "execution": {
     "iopub.execute_input": "2025-08-20T03:57:45.529111Z",
     "iopub.status.busy": "2025-08-20T03:57:45.528967Z",
     "iopub.status.idle": "2025-08-20T03:57:45.532000Z",
     "shell.execute_reply": "2025-08-20T03:57:45.531610Z"
    }
   },
   "outputs": [
    {
     "data": {
      "text/plain": [
       "80"
      ]
     },
     "execution_count": 16,
     "metadata": {},
     "output_type": "execute_result"
    }
   ],
   "source": [
    "_freq = 8\n",
    "Oscillator_Energy = 10\n",
    "_freq * Oscillator_Energy"
   ]
  },
  {
   "cell_type": "markdown",
   "id": "bf4cea09",
   "metadata": {},
   "source": [
    "### Some Rules About Variables"
   ]
  },
  {
   "cell_type": "markdown",
   "id": "35e43a5e",
   "metadata": {},
   "source": [
    "Although there are many ways to define variables in Python, it is best to try to define your variables in all the same way.  In this class, all of our variables will use only lower case characters. \n"
   ]
  },
  {
   "cell_type": "code",
   "execution_count": 17,
   "id": "ef6234c7",
   "metadata": {
    "execution": {
     "iopub.execute_input": "2025-08-20T03:57:45.533244Z",
     "iopub.status.busy": "2025-08-20T03:57:45.533103Z",
     "iopub.status.idle": "2025-08-20T03:57:45.535142Z",
     "shell.execute_reply": "2025-08-20T03:57:45.534774Z"
    }
   },
   "outputs": [],
   "source": [
    "speed_of_light = 2.9979 * 10**8\n",
    "spring_constant = np.sqrt(2 / 5)"
   ]
  },
  {
   "cell_type": "markdown",
   "id": "1369203b",
   "metadata": {},
   "source": [
    "It is also good practice to use variable names that correspond to the physical quantity that the variable represents."
   ]
  },
  {
   "cell_type": "markdown",
   "id": "6aaef262",
   "metadata": {},
   "source": [
    "## Strings"
   ]
  },
  {
   "cell_type": "markdown",
   "id": "b7ad5b28",
   "metadata": {},
   "source": [
    "Often we want to print some text along with our variables, ask the user for input, or actually use the words and letters themselves as variables (e.g. in DNA analysis).  All of these can be accomplished using **strings**.  We have already seen one string already in this class: "
   ]
  },
  {
   "cell_type": "code",
   "execution_count": 18,
   "id": "6f979bc5",
   "metadata": {
    "execution": {
     "iopub.execute_input": "2025-08-20T03:57:45.536351Z",
     "iopub.status.busy": "2025-08-20T03:57:45.536212Z",
     "iopub.status.idle": "2025-08-20T03:57:45.538989Z",
     "shell.execute_reply": "2025-08-20T03:57:45.538626Z"
    }
   },
   "outputs": [
    {
     "data": {
      "text/plain": [
       "'Hello Class'"
      ]
     },
     "execution_count": 18,
     "metadata": {},
     "output_type": "execute_result"
    }
   ],
   "source": [
    "\"Hello Class\""
   ]
  },
  {
   "cell_type": "markdown",
   "id": "0515c40c",
   "metadata": {},
   "source": [
    "We can also use single quotes, e.g. `'Hello Class'`.\n",
    "\n",
    "If we want to use the quote symbol in the string itself then we need to mix the two types "
   ]
  },
  {
   "cell_type": "code",
   "execution_count": 19,
   "id": "6c16bd12",
   "metadata": {
    "execution": {
     "iopub.execute_input": "2025-08-20T03:57:45.540226Z",
     "iopub.status.busy": "2025-08-20T03:57:45.540083Z",
     "iopub.status.idle": "2025-08-20T03:57:45.543008Z",
     "shell.execute_reply": "2025-08-20T03:57:45.542534Z"
    }
   },
   "outputs": [
    {
     "data": {
      "text/plain": [
       "\"How was Hwajung's birthday party?\""
      ]
     },
     "execution_count": 19,
     "metadata": {},
     "output_type": "execute_result"
    }
   ],
   "source": [
    "\"How was Hwajung's birthday party?\""
   ]
  },
  {
   "cell_type": "markdown",
   "id": "752183bb",
   "metadata": {},
   "source": [
    "Just like we did with integers and doubles, we can assign a string to a variable, and we can even add two strings together."
   ]
  },
  {
   "cell_type": "code",
   "execution_count": 20,
   "id": "01f5a3e6",
   "metadata": {
    "execution": {
     "iopub.execute_input": "2025-08-20T03:57:45.544263Z",
     "iopub.status.busy": "2025-08-20T03:57:45.544117Z",
     "iopub.status.idle": "2025-08-20T03:57:45.547128Z",
     "shell.execute_reply": "2025-08-20T03:57:45.546732Z"
    }
   },
   "outputs": [
    {
     "data": {
      "text/plain": [
       "'I like chicken and HOF'"
      ]
     },
     "execution_count": 20,
     "metadata": {},
     "output_type": "execute_result"
    }
   ],
   "source": [
    "a = \"I like \"  # There is a blank space at the end of this string.\n",
    "b = \"chicken and HOF\"\n",
    "a + b"
   ]
  },
  {
   "cell_type": "markdown",
   "id": "0fa6641e",
   "metadata": {},
   "source": [
    "Notice the blank space at the end of the string in variable \"a\" provides spacing between \"like\" and \"chicken\"."
   ]
  },
  {
   "cell_type": "markdown",
   "id": "c013d737",
   "metadata": {},
   "source": [
    "If we want to print out stuff, including strings and integers or doubles together, then we can use the builtin ```print``` function to accomplish this"
   ]
  },
  {
   "cell_type": "code",
   "execution_count": 21,
   "id": "b730f19c",
   "metadata": {
    "execution": {
     "iopub.execute_input": "2025-08-20T03:57:45.548457Z",
     "iopub.status.busy": "2025-08-20T03:57:45.548270Z",
     "iopub.status.idle": "2025-08-20T03:57:45.550948Z",
     "shell.execute_reply": "2025-08-20T03:57:45.550486Z"
    }
   },
   "outputs": [
    {
     "name": "stdout",
     "output_type": "stream",
     "text": [
      "The temperature right now is 23\n"
     ]
    }
   ],
   "source": [
    "temp = 23\n",
    "text = \"The temperature right now is\"\n",
    "print(text, temp)"
   ]
  },
  {
   "cell_type": "markdown",
   "id": "e93623de",
   "metadata": {},
   "source": [
    "Notice how the print function automatically puts a space between the the two input arguments.  The ```print``` function automatically takes any number of string, integer, double, or other variables, converts them into strings, and then prints them for the user."
   ]
  },
  {
   "cell_type": "markdown",
   "id": "d3adf328",
   "metadata": {},
   "source": [
    "## Lists"
   ]
  },
  {
   "cell_type": "markdown",
   "id": "75dda099",
   "metadata": {},
   "source": [
    "Often times we will want to group many variables together into one object.  In Python this is accomplished by using a **```list```** datatype variable."
   ]
  },
  {
   "cell_type": "code",
   "execution_count": 22,
   "id": "7b10581f",
   "metadata": {
    "execution": {
     "iopub.execute_input": "2025-08-20T03:57:45.552175Z",
     "iopub.status.busy": "2025-08-20T03:57:45.552022Z",
     "iopub.status.idle": "2025-08-20T03:57:45.554295Z",
     "shell.execute_reply": "2025-08-20T03:57:45.553829Z"
    }
   },
   "outputs": [],
   "source": [
    "shopping_list = [\"eggs\", \"bread\", \"milk\", \"bananas\"]"
   ]
  },
  {
   "cell_type": "markdown",
   "id": "7d664a30",
   "metadata": {},
   "source": [
    "If we want to access a single variable inside of the list, then we need to use the **index** that corresponds to the variable inside of square brackets."
   ]
  },
  {
   "cell_type": "code",
   "execution_count": 23,
   "id": "1c3bcf87",
   "metadata": {
    "execution": {
     "iopub.execute_input": "2025-08-20T03:57:45.555551Z",
     "iopub.status.busy": "2025-08-20T03:57:45.555403Z",
     "iopub.status.idle": "2025-08-20T03:57:45.558415Z",
     "shell.execute_reply": "2025-08-20T03:57:45.557929Z"
    }
   },
   "outputs": [
    {
     "data": {
      "text/plain": [
       "'milk'"
      ]
     },
     "execution_count": 23,
     "metadata": {},
     "output_type": "execute_result"
    }
   ],
   "source": [
    "shopping_list[2]"
   ]
  },
  {
   "cell_type": "markdown",
   "id": "32d5e9f7",
   "metadata": {},
   "source": [
    "We see that the \"milk\" string can be accessed using the index number $2$.  However, we can see that this variable is actually the third string in the list.  This discrepancy is due to the fact that Python (like C-code) considers the first element in a list, or other multivariable data structures, to be at index $0$."
   ]
  },
  {
   "cell_type": "code",
   "execution_count": 24,
   "id": "e9bd3963",
   "metadata": {
    "execution": {
     "iopub.execute_input": "2025-08-20T03:57:45.559719Z",
     "iopub.status.busy": "2025-08-20T03:57:45.559562Z",
     "iopub.status.idle": "2025-08-20T03:57:45.562595Z",
     "shell.execute_reply": "2025-08-20T03:57:45.562196Z"
    }
   },
   "outputs": [
    {
     "data": {
      "text/plain": [
       "'eggs'"
      ]
     },
     "execution_count": 24,
     "metadata": {},
     "output_type": "execute_result"
    }
   ],
   "source": [
    "shopping_list[0]"
   ]
  },
  {
   "cell_type": "markdown",
   "id": "172656cb",
   "metadata": {},
   "source": [
    "This is important to remember, and will take some getting used to before it becomes natural.  If we want to access the elements of the list from back to front, we can use negative indices"
   ]
  },
  {
   "cell_type": "code",
   "execution_count": 25,
   "id": "55fe965c",
   "metadata": {
    "execution": {
     "iopub.execute_input": "2025-08-20T03:57:45.563824Z",
     "iopub.status.busy": "2025-08-20T03:57:45.563682Z",
     "iopub.status.idle": "2025-08-20T03:57:45.566732Z",
     "shell.execute_reply": "2025-08-20T03:57:45.566324Z"
    }
   },
   "outputs": [
    {
     "data": {
      "text/plain": [
       "'bananas'"
      ]
     },
     "execution_count": 25,
     "metadata": {},
     "output_type": "execute_result"
    }
   ],
   "source": [
    "shopping_list[-1]"
   ]
  },
  {
   "cell_type": "code",
   "execution_count": 26,
   "id": "41d77b48",
   "metadata": {
    "execution": {
     "iopub.execute_input": "2025-08-20T03:57:45.567959Z",
     "iopub.status.busy": "2025-08-20T03:57:45.567814Z",
     "iopub.status.idle": "2025-08-20T03:57:45.570616Z",
     "shell.execute_reply": "2025-08-20T03:57:45.570275Z"
    }
   },
   "outputs": [
    {
     "data": {
      "text/plain": [
       "'milk'"
      ]
     },
     "execution_count": 26,
     "metadata": {},
     "output_type": "execute_result"
    }
   ],
   "source": [
    "shopping_list[-2]"
   ]
  },
  {
   "cell_type": "markdown",
   "id": "2ae90ca1",
   "metadata": {},
   "source": [
    "If we are given a list variable and we want to known how many elements are inside of the list, then we can use the ```len``` function that returns an integer giving the length of the list."
   ]
  },
  {
   "cell_type": "code",
   "execution_count": 27,
   "id": "6a9fbb99",
   "metadata": {
    "execution": {
     "iopub.execute_input": "2025-08-20T03:57:45.571855Z",
     "iopub.status.busy": "2025-08-20T03:57:45.571714Z",
     "iopub.status.idle": "2025-08-20T03:57:45.574626Z",
     "shell.execute_reply": "2025-08-20T03:57:45.574227Z"
    }
   },
   "outputs": [
    {
     "data": {
      "text/plain": [
       "4"
      ]
     },
     "execution_count": 27,
     "metadata": {},
     "output_type": "execute_result"
    }
   ],
   "source": [
    "len(shopping_list)"
   ]
  },
  {
   "cell_type": "markdown",
   "id": "c9047ae8",
   "metadata": {},
   "source": [
    "If we want to change the length of the list by adding or removing elements, then we can use ```append``` and ```remove```, respectively."
   ]
  },
  {
   "cell_type": "code",
   "execution_count": 28,
   "id": "4072d417",
   "metadata": {
    "execution": {
     "iopub.execute_input": "2025-08-20T03:57:45.575988Z",
     "iopub.status.busy": "2025-08-20T03:57:45.575839Z",
     "iopub.status.idle": "2025-08-20T03:57:45.579029Z",
     "shell.execute_reply": "2025-08-20T03:57:45.578625Z"
    }
   },
   "outputs": [
    {
     "data": {
      "text/plain": [
       "['eggs', 'bread', 'milk', 'bananas', 'apples']"
      ]
     },
     "execution_count": 28,
     "metadata": {},
     "output_type": "execute_result"
    }
   ],
   "source": [
    "shopping_list.append(\"apples\")\n",
    "shopping_list"
   ]
  },
  {
   "cell_type": "code",
   "execution_count": 29,
   "id": "76304e1b",
   "metadata": {
    "execution": {
     "iopub.execute_input": "2025-08-20T03:57:45.580286Z",
     "iopub.status.busy": "2025-08-20T03:57:45.580129Z",
     "iopub.status.idle": "2025-08-20T03:57:45.583141Z",
     "shell.execute_reply": "2025-08-20T03:57:45.582686Z"
    }
   },
   "outputs": [
    {
     "data": {
      "text/plain": [
       "['eggs', 'milk', 'bananas', 'apples']"
      ]
     },
     "execution_count": 29,
     "metadata": {},
     "output_type": "execute_result"
    }
   ],
   "source": [
    "shopping_list.remove(\"bread\")\n",
    "shopping_list"
   ]
  },
  {
   "cell_type": "markdown",
   "id": "cea831f4",
   "metadata": {},
   "source": [
    "Note that lists to not have to have the same type of data in each element!  You can mix any data types you want."
   ]
  },
  {
   "cell_type": "code",
   "execution_count": 30,
   "id": "fe20768c",
   "metadata": {
    "execution": {
     "iopub.execute_input": "2025-08-20T03:57:45.584428Z",
     "iopub.status.busy": "2025-08-20T03:57:45.584252Z",
     "iopub.status.idle": "2025-08-20T03:57:45.587499Z",
     "shell.execute_reply": "2025-08-20T03:57:45.587020Z"
    }
   },
   "outputs": [
    {
     "data": {
      "text/plain": [
       "[1, 'hello', -1.234, [-1, -2, -3]]"
      ]
     },
     "execution_count": 30,
     "metadata": {},
     "output_type": "execute_result"
    }
   ],
   "source": [
    "various_things = [1, \"hello\", -1.234, [-1, -2, -3]]\n",
    "various_things"
   ]
  },
  {
   "cell_type": "markdown",
   "id": "23613379",
   "metadata": {},
   "source": [
    "All of these elements can be accessed in the usual way"
   ]
  },
  {
   "cell_type": "code",
   "execution_count": 31,
   "id": "49825ae1",
   "metadata": {
    "execution": {
     "iopub.execute_input": "2025-08-20T03:57:45.588845Z",
     "iopub.status.busy": "2025-08-20T03:57:45.588695Z",
     "iopub.status.idle": "2025-08-20T03:57:45.591658Z",
     "shell.execute_reply": "2025-08-20T03:57:45.591241Z"
    }
   },
   "outputs": [
    {
     "data": {
      "text/plain": [
       "1"
      ]
     },
     "execution_count": 31,
     "metadata": {},
     "output_type": "execute_result"
    }
   ],
   "source": [
    "various_things[0]"
   ]
  },
  {
   "cell_type": "code",
   "execution_count": 32,
   "id": "5632a63d",
   "metadata": {
    "execution": {
     "iopub.execute_input": "2025-08-20T03:57:45.592896Z",
     "iopub.status.busy": "2025-08-20T03:57:45.592753Z",
     "iopub.status.idle": "2025-08-20T03:57:45.595578Z",
     "shell.execute_reply": "2025-08-20T03:57:45.595216Z"
    }
   },
   "outputs": [
    {
     "data": {
      "text/plain": [
       "[-1, -2, -3]"
      ]
     },
     "execution_count": 32,
     "metadata": {},
     "output_type": "execute_result"
    }
   ],
   "source": [
    "various_things[-1]"
   ]
  },
  {
   "cell_type": "code",
   "execution_count": 33,
   "id": "aa91a2f3",
   "metadata": {
    "execution": {
     "iopub.execute_input": "2025-08-20T03:57:45.596778Z",
     "iopub.status.busy": "2025-08-20T03:57:45.596634Z",
     "iopub.status.idle": "2025-08-20T03:57:45.599414Z",
     "shell.execute_reply": "2025-08-20T03:57:45.599060Z"
    }
   },
   "outputs": [
    {
     "data": {
      "text/plain": [
       "-2"
      ]
     },
     "execution_count": 33,
     "metadata": {},
     "output_type": "execute_result"
    }
   ],
   "source": [
    "various_things[3][1]"
   ]
  },
  {
   "cell_type": "markdown",
   "id": "840f0595",
   "metadata": {},
   "source": [
    "## Iterating Through Lists and Python Indention Rules"
   ]
  },
  {
   "cell_type": "markdown",
   "id": "45c7f0ce",
   "metadata": {},
   "source": [
    "One of the most important reasons for using lists is because one often wants to do the same type of manipulation on each of the elements one at a time.  Going through a list in this fashion is called **iteration** and is accomplished in Python using the ```for``` command: "
   ]
  },
  {
   "cell_type": "code",
   "execution_count": 34,
   "id": "63152b3d",
   "metadata": {
    "execution": {
     "iopub.execute_input": "2025-08-20T03:57:45.600655Z",
     "iopub.status.busy": "2025-08-20T03:57:45.600511Z",
     "iopub.status.idle": "2025-08-20T03:57:45.603188Z",
     "shell.execute_reply": "2025-08-20T03:57:45.602788Z"
    }
   },
   "outputs": [
    {
     "name": "stdout",
     "output_type": "stream",
     "text": [
      "four calling birds\n",
      "three french hens\n",
      "two turtle doves\n",
      "a partridge in a pear tree\n"
     ]
    }
   ],
   "source": [
    "items = [\n",
    "    \"four calling birds\",\n",
    "    \"three french hens\",\n",
    "    \"two turtle doves\",\n",
    "    \"a partridge in a pear tree\",\n",
    "]\n",
    "for thing in items:\n",
    "    print(thing)"
   ]
  },
  {
   "cell_type": "markdown",
   "id": "e0dda7e6",
   "metadata": {},
   "source": [
    "Here, \"thing\" is a variable that takes the value of each item in the list \"items\" and then gets sent to the ```print``` function.  We are free to call this variable anything we want.  "
   ]
  },
  {
   "cell_type": "code",
   "execution_count": 35,
   "id": "228d2140",
   "metadata": {
    "execution": {
     "iopub.execute_input": "2025-08-20T03:57:45.604448Z",
     "iopub.status.busy": "2025-08-20T03:57:45.604273Z",
     "iopub.status.idle": "2025-08-20T03:57:45.606666Z",
     "shell.execute_reply": "2025-08-20T03:57:45.606271Z"
    }
   },
   "outputs": [
    {
     "name": "stdout",
     "output_type": "stream",
     "text": [
      "four calling birds\n",
      "three french hens\n",
      "two turtle doves\n",
      "a partridge in a pear tree\n"
     ]
    }
   ],
   "source": [
    "for variable in items:\n",
    "    print(variable)"
   ]
  },
  {
   "cell_type": "markdown",
   "id": "4023ae51",
   "metadata": {},
   "source": [
    "The next important thing to notice is that after the colon \":\" the print statement is indented.  This indention after a colon is required in the Python programming langage and represents a section of the code called a **block**.  If we did not intent the print function then Python would yell at us. "
   ]
  },
  {
   "cell_type": "markdown",
   "id": "9009b2f2",
   "metadata": {},
   "source": [
    "Blocks are a standard part of any programming language and are used for organization and flow-control in computer code.  Anything that is indented in the above example will be run for each item in the list"
   ]
  },
  {
   "cell_type": "code",
   "execution_count": 36,
   "id": "1d000b8c",
   "metadata": {
    "execution": {
     "iopub.execute_input": "2025-08-20T03:57:45.607887Z",
     "iopub.status.busy": "2025-08-20T03:57:45.607743Z",
     "iopub.status.idle": "2025-08-20T03:57:45.610303Z",
     "shell.execute_reply": "2025-08-20T03:57:45.609818Z"
    }
   },
   "outputs": [
    {
     "name": "stdout",
     "output_type": "stream",
     "text": [
      "My true love gave to me four calling birds\n",
      "My true love gave to me three french hens\n",
      "My true love gave to me two turtle doves\n",
      "My true love gave to me a partridge in a pear tree\n"
     ]
    }
   ],
   "source": [
    "for variable in items:\n",
    "    print(\"My true love gave to me\", variable)"
   ]
  },
  {
   "cell_type": "markdown",
   "id": "e5772d0d",
   "metadata": {},
   "source": [
    "## Slicing Lists"
   ]
  },
  {
   "cell_type": "markdown",
   "id": "ff948f09",
   "metadata": {},
   "source": [
    "If we want to grab certain elements from a list we can make use of **slicing** to conveniently access the elements.  Slicing can be used on any **sequence** such as lists, strings, and as we will see shortly, arrays. Consider our ```shopping_list``` list:"
   ]
  },
  {
   "cell_type": "code",
   "execution_count": 37,
   "id": "c215fae1",
   "metadata": {
    "execution": {
     "iopub.execute_input": "2025-08-20T03:57:45.611582Z",
     "iopub.status.busy": "2025-08-20T03:57:45.611432Z",
     "iopub.status.idle": "2025-08-20T03:57:45.613524Z",
     "shell.execute_reply": "2025-08-20T03:57:45.613140Z"
    }
   },
   "outputs": [],
   "source": [
    "shopping_list = [\"eggs\", \"bread\", \"milk\", \"bananas\", \"apples\"]"
   ]
  },
  {
   "cell_type": "markdown",
   "id": "43c3db78",
   "metadata": {},
   "source": [
    "To get the first element we used a single index"
   ]
  },
  {
   "cell_type": "code",
   "execution_count": 38,
   "id": "c5c145c7",
   "metadata": {
    "execution": {
     "iopub.execute_input": "2025-08-20T03:57:45.614729Z",
     "iopub.status.busy": "2025-08-20T03:57:45.614587Z",
     "iopub.status.idle": "2025-08-20T03:57:45.617357Z",
     "shell.execute_reply": "2025-08-20T03:57:45.616991Z"
    }
   },
   "outputs": [
    {
     "data": {
      "text/plain": [
       "'eggs'"
      ]
     },
     "execution_count": 38,
     "metadata": {},
     "output_type": "execute_result"
    }
   ],
   "source": [
    "shopping_list[0]"
   ]
  },
  {
   "cell_type": "markdown",
   "id": "d8b2bfff",
   "metadata": {},
   "source": [
    "But if we want to get the first three elements in the list we can use: "
   ]
  },
  {
   "cell_type": "code",
   "execution_count": 39,
   "id": "0527eece",
   "metadata": {
    "execution": {
     "iopub.execute_input": "2025-08-20T03:57:45.618585Z",
     "iopub.status.busy": "2025-08-20T03:57:45.618439Z",
     "iopub.status.idle": "2025-08-20T03:57:45.621240Z",
     "shell.execute_reply": "2025-08-20T03:57:45.620878Z"
    }
   },
   "outputs": [
    {
     "data": {
      "text/plain": [
       "['eggs', 'bread', 'milk']"
      ]
     },
     "execution_count": 39,
     "metadata": {},
     "output_type": "execute_result"
    }
   ],
   "source": [
    "shopping_list[0:3]"
   ]
  },
  {
   "cell_type": "markdown",
   "id": "958f47a0",
   "metadata": {},
   "source": [
    "We could also grab the last two elements using:"
   ]
  },
  {
   "cell_type": "code",
   "execution_count": 40,
   "id": "d203d3c1",
   "metadata": {
    "execution": {
     "iopub.execute_input": "2025-08-20T03:57:45.622519Z",
     "iopub.status.busy": "2025-08-20T03:57:45.622338Z",
     "iopub.status.idle": "2025-08-20T03:57:45.625411Z",
     "shell.execute_reply": "2025-08-20T03:57:45.624933Z"
    }
   },
   "outputs": [
    {
     "data": {
      "text/plain": [
       "['bananas', 'apples']"
      ]
     },
     "execution_count": 40,
     "metadata": {},
     "output_type": "execute_result"
    }
   ],
   "source": [
    "shopping_list[-2:]"
   ]
  },
  {
   "cell_type": "markdown",
   "id": "d45f8cfa",
   "metadata": {},
   "source": [
    "Or, we can get even more complex and grab all of the even number elements by using a third argument in the brackets that tells use the step size:"
   ]
  },
  {
   "cell_type": "code",
   "execution_count": 41,
   "id": "20f1b69d",
   "metadata": {
    "execution": {
     "iopub.execute_input": "2025-08-20T03:57:45.626656Z",
     "iopub.status.busy": "2025-08-20T03:57:45.626504Z",
     "iopub.status.idle": "2025-08-20T03:57:45.629543Z",
     "shell.execute_reply": "2025-08-20T03:57:45.629065Z"
    }
   },
   "outputs": [
    {
     "data": {
      "text/plain": [
       "['eggs', 'milk', 'apples']"
      ]
     },
     "execution_count": 41,
     "metadata": {},
     "output_type": "execute_result"
    }
   ],
   "source": [
    "shopping_list[0::2]"
   ]
  },
  {
   "cell_type": "markdown",
   "id": "b49d8b71",
   "metadata": {},
   "source": [
    "## Conditional Statements"
   ]
  },
  {
   "cell_type": "markdown",
   "id": "0dfb5104",
   "metadata": {},
   "source": [
    "We have now seen a collection of data types (integers, doubles/floats, lists, strings) but we have yet to discuss how to compare two different variables.  For example, how do we check if two different integers $a$ and $b$ are equal?  Or how do we know if $a\\ge b$?  This is accomplished using **conditional statements**.  The basic operations in boolean logic are \"equal\" (```==```), \"not equal\" (```!=```), \"greater than\" (```>```), \"greater than or equal\" (```>=```), \"less than\" (```<```), and \"less than or equal\" (```<=```).  All of these conditionals operate on two variables and return a simple boolean ```True``` or ```False``` answer.  For example"
   ]
  },
  {
   "cell_type": "code",
   "execution_count": 42,
   "id": "14c3b96b",
   "metadata": {
    "execution": {
     "iopub.execute_input": "2025-08-20T03:57:45.630759Z",
     "iopub.status.busy": "2025-08-20T03:57:45.630608Z",
     "iopub.status.idle": "2025-08-20T03:57:45.633623Z",
     "shell.execute_reply": "2025-08-20T03:57:45.633153Z"
    }
   },
   "outputs": [
    {
     "data": {
      "text/plain": [
       "False"
      ]
     },
     "execution_count": 42,
     "metadata": {},
     "output_type": "execute_result"
    }
   ],
   "source": [
    "a = 5\n",
    "b = 8\n",
    "a > b"
   ]
  },
  {
   "cell_type": "code",
   "execution_count": 43,
   "id": "8596d5cf",
   "metadata": {
    "execution": {
     "iopub.execute_input": "2025-08-20T03:57:45.634857Z",
     "iopub.status.busy": "2025-08-20T03:57:45.634707Z",
     "iopub.status.idle": "2025-08-20T03:57:45.637739Z",
     "shell.execute_reply": "2025-08-20T03:57:45.637259Z"
    }
   },
   "outputs": [
    {
     "data": {
      "text/plain": [
       "(True, True)"
      ]
     },
     "execution_count": 43,
     "metadata": {},
     "output_type": "execute_result"
    }
   ],
   "source": [
    "c = 0\n",
    "c <= 0, c >= 0"
   ]
  },
  {
   "cell_type": "code",
   "execution_count": 44,
   "id": "7e18035a",
   "metadata": {
    "execution": {
     "iopub.execute_input": "2025-08-20T03:57:45.639090Z",
     "iopub.status.busy": "2025-08-20T03:57:45.638937Z",
     "iopub.status.idle": "2025-08-20T03:57:45.641954Z",
     "shell.execute_reply": "2025-08-20T03:57:45.641509Z"
    }
   },
   "outputs": [
    {
     "data": {
      "text/plain": [
       "(False, True)"
      ]
     },
     "execution_count": 44,
     "metadata": {},
     "output_type": "execute_result"
    }
   ],
   "source": [
    "a = 5\n",
    "b = 6\n",
    "a == b, a != b"
   ]
  },
  {
   "cell_type": "markdown",
   "id": "48b8c648",
   "metadata": {},
   "source": [
    "It is important to point out that in Python ```1``` and ```0``` are the same as ```True``` and ```False```, respectively."
   ]
  },
  {
   "cell_type": "code",
   "execution_count": 45,
   "id": "9fc7c0a0",
   "metadata": {
    "execution": {
     "iopub.execute_input": "2025-08-20T03:57:45.643173Z",
     "iopub.status.busy": "2025-08-20T03:57:45.643022Z",
     "iopub.status.idle": "2025-08-20T03:57:45.646044Z",
     "shell.execute_reply": "2025-08-20T03:57:45.645593Z"
    }
   },
   "outputs": [
    {
     "data": {
      "text/plain": [
       "(True, True)"
      ]
     },
     "execution_count": 45,
     "metadata": {},
     "output_type": "execute_result"
    }
   ],
   "source": [
    "t = True\n",
    "f = False\n",
    "t == 1, f == 0"
   ]
  },
  {
   "cell_type": "markdown",
   "id": "4a28ef81",
   "metadata": {},
   "source": [
    "We can also combine multiple conditional statements"
   ]
  },
  {
   "cell_type": "code",
   "execution_count": 46,
   "id": "28951fe9",
   "metadata": {
    "execution": {
     "iopub.execute_input": "2025-08-20T03:57:45.647368Z",
     "iopub.status.busy": "2025-08-20T03:57:45.647213Z",
     "iopub.status.idle": "2025-08-20T03:57:45.650428Z",
     "shell.execute_reply": "2025-08-20T03:57:45.649943Z"
    }
   },
   "outputs": [
    {
     "data": {
      "text/plain": [
       "True"
      ]
     },
     "execution_count": 46,
     "metadata": {},
     "output_type": "execute_result"
    }
   ],
   "source": [
    "a = -1\n",
    "b = 4\n",
    "c = 10\n",
    "d = 11\n",
    "a < b < c != d"
   ]
  },
  {
   "cell_type": "markdown",
   "id": "dcc74577",
   "metadata": {},
   "source": [
    "These operations can also be used on lists and strings:"
   ]
  },
  {
   "cell_type": "code",
   "execution_count": 47,
   "id": "6f5456bb",
   "metadata": {
    "execution": {
     "iopub.execute_input": "2025-08-20T03:57:45.651642Z",
     "iopub.status.busy": "2025-08-20T03:57:45.651491Z",
     "iopub.status.idle": "2025-08-20T03:57:45.654507Z",
     "shell.execute_reply": "2025-08-20T03:57:45.654034Z"
    }
   },
   "outputs": [
    {
     "data": {
      "text/plain": [
       "False"
      ]
     },
     "execution_count": 47,
     "metadata": {},
     "output_type": "execute_result"
    }
   ],
   "source": [
    "[4, 5, 6] >= [4, 5, 7]"
   ]
  },
  {
   "cell_type": "code",
   "execution_count": 48,
   "id": "c7d809c9",
   "metadata": {
    "execution": {
     "iopub.execute_input": "2025-08-20T03:57:45.655771Z",
     "iopub.status.busy": "2025-08-20T03:57:45.655619Z",
     "iopub.status.idle": "2025-08-20T03:57:45.658681Z",
     "shell.execute_reply": "2025-08-20T03:57:45.658250Z"
    }
   },
   "outputs": [
    {
     "data": {
      "text/plain": [
       "True"
      ]
     },
     "execution_count": 48,
     "metadata": {},
     "output_type": "execute_result"
    }
   ],
   "source": [
    "[4, 5, 6] <= [4, 5, 7]"
   ]
  },
  {
   "cell_type": "code",
   "execution_count": 49,
   "id": "5f488426",
   "metadata": {
    "execution": {
     "iopub.execute_input": "2025-08-20T03:57:45.659963Z",
     "iopub.status.busy": "2025-08-20T03:57:45.659803Z",
     "iopub.status.idle": "2025-08-20T03:57:45.662828Z",
     "shell.execute_reply": "2025-08-20T03:57:45.662342Z"
    }
   },
   "outputs": [
    {
     "data": {
      "text/plain": [
       "False"
      ]
     },
     "execution_count": 49,
     "metadata": {},
     "output_type": "execute_result"
    }
   ],
   "source": [
    "\"today\" == \"Today\""
   ]
  },
  {
   "cell_type": "markdown",
   "id": "4dd365c0",
   "metadata": {},
   "source": [
    "### Conditional Statements and Flow Control"
   ]
  },
  {
   "cell_type": "markdown",
   "id": "d94a21a1",
   "metadata": {},
   "source": [
    "The main purpose of these conditional statements is to control the flow of a Python program.  The result of a conditional statement can be used to control a program using ```if/else``` and ```while``` statements."
   ]
  },
  {
   "cell_type": "code",
   "execution_count": 50,
   "id": "f7789fa0",
   "metadata": {
    "execution": {
     "iopub.execute_input": "2025-08-20T03:57:45.664081Z",
     "iopub.status.busy": "2025-08-20T03:57:45.663926Z",
     "iopub.status.idle": "2025-08-20T03:57:45.666625Z",
     "shell.execute_reply": "2025-08-20T03:57:45.666118Z"
    }
   },
   "outputs": [
    {
     "name": "stdout",
     "output_type": "stream",
     "text": [
      "We have class today :(\n"
     ]
    }
   ],
   "source": [
    "today = \"friday\"\n",
    "if today == \"friday\":\n",
    "    print(\"We have class today :(\")  # this is a code block\n",
    "else:\n",
    "    print(\"No class today :)\")  # this is also a code block"
   ]
  },
  {
   "cell_type": "markdown",
   "id": "8d7ccb23",
   "metadata": {},
   "source": [
    "The code block below the ```if``` statement is run only if the conditional ```today=='friday'``` returns ```True```.  If the conditional is ```False``` then the code block inside the ```else``` statement is run.  We can also check multiple conditions by using the ``elif`` statement after ```if```:"
   ]
  },
  {
   "cell_type": "code",
   "execution_count": 51,
   "id": "e063eb1b",
   "metadata": {
    "execution": {
     "iopub.execute_input": "2025-08-20T03:57:45.667970Z",
     "iopub.status.busy": "2025-08-20T03:57:45.667819Z",
     "iopub.status.idle": "2025-08-20T03:57:45.670799Z",
     "shell.execute_reply": "2025-08-20T03:57:45.670323Z"
    }
   },
   "outputs": [
    {
     "name": "stdout",
     "output_type": "stream",
     "text": [
      "Our assignment is due today :(\n"
     ]
    }
   ],
   "source": [
    "today = \"thursday\"\n",
    "if today == \"friday\":\n",
    "    print(\"We have class today :(\")\n",
    "elif today == \"thursday\":\n",
    "    print(\"Our assignment is due today :(\")\n",
    "else:\n",
    "    print(\"No class today :)\")"
   ]
  },
  {
   "cell_type": "markdown",
   "id": "287223ce",
   "metadata": {},
   "source": [
    "The other important flow control expression is the **```while``` loop** that executes a block of code repeatedly until the conditional statement at the start of the loop is ```False```."
   ]
  },
  {
   "cell_type": "code",
   "execution_count": 52,
   "id": "9fc2670e",
   "metadata": {
    "execution": {
     "iopub.execute_input": "2025-08-20T03:57:45.672110Z",
     "iopub.status.busy": "2025-08-20T03:57:45.671967Z",
     "iopub.status.idle": "2025-08-20T03:57:45.674818Z",
     "shell.execute_reply": "2025-08-20T03:57:45.674401Z"
    }
   },
   "outputs": [
    {
     "name": "stdout",
     "output_type": "stream",
     "text": [
      "The current value of n is: 0\n",
      "The current value of n is: 1\n",
      "The current value of n is: 2\n",
      "The current value of n is: 3\n",
      "The current value of n is: 4\n",
      "The current value of n is: 5\n",
      "The current value of n is: 6\n",
      "The current value of n is: 7\n",
      "The current value of n is: 8\n",
      "The current value of n is: 9\n",
      "The current value of n is: 10\n"
     ]
    }
   ],
   "source": [
    "n = 0\n",
    "while n <= 10:  # evaluate code block until n>10\n",
    "    print(\"The current value of n is:\", n)\n",
    "    n = n + 1  # increase the value of n by 1"
   ]
  },
  {
   "cell_type": "markdown",
   "id": "011f9c03",
   "metadata": {},
   "source": [
    "When using a ```while``` loop you must make sure the conditional is not ```True``` forever.  Otherwise your program will be in an **infinite loop** that never ends."
   ]
  },
  {
   "cell_type": "markdown",
   "id": "d1577de5",
   "metadata": {},
   "source": [
    "### Example: Even and Odd Numbers"
   ]
  },
  {
   "cell_type": "markdown",
   "id": "5608c466",
   "metadata": {},
   "source": [
    "Let us determine whether a given number between [1,10] is an even or odd number."
   ]
  },
  {
   "cell_type": "code",
   "execution_count": 53,
   "id": "138c97fd",
   "metadata": {
    "execution": {
     "iopub.execute_input": "2025-08-20T03:57:45.676015Z",
     "iopub.status.busy": "2025-08-20T03:57:45.675875Z",
     "iopub.status.idle": "2025-08-20T03:57:45.678716Z",
     "shell.execute_reply": "2025-08-20T03:57:45.678312Z"
    }
   },
   "outputs": [
    {
     "name": "stdout",
     "output_type": "stream",
     "text": [
      "1 is odd\n",
      "2 is even\n",
      "3 is odd\n",
      "4 is even\n",
      "5 is odd\n",
      "6 is even\n",
      "7 is odd\n",
      "8 is even\n",
      "9 is odd\n",
      "10 is even\n"
     ]
    }
   ],
   "source": [
    "for n in [1, 2, 3, 4, 5, 6, 7, 8, 9, 10]:\n",
    "    if np.remainder(n, 2) == 0:\n",
    "        print(n, \"is even\")\n",
    "    else:\n",
    "        print(n, \"is odd\")"
   ]
  },
  {
   "cell_type": "markdown",
   "id": "ce74f291",
   "metadata": {},
   "source": [
    "Typing lists with a long sequence of integers is quite annoying.  Fortunately, Python has a builtin function called ```range``` that makes creating sequences of integers very easy.  For instance, the above example becomes"
   ]
  },
  {
   "cell_type": "code",
   "execution_count": 54,
   "id": "cfc5302e",
   "metadata": {
    "execution": {
     "iopub.execute_input": "2025-08-20T03:57:45.679935Z",
     "iopub.status.busy": "2025-08-20T03:57:45.679794Z",
     "iopub.status.idle": "2025-08-20T03:57:45.682488Z",
     "shell.execute_reply": "2025-08-20T03:57:45.681947Z"
    }
   },
   "outputs": [
    {
     "name": "stdout",
     "output_type": "stream",
     "text": [
      "1 is odd\n",
      "2 is even\n",
      "3 is odd\n",
      "4 is even\n",
      "5 is odd\n",
      "6 is even\n",
      "7 is odd\n",
      "8 is even\n",
      "9 is odd\n",
      "10 is even\n"
     ]
    }
   ],
   "source": [
    "for n in range(1, 11):\n",
    "    if np.remainder(n, 2) == 0:\n",
    "        print(n, \"is even\")\n",
    "    else:\n",
    "        print(n, \"is odd\")"
   ]
  },
  {
   "cell_type": "markdown",
   "id": "52129d13",
   "metadata": {},
   "source": [
    "Notice how the range function only counts to $10$ even though the range goes to $11$.  The endpoint is *never* part of the generated sequence when using ```range```.  If we wanted the ```range``` function to start at zero instead of one we could simply write ```range(11)```.  We can also make sequences that go in arbitrary steps:"
   ]
  },
  {
   "cell_type": "code",
   "execution_count": 55,
   "id": "53406db5",
   "metadata": {
    "execution": {
     "iopub.execute_input": "2025-08-20T03:57:45.683923Z",
     "iopub.status.busy": "2025-08-20T03:57:45.683761Z",
     "iopub.status.idle": "2025-08-20T03:57:45.686090Z",
     "shell.execute_reply": "2025-08-20T03:57:45.685709Z"
    }
   },
   "outputs": [
    {
     "name": "stdout",
     "output_type": "stream",
     "text": [
      "0\n",
      "2\n",
      "4\n",
      "6\n",
      "8\n",
      "10\n"
     ]
    }
   ],
   "source": [
    "for n in range(0, 11, 2):\n",
    "    print(n)"
   ]
  },
  {
   "cell_type": "markdown",
   "id": "ad453648",
   "metadata": {},
   "source": [
    "The ```range``` function does not return a list of integers but is something called a **generator**.  In general, the ```range``` function should only be used in combination with the ```for``` command."
   ]
  },
  {
   "cell_type": "markdown",
   "id": "c60004d5",
   "metadata": {},
   "source": [
    "### Example: Fibonacci Sequence"
   ]
  },
  {
   "cell_type": "markdown",
   "id": "c5dba722",
   "metadata": {},
   "source": [
    "Let us follow the Python documentation and calculate the first ten numbers in the Fibonacci sequence:"
   ]
  },
  {
   "cell_type": "code",
   "execution_count": 56,
   "id": "748ffeff",
   "metadata": {
    "execution": {
     "iopub.execute_input": "2025-08-20T03:57:45.687320Z",
     "iopub.status.busy": "2025-08-20T03:57:45.687175Z",
     "iopub.status.idle": "2025-08-20T03:57:45.690053Z",
     "shell.execute_reply": "2025-08-20T03:57:45.689648Z"
    }
   },
   "outputs": [
    {
     "name": "stdout",
     "output_type": "stream",
     "text": [
      "[0, 1, 1, 2, 3, 5, 8, 13, 21, 34]\n"
     ]
    }
   ],
   "source": [
    "n = 10\n",
    "fib = [0, 1]\n",
    "for i in range(2, n):\n",
    "    fib.append(fib[i - 1] + fib[i - 2])\n",
    "print(fib)"
   ]
  },
  {
   "cell_type": "markdown",
   "id": "12cb99b5",
   "metadata": {},
   "source": [
    "We can also write this using a ```while``` loop if we wanted to."
   ]
  },
  {
   "cell_type": "code",
   "execution_count": 57,
   "id": "c8978270",
   "metadata": {
    "execution": {
     "iopub.execute_input": "2025-08-20T03:57:45.691299Z",
     "iopub.status.busy": "2025-08-20T03:57:45.691139Z",
     "iopub.status.idle": "2025-08-20T03:57:45.694001Z",
     "shell.execute_reply": "2025-08-20T03:57:45.693532Z"
    }
   },
   "outputs": [
    {
     "name": "stdout",
     "output_type": "stream",
     "text": [
      "[0, 1, 1, 2, 3, 5, 8, 13, 21, 34]\n"
     ]
    }
   ],
   "source": [
    "n = 2\n",
    "fib = [0, 1]\n",
    "while n < 10:\n",
    "    fib.append(fib[n - 1] + fib[n - 2])\n",
    "    n = n + 1\n",
    "print(fib)"
   ]
  },
  {
   "cell_type": "markdown",
   "id": "5754436d",
   "metadata": {},
   "source": [
    "## Writing Scripts and Functions"
   ]
  },
  {
   "cell_type": "markdown",
   "id": "9ec29797",
   "metadata": {},
   "source": [
    "Up until now we have been running little code snippets but have not really been doing any real programming.  Recall that Python is a scripting language.  Therefore, most of the time, we want to write **scripts** that contain a collection of constants, variables, data structures, functions, comments, etc., that perform various complicated tasks. "
   ]
  },
  {
   "cell_type": "markdown",
   "id": "556dbd52",
   "metadata": {},
   "source": [
    "###  Scripts"
   ]
  },
  {
   "cell_type": "markdown",
   "id": "02bdb64c",
   "metadata": {},
   "source": [
    "A Python script file is nothing but a text file containing Python code that ends with a **.py** extension.  Python scripts are also called Python **programs**.  If we open up any editor, then we are given a blank window that we can enter our Python commands in."
   ]
  },
  {
   "cell_type": "markdown",
   "id": "1904ae03",
   "metadata": {},
   "source": [
    "Before we begin to write our scripts, lets first discuss the best format for writing your scripts."
   ]
  },
  {
   "cell_type": "code",
   "execution_count": 58,
   "id": "e49f29cd",
   "metadata": {
    "execution": {
     "iopub.execute_input": "2025-08-20T03:57:45.695292Z",
     "iopub.status.busy": "2025-08-20T03:57:45.695148Z",
     "iopub.status.idle": "2025-08-20T03:57:45.698567Z",
     "shell.execute_reply": "2025-08-20T03:57:45.698129Z"
    }
   },
   "outputs": [
    {
     "name": "stdout",
     "output_type": "stream",
     "text": [
      "Series approximation: 0.7071067811796194\n",
      "Error: 6.928013718265902e-12\n"
     ]
    }
   ],
   "source": [
    "# This is an example script for the P461 class\n",
    "# Here we will calculate the series expansion\n",
    "# for sin(x) up to an arbitrary order N.\n",
    "#\n",
    "# Paul Nation, 02/03/2014\n",
    "\n",
    "N = 5  # The order of the series expansion\n",
    "x = np.pi / 4.0  # The point at which we want to evaluate sine\n",
    "\n",
    "ans = 0.0\n",
    "for k in range(N + 1):\n",
    "    ans = ans + (-1) ** k * x ** (1 + 2 * k) / factorial(1 + 2 * k)\n",
    "print(\"Series approximation:\", ans)\n",
    "print(\"Error:\", np.sin(x) - ans)"
   ]
  },
  {
   "cell_type": "markdown",
   "id": "2dd20b1a",
   "metadata": {},
   "source": [
    "We can see that the script has four main parts: First, we have a section of **comments** that describe what the script does and when it was created.  In python all comments start with the **```#```** symbol.  Everything after this symbol is ignored by the computer.  Second, we have the section of the scripts that load the necessary functions that we need from other packages.  Third is a section where we define all of the constants that are going to be used in the script. You should also add comments here that tell us what the constants are.  Finally, your main body of code goes after these sections."
   ]
  },
  {
   "cell_type": "markdown",
   "id": "4b443005",
   "metadata": {},
   "source": [
    "### Functions"
   ]
  },
  {
   "cell_type": "markdown",
   "id": "03017490",
   "metadata": {},
   "source": [
    "We are finally in a position to look at one of the most important parts of any programming language **functions**.  Functions are blocks of code that accomplish a specific task. Functions usually take \"input arguments\", perform operations on these inputs, and then \"return\" one or more results. Functions can be used over and over again, and can also be \"called\" from the inside of other functions.  Let us rewrite our script for $sin(x)$ using a function and then describe each part."
   ]
  },
  {
   "cell_type": "code",
   "execution_count": 59,
   "id": "73e98099",
   "metadata": {
    "execution": {
     "iopub.execute_input": "2025-08-20T03:57:45.699834Z",
     "iopub.status.busy": "2025-08-20T03:57:45.699675Z",
     "iopub.status.idle": "2025-08-20T03:57:45.703142Z",
     "shell.execute_reply": "2025-08-20T03:57:45.702672Z"
    }
   },
   "outputs": [
    {
     "name": "stdout",
     "output_type": "stream",
     "text": [
      "Series approximation: 0.7071067811796194\n",
      "Error: 6.928013718265902e-12\n"
     ]
    }
   ],
   "source": [
    "N = 5  # The order of the series expansion\n",
    "x = np.pi / 4.0  # The point at which we want to evaluate sine\n",
    "\n",
    "\n",
    "def sine_series(x, N):\n",
    "    ans = 0.0\n",
    "    for k in range(N + 1):\n",
    "        ans = ans + (-1) ** k * x ** (1 + 2 * k) / factorial(1 + 2 * k)\n",
    "    return ans\n",
    "\n",
    "\n",
    "result = sine_series(x, N)\n",
    "print(\"Series approximation:\", result)\n",
    "print(\"Error:\", np.sin(x) - result)"
   ]
  },
  {
   "cell_type": "markdown",
   "id": "98e38f08",
   "metadata": {},
   "source": [
    "We see see that a function is created using the keyword ```def``` which is short \"define\", then the name of the function followed by the input arguments in parentheses.  After the block of code called by the function, the ```return``` keyword specifies what variable(s) and/or data structure(s) are given as the output.  So a general functions call is"
   ]
  },
  {
   "cell_type": "code",
   "execution_count": 60,
   "id": "b7c8d5a0",
   "metadata": {
    "execution": {
     "iopub.execute_input": "2025-08-20T03:57:45.704398Z",
     "iopub.status.busy": "2025-08-20T03:57:45.704237Z",
     "iopub.status.idle": "2025-08-20T03:57:45.706551Z",
     "shell.execute_reply": "2025-08-20T03:57:45.706128Z"
    }
   },
   "outputs": [],
   "source": [
    "def function_name(arg1, arg2):\n",
    "    \"Block of code to run\"\n",
    "    \"...\"\n",
    "    return result"
   ]
  },
  {
   "cell_type": "markdown",
   "id": "f3ed0859",
   "metadata": {},
   "source": [
    "Again, everything after the colon (:) that is inside the function must be indented.  The beauty of using functions is that we can use the same code over and over, just by changing the constants near the top of our Python script.\n",
    "\n",
    "Variables that are defined inside of a function are called **local variables** and only defined for the block of code inside of the function.  In our previous example, ```k``` was a local variable.  The input arguments and return arguments are *not* local variables.  Once a function is done running, the local variables are erased from memory.  Therefore, if you want get something out of a function, your must return the value when your done."
   ]
  },
  {
   "cell_type": "markdown",
   "id": "211b4646",
   "metadata": {},
   "source": [
    "If we want to return more than one thing at the end of the function then we just need to separate the different items by a comma."
   ]
  },
  {
   "cell_type": "code",
   "execution_count": 61,
   "id": "ec9daf73",
   "metadata": {
    "execution": {
     "iopub.execute_input": "2025-08-20T03:57:45.707805Z",
     "iopub.status.busy": "2025-08-20T03:57:45.707654Z",
     "iopub.status.idle": "2025-08-20T03:57:45.783279Z",
     "shell.execute_reply": "2025-08-20T03:57:45.782883Z"
    }
   },
   "outputs": [
    {
     "data": {
      "image/png": "[encoded data removed]",
      "text/plain": [
       "<Figure size 640x480 with 1 Axes>"
      ]
     },
     "metadata": {},
     "output_type": "display_data"
    }
   ],
   "source": [
    "N = 100  # Number of points to generate\n",
    "\n",
    "\n",
    "def random_coordinates(N):\n",
    "    x_coords = []\n",
    "    y_coords = []\n",
    "    for n in range(N):\n",
    "        xnew, ynew = np.random.random(2)\n",
    "        x_coords.append(xnew)\n",
    "        y_coords.append(ynew)\n",
    "    return x_coords, y_coords\n",
    "\n",
    "\n",
    "xc, yc = random_coordinates(N)\n",
    "plt.plot(xc, yc, \"ro\", markersize=8)\n",
    "plt.show()"
   ]
  },
  {
   "cell_type": "code",
   "execution_count": 62,
   "id": "1ca4f64d",
   "metadata": {
    "execution": {
     "iopub.execute_input": "2025-08-20T03:57:45.784615Z",
     "iopub.status.busy": "2025-08-20T03:57:45.784456Z",
     "iopub.status.idle": "2025-08-20T03:57:45.848587Z",
     "shell.execute_reply": "2025-08-20T03:57:45.848088Z"
    }
   },
   "outputs": [
    {
     "data": {
      "image/png": "[encoded data removed]",
      "text/plain": [
       "<Figure size 640x480 with 1 Axes>"
      ]
     },
     "metadata": {},
     "output_type": "display_data"
    }
   ],
   "source": [
    "N = 20  # Number of points to generate\n",
    "\n",
    "\n",
    "def random_coordinates(N):\n",
    "    x_coords = []\n",
    "    y_coords = []\n",
    "    for n in range(N):\n",
    "        xnew, ynew = np.random.random(2)\n",
    "        x_coords.append(xnew)\n",
    "        y_coords.append(ynew)\n",
    "    return x_coords, y_coords\n",
    "\n",
    "\n",
    "def dist2d(x1, y1, x2, y2):\n",
    "    return np.sqrt((x1 - x2) ** 2 + (y1 - y2) ** 2)\n",
    "\n",
    "\n",
    "def max_dist(xc, yc):\n",
    "    max_dist = 0.0\n",
    "    num_points = len(xc)\n",
    "    for ii in range(num_points):\n",
    "        for jj in range(num_points):\n",
    "            dist = dist2d(xc[ii], yc[ii], xc[jj], yc[jj])\n",
    "            if dist > max_dist:\n",
    "                max_dist = dist\n",
    "                xvals = [xc[ii], xc[jj]]\n",
    "                yvals = [yc[ii], yc[jj]]\n",
    "    return max_dist, xvals, yvals\n",
    "\n",
    "\n",
    "xc, yc = random_coordinates(N)\n",
    "max_dist, pnt1, pnt2 = max_dist(xc, yc)\n",
    "plt.plot(xc, yc, \"ro\", markersize=8)\n",
    "plt.plot(pnt1, pnt2, \"b-\", lw=2)\n",
    "plt.show()"
   ]
  },
  {
   "cell_type": "markdown",
   "id": "04e4dc8f",
   "metadata": {},
   "source": [
    "Obvious this last example is more complex, and in particular, it is hard to understand what the functions.  Even for your own functions, you may often forget what your functions do unless you provide some documentation and comments in your scripts.  Here we will see how to properly document a function in Python by looking at the ```max_dist``` function:"
   ]
  },
  {
   "cell_type": "code",
   "execution_count": 63,
   "id": "8e4b4bdc",
   "metadata": {
    "execution": {
     "iopub.execute_input": "2025-08-20T03:57:45.849958Z",
     "iopub.status.busy": "2025-08-20T03:57:45.849797Z",
     "iopub.status.idle": "2025-08-20T03:57:45.853001Z",
     "shell.execute_reply": "2025-08-20T03:57:45.852523Z"
    }
   },
   "outputs": [],
   "source": [
    "def max_dist(xc, yc):\n",
    "    \"\"\"\n",
    "    Finds the maximum distance between any two points\n",
    "    in a collection of 2D points.  The points corresponding\n",
    "    to this distance are also returned.\n",
    "\n",
    "    Parameters\n",
    "    ----------\n",
    "    xc : list\n",
    "        List of x-coordinates\n",
    "    yc : list\n",
    "        List of y-coordinates\n",
    "\n",
    "    Returns\n",
    "    -------\n",
    "    max_dist : float\n",
    "        Maximum distance\n",
    "    xvals : list\n",
    "        x-coodinates of two points\n",
    "    yvals : list\n",
    "        y-coordinates of two points\n",
    "\n",
    "    \"\"\"\n",
    "    max_dist = 0.0  # initialize max_dist\n",
    "    num_points = len(xc)  # number of points in collection\n",
    "    for ii in range(num_points):\n",
    "        for jj in range(num_points):\n",
    "            dist = dist2d(xc[ii], yc[ii], xc[jj], yc[jj])\n",
    "            if dist > max_dist:\n",
    "                max_dist = dist\n",
    "                xvals = [xc[ii], xc[jj]]\n",
    "                yvals = [yc[ii], yc[jj]]\n",
    "    return max_dist, xvals, yvals"
   ]
  },
  {
   "cell_type": "markdown",
   "id": "9935f4e5",
   "metadata": {},
   "source": [
    "Everything inbetween the ```\"\"\"...\"\"\"``` is called a **docstring** and it gives a tells someone who is not familiar with a partiular functions a detailed explaination as to what the function does, what parameters it takes as inputs, and what values it returns.  It is also good practice to put some comments next to your local variables so the user knows what each of these is for. Although it seems like a lot of work at first, writing docstrings will make you a much better programmer in the future."
   ]
  },
  {
   "cell_type": "markdown",
   "id": "c2a9c853",
   "metadata": {},
   "source": [
    "<h1 align=\"center\">End of Tutorial</h1> \n",
    "<h3 align=\"center\"><a href=\"http://qutip.org/tutorials.html\">Return to QuTiP tutorials page</a></h3> "
   ]
  }
 ],
 "metadata": {
  "jupytext": {
   "cell_metadata_filter": "-all",
   "notebook_metadata_filter": "-jupytext.cell_metadata_filter,-jupytext.notebook_metadata_filter"
  },
  "kernelspec": {
   "display_name": "Python 3 (ipykernel)",
   "language": "python",
   "name": "python3"
  },
  "language_info": {
   "codemirror_mode": {
    "name": "ipython",
    "version": 3
   },
   "file_extension": ".py",
   "mimetype": "text/x-python",
   "name": "python",
   "nbconvert_exporter": "python",
   "pygments_lexer": "ipython3",
   "version": "3.12.0"
  }
 },
 "nbformat": 4,
 "nbformat_minor": 5
}
