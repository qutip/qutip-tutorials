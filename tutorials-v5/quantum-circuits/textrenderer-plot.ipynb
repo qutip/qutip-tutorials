{
 "cells": [
  {
   "cell_type": "markdown",
   "id": "47dcd808",
   "metadata": {},
   "source": [
    "# Plotting and Customizing Quantum Circuits using TextRenderer\n",
    "Author: Rushiraj Gadhvi (gadhvirushiraj@gmail.com)\n",
    "\n",
    "This notebook serves as a comprehensive guide to plotting quantum circuits using QuTiP-QIP's TextRenderer. It explores the various customization options available to users for creating and modifying plots.\n",
    "\n",
    "- **Circuit-Level Customization**\n",
    "- **Gate-Level Customization**"
   ]
  },
  {
   "cell_type": "code",
   "execution_count": 1,
   "id": "0508f52d",
   "metadata": {
    "execution": {
     "iopub.execute_input": "2025-08-20T04:30:31.538483Z",
     "iopub.status.busy": "2025-08-20T04:30:31.538221Z",
     "iopub.status.idle": "2025-08-20T04:30:32.273481Z",
     "shell.execute_reply": "2025-08-20T04:30:32.272929Z"
    }
   },
   "outputs": [],
   "source": [
    "import qutip\n",
    "import numpy as np\n",
    "from qutip import Qobj\n",
    "from qutip_qip.operations import rx\n",
    "from qutip_qip.circuit import QubitCircuit"
   ]
  },
  {
   "cell_type": "code",
   "execution_count": 2,
   "id": "6c0f165c",
   "metadata": {
    "execution": {
     "iopub.execute_input": "2025-08-20T04:30:32.275140Z",
     "iopub.status.busy": "2025-08-20T04:30:32.274916Z",
     "iopub.status.idle": "2025-08-20T04:30:32.277971Z",
     "shell.execute_reply": "2025-08-20T04:30:32.277594Z"
    }
   },
   "outputs": [],
   "source": [
    "qc = QubitCircuit(2, num_cbits=1)\n",
    "qc.add_gate(\"CNOT\", controls=0, targets=1)\n",
    "qc.add_gate(\"SNOT\", targets=1)\n",
    "qc.add_gate(\"ISWAP\", targets=[0, 1])\n",
    "qc.add_measurement(\"M0\", targets=1, classical_store=0)"
   ]
  },
  {
   "cell_type": "code",
   "execution_count": 3,
   "id": "84f53645",
   "metadata": {
    "execution": {
     "iopub.execute_input": "2025-08-20T04:30:32.279223Z",
     "iopub.status.busy": "2025-08-20T04:30:32.279060Z",
     "iopub.status.idle": "2025-08-20T04:30:32.283442Z",
     "shell.execute_reply": "2025-08-20T04:30:32.283015Z"
    }
   },
   "outputs": [
    {
     "name": "stdout",
     "output_type": "stream",
     "text": [
      "        ┌──────┐  ┌──────┐  ┌───────┐  ┌───┐   \n",
      " q1 :───┤ CNOT ├──┤ SNOT ├──┤       ├──┤ M ├───\n",
      "        └───┬──┘  └──────┘  │       │  └─╥─┘   \n",
      "            │               │       │    ║     \n",
      " q0 :───────█───────────────┤ ISWAP ├────║─────\n",
      "                            └───────┘    ║     \n",
      "                                         ║     \n",
      " c0 :════════════════════════════════════╩═════\n",
      "                                               \n"
     ]
    }
   ],
   "source": [
    "qc.draw(\"text\")"
   ]
  },
  {
   "cell_type": "markdown",
   "id": "634adc17",
   "metadata": {},
   "source": [
    "---\n",
    "### Circuit Level Customization Options\n",
    "---"
   ]
  },
  {
   "cell_type": "markdown",
   "id": "49873f58",
   "metadata": {},
   "source": [
    "##### Custom Wire Labels"
   ]
  },
  {
   "cell_type": "code",
   "execution_count": 4,
   "id": "dd2d4c64",
   "metadata": {
    "execution": {
     "iopub.execute_input": "2025-08-20T04:30:32.284706Z",
     "iopub.status.busy": "2025-08-20T04:30:32.284545Z",
     "iopub.status.idle": "2025-08-20T04:30:32.287369Z",
     "shell.execute_reply": "2025-08-20T04:30:32.286900Z"
    }
   },
   "outputs": [
    {
     "name": "stdout",
     "output_type": "stream",
     "text": [
      "                    ┌──────┐  ┌──────┐  ┌───────┐  ┌───┐   \n",
      " long_long_name :───┤ CNOT ├──┤ SNOT ├──┤       ├──┤ M ├───\n",
      "                    └───┬──┘  └──────┘  │       │  └─╥─┘   \n",
      "                        │               │       │    ║     \n",
      " some_long_name :───────█───────────────┤ ISWAP ├────║─────\n",
      "                                        └───────┘    ║     \n",
      "                                                     ║     \n",
      " some_name      :════════════════════════════════════╩═════\n",
      "                                                           \n"
     ]
    }
   ],
   "source": [
    "qc.draw(\"text\", wire_label=[\"some_name\", \"some_long_name\", \"long_long_name\"])"
   ]
  },
  {
   "cell_type": "markdown",
   "id": "3b489c78",
   "metadata": {},
   "source": [
    "##### Control extra wire extension at end of circuit"
   ]
  },
  {
   "cell_type": "code",
   "execution_count": 5,
   "id": "7d4a1d4b",
   "metadata": {
    "execution": {
     "iopub.execute_input": "2025-08-20T04:30:32.288609Z",
     "iopub.status.busy": "2025-08-20T04:30:32.288453Z",
     "iopub.status.idle": "2025-08-20T04:30:32.290998Z",
     "shell.execute_reply": "2025-08-20T04:30:32.290602Z"
    }
   },
   "outputs": [
    {
     "name": "stdout",
     "output_type": "stream",
     "text": [
      "        ┌──────┐  ┌──────┐  ┌───────┐  ┌───┐ \n",
      " q1 :───┤ CNOT ├──┤ SNOT ├──┤       ├──┤ M ├─\n",
      "        └───┬──┘  └──────┘  │       │  └─╥─┘ \n",
      "            │               │       │    ║   \n",
      " q0 :───────█───────────────┤ ISWAP ├────║───\n",
      "                            └───────┘    ║   \n",
      "                                         ║   \n",
      " c0 :════════════════════════════════════╩═══\n",
      "                                             \n"
     ]
    }
   ],
   "source": [
    "qc.draw(\"text\", end_wire_ext=0)"
   ]
  },
  {
   "cell_type": "code",
   "execution_count": 6,
   "id": "d7de8f00",
   "metadata": {
    "execution": {
     "iopub.execute_input": "2025-08-20T04:30:32.292223Z",
     "iopub.status.busy": "2025-08-20T04:30:32.292065Z",
     "iopub.status.idle": "2025-08-20T04:30:32.294856Z",
     "shell.execute_reply": "2025-08-20T04:30:32.294363Z"
    }
   },
   "outputs": [
    {
     "name": "stdout",
     "output_type": "stream",
     "text": [
      "        ┌──────┐  ┌──────┐  ┌───────┐  ┌───┐      \n",
      " q1 :───┤ CNOT ├──┤ SNOT ├──┤       ├──┤ M ├──────\n",
      "        └───┬──┘  └──────┘  │       │  └─╥─┘      \n",
      "            │               │       │    ║        \n",
      " q0 :───────█───────────────┤ ISWAP ├────║────────\n",
      "                            └───────┘    ║        \n",
      "                                         ║        \n",
      " c0 :════════════════════════════════════╩════════\n",
      "                                                  \n"
     ]
    }
   ],
   "source": [
    "qc.draw(\"text\", end_wire_ext=5)"
   ]
  },
  {
   "cell_type": "markdown",
   "id": "5c6de911",
   "metadata": {},
   "source": [
    "##### Adjust Gate Padding"
   ]
  },
  {
   "cell_type": "code",
   "execution_count": 7,
   "id": "04f8cd34",
   "metadata": {
    "execution": {
     "iopub.execute_input": "2025-08-20T04:30:32.296101Z",
     "iopub.status.busy": "2025-08-20T04:30:32.295955Z",
     "iopub.status.idle": "2025-08-20T04:30:32.298721Z",
     "shell.execute_reply": "2025-08-20T04:30:32.298284Z"
    }
   },
   "outputs": [
    {
     "name": "stdout",
     "output_type": "stream",
     "text": [
      "        ┌──────────┐  ┌──────────┐  ┌───────────┐  ┌───────┐   \n",
      " q1 :───┤   CNOT   ├──┤   SNOT   ├──┤           ├──┤   M   ├───\n",
      "        └─────┬────┘  └──────────┘  │           │  └───╥───┘   \n",
      "              │                     │           │      ║       \n",
      " q0 :─────────█─────────────────────┤   ISWAP   ├──────║───────\n",
      "                                    └───────────┘      ║       \n",
      "                                                       ║       \n",
      " c0 :══════════════════════════════════════════════════╩═══════\n",
      "                                                               \n"
     ]
    }
   ],
   "source": [
    "qc.draw(\"text\", gate_pad=3)"
   ]
  },
  {
   "cell_type": "markdown",
   "id": "578b6df0",
   "metadata": {},
   "source": [
    "---\n",
    "### Gate Level Customization Options\n",
    "---"
   ]
  },
  {
   "cell_type": "code",
   "execution_count": 8,
   "id": "68a5cade",
   "metadata": {
    "execution": {
     "iopub.execute_input": "2025-08-20T04:30:32.299915Z",
     "iopub.status.busy": "2025-08-20T04:30:32.299756Z",
     "iopub.status.idle": "2025-08-20T04:30:32.302209Z",
     "shell.execute_reply": "2025-08-20T04:30:32.301736Z"
    }
   },
   "outputs": [],
   "source": [
    "qc = QubitCircuit(2)\n",
    "qc.add_gate(\"H\", targets=[0])\n",
    "qc.add_gate(\"H\", targets=[1], arg_label=\"hadamard gate\")"
   ]
  },
  {
   "cell_type": "code",
   "execution_count": 9,
   "id": "87481418",
   "metadata": {
    "execution": {
     "iopub.execute_input": "2025-08-20T04:30:32.303515Z",
     "iopub.status.busy": "2025-08-20T04:30:32.303337Z",
     "iopub.status.idle": "2025-08-20T04:30:32.305953Z",
     "shell.execute_reply": "2025-08-20T04:30:32.305489Z"
    }
   },
   "outputs": [
    {
     "name": "stdout",
     "output_type": "stream",
     "text": [
      "        ┌───────────────┐   \n",
      " q1 :───┤ hadamard gate ├───\n",
      "        └───────────────┘   \n",
      "        ┌───┐               \n",
      " q0 :───┤ H ├───────────────\n",
      "        └───┘               \n"
     ]
    }
   ],
   "source": [
    "qc.draw(\"text\")"
   ]
  },
  {
   "cell_type": "markdown",
   "id": "c6b92335",
   "metadata": {},
   "source": [
    "#### With User Custom Gates"
   ]
  },
  {
   "cell_type": "code",
   "execution_count": 10,
   "id": "ac72ccdd",
   "metadata": {
    "execution": {
     "iopub.execute_input": "2025-08-20T04:30:32.307231Z",
     "iopub.status.busy": "2025-08-20T04:30:32.307084Z",
     "iopub.status.idle": "2025-08-20T04:30:32.310039Z",
     "shell.execute_reply": "2025-08-20T04:30:32.309656Z"
    }
   },
   "outputs": [],
   "source": [
    "def user_gate1(arg_value):\n",
    "    # controlled rotation X\n",
    "    mat = np.zeros((4, 4), dtype=np.complex)\n",
    "    mat[0, 0] = mat[1, 1] = 1.0\n",
    "    mat[2:4, 2:4] = rx(arg_value).full()\n",
    "    return Qobj(mat, dims=[[2, 2], [2, 2]])\n",
    "\n",
    "\n",
    "def user_gate2():\n",
    "    # S gate\n",
    "    mat = np.array([[1.0, 0], [0.0, 1.0j]])\n",
    "    return Qobj(mat, dims=[[2], [2]])"
   ]
  },
  {
   "cell_type": "code",
   "execution_count": 11,
   "id": "70d86062",
   "metadata": {
    "execution": {
     "iopub.execute_input": "2025-08-20T04:30:32.311269Z",
     "iopub.status.busy": "2025-08-20T04:30:32.311122Z",
     "iopub.status.idle": "2025-08-20T04:30:32.313810Z",
     "shell.execute_reply": "2025-08-20T04:30:32.313314Z"
    }
   },
   "outputs": [],
   "source": [
    "qc = QubitCircuit(3)\n",
    "qc.user_gates = {\"CTRLRX\": user_gate1, \"S\": user_gate2}\n",
    "\n",
    "# qubit 1 controls qubit 0\n",
    "qc.add_gate(\"CTRLRX\", targets=[1, 0], arg_value=np.pi / 2)\n",
    "# qubit 2 is target of S gate\n",
    "qc.add_gate(\"S\", targets=[2])"
   ]
  },
  {
   "cell_type": "code",
   "execution_count": 12,
   "id": "d004e08c",
   "metadata": {
    "execution": {
     "iopub.execute_input": "2025-08-20T04:30:32.315060Z",
     "iopub.status.busy": "2025-08-20T04:30:32.314895Z",
     "iopub.status.idle": "2025-08-20T04:30:32.317659Z",
     "shell.execute_reply": "2025-08-20T04:30:32.317159Z"
    }
   },
   "outputs": [
    {
     "name": "stdout",
     "output_type": "stream",
     "text": [
      "        ┌───┐        \n",
      " q2 :───┤ S ├────────\n",
      "        └───┘        \n",
      "        ┌────────┐   \n",
      " q1 :───┤        ├───\n",
      "        │        │   \n",
      "        │        │   \n",
      " q0 :───┤ CTRLRX ├───\n",
      "        └────────┘   \n"
     ]
    }
   ],
   "source": [
    "qc.draw(\"text\")"
   ]
  },
  {
   "cell_type": "markdown",
   "id": "1efb3d23",
   "metadata": {},
   "source": [
    "---"
   ]
  },
  {
   "cell_type": "code",
   "execution_count": 13,
   "id": "92a4087d",
   "metadata": {
    "execution": {
     "iopub.execute_input": "2025-08-20T04:30:32.318943Z",
     "iopub.status.busy": "2025-08-20T04:30:32.318803Z",
     "iopub.status.idle": "2025-08-20T04:30:32.809317Z",
     "shell.execute_reply": "2025-08-20T04:30:32.808856Z"
    }
   },
   "outputs": [
    {
     "name": "stdout",
     "output_type": "stream",
     "text": [
      "\n",
      "QuTiP: Quantum Toolbox in Python\n",
      "================================\n",
      "Copyright (c) QuTiP team 2011 and later.\n",
      "Current admin team: Alexander Pitchford, Nathan Shammah, Shahnawaz Ahmed, Neill Lambert, Eric Giguère, Boxi Li, Simon Cross, Asier Galicia, Paul Menczel, and Patrick Hopf.\n",
      "Board members: Daniel Burgarth, Robert Johansson, Anton F. Kockum, Franco Nori and Will Zeng.\n",
      "Original developers: R. J. Johansson & P. D. Nation.\n",
      "Previous lead developers: Chris Granade & A. Grimsmo.\n",
      "Currently developed through wide collaboration. See https://github.com/qutip for details.\n",
      "\n",
      "QuTiP Version:      5.3.0.dev0+d849c94\n",
      "Numpy Version:      2.3.2\n",
      "Scipy Version:      1.16.1\n",
      "Cython Version:     3.1.3\n",
      "Matplotlib Version: 3.10.5\n",
      "Python Version:     3.12.0\n",
      "Number of CPUs:     4\n",
      "BLAS Info:          Generic\n",
      "INTEL MKL Ext:      None\n",
      "Platform Info:      Linux (x86_64)\n",
      "Installation path:  /home/runner/miniconda3/envs/test-environment-v5/lib/python3.12/site-packages/qutip\n",
      "\n",
      "Installed QuTiP family packages\n",
      "-------------------------------\n",
      "\n",
      "qutip-qtrl: 0.2.0.dev0+acb71a0\n"
     ]
    },
    {
     "name": "stdout",
     "output_type": "stream",
     "text": [
      "qutip-jax: 0.1.1.dev6\n",
      "qutip-qip: 0.5.0.dev0+2db1138\n",
      "\n",
      "================================================================================\n",
      "Please cite QuTiP in your publication.\n",
      "================================================================================\n",
      "For your convenience a bibtex reference can be easily generated using `qutip.cite()`\n"
     ]
    }
   ],
   "source": [
    "qutip.about()"
   ]
  }
 ],
 "metadata": {
  "jupytext": {
   "cell_metadata_filter": "-all",
   "notebook_metadata_filter": "-jupytext.cell_metadata_filter,-jupytext.notebook_metadata_filter"
  },
  "kernelspec": {
   "display_name": "qutip-dev",
   "language": "python",
   "name": "python3"
  },
  "language_info": {
   "codemirror_mode": {
    "name": "ipython",
    "version": 3
   },
   "file_extension": ".py",
   "mimetype": "text/x-python",
   "name": "python",
   "nbconvert_exporter": "python",
   "pygments_lexer": "ipython3",
   "version": "3.12.0"
  }
 },
 "nbformat": 4,
 "nbformat_minor": 5
}
