{
 "cells": [
  {
   "cell_type": "markdown",
   "id": "63056e41",
   "metadata": {},
   "source": [
    "# Quantum Teleportation Circuit"
   ]
  },
  {
   "cell_type": "code",
   "execution_count": 1,
   "id": "fa000c0c",
   "metadata": {
    "execution": {
     "iopub.execute_input": "2025-08-20T04:30:28.754545Z",
     "iopub.status.busy": "2025-08-20T04:30:28.754374Z",
     "iopub.status.idle": "2025-08-20T04:30:29.496829Z",
     "shell.execute_reply": "2025-08-20T04:30:29.496395Z"
    }
   },
   "outputs": [],
   "source": [
    "from math import sqrt\n",
    "\n",
    "from qutip import about, basis, tensor\n",
    "from qutip_qip.circuit import QubitCircuit\n",
    "from qutip_qip.operations import Measurement"
   ]
  },
  {
   "cell_type": "markdown",
   "id": "d8773154",
   "metadata": {},
   "source": [
    "## Introduction \n",
    "\n",
    "This notebook introduces the basic quantum teleportation circuit (https://en.wikipedia.org/wiki/Quantum_teleportation), complete with measurements and classical control. This notebook also serves as an example on how to add measurement gates and classical controls to a circuit.\n",
    "\n",
    "We will describe the circuit that enables quantum teleportation. We will use two classical wires and three qubit wires. The first qubit wire represents the quantum state $| q0 ⟩ = | \\psi ⟩$ that needs to be transferred from Alice to Bob (so the first qubit is in the possession of Alice). "
   ]
  },
  {
   "cell_type": "code",
   "execution_count": 2,
   "id": "6dfc56b1",
   "metadata": {
    "execution": {
     "iopub.execute_input": "2025-08-20T04:30:29.498545Z",
     "iopub.status.busy": "2025-08-20T04:30:29.498285Z",
     "iopub.status.idle": "2025-08-20T04:30:29.500876Z",
     "shell.execute_reply": "2025-08-20T04:30:29.500455Z"
    }
   },
   "outputs": [],
   "source": [
    "teleportation = QubitCircuit(\n",
    "    3, num_cbits=2, input_states=[r\"\\psi\", \"0\", \"0\", \"c0\", \"c1\"]\n",
    ")"
   ]
  },
  {
   "cell_type": "markdown",
   "id": "b1c9513b",
   "metadata": {},
   "source": [
    "First, Alice and Bob need to create the shared EPR pair ($\\frac{| 00 ⟩ + | 11 ⟩} {2}$) between the second and third qubit by using the hadamard gate on Alice's qubit followed by an entangling CNOT gate.  "
   ]
  },
  {
   "cell_type": "code",
   "execution_count": 3,
   "id": "0e0f6bbe",
   "metadata": {
    "execution": {
     "iopub.execute_input": "2025-08-20T04:30:29.502184Z",
     "iopub.status.busy": "2025-08-20T04:30:29.502021Z",
     "iopub.status.idle": "2025-08-20T04:30:29.504707Z",
     "shell.execute_reply": "2025-08-20T04:30:29.504289Z"
    }
   },
   "outputs": [],
   "source": [
    "teleportation.add_gate(\"SNOT\", targets=[1])\n",
    "teleportation.add_gate(\"CNOT\", targets=[2], controls=[1])"
   ]
  },
  {
   "cell_type": "markdown",
   "id": "a45810a1",
   "metadata": {},
   "source": [
    "Following this, Alice makes the qubit $| q0 ⟩$ interact with Alice's EPR qubit, followed by measuring on the two qubits belonging to Alice. The measurement results for the first qubit is stored in classical register $c1$ and the second qubit is stored in classical register $c0$."
   ]
  },
  {
   "cell_type": "code",
   "execution_count": 4,
   "id": "9094a585",
   "metadata": {
    "execution": {
     "iopub.execute_input": "2025-08-20T04:30:29.505977Z",
     "iopub.status.busy": "2025-08-20T04:30:29.505832Z",
     "iopub.status.idle": "2025-08-20T04:30:29.508364Z",
     "shell.execute_reply": "2025-08-20T04:30:29.507986Z"
    }
   },
   "outputs": [],
   "source": [
    "teleportation.add_gate(\"CNOT\", targets=[1], controls=[0])\n",
    "teleportation.add_gate(\"SNOT\", targets=[0])\n",
    "\n",
    "teleportation.add_measurement(\"M0\", targets=[0], classical_store=1)\n",
    "teleportation.add_measurement(\"M1\", targets=[1], classical_store=0)"
   ]
  },
  {
   "cell_type": "markdown",
   "id": "4a9f3076",
   "metadata": {},
   "source": [
    "Now, we apply the $X$ gate on Bob's qubit based on the classical control $c0$ and $Z$ gate based on classical control $c1$. These operations correspond to the following operations based on the state of Alice's measurement. \n",
    "\n",
    "$|00⟩ \\rightarrow $ no operation \\\n",
    "$|01⟩ \\rightarrow Z$ \\\n",
    "$|10⟩ \\rightarrow X$ \\\n",
    "$|11⟩ \\rightarrow ZX$ \n",
    "\n",
    "The final circuit mathematically must result in the third qubit taking the state $|\\psi⟩$. "
   ]
  },
  {
   "cell_type": "code",
   "execution_count": 5,
   "id": "3b0c0f3b",
   "metadata": {
    "execution": {
     "iopub.execute_input": "2025-08-20T04:30:29.509665Z",
     "iopub.status.busy": "2025-08-20T04:30:29.509503Z",
     "iopub.status.idle": "2025-08-20T04:30:29.511918Z",
     "shell.execute_reply": "2025-08-20T04:30:29.511454Z"
    }
   },
   "outputs": [],
   "source": [
    "teleportation.add_gate(\"X\", targets=[2], classical_controls=[0])\n",
    "teleportation.add_gate(\"Z\", targets=[2], classical_controls=[1])"
   ]
  },
  {
   "cell_type": "markdown",
   "id": "76d2d556",
   "metadata": {},
   "source": [
    "Finally, our teleportation circuit is ready to run, we can view the circuit structure using the following command. "
   ]
  },
  {
   "cell_type": "code",
   "execution_count": 6,
   "id": "ba0d2804",
   "metadata": {
    "execution": {
     "iopub.execute_input": "2025-08-20T04:30:29.513222Z",
     "iopub.status.busy": "2025-08-20T04:30:29.513066Z",
     "iopub.status.idle": "2025-08-20T04:30:29.517929Z",
     "shell.execute_reply": "2025-08-20T04:30:29.517456Z"
    }
   },
   "outputs": [
    {
     "data": {
      "text/plain": [
       "[Gate(SNOT, targets=[1], controls=None, classical controls=None, control_value=None, classical_control_value=None),\n",
       " Gate(CNOT, targets=[2], controls=[1], classical controls=None, control_value=1, classical_control_value=None),\n",
       " Gate(CNOT, targets=[1], controls=[0], classical controls=None, control_value=1, classical_control_value=None),\n",
       " Gate(SNOT, targets=[0], controls=None, classical controls=None, control_value=None, classical_control_value=None),\n",
       " Measurement(M0, target=[0], classical_store=1),\n",
       " Measurement(M1, target=[1], classical_store=0),\n",
       " Gate(X, targets=[2], controls=None, classical controls=[0], control_value=None, classical_control_value=1),\n",
       " Gate(Z, targets=[2], controls=None, classical controls=[1], control_value=None, classical_control_value=1)]"
      ]
     },
     "execution_count": 6,
     "metadata": {},
     "output_type": "execute_result"
    }
   ],
   "source": [
    "teleportation.gates"
   ]
  },
  {
   "cell_type": "markdown",
   "id": "373fdfd0",
   "metadata": {},
   "source": [
    "The circuit can also be visualized:"
   ]
  },
  {
   "cell_type": "code",
   "execution_count": 7,
   "id": "34eb9f5e",
   "metadata": {
    "execution": {
     "iopub.execute_input": "2025-08-20T04:30:29.519186Z",
     "iopub.status.busy": "2025-08-20T04:30:29.519030Z",
     "iopub.status.idle": "2025-08-20T04:30:29.672790Z",
     "shell.execute_reply": "2025-08-20T04:30:29.672262Z"
    }
   },
   "outputs": [
    {
     "data": {
      "image/png": "[encoded data removed]",
      "text/plain": [
       "<Figure size 945.6x945.6 with 1 Axes>"
      ]
     },
     "metadata": {},
     "output_type": "display_data"
    },
    {
     "data": {
      "text/plain": []
     },
     "execution_count": 7,
     "metadata": {},
     "output_type": "execute_result"
    }
   ],
   "source": [
    "teleportation"
   ]
  },
  {
   "cell_type": "markdown",
   "id": "cd9992da",
   "metadata": {},
   "source": [
    "The first qubit is user-specified $|\\psi ⟩$ state and the other two must be $|0⟩$. \n",
    "\n",
    "### Example 1 \n",
    "#### $|\\psi⟩ = |+ ⟩$  "
   ]
  },
  {
   "cell_type": "code",
   "execution_count": 8,
   "id": "379802f0",
   "metadata": {
    "execution": {
     "iopub.execute_input": "2025-08-20T04:30:29.674217Z",
     "iopub.status.busy": "2025-08-20T04:30:29.674058Z",
     "iopub.status.idle": "2025-08-20T04:30:29.676986Z",
     "shell.execute_reply": "2025-08-20T04:30:29.676582Z"
    }
   },
   "outputs": [],
   "source": [
    "a = 1 / sqrt(2) * basis(2, 0) + 1 / sqrt(2) * basis(2, 1)\n",
    "state = tensor(a, basis(2, 0), basis(2, 0))"
   ]
  },
  {
   "cell_type": "markdown",
   "id": "1d6ee65c",
   "metadata": {},
   "source": [
    "We can confirm our state is initialized correctly by observing the measurment statistics on the first qubit, followed by which we run the circuit."
   ]
  },
  {
   "cell_type": "code",
   "execution_count": 9,
   "id": "b5d4029f",
   "metadata": {
    "execution": {
     "iopub.execute_input": "2025-08-20T04:30:29.678238Z",
     "iopub.status.busy": "2025-08-20T04:30:29.678093Z",
     "iopub.status.idle": "2025-08-20T04:30:29.682766Z",
     "shell.execute_reply": "2025-08-20T04:30:29.682341Z"
    }
   },
   "outputs": [
    {
     "data": {
      "text/plain": [
       "([Quantum object: dims=[[2, 2, 2], [1]], shape=(8, 1), type='ket', dtype=Dense\n",
       "  Qobj data =\n",
       "  [[1.]\n",
       "   [0.]\n",
       "   [0.]\n",
       "   [0.]\n",
       "   [0.]\n",
       "   [0.]\n",
       "   [0.]\n",
       "   [0.]],\n",
       "  Quantum object: dims=[[2, 2, 2], [1]], shape=(8, 1), type='ket', dtype=Dense\n",
       "  Qobj data =\n",
       "  [[0.]\n",
       "   [0.]\n",
       "   [0.]\n",
       "   [0.]\n",
       "   [1.]\n",
       "   [0.]\n",
       "   [0.]\n",
       "   [0.]]],\n",
       " [np.float64(0.4999999999999999), np.float64(0.4999999999999999)])"
      ]
     },
     "execution_count": 9,
     "metadata": {},
     "output_type": "execute_result"
    }
   ],
   "source": [
    "initial_measurement = Measurement(\"start\", targets=[0])\n",
    "initial_measurement.measurement_comp_basis(state)"
   ]
  },
  {
   "cell_type": "markdown",
   "id": "b5fc9f43",
   "metadata": {},
   "source": [
    "We can run the circuit using the `QubitCircuit.run()` function which provided the initial state-vector (or density matrix) initiates one run on the circuit (including sampling any intermediate measurements) and providing the final results (any classical bits can also be explicitly set using the argument `cbits`). The results are returned as a `Result` object. The result states can be accessed through the `get_states()` function where the argument `index=0` specifies the first(only) result should be returned"
   ]
  },
  {
   "cell_type": "code",
   "execution_count": 10,
   "id": "525a1833",
   "metadata": {
    "execution": {
     "iopub.execute_input": "2025-08-20T04:30:29.684000Z",
     "iopub.status.busy": "2025-08-20T04:30:29.683844Z",
     "iopub.status.idle": "2025-08-20T04:30:29.688964Z",
     "shell.execute_reply": "2025-08-20T04:30:29.688494Z"
    }
   },
   "outputs": [
    {
     "name": "stdout",
     "output_type": "stream",
     "text": [
      "Quantum object: dims=[[2, 2, 2], [1]], shape=(8, 1), type='ket', dtype=Dense\n",
      "Qobj data =\n",
      "[[0.        ]\n",
      " [0.        ]\n",
      " [0.70710678]\n",
      " [0.70710678]\n",
      " [0.        ]\n",
      " [0.        ]\n",
      " [0.        ]\n",
      " [0.        ]]\n"
     ]
    }
   ],
   "source": [
    "state_final = teleportation.run(state)\n",
    "print(state_final)"
   ]
  },
  {
   "cell_type": "markdown",
   "id": "3551f308",
   "metadata": {},
   "source": [
    "After running, we can see the measurement statistics on the last qubit to see that the qubit is teleported correctly. "
   ]
  },
  {
   "cell_type": "code",
   "execution_count": 11,
   "id": "b113b3d2",
   "metadata": {
    "execution": {
     "iopub.execute_input": "2025-08-20T04:30:29.690261Z",
     "iopub.status.busy": "2025-08-20T04:30:29.690109Z",
     "iopub.status.idle": "2025-08-20T04:30:29.694359Z",
     "shell.execute_reply": "2025-08-20T04:30:29.693882Z"
    }
   },
   "outputs": [
    {
     "data": {
      "text/plain": [
       "([Quantum object: dims=[[2, 2, 2], [1]], shape=(8, 1), type='ket', dtype=Dense\n",
       "  Qobj data =\n",
       "  [[0.]\n",
       "   [0.]\n",
       "   [1.]\n",
       "   [0.]\n",
       "   [0.]\n",
       "   [0.]\n",
       "   [0.]\n",
       "   [0.]],\n",
       "  Quantum object: dims=[[2, 2, 2], [1]], shape=(8, 1), type='ket', dtype=Dense\n",
       "  Qobj data =\n",
       "  [[0.]\n",
       "   [0.]\n",
       "   [0.]\n",
       "   [1.]\n",
       "   [0.]\n",
       "   [0.]\n",
       "   [0.]\n",
       "   [0.]]],\n",
       " [np.float64(0.4999999999999999), np.float64(0.4999999999999999)])"
      ]
     },
     "execution_count": 11,
     "metadata": {},
     "output_type": "execute_result"
    }
   ],
   "source": [
    "final_measurement = Measurement(\"start\", targets=[2])\n",
    "final_measurement.measurement_comp_basis(state_final)"
   ]
  },
  {
   "cell_type": "markdown",
   "id": "1639f90e",
   "metadata": {},
   "source": [
    "### Example 2 \n",
    "#### $|\\psi⟩ = |1 ⟩$  "
   ]
  },
  {
   "cell_type": "code",
   "execution_count": 12,
   "id": "65e0e696",
   "metadata": {
    "execution": {
     "iopub.execute_input": "2025-08-20T04:30:29.695767Z",
     "iopub.status.busy": "2025-08-20T04:30:29.695605Z",
     "iopub.status.idle": "2025-08-20T04:30:29.700298Z",
     "shell.execute_reply": "2025-08-20T04:30:29.699830Z"
    }
   },
   "outputs": [
    {
     "data": {
      "text/plain": [
       "([None,\n",
       "  Quantum object: dims=[[2, 2, 2], [1]], shape=(8, 1), type='ket', dtype=Dense\n",
       "  Qobj data =\n",
       "  [[0.]\n",
       "   [0.]\n",
       "   [0.]\n",
       "   [0.]\n",
       "   [1.]\n",
       "   [0.]\n",
       "   [0.]\n",
       "   [0.]]],\n",
       " [0.0, np.float64(1.0)])"
      ]
     },
     "execution_count": 12,
     "metadata": {},
     "output_type": "execute_result"
    }
   ],
   "source": [
    "state = tensor(basis(2, 1), basis(2, 0), basis(2, 0))\n",
    "initial_measurement = Measurement(\"start\", targets=[0])\n",
    "initial_measurement.measurement_comp_basis(state)"
   ]
  },
  {
   "cell_type": "code",
   "execution_count": 13,
   "id": "d30a8b1d",
   "metadata": {
    "execution": {
     "iopub.execute_input": "2025-08-20T04:30:29.701560Z",
     "iopub.status.busy": "2025-08-20T04:30:29.701402Z",
     "iopub.status.idle": "2025-08-20T04:30:29.706344Z",
     "shell.execute_reply": "2025-08-20T04:30:29.705938Z"
    }
   },
   "outputs": [
    {
     "name": "stdout",
     "output_type": "stream",
     "text": [
      "Quantum object: dims=[[2, 2, 2], [1]], shape=(8, 1), type='ket', dtype=Dense\n",
      "Qobj data =\n",
      "[[0.]\n",
      " [0.]\n",
      " [0.]\n",
      " [0.]\n",
      " [0.]\n",
      " [0.]\n",
      " [0.]\n",
      " [1.]]\n"
     ]
    }
   ],
   "source": [
    "state_final = teleportation.run(state)\n",
    "print(state_final)"
   ]
  },
  {
   "cell_type": "code",
   "execution_count": 14,
   "id": "02f46986",
   "metadata": {
    "execution": {
     "iopub.execute_input": "2025-08-20T04:30:29.707627Z",
     "iopub.status.busy": "2025-08-20T04:30:29.707471Z",
     "iopub.status.idle": "2025-08-20T04:30:29.711871Z",
     "shell.execute_reply": "2025-08-20T04:30:29.711464Z"
    }
   },
   "outputs": [
    {
     "data": {
      "text/plain": [
       "([None,\n",
       "  Quantum object: dims=[[2, 2, 2], [1]], shape=(8, 1), type='ket', dtype=Dense\n",
       "  Qobj data =\n",
       "  [[0.]\n",
       "   [0.]\n",
       "   [0.]\n",
       "   [0.]\n",
       "   [0.]\n",
       "   [0.]\n",
       "   [0.]\n",
       "   [1.]]],\n",
       " [0.0, np.float64(1.0)])"
      ]
     },
     "execution_count": 14,
     "metadata": {},
     "output_type": "execute_result"
    }
   ],
   "source": [
    "final_measurement = Measurement(\"start\", targets=[2])\n",
    "final_measurement.measurement_comp_basis(state_final)"
   ]
  },
  {
   "cell_type": "markdown",
   "id": "89acb142",
   "metadata": {},
   "source": [
    "Another useful feature of the circuit module is the **QubitCircuit.run_statistics()** feature which provides the opportunity to gather all the possible output states of the circuit along with their output probabilities. Again, the results are returned as a `Result` object. The result states and respective probabilites can be accessed through the `get_results()` function. "
   ]
  },
  {
   "cell_type": "code",
   "execution_count": 15,
   "id": "2f7889ce",
   "metadata": {
    "execution": {
     "iopub.execute_input": "2025-08-20T04:30:29.713141Z",
     "iopub.status.busy": "2025-08-20T04:30:29.712995Z",
     "iopub.status.idle": "2025-08-20T04:30:29.721926Z",
     "shell.execute_reply": "2025-08-20T04:30:29.721554Z"
    }
   },
   "outputs": [
    {
     "data": {
      "text/plain": [
       "[np.float64(0.24999999999999994),\n",
       " np.float64(0.24999999999999994),\n",
       " np.float64(0.24999999999999994),\n",
       " np.float64(0.24999999999999994)]"
      ]
     },
     "execution_count": 15,
     "metadata": {},
     "output_type": "execute_result"
    }
   ],
   "source": [
    "results = teleportation.run_statistics(state)\n",
    "results.probabilities"
   ]
  },
  {
   "cell_type": "code",
   "execution_count": 16,
   "id": "76a668c3",
   "metadata": {
    "execution": {
     "iopub.execute_input": "2025-08-20T04:30:29.723198Z",
     "iopub.status.busy": "2025-08-20T04:30:29.723046Z",
     "iopub.status.idle": "2025-08-20T04:30:29.726781Z",
     "shell.execute_reply": "2025-08-20T04:30:29.726295Z"
    }
   },
   "outputs": [
    {
     "data": {
      "text/plain": [
       "[Quantum object: dims=[[2, 2, 2], [1]], shape=(8, 1), type='ket', dtype=Dense\n",
       " Qobj data =\n",
       " [[0.]\n",
       "  [1.]\n",
       "  [0.]\n",
       "  [0.]\n",
       "  [0.]\n",
       "  [0.]\n",
       "  [0.]\n",
       "  [0.]],\n",
       " Quantum object: dims=[[2, 2, 2], [1]], shape=(8, 1), type='ket', dtype=Dense\n",
       " Qobj data =\n",
       " [[0.]\n",
       "  [0.]\n",
       "  [0.]\n",
       "  [1.]\n",
       "  [0.]\n",
       "  [0.]\n",
       "  [0.]\n",
       "  [0.]],\n",
       " Quantum object: dims=[[2, 2, 2], [1]], shape=(8, 1), type='ket', dtype=Dense\n",
       " Qobj data =\n",
       " [[0.]\n",
       "  [0.]\n",
       "  [0.]\n",
       "  [0.]\n",
       "  [0.]\n",
       "  [1.]\n",
       "  [0.]\n",
       "  [0.]],\n",
       " Quantum object: dims=[[2, 2, 2], [1]], shape=(8, 1), type='ket', dtype=Dense\n",
       " Qobj data =\n",
       " [[0.]\n",
       "  [0.]\n",
       "  [0.]\n",
       "  [0.]\n",
       "  [0.]\n",
       "  [0.]\n",
       "  [0.]\n",
       "  [1.]]]"
      ]
     },
     "execution_count": 16,
     "metadata": {},
     "output_type": "execute_result"
    }
   ],
   "source": [
    "results.final_states"
   ]
  },
  {
   "cell_type": "code",
   "execution_count": 17,
   "id": "2f642380",
   "metadata": {
    "execution": {
     "iopub.execute_input": "2025-08-20T04:30:29.728078Z",
     "iopub.status.busy": "2025-08-20T04:30:29.727921Z",
     "iopub.status.idle": "2025-08-20T04:30:30.204072Z",
     "shell.execute_reply": "2025-08-20T04:30:30.203595Z"
    }
   },
   "outputs": [
    {
     "name": "stdout",
     "output_type": "stream",
     "text": [
      "\n",
      "QuTiP: Quantum Toolbox in Python\n",
      "================================\n",
      "Copyright (c) QuTiP team 2011 and later.\n",
      "Current admin team: Alexander Pitchford, Nathan Shammah, Shahnawaz Ahmed, Neill Lambert, Eric Giguère, Boxi Li, Simon Cross, Asier Galicia, Paul Menczel, and Patrick Hopf.\n",
      "Board members: Daniel Burgarth, Robert Johansson, Anton F. Kockum, Franco Nori and Will Zeng.\n",
      "Original developers: R. J. Johansson & P. D. Nation.\n",
      "Previous lead developers: Chris Granade & A. Grimsmo.\n",
      "Currently developed through wide collaboration. See https://github.com/qutip for details.\n",
      "\n",
      "QuTiP Version:      5.3.0.dev0+d849c94\n",
      "Numpy Version:      2.3.2\n",
      "Scipy Version:      1.16.1\n",
      "Cython Version:     3.1.3\n",
      "Matplotlib Version: 3.10.5\n",
      "Python Version:     3.12.0\n",
      "Number of CPUs:     4\n",
      "BLAS Info:          Generic\n",
      "INTEL MKL Ext:      None\n",
      "Platform Info:      Linux (x86_64)\n",
      "Installation path:  /home/runner/miniconda3/envs/test-environment-v5/lib/python3.12/site-packages/qutip\n",
      "\n",
      "Installed QuTiP family packages\n",
      "-------------------------------\n",
      "\n",
      "qutip-qtrl: 0.2.0.dev0+acb71a0\n"
     ]
    },
    {
     "name": "stdout",
     "output_type": "stream",
     "text": [
      "qutip-jax: 0.1.1.dev6\n",
      "qutip-qip: 0.5.0.dev0+2db1138\n",
      "\n",
      "================================================================================\n",
      "Please cite QuTiP in your publication.\n",
      "================================================================================\n",
      "For your convenience a bibtex reference can be easily generated using `qutip.cite()`\n"
     ]
    }
   ],
   "source": [
    "about()"
   ]
  }
 ],
 "metadata": {
  "jupytext": {
   "cell_metadata_filter": "-all",
   "notebook_metadata_filter": "-jupytext.cell_metadata_filter,-jupytext.notebook_metadata_filter"
  },
  "kernelspec": {
   "display_name": "Python 3 (ipykernel)",
   "language": "python",
   "name": "python3"
  },
  "language_info": {
   "codemirror_mode": {
    "name": "ipython",
    "version": 3
   },
   "file_extension": ".py",
   "mimetype": "text/x-python",
   "name": "python",
   "nbconvert_exporter": "python",
   "pygments_lexer": "ipython3",
   "version": "3.12.0"
  }
 },
 "nbformat": 4,
 "nbformat_minor": 5
}
