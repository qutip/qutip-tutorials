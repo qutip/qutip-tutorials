{
 "cells": [
  {
   "cell_type": "markdown",
   "id": "1927c749",
   "metadata": {},
   "source": [
    "# Imports and Exports QASM circuit\n",
    "\n",
    "Notebook Author: Sidhant Saraogi(sid1397@gmail.com)"
   ]
  },
  {
   "cell_type": "markdown",
   "id": "1d9640e0",
   "metadata": {},
   "source": [
    "This notebook introduces the [OpenQASM](https://github.com/Qiskit/openqasm) import and export functions. It can also serve as a short introduction to the QASM format. The Quantum Assembly Language(QASM) acts as an intermediate representation for Quantum Circuits. This is one way to export/import from/to with QuTiP. In this way, we can make the QIP module of QuTiP compatible with Qiskit and Cirq."
   ]
  },
  {
   "cell_type": "code",
   "execution_count": 1,
   "id": "bb916a46",
   "metadata": {
    "execution": {
     "iopub.execute_input": "2025-08-20T04:30:38.074093Z",
     "iopub.status.busy": "2025-08-20T04:30:38.073860Z",
     "iopub.status.idle": "2025-08-20T04:30:38.838596Z",
     "shell.execute_reply": "2025-08-20T04:30:38.838091Z"
    }
   },
   "outputs": [],
   "source": [
    "import numpy as np\n",
    "from qutip import about, basis, rand_ket, tensor\n",
    "from qutip_qip.operations import Measurement\n",
    "from qutip_qip.operations.gates import gate_sequence_product\n",
    "from qutip_qip.qasm import read_qasm, print_qasm"
   ]
  },
  {
   "cell_type": "markdown",
   "id": "aad78685",
   "metadata": {},
   "source": [
    "The process is quite simple and only requires the user to store the `.qasm` file in an appropriate location and maintain the absolute path of the file. This will reading the file simpler. For this demonstration, we already saved a few qasm circuit examples in the directory qasm_files. You can find more examples at [OpenQASM repository](https://github.com/Qiskit/openqasm) Let's start off by reading one of the examples:"
   ]
  },
  {
   "cell_type": "code",
   "execution_count": 2,
   "id": "93d9d90c",
   "metadata": {
    "execution": {
     "iopub.execute_input": "2025-08-20T04:30:38.840602Z",
     "iopub.status.busy": "2025-08-20T04:30:38.840291Z",
     "iopub.status.idle": "2025-08-20T04:30:38.843359Z",
     "shell.execute_reply": "2025-08-20T04:30:38.842944Z"
    }
   },
   "outputs": [
    {
     "name": "stdout",
     "output_type": "stream",
     "text": [
      "// SWAP gate impemented in terms of cx's\n",
      "\n",
      "OPENQASM 2.0;\n",
      "include \"qelib1.inc\";\n",
      "\n",
      "qreg q[2];\n",
      "\n",
      "cx q[1], q[0];\n",
      "cx q[0], q[1];\n",
      "cx q[1], q[0];\n",
      "\n"
     ]
    }
   ],
   "source": [
    "path = \"qasm_files/swap.qasm\"\n",
    "qasm_file = open(path, \"r\")\n",
    "print(qasm_file.read())"
   ]
  },
  {
   "cell_type": "markdown",
   "id": "57cfd790",
   "metadata": {},
   "source": [
    "## Qasm Import"
   ]
  },
  {
   "cell_type": "markdown",
   "id": "ff1800aa",
   "metadata": {},
   "source": [
    "This QASM file imitates the SWAP gate native to QuTiP in the QASM format. To import it, we use the `read_qasm` function with the arguments being the file path, the `mode` which defaults to \"qiskit\" and the `version` which defaults to \"2.0\".  \n",
    "\n",
    "We can check that the circuit indeed implements the swap gate by checking the unitary matrix corresponding\n",
    "to the circuit. This can be done by using the `gate_sequence_product` function and the `propagators` function of the \n",
    "`QubitCircuit` class. "
   ]
  },
  {
   "cell_type": "code",
   "execution_count": 3,
   "id": "e1cb1ce5",
   "metadata": {
    "execution": {
     "iopub.execute_input": "2025-08-20T04:30:38.844665Z",
     "iopub.status.busy": "2025-08-20T04:30:38.844504Z",
     "iopub.status.idle": "2025-08-20T04:30:38.852491Z",
     "shell.execute_reply": "2025-08-20T04:30:38.852027Z"
    }
   },
   "outputs": [
    {
     "name": "stderr",
     "output_type": "stream",
     "text": [
      "/home/runner/miniconda3/envs/test-environment-v5/lib/python3.12/site-packages/qutip_qip/qasm.py:189: UserWarning: Unknown parsing mode, using the default mode instead.\n",
      "  warnings.warn(\n",
      "/home/runner/miniconda3/envs/test-environment-v5/lib/python3.12/site-packages/qutip_qip/qasm.py:279: UserWarning: \"qelib1.inc\"not found, ignored.\n",
      "  warnings.warn(command[1] + \"not found, ignored.\")\n"
     ]
    },
    {
     "data": {
      "text/latex": [
       "Quantum object: dims=[[2, 2], [2, 2]], shape=(4, 4), type='oper', dtype=Dense, isherm=True$$\\left(\\begin{array}{cc}1 & 0 & 0 & 0\\\\0 & 0 & 1 & 0\\\\0 & 1 & 0 & 0\\\\0 & 0 & 0 & 1\\end{array}\\right)$$"
      ],
      "text/plain": [
       "Quantum object: dims=[[2, 2], [2, 2]], shape=(4, 4), type='oper', dtype=Dense, isherm=True\n",
       "Qobj data =\n",
       "[[1. 0. 0. 0.]\n",
       " [0. 0. 1. 0.]\n",
       " [0. 1. 0. 0.]\n",
       " [0. 0. 0. 1.]]"
      ]
     },
     "execution_count": 3,
     "metadata": {},
     "output_type": "execute_result"
    }
   ],
   "source": [
    "qc = read_qasm(path, mode=\"qiskit\", version=\"2.0\")\n",
    "gate_sequence_product(qc.propagators())"
   ]
  },
  {
   "cell_type": "markdown",
   "id": "ef42caa6",
   "metadata": {},
   "source": [
    "The `mode` refers to the internal way in which QuTiP processes the QASM files. \n",
    "With \"qiskit\" mode, QASM skips the include command for the file qelib1.inc and maps all custom gates defined in it to QuTiP gates without parsing the gate definitions. \n",
    "\n",
    "**Note**: \"qelib1.inc\" is a \"header\" file that contains some QASM gate definitions. It is available in the OpenQASM repository (as a standard file) and is included with QASM exports by QuTiP (and also by Qiskit/Cirq).\n",
    "\n",
    "The `version` refers to the version of the OpenQASM standard being processed. The documentation for the same can be found in the [OpenQASM](https://github.com/Qiskit/openqasm) repository. Currently, only OpenQASM 2.0 is supported which is the most popular QASM standard. "
   ]
  },
  {
   "cell_type": "markdown",
   "id": "93736bac",
   "metadata": {},
   "source": [
    "### QASM Export\n",
    "\n",
    "We can also convert a `QubitCircuit` to the QASM format. This can be particularly useful when we are trying to export quantum circuits to other quantum packages such as Qiskit and Cirq. There are three different ways to output QASM files, `print_qasm`, `str_qasm` and `write_qasm`.  "
   ]
  },
  {
   "cell_type": "code",
   "execution_count": 4,
   "id": "9f986bbb",
   "metadata": {
    "execution": {
     "iopub.execute_input": "2025-08-20T04:30:38.853811Z",
     "iopub.status.busy": "2025-08-20T04:30:38.853641Z",
     "iopub.status.idle": "2025-08-20T04:30:38.856516Z",
     "shell.execute_reply": "2025-08-20T04:30:38.856095Z"
    }
   },
   "outputs": [
    {
     "name": "stdout",
     "output_type": "stream",
     "text": [
      "// QASM 2.0 file generated by QuTiP\n",
      "\n",
      "OPENQASM 2.0;\n",
      "include \"qelib1.inc\";\n",
      "\n",
      "qreg q[2];\n",
      "\n",
      "cx q[1],q[0];\n",
      "cx q[0],q[1];\n",
      "cx q[1],q[0];\n"
     ]
    }
   ],
   "source": [
    "print_qasm(qc)"
   ]
  },
  {
   "cell_type": "markdown",
   "id": "f0e825cf",
   "metadata": {},
   "source": [
    "### Custom Gates\n",
    "\n",
    "QASM also offers the option to define custom gates in terms of already defined gates using the \"gate\" keyword. In \"qiskit\" mode, our QASM interpreter can be assumed to already allow for all the gates defined in the file [stdgates.inc](https://github.com/openqasm/openqasm/blob/main/examples/stdgates.inc) provided by the OpenQASM repository.\n",
    "\n",
    "In the file `swap_custom.qasm`, we define the `swap` gate in terms of the pre-defined `cx` gates."
   ]
  },
  {
   "cell_type": "code",
   "execution_count": 5,
   "id": "81f72fae",
   "metadata": {
    "execution": {
     "iopub.execute_input": "2025-08-20T04:30:38.857764Z",
     "iopub.status.busy": "2025-08-20T04:30:38.857616Z",
     "iopub.status.idle": "2025-08-20T04:30:38.860273Z",
     "shell.execute_reply": "2025-08-20T04:30:38.859893Z"
    }
   },
   "outputs": [
    {
     "name": "stdout",
     "output_type": "stream",
     "text": [
      "// SWAP gate defined as a custom gate.\n",
      "\n",
      "OPENQASM 2.0;\n",
      "include \"qelib1.inc\";\n",
      "\n",
      "qreg q[2];\n",
      "creg c[2];\n",
      "\n",
      "gate swap a, b{\n",
      "cx b, a;\n",
      "cx a, b;\n",
      "cx b, a;\n",
      "}\n",
      "\n",
      "swap q[0], q[1]\n",
      "\n",
      "measure q -> c\n",
      "\n"
     ]
    }
   ],
   "source": [
    "path = \"qasm_files/swap_custom.qasm\"\n",
    "qasm_file = open(path, \"r\")\n",
    "print(qasm_file.read())"
   ]
  },
  {
   "cell_type": "markdown",
   "id": "1be560d8",
   "metadata": {},
   "source": [
    "Furthermore, the circuit also measures the two qubits q[0] and q[1] and stores the results in the classical registers c[0] and c[1]"
   ]
  },
  {
   "cell_type": "code",
   "execution_count": 6,
   "id": "b7abe206",
   "metadata": {
    "execution": {
     "iopub.execute_input": "2025-08-20T04:30:38.861553Z",
     "iopub.status.busy": "2025-08-20T04:30:38.861375Z",
     "iopub.status.idle": "2025-08-20T04:30:38.864637Z",
     "shell.execute_reply": "2025-08-20T04:30:38.864260Z"
    }
   },
   "outputs": [],
   "source": [
    "qc = read_qasm(path)"
   ]
  },
  {
   "cell_type": "markdown",
   "id": "4b2c46bd",
   "metadata": {},
   "source": [
    "We can now run the circuit to confirm that the circuit is correctly loaded and performs the correct operations. To do this, we can use the `QubitCircuit.run` function with the appropriate input state. In our case, we can take the state `|01⟩`. "
   ]
  },
  {
   "cell_type": "code",
   "execution_count": 7,
   "id": "8243bded",
   "metadata": {
    "execution": {
     "iopub.execute_input": "2025-08-20T04:30:38.865863Z",
     "iopub.status.busy": "2025-08-20T04:30:38.865713Z",
     "iopub.status.idle": "2025-08-20T04:30:38.870723Z",
     "shell.execute_reply": "2025-08-20T04:30:38.870218Z"
    }
   },
   "outputs": [
    {
     "data": {
      "text/latex": [
       "Quantum object: dims=[[2, 2], [1]], shape=(4, 1), type='ket', dtype=Dense$$\\left(\\begin{array}{cc}0\\\\0\\\\1\\\\0\\end{array}\\right)$$"
      ],
      "text/plain": [
       "Quantum object: dims=[[2, 2], [1]], shape=(4, 1), type='ket', dtype=Dense\n",
       "Qobj data =\n",
       "[[0.]\n",
       " [0.]\n",
       " [1.]\n",
       " [0.]]"
      ]
     },
     "execution_count": 7,
     "metadata": {},
     "output_type": "execute_result"
    }
   ],
   "source": [
    "qc.run(tensor(basis(2, 0), basis(2, 1)))"
   ]
  },
  {
   "cell_type": "markdown",
   "id": "c451e904",
   "metadata": {},
   "source": [
    "As predicted the output is the state after swapping which is `|10⟩`"
   ]
  },
  {
   "cell_type": "markdown",
   "id": "6aa95896",
   "metadata": {},
   "source": [
    "### Measurements and Classical Control\n",
    "\n",
    "The QASM format also allows for other circuit features such as measurement and control of gates by classical bits. \n",
    "This is also supported by QuTiP. For an example, we can refer to the example of quantum teleportation. A more complete explanation of teleportation can be found in the [notebook](teleportation.md) on quantum teleportation."
   ]
  },
  {
   "cell_type": "code",
   "execution_count": 8,
   "id": "d258b3d9",
   "metadata": {
    "execution": {
     "iopub.execute_input": "2025-08-20T04:30:38.871974Z",
     "iopub.status.busy": "2025-08-20T04:30:38.871813Z",
     "iopub.status.idle": "2025-08-20T04:30:38.874796Z",
     "shell.execute_reply": "2025-08-20T04:30:38.874398Z"
    }
   },
   "outputs": [
    {
     "name": "stdout",
     "output_type": "stream",
     "text": [
      "OPENQASM 2.0;\n",
      "include \"qelib1.inc\";\n",
      "\n",
      "qreg q[3];\n",
      "creg c0[1];\n",
      "creg c1[1];\n",
      "\n",
      "h q[1];\n",
      "cx q[1], q[2];\n",
      "cx q[0], q[1];\n",
      "h q[0];\n",
      "\n",
      "measure q[0] -> c1[0]\n",
      "measure q[1] -> c0[0]\n",
      "\n",
      "if(c0==1) x q[2]\n",
      "if(c1==1) z q[2]\n",
      "\n"
     ]
    }
   ],
   "source": [
    "path = \"qasm_files/teleportation.qasm\"\n",
    "qasm_file = open(path, \"r\")\n",
    "qasm_str = qasm_file.read()\n",
    "print(qasm_str)"
   ]
  },
  {
   "cell_type": "markdown",
   "id": "d5af7f2c",
   "metadata": {},
   "source": [
    " We can also read in a QASM file from a string by specifying `strmode=True` to `read_qasm`"
   ]
  },
  {
   "cell_type": "code",
   "execution_count": 9,
   "id": "bf03f98e",
   "metadata": {
    "execution": {
     "iopub.execute_input": "2025-08-20T04:30:38.876065Z",
     "iopub.status.busy": "2025-08-20T04:30:38.875901Z",
     "iopub.status.idle": "2025-08-20T04:30:38.879498Z",
     "shell.execute_reply": "2025-08-20T04:30:38.879003Z"
    }
   },
   "outputs": [
    {
     "name": "stderr",
     "output_type": "stream",
     "text": [
      "/home/runner/miniconda3/envs/test-environment-v5/lib/python3.12/site-packages/qutip_qip/qasm.py:846: UserWarning: Information about individual registers is not preserved in QubitCircuit\n",
      "  warnings.warn(\n"
     ]
    }
   ],
   "source": [
    "teleportation = read_qasm(qasm_str, strmode=True)"
   ]
  },
  {
   "cell_type": "markdown",
   "id": "dfa847de",
   "metadata": {},
   "source": [
    "**Note**: \n",
    "The above warning is expected to inform the user that the import from QASM to QuTiP does not retain any information about the different qubit/classical bit register names. This could potentially be an issue when the circuit is exported if the user wants to maintain the consistency. "
   ]
  },
  {
   "cell_type": "markdown",
   "id": "508d25aa",
   "metadata": {},
   "source": [
    "We can quickly check that the teleportation circuit works properly by teleporting the first qubit into the third qubit. "
   ]
  },
  {
   "cell_type": "code",
   "execution_count": 10,
   "id": "e97a5bbc",
   "metadata": {
    "execution": {
     "iopub.execute_input": "2025-08-20T04:30:38.880840Z",
     "iopub.status.busy": "2025-08-20T04:30:38.880687Z",
     "iopub.status.idle": "2025-08-20T04:30:38.887425Z",
     "shell.execute_reply": "2025-08-20T04:30:38.886927Z"
    }
   },
   "outputs": [],
   "source": [
    "state = tensor(rand_ket(2), basis(2, 0), basis(2, 0))\n",
    "\n",
    "initial_measurement = Measurement(\"start\", targets=[0])\n",
    "_, initial_probabilities = initial_measurement.measurement_comp_basis(state)\n",
    "\n",
    "state_final = teleportation.run(state)\n",
    "\n",
    "final_measurement = Measurement(\"start\", targets=[2])\n",
    "_, final_probabilities = final_measurement.measurement_comp_basis(state_final)\n",
    "\n",
    "np.testing.assert_allclose(initial_probabilities, final_probabilities)"
   ]
  },
  {
   "cell_type": "markdown",
   "id": "2c13fb05",
   "metadata": {},
   "source": [
    "**Note**: Custom gates imported in the QASM format cannot be easily exported. Currently, only gates that are defined native to QuTiP can be exported. QuTiP also produces custom gate definitions for gates not provided in the `qelib1.inc` \"header\" file. In these cases, QuTiP will add it's own gate definitions directly to the the exported `.qasm` file but this is restricted only to already gates native to QuTiP. \n",
    "Export from QuTiP handles both gates and measurements. However, it does not allow for export of controlled gates. "
   ]
  },
  {
   "cell_type": "code",
   "execution_count": 11,
   "id": "07863d87",
   "metadata": {
    "execution": {
     "iopub.execute_input": "2025-08-20T04:30:38.888807Z",
     "iopub.status.busy": "2025-08-20T04:30:38.888635Z",
     "iopub.status.idle": "2025-08-20T04:30:39.380091Z",
     "shell.execute_reply": "2025-08-20T04:30:39.379559Z"
    }
   },
   "outputs": [
    {
     "name": "stdout",
     "output_type": "stream",
     "text": [
      "\n",
      "QuTiP: Quantum Toolbox in Python\n",
      "================================\n",
      "Copyright (c) QuTiP team 2011 and later.\n",
      "Current admin team: Alexander Pitchford, Nathan Shammah, Shahnawaz Ahmed, Neill Lambert, Eric Giguère, Boxi Li, Simon Cross, Asier Galicia, Paul Menczel, and Patrick Hopf.\n",
      "Board members: Daniel Burgarth, Robert Johansson, Anton F. Kockum, Franco Nori and Will Zeng.\n",
      "Original developers: R. J. Johansson & P. D. Nation.\n",
      "Previous lead developers: Chris Granade & A. Grimsmo.\n",
      "Currently developed through wide collaboration. See https://github.com/qutip for details.\n",
      "\n",
      "QuTiP Version:      5.3.0.dev0+d849c94\n",
      "Numpy Version:      2.3.2\n",
      "Scipy Version:      1.16.1\n",
      "Cython Version:     3.1.3\n",
      "Matplotlib Version: 3.10.5\n",
      "Python Version:     3.12.0\n",
      "Number of CPUs:     4\n",
      "BLAS Info:          Generic\n",
      "INTEL MKL Ext:      None\n",
      "Platform Info:      Linux (x86_64)\n",
      "Installation path:  /home/runner/miniconda3/envs/test-environment-v5/lib/python3.12/site-packages/qutip\n",
      "\n",
      "Installed QuTiP family packages\n",
      "-------------------------------\n",
      "\n",
      "qutip-qtrl: 0.2.0.dev0+acb71a0\n"
     ]
    },
    {
     "name": "stdout",
     "output_type": "stream",
     "text": [
      "qutip-jax: 0.1.1.dev6\n",
      "qutip-qip: 0.5.0.dev0+2db1138\n",
      "\n",
      "================================================================================\n",
      "Please cite QuTiP in your publication.\n",
      "================================================================================\n",
      "For your convenience a bibtex reference can be easily generated using `qutip.cite()`\n"
     ]
    }
   ],
   "source": [
    "about()"
   ]
  }
 ],
 "metadata": {
  "jupytext": {
   "cell_metadata_filter": "-all",
   "notebook_metadata_filter": "-jupytext.cell_metadata_filter,-jupytext.notebook_metadata_filter"
  },
  "kernelspec": {
   "display_name": "Python 3 (ipykernel)",
   "language": "python",
   "name": "python3"
  },
  "language_info": {
   "codemirror_mode": {
    "name": "ipython",
    "version": 3
   },
   "file_extension": ".py",
   "mimetype": "text/x-python",
   "name": "python",
   "nbconvert_exporter": "python",
   "pygments_lexer": "ipython3",
   "version": "3.12.0"
  }
 },
 "nbformat": 4,
 "nbformat_minor": 5
}
