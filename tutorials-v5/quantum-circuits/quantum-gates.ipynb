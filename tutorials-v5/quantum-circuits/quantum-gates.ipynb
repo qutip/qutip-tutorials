{
 "cells": [
  {
   "cell_type": "markdown",
   "id": "aea530aa",
   "metadata": {},
   "source": [
    "# QuTiP example: Quantum Gates and their usage"
   ]
  },
  {
   "cell_type": "markdown",
   "id": "8bab7dc0",
   "metadata": {},
   "source": [
    "Author: Anubhav Vardhan (anubhavvardhan@gmail.com)\n",
    "\n",
    "User-defined gate added by: Boxi Li (etamin1201@gmail.com)\n",
    "\n",
    "For more information about QuTiP see [http://qutip.org](http://qutip.org)\n",
    "\n",
    "#### Installation: \n",
    "The circuit image visualization requires LaTeX and [ImageMagick](https://imagemagick.org/index.php) for display. The module automatically process the LaTeX code for plotting the circuit, generate the pdf and convert it to the png format.\n",
    "On Mac and Linux, ImageMagick can be easily installed with the command `conda install imagemagick` if you have conda installed.\n",
    "Otherwise, please follow the installation instructions on the ImageMagick documentation.\n",
    "\n",
    "On windows, you need to download and install ImageMagick installer. In addition, you also need [perl](https://www.perl.org/get.html) (for pdfcrop) and [Ghostscript](https://ghostscript.com/releases/index.html) (additional dependency of ImageMagick for png conversion).\n",
    "\n",
    "To test if the installation is complete, try the following three commands working correctly in Command Prompt: `pdflatex`, `pdfcrop` and `magick anypdf.pdf antpdf.png`, where `anypdf.pdf` is any pdf file you have."
   ]
  },
  {
   "cell_type": "code",
   "execution_count": 1,
   "id": "f86594e0",
   "metadata": {
    "execution": {
     "iopub.execute_input": "2025-08-20T04:30:40.445673Z",
     "iopub.status.busy": "2025-08-20T04:30:40.445433Z",
     "iopub.status.idle": "2025-08-20T04:30:41.205690Z",
     "shell.execute_reply": "2025-08-20T04:30:41.205171Z"
    }
   },
   "outputs": [],
   "source": [
    "import numpy as np\n",
    "from numpy import pi\n",
    "from qutip import Qobj, about\n",
    "from qutip_qip.circuit import QubitCircuit\n",
    "from qutip_qip.operations import (Gate, berkeley, cnot, cphase, csign, fredkin,\n",
    "                                  gate_sequence_product, globalphase, iswap,\n",
    "                                  molmer_sorensen, phasegate, qrot, rx, ry, rz,\n",
    "                                  snot, sqrtiswap, sqrtnot, sqrtswap, swap,\n",
    "                                  swapalpha, toffoli)\n",
    "\n",
    "%matplotlib inline"
   ]
  },
  {
   "cell_type": "markdown",
   "id": "45534834",
   "metadata": {},
   "source": [
    "## Introduction"
   ]
  },
  {
   "cell_type": "markdown",
   "id": "e5b73d15",
   "metadata": {},
   "source": [
    "http://en.wikipedia.org/wiki/Quantum_gate\n"
   ]
  },
  {
   "cell_type": "markdown",
   "id": "90078970",
   "metadata": {},
   "source": [
    "## Gates in QuTiP and their representation"
   ]
  },
  {
   "cell_type": "markdown",
   "id": "6c132f21",
   "metadata": {},
   "source": [
    "### Controlled-PHASE"
   ]
  },
  {
   "cell_type": "code",
   "execution_count": 2,
   "id": "3e77bc33",
   "metadata": {
    "execution": {
     "iopub.execute_input": "2025-08-20T04:30:41.207561Z",
     "iopub.status.busy": "2025-08-20T04:30:41.207288Z",
     "iopub.status.idle": "2025-08-20T04:30:41.212202Z",
     "shell.execute_reply": "2025-08-20T04:30:41.211779Z"
    }
   },
   "outputs": [
    {
     "data": {
      "text/latex": [
       "Quantum object: dims=[[2, 2], [2, 2]], shape=(4, 4), type='oper', dtype=Dia, isherm=False$$\\left(\\begin{array}{cc}1 & 0 & 0 & 0\\\\0 & 1 & 0 & 0\\\\0 & 0 & 1 & 0\\\\0 & 0 & 0 & 1j\\end{array}\\right)$$"
      ],
      "text/plain": [
       "Quantum object: dims=[[2, 2], [2, 2]], shape=(4, 4), type='oper', dtype=Dia, isherm=False\n",
       "Qobj data =\n",
       "[[1.+0.j 0.+0.j 0.+0.j 0.+0.j]\n",
       " [0.+0.j 1.+0.j 0.+0.j 0.+0.j]\n",
       " [0.+0.j 0.+0.j 1.+0.j 0.+0.j]\n",
       " [0.+0.j 0.+0.j 0.+0.j 0.+1.j]]"
      ]
     },
     "execution_count": 2,
     "metadata": {},
     "output_type": "execute_result"
    }
   ],
   "source": [
    "cphase(pi / 2)"
   ]
  },
  {
   "cell_type": "code",
   "execution_count": 3,
   "id": "1ea0f2e9",
   "metadata": {
    "execution": {
     "iopub.execute_input": "2025-08-20T04:30:41.213543Z",
     "iopub.status.busy": "2025-08-20T04:30:41.213349Z",
     "iopub.status.idle": "2025-08-20T04:30:41.306413Z",
     "shell.execute_reply": "2025-08-20T04:30:41.305891Z"
    }
   },
   "outputs": [
    {
     "data": {
      "image/png": "[encoded data removed]",
      "text/plain": [
       "<Figure size 416.1x416.1 with 1 Axes>"
      ]
     },
     "metadata": {},
     "output_type": "display_data"
    }
   ],
   "source": [
    "q = QubitCircuit(2, reverse_states=False)\n",
    "q.add_gate(\"CSIGN\", controls=[0], targets=[1])\n",
    "q.draw()"
   ]
  },
  {
   "cell_type": "markdown",
   "id": "e5adbaa7",
   "metadata": {},
   "source": [
    "### Rotation about X-axis"
   ]
  },
  {
   "cell_type": "code",
   "execution_count": 4,
   "id": "b8817d71",
   "metadata": {
    "execution": {
     "iopub.execute_input": "2025-08-20T04:30:41.307827Z",
     "iopub.status.busy": "2025-08-20T04:30:41.307659Z",
     "iopub.status.idle": "2025-08-20T04:30:41.311379Z",
     "shell.execute_reply": "2025-08-20T04:30:41.310892Z"
    }
   },
   "outputs": [
    {
     "data": {
      "text/latex": [
       "Quantum object: dims=[[2], [2]], shape=(2, 2), type='oper', dtype=Dense, isherm=False$$\\left(\\begin{array}{cc}0.707 & -0.707j\\\\-0.707j & 0.707\\end{array}\\right)$$"
      ],
      "text/plain": [
       "Quantum object: dims=[[2], [2]], shape=(2, 2), type='oper', dtype=Dense, isherm=False\n",
       "Qobj data =\n",
       "[[0.70710678+0.j         0.        -0.70710678j]\n",
       " [0.        -0.70710678j 0.70710678+0.j        ]]"
      ]
     },
     "execution_count": 4,
     "metadata": {},
     "output_type": "execute_result"
    }
   ],
   "source": [
    "rx(pi / 2)"
   ]
  },
  {
   "cell_type": "code",
   "execution_count": 5,
   "id": "3d7df92e",
   "metadata": {
    "execution": {
     "iopub.execute_input": "2025-08-20T04:30:41.312681Z",
     "iopub.status.busy": "2025-08-20T04:30:41.312520Z",
     "iopub.status.idle": "2025-08-20T04:30:41.340997Z",
     "shell.execute_reply": "2025-08-20T04:30:41.340494Z"
    }
   },
   "outputs": [
    {
     "data": {
      "image/png": "[encoded data removed]",
      "text/plain": [
       "<Figure size 378.6x378.6 with 1 Axes>"
      ]
     },
     "metadata": {},
     "output_type": "display_data"
    }
   ],
   "source": [
    "q = QubitCircuit(1, reverse_states=False)\n",
    "q.add_gate(\"RX\", targets=[0], arg_value=pi / 2, style={\"showarg\": True})\n",
    "q.draw()"
   ]
  },
  {
   "cell_type": "markdown",
   "id": "dfffb1eb",
   "metadata": {},
   "source": [
    "### Rotation about Y-axis"
   ]
  },
  {
   "cell_type": "code",
   "execution_count": 6,
   "id": "da0f77c1",
   "metadata": {
    "execution": {
     "iopub.execute_input": "2025-08-20T04:30:41.342498Z",
     "iopub.status.busy": "2025-08-20T04:30:41.342312Z",
     "iopub.status.idle": "2025-08-20T04:30:41.346008Z",
     "shell.execute_reply": "2025-08-20T04:30:41.345521Z"
    }
   },
   "outputs": [
    {
     "data": {
      "text/latex": [
       "Quantum object: dims=[[2], [2]], shape=(2, 2), type='oper', dtype=Dense, isherm=False$$\\left(\\begin{array}{cc}0.707 & -0.707\\\\0.707 & 0.707\\end{array}\\right)$$"
      ],
      "text/plain": [
       "Quantum object: dims=[[2], [2]], shape=(2, 2), type='oper', dtype=Dense, isherm=False\n",
       "Qobj data =\n",
       "[[ 0.70710678 -0.70710678]\n",
       " [ 0.70710678  0.70710678]]"
      ]
     },
     "execution_count": 6,
     "metadata": {},
     "output_type": "execute_result"
    }
   ],
   "source": [
    "ry(pi / 2)"
   ]
  },
  {
   "cell_type": "code",
   "execution_count": 7,
   "id": "5a885a9c",
   "metadata": {
    "execution": {
     "iopub.execute_input": "2025-08-20T04:30:41.347295Z",
     "iopub.status.busy": "2025-08-20T04:30:41.347146Z",
     "iopub.status.idle": "2025-08-20T04:30:41.375849Z",
     "shell.execute_reply": "2025-08-20T04:30:41.375427Z"
    }
   },
   "outputs": [
    {
     "data": {
      "image/png": "[encoded data removed]",
      "text/plain": [
       "<Figure size 378.6x378.6 with 1 Axes>"
      ]
     },
     "metadata": {},
     "output_type": "display_data"
    }
   ],
   "source": [
    "q = QubitCircuit(1, reverse_states=False)\n",
    "q.add_gate(\"RY\", targets=[0], arg_value=pi / 2, style={\"showarg\": True})\n",
    "q.draw()"
   ]
  },
  {
   "cell_type": "markdown",
   "id": "98f1b977",
   "metadata": {},
   "source": [
    "### Rotation about Z-axis"
   ]
  },
  {
   "cell_type": "code",
   "execution_count": 8,
   "id": "dce6485f",
   "metadata": {
    "execution": {
     "iopub.execute_input": "2025-08-20T04:30:41.377247Z",
     "iopub.status.busy": "2025-08-20T04:30:41.377078Z",
     "iopub.status.idle": "2025-08-20T04:30:41.380706Z",
     "shell.execute_reply": "2025-08-20T04:30:41.380214Z"
    }
   },
   "outputs": [
    {
     "data": {
      "text/latex": [
       "Quantum object: dims=[[2], [2]], shape=(2, 2), type='oper', dtype=Dense, isherm=False$$\\left(\\begin{array}{cc}(0.707-0.707j) & 0\\\\0 & (0.707+0.707j)\\end{array}\\right)$$"
      ],
      "text/plain": [
       "Quantum object: dims=[[2], [2]], shape=(2, 2), type='oper', dtype=Dense, isherm=False\n",
       "Qobj data =\n",
       "[[0.70710678-0.70710678j 0.        +0.j        ]\n",
       " [0.        +0.j         0.70710678+0.70710678j]]"
      ]
     },
     "execution_count": 8,
     "metadata": {},
     "output_type": "execute_result"
    }
   ],
   "source": [
    "rz(pi / 2)"
   ]
  },
  {
   "cell_type": "code",
   "execution_count": 9,
   "id": "bb749cb2",
   "metadata": {
    "execution": {
     "iopub.execute_input": "2025-08-20T04:30:41.381931Z",
     "iopub.status.busy": "2025-08-20T04:30:41.381778Z",
     "iopub.status.idle": "2025-08-20T04:30:41.409800Z",
     "shell.execute_reply": "2025-08-20T04:30:41.409328Z"
    }
   },
   "outputs": [
    {
     "data": {
      "image/png": "[encoded data removed]",
      "text/plain": [
       "<Figure size 378.6x378.6 with 1 Axes>"
      ]
     },
     "metadata": {},
     "output_type": "display_data"
    }
   ],
   "source": [
    "q = QubitCircuit(1, reverse_states=False)\n",
    "q.add_gate(\"RZ\", targets=[0], arg_value=pi / 2, style={\"showarg\": True})\n",
    "q.draw()"
   ]
  },
  {
   "cell_type": "markdown",
   "id": "1d2f0e2b",
   "metadata": {},
   "source": [
    "### CNOT"
   ]
  },
  {
   "cell_type": "code",
   "execution_count": 10,
   "id": "c4725942",
   "metadata": {
    "execution": {
     "iopub.execute_input": "2025-08-20T04:30:41.411195Z",
     "iopub.status.busy": "2025-08-20T04:30:41.411038Z",
     "iopub.status.idle": "2025-08-20T04:30:41.414681Z",
     "shell.execute_reply": "2025-08-20T04:30:41.414240Z"
    }
   },
   "outputs": [
    {
     "data": {
      "text/latex": [
       "Quantum object: dims=[[2, 2], [2, 2]], shape=(4, 4), type='oper', dtype=Dense, isherm=True$$\\left(\\begin{array}{cc}1 & 0 & 0 & 0\\\\0 & 1 & 0 & 0\\\\0 & 0 & 0 & 1\\\\0 & 0 & 1 & 0\\end{array}\\right)$$"
      ],
      "text/plain": [
       "Quantum object: dims=[[2, 2], [2, 2]], shape=(4, 4), type='oper', dtype=Dense, isherm=True\n",
       "Qobj data =\n",
       "[[1. 0. 0. 0.]\n",
       " [0. 1. 0. 0.]\n",
       " [0. 0. 0. 1.]\n",
       " [0. 0. 1. 0.]]"
      ]
     },
     "execution_count": 10,
     "metadata": {},
     "output_type": "execute_result"
    }
   ],
   "source": [
    "cnot()"
   ]
  },
  {
   "cell_type": "code",
   "execution_count": 11,
   "id": "4c57f551",
   "metadata": {
    "execution": {
     "iopub.execute_input": "2025-08-20T04:30:41.415982Z",
     "iopub.status.busy": "2025-08-20T04:30:41.415834Z",
     "iopub.status.idle": "2025-08-20T04:30:41.454231Z",
     "shell.execute_reply": "2025-08-20T04:30:41.453737Z"
    }
   },
   "outputs": [
    {
     "data": {
      "image/png": "[encoded data removed]",
      "text/plain": [
       "<Figure size 359.6x359.6 with 1 Axes>"
      ]
     },
     "metadata": {},
     "output_type": "display_data"
    }
   ],
   "source": [
    "q = QubitCircuit(2, reverse_states=False)\n",
    "q.add_gate(\"CNOT\", controls=[0], targets=[1])\n",
    "q.draw()"
   ]
  },
  {
   "cell_type": "markdown",
   "id": "b295587c",
   "metadata": {},
   "source": [
    "### CSIGN"
   ]
  },
  {
   "cell_type": "code",
   "execution_count": 12,
   "id": "99692927",
   "metadata": {
    "execution": {
     "iopub.execute_input": "2025-08-20T04:30:41.455730Z",
     "iopub.status.busy": "2025-08-20T04:30:41.455567Z",
     "iopub.status.idle": "2025-08-20T04:30:41.459332Z",
     "shell.execute_reply": "2025-08-20T04:30:41.458923Z"
    }
   },
   "outputs": [
    {
     "data": {
      "text/latex": [
       "Quantum object: dims=[[2, 2], [2, 2]], shape=(4, 4), type='oper', dtype=Dense, isherm=True$$\\left(\\begin{array}{cc}1 & 0 & 0 & 0\\\\0 & 1 & 0 & 0\\\\0 & 0 & 1 & 0\\\\0 & 0 & 0 & -1\\end{array}\\right)$$"
      ],
      "text/plain": [
       "Quantum object: dims=[[2, 2], [2, 2]], shape=(4, 4), type='oper', dtype=Dense, isherm=True\n",
       "Qobj data =\n",
       "[[ 1.  0.  0.  0.]\n",
       " [ 0.  1.  0.  0.]\n",
       " [ 0.  0.  1.  0.]\n",
       " [ 0.  0.  0. -1.]]"
      ]
     },
     "execution_count": 12,
     "metadata": {},
     "output_type": "execute_result"
    }
   ],
   "source": [
    "csign()"
   ]
  },
  {
   "cell_type": "code",
   "execution_count": 13,
   "id": "923e6a39",
   "metadata": {
    "execution": {
     "iopub.execute_input": "2025-08-20T04:30:41.460734Z",
     "iopub.status.busy": "2025-08-20T04:30:41.460581Z",
     "iopub.status.idle": "2025-08-20T04:30:41.500660Z",
     "shell.execute_reply": "2025-08-20T04:30:41.500170Z"
    }
   },
   "outputs": [
    {
     "data": {
      "image/png": "[encoded data removed]",
      "text/plain": [
       "<Figure size 416.1x416.1 with 1 Axes>"
      ]
     },
     "metadata": {},
     "output_type": "display_data"
    }
   ],
   "source": [
    "q = QubitCircuit(2, reverse_states=False)\n",
    "q.add_gate(\"CSIGN\", controls=[0], targets=[1])\n",
    "q.draw()"
   ]
  },
  {
   "cell_type": "markdown",
   "id": "2127e496",
   "metadata": {},
   "source": [
    "### Berkeley"
   ]
  },
  {
   "cell_type": "code",
   "execution_count": 14,
   "id": "ffddecbd",
   "metadata": {
    "execution": {
     "iopub.execute_input": "2025-08-20T04:30:41.502075Z",
     "iopub.status.busy": "2025-08-20T04:30:41.501905Z",
     "iopub.status.idle": "2025-08-20T04:30:41.505681Z",
     "shell.execute_reply": "2025-08-20T04:30:41.505192Z"
    }
   },
   "outputs": [
    {
     "data": {
      "text/latex": [
       "Quantum object: dims=[[2, 2], [2, 2]], shape=(4, 4), type='oper', dtype=Dense, isherm=False$$\\left(\\begin{array}{cc}0.924 & 0 & 0 & 0.383j\\\\0 & 0.383 & 0.924j & 0\\\\0 & 0.924j & 0.383 & 0\\\\0.383j & 0 & 0 & 0.924\\end{array}\\right)$$"
      ],
      "text/plain": [
       "Quantum object: dims=[[2, 2], [2, 2]], shape=(4, 4), type='oper', dtype=Dense, isherm=False\n",
       "Qobj data =\n",
       "[[0.92387953+0.j         0.        +0.j         0.        +0.j\n",
       "  0.        +0.38268343j]\n",
       " [0.        +0.j         0.38268343+0.j         0.        +0.92387953j\n",
       "  0.        +0.j        ]\n",
       " [0.        +0.j         0.        +0.92387953j 0.38268343+0.j\n",
       "  0.        +0.j        ]\n",
       " [0.        +0.38268343j 0.        +0.j         0.        +0.j\n",
       "  0.92387953+0.j        ]]"
      ]
     },
     "execution_count": 14,
     "metadata": {},
     "output_type": "execute_result"
    }
   ],
   "source": [
    "berkeley()"
   ]
  },
  {
   "cell_type": "code",
   "execution_count": 15,
   "id": "dd5cdee4",
   "metadata": {
    "execution": {
     "iopub.execute_input": "2025-08-20T04:30:41.507077Z",
     "iopub.status.busy": "2025-08-20T04:30:41.506917Z",
     "iopub.status.idle": "2025-08-20T04:30:41.548960Z",
     "shell.execute_reply": "2025-08-20T04:30:41.548485Z"
    }
   },
   "outputs": [
    {
     "data": {
      "image/png": "[encoded data removed]",
      "text/plain": [
       "<Figure size 453.6x453.6 with 1 Axes>"
      ]
     },
     "metadata": {},
     "output_type": "display_data"
    }
   ],
   "source": [
    "q = QubitCircuit(2, reverse_states=False)\n",
    "q.add_gate(\"BERKELEY\", targets=[0, 1])\n",
    "q.draw()"
   ]
  },
  {
   "cell_type": "markdown",
   "id": "b86fd073",
   "metadata": {},
   "source": [
    "### SWAPalpha"
   ]
  },
  {
   "cell_type": "code",
   "execution_count": 16,
   "id": "787536d7",
   "metadata": {
    "execution": {
     "iopub.execute_input": "2025-08-20T04:30:41.550424Z",
     "iopub.status.busy": "2025-08-20T04:30:41.550244Z",
     "iopub.status.idle": "2025-08-20T04:30:41.554082Z",
     "shell.execute_reply": "2025-08-20T04:30:41.553605Z"
    }
   },
   "outputs": [
    {
     "data": {
      "text/latex": [
       "Quantum object: dims=[[2, 2], [2, 2]], shape=(4, 4), type='oper', dtype=Dense, isherm=False$$\\left(\\begin{array}{cc}1 & 0 & 0 & 0\\\\0 & (0.610-0.488j) & (0.390+0.488j) & 0\\\\0 & (0.390+0.488j) & (0.610-0.488j) & 0\\\\0 & 0 & 0 & 1\\end{array}\\right)$$"
      ],
      "text/plain": [
       "Quantum object: dims=[[2, 2], [2, 2]], shape=(4, 4), type='oper', dtype=Dense, isherm=False\n",
       "Qobj data =\n",
       "[[1.        +0.j         0.        +0.j         0.        +0.j\n",
       "  0.        +0.j        ]\n",
       " [0.        +0.j         0.61029202-0.48768399j 0.38970798+0.48768399j\n",
       "  0.        +0.j        ]\n",
       " [0.        +0.j         0.38970798+0.48768399j 0.61029202-0.48768399j\n",
       "  0.        +0.j        ]\n",
       " [0.        +0.j         0.        +0.j         0.        +0.j\n",
       "  1.        +0.j        ]]"
      ]
     },
     "execution_count": 16,
     "metadata": {},
     "output_type": "execute_result"
    }
   ],
   "source": [
    "swapalpha(pi / 2)"
   ]
  },
  {
   "cell_type": "markdown",
   "id": "937020b2",
   "metadata": {},
   "source": [
    "### FREDKIN"
   ]
  },
  {
   "cell_type": "code",
   "execution_count": 17,
   "id": "a7999132",
   "metadata": {
    "execution": {
     "iopub.execute_input": "2025-08-20T04:30:41.555473Z",
     "iopub.status.busy": "2025-08-20T04:30:41.555301Z",
     "iopub.status.idle": "2025-08-20T04:30:41.559084Z",
     "shell.execute_reply": "2025-08-20T04:30:41.558605Z"
    }
   },
   "outputs": [
    {
     "data": {
      "text/latex": [
       "Quantum object: dims=[[2, 2, 2], [2, 2, 2]], shape=(8, 8), type='oper', dtype=Dense, isherm=True$$\\left(\\begin{array}{cc}1 & 0 & 0 & 0 & 0 & 0 & 0 & 0\\\\0 & 1 & 0 & 0 & 0 & 0 & 0 & 0\\\\0 & 0 & 1 & 0 & 0 & 0 & 0 & 0\\\\0 & 0 & 0 & 1 & 0 & 0 & 0 & 0\\\\0 & 0 & 0 & 0 & 1 & 0 & 0 & 0\\\\0 & 0 & 0 & 0 & 0 & 0 & 1 & 0\\\\0 & 0 & 0 & 0 & 0 & 1 & 0 & 0\\\\0 & 0 & 0 & 0 & 0 & 0 & 0 & 1\\end{array}\\right)$$"
      ],
      "text/plain": [
       "Quantum object: dims=[[2, 2, 2], [2, 2, 2]], shape=(8, 8), type='oper', dtype=Dense, isherm=True\n",
       "Qobj data =\n",
       "[[1. 0. 0. 0. 0. 0. 0. 0.]\n",
       " [0. 1. 0. 0. 0. 0. 0. 0.]\n",
       " [0. 0. 1. 0. 0. 0. 0. 0.]\n",
       " [0. 0. 0. 1. 0. 0. 0. 0.]\n",
       " [0. 0. 0. 0. 1. 0. 0. 0.]\n",
       " [0. 0. 0. 0. 0. 0. 1. 0.]\n",
       " [0. 0. 0. 0. 0. 1. 0. 0.]\n",
       " [0. 0. 0. 0. 0. 0. 0. 1.]]"
      ]
     },
     "execution_count": 17,
     "metadata": {},
     "output_type": "execute_result"
    }
   ],
   "source": [
    "fredkin()"
   ]
  },
  {
   "cell_type": "markdown",
   "id": "d58c8bb5",
   "metadata": {},
   "source": [
    "### TOFFOLI"
   ]
  },
  {
   "cell_type": "code",
   "execution_count": 18,
   "id": "5e93b8d0",
   "metadata": {
    "execution": {
     "iopub.execute_input": "2025-08-20T04:30:41.560417Z",
     "iopub.status.busy": "2025-08-20T04:30:41.560247Z",
     "iopub.status.idle": "2025-08-20T04:30:41.563799Z",
     "shell.execute_reply": "2025-08-20T04:30:41.563459Z"
    }
   },
   "outputs": [
    {
     "data": {
      "text/latex": [
       "Quantum object: dims=[[2, 2, 2], [2, 2, 2]], shape=(8, 8), type='oper', dtype=Dense, isherm=True$$\\left(\\begin{array}{cc}1 & 0 & 0 & 0 & 0 & 0 & 0 & 0\\\\0 & 1 & 0 & 0 & 0 & 0 & 0 & 0\\\\0 & 0 & 1 & 0 & 0 & 0 & 0 & 0\\\\0 & 0 & 0 & 1 & 0 & 0 & 0 & 0\\\\0 & 0 & 0 & 0 & 1 & 0 & 0 & 0\\\\0 & 0 & 0 & 0 & 0 & 1 & 0 & 0\\\\0 & 0 & 0 & 0 & 0 & 0 & 0 & 1\\\\0 & 0 & 0 & 0 & 0 & 0 & 1 & 0\\end{array}\\right)$$"
      ],
      "text/plain": [
       "Quantum object: dims=[[2, 2, 2], [2, 2, 2]], shape=(8, 8), type='oper', dtype=Dense, isherm=True\n",
       "Qobj data =\n",
       "[[1. 0. 0. 0. 0. 0. 0. 0.]\n",
       " [0. 1. 0. 0. 0. 0. 0. 0.]\n",
       " [0. 0. 1. 0. 0. 0. 0. 0.]\n",
       " [0. 0. 0. 1. 0. 0. 0. 0.]\n",
       " [0. 0. 0. 0. 1. 0. 0. 0.]\n",
       " [0. 0. 0. 0. 0. 1. 0. 0.]\n",
       " [0. 0. 0. 0. 0. 0. 0. 1.]\n",
       " [0. 0. 0. 0. 0. 0. 1. 0.]]"
      ]
     },
     "execution_count": 18,
     "metadata": {},
     "output_type": "execute_result"
    }
   ],
   "source": [
    "toffoli()"
   ]
  },
  {
   "cell_type": "markdown",
   "id": "624825e9",
   "metadata": {},
   "source": [
    "### SWAP"
   ]
  },
  {
   "cell_type": "code",
   "execution_count": 19,
   "id": "755d661f",
   "metadata": {
    "execution": {
     "iopub.execute_input": "2025-08-20T04:30:41.565051Z",
     "iopub.status.busy": "2025-08-20T04:30:41.564903Z",
     "iopub.status.idle": "2025-08-20T04:30:41.602819Z",
     "shell.execute_reply": "2025-08-20T04:30:41.602343Z"
    }
   },
   "outputs": [
    {
     "data": {
      "image/png": "[encoded data removed]",
      "text/plain": [
       "<Figure size 373.6x373.6 with 1 Axes>"
      ]
     },
     "metadata": {},
     "output_type": "display_data"
    }
   ],
   "source": [
    "swap()\n",
    "q = QubitCircuit(2, reverse_states=False)\n",
    "q.add_gate(\"SWAP\", targets=[0, 1])\n",
    "q.draw()"
   ]
  },
  {
   "cell_type": "markdown",
   "id": "a6ecfe2c",
   "metadata": {},
   "source": [
    "### ISWAP"
   ]
  },
  {
   "cell_type": "code",
   "execution_count": 20,
   "id": "9f5d1e5f",
   "metadata": {
    "execution": {
     "iopub.execute_input": "2025-08-20T04:30:41.604325Z",
     "iopub.status.busy": "2025-08-20T04:30:41.604162Z",
     "iopub.status.idle": "2025-08-20T04:30:41.644977Z",
     "shell.execute_reply": "2025-08-20T04:30:41.644497Z"
    }
   },
   "outputs": [
    {
     "data": {
      "image/png": "[encoded data removed]",
      "text/plain": [
       "<Figure size 416.1x416.1 with 1 Axes>"
      ]
     },
     "metadata": {},
     "output_type": "display_data"
    }
   ],
   "source": [
    "iswap()\n",
    "q = QubitCircuit(2, reverse_states=False)\n",
    "q.add_gate(\"ISWAP\", targets=[0, 1])\n",
    "q.draw()"
   ]
  },
  {
   "cell_type": "markdown",
   "id": "1371e74b",
   "metadata": {},
   "source": [
    "### SQRTiSWAP"
   ]
  },
  {
   "cell_type": "code",
   "execution_count": 21,
   "id": "3a43a065",
   "metadata": {
    "execution": {
     "iopub.execute_input": "2025-08-20T04:30:41.646820Z",
     "iopub.status.busy": "2025-08-20T04:30:41.646621Z",
     "iopub.status.idle": "2025-08-20T04:30:41.650884Z",
     "shell.execute_reply": "2025-08-20T04:30:41.650403Z"
    }
   },
   "outputs": [
    {
     "data": {
      "text/latex": [
       "Quantum object: dims=[[2, 2], [2, 2]], shape=(4, 4), type='oper', dtype=Dense, isherm=False$$\\left(\\begin{array}{cc}1 & 0 & 0 & 0\\\\0 & 0.707 & 0.707j & 0\\\\0 & 0.707j & 0.707 & 0\\\\0 & 0 & 0 & 1\\end{array}\\right)$$"
      ],
      "text/plain": [
       "Quantum object: dims=[[2, 2], [2, 2]], shape=(4, 4), type='oper', dtype=Dense, isherm=False\n",
       "Qobj data =\n",
       "[[1.        +0.j         0.        +0.j         0.        +0.j\n",
       "  0.        +0.j        ]\n",
       " [0.        +0.j         0.70710678+0.j         0.        +0.70710678j\n",
       "  0.        +0.j        ]\n",
       " [0.        +0.j         0.        +0.70710678j 0.70710678+0.j\n",
       "  0.        +0.j        ]\n",
       " [0.        +0.j         0.        +0.j         0.        +0.j\n",
       "  1.        +0.j        ]]"
      ]
     },
     "execution_count": 21,
     "metadata": {},
     "output_type": "execute_result"
    }
   ],
   "source": [
    "sqrtiswap()"
   ]
  },
  {
   "cell_type": "markdown",
   "id": "e2fe7c37",
   "metadata": {},
   "source": [
    "### SQRTSWAP"
   ]
  },
  {
   "cell_type": "code",
   "execution_count": 22,
   "id": "4bbaf0e5",
   "metadata": {
    "execution": {
     "iopub.execute_input": "2025-08-20T04:30:41.652246Z",
     "iopub.status.busy": "2025-08-20T04:30:41.652092Z",
     "iopub.status.idle": "2025-08-20T04:30:41.655590Z",
     "shell.execute_reply": "2025-08-20T04:30:41.655189Z"
    }
   },
   "outputs": [
    {
     "data": {
      "text/latex": [
       "Quantum object: dims=[[2, 2], [2, 2]], shape=(4, 4), type='oper', dtype=Dense, isherm=False$$\\left(\\begin{array}{cc}1 & 0 & 0 & 0\\\\0 & (0.500+0.500j) & (0.500-0.500j) & 0\\\\0 & (0.500-0.500j) & (0.500+0.500j) & 0\\\\0 & 0 & 0 & 1\\end{array}\\right)$$"
      ],
      "text/plain": [
       "Quantum object: dims=[[2, 2], [2, 2]], shape=(4, 4), type='oper', dtype=Dense, isherm=False\n",
       "Qobj data =\n",
       "[[1. +0.j  0. +0.j  0. +0.j  0. +0.j ]\n",
       " [0. +0.j  0.5+0.5j 0.5-0.5j 0. +0.j ]\n",
       " [0. +0.j  0.5-0.5j 0.5+0.5j 0. +0.j ]\n",
       " [0. +0.j  0. +0.j  0. +0.j  1. +0.j ]]"
      ]
     },
     "execution_count": 22,
     "metadata": {},
     "output_type": "execute_result"
    }
   ],
   "source": [
    "sqrtswap()"
   ]
  },
  {
   "cell_type": "markdown",
   "id": "620ed38b",
   "metadata": {},
   "source": [
    "### SQRTNOT"
   ]
  },
  {
   "cell_type": "code",
   "execution_count": 23,
   "id": "c30ac515",
   "metadata": {
    "execution": {
     "iopub.execute_input": "2025-08-20T04:30:41.656880Z",
     "iopub.status.busy": "2025-08-20T04:30:41.656727Z",
     "iopub.status.idle": "2025-08-20T04:30:41.659980Z",
     "shell.execute_reply": "2025-08-20T04:30:41.659500Z"
    }
   },
   "outputs": [
    {
     "data": {
      "text/latex": [
       "Quantum object: dims=[[2], [2]], shape=(2, 2), type='oper', dtype=Dense, isherm=False$$\\left(\\begin{array}{cc}(0.500+0.500j) & (0.500-0.500j)\\\\(0.500-0.500j) & (0.500+0.500j)\\end{array}\\right)$$"
      ],
      "text/plain": [
       "Quantum object: dims=[[2], [2]], shape=(2, 2), type='oper', dtype=Dense, isherm=False\n",
       "Qobj data =\n",
       "[[0.5+0.5j 0.5-0.5j]\n",
       " [0.5-0.5j 0.5+0.5j]]"
      ]
     },
     "execution_count": 23,
     "metadata": {},
     "output_type": "execute_result"
    }
   ],
   "source": [
    "sqrtnot()"
   ]
  },
  {
   "cell_type": "markdown",
   "id": "dcb467cf",
   "metadata": {},
   "source": [
    "### HADAMARD"
   ]
  },
  {
   "cell_type": "code",
   "execution_count": 24,
   "id": "dd792ca5",
   "metadata": {
    "execution": {
     "iopub.execute_input": "2025-08-20T04:30:41.661269Z",
     "iopub.status.busy": "2025-08-20T04:30:41.661112Z",
     "iopub.status.idle": "2025-08-20T04:30:41.664532Z",
     "shell.execute_reply": "2025-08-20T04:30:41.664052Z"
    }
   },
   "outputs": [
    {
     "data": {
      "text/latex": [
       "Quantum object: dims=[[2], [2]], shape=(2, 2), type='oper', dtype=Dense, isherm=True$$\\left(\\begin{array}{cc}0.707 & 0.707\\\\0.707 & -0.707\\end{array}\\right)$$"
      ],
      "text/plain": [
       "Quantum object: dims=[[2], [2]], shape=(2, 2), type='oper', dtype=Dense, isherm=True\n",
       "Qobj data =\n",
       "[[ 0.70710678  0.70710678]\n",
       " [ 0.70710678 -0.70710678]]"
      ]
     },
     "execution_count": 24,
     "metadata": {},
     "output_type": "execute_result"
    }
   ],
   "source": [
    "snot()"
   ]
  },
  {
   "cell_type": "markdown",
   "id": "5fa841c5",
   "metadata": {},
   "source": [
    "### PHASEGATE"
   ]
  },
  {
   "cell_type": "code",
   "execution_count": 25,
   "id": "88d1506e",
   "metadata": {
    "execution": {
     "iopub.execute_input": "2025-08-20T04:30:41.665745Z",
     "iopub.status.busy": "2025-08-20T04:30:41.665601Z",
     "iopub.status.idle": "2025-08-20T04:30:41.669009Z",
     "shell.execute_reply": "2025-08-20T04:30:41.668532Z"
    }
   },
   "outputs": [
    {
     "data": {
      "text/latex": [
       "Quantum object: dims=[[2], [2]], shape=(2, 2), type='oper', dtype=Dense, isherm=False$$\\left(\\begin{array}{cc}1 & 0\\\\0 & 1j\\end{array}\\right)$$"
      ],
      "text/plain": [
       "Quantum object: dims=[[2], [2]], shape=(2, 2), type='oper', dtype=Dense, isherm=False\n",
       "Qobj data =\n",
       "[[1.000000e+00+0.j 0.000000e+00+0.j]\n",
       " [0.000000e+00+0.j 6.123234e-17+1.j]]"
      ]
     },
     "execution_count": 25,
     "metadata": {},
     "output_type": "execute_result"
    }
   ],
   "source": [
    "phasegate(pi / 2)"
   ]
  },
  {
   "cell_type": "markdown",
   "id": "2f926006",
   "metadata": {},
   "source": [
    "### GLOBALPHASE"
   ]
  },
  {
   "cell_type": "code",
   "execution_count": 26,
   "id": "d44906a7",
   "metadata": {
    "execution": {
     "iopub.execute_input": "2025-08-20T04:30:41.670350Z",
     "iopub.status.busy": "2025-08-20T04:30:41.670189Z",
     "iopub.status.idle": "2025-08-20T04:30:41.673959Z",
     "shell.execute_reply": "2025-08-20T04:30:41.673487Z"
    }
   },
   "outputs": [
    {
     "data": {
      "text/latex": [
       "Quantum object: dims=[[2], [2]], shape=(2, 2), type='oper', dtype=CSR, isherm=False$$\\left(\\begin{array}{cc}1j & 0\\\\0 & 1j\\end{array}\\right)$$"
      ],
      "text/plain": [
       "Quantum object: dims=[[2], [2]], shape=(2, 2), type='oper', dtype=CSR, isherm=False\n",
       "Qobj data =\n",
       "[[6.123234e-17+1.j 0.000000e+00+0.j]\n",
       " [0.000000e+00+0.j 6.123234e-17+1.j]]"
      ]
     },
     "execution_count": 26,
     "metadata": {},
     "output_type": "execute_result"
    }
   ],
   "source": [
    "globalphase(pi / 2)"
   ]
  },
  {
   "cell_type": "markdown",
   "id": "f46c0838",
   "metadata": {},
   "source": [
    "### Mølmer–Sørensen gate"
   ]
  },
  {
   "cell_type": "code",
   "execution_count": 27,
   "id": "e7023c30",
   "metadata": {
    "execution": {
     "iopub.execute_input": "2025-08-20T04:30:41.675273Z",
     "iopub.status.busy": "2025-08-20T04:30:41.675121Z",
     "iopub.status.idle": "2025-08-20T04:30:41.678821Z",
     "shell.execute_reply": "2025-08-20T04:30:41.678323Z"
    }
   },
   "outputs": [
    {
     "data": {
      "text/latex": [
       "Quantum object: dims=[[2, 2], [2, 2]], shape=(4, 4), type='oper', dtype=Dense, isherm=False$$\\left(\\begin{array}{cc}0.707 & 0 & 0 & -0.707j\\\\0 & 0.707 & -0.707j & 0\\\\0 & -0.707j & 0.707 & 0\\\\-0.707j & 0 & 0 & 0.707\\end{array}\\right)$$"
      ],
      "text/plain": [
       "Quantum object: dims=[[2, 2], [2, 2]], shape=(4, 4), type='oper', dtype=Dense, isherm=False\n",
       "Qobj data =\n",
       "[[0.70710678+0.j         0.        +0.j         0.        +0.j\n",
       "  0.        -0.70710678j]\n",
       " [0.        +0.j         0.70710678+0.j         0.        -0.70710678j\n",
       "  0.        +0.j        ]\n",
       " [0.        +0.j         0.        -0.70710678j 0.70710678+0.j\n",
       "  0.        +0.j        ]\n",
       " [0.        -0.70710678j 0.        +0.j         0.        +0.j\n",
       "  0.70710678+0.j        ]]"
      ]
     },
     "execution_count": 27,
     "metadata": {},
     "output_type": "execute_result"
    }
   ],
   "source": [
    "molmer_sorensen(pi / 2)"
   ]
  },
  {
   "cell_type": "markdown",
   "id": "7198e2ff",
   "metadata": {},
   "source": [
    "### Qubit rotation gate"
   ]
  },
  {
   "cell_type": "code",
   "execution_count": 28,
   "id": "0f7d8f25",
   "metadata": {
    "execution": {
     "iopub.execute_input": "2025-08-20T04:30:41.680173Z",
     "iopub.status.busy": "2025-08-20T04:30:41.680015Z",
     "iopub.status.idle": "2025-08-20T04:30:41.683539Z",
     "shell.execute_reply": "2025-08-20T04:30:41.683046Z"
    }
   },
   "outputs": [
    {
     "data": {
      "text/latex": [
       "Quantum object: dims=[[2], [2]], shape=(2, 2), type='oper', dtype=Dense, isherm=False$$\\left(\\begin{array}{cc}0.707 & (-0.500-0.500j)\\\\(0.500-0.500j) & 0.707\\end{array}\\right)$$"
      ],
      "text/plain": [
       "Quantum object: dims=[[2], [2]], shape=(2, 2), type='oper', dtype=Dense, isherm=False\n",
       "Qobj data =\n",
       "[[ 0.70710678+0.j  -0.5       -0.5j]\n",
       " [ 0.5       -0.5j  0.70710678+0.j ]]"
      ]
     },
     "execution_count": 28,
     "metadata": {},
     "output_type": "execute_result"
    }
   ],
   "source": [
    "qrot(pi / 2, pi / 4)"
   ]
  },
  {
   "cell_type": "markdown",
   "id": "9d5e3430",
   "metadata": {},
   "source": [
    "### Expanding gates to larger qubit registers"
   ]
  },
  {
   "cell_type": "markdown",
   "id": "ec787352",
   "metadata": {},
   "source": [
    "The example above show how to generate matrice representations of the gates implemented in QuTiP, in their minimal qubit requirements. If the same gates is to be represented in a qubit register of size $N$, the optional keywork argument `N` can be specified when calling the gate function. For example, to generate the matrix for the CNOT gate for a $N=3$ bit register:"
   ]
  },
  {
   "cell_type": "code",
   "execution_count": 29,
   "id": "55a2269c",
   "metadata": {
    "execution": {
     "iopub.execute_input": "2025-08-20T04:30:41.684849Z",
     "iopub.status.busy": "2025-08-20T04:30:41.684692Z",
     "iopub.status.idle": "2025-08-20T04:30:41.688890Z",
     "shell.execute_reply": "2025-08-20T04:30:41.688425Z"
    }
   },
   "outputs": [
    {
     "data": {
      "text/latex": [
       "Quantum object: dims=[[2, 2, 2], [2, 2, 2]], shape=(8, 8), type='oper', dtype=CSR, isherm=True$$\\left(\\begin{array}{cc}1 & 0 & 0 & 0 & 0 & 0 & 0 & 0\\\\0 & 1 & 0 & 0 & 0 & 0 & 0 & 0\\\\0 & 0 & 1 & 0 & 0 & 0 & 0 & 0\\\\0 & 0 & 0 & 1 & 0 & 0 & 0 & 0\\\\0 & 0 & 0 & 0 & 0 & 0 & 1 & 0\\\\0 & 0 & 0 & 0 & 0 & 0 & 0 & 1\\\\0 & 0 & 0 & 0 & 1 & 0 & 0 & 0\\\\0 & 0 & 0 & 0 & 0 & 1 & 0 & 0\\end{array}\\right)$$"
      ],
      "text/plain": [
       "Quantum object: dims=[[2, 2, 2], [2, 2, 2]], shape=(8, 8), type='oper', dtype=CSR, isherm=True\n",
       "Qobj data =\n",
       "[[1. 0. 0. 0. 0. 0. 0. 0.]\n",
       " [0. 1. 0. 0. 0. 0. 0. 0.]\n",
       " [0. 0. 1. 0. 0. 0. 0. 0.]\n",
       " [0. 0. 0. 1. 0. 0. 0. 0.]\n",
       " [0. 0. 0. 0. 0. 0. 1. 0.]\n",
       " [0. 0. 0. 0. 0. 0. 0. 1.]\n",
       " [0. 0. 0. 0. 1. 0. 0. 0.]\n",
       " [0. 0. 0. 0. 0. 1. 0. 0.]]"
      ]
     },
     "execution_count": 29,
     "metadata": {},
     "output_type": "execute_result"
    }
   ],
   "source": [
    "cnot(N=3)"
   ]
  },
  {
   "cell_type": "code",
   "execution_count": 30,
   "id": "a989caba",
   "metadata": {
    "execution": {
     "iopub.execute_input": "2025-08-20T04:30:41.690162Z",
     "iopub.status.busy": "2025-08-20T04:30:41.690010Z",
     "iopub.status.idle": "2025-08-20T04:30:41.736629Z",
     "shell.execute_reply": "2025-08-20T04:30:41.736109Z"
    }
   },
   "outputs": [
    {
     "data": {
      "image/png": "[encoded data removed]",
      "text/plain": [
       "<Figure size 359.6x359.6 with 1 Axes>"
      ]
     },
     "metadata": {},
     "output_type": "display_data"
    }
   ],
   "source": [
    "q = QubitCircuit(3, reverse_states=False)\n",
    "q.add_gate(\"CNOT\", controls=[1], targets=[2])\n",
    "q.draw()"
   ]
  },
  {
   "cell_type": "markdown",
   "id": "2be14e12",
   "metadata": {},
   "source": [
    "Furthermore, the control and target qubits (when applicable) can also be similarly specified using keyword arguments `control` and `target` (or in some cases `controls` or `targets`):"
   ]
  },
  {
   "cell_type": "code",
   "execution_count": 31,
   "id": "5901be69",
   "metadata": {
    "execution": {
     "iopub.execute_input": "2025-08-20T04:30:41.738094Z",
     "iopub.status.busy": "2025-08-20T04:30:41.737932Z",
     "iopub.status.idle": "2025-08-20T04:30:41.742247Z",
     "shell.execute_reply": "2025-08-20T04:30:41.741831Z"
    }
   },
   "outputs": [
    {
     "data": {
      "text/latex": [
       "Quantum object: dims=[[2, 2, 2], [2, 2, 2]], shape=(8, 8), type='oper', dtype=CSR, isherm=True$$\\left(\\begin{array}{cc}1 & 0 & 0 & 0 & 0 & 0 & 0 & 0\\\\0 & 0 & 0 & 0 & 0 & 1 & 0 & 0\\\\0 & 0 & 1 & 0 & 0 & 0 & 0 & 0\\\\0 & 0 & 0 & 0 & 0 & 0 & 0 & 1\\\\0 & 0 & 0 & 0 & 1 & 0 & 0 & 0\\\\0 & 1 & 0 & 0 & 0 & 0 & 0 & 0\\\\0 & 0 & 0 & 0 & 0 & 0 & 1 & 0\\\\0 & 0 & 0 & 1 & 0 & 0 & 0 & 0\\end{array}\\right)$$"
      ],
      "text/plain": [
       "Quantum object: dims=[[2, 2, 2], [2, 2, 2]], shape=(8, 8), type='oper', dtype=CSR, isherm=True\n",
       "Qobj data =\n",
       "[[1. 0. 0. 0. 0. 0. 0. 0.]\n",
       " [0. 0. 0. 0. 0. 1. 0. 0.]\n",
       " [0. 0. 1. 0. 0. 0. 0. 0.]\n",
       " [0. 0. 0. 0. 0. 0. 0. 1.]\n",
       " [0. 0. 0. 0. 1. 0. 0. 0.]\n",
       " [0. 1. 0. 0. 0. 0. 0. 0.]\n",
       " [0. 0. 0. 0. 0. 0. 1. 0.]\n",
       " [0. 0. 0. 1. 0. 0. 0. 0.]]"
      ]
     },
     "execution_count": 31,
     "metadata": {},
     "output_type": "execute_result"
    }
   ],
   "source": [
    "cnot(N=3, control=2, target=0)"
   ]
  },
  {
   "cell_type": "code",
   "execution_count": 32,
   "id": "5778a8b4",
   "metadata": {
    "execution": {
     "iopub.execute_input": "2025-08-20T04:30:41.743554Z",
     "iopub.status.busy": "2025-08-20T04:30:41.743376Z",
     "iopub.status.idle": "2025-08-20T04:30:41.789334Z",
     "shell.execute_reply": "2025-08-20T04:30:41.788877Z"
    }
   },
   "outputs": [
    {
     "data": {
      "image/png": "[encoded data removed]",
      "text/plain": [
       "<Figure size 359.6x359.6 with 1 Axes>"
      ]
     },
     "metadata": {},
     "output_type": "display_data"
    }
   ],
   "source": [
    "q = QubitCircuit(3, reverse_states=False)\n",
    "q.add_gate(\"CNOT\", controls=[0], targets=[2])\n",
    "q.draw()"
   ]
  },
  {
   "cell_type": "markdown",
   "id": "662c1331",
   "metadata": {},
   "source": [
    "## Setup of a Qubit Circuit"
   ]
  },
  {
   "cell_type": "markdown",
   "id": "14dba835",
   "metadata": {},
   "source": [
    "The gates implemented in QuTiP can be used to build any qubit circuit using the class QubitCircuit. The output can be obtained in the form of a unitary matrix or a latex representation."
   ]
  },
  {
   "cell_type": "markdown",
   "id": "f1747ca1",
   "metadata": {},
   "source": [
    "In the following example, we take a SWAP gate. It is known that a swap gate is equivalent to three CNOT gates applied in the given format."
   ]
  },
  {
   "cell_type": "code",
   "execution_count": 33,
   "id": "d93870fd",
   "metadata": {
    "execution": {
     "iopub.execute_input": "2025-08-20T04:30:41.790791Z",
     "iopub.status.busy": "2025-08-20T04:30:41.790630Z",
     "iopub.status.idle": "2025-08-20T04:30:41.833882Z",
     "shell.execute_reply": "2025-08-20T04:30:41.833419Z"
    }
   },
   "outputs": [
    {
     "data": {
      "image/png": "[encoded data removed]",
      "text/plain": [
       "<Figure size 416.1x416.1 with 1 Axes>"
      ]
     },
     "metadata": {},
     "output_type": "display_data"
    }
   ],
   "source": [
    "N = 2\n",
    "qc0 = QubitCircuit(N)\n",
    "qc0.add_gate(\"ISWAP\", [0, 1], None)\n",
    "qc0.draw()"
   ]
  },
  {
   "cell_type": "code",
   "execution_count": 34,
   "id": "5b06d50c",
   "metadata": {
    "execution": {
     "iopub.execute_input": "2025-08-20T04:30:41.835377Z",
     "iopub.status.busy": "2025-08-20T04:30:41.835214Z",
     "iopub.status.idle": "2025-08-20T04:30:41.839701Z",
     "shell.execute_reply": "2025-08-20T04:30:41.839187Z"
    }
   },
   "outputs": [
    {
     "data": {
      "text/latex": [
       "Quantum object: dims=[[2, 2], [2, 2]], shape=(4, 4), type='oper', dtype=Dense, isherm=False$$\\left(\\begin{array}{cc}1 & 0 & 0 & 0\\\\0 & 0 & 1j & 0\\\\0 & 1j & 0 & 0\\\\0 & 0 & 0 & 1\\end{array}\\right)$$"
      ],
      "text/plain": [
       "Quantum object: dims=[[2, 2], [2, 2]], shape=(4, 4), type='oper', dtype=Dense, isherm=False\n",
       "Qobj data =\n",
       "[[1.+0.j 0.+0.j 0.+0.j 0.+0.j]\n",
       " [0.+0.j 0.+0.j 0.+1.j 0.+0.j]\n",
       " [0.+0.j 0.+1.j 0.+0.j 0.+0.j]\n",
       " [0.+0.j 0.+0.j 0.+0.j 1.+0.j]]"
      ]
     },
     "execution_count": 34,
     "metadata": {},
     "output_type": "execute_result"
    }
   ],
   "source": [
    "U_list0 = qc0.propagators()\n",
    "U0 = gate_sequence_product(U_list0)\n",
    "U0"
   ]
  },
  {
   "cell_type": "code",
   "execution_count": 35,
   "id": "fe706170",
   "metadata": {
    "execution": {
     "iopub.execute_input": "2025-08-20T04:30:41.841216Z",
     "iopub.status.busy": "2025-08-20T04:30:41.841054Z",
     "iopub.status.idle": "2025-08-20T04:30:41.885166Z",
     "shell.execute_reply": "2025-08-20T04:30:41.884710Z"
    }
   },
   "outputs": [
    {
     "data": {
      "image/png": "[encoded data removed]",
      "text/plain": [
       "<Figure size 491.6x491.6 with 1 Axes>"
      ]
     },
     "metadata": {},
     "output_type": "display_data"
    }
   ],
   "source": [
    "qc1 = QubitCircuit(N)\n",
    "qc1.add_gate(\"CNOT\", 0, 1)\n",
    "qc1.add_gate(\"CNOT\", 1, 0)\n",
    "qc1.add_gate(\"CNOT\", 0, 1)\n",
    "qc1.draw()"
   ]
  },
  {
   "cell_type": "code",
   "execution_count": 36,
   "id": "23c3e916",
   "metadata": {
    "execution": {
     "iopub.execute_input": "2025-08-20T04:30:41.886632Z",
     "iopub.status.busy": "2025-08-20T04:30:41.886475Z",
     "iopub.status.idle": "2025-08-20T04:30:41.891359Z",
     "shell.execute_reply": "2025-08-20T04:30:41.890898Z"
    }
   },
   "outputs": [
    {
     "data": {
      "text/latex": [
       "Quantum object: dims=[[2, 2], [2, 2]], shape=(4, 4), type='oper', dtype=Dense, isherm=True$$\\left(\\begin{array}{cc}1 & 0 & 0 & 0\\\\0 & 0 & 1 & 0\\\\0 & 1 & 0 & 0\\\\0 & 0 & 0 & 1\\end{array}\\right)$$"
      ],
      "text/plain": [
       "Quantum object: dims=[[2, 2], [2, 2]], shape=(4, 4), type='oper', dtype=Dense, isherm=True\n",
       "Qobj data =\n",
       "[[1. 0. 0. 0.]\n",
       " [0. 0. 1. 0.]\n",
       " [0. 1. 0. 0.]\n",
       " [0. 0. 0. 1.]]"
      ]
     },
     "execution_count": 36,
     "metadata": {},
     "output_type": "execute_result"
    }
   ],
   "source": [
    "U_list1 = qc1.propagators()\n",
    "U1 = gate_sequence_product(U_list1)\n",
    "U1"
   ]
  },
  {
   "cell_type": "markdown",
   "id": "f91d0d15",
   "metadata": {},
   "source": [
    "In place of manually converting the SWAP gate to CNOTs, it can be automatically converted using an inbuilt function in QubitCircuit"
   ]
  },
  {
   "cell_type": "code",
   "execution_count": 37,
   "id": "931df077",
   "metadata": {
    "execution": {
     "iopub.execute_input": "2025-08-20T04:30:41.892713Z",
     "iopub.status.busy": "2025-08-20T04:30:41.892550Z",
     "iopub.status.idle": "2025-08-20T04:30:42.042014Z",
     "shell.execute_reply": "2025-08-20T04:30:42.041539Z"
    }
   },
   "outputs": [
    {
     "data": {
      "image/png": "[encoded data removed]",
      "text/plain": [
       "<Figure size 1340.1x1340.1 with 1 Axes>"
      ]
     },
     "metadata": {},
     "output_type": "display_data"
    }
   ],
   "source": [
    "qc2 = qc0.resolve_gates(\"CNOT\")\n",
    "qc2.draw()"
   ]
  },
  {
   "cell_type": "code",
   "execution_count": 38,
   "id": "4b45b70e",
   "metadata": {
    "execution": {
     "iopub.execute_input": "2025-08-20T04:30:42.043373Z",
     "iopub.status.busy": "2025-08-20T04:30:42.043218Z",
     "iopub.status.idle": "2025-08-20T04:30:42.049898Z",
     "shell.execute_reply": "2025-08-20T04:30:42.049404Z"
    }
   },
   "outputs": [
    {
     "data": {
      "text/latex": [
       "Quantum object: dims=[[2, 2], [2, 2]], shape=(4, 4), type='oper', dtype=Dense, isherm=False$$\\left(\\begin{array}{cc}1 & 0 & 0 & 0\\\\0 & 0 & 1j & -2.220\\times10^{ -16 }\\\\0 & 1j & 0 & 0\\\\0 & 0 & 4.079\\times10^{ -32 } & 1\\end{array}\\right)$$"
      ],
      "text/plain": [
       "Quantum object: dims=[[2, 2], [2, 2]], shape=(4, 4), type='oper', dtype=Dense, isherm=False\n",
       "Qobj data =\n",
       "[[ 1.00000000e+00+3.83475851e-17j  0.00000000e+00+0.00000000e+00j\n",
       "   0.00000000e+00+0.00000000e+00j  0.00000000e+00+0.00000000e+00j]\n",
       " [ 0.00000000e+00+0.00000000e+00j  0.00000000e+00+0.00000000e+00j\n",
       "   1.83697020e-16+1.00000000e+00j -2.22044605e-16+9.00927388e-32j]\n",
       " [ 0.00000000e+00+0.00000000e+00j  1.83697020e-16+1.00000000e+00j\n",
       "   0.00000000e+00+0.00000000e+00j  0.00000000e+00+0.00000000e+00j]\n",
       " [ 0.00000000e+00+0.00000000e+00j  0.00000000e+00+0.00000000e+00j\n",
       "   4.07889322e-32+2.22044605e-16j  1.00000000e+00-4.05741625e-16j]]"
      ]
     },
     "execution_count": 38,
     "metadata": {},
     "output_type": "execute_result"
    }
   ],
   "source": [
    "U_list2 = qc2.propagators()\n",
    "U2 = gate_sequence_product(U_list2)\n",
    "U2"
   ]
  },
  {
   "cell_type": "markdown",
   "id": "9b8f4444",
   "metadata": {},
   "source": [
    "From QuTiP 4.4, we can also add gate at arbitrary position in a circuit."
   ]
  },
  {
   "cell_type": "code",
   "execution_count": 39,
   "id": "a22396b4",
   "metadata": {
    "execution": {
     "iopub.execute_input": "2025-08-20T04:30:42.051303Z",
     "iopub.status.busy": "2025-08-20T04:30:42.051142Z",
     "iopub.status.idle": "2025-08-20T04:30:42.099476Z",
     "shell.execute_reply": "2025-08-20T04:30:42.098949Z"
    }
   },
   "outputs": [
    {
     "data": {
      "image/png": "[encoded data removed]",
      "text/plain": [
       "<Figure size 614.1x614.1 with 1 Axes>"
      ]
     },
     "metadata": {},
     "output_type": "display_data"
    }
   ],
   "source": [
    "qc1.add_gate(\"CSIGN\", index=[1], targets=[0], controls=[1])\n",
    "qc1.draw()"
   ]
  },
  {
   "cell_type": "markdown",
   "id": "b2938a97",
   "metadata": {},
   "source": [
    "## Example of basis transformation"
   ]
  },
  {
   "cell_type": "code",
   "execution_count": 40,
   "id": "4256b09d",
   "metadata": {
    "execution": {
     "iopub.execute_input": "2025-08-20T04:30:42.100924Z",
     "iopub.status.busy": "2025-08-20T04:30:42.100765Z",
     "iopub.status.idle": "2025-08-20T04:30:42.165894Z",
     "shell.execute_reply": "2025-08-20T04:30:42.165363Z"
    }
   },
   "outputs": [
    {
     "data": {
      "image/png": "[encoded data removed]",
      "text/plain": [
       "<Figure size 604.6x604.6 with 1 Axes>"
      ]
     },
     "metadata": {},
     "output_type": "display_data"
    }
   ],
   "source": [
    "qc3 = QubitCircuit(3)\n",
    "qc3.add_gate(\"CNOT\", 1, 0)\n",
    "qc3.add_gate(\"RX\", 0, None, pi / 2, r\"\\pi/2\")\n",
    "qc3.add_gate(\"RY\", 1, None, pi / 2, r\"\\pi/2\")\n",
    "qc3.add_gate(\"RZ\", 2, None, pi / 2, r\"\\pi/2\")\n",
    "qc3.add_gate(\"ISWAP\", [1, 2])\n",
    "qc3.draw()"
   ]
  },
  {
   "cell_type": "code",
   "execution_count": 41,
   "id": "1512bba6",
   "metadata": {
    "execution": {
     "iopub.execute_input": "2025-08-20T04:30:42.167426Z",
     "iopub.status.busy": "2025-08-20T04:30:42.167235Z",
     "iopub.status.idle": "2025-08-20T04:30:42.173280Z",
     "shell.execute_reply": "2025-08-20T04:30:42.172800Z"
    }
   },
   "outputs": [
    {
     "data": {
      "text/latex": [
       "Quantum object: dims=[[2, 2, 2], [2, 2, 2]], shape=(8, 8), type='oper', dtype=CSR, isherm=False$$\\left(\\begin{array}{cc}(0.354-0.354j) & 0 & (-0.354+0.354j) & 0 & (0.354+0.354j) & 0 & (-0.354-0.354j) & 0\\\\(0.354+0.354j) & 0 & (0.354+0.354j) & 0 & (0.354-0.354j) & 0 & (0.354-0.354j) & 0\\\\0 & (-0.354+0.354j) & 0 & (0.354-0.354j) & 0 & (-0.354-0.354j) & 0 & (0.354+0.354j)\\\\0 & (0.354+0.354j) & 0 & (0.354+0.354j) & 0 & (0.354-0.354j) & 0 & (0.354-0.354j)\\\\(-0.354-0.354j) & 0 & (0.354+0.354j) & 0 & (-0.354+0.354j) & 0 & (0.354-0.354j) & 0\\\\(0.354-0.354j) & 0 & (0.354-0.354j) & 0 & (0.354+0.354j) & 0 & (0.354+0.354j) & 0\\\\0 & (0.354+0.354j) & 0 & (-0.354-0.354j) & 0 & (0.354-0.354j) & 0 & (-0.354+0.354j)\\\\0 & (0.354-0.354j) & 0 & (0.354-0.354j) & 0 & (0.354+0.354j) & 0 & (0.354+0.354j)\\end{array}\\right)$$"
      ],
      "text/plain": [
       "Quantum object: dims=[[2, 2, 2], [2, 2, 2]], shape=(8, 8), type='oper', dtype=CSR, isherm=False\n",
       "Qobj data =\n",
       "[[ 0.35355339-0.35355339j  0.        +0.j         -0.35355339+0.35355339j\n",
       "   0.        +0.j          0.35355339+0.35355339j  0.        +0.j\n",
       "  -0.35355339-0.35355339j  0.        +0.j        ]\n",
       " [ 0.35355339+0.35355339j  0.        +0.j          0.35355339+0.35355339j\n",
       "   0.        +0.j          0.35355339-0.35355339j  0.        +0.j\n",
       "   0.35355339-0.35355339j  0.        +0.j        ]\n",
       " [ 0.        +0.j         -0.35355339+0.35355339j  0.        +0.j\n",
       "   0.35355339-0.35355339j  0.        +0.j         -0.35355339-0.35355339j\n",
       "   0.        +0.j          0.35355339+0.35355339j]\n",
       " [ 0.        +0.j          0.35355339+0.35355339j  0.        +0.j\n",
       "   0.35355339+0.35355339j  0.        +0.j          0.35355339-0.35355339j\n",
       "   0.        +0.j          0.35355339-0.35355339j]\n",
       " [-0.35355339-0.35355339j  0.        +0.j          0.35355339+0.35355339j\n",
       "   0.        +0.j         -0.35355339+0.35355339j  0.        +0.j\n",
       "   0.35355339-0.35355339j  0.        +0.j        ]\n",
       " [ 0.35355339-0.35355339j  0.        +0.j          0.35355339-0.35355339j\n",
       "   0.        +0.j          0.35355339+0.35355339j  0.        +0.j\n",
       "   0.35355339+0.35355339j  0.        +0.j        ]\n",
       " [ 0.        +0.j          0.35355339+0.35355339j  0.        +0.j\n",
       "  -0.35355339-0.35355339j  0.        +0.j          0.35355339-0.35355339j\n",
       "   0.        +0.j         -0.35355339+0.35355339j]\n",
       " [ 0.        +0.j          0.35355339-0.35355339j  0.        +0.j\n",
       "   0.35355339-0.35355339j  0.        +0.j          0.35355339+0.35355339j\n",
       "   0.        +0.j          0.35355339+0.35355339j]]"
      ]
     },
     "execution_count": 41,
     "metadata": {},
     "output_type": "execute_result"
    }
   ],
   "source": [
    "U3 = gate_sequence_product(qc3.propagators())\n",
    "U3"
   ]
  },
  {
   "cell_type": "markdown",
   "id": "5a3e6d2e",
   "metadata": {},
   "source": [
    "### The transformation can either be only in terms of 2-qubit gates:"
   ]
  },
  {
   "cell_type": "code",
   "execution_count": 42,
   "id": "06fd65fb",
   "metadata": {
    "execution": {
     "iopub.execute_input": "2025-08-20T04:30:42.174774Z",
     "iopub.status.busy": "2025-08-20T04:30:42.174602Z",
     "iopub.status.idle": "2025-08-20T04:30:42.278258Z",
     "shell.execute_reply": "2025-08-20T04:30:42.277734Z"
    }
   },
   "outputs": [
    {
     "data": {
      "image/png": "[encoded data removed]",
      "text/plain": [
       "<Figure size 1528.6x1528.6 with 1 Axes>"
      ]
     },
     "metadata": {},
     "output_type": "display_data"
    }
   ],
   "source": [
    "qc4 = qc3.resolve_gates(\"CNOT\")\n",
    "qc4.draw()"
   ]
  },
  {
   "cell_type": "code",
   "execution_count": 43,
   "id": "9e7546a4",
   "metadata": {
    "execution": {
     "iopub.execute_input": "2025-08-20T04:30:42.279838Z",
     "iopub.status.busy": "2025-08-20T04:30:42.279660Z",
     "iopub.status.idle": "2025-08-20T04:30:42.287892Z",
     "shell.execute_reply": "2025-08-20T04:30:42.287475Z"
    }
   },
   "outputs": [
    {
     "data": {
      "text/latex": [
       "Quantum object: dims=[[2, 2, 2], [2, 2, 2]], shape=(8, 8), type='oper', dtype=CSR, isherm=False$$\\left(\\begin{array}{cc}(0.354-0.354j) & 0 & (-0.354+0.354j) & 0 & (0.354+0.354j) & 0 & (-0.354-0.354j) & 0\\\\(0.354+0.354j) & 0 & (0.354+0.354j) & 0 & (0.354-0.354j) & 0 & (0.354-0.354j) & 0\\\\0 & (-0.354+0.354j) & 0 & (0.354-0.354j) & 0 & (-0.354-0.354j) & 0 & (0.354+0.354j)\\\\0 & (0.354+0.354j) & 0 & (0.354+0.354j) & 0 & (0.354-0.354j) & 0 & (0.354-0.354j)\\\\(-0.354-0.354j) & 0 & (0.354+0.354j) & 0 & (-0.354+0.354j) & 0 & (0.354-0.354j) & 0\\\\(0.354-0.354j) & 0 & (0.354-0.354j) & 0 & (0.354+0.354j) & 0 & (0.354+0.354j) & 0\\\\0 & (0.354+0.354j) & 0 & (-0.354-0.354j) & 0 & (0.354-0.354j) & 0 & (-0.354+0.354j)\\\\0 & (0.354-0.354j) & 0 & (0.354-0.354j) & 0 & (0.354+0.354j) & 0 & (0.354+0.354j)\\end{array}\\right)$$"
      ],
      "text/plain": [
       "Quantum object: dims=[[2, 2, 2], [2, 2, 2]], shape=(8, 8), type='oper', dtype=CSR, isherm=False\n",
       "Qobj data =\n",
       "[[ 0.35355339-0.35355339j  0.        +0.j         -0.35355339+0.35355339j\n",
       "   0.        +0.j          0.35355339+0.35355339j  0.        +0.j\n",
       "  -0.35355339-0.35355339j  0.        +0.j        ]\n",
       " [ 0.35355339+0.35355339j  0.        +0.j          0.35355339+0.35355339j\n",
       "   0.        +0.j          0.35355339-0.35355339j  0.        +0.j\n",
       "   0.35355339-0.35355339j  0.        +0.j        ]\n",
       " [ 0.        +0.j         -0.35355339+0.35355339j  0.        +0.j\n",
       "   0.35355339-0.35355339j  0.        +0.j         -0.35355339-0.35355339j\n",
       "   0.        +0.j          0.35355339+0.35355339j]\n",
       " [ 0.        +0.j          0.35355339+0.35355339j  0.        +0.j\n",
       "   0.35355339+0.35355339j  0.        +0.j          0.35355339-0.35355339j\n",
       "   0.        +0.j          0.35355339-0.35355339j]\n",
       " [-0.35355339-0.35355339j  0.        +0.j          0.35355339+0.35355339j\n",
       "   0.        +0.j         -0.35355339+0.35355339j  0.        +0.j\n",
       "   0.35355339-0.35355339j  0.        +0.j        ]\n",
       " [ 0.35355339-0.35355339j  0.        +0.j          0.35355339-0.35355339j\n",
       "   0.        +0.j          0.35355339+0.35355339j  0.        +0.j\n",
       "   0.35355339+0.35355339j  0.        +0.j        ]\n",
       " [ 0.        +0.j          0.35355339+0.35355339j  0.        +0.j\n",
       "  -0.35355339-0.35355339j  0.        +0.j          0.35355339-0.35355339j\n",
       "   0.        +0.j         -0.35355339+0.35355339j]\n",
       " [ 0.        +0.j          0.35355339-0.35355339j  0.        +0.j\n",
       "   0.35355339-0.35355339j  0.        +0.j          0.35355339+0.35355339j\n",
       "   0.        +0.j          0.35355339+0.35355339j]]"
      ]
     },
     "execution_count": 43,
     "metadata": {},
     "output_type": "execute_result"
    }
   ],
   "source": [
    "U4 = gate_sequence_product(qc4.propagators())\n",
    "U4"
   ]
  },
  {
   "cell_type": "code",
   "execution_count": 44,
   "id": "7f096ea4",
   "metadata": {
    "execution": {
     "iopub.execute_input": "2025-08-20T04:30:42.289259Z",
     "iopub.status.busy": "2025-08-20T04:30:42.289100Z",
     "iopub.status.idle": "2025-08-20T04:30:42.387009Z",
     "shell.execute_reply": "2025-08-20T04:30:42.386489Z"
    }
   },
   "outputs": [
    {
     "data": {
      "image/png": "[encoded data removed]",
      "text/plain": [
       "<Figure size 1421.1x1421.1 with 1 Axes>"
      ]
     },
     "metadata": {},
     "output_type": "display_data"
    }
   ],
   "source": [
    "qc5 = qc3.resolve_gates(\"ISWAP\")\n",
    "qc5.draw()"
   ]
  },
  {
   "cell_type": "code",
   "execution_count": 45,
   "id": "c46b3a59",
   "metadata": {
    "execution": {
     "iopub.execute_input": "2025-08-20T04:30:42.388583Z",
     "iopub.status.busy": "2025-08-20T04:30:42.388410Z",
     "iopub.status.idle": "2025-08-20T04:30:42.395765Z",
     "shell.execute_reply": "2025-08-20T04:30:42.395318Z"
    }
   },
   "outputs": [
    {
     "data": {
      "text/latex": [
       "Quantum object: dims=[[2, 2, 2], [2, 2, 2]], shape=(8, 8), type='oper', dtype=CSR, isherm=False$$\\left(\\begin{array}{cc}(0.354-0.354j) & 0 & (-0.354+0.354j) & 0 & (0.354+0.354j) & 0 & (-0.354-0.354j) & 0\\\\(0.354+0.354j) & 0 & (0.354+0.354j) & 0 & (0.354-0.354j) & 0 & (0.354-0.354j) & 0\\\\0 & (-0.354+0.354j) & 0 & (0.354-0.354j) & 0 & (-0.354-0.354j) & 0 & (0.354+0.354j)\\\\0 & (0.354+0.354j) & 0 & (0.354+0.354j) & 0 & (0.354-0.354j) & 0 & (0.354-0.354j)\\\\(-0.354-0.354j) & 0 & (0.354+0.354j) & 0 & (-0.354+0.354j) & 0 & (0.354-0.354j) & 0\\\\(0.354-0.354j) & 0 & (0.354-0.354j) & 0 & (0.354+0.354j) & 0 & (0.354+0.354j) & 0\\\\0 & (0.354+0.354j) & 0 & (-0.354-0.354j) & 0 & (0.354-0.354j) & 0 & (-0.354+0.354j)\\\\0 & (0.354-0.354j) & 0 & (0.354-0.354j) & 0 & (0.354+0.354j) & 0 & (0.354+0.354j)\\end{array}\\right)$$"
      ],
      "text/plain": [
       "Quantum object: dims=[[2, 2, 2], [2, 2, 2]], shape=(8, 8), type='oper', dtype=CSR, isherm=False\n",
       "Qobj data =\n",
       "[[ 0.35355339-0.35355339j  0.        +0.j         -0.35355339+0.35355339j\n",
       "   0.        +0.j          0.35355339+0.35355339j  0.        +0.j\n",
       "  -0.35355339-0.35355339j  0.        +0.j        ]\n",
       " [ 0.35355339+0.35355339j  0.        +0.j          0.35355339+0.35355339j\n",
       "   0.        +0.j          0.35355339-0.35355339j  0.        +0.j\n",
       "   0.35355339-0.35355339j  0.        +0.j        ]\n",
       " [ 0.        +0.j         -0.35355339+0.35355339j  0.        +0.j\n",
       "   0.35355339-0.35355339j  0.        +0.j         -0.35355339-0.35355339j\n",
       "   0.        +0.j          0.35355339+0.35355339j]\n",
       " [ 0.        +0.j          0.35355339+0.35355339j  0.        +0.j\n",
       "   0.35355339+0.35355339j  0.        +0.j          0.35355339-0.35355339j\n",
       "   0.        +0.j          0.35355339-0.35355339j]\n",
       " [-0.35355339-0.35355339j  0.        +0.j          0.35355339+0.35355339j\n",
       "   0.        +0.j         -0.35355339+0.35355339j  0.        +0.j\n",
       "   0.35355339-0.35355339j  0.        +0.j        ]\n",
       " [ 0.35355339-0.35355339j  0.        +0.j          0.35355339-0.35355339j\n",
       "   0.        +0.j          0.35355339+0.35355339j  0.        +0.j\n",
       "   0.35355339+0.35355339j  0.        +0.j        ]\n",
       " [ 0.        +0.j          0.35355339+0.35355339j  0.        +0.j\n",
       "  -0.35355339-0.35355339j  0.        +0.j          0.35355339-0.35355339j\n",
       "   0.        +0.j         -0.35355339+0.35355339j]\n",
       " [ 0.        +0.j          0.35355339-0.35355339j  0.        +0.j\n",
       "   0.35355339-0.35355339j  0.        +0.j          0.35355339+0.35355339j\n",
       "   0.        +0.j          0.35355339+0.35355339j]]"
      ]
     },
     "execution_count": 45,
     "metadata": {},
     "output_type": "execute_result"
    }
   ],
   "source": [
    "U5 = gate_sequence_product(qc5.propagators())\n",
    "U5"
   ]
  },
  {
   "cell_type": "markdown",
   "id": "56b18000",
   "metadata": {},
   "source": [
    "### Or the transformation can be in terms of any 2 single qubit rotation gates along with the 2-qubit gate."
   ]
  },
  {
   "cell_type": "code",
   "execution_count": 46,
   "id": "3037ed82",
   "metadata": {
    "execution": {
     "iopub.execute_input": "2025-08-20T04:30:42.397098Z",
     "iopub.status.busy": "2025-08-20T04:30:42.396943Z",
     "iopub.status.idle": "2025-08-20T04:30:42.521630Z",
     "shell.execute_reply": "2025-08-20T04:30:42.521065Z"
    }
   },
   "outputs": [
    {
     "data": {
      "image/png": "[encoded data removed]",
      "text/plain": [
       "<Figure size 1861.1x1861.1 with 1 Axes>"
      ]
     },
     "metadata": {},
     "output_type": "display_data"
    }
   ],
   "source": [
    "qc6 = qc3.resolve_gates([\"ISWAP\", \"RX\", \"RY\"])\n",
    "qc6.draw()"
   ]
  },
  {
   "cell_type": "code",
   "execution_count": 47,
   "id": "d21b0a18",
   "metadata": {
    "execution": {
     "iopub.execute_input": "2025-08-20T04:30:42.523086Z",
     "iopub.status.busy": "2025-08-20T04:30:42.522906Z",
     "iopub.status.idle": "2025-08-20T04:30:42.532289Z",
     "shell.execute_reply": "2025-08-20T04:30:42.531915Z"
    }
   },
   "outputs": [
    {
     "data": {
      "text/latex": [
       "Quantum object: dims=[[2, 2, 2], [2, 2, 2]], shape=(8, 8), type='oper', dtype=CSR, isherm=False$$\\left(\\begin{array}{cc}(0.354-0.354j) & 0 & (-0.354+0.354j) & 0 & (0.354+0.354j) & 0 & (-0.354-0.354j) & 0\\\\(0.354+0.354j) & 0 & (0.354+0.354j) & 0 & (0.354-0.354j) & 0 & (0.354-0.354j) & 0\\\\0 & (-0.354+0.354j) & 0 & (0.354-0.354j) & 0 & (-0.354-0.354j) & 0 & (0.354+0.354j)\\\\0 & (0.354+0.354j) & 0 & (0.354+0.354j) & 0 & (0.354-0.354j) & 0 & (0.354-0.354j)\\\\(-0.354-0.354j) & 0 & (0.354+0.354j) & 0 & (-0.354+0.354j) & 0 & (0.354-0.354j) & 0\\\\(0.354-0.354j) & 0 & (0.354-0.354j) & 0 & (0.354+0.354j) & 0 & (0.354+0.354j) & 0\\\\0 & (0.354+0.354j) & 0 & (-0.354-0.354j) & 0 & (0.354-0.354j) & 0 & (-0.354+0.354j)\\\\0 & (0.354-0.354j) & 0 & (0.354-0.354j) & 0 & (0.354+0.354j) & 0 & (0.354+0.354j)\\end{array}\\right)$$"
      ],
      "text/plain": [
       "Quantum object: dims=[[2, 2, 2], [2, 2, 2]], shape=(8, 8), type='oper', dtype=CSR, isherm=False\n",
       "Qobj data =\n",
       "[[ 0.35355339-0.35355339j  0.        +0.j         -0.35355339+0.35355339j\n",
       "   0.        +0.j          0.35355339+0.35355339j  0.        +0.j\n",
       "  -0.35355339-0.35355339j  0.        +0.j        ]\n",
       " [ 0.35355339+0.35355339j  0.        +0.j          0.35355339+0.35355339j\n",
       "   0.        +0.j          0.35355339-0.35355339j  0.        +0.j\n",
       "   0.35355339-0.35355339j  0.        +0.j        ]\n",
       " [ 0.        +0.j         -0.35355339+0.35355339j  0.        +0.j\n",
       "   0.35355339-0.35355339j  0.        +0.j         -0.35355339-0.35355339j\n",
       "   0.        +0.j          0.35355339+0.35355339j]\n",
       " [ 0.        +0.j          0.35355339+0.35355339j  0.        +0.j\n",
       "   0.35355339+0.35355339j  0.        +0.j          0.35355339-0.35355339j\n",
       "   0.        +0.j          0.35355339-0.35355339j]\n",
       " [-0.35355339-0.35355339j  0.        +0.j          0.35355339+0.35355339j\n",
       "   0.        +0.j         -0.35355339+0.35355339j  0.        +0.j\n",
       "   0.35355339-0.35355339j  0.        +0.j        ]\n",
       " [ 0.35355339-0.35355339j  0.        +0.j          0.35355339-0.35355339j\n",
       "   0.        +0.j          0.35355339+0.35355339j  0.        +0.j\n",
       "   0.35355339+0.35355339j  0.        +0.j        ]\n",
       " [ 0.        +0.j          0.35355339+0.35355339j  0.        +0.j\n",
       "  -0.35355339-0.35355339j  0.        +0.j          0.35355339-0.35355339j\n",
       "   0.        +0.j         -0.35355339+0.35355339j]\n",
       " [ 0.        +0.j          0.35355339-0.35355339j  0.        +0.j\n",
       "   0.35355339-0.35355339j  0.        +0.j          0.35355339+0.35355339j\n",
       "   0.        +0.j          0.35355339+0.35355339j]]"
      ]
     },
     "execution_count": 47,
     "metadata": {},
     "output_type": "execute_result"
    }
   ],
   "source": [
    "U6 = gate_sequence_product(qc6.propagators())\n",
    "U6"
   ]
  },
  {
   "cell_type": "code",
   "execution_count": 48,
   "id": "480d7d0d",
   "metadata": {
    "execution": {
     "iopub.execute_input": "2025-08-20T04:30:42.533705Z",
     "iopub.status.busy": "2025-08-20T04:30:42.533539Z",
     "iopub.status.idle": "2025-08-20T04:30:42.666156Z",
     "shell.execute_reply": "2025-08-20T04:30:42.665592Z"
    }
   },
   "outputs": [
    {
     "data": {
      "image/png": "[encoded data removed]",
      "text/plain": [
       "<Figure size 2188.6x2188.6 with 1 Axes>"
      ]
     },
     "metadata": {},
     "output_type": "display_data"
    }
   ],
   "source": [
    "qc7 = qc3.resolve_gates([\"CNOT\", \"RZ\", \"RX\"])\n",
    "qc7.draw()"
   ]
  },
  {
   "cell_type": "code",
   "execution_count": 49,
   "id": "ea9e21b2",
   "metadata": {
    "execution": {
     "iopub.execute_input": "2025-08-20T04:30:42.667635Z",
     "iopub.status.busy": "2025-08-20T04:30:42.667468Z",
     "iopub.status.idle": "2025-08-20T04:30:42.676881Z",
     "shell.execute_reply": "2025-08-20T04:30:42.676371Z"
    }
   },
   "outputs": [
    {
     "data": {
      "text/latex": [
       "Quantum object: dims=[[2, 2, 2], [2, 2, 2]], shape=(8, 8), type='oper', dtype=CSR, isherm=False$$\\left(\\begin{array}{cc}(0.354-0.354j) & 0 & (-0.354+0.354j) & 0 & (0.354+0.354j) & 0 & (-0.354-0.354j) & 0\\\\(0.354+0.354j) & 0 & (0.354+0.354j) & 0 & (0.354-0.354j) & 0 & (0.354-0.354j) & 0\\\\0 & (-0.354+0.354j) & 0 & (0.354-0.354j) & 0 & (-0.354-0.354j) & 0 & (0.354+0.354j)\\\\0 & (0.354+0.354j) & 0 & (0.354+0.354j) & 0 & (0.354-0.354j) & 0 & (0.354-0.354j)\\\\(-0.354-0.354j) & 0 & (0.354+0.354j) & 0 & (-0.354+0.354j) & 0 & (0.354-0.354j) & 0\\\\(0.354-0.354j) & 0 & (0.354-0.354j) & 0 & (0.354+0.354j) & 0 & (0.354+0.354j) & 0\\\\0 & (0.354+0.354j) & 0 & (-0.354-0.354j) & 0 & (0.354-0.354j) & 0 & (-0.354+0.354j)\\\\0 & (0.354-0.354j) & 0 & (0.354-0.354j) & 0 & (0.354+0.354j) & 0 & (0.354+0.354j)\\end{array}\\right)$$"
      ],
      "text/plain": [
       "Quantum object: dims=[[2, 2, 2], [2, 2, 2]], shape=(8, 8), type='oper', dtype=CSR, isherm=False\n",
       "Qobj data =\n",
       "[[ 0.35355339-0.35355339j  0.        +0.j         -0.35355339+0.35355339j\n",
       "   0.        +0.j          0.35355339+0.35355339j  0.        +0.j\n",
       "  -0.35355339-0.35355339j  0.        +0.j        ]\n",
       " [ 0.35355339+0.35355339j  0.        +0.j          0.35355339+0.35355339j\n",
       "   0.        +0.j          0.35355339-0.35355339j  0.        +0.j\n",
       "   0.35355339-0.35355339j  0.        +0.j        ]\n",
       " [ 0.        +0.j         -0.35355339+0.35355339j  0.        +0.j\n",
       "   0.35355339-0.35355339j  0.        +0.j         -0.35355339-0.35355339j\n",
       "   0.        +0.j          0.35355339+0.35355339j]\n",
       " [ 0.        +0.j          0.35355339+0.35355339j  0.        +0.j\n",
       "   0.35355339+0.35355339j  0.        +0.j          0.35355339-0.35355339j\n",
       "   0.        +0.j          0.35355339-0.35355339j]\n",
       " [-0.35355339-0.35355339j  0.        +0.j          0.35355339+0.35355339j\n",
       "   0.        +0.j         -0.35355339+0.35355339j  0.        +0.j\n",
       "   0.35355339-0.35355339j  0.        +0.j        ]\n",
       " [ 0.35355339-0.35355339j  0.        +0.j          0.35355339-0.35355339j\n",
       "   0.        +0.j          0.35355339+0.35355339j  0.        +0.j\n",
       "   0.35355339+0.35355339j  0.        +0.j        ]\n",
       " [ 0.        +0.j          0.35355339+0.35355339j  0.        +0.j\n",
       "  -0.35355339-0.35355339j  0.        +0.j          0.35355339-0.35355339j\n",
       "   0.        +0.j         -0.35355339+0.35355339j]\n",
       " [ 0.        +0.j          0.35355339-0.35355339j  0.        +0.j\n",
       "   0.35355339-0.35355339j  0.        +0.j          0.35355339+0.35355339j\n",
       "   0.        +0.j          0.35355339+0.35355339j]]"
      ]
     },
     "execution_count": 49,
     "metadata": {},
     "output_type": "execute_result"
    }
   ],
   "source": [
    "U7 = gate_sequence_product(qc7.propagators())\n",
    "U7"
   ]
  },
  {
   "cell_type": "markdown",
   "id": "b2a59138",
   "metadata": {},
   "source": [
    "## Resolving non-adjacent interactions"
   ]
  },
  {
   "cell_type": "markdown",
   "id": "f1aca7b2",
   "metadata": {},
   "source": [
    "Interactions between non-adjacent qubits can be resolved by QubitCircuit to a series of adjacent interactions, which is useful for systems such as spin chain models."
   ]
  },
  {
   "cell_type": "code",
   "execution_count": 50,
   "id": "a90a6c11",
   "metadata": {
    "execution": {
     "iopub.execute_input": "2025-08-20T04:30:42.678350Z",
     "iopub.status.busy": "2025-08-20T04:30:42.678178Z",
     "iopub.status.idle": "2025-08-20T04:30:42.727300Z",
     "shell.execute_reply": "2025-08-20T04:30:42.726795Z"
    }
   },
   "outputs": [
    {
     "data": {
      "image/png": "[encoded data removed]",
      "text/plain": [
       "<Figure size 359.6x359.6 with 1 Axes>"
      ]
     },
     "metadata": {},
     "output_type": "display_data"
    }
   ],
   "source": [
    "qc8 = QubitCircuit(3)\n",
    "qc8.add_gate(\"CNOT\", 2, 0)\n",
    "qc8.draw()"
   ]
  },
  {
   "cell_type": "code",
   "execution_count": 51,
   "id": "4184d759",
   "metadata": {
    "execution": {
     "iopub.execute_input": "2025-08-20T04:30:42.728804Z",
     "iopub.status.busy": "2025-08-20T04:30:42.728620Z",
     "iopub.status.idle": "2025-08-20T04:30:42.733152Z",
     "shell.execute_reply": "2025-08-20T04:30:42.732682Z"
    }
   },
   "outputs": [
    {
     "data": {
      "text/latex": [
       "Quantum object: dims=[[2, 2, 2], [2, 2, 2]], shape=(8, 8), type='oper', dtype=CSR, isherm=True$$\\left(\\begin{array}{cc}1 & 0 & 0 & 0 & 0 & 0 & 0 & 0\\\\0 & 1 & 0 & 0 & 0 & 0 & 0 & 0\\\\0 & 0 & 1 & 0 & 0 & 0 & 0 & 0\\\\0 & 0 & 0 & 1 & 0 & 0 & 0 & 0\\\\0 & 0 & 0 & 0 & 0 & 1 & 0 & 0\\\\0 & 0 & 0 & 0 & 1 & 0 & 0 & 0\\\\0 & 0 & 0 & 0 & 0 & 0 & 0 & 1\\\\0 & 0 & 0 & 0 & 0 & 0 & 1 & 0\\end{array}\\right)$$"
      ],
      "text/plain": [
       "Quantum object: dims=[[2, 2, 2], [2, 2, 2]], shape=(8, 8), type='oper', dtype=CSR, isherm=True\n",
       "Qobj data =\n",
       "[[1. 0. 0. 0. 0. 0. 0. 0.]\n",
       " [0. 1. 0. 0. 0. 0. 0. 0.]\n",
       " [0. 0. 1. 0. 0. 0. 0. 0.]\n",
       " [0. 0. 0. 1. 0. 0. 0. 0.]\n",
       " [0. 0. 0. 0. 0. 1. 0. 0.]\n",
       " [0. 0. 0. 0. 1. 0. 0. 0.]\n",
       " [0. 0. 0. 0. 0. 0. 0. 1.]\n",
       " [0. 0. 0. 0. 0. 0. 1. 0.]]"
      ]
     },
     "execution_count": 51,
     "metadata": {},
     "output_type": "execute_result"
    }
   ],
   "source": [
    "U8 = gate_sequence_product(qc8.propagators())\n",
    "U8"
   ]
  },
  {
   "cell_type": "code",
   "execution_count": 52,
   "id": "1d00346d",
   "metadata": {
    "execution": {
     "iopub.execute_input": "2025-08-20T04:30:42.734600Z",
     "iopub.status.busy": "2025-08-20T04:30:42.734430Z",
     "iopub.status.idle": "2025-08-20T04:30:42.737840Z",
     "shell.execute_reply": "2025-08-20T04:30:42.737354Z"
    }
   },
   "outputs": [
    {
     "data": {
      "text/plain": [
       "[Gate(SWAP, targets=[0, 1], controls=None, classical controls=None, control_value=None, classical_control_value=None),\n",
       " Gate(CNOT, targets=[2], controls=[1], classical controls=None, control_value=None, classical_control_value=None),\n",
       " Gate(SWAP, targets=[0, 1], controls=None, classical controls=None, control_value=None, classical_control_value=None)]"
      ]
     },
     "execution_count": 52,
     "metadata": {},
     "output_type": "execute_result"
    }
   ],
   "source": [
    "qc9 = qc8.adjacent_gates()\n",
    "qc9.gates"
   ]
  },
  {
   "cell_type": "code",
   "execution_count": 53,
   "id": "5116cbdd",
   "metadata": {
    "execution": {
     "iopub.execute_input": "2025-08-20T04:30:42.739141Z",
     "iopub.status.busy": "2025-08-20T04:30:42.738983Z",
     "iopub.status.idle": "2025-08-20T04:30:42.744045Z",
     "shell.execute_reply": "2025-08-20T04:30:42.743554Z"
    }
   },
   "outputs": [
    {
     "data": {
      "text/latex": [
       "Quantum object: dims=[[2, 2, 2], [2, 2, 2]], shape=(8, 8), type='oper', dtype=CSR, isherm=True$$\\left(\\begin{array}{cc}1 & 0 & 0 & 0 & 0 & 0 & 0 & 0\\\\0 & 1 & 0 & 0 & 0 & 0 & 0 & 0\\\\0 & 0 & 1 & 0 & 0 & 0 & 0 & 0\\\\0 & 0 & 0 & 1 & 0 & 0 & 0 & 0\\\\0 & 0 & 0 & 0 & 0 & 1 & 0 & 0\\\\0 & 0 & 0 & 0 & 1 & 0 & 0 & 0\\\\0 & 0 & 0 & 0 & 0 & 0 & 0 & 1\\\\0 & 0 & 0 & 0 & 0 & 0 & 1 & 0\\end{array}\\right)$$"
      ],
      "text/plain": [
       "Quantum object: dims=[[2, 2, 2], [2, 2, 2]], shape=(8, 8), type='oper', dtype=CSR, isherm=True\n",
       "Qobj data =\n",
       "[[1. 0. 0. 0. 0. 0. 0. 0.]\n",
       " [0. 1. 0. 0. 0. 0. 0. 0.]\n",
       " [0. 0. 1. 0. 0. 0. 0. 0.]\n",
       " [0. 0. 0. 1. 0. 0. 0. 0.]\n",
       " [0. 0. 0. 0. 0. 1. 0. 0.]\n",
       " [0. 0. 0. 0. 1. 0. 0. 0.]\n",
       " [0. 0. 0. 0. 0. 0. 0. 1.]\n",
       " [0. 0. 0. 0. 0. 0. 1. 0.]]"
      ]
     },
     "execution_count": 53,
     "metadata": {},
     "output_type": "execute_result"
    }
   ],
   "source": [
    "U9 = gate_sequence_product(qc9.propagators())\n",
    "U9"
   ]
  },
  {
   "cell_type": "code",
   "execution_count": 54,
   "id": "681881fa",
   "metadata": {
    "execution": {
     "iopub.execute_input": "2025-08-20T04:30:42.745546Z",
     "iopub.status.busy": "2025-08-20T04:30:42.745353Z",
     "iopub.status.idle": "2025-08-20T04:30:42.810458Z",
     "shell.execute_reply": "2025-08-20T04:30:42.809950Z"
    }
   },
   "outputs": [
    {
     "data": {
      "image/png": "[encoded data removed]",
      "text/plain": [
       "<Figure size 755.6x755.6 with 1 Axes>"
      ]
     },
     "metadata": {},
     "output_type": "display_data"
    }
   ],
   "source": [
    "qc10 = qc9.resolve_gates(\"CNOT\")\n",
    "qc10.draw()"
   ]
  },
  {
   "cell_type": "code",
   "execution_count": 55,
   "id": "0f8278ef",
   "metadata": {
    "execution": {
     "iopub.execute_input": "2025-08-20T04:30:42.812170Z",
     "iopub.status.busy": "2025-08-20T04:30:42.811988Z",
     "iopub.status.idle": "2025-08-20T04:30:42.818239Z",
     "shell.execute_reply": "2025-08-20T04:30:42.817727Z"
    }
   },
   "outputs": [
    {
     "data": {
      "text/latex": [
       "Quantum object: dims=[[2, 2, 2], [2, 2, 2]], shape=(8, 8), type='oper', dtype=CSR, isherm=True$$\\left(\\begin{array}{cc}1 & 0 & 0 & 0 & 0 & 0 & 0 & 0\\\\0 & 1 & 0 & 0 & 0 & 0 & 0 & 0\\\\0 & 0 & 1 & 0 & 0 & 0 & 0 & 0\\\\0 & 0 & 0 & 1 & 0 & 0 & 0 & 0\\\\0 & 0 & 0 & 0 & 0 & 1 & 0 & 0\\\\0 & 0 & 0 & 0 & 1 & 0 & 0 & 0\\\\0 & 0 & 0 & 0 & 0 & 0 & 0 & 1\\\\0 & 0 & 0 & 0 & 0 & 0 & 1 & 0\\end{array}\\right)$$"
      ],
      "text/plain": [
       "Quantum object: dims=[[2, 2, 2], [2, 2, 2]], shape=(8, 8), type='oper', dtype=CSR, isherm=True\n",
       "Qobj data =\n",
       "[[1. 0. 0. 0. 0. 0. 0. 0.]\n",
       " [0. 1. 0. 0. 0. 0. 0. 0.]\n",
       " [0. 0. 1. 0. 0. 0. 0. 0.]\n",
       " [0. 0. 0. 1. 0. 0. 0. 0.]\n",
       " [0. 0. 0. 0. 0. 1. 0. 0.]\n",
       " [0. 0. 0. 0. 1. 0. 0. 0.]\n",
       " [0. 0. 0. 0. 0. 0. 0. 1.]\n",
       " [0. 0. 0. 0. 0. 0. 1. 0.]]"
      ]
     },
     "execution_count": 55,
     "metadata": {},
     "output_type": "execute_result"
    }
   ],
   "source": [
    "U10 = gate_sequence_product(qc10.propagators())\n",
    "U10"
   ]
  },
  {
   "cell_type": "markdown",
   "id": "6aa3afb3",
   "metadata": {},
   "source": [
    "## Adding gate in the middle of a circuit\n",
    "From QuTiP 4.4 one can add a gate at an arbitrary position of a circuit. All one needs to do is to specify the parameter index. With this, we can also add the same gate at multiple positions at the same time."
   ]
  },
  {
   "cell_type": "code",
   "execution_count": 56,
   "id": "67b8abaf",
   "metadata": {
    "execution": {
     "iopub.execute_input": "2025-08-20T04:30:42.819707Z",
     "iopub.status.busy": "2025-08-20T04:30:42.819543Z",
     "iopub.status.idle": "2025-08-20T04:30:42.823763Z",
     "shell.execute_reply": "2025-08-20T04:30:42.823303Z"
    }
   },
   "outputs": [
    {
     "data": {
      "text/plain": [
       "[Gate(RY, targets=[1], controls=None, classical controls=None, control_value=None, classical_control_value=None),\n",
       " Gate(RX, targets=[1], controls=None, classical controls=None, control_value=None, classical_control_value=None),\n",
       " Gate(RX, targets=[1], controls=None, classical controls=None, control_value=None, classical_control_value=None)]"
      ]
     },
     "execution_count": 56,
     "metadata": {},
     "output_type": "execute_result"
    }
   ],
   "source": [
    "qc = QubitCircuit(1)\n",
    "qc.add_gate(\"RX\", targets=1, arg_value=np.pi / 2)\n",
    "qc.add_gate(\"RX\", targets=1, arg_value=np.pi / 2)\n",
    "qc.add_gate(\"RY\", targets=1, arg_value=np.pi / 2, index=[0])\n",
    "qc.gates"
   ]
  },
  {
   "cell_type": "markdown",
   "id": "bcedfbd7",
   "metadata": {},
   "source": [
    "## User defined gates\n",
    "From QuTiP 4.4 on, user defined gates can be defined by a python function that takes at most one parameter and return a `Qobj`, the dimension of the `Qobj` has to match the qubit system."
   ]
  },
  {
   "cell_type": "code",
   "execution_count": 57,
   "id": "dcc57311",
   "metadata": {
    "execution": {
     "iopub.execute_input": "2025-08-20T04:30:42.825154Z",
     "iopub.status.busy": "2025-08-20T04:30:42.824999Z",
     "iopub.status.idle": "2025-08-20T04:30:42.828022Z",
     "shell.execute_reply": "2025-08-20T04:30:42.827634Z"
    }
   },
   "outputs": [],
   "source": [
    "def user_gate1(arg_value):\n",
    "    # controlled rotation X\n",
    "    mat = np.zeros((4, 4), dtype=complex)\n",
    "    mat[0, 0] = mat[1, 1] = 1.0\n",
    "    mat[2:4, 2:4] = rx(arg_value).full()\n",
    "    return Qobj(mat, dims=[[2, 2], [2, 2]])\n",
    "\n",
    "\n",
    "def user_gate2():\n",
    "    # S gate\n",
    "    mat = np.array([[1.0, 0], [0.0, 1.0j]])\n",
    "    return Qobj(mat, dims=[[2], [2]])"
   ]
  },
  {
   "cell_type": "markdown",
   "id": "50dac380",
   "metadata": {},
   "source": [
    "To let the `QubitCircuit` process those gates, we need to modify its attribute `QubitCircuit.user_gates`, which is a python dictionary in the form `{name: gate_function}`."
   ]
  },
  {
   "cell_type": "code",
   "execution_count": 58,
   "id": "1c5cc7ed",
   "metadata": {
    "execution": {
     "iopub.execute_input": "2025-08-20T04:30:42.829318Z",
     "iopub.status.busy": "2025-08-20T04:30:42.829153Z",
     "iopub.status.idle": "2025-08-20T04:30:42.831586Z",
     "shell.execute_reply": "2025-08-20T04:30:42.831060Z"
    }
   },
   "outputs": [],
   "source": [
    "qc = QubitCircuit(2)\n",
    "qc.user_gates = {\"CTRLRX\": user_gate1, \"S\": user_gate2}"
   ]
  },
  {
   "cell_type": "markdown",
   "id": "e425a34a",
   "metadata": {},
   "source": [
    "When calling the `add_gate` method, the target qubits and the argument need to be given."
   ]
  },
  {
   "cell_type": "code",
   "execution_count": 59,
   "id": "006d0b1a",
   "metadata": {
    "execution": {
     "iopub.execute_input": "2025-08-20T04:30:42.832837Z",
     "iopub.status.busy": "2025-08-20T04:30:42.832681Z",
     "iopub.status.idle": "2025-08-20T04:30:42.836557Z",
     "shell.execute_reply": "2025-08-20T04:30:42.836055Z"
    }
   },
   "outputs": [],
   "source": [
    "# qubit 0 controls qubit 1\n",
    "qc.add_gate(\"CTRLRX\", targets=[0, 1], arg_value=pi / 2)\n",
    "# qubit 1 controls qubit 0\n",
    "qc.add_gate(\"CTRLRX\", targets=[1, 0], arg_value=pi / 2)\n",
    "# a gate can also be added using the Gate class\n",
    "g_T = Gate(\"S\", targets=[1])\n",
    "qc.add_gate(\"S\", targets=[1])\n",
    "props = qc.propagators()"
   ]
  },
  {
   "cell_type": "code",
   "execution_count": 60,
   "id": "9d7676c9",
   "metadata": {
    "execution": {
     "iopub.execute_input": "2025-08-20T04:30:42.837812Z",
     "iopub.status.busy": "2025-08-20T04:30:42.837651Z",
     "iopub.status.idle": "2025-08-20T04:30:42.841299Z",
     "shell.execute_reply": "2025-08-20T04:30:42.840883Z"
    }
   },
   "outputs": [
    {
     "data": {
      "text/latex": [
       "Quantum object: dims=[[2, 2], [2, 2]], shape=(4, 4), type='oper', dtype=Dense, isherm=False$$\\left(\\begin{array}{cc}1 & 0 & 0 & 0\\\\0 & 1 & 0 & 0\\\\0 & 0 & 0.707 & -0.707j\\\\0 & 0 & -0.707j & 0.707\\end{array}\\right)$$"
      ],
      "text/plain": [
       "Quantum object: dims=[[2, 2], [2, 2]], shape=(4, 4), type='oper', dtype=Dense, isherm=False\n",
       "Qobj data =\n",
       "[[1.        +0.j         0.        +0.j         0.        +0.j\n",
       "  0.        +0.j        ]\n",
       " [0.        +0.j         1.        +0.j         0.        +0.j\n",
       "  0.        +0.j        ]\n",
       " [0.        +0.j         0.        +0.j         0.70710678+0.j\n",
       "  0.        -0.70710678j]\n",
       " [0.        +0.j         0.        +0.j         0.        -0.70710678j\n",
       "  0.70710678+0.j        ]]"
      ]
     },
     "execution_count": 60,
     "metadata": {},
     "output_type": "execute_result"
    }
   ],
   "source": [
    "props[0]  # qubit 0 controls qubit 1"
   ]
  },
  {
   "cell_type": "code",
   "execution_count": 61,
   "id": "5be034a2",
   "metadata": {
    "execution": {
     "iopub.execute_input": "2025-08-20T04:30:42.842640Z",
     "iopub.status.busy": "2025-08-20T04:30:42.842476Z",
     "iopub.status.idle": "2025-08-20T04:30:42.845993Z",
     "shell.execute_reply": "2025-08-20T04:30:42.845514Z"
    }
   },
   "outputs": [
    {
     "data": {
      "text/latex": [
       "Quantum object: dims=[[2, 2], [2, 2]], shape=(4, 4), type='oper', dtype=Dense, isherm=False$$\\left(\\begin{array}{cc}1 & 0 & 0 & 0\\\\0 & 0.707 & 0 & -0.707j\\\\0 & 0 & 1 & 0\\\\0 & -0.707j & 0 & 0.707\\end{array}\\right)$$"
      ],
      "text/plain": [
       "Quantum object: dims=[[2, 2], [2, 2]], shape=(4, 4), type='oper', dtype=Dense, isherm=False\n",
       "Qobj data =\n",
       "[[1.        +0.j         0.        +0.j         0.        +0.j\n",
       "  0.        +0.j        ]\n",
       " [0.        +0.j         0.70710678+0.j         0.        +0.j\n",
       "  0.        -0.70710678j]\n",
       " [0.        +0.j         0.        +0.j         1.        +0.j\n",
       "  0.        +0.j        ]\n",
       " [0.        +0.j         0.        -0.70710678j 0.        +0.j\n",
       "  0.70710678+0.j        ]]"
      ]
     },
     "execution_count": 61,
     "metadata": {},
     "output_type": "execute_result"
    }
   ],
   "source": [
    "props[1]  # qubit 1 controls qubit 0"
   ]
  },
  {
   "cell_type": "code",
   "execution_count": 62,
   "id": "fe841ce0",
   "metadata": {
    "execution": {
     "iopub.execute_input": "2025-08-20T04:30:42.847346Z",
     "iopub.status.busy": "2025-08-20T04:30:42.847193Z",
     "iopub.status.idle": "2025-08-20T04:30:42.850637Z",
     "shell.execute_reply": "2025-08-20T04:30:42.850224Z"
    }
   },
   "outputs": [
    {
     "data": {
      "text/latex": [
       "Quantum object: dims=[[2, 2], [2, 2]], shape=(4, 4), type='oper', dtype=CSR, isherm=False$$\\left(\\begin{array}{cc}1 & 0 & 0 & 0\\\\0 & 1j & 0 & 0\\\\0 & 0 & 1 & 0\\\\0 & 0 & 0 & 1j\\end{array}\\right)$$"
      ],
      "text/plain": [
       "Quantum object: dims=[[2, 2], [2, 2]], shape=(4, 4), type='oper', dtype=CSR, isherm=False\n",
       "Qobj data =\n",
       "[[1.+0.j 0.+0.j 0.+0.j 0.+0.j]\n",
       " [0.+0.j 0.+1.j 0.+0.j 0.+0.j]\n",
       " [0.+0.j 0.+0.j 1.+0.j 0.+0.j]\n",
       " [0.+0.j 0.+0.j 0.+0.j 0.+1.j]]"
      ]
     },
     "execution_count": 62,
     "metadata": {},
     "output_type": "execute_result"
    }
   ],
   "source": [
    "props[2]  # S  gate acts on qubit 1"
   ]
  },
  {
   "cell_type": "markdown",
   "id": "e8a73f58",
   "metadata": {},
   "source": [
    "## Software versions"
   ]
  },
  {
   "cell_type": "code",
   "execution_count": 63,
   "id": "2fff54e2",
   "metadata": {
    "execution": {
     "iopub.execute_input": "2025-08-20T04:30:42.851938Z",
     "iopub.status.busy": "2025-08-20T04:30:42.851787Z",
     "iopub.status.idle": "2025-08-20T04:30:43.461729Z",
     "shell.execute_reply": "2025-08-20T04:30:43.461162Z"
    }
   },
   "outputs": [
    {
     "name": "stdout",
     "output_type": "stream",
     "text": [
      "\n",
      "QuTiP: Quantum Toolbox in Python\n",
      "================================\n",
      "Copyright (c) QuTiP team 2011 and later.\n",
      "Current admin team: Alexander Pitchford, Nathan Shammah, Shahnawaz Ahmed, Neill Lambert, Eric Giguère, Boxi Li, Simon Cross, Asier Galicia, Paul Menczel, and Patrick Hopf.\n",
      "Board members: Daniel Burgarth, Robert Johansson, Anton F. Kockum, Franco Nori and Will Zeng.\n",
      "Original developers: R. J. Johansson & P. D. Nation.\n",
      "Previous lead developers: Chris Granade & A. Grimsmo.\n",
      "Currently developed through wide collaboration. See https://github.com/qutip for details.\n",
      "\n",
      "QuTiP Version:      5.3.0.dev0+d849c94\n",
      "Numpy Version:      2.3.2\n",
      "Scipy Version:      1.16.1\n",
      "Cython Version:     3.1.3\n",
      "Matplotlib Version: 3.10.5\n",
      "Python Version:     3.12.0\n",
      "Number of CPUs:     4\n",
      "BLAS Info:          Generic\n",
      "INTEL MKL Ext:      None\n",
      "Platform Info:      Linux (x86_64)\n",
      "Installation path:  /home/runner/miniconda3/envs/test-environment-v5/lib/python3.12/site-packages/qutip\n",
      "\n",
      "Installed QuTiP family packages\n",
      "-------------------------------\n",
      "\n",
      "qutip-qtrl: 0.2.0.dev0+acb71a0\n"
     ]
    },
    {
     "name": "stdout",
     "output_type": "stream",
     "text": [
      "qutip-jax: 0.1.1.dev6\n",
      "qutip-qip: 0.5.0.dev0+2db1138\n",
      "\n",
      "================================================================================\n",
      "Please cite QuTiP in your publication.\n",
      "================================================================================\n",
      "For your convenience a bibtex reference can be easily generated using `qutip.cite()`\n"
     ]
    }
   ],
   "source": [
    "about()"
   ]
  }
 ],
 "metadata": {
  "jupytext": {
   "cell_metadata_filter": "-all",
   "notebook_metadata_filter": "-jupytext.cell_metadata_filter,-jupytext.notebook_metadata_filter"
  },
  "kernelspec": {
   "display_name": "qutip-dev",
   "language": "python",
   "name": "python3"
  },
  "language_info": {
   "codemirror_mode": {
    "name": "ipython",
    "version": 3
   },
   "file_extension": ".py",
   "mimetype": "text/x-python",
   "name": "python",
   "nbconvert_exporter": "python",
   "pygments_lexer": "ipython3",
   "version": "3.12.0"
  }
 },
 "nbformat": 4,
 "nbformat_minor": 5
}
