{
 "cells": [
  {
   "cell_type": "markdown",
   "id": "e96de162",
   "metadata": {},
   "source": [
    "# QuTiPv5 Paper Example: QuTiP-JAX with mesolve and auto-differnetiation\n",
    "\n",
    "Authors: Maximilian Meyer-Mölleringhof (m.meyermoelleringhof@gmail.com), Rochisha Agarwal (rochisha.agarwal2302@gmail.com), Neill Lambert (nwlambert@gmail.com)\n",
    "\n",
    "For many years now, GPUs have been a fundamental tool for accelerating numerical tasks.\n",
    "Today, many libraries enable off-the-shelf methods to leverage GPUs' potential to speed up costly calculations.\n",
    "QuTiP’s flexible data layer can directly be used with many such libraries and thereby drastically reduce computation time.\n",
    "Despite a big variety of frameworks, in connection to QuTiP, development has centered on the QuTiP-JAX integration [\\[1\\]](#References) due to JAX's robust auto-differentiation features and widespread adoption in machine learning.\n",
    "\n",
    "In these examples we illustrate how JAX naturally integrates into QuTiP v5 [\\[2\\]](#References) using the QuTiP-JAX package.\n",
    "As a simple first example, we look at a one-dimensional spin chain and how we might employ `mesolve()` and JAX to solve the related master equation.\n",
    "In the second part, we focus on the auto-differentiation capabilities.\n",
    "For this we first consider the counting statistics of an open quantum system connected to an environment.\n",
    "Lastly, we look at a driven qubit system and computing the gradient of its state population in respect to the drive's frequency using `mcsolve()`.\n",
    "\n",
    "## Introduction\n",
    "\n",
    "In addition to the standard QuTiP package, in order to use QuTiP-JAX, the JAX package needs to be installed.\n",
    "This package also comes with `jax.numpy` which mirrors all of `numpy`s functionality for seamless integration with JAX."
   ]
  },
  {
   "cell_type": "code",
   "execution_count": 1,
   "id": "ce310d5e",
   "metadata": {
    "execution": {
     "iopub.execute_input": "2025-08-20T04:36:46.272049Z",
     "iopub.status.busy": "2025-08-20T04:36:46.271883Z",
     "iopub.status.idle": "2025-08-20T04:36:47.572510Z",
     "shell.execute_reply": "2025-08-20T04:36:47.571905Z"
    }
   },
   "outputs": [],
   "source": [
    "import jax.numpy as jnp\n",
    "import matplotlib.pyplot as plt\n",
    "import qutip_jax as qj\n",
    "from diffrax import PIDController, Tsit5\n",
    "from jax import default_device, devices, grad, jacfwd, jacrev, jit\n",
    "from qutip import (CoreOptions, about, basis, destroy, lindblad_dissipator,\n",
    "                   liouvillian, mcsolve, mesolve, projection, qeye, settings,\n",
    "                   sigmam, sigmax, sigmay, sigmaz, spost, spre, sprepost,\n",
    "                   steadystate, tensor)\n",
    "\n",
    "%matplotlib inline"
   ]
  },
  {
   "cell_type": "markdown",
   "id": "9648ca1f",
   "metadata": {},
   "source": [
    "An immediate effect of importing `qutip_jax` is the availability of the data layer formats `jax` and `jax_dia`.\n",
    "They allow for dense (`jax`) and custom sparse (`jax_dia`) formats."
   ]
  },
  {
   "cell_type": "code",
   "execution_count": 2,
   "id": "237e3e8f",
   "metadata": {
    "execution": {
     "iopub.execute_input": "2025-08-20T04:36:47.574586Z",
     "iopub.status.busy": "2025-08-20T04:36:47.574282Z",
     "iopub.status.idle": "2025-08-20T04:36:47.707033Z",
     "shell.execute_reply": "2025-08-20T04:36:47.706467Z"
    }
   },
   "outputs": [
    {
     "name": "stdout",
     "output_type": "stream",
     "text": [
      "JaxArray\n",
      "JaxDia\n"
     ]
    }
   ],
   "source": [
    "print(qeye(3, dtype=\"jax\").dtype.__name__)\n",
    "print(qeye(3, dtype=\"jaxdia\").dtype.__name__)"
   ]
  },
  {
   "cell_type": "markdown",
   "id": "14d4a067",
   "metadata": {},
   "source": [
    "In order to use the JAX data layer also within the master equation solver, there are two settings we can choose.\n",
    "First, is simply adding `method: diffrax` to the options parameter of the solver.\n",
    "Second, is to use the `qutip_jax.set_as_default()` method.\n",
    "It automatically switches all data data types to JAX compatible versions and sets the default solver method to `diffrax`."
   ]
  },
  {
   "cell_type": "code",
   "execution_count": 3,
   "id": "ec73cb67",
   "metadata": {
    "execution": {
     "iopub.execute_input": "2025-08-20T04:36:47.708734Z",
     "iopub.status.busy": "2025-08-20T04:36:47.708545Z",
     "iopub.status.idle": "2025-08-20T04:36:47.727844Z",
     "shell.execute_reply": "2025-08-20T04:36:47.727244Z"
    }
   },
   "outputs": [],
   "source": [
    "qj.set_as_default()"
   ]
  },
  {
   "cell_type": "markdown",
   "id": "6956609b",
   "metadata": {},
   "source": [
    "To revert this setting, we can set the function parameter `revert = True`."
   ]
  },
  {
   "cell_type": "code",
   "execution_count": 4,
   "id": "52b229f5",
   "metadata": {
    "execution": {
     "iopub.execute_input": "2025-08-20T04:36:47.729332Z",
     "iopub.status.busy": "2025-08-20T04:36:47.729141Z",
     "iopub.status.idle": "2025-08-20T04:36:47.731622Z",
     "shell.execute_reply": "2025-08-20T04:36:47.731095Z"
    }
   },
   "outputs": [],
   "source": [
    "# qj.set_as_default(revert = True)"
   ]
  },
  {
   "cell_type": "markdown",
   "id": "89d2269a",
   "metadata": {},
   "source": [
    "## Using the GPU with JAX and Diffrax - 1D Ising Spin Chain\n",
    "\n",
    "Before diving into the example, it is worth noting here that GPU acceleration depends heavily on the type of problem.\n",
    "GPUs are good at parallelizing many small matrix-vector operations, such as integrating small systems across multiple parameters or simulating quantum circuits with repeated small matrix operations.\n",
    "For a single ODE involving large matrices, the advantages are less straightforward since ODE solvers are inherently sequential.\n",
    "However, as it is illustrated in the QuTiP v5 paper [\\[2\\]](#References), there is a cross-over point at which using JAX becomes beneficial.\n",
    "\n",
    "### 1D Ising Spin Chain\n",
    "\n",
    "To illustrate the usage of QuTiP-JAX, we look at the one-dimensional spin chain with the Hamiltonian\n",
    "\n",
    "$H = \\sum_{i=1}^N g_0 \\sigma_z^{(n)} - \\sum_{n=1}^{N-1} J_0 \\sigma_x^{(n)} \\sigma_x^{(n+1)}$.\n",
    "\n",
    "We hereby consider $N$ spins that share an energy splitting of $g_0$ and have a coupling strength $J_0$.\n",
    "The end of the chain connects to an environment described by a Lindbladian dissipator which we model with the collapse operator $\\sigma_x^{(N-1)}$ and coupling rate $\\gamma$.\n",
    "\n",
    "As part of the [QuTiPv5 paper](#References), we see an extensive study on the computation time depending on the dimensionality $N$.\n",
    "In this example we cannot replicate the performance of a supercomputer of course, so we rather focus on the correct implementation to solve the Lindblad equation for this system using JAX and `mesolve()`."
   ]
  },
  {
   "cell_type": "code",
   "execution_count": 5,
   "id": "25b983f0",
   "metadata": {
    "execution": {
     "iopub.execute_input": "2025-08-20T04:36:47.733034Z",
     "iopub.status.busy": "2025-08-20T04:36:47.732866Z",
     "iopub.status.idle": "2025-08-20T04:36:47.762072Z",
     "shell.execute_reply": "2025-08-20T04:36:47.761502Z"
    }
   },
   "outputs": [],
   "source": [
    "# system parameters\n",
    "N = 4  # number of spins\n",
    "g0 = 1  # energy splitting\n",
    "J0 = 1.4  # coupling strength\n",
    "gamma = 0.1  # dissipation rate\n",
    "\n",
    "# simulation parameters\n",
    "tlist = jnp.linspace(0, 5, 100)\n",
    "opt = {\n",
    "    \"normalize_output\": False,\n",
    "    \"store_states\": True,\n",
    "    \"method\": \"diffrax\",\n",
    "    \"stepsize_controller\": PIDController(\n",
    "        rtol=settings.core[\"rtol\"], atol=settings.core[\"atol\"]\n",
    "    ),\n",
    "    \"solver\": Tsit5(),\n",
    "}"
   ]
  },
  {
   "cell_type": "code",
   "execution_count": 6,
   "id": "e4966803",
   "metadata": {
    "execution": {
     "iopub.execute_input": "2025-08-20T04:36:47.763860Z",
     "iopub.status.busy": "2025-08-20T04:36:47.763682Z",
     "iopub.status.idle": "2025-08-20T04:36:52.465006Z",
     "shell.execute_reply": "2025-08-20T04:36:52.464529Z"
    }
   },
   "outputs": [
    {
     "name": "stderr",
     "output_type": "stream",
     "text": [
      "/home/runner/miniconda3/envs/test-environment-v5/lib/python3.12/site-packages/equinox/_jit.py:55: UserWarning: Complex dtype support in Diffrax is a work in progress and may not yet produce correct results. Consider splitting your computation into real and imaginary parts instead.\n",
      "  out = fun(*args, **kwargs)\n"
     ]
    }
   ],
   "source": [
    "with CoreOptions(default_dtype=\"jaxdia\"):\n",
    "    # Operators for individual qubits\n",
    "    sx_list, sy_list, sz_list = [], [], []\n",
    "    for i in range(N):\n",
    "        op_list = [qeye(2)] * N\n",
    "        op_list[i] = sigmax()\n",
    "        sx_list.append(tensor(op_list))\n",
    "        op_list[i] = sigmay()\n",
    "        sy_list.append(tensor(op_list))\n",
    "        op_list[i] = sigmaz()\n",
    "        sz_list.append(tensor(op_list))\n",
    "\n",
    "    # Hamiltonian - Energy splitting terms\n",
    "    H = 0.0\n",
    "    for i in range(N):\n",
    "        H += g0 * sz_list[i]\n",
    "\n",
    "    # Interaction terms\n",
    "    for n in range(N - 1):\n",
    "        H += -J0 * sx_list[n] * sx_list[n + 1]\n",
    "\n",
    "    # Collapse operator acting locally on single spin\n",
    "    c_ops = [gamma * sx_list[N - 1]]\n",
    "\n",
    "    # Initial state\n",
    "    state_list = [basis(2, 1)] * (N - 1)\n",
    "    state_list.append(basis(2, 0))\n",
    "    psi0 = tensor(state_list)\n",
    "\n",
    "    result = mesolve(H, psi0, tlist, c_ops, e_ops=sz_list, options=opt)"
   ]
  },
  {
   "cell_type": "code",
   "execution_count": 7,
   "id": "9a3ad989",
   "metadata": {
    "execution": {
     "iopub.execute_input": "2025-08-20T04:36:52.466661Z",
     "iopub.status.busy": "2025-08-20T04:36:52.466484Z",
     "iopub.status.idle": "2025-08-20T04:36:52.703699Z",
     "shell.execute_reply": "2025-08-20T04:36:52.703139Z"
    }
   },
   "outputs": [
    {
     "data": {
      "image/png": "[encoded data removed]",
      "text/plain": [
       "<Figure size 640x480 with 1 Axes>"
      ]
     },
     "metadata": {},
     "output_type": "display_data"
    }
   ],
   "source": [
    "for i, s in enumerate(result.expect):\n",
    "    plt.plot(tlist, s, label=rf\"$n = {i+1}$\")\n",
    "plt.xlabel(\"Time\")\n",
    "plt.ylabel(r\"$\\langle \\sigma^{(n)}_z \\rangle$\")\n",
    "plt.legend()\n",
    "plt.show()"
   ]
  },
  {
   "cell_type": "markdown",
   "id": "7b68605a",
   "metadata": {},
   "source": [
    "## Auto-Differentiation\n",
    "\n",
    "We have seen in the previous example how the new JAX data-layer in QuTiP works.\n",
    "On top of that, JAX adds the features of auto-differentiation.\n",
    "To compute derivatives, it is often numerical approximations (e.g., finite difference method) that need to be employed.\n",
    "Especially for higher order derivatives, these methods can turn into costly and inaccurate calculations.\n",
    "\n",
    "Auto-differentiation, on the other hand, exploits the chain rule to compute such derivatives.\n",
    "The idea is that any numerical function can be expressed by elementary analytical functions and operations.\n",
    "Consequently, using the chain rule, the derivatives of almost any higher-level function become accessible.\n",
    "\n",
    "Although there are many applications for this technique, in this chapter we want to focus on two examples where auto-differentiation becomes relevant.\n",
    "\n",
    "### Statistics of Excitations between Quantum System and Environment\n",
    "\n",
    "We consider an open quantum system that is in contact with an evironment via a single jump operator.\n",
    "Additionally, we have a measurement device that tracks the flow of excitations between the system and the environment.\n",
    "The probability distribution that describes the number of such exchanged excitations $n$ in a certain time $t$ is called the full counting statistics and denoted by $P_n(t)$.\n",
    "This statistics is a defining property that allows to derive many experimental observables like shot noise or current.\n",
    "\n",
    "For the example here, we can calculate this statistics by using a modified version of the density operator and Lindblad master equation.\n",
    "We introduce the *tilted* density operator $G(z,t) = \\sum_n e^{zn} \\rho^n (t)$ with $\\rho^n(t)$ being the density operator of the system conditioned on $n$ exchanges by time $t$, so $\\text{Tr}[\\rho^n(t)] = P_n(t)$.\n",
    "The master equation for this operator, including the jump operator $C$, is then given as\n",
    "\n",
    "$\\dot{G}(z,t) = -\\dfrac{i}{\\hbar} [H(t), G(z,t)] + \\dfrac{1}{2} [2 e^z C \\rho(t)C^\\dagger - \\rho C^\\dagger C - C^\\dagger C \\rho(t)]$.\n",
    "\n",
    "We see that for $z = 0$, this master equation becomes the regular Lindblad equation and $G(0,t) = \\rho(t)$.\n",
    "However, it also allows us to describe the counting statistics through its derivatives\n",
    "\n",
    "$\\langle n^m \\rangle (t) = \\sum_n n^m \\text{Tr} [\\rho^n (t)] = \\dfrac{d^m}{dz^m} \\text{Tr} [G(z,t)]|_{z=0}$.\n",
    "\n",
    "These derivatives are precisely where the auto-differention by JAX finds its application for us."
   ]
  },
  {
   "cell_type": "code",
   "execution_count": 8,
   "id": "7d2327ad",
   "metadata": {
    "execution": {
     "iopub.execute_input": "2025-08-20T04:36:52.705170Z",
     "iopub.status.busy": "2025-08-20T04:36:52.705017Z",
     "iopub.status.idle": "2025-08-20T04:36:52.708040Z",
     "shell.execute_reply": "2025-08-20T04:36:52.707567Z"
    }
   },
   "outputs": [],
   "source": [
    "# system parameters\n",
    "ed = 1\n",
    "GammaL = 1\n",
    "GammaR = 1\n",
    "\n",
    "# simulation parameters\n",
    "options = {\n",
    "    \"method\": \"diffrax\",\n",
    "    \"normalize_output\": False,\n",
    "    \"stepsize_controller\": PIDController(rtol=1e-7, atol=1e-7),\n",
    "    \"solver\": Tsit5(scan_kind=\"bounded\"),\n",
    "    \"progress_bar\": False,\n",
    "}"
   ]
  },
  {
   "cell_type": "markdown",
   "id": "dfa1961a",
   "metadata": {},
   "source": [
    "When working with JAX you can choose the type of device / processor to be used.\n",
    "In our case, we will resort to the CPU since this is a simple Jupyter Notebook.\n",
    "However, when running this on your machine, you can opt for using your GPU by simpy changing the argument below."
   ]
  },
  {
   "cell_type": "code",
   "execution_count": 9,
   "id": "9e0cce5f",
   "metadata": {
    "execution": {
     "iopub.execute_input": "2025-08-20T04:36:52.709377Z",
     "iopub.status.busy": "2025-08-20T04:36:52.709229Z",
     "iopub.status.idle": "2025-08-20T04:36:53.876918Z",
     "shell.execute_reply": "2025-08-20T04:36:53.876431Z"
    }
   },
   "outputs": [],
   "source": [
    "with default_device(devices(\"cpu\")[0]):\n",
    "    with CoreOptions(default_dtype=\"jaxdia\"):\n",
    "        d = destroy(2)\n",
    "        H = ed * d.dag() * d\n",
    "        c_op_L = jnp.sqrt(GammaL) * d.dag()\n",
    "        c_op_R = jnp.sqrt(GammaR) * d\n",
    "\n",
    "        L0 = (\n",
    "            liouvillian(H)\n",
    "            + lindblad_dissipator(c_op_L)\n",
    "            - 0.5 * spre(c_op_R.dag() * c_op_R)\n",
    "            - 0.5 * spost(c_op_R.dag() * c_op_R)\n",
    "        )\n",
    "        L1 = sprepost(c_op_R, c_op_R.dag())\n",
    "\n",
    "        rho0 = steadystate(L0 + L1)\n",
    "\n",
    "        def rhoz(t, z):\n",
    "            L = L0 + jnp.exp(z) * L1  # jump term\n",
    "            tlist = jnp.linspace(0, t, 50)\n",
    "            result = mesolve(L, rho0, tlist, options=options)\n",
    "            return result.final_state.tr()\n",
    "\n",
    "        # first derivative\n",
    "        drhozdz = jacrev(rhoz, argnums=1)\n",
    "        # second derivative\n",
    "        d2rhozdz = jacfwd(drhozdz, argnums=1)"
   ]
  },
  {
   "cell_type": "code",
   "execution_count": 10,
   "id": "e224469e",
   "metadata": {
    "execution": {
     "iopub.execute_input": "2025-08-20T04:36:53.878627Z",
     "iopub.status.busy": "2025-08-20T04:36:53.878437Z",
     "iopub.status.idle": "2025-08-20T04:37:18.533574Z",
     "shell.execute_reply": "2025-08-20T04:37:18.533066Z"
    }
   },
   "outputs": [
    {
     "name": "stdout",
     "output_type": "stream",
     "text": [
      "===== RESULTS =====\n",
      "Analytical current 0.5\n",
      "Numerical current 0.5000000000000002\n",
      "Analytical shot noise (2nd cumulant) 0.25\n",
      "Numerical shot noise (2nd cumulant) 0.2512499999999909\n"
     ]
    }
   ],
   "source": [
    "tf = 100\n",
    "Itest = GammaL * GammaR / (GammaL + GammaR)\n",
    "shottest = Itest * (1 - 2 * GammaL * GammaR / (GammaL + GammaR) ** 2)\n",
    "ncurr = drhozdz(tf, 0.0) / tf\n",
    "nshot = (d2rhozdz(tf, 0.0) - drhozdz(tf, 0.0) ** 2) / tf\n",
    "\n",
    "print(\"===== RESULTS =====\")\n",
    "print(\"Analytical current\", Itest)\n",
    "print(\"Numerical current\", ncurr)\n",
    "print(\"Analytical shot noise (2nd cumulant)\", shottest)\n",
    "print(\"Numerical shot noise (2nd cumulant)\", nshot)"
   ]
  },
  {
   "cell_type": "markdown",
   "id": "befd10a9",
   "metadata": {},
   "source": [
    "### Driven One Qubit System & Frequency Optimization\n",
    "\n",
    "As a second example for auto differentiation, we consider the driven Rabi model, which is given by the time-dependent Hamiltonian\n",
    "\n",
    "$H(t) = \\dfrac{\\hbar \\omega_0}{2} \\sigma_z + \\dfrac{\\hbar \\Omega}{2} \\cos (\\omega t) \\sigma_x$\n",
    "\n",
    "with the energy splitting $\\omega_0$, $\\Omega$ as the Rabi frequency, the drive frequency $\\omega$ and $\\sigma_{x/z}$ are Pauli matrices.\n",
    "When we add dissipation to the system, the dynamics is given by the Lindblad master equation, which introduces collapse operator $C = \\sqrt{\\gamma} \\sigma_-$ to describe energy relaxation.\n",
    "\n",
    "For this example, we are interested in the population of the excited state of the qubit\n",
    "\n",
    "$P_e(t) = \\bra{e} \\rho(t) \\ket{e}$\n",
    "\n",
    "and its gradient with respect to the frequency $\\omega$.\n",
    "\n",
    "We want to optimize this quantity by adjusting the drive frequency $\\omega$.\n",
    "To achieve this, we compute the gradient of $P_e(t)$ in respect to $\\omega$ by using JAX's auto-differentiation tools and QuTiP's `mcsolve()`."
   ]
  },
  {
   "cell_type": "code",
   "execution_count": 11,
   "id": "7b12e5d2",
   "metadata": {
    "execution": {
     "iopub.execute_input": "2025-08-20T04:37:18.535030Z",
     "iopub.status.busy": "2025-08-20T04:37:18.534867Z",
     "iopub.status.idle": "2025-08-20T04:37:18.537061Z",
     "shell.execute_reply": "2025-08-20T04:37:18.536670Z"
    }
   },
   "outputs": [],
   "source": [
    "# system parameters\n",
    "gamma = 0.1  # dissipation rate"
   ]
  },
  {
   "cell_type": "code",
   "execution_count": 12,
   "id": "5aa6e59d",
   "metadata": {
    "execution": {
     "iopub.execute_input": "2025-08-20T04:37:18.538337Z",
     "iopub.status.busy": "2025-08-20T04:37:18.538192Z",
     "iopub.status.idle": "2025-08-20T04:37:18.540868Z",
     "shell.execute_reply": "2025-08-20T04:37:18.540499Z"
    }
   },
   "outputs": [],
   "source": [
    "# time dependent drive\n",
    "@jit\n",
    "def driving_coeff(t, omega):\n",
    "    return jnp.cos(omega * t)\n",
    "\n",
    "\n",
    "# system Hamiltonian\n",
    "def setup_system():\n",
    "    H_0 = sigmaz()\n",
    "    H_1 = sigmax()\n",
    "    H = [H_0, [H_1, driving_coeff]]\n",
    "    return H"
   ]
  },
  {
   "cell_type": "code",
   "execution_count": 13,
   "id": "c8bcb1b0",
   "metadata": {
    "execution": {
     "iopub.execute_input": "2025-08-20T04:37:18.542176Z",
     "iopub.status.busy": "2025-08-20T04:37:18.542027Z",
     "iopub.status.idle": "2025-08-20T04:37:18.653978Z",
     "shell.execute_reply": "2025-08-20T04:37:18.653534Z"
    }
   },
   "outputs": [],
   "source": [
    "# simulation parameters\n",
    "psi0 = basis(2, 0)\n",
    "tlist = jnp.linspace(0.0, 10.0, 100)\n",
    "c_ops = [jnp.sqrt(gamma) * sigmam()]\n",
    "e_ops = [projection(2, 1, 1)]"
   ]
  },
  {
   "cell_type": "code",
   "execution_count": 14,
   "id": "faadeaf1",
   "metadata": {
    "execution": {
     "iopub.execute_input": "2025-08-20T04:37:18.655677Z",
     "iopub.status.busy": "2025-08-20T04:37:18.655509Z",
     "iopub.status.idle": "2025-08-20T04:37:18.658289Z",
     "shell.execute_reply": "2025-08-20T04:37:18.657875Z"
    }
   },
   "outputs": [],
   "source": [
    "# Objective function: returns final exc. state population\n",
    "def f(omega):\n",
    "    H = setup_system()\n",
    "    arg = {\"omega\": omega}\n",
    "    result = mcsolve(H, psi0, tlist, c_ops, e_ops=e_ops, ntraj=100, args=arg)\n",
    "    return result.expect[0][-1]"
   ]
  },
  {
   "cell_type": "code",
   "execution_count": 15,
   "id": "43a83ea9",
   "metadata": {
    "execution": {
     "iopub.execute_input": "2025-08-20T04:37:18.659612Z",
     "iopub.status.busy": "2025-08-20T04:37:18.659450Z",
     "iopub.status.idle": "2025-08-20T04:39:39.316960Z",
     "shell.execute_reply": "2025-08-20T04:39:39.316329Z"
    }
   },
   "outputs": [
    {
     "name": "stdout",
     "output_type": "stream",
     "text": [
      "10.0%. Run time:  14.03s. Est. time left: 00:00:02:06\n"
     ]
    },
    {
     "name": "stdout",
     "output_type": "stream",
     "text": [
      "20.0%. Run time:  23.94s. Est. time left: 00:00:01:35\n"
     ]
    },
    {
     "name": "stdout",
     "output_type": "stream",
     "text": [
      "30.0%. Run time:  32.89s. Est. time left: 00:00:01:16\n"
     ]
    },
    {
     "name": "stdout",
     "output_type": "stream",
     "text": [
      "40.0%. Run time:  40.79s. Est. time left: 00:00:01:01\n"
     ]
    },
    {
     "name": "stdout",
     "output_type": "stream",
     "text": [
      "50.0%. Run time:  49.85s. Est. time left: 00:00:00:49\n"
     ]
    },
    {
     "name": "stdout",
     "output_type": "stream",
     "text": [
      "60.0%. Run time:  58.69s. Est. time left: 00:00:00:39\n"
     ]
    },
    {
     "name": "stdout",
     "output_type": "stream",
     "text": [
      "70.0%. Run time:  69.80s. Est. time left: 00:00:00:29\n"
     ]
    },
    {
     "name": "stdout",
     "output_type": "stream",
     "text": [
      "80.0%. Run time:  78.10s. Est. time left: 00:00:00:19\n"
     ]
    },
    {
     "name": "stdout",
     "output_type": "stream",
     "text": [
      "90.0%. Run time:  87.94s. Est. time left: 00:00:00:09\n"
     ]
    },
    {
     "name": "stdout",
     "output_type": "stream",
     "text": [
      "100.0%. Run time:  95.94s. Est. time left: 00:00:00:00\n"
     ]
    },
    {
     "name": "stdout",
     "output_type": "stream",
     "text": [
      "Total run time:  96.74s\n"
     ]
    }
   ],
   "source": [
    "# Gradient of the excited state population with respect to omega\n",
    "grad_f = grad(f)(2.0)"
   ]
  },
  {
   "cell_type": "code",
   "execution_count": 16,
   "id": "228bca13",
   "metadata": {
    "execution": {
     "iopub.execute_input": "2025-08-20T04:39:39.319044Z",
     "iopub.status.busy": "2025-08-20T04:39:39.318886Z",
     "iopub.status.idle": "2025-08-20T04:39:39.338597Z",
     "shell.execute_reply": "2025-08-20T04:39:39.338187Z"
    }
   },
   "outputs": [
    {
     "name": "stdout",
     "output_type": "stream",
     "text": [
      "0.916966939661755\n"
     ]
    }
   ],
   "source": [
    "print(grad_f)"
   ]
  },
  {
   "cell_type": "markdown",
   "id": "b9ac2264",
   "metadata": {},
   "source": [
    "## References\n",
    "\n"
   ]
  },
  {
   "cell_type": "markdown",
   "id": "da8a3839",
   "metadata": {},
   "source": [
    "[1] [QuTiP-JAX](https://github.com/qutip/qutip-jax)\n",
    "\n",
    "[2] [QuTiP 5: The Quantum Toolbox in Python](https://arxiv.org/abs/2412.04705)"
   ]
  },
  {
   "cell_type": "markdown",
   "id": "9aa7a6a7",
   "metadata": {},
   "source": [
    "## About"
   ]
  },
  {
   "cell_type": "code",
   "execution_count": 17,
   "id": "7b1878c4",
   "metadata": {
    "execution": {
     "iopub.execute_input": "2025-08-20T04:39:39.340989Z",
     "iopub.status.busy": "2025-08-20T04:39:39.340821Z",
     "iopub.status.idle": "2025-08-20T04:39:39.518145Z",
     "shell.execute_reply": "2025-08-20T04:39:39.517615Z"
    }
   },
   "outputs": [
    {
     "name": "stdout",
     "output_type": "stream",
     "text": [
      "\n",
      "QuTiP: Quantum Toolbox in Python\n",
      "================================\n",
      "Copyright (c) QuTiP team 2011 and later.\n",
      "Current admin team: Alexander Pitchford, Nathan Shammah, Shahnawaz Ahmed, Neill Lambert, Eric Giguère, Boxi Li, Simon Cross, Asier Galicia, Paul Menczel, and Patrick Hopf.\n",
      "Board members: Daniel Burgarth, Robert Johansson, Anton F. Kockum, Franco Nori and Will Zeng.\n",
      "Original developers: R. J. Johansson & P. D. Nation.\n",
      "Previous lead developers: Chris Granade & A. Grimsmo.\n",
      "Currently developed through wide collaboration. See https://github.com/qutip for details.\n",
      "\n",
      "QuTiP Version:      5.3.0.dev0+d849c94\n",
      "Numpy Version:      2.3.2\n",
      "Scipy Version:      1.16.1\n",
      "Cython Version:     3.1.3\n",
      "Matplotlib Version: 3.10.5\n",
      "Python Version:     3.12.0\n",
      "Number of CPUs:     4\n",
      "BLAS Info:          Generic\n",
      "INTEL MKL Ext:      None\n",
      "Platform Info:      Linux (x86_64)\n",
      "Installation path:  /home/runner/miniconda3/envs/test-environment-v5/lib/python3.12/site-packages/qutip\n",
      "\n",
      "Installed QuTiP family packages\n",
      "-------------------------------\n",
      "\n",
      "qutip-qtrl: 0.2.0.dev0+acb71a0\n",
      "qutip-jax: 0.1.1.dev6\n",
      "qutip-qip: 0.5.0.dev0+2db1138\n",
      "\n",
      "================================================================================\n",
      "Please cite QuTiP in your publication.\n",
      "================================================================================\n",
      "For your convenience a bibtex reference can be easily generated using `qutip.cite()`\n"
     ]
    }
   ],
   "source": [
    "about()"
   ]
  },
  {
   "cell_type": "markdown",
   "id": "c0713713",
   "metadata": {},
   "source": [
    "## Testing"
   ]
  },
  {
   "cell_type": "code",
   "execution_count": 18,
   "id": "f0340612",
   "metadata": {
    "execution": {
     "iopub.execute_input": "2025-08-20T04:39:39.519594Z",
     "iopub.status.busy": "2025-08-20T04:39:39.519429Z",
     "iopub.status.idle": "2025-08-20T04:39:39.547121Z",
     "shell.execute_reply": "2025-08-20T04:39:39.546691Z"
    }
   },
   "outputs": [],
   "source": [
    "assert jnp.isclose(Itest, ncurr, rtol=1e-5), \"Current calc. deviates\"\n",
    "assert jnp.isclose(shottest, nshot, rtol=1e-1), \"Shot noise calc. deviates.\""
   ]
  }
 ],
 "metadata": {
  "jupytext": {
   "cell_metadata_filter": "-all",
   "notebook_metadata_filter": "-jupytext.cell_metadata_filter,-jupytext.notebook_metadata_filter"
  },
  "kernelspec": {
   "display_name": "Python 3 (ipykernel)",
   "language": "python",
   "name": "python3"
  },
  "language_info": {
   "codemirror_mode": {
    "name": "ipython",
    "version": 3
   },
   "file_extension": ".py",
   "mimetype": "text/x-python",
   "name": "python",
   "nbconvert_exporter": "python",
   "pygments_lexer": "ipython3",
   "version": "3.12.0"
  }
 },
 "nbformat": 4,
 "nbformat_minor": 5
}
