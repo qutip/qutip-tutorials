{
 "cells": [
  {
   "cell_type": "markdown",
   "id": "333061ae",
   "metadata": {},
   "source": [
    "# qutip-jax JAX backend for qutip\n",
    "\n",
    "JAX is a numpy like library that can run on a CPU, GPU and TPU and supports automatic differentiation.\n",
    "qutip-jax allows JAX array to be used to store `Qobj`'s data allowing qutip to run on GPU.\n",
    "\n",
    "This backend will work with all qutip functions, but some may convert data to other format without warning. For example using scipy ODE will convert the state to a numpy array.\n",
    "\n",
    "Support for `jit` and `grad` with qutip's functions is experimental. When using the right options, it is possible to run `mesolve` and `sesolve` on GPU with both compilation and auto-differentiation working. Many `Qobj` operations are also supported."
   ]
  },
  {
   "cell_type": "code",
   "execution_count": 1,
   "id": "85539c88",
   "metadata": {
    "execution": {
     "iopub.execute_input": "2025-08-20T04:39:42.399182Z",
     "iopub.status.busy": "2025-08-20T04:39:42.398986Z",
     "iopub.status.idle": "2025-08-20T04:39:43.612224Z",
     "shell.execute_reply": "2025-08-20T04:39:43.611617Z"
    }
   },
   "outputs": [],
   "source": [
    "import jax\n",
    "import qutip\n",
    "import qutip_jax  # noqa: F401"
   ]
  },
  {
   "cell_type": "markdown",
   "id": "16117d34",
   "metadata": {},
   "source": [
    "The JAX backend is activated by importing the `qutip_jax` module. \n",
    "Then the formats `jax` and `jaxdia` are added to know qutip data types.\n",
    "- `\"jax\"` stores the data as a dense Jax Array.\n",
    "- `\"jaxdia\"` represents sparse arrays in DIAgonal format."
   ]
  },
  {
   "cell_type": "code",
   "execution_count": 2,
   "id": "cd0cdfb6",
   "metadata": {
    "execution": {
     "iopub.execute_input": "2025-08-20T04:39:43.614221Z",
     "iopub.status.busy": "2025-08-20T04:39:43.613947Z",
     "iopub.status.idle": "2025-08-20T04:39:43.730433Z",
     "shell.execute_reply": "2025-08-20T04:39:43.729697Z"
    }
   },
   "outputs": [
    {
     "data": {
      "text/plain": [
       "Array([[1.+0.j, 0.+0.j, 0.+0.j],\n",
       "       [0.+0.j, 1.+0.j, 0.+0.j],\n",
       "       [0.+0.j, 0.+0.j, 1.+0.j]], dtype=complex128)"
      ]
     },
     "execution_count": 2,
     "metadata": {},
     "output_type": "execute_result"
    }
   ],
   "source": [
    "# Creating jax Qobj using the dtype argument\n",
    "id_jax = qutip.qeye(3, dtype=\"jax\")\n",
    "id_jax.data_as(\"JaxArray\")"
   ]
  },
  {
   "cell_type": "code",
   "execution_count": 3,
   "id": "318352b2",
   "metadata": {
    "execution": {
     "iopub.execute_input": "2025-08-20T04:39:43.731974Z",
     "iopub.status.busy": "2025-08-20T04:39:43.731760Z",
     "iopub.status.idle": "2025-08-20T04:39:44.278561Z",
     "shell.execute_reply": "2025-08-20T04:39:44.278078Z"
    }
   },
   "outputs": [
    {
     "data": {
      "text/latex": [
       "Quantum object: dims=[[2, 3], [2, 3]], shape=(6, 6), type='oper', dtype=JaxDia, isherm=False$$\\left(\\begin{array}{cc}0 & 1 & 0 & 1 & 0 & 0\\\\0 & 0 & 1.414 & 0 & 1 & 0\\\\0 & 0 & 0 & 0 & 0 & 1\\\\1 & 0 & 0 & 0 & -1 & 0\\\\0 & 1 & 0 & 0 & 0 & -1.414\\\\0 & 0 & 1 & 0 & 0 & 0\\end{array}\\right)$$"
      ],
      "text/plain": [
       "Quantum object: dims=[[2, 3], [2, 3]], shape=(6, 6), type='oper', dtype=JaxDia, isherm=False\n",
       "Qobj data =\n",
       "[[ 0.          1.          0.          1.          0.          0.        ]\n",
       " [ 0.          0.          1.41421356  0.          1.          0.        ]\n",
       " [ 0.          0.          0.         -0.          0.          1.        ]\n",
       " [ 1.          0.          0.          0.         -1.          0.        ]\n",
       " [ 0.          1.          0.          0.          0.         -1.41421356]\n",
       " [ 0.          0.          1.          0.          0.          0.        ]]"
      ]
     },
     "execution_count": 3,
     "metadata": {},
     "output_type": "execute_result"
    }
   ],
   "source": [
    "# Creating jax Qobj using a context manager\n",
    "with qutip.CoreOptions(default_dtype=\"jaxdia\"):\n",
    "    id = qutip.qeye(3)\n",
    "    a = qutip.destroy(3)\n",
    "\n",
    "# Creating jax Qobj using manual conversion\n",
    "sz = qutip.sigmaz().to(\"jaxdia\")\n",
    "sx = qutip.sigmax().to(\"jaxdia\")\n",
    "\n",
    "# Once created, most operations will conserve the data format\n",
    "op = (sz & a) + (sx & id)\n",
    "op"
   ]
  },
  {
   "cell_type": "code",
   "execution_count": 4,
   "id": "8a2e0b00",
   "metadata": {
    "execution": {
     "iopub.execute_input": "2025-08-20T04:39:44.279986Z",
     "iopub.status.busy": "2025-08-20T04:39:44.279829Z",
     "iopub.status.idle": "2025-08-20T04:39:44.323892Z",
     "shell.execute_reply": "2025-08-20T04:39:44.323444Z"
    }
   },
   "outputs": [
    {
     "data": {
      "text/plain": [
       "Array(-0.21467461-0.14428622j, dtype=complex128)"
      ]
     },
     "execution_count": 4,
     "metadata": {},
     "output_type": "execute_result"
    }
   ],
   "source": [
    "# Many functions will do operations without converting its output to numpy\n",
    "qutip.expect(op, qutip.rand_dm([2, 3], dtype=\"jax\"))"
   ]
  },
  {
   "cell_type": "markdown",
   "id": "bfe8c19f",
   "metadata": {},
   "source": [
    "`jit` can be used with most linear algebra functions:"
   ]
  },
  {
   "cell_type": "code",
   "execution_count": 5,
   "id": "fab1d8c9",
   "metadata": {
    "execution": {
     "iopub.execute_input": "2025-08-20T04:39:44.325329Z",
     "iopub.status.busy": "2025-08-20T04:39:44.325142Z",
     "iopub.status.idle": "2025-08-20T04:39:52.346063Z",
     "shell.execute_reply": "2025-08-20T04:39:52.345517Z"
    }
   },
   "outputs": [
    {
     "name": "stdout",
     "output_type": "stream",
     "text": [
      "Quantum object: dims=[[3], [3]], shape=(3, 3), type='oper', dtype=JaxArray, isherm=True\n",
      "Qobj data =\n",
      "[[ 0.        +0.j          0.        +0.j          0.        +0.j        ]\n",
      " [ 0.        +0.j          0.59646831+0.j         -0.02138352-0.31528847j]\n",
      " [ 0.        +0.j         -0.02138352+0.31528847j  1.06888957+0.j        ]]\n"
     ]
    },
    {
     "name": "stdout",
     "output_type": "stream",
     "text": [
      "74.7 μs ± 266 ns per loop (mean ± std. dev. of 7 runs, 10,000 loops each)\n"
     ]
    },
    {
     "name": "stdout",
     "output_type": "stream",
     "text": [
      "21.5 μs ± 56.1 ns per loop (mean ± std. dev. of 7 runs, 10,000 loops each)\n"
     ]
    }
   ],
   "source": [
    "op = qutip.num(3, dtype=\"jaxdia\")\n",
    "state = qutip.rand_dm(3, dtype=\"jax\")\n",
    "\n",
    "\n",
    "@jax.jit\n",
    "def f(op, state):\n",
    "    return op @ state @ op.dag()\n",
    "\n",
    "\n",
    "print(f(op, state))\n",
    "%timeit op @ state @ op.dag()\n",
    "%timeit f(op, state)"
   ]
  },
  {
   "cell_type": "markdown",
   "id": "02743c69",
   "metadata": {},
   "source": [
    "JAX can be used with `mesolve` and `sesolve` in a way that supports `jax.jit` and `jax.grad`, but specific options must be used:\n",
    "- The ODE solver from diffrax must be used instead of those provided by scipy.\n",
    "- `normalize_output` must be false\n",
    "- Coefficient for QobjEvo must be `jitted` function.\n",
    "- The isherm flag of e_ops must be pre-set.\n",
    "- The class interface must be used for `jit`\n",
    "- `e_data` must be used instead of expect for auto-differentiation.\n",
    "- All operators and states must use `jax` or `jaxdia` format."
   ]
  },
  {
   "cell_type": "code",
   "execution_count": 6,
   "id": "998dac86",
   "metadata": {
    "execution": {
     "iopub.execute_input": "2025-08-20T04:39:52.347569Z",
     "iopub.status.busy": "2025-08-20T04:39:52.347411Z",
     "iopub.status.idle": "2025-08-20T04:39:56.307437Z",
     "shell.execute_reply": "2025-08-20T04:39:56.306949Z"
    },
    "lines_to_next_cell": 2
   },
   "outputs": [
    {
     "name": "stderr",
     "output_type": "stream",
     "text": [
      "/home/runner/miniconda3/envs/test-environment-v5/lib/python3.12/site-packages/equinox/_jit.py:55: UserWarning: Complex dtype support in Diffrax is a work in progress and may not yet produce correct results. Consider splitting your computation into real and imaginary parts instead.\n",
      "  out = fun(*args, **kwargs)\n"
     ]
    },
    {
     "data": {
      "text/plain": [
       "(Array(-9.6348726, dtype=float64, weak_type=True),)"
      ]
     },
     "execution_count": 6,
     "metadata": {},
     "output_type": "execute_result"
    }
   ],
   "source": [
    "@jax.jit\n",
    "def fp(t, w):\n",
    "    return jax.numpy.exp(1j * t * w)\n",
    "\n",
    "\n",
    "@jax.jit\n",
    "def fm(t, w):\n",
    "    return jax.numpy.exp(-1j * t * w)\n",
    "\n",
    "\n",
    "@jax.jit\n",
    "def cte(t, A):\n",
    "    return A\n",
    "\n",
    "\n",
    "with qutip.CoreOptions(default_dtype=\"jax\"):\n",
    "    H = qutip.num(10)\n",
    "    c_ops = [qutip.QobjEvo([qutip.destroy(10), fm], args={\"w\": 1.0})]\n",
    "\n",
    "H.isherm  # Precomputing the `isherm` flag\n",
    "\n",
    "solver = qutip.MESolver(\n",
    "    H, c_ops, options={\"method\": \"diffrax\", \"normalize_output\": False}\n",
    ")\n",
    "\n",
    "\n",
    "def final_expect(solver, rho0, t, w):\n",
    "    result = solver.run(rho0, [0, t], args={\"w\": w}, e_ops=H)\n",
    "    return result.e_data[0][-1].real\n",
    "\n",
    "\n",
    "dfinal_expect_dt = jax.jit(\n",
    "    jax.grad(final_expect, argnums=[2]), static_argnames=[\"solver\"]\n",
    ")\n",
    "\n",
    "# TODO: use dfinal_expect_dt instead of final_expect when qutip-jax bug-fix\n",
    "# dfinal_expect_dt(solver, qutip.basis(10, 8, dtype=\"jax\"), 0.1, 1.0)\n",
    "jax.grad(final_expect, argnums=[2])(solver, qutip.basis(10, 8, dtype=\"jax\"), 0.1, 1.0)"
   ]
  },
  {
   "cell_type": "code",
   "execution_count": 7,
   "id": "b0be05e0",
   "metadata": {
    "execution": {
     "iopub.execute_input": "2025-08-20T04:39:56.308957Z",
     "iopub.status.busy": "2025-08-20T04:39:56.308791Z",
     "iopub.status.idle": "2025-08-20T04:39:56.323416Z",
     "shell.execute_reply": "2025-08-20T04:39:56.323019Z"
    },
    "lines_to_next_cell": 0
   },
   "outputs": [
    {
     "name": "stdout",
     "output_type": "stream",
     "text": [
      "\n",
      "QuTiP: Quantum Toolbox in Python\n",
      "================================\n",
      "Copyright (c) QuTiP team 2011 and later.\n",
      "Current admin team: Alexander Pitchford, Nathan Shammah, Shahnawaz Ahmed, Neill Lambert, Eric Giguère, Boxi Li, Simon Cross, Asier Galicia, Paul Menczel, and Patrick Hopf.\n",
      "Board members: Daniel Burgarth, Robert Johansson, Anton F. Kockum, Franco Nori and Will Zeng.\n",
      "Original developers: R. J. Johansson & P. D. Nation.\n",
      "Previous lead developers: Chris Granade & A. Grimsmo.\n",
      "Currently developed through wide collaboration. See https://github.com/qutip for details.\n",
      "\n",
      "QuTiP Version:      5.3.0.dev0+d849c94\n",
      "Numpy Version:      2.3.2\n",
      "Scipy Version:      1.16.1\n",
      "Cython Version:     3.1.3\n",
      "Matplotlib Version: 3.10.5\n",
      "Python Version:     3.12.0\n",
      "Number of CPUs:     4\n",
      "BLAS Info:          Generic\n",
      "INTEL MKL Ext:      None\n",
      "Platform Info:      Linux (x86_64)\n",
      "Installation path:  /home/runner/miniconda3/envs/test-environment-v5/lib/python3.12/site-packages/qutip\n",
      "\n",
      "Installed QuTiP family packages\n",
      "-------------------------------\n",
      "\n",
      "qutip-qtrl: 0.2.0.dev0+acb71a0\n",
      "qutip-jax: 0.1.1.dev6\n",
      "qutip-qip: 0.5.0.dev0+2db1138\n",
      "\n",
      "================================================================================\n",
      "Please cite QuTiP in your publication.\n",
      "================================================================================\n",
      "For your convenience a bibtex reference can be easily generated using `qutip.cite()`\n"
     ]
    }
   ],
   "source": [
    "qutip.about()"
   ]
  },
  {
   "cell_type": "markdown",
   "id": "57092b4b",
   "metadata": {},
   "source": []
  }
 ],
 "metadata": {
  "jupytext": {
   "cell_metadata_filter": "-all",
   "notebook_metadata_filter": "-jupytext.cell_metadata_filter,-jupytext.notebook_metadata_filter"
  },
  "kernelspec": {
   "display_name": "Python 3 (ipykernel)",
   "language": "python",
   "name": "python3"
  },
  "language_info": {
   "codemirror_mode": {
    "name": "ipython",
    "version": 3
   },
   "file_extension": ".py",
   "mimetype": "text/x-python",
   "name": "python",
   "nbconvert_exporter": "python",
   "pygments_lexer": "ipython3",
   "version": "3.12.0"
  }
 },
 "nbformat": 4,
 "nbformat_minor": 5
}
