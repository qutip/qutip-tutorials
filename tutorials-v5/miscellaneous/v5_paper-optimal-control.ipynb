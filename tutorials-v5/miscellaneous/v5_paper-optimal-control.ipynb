{
 "cells": [
  {
   "cell_type": "markdown",
   "id": "ca6a5293",
   "metadata": {},
   "source": [
    "# QuTiPv5 Paper Example: The Quantum Optimal Control Package\n",
    "\n",
    "Authors: Maximilian Meyer-Mölleringhof (m.meyermoelleringhof@gmail.com), Boxi Li (etamin1201@gmail.com), Neill Lambert (nwlambert@gmail.com)\n",
    "\n",
    "Quantum systems are naturally sensitive to their environment and external perturbations.\n",
    "This is great, as it allows for very precise measurements.\n",
    "However, it also makes handling errors and imprecisions a big challenge.\n",
    "In the case for quantum computing, finding the optimal parameters to achieve a desired operation is this thus an important problem.\n",
    "Optimization parameters may include amplitude, frequency, duration, bandwidth, etc. and are generally directly dependent on the considered hardware.\n",
    "\n",
    "To find these optimal control parameters, several methods have been developed.\n",
    "Here, we look at three algorithms: *gradient ascent pulse engineering* (GRAPE) [\\[3\\]](#References), *chopped random basis* (CRAB) [\\[4\\]](#References) and *gradient optimization af analytic controls* (GOAT) [\\[5\\]](#References).\n",
    "Whereas the former two have been part of the `QuTiP-QTRL` package of QuTiPv4, the latter is a new addition in version 5.\n",
    "Althogether, these algorithms are now included in the new `QuTiP-QOC` package that also adds `QuTiP-JAX` [\\[6\\]](#References) integration via the JAX optimization technique (JOPT)."
   ]
  },
  {
   "cell_type": "code",
   "execution_count": 1,
   "id": "929236ee",
   "metadata": {
    "execution": {
     "iopub.execute_input": "2025-08-20T04:40:08.678556Z",
     "iopub.status.busy": "2025-08-20T04:40:08.678321Z",
     "iopub.status.idle": "2025-08-20T04:40:10.570221Z",
     "shell.execute_reply": "2025-08-20T04:40:10.569664Z"
    }
   },
   "outputs": [],
   "source": [
    "import matplotlib.pyplot as plt\n",
    "import numpy as np\n",
    "from jax import jit, numpy\n",
    "from qutip import (about, gates, liouvillian, qeye, sigmam, sigmax, sigmay,\n",
    "                   sigmaz)\n",
    "from qutip_qoc import Objective, optimize_pulses\n",
    "\n",
    "%matplotlib inline"
   ]
  },
  {
   "cell_type": "markdown",
   "id": "769cd65a",
   "metadata": {},
   "source": [
    "## Introduction\n",
    "\n",
    "In this example we want to implement a Hadamard gate on a single qubit.\n",
    "In general, a qubit might be subject to decoherence which can be captured using the Lindblad formalism with the jump operator $\\sigma_{-}$.\n",
    "\n",
    "For simplicity, we consider a control Hamiltonian parametrized by $\\sigma_x$, $\\sigma_y$ and $\\sigma_z$:\n",
    "\n",
    "$H_c(t) = c_x(t) \\sigma_x + c_y(t) \\sigma_y + c_z(t) \\sigma_z$\n",
    "\n",
    "with $c_x(t)$, $c_y(t)$ and $c_z(t)$ as independent control parameters.\n",
    "Additionally, we model a constant drift Hamiltonian\n",
    "\n",
    "$H_d = \\dfrac{1}{2} (\\omega \\sigma_z + \\delta \\sigma_x)$,\n",
    "\n",
    "with associated energy splitting $\\omega$ and tunneling rate $\\delta$.\n",
    "The amplitude damping rate for the collapse operator $C = \\sqrt{\\gamma} \\sigma_-$ is denoted as $\\gamma$."
   ]
  },
  {
   "cell_type": "code",
   "execution_count": 2,
   "id": "afb80baf",
   "metadata": {
    "execution": {
     "iopub.execute_input": "2025-08-20T04:40:10.572146Z",
     "iopub.status.busy": "2025-08-20T04:40:10.571881Z",
     "iopub.status.idle": "2025-08-20T04:40:10.576185Z",
     "shell.execute_reply": "2025-08-20T04:40:10.575686Z"
    }
   },
   "outputs": [],
   "source": [
    "# energy splitting, tunneling, amplitude damping\n",
    "omega = 0.1  # energy splitting\n",
    "delta = 1.0  # tunneling\n",
    "gamma = 0.1  # amplitude damping\n",
    "sx, sy, sz = sigmax(), sigmay(), sigmaz()\n",
    "\n",
    "Hc = [sx, sy, sz]  # control operator\n",
    "Hc = [liouvillian(H) for H in Hc]\n",
    "\n",
    "Hd = 1 / 2 * (omega * sz + delta * sx)  # drift term\n",
    "Hd = liouvillian(H=Hd, c_ops=[np.sqrt(gamma) * sigmam()])\n",
    "\n",
    "# combined operator list\n",
    "H = [Hd, Hc[0], Hc[1], Hc[2]]"
   ]
  },
  {
   "cell_type": "code",
   "execution_count": 3,
   "id": "f20b309b",
   "metadata": {
    "execution": {
     "iopub.execute_input": "2025-08-20T04:40:10.577570Z",
     "iopub.status.busy": "2025-08-20T04:40:10.577401Z",
     "iopub.status.idle": "2025-08-20T04:40:10.579970Z",
     "shell.execute_reply": "2025-08-20T04:40:10.579499Z"
    }
   },
   "outputs": [],
   "source": [
    "# objectives for optimization\n",
    "initial = qeye(2)\n",
    "target = gates.hadamard_transform()\n",
    "fid_err = 0.01"
   ]
  },
  {
   "cell_type": "code",
   "execution_count": 4,
   "id": "f116c7bc",
   "metadata": {
    "execution": {
     "iopub.execute_input": "2025-08-20T04:40:10.581262Z",
     "iopub.status.busy": "2025-08-20T04:40:10.581106Z",
     "iopub.status.idle": "2025-08-20T04:40:10.583284Z",
     "shell.execute_reply": "2025-08-20T04:40:10.582946Z"
    }
   },
   "outputs": [],
   "source": [
    "# pulse time interval\n",
    "times = np.linspace(0, np.pi / 2, 100)"
   ]
  },
  {
   "cell_type": "markdown",
   "id": "2baa1c45",
   "metadata": {},
   "source": [
    "## Implementation\n",
    "\n",
    "### GRAPE Algorithm\n",
    "\n",
    "The GRAPE algorithm works by minimizing an infidelity loss function that measures how close the final state or unitary tranformation is to the desired target.\n",
    "Starting from the provided `guess` control pulse, it optimizes evenly spaced piecewise constant pulse amplitudes.\n",
    "In the end, it strives to achieve the desired target infidelity, sepcified by the `fid_err_targ` keyword."
   ]
  },
  {
   "cell_type": "code",
   "execution_count": 5,
   "id": "fd378505",
   "metadata": {
    "execution": {
     "iopub.execute_input": "2025-08-20T04:40:10.584565Z",
     "iopub.status.busy": "2025-08-20T04:40:10.584407Z",
     "iopub.status.idle": "2025-08-20T04:40:10.895070Z",
     "shell.execute_reply": "2025-08-20T04:40:10.894565Z"
    }
   },
   "outputs": [],
   "source": [
    "res_grape = optimize_pulses(\n",
    "    objectives=Objective(initial, H, target),\n",
    "    control_parameters={\n",
    "        \"ctrl_x\": {\"guess\": np.sin(times), \"bounds\": [-1, 1]},\n",
    "        \"ctrl_y\": {\"guess\": np.cos(times), \"bounds\": [-1, 1]},\n",
    "        \"ctrl_z\": {\"guess\": np.tanh(times), \"bounds\": [-1, 1]},\n",
    "    },\n",
    "    tlist=times,\n",
    "    algorithm_kwargs={\"alg\": \"GRAPE\", \"fid_err_targ\": fid_err},\n",
    ")"
   ]
  },
  {
   "cell_type": "markdown",
   "id": "c6ef5519",
   "metadata": {},
   "source": [
    "### CRAB Algorithm\n",
    "\n",
    "This algorithm is based on the idea of expanding the control fields in a random basis and optimizing the expansion coefficients $\\vec{\\alpha}$.\n",
    "This has the advantage of using analytical control functions $c(\\vec{\\alpha}, t)$ on a continuous time interval, and is by default a Fourier expansion.\n",
    "This reduces the search space to the function parameters.\n",
    "Typically, these parameters can efficiently be calculated through direct search algorithms (like Nelder-Mead).\n",
    "The basis function is only expanded for some finite number of summands and the initial basis coefficients are usually picked at random."
   ]
  },
  {
   "cell_type": "code",
   "execution_count": 6,
   "id": "d17debdd",
   "metadata": {
    "execution": {
     "iopub.execute_input": "2025-08-20T04:40:10.897042Z",
     "iopub.status.busy": "2025-08-20T04:40:10.896825Z",
     "iopub.status.idle": "2025-08-20T04:40:10.900337Z",
     "shell.execute_reply": "2025-08-20T04:40:10.899895Z"
    }
   },
   "outputs": [],
   "source": [
    "n_params = 3  # adjust in steps of 3\n",
    "alg_args = {\"alg\": \"CRAB\", \"fid_err_targ\": fid_err, \"fix_frequency\": False}"
   ]
  },
  {
   "cell_type": "code",
   "execution_count": 7,
   "id": "8db97b45",
   "metadata": {
    "execution": {
     "iopub.execute_input": "2025-08-20T04:40:10.902696Z",
     "iopub.status.busy": "2025-08-20T04:40:10.902026Z",
     "iopub.status.idle": "2025-08-20T04:40:11.552746Z",
     "shell.execute_reply": "2025-08-20T04:40:11.552209Z"
    }
   },
   "outputs": [
    {
     "name": "stderr",
     "output_type": "stream",
     "text": [
      "/home/runner/miniconda3/envs/test-environment-v5/lib/python3.12/site-packages/scipy/optimize/_basinhopping.py:298: RuntimeWarning: Method Nelder-Mead does not use gradient information (jac).\n",
      "  return self.minimizer(self.func, x0, **self.kwargs)\n",
      "/home/runner/miniconda3/envs/test-environment-v5/lib/python3.12/site-packages/scipy/optimize/_basinhopping.py:298: OptimizeWarning: Unknown solver options: gtol\n",
      "  return self.minimizer(self.func, x0, **self.kwargs)\n"
     ]
    }
   ],
   "source": [
    "res_crab = optimize_pulses(\n",
    "    objectives=Objective(initial, H, target),\n",
    "    control_parameters={\n",
    "        \"ctrl_x\": {\n",
    "            \"guess\": [1 for _ in range(n_params)],\n",
    "            \"bounds\": [(-1, 1)] * n_params,\n",
    "        },\n",
    "        \"ctrl_y\": {\n",
    "            \"guess\": [1 for _ in range(n_params)],\n",
    "            \"bounds\": [(-1, 1)] * n_params,\n",
    "        },\n",
    "        \"ctrl_z\": {\n",
    "            \"guess\": [1 for _ in range(n_params)],\n",
    "            \"bounds\": [(-1, 1)] * n_params,\n",
    "        },\n",
    "    },\n",
    "    tlist=times,\n",
    "    algorithm_kwargs=alg_args,\n",
    ")"
   ]
  },
  {
   "cell_type": "markdown",
   "id": "ff02fb2e",
   "metadata": {},
   "source": [
    "### GOAT Algorithm\n",
    "\n",
    "Similar to CRAB, this method also works with analytical control functions.\n",
    "By constructing a coupled system of equations of motion, the derivative of the (time ordered) evolution operator with respect to the control parameters can be calculated after numerical forward integration.\n",
    "In unconstrained settings, GOAT was found to outperform the previous described methods in terms of convergence and fidelity achievement.\n",
    "The QuTiP implementation allows for arbitrary control functions provided together with their respective derivatives in a common python manner."
   ]
  },
  {
   "cell_type": "code",
   "execution_count": 8,
   "id": "28c8ce96",
   "metadata": {
    "execution": {
     "iopub.execute_input": "2025-08-20T04:40:11.555624Z",
     "iopub.status.busy": "2025-08-20T04:40:11.554903Z",
     "iopub.status.idle": "2025-08-20T04:40:11.559164Z",
     "shell.execute_reply": "2025-08-20T04:40:11.558751Z"
    }
   },
   "outputs": [],
   "source": [
    "def sin(t, c):\n",
    "    return c[0] * np.sin(c[1] * t)\n",
    "\n",
    "\n",
    "# derivatives\n",
    "def grad_sin(t, c, idx):\n",
    "    if idx == 0:  # w.r.t. c0\n",
    "        return np.sin(c[1] * t)\n",
    "    if idx == 1:  # w.r.t. c1\n",
    "        return c[0] * np.cos(c[1] * t) * t\n",
    "    if idx == 2:  # w.r.t. time\n",
    "        return c[0] * np.cos(c[1] * t) * c[1]"
   ]
  },
  {
   "cell_type": "code",
   "execution_count": 9,
   "id": "6229acfb",
   "metadata": {
    "execution": {
     "iopub.execute_input": "2025-08-20T04:40:11.561016Z",
     "iopub.status.busy": "2025-08-20T04:40:11.560829Z",
     "iopub.status.idle": "2025-08-20T04:40:11.564534Z",
     "shell.execute_reply": "2025-08-20T04:40:11.564085Z"
    }
   },
   "outputs": [],
   "source": [
    "H = [Hd] + [[hc, sin, {\"grad\": grad_sin}] for hc in Hc]\n",
    "\n",
    "bnds = [(-1, 1), (0, 2 * np.pi)]\n",
    "ctrl_param = {id: {\"guess\": [1, 0], \"bounds\": bnds} for id in [\"x\", \"y\", \"z\"]}"
   ]
  },
  {
   "cell_type": "markdown",
   "id": "fb492b5f",
   "metadata": {},
   "source": [
    "For even faster convergence QuTiP extends to original algorithm with the option to optimize controls with\n",
    "respect to the overall time evolution, which can be enabled by specifying the additional time keyword\n",
    "argument:"
   ]
  },
  {
   "cell_type": "code",
   "execution_count": 10,
   "id": "e9d57fd9",
   "metadata": {
    "execution": {
     "iopub.execute_input": "2025-08-20T04:40:11.566793Z",
     "iopub.status.busy": "2025-08-20T04:40:11.566135Z",
     "iopub.status.idle": "2025-08-20T04:40:11.569461Z",
     "shell.execute_reply": "2025-08-20T04:40:11.569022Z"
    }
   },
   "outputs": [],
   "source": [
    "# treats time as optimization variable\n",
    "ctrl_param[\"__time__\"] = {\n",
    "    \"guess\": times[len(times) // 2],\n",
    "    \"bounds\": [times[0], times[-1]],\n",
    "}"
   ]
  },
  {
   "cell_type": "code",
   "execution_count": 11,
   "id": "a7462c14",
   "metadata": {
    "execution": {
     "iopub.execute_input": "2025-08-20T04:40:11.571118Z",
     "iopub.status.busy": "2025-08-20T04:40:11.570943Z",
     "iopub.status.idle": "2025-08-20T04:40:11.616697Z",
     "shell.execute_reply": "2025-08-20T04:40:11.616203Z"
    }
   },
   "outputs": [],
   "source": [
    "# run the optimization\n",
    "res_goat = optimize_pulses(\n",
    "    objectives=Objective(initial, H, target),\n",
    "    control_parameters=ctrl_param,\n",
    "    tlist=times,\n",
    "    algorithm_kwargs={\n",
    "        \"alg\": \"GOAT\",\n",
    "        \"fid_err_targ\": fid_err,\n",
    "    },\n",
    ")"
   ]
  },
  {
   "cell_type": "markdown",
   "id": "1c9aca87",
   "metadata": {},
   "source": [
    "### JOT Algorithm - JAX integration\n",
    "\n",
    "QuTiP's new JAX backend provides automatic differentiation capabilities that can be directly be used with the new control framework.\n",
    "As with QuTiP’s GOAT implementation, any analytically defined control function can be handed to the algorithm.\n",
    "However, in this method, JAX automatic differentiation abilities take care of calculating the derivative throughout the whole system evolution.\n",
    "Therefore we don't have to provide any derivatives manually.\n",
    "Compared to the previous example, this simply means to swap the control functions with their just-in-time compiled version."
   ]
  },
  {
   "cell_type": "code",
   "execution_count": 12,
   "id": "f48cec40",
   "metadata": {
    "execution": {
     "iopub.execute_input": "2025-08-20T04:40:11.619225Z",
     "iopub.status.busy": "2025-08-20T04:40:11.618567Z",
     "iopub.status.idle": "2025-08-20T04:40:11.622995Z",
     "shell.execute_reply": "2025-08-20T04:40:11.622567Z"
    }
   },
   "outputs": [],
   "source": [
    "@jit\n",
    "def sin_y(t, d, **kwargs):\n",
    "    return d[0] * numpy.sin(d[1] * t)\n",
    "\n",
    "\n",
    "@jit\n",
    "def sin_z(t, e, **kwargs):\n",
    "    return e[0] * numpy.sin(e[1] * t)\n",
    "\n",
    "\n",
    "@jit\n",
    "def sin_x(t, c, **kwargs):\n",
    "    return c[0] * numpy.sin(c[1] * t)"
   ]
  },
  {
   "cell_type": "code",
   "execution_count": 13,
   "id": "22ab584d",
   "metadata": {
    "execution": {
     "iopub.execute_input": "2025-08-20T04:40:11.624629Z",
     "iopub.status.busy": "2025-08-20T04:40:11.624457Z",
     "iopub.status.idle": "2025-08-20T04:40:11.627817Z",
     "shell.execute_reply": "2025-08-20T04:40:11.627403Z"
    }
   },
   "outputs": [],
   "source": [
    "H = [Hd] + [[Hc[0], sin_x], [Hc[1], sin_y], [Hc[2], sin_z]]"
   ]
  },
  {
   "cell_type": "code",
   "execution_count": 14,
   "id": "e29d2cf7",
   "metadata": {
    "execution": {
     "iopub.execute_input": "2025-08-20T04:40:11.630062Z",
     "iopub.status.busy": "2025-08-20T04:40:11.629453Z",
     "iopub.status.idle": "2025-08-20T04:40:15.321649Z",
     "shell.execute_reply": "2025-08-20T04:40:15.319760Z"
    }
   },
   "outputs": [
    {
     "name": "stderr",
     "output_type": "stream",
     "text": [
      "/home/runner/miniconda3/envs/test-environment-v5/lib/python3.12/site-packages/equinox/_jit.py:55: UserWarning: Complex dtype support in Diffrax is a work in progress and may not yet produce correct results. Consider splitting your computation into real and imaginary parts instead.\n",
      "  out = fun(*args, **kwargs)\n"
     ]
    }
   ],
   "source": [
    "res_jopt = optimize_pulses(\n",
    "    objectives=Objective(initial, H, target),\n",
    "    control_parameters=ctrl_param,\n",
    "    tlist=times,\n",
    "    algorithm_kwargs={\n",
    "        \"alg\": \"JOPT\",\n",
    "        \"fid_err_targ\": fid_err,\n",
    "    },\n",
    ")"
   ]
  },
  {
   "cell_type": "markdown",
   "id": "0474fa28",
   "metadata": {},
   "source": [
    "## Comparison of Results\n",
    "\n",
    "After running the global and local optimization, one can compare the results obtained by the various\n",
    "algorithms through a `qoc.Result` object, which provides common optimization metrics along with the `optimized_controls`.\n",
    "\n",
    "### Pulse Amplitudes"
   ]
  },
  {
   "cell_type": "code",
   "execution_count": 15,
   "id": "edd6985d",
   "metadata": {
    "execution": {
     "iopub.execute_input": "2025-08-20T04:40:15.327948Z",
     "iopub.status.busy": "2025-08-20T04:40:15.327735Z",
     "iopub.status.idle": "2025-08-20T04:40:15.674457Z",
     "shell.execute_reply": "2025-08-20T04:40:15.673893Z"
    }
   },
   "outputs": [
    {
     "data": {
      "image/png": "[encoded data removed]",
      "text/plain": [
       "<Figure size 1300x500 with 3 Axes>"
      ]
     },
     "metadata": {},
     "output_type": "display_data"
    }
   ],
   "source": [
    "fig, ax = plt.subplots(1, 3, figsize=(13, 5))\n",
    "\n",
    "goat_range = times < res_goat.optimized_params[-1]\n",
    "jopt_range = times < res_jopt.optimized_params[-1]\n",
    "\n",
    "for i in range(3):\n",
    "    ax[i].plot(times, res_grape.optimized_controls[i], \":\", label=\"GRAPE\")\n",
    "    ax[i].plot(times, res_crab.optimized_controls[i], \"-.\", label=\"CRAB\")\n",
    "    ax[i].plot(\n",
    "        times[goat_range],\n",
    "        np.array(res_goat.optimized_controls[i])[goat_range],\n",
    "        \"-\",\n",
    "        label=\"GOAT\",\n",
    "    )\n",
    "    ax[i].plot(\n",
    "        times[jopt_range],\n",
    "        np.array(res_jopt.optimized_controls[i])[jopt_range],\n",
    "        \"--\",\n",
    "        label=\"JOPT\",\n",
    "    )\n",
    "\n",
    "    ax[i].set_xlabel(r\"Time $t$\")\n",
    "\n",
    "ax[0].legend(loc=0)\n",
    "ax[0].set_ylabel(r\"Pulse amplitude $c_x(t)$\", labelpad=-5)\n",
    "ax[1].set_ylabel(r\"Pulse amplitude $c_y(t)$\", labelpad=-5)\n",
    "ax[2].set_ylabel(r\"Pulse amplitude $c_z(t)$\", labelpad=-5)\n",
    "\n",
    "plt.show()"
   ]
  },
  {
   "cell_type": "markdown",
   "id": "1c1fa3cd",
   "metadata": {},
   "source": [
    "### Infidelities and Processing Time"
   ]
  },
  {
   "cell_type": "code",
   "execution_count": 16,
   "id": "c72dac34",
   "metadata": {
    "execution": {
     "iopub.execute_input": "2025-08-20T04:40:15.675902Z",
     "iopub.status.busy": "2025-08-20T04:40:15.675743Z",
     "iopub.status.idle": "2025-08-20T04:40:15.679326Z",
     "shell.execute_reply": "2025-08-20T04:40:15.678910Z"
    }
   },
   "outputs": [
    {
     "name": "stdout",
     "output_type": "stream",
     "text": [
      "GRAPE:  0.005258318956042762\n",
      "0.3061  seconds\n",
      "\n",
      "CRAB :  0.008930309630280554\n",
      "0.6438  seconds\n",
      "\n",
      "GOAT :  0.006136590373869528\n",
      "0.0394  seconds\n",
      "\n",
      "JOPT :  0.008344510591995532\n",
      "3.1808  seconds\n"
     ]
    }
   ],
   "source": [
    "print(\"GRAPE: \", res_grape.fid_err)\n",
    "print(res_grape.total_seconds, \" seconds\")\n",
    "print()\n",
    "print(\"CRAB : \", res_crab.fid_err)\n",
    "print(res_crab.total_seconds, \" seconds\")\n",
    "print()\n",
    "print(\"GOAT : \", res_goat.fid_err)\n",
    "print(res_goat.total_seconds, \" seconds\")\n",
    "print()\n",
    "print(\"JOPT : \", res_jopt.fid_err)\n",
    "print(res_jopt.total_seconds, \" seconds\")"
   ]
  },
  {
   "cell_type": "markdown",
   "id": "ec3ee9d8",
   "metadata": {},
   "source": [
    "## References\n",
    "\n",
    "[1] [QuTiP 5: The Quantum Toolbox in Python](https://arxiv.org/abs/2412.04705)\n",
    "\n",
    "[2] [QuTiP-QOC Repository](https://github.com/qutip/qutip-qoc)\n",
    "\n",
    "[3] [Khaneja, et. al, Journal of Magnetic Resonance (2005)](https://www.sciencedirect.com/science/article/pii/S1090780704003696)\n",
    "\n",
    "[4] [Caneva, et. al, Phys. Rev. A (2011)](https://link.aps.org/doi/10.1103/PhysRevA.84.022326)\n",
    "\n",
    "[5] [Machnes, et. al, Phys. Rev. Lett. (2018)](https://link.aps.org/doi/10.1103/PhysRevLett.120.150401)\n",
    "\n",
    "[6] [QuTiP-JAX Repository](https://github.com/qutip/qutip-jax)\n"
   ]
  },
  {
   "cell_type": "markdown",
   "id": "0012e450",
   "metadata": {},
   "source": [
    "## About"
   ]
  },
  {
   "cell_type": "code",
   "execution_count": 17,
   "id": "254d261a",
   "metadata": {
    "execution": {
     "iopub.execute_input": "2025-08-20T04:40:15.680606Z",
     "iopub.status.busy": "2025-08-20T04:40:15.680457Z",
     "iopub.status.idle": "2025-08-20T04:40:15.694918Z",
     "shell.execute_reply": "2025-08-20T04:40:15.694498Z"
    }
   },
   "outputs": [
    {
     "name": "stdout",
     "output_type": "stream",
     "text": [
      "\n",
      "QuTiP: Quantum Toolbox in Python\n",
      "================================\n",
      "Copyright (c) QuTiP team 2011 and later.\n",
      "Current admin team: Alexander Pitchford, Nathan Shammah, Shahnawaz Ahmed, Neill Lambert, Eric Giguère, Boxi Li, Simon Cross, Asier Galicia, Paul Menczel, and Patrick Hopf.\n",
      "Board members: Daniel Burgarth, Robert Johansson, Anton F. Kockum, Franco Nori and Will Zeng.\n",
      "Original developers: R. J. Johansson & P. D. Nation.\n",
      "Previous lead developers: Chris Granade & A. Grimsmo.\n",
      "Currently developed through wide collaboration. See https://github.com/qutip for details.\n",
      "\n",
      "QuTiP Version:      5.3.0.dev0+d849c94\n",
      "Numpy Version:      2.3.2\n",
      "Scipy Version:      1.16.1\n",
      "Cython Version:     3.1.3\n",
      "Matplotlib Version: 3.10.5\n",
      "Python Version:     3.12.0\n",
      "Number of CPUs:     4\n",
      "BLAS Info:          Generic\n",
      "INTEL MKL Ext:      None\n",
      "Platform Info:      Linux (x86_64)\n",
      "Installation path:  /home/runner/miniconda3/envs/test-environment-v5/lib/python3.12/site-packages/qutip\n",
      "\n",
      "Installed QuTiP family packages\n",
      "-------------------------------\n",
      "\n",
      "qutip-qtrl: 0.2.0.dev0+acb71a0\n",
      "qutip-jax: 0.1.1.dev6\n",
      "qutip-qip: 0.5.0.dev0+2db1138\n",
      "\n",
      "================================================================================\n",
      "Please cite QuTiP in your publication.\n",
      "================================================================================\n",
      "For your convenience a bibtex reference can be easily generated using `qutip.cite()`\n"
     ]
    }
   ],
   "source": [
    "about()"
   ]
  },
  {
   "cell_type": "markdown",
   "id": "fdabfdbf",
   "metadata": {},
   "source": [
    "## Testing"
   ]
  },
  {
   "cell_type": "code",
   "execution_count": 18,
   "id": "30525299",
   "metadata": {
    "execution": {
     "iopub.execute_input": "2025-08-20T04:40:15.696321Z",
     "iopub.status.busy": "2025-08-20T04:40:15.696169Z",
     "iopub.status.idle": "2025-08-20T04:40:15.698754Z",
     "shell.execute_reply": "2025-08-20T04:40:15.698374Z"
    }
   },
   "outputs": [],
   "source": [
    "assert (\n",
    "    res_grape.fid_err < fid_err\n",
    "), f\"GRAPE did not reach the target infidelity of < {fid_err}.\"\n",
    "assert (\n",
    "    res_crab.fid_err < fid_err\n",
    "), f\"CRAB did not reach the target infidelity of < {fid_err}.\"\n",
    "assert (\n",
    "    res_goat.fid_err < fid_err\n",
    "), f\"GOAT did not reach the target infidelity of < {fid_err}.\"\n",
    "assert (\n",
    "    res_jopt.fid_err < fid_err\n",
    "), f\"JOPT did not reach the target infidelity of < {fid_err}.\""
   ]
  }
 ],
 "metadata": {
  "jupytext": {
   "cell_metadata_filter": "-all",
   "notebook_metadata_filter": "-jupytext.cell_metadata_filter,-jupytext.notebook_metadata_filter"
  },
  "kernelspec": {
   "display_name": "Python 3 (ipykernel)",
   "language": "python",
   "name": "python3"
  },
  "language_info": {
   "codemirror_mode": {
    "name": "ipython",
    "version": 3
   },
   "file_extension": ".py",
   "mimetype": "text/x-python",
   "name": "python",
   "nbconvert_exporter": "python",
   "pygments_lexer": "ipython3",
   "version": "3.12.0"
  }
 },
 "nbformat": 4,
 "nbformat_minor": 5
}
