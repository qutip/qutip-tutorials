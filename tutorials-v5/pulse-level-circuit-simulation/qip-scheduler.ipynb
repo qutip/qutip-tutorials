{
 "cells": [
  {
   "cell_type": "markdown",
   "id": "0239ba5f",
   "metadata": {},
   "source": [
    "# Scheduler for quantum gates and instructions\n",
    "\n",
    "Author: Boxi Li (etamin1201@gmail.com)\n",
    "\n",
    "The finite coherence time of physical qubits is one of the major factors that limits the performance of quantum computation. In principle, the execution time of the circuit has to be much shorter than the coherence time. One way to reduce this execution time is to run several gates in the circuit parallelly. This can spare a lot of time if e.g. the same single-qubit gate is applied to all qubits, as in the [Grover algorithm](https://en.wikipedia.org/wiki/Grover%27s_algorithm).\n",
    "\n",
    "A scheduler for a quantum computer, similar to its classical counterpart, schedules a quantum circuit to minimize the execution time. It determines the order in which the gates are executed. As a simple rule, the scheduler allows gates to be executed in parallel if they do not address the same qubits. Further hardware constraints can be included, but here we only focus on this simple criterion by considering gates that do not address the same qubits. The non-trivial part of a scheduler is that it has to consider the possible permutations of commuting quantum gates. Hence, exploring various possibilities for permutation while following physical constraints of the hardware is the main challenging task for the scheduler.\n",
    "\n",
    "We first show how we can schedule gate execution in quantum circuits using the built-in tools in `qutip_qip` and then the scheduling of compiled control pulses. In the end, we also show a simple example where the permutation of commuting gates matters in the scheduling and how to handle such situations."
   ]
  },
  {
   "cell_type": "code",
   "execution_count": 1,
   "id": "e1c0951a",
   "metadata": {
    "execution": {
     "iopub.execute_input": "2025-08-20T03:57:29.630317Z",
     "iopub.status.busy": "2025-08-20T03:57:29.630088Z",
     "iopub.status.idle": "2025-08-20T03:57:30.536010Z",
     "shell.execute_reply": "2025-08-20T03:57:30.535507Z"
    }
   },
   "outputs": [],
   "source": [
    "# imports\n",
    "from qutip import about\n",
    "from qutip_qip.circuit import QubitCircuit\n",
    "from qutip_qip.compiler import Instruction, Scheduler\n",
    "from qutip_qip.device import LinearSpinChain"
   ]
  },
  {
   "cell_type": "markdown",
   "id": "e94b713d",
   "metadata": {},
   "source": [
    "## Gate schedule\n",
    "Let's first define a quantum circuit"
   ]
  },
  {
   "cell_type": "code",
   "execution_count": 2,
   "id": "82d45e62",
   "metadata": {
    "execution": {
     "iopub.execute_input": "2025-08-20T03:57:30.537704Z",
     "iopub.status.busy": "2025-08-20T03:57:30.537472Z",
     "iopub.status.idle": "2025-08-20T03:57:30.659126Z",
     "shell.execute_reply": "2025-08-20T03:57:30.658653Z"
    }
   },
   "outputs": [
    {
     "data": {
      "image/png": "[encoded data removed]",
      "text/plain": [
       "<Figure size 518.6x518.6 with 1 Axes>"
      ]
     },
     "metadata": {},
     "output_type": "display_data"
    },
    {
     "data": {
      "text/plain": []
     },
     "execution_count": 2,
     "metadata": {},
     "output_type": "execute_result"
    }
   ],
   "source": [
    "circuit = QubitCircuit(3)\n",
    "circuit.add_gate(\"X\", 0)\n",
    "circuit.add_gate(\"ISWAP\", targets=[1, 2])\n",
    "circuit.add_gate(\"X\", 2)\n",
    "circuit.add_gate(\"Y\", 0)\n",
    "circuit.add_gate(\"X\", 0)\n",
    "circuit"
   ]
  },
  {
   "cell_type": "markdown",
   "id": "a57976d0",
   "metadata": {},
   "source": [
    "This is a rather boring circuit, but it is useful as a demonstration for the scheduler. We now define a scheduler and schedule the execution of gates in the circuit"
   ]
  },
  {
   "cell_type": "code",
   "execution_count": 3,
   "id": "3a4e3c31",
   "metadata": {
    "execution": {
     "iopub.execute_input": "2025-08-20T03:57:30.660520Z",
     "iopub.status.busy": "2025-08-20T03:57:30.660348Z",
     "iopub.status.idle": "2025-08-20T03:57:30.664261Z",
     "shell.execute_reply": "2025-08-20T03:57:30.663896Z"
    }
   },
   "outputs": [
    {
     "data": {
      "text/plain": [
       "[0, 0, 1, 1, 2]"
      ]
     },
     "execution_count": 3,
     "metadata": {},
     "output_type": "execute_result"
    }
   ],
   "source": [
    "scheduler = Scheduler(\"ASAP\")  # schedule as soon as possible\n",
    "scheduled_time = scheduler.schedule(circuit)\n",
    "scheduled_time"
   ]
  },
  {
   "cell_type": "markdown",
   "id": "7f9d0ab9",
   "metadata": {},
   "source": [
    "This result shows the scheduled starting time for each gate.\n",
    "In the first cycle we execute an iSWAP on qubit 0 and 1 and an X gate on qubit 0; In the second cycle we execute one X gate on qubit 2 and one Y gate on qubit 0; In the last cycle, we execute a single X gate on qubit 0. As printed bellow:"
   ]
  },
  {
   "cell_type": "code",
   "execution_count": 4,
   "id": "9da36a05",
   "metadata": {
    "execution": {
     "iopub.execute_input": "2025-08-20T03:57:30.665571Z",
     "iopub.status.busy": "2025-08-20T03:57:30.665414Z",
     "iopub.status.idle": "2025-08-20T03:57:30.668491Z",
     "shell.execute_reply": "2025-08-20T03:57:30.668010Z"
    }
   },
   "outputs": [
    {
     "name": "stdout",
     "output_type": "stream",
     "text": [
      "['X[0]', 'ISWAP[1, 2]']\n",
      "['X[2]', 'Y[0]']\n",
      "['X[0]']\n"
     ]
    }
   ],
   "source": [
    "cycle_list = [[] for i in range(max(scheduled_time) + 1)]\n",
    "\n",
    "for i, time in enumerate(scheduled_time):\n",
    "    gate = circuit.gates[i]\n",
    "    cycle_list[time].append(gate.name + str(gate.targets))\n",
    "for cycle in cycle_list:\n",
    "    print(cycle)"
   ]
  },
  {
   "cell_type": "markdown",
   "id": "95416dbf",
   "metadata": {},
   "source": [
    "We can also schedule the gate follows the rule \"as late as possible\""
   ]
  },
  {
   "cell_type": "code",
   "execution_count": 5,
   "id": "b43b0a4a",
   "metadata": {
    "execution": {
     "iopub.execute_input": "2025-08-20T03:57:30.669734Z",
     "iopub.status.busy": "2025-08-20T03:57:30.669580Z",
     "iopub.status.idle": "2025-08-20T03:57:30.673368Z",
     "shell.execute_reply": "2025-08-20T03:57:30.672896Z"
    }
   },
   "outputs": [
    {
     "name": "stdout",
     "output_type": "stream",
     "text": [
      "['X[0]']\n",
      "['ISWAP[1, 2]', 'Y[0]']\n",
      "['X[2]', 'X[0]']\n"
     ]
    }
   ],
   "source": [
    "scheduler = Scheduler(\"ALAP\")  # schedule as late as possible\n",
    "scheduled_time = scheduler.schedule(circuit)\n",
    "cycle_list = [[] for i in range(max(scheduled_time) + 1)]\n",
    "for i, time in enumerate(scheduled_time):\n",
    "    gate = circuit.gates[i]\n",
    "    cycle_list[time].append(gate.name + str(gate.targets))\n",
    "for cycle in cycle_list:\n",
    "    print(cycle)"
   ]
  },
  {
   "cell_type": "markdown",
   "id": "bc97e636",
   "metadata": {},
   "source": [
    "The only difference is that the \"iSWAP\" gate and the X gate on qubit 2 are shifted by one cycle. "
   ]
  },
  {
   "cell_type": "markdown",
   "id": "90eb228f",
   "metadata": {},
   "source": [
    "## Instruction/Pulse schedule\n",
    "Often different quantum gates will have different execution time. To consider this, we define a list of quantum instructions, where X gate has the execution time 1 while the iSWAP gate takes the time 3.5"
   ]
  },
  {
   "cell_type": "code",
   "execution_count": 6,
   "id": "3f0283e0",
   "metadata": {
    "execution": {
     "iopub.execute_input": "2025-08-20T03:57:30.674646Z",
     "iopub.status.busy": "2025-08-20T03:57:30.674488Z",
     "iopub.status.idle": "2025-08-20T03:57:30.678867Z",
     "shell.execute_reply": "2025-08-20T03:57:30.678405Z"
    }
   },
   "outputs": [
    {
     "data": {
      "text/plain": [
       "[0, 0.0, 3.5, 1, 2]"
      ]
     },
     "execution_count": 6,
     "metadata": {},
     "output_type": "execute_result"
    }
   ],
   "source": [
    "scheduler = Scheduler(\"ASAP\")\n",
    "instructions = []\n",
    "\n",
    "for gate in circuit.gates:\n",
    "    if gate.name in (\"X\"):\n",
    "        duration = 1\n",
    "    elif gate.name == \"ISWAP\":\n",
    "        duration = 3.5\n",
    "    instruction = Instruction(gate, duration=duration)\n",
    "    instructions.append(instruction)\n",
    "scheduler.schedule(instructions)"
   ]
  },
  {
   "cell_type": "markdown",
   "id": "02491e7c",
   "metadata": {},
   "source": [
    "The scheduled execution time for each gate can no longer be assigned to gate cycles. But we can see this through the [noisy circuit simulator](https://qutip-qip.readthedocs.io/en/stable/qip-processor.html) of qutip, where the circuit is compiled to control signals: (Notice that the execution time follows the hardware parameter of spin chain and the Y gate is decomposed into a Z-X-Z rotation)."
   ]
  },
  {
   "cell_type": "code",
   "execution_count": 7,
   "id": "1c06d73d",
   "metadata": {
    "execution": {
     "iopub.execute_input": "2025-08-20T03:57:30.680165Z",
     "iopub.status.busy": "2025-08-20T03:57:30.680008Z",
     "iopub.status.idle": "2025-08-20T03:57:31.001856Z",
     "shell.execute_reply": "2025-08-20T03:57:31.001444Z"
    }
   },
   "outputs": [
    {
     "data": {
      "image/png": "[encoded data removed]",
      "text/plain": [
       "<Figure size 1200x600 with 8 Axes>"
      ]
     },
     "metadata": {},
     "output_type": "display_data"
    }
   ],
   "source": [
    "device = LinearSpinChain(3)\n",
    "device.load_circuit(\n",
    "    circuit, \"ASAP\"\n",
    ")  # The circuit are compiled to instructions and scheduled.\n",
    "device.plot_pulses();"
   ]
  },
  {
   "cell_type": "markdown",
   "id": "0d5a3dac",
   "metadata": {},
   "source": [
    "The green and orange pulses represent rotations along the X and Z axis. The green pulse is the iSWAP gate, which is executed simultaneously with a few other single-qubit rotations on qubit 0."
   ]
  },
  {
   "cell_type": "markdown",
   "id": "663ca1c4",
   "metadata": {},
   "source": [
    "## Considering commuting gates\n",
    "We consider the following circuit:"
   ]
  },
  {
   "cell_type": "code",
   "execution_count": 8,
   "id": "acfcd9cc",
   "metadata": {
    "execution": {
     "iopub.execute_input": "2025-08-20T03:57:31.003161Z",
     "iopub.status.busy": "2025-08-20T03:57:31.003006Z",
     "iopub.status.idle": "2025-08-20T03:57:31.116412Z",
     "shell.execute_reply": "2025-08-20T03:57:31.115942Z"
    }
   },
   "outputs": [
    {
     "data": {
      "image/png": "[encoded data removed]",
      "text/plain": [
       "<Figure size 645.6x645.6 with 1 Axes>"
      ]
     },
     "metadata": {},
     "output_type": "display_data"
    },
    {
     "data": {
      "text/plain": []
     },
     "execution_count": 8,
     "metadata": {},
     "output_type": "execute_result"
    }
   ],
   "source": [
    "circuit = QubitCircuit(3)\n",
    "circuit.add_gate(\"SNOT\", 0)\n",
    "circuit.add_gate(\"CNOT\", 1, 0)\n",
    "circuit.add_gate(\"CNOT\", 2, 0)\n",
    "circuit.add_gate(\"SNOT\", 2)\n",
    "circuit"
   ]
  },
  {
   "cell_type": "markdown",
   "id": "e0ed0ecd",
   "metadata": {},
   "source": [
    "At first sight, it might look like no gates can be run in parallel. However, the two CNOT gates actually commute and if we permute them, we can run one CNOT together with the last Hadamard gate."
   ]
  },
  {
   "cell_type": "code",
   "execution_count": 9,
   "id": "31a21280",
   "metadata": {
    "execution": {
     "iopub.execute_input": "2025-08-20T03:57:31.117773Z",
     "iopub.status.busy": "2025-08-20T03:57:31.117604Z",
     "iopub.status.idle": "2025-08-20T03:57:31.121413Z",
     "shell.execute_reply": "2025-08-20T03:57:31.120934Z"
    }
   },
   "outputs": [
    {
     "name": "stdout",
     "output_type": "stream",
     "text": [
      "['SNOT[0]']\n",
      "['CNOT[2]']\n",
      "['CNOT[1]', 'SNOT[2]']\n"
     ]
    }
   ],
   "source": [
    "scheduler = Scheduler(\"ALAP\")\n",
    "scheduled_time = scheduler.schedule(circuit)\n",
    "\n",
    "cycle_list = [[] for i in range(max(scheduled_time) + 1)]\n",
    "for i, time in enumerate(scheduled_time):\n",
    "    gate = circuit.gates[i]\n",
    "    cycle_list[time].append(gate.name + str(gate.targets))\n",
    "for cycle in cycle_list:\n",
    "    print(cycle)"
   ]
  },
  {
   "cell_type": "markdown",
   "id": "23343874",
   "metadata": {},
   "source": [
    "## Random shuffle\n",
    "The scheduling algorithm is heuristic and hence cannot always find the optimal result. Therefore randomness can be added to the scheduling process by the parameters `random_shuffle` and `repeat_num`."
   ]
  },
  {
   "cell_type": "code",
   "execution_count": 10,
   "id": "982a8768",
   "metadata": {
    "execution": {
     "iopub.execute_input": "2025-08-20T03:57:31.122747Z",
     "iopub.status.busy": "2025-08-20T03:57:31.122602Z",
     "iopub.status.idle": "2025-08-20T03:57:31.596758Z",
     "shell.execute_reply": "2025-08-20T03:57:31.596210Z"
    }
   },
   "outputs": [
    {
     "name": "stdout",
     "output_type": "stream",
     "text": [
      "\n",
      "QuTiP: Quantum Toolbox in Python\n",
      "================================\n",
      "Copyright (c) QuTiP team 2011 and later.\n",
      "Current admin team: Alexander Pitchford, Nathan Shammah, Shahnawaz Ahmed, Neill Lambert, Eric Giguère, Boxi Li, Simon Cross, Asier Galicia, Paul Menczel, and Patrick Hopf.\n",
      "Board members: Daniel Burgarth, Robert Johansson, Anton F. Kockum, Franco Nori and Will Zeng.\n",
      "Original developers: R. J. Johansson & P. D. Nation.\n",
      "Previous lead developers: Chris Granade & A. Grimsmo.\n",
      "Currently developed through wide collaboration. See https://github.com/qutip for details.\n",
      "\n",
      "QuTiP Version:      5.3.0.dev0+d849c94\n",
      "Numpy Version:      2.3.2\n",
      "Scipy Version:      1.16.1\n",
      "Cython Version:     3.1.3\n",
      "Matplotlib Version: 3.10.5\n",
      "Python Version:     3.12.0\n",
      "Number of CPUs:     4\n",
      "BLAS Info:          Generic\n",
      "INTEL MKL Ext:      None\n",
      "Platform Info:      Linux (x86_64)\n",
      "Installation path:  /home/runner/miniconda3/envs/test-environment-v5/lib/python3.12/site-packages/qutip\n",
      "\n",
      "Installed QuTiP family packages\n",
      "-------------------------------\n",
      "\n",
      "qutip-qtrl: 0.2.0.dev0+acb71a0\n"
     ]
    },
    {
     "name": "stdout",
     "output_type": "stream",
     "text": [
      "qutip-jax: 0.1.1.dev6\n",
      "qutip-qip: 0.5.0.dev0+2db1138\n",
      "\n",
      "================================================================================\n",
      "Please cite QuTiP in your publication.\n",
      "================================================================================\n",
      "For your convenience a bibtex reference can be easily generated using `qutip.cite()`\n"
     ]
    }
   ],
   "source": [
    "about()"
   ]
  }
 ],
 "metadata": {
  "jupytext": {
   "cell_metadata_filter": "-all",
   "notebook_metadata_filter": "-jupytext.cell_metadata_filter,-jupytext.notebook_metadata_filter"
  },
  "kernelspec": {
   "display_name": "Python 3 (ipykernel)",
   "language": "python",
   "name": "python3"
  },
  "language_info": {
   "codemirror_mode": {
    "name": "ipython",
    "version": 3
   },
   "file_extension": ".py",
   "mimetype": "text/x-python",
   "name": "python",
   "nbconvert_exporter": "python",
   "pygments_lexer": "ipython3",
   "version": "3.12.0"
  }
 },
 "nbformat": 4,
 "nbformat_minor": 5
}
