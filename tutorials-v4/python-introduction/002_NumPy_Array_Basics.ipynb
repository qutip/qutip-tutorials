{
 "cells": [
  {
   "cell_type": "code",
   "execution_count": 1,
   "id": "bdd734ef",
   "metadata": {
    "execution": {
     "iopub.execute_input": "2025-08-20T03:57:04.909746Z",
     "iopub.status.busy": "2025-08-20T03:57:04.909332Z",
     "iopub.status.idle": "2025-08-20T03:57:04.970572Z",
     "shell.execute_reply": "2025-08-20T03:57:04.970075Z"
    }
   },
   "outputs": [],
   "source": [
    "import numpy as np"
   ]
  },
  {
   "cell_type": "markdown",
   "id": "26b36b8a",
   "metadata": {},
   "source": [
    "# Introduction to NumPy Arrays"
   ]
  },
  {
   "cell_type": "markdown",
   "id": "cca2ba76",
   "metadata": {},
   "source": [
    "J.R. Johansson and P.D. Nation\n",
    "\n",
    "For more information about QuTiP see [http://qutip.org](http://qutip.org)"
   ]
  },
  {
   "cell_type": "markdown",
   "id": "c15e4f1e",
   "metadata": {},
   "source": [
    "## Introduction"
   ]
  },
  {
   "cell_type": "markdown",
   "id": "a61b9a98",
   "metadata": {},
   "source": [
    "Until now we have been using lists as a way of storing multiple elements together.  However, when doing numerical computations, lists are not very good.  For example, what if I wanted to add one to a list of numbers?  For a list `a = [1, 2, 3]` we can not write `a + 1`.\n",
    "\n",
    "Instead we would have to do"
   ]
  },
  {
   "cell_type": "code",
   "execution_count": 2,
   "id": "e96d6864",
   "metadata": {
    "execution": {
     "iopub.execute_input": "2025-08-20T03:57:04.972913Z",
     "iopub.status.busy": "2025-08-20T03:57:04.972648Z",
     "iopub.status.idle": "2025-08-20T03:57:04.976407Z",
     "shell.execute_reply": "2025-08-20T03:57:04.975945Z"
    }
   },
   "outputs": [],
   "source": [
    "a = [1, 2, 3]\n",
    "for k in range(3):\n",
    "    a[k] = a[k] + 1"
   ]
  },
  {
   "cell_type": "markdown",
   "id": "d71b36b6",
   "metadata": {},
   "source": [
    "Working with lists would quickly become very complicated if we wanted to do numerical operations on many elements at the same time, or if, for example, we want to be able to construct vectors and matrices in our programs.  All of these features, and more, come with using NumPy **arrays** as our preferred data structure."
   ]
  },
  {
   "cell_type": "markdown",
   "id": "5562cdfd",
   "metadata": {},
   "source": [
    "## NumPy Arrays"
   ]
  },
  {
   "cell_type": "markdown",
   "id": "24eb8aff",
   "metadata": {},
   "source": [
    "When dealing with numerical data in Python, nearly 100% of the time one uses arrays from the NumPy module to store and manipulate data.  NumPy arrays are very similar to Python lists, but are actually arrays in c-code that allow for very fast multi-dimensional numerical, vector, matrix, and linear algebra operations.  Using arrays with slicing, and **vectorization** leads to very fast Python code, and can replace many of the for-loops that you would have use if you coded a problem using lists. As a general rule, **minimizing the number of for-loops maximizes the performance of your code**.  To start using arrays, we can start with a simple list and use it as an argument to the array function"
   ]
  },
  {
   "cell_type": "code",
   "execution_count": 3,
   "id": "89e62366",
   "metadata": {
    "execution": {
     "iopub.execute_input": "2025-08-20T03:57:04.978764Z",
     "iopub.status.busy": "2025-08-20T03:57:04.978421Z",
     "iopub.status.idle": "2025-08-20T03:57:04.982934Z",
     "shell.execute_reply": "2025-08-20T03:57:04.982457Z"
    }
   },
   "outputs": [
    {
     "name": "stdout",
     "output_type": "stream",
     "text": [
      "[1 2 3 4 5 6]\n"
     ]
    }
   ],
   "source": [
    "a = np.array([1, 2, 3, 4, 5, 6])\n",
    "print(a)"
   ]
  },
  {
   "cell_type": "markdown",
   "id": "bc615cb5",
   "metadata": {},
   "source": [
    "We have now created our first array of integers.  Notice how, when using print, the array looks the same as a list, however it is very much a different data structure.  We can also create an array of floats, complex numbers or even strings"
   ]
  },
  {
   "cell_type": "code",
   "execution_count": 4,
   "id": "06f89d36",
   "metadata": {
    "execution": {
     "iopub.execute_input": "2025-08-20T03:57:04.984788Z",
     "iopub.status.busy": "2025-08-20T03:57:04.984606Z",
     "iopub.status.idle": "2025-08-20T03:57:04.990225Z",
     "shell.execute_reply": "2025-08-20T03:57:04.989731Z"
    }
   },
   "outputs": [
    {
     "name": "stdout",
     "output_type": "stream",
     "text": [
      "[ 2.  4.  8. 16.]\n",
      "[0.+0.j 1.+0.j 1.+1.j 2.-2.j]\n",
      "['a' 'b' 'c' 'd']\n"
     ]
    }
   ],
   "source": [
    "a = np.array([2.0, 4.0, 8.0, 16.0])\n",
    "b = np.array([0, 1 + 0j, 1 + 1j, 2 - 2j])\n",
    "c = np.array([\"a\", \"b\", \"c\", \"d\"])\n",
    "print(a)\n",
    "print(b)\n",
    "print(c)"
   ]
  },
  {
   "cell_type": "markdown",
   "id": "6fd03c91",
   "metadata": {},
   "source": [
    "In general there are three different ways of creating arrays in Python:\n",
    "\n",
    "- First create a list and then call the array function using the list as an input argument.\n",
    "\n",
    "- Use NumPy functions that are designed to create arrays: **zeros, ones, arange, linspace**.\n",
    "\n",
    "- Import data into Python from file."
   ]
  },
  {
   "cell_type": "markdown",
   "id": "131cfa8b",
   "metadata": {},
   "source": [
    "### Arrays from Lists"
   ]
  },
  {
   "cell_type": "markdown",
   "id": "c3a26f11",
   "metadata": {},
   "source": [
    "We have already seen how to create arrays with simple lists, but now lets look at how to create more complicated lists that we can turn into arrays.  A short way of creating a list, say from 0 to 9 is as follows:"
   ]
  },
  {
   "cell_type": "code",
   "execution_count": 5,
   "id": "21d0881f",
   "metadata": {
    "execution": {
     "iopub.execute_input": "2025-08-20T03:57:04.992960Z",
     "iopub.status.busy": "2025-08-20T03:57:04.992221Z",
     "iopub.status.idle": "2025-08-20T03:57:04.996626Z",
     "shell.execute_reply": "2025-08-20T03:57:04.996217Z"
    }
   },
   "outputs": [
    {
     "name": "stdout",
     "output_type": "stream",
     "text": [
      "[0, 1, 2, 3, 4, 5, 6, 7, 8, 9]\n"
     ]
    }
   ],
   "source": [
    "output = [n for n in range(10)]\n",
    "print(output)"
   ]
  },
  {
   "cell_type": "markdown",
   "id": "ab8c133a",
   "metadata": {},
   "source": [
    "This code is doing the exact same thing as the longer expression"
   ]
  },
  {
   "cell_type": "code",
   "execution_count": 6,
   "id": "4cb32110",
   "metadata": {
    "execution": {
     "iopub.execute_input": "2025-08-20T03:57:04.998862Z",
     "iopub.status.busy": "2025-08-20T03:57:04.998657Z",
     "iopub.status.idle": "2025-08-20T03:57:05.003170Z",
     "shell.execute_reply": "2025-08-20T03:57:05.002667Z"
    }
   },
   "outputs": [
    {
     "name": "stdout",
     "output_type": "stream",
     "text": [
      "[0, 1, 2, 3, 4, 5, 6, 7, 8, 9]\n"
     ]
    }
   ],
   "source": [
    "output = []\n",
    "for n in range(10):\n",
    "    output.append(n)\n",
    "print(output)"
   ]
  },
  {
   "cell_type": "markdown",
   "id": "0132d82f",
   "metadata": {},
   "source": [
    "We could turn this into an array quite easy"
   ]
  },
  {
   "cell_type": "code",
   "execution_count": 7,
   "id": "83858a46",
   "metadata": {
    "execution": {
     "iopub.execute_input": "2025-08-20T03:57:05.005910Z",
     "iopub.status.busy": "2025-08-20T03:57:05.005171Z",
     "iopub.status.idle": "2025-08-20T03:57:05.012782Z",
     "shell.execute_reply": "2025-08-20T03:57:05.012303Z"
    }
   },
   "outputs": [
    {
     "data": {
      "text/plain": [
       "array([0, 1, 2, 3, 4, 5, 6, 7, 8, 9])"
      ]
     },
     "execution_count": 7,
     "metadata": {},
     "output_type": "execute_result"
    }
   ],
   "source": [
    "np.array(output)"
   ]
  },
  {
   "cell_type": "markdown",
   "id": "ea7b97d0",
   "metadata": {},
   "source": [
    "Or, we can save even more space and create the list inside of the array function:"
   ]
  },
  {
   "cell_type": "code",
   "execution_count": 8,
   "id": "a6e3e4fa",
   "metadata": {
    "execution": {
     "iopub.execute_input": "2025-08-20T03:57:05.015658Z",
     "iopub.status.busy": "2025-08-20T03:57:05.014931Z",
     "iopub.status.idle": "2025-08-20T03:57:05.020318Z",
     "shell.execute_reply": "2025-08-20T03:57:05.019867Z"
    }
   },
   "outputs": [
    {
     "data": {
      "text/plain": [
       "array([0, 1, 2, 3, 4, 5, 6, 7, 8, 9])"
      ]
     },
     "execution_count": 8,
     "metadata": {},
     "output_type": "execute_result"
    }
   ],
   "source": [
    "np.array([n for n in range(10)])"
   ]
  },
  {
   "cell_type": "markdown",
   "id": "05d56ecb",
   "metadata": {},
   "source": [
    "This can also be used to create more complicated arrays"
   ]
  },
  {
   "cell_type": "code",
   "execution_count": 9,
   "id": "fdd63e35",
   "metadata": {
    "execution": {
     "iopub.execute_input": "2025-08-20T03:57:05.022255Z",
     "iopub.status.busy": "2025-08-20T03:57:05.022074Z",
     "iopub.status.idle": "2025-08-20T03:57:05.027956Z",
     "shell.execute_reply": "2025-08-20T03:57:05.027483Z"
    }
   },
   "outputs": [
    {
     "data": {
      "text/plain": [
       "array([0.        , 2.95467613, 4.36505551, 5.48440035, 6.44866265])"
      ]
     },
     "execution_count": 9,
     "metadata": {},
     "output_type": "execute_result"
    }
   ],
   "source": [
    "np.array([2.0 * k**0.563 for k in range(0, 10, 2)])"
   ]
  },
  {
   "cell_type": "markdown",
   "id": "17be152d",
   "metadata": {},
   "source": [
    "### Array Creation in NumPy (see [NumPy Documentation](http://docs.scipy.org/doc/numpy/reference/routines.array-creation.html) for more info.)"
   ]
  },
  {
   "cell_type": "markdown",
   "id": "715bdc76",
   "metadata": {},
   "source": [
    "NumPy has several extremely important array creation functions that will make you life much easier. For example, creating arrays of all zeros or ones is trivial. "
   ]
  },
  {
   "cell_type": "code",
   "execution_count": 10,
   "id": "b047769e",
   "metadata": {
    "execution": {
     "iopub.execute_input": "2025-08-20T03:57:05.029586Z",
     "iopub.status.busy": "2025-08-20T03:57:05.029416Z",
     "iopub.status.idle": "2025-08-20T03:57:05.033075Z",
     "shell.execute_reply": "2025-08-20T03:57:05.032661Z"
    }
   },
   "outputs": [
    {
     "data": {
      "text/plain": [
       "array([0., 0., 0., 0., 0.])"
      ]
     },
     "execution_count": 10,
     "metadata": {},
     "output_type": "execute_result"
    }
   ],
   "source": [
    "np.zeros(5)"
   ]
  },
  {
   "cell_type": "code",
   "execution_count": 11,
   "id": "4a4af960",
   "metadata": {
    "execution": {
     "iopub.execute_input": "2025-08-20T03:57:05.034541Z",
     "iopub.status.busy": "2025-08-20T03:57:05.034369Z",
     "iopub.status.idle": "2025-08-20T03:57:05.038077Z",
     "shell.execute_reply": "2025-08-20T03:57:05.037594Z"
    }
   },
   "outputs": [
    {
     "data": {
      "text/plain": [
       "array([1., 1., 1., 1., 1., 1., 1., 1., 1., 1.])"
      ]
     },
     "execution_count": 11,
     "metadata": {},
     "output_type": "execute_result"
    }
   ],
   "source": [
    "np.ones(10)"
   ]
  },
  {
   "cell_type": "markdown",
   "id": "21a72f83",
   "metadata": {},
   "source": [
    "However, the most useful functions are [**```arange```**](http://docs.scipy.org/doc/numpy/reference/generated/numpy.arange.html#numpy.arange) which generates evenly spaced values within a given interval in a similar way that the ```range``` function did, and [**```linspace```**](http://docs.scipy.org/doc/numpy/reference/generated/numpy.linspace.html) that makes a linear array of points from a starting to an ending value."
   ]
  },
  {
   "cell_type": "code",
   "execution_count": 12,
   "id": "6d816c13",
   "metadata": {
    "execution": {
     "iopub.execute_input": "2025-08-20T03:57:05.039525Z",
     "iopub.status.busy": "2025-08-20T03:57:05.039361Z",
     "iopub.status.idle": "2025-08-20T03:57:05.042747Z",
     "shell.execute_reply": "2025-08-20T03:57:05.042321Z"
    }
   },
   "outputs": [
    {
     "data": {
      "text/plain": [
       "array([0, 1, 2, 3, 4])"
      ]
     },
     "execution_count": 12,
     "metadata": {},
     "output_type": "execute_result"
    }
   ],
   "source": [
    "np.arange(5)"
   ]
  },
  {
   "cell_type": "code",
   "execution_count": 13,
   "id": "17b62729",
   "metadata": {
    "execution": {
     "iopub.execute_input": "2025-08-20T03:57:05.044210Z",
     "iopub.status.busy": "2025-08-20T03:57:05.044049Z",
     "iopub.status.idle": "2025-08-20T03:57:05.047472Z",
     "shell.execute_reply": "2025-08-20T03:57:05.047039Z"
    }
   },
   "outputs": [
    {
     "data": {
      "text/plain": [
       "array([0, 2, 4, 6, 8])"
      ]
     },
     "execution_count": 13,
     "metadata": {},
     "output_type": "execute_result"
    }
   ],
   "source": [
    "np.arange(0, 10, 2)"
   ]
  },
  {
   "cell_type": "code",
   "execution_count": 14,
   "id": "efeb50e9",
   "metadata": {
    "execution": {
     "iopub.execute_input": "2025-08-20T03:57:05.049215Z",
     "iopub.status.busy": "2025-08-20T03:57:05.048717Z",
     "iopub.status.idle": "2025-08-20T03:57:05.052564Z",
     "shell.execute_reply": "2025-08-20T03:57:05.052147Z"
    }
   },
   "outputs": [
    {
     "data": {
      "text/plain": [
       "array([ 0.        ,  0.52631579,  1.05263158,  1.57894737,  2.10526316,\n",
       "        2.63157895,  3.15789474,  3.68421053,  4.21052632,  4.73684211,\n",
       "        5.26315789,  5.78947368,  6.31578947,  6.84210526,  7.36842105,\n",
       "        7.89473684,  8.42105263,  8.94736842,  9.47368421, 10.        ])"
      ]
     },
     "execution_count": 14,
     "metadata": {},
     "output_type": "execute_result"
    }
   ],
   "source": [
    "# make an array of 20 points linearly spaced from 0 to 10\n",
    "np.linspace(0, 10, 20)"
   ]
  },
  {
   "cell_type": "code",
   "execution_count": 15,
   "id": "3f21c1ba",
   "metadata": {
    "execution": {
     "iopub.execute_input": "2025-08-20T03:57:05.054088Z",
     "iopub.status.busy": "2025-08-20T03:57:05.053923Z",
     "iopub.status.idle": "2025-08-20T03:57:05.057929Z",
     "shell.execute_reply": "2025-08-20T03:57:05.057465Z"
    }
   },
   "outputs": [
    {
     "data": {
      "text/plain": [
       "array([-5.        , -4.28571429, -3.57142857, -2.85714286, -2.14285714,\n",
       "       -1.42857143, -0.71428571,  0.        ,  0.71428571,  1.42857143,\n",
       "        2.14285714,  2.85714286,  3.57142857,  4.28571429,  5.        ])"
      ]
     },
     "execution_count": 15,
     "metadata": {},
     "output_type": "execute_result"
    }
   ],
   "source": [
    "np.linspace(-5, 5, 15)  # 15 points in range from -5 to 5"
   ]
  },
  {
   "cell_type": "markdown",
   "id": "5e8b0229",
   "metadata": {},
   "source": [
    "## Differences Between Arrays and Lists"
   ]
  },
  {
   "cell_type": "markdown",
   "id": "7e494668",
   "metadata": {},
   "source": [
    "Having played with arrays a bit, it is now time to explain the main differences between NumPy arrays and Python lists."
   ]
  },
  {
   "cell_type": "markdown",
   "id": "38f31b66",
   "metadata": {},
   "source": [
    "Python lists are very general and can hold any combination of data types.  However, NumPy **arrays can only hold one type of data** (integers, floats, strings, complex).  If we try to combine different types of data, then the array function will **upcast** the data in the array such that it all has the same type"
   ]
  },
  {
   "cell_type": "code",
   "execution_count": 16,
   "id": "88482776",
   "metadata": {
    "execution": {
     "iopub.execute_input": "2025-08-20T03:57:05.059355Z",
     "iopub.status.busy": "2025-08-20T03:57:05.059192Z",
     "iopub.status.idle": "2025-08-20T03:57:05.063046Z",
     "shell.execute_reply": "2025-08-20T03:57:05.062470Z"
    }
   },
   "outputs": [
    {
     "data": {
      "text/plain": [
       "array([1.  , 2.  , 3.14])"
      ]
     },
     "execution_count": 16,
     "metadata": {},
     "output_type": "execute_result"
    }
   ],
   "source": [
    "np.array([1, 2, 3.14])  # [int,int,float] -> [float,float,float]"
   ]
  },
  {
   "cell_type": "markdown",
   "id": "80c1c982",
   "metadata": {},
   "source": [
    "Upcasting between integers and floats does not cause too much trouble, but mixing strings and numbers in an array can create problems"
   ]
  },
  {
   "cell_type": "code",
   "execution_count": 17,
   "id": "129a5643",
   "metadata": {
    "execution": {
     "iopub.execute_input": "2025-08-20T03:57:05.064556Z",
     "iopub.status.busy": "2025-08-20T03:57:05.064404Z",
     "iopub.status.idle": "2025-08-20T03:57:05.067941Z",
     "shell.execute_reply": "2025-08-20T03:57:05.067501Z"
    }
   },
   "outputs": [
    {
     "data": {
      "text/plain": [
       "array(['1.0', '(1+1j)', 'hello'], dtype='<U64')"
      ]
     },
     "execution_count": 17,
     "metadata": {},
     "output_type": "execute_result"
    }
   ],
   "source": [
    "np.array([1.0, 1 + 1j, \"hello\"])  # array data is upcast to strings"
   ]
  },
  {
   "cell_type": "markdown",
   "id": "d79b194d",
   "metadata": {},
   "source": [
    "If we want, we can manually change the type of the data inside the array using the ```dtype``` (\"data type\") keyword argument.  Frequently used dtypes are: ```int, float, complex, bool, str, object```, etc.  For example, to convert a list of integers to floats we can write"
   ]
  },
  {
   "cell_type": "code",
   "execution_count": 18,
   "id": "0c7a6e2d",
   "metadata": {
    "execution": {
     "iopub.execute_input": "2025-08-20T03:57:05.069489Z",
     "iopub.status.busy": "2025-08-20T03:57:05.069170Z",
     "iopub.status.idle": "2025-08-20T03:57:05.072913Z",
     "shell.execute_reply": "2025-08-20T03:57:05.072480Z"
    }
   },
   "outputs": [
    {
     "data": {
      "text/plain": [
       "array([1., 2., 3., 4., 5.])"
      ]
     },
     "execution_count": 18,
     "metadata": {},
     "output_type": "execute_result"
    }
   ],
   "source": [
    "np.array([1, 2, 3, 4, 5], dtype=float)"
   ]
  },
  {
   "cell_type": "code",
   "execution_count": 19,
   "id": "4c5c3934",
   "metadata": {
    "execution": {
     "iopub.execute_input": "2025-08-20T03:57:05.074554Z",
     "iopub.status.busy": "2025-08-20T03:57:05.074222Z",
     "iopub.status.idle": "2025-08-20T03:57:05.078038Z",
     "shell.execute_reply": "2025-08-20T03:57:05.077477Z"
    }
   },
   "outputs": [
    {
     "data": {
      "text/plain": [
       "array([2.+0.j, 4.+0.j, 6.+0.j, 8.+0.j])"
      ]
     },
     "execution_count": 19,
     "metadata": {},
     "output_type": "execute_result"
    }
   ],
   "source": [
    "np.arange(2, 10, 2, dtype=complex)"
   ]
  },
  {
   "cell_type": "code",
   "execution_count": 20,
   "id": "39093262",
   "metadata": {
    "execution": {
     "iopub.execute_input": "2025-08-20T03:57:05.079576Z",
     "iopub.status.busy": "2025-08-20T03:57:05.079417Z",
     "iopub.status.idle": "2025-08-20T03:57:05.082983Z",
     "shell.execute_reply": "2025-08-20T03:57:05.082546Z"
    }
   },
   "outputs": [
    {
     "data": {
      "text/plain": [
       "array(['0', '1', '2', '3', '4', '5', '6', '7', '8', '9'], dtype='<U1')"
      ]
     },
     "execution_count": 20,
     "metadata": {},
     "output_type": "execute_result"
    }
   ],
   "source": [
    "np.array([k for k in range(10)], dtype=str)"
   ]
  },
  {
   "cell_type": "markdown",
   "id": "7488020d",
   "metadata": {},
   "source": [
    "Unlike Python lists, **we can not remove or add elements to an array once it has been created**.  Therefore, we must know the size of the array before creating it."
   ]
  },
  {
   "cell_type": "markdown",
   "id": "22749029",
   "metadata": {},
   "source": [
    "Because arrays hold only one type of data, mathematical functions such as multiplication and addition of arrays can be implemented in at the c-code level.  This means that these kinds of operations are very fast and memory efficient.  The mathematical operations on arrays are performed **elementwise**, which means that each element gets acted on in the same way.  This is an example of **vectorization**.  For example:"
   ]
  },
  {
   "cell_type": "code",
   "execution_count": 21,
   "id": "e0785411",
   "metadata": {
    "execution": {
     "iopub.execute_input": "2025-08-20T03:57:05.084424Z",
     "iopub.status.busy": "2025-08-20T03:57:05.084273Z",
     "iopub.status.idle": "2025-08-20T03:57:05.088026Z",
     "shell.execute_reply": "2025-08-20T03:57:05.087583Z"
    }
   },
   "outputs": [
    {
     "data": {
      "text/plain": [
       "array([ 5., 10., 15., 20.])"
      ]
     },
     "execution_count": 21,
     "metadata": {},
     "output_type": "execute_result"
    }
   ],
   "source": [
    "a = np.array([1, 2, 3, 4])\n",
    "5.0 * a  # This gets upcasted because 5.0 is a float"
   ]
  },
  {
   "cell_type": "code",
   "execution_count": 22,
   "id": "7e6f9c1b",
   "metadata": {
    "execution": {
     "iopub.execute_input": "2025-08-20T03:57:05.089421Z",
     "iopub.status.busy": "2025-08-20T03:57:05.089271Z",
     "iopub.status.idle": "2025-08-20T03:57:05.092625Z",
     "shell.execute_reply": "2025-08-20T03:57:05.092200Z"
    }
   },
   "outputs": [
    {
     "data": {
      "text/plain": [
       "array([ 1, 16, 41, 76])"
      ]
     },
     "execution_count": 22,
     "metadata": {},
     "output_type": "execute_result"
    }
   ],
   "source": [
    "5 * a**2 - 4"
   ]
  },
  {
   "cell_type": "markdown",
   "id": "5785237a",
   "metadata": {},
   "source": [
    "Recall that none of these operations worked on Python lists."
   ]
  },
  {
   "cell_type": "markdown",
   "id": "f2b454df",
   "metadata": {},
   "source": [
    "## Using NumPy Functions on Arrays"
   ]
  },
  {
   "cell_type": "markdown",
   "id": "d601946c",
   "metadata": {},
   "source": [
    "Remember that NumPy has a large builtin [collection of mathematical functions](http://docs.scipy.org/doc/numpy/reference/routines.math.html).  When using NumPy arrays as our data structure, these functions become even more powerful as we can apply the same function elementwise over the entire array very quickly.  Again, this is called vectorization and can speed up your code by many times."
   ]
  },
  {
   "cell_type": "code",
   "execution_count": 23,
   "id": "371a3738",
   "metadata": {
    "execution": {
     "iopub.execute_input": "2025-08-20T03:57:05.094229Z",
     "iopub.status.busy": "2025-08-20T03:57:05.093897Z",
     "iopub.status.idle": "2025-08-20T03:57:05.097915Z",
     "shell.execute_reply": "2025-08-20T03:57:05.097338Z"
    }
   },
   "outputs": [
    {
     "data": {
      "text/plain": [
       "array([-1.22464680e-16, -6.42787610e-01, -9.84807753e-01, -8.66025404e-01,\n",
       "       -3.42020143e-01,  3.42020143e-01,  8.66025404e-01,  9.84807753e-01,\n",
       "        6.42787610e-01,  1.22464680e-16])"
      ]
     },
     "execution_count": 23,
     "metadata": {},
     "output_type": "execute_result"
    }
   ],
   "source": [
    "x = np.linspace(-np.pi, np.pi, 10)\n",
    "np.sin(x)"
   ]
  },
  {
   "cell_type": "code",
   "execution_count": 24,
   "id": "654ae61d",
   "metadata": {
    "execution": {
     "iopub.execute_input": "2025-08-20T03:57:05.099781Z",
     "iopub.status.busy": "2025-08-20T03:57:05.099303Z",
     "iopub.status.idle": "2025-08-20T03:57:05.103224Z",
     "shell.execute_reply": "2025-08-20T03:57:05.102780Z"
    }
   },
   "outputs": [
    {
     "data": {
      "text/plain": [
       "array([0., 1., 2., 3.])"
      ]
     },
     "execution_count": 24,
     "metadata": {},
     "output_type": "execute_result"
    }
   ],
   "source": [
    "x = np.array([x**2 for x in range(4)])\n",
    "np.sqrt(x)"
   ]
  },
  {
   "cell_type": "code",
   "execution_count": 25,
   "id": "5426fed8",
   "metadata": {
    "execution": {
     "iopub.execute_input": "2025-08-20T03:57:05.104630Z",
     "iopub.status.busy": "2025-08-20T03:57:05.104481Z",
     "iopub.status.idle": "2025-08-20T03:57:05.108308Z",
     "shell.execute_reply": "2025-08-20T03:57:05.107733Z"
    }
   },
   "outputs": [
    {
     "data": {
      "text/plain": [
       "100"
      ]
     },
     "execution_count": 25,
     "metadata": {},
     "output_type": "execute_result"
    }
   ],
   "source": [
    "x = np.array([2 * n + 1 for n in range(10)])\n",
    "sum(x)  # sums up all elements in the array"
   ]
  },
  {
   "cell_type": "markdown",
   "id": "3ffa3fbe",
   "metadata": {},
   "source": [
    "## Boolean Operations on Arrays"
   ]
  },
  {
   "cell_type": "markdown",
   "id": "21944953",
   "metadata": {},
   "source": [
    "Like other mathematical functions, we can also use conditional statements on arrays to check whether each individual element satisfies a given expression.  For example, to find the location of array elements that are less than zero we could do"
   ]
  },
  {
   "cell_type": "code",
   "execution_count": 26,
   "id": "4567555d",
   "metadata": {
    "execution": {
     "iopub.execute_input": "2025-08-20T03:57:05.109958Z",
     "iopub.status.busy": "2025-08-20T03:57:05.109641Z",
     "iopub.status.idle": "2025-08-20T03:57:05.112455Z",
     "shell.execute_reply": "2025-08-20T03:57:05.112016Z"
    }
   },
   "outputs": [
    {
     "name": "stdout",
     "output_type": "stream",
     "text": [
      "[False  True False  True False]\n"
     ]
    }
   ],
   "source": [
    "a = np.array([0, -1, 2, -3, 4])\n",
    "print(a < 0)"
   ]
  },
  {
   "cell_type": "markdown",
   "id": "83af737a",
   "metadata": {},
   "source": [
    "The result in another array of boolean (```True/False```) values indicating whether a given element is less than zero.  Or, for example, we can find all of the odd numbers in an array."
   ]
  },
  {
   "cell_type": "code",
   "execution_count": 27,
   "id": "65020d50",
   "metadata": {
    "execution": {
     "iopub.execute_input": "2025-08-20T03:57:05.113987Z",
     "iopub.status.busy": "2025-08-20T03:57:05.113831Z",
     "iopub.status.idle": "2025-08-20T03:57:05.116554Z",
     "shell.execute_reply": "2025-08-20T03:57:05.116137Z"
    }
   },
   "outputs": [
    {
     "name": "stdout",
     "output_type": "stream",
     "text": [
      "[False  True False  True False  True False  True False  True]\n"
     ]
    }
   ],
   "source": [
    "a = np.arange(10)\n",
    "print((np.mod(a, 2) != 0))"
   ]
  },
  {
   "cell_type": "markdown",
   "id": "4314369f",
   "metadata": {},
   "source": [
    "## Slicing NumPy Arrays"
   ]
  },
  {
   "cell_type": "markdown",
   "id": "8bb89a0c",
   "metadata": {},
   "source": [
    "Just like lists, arrays can be sliced to get certain elements of the array, or to modify certain elements of the array.  For example, lets try to get every third element from a given array"
   ]
  },
  {
   "cell_type": "code",
   "execution_count": 28,
   "id": "2a4f8d47",
   "metadata": {
    "execution": {
     "iopub.execute_input": "2025-08-20T03:57:05.118207Z",
     "iopub.status.busy": "2025-08-20T03:57:05.117884Z",
     "iopub.status.idle": "2025-08-20T03:57:05.121350Z",
     "shell.execute_reply": "2025-08-20T03:57:05.120928Z"
    }
   },
   "outputs": [
    {
     "data": {
      "text/plain": [
       "array([ 3,  6,  9, 12, 15, 18])"
      ]
     },
     "execution_count": 28,
     "metadata": {},
     "output_type": "execute_result"
    }
   ],
   "source": [
    "a = np.arange(20)\n",
    "a[3::3]"
   ]
  },
  {
   "cell_type": "markdown",
   "id": "5019ea86",
   "metadata": {},
   "source": [
    "Now lets set each of these elements equal to -1."
   ]
  },
  {
   "cell_type": "code",
   "execution_count": 29,
   "id": "9037344d",
   "metadata": {
    "execution": {
     "iopub.execute_input": "2025-08-20T03:57:05.122875Z",
     "iopub.status.busy": "2025-08-20T03:57:05.122693Z",
     "iopub.status.idle": "2025-08-20T03:57:05.125476Z",
     "shell.execute_reply": "2025-08-20T03:57:05.125039Z"
    }
   },
   "outputs": [
    {
     "name": "stdout",
     "output_type": "stream",
     "text": [
      "[ 0  1  2 -1  4  5 -1  7  8 -1 10 11 -1 13 14 -1 16 17 -1 19]\n"
     ]
    }
   ],
   "source": [
    "a[3::3] = -1\n",
    "print(a)"
   ]
  },
  {
   "cell_type": "markdown",
   "id": "357be132",
   "metadata": {},
   "source": [
    "We can also slice the array so that it returns the original array in reverse"
   ]
  },
  {
   "cell_type": "code",
   "execution_count": 30,
   "id": "d4b6fa74",
   "metadata": {
    "execution": {
     "iopub.execute_input": "2025-08-20T03:57:05.126876Z",
     "iopub.status.busy": "2025-08-20T03:57:05.126697Z",
     "iopub.status.idle": "2025-08-20T03:57:05.130213Z",
     "shell.execute_reply": "2025-08-20T03:57:05.129758Z"
    }
   },
   "outputs": [
    {
     "data": {
      "text/plain": [
       "array([9, 8, 7, 6, 5, 4, 3, 2, 1, 0])"
      ]
     },
     "execution_count": 30,
     "metadata": {},
     "output_type": "execute_result"
    }
   ],
   "source": [
    "a = np.arange(10)\n",
    "a[::-1]"
   ]
  },
  {
   "cell_type": "markdown",
   "id": "1020d3cb",
   "metadata": {},
   "source": [
    "Finally, what if we want to get only those elements in the array that satisfy a certain conditional statement?  Recall that conditional statements on an array return another array of boolean values.  We can use this boolean array as an index to pick out only those elements where the boolean value is ```True```."
   ]
  },
  {
   "cell_type": "code",
   "execution_count": 31,
   "id": "eefe6ce8",
   "metadata": {
    "execution": {
     "iopub.execute_input": "2025-08-20T03:57:05.131627Z",
     "iopub.status.busy": "2025-08-20T03:57:05.131475Z",
     "iopub.status.idle": "2025-08-20T03:57:05.134715Z",
     "shell.execute_reply": "2025-08-20T03:57:05.134263Z"
    }
   },
   "outputs": [
    {
     "name": "stdout",
     "output_type": "stream",
     "text": [
      "[-10.          -8.94736842  -7.89473684  -6.84210526  -5.78947368]\n"
     ]
    }
   ],
   "source": [
    "a = np.linspace(-10, 10, 20)\n",
    "print(a[a <= -5])"
   ]
  },
  {
   "cell_type": "markdown",
   "id": "82327f00",
   "metadata": {},
   "source": [
    "We must be careful though. Checking for multiple conditionals is not allowed `print(a[-8 < a <= -5])`.\n",
    "\n",
    "The reason for this is the computer does not know how to take an array of many ```True/False``` values and return just a single value."
   ]
  },
  {
   "cell_type": "markdown",
   "id": "03659cef",
   "metadata": {},
   "source": [
    "## Example: Rewriting Sieve of Eratosthenes"
   ]
  },
  {
   "cell_type": "markdown",
   "id": "802c494d",
   "metadata": {},
   "source": [
    "Here we will replace most of the for-loops used when writing the Sieve of Eratosthenes using lists will arrays.  This will make the code much easier to read and actually much faster for computing large prime numbers.  The main part of the original code is:"
   ]
  },
  {
   "cell_type": "code",
   "execution_count": 32,
   "id": "83c0bbb9",
   "metadata": {
    "execution": {
     "iopub.execute_input": "2025-08-20T03:57:05.136176Z",
     "iopub.status.busy": "2025-08-20T03:57:05.136023Z",
     "iopub.status.idle": "2025-08-20T03:57:05.140336Z",
     "shell.execute_reply": "2025-08-20T03:57:05.139877Z"
    }
   },
   "outputs": [
    {
     "name": "stdout",
     "output_type": "stream",
     "text": [
      "[2, 3, 5, 7, 11, 13, 17, 19]\n"
     ]
    }
   ],
   "source": [
    "N = 20\n",
    "# generate a list from 2->N\n",
    "numbers = []\n",
    "for i in range(2, N + 1):  # This can be replaced by array\n",
    "    numbers.append(i)\n",
    "# Run Seive of Eratosthenes algorithm marking nodes with -1\n",
    "for j in range(N - 1):\n",
    "    if numbers[j] != -1:\n",
    "        p = numbers[j]\n",
    "        for k in range(j + p, N - 1, p):  # This can be replaced by array\n",
    "            numbers[k] = -1\n",
    "# Collect all elements not -1 (these are the primes)\n",
    "primes = []\n",
    "for i in range(N - 1):  # This can be replaced by array\n",
    "    if numbers[i] != -1:\n",
    "        primes.append(numbers[i])\n",
    "print(primes)"
   ]
  },
  {
   "cell_type": "markdown",
   "id": "64e0aeed",
   "metadata": {},
   "source": [
    "Using arrays instead of lists simplifies the code:"
   ]
  },
  {
   "cell_type": "code",
   "execution_count": 33,
   "id": "a2aed36b",
   "metadata": {
    "execution": {
     "iopub.execute_input": "2025-08-20T03:57:05.141833Z",
     "iopub.status.busy": "2025-08-20T03:57:05.141651Z",
     "iopub.status.idle": "2025-08-20T03:57:05.145211Z",
     "shell.execute_reply": "2025-08-20T03:57:05.144749Z"
    }
   },
   "outputs": [
    {
     "name": "stdout",
     "output_type": "stream",
     "text": [
      "[ 2  3  5  7 11 13 17 19]\n"
     ]
    }
   ],
   "source": [
    "N = 20\n",
    "# generate a list from 2->N\n",
    "numbers = np.arange(2, N + 1)  # replaced for-loop with call to arange\n",
    "# Run Seive of Eratosthenes algorithm\n",
    "# by marking nodes with -1\n",
    "for j in range(N - 1):\n",
    "    if numbers[j] != -1:\n",
    "        p = numbers[j]\n",
    "        numbers[j + p: N - 1: p] = -1  # replaced for-loop by slicing array\n",
    "# Collect all elements not -1 (these are the primes)\n",
    "# Use conditional statement to get elements !=-1\n",
    "primes = numbers[numbers != -1]\n",
    "print(primes)"
   ]
  },
  {
   "cell_type": "markdown",
   "id": "780d4c0f",
   "metadata": {},
   "source": [
    "<h1 align=\"center\">End of Tutorial</h1> \n",
    "<h3 align=\"center\"><a href=\"http://qutip.org/tutorials.html\">Return to QuTiP tutorials page</a></h3> "
   ]
  }
 ],
 "metadata": {
  "jupytext": {
   "cell_metadata_filter": "-all",
   "notebook_metadata_filter": "-jupytext.cell_metadata_filter,-jupytext.notebook_metadata_filter"
  },
  "kernelspec": {
   "display_name": "Python 3 (ipykernel)",
   "language": "python",
   "name": "python3"
  },
  "language_info": {
   "codemirror_mode": {
    "name": "ipython",
    "version": 3
   },
   "file_extension": ".py",
   "mimetype": "text/x-python",
   "name": "python",
   "nbconvert_exporter": "python",
   "pygments_lexer": "ipython3",
   "version": "3.10.4"
  }
 },
 "nbformat": 4,
 "nbformat_minor": 5
}
