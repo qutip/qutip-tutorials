{
 "cells": [
  {
   "cell_type": "markdown",
   "id": "56584a9f",
   "metadata": {},
   "source": [
    "# Time-dependent Master Equation: Landau-Zener-Stuckelberg inteferometry"
   ]
  },
  {
   "cell_type": "markdown",
   "id": "89bf7920",
   "metadata": {},
   "source": [
    "J.R. Johansson and P.D. Nation\n",
    "\n",
    "For more information about QuTiP see [http://qutip.org](http://qutip.org)"
   ]
  },
  {
   "cell_type": "code",
   "execution_count": 1,
   "id": "32dfa373",
   "metadata": {
    "execution": {
     "iopub.execute_input": "2025-08-20T04:18:20.001121Z",
     "iopub.status.busy": "2025-08-20T04:18:20.000696Z",
     "iopub.status.idle": "2025-08-20T04:18:20.666013Z",
     "shell.execute_reply": "2025-08-20T04:18:20.665498Z"
    }
   },
   "outputs": [],
   "source": [
    "import matplotlib.pyplot as plt\n",
    "import numpy as np\n",
    "from qutip import (Options, about, destroy, expect, num, propagator,\n",
    "                   propagator_steadystate, sigmax, sigmaz)\n",
    "from qutip.ui.progressbar import TextProgressBar as ProgressBar\n",
    "\n",
    "%matplotlib inline"
   ]
  },
  {
   "cell_type": "markdown",
   "id": "1044ae27",
   "metadata": {},
   "source": [
    "Landau-Zener-Stuckelberg interferometry: Steady state of a strongly driven two-level system, using the one-period propagator. "
   ]
  },
  {
   "cell_type": "code",
   "execution_count": 2,
   "id": "d45d5dc3",
   "metadata": {
    "execution": {
     "iopub.execute_input": "2025-08-20T04:18:20.667954Z",
     "iopub.status.busy": "2025-08-20T04:18:20.667709Z",
     "iopub.status.idle": "2025-08-20T04:18:20.672677Z",
     "shell.execute_reply": "2025-08-20T04:18:20.672231Z"
    }
   },
   "outputs": [],
   "source": [
    "# set up the parameters and start calculation\n",
    "delta = 1.0 * 2 * np.pi  # qubit sigma_x coefficient\n",
    "w = 2.0 * 2 * np.pi  # driving frequency\n",
    "T = 2 * np.pi / w  # driving period\n",
    "gamma1 = 0.00001  # relaxation rate\n",
    "gamma2 = 0.005  # dephasing  rate\n",
    "\n",
    "eps_list = np.linspace(-20.0, 20.0, 51) * 2 * np.pi\n",
    "A_list = np.linspace(0.0, 20.0, 51) * 2 * np.pi\n",
    "\n",
    "# pre-calculate the necessary operators\n",
    "sx = sigmax()\n",
    "sz = sigmaz()\n",
    "sm = destroy(2)\n",
    "sn = num(2)\n",
    "\n",
    "# collapse operators: relaxation and dephasing\n",
    "c_op_list = [np.sqrt(gamma1) * sm, np.sqrt(gamma2) * sz]"
   ]
  },
  {
   "cell_type": "code",
   "execution_count": 3,
   "id": "9d992e5a",
   "metadata": {
    "execution": {
     "iopub.execute_input": "2025-08-20T04:18:20.674123Z",
     "iopub.status.busy": "2025-08-20T04:18:20.673966Z",
     "iopub.status.idle": "2025-08-20T04:18:20.676556Z",
     "shell.execute_reply": "2025-08-20T04:18:20.676129Z"
    }
   },
   "outputs": [],
   "source": [
    "# ODE settings (for list-str format)\n",
    "options = Options()\n",
    "options.atol = 1e-6  # reduce accuracy to speed\n",
    "options.rtol = 1e-5  # up the calculation a bit\n",
    "options.rhs_reuse = True  # Compile Hamiltonian only the first time."
   ]
  },
  {
   "cell_type": "code",
   "execution_count": 4,
   "id": "b9e2ee3a",
   "metadata": {
    "execution": {
     "iopub.execute_input": "2025-08-20T04:18:20.678062Z",
     "iopub.status.busy": "2025-08-20T04:18:20.677902Z",
     "iopub.status.idle": "2025-08-20T04:18:20.711664Z",
     "shell.execute_reply": "2025-08-20T04:18:20.711179Z"
    }
   },
   "outputs": [],
   "source": [
    "# perform the calculation for each combination of eps and A, store the result\n",
    "# in a matrix\n",
    "def calculate():\n",
    "\n",
    "    p_mat = np.zeros((len(eps_list), len(A_list)))\n",
    "\n",
    "    H0 = -delta / 2.0 * sx\n",
    "\n",
    "    # Define H1 (first time-dependent term)\n",
    "    # String method:\n",
    "    H1 = [-sz / 2, \"eps\"]\n",
    "    # Function method:\n",
    "    # H1 = [- sz / 2, lambda t, args: args['eps'] ]\n",
    "\n",
    "    # Define H2 (second time-dependent term)\n",
    "    # String method:\n",
    "    H2 = [sz / 2, \"A * sin(w * t)\"]\n",
    "    # Function method:\n",
    "    # H2 = [sz / 2, lambda t, args: args['A']*np.sin(args['w'] * t) ]\n",
    "\n",
    "    H = [H0, H1, H2]\n",
    "\n",
    "    pbar = ProgressBar(len(eps_list))\n",
    "    for m, eps in enumerate(eps_list):\n",
    "        pbar.update(m)\n",
    "        for n, A in enumerate(A_list):\n",
    "            args = {\"w\": w, \"A\": A, \"eps\": eps}\n",
    "\n",
    "            U = propagator(H, T, c_op_list, args, options=options)\n",
    "            rho_ss = propagator_steadystate(U)\n",
    "\n",
    "            p_mat[m, n] = np.real(expect(sn, rho_ss))\n",
    "\n",
    "    return p_mat"
   ]
  },
  {
   "cell_type": "code",
   "execution_count": 5,
   "id": "93d6a044",
   "metadata": {
    "execution": {
     "iopub.execute_input": "2025-08-20T04:18:20.713181Z",
     "iopub.status.busy": "2025-08-20T04:18:20.713019Z",
     "iopub.status.idle": "2025-08-20T04:18:36.033909Z",
     "shell.execute_reply": "2025-08-20T04:18:36.033372Z"
    }
   },
   "outputs": [
    {
     "name": "stdout",
     "output_type": "stream",
     "text": [
      "11.8%. Run time:   4.65s. Est. time left: 00:00:00:34\n"
     ]
    },
    {
     "name": "stdout",
     "output_type": "stream",
     "text": [
      "21.6%. Run time:   5.92s. Est. time left: 00:00:00:21\n"
     ]
    },
    {
     "name": "stdout",
     "output_type": "stream",
     "text": [
      "31.4%. Run time:   7.12s. Est. time left: 00:00:00:15\n"
     ]
    },
    {
     "name": "stdout",
     "output_type": "stream",
     "text": [
      "41.2%. Run time:   8.23s. Est. time left: 00:00:00:11\n"
     ]
    },
    {
     "name": "stdout",
     "output_type": "stream",
     "text": [
      "51.0%. Run time:   9.32s. Est. time left: 00:00:00:08\n"
     ]
    },
    {
     "name": "stdout",
     "output_type": "stream",
     "text": [
      "60.8%. Run time:  10.40s. Est. time left: 00:00:00:06\n"
     ]
    },
    {
     "name": "stdout",
     "output_type": "stream",
     "text": [
      "70.6%. Run time:  11.48s. Est. time left: 00:00:00:04\n"
     ]
    },
    {
     "name": "stdout",
     "output_type": "stream",
     "text": [
      "80.4%. Run time:  12.63s. Est. time left: 00:00:00:03\n"
     ]
    },
    {
     "name": "stdout",
     "output_type": "stream",
     "text": [
      "90.2%. Run time:  13.92s. Est. time left: 00:00:00:01\n"
     ]
    }
   ],
   "source": [
    "p_mat = calculate()"
   ]
  },
  {
   "cell_type": "code",
   "execution_count": 6,
   "id": "140f2774",
   "metadata": {
    "execution": {
     "iopub.execute_input": "2025-08-20T04:18:36.035732Z",
     "iopub.status.busy": "2025-08-20T04:18:36.035552Z",
     "iopub.status.idle": "2025-08-20T04:18:36.295007Z",
     "shell.execute_reply": "2025-08-20T04:18:36.294478Z"
    }
   },
   "outputs": [
    {
     "data": {
      "image/png": "[encoded data removed]",
      "text/plain": [
       "<Figure size 800x800 with 1 Axes>"
      ]
     },
     "metadata": {},
     "output_type": "display_data"
    }
   ],
   "source": [
    "fig, ax = plt.subplots(figsize=(8, 8))\n",
    "\n",
    "A_mat, eps_mat = np.meshgrid(A_list / (2 * np.pi), eps_list / (2 * np.pi))\n",
    "\n",
    "ax.pcolor(eps_mat, A_mat, p_mat, shading=\"auto\")\n",
    "ax.set_xlabel(r\"Bias point $\\epsilon$\")\n",
    "ax.set_ylabel(r\"Amplitude $A$\")\n",
    "ax.set_title(\n",
    "    \"Steadystate excitation probability\\n\"\n",
    "    + r\"$H = -\\frac{1}{2}\\Delta\\sigma_x -\\frac{1}{2}\\epsilon\\sigma_z -\"\n",
    "    + r\"\\frac{1}{2}A\\sin(\\omega t)$\"\n",
    "    + \"\\n\"\n",
    ");"
   ]
  },
  {
   "cell_type": "markdown",
   "id": "059d70a5",
   "metadata": {},
   "source": [
    "## Versions"
   ]
  },
  {
   "cell_type": "code",
   "execution_count": 7,
   "id": "194e7a0c",
   "metadata": {
    "execution": {
     "iopub.execute_input": "2025-08-20T04:18:36.296904Z",
     "iopub.status.busy": "2025-08-20T04:18:36.296697Z",
     "iopub.status.idle": "2025-08-20T04:18:36.299770Z",
     "shell.execute_reply": "2025-08-20T04:18:36.299324Z"
    }
   },
   "outputs": [
    {
     "name": "stdout",
     "output_type": "stream",
     "text": [
      "\n",
      "QuTiP: Quantum Toolbox in Python\n",
      "================================\n",
      "Copyright (c) QuTiP team 2011 and later.\n",
      "Current admin team: Alexander Pitchford, Nathan Shammah, Shahnawaz Ahmed, Neill Lambert, Eric Giguère, Boxi Li, Jake Lishman, Simon Cross and Asier Galicia.\n",
      "Board members: Daniel Burgarth, Robert Johansson, Anton F. Kockum, Franco Nori and Will Zeng.\n",
      "Original developers: R. J. Johansson & P. D. Nation.\n",
      "Previous lead developers: Chris Granade & A. Grimsmo.\n",
      "Currently developed through wide collaboration. See https://github.com/qutip for details.\n",
      "\n",
      "QuTiP Version:      4.7.6\n",
      "Numpy Version:      1.26.4\n",
      "Scipy Version:      1.12.0\n",
      "Cython Version:     0.29.37\n",
      "Matplotlib Version: 3.5.2\n",
      "Python Version:     3.10.4\n",
      "Number of CPUs:     4\n",
      "BLAS Info:          Generic\n",
      "OPENMP Installed:   False\n",
      "INTEL MKL Ext:      False\n",
      "Platform Info:      Linux (x86_64)\n",
      "Installation path:  /home/runner/miniconda3/envs/test-environment-v4/lib/python3.10/site-packages/qutip\n",
      "================================================================================\n",
      "Please cite QuTiP in your publication.\n",
      "================================================================================\n",
      "For your convenience a bibtex reference can be easily generated using `qutip.cite()`\n"
     ]
    }
   ],
   "source": [
    "about()"
   ]
  }
 ],
 "metadata": {
  "jupytext": {
   "cell_metadata_filter": "-all",
   "notebook_metadata_filter": "-jupytext.cell_metadata_filter,-jupytext.notebook_metadata_filter"
  },
  "kernelspec": {
   "display_name": "Python 3 (ipykernel)",
   "language": "python",
   "name": "python3"
  },
  "language_info": {
   "codemirror_mode": {
    "name": "ipython",
    "version": 3
   },
   "file_extension": ".py",
   "mimetype": "text/x-python",
   "name": "python",
   "nbconvert_exporter": "python",
   "pygments_lexer": "ipython3",
   "version": "3.10.4"
  }
 },
 "nbformat": 4,
 "nbformat_minor": 5
}
