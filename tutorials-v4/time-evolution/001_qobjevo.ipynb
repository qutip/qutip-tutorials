{
 "cells": [
  {
   "cell_type": "markdown",
   "id": "09fc04db",
   "metadata": {},
   "source": [
    "# <code>QobjEvo</code>: time-dependent quantum objects\n",
    "Made by Eric Giguere, updated by Jake Lishman"
   ]
  },
  {
   "cell_type": "code",
   "execution_count": 1,
   "id": "d8aaa920",
   "metadata": {
    "execution": {
     "iopub.execute_input": "2025-08-20T04:17:30.038776Z",
     "iopub.status.busy": "2025-08-20T04:17:30.038610Z",
     "iopub.status.idle": "2025-08-20T04:17:30.701285Z",
     "shell.execute_reply": "2025-08-20T04:17:30.700671Z"
    }
   },
   "outputs": [],
   "source": [
    "# Basic setup\n",
    "import numpy as np\n",
    "import qutip\n",
    "\n",
    "size = 4\n",
    "t = 1.0\n",
    "a = qutip.destroy(size)\n",
    "ad = qutip.create(size)\n",
    "n = qutip.num(size)\n",
    "Id = qutip.qeye(size)"
   ]
  },
  {
   "cell_type": "markdown",
   "id": "09073c04",
   "metadata": {},
   "source": [
    "## Contents\n",
    "\n",
    "- [Motivation](#Motivation)\n",
    "- [Instantiation](#Instantiation)\n",
    "    * [Functional time dependence](#Function-time-dependence)\n",
    "    * [String time dependence](#String-time-dependence)\n",
    "    * [Array dependence](#Array-dependence)\n",
    "- [Evaluation](#Evaluation)\n",
    "- [Compilation](#Compilation)\n",
    "- [Arguments](#Arguments)\n",
    "    * [Function form](#Function-form)\n",
    "    * [String form](#String-form)\n",
    "    * [Using objects](#Using-objects)\n",
    "    * [Dynamic arguments](#Dynamic-arguments)\n",
    "- [Mathematics](#Mathematics)\n",
    "- [Superoperators](#Superoperators)"
   ]
  },
  {
   "cell_type": "markdown",
   "id": "085a6000",
   "metadata": {},
   "source": [
    "## Motivation\n",
    "A `Qobj` is a generic quantum object, but it only represents constant objects.  When we need to represent time-dependent objects, the relevant functions take a list of `(Qobj, <time-dependence>)` tuples, where the time dependence is a function, a string or an array.  Inside the function, this is then converted into a new, time-dependent class `QobjEvo`.  We then use this for several compilation and optimisation steps to ensure that the solvers run quickly.\n",
    "\n",
    "You do not _need_ to use `QobjEvo`, but if you are planning to reuse some large operators for a long-running integration, you can instantiate one yourself and manually call the C compilation methods.  This will have a one-off start-up cost of a couple of seconds, but will make all uses of it faster afterwards.  This trade-off is often worthwhile if the integration will take over around 15 minutes, even if you do not reuse the object."
   ]
  },
  {
   "cell_type": "markdown",
   "id": "c2a2e303",
   "metadata": {},
   "source": [
    "## Instantiation\n",
    "\n",
    "`QobjEvo` is instantiated with the same time-dependent list that is passed to, say, `mesolve`.  This doesn't even _have_ to be time dependent, but constant ones will not have significant benefits over varying ones.  The three types of scalar time dependence are:\n",
    "  - function\n",
    "  - string\n",
    "  - array\n",
    "\n",
    "This can represent objects of the form\n",
    "$$\n",
    "A(t) = \\sum_k f_k(t) A_k\n",
    "$$\n",
    "where the $f_k(t)$ are time-dependent scalars, and the $A_k$ are constant `Qobj` objects.  The list then looks like\n",
    "```\n",
    "[A0, [A1, f1], [A2, f2], ...]\n",
    "```\n",
    "where all the `Ak` are constant `Qobj`s, and the `fk` are time dependences in one of the available forms.\n",
    "\n",
    "It is not recommended to mix formats within one `QobjEvo`, as the available optimisations will typically be reduced."
   ]
  },
  {
   "cell_type": "code",
   "execution_count": 2,
   "id": "013defc3",
   "metadata": {
    "execution": {
     "iopub.execute_input": "2025-08-20T04:17:30.703408Z",
     "iopub.status.busy": "2025-08-20T04:17:30.703002Z",
     "iopub.status.idle": "2025-08-20T04:17:30.706063Z",
     "shell.execute_reply": "2025-08-20T04:17:30.705504Z"
    }
   },
   "outputs": [],
   "source": [
    "constant_form = qutip.QobjEvo([n])"
   ]
  },
  {
   "cell_type": "markdown",
   "id": "43a4d6e1",
   "metadata": {},
   "source": [
    "### Function time dependence\n",
    "\n",
    "This should be a valid Python function with the signature\n",
    "```python\n",
    "(t: float, args: dict) -> complex\n",
    "```\n",
    "where `t` is the time, `args` is a dictionary containing arguments which you can change without needing a new `QobjEvo`, and the return value is the complex value of $f_k$.  We'll look more at `args` later."
   ]
  },
  {
   "cell_type": "code",
   "execution_count": 3,
   "id": "40766ac6",
   "metadata": {
    "execution": {
     "iopub.execute_input": "2025-08-20T04:17:30.707905Z",
     "iopub.status.busy": "2025-08-20T04:17:30.707476Z",
     "iopub.status.idle": "2025-08-20T04:17:30.710934Z",
     "shell.execute_reply": "2025-08-20T04:17:30.710447Z"
    }
   },
   "outputs": [],
   "source": [
    "def cos_t(t, args):\n",
    "    return np.cos(t)\n",
    "\n",
    "\n",
    "function_form = qutip.QobjEvo([n, [a + ad, cos_t]])"
   ]
  },
  {
   "cell_type": "markdown",
   "id": "6032ce0b",
   "metadata": {},
   "source": [
    "If you need something more complex, such as a state with memory or to build a parametrised set of functions where the arguments will not change once set, you can use a class which implements `__call__`."
   ]
  },
  {
   "cell_type": "code",
   "execution_count": 4,
   "id": "fdb6430b",
   "metadata": {
    "execution": {
     "iopub.execute_input": "2025-08-20T04:17:30.712496Z",
     "iopub.status.busy": "2025-08-20T04:17:30.712226Z",
     "iopub.status.idle": "2025-08-20T04:17:30.715917Z",
     "shell.execute_reply": "2025-08-20T04:17:30.715343Z"
    }
   },
   "outputs": [],
   "source": [
    "class callable_time_dependence:\n",
    "    def __init__(self, add):\n",
    "        self.add = add\n",
    "\n",
    "    def __call__(self, t, args):\n",
    "        return self.add + np.cos(t)\n",
    "\n",
    "\n",
    "callable_form = qutip.QobjEvo([n, [a + ad, callable_time_dependence(2)]])"
   ]
  },
  {
   "cell_type": "markdown",
   "id": "d19cd75b",
   "metadata": {},
   "source": [
    "### String time dependence\n",
    "\n",
    "This should be a valid single Python expression that evaluates to a `complex`.  Roughly, if you could do `eval(x)` and get a valid `complex`, you will be fine.  In addition to `t` being the time, the following symbols are also defined in scope with their usual definitions:\n",
    "```\n",
    "sin  cos  tan   asin  acos  atan\n",
    "sinh cosh tanh  asinh acosh atanh  \n",
    "exp  log  log10 erf   zerf  sqrt  \n",
    "real imag conj  abs   norm  arg\n",
    "proj pi\n",
    "```\n",
    "In addition, `np` refers to `numpy` and `spe` to `scipy.special`.\n",
    "\n",
    "String dependence can be compiled down to C code if Cython is available (or to pure Python if it isn't).  Compiling to C takes a comparatively long time, but if you plan to reuse the same time dependence a lot, this will produce the fastest code."
   ]
  },
  {
   "cell_type": "code",
   "execution_count": 5,
   "id": "99a3a459",
   "metadata": {
    "execution": {
     "iopub.execute_input": "2025-08-20T04:17:30.717611Z",
     "iopub.status.busy": "2025-08-20T04:17:30.717172Z",
     "iopub.status.idle": "2025-08-20T04:17:30.720480Z",
     "shell.execute_reply": "2025-08-20T04:17:30.719921Z"
    }
   },
   "outputs": [],
   "source": [
    "string_form = qutip.QobjEvo([n, [a + ad, \"cos(t)\"]])"
   ]
  },
  {
   "cell_type": "markdown",
   "id": "250e08f1",
   "metadata": {},
   "source": [
    "### Array dependence\n",
    "\n",
    "If the time dependence is particularly costly to compute, you may pass an array containing the value of the functions evaluated at different times, and separately pass the corresponding list of times to the `tlist` keyword argument of the `QobjEvo` constructor.  All times inbetween will be interpolated with cubic splines.\n",
    "\n",
    "The times in `tlist` must be sorted, but they don't need to be evenly distributed.  If you use this for more than one entry, all entries must have the same values for `tlist` (you can only pass one)."
   ]
  },
  {
   "cell_type": "code",
   "execution_count": 6,
   "id": "b711887c",
   "metadata": {
    "execution": {
     "iopub.execute_input": "2025-08-20T04:17:30.722034Z",
     "iopub.status.busy": "2025-08-20T04:17:30.721864Z",
     "iopub.status.idle": "2025-08-20T04:17:30.725720Z",
     "shell.execute_reply": "2025-08-20T04:17:30.725269Z"
    }
   },
   "outputs": [],
   "source": [
    "tlist = np.linspace(0, 10, 101)\n",
    "values = np.cos(tlist)\n",
    "array_form = qutip.QobjEvo([n, [a + ad, values]], tlist=tlist)"
   ]
  },
  {
   "cell_type": "markdown",
   "id": "441faca9",
   "metadata": {},
   "source": [
    "## Evaluation\n",
    "\n",
    "No matter what type of time dependence was used, or even if only a constant was created, you can always call your `QobjEvo` instance like a function to get the value at that time.  This will return a `Qobj`."
   ]
  },
  {
   "cell_type": "code",
   "execution_count": 7,
   "id": "3b684e4e",
   "metadata": {
    "execution": {
     "iopub.execute_input": "2025-08-20T04:17:30.727097Z",
     "iopub.status.busy": "2025-08-20T04:17:30.726928Z",
     "iopub.status.idle": "2025-08-20T04:17:30.733882Z",
     "shell.execute_reply": "2025-08-20T04:17:30.733332Z"
    }
   },
   "outputs": [
    {
     "data": {
      "text/latex": [
       "Quantum object: dims = [[4], [4]], shape = (4, 4), type = oper, isherm = True $ \\\\ \\left(\\begin{matrix}0.0 & 0.0 & 0.0 & 0.0\\\\0.0 & 1.0 & 0.0 & 0.0\\\\0.0 & 0.0 & 2.0 & 0.0\\\\0.0 & 0.0 & 0.0 & 3.0\\\\\\end{matrix}\\right)$"
      ],
      "text/plain": [
       "Quantum object: dims = [[4], [4]], shape = (4, 4), type = oper, isherm = True\n",
       "Qobj data =\n",
       "[[0. 0. 0. 0.]\n",
       " [0. 1. 0. 0.]\n",
       " [0. 0. 2. 0.]\n",
       " [0. 0. 0. 3.]]"
      ]
     },
     "execution_count": 7,
     "metadata": {},
     "output_type": "execute_result"
    }
   ],
   "source": [
    "constant_form(2)"
   ]
  },
  {
   "cell_type": "code",
   "execution_count": 8,
   "id": "18190915",
   "metadata": {
    "execution": {
     "iopub.execute_input": "2025-08-20T04:17:30.735495Z",
     "iopub.status.busy": "2025-08-20T04:17:30.735172Z",
     "iopub.status.idle": "2025-08-20T04:17:30.739673Z",
     "shell.execute_reply": "2025-08-20T04:17:30.739147Z"
    }
   },
   "outputs": [
    {
     "data": {
      "text/latex": [
       "Quantum object: dims = [[4], [4]], shape = (4, 4), type = oper, isherm = True $ \\\\ \\left(\\begin{matrix}0.0 & -0.416 & 0.0 & 0.0\\\\-0.416 & 1.0 & -0.589 & 0.0\\\\0.0 & -0.589 & 2.0 & -0.721\\\\0.0 & 0.0 & -0.721 & 3.0\\\\\\end{matrix}\\right)$"
      ],
      "text/plain": [
       "Quantum object: dims = [[4], [4]], shape = (4, 4), type = oper, isherm = True\n",
       "Qobj data =\n",
       "[[ 0.         -0.41614684  0.          0.        ]\n",
       " [-0.41614684  1.         -0.5885205   0.        ]\n",
       " [ 0.         -0.5885205   2.         -0.72078746]\n",
       " [ 0.          0.         -0.72078746  3.        ]]"
      ]
     },
     "execution_count": 8,
     "metadata": {},
     "output_type": "execute_result"
    }
   ],
   "source": [
    "function_form(2)"
   ]
  },
  {
   "cell_type": "code",
   "execution_count": 9,
   "id": "67a31b5a",
   "metadata": {
    "execution": {
     "iopub.execute_input": "2025-08-20T04:17:30.741184Z",
     "iopub.status.busy": "2025-08-20T04:17:30.741017Z",
     "iopub.status.idle": "2025-08-20T04:17:30.745410Z",
     "shell.execute_reply": "2025-08-20T04:17:30.744846Z"
    }
   },
   "outputs": [
    {
     "data": {
      "text/latex": [
       "Quantum object: dims = [[4], [4]], shape = (4, 4), type = oper, isherm = True $ \\\\ \\left(\\begin{matrix}0.0 & 1.584 & 0.0 & 0.0\\\\1.584 & 1.0 & 2.240 & 0.0\\\\0.0 & 2.240 & 2.0 & 2.743\\\\0.0 & 0.0 & 2.743 & 3.0\\\\\\end{matrix}\\right)$"
      ],
      "text/plain": [
       "Quantum object: dims = [[4], [4]], shape = (4, 4), type = oper, isherm = True\n",
       "Qobj data =\n",
       "[[0.         1.58385316 0.         0.        ]\n",
       " [1.58385316 1.         2.23990662 0.        ]\n",
       " [0.         2.23990662 2.         2.74331415]\n",
       " [0.         0.         2.74331415 3.        ]]"
      ]
     },
     "execution_count": 9,
     "metadata": {},
     "output_type": "execute_result"
    }
   ],
   "source": [
    "callable_form(2)"
   ]
  },
  {
   "cell_type": "code",
   "execution_count": 10,
   "id": "9dc235d1",
   "metadata": {
    "execution": {
     "iopub.execute_input": "2025-08-20T04:17:30.747159Z",
     "iopub.status.busy": "2025-08-20T04:17:30.746711Z",
     "iopub.status.idle": "2025-08-20T04:17:30.751400Z",
     "shell.execute_reply": "2025-08-20T04:17:30.750846Z"
    }
   },
   "outputs": [
    {
     "data": {
      "text/latex": [
       "Quantum object: dims = [[4], [4]], shape = (4, 4), type = oper, isherm = True $ \\\\ \\left(\\begin{matrix}0.0 & -0.416 & 0.0 & 0.0\\\\-0.416 & 1.0 & -0.589 & 0.0\\\\0.0 & -0.589 & 2.0 & -0.721\\\\0.0 & 0.0 & -0.721 & 3.0\\\\\\end{matrix}\\right)$"
      ],
      "text/plain": [
       "Quantum object: dims = [[4], [4]], shape = (4, 4), type = oper, isherm = True\n",
       "Qobj data =\n",
       "[[ 0.         -0.41614684  0.          0.        ]\n",
       " [-0.41614684  1.         -0.5885205   0.        ]\n",
       " [ 0.         -0.5885205   2.         -0.72078746]\n",
       " [ 0.          0.         -0.72078746  3.        ]]"
      ]
     },
     "execution_count": 10,
     "metadata": {},
     "output_type": "execute_result"
    }
   ],
   "source": [
    "string_form(2)"
   ]
  },
  {
   "cell_type": "code",
   "execution_count": 11,
   "id": "903b58da",
   "metadata": {
    "execution": {
     "iopub.execute_input": "2025-08-20T04:17:30.752843Z",
     "iopub.status.busy": "2025-08-20T04:17:30.752656Z",
     "iopub.status.idle": "2025-08-20T04:17:30.757119Z",
     "shell.execute_reply": "2025-08-20T04:17:30.756658Z"
    }
   },
   "outputs": [
    {
     "data": {
      "text/latex": [
       "Quantum object: dims = [[4], [4]], shape = (4, 4), type = oper, isherm = True $ \\\\ \\left(\\begin{matrix}0.0 & -0.416 & 0.0 & 0.0\\\\-0.416 & 1.0 & -0.589 & 0.0\\\\0.0 & -0.589 & 2.0 & -0.721\\\\0.0 & 0.0 & -0.721 & 3.0\\\\\\end{matrix}\\right)$"
      ],
      "text/plain": [
       "Quantum object: dims = [[4], [4]], shape = (4, 4), type = oper, isherm = True\n",
       "Qobj data =\n",
       "[[ 0.         -0.41614684  0.          0.        ]\n",
       " [-0.41614684  1.         -0.5885205   0.        ]\n",
       " [ 0.         -0.5885205   2.         -0.72078746]\n",
       " [ 0.          0.         -0.72078746  3.        ]]"
      ]
     },
     "execution_count": 11,
     "metadata": {},
     "output_type": "execute_result"
    }
   ],
   "source": [
    "array_form(2)"
   ]
  },
  {
   "cell_type": "markdown",
   "id": "c5a7a3d0",
   "metadata": {},
   "source": [
    "## Compilation"
   ]
  },
  {
   "cell_type": "markdown",
   "id": "1b446991",
   "metadata": {},
   "source": [
    "If you have Cython available, `QobjEvo` can compile itself down to C code for speed.  This will be most successful with the string format of time dependence.  The compilation process is likely to be slow, but afterwards the `QobjEvo` should return values significantly faster.\n",
    "\n",
    "Compilation is done with the `QobjEvo.compile()` method, and modifies the object in-place.  Calling the same method again will not force a recompilation.  This is important for re-using compiled `QobjEvo` objects - the solvers will not need to recompile each time the same object is passed."
   ]
  },
  {
   "cell_type": "code",
   "execution_count": 12,
   "id": "86850f83",
   "metadata": {
    "execution": {
     "iopub.execute_input": "2025-08-20T04:17:30.758787Z",
     "iopub.status.busy": "2025-08-20T04:17:30.758379Z",
     "iopub.status.idle": "2025-08-20T04:17:33.687827Z",
     "shell.execute_reply": "2025-08-20T04:17:33.687263Z"
    }
   },
   "outputs": [
    {
     "data": {
      "text/latex": [
       "Quantum object: dims = [[4], [4]], shape = (4, 4), type = oper, isherm = True $ \\\\ \\left(\\begin{matrix}0.0 & -0.654 & 0.0 & 0.0\\\\-0.654 & 1.0 & -0.924 & 0.0\\\\0.0 & -0.924 & 2.0 & -1.132\\\\0.0 & 0.0 & -1.132 & 3.0\\\\\\end{matrix}\\right)$"
      ],
      "text/plain": [
       "Quantum object: dims = [[4], [4]], shape = (4, 4), type = oper, isherm = True\n",
       "Qobj data =\n",
       "[[ 0.         -0.65364362  0.          0.        ]\n",
       " [-0.65364362  1.         -0.92439167  0.        ]\n",
       " [ 0.         -0.92439167  2.         -1.13214396]\n",
       " [ 0.          0.         -1.13214396  3.        ]]"
      ]
     },
     "execution_count": 12,
     "metadata": {},
     "output_type": "execute_result"
    }
   ],
   "source": [
    "string_form.compile()\n",
    "string_form(4)"
   ]
  },
  {
   "cell_type": "markdown",
   "id": "b76dea83",
   "metadata": {},
   "source": [
    "## Arguments\n",
    "\n",
    "Data can be passed to the coefficient functions or strings using an `args` dictionary.  In the functional form, this is passed as an explicit parameter.  In the string form, `args` acts like additional variable definitions for the scope of the function.  In other words, `'x + 2'` will work and return a value if, for example, `args` is `{'x': 1}`.  \n",
    "The keys of `args` should always be strings representing valid Python identifiers (variable names), and they should not begin with an underscore (\\_).\n",
    "\n",
    "Values _can_ be any type, but if Cython compilation is used with string dependence, there will be a large performance penalty for using anything other than valid C numeric types (including `complex`), `numpy` arrays, or any object that Cython cannot call natively.\n",
    "\n",
    "You can pass `args` directly at instantiation, and these will be used in every call, unless you specifically override them using the `args` keyword argument in the call.  The overriding is temporary, and all subsequent calls will use the values given at initialisation."
   ]
  },
  {
   "cell_type": "markdown",
   "id": "0fb21e8f",
   "metadata": {},
   "source": [
    "### Function form"
   ]
  },
  {
   "cell_type": "code",
   "execution_count": 13,
   "id": "81c87764",
   "metadata": {
    "execution": {
     "iopub.execute_input": "2025-08-20T04:17:33.689487Z",
     "iopub.status.busy": "2025-08-20T04:17:33.689304Z",
     "iopub.status.idle": "2025-08-20T04:17:33.694465Z",
     "shell.execute_reply": "2025-08-20T04:17:33.694032Z"
    }
   },
   "outputs": [
    {
     "data": {
      "text/latex": [
       "Quantum object: dims = [[4], [4]], shape = (4, 4), type = oper, isherm = True $ \\\\ \\left(\\begin{matrix}3.0 & 0.0 & 0.0 & 0.0\\\\0.0 & 3.0 & 0.0 & 0.0\\\\0.0 & 0.0 & 3.0 & 0.0\\\\0.0 & 0.0 & 0.0 & 3.0\\\\\\end{matrix}\\right)$"
      ],
      "text/plain": [
       "Quantum object: dims = [[4], [4]], shape = (4, 4), type = oper, isherm = True\n",
       "Qobj data =\n",
       "[[3. 0. 0. 0.]\n",
       " [0. 3. 0. 0.]\n",
       " [0. 0. 3. 0.]\n",
       " [0. 0. 0. 3.]]"
      ]
     },
     "execution_count": 13,
     "metadata": {},
     "output_type": "execute_result"
    }
   ],
   "source": [
    "def coeff_with_args(t, args):\n",
    "    return t + args[\"delta\"]\n",
    "\n",
    "\n",
    "td_args = qutip.QobjEvo([Id, coeff_with_args], args={\"delta\": 1.0})\n",
    "td_args(2)"
   ]
  },
  {
   "cell_type": "code",
   "execution_count": 14,
   "id": "0fe8b5ea",
   "metadata": {
    "execution": {
     "iopub.execute_input": "2025-08-20T04:17:33.695937Z",
     "iopub.status.busy": "2025-08-20T04:17:33.695746Z",
     "iopub.status.idle": "2025-08-20T04:17:33.700256Z",
     "shell.execute_reply": "2025-08-20T04:17:33.699812Z"
    }
   },
   "outputs": [
    {
     "data": {
      "text/latex": [
       "Quantum object: dims = [[4], [4]], shape = (4, 4), type = oper, isherm = True $ \\\\ \\left(\\begin{matrix}12.0 & 0.0 & 0.0 & 0.0\\\\0.0 & 12.0 & 0.0 & 0.0\\\\0.0 & 0.0 & 12.0 & 0.0\\\\0.0 & 0.0 & 0.0 & 12.0\\\\\\end{matrix}\\right)$"
      ],
      "text/plain": [
       "Quantum object: dims = [[4], [4]], shape = (4, 4), type = oper, isherm = True\n",
       "Qobj data =\n",
       "[[12.  0.  0.  0.]\n",
       " [ 0. 12.  0.  0.]\n",
       " [ 0.  0. 12.  0.]\n",
       " [ 0.  0.  0. 12.]]"
      ]
     },
     "execution_count": 14,
     "metadata": {},
     "output_type": "execute_result"
    }
   ],
   "source": [
    "# Temporarily overriding the arguments.\n",
    "td_args(2, args={\"delta\": 10})"
   ]
  },
  {
   "cell_type": "code",
   "execution_count": 15,
   "id": "3803a38a",
   "metadata": {
    "execution": {
     "iopub.execute_input": "2025-08-20T04:17:33.701775Z",
     "iopub.status.busy": "2025-08-20T04:17:33.701602Z",
     "iopub.status.idle": "2025-08-20T04:17:33.706098Z",
     "shell.execute_reply": "2025-08-20T04:17:33.705535Z"
    }
   },
   "outputs": [
    {
     "data": {
      "text/latex": [
       "Quantum object: dims = [[4], [4]], shape = (4, 4), type = oper, isherm = True $ \\\\ \\left(\\begin{matrix}3.0 & 0.0 & 0.0 & 0.0\\\\0.0 & 3.0 & 0.0 & 0.0\\\\0.0 & 0.0 & 3.0 & 0.0\\\\0.0 & 0.0 & 0.0 & 3.0\\\\\\end{matrix}\\right)$"
      ],
      "text/plain": [
       "Quantum object: dims = [[4], [4]], shape = (4, 4), type = oper, isherm = True\n",
       "Qobj data =\n",
       "[[3. 0. 0. 0.]\n",
       " [0. 3. 0. 0.]\n",
       " [0. 0. 3. 0.]\n",
       " [0. 0. 0. 3.]]"
      ]
     },
     "execution_count": 15,
     "metadata": {},
     "output_type": "execute_result"
    }
   ],
   "source": [
    "# A subsequent regular call will still use the args given at initialisation.\n",
    "td_args(2)"
   ]
  },
  {
   "cell_type": "markdown",
   "id": "2aaa4360",
   "metadata": {},
   "source": [
    "### String form"
   ]
  },
  {
   "cell_type": "code",
   "execution_count": 16,
   "id": "ee3c3410",
   "metadata": {
    "execution": {
     "iopub.execute_input": "2025-08-20T04:17:33.707723Z",
     "iopub.status.busy": "2025-08-20T04:17:33.707403Z",
     "iopub.status.idle": "2025-08-20T04:17:33.712250Z",
     "shell.execute_reply": "2025-08-20T04:17:33.711749Z"
    }
   },
   "outputs": [
    {
     "data": {
      "text/latex": [
       "Quantum object: dims = [[4], [4]], shape = (4, 4), type = oper, isherm = True $ \\\\ \\left(\\begin{matrix}3.0 & 0.0 & 0.0 & 0.0\\\\0.0 & 3.0 & 0.0 & 0.0\\\\0.0 & 0.0 & 3.0 & 0.0\\\\0.0 & 0.0 & 0.0 & 3.0\\\\\\end{matrix}\\right)$"
      ],
      "text/plain": [
       "Quantum object: dims = [[4], [4]], shape = (4, 4), type = oper, isherm = True\n",
       "Qobj data =\n",
       "[[3. 0. 0. 0.]\n",
       " [0. 3. 0. 0.]\n",
       " [0. 0. 3. 0.]\n",
       " [0. 0. 0. 3.]]"
      ]
     },
     "execution_count": 16,
     "metadata": {},
     "output_type": "execute_result"
    }
   ],
   "source": [
    "td_args_str = qutip.QobjEvo([Id, \"t + delta\"], args={\"delta\": 1.0})\n",
    "td_args_str(2)"
   ]
  },
  {
   "cell_type": "code",
   "execution_count": 17,
   "id": "a327a7e5",
   "metadata": {
    "execution": {
     "iopub.execute_input": "2025-08-20T04:17:33.713887Z",
     "iopub.status.busy": "2025-08-20T04:17:33.713536Z",
     "iopub.status.idle": "2025-08-20T04:17:33.718183Z",
     "shell.execute_reply": "2025-08-20T04:17:33.717653Z"
    }
   },
   "outputs": [
    {
     "data": {
      "text/latex": [
       "Quantum object: dims = [[4], [4]], shape = (4, 4), type = oper, isherm = True $ \\\\ \\left(\\begin{matrix}12.0 & 0.0 & 0.0 & 0.0\\\\0.0 & 12.0 & 0.0 & 0.0\\\\0.0 & 0.0 & 12.0 & 0.0\\\\0.0 & 0.0 & 0.0 & 12.0\\\\\\end{matrix}\\right)$"
      ],
      "text/plain": [
       "Quantum object: dims = [[4], [4]], shape = (4, 4), type = oper, isherm = True\n",
       "Qobj data =\n",
       "[[12.  0.  0.  0.]\n",
       " [ 0. 12.  0.  0.]\n",
       " [ 0.  0. 12.  0.]\n",
       " [ 0.  0.  0. 12.]]"
      ]
     },
     "execution_count": 17,
     "metadata": {},
     "output_type": "execute_result"
    }
   ],
   "source": [
    "td_args_str(2, args={\"delta\": 10})"
   ]
  },
  {
   "cell_type": "markdown",
   "id": "c899200c",
   "metadata": {},
   "source": [
    "### Using objects\n",
    "\n",
    "The argument value need not just be a number.  Even Cython-compiled strings can accept functions which Cython can call natively, such as the core `numpy` functions."
   ]
  },
  {
   "cell_type": "code",
   "execution_count": 18,
   "id": "b75a6af3",
   "metadata": {
    "execution": {
     "iopub.execute_input": "2025-08-20T04:17:33.719878Z",
     "iopub.status.busy": "2025-08-20T04:17:33.719423Z",
     "iopub.status.idle": "2025-08-20T04:17:36.340156Z",
     "shell.execute_reply": "2025-08-20T04:17:36.339521Z"
    }
   },
   "outputs": [
    {
     "data": {
      "text/latex": [
       "Quantum object: dims = [[4], [4]], shape = (4, 4), type = oper, isherm = True $ \\\\ \\left(\\begin{matrix}1.0 & 0.0 & 0.0 & 0.0\\\\0.0 & 1.0 & 0.0 & 0.0\\\\0.0 & 0.0 & 1.0 & 0.0\\\\0.0 & 0.0 & 0.0 & 1.0\\\\\\end{matrix}\\right)$"
      ],
      "text/plain": [
       "Quantum object: dims = [[4], [4]], shape = (4, 4), type = oper, isherm = True\n",
       "Qobj data =\n",
       "[[1. 0. 0. 0.]\n",
       " [0. 1. 0. 0.]\n",
       " [0. 0. 1. 0.]\n",
       " [0. 0. 0. 1.]]"
      ]
     },
     "execution_count": 18,
     "metadata": {},
     "output_type": "execute_result"
    }
   ],
   "source": [
    "td_args_str = qutip.QobjEvo([Id, \"f(t)\"], args={\"f\": np.cos})\n",
    "td_args_str.compile()\n",
    "td_args_str(0.0)"
   ]
  },
  {
   "cell_type": "code",
   "execution_count": 19,
   "id": "d6c38b53",
   "metadata": {
    "execution": {
     "iopub.execute_input": "2025-08-20T04:17:36.342092Z",
     "iopub.status.busy": "2025-08-20T04:17:36.341621Z",
     "iopub.status.idle": "2025-08-20T04:17:36.346170Z",
     "shell.execute_reply": "2025-08-20T04:17:36.345589Z"
    }
   },
   "outputs": [
    {
     "data": {
      "text/latex": [
       "Quantum object: dims = [[4], [4]], shape = (4, 4), type = oper, isherm = True $ \\\\ \\left(\\begin{matrix}-1.0 & 0.0 & 0.0 & 0.0\\\\0.0 & -1.0 & 0.0 & 0.0\\\\0.0 & 0.0 & -1.0 & 0.0\\\\0.0 & 0.0 & 0.0 & -1.0\\\\\\end{matrix}\\right)$"
      ],
      "text/plain": [
       "Quantum object: dims = [[4], [4]], shape = (4, 4), type = oper, isherm = True\n",
       "Qobj data =\n",
       "[[-1.  0.  0.  0.]\n",
       " [ 0. -1.  0.  0.]\n",
       " [ 0.  0. -1.  0.]\n",
       " [ 0.  0.  0. -1.]]"
      ]
     },
     "execution_count": 19,
     "metadata": {},
     "output_type": "execute_result"
    }
   ],
   "source": [
    "td_args_str(np.pi)"
   ]
  },
  {
   "cell_type": "markdown",
   "id": "14dbcfed",
   "metadata": {},
   "source": [
    "### Dynamic arguments\n",
    "\n",
    "When `QobjEvo` is used in the solvers, certain dynamic arguments will be populated at each iteration, if and only if their names are present in the `args` dictionary used at `QobjEvo` intialisation.  The initial values of all of these dynamic arguments will be a representation of `0` in the corresponding type, for example `\"state\"` will be `qzero()` of the correct dimensions.\n",
    "\n",
    "There several of these \"magic\" variables, mostly revolving around the state currently being evolved:\n",
    "  - `\"state\"` or `\"state_qobj\"`: a `Qobj` of the current state.\n",
    "  - `\"state_mat\"`: a dense 2D `np.ndarray` of the state as a matrix, similar to `state.full()`\n",
    "  - `\"state_vec\"`: a dense 1D `np.ndarray` of the state as a vector.  This only generally makes sense for kets.\n",
    "  - `\"expect_op_<n>\"`: `complex`, where `<n>` is an index into `e_ops`, the current expectation value of `e_ops[n]` (the `<>` should not appear, e.g. `\"expect_op_0\"`).\n",
    "  - `\"collapse\"`: a `list` of `(t: float, n: int)` indicating the time `t` a collapse occurred, and which of `c_ops` caused it.  Only present when using `mcsolve`.\n"
   ]
  },
  {
   "cell_type": "code",
   "execution_count": 20,
   "id": "19bb96b0",
   "metadata": {
    "execution": {
     "iopub.execute_input": "2025-08-20T04:17:36.347941Z",
     "iopub.status.busy": "2025-08-20T04:17:36.347538Z",
     "iopub.status.idle": "2025-08-20T04:17:36.353782Z",
     "shell.execute_reply": "2025-08-20T04:17:36.353238Z"
    }
   },
   "outputs": [
    {
     "name": "stdout",
     "output_type": "stream",
     "text": [
      "\"state\":\n",
      "Quantum object: dims = [[4], [1]], shape = (4, 1), type = ket\n",
      "Qobj data =\n",
      "[[0.]\n",
      " [0.]\n",
      " [0.]\n",
      " [0.]]\n"
     ]
    },
    {
     "data": {
      "text/latex": [
       "Quantum object: dims = [[4], [4]], shape = (4, 4), type = oper, isherm = True $ \\\\ \\left(\\begin{matrix}0.0 & 0.0 & 0.0 & 0.0\\\\0.0 & 0.0 & 0.0 & 0.0\\\\0.0 & 0.0 & 0.0 & 0.0\\\\0.0 & 0.0 & 0.0 & 0.0\\\\\\end{matrix}\\right)$"
      ],
      "text/plain": [
       "Quantum object: dims = [[4], [4]], shape = (4, 4), type = oper, isherm = True\n",
       "Qobj data =\n",
       "[[0. 0. 0. 0.]\n",
       " [0. 0. 0. 0.]\n",
       " [0. 0. 0. 0.]\n",
       " [0. 0. 0. 0.]]"
      ]
     },
     "execution_count": 20,
     "metadata": {},
     "output_type": "execute_result"
    }
   ],
   "source": [
    "args = {\"state\": None}\n",
    "\n",
    "\n",
    "def print_args(t, args):\n",
    "    print(\"\\n\".join(['\"' + key + '\":\\n' +\n",
    "                     repr(value) for key, value in args.items()]))\n",
    "    return t\n",
    "\n",
    "\n",
    "td_args = qutip.QobjEvo([Id, print_args], args=args)\n",
    "td_args(0)"
   ]
  },
  {
   "cell_type": "code",
   "execution_count": 21,
   "id": "f12e3ab8",
   "metadata": {
    "execution": {
     "iopub.execute_input": "2025-08-20T04:17:36.355413Z",
     "iopub.status.busy": "2025-08-20T04:17:36.355090Z",
     "iopub.status.idle": "2025-08-20T04:17:36.360131Z",
     "shell.execute_reply": "2025-08-20T04:17:36.359553Z"
    }
   },
   "outputs": [
    {
     "name": "stdout",
     "output_type": "stream",
     "text": [
      "\"state\":\n",
      "Quantum object: dims = [[4], [1]], shape = (4, 1), type = ket\n",
      "Qobj data =\n",
      "[[0.]\n",
      " [0.]\n",
      " [1.]\n",
      " [0.]]\n"
     ]
    },
    {
     "data": {
      "text/latex": [
       "Quantum object: dims = [[4], [4]], shape = (4, 4), type = oper, isherm = True $ \\\\ \\left(\\begin{matrix}0.0 & 0.0 & 0.0 & 0.0\\\\0.0 & 0.0 & 0.0 & 0.0\\\\0.0 & 0.0 & 0.0 & 0.0\\\\0.0 & 0.0 & 0.0 & 0.0\\\\\\end{matrix}\\right)$"
      ],
      "text/plain": [
       "Quantum object: dims = [[4], [4]], shape = (4, 4), type = oper, isherm = True\n",
       "Qobj data =\n",
       "[[0. 0. 0. 0.]\n",
       " [0. 0. 0. 0.]\n",
       " [0. 0. 0. 0.]\n",
       " [0. 0. 0. 0.]]"
      ]
     },
     "execution_count": 21,
     "metadata": {},
     "output_type": "execute_result"
    }
   ],
   "source": [
    "# The `state` keyword argument is typically unused.\n",
    "# Here it just simulates being inside a solver at a particular state.\n",
    "td_args(0, state=qutip.basis(4, 2))"
   ]
  },
  {
   "cell_type": "markdown",
   "id": "ea76f216",
   "metadata": {},
   "source": [
    "## Mathematics\n",
    "\n",
    "`QobjEvo` supports the basic mathematical operations which make sense for time-dependent quantum objects:\n",
    "  - addition of `QobjEvo` and `Qobj`\n",
    "  - subtraction of `QobjEvo` and `Qobj`\n",
    "  - product with `QobjEvo`, `Qobj` or scalars\n",
    "  - division by a scalar\n",
    "  - negation: `-x`\n",
    "  - conjugation: `QobjEvo.conj()`\n",
    "  - adjoint (dagger): `QobjEvo.dag()`\n",
    "  - transpose: `QobjEvo.trans`"
   ]
  },
  {
   "cell_type": "code",
   "execution_count": 22,
   "id": "5bdfe51c",
   "metadata": {
    "execution": {
     "iopub.execute_input": "2025-08-20T04:17:36.361723Z",
     "iopub.status.busy": "2025-08-20T04:17:36.361553Z",
     "iopub.status.idle": "2025-08-20T04:17:36.366448Z",
     "shell.execute_reply": "2025-08-20T04:17:36.365970Z"
    }
   },
   "outputs": [
    {
     "data": {
      "text/latex": [
       "Quantum object: dims = [[4], [4]], shape = (4, 4), type = oper, isherm = True $ \\\\ \\left(\\begin{matrix}0.0 & 2.0 & 0.0 & 0.0\\\\2.0 & 2.0 & 2.828 & 0.0\\\\0.0 & 2.828 & 4.0 & 3.464\\\\0.0 & 0.0 & 3.464 & 6.0\\\\\\end{matrix}\\right)$"
      ],
      "text/plain": [
       "Quantum object: dims = [[4], [4]], shape = (4, 4), type = oper, isherm = True\n",
       "Qobj data =\n",
       "[[0.         2.         0.         0.        ]\n",
       " [2.         2.         2.82842712 0.        ]\n",
       " [0.         2.82842712 4.         3.46410162]\n",
       " [0.         0.         3.46410162 6.        ]]"
      ]
     },
     "execution_count": 22,
     "metadata": {},
     "output_type": "execute_result"
    }
   ],
   "source": [
    "(array_form * 2)(0)"
   ]
  },
  {
   "cell_type": "code",
   "execution_count": 23,
   "id": "76077899",
   "metadata": {
    "execution": {
     "iopub.execute_input": "2025-08-20T04:17:36.367889Z",
     "iopub.status.busy": "2025-08-20T04:17:36.367701Z",
     "iopub.status.idle": "2025-08-20T04:17:36.373545Z",
     "shell.execute_reply": "2025-08-20T04:17:36.373096Z"
    }
   },
   "outputs": [
    {
     "data": {
      "text/latex": [
       "Quantum object: dims = [[4], [4]], shape = (4, 4), type = oper, isherm = False $ \\\\ \\left(\\begin{matrix}1.0 & 2.0 & 0.0 & 0.0\\\\1.0 & 2.0 & 2.828 & 0.0\\\\0.0 & 1.414 & 3.0 & 3.464\\\\0.0 & 0.0 & 1.732 & 4.0\\\\\\end{matrix}\\right)$"
      ],
      "text/plain": [
       "Quantum object: dims = [[4], [4]], shape = (4, 4), type = oper, isherm = False\n",
       "Qobj data =\n",
       "[[1.         2.         0.         0.        ]\n",
       " [1.         2.         2.82842712 0.        ]\n",
       " [0.         1.41421356 3.         3.46410162]\n",
       " [0.         0.         1.73205081 4.        ]]"
      ]
     },
     "execution_count": 23,
     "metadata": {},
     "output_type": "execute_result"
    }
   ],
   "source": [
    "(array_form + 1 + a)(0)"
   ]
  },
  {
   "cell_type": "markdown",
   "id": "9b1c04fb",
   "metadata": {},
   "source": [
    "## Superoperators\n",
    "\n",
    "The functions in `qutip.superoperator` can also be used for `QobjEvo`.  Of particular importance is `liouvillian`, as `mesolve` can take the Liouvillian as its first argument (and will be faster this way), in place of separated Hamiltonians and collapse operators."
   ]
  },
  {
   "cell_type": "code",
   "execution_count": 24,
   "id": "a0b96cd1",
   "metadata": {
    "execution": {
     "iopub.execute_input": "2025-08-20T04:17:36.375004Z",
     "iopub.status.busy": "2025-08-20T04:17:36.374830Z",
     "iopub.status.idle": "2025-08-20T04:17:36.384197Z",
     "shell.execute_reply": "2025-08-20T04:17:36.383721Z"
    }
   },
   "outputs": [
    {
     "data": {
      "text/latex": [
       "Quantum object: dims = [[[4], [4]], [[4], [4]]], shape = (16, 16), type = super, isherm = False $ \\\\ \\left(\\begin{matrix}0.0 & -1.0j & 0.0 & 0.0 & 1.0j & \\cdots & 0.0 & 0.0 & 0.0 & 0.0 & 0.0\\\\-1.0j & (-0.500-1.0j) & -1.414j & 0.0 & 0.0 & \\cdots & 0.0 & 0.0 & 0.0 & 0.0 & 0.0\\\\0.0 & -1.414j & (-2.0-2.0j) & -1.732j & 0.0 & \\cdots & 0.0 & 0.0 & 0.0 & 0.0 & 0.0\\\\0.0 & 0.0 & -1.732j & (-4.500-3.0j) & 0.0 & \\cdots & 0.0 & 0.0 & 0.0 & 0.0 & 0.0\\\\1.0j & 0.0 & 0.0 & 0.0 & (-0.500+1.0j) & \\cdots & 0.0 & 0.0 & 0.0 & 0.0 & 0.0\\\\\\vdots & \\vdots & \\vdots & \\vdots & \\vdots & \\ddots & \\vdots & \\vdots & \\vdots & \\vdots & \\vdots\\\\0.0 & 0.0 & 0.0 & 0.0 & 0.0 & \\cdots & (-0.500-1.0j) & 0.0 & 0.0 & 0.0 & 1.732j\\\\0.0 & 0.0 & 0.0 & 0.0 & 0.0 & \\cdots & 0.0 & (-4.500+3.0j) & -1.0j & 0.0 & 0.0\\\\0.0 & 0.0 & 0.0 & 0.0 & 0.0 & \\cdots & 0.0 & -1.0j & (-2.0+2.0j) & -1.414j & 0.0\\\\0.0 & 0.0 & 0.0 & 0.0 & 0.0 & \\cdots & 0.0 & 0.0 & -1.414j & (-0.500+1.0j) & -1.732j\\\\0.0 & 0.0 & 0.0 & 0.0 & 0.0 & \\cdots & 1.732j & 0.0 & 0.0 & -1.732j & 0.0\\\\\\end{matrix}\\right)$"
      ],
      "text/plain": [
       "Quantum object: dims = [[[4], [4]], [[4], [4]]], shape = (16, 16), type = super, isherm = False\n",
       "Qobj data =\n",
       "[[ 0. +0.j          0. -1.j          0. +0.j          0. +0.j\n",
       "   0. +1.j          0. +0.j          0. +0.j          0. +0.j\n",
       "   0. +0.j          0. +0.j          0. +0.j          0. +0.j\n",
       "   0. +0.j          0. +0.j          0. +0.j          0. +0.j        ]\n",
       " [ 0. -1.j         -0.5-1.j          0. -1.41421356j  0. +0.j\n",
       "   0. +0.j          0. +1.j          0. +0.j          0. +0.j\n",
       "   0. +0.j          0. +0.j          0. +0.j          0. +0.j\n",
       "   0. +0.j          0. +0.j          0. +0.j          0. +0.j        ]\n",
       " [ 0. +0.j          0. -1.41421356j -2. -2.j          0. -1.73205081j\n",
       "   0. +0.j          0. +0.j          0. +1.j          0. +0.j\n",
       "   0. +0.j          0. +0.j          0. +0.j          0. +0.j\n",
       "   0. +0.j          0. +0.j          0. +0.j          0. +0.j        ]\n",
       " [ 0. +0.j          0. +0.j          0. -1.73205081j -4.5-3.j\n",
       "   0. +0.j          0. +0.j          0. +0.j          0. +1.j\n",
       "   0. +0.j          0. +0.j          0. +0.j          0. +0.j\n",
       "   0. +0.j          0. +0.j          0. +0.j          0. +0.j        ]\n",
       " [ 0. +1.j          0. +0.j          0. +0.j          0. +0.j\n",
       "  -0.5+1.j          0. -1.j          0. +0.j          0. +0.j\n",
       "   0. +1.41421356j  0. +0.j          0. +0.j          0. +0.j\n",
       "   0. +0.j          0. +0.j          0. +0.j          0. +0.j        ]\n",
       " [ 0. +0.j          0. +1.j          0. +0.j          0. +0.j\n",
       "   0. -1.j          0. +0.j          0. -1.41421356j  0. +0.j\n",
       "   0. +0.j          0. +1.41421356j  0. +0.j          0. +0.j\n",
       "   0. +0.j          0. +0.j          0. +0.j          0. +0.j        ]\n",
       " [ 0. +0.j          0. +0.j          0. +1.j          0. +0.j\n",
       "   0. +0.j          0. -1.41421356j -0.5-1.j          0. -1.73205081j\n",
       "   0. +0.j          0. +0.j          0. +1.41421356j  0. +0.j\n",
       "   0. +0.j          0. +0.j          0. +0.j          0. +0.j        ]\n",
       " [ 0. +0.j          0. +0.j          0. +0.j          0. +1.j\n",
       "   0. +0.j          0. +0.j          0. -1.73205081j -2. -2.j\n",
       "   0. +0.j          0. +0.j          0. +0.j          0. +1.41421356j\n",
       "   0. +0.j          0. +0.j          0. +0.j          0. +0.j        ]\n",
       " [ 0. +0.j          0. +0.j          0. +0.j          0. +0.j\n",
       "   0. +1.41421356j  0. +0.j          0. +0.j          0. +0.j\n",
       "  -2. +2.j          0. -1.j          0. +0.j          0. +0.j\n",
       "   0. +1.73205081j  0. +0.j          0. +0.j          0. +0.j        ]\n",
       " [ 0. +0.j          0. +0.j          0. +0.j          0. +0.j\n",
       "   0. +0.j          0. +1.41421356j  0. +0.j          0. +0.j\n",
       "   0. -1.j         -0.5+1.j          0. -1.41421356j  0. +0.j\n",
       "   0. +0.j          0. +1.73205081j  0. +0.j          0. +0.j        ]\n",
       " [ 0. +0.j          0. +0.j          0. +0.j          0. +0.j\n",
       "   0. +0.j          0. +0.j          0. +1.41421356j  0. +0.j\n",
       "   0. +0.j          0. -1.41421356j  0. +0.j          0. -1.73205081j\n",
       "   0. +0.j          0. +0.j          0. +1.73205081j  0. +0.j        ]\n",
       " [ 0. +0.j          0. +0.j          0. +0.j          0. +0.j\n",
       "   0. +0.j          0. +0.j          0. +0.j          0. +1.41421356j\n",
       "   0. +0.j          0. +0.j          0. -1.73205081j -0.5-1.j\n",
       "   0. +0.j          0. +0.j          0. +0.j          0. +1.73205081j]\n",
       " [ 0. +0.j          0. +0.j          0. +0.j          0. +0.j\n",
       "   0. +0.j          0. +0.j          0. +0.j          0. +0.j\n",
       "   0. +1.73205081j  0. +0.j          0. +0.j          0. +0.j\n",
       "  -4.5+3.j          0. -1.j          0. +0.j          0. +0.j        ]\n",
       " [ 0. +0.j          0. +0.j          0. +0.j          0. +0.j\n",
       "   0. +0.j          0. +0.j          0. +0.j          0. +0.j\n",
       "   0. +0.j          0. +1.73205081j  0. +0.j          0. +0.j\n",
       "   0. -1.j         -2. +2.j          0. -1.41421356j  0. +0.j        ]\n",
       " [ 0. +0.j          0. +0.j          0. +0.j          0. +0.j\n",
       "   0. +0.j          0. +0.j          0. +0.j          0. +0.j\n",
       "   0. +0.j          0. +0.j          0. +1.73205081j  0. +0.j\n",
       "   0. +0.j          0. -1.41421356j -0.5+1.j          0. -1.73205081j]\n",
       " [ 0. +0.j          0. +0.j          0. +0.j          0. +0.j\n",
       "   0. +0.j          0. +0.j          0. +0.j          0. +0.j\n",
       "   0. +0.j          0. +0.j          0. +0.j          0. +1.73205081j\n",
       "   0. +0.j          0. +0.j          0. -1.73205081j  0. +0.j        ]]"
      ]
     },
     "execution_count": 24,
     "metadata": {},
     "output_type": "execute_result"
    }
   ],
   "source": [
    "liouv = qutip.liouvillian(array_form, c_ops=[constant_form])\n",
    "liouv(0)"
   ]
  },
  {
   "cell_type": "markdown",
   "id": "fe5381e2",
   "metadata": {},
   "source": [
    "## Epilogue"
   ]
  },
  {
   "cell_type": "code",
   "execution_count": 25,
   "id": "165f1d77",
   "metadata": {
    "execution": {
     "iopub.execute_input": "2025-08-20T04:17:36.385631Z",
     "iopub.status.busy": "2025-08-20T04:17:36.385459Z",
     "iopub.status.idle": "2025-08-20T04:17:36.388423Z",
     "shell.execute_reply": "2025-08-20T04:17:36.387973Z"
    }
   },
   "outputs": [
    {
     "name": "stdout",
     "output_type": "stream",
     "text": [
      "\n",
      "QuTiP: Quantum Toolbox in Python\n",
      "================================\n",
      "Copyright (c) QuTiP team 2011 and later.\n",
      "Current admin team: Alexander Pitchford, Nathan Shammah, Shahnawaz Ahmed, Neill Lambert, Eric Giguère, Boxi Li, Jake Lishman, Simon Cross and Asier Galicia.\n",
      "Board members: Daniel Burgarth, Robert Johansson, Anton F. Kockum, Franco Nori and Will Zeng.\n",
      "Original developers: R. J. Johansson & P. D. Nation.\n",
      "Previous lead developers: Chris Granade & A. Grimsmo.\n",
      "Currently developed through wide collaboration. See https://github.com/qutip for details.\n",
      "\n",
      "QuTiP Version:      4.7.6\n",
      "Numpy Version:      1.26.4\n",
      "Scipy Version:      1.12.0\n",
      "Cython Version:     0.29.37\n",
      "Matplotlib Version: 3.5.2\n",
      "Python Version:     3.10.4\n",
      "Number of CPUs:     4\n",
      "BLAS Info:          Generic\n",
      "OPENMP Installed:   False\n",
      "INTEL MKL Ext:      False\n",
      "Platform Info:      Linux (x86_64)\n",
      "Installation path:  /home/runner/miniconda3/envs/test-environment-v4/lib/python3.10/site-packages/qutip\n",
      "================================================================================\n",
      "Please cite QuTiP in your publication.\n",
      "================================================================================\n",
      "For your convenience a bibtex reference can be easily generated using `qutip.cite()`\n"
     ]
    }
   ],
   "source": [
    "qutip.about()"
   ]
  }
 ],
 "metadata": {
  "jupytext": {
   "cell_metadata_filter": "-all",
   "notebook_metadata_filter": "-jupytext.cell_metadata_filter,-jupytext.notebook_metadata_filter"
  },
  "kernelspec": {
   "display_name": "Python 3 (ipykernel)",
   "language": "python",
   "name": "python3"
  },
  "language_info": {
   "codemirror_mode": {
    "name": "ipython",
    "version": 3
   },
   "file_extension": ".py",
   "mimetype": "text/x-python",
   "name": "python",
   "nbconvert_exporter": "python",
   "pygments_lexer": "ipython3",
   "version": "3.10.4"
  }
 },
 "nbformat": 4,
 "nbformat_minor": 5
}
