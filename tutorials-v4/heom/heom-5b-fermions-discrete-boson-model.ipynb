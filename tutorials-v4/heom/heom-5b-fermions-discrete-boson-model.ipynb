{
 "cells": [
  {
   "cell_type": "markdown",
   "id": "0e07e788",
   "metadata": {},
   "source": [
    "# HEOM 5b: Discrete boson coupled to an impurity and fermionic leads"
   ]
  },
  {
   "cell_type": "markdown",
   "id": "d68ec80a",
   "metadata": {},
   "source": [
    "## Introduction\n",
    "\n",
    "Here we model a single fermion coupled to two electronic leads or reservoirs (e.g.,  this can describe a single quantum dot, a molecular transistor, etc), also coupled to a discrete bosonic (vibronic) mode.\n",
    "\n",
    "Note that in this implementation we primarily follow the definitions used by Christian Schinabeck in his Dissertation https://open.fau.de/items/36fdd708-a467-4b59-bf4e-4a2110fbc431 and related publications. In particular this example reproduces some results from https://journals.aps.org/prb/abstract/10.1103/PhysRevB.94.201407\n",
    "\n",
    "Notation:\n",
    "\n",
    "* $K=L/R$ refers to  left or right leads.\n",
    "* $\\sigma=\\pm$ refers to input/output\n",
    "\n",
    "We choose a Lorentzian spectral density for the leads, with a peak at the chemical potential. The latter simplifies a little the notation required for the correlation functions, but can be relaxed if neccessary.\n",
    "\n",
    "$$J(\\omega) = \\frac{\\Gamma  W^2}{((\\omega-\\mu_K)^2 +W^2 )}$$\n",
    "\n",
    "The Fermi distribution function is:\n",
    "\n",
    "$$f_F (x) = (\\exp(x) + 1)^{-1}$$\n",
    "\n",
    "Together these allow the correlation functions to be expressed as:\n",
    "\n",
    "$$C^{\\sigma}_K(t) = \\frac{1}{2\\pi} \\int_{-\\infty}^{\\infty} d\\omega e^{\\sigma i \\omega t} \\Gamma_K(\\omega) f_F[\\sigma\\beta(\\omega - \\mu)]$$\n",
    "\n",
    "As with the Bosonic case we can treat these with Matsubara, Pade, or fitting approaches.\n",
    "\n",
    "The Pade decomposition approximates the Fermi distubition as \n",
    "\n",
    "$$f_F(x) \\approx f_F^{\\mathrm{approx}}(x) = \\frac{1}{2} - \\sum_l^{l_{max}} \\frac{2k_l x}{x^2 + \\epsilon_l^2}$$\n",
    "\n",
    "$k_l$ and $\\epsilon_l$ are co-efficients defined in J. Chem Phys 133,10106\n",
    "\n",
    "Evaluating the integral for the correlation functions gives,\n",
    "\n",
    "\n",
    "$$C_K^{\\sigma}(t) \\approx \\sum_{l=0}^{l_{max}} \\eta_K^{\\sigma_l} e^{-\\gamma_{K,\\sigma,l}t}$$\n",
    "\n",
    "where\n",
    "\n",
    "$$\\eta_{K,0} = \\frac{\\Gamma_KW_K}{2} f_F^{approx}(i\\beta_K W)$$\n",
    "\n",
    "$$\\gamma_{K,\\sigma,0} = W_K - \\sigma i\\mu_K$$ \n",
    "\n",
    "$$\\eta_{K,l\\neq 0} = -i\\cdot \\frac{k_m}{\\beta_K} \\cdot \\frac{\\Gamma_K W_K^2}{-\\frac{\\epsilon^2_m}{\\beta_K^2} + W_K^2}$$\n",
    "\n",
    "$$\\gamma_{K,\\sigma,l\\neq 0}= \\frac{\\epsilon_m}{\\beta_K} - \\sigma i \\mu_K$$"
   ]
  },
  {
   "cell_type": "markdown",
   "id": "ad96929e",
   "metadata": {},
   "source": [
    "## Differences from Example 5a"
   ]
  },
  {
   "cell_type": "markdown",
   "id": "647f8b05",
   "metadata": {
    "tags": []
   },
   "source": [
    "The system we study here has two big differences from the HEOM 5a example:\n",
    "\n",
    "* the system now includes a discrete bosonic mode,\n",
    "* and the electronic leads have $W$ set to $10^4$ (i.e. the wide-band limit).\n",
    "\n",
    "The new system Hamiltonian is:\n",
    "\n",
    "$$\n",
    "H_{\\mathrm{vib}} = H_{\\mathrm{SIAM}} + \\Omega a^{\\dagger}a + \\lambda (a+a^{\\dagger})c{^\\dagger}c.\n",
    "$$\n",
    "\n",
    "where $H_{\\mathrm{SIAM}}$ is the Hamiltonian of the single impurity, and the remaining terms are the Hamiltonian of the bosonic mode and its interaction with the impurity.\n",
    "\n",
    "The complete setup now consists of four parts:\n",
    "\n",
    "* the single impurity\n",
    "* a discrete bosonic mode\n",
    "* two fermionic leads.\n",
    "\n",
    "**Note**: This example is quite numerically challenging and has many system and bath components. For an easier introduction into the fermionic case, see example 5a.\n",
    "\n",
    "**Note**: We've reduced the cut-off of the bosonic mode to 2 modes to facilitate faster execution of the notebooks when the outputs are being checked and compiled. A more accurate result may be obtained by increasing the number of bosonic modes to, for example, 16."
   ]
  },
  {
   "cell_type": "markdown",
   "id": "796f1dfe",
   "metadata": {},
   "source": [
    "## Setup"
   ]
  },
  {
   "cell_type": "code",
   "execution_count": 1,
   "id": "3fbbb2bd",
   "metadata": {
    "execution": {
     "iopub.execute_input": "2025-08-20T04:09:41.394404Z",
     "iopub.status.busy": "2025-08-20T04:09:41.394236Z",
     "iopub.status.idle": "2025-08-20T04:09:42.155114Z",
     "shell.execute_reply": "2025-08-20T04:09:42.154579Z"
    }
   },
   "outputs": [],
   "source": [
    "import contextlib\n",
    "import dataclasses\n",
    "import time\n",
    "\n",
    "import matplotlib.pyplot as plt\n",
    "import numpy as np\n",
    "\n",
    "import qutip\n",
    "from qutip import (\n",
    "    Options,\n",
    "    destroy,\n",
    "    qeye,\n",
    "    tensor,\n",
    ")\n",
    "from qutip.nonmarkov.heom import (\n",
    "    HEOMSolver,\n",
    "    LorentzianPadeBath,\n",
    ")\n",
    "\n",
    "from ipywidgets import IntProgress\n",
    "from IPython.display import display\n",
    "\n",
    "%matplotlib inline"
   ]
  },
  {
   "cell_type": "markdown",
   "id": "99894cbe",
   "metadata": {},
   "source": [
    "## Helpers"
   ]
  },
  {
   "cell_type": "code",
   "execution_count": 2,
   "id": "394b43de",
   "metadata": {
    "execution": {
     "iopub.execute_input": "2025-08-20T04:09:42.157186Z",
     "iopub.status.busy": "2025-08-20T04:09:42.156940Z",
     "iopub.status.idle": "2025-08-20T04:09:42.160551Z",
     "shell.execute_reply": "2025-08-20T04:09:42.160091Z"
    },
    "tags": []
   },
   "outputs": [],
   "source": [
    "@contextlib.contextmanager\n",
    "def timer(label):\n",
    "    \"\"\" Simple utility for timing functions:\n",
    "\n",
    "        with timer(\"name\"):\n",
    "            ... code to time ...\n",
    "    \"\"\"\n",
    "    start = time.time()\n",
    "    yield\n",
    "    end = time.time()\n",
    "    print(f\"{label}: {end - start}\")"
   ]
  },
  {
   "cell_type": "code",
   "execution_count": 3,
   "id": "2f449421",
   "metadata": {
    "execution": {
     "iopub.execute_input": "2025-08-20T04:09:42.162090Z",
     "iopub.status.busy": "2025-08-20T04:09:42.161913Z",
     "iopub.status.idle": "2025-08-20T04:09:42.166027Z",
     "shell.execute_reply": "2025-08-20T04:09:42.165446Z"
    },
    "tags": []
   },
   "outputs": [],
   "source": [
    "def state_current(ado_state, bath_tag):\n",
    "    \"\"\" Determine current from the given bath (either \"R\" or \"L\") to\n",
    "        the system in the given ADO state.\n",
    "    \"\"\"\n",
    "    level_1_aux = [\n",
    "        (ado_state.extract(label), ado_state.exps(label)[0])\n",
    "        for label in ado_state.filter(level=1, tags=[bath_tag])\n",
    "    ]\n",
    "\n",
    "    def exp_sign(exp):\n",
    "        return 1 if exp.type == exp.types[\"+\"] else -1\n",
    "\n",
    "    def exp_op(exp):\n",
    "        return exp.Q if exp.type == exp.types[\"+\"] else exp.Q.dag()\n",
    "\n",
    "    return -1.0j * sum(\n",
    "        exp_sign(exp) * (exp_op(exp) * aux).tr()\n",
    "        for aux, exp in level_1_aux\n",
    "    )"
   ]
  },
  {
   "cell_type": "markdown",
   "id": "67e850bb",
   "metadata": {},
   "source": [
    "## System and bath definition\n",
    "\n",
    "Let us set up the system Hamiltonian and specify the properties of the two reservoirs."
   ]
  },
  {
   "cell_type": "code",
   "execution_count": 4,
   "id": "2f76bf0a",
   "metadata": {
    "execution": {
     "iopub.execute_input": "2025-08-20T04:09:42.167759Z",
     "iopub.status.busy": "2025-08-20T04:09:42.167319Z",
     "iopub.status.idle": "2025-08-20T04:09:42.173542Z",
     "shell.execute_reply": "2025-08-20T04:09:42.173086Z"
    },
    "tags": []
   },
   "outputs": [],
   "source": [
    "# Define the system Hamiltonian:\n",
    "\n",
    "@dataclasses.dataclass\n",
    "class SystemParameters:\n",
    "    e1: float = 0.3  # fermion mode energy splitting\n",
    "    Omega: float = 0.2  # bosonic mode energy splitting\n",
    "    Lambda: float = 0.12  # coupling between fermion and boson\n",
    "    Nbos: int = 2\n",
    "\n",
    "    def __post_init__(self):\n",
    "        d = tensor(destroy(2), qeye(self.Nbos))\n",
    "        a = tensor(qeye(2), destroy(self.Nbos))\n",
    "        self.H = (\n",
    "            self.e1 * d.dag() * d +\n",
    "            self.Omega * a.dag() * a +\n",
    "            self.Lambda * (a + a.dag()) * d.dag() * d\n",
    "        )\n",
    "        self.Q = d\n",
    "\n",
    "    def replace(self, **kw):\n",
    "        return dataclasses.replace(self, **kw)\n",
    "\n",
    "\n",
    "sys_p = SystemParameters()"
   ]
  },
  {
   "cell_type": "code",
   "execution_count": 5,
   "id": "3f4a03ec",
   "metadata": {
    "execution": {
     "iopub.execute_input": "2025-08-20T04:09:42.175127Z",
     "iopub.status.busy": "2025-08-20T04:09:42.174955Z",
     "iopub.status.idle": "2025-08-20T04:09:42.180689Z",
     "shell.execute_reply": "2025-08-20T04:09:42.180251Z"
    },
    "tags": []
   },
   "outputs": [],
   "source": [
    "# Define parameters for left and right fermionic baths.\n",
    "# Each bath is a lead (i.e. a wire held at a potential)\n",
    "# with temperature T and chemical potential mu.\n",
    "\n",
    "@dataclasses.dataclass\n",
    "class LorentzianBathParameters:\n",
    "    lead: str\n",
    "    gamma: float = 0.01  # coupling strength\n",
    "    W: float = 1.0  # cut-off\n",
    "    T: float = 0.025851991  # temperature (in eV)\n",
    "    theta: float = 2.0  # bias\n",
    "\n",
    "    def __post_init__(self):\n",
    "        assert self.lead in (\"L\", \"R\")\n",
    "        self.beta = 1 / self.T\n",
    "        if self.lead == \"L\":\n",
    "            self.mu = self.theta / 2.0\n",
    "        else:\n",
    "            self.mu = - self.theta / 2.0\n",
    "\n",
    "    def J(self, w):\n",
    "        \"\"\" Spectral density. \"\"\"\n",
    "        return self.gamma * self.W**2 / ((w - self.mu)**2 + self.W**2)\n",
    "\n",
    "    def fF(self, w, sign=1.0):\n",
    "        \"\"\" Fermi distribution for this bath. \"\"\"\n",
    "        x = sign * self.beta * (w - self.mu)\n",
    "        return fF(x)\n",
    "\n",
    "    def lamshift(self, w):\n",
    "        \"\"\" Return the lamshift. \"\"\"\n",
    "        return 0.5 * (w - self.mu) * self.J(w) / self.W\n",
    "\n",
    "    def replace(self, **kw):\n",
    "        return dataclasses.replace(self, **kw)\n",
    "\n",
    "\n",
    "def fF(x):\n",
    "    \"\"\" Return the Fermi distribution. \"\"\"\n",
    "    # in units where kB = 1.0\n",
    "    return 1 / (np.exp(x) + 1)\n",
    "\n",
    "\n",
    "# We set W = 1e4 to investigate the wide-band limit:\n",
    "\n",
    "bath_L = LorentzianBathParameters(W=10**4, lead=\"L\")\n",
    "bath_R = LorentzianBathParameters(W=10**4, lead=\"R\")"
   ]
  },
  {
   "cell_type": "markdown",
   "id": "b38227de",
   "metadata": {},
   "source": [
    "## Emission and absorption by the leads\n",
    "\n",
    "Next let's plot the emission and absorption by the leads."
   ]
  },
  {
   "cell_type": "code",
   "execution_count": 6,
   "id": "971c1407",
   "metadata": {
    "execution": {
     "iopub.execute_input": "2025-08-20T04:09:42.182227Z",
     "iopub.status.busy": "2025-08-20T04:09:42.182057Z",
     "iopub.status.idle": "2025-08-20T04:09:42.437890Z",
     "shell.execute_reply": "2025-08-20T04:09:42.437270Z"
    },
    "tags": []
   },
   "outputs": [
    {
     "data": {
      "image/png": "[encoded data removed]",
      "text/plain": [
       "<Figure size 1200x700 with 1 Axes>"
      ]
     },
     "metadata": {},
     "output_type": "display_data"
    }
   ],
   "source": [
    "w_list = np.linspace(-2, 2, 100)\n",
    "\n",
    "fig, ax = plt.subplots(figsize=(12, 7))\n",
    "\n",
    "# Left lead emission and absorption\n",
    "\n",
    "gam_L_in = bath_L.J(w_list) * bath_L.fF(w_list, sign=1.0)\n",
    "gam_L_out = bath_L.J(w_list) * bath_L.fF(w_list, sign=-1.0)\n",
    "\n",
    "ax.plot(\n",
    "    w_list, gam_L_in,\n",
    "    \"b--\", linewidth=3,\n",
    "    label=r\"S_L(w) input (absorption)\",\n",
    ")\n",
    "ax.plot(\n",
    "    w_list, gam_L_out,\n",
    "    \"r--\", linewidth=3,\n",
    "    label=r\"S_L(w) output (emission)\",\n",
    ")\n",
    "\n",
    "# Right lead emission and absorption\n",
    "\n",
    "gam_R_in = bath_R.J(w_list) * bath_R.fF(w_list, sign=1.0)\n",
    "gam_R_out = bath_R.J(w_list) * bath_R.fF(w_list, sign=-1.0)\n",
    "\n",
    "ax.plot(\n",
    "    w_list, gam_R_in,\n",
    "    \"b\", linewidth=3,\n",
    "    label=r\"S_R(w) input (absorption)\",\n",
    ")\n",
    "ax.plot(\n",
    "    w_list, gam_R_out,\n",
    "    \"r\", linewidth=3,\n",
    "    label=r\"S_R(w) output (emission)\",\n",
    ")\n",
    "\n",
    "ax.set_xlabel(\"w\")\n",
    "ax.set_ylabel(r\"$S(\\omega)$\")\n",
    "ax.legend();"
   ]
  },
  {
   "cell_type": "markdown",
   "id": "88c042ca",
   "metadata": {},
   "source": [
    "## Below we give one example data set from Paper\n",
    "\n",
    "Here we just give one example of the current as a function of bias voltage, but in general one can try different cut-offs of the bosonic Fock space and the expansion of the correlation functions until convergence is found.\n",
    "\n",
    "One note:  for very large problems, this can be slow."
   ]
  },
  {
   "cell_type": "code",
   "execution_count": 7,
   "id": "386853d1",
   "metadata": {
    "execution": {
     "iopub.execute_input": "2025-08-20T04:09:42.439727Z",
     "iopub.status.busy": "2025-08-20T04:09:42.439512Z",
     "iopub.status.idle": "2025-08-20T04:09:42.444046Z",
     "shell.execute_reply": "2025-08-20T04:09:42.443589Z"
    }
   },
   "outputs": [],
   "source": [
    "def steady_state_pade_for_theta(sys_p, bath_L, bath_R, theta, Nk, Nc, Nbos):\n",
    "    \"\"\" Return the steady state current using the Pade approximation. \"\"\"\n",
    "    options = Options(nsteps=15000, store_states=True, rtol=1e-14, atol=1e-14)\n",
    "\n",
    "    sys_p = sys_p.replace(Nbos=Nbos)\n",
    "    bath_L = bath_L.replace(theta=theta)\n",
    "    bath_R = bath_R.replace(theta=theta)\n",
    "\n",
    "    bathL = LorentzianPadeBath(\n",
    "        sys_p.Q, bath_L.gamma, bath_L.W, bath_L.mu, bath_L.T,\n",
    "        Nk, tag=\"L\",\n",
    "    )\n",
    "    bathR = LorentzianPadeBath(\n",
    "        sys_p.Q, bath_R.gamma, bath_R.W, bath_R.mu, bath_R.T,\n",
    "        Nk, tag=\"R\",\n",
    "    )\n",
    "\n",
    "    solver_pade = HEOMSolver(\n",
    "        sys_p.H, [bathL, bathR], max_depth=2, options=options,\n",
    "    )\n",
    "    rho_ss_pade, ado_ss_pade = solver_pade.steady_state()\n",
    "    current = state_current(ado_ss_pade, bath_tag=\"R\")\n",
    "\n",
    "    return np.real(2.434e-4 * 1e6 * current)"
   ]
  },
  {
   "cell_type": "code",
   "execution_count": 8,
   "id": "b334d8b3",
   "metadata": {
    "execution": {
     "iopub.execute_input": "2025-08-20T04:09:42.445603Z",
     "iopub.status.busy": "2025-08-20T04:09:42.445428Z",
     "iopub.status.idle": "2025-08-20T04:09:55.016968Z",
     "shell.execute_reply": "2025-08-20T04:09:55.016370Z"
    }
   },
   "outputs": [
    {
     "data": {
      "application/vnd.jupyter.widget-view+json": {
       "model_id": "84d83a9434e34aaea9c232120d28dc4f",
       "version_major": 2,
       "version_minor": 0
      },
      "text/plain": [
       "IntProgress(value=0, max=30)"
      ]
     },
     "metadata": {},
     "output_type": "display_data"
    }
   ],
   "source": [
    "# Parameters:\n",
    "\n",
    "Nk = 6\n",
    "Nc = 2\n",
    "Nbos = 2  # Use Nbos = 16 for more accurate results\n",
    "\n",
    "thetas = np.linspace(0, 2, 30)\n",
    "\n",
    "# Progress bar:\n",
    "\n",
    "progress = IntProgress(min=0, max=len(thetas))\n",
    "display(progress)\n",
    "\n",
    "currents = []\n",
    "\n",
    "for theta in thetas:\n",
    "    currents.append(steady_state_pade_for_theta(\n",
    "        sys_p, bath_L, bath_R, theta,\n",
    "        Nk=Nk, Nc=Nc, Nbos=Nbos,\n",
    "    ))\n",
    "    progress.value += 1"
   ]
  },
  {
   "cell_type": "code",
   "execution_count": 9,
   "id": "5291b035",
   "metadata": {
    "execution": {
     "iopub.execute_input": "2025-08-20T04:09:55.019626Z",
     "iopub.status.busy": "2025-08-20T04:09:55.019130Z",
     "iopub.status.idle": "2025-08-20T04:09:55.188145Z",
     "shell.execute_reply": "2025-08-20T04:09:55.187639Z"
    }
   },
   "outputs": [
    {
     "data": {
      "image/png": "[encoded data removed]",
      "text/plain": [
       "<Figure size 1200x1000 with 1 Axes>"
      ]
     },
     "metadata": {},
     "output_type": "display_data"
    }
   ],
   "source": [
    "fig, ax = plt.subplots(figsize=(12, 10))\n",
    "\n",
    "ax.plot(\n",
    "    thetas, currents,\n",
    "    color=\"green\", linestyle='-', linewidth=3,\n",
    "    label=f\"Nk = {5}, max_depth = {Nc}, Nbos = {Nbos}\",\n",
    ")\n",
    "\n",
    "ax.set_yticks([0, 0.5, 1])\n",
    "ax.set_yticklabels([0, 0.5, 1])\n",
    "\n",
    "ax.locator_params(axis='y', nbins=4)\n",
    "ax.locator_params(axis='x', nbins=4)\n",
    "\n",
    "ax.set_xlabel(r\"Bias voltage $\\Delta \\mu$ ($V$)\", fontsize=30)\n",
    "ax.set_ylabel(r\"Current ($\\mu A$)\", fontsize=30)\n",
    "ax.legend(loc=4);"
   ]
  },
  {
   "cell_type": "markdown",
   "id": "c883c4f6",
   "metadata": {},
   "source": [
    "## About"
   ]
  },
  {
   "cell_type": "code",
   "execution_count": 10,
   "id": "b8e5be49",
   "metadata": {
    "execution": {
     "iopub.execute_input": "2025-08-20T04:09:55.190039Z",
     "iopub.status.busy": "2025-08-20T04:09:55.189777Z",
     "iopub.status.idle": "2025-08-20T04:09:55.193287Z",
     "shell.execute_reply": "2025-08-20T04:09:55.192874Z"
    },
    "tags": []
   },
   "outputs": [
    {
     "name": "stdout",
     "output_type": "stream",
     "text": [
      "\n",
      "QuTiP: Quantum Toolbox in Python\n",
      "================================\n",
      "Copyright (c) QuTiP team 2011 and later.\n",
      "Current admin team: Alexander Pitchford, Nathan Shammah, Shahnawaz Ahmed, Neill Lambert, Eric Giguère, Boxi Li, Jake Lishman, Simon Cross and Asier Galicia.\n",
      "Board members: Daniel Burgarth, Robert Johansson, Anton F. Kockum, Franco Nori and Will Zeng.\n",
      "Original developers: R. J. Johansson & P. D. Nation.\n",
      "Previous lead developers: Chris Granade & A. Grimsmo.\n",
      "Currently developed through wide collaboration. See https://github.com/qutip for details.\n",
      "\n",
      "QuTiP Version:      4.7.6\n",
      "Numpy Version:      1.26.4\n",
      "Scipy Version:      1.12.0\n",
      "Cython Version:     0.29.37\n",
      "Matplotlib Version: 3.5.2\n",
      "Python Version:     3.10.4\n",
      "Number of CPUs:     4\n",
      "BLAS Info:          Generic\n",
      "OPENMP Installed:   False\n",
      "INTEL MKL Ext:      False\n",
      "Platform Info:      Linux (x86_64)\n",
      "Installation path:  /home/runner/miniconda3/envs/test-environment-v4/lib/python3.10/site-packages/qutip\n",
      "================================================================================\n",
      "Please cite QuTiP in your publication.\n",
      "================================================================================\n",
      "For your convenience a bibtex reference can be easily generated using `qutip.cite()`\n"
     ]
    }
   ],
   "source": [
    "qutip.about()"
   ]
  },
  {
   "cell_type": "markdown",
   "id": "bb7ae275",
   "metadata": {},
   "source": [
    "## Testing\n",
    "\n",
    "This section can include some tests to verify that the expected outputs are generated within the notebook. We put this section at the end of the notebook, so it's not interfering with the user experience. Please, define the tests using assert, so that the cell execution fails if a wrong output is generated."
   ]
  },
  {
   "cell_type": "code",
   "execution_count": 11,
   "id": "25f9cbe2",
   "metadata": {
    "execution": {
     "iopub.execute_input": "2025-08-20T04:09:55.194901Z",
     "iopub.status.busy": "2025-08-20T04:09:55.194697Z",
     "iopub.status.idle": "2025-08-20T04:09:55.197393Z",
     "shell.execute_reply": "2025-08-20T04:09:55.197026Z"
    },
    "tags": []
   },
   "outputs": [],
   "source": [
    "assert 1 == 1"
   ]
  }
 ],
 "metadata": {
  "jupytext": {
   "formats": "ipynb,md:myst"
  },
  "kernelspec": {
   "display_name": "Python 3 (ipykernel)",
   "language": "python",
   "name": "python3"
  },
  "language_info": {
   "codemirror_mode": {
    "name": "ipython",
    "version": 3
   },
   "file_extension": ".py",
   "mimetype": "text/x-python",
   "name": "python",
   "nbconvert_exporter": "python",
   "pygments_lexer": "ipython3",
   "version": "3.10.4"
  },
  "widgets": {
   "application/vnd.jupyter.widget-state+json": {
    "state": {
     "3ea4227f43bf44bebfbea26c5a8388ba": {
      "model_module": "@jupyter-widgets/base",
      "model_module_version": "2.0.0",
      "model_name": "LayoutModel",
      "state": {
       "_model_module": "@jupyter-widgets/base",
       "_model_module_version": "2.0.0",
       "_model_name": "LayoutModel",
       "_view_count": null,
       "_view_module": "@jupyter-widgets/base",
       "_view_module_version": "2.0.0",
       "_view_name": "LayoutView",
       "align_content": null,
       "align_items": null,
       "align_self": null,
       "border_bottom": null,
       "border_left": null,
       "border_right": null,
       "border_top": null,
       "bottom": null,
       "display": null,
       "flex": null,
       "flex_flow": null,
       "grid_area": null,
       "grid_auto_columns": null,
       "grid_auto_flow": null,
       "grid_auto_rows": null,
       "grid_column": null,
       "grid_gap": null,
       "grid_row": null,
       "grid_template_areas": null,
       "grid_template_columns": null,
       "grid_template_rows": null,
       "height": null,
       "justify_content": null,
       "justify_items": null,
       "left": null,
       "margin": null,
       "max_height": null,
       "max_width": null,
       "min_height": null,
       "min_width": null,
       "object_fit": null,
       "object_position": null,
       "order": null,
       "overflow": null,
       "padding": null,
       "right": null,
       "top": null,
       "visibility": null,
       "width": null
      }
     },
     "84d83a9434e34aaea9c232120d28dc4f": {
      "model_module": "@jupyter-widgets/controls",
      "model_module_version": "2.0.0",
      "model_name": "IntProgressModel",
      "state": {
       "_dom_classes": [],
       "_model_module": "@jupyter-widgets/controls",
       "_model_module_version": "2.0.0",
       "_model_name": "IntProgressModel",
       "_view_count": null,
       "_view_module": "@jupyter-widgets/controls",
       "_view_module_version": "2.0.0",
       "_view_name": "ProgressView",
       "bar_style": "",
       "description": "",
       "description_allow_html": false,
       "layout": "IPY_MODEL_3ea4227f43bf44bebfbea26c5a8388ba",
       "max": 30,
       "min": 0,
       "orientation": "horizontal",
       "style": "IPY_MODEL_c6a3d28738a54978888e339f5fdf2329",
       "tabbable": null,
       "tooltip": null,
       "value": 30
      }
     },
     "c6a3d28738a54978888e339f5fdf2329": {
      "model_module": "@jupyter-widgets/controls",
      "model_module_version": "2.0.0",
      "model_name": "ProgressStyleModel",
      "state": {
       "_model_module": "@jupyter-widgets/controls",
       "_model_module_version": "2.0.0",
       "_model_name": "ProgressStyleModel",
       "_view_count": null,
       "_view_module": "@jupyter-widgets/base",
       "_view_module_version": "2.0.0",
       "_view_name": "StyleView",
       "bar_color": null,
       "description_width": ""
      }
     }
    },
    "version_major": 2,
    "version_minor": 0
   }
  }
 },
 "nbformat": 4,
 "nbformat_minor": 5
}
