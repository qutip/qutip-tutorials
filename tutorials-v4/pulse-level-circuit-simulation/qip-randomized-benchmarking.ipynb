{
 "cells": [
  {
   "cell_type": "markdown",
   "id": "2b11b6b7",
   "metadata": {},
   "source": [
    "# Simulating randomized benchmarking\n",
    "\n",
    "In this example, we will reproduce a randomized benchmarking experiment used in Figure 3a of [Piltz et. al.](https://www.nature.com/articles/ncomms5679?origin=ppub)\n",
    "\n",
    "Note: This example is quite computationally expensivem, hence for the full simulation we use [joblib](https://joblib.readthedocs.io/en/latest/) for parallel computing. However, you don't need this to run the demo.\n"
   ]
  },
  {
   "cell_type": "code",
   "execution_count": 1,
   "id": "83778f91",
   "metadata": {
    "execution": {
     "iopub.execute_input": "2025-08-20T03:56:54.495448Z",
     "iopub.status.busy": "2025-08-20T03:56:54.494968Z",
     "iopub.status.idle": "2025-08-20T03:56:55.319056Z",
     "shell.execute_reply": "2025-08-20T03:56:55.318432Z"
    }
   },
   "outputs": [],
   "source": [
    "import matplotlib.pyplot as plt\n",
    "import numpy as np\n",
    "import qutip_qip\n",
    "from qutip import (Qobj, Options, basis, fock_dm, qeye, sigmax, sigmay,\n",
    "                   sigmaz, tensor)\n",
    "from qutip.ipynbtools import version_table\n",
    "from qutip_qip.circuit import QubitCircuit\n",
    "from qutip_qip.compiler import GateCompiler, Instruction\n",
    "from qutip_qip.device import Model, ModelProcessor\n",
    "from qutip_qip.noise import Noise\n",
    "from qutip_qip.operations import Gate\n",
    "from scipy.optimize import curve_fit"
   ]
  },
  {
   "cell_type": "markdown",
   "id": "e79493eb",
   "metadata": {},
   "source": [
    "We build a two-qubit Processor, where the second qubit is detuned from the first one by $\\delta= 1.852$MHz. A sequence of $\\pi$-pulses with Rabi frequency of $\\Omega= 20$KHz and random phases are applied to the first qubit. We define noise such that the same pulse also applies to the second qubit. Because of the detuning, this pulse does not flip the second qubit but subjects it to a diffusive behaviour, so that the average fidelity of the second qubit with respect to the initial state decreases.\n",
    "\n",
    "Here, we reproduce these results with a two-qubit `Processor`.\n",
    "We start with an initial state of fidelity 0.975 and simulate the Hamiltonian\n",
    "\\begin{align}\n",
    "H=\\Omega(t)(\\sigma^x_0 + \\lambda \\sigma^x_1) + \\delta\\sigma^z_1\n",
    ",\n",
    "\\end{align}\n",
    "where $\\lambda$ is the ratio between the cross-talk pulse's amplitudes."
   ]
  },
  {
   "cell_type": "markdown",
   "id": "539a82fd",
   "metadata": {},
   "source": [
    "In the cell below, we first build a Hamiltonian model called `MyModel`.\n",
    "For simplicity, we only include two single-qubit control Hamiltonians: $\\sigma_x$ and $\\sigma_y$.\n",
    "We then define the compiling routines for the two types of rotation gates RX and RY.\n",
    "In addition, we also define a rotation gate with mixed X and Y quadrature, parameterized by a phase $\\phi$, $\\cos(\\phi)\\sigma_x+\\sin(\\phi)\\sigma_y$.\n",
    "This will be used later in the example of custom noise.\n",
    "\n",
    "We then initialize a `ModelProcessor` with this model.\n",
    "In the `ModelProcessor`, the default simulation workflow is already defined, such as the `load_circuit` method.\n",
    "Since rotations around the $x$ and $y$ axes are the native gates of our hardware, we define them in the attribute \\texttt{native\\_gates}.\n",
    "Providing this native gates set, rotation around $z$ axis will be automatically decomposed into rotations around $x$ and $y$ axes.\n",
    "We define a circuit consisting of $\\pi/2$ rotation followed by a Z gate.\n",
    "The compiled pulses are shown in \\cref{fig:customize pulse}, where the Z gate is decomposed into rotations around $x$ and $y$ axes."
   ]
  },
  {
   "cell_type": "code",
   "execution_count": 2,
   "id": "a897c6c5",
   "metadata": {
    "execution": {
     "iopub.execute_input": "2025-08-20T03:56:55.321343Z",
     "iopub.status.busy": "2025-08-20T03:56:55.320878Z",
     "iopub.status.idle": "2025-08-20T03:56:55.522826Z",
     "shell.execute_reply": "2025-08-20T03:56:55.522254Z"
    }
   },
   "outputs": [
    {
     "data": {
      "image/png": "[encoded data removed]",
      "text/plain": [
       "<Figure size 600x360 with 2 Axes>"
      ]
     },
     "metadata": {},
     "output_type": "display_data"
    }
   ],
   "source": [
    "class MyModel(Model):\n",
    "    \"\"\"A custom Hamiltonian model with sigmax and sigmay control.\"\"\"\n",
    "\n",
    "    def get_control(self, label):\n",
    "        \"\"\"\n",
    "        Get an available control Hamiltonian.\n",
    "        For instance, sigmax control on the zeroth\n",
    "        qubits is labeled \"sx0\".\n",
    "\n",
    "        Args:\n",
    "            label (str): The label of the Hamiltonian\n",
    "\n",
    "        Returns:\n",
    "            The Hamiltonian and target qubits as a tuple\n",
    "            (qutip.Qobj, list).\n",
    "        \"\"\"\n",
    "        targets = int(label[2:])\n",
    "        if label[:2] == \"sx\":\n",
    "            return 2 * np.pi * sigmax() / 2, [targets]\n",
    "        elif label[:2] == \"sy\":\n",
    "            return 2 * np.pi * sigmay() / 2, [targets]\n",
    "        else:\n",
    "            raise NotImplementedError(\"Unknown control.\")\n",
    "\n",
    "\n",
    "class MyCompiler(GateCompiler):\n",
    "    \"\"\"\n",
    "    Custom compiler for generating pulses from gates using\n",
    "    the base class GateCompiler.\n",
    "\n",
    "    Args:\n",
    "        num_qubits (int): The number of qubits in the processor\n",
    "        params (dict): A dictionary of parameters for gate pulses\n",
    "                       such as the pulse amplitude.\n",
    "    \"\"\"\n",
    "\n",
    "    def __init__(self, num_qubits, params):\n",
    "        super().__init__(num_qubits, params=params)\n",
    "        self.params = params\n",
    "        self.gate_compiler = {\n",
    "            \"ROT\": self.rotation_with_phase_compiler,\n",
    "            \"RX\": self.single_qubit_gate_compiler,\n",
    "            \"RY\": self.single_qubit_gate_compiler,\n",
    "        }\n",
    "\n",
    "    def generate_pulse(self, gate, tlist, coeff, phase=0.0):\n",
    "        \"\"\"Generates the pulses.\n",
    "\n",
    "        Args:\n",
    "            gate (qutip_qip.circuit.Gate): A qutip Gate object.\n",
    "            tlist (array): A list of times for the evolution.\n",
    "            coeff (array): An array of coefficients for the gate pulses\n",
    "            phase (float): The value of the phase for the gate.\n",
    "\n",
    "        Returns:\n",
    "            Instruction (qutip_qip.compiler.instruction.Instruction):\n",
    "            An instruction to implement a gate containing the control pulses.\n",
    "        \"\"\"\n",
    "        pulse_info = [\n",
    "            # (control label, coeff)\n",
    "            (\"sx\" + str(gate.targets[0]), np.cos(phase) * coeff),\n",
    "            (\"sy\" + str(gate.targets[0]), np.sin(phase) * coeff),\n",
    "        ]\n",
    "        return [Instruction(gate, tlist=tlist, pulse_info=pulse_info)]\n",
    "\n",
    "    def single_qubit_gate_compiler(self, gate, args):\n",
    "        \"\"\"Compiles single-qubit gates to pulses.\n",
    "\n",
    "        Args:\n",
    "            gate (qutip_qip.circuit.Gate): A qutip Gate object.\n",
    "\n",
    "        Returns:\n",
    "            Instruction (qutip_qip.compiler.instruction.Instruction):\n",
    "            An instruction to implement a gate containing the control pulses.\n",
    "        \"\"\"\n",
    "        # gate.arg_value is the rotation angle\n",
    "        tlist = np.abs(gate.arg_value) / self.params[\"pulse_amplitude\"]\n",
    "        coeff = self.params[\"pulse_amplitude\"] * np.sign(gate.arg_value)\n",
    "        if gate.name == \"RX\":\n",
    "            return self.generate_pulse(gate, tlist, coeff, phase=0.0)\n",
    "        elif gate.name == \"RY\":\n",
    "            return self.generate_pulse(gate, tlist, coeff, phase=np.pi / 2)\n",
    "\n",
    "    def rotation_with_phase_compiler(self, gate, args):\n",
    "        \"\"\"Compiles gates with a phase term.\n",
    "\n",
    "        Args:\n",
    "            gate (qutip_qip.circuit.Gate): A qutip Gate object.\n",
    "\n",
    "        Returns:\n",
    "            Instruction (qutip_qip.compiler.instruction.Instruction):\n",
    "            An instruction to implement a gate containing the control pulses.\n",
    "        \"\"\"\n",
    "        # gate.arg_value is the pulse phase\n",
    "        tlist = self.params[\"duration\"]\n",
    "        coeff = self.params[\"pulse_amplitude\"]\n",
    "        return self.generate_pulse(gate, tlist, coeff, phase=gate.arg_value)\n",
    "\n",
    "\n",
    "# Define a circuit and run the simulation\n",
    "num_qubits = 1\n",
    "\n",
    "circuit = QubitCircuit(1)\n",
    "circuit.add_gate(\"RX\", targets=0, arg_value=np.pi / 2)\n",
    "circuit.add_gate(\"Z\", targets=0)\n",
    "\n",
    "myprocessor = ModelProcessor(model=MyModel(num_qubits))\n",
    "myprocessor.native_gates = [\"RX\", \"RY\"]\n",
    "\n",
    "mycompiler = MyCompiler(num_qubits, {\"pulse_amplitude\": 0.02})\n",
    "\n",
    "myprocessor.load_circuit(circuit, compiler=mycompiler)\n",
    "result = myprocessor.run_state(basis(2, 0))\n",
    "\n",
    "fig, ax = myprocessor.plot_pulses(figsize=(5, 3), dpi=120,\n",
    "                                  use_control_latex=False)\n",
    "ax[-1].set_xlabel(\"$t$\")\n",
    "fig.tight_layout()"
   ]
  },
  {
   "cell_type": "markdown",
   "id": "949db5b8",
   "metadata": {},
   "source": [
    "We now define a custom `ClassicalCrossTalk` noise object that uses the `Noise` class as the base.\n",
    "The `get_noisy_dynamics` method will be called during the simulation to generate the noisy Hamiltonian model.\n",
    "Here, we define a noise model that adds the same driving Hamiltonian to its neighbouring qubits, with a strength proportional to the control pulses strength applied on it.\n",
    "The detuning of the qubit transition frequency is simulated by adding a $\\sigma_z$ drift Hamiltonian to the processor, with a frequency of $1.852$ MHz.\n",
    "\n",
    "\n"
   ]
  },
  {
   "cell_type": "code",
   "execution_count": 3,
   "id": "199b636f",
   "metadata": {
    "execution": {
     "iopub.execute_input": "2025-08-20T03:56:55.524764Z",
     "iopub.status.busy": "2025-08-20T03:56:55.524562Z",
     "iopub.status.idle": "2025-08-20T03:56:55.530573Z",
     "shell.execute_reply": "2025-08-20T03:56:55.530030Z"
    }
   },
   "outputs": [],
   "source": [
    "class ClassicalCrossTalk(Noise):\n",
    "    def __init__(self, ratio):\n",
    "        self.ratio = ratio\n",
    "\n",
    "    def get_noisy_dynamics(self, dims=None, pulses=None,\n",
    "                           systematic_noise=None):\n",
    "        \"\"\"Adds noise to the control pulses.\n",
    "\n",
    "        Args:\n",
    "            dims: Dimension of the system, e.g., [2,2,2,...] for qubits.\n",
    "            pulses: A list of Pulse objects, representing the compiled pulses.\n",
    "            systematic_noise: A Pulse object with no ideal control,\n",
    "            used to represent pulse-independent noise such as decoherence\n",
    "            (not used in this example).\n",
    "        Returns:\n",
    "            pulses: The list of modified pulses according to the noise model.\n",
    "            systematic_noise: A Pulse object (not used in this example).\n",
    "        \"\"\"\n",
    "        for i, pulse in enumerate(pulses):\n",
    "            if \"sx\" not in pulse.label and \"sy\" not in pulse.label:\n",
    "                continue  # filter out other pulses, e.g. drift\n",
    "            target = pulse.targets[0]\n",
    "            if target != 0:  # add pulse to the left neighbour\n",
    "                pulses[i].add_control_noise(\n",
    "                    self.ratio * pulse.qobj,\n",
    "                    targets=[target - 1],\n",
    "                    coeff=pulse.coeff,\n",
    "                    tlist=pulse.tlist,\n",
    "                )\n",
    "            if target != len(dims) - 1:  # add pulse to the right neighbour\n",
    "                pulses[i].add_control_noise(\n",
    "                    self.ratio * pulse.qobj,\n",
    "                    targets=[target + 1],\n",
    "                    coeff=pulse.coeff,\n",
    "                    tlist=pulse.tlist,\n",
    "                )\n",
    "        return pulses, systematic_noise"
   ]
  },
  {
   "cell_type": "markdown",
   "id": "1c2b12de",
   "metadata": {},
   "source": [
    "Lastly, we define a random circuit consisting of a sequence of $\\pi$ rotation pulses with random phases.\n",
    "The driving pulse is a $\\pi$ pulse with a duration of $25 \\, \\mu\\rm{s}$ and Rabi frequency $20$ KHz.\n",
    "This randomized benchmarking protocol allows one to study the classical cross-talk induced decoherence on the neighbouring qubits.\n",
    "The two qubits are initialized in the $|00\\rangle$ state with a fidelity of 0.975.\n",
    "After the circuit, we measure the population of the second qubit.\n",
    "If there is no cross-talk, it will remain perfectly in the ground state.\n",
    "However, cross-talk induces a diffusive behaviour of the second qubit and the fidelity decreases.\n",
    "\n",
    "This simulation is repeated 1600 times to obtain the average fidelity. This may take several hours, therefore, the following code only takes two samples with $t=250$. The full simulation is in the commented lines."
   ]
  },
  {
   "cell_type": "code",
   "execution_count": 4,
   "id": "55afc094",
   "metadata": {
    "execution": {
     "iopub.execute_input": "2025-08-20T03:56:55.532498Z",
     "iopub.status.busy": "2025-08-20T03:56:55.532294Z",
     "iopub.status.idle": "2025-08-20T03:56:59.909935Z",
     "shell.execute_reply": "2025-08-20T03:56:59.909335Z"
    }
   },
   "outputs": [],
   "source": [
    "def single_crosstalk_simulation(num_gates):\n",
    "    \"\"\"\n",
    "    A single simulation, with num_gates representing the number of rotations.\n",
    "\n",
    "    Args:\n",
    "        num_gates (int): The number of random gates to add in the simulation.\n",
    "\n",
    "    Returns:\n",
    "        result (qutip.solver.Result):\n",
    "            A qutip Result object obtained from any of the\n",
    "            solver methods such as mesolve.\n",
    "    \"\"\"\n",
    "    # Qubit-0 is the target qubit. Qubit-1 suffers from crosstalk.\n",
    "    num_qubits = 2\n",
    "    myprocessor = ModelProcessor(model=MyModel(num_qubits))\n",
    "    # Add qubit frequency detuning 1.852MHz for the second qubit.\n",
    "    myprocessor.add_drift(2 * np.pi * (sigmaz() + 1) / 2 * 1.852, targets=1)\n",
    "    myprocessor.native_gates = None  # Remove the native gates\n",
    "    mycompiler = MyCompiler(num_qubits,\n",
    "                            {\"pulse_amplitude\": 0.02, \"duration\": 25})\n",
    "    myprocessor.add_noise(ClassicalCrossTalk(1.0))\n",
    "    # Define a randome circuit.\n",
    "    gates_set = [\n",
    "        Gate(\"ROT\", 0, arg_value=0),\n",
    "        Gate(\"ROT\", 0, arg_value=np.pi / 2),\n",
    "        Gate(\"ROT\", 0, arg_value=np.pi),\n",
    "        Gate(\"ROT\", 0, arg_value=np.pi / 2 * 3),\n",
    "    ]\n",
    "    circuit = QubitCircuit(num_qubits)\n",
    "    for ind in np.random.randint(0, 4, num_gates):\n",
    "        circuit.add_gate(gates_set[ind])\n",
    "    # Simulate the circuit.\n",
    "    myprocessor.load_circuit(circuit, compiler=mycompiler)\n",
    "    init_state = tensor(\n",
    "        [Qobj([[init_fid, 0], [0, 0.025]]),\n",
    "         Qobj([[init_fid, 0], [0, 0.025]])]\n",
    "    )\n",
    "    # increase the maximal allowed steps\n",
    "    options = Options(nsteps=10000)\n",
    "    e_ops = [tensor([qeye(2), fock_dm(2)])]  # observable\n",
    "\n",
    "    # compute results of the run using a solver of choice\n",
    "    result = myprocessor.run_state(\n",
    "        init_state, solver=\"mesolve\", options=options, e_ops=e_ops\n",
    "    )\n",
    "    # measured expectation value at the end\n",
    "    result = result.expect[0][-1]\n",
    "    return result\n",
    "\n",
    "\n",
    "# The full simulation may take several hours\n",
    "# so we just choose num_sample=2 and num_gates=250 as a test\n",
    "num_sample = 2\n",
    "fidelity = []\n",
    "fidelity_error = []\n",
    "init_fid = 0.975\n",
    "num_gates_list = [250]\n",
    "\n",
    "# The full simulation is defined in the commented lines below.\n",
    "\n",
    "# from joblib import Parallel, delayed  # for parallel simulations\n",
    "# num_sample = 1600\n",
    "# num_gates_list = [250, 500, 750, 1000, 1250, 1500]\n",
    "\n",
    "for num_gates in num_gates_list:\n",
    "    expect = [single_crosstalk_simulation(num_gates)\n",
    "              for i in range(num_sample)]\n",
    "    fidelity.append(np.mean(expect))\n",
    "    fidelity_error.append(np.std(expect) / np.sqrt(num_sample))"
   ]
  },
  {
   "cell_type": "markdown",
   "id": "d03bb52f",
   "metadata": {},
   "source": [
    "We plot a recorded result as an illustration."
   ]
  },
  {
   "cell_type": "code",
   "execution_count": 5,
   "id": "01a48ff9",
   "metadata": {
    "execution": {
     "iopub.execute_input": "2025-08-20T03:56:59.911935Z",
     "iopub.status.busy": "2025-08-20T03:56:59.911573Z",
     "iopub.status.idle": "2025-08-20T03:57:00.070271Z",
     "shell.execute_reply": "2025-08-20T03:57:00.069609Z"
    }
   },
   "outputs": [
    {
     "data": {
      "image/png": "[encoded data removed]",
      "text/plain": [
       "<Figure size 500x300 with 1 Axes>"
      ]
     },
     "metadata": {},
     "output_type": "display_data"
    }
   ],
   "source": [
    "# Recorded result of a full simulation\n",
    "num_gates_list = [250, 500, 750, 1000, 1250, 1500]\n",
    "fidelity = [\n",
    "    0.9566768747558925,\n",
    "    0.9388905075892828,\n",
    "    0.9229470389282218,\n",
    "    0.9075513000339529,\n",
    "    0.8941659320508855,\n",
    "    0.8756519016627652,\n",
    "]\n",
    "\n",
    "fidelity_error = [\n",
    "    0.00042992029265330223,\n",
    "    0.0008339882813741004,\n",
    "    0.0012606632769758602,\n",
    "    0.0014643550337816722,\n",
    "    0.0017695604671714809,\n",
    "    0.0020964978542167617,\n",
    "]\n",
    "\n",
    "\n",
    "def rb_curve(x, a):\n",
    "    return (1 / 2 + np.exp(-2 * a * x) / 2) * 0.975\n",
    "\n",
    "\n",
    "pos, cov = curve_fit(rb_curve, num_gates_list, fidelity, p0=[0.001])\n",
    "\n",
    "xline = np.linspace(0, 1700, 200)\n",
    "yline = rb_curve(xline, *pos)\n",
    "\n",
    "fig, ax = plt.subplots(figsize=(5, 3), dpi=100)\n",
    "ax.errorbar(\n",
    "    num_gates_list, fidelity, yerr=fidelity_error, fmt=\".\",\n",
    "    capsize=2, color=\"slategrey\"\n",
    ")\n",
    "ax.plot(xline, yline, color=\"slategrey\")\n",
    "ax.set_ylabel(\"Average fidelity\")\n",
    "ax.set_xlabel(r\"Number of $\\pi$ rotations\")\n",
    "ax.set_xlim((0, 1700));"
   ]
  },
  {
   "cell_type": "code",
   "execution_count": 6,
   "id": "2b03a67a",
   "metadata": {
    "execution": {
     "iopub.execute_input": "2025-08-20T03:57:00.072135Z",
     "iopub.status.busy": "2025-08-20T03:57:00.071928Z",
     "iopub.status.idle": "2025-08-20T03:57:00.077973Z",
     "shell.execute_reply": "2025-08-20T03:57:00.077441Z"
    }
   },
   "outputs": [
    {
     "name": "stdout",
     "output_type": "stream",
     "text": [
      "qutip-qip version: 0.5.0.dev0+2db1138\n"
     ]
    },
    {
     "data": {
      "text/html": [
       "<table><tr><th>Software</th><th>Version</th></tr><tr><td>QuTiP</td><td>4.7.6</td></tr><tr><td>Numpy</td><td>1.26.4</td></tr><tr><td>SciPy</td><td>1.12.0</td></tr><tr><td>matplotlib</td><td>3.5.2</td></tr><tr><td>Cython</td><td>0.29.37</td></tr><tr><td>Number of CPUs</td><td>4</td></tr><tr><td>BLAS Info</td><td>Generic</td></tr><tr><td>IPython</td><td>8.37.0</td></tr><tr><td>Python</td><td>3.10.4 | packaged by conda-forge | (main, Mar 24 2022, 17:39:04) [GCC 10.3.0]</td></tr><tr><td>OS</td><td>posix [linux]</td></tr><tr><td colspan='2'>Wed Aug 20 03:57:00 2025 UTC</td></tr></table>"
      ],
      "text/plain": [
       "<IPython.core.display.HTML object>"
      ]
     },
     "execution_count": 6,
     "metadata": {},
     "output_type": "execute_result"
    }
   ],
   "source": [
    "print(\"qutip-qip version:\", qutip_qip.version.version)\n",
    "version_table()"
   ]
  }
 ],
 "metadata": {
  "jupytext": {
   "cell_metadata_filter": "-all",
   "notebook_metadata_filter": "-jupytext.cell_metadata_filter,-jupytext.notebook_metadata_filter"
  },
  "kernelspec": {
   "display_name": "Python 3 (ipykernel)",
   "language": "python",
   "name": "python3"
  },
  "language_info": {
   "codemirror_mode": {
    "name": "ipython",
    "version": 3
   },
   "file_extension": ".py",
   "mimetype": "text/x-python",
   "name": "python",
   "nbconvert_exporter": "python",
   "pygments_lexer": "ipython3",
   "version": "3.10.4"
  }
 },
 "nbformat": 4,
 "nbformat_minor": 5
}
