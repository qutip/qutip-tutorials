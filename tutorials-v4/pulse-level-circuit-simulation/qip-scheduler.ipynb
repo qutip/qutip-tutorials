{
 "cells": [
  {
   "cell_type": "markdown",
   "id": "1f2c5ae4",
   "metadata": {},
   "source": [
    "# Scheduler for quantum gates and instructions\n",
    "\n",
    "Author: Boxi Li (etamin1201@gmail.com)\n",
    "\n",
    "The finite coherence time of physical qubits is one of the major factors that limits the performance of quantum computation. In principle, the execution time of the circuit has to be much shorter than the coherence time. One way to reduce this execution time is to run several gates in the circuit parallelly. This can spare a lot of time if e.g. the same single-qubit gate is applied to all qubits, as in the [Grover algorithm](https://en.wikipedia.org/wiki/Grover%27s_algorithm).\n",
    "\n",
    "A scheduler for a quantum computer, similar to its classical counterpart, schedules a quantum circuit to minimize the execution time. It determines the order in which the gates are executed. As a simple rule, the scheduler allows gates to be executed in parallel if they do not address the same qubits. Further hardware constraints can be included, but here we only focus on this simple criterion by considering gates that do not address the same qubits. The non-trivial part of a scheduler is that it has to consider the possible permutations of commuting quantum gates. Hence, exploring various possibilities for permutation while following physical constraints of the hardware is the main challenging task for the scheduler.\n",
    "\n",
    "We first show how we can schedule gate execution in quantum circuits using the built-in tools in `qutip_qip` and then the scheduling of compiled control pulses. In the end, we also show a simple example where the permutation of commuting gates matters in the scheduling and how to handle such situations."
   ]
  },
  {
   "cell_type": "code",
   "execution_count": 1,
   "id": "b373a0b2",
   "metadata": {
    "execution": {
     "iopub.execute_input": "2025-08-20T03:56:52.178642Z",
     "iopub.status.busy": "2025-08-20T03:56:52.178474Z",
     "iopub.status.idle": "2025-08-20T03:56:53.002277Z",
     "shell.execute_reply": "2025-08-20T03:56:53.001589Z"
    }
   },
   "outputs": [],
   "source": [
    "# imports\n",
    "from qutip import about\n",
    "from qutip_qip.circuit import QubitCircuit\n",
    "from qutip_qip.compiler import Instruction, Scheduler\n",
    "from qutip_qip.device import LinearSpinChain"
   ]
  },
  {
   "cell_type": "markdown",
   "id": "b705b3f2",
   "metadata": {},
   "source": [
    "## Gate schedule\n",
    "Let's first define a quantum circuit"
   ]
  },
  {
   "cell_type": "code",
   "execution_count": 2,
   "id": "16d6ce1e",
   "metadata": {
    "execution": {
     "iopub.execute_input": "2025-08-20T03:56:53.004322Z",
     "iopub.status.busy": "2025-08-20T03:56:53.004095Z",
     "iopub.status.idle": "2025-08-20T03:56:53.167136Z",
     "shell.execute_reply": "2025-08-20T03:56:53.166455Z"
    }
   },
   "outputs": [
    {
     "data": {
      "image/png": "[encoded data removed]",
      "text/plain": [
       "<Figure size 518.6x518.6 with 1 Axes>"
      ]
     },
     "metadata": {},
     "output_type": "display_data"
    },
    {
     "data": {
      "text/plain": []
     },
     "execution_count": 2,
     "metadata": {},
     "output_type": "execute_result"
    }
   ],
   "source": [
    "circuit = QubitCircuit(3)\n",
    "circuit.add_gate(\"X\", 0)\n",
    "circuit.add_gate(\"ISWAP\", targets=[1, 2])\n",
    "circuit.add_gate(\"X\", 2)\n",
    "circuit.add_gate(\"Y\", 0)\n",
    "circuit.add_gate(\"X\", 0)\n",
    "circuit"
   ]
  },
  {
   "cell_type": "markdown",
   "id": "c534c619",
   "metadata": {},
   "source": [
    "This is a rather boring circuit, but it is useful as a demonstration for the scheduler. We now define a scheduler and schedule the execution of gates in the circuit"
   ]
  },
  {
   "cell_type": "code",
   "execution_count": 3,
   "id": "497f6ed6",
   "metadata": {
    "execution": {
     "iopub.execute_input": "2025-08-20T03:56:53.168956Z",
     "iopub.status.busy": "2025-08-20T03:56:53.168750Z",
     "iopub.status.idle": "2025-08-20T03:56:53.173404Z",
     "shell.execute_reply": "2025-08-20T03:56:53.172837Z"
    }
   },
   "outputs": [
    {
     "data": {
      "text/plain": [
       "[0, 0, 1, 1, 2]"
      ]
     },
     "execution_count": 3,
     "metadata": {},
     "output_type": "execute_result"
    }
   ],
   "source": [
    "scheduler = Scheduler(\"ASAP\")  # schedule as soon as possible\n",
    "scheduled_time = scheduler.schedule(circuit)\n",
    "scheduled_time"
   ]
  },
  {
   "cell_type": "markdown",
   "id": "efda99bb",
   "metadata": {},
   "source": [
    "This result shows the scheduled starting time for each gate.\n",
    "In the first cycle we execute an iSWAP on qubit 0 and 1 and an X gate on qubit 0; In the second cycle we execute one X gate on qubit 2 and one Y gate on qubit 0; In the last cycle, we execute a single X gate on qubit 0. As printed bellow:"
   ]
  },
  {
   "cell_type": "code",
   "execution_count": 4,
   "id": "1efa4e71",
   "metadata": {
    "execution": {
     "iopub.execute_input": "2025-08-20T03:56:53.175049Z",
     "iopub.status.busy": "2025-08-20T03:56:53.174874Z",
     "iopub.status.idle": "2025-08-20T03:56:53.178762Z",
     "shell.execute_reply": "2025-08-20T03:56:53.178174Z"
    }
   },
   "outputs": [
    {
     "name": "stdout",
     "output_type": "stream",
     "text": [
      "['X[0]', 'ISWAP[1, 2]']\n",
      "['X[2]', 'Y[0]']\n",
      "['X[0]']\n"
     ]
    }
   ],
   "source": [
    "cycle_list = [[] for i in range(max(scheduled_time) + 1)]\n",
    "\n",
    "for i, time in enumerate(scheduled_time):\n",
    "    gate = circuit.gates[i]\n",
    "    cycle_list[time].append(gate.name + str(gate.targets))\n",
    "for cycle in cycle_list:\n",
    "    print(cycle)"
   ]
  },
  {
   "cell_type": "markdown",
   "id": "fb6dafa4",
   "metadata": {},
   "source": [
    "We can also schedule the gate follows the rule \"as late as possible\""
   ]
  },
  {
   "cell_type": "code",
   "execution_count": 5,
   "id": "3d44a91a",
   "metadata": {
    "execution": {
     "iopub.execute_input": "2025-08-20T03:56:53.180356Z",
     "iopub.status.busy": "2025-08-20T03:56:53.180181Z",
     "iopub.status.idle": "2025-08-20T03:56:53.184844Z",
     "shell.execute_reply": "2025-08-20T03:56:53.184228Z"
    }
   },
   "outputs": [
    {
     "name": "stdout",
     "output_type": "stream",
     "text": [
      "['X[0]']\n",
      "['ISWAP[1, 2]', 'Y[0]']\n",
      "['X[2]', 'X[0]']\n"
     ]
    }
   ],
   "source": [
    "scheduler = Scheduler(\"ALAP\")  # schedule as late as possible\n",
    "scheduled_time = scheduler.schedule(circuit)\n",
    "cycle_list = [[] for i in range(max(scheduled_time) + 1)]\n",
    "for i, time in enumerate(scheduled_time):\n",
    "    gate = circuit.gates[i]\n",
    "    cycle_list[time].append(gate.name + str(gate.targets))\n",
    "for cycle in cycle_list:\n",
    "    print(cycle)"
   ]
  },
  {
   "cell_type": "markdown",
   "id": "8aa94e11",
   "metadata": {},
   "source": [
    "The only difference is that the \"iSWAP\" gate and the X gate on qubit 2 are shifted by one cycle. "
   ]
  },
  {
   "cell_type": "markdown",
   "id": "1199dbc1",
   "metadata": {},
   "source": [
    "## Instruction/Pulse schedule\n",
    "Often different quantum gates will have different execution time. To consider this, we define a list of quantum instructions, where X gate has the execution time 1 while the iSWAP gate takes the time 3.5"
   ]
  },
  {
   "cell_type": "code",
   "execution_count": 6,
   "id": "c89fcacb",
   "metadata": {
    "execution": {
     "iopub.execute_input": "2025-08-20T03:56:53.186451Z",
     "iopub.status.busy": "2025-08-20T03:56:53.186278Z",
     "iopub.status.idle": "2025-08-20T03:56:53.191587Z",
     "shell.execute_reply": "2025-08-20T03:56:53.191172Z"
    }
   },
   "outputs": [
    {
     "data": {
      "text/plain": [
       "[0, 0.0, 3.5, 1, 2]"
      ]
     },
     "execution_count": 6,
     "metadata": {},
     "output_type": "execute_result"
    }
   ],
   "source": [
    "scheduler = Scheduler(\"ASAP\")\n",
    "instructions = []\n",
    "\n",
    "for gate in circuit.gates:\n",
    "    if gate.name in (\"X\"):\n",
    "        duration = 1\n",
    "    elif gate.name == \"ISWAP\":\n",
    "        duration = 3.5\n",
    "    instruction = Instruction(gate, duration=duration)\n",
    "    instructions.append(instruction)\n",
    "scheduler.schedule(instructions)"
   ]
  },
  {
   "cell_type": "markdown",
   "id": "ec4e9fb9",
   "metadata": {},
   "source": [
    "The scheduled execution time for each gate can no longer be assigned to gate cycles. But we can see this through the [noisy circuit simulator](https://qutip-qip.readthedocs.io/en/stable/qip-processor.html) of qutip, where the circuit is compiled to control signals: (Notice that the execution time follows the hardware parameter of spin chain and the Y gate is decomposed into a Z-X-Z rotation)."
   ]
  },
  {
   "cell_type": "code",
   "execution_count": 7,
   "id": "1b0069f4",
   "metadata": {
    "execution": {
     "iopub.execute_input": "2025-08-20T03:56:53.193145Z",
     "iopub.status.busy": "2025-08-20T03:56:53.192971Z",
     "iopub.status.idle": "2025-08-20T03:56:53.482962Z",
     "shell.execute_reply": "2025-08-20T03:56:53.482284Z"
    }
   },
   "outputs": [
    {
     "data": {
      "image/png": "[encoded data removed]",
      "text/plain": [
       "<Figure size 1200x600 with 8 Axes>"
      ]
     },
     "metadata": {},
     "output_type": "display_data"
    }
   ],
   "source": [
    "device = LinearSpinChain(3)\n",
    "device.load_circuit(\n",
    "    circuit, \"ASAP\"\n",
    ")  # The circuit are compiled to instructions and scheduled.\n",
    "device.plot_pulses();"
   ]
  },
  {
   "cell_type": "markdown",
   "id": "c9dbe0cb",
   "metadata": {},
   "source": [
    "The green and orange pulses represent rotations along the X and Z axis. The green pulse is the iSWAP gate, which is executed simultaneously with a few other single-qubit rotations on qubit 0."
   ]
  },
  {
   "cell_type": "markdown",
   "id": "6b2b4817",
   "metadata": {},
   "source": [
    "## Considering commuting gates\n",
    "We consider the following circuit:"
   ]
  },
  {
   "cell_type": "code",
   "execution_count": 8,
   "id": "87093ed6",
   "metadata": {
    "execution": {
     "iopub.execute_input": "2025-08-20T03:56:53.484762Z",
     "iopub.status.busy": "2025-08-20T03:56:53.484579Z",
     "iopub.status.idle": "2025-08-20T03:56:53.568433Z",
     "shell.execute_reply": "2025-08-20T03:56:53.567819Z"
    }
   },
   "outputs": [
    {
     "data": {
      "image/png": "[encoded data removed]",
      "text/plain": [
       "<Figure size 645.6x645.6 with 1 Axes>"
      ]
     },
     "metadata": {},
     "output_type": "display_data"
    },
    {
     "data": {
      "text/plain": []
     },
     "execution_count": 8,
     "metadata": {},
     "output_type": "execute_result"
    }
   ],
   "source": [
    "circuit = QubitCircuit(3)\n",
    "circuit.add_gate(\"SNOT\", 0)\n",
    "circuit.add_gate(\"CNOT\", 1, 0)\n",
    "circuit.add_gate(\"CNOT\", 2, 0)\n",
    "circuit.add_gate(\"SNOT\", 2)\n",
    "circuit"
   ]
  },
  {
   "cell_type": "markdown",
   "id": "57576135",
   "metadata": {},
   "source": [
    "At first sight, it might look like no gates can be run in parallel. However, the two CNOT gates actually commute and if we permute them, we can run one CNOT together with the last Hadamard gate."
   ]
  },
  {
   "cell_type": "code",
   "execution_count": 9,
   "id": "2f073a30",
   "metadata": {
    "execution": {
     "iopub.execute_input": "2025-08-20T03:56:53.570253Z",
     "iopub.status.busy": "2025-08-20T03:56:53.570070Z",
     "iopub.status.idle": "2025-08-20T03:56:53.574693Z",
     "shell.execute_reply": "2025-08-20T03:56:53.574275Z"
    }
   },
   "outputs": [
    {
     "name": "stdout",
     "output_type": "stream",
     "text": [
      "['SNOT[0]']\n",
      "['CNOT[2]']\n",
      "['CNOT[1]', 'SNOT[2]']\n"
     ]
    }
   ],
   "source": [
    "scheduler = Scheduler(\"ALAP\")\n",
    "scheduled_time = scheduler.schedule(circuit)\n",
    "\n",
    "cycle_list = [[] for i in range(max(scheduled_time) + 1)]\n",
    "for i, time in enumerate(scheduled_time):\n",
    "    gate = circuit.gates[i]\n",
    "    cycle_list[time].append(gate.name + str(gate.targets))\n",
    "for cycle in cycle_list:\n",
    "    print(cycle)"
   ]
  },
  {
   "cell_type": "markdown",
   "id": "6c898482",
   "metadata": {},
   "source": [
    "## Random shuffle\n",
    "The scheduling algorithm is heuristic and hence cannot always find the optimal result. Therefore randomness can be added to the scheduling process by the parameters `random_shuffle` and `repeat_num`."
   ]
  },
  {
   "cell_type": "code",
   "execution_count": 10,
   "id": "4292a321",
   "metadata": {
    "execution": {
     "iopub.execute_input": "2025-08-20T03:56:53.576308Z",
     "iopub.status.busy": "2025-08-20T03:56:53.576130Z",
     "iopub.status.idle": "2025-08-20T03:56:53.579229Z",
     "shell.execute_reply": "2025-08-20T03:56:53.578817Z"
    }
   },
   "outputs": [
    {
     "name": "stdout",
     "output_type": "stream",
     "text": [
      "\n",
      "QuTiP: Quantum Toolbox in Python\n",
      "================================\n",
      "Copyright (c) QuTiP team 2011 and later.\n",
      "Current admin team: Alexander Pitchford, Nathan Shammah, Shahnawaz Ahmed, Neill Lambert, Eric Giguère, Boxi Li, Jake Lishman, Simon Cross and Asier Galicia.\n",
      "Board members: Daniel Burgarth, Robert Johansson, Anton F. Kockum, Franco Nori and Will Zeng.\n",
      "Original developers: R. J. Johansson & P. D. Nation.\n",
      "Previous lead developers: Chris Granade & A. Grimsmo.\n",
      "Currently developed through wide collaboration. See https://github.com/qutip for details.\n",
      "\n",
      "QuTiP Version:      4.7.6\n",
      "Numpy Version:      1.26.4\n",
      "Scipy Version:      1.12.0\n",
      "Cython Version:     0.29.37\n",
      "Matplotlib Version: 3.5.2\n",
      "Python Version:     3.10.4\n",
      "Number of CPUs:     4\n",
      "BLAS Info:          Generic\n",
      "OPENMP Installed:   False\n",
      "INTEL MKL Ext:      False\n",
      "Platform Info:      Linux (x86_64)\n",
      "Installation path:  /home/runner/miniconda3/envs/test-environment-v4/lib/python3.10/site-packages/qutip\n",
      "================================================================================\n",
      "Please cite QuTiP in your publication.\n",
      "================================================================================\n",
      "For your convenience a bibtex reference can be easily generated using `qutip.cite()`\n"
     ]
    }
   ],
   "source": [
    "about()"
   ]
  }
 ],
 "metadata": {
  "jupytext": {
   "cell_metadata_filter": "-all",
   "notebook_metadata_filter": "-jupytext.cell_metadata_filter,-jupytext.notebook_metadata_filter"
  },
  "kernelspec": {
   "display_name": "Python 3 (ipykernel)",
   "language": "python",
   "name": "python3"
  },
  "language_info": {
   "codemirror_mode": {
    "name": "ipython",
    "version": 3
   },
   "file_extension": ".py",
   "mimetype": "text/x-python",
   "name": "python",
   "nbconvert_exporter": "python",
   "pygments_lexer": "ipython3",
   "version": "3.10.4"
  }
 },
 "nbformat": 4,
 "nbformat_minor": 5
}
